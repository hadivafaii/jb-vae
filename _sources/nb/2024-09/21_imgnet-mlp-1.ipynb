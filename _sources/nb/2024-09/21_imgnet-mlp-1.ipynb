{
 "cells": [
  {
   "cell_type": "markdown",
   "id": "48f55a35-d5b5-468f-b574-730df61e9609",
   "metadata": {},
   "source": [
    "# (21) ImageNet — mlp\n",
    "\n",
    "**Motivation**: host = ```mach```, device = ```cuda:1``` <br>"
   ]
  },
  {
   "cell_type": "code",
   "execution_count": 1,
   "id": "f823b1e9-05f2-49a0-8296-4a1819c12e81",
   "metadata": {
    "tags": [
     "hide-input"
    ]
   },
   "outputs": [],
   "source": [
    "# HIDE CODE\n",
    "\n",
    "\n",
    "import os, sys\n",
    "from IPython.display import display\n",
    "\n",
    "# tmp & extras dir\n",
    "git_dir = os.path.join(os.environ['HOME'], 'Dropbox/git')\n",
    "extras_dir = os.path.join(git_dir, 'jb-vae/_extras')\n",
    "fig_base_dir = os.path.join(git_dir, 'jb-vae/figs')\n",
    "tmp_dir = os.path.join(git_dir, 'jb-vae/tmp')\n",
    "\n",
    "# GitHub\n",
    "sys.path.insert(0, os.path.join(git_dir, '_IterativeVAE'))\n",
    "from figures.fighelper import *\n",
    "from vae.train_vae import *\n",
    "\n",
    "# warnings, tqdm, & style\n",
    "warnings.filterwarnings('ignore', category=DeprecationWarning)\n",
    "warnings.filterwarnings('ignore', category=FutureWarning)\n",
    "warnings.filterwarnings('ignore', category=UserWarning)\n",
    "from rich.jupyter import print\n",
    "%matplotlib inline\n",
    "set_style()"
   ]
  },
  {
   "cell_type": "code",
   "execution_count": 2,
   "id": "45357127-b675-4e68-ba95-938ea8612cad",
   "metadata": {},
   "outputs": [
    {
     "data": {
      "text/html": [
       "<pre style=\"white-space:pre;overflow-x:auto;line-height:normal;font-family:Menlo,'DejaVu Sans Mono',consolas,'Courier New',monospace\">device: cu<span style=\"color: #00ff00; text-decoration-color: #00ff00; font-weight: bold\">da:1</span>  ———  host: mach\n",
       "</pre>\n"
      ],
      "text/plain": [
       "device: cu\u001b[1;92mda:1\u001b[0m  ———  host: mach\n"
      ]
     },
     "metadata": {},
     "output_type": "display_data"
    }
   ],
   "source": [
    "from base.utils_model import load_quick\n",
    "from figures.analysis import plot_convergence\n",
    "from figures.imgs import plot_weights\n",
    "\n",
    "device_idx = 1\n",
    "device = f'cuda:{device_idx}'\n",
    "\n",
    "print(f\"device: {device}  ———  host: {os.uname().nodename}\")"
   ]
  },
  {
   "cell_type": "markdown",
   "id": "4e90fe56-f7c2-44d3-b999-2665fc5b7bab",
   "metadata": {},
   "source": [
    "## Poisson \n",
    "\n",
    "Dataset: ```ImageNet32```"
   ]
  },
  {
   "cell_type": "markdown",
   "id": "d89f5eae-8056-4225-b091-f4b6c71f2f2c",
   "metadata": {},
   "source": [
    "### Get configs"
   ]
  },
  {
   "cell_type": "code",
   "execution_count": 3,
   "id": "5d13eb8b-c46a-403d-8880-143fe0948c81",
   "metadata": {},
   "outputs": [],
   "source": [
    "model_type = 'poisson'\n",
    "cfg_vae, cfg_tr = default_configs('ImageNet32', model_type, 'jacob|mlp')\n",
    "\n",
    "seq_len = 64\n",
    "cfg_vae['track_stats'] = True\n",
    "cfg_vae['seq_len'] = seq_len\n",
    "\n",
    "cfg_tr['kl_beta'] = 1/2 * seq_len"
   ]
  },
  {
   "cell_type": "markdown",
   "id": "ddbba98c-2a70-4bee-aeac-5d38e6941ca3",
   "metadata": {},
   "source": [
    "### Make model + trainer"
   ]
  },
  {
   "cell_type": "code",
   "execution_count": 4,
   "id": "89f8c6ed-e82e-4cbc-ac24-0b67b9063491",
   "metadata": {},
   "outputs": [
    {
     "data": {
      "text/plain": [
       "256224"
      ]
     },
     "execution_count": 4,
     "metadata": {},
     "output_type": "execute_result"
    }
   ],
   "source": [
    "vae = MODEL_CLASSES[model_type](CFG_CLASSES[model_type](**cfg_vae))\n",
    "tr = TrainerVAE(vae, ConfigTrainVAE(**cfg_tr), device=device)\n",
    "\n",
    "tr.n_iters"
   ]
  },
  {
   "cell_type": "markdown",
   "id": "89f058b0-7fdc-4be9-9481-9c9e97760460",
   "metadata": {},
   "source": [
    "### Print info"
   ]
  },
  {
   "cell_type": "code",
   "execution_count": 5,
   "id": "b4de641e-2f0a-47b5-89df-e5c6aa494e46",
   "metadata": {},
   "outputs": [
    {
     "data": {
      "text/html": [
       "<pre style=\"white-space:pre;overflow-x:auto;line-height:normal;font-family:Menlo,'DejaVu Sans Mono',consolas,'Courier New',monospace\">+-------------+------------+\n",
       "| Module Name | Num Params |\n",
       "+-------------+------------+\n",
       "|    IPVAE    |  <span style=\"color: #008080; text-decoration-color: #008080; font-weight: bold\">14.7</span> Mil  |\n",
       "|     ———     |    ———     |\n",
       "|    layer    |  <span style=\"color: #008080; text-decoration-color: #008080; font-weight: bold\">14.7</span> Mil  |\n",
       "+-------------+------------+ \n",
       "\n",
       "</pre>\n"
      ],
      "text/plain": [
       "+-------------+------------+\n",
       "| Module Name | Num Params |\n",
       "+-------------+------------+\n",
       "|    IPVAE    |  \u001b[1;36m14.7\u001b[0m Mil  |\n",
       "|     ———     |    ———     |\n",
       "|    layer    |  \u001b[1;36m14.7\u001b[0m Mil  |\n",
       "+-------------+------------+ \n",
       "\n"
      ]
     },
     "metadata": {},
     "output_type": "display_data"
    },
    {
     "data": {
      "text/html": [
       "<pre style=\"white-space:pre;overflow-x:auto;line-height:normal;font-family:Menlo,'DejaVu Sans Mono',consolas,'Courier New',monospace\">poisson_ImageNet32_t-64_z-<span style=\"font-weight: bold\">[</span><span style=\"color: #008080; text-decoration-color: #008080; font-weight: bold\">2048</span><span style=\"font-weight: bold\">]</span>_<span style=\"font-weight: bold\">&lt;</span><span style=\"color: #ff00ff; text-decoration-color: #ff00ff; font-weight: bold\">jacob|mlp</span><span style=\"font-weight: bold\">&gt;</span>\n",
       "b80-ep16-<span style=\"color: #800080; text-decoration-color: #800080; font-weight: bold\">lr</span><span style=\"font-weight: bold\">(</span><span style=\"color: #008080; text-decoration-color: #008080; font-weight: bold\">0.0002</span><span style=\"font-weight: bold\">)</span><span style=\"color: #800080; text-decoration-color: #800080; font-weight: bold\">_beta</span><span style=\"font-weight: bold\">(</span><span style=\"color: #00ff00; text-decoration-color: #00ff00; font-weight: bold\">32:0</span>x0.<span style=\"color: #008080; text-decoration-color: #008080; font-weight: bold\">1</span><span style=\"font-weight: bold\">)</span><span style=\"color: #800080; text-decoration-color: #800080; font-weight: bold\">_temp</span><span style=\"font-weight: bold\">(</span><span style=\"color: #008080; text-decoration-color: #008080; font-weight: bold\">0.05</span>:lin-<span style=\"color: #008080; text-decoration-color: #008080; font-weight: bold\">0.5</span><span style=\"font-weight: bold\">)</span><span style=\"color: #800080; text-decoration-color: #800080; font-weight: bold\">_gr</span><span style=\"font-weight: bold\">(</span><span style=\"color: #008080; text-decoration-color: #008080; font-weight: bold\">400</span><span style=\"font-weight: bold\">)</span><span style=\"color: #800080; text-decoration-color: #800080; font-weight: bold\">_</span><span style=\"font-weight: bold\">(</span>2024_09_23,<span style=\"color: #00ff00; text-decoration-color: #00ff00; font-weight: bold\">23:04</span><span style=\"font-weight: bold\">)</span>\n",
       "\n",
       "</pre>\n"
      ],
      "text/plain": [
       "poisson_ImageNet32_t-64_z-\u001b[1m[\u001b[0m\u001b[1;36m2048\u001b[0m\u001b[1m]\u001b[0m_\u001b[1m<\u001b[0m\u001b[1;95mjacob|mlp\u001b[0m\u001b[1m>\u001b[0m\n",
       "b80-ep16-\u001b[1;35mlr\u001b[0m\u001b[1m(\u001b[0m\u001b[1;36m0.0002\u001b[0m\u001b[1m)\u001b[0m\u001b[1;35m_beta\u001b[0m\u001b[1m(\u001b[0m\u001b[1;92m32:0\u001b[0mx0.\u001b[1;36m1\u001b[0m\u001b[1m)\u001b[0m\u001b[1;35m_temp\u001b[0m\u001b[1m(\u001b[0m\u001b[1;36m0.05\u001b[0m:lin-\u001b[1;36m0.5\u001b[0m\u001b[1m)\u001b[0m\u001b[1;35m_gr\u001b[0m\u001b[1m(\u001b[0m\u001b[1;36m400\u001b[0m\u001b[1m)\u001b[0m\u001b[1;35m_\u001b[0m\u001b[1m(\u001b[0m2024_09_23,\u001b[1;92m23:04\u001b[0m\u001b[1m)\u001b[0m\n",
       "\n"
      ]
     },
     "metadata": {},
     "output_type": "display_data"
    },
    {
     "data": {
      "image/png": "[encoded data removed]",
      "text/plain": [
       "<Figure size 650x160 with 3 Axes>"
      ]
     },
     "metadata": {},
     "output_type": "display_data"
    }
   ],
   "source": [
    "vae.print()\n",
    "print(f\"{vae.cfg.name()}\\n{tr.cfg.name()}_({vae.timestamp})\\n\")\n",
    "tr.show_schedules()"
   ]
  },
  {
   "cell_type": "code",
   "execution_count": 6,
   "id": "f2f21d83-94db-476a-b2b1-dde942bd41d0",
   "metadata": {},
   "outputs": [
    {
     "data": {
      "text/html": [
       "<pre style=\"white-space:pre;overflow-x:auto;line-height:normal;font-family:Menlo,'DejaVu Sans Mono',consolas,'Courier New',monospace\">+--------------+------------+\n",
       "| Module Name  | Num Params |\n",
       "+--------------+------------+\n",
       "| PoissonLayer |  <span style=\"color: #008080; text-decoration-color: #008080; font-weight: bold\">14.7</span> Mil  |\n",
       "|     ———      |    ———     |\n",
       "|     dec      |  <span style=\"color: #008080; text-decoration-color: #008080; font-weight: bold\">14.7</span> Mil  |\n",
       "+--------------+------------+ \n",
       "\n",
       "</pre>\n"
      ],
      "text/plain": [
       "+--------------+------------+\n",
       "| Module Name  | Num Params |\n",
       "+--------------+------------+\n",
       "| PoissonLayer |  \u001b[1;36m14.7\u001b[0m Mil  |\n",
       "|     ———      |    ———     |\n",
       "|     dec      |  \u001b[1;36m14.7\u001b[0m Mil  |\n",
       "+--------------+------------+ \n",
       "\n"
      ]
     },
     "metadata": {},
     "output_type": "display_data"
    }
   ],
   "source": [
    "print_num_params(tr.model.layer)"
   ]
  },
  {
   "cell_type": "code",
   "execution_count": 7,
   "id": "2df1dc7b-e0f0-4ba0-a6c5-04565357330c",
   "metadata": {},
   "outputs": [
    {
     "data": {
      "text/html": [
       "<pre style=\"white-space:pre;overflow-x:auto;line-height:normal;font-family:Menlo,'DejaVu Sans Mono',consolas,'Courier New',monospace\"><span style=\"color: #800080; text-decoration-color: #800080; font-weight: bold\">Sequential</span><span style=\"font-weight: bold\">(</span>\n",
       "  <span style=\"font-weight: bold\">(</span><span style=\"color: #008080; text-decoration-color: #008080; font-weight: bold\">0</span><span style=\"font-weight: bold\">)</span>: <span style=\"color: #800080; text-decoration-color: #800080; font-weight: bold\">Linear</span><span style=\"font-weight: bold\">(</span><span style=\"color: #808000; text-decoration-color: #808000\">in_features</span>=<span style=\"color: #008080; text-decoration-color: #008080; font-weight: bold\">2048</span>, <span style=\"color: #808000; text-decoration-color: #808000\">out_features</span>=<span style=\"color: #008080; text-decoration-color: #008080; font-weight: bold\">2048</span>, <span style=\"color: #808000; text-decoration-color: #808000\">bias</span>=<span style=\"color: #00ff00; text-decoration-color: #00ff00; font-style: italic\">True</span><span style=\"font-weight: bold\">)</span>\n",
       "  <span style=\"font-weight: bold\">(</span><span style=\"color: #008080; text-decoration-color: #008080; font-weight: bold\">1</span><span style=\"font-weight: bold\">)</span>: <span style=\"color: #800080; text-decoration-color: #800080; font-weight: bold\">SiLU</span><span style=\"font-weight: bold\">(</span><span style=\"color: #808000; text-decoration-color: #808000\">inplace</span>=<span style=\"color: #00ff00; text-decoration-color: #00ff00; font-style: italic\">True</span><span style=\"font-weight: bold\">)</span>\n",
       "  <span style=\"font-weight: bold\">(</span><span style=\"color: #008080; text-decoration-color: #008080; font-weight: bold\">2</span><span style=\"font-weight: bold\">)</span>: <span style=\"color: #800080; text-decoration-color: #800080; font-weight: bold\">Linear</span><span style=\"font-weight: bold\">(</span><span style=\"color: #808000; text-decoration-color: #808000\">in_features</span>=<span style=\"color: #008080; text-decoration-color: #008080; font-weight: bold\">2048</span>, <span style=\"color: #808000; text-decoration-color: #808000\">out_features</span>=<span style=\"color: #008080; text-decoration-color: #008080; font-weight: bold\">2048</span>, <span style=\"color: #808000; text-decoration-color: #808000\">bias</span>=<span style=\"color: #00ff00; text-decoration-color: #00ff00; font-style: italic\">True</span><span style=\"font-weight: bold\">)</span>\n",
       "  <span style=\"font-weight: bold\">(</span><span style=\"color: #008080; text-decoration-color: #008080; font-weight: bold\">3</span><span style=\"font-weight: bold\">)</span>: <span style=\"color: #800080; text-decoration-color: #800080; font-weight: bold\">SiLU</span><span style=\"font-weight: bold\">(</span><span style=\"color: #808000; text-decoration-color: #808000\">inplace</span>=<span style=\"color: #00ff00; text-decoration-color: #00ff00; font-style: italic\">True</span><span style=\"font-weight: bold\">)</span>\n",
       "  <span style=\"font-weight: bold\">(</span><span style=\"color: #008080; text-decoration-color: #008080; font-weight: bold\">4</span><span style=\"font-weight: bold\">)</span>: <span style=\"color: #800080; text-decoration-color: #800080; font-weight: bold\">Linear</span><span style=\"font-weight: bold\">(</span><span style=\"color: #808000; text-decoration-color: #808000\">in_features</span>=<span style=\"color: #008080; text-decoration-color: #008080; font-weight: bold\">2048</span>, <span style=\"color: #808000; text-decoration-color: #808000\">out_features</span>=<span style=\"color: #008080; text-decoration-color: #008080; font-weight: bold\">3072</span>, <span style=\"color: #808000; text-decoration-color: #808000\">bias</span>=<span style=\"color: #00ff00; text-decoration-color: #00ff00; font-style: italic\">True</span><span style=\"font-weight: bold\">)</span>\n",
       "<span style=\"font-weight: bold\">)</span>\n",
       "</pre>\n"
      ],
      "text/plain": [
       "\u001b[1;35mSequential\u001b[0m\u001b[1m(\u001b[0m\n",
       "  \u001b[1m(\u001b[0m\u001b[1;36m0\u001b[0m\u001b[1m)\u001b[0m: \u001b[1;35mLinear\u001b[0m\u001b[1m(\u001b[0m\u001b[33min_features\u001b[0m=\u001b[1;36m2048\u001b[0m, \u001b[33mout_features\u001b[0m=\u001b[1;36m2048\u001b[0m, \u001b[33mbias\u001b[0m=\u001b[3;92mTrue\u001b[0m\u001b[1m)\u001b[0m\n",
       "  \u001b[1m(\u001b[0m\u001b[1;36m1\u001b[0m\u001b[1m)\u001b[0m: \u001b[1;35mSiLU\u001b[0m\u001b[1m(\u001b[0m\u001b[33minplace\u001b[0m=\u001b[3;92mTrue\u001b[0m\u001b[1m)\u001b[0m\n",
       "  \u001b[1m(\u001b[0m\u001b[1;36m2\u001b[0m\u001b[1m)\u001b[0m: \u001b[1;35mLinear\u001b[0m\u001b[1m(\u001b[0m\u001b[33min_features\u001b[0m=\u001b[1;36m2048\u001b[0m, \u001b[33mout_features\u001b[0m=\u001b[1;36m2048\u001b[0m, \u001b[33mbias\u001b[0m=\u001b[3;92mTrue\u001b[0m\u001b[1m)\u001b[0m\n",
       "  \u001b[1m(\u001b[0m\u001b[1;36m3\u001b[0m\u001b[1m)\u001b[0m: \u001b[1;35mSiLU\u001b[0m\u001b[1m(\u001b[0m\u001b[33minplace\u001b[0m=\u001b[3;92mTrue\u001b[0m\u001b[1m)\u001b[0m\n",
       "  \u001b[1m(\u001b[0m\u001b[1;36m4\u001b[0m\u001b[1m)\u001b[0m: \u001b[1;35mLinear\u001b[0m\u001b[1m(\u001b[0m\u001b[33min_features\u001b[0m=\u001b[1;36m2048\u001b[0m, \u001b[33mout_features\u001b[0m=\u001b[1;36m3072\u001b[0m, \u001b[33mbias\u001b[0m=\u001b[3;92mTrue\u001b[0m\u001b[1m)\u001b[0m\n",
       "\u001b[1m)\u001b[0m\n"
      ]
     },
     "metadata": {},
     "output_type": "display_data"
    }
   ],
   "source": [
    "print(tr.model.layer.dec)"
   ]
  },
  {
   "cell_type": "code",
   "execution_count": 8,
   "id": "1137bb8b-cf5c-4e32-8a78-4f8d5eb35e5a",
   "metadata": {},
   "outputs": [
    {
     "data": {
      "text/html": [
       "<pre style=\"white-space:pre;overflow-x:auto;line-height:normal;font-family:Menlo,'DejaVu Sans Mono',consolas,'Courier New',monospace\"><span style=\"font-weight: bold\">{</span><span style=\"color: #008000; text-decoration-color: #008000\">'prior_log_dist'</span>: <span style=\"color: #008000; text-decoration-color: #008000\">'uniform'</span>, <span style=\"color: #008000; text-decoration-color: #008000\">'clamp_prior'</span>: <span style=\"color: #008080; text-decoration-color: #008080; font-weight: bold\">1.0</span>, <span style=\"color: #008000; text-decoration-color: #008000\">'hard_fwd'</span>: <span style=\"color: #ff0000; text-decoration-color: #ff0000; font-style: italic\">False</span>, <span style=\"color: #008000; text-decoration-color: #008000\">'exc_only'</span>: <span style=\"color: #ff0000; text-decoration-color: #ff0000; font-style: italic\">False</span>, <span style=\"color: #008000; text-decoration-color: #008000\">'type'</span>: <span style=\"color: #008000; text-decoration-color: #008000\">'poisson'</span>, <span style=\"color: #008000; text-decoration-color: #008000\">'n_ch'</span>: \n",
       "<span style=\"color: #008080; text-decoration-color: #008080; font-weight: bold\">32</span>, <span style=\"color: #008000; text-decoration-color: #008000\">'seq_len'</span>: <span style=\"color: #008080; text-decoration-color: #008080; font-weight: bold\">64</span>, <span style=\"color: #008000; text-decoration-color: #008000\">'n_latents'</span>: <span style=\"font-weight: bold\">[</span><span style=\"color: #008080; text-decoration-color: #008080; font-weight: bold\">2048</span><span style=\"font-weight: bold\">]</span>, <span style=\"color: #008000; text-decoration-color: #008000\">'jac_type'</span>: <span style=\"color: #008000; text-decoration-color: #008000\">'grad'</span>, <span style=\"color: #008000; text-decoration-color: #008000\">'enc_type'</span>: <span style=\"color: #008000; text-decoration-color: #008000\">'jacob'</span>, <span style=\"color: #008000; text-decoration-color: #008000\">'dec_type'</span>: <span style=\"color: #008000; text-decoration-color: #008000\">'mlp'</span>, <span style=\"color: #008000; text-decoration-color: #008000\">'dataset'</span>: \n",
       "<span style=\"color: #008000; text-decoration-color: #008000\">'ImageNet32'</span>, <span style=\"color: #008000; text-decoration-color: #008000\">'input_sz'</span>: <span style=\"font-weight: bold\">(</span><span style=\"color: #008080; text-decoration-color: #008080; font-weight: bold\">3</span>, <span style=\"color: #008080; text-decoration-color: #008080; font-weight: bold\">32</span>, <span style=\"color: #008080; text-decoration-color: #008080; font-weight: bold\">32</span><span style=\"font-weight: bold\">)</span>, <span style=\"color: #008000; text-decoration-color: #008000\">'shape'</span>: <span style=\"font-weight: bold\">(</span><span style=\"color: #008080; text-decoration-color: #008080; font-weight: bold\">-1</span>, <span style=\"color: #008080; text-decoration-color: #008080; font-weight: bold\">3</span>, <span style=\"color: #008080; text-decoration-color: #008080; font-weight: bold\">32</span>, <span style=\"color: #008080; text-decoration-color: #008080; font-weight: bold\">32</span><span style=\"font-weight: bold\">)</span>, <span style=\"color: #008000; text-decoration-color: #008000\">'res_eps'</span>: <span style=\"color: #008080; text-decoration-color: #008080; font-weight: bold\">1.0</span>, <span style=\"color: #008000; text-decoration-color: #008000\">'clamp_u'</span>: <span style=\"color: #008080; text-decoration-color: #008080; font-weight: bold\">6.5</span>, <span style=\"color: #008000; text-decoration-color: #008000\">'clamp_du'</span>: <span style=\"color: #008080; text-decoration-color: #008080; font-weight: bold\">6.0</span>, \n",
       "<span style=\"color: #008000; text-decoration-color: #008000\">'init_dist'</span>: <span style=\"color: #008000; text-decoration-color: #008000\">'normal'</span>, <span style=\"color: #008000; text-decoration-color: #008000\">'init_scale'</span>: <span style=\"color: #008080; text-decoration-color: #008080; font-weight: bold\">0.001</span>, <span style=\"color: #008000; text-decoration-color: #008000\">'activation_fn'</span>: <span style=\"color: #008000; text-decoration-color: #008000\">'swish'</span>, <span style=\"color: #008000; text-decoration-color: #008000\">'fit_prior'</span>: <span style=\"color: #00ff00; text-decoration-color: #00ff00; font-style: italic\">True</span>, <span style=\"color: #008000; text-decoration-color: #008000\">'residual'</span>: <span style=\"color: #00ff00; text-decoration-color: #00ff00; font-style: italic\">True</span>, \n",
       "<span style=\"color: #008000; text-decoration-color: #008000\">'use_bn'</span>: <span style=\"color: #ff0000; text-decoration-color: #ff0000; font-style: italic\">False</span>, <span style=\"color: #008000; text-decoration-color: #008000\">'use_se'</span>: <span style=\"color: #00ff00; text-decoration-color: #00ff00; font-style: italic\">True</span>, <span style=\"color: #008000; text-decoration-color: #008000\">'track_stats'</span>: <span style=\"color: #00ff00; text-decoration-color: #00ff00; font-style: italic\">True</span>, <span style=\"color: #008000; text-decoration-color: #008000\">'seed'</span>: <span style=\"color: #008080; text-decoration-color: #008080; font-weight: bold\">0</span>, <span style=\"color: #008000; text-decoration-color: #008000\">'base_dir'</span>: <span style=\"color: #008000; text-decoration-color: #008000\">'/home/hadi/Projects/PoissonVAE'</span>, \n",
       "<span style=\"color: #008000; text-decoration-color: #008000\">'data_dir'</span>: <span style=\"color: #008000; text-decoration-color: #008000\">'/home/hadi/Datasets'</span>, <span style=\"color: #008000; text-decoration-color: #008000\">'runs_dir'</span>: \n",
       "<span style=\"color: #008000; text-decoration-color: #008000\">'/home/hadi/Projects/PoissonVAE/runs/poisson_ImageNet32_t-64_z-[2048]_&lt;jacob|mlp&gt;'</span><span style=\"color: #000000; text-decoration-color: #000000\">, </span><span style=\"color: #008000; text-decoration-color: #008000\">'mods_dir'</span><span style=\"color: #000000; text-decoration-color: #000000\">: </span>\n",
       "<span style=\"color: #008000; text-decoration-color: #008000\">'/home/hadi/Projects/PoissonVAE/models/poisson_ImageNet32_t-64_z-[2048]_&lt;jacob|mlp&gt;'</span>, <span style=\"color: #008000; text-decoration-color: #008000\">'results_dir'</span>: \n",
       "<span style=\"color: #008000; text-decoration-color: #008000\">'/home/hadi/Projects/PoissonVAE/results'</span><span style=\"font-weight: bold\">}</span>\n",
       "\n",
       "\n",
       "<span style=\"font-weight: bold\">{</span><span style=\"color: #008000; text-decoration-color: #008000\">'lr'</span>: <span style=\"color: #008080; text-decoration-color: #008080; font-weight: bold\">0.0002</span>, <span style=\"color: #008000; text-decoration-color: #008000\">'epochs'</span>: <span style=\"color: #008080; text-decoration-color: #008080; font-weight: bold\">16</span>, <span style=\"color: #008000; text-decoration-color: #008000\">'batch_size'</span>: <span style=\"color: #008080; text-decoration-color: #008080; font-weight: bold\">80</span>, <span style=\"color: #008000; text-decoration-color: #008000\">'file_name'</span>: <span style=\"color: #800080; text-decoration-color: #800080; font-style: italic\">None</span>, <span style=\"color: #008000; text-decoration-color: #008000\">'warm_restart'</span>: <span style=\"color: #008080; text-decoration-color: #008080; font-weight: bold\">0</span>, <span style=\"color: #008000; text-decoration-color: #008000\">'warmup_portion'</span>: <span style=\"color: #008080; text-decoration-color: #008080; font-weight: bold\">0.005</span>, \n",
       "<span style=\"color: #008000; text-decoration-color: #008000\">'optimizer'</span>: <span style=\"color: #008000; text-decoration-color: #008000\">'adamax_fast'</span>, <span style=\"color: #008000; text-decoration-color: #008000\">'scheduler_type'</span>: <span style=\"color: #008000; text-decoration-color: #008000\">'cosine'</span>, <span style=\"color: #008000; text-decoration-color: #008000\">'optimizer_kws'</span>: <span style=\"font-weight: bold\">{</span><span style=\"color: #008000; text-decoration-color: #008000\">'weight_decay'</span>: <span style=\"color: #008080; text-decoration-color: #008080; font-weight: bold\">0.001</span>, <span style=\"color: #008000; text-decoration-color: #008000\">'betas'</span>: <span style=\"font-weight: bold\">(</span><span style=\"color: #008080; text-decoration-color: #008080; font-weight: bold\">0.9</span>, \n",
       "<span style=\"color: #008080; text-decoration-color: #008080; font-weight: bold\">0.999</span><span style=\"font-weight: bold\">)</span>, <span style=\"color: #008000; text-decoration-color: #008000\">'eps'</span>: <span style=\"color: #008080; text-decoration-color: #008080; font-weight: bold\">1e-08</span><span style=\"font-weight: bold\">}</span>, <span style=\"color: #008000; text-decoration-color: #008000\">'scheduler_kws'</span>: <span style=\"font-weight: bold\">{</span><span style=\"color: #008000; text-decoration-color: #008000\">'eta_min'</span>: <span style=\"color: #008080; text-decoration-color: #008080; font-weight: bold\">1e-06</span>, <span style=\"color: #008000; text-decoration-color: #008000\">'T_max'</span>: <span style=\"color: #008080; text-decoration-color: #008080; font-weight: bold\">15.92</span><span style=\"font-weight: bold\">}</span>, <span style=\"color: #008000; text-decoration-color: #008000\">'ema_rate'</span>: <span style=\"color: #800080; text-decoration-color: #800080; font-style: italic\">None</span>, <span style=\"color: #008000; text-decoration-color: #008000\">'grad_clip'</span>: <span style=\"color: #008080; text-decoration-color: #008080; font-weight: bold\">400</span>, \n",
       "<span style=\"color: #008000; text-decoration-color: #008000\">'chkpt_freq'</span>: <span style=\"color: #008080; text-decoration-color: #008080; font-weight: bold\">1</span>, <span style=\"color: #008000; text-decoration-color: #008000\">'eval_freq'</span>: <span style=\"color: #008080; text-decoration-color: #008080; font-weight: bold\">1</span>, <span style=\"color: #008000; text-decoration-color: #008000\">'log_freq'</span>: <span style=\"color: #008080; text-decoration-color: #008080; font-weight: bold\">10</span>, <span style=\"color: #008000; text-decoration-color: #008000\">'method'</span>: <span style=\"color: #008000; text-decoration-color: #008000\">'mc'</span>, <span style=\"color: #008000; text-decoration-color: #008000\">'kl_beta'</span>: <span style=\"color: #008080; text-decoration-color: #008080; font-weight: bold\">32.0</span>, <span style=\"color: #008000; text-decoration-color: #008000\">'kl_beta_min'</span>: <span style=\"color: #008080; text-decoration-color: #008080; font-weight: bold\">0.0001</span>, \n",
       "<span style=\"color: #008000; text-decoration-color: #008000\">'kl_balancer'</span>: <span style=\"color: #800080; text-decoration-color: #800080; font-style: italic\">None</span>, <span style=\"color: #008000; text-decoration-color: #008000\">'kl_time_adjuster'</span>: <span style=\"color: #800080; text-decoration-color: #800080; font-style: italic\">None</span>, <span style=\"color: #008000; text-decoration-color: #008000\">'kl_anneal_cycles'</span>: <span style=\"color: #008080; text-decoration-color: #008080; font-weight: bold\">0</span>, <span style=\"color: #008000; text-decoration-color: #008000\">'kl_anneal_portion'</span>: <span style=\"color: #008080; text-decoration-color: #008080; font-weight: bold\">0.1</span>, <span style=\"color: #008000; text-decoration-color: #008000\">'kl_const_portion'</span>:\n",
       "<span style=\"color: #008080; text-decoration-color: #008080; font-weight: bold\">0.001</span>, <span style=\"color: #008000; text-decoration-color: #008000\">'temp_anneal_portion'</span>: <span style=\"color: #008080; text-decoration-color: #008080; font-weight: bold\">0.5</span>, <span style=\"color: #008000; text-decoration-color: #008000\">'temp_anneal_type'</span>: <span style=\"color: #008000; text-decoration-color: #008000\">'lin'</span>, <span style=\"color: #008000; text-decoration-color: #008000\">'temp_start'</span>: <span style=\"color: #008080; text-decoration-color: #008080; font-weight: bold\">1.0</span>, <span style=\"color: #008000; text-decoration-color: #008000\">'temp_stop'</span>: <span style=\"color: #008080; text-decoration-color: #008080; font-weight: bold\">0.05</span><span style=\"font-weight: bold\">}</span>\n",
       "</pre>\n"
      ],
      "text/plain": [
       "\u001b[1m{\u001b[0m\u001b[32m'prior_log_dist'\u001b[0m: \u001b[32m'uniform'\u001b[0m, \u001b[32m'clamp_prior'\u001b[0m: \u001b[1;36m1.0\u001b[0m, \u001b[32m'hard_fwd'\u001b[0m: \u001b[3;91mFalse\u001b[0m, \u001b[32m'exc_only'\u001b[0m: \u001b[3;91mFalse\u001b[0m, \u001b[32m'type'\u001b[0m: \u001b[32m'poisson'\u001b[0m, \u001b[32m'n_ch'\u001b[0m: \n",
       "\u001b[1;36m32\u001b[0m, \u001b[32m'seq_len'\u001b[0m: \u001b[1;36m64\u001b[0m, \u001b[32m'n_latents'\u001b[0m: \u001b[1m[\u001b[0m\u001b[1;36m2048\u001b[0m\u001b[1m]\u001b[0m, \u001b[32m'jac_type'\u001b[0m: \u001b[32m'grad'\u001b[0m, \u001b[32m'enc_type'\u001b[0m: \u001b[32m'jacob'\u001b[0m, \u001b[32m'dec_type'\u001b[0m: \u001b[32m'mlp'\u001b[0m, \u001b[32m'dataset'\u001b[0m: \n",
       "\u001b[32m'ImageNet32'\u001b[0m, \u001b[32m'input_sz'\u001b[0m: \u001b[1m(\u001b[0m\u001b[1;36m3\u001b[0m, \u001b[1;36m32\u001b[0m, \u001b[1;36m32\u001b[0m\u001b[1m)\u001b[0m, \u001b[32m'shape'\u001b[0m: \u001b[1m(\u001b[0m\u001b[1;36m-1\u001b[0m, \u001b[1;36m3\u001b[0m, \u001b[1;36m32\u001b[0m, \u001b[1;36m32\u001b[0m\u001b[1m)\u001b[0m, \u001b[32m'res_eps'\u001b[0m: \u001b[1;36m1.0\u001b[0m, \u001b[32m'clamp_u'\u001b[0m: \u001b[1;36m6.5\u001b[0m, \u001b[32m'clamp_du'\u001b[0m: \u001b[1;36m6.0\u001b[0m, \n",
       "\u001b[32m'init_dist'\u001b[0m: \u001b[32m'normal'\u001b[0m, \u001b[32m'init_scale'\u001b[0m: \u001b[1;36m0.001\u001b[0m, \u001b[32m'activation_fn'\u001b[0m: \u001b[32m'swish'\u001b[0m, \u001b[32m'fit_prior'\u001b[0m: \u001b[3;92mTrue\u001b[0m, \u001b[32m'residual'\u001b[0m: \u001b[3;92mTrue\u001b[0m, \n",
       "\u001b[32m'use_bn'\u001b[0m: \u001b[3;91mFalse\u001b[0m, \u001b[32m'use_se'\u001b[0m: \u001b[3;92mTrue\u001b[0m, \u001b[32m'track_stats'\u001b[0m: \u001b[3;92mTrue\u001b[0m, \u001b[32m'seed'\u001b[0m: \u001b[1;36m0\u001b[0m, \u001b[32m'base_dir'\u001b[0m: \u001b[32m'/home/hadi/Projects/PoissonVAE'\u001b[0m, \n",
       "\u001b[32m'data_dir'\u001b[0m: \u001b[32m'/home/hadi/Datasets'\u001b[0m, \u001b[32m'runs_dir'\u001b[0m: \n",
       "\u001b[32m'/home/hadi/Projects/PoissonVAE/runs/poisson_ImageNet32_t-64_z-\u001b[0m\u001b[32m[\u001b[0m\u001b[32m2048\u001b[0m\u001b[32m]\u001b[0m\u001b[32m_\u001b[0m\u001b[32m<\u001b[0m\u001b[32mjacob|mlp\u001b[0m\u001b[32m>'\u001b[0m\u001b[39m, \u001b[0m\u001b[32m'mods_dir'\u001b[0m\u001b[39m: \u001b[0m\n",
       "\u001b[32m'/home/hadi/Projects/PoissonVAE/models/poisson_ImageNet32_t-64_z-\u001b[0m\u001b[32m[\u001b[0m\u001b[32m2048\u001b[0m\u001b[32m]\u001b[0m\u001b[32m_<jacob|mlp\u001b[0m\u001b[32m>\u001b[0m\u001b[32m'\u001b[0m, \u001b[32m'results_dir'\u001b[0m: \n",
       "\u001b[32m'/home/hadi/Projects/PoissonVAE/results'\u001b[0m\u001b[1m}\u001b[0m\n",
       "\n",
       "\n",
       "\u001b[1m{\u001b[0m\u001b[32m'lr'\u001b[0m: \u001b[1;36m0.0002\u001b[0m, \u001b[32m'epochs'\u001b[0m: \u001b[1;36m16\u001b[0m, \u001b[32m'batch_size'\u001b[0m: \u001b[1;36m80\u001b[0m, \u001b[32m'file_name'\u001b[0m: \u001b[3;35mNone\u001b[0m, \u001b[32m'warm_restart'\u001b[0m: \u001b[1;36m0\u001b[0m, \u001b[32m'warmup_portion'\u001b[0m: \u001b[1;36m0.005\u001b[0m, \n",
       "\u001b[32m'optimizer'\u001b[0m: \u001b[32m'adamax_fast'\u001b[0m, \u001b[32m'scheduler_type'\u001b[0m: \u001b[32m'cosine'\u001b[0m, \u001b[32m'optimizer_kws'\u001b[0m: \u001b[1m{\u001b[0m\u001b[32m'weight_decay'\u001b[0m: \u001b[1;36m0.001\u001b[0m, \u001b[32m'betas'\u001b[0m: \u001b[1m(\u001b[0m\u001b[1;36m0.9\u001b[0m, \n",
       "\u001b[1;36m0.999\u001b[0m\u001b[1m)\u001b[0m, \u001b[32m'eps'\u001b[0m: \u001b[1;36m1e-08\u001b[0m\u001b[1m}\u001b[0m, \u001b[32m'scheduler_kws'\u001b[0m: \u001b[1m{\u001b[0m\u001b[32m'eta_min'\u001b[0m: \u001b[1;36m1e-06\u001b[0m, \u001b[32m'T_max'\u001b[0m: \u001b[1;36m15.92\u001b[0m\u001b[1m}\u001b[0m, \u001b[32m'ema_rate'\u001b[0m: \u001b[3;35mNone\u001b[0m, \u001b[32m'grad_clip'\u001b[0m: \u001b[1;36m400\u001b[0m, \n",
       "\u001b[32m'chkpt_freq'\u001b[0m: \u001b[1;36m1\u001b[0m, \u001b[32m'eval_freq'\u001b[0m: \u001b[1;36m1\u001b[0m, \u001b[32m'log_freq'\u001b[0m: \u001b[1;36m10\u001b[0m, \u001b[32m'method'\u001b[0m: \u001b[32m'mc'\u001b[0m, \u001b[32m'kl_beta'\u001b[0m: \u001b[1;36m32.0\u001b[0m, \u001b[32m'kl_beta_min'\u001b[0m: \u001b[1;36m0.0001\u001b[0m, \n",
       "\u001b[32m'kl_balancer'\u001b[0m: \u001b[3;35mNone\u001b[0m, \u001b[32m'kl_time_adjuster'\u001b[0m: \u001b[3;35mNone\u001b[0m, \u001b[32m'kl_anneal_cycles'\u001b[0m: \u001b[1;36m0\u001b[0m, \u001b[32m'kl_anneal_portion'\u001b[0m: \u001b[1;36m0.1\u001b[0m, \u001b[32m'kl_const_portion'\u001b[0m:\n",
       "\u001b[1;36m0.001\u001b[0m, \u001b[32m'temp_anneal_portion'\u001b[0m: \u001b[1;36m0.5\u001b[0m, \u001b[32m'temp_anneal_type'\u001b[0m: \u001b[32m'lin'\u001b[0m, \u001b[32m'temp_start'\u001b[0m: \u001b[1;36m1.0\u001b[0m, \u001b[32m'temp_stop'\u001b[0m: \u001b[1;36m0.05\u001b[0m\u001b[1m}\u001b[0m\n"
      ]
     },
     "metadata": {},
     "output_type": "display_data"
    }
   ],
   "source": [
    "print(f\"{vars(tr.model.cfg)}\\n\\n\\n{vars(tr.cfg)}\")"
   ]
  },
  {
   "cell_type": "markdown",
   "id": "d4722263-a3f1-4786-a70f-e10e05fe55be",
   "metadata": {},
   "source": [
    "### Fit model"
   ]
  },
  {
   "cell_type": "code",
   "execution_count": 9,
   "id": "3eade726-fb80-4fac-86d9-415b71b5769a",
   "metadata": {},
   "outputs": [
    {
     "name": "stderr",
     "output_type": "stream",
     "text": [
      "epoch # 16, avg loss: 98.582726: 100%|█████| 16/16 [32:50:35<00:00, 7389.73s/it]\n"
     ]
    }
   ],
   "source": [
    "tr.train()"
   ]
  },
  {
   "cell_type": "markdown",
   "id": "28b85a93-8edd-4a57-882c-1c0dbe6e66ff",
   "metadata": {},
   "source": [
    "**Task:** *ImageNet32*, ```mlp```, 2048-dim latent space, lower $\\beta$ and lr, $(T, \\beta) = (64, 32.0)$"
   ]
  },
  {
   "cell_type": "code",
   "execution_count": 12,
   "id": "65b01f7b-96fc-47ef-a88b-12bb8ea2a92a",
   "metadata": {},
   "outputs": [
    {
     "data": {
      "text/html": [
       "<pre style=\"white-space:pre;overflow-x:auto;line-height:normal;font-family:Menlo,'DejaVu Sans Mono',consolas,'Courier New',monospace\"><span style=\"color: #800080; text-decoration-color: #800080; font-weight: bold\">tensor</span><span style=\"font-weight: bold\">([</span><span style=\"color: #008080; text-decoration-color: #008080; font-weight: bold\">37</span>, <span style=\"color: #008080; text-decoration-color: #008080; font-weight: bold\">38</span>, <span style=\"color: #008080; text-decoration-color: #008080; font-weight: bold\">41</span>, <span style=\"color: #008080; text-decoration-color: #008080; font-weight: bold\">44</span>, <span style=\"color: #008080; text-decoration-color: #008080; font-weight: bold\">46</span>, <span style=\"color: #008080; text-decoration-color: #008080; font-weight: bold\">48</span>, <span style=\"color: #008080; text-decoration-color: #008080; font-weight: bold\">51</span>, <span style=\"color: #008080; text-decoration-color: #008080; font-weight: bold\">53</span>, <span style=\"color: #008080; text-decoration-color: #008080; font-weight: bold\">56</span>, <span style=\"color: #008080; text-decoration-color: #008080; font-weight: bold\">58</span>, <span style=\"color: #008080; text-decoration-color: #008080; font-weight: bold\">59</span>, <span style=\"color: #008080; text-decoration-color: #008080; font-weight: bold\">61</span>, <span style=\"color: #008080; text-decoration-color: #008080; font-weight: bold\">62</span>, <span style=\"color: #008080; text-decoration-color: #008080; font-weight: bold\">63</span>, <span style=\"color: #008080; text-decoration-color: #008080; font-weight: bold\">63</span>, <span style=\"color: #008080; text-decoration-color: #008080; font-weight: bold\">64</span>, <span style=\"color: #008080; text-decoration-color: #008080; font-weight: bold\">64</span>, <span style=\"color: #008080; text-decoration-color: #008080; font-weight: bold\">64</span>,\n",
       "        <span style=\"color: #008080; text-decoration-color: #008080; font-weight: bold\">64</span>, <span style=\"color: #008080; text-decoration-color: #008080; font-weight: bold\">64</span>, <span style=\"color: #008080; text-decoration-color: #008080; font-weight: bold\">64</span>, <span style=\"color: #008080; text-decoration-color: #008080; font-weight: bold\">64</span>, <span style=\"color: #008080; text-decoration-color: #008080; font-weight: bold\">64</span>, <span style=\"color: #008080; text-decoration-color: #008080; font-weight: bold\">64</span>, <span style=\"color: #008080; text-decoration-color: #008080; font-weight: bold\">64</span>, <span style=\"color: #008080; text-decoration-color: #008080; font-weight: bold\">64</span>, <span style=\"color: #008080; text-decoration-color: #008080; font-weight: bold\">64</span>, <span style=\"color: #008080; text-decoration-color: #008080; font-weight: bold\">64</span>, <span style=\"color: #008080; text-decoration-color: #008080; font-weight: bold\">63</span>, <span style=\"color: #008080; text-decoration-color: #008080; font-weight: bold\">63</span>, <span style=\"color: #008080; text-decoration-color: #008080; font-weight: bold\">63</span>, <span style=\"color: #008080; text-decoration-color: #008080; font-weight: bold\">63</span>, <span style=\"color: #008080; text-decoration-color: #008080; font-weight: bold\">63</span>, <span style=\"color: #008080; text-decoration-color: #008080; font-weight: bold\">63</span>, <span style=\"color: #008080; text-decoration-color: #008080; font-weight: bold\">63</span>, <span style=\"color: #008080; text-decoration-color: #008080; font-weight: bold\">63</span>,\n",
       "        <span style=\"color: #008080; text-decoration-color: #008080; font-weight: bold\">63</span>, <span style=\"color: #008080; text-decoration-color: #008080; font-weight: bold\">63</span>, <span style=\"color: #008080; text-decoration-color: #008080; font-weight: bold\">63</span>, <span style=\"color: #008080; text-decoration-color: #008080; font-weight: bold\">63</span>, <span style=\"color: #008080; text-decoration-color: #008080; font-weight: bold\">62</span>, <span style=\"color: #008080; text-decoration-color: #008080; font-weight: bold\">62</span>, <span style=\"color: #008080; text-decoration-color: #008080; font-weight: bold\">62</span>, <span style=\"color: #008080; text-decoration-color: #008080; font-weight: bold\">62</span>, <span style=\"color: #008080; text-decoration-color: #008080; font-weight: bold\">62</span>, <span style=\"color: #008080; text-decoration-color: #008080; font-weight: bold\">62</span>, <span style=\"color: #008080; text-decoration-color: #008080; font-weight: bold\">62</span>, <span style=\"color: #008080; text-decoration-color: #008080; font-weight: bold\">62</span>, <span style=\"color: #008080; text-decoration-color: #008080; font-weight: bold\">62</span>, <span style=\"color: #008080; text-decoration-color: #008080; font-weight: bold\">62</span>, <span style=\"color: #008080; text-decoration-color: #008080; font-weight: bold\">62</span>, <span style=\"color: #008080; text-decoration-color: #008080; font-weight: bold\">62</span>, <span style=\"color: #008080; text-decoration-color: #008080; font-weight: bold\">62</span>, <span style=\"color: #008080; text-decoration-color: #008080; font-weight: bold\">62</span>,\n",
       "        <span style=\"color: #008080; text-decoration-color: #008080; font-weight: bold\">62</span>, <span style=\"color: #008080; text-decoration-color: #008080; font-weight: bold\">61</span>, <span style=\"color: #008080; text-decoration-color: #008080; font-weight: bold\">61</span>, <span style=\"color: #008080; text-decoration-color: #008080; font-weight: bold\">61</span>, <span style=\"color: #008080; text-decoration-color: #008080; font-weight: bold\">61</span>, <span style=\"color: #008080; text-decoration-color: #008080; font-weight: bold\">61</span>, <span style=\"color: #008080; text-decoration-color: #008080; font-weight: bold\">61</span>, <span style=\"color: #008080; text-decoration-color: #008080; font-weight: bold\">61</span>, <span style=\"color: #008080; text-decoration-color: #008080; font-weight: bold\">61</span>, <span style=\"color: #008080; text-decoration-color: #008080; font-weight: bold\">61</span><span style=\"font-weight: bold\">]</span>, <span style=\"color: #808000; text-decoration-color: #808000\">device</span>=<span style=\"color: #008000; text-decoration-color: #008000\">'cuda:1'</span>,\n",
       "       <span style=\"color: #808000; text-decoration-color: #808000\">dtype</span>=<span style=\"color: #800080; text-decoration-color: #800080\">torch</span>.int32<span style=\"font-weight: bold\">)</span>\n",
       "</pre>\n"
      ],
      "text/plain": [
       "\u001b[1;35mtensor\u001b[0m\u001b[1m(\u001b[0m\u001b[1m[\u001b[0m\u001b[1;36m37\u001b[0m, \u001b[1;36m38\u001b[0m, \u001b[1;36m41\u001b[0m, \u001b[1;36m44\u001b[0m, \u001b[1;36m46\u001b[0m, \u001b[1;36m48\u001b[0m, \u001b[1;36m51\u001b[0m, \u001b[1;36m53\u001b[0m, \u001b[1;36m56\u001b[0m, \u001b[1;36m58\u001b[0m, \u001b[1;36m59\u001b[0m, \u001b[1;36m61\u001b[0m, \u001b[1;36m62\u001b[0m, \u001b[1;36m63\u001b[0m, \u001b[1;36m63\u001b[0m, \u001b[1;36m64\u001b[0m, \u001b[1;36m64\u001b[0m, \u001b[1;36m64\u001b[0m,\n",
       "        \u001b[1;36m64\u001b[0m, \u001b[1;36m64\u001b[0m, \u001b[1;36m64\u001b[0m, \u001b[1;36m64\u001b[0m, \u001b[1;36m64\u001b[0m, \u001b[1;36m64\u001b[0m, \u001b[1;36m64\u001b[0m, \u001b[1;36m64\u001b[0m, \u001b[1;36m64\u001b[0m, \u001b[1;36m64\u001b[0m, \u001b[1;36m63\u001b[0m, \u001b[1;36m63\u001b[0m, \u001b[1;36m63\u001b[0m, \u001b[1;36m63\u001b[0m, \u001b[1;36m63\u001b[0m, \u001b[1;36m63\u001b[0m, \u001b[1;36m63\u001b[0m, \u001b[1;36m63\u001b[0m,\n",
       "        \u001b[1;36m63\u001b[0m, \u001b[1;36m63\u001b[0m, \u001b[1;36m63\u001b[0m, \u001b[1;36m63\u001b[0m, \u001b[1;36m62\u001b[0m, \u001b[1;36m62\u001b[0m, \u001b[1;36m62\u001b[0m, \u001b[1;36m62\u001b[0m, \u001b[1;36m62\u001b[0m, \u001b[1;36m62\u001b[0m, \u001b[1;36m62\u001b[0m, \u001b[1;36m62\u001b[0m, \u001b[1;36m62\u001b[0m, \u001b[1;36m62\u001b[0m, \u001b[1;36m62\u001b[0m, \u001b[1;36m62\u001b[0m, \u001b[1;36m62\u001b[0m, \u001b[1;36m62\u001b[0m,\n",
       "        \u001b[1;36m62\u001b[0m, \u001b[1;36m61\u001b[0m, \u001b[1;36m61\u001b[0m, \u001b[1;36m61\u001b[0m, \u001b[1;36m61\u001b[0m, \u001b[1;36m61\u001b[0m, \u001b[1;36m61\u001b[0m, \u001b[1;36m61\u001b[0m, \u001b[1;36m61\u001b[0m, \u001b[1;36m61\u001b[0m\u001b[1m]\u001b[0m, \u001b[33mdevice\u001b[0m=\u001b[32m'cuda:1'\u001b[0m,\n",
       "       \u001b[33mdtype\u001b[0m=\u001b[35mtorch\u001b[0m.int32\u001b[1m)\u001b[0m\n"
      ]
     },
     "metadata": {},
     "output_type": "display_data"
    }
   ],
   "source": [
    "print(vae.layer.n_exp)"
   ]
  },
  {
   "cell_type": "code",
   "execution_count": null,
   "id": "4b720dc1-55b2-42da-8cfd-e049f32896c0",
   "metadata": {},
   "outputs": [],
   "source": []
  },
  {
   "cell_type": "code",
   "execution_count": 13,
   "id": "dbb74b93-de2d-42ec-9f65-90b88410f9b5",
   "metadata": {},
   "outputs": [
    {
     "data": {
      "text/plain": [
       "(6.326509952545166, 6.0)"
      ]
     },
     "execution_count": 13,
     "metadata": {},
     "output_type": "execute_result"
    }
   ],
   "source": [
    "u_max = np.array(tr.model.stats['u_max'])\n",
    "du_max = np.array(tr.model.stats['du_max'])\n",
    "\n",
    "u_max.max(), du_max.max()"
   ]
  },
  {
   "cell_type": "code",
   "execution_count": 14,
   "id": "30306a59-376c-4d6f-b8db-5642dfe93ac5",
   "metadata": {},
   "outputs": [
    {
     "data": {
      "image/png": "[encoded data removed]",
      "text/plain": [
       "<Figure size 600x200 with 2 Axes>"
      ]
     },
     "metadata": {},
     "output_type": "display_data"
    }
   ],
   "source": [
    "fig, axes = create_figure(1, 2, sharey='row')\n",
    "\n",
    "axes[0].plot(u_max, color='C7', lw=0.1, label='u_max')\n",
    "axes[1].plot(du_max, color='C4', lw=0.1, label='du_max')\n",
    "axes[1].set(ylim=(0, 8))\n",
    "add_legend(axes)\n",
    "plt.show()"
   ]
  },
  {
   "cell_type": "code",
   "execution_count": null,
   "id": "0e269a39-4acd-4219-b2ec-0189954908ee",
   "metadata": {},
   "outputs": [],
   "source": []
  },
  {
   "cell_type": "code",
   "execution_count": 15,
   "id": "9638a32f-95d4-477a-9601-603fdd3a76c0",
   "metadata": {},
   "outputs": [
    {
     "data": {
      "text/plain": [
       "(56155, 0.219)"
      ]
     },
     "execution_count": 15,
     "metadata": {},
     "output_type": "execute_result"
    }
   ],
   "source": [
    "grad = np.array(list(tr.stats['grad'].values()))\n",
    "(grad > tr.cfg.grad_clip).sum(), np.round((grad > tr.cfg.grad_clip).mean(), 3)"
   ]
  },
  {
   "cell_type": "code",
   "execution_count": 16,
   "id": "dce4b8e3-4270-453a-be65-d6cb0564a844",
   "metadata": {},
   "outputs": [
    {
     "data": {
      "image/png": "[encoded data removed]",
      "text/plain": [
       "<Figure size 900x200 with 3 Axes>"
      ]
     },
     "metadata": {},
     "output_type": "display_data"
    }
   ],
   "source": [
    "fig, axes = create_figure(1, 3)\n",
    "\n",
    "axes[0].plot(np.log(grad)[:300], lw=1)\n",
    "axes[1].plot(np.log(grad), lw=0.1)\n",
    "\n",
    "axes[2].axvline(np.log(tr.cfg.grad_clip), color='magenta', ls='--')\n",
    "histplot(np.log(grad), ax=axes[2])\n",
    "\n",
    "plt.show()"
   ]
  },
  {
   "cell_type": "code",
   "execution_count": null,
   "id": "ca617d9c-bdb5-44bc-bc7d-4bb390932fb1",
   "metadata": {},
   "outputs": [],
   "source": []
  },
  {
   "cell_type": "code",
   "execution_count": 17,
   "id": "54d56142-3e2c-49ff-8fba-1b4336b3ae4e",
   "metadata": {},
   "outputs": [
    {
     "data": {
      "image/png": "[encoded data removed]",
      "text/plain": [
       "<Figure size 1000x200 with 2 Axes>"
      ]
     },
     "metadata": {},
     "output_type": "display_data"
    }
   ],
   "source": [
    "log_rate = tonp(tr.model.layer.log_rate).ravel()\n",
    "bias = tonp(tr.model.layer.bias).ravel()\n",
    "\n",
    "fig, axes = create_figure(1, 2, (10, 2))\n",
    "kws = dict(fill=True, lw=1, alpha=0.3, ax=axes[0])\n",
    "sns.histplot(log_rate, color='C0', element='step', label=r'$\\log r$', **kws)\n",
    "\n",
    "kws = dict(fill=True, lw=1, alpha=0.3, ax=axes[1])\n",
    "sns.histplot(np.exp(log_rate), color='C0', element='step', label='rate', **kws)\n",
    "sns.histplot(bias, color='C8', element='step', label='bias', **kws)\n",
    "\n",
    "axes[1].set(ylabel='')\n",
    "add_legend(axes)\n",
    "\n",
    "plt.show()"
   ]
  },
  {
   "cell_type": "code",
   "execution_count": 19,
   "id": "474f90a4-4022-4b7a-b2c3-e86418d1cb2a",
   "metadata": {},
   "outputs": [
    {
     "data": {
      "text/plain": [
       "(0, 2048, 0.0)"
      ]
     },
     "execution_count": 19,
     "metadata": {},
     "output_type": "execute_result"
    }
   ],
   "source": [
    "dead = log_rate > 2\n",
    "dead.sum(), (~dead).sum(), dead.sum() / len(dead)"
   ]
  },
  {
   "cell_type": "code",
   "execution_count": null,
   "id": "2ac1b250-8b9e-4293-9914-2e7c2ef8f4f7",
   "metadata": {},
   "outputs": [],
   "source": []
  },
  {
   "cell_type": "code",
   "execution_count": null,
   "id": "55a86869-ace3-4d7c-8e37-9919242b5903",
   "metadata": {},
   "outputs": [
    {
     "name": "stderr",
     "output_type": "stream",
     "text": [
      " 95%|███████████████████████████████▎ | 19/20 [11:46<00:37, 37.09s/it]"
     ]
    }
   ],
   "source": [
    "%%time\n",
    "\n",
    "kws = dict(\n",
    "    seq_total=10000,\n",
    "    seq_batch_sz=100,\n",
    "    n_data_batches=20,\n",
    "    active=~dead,\n",
    ")\n",
    "results = tr.analysis(dl='vld', **kws)\n",
    "_ = plot_convergence(results, color='crimson')"
   ]
  },
  {
   "cell_type": "code",
   "execution_count": null,
   "id": "823e76dc-2a15-4624-aebc-a6d227956aa0",
   "metadata": {},
   "outputs": [],
   "source": [
    "tr.model.cfg.dataset, (tr.model.cfg.seq_len, tr.cfg.kl_beta)"
   ]
  },
  {
   "cell_type": "code",
   "execution_count": null,
   "id": "ff009a3e-509b-4219-8a6e-445326ee4375",
   "metadata": {},
   "outputs": [],
   "source": []
  },
  {
   "cell_type": "code",
   "execution_count": null,
   "id": "537c8d3f-274a-4a8d-9636-848c4dc2c599",
   "metadata": {},
   "outputs": [],
   "source": []
  },
  {
   "cell_type": "code",
   "execution_count": null,
   "id": "f361a0f0-90b4-4b05-b8e7-d37793612757",
   "metadata": {},
   "outputs": [],
   "source": [
    "kws = dict(\n",
    "    seq_total=1000, # tr.model.cfg.seq_len,\n",
    "    seq_batch_sz=100,\n",
    "    n_data_batches=1,\n",
    "    # active=~dead,\n",
    "    return_recon=True,\n",
    "    full_data=True,\n",
    "    verbose=False,\n",
    ")\n",
    "results_to_plot = {\n",
    "    name: tr.analysis(dl=name, **kws)\n",
    "    for name in ['trn', 'vld']\n",
    "}"
   ]
  },
  {
   "cell_type": "code",
   "execution_count": null,
   "id": "05715e27-f86b-4035-a73c-edf7ffed8613",
   "metadata": {},
   "outputs": [],
   "source": [
    "num = 32\n",
    "\n",
    "x2p_dict = {}\n",
    "for name, d in results_to_plot.items():\n",
    "    x2p = np.concatenate([\n",
    "        d['x'][:num],\n",
    "        d['y'][:num, -1].reshape(tr.model.cfg.shape),\n",
    "    ])\n",
    "    x2p = (x2p + 1) / 2\n",
    "    x2p = np.clip(x2p, 0, 1)\n",
    "    x2p_dict[name] = x2p"
   ]
  },
  {
   "cell_type": "code",
   "execution_count": null,
   "id": "16bb1abd-6048-41c6-aee4-b03d1186f38e",
   "metadata": {},
   "outputs": [],
   "source": [
    "name = 'vld'\n",
    "\n",
    "fig, axes = create_figure(2, 24, (24, 2))\n",
    "for i in range(24):\n",
    "    axes[0, i].imshow(x2p_dict[name][i].transpose(1, 2, 0))\n",
    "    axes[1, i].imshow(x2p_dict[name][i + 32].transpose(1, 2, 0))\n",
    "remove_ticks(axes)\n",
    "plt.show()"
   ]
  },
  {
   "cell_type": "code",
   "execution_count": null,
   "id": "81aa90f4-0506-494a-a3be-227db16982b5",
   "metadata": {},
   "outputs": [],
   "source": []
  },
  {
   "cell_type": "code",
   "execution_count": null,
   "id": "91829704-ea20-495e-8610-5934859b5a6f",
   "metadata": {},
   "outputs": [],
   "source": [
    "posterior_log_rates = collections.defaultdict(list)\n",
    "for b, (x, *_) in iter(enumerate(tr.dl_vld)):\n",
    "    if b > 5:\n",
    "        continue\n",
    "    output = tr.model.xtract_ftr(tr.to(x))\n",
    "    for t, pois in output['dist'].items():\n",
    "        posterior_log_rates[t].append(torch.log(pois.rate))\n",
    "posterior_log_rates = {\n",
    "    t: tonp(torch.cat(v)) for t, v\n",
    "    in posterior_log_rates.items()\n",
    "}\n",
    "\n",
    "\n",
    "fig, ax = create_figure(1, 1, (10, 3.5))\n",
    "pal = get_cubehelix_palette(tr.model.cfg.seq_len, start=2.5)\n",
    "\n",
    "for i, (t, v) in enumerate(posterior_log_rates.items()):\n",
    "    x2p = v[:, ~dead].ravel()\n",
    "    x2p = x2p[x2p > -10]\n",
    "    sns.histplot(\n",
    "        x2p,\n",
    "        stat='percent',\n",
    "        element='step',\n",
    "        fill=False,\n",
    "        color=pal[i],\n",
    "        label=f\"T = {t}\",\n",
    "        ax=ax,\n",
    "    )\n",
    "# ax.legend()\n",
    "ax.grid()\n",
    "plt.show()\n",
    "\n",
    "\n",
    "fig, axes = create_figure(2, 1, (6, 4.2), sharex='col')\n",
    "for i, (t, v) in enumerate(posterior_log_rates.items()):\n",
    "    for ax in axes.flat:\n",
    "        sns.histplot(\n",
    "            np.exp(v[:, ~dead].ravel()),\n",
    "            stat='percent',\n",
    "            element='step',\n",
    "            fill=False,\n",
    "            color=pal[i],\n",
    "            label=f\"T = {t}\",\n",
    "            ax=ax,\n",
    "        )\n",
    "axes[1].set(yscale='log')\n",
    "add_grid(axes)\n",
    "plt.show()"
   ]
  },
  {
   "cell_type": "code",
   "execution_count": null,
   "id": "895e6aeb-a89a-4c7d-bea2-63775fbdd3cd",
   "metadata": {},
   "outputs": [],
   "source": []
  },
  {
   "cell_type": "code",
   "execution_count": null,
   "id": "4847849b-3c0c-4e36-b6f8-74477beae0fb",
   "metadata": {},
   "outputs": [],
   "source": []
  },
  {
   "cell_type": "code",
   "execution_count": null,
   "id": "7a2baad1-022e-4bb5-910d-b321385407d0",
   "metadata": {},
   "outputs": [],
   "source": []
  }
 ],
 "metadata": {
  "kernelspec": {
   "display_name": "Python 3 (ipykernel)",
   "language": "python",
   "name": "python3"
  },
  "language_info": {
   "codemirror_mode": {
    "name": "ipython",
    "version": 3
   },
   "file_extension": ".py",
   "mimetype": "text/x-python",
   "name": "python",
   "nbconvert_exporter": "python",
   "pygments_lexer": "ipython3",
   "version": "3.11.7"
  }
 },
 "nbformat": 4,
 "nbformat_minor": 5
}
