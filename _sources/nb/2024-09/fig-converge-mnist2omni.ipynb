{
 "cells": [
  {
   "cell_type": "markdown",
   "id": "48f55a35-d5b5-468f-b574-730df61e9609",
   "metadata": {},
   "source": [
    "# fig — convergence (mnist -> omni)\n",
    "\n",
    "**Motivation**: host = ```mach```, device = ```cuda:2``` <br>"
   ]
  },
  {
   "cell_type": "code",
   "execution_count": 1,
   "id": "f823b1e9-05f2-49a0-8296-4a1819c12e81",
   "metadata": {
    "tags": [
     "hide-input"
    ]
   },
   "outputs": [],
   "source": [
    "# HIDE CODE\n",
    "\n",
    "\n",
    "import os, sys\n",
    "from IPython.display import display\n",
    "\n",
    "# tmp & extras dir\n",
    "git_dir = os.path.join(os.environ['HOME'], 'Dropbox/git')\n",
    "extras_dir = os.path.join(git_dir, 'jb-vae/_extras')\n",
    "fig_base_dir = os.path.join(git_dir, 'jb-vae/figs')\n",
    "tmp_dir = os.path.join(git_dir, 'jb-vae/tmp')\n",
    "\n",
    "# GitHub\n",
    "sys.path.insert(0, os.path.join(git_dir, '_IterativeVAE'))\n",
    "from figures.fighelper import *\n",
    "from vae.train_vae import *\n",
    "\n",
    "# warnings, tqdm, & style\n",
    "warnings.filterwarnings('ignore', category=DeprecationWarning)\n",
    "warnings.filterwarnings('ignore', category=FutureWarning)\n",
    "warnings.filterwarnings('ignore', category=UserWarning)\n",
    "from rich.jupyter import print\n",
    "%matplotlib inline\n",
    "set_style()"
   ]
  },
  {
   "cell_type": "code",
   "execution_count": 2,
   "id": "45357127-b675-4e68-ba95-938ea8612cad",
   "metadata": {},
   "outputs": [
    {
     "data": {
      "text/html": [
       "<pre style=\"white-space:pre;overflow-x:auto;line-height:normal;font-family:Menlo,'DejaVu Sans Mono',consolas,'Courier New',monospace\">device: cu<span style=\"color: #00ff00; text-decoration-color: #00ff00; font-weight: bold\">da:2</span>  ———  host: mach\n",
       "</pre>\n"
      ],
      "text/plain": [
       "device: cu\u001b[1;92mda:2\u001b[0m  ———  host: mach\n"
      ]
     },
     "metadata": {},
     "output_type": "display_data"
    }
   ],
   "source": [
    "from analysis.chosen import *\n",
    "from figures.analysis import *\n",
    "\n",
    "device_idx = 2\n",
    "device = f'cuda:{device_idx}'\n",
    "\n",
    "print(f\"device: {device}  ———  host: {os.uname().nodename}\")"
   ]
  },
  {
   "cell_type": "code",
   "execution_count": 3,
   "id": "68e68fe7-9f19-4e7e-9574-9bf8ccb76bcb",
   "metadata": {},
   "outputs": [
    {
     "data": {
      "text/html": [
       "<pre style=\"white-space:pre;overflow-x:auto;line-height:normal;font-family:Menlo,'DejaVu Sans Mono',consolas,'Courier New',monospace\"><span style=\"font-weight: bold\">[</span>\n",
       "    <span style=\"color: #008000; text-decoration-color: #008000\">'convergence_nelbo.pdf'</span>,\n",
       "    <span style=\"color: #008000; text-decoration-color: #008000\">'ftrs_iP-VAE.png'</span>,\n",
       "    <span style=\"color: #008000; text-decoration-color: #008000\">'convergence_mse.pdf'</span>,\n",
       "    <span style=\"color: #008000; text-decoration-color: #008000\">'ftrs_P-VAE.png'</span>,\n",
       "    <span style=\"color: #008000; text-decoration-color: #008000\">'ood'</span>,\n",
       "    <span style=\"color: #008000; text-decoration-color: #008000\">'convergence_mse_mnist2omni.pdf'</span>,\n",
       "    <span style=\"color: #008000; text-decoration-color: #008000\">'convergence_mse_mnist2mnist.pdf'</span>,\n",
       "    <span style=\"color: #008000; text-decoration-color: #008000\">'recon'</span>\n",
       "<span style=\"font-weight: bold\">]</span>\n",
       "</pre>\n"
      ],
      "text/plain": [
       "\u001b[1m[\u001b[0m\n",
       "    \u001b[32m'convergence_nelbo.pdf'\u001b[0m,\n",
       "    \u001b[32m'ftrs_iP-VAE.png'\u001b[0m,\n",
       "    \u001b[32m'convergence_mse.pdf'\u001b[0m,\n",
       "    \u001b[32m'ftrs_P-VAE.png'\u001b[0m,\n",
       "    \u001b[32m'ood'\u001b[0m,\n",
       "    \u001b[32m'convergence_mse_mnist2omni.pdf'\u001b[0m,\n",
       "    \u001b[32m'convergence_mse_mnist2mnist.pdf'\u001b[0m,\n",
       "    \u001b[32m'recon'\u001b[0m\n",
       "\u001b[1m]\u001b[0m\n"
      ]
     },
     "metadata": {},
     "output_type": "display_data"
    }
   ],
   "source": [
    "fig_dir = pjoin(fig_base_dir, 'iclr_oct02')\n",
    "os.makedirs(fig_dir, exist_ok=True)\n",
    "print(os.listdir(fig_dir))\n",
    "\n",
    "kws_fig = {\n",
    "    'transparent': True,\n",
    "    'bbox_inches': 'tight',\n",
    "    'dpi': 300,\n",
    "}"
   ]
  },
  {
   "cell_type": "markdown",
   "id": "e9d87a8e-4f4e-4a82-9f89-d56010caf359",
   "metadata": {},
   "source": [
    "## Marino/Kim: load data"
   ]
  },
  {
   "cell_type": "code",
   "execution_count": 4,
   "id": "5adaeb67-1560-4d1b-9deb-2dfd08178fa1",
   "metadata": {},
   "outputs": [],
   "source": [
    "dekel_dir = '/home/hadi/Dropbox/git/jb-vae/tmp/dekel_data/'\n",
    "mse_outside = pjoin(dekel_dir, 'from-mnist-to-omniglot_iters1000.npz')\n",
    "mse_outside = dict(np.load(mse_outside, allow_pickle=True))\n",
    "mse_outside = {\n",
    "    'sa-VAE': mse_outside['SAVAE_from-mnist-to-omniglot-_iter1000_full.npz'],\n",
    "    'ia-VAE (hierarchical)': mse_outside['MARINO_hierarchical_from-mnist-to-omniglot_MNIST_H_iters1000_full.npz'],\n",
    "    'ia-VAE (single-level)': mse_outside['MARINO_single_level_from-mnist-to-omniglot_MNIST_SL_iters1000_full.npz'],\n",
    "}"
   ]
  },
  {
   "cell_type": "markdown",
   "id": "77537eef-2d01-4360-aa0c-07a155ad9b5f",
   "metadata": {},
   "source": [
    "## VAE: amort and iterative"
   ]
  },
  {
   "cell_type": "code",
   "execution_count": 5,
   "id": "dcfc8fc6-186f-477b-a47d-862ac60ca27c",
   "metadata": {},
   "outputs": [
    {
     "data": {
      "text/html": [
       "<pre style=\"white-space:pre;overflow-x:auto;line-height:normal;font-family:Menlo,'DejaVu Sans Mono',consolas,'Courier New',monospace\"><span style=\"font-weight: bold\">[</span>\n",
       "    <span style=\"color: #008000; text-decoration-color: #008000\">'EMNIST_&lt;jacob|mlp&gt;_(64,24.0)'</span><span style=\"color: #000000; text-decoration-color: #000000\">,</span>\n",
       "<span style=\"color: #000000; text-decoration-color: #000000\">    </span><span style=\"color: #008000; text-decoration-color: #008000\">'EMNIST_&lt;mlp|mlp&gt;_(64,24.0)'</span><span style=\"color: #000000; text-decoration-color: #000000\">,</span>\n",
       "<span style=\"color: #000000; text-decoration-color: #000000\">    </span><span style=\"color: #008000; text-decoration-color: #008000\">'MNIST_&lt;conv|conv&gt;_(1,1.0)'</span><span style=\"color: #000000; text-decoration-color: #000000\">,</span>\n",
       "<span style=\"color: #000000; text-decoration-color: #000000\">    </span><span style=\"color: #008000; text-decoration-color: #008000\">'MNIST_&lt;jacob|conv&gt;_(16,8.0)'</span><span style=\"color: #000000; text-decoration-color: #000000\">,</span>\n",
       "<span style=\"color: #000000; text-decoration-color: #000000\">    </span><span style=\"color: #008000; text-decoration-color: #008000\">'MNIST_&lt;jacob|conv&gt;_(32,16.0)'</span><span style=\"color: #000000; text-decoration-color: #000000\">,</span>\n",
       "<span style=\"color: #000000; text-decoration-color: #000000\">    </span><span style=\"color: #008000; text-decoration-color: #008000\">'MNIST_&lt;jacob|conv&gt;_(4,1.5)'</span><span style=\"color: #000000; text-decoration-color: #000000\">,</span>\n",
       "<span style=\"color: #000000; text-decoration-color: #000000\">    </span><span style=\"color: #008000; text-decoration-color: #008000\">'MNIST_&lt;jacob|mlp&gt;_(16,8.0)'</span><span style=\"color: #000000; text-decoration-color: #000000\">,</span>\n",
       "<span style=\"color: #000000; text-decoration-color: #000000\">    </span><span style=\"color: #008000; text-decoration-color: #008000\">'MNIST_&lt;jacob|mlp&gt;_(4,1.5)'</span><span style=\"color: #000000; text-decoration-color: #000000\">,</span>\n",
       "<span style=\"color: #000000; text-decoration-color: #000000\">    </span><span style=\"color: #008000; text-decoration-color: #008000\">'MNIST_&lt;jacob|mlp&gt;_(64,24.0)'</span><span style=\"color: #000000; text-decoration-color: #000000\">,</span>\n",
       "<span style=\"color: #000000; text-decoration-color: #000000\">    </span><span style=\"color: #008000; text-decoration-color: #008000\">'MNIST_&lt;mlp|mlp&gt;_(1,1.0)'</span><span style=\"color: #000000; text-decoration-color: #000000\">,</span>\n",
       "<span style=\"color: #000000; text-decoration-color: #000000\">    </span><span style=\"color: #008000; text-decoration-color: #008000\">'MNIST_&lt;mlp|mlp&gt;_(64,24.0)'</span><span style=\"color: #000000; text-decoration-color: #000000\">,</span>\n",
       "<span style=\"color: #000000; text-decoration-color: #000000\">    </span><span style=\"color: #008000; text-decoration-color: #008000\">'Omniglot_&lt;jacob|mlp&gt;_(64,24.0)'</span><span style=\"color: #000000; text-decoration-color: #000000\">,</span>\n",
       "<span style=\"color: #000000; text-decoration-color: #000000\">    </span><span style=\"color: #008000; text-decoration-color: #008000\">'Omniglot_&lt;mlp|mlp&gt;_(64,24.0)'</span>\n",
       "<span style=\"font-weight: bold\">]</span>\n",
       "</pre>\n"
      ],
      "text/plain": [
       "\u001b[1m[\u001b[0m\n",
       "    \u001b[32m'EMNIST_\u001b[0m\u001b[32m<\u001b[0m\u001b[32mjacob|mlp\u001b[0m\u001b[32m>_\u001b[0m\u001b[32m(\u001b[0m\u001b[32m64,24.0\u001b[0m\u001b[32m)\u001b[0m\u001b[32m'\u001b[0m\u001b[39m,\u001b[0m\n",
       "\u001b[39m    \u001b[0m\u001b[32m'EMNIST_<mlp|mlp>_\u001b[0m\u001b[32m(\u001b[0m\u001b[32m64,24.0\u001b[0m\u001b[32m)\u001b[0m\u001b[32m'\u001b[0m\u001b[39m,\u001b[0m\n",
       "\u001b[39m    \u001b[0m\u001b[32m'MNIST_<conv|conv>_\u001b[0m\u001b[32m(\u001b[0m\u001b[32m1,1.0\u001b[0m\u001b[32m)\u001b[0m\u001b[32m'\u001b[0m\u001b[39m,\u001b[0m\n",
       "\u001b[39m    \u001b[0m\u001b[32m'MNIST_<jacob|conv>_\u001b[0m\u001b[32m(\u001b[0m\u001b[32m16,8.0\u001b[0m\u001b[32m)\u001b[0m\u001b[32m'\u001b[0m\u001b[39m,\u001b[0m\n",
       "\u001b[39m    \u001b[0m\u001b[32m'MNIST_<jacob|conv>_\u001b[0m\u001b[32m(\u001b[0m\u001b[32m32,16.0\u001b[0m\u001b[32m)\u001b[0m\u001b[32m'\u001b[0m\u001b[39m,\u001b[0m\n",
       "\u001b[39m    \u001b[0m\u001b[32m'MNIST_<jacob|conv>_\u001b[0m\u001b[32m(\u001b[0m\u001b[32m4,1.5\u001b[0m\u001b[32m)\u001b[0m\u001b[32m'\u001b[0m\u001b[39m,\u001b[0m\n",
       "\u001b[39m    \u001b[0m\u001b[32m'MNIST_<jacob|mlp>_\u001b[0m\u001b[32m(\u001b[0m\u001b[32m16,8.0\u001b[0m\u001b[32m)\u001b[0m\u001b[32m'\u001b[0m\u001b[39m,\u001b[0m\n",
       "\u001b[39m    \u001b[0m\u001b[32m'MNIST_<jacob|mlp>_\u001b[0m\u001b[32m(\u001b[0m\u001b[32m4,1.5\u001b[0m\u001b[32m)\u001b[0m\u001b[32m'\u001b[0m\u001b[39m,\u001b[0m\n",
       "\u001b[39m    \u001b[0m\u001b[32m'MNIST_<jacob|mlp>_\u001b[0m\u001b[32m(\u001b[0m\u001b[32m64,24.0\u001b[0m\u001b[32m)\u001b[0m\u001b[32m'\u001b[0m\u001b[39m,\u001b[0m\n",
       "\u001b[39m    \u001b[0m\u001b[32m'MNIST_<mlp|mlp>_\u001b[0m\u001b[32m(\u001b[0m\u001b[32m1,1.0\u001b[0m\u001b[32m)\u001b[0m\u001b[32m'\u001b[0m\u001b[39m,\u001b[0m\n",
       "\u001b[39m    \u001b[0m\u001b[32m'MNIST_<mlp|mlp>_\u001b[0m\u001b[32m(\u001b[0m\u001b[32m64,24.0\u001b[0m\u001b[32m)\u001b[0m\u001b[32m'\u001b[0m\u001b[39m,\u001b[0m\n",
       "\u001b[39m    \u001b[0m\u001b[32m'Omniglot_<jacob|mlp>_\u001b[0m\u001b[32m(\u001b[0m\u001b[32m64,24.0\u001b[0m\u001b[32m)\u001b[0m\u001b[32m'\u001b[0m\u001b[39m,\u001b[0m\n",
       "\u001b[39m    \u001b[0m\u001b[32m'Omniglot_<mlp|mlp\u001b[0m\u001b[32m>\u001b[0m\u001b[32m_\u001b[0m\u001b[32m(\u001b[0m\u001b[32m64,24.0\u001b[0m\u001b[32m)\u001b[0m\u001b[32m'\u001b[0m\n",
       "\u001b[1m]\u001b[0m\n"
      ]
     },
     "metadata": {},
     "output_type": "display_data"
    }
   ],
   "source": [
    "mnist_to_load = selected_models_28x28(device, full=True)\n",
    "print(sorted(mnist_to_load))"
   ]
  },
  {
   "cell_type": "code",
   "execution_count": 6,
   "id": "60db6ae2-2587-47d8-a957-007d3409ac88",
   "metadata": {},
   "outputs": [
    {
     "data": {
      "text/html": [
       "<pre style=\"white-space:pre;overflow-x:auto;line-height:normal;font-family:Menlo,'DejaVu Sans Mono',consolas,'Courier New',monospace\"><span style=\"font-weight: bold\">[</span>\n",
       "    <span style=\"color: #008000; text-decoration-color: #008000\">'MNIST_&lt;jacob|mlp&gt;_(4,1.5)'</span><span style=\"color: #000000; text-decoration-color: #000000\">,</span>\n",
       "<span style=\"color: #000000; text-decoration-color: #000000\">    </span><span style=\"color: #008000; text-decoration-color: #008000\">'MNIST_&lt;jacob|mlp&gt;_(16,8.0)'</span><span style=\"color: #000000; text-decoration-color: #000000\">,</span>\n",
       "<span style=\"color: #000000; text-decoration-color: #000000\">    </span><span style=\"color: #008000; text-decoration-color: #008000\">'MNIST_&lt;jacob|mlp&gt;_(64,24.0)'</span><span style=\"color: #000000; text-decoration-color: #000000\">,</span>\n",
       "<span style=\"color: #000000; text-decoration-color: #000000\">    </span><span style=\"color: #008000; text-decoration-color: #008000\">'MNIST_&lt;jacob|conv&gt;_(4,1.5)'</span><span style=\"color: #000000; text-decoration-color: #000000\">,</span>\n",
       "<span style=\"color: #000000; text-decoration-color: #000000\">    </span><span style=\"color: #008000; text-decoration-color: #008000\">'MNIST_&lt;jacob|conv&gt;_(16,8.0)'</span>\n",
       "<span style=\"font-weight: bold\">]</span>\n",
       "</pre>\n"
      ],
      "text/plain": [
       "\u001b[1m[\u001b[0m\n",
       "    \u001b[32m'MNIST_\u001b[0m\u001b[32m<\u001b[0m\u001b[32mjacob|mlp\u001b[0m\u001b[32m>_\u001b[0m\u001b[32m(\u001b[0m\u001b[32m4,1.5\u001b[0m\u001b[32m)\u001b[0m\u001b[32m'\u001b[0m\u001b[39m,\u001b[0m\n",
       "\u001b[39m    \u001b[0m\u001b[32m'MNIST_<jacob|mlp>_\u001b[0m\u001b[32m(\u001b[0m\u001b[32m16,8.0\u001b[0m\u001b[32m)\u001b[0m\u001b[32m'\u001b[0m\u001b[39m,\u001b[0m\n",
       "\u001b[39m    \u001b[0m\u001b[32m'MNIST_<jacob|mlp>_\u001b[0m\u001b[32m(\u001b[0m\u001b[32m64,24.0\u001b[0m\u001b[32m)\u001b[0m\u001b[32m'\u001b[0m\u001b[39m,\u001b[0m\n",
       "\u001b[39m    \u001b[0m\u001b[32m'MNIST_<jacob|conv>_\u001b[0m\u001b[32m(\u001b[0m\u001b[32m4,1.5\u001b[0m\u001b[32m)\u001b[0m\u001b[32m'\u001b[0m\u001b[39m,\u001b[0m\n",
       "\u001b[39m    \u001b[0m\u001b[32m'MNIST_<jacob|conv\u001b[0m\u001b[32m>\u001b[0m\u001b[32m_\u001b[0m\u001b[32m(\u001b[0m\u001b[32m16,8.0\u001b[0m\u001b[32m)\u001b[0m\u001b[32m'\u001b[0m\n",
       "\u001b[1m]\u001b[0m\n"
      ]
     },
     "metadata": {},
     "output_type": "display_data"
    }
   ],
   "source": [
    "selected_models = [\n",
    "    '<jacob|mlp>_(4,1.5)',\n",
    "    '<jacob|mlp>_(16,8.0)',\n",
    "    '<jacob|mlp>_(64,24.0)',\n",
    "    '<jacob|conv>_(4,1.5)',\n",
    "    '<jacob|conv>_(16,8.0)',\n",
    "    # '<jacob|conv>_(32,16.0)',\n",
    "]\n",
    "selected_models = ['MNIST_' + s for s in selected_models]\n",
    "print(selected_models)"
   ]
  },
  {
   "cell_type": "code",
   "execution_count": 7,
   "id": "3e30ced6-18cd-43ec-8df7-eabc3e97f6b2",
   "metadata": {},
   "outputs": [
    {
     "data": {
      "text/html": [
       "<pre style=\"white-space:pre;overflow-x:auto;line-height:normal;font-family:Menlo,'DejaVu Sans Mono',consolas,'Courier New',monospace\">MNIST_<span style=\"font-weight: bold\">&lt;</span><span style=\"color: #ff00ff; text-decoration-color: #ff00ff; font-weight: bold\">jacob|mlp</span><span style=\"font-weight: bold\">&gt;</span><span style=\"color: #800080; text-decoration-color: #800080; font-weight: bold\">_</span><span style=\"font-weight: bold\">(</span><span style=\"color: #008080; text-decoration-color: #008080; font-weight: bold\">4</span>,<span style=\"color: #008080; text-decoration-color: #008080; font-weight: bold\">1.5</span><span style=\"font-weight: bold\">)</span>       checkpoint: <span style=\"color: #008080; text-decoration-color: #008080; font-weight: bold\">400</span>\n",
       "</pre>\n"
      ],
      "text/plain": [
       "MNIST_\u001b[1m<\u001b[0m\u001b[1;95mjacob|mlp\u001b[0m\u001b[1m>\u001b[0m\u001b[1;35m_\u001b[0m\u001b[1m(\u001b[0m\u001b[1;36m4\u001b[0m,\u001b[1;36m1.5\u001b[0m\u001b[1m)\u001b[0m       checkpoint: \u001b[1;36m400\u001b[0m\n"
      ]
     },
     "metadata": {},
     "output_type": "display_data"
    },
    {
     "data": {
      "text/html": [
       "<pre style=\"white-space:pre;overflow-x:auto;line-height:normal;font-family:Menlo,'DejaVu Sans Mono',consolas,'Courier New',monospace\">MNIST_<span style=\"font-weight: bold\">&lt;</span><span style=\"color: #ff00ff; text-decoration-color: #ff00ff; font-weight: bold\">jacob|mlp</span><span style=\"font-weight: bold\">&gt;</span><span style=\"color: #800080; text-decoration-color: #800080; font-weight: bold\">_</span><span style=\"font-weight: bold\">(</span><span style=\"color: #008080; text-decoration-color: #008080; font-weight: bold\">16</span>,<span style=\"color: #008080; text-decoration-color: #008080; font-weight: bold\">8.0</span><span style=\"font-weight: bold\">)</span>      checkpoint: <span style=\"color: #008080; text-decoration-color: #008080; font-weight: bold\">400</span>\n",
       "</pre>\n"
      ],
      "text/plain": [
       "MNIST_\u001b[1m<\u001b[0m\u001b[1;95mjacob|mlp\u001b[0m\u001b[1m>\u001b[0m\u001b[1;35m_\u001b[0m\u001b[1m(\u001b[0m\u001b[1;36m16\u001b[0m,\u001b[1;36m8.0\u001b[0m\u001b[1m)\u001b[0m      checkpoint: \u001b[1;36m400\u001b[0m\n"
      ]
     },
     "metadata": {},
     "output_type": "display_data"
    },
    {
     "data": {
      "text/html": [
       "<pre style=\"white-space:pre;overflow-x:auto;line-height:normal;font-family:Menlo,'DejaVu Sans Mono',consolas,'Courier New',monospace\">MNIST_<span style=\"font-weight: bold\">&lt;</span><span style=\"color: #ff00ff; text-decoration-color: #ff00ff; font-weight: bold\">jacob|mlp</span><span style=\"font-weight: bold\">&gt;</span><span style=\"color: #800080; text-decoration-color: #800080; font-weight: bold\">_</span><span style=\"font-weight: bold\">(</span><span style=\"color: #008080; text-decoration-color: #008080; font-weight: bold\">64</span>,<span style=\"color: #008080; text-decoration-color: #008080; font-weight: bold\">24.0</span><span style=\"font-weight: bold\">)</span>     checkpoint: <span style=\"color: #008080; text-decoration-color: #008080; font-weight: bold\">400</span>\n",
       "</pre>\n"
      ],
      "text/plain": [
       "MNIST_\u001b[1m<\u001b[0m\u001b[1;95mjacob|mlp\u001b[0m\u001b[1m>\u001b[0m\u001b[1;35m_\u001b[0m\u001b[1m(\u001b[0m\u001b[1;36m64\u001b[0m,\u001b[1;36m24.0\u001b[0m\u001b[1m)\u001b[0m     checkpoint: \u001b[1;36m400\u001b[0m\n"
      ]
     },
     "metadata": {},
     "output_type": "display_data"
    },
    {
     "data": {
      "text/html": [
       "<pre style=\"white-space:pre;overflow-x:auto;line-height:normal;font-family:Menlo,'DejaVu Sans Mono',consolas,'Courier New',monospace\">MNIST_<span style=\"font-weight: bold\">&lt;</span><span style=\"color: #ff00ff; text-decoration-color: #ff00ff; font-weight: bold\">jacob|conv</span><span style=\"font-weight: bold\">&gt;</span><span style=\"color: #800080; text-decoration-color: #800080; font-weight: bold\">_</span><span style=\"font-weight: bold\">(</span><span style=\"color: #008080; text-decoration-color: #008080; font-weight: bold\">4</span>,<span style=\"color: #008080; text-decoration-color: #008080; font-weight: bold\">1.5</span><span style=\"font-weight: bold\">)</span>      checkpoint: <span style=\"color: #008080; text-decoration-color: #008080; font-weight: bold\">400</span>\n",
       "</pre>\n"
      ],
      "text/plain": [
       "MNIST_\u001b[1m<\u001b[0m\u001b[1;95mjacob|conv\u001b[0m\u001b[1m>\u001b[0m\u001b[1;35m_\u001b[0m\u001b[1m(\u001b[0m\u001b[1;36m4\u001b[0m,\u001b[1;36m1.5\u001b[0m\u001b[1m)\u001b[0m      checkpoint: \u001b[1;36m400\u001b[0m\n"
      ]
     },
     "metadata": {},
     "output_type": "display_data"
    },
    {
     "data": {
      "text/html": [
       "<pre style=\"white-space:pre;overflow-x:auto;line-height:normal;font-family:Menlo,'DejaVu Sans Mono',consolas,'Courier New',monospace\">MNIST_<span style=\"font-weight: bold\">&lt;</span><span style=\"color: #ff00ff; text-decoration-color: #ff00ff; font-weight: bold\">jacob|conv</span><span style=\"font-weight: bold\">&gt;</span><span style=\"color: #800080; text-decoration-color: #800080; font-weight: bold\">_</span><span style=\"font-weight: bold\">(</span><span style=\"color: #008080; text-decoration-color: #008080; font-weight: bold\">16</span>,<span style=\"color: #008080; text-decoration-color: #008080; font-weight: bold\">8.0</span><span style=\"font-weight: bold\">)</span>     checkpoint: <span style=\"color: #008080; text-decoration-color: #008080; font-weight: bold\">400</span>\n",
       "</pre>\n"
      ],
      "text/plain": [
       "MNIST_\u001b[1m<\u001b[0m\u001b[1;95mjacob|conv\u001b[0m\u001b[1m>\u001b[0m\u001b[1;35m_\u001b[0m\u001b[1m(\u001b[0m\u001b[1;36m16\u001b[0m,\u001b[1;36m8.0\u001b[0m\u001b[1m)\u001b[0m     checkpoint: \u001b[1;36m400\u001b[0m\n"
      ]
     },
     "metadata": {},
     "output_type": "display_data"
    }
   ],
   "source": [
    "trainers = {}\n",
    "for name in selected_models:\n",
    "    tr, meta = load_model(\n",
    "        **mnist_to_load[name])\n",
    "    trainers[name] = tr\n",
    "\n",
    "    print(f\"{name}\\tcheckpoint: {meta['checkpoint']}\")"
   ]
  },
  {
   "cell_type": "code",
   "execution_count": null,
   "id": "dff414d9-b990-4f39-9fd1-0867f386e3f8",
   "metadata": {},
   "outputs": [],
   "source": []
  },
  {
   "cell_type": "markdown",
   "id": "09777d9b-7e0d-498e-97a5-d3e6c290f0ab",
   "metadata": {},
   "source": [
    "### mk df"
   ]
  },
  {
   "cell_type": "code",
   "execution_count": 8,
   "id": "149d518e-e85f-40ab-a2d3-0ce056bac53f",
   "metadata": {},
   "outputs": [
    {
     "name": "stderr",
     "output_type": "stream",
     "text": [
      "100%|████████████████████████████████████████████| 5/5 [52:08<00:00, 625.77s/it]\n"
     ]
    }
   ],
   "source": [
    "df = []\n",
    "\n",
    "n_data_batches = None\n",
    "for name, tr in tqdm(trainers.items()):\n",
    "\n",
    "    seq_total = 1 if tr.model.cfg.seq_len == 1 else 1000\n",
    "    kws_analysis = dict(\n",
    "        seq_total=seq_total,\n",
    "        n_data_batches=n_data_batches,\n",
    "        verbose=False,\n",
    "    )\n",
    "    vld = make_dataset('Omniglot', tr.device)[1]\n",
    "    results = tr.analysis(vld, **kws_analysis)\n",
    "    \n",
    "    df.append({\n",
    "        'src_ds': ['MNIST'] * seq_total,\n",
    "        'tgt_ds': ['Omniglot'] * seq_total,\n",
    "        'name': [name] * seq_total,\n",
    "        'n_iters_train': [tr.model.cfg.seq_len] * seq_total,\n",
    "        'beta': [tr.cfg.kl_beta] * seq_total,\n",
    "        'time': range(seq_total),\n",
    "        'mse': results['mse'],\n",
    "        'nelbo': results['nelbo'],\n",
    "        'lifetime': results['lifetime'],\n",
    "    })\n",
    "\n",
    "df = pd.DataFrame(merge_dicts(df))"
   ]
  },
  {
   "cell_type": "code",
   "execution_count": null,
   "id": "5859911a-9a0e-46a6-8363-f2e12b094b87",
   "metadata": {},
   "outputs": [],
   "source": []
  },
  {
   "cell_type": "code",
   "execution_count": 10,
   "id": "2a4b0e40-66a7-4649-a4c0-5262b50f13c4",
   "metadata": {},
   "outputs": [
    {
     "data": {
      "text/html": [
       "<pre style=\"white-space:pre;overflow-x:auto;line-height:normal;font-family:Menlo,'DejaVu Sans Mono',consolas,'Courier New',monospace\"><span style=\"font-weight: bold\">[</span>PROGRESS<span style=\"font-weight: bold\">]</span> <span style=\"color: #008000; text-decoration-color: #008000\">'df_converge_mnist2omni.df'</span> saved at\n",
       "<span style=\"color: #800080; text-decoration-color: #800080\">/home/hadi/Dropbox/git/jb-vae/</span><span style=\"color: #ff00ff; text-decoration-color: #ff00ff\">tmp</span>\n",
       "</pre>\n"
      ],
      "text/plain": [
       "\u001b[1m[\u001b[0mPROGRESS\u001b[1m]\u001b[0m \u001b[32m'df_converge_mnist2omni.df'\u001b[0m saved at\n",
       "\u001b[35m/home/hadi/Dropbox/git/jb-vae/\u001b[0m\u001b[95mtmp\u001b[0m\n"
      ]
     },
     "metadata": {},
     "output_type": "display_data"
    }
   ],
   "source": [
    "save_obj(\n",
    "    obj=df,\n",
    "    file_name='df_converge_mnist2omni',\n",
    "    save_dir=tmp_dir,\n",
    "    mode='df',\n",
    ")"
   ]
  },
  {
   "cell_type": "code",
   "execution_count": null,
   "id": "c327cf41-8521-4c2a-a4f4-a1cfe4e62eae",
   "metadata": {},
   "outputs": [],
   "source": []
  },
  {
   "cell_type": "code",
   "execution_count": null,
   "id": "23066a18-4b27-4c26-ba77-f6e91769d6ff",
   "metadata": {},
   "outputs": [],
   "source": []
  },
  {
   "cell_type": "code",
   "execution_count": 11,
   "id": "a80308e1-b3cf-4e8b-8d47-6b82fbd8244f",
   "metadata": {},
   "outputs": [
    {
     "data": {
      "text/html": [
       "<pre style=\"white-space:pre;overflow-x:auto;line-height:normal;font-family:Menlo,'DejaVu Sans Mono',consolas,'Courier New',monospace\"><span style=\"font-weight: bold\">[</span>\n",
       "    <span style=\"color: #008000; text-decoration-color: #008000\">'MNIST_&lt;jacob|conv&gt;_(16,8.0)'</span><span style=\"color: #000000; text-decoration-color: #000000\">,</span>\n",
       "<span style=\"color: #000000; text-decoration-color: #000000\">    </span><span style=\"color: #008000; text-decoration-color: #008000\">'MNIST_&lt;jacob|conv&gt;_(4,1.5)'</span><span style=\"color: #000000; text-decoration-color: #000000\">,</span>\n",
       "<span style=\"color: #000000; text-decoration-color: #000000\">    </span><span style=\"color: #008000; text-decoration-color: #008000\">'MNIST_&lt;jacob|mlp&gt;_(16,8.0)'</span><span style=\"color: #000000; text-decoration-color: #000000\">,</span>\n",
       "<span style=\"color: #000000; text-decoration-color: #000000\">    </span><span style=\"color: #008000; text-decoration-color: #008000\">'MNIST_&lt;jacob|mlp&gt;_(4,1.5)'</span><span style=\"color: #000000; text-decoration-color: #000000\">,</span>\n",
       "<span style=\"color: #000000; text-decoration-color: #000000\">    </span><span style=\"color: #008000; text-decoration-color: #008000\">'MNIST_&lt;jacob|mlp&gt;_(64,24.0)'</span>\n",
       "<span style=\"font-weight: bold\">]</span>\n",
       "</pre>\n"
      ],
      "text/plain": [
       "\u001b[1m[\u001b[0m\n",
       "    \u001b[32m'MNIST_\u001b[0m\u001b[32m<\u001b[0m\u001b[32mjacob|conv\u001b[0m\u001b[32m>_\u001b[0m\u001b[32m(\u001b[0m\u001b[32m16,8.0\u001b[0m\u001b[32m)\u001b[0m\u001b[32m'\u001b[0m\u001b[39m,\u001b[0m\n",
       "\u001b[39m    \u001b[0m\u001b[32m'MNIST_<jacob|conv>_\u001b[0m\u001b[32m(\u001b[0m\u001b[32m4,1.5\u001b[0m\u001b[32m)\u001b[0m\u001b[32m'\u001b[0m\u001b[39m,\u001b[0m\n",
       "\u001b[39m    \u001b[0m\u001b[32m'MNIST_<jacob|mlp>_\u001b[0m\u001b[32m(\u001b[0m\u001b[32m16,8.0\u001b[0m\u001b[32m)\u001b[0m\u001b[32m'\u001b[0m\u001b[39m,\u001b[0m\n",
       "\u001b[39m    \u001b[0m\u001b[32m'MNIST_<jacob|mlp>_\u001b[0m\u001b[32m(\u001b[0m\u001b[32m4,1.5\u001b[0m\u001b[32m)\u001b[0m\u001b[32m'\u001b[0m\u001b[39m,\u001b[0m\n",
       "\u001b[39m    \u001b[0m\u001b[32m'MNIST_<jacob|mlp\u001b[0m\u001b[32m>\u001b[0m\u001b[32m_\u001b[0m\u001b[32m(\u001b[0m\u001b[32m64,24.0\u001b[0m\u001b[32m)\u001b[0m\u001b[32m'\u001b[0m\n",
       "\u001b[1m]\u001b[0m\n"
      ]
     },
     "metadata": {},
     "output_type": "display_data"
    }
   ],
   "source": [
    "names = sorted(df['name'].unique())\n",
    "print(names)"
   ]
  },
  {
   "cell_type": "code",
   "execution_count": null,
   "id": "41696fd9-a744-4f47-86ad-e5a47e667696",
   "metadata": {},
   "outputs": [],
   "source": []
  },
  {
   "cell_type": "code",
   "execution_count": 12,
   "id": "f3d545fb-11cd-4728-af72-60edeeb04bf2",
   "metadata": {},
   "outputs": [
    {
     "data": {
      "text/html": [
       "<svg  width=\"165\" height=\"55\"><rect x=\"0\" y=\"0\" width=\"55\" height=\"55\" style=\"fill:#95bcd7;stroke-width:2;stroke:rgb(255,255,255)\"/><rect x=\"55\" y=\"0\" width=\"55\" height=\"55\" style=\"fill:#5a8baa;stroke-width:2;stroke:rgb(255,255,255)\"/><rect x=\"110\" y=\"0\" width=\"55\" height=\"55\" style=\"fill:#2b566e;stroke-width:2;stroke:rgb(255,255,255)\"/></svg>"
      ],
      "text/plain": [
       "[[0.5824870441488921, 0.7363453335709885, 0.8433717011545296],\n",
       " [0.3539515775044114, 0.546748869622813, 0.6653947680423337],\n",
       " [0.16988211962067074, 0.3386232545510099, 0.4298800647405776]]"
      ]
     },
     "metadata": {},
     "output_type": "display_data"
    },
    {
     "data": {
      "text/html": [
       "<svg  width=\"165\" height=\"55\"><rect x=\"0\" y=\"0\" width=\"55\" height=\"55\" style=\"fill:#dc9cbc;stroke-width:2;stroke:rgb(255,255,255)\"/><rect x=\"55\" y=\"0\" width=\"55\" height=\"55\" style=\"fill:#b1658c;stroke-width:2;stroke:rgb(255,255,255)\"/><rect x=\"110\" y=\"0\" width=\"55\" height=\"55\" style=\"fill:#743558;stroke-width:2;stroke:rgb(255,255,255)\"/></svg>"
      ],
      "text/plain": [
       "[[0.8645027806639409, 0.6130500616242651, 0.7355509855551107],\n",
       " [0.69406441420036, 0.39526932513071356, 0.5502981253898998],\n",
       " [0.456754933872734, 0.20850154256328235, 0.3454274980888438]]"
      ]
     },
     "metadata": {},
     "output_type": "display_data"
    }
   ],
   "source": [
    "pal_models = get_palette_models()\n",
    "cube_1, cube_2 = get_palette_cube()\n",
    "\n",
    "display(cube_1)\n",
    "display(cube_2)"
   ]
  },
  {
   "cell_type": "code",
   "execution_count": null,
   "id": "c30c23b1-5ff6-4e79-8183-6226f487a383",
   "metadata": {},
   "outputs": [],
   "source": []
  },
  {
   "cell_type": "code",
   "execution_count": 13,
   "id": "08f2a735-6666-4299-b55f-7a5ca7d22cc4",
   "metadata": {},
   "outputs": [],
   "source": [
    "selected_models = {\n",
    "    'mlp': ['(4,1.5)', '(16,8.0)', '(64,24.0)'],\n",
    "    'conv': ['(4,1.5)', '(16,8.0)'],  # '(32,16.0)'],\n",
    "}\n",
    "pal = {\n",
    "    'mlp': dict(zip(selected_models['mlp'], cube_1)),\n",
    "    'conv': dict(zip(selected_models['conv'], cube_2)),\n",
    "}"
   ]
  },
  {
   "cell_type": "code",
   "execution_count": null,
   "id": "cf8e6558-536d-45e4-9b3c-ff03ea2e6f66",
   "metadata": {},
   "outputs": [],
   "source": []
  },
  {
   "cell_type": "code",
   "execution_count": 14,
   "id": "fb349f58-777c-4d01-804e-e410bc146994",
   "metadata": {},
   "outputs": [
    {
     "data": {
      "image/png": "[encoded data removed]",
      "text/plain": [
       "<Figure size 900x240 with 3 Axes>"
      ]
     },
     "metadata": {},
     "output_type": "display_data"
    }
   ],
   "source": [
    "fig, axes = create_figure(1, 3, (9.0, 2.4), sharex='all', sharey='all')\n",
    "\n",
    "for i, (archi, selected) in enumerate(selected_models.items()):\n",
    "    for item in selected:\n",
    "        name = f'MNIST_<jacob|{archi}>_{item}'\n",
    "        _df = df.loc[df['name'] == name]\n",
    "        if not len(_df):\n",
    "            continue\n",
    "        x2p = _df['mse'].to_numpy()\n",
    "    \n",
    "        ax = axes[i]\n",
    "        label = r\"$T_\\text{train} = $\"\n",
    "        label += str(_df['n_iters_train'].unique().item())\n",
    "        ax = convergence_subplot(ax, x2p, label, color=pal[archi][item], legend_title=' ', legend=True)\n",
    "        ax.tick_params(direction='in', which='both')\n",
    "\n",
    "ax = axes[2]\n",
    "for label, x2p in mse_outside.items():\n",
    "    ax = convergence_subplot(ax, x2p[1:], label, color=pal_models[label], legend=True)\n",
    "ax.tick_params(direction='in', which='both')\n",
    "\n",
    "# axes[0].tick_params(axis='y', pad=-28)"
   ]
  },
  {
   "cell_type": "code",
   "execution_count": 15,
   "id": "d1c51d14-a679-42cb-a314-116fb05f6bda",
   "metadata": {},
   "outputs": [],
   "source": [
    "fig.savefig(pjoin(fig_dir, 'convergence_mse_mnist2omni.pdf'), **kws_fig)"
   ]
  },
  {
   "cell_type": "code",
   "execution_count": null,
   "id": "104d1d12-0aa1-49b3-a291-aa6ccc0df970",
   "metadata": {},
   "outputs": [],
   "source": []
  },
  {
   "cell_type": "code",
   "execution_count": null,
   "id": "b940f1e7-9c94-4f5f-9367-c385ead8d25e",
   "metadata": {},
   "outputs": [],
   "source": []
  },
  {
   "cell_type": "code",
   "execution_count": 16,
   "id": "a01ca285-6056-4a69-8ded-65c6045b1a96",
   "metadata": {},
   "outputs": [
    {
     "data": {
      "text/plain": [
       "array([18.910858, 18.909151, 18.908768], dtype=float32)"
      ]
     },
     "execution_count": 16,
     "metadata": {},
     "output_type": "execute_result"
    }
   ],
   "source": [
    "_df = df.loc[df['name'] == 'MNIST_<jacob|mlp>_(64,24.0)']\n",
    "_df['mse'][-3:].to_numpy()"
   ]
  },
  {
   "cell_type": "code",
   "execution_count": 17,
   "id": "756dbae2-ba8c-4a78-adab-6ec9cd08fc8a",
   "metadata": {},
   "outputs": [
    {
     "data": {
      "text/plain": [
       "array([22.917616, 22.86428 , 22.881382], dtype=float32)"
      ]
     },
     "execution_count": 17,
     "metadata": {},
     "output_type": "execute_result"
    }
   ],
   "source": [
    "_df = df.loc[df['name'] == 'MNIST_<jacob|conv>_(16,8.0)']\n",
    "_df['mse'][-3:].to_numpy()"
   ]
  },
  {
   "cell_type": "code",
   "execution_count": null,
   "id": "06d59c4f-acc8-43dc-98a1-11dd8c69a038",
   "metadata": {},
   "outputs": [],
   "source": []
  },
  {
   "cell_type": "code",
   "execution_count": null,
   "id": "d2305901-f279-4d7a-858b-92a14649288d",
   "metadata": {},
   "outputs": [],
   "source": []
  },
  {
   "cell_type": "code",
   "execution_count": null,
   "id": "012d8068-0c11-4ea4-9128-2b477bfa5e9a",
   "metadata": {},
   "outputs": [],
   "source": []
  }
 ],
 "metadata": {
  "kernelspec": {
   "display_name": "Python 3 (ipykernel)",
   "language": "python",
   "name": "python3"
  },
  "language_info": {
   "codemirror_mode": {
    "name": "ipython",
    "version": 3
   },
   "file_extension": ".py",
   "mimetype": "text/x-python",
   "name": "python",
   "nbconvert_exporter": "python",
   "pygments_lexer": "ipython3",
   "version": "3.11.7"
  }
 },
 "nbformat": 4,
 "nbformat_minor": 5
}
