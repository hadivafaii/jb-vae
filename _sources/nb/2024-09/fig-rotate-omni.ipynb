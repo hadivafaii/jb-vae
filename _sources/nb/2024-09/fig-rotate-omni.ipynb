{
 "cells": [
  {
   "cell_type": "markdown",
   "id": "48f55a35-d5b5-468f-b574-730df61e9609",
   "metadata": {},
   "source": [
    "# fig — rotate (omni)\n",
    "\n",
    "**Motivation**: host = ```mach```, device = ```cuda:1``` <br>"
   ]
  },
  {
   "cell_type": "code",
   "execution_count": 1,
   "id": "f823b1e9-05f2-49a0-8296-4a1819c12e81",
   "metadata": {
    "tags": [
     "hide-input"
    ]
   },
   "outputs": [],
   "source": [
    "# HIDE CODE\n",
    "\n",
    "\n",
    "import os, sys\n",
    "from IPython.display import display\n",
    "\n",
    "# tmp & extras dir\n",
    "git_dir = os.path.join(os.environ['HOME'], 'Dropbox/git')\n",
    "extras_dir = os.path.join(git_dir, 'jb-vae/_extras')\n",
    "fig_base_dir = os.path.join(git_dir, 'jb-vae/figs')\n",
    "tmp_dir = os.path.join(git_dir, 'jb-vae/tmp')\n",
    "\n",
    "# GitHub\n",
    "sys.path.insert(0, os.path.join(git_dir, '_IterativeVAE'))\n",
    "from figures.fighelper import *\n",
    "from vae.train_vae import *\n",
    "\n",
    "# warnings, tqdm, & style\n",
    "warnings.filterwarnings('ignore', category=DeprecationWarning)\n",
    "warnings.filterwarnings('ignore', category=FutureWarning)\n",
    "warnings.filterwarnings('ignore', category=UserWarning)\n",
    "from rich.jupyter import print\n",
    "%matplotlib inline\n",
    "set_style()"
   ]
  },
  {
   "cell_type": "code",
   "execution_count": 2,
   "id": "c593fd74-a832-4cb5-9e1e-1280d25b4bbc",
   "metadata": {},
   "outputs": [],
   "source": [
    "def _extract_model_type(name):\n",
    "    mapping = {\n",
    "        'SAVAE': 'sa-VAE',\n",
    "        'MARINO-single': 'ia-VAE (single-level)',\n",
    "        'MARINO-hier': 'ia-VAE (hierarchical)'\n",
    "    }\n",
    "    \n",
    "    if '~' not in name:\n",
    "        name = '~'.join(f.split('_')[:-1])\n",
    "    model = name.split('~')[0]\n",
    "    if 'hierarchical' in name:\n",
    "        model = f\"{model}-hier\"\n",
    "    elif 'single' in name:\n",
    "        model = f\"{model}-single\"\n",
    "    elif model == 'SAVAE':\n",
    "        pass\n",
    "    else:\n",
    "        raise ValueError(name)\n",
    "\n",
    "    model = mapping[model]\n",
    "    return model"
   ]
  },
  {
   "cell_type": "code",
   "execution_count": 3,
   "id": "45357127-b675-4e68-ba95-938ea8612cad",
   "metadata": {},
   "outputs": [
    {
     "data": {
      "text/html": [
       "<pre style=\"white-space:pre;overflow-x:auto;line-height:normal;font-family:Menlo,'DejaVu Sans Mono',consolas,'Courier New',monospace\">device: cu<span style=\"color: #00ff00; text-decoration-color: #00ff00; font-weight: bold\">da:1</span>  ———  host: mach\n",
       "</pre>\n"
      ],
      "text/plain": [
       "device: cu\u001b[1;92mda:1\u001b[0m  ———  host: mach\n"
      ]
     },
     "metadata": {},
     "output_type": "display_data"
    }
   ],
   "source": [
    "from analysis.chosen import *\n",
    "from figures.analysis import *\n",
    "from analysis.corrupt import (\n",
    "    perform_corruption_analysis,\n",
    "    LogisticRegression,\n",
    ")\n",
    "\n",
    "device_idx = 1\n",
    "device = f'cuda:{device_idx}'\n",
    "\n",
    "print(f\"device: {device}  ———  host: {os.uname().nodename}\")"
   ]
  },
  {
   "cell_type": "code",
   "execution_count": 4,
   "id": "68e68fe7-9f19-4e7e-9574-9bf8ccb76bcb",
   "metadata": {},
   "outputs": [
    {
     "data": {
      "text/html": [
       "<pre style=\"white-space:pre;overflow-x:auto;line-height:normal;font-family:Menlo,'DejaVu Sans Mono',consolas,'Courier New',monospace\"><span style=\"font-weight: bold\">[</span><span style=\"color: #008000; text-decoration-color: #008000\">'MNIST_&lt;mlp|mlp&gt;_(64,24.0)'</span><span style=\"color: #000000; text-decoration-color: #000000\">, </span><span style=\"color: #008000; text-decoration-color: #008000\">'MNIST_&lt;jacob|mlp&gt;_(64,24.0)'</span><span style=\"font-weight: bold\">]</span>\n",
       "</pre>\n"
      ],
      "text/plain": [
       "\u001b[1m[\u001b[0m\u001b[32m'MNIST_\u001b[0m\u001b[32m<\u001b[0m\u001b[32mmlp|mlp\u001b[0m\u001b[32m>_\u001b[0m\u001b[32m(\u001b[0m\u001b[32m64,24.0\u001b[0m\u001b[32m)\u001b[0m\u001b[32m'\u001b[0m\u001b[39m, \u001b[0m\u001b[32m'MNIST_<jacob|mlp\u001b[0m\u001b[32m>\u001b[0m\u001b[32m_\u001b[0m\u001b[32m(\u001b[0m\u001b[32m64,24.0\u001b[0m\u001b[32m)\u001b[0m\u001b[32m'\u001b[0m\u001b[1m]\u001b[0m\n"
      ]
     },
     "metadata": {},
     "output_type": "display_data"
    }
   ],
   "source": [
    "fig_base_dir = pjoin(fig_base_dir, 'iclr_oct02', 'rotate')\n",
    "os.makedirs(fig_base_dir, exist_ok=True)\n",
    "print(os.listdir(fig_base_dir))\n",
    "\n",
    "kws_fig = {\n",
    "    'transparent': True,\n",
    "    'bbox_inches': 'tight',\n",
    "    'dpi': 300,\n",
    "}"
   ]
  },
  {
   "cell_type": "markdown",
   "id": "2c7e848e-48c3-460c-abdc-250a45953a67",
   "metadata": {},
   "source": [
    "## iP-VAE"
   ]
  },
  {
   "cell_type": "code",
   "execution_count": 5,
   "id": "117ca188-7ece-4abb-aa04-622235f7bf95",
   "metadata": {},
   "outputs": [
    {
     "data": {
      "text/html": [
       "<pre style=\"white-space:pre;overflow-x:auto;line-height:normal;font-family:Menlo,'DejaVu Sans Mono',consolas,'Courier New',monospace\"><span style=\"font-weight: bold\">[</span><span style=\"color: #008000; text-decoration-color: #008000\">'Omniglot_&lt;jacob|mlp&gt;_(64,24.0)'</span><span style=\"color: #000000; text-decoration-color: #000000\">, </span><span style=\"color: #008000; text-decoration-color: #008000\">'Omniglot_&lt;mlp|mlp&gt;_(64,24.0)'</span><span style=\"font-weight: bold\">]</span>\n",
       "</pre>\n"
      ],
      "text/plain": [
       "\u001b[1m[\u001b[0m\u001b[32m'Omniglot_\u001b[0m\u001b[32m<\u001b[0m\u001b[32mjacob|mlp\u001b[0m\u001b[32m>_\u001b[0m\u001b[32m(\u001b[0m\u001b[32m64,24.0\u001b[0m\u001b[32m)\u001b[0m\u001b[32m'\u001b[0m\u001b[39m, \u001b[0m\u001b[32m'Omniglot_<mlp|mlp\u001b[0m\u001b[32m>\u001b[0m\u001b[32m_\u001b[0m\u001b[32m(\u001b[0m\u001b[32m64,24.0\u001b[0m\u001b[32m)\u001b[0m\u001b[32m'\u001b[0m\u001b[1m]\u001b[0m\n"
      ]
     },
     "metadata": {},
     "output_type": "display_data"
    }
   ],
   "source": [
    "models_to_load = selected_models_28x28(device)\n",
    "models_to_load = {\n",
    "    m: d for m, d in\n",
    "    models_to_load.items()\n",
    "    if m.startswith('Omni')\n",
    "    and 'mlp' in m  # no conv\n",
    "}\n",
    "models_to_load = dict(sorted(\n",
    "    models_to_load.items(),\n",
    "    key=lambda t: alphanum_sort_key(t[0]),\n",
    "))\n",
    "print(list(models_to_load))"
   ]
  },
  {
   "cell_type": "code",
   "execution_count": 6,
   "id": "9a57e38c-a76b-47d5-b00e-1884d899c406",
   "metadata": {},
   "outputs": [],
   "source": [
    "trainers = {}\n",
    "for model_name, kws_load in models_to_load.items():\n",
    "    trainers[model_name] = load_model(**kws_load)[0]"
   ]
  },
  {
   "cell_type": "markdown",
   "id": "171c95cb-913d-49e0-802b-853ef87895af",
   "metadata": {},
   "source": [
    "## Rotated files"
   ]
  },
  {
   "cell_type": "code",
   "execution_count": 7,
   "id": "97805251-cb5b-4fd8-b6a1-db8702f35c24",
   "metadata": {},
   "outputs": [],
   "source": [
    "load_dir = pjoin(tmp_dir, 'corrupted_data')\n",
    "files = sorted(os.listdir(load_dir), key=alphanum_sort_key)\n",
    "\n",
    "tgt_ds = 'Omniglot'\n",
    "pat = 'rotate-angle'\n",
    "thetas = np.arange(15, 180 + 1, 15)\n",
    "\n",
    "file_paths = {}\n",
    "for theta in thetas:\n",
    "    f = next(\n",
    "        f for f in files if (\n",
    "            f.startswith(tgt_ds) and\n",
    "            f\"{pat}-{theta}\" in f\n",
    "        )\n",
    "    )\n",
    "    analysis_name = f.split('.')[0]\n",
    "    key = (theta, analysis_name)\n",
    "    file_paths[key] = pjoin(load_dir, f)"
   ]
  },
  {
   "cell_type": "code",
   "execution_count": 8,
   "id": "c7f39e89-0eaf-492b-b7c0-e91fd1fb7fa5",
   "metadata": {},
   "outputs": [
    {
     "data": {
      "text/html": [
       "<pre style=\"white-space:pre;overflow-x:auto;line-height:normal;font-family:Menlo,'DejaVu Sans Mono',consolas,'Courier New',monospace\"><span style=\"font-weight: bold\">{</span><span style=\"color: #008000; text-decoration-color: #008000\">'corruption_type'</span>: <span style=\"color: #008000; text-decoration-color: #008000\">'rotate'</span>, <span style=\"color: #008000; text-decoration-color: #008000\">'corruption_kws'</span>: <span style=\"font-weight: bold\">{</span><span style=\"color: #008000; text-decoration-color: #008000\">'angle'</span>: <span style=\"color: #008080; text-decoration-color: #008080; font-weight: bold\">15</span>, <span style=\"color: #008000; text-decoration-color: #008000\">'hist_match'</span>: <span style=\"color: #00ff00; text-decoration-color: #00ff00; font-style: italic\">True</span>, <span style=\"color: #008000; text-decoration-color: #008000\">'interpolation'</span>: <span style=\"color: #008000; text-decoration-color: #008000\">'bilinear'</span><span style=\"font-weight: bold\">}}</span>\n",
       "</pre>\n"
      ],
      "text/plain": [
       "\u001b[1m{\u001b[0m\u001b[32m'corruption_type'\u001b[0m: \u001b[32m'rotate'\u001b[0m, \u001b[32m'corruption_kws'\u001b[0m: \u001b[1m{\u001b[0m\u001b[32m'angle'\u001b[0m: \u001b[1;36m15\u001b[0m, \u001b[32m'hist_match'\u001b[0m: \u001b[3;92mTrue\u001b[0m, \u001b[32m'interpolation'\u001b[0m: \u001b[32m'bilinear'\u001b[0m\u001b[1m}\u001b[0m\u001b[1m}\u001b[0m\n"
      ]
     },
     "metadata": {},
     "output_type": "display_data"
    },
    {
     "data": {
      "text/html": [
       "<pre style=\"white-space:pre;overflow-x:auto;line-height:normal;font-family:Menlo,'DejaVu Sans Mono',consolas,'Courier New',monospace\"><span style=\"font-weight: bold\">{</span><span style=\"color: #008000; text-decoration-color: #008000\">'corruption_type'</span>: <span style=\"color: #008000; text-decoration-color: #008000\">'rotate'</span>, <span style=\"color: #008000; text-decoration-color: #008000\">'corruption_kws'</span>: <span style=\"font-weight: bold\">{</span><span style=\"color: #008000; text-decoration-color: #008000\">'angle'</span>: <span style=\"color: #008080; text-decoration-color: #008080; font-weight: bold\">30</span>, <span style=\"color: #008000; text-decoration-color: #008000\">'hist_match'</span>: <span style=\"color: #00ff00; text-decoration-color: #00ff00; font-style: italic\">True</span>, <span style=\"color: #008000; text-decoration-color: #008000\">'interpolation'</span>: <span style=\"color: #008000; text-decoration-color: #008000\">'bilinear'</span><span style=\"font-weight: bold\">}}</span>\n",
       "</pre>\n"
      ],
      "text/plain": [
       "\u001b[1m{\u001b[0m\u001b[32m'corruption_type'\u001b[0m: \u001b[32m'rotate'\u001b[0m, \u001b[32m'corruption_kws'\u001b[0m: \u001b[1m{\u001b[0m\u001b[32m'angle'\u001b[0m: \u001b[1;36m30\u001b[0m, \u001b[32m'hist_match'\u001b[0m: \u001b[3;92mTrue\u001b[0m, \u001b[32m'interpolation'\u001b[0m: \u001b[32m'bilinear'\u001b[0m\u001b[1m}\u001b[0m\u001b[1m}\u001b[0m\n"
      ]
     },
     "metadata": {},
     "output_type": "display_data"
    },
    {
     "data": {
      "text/html": [
       "<pre style=\"white-space:pre;overflow-x:auto;line-height:normal;font-family:Menlo,'DejaVu Sans Mono',consolas,'Courier New',monospace\"><span style=\"font-weight: bold\">{</span><span style=\"color: #008000; text-decoration-color: #008000\">'corruption_type'</span>: <span style=\"color: #008000; text-decoration-color: #008000\">'rotate'</span>, <span style=\"color: #008000; text-decoration-color: #008000\">'corruption_kws'</span>: <span style=\"font-weight: bold\">{</span><span style=\"color: #008000; text-decoration-color: #008000\">'angle'</span>: <span style=\"color: #008080; text-decoration-color: #008080; font-weight: bold\">45</span>, <span style=\"color: #008000; text-decoration-color: #008000\">'hist_match'</span>: <span style=\"color: #00ff00; text-decoration-color: #00ff00; font-style: italic\">True</span>, <span style=\"color: #008000; text-decoration-color: #008000\">'interpolation'</span>: <span style=\"color: #008000; text-decoration-color: #008000\">'bilinear'</span><span style=\"font-weight: bold\">}}</span>\n",
       "</pre>\n"
      ],
      "text/plain": [
       "\u001b[1m{\u001b[0m\u001b[32m'corruption_type'\u001b[0m: \u001b[32m'rotate'\u001b[0m, \u001b[32m'corruption_kws'\u001b[0m: \u001b[1m{\u001b[0m\u001b[32m'angle'\u001b[0m: \u001b[1;36m45\u001b[0m, \u001b[32m'hist_match'\u001b[0m: \u001b[3;92mTrue\u001b[0m, \u001b[32m'interpolation'\u001b[0m: \u001b[32m'bilinear'\u001b[0m\u001b[1m}\u001b[0m\u001b[1m}\u001b[0m\n"
      ]
     },
     "metadata": {},
     "output_type": "display_data"
    },
    {
     "data": {
      "text/html": [
       "<pre style=\"white-space:pre;overflow-x:auto;line-height:normal;font-family:Menlo,'DejaVu Sans Mono',consolas,'Courier New',monospace\"><span style=\"font-weight: bold\">{</span><span style=\"color: #008000; text-decoration-color: #008000\">'corruption_type'</span>: <span style=\"color: #008000; text-decoration-color: #008000\">'rotate'</span>, <span style=\"color: #008000; text-decoration-color: #008000\">'corruption_kws'</span>: <span style=\"font-weight: bold\">{</span><span style=\"color: #008000; text-decoration-color: #008000\">'angle'</span>: <span style=\"color: #008080; text-decoration-color: #008080; font-weight: bold\">60</span>, <span style=\"color: #008000; text-decoration-color: #008000\">'hist_match'</span>: <span style=\"color: #00ff00; text-decoration-color: #00ff00; font-style: italic\">True</span>, <span style=\"color: #008000; text-decoration-color: #008000\">'interpolation'</span>: <span style=\"color: #008000; text-decoration-color: #008000\">'bilinear'</span><span style=\"font-weight: bold\">}}</span>\n",
       "</pre>\n"
      ],
      "text/plain": [
       "\u001b[1m{\u001b[0m\u001b[32m'corruption_type'\u001b[0m: \u001b[32m'rotate'\u001b[0m, \u001b[32m'corruption_kws'\u001b[0m: \u001b[1m{\u001b[0m\u001b[32m'angle'\u001b[0m: \u001b[1;36m60\u001b[0m, \u001b[32m'hist_match'\u001b[0m: \u001b[3;92mTrue\u001b[0m, \u001b[32m'interpolation'\u001b[0m: \u001b[32m'bilinear'\u001b[0m\u001b[1m}\u001b[0m\u001b[1m}\u001b[0m\n"
      ]
     },
     "metadata": {},
     "output_type": "display_data"
    },
    {
     "data": {
      "text/html": [
       "<pre style=\"white-space:pre;overflow-x:auto;line-height:normal;font-family:Menlo,'DejaVu Sans Mono',consolas,'Courier New',monospace\"><span style=\"font-weight: bold\">{</span><span style=\"color: #008000; text-decoration-color: #008000\">'corruption_type'</span>: <span style=\"color: #008000; text-decoration-color: #008000\">'rotate'</span>, <span style=\"color: #008000; text-decoration-color: #008000\">'corruption_kws'</span>: <span style=\"font-weight: bold\">{</span><span style=\"color: #008000; text-decoration-color: #008000\">'angle'</span>: <span style=\"color: #008080; text-decoration-color: #008080; font-weight: bold\">75</span>, <span style=\"color: #008000; text-decoration-color: #008000\">'hist_match'</span>: <span style=\"color: #00ff00; text-decoration-color: #00ff00; font-style: italic\">True</span>, <span style=\"color: #008000; text-decoration-color: #008000\">'interpolation'</span>: <span style=\"color: #008000; text-decoration-color: #008000\">'bilinear'</span><span style=\"font-weight: bold\">}}</span>\n",
       "</pre>\n"
      ],
      "text/plain": [
       "\u001b[1m{\u001b[0m\u001b[32m'corruption_type'\u001b[0m: \u001b[32m'rotate'\u001b[0m, \u001b[32m'corruption_kws'\u001b[0m: \u001b[1m{\u001b[0m\u001b[32m'angle'\u001b[0m: \u001b[1;36m75\u001b[0m, \u001b[32m'hist_match'\u001b[0m: \u001b[3;92mTrue\u001b[0m, \u001b[32m'interpolation'\u001b[0m: \u001b[32m'bilinear'\u001b[0m\u001b[1m}\u001b[0m\u001b[1m}\u001b[0m\n"
      ]
     },
     "metadata": {},
     "output_type": "display_data"
    },
    {
     "data": {
      "text/html": [
       "<pre style=\"white-space:pre;overflow-x:auto;line-height:normal;font-family:Menlo,'DejaVu Sans Mono',consolas,'Courier New',monospace\"><span style=\"font-weight: bold\">{</span><span style=\"color: #008000; text-decoration-color: #008000\">'corruption_type'</span>: <span style=\"color: #008000; text-decoration-color: #008000\">'rotate'</span>, <span style=\"color: #008000; text-decoration-color: #008000\">'corruption_kws'</span>: <span style=\"font-weight: bold\">{</span><span style=\"color: #008000; text-decoration-color: #008000\">'angle'</span>: <span style=\"color: #008080; text-decoration-color: #008080; font-weight: bold\">90</span>, <span style=\"color: #008000; text-decoration-color: #008000\">'hist_match'</span>: <span style=\"color: #00ff00; text-decoration-color: #00ff00; font-style: italic\">True</span>, <span style=\"color: #008000; text-decoration-color: #008000\">'interpolation'</span>: <span style=\"color: #008000; text-decoration-color: #008000\">'bilinear'</span><span style=\"font-weight: bold\">}}</span>\n",
       "</pre>\n"
      ],
      "text/plain": [
       "\u001b[1m{\u001b[0m\u001b[32m'corruption_type'\u001b[0m: \u001b[32m'rotate'\u001b[0m, \u001b[32m'corruption_kws'\u001b[0m: \u001b[1m{\u001b[0m\u001b[32m'angle'\u001b[0m: \u001b[1;36m90\u001b[0m, \u001b[32m'hist_match'\u001b[0m: \u001b[3;92mTrue\u001b[0m, \u001b[32m'interpolation'\u001b[0m: \u001b[32m'bilinear'\u001b[0m\u001b[1m}\u001b[0m\u001b[1m}\u001b[0m\n"
      ]
     },
     "metadata": {},
     "output_type": "display_data"
    },
    {
     "data": {
      "text/html": [
       "<pre style=\"white-space:pre;overflow-x:auto;line-height:normal;font-family:Menlo,'DejaVu Sans Mono',consolas,'Courier New',monospace\"><span style=\"font-weight: bold\">{</span><span style=\"color: #008000; text-decoration-color: #008000\">'corruption_type'</span>: <span style=\"color: #008000; text-decoration-color: #008000\">'rotate'</span>, <span style=\"color: #008000; text-decoration-color: #008000\">'corruption_kws'</span>: <span style=\"font-weight: bold\">{</span><span style=\"color: #008000; text-decoration-color: #008000\">'angle'</span>: <span style=\"color: #008080; text-decoration-color: #008080; font-weight: bold\">105</span>, <span style=\"color: #008000; text-decoration-color: #008000\">'hist_match'</span>: <span style=\"color: #00ff00; text-decoration-color: #00ff00; font-style: italic\">True</span>, <span style=\"color: #008000; text-decoration-color: #008000\">'interpolation'</span>: <span style=\"color: #008000; text-decoration-color: #008000\">'bilinear'</span><span style=\"font-weight: bold\">}}</span>\n",
       "</pre>\n"
      ],
      "text/plain": [
       "\u001b[1m{\u001b[0m\u001b[32m'corruption_type'\u001b[0m: \u001b[32m'rotate'\u001b[0m, \u001b[32m'corruption_kws'\u001b[0m: \u001b[1m{\u001b[0m\u001b[32m'angle'\u001b[0m: \u001b[1;36m105\u001b[0m, \u001b[32m'hist_match'\u001b[0m: \u001b[3;92mTrue\u001b[0m, \u001b[32m'interpolation'\u001b[0m: \u001b[32m'bilinear'\u001b[0m\u001b[1m}\u001b[0m\u001b[1m}\u001b[0m\n"
      ]
     },
     "metadata": {},
     "output_type": "display_data"
    },
    {
     "data": {
      "text/html": [
       "<pre style=\"white-space:pre;overflow-x:auto;line-height:normal;font-family:Menlo,'DejaVu Sans Mono',consolas,'Courier New',monospace\"><span style=\"font-weight: bold\">{</span><span style=\"color: #008000; text-decoration-color: #008000\">'corruption_type'</span>: <span style=\"color: #008000; text-decoration-color: #008000\">'rotate'</span>, <span style=\"color: #008000; text-decoration-color: #008000\">'corruption_kws'</span>: <span style=\"font-weight: bold\">{</span><span style=\"color: #008000; text-decoration-color: #008000\">'angle'</span>: <span style=\"color: #008080; text-decoration-color: #008080; font-weight: bold\">120</span>, <span style=\"color: #008000; text-decoration-color: #008000\">'hist_match'</span>: <span style=\"color: #00ff00; text-decoration-color: #00ff00; font-style: italic\">True</span>, <span style=\"color: #008000; text-decoration-color: #008000\">'interpolation'</span>: <span style=\"color: #008000; text-decoration-color: #008000\">'bilinear'</span><span style=\"font-weight: bold\">}}</span>\n",
       "</pre>\n"
      ],
      "text/plain": [
       "\u001b[1m{\u001b[0m\u001b[32m'corruption_type'\u001b[0m: \u001b[32m'rotate'\u001b[0m, \u001b[32m'corruption_kws'\u001b[0m: \u001b[1m{\u001b[0m\u001b[32m'angle'\u001b[0m: \u001b[1;36m120\u001b[0m, \u001b[32m'hist_match'\u001b[0m: \u001b[3;92mTrue\u001b[0m, \u001b[32m'interpolation'\u001b[0m: \u001b[32m'bilinear'\u001b[0m\u001b[1m}\u001b[0m\u001b[1m}\u001b[0m\n"
      ]
     },
     "metadata": {},
     "output_type": "display_data"
    },
    {
     "data": {
      "text/html": [
       "<pre style=\"white-space:pre;overflow-x:auto;line-height:normal;font-family:Menlo,'DejaVu Sans Mono',consolas,'Courier New',monospace\"><span style=\"font-weight: bold\">{</span><span style=\"color: #008000; text-decoration-color: #008000\">'corruption_type'</span>: <span style=\"color: #008000; text-decoration-color: #008000\">'rotate'</span>, <span style=\"color: #008000; text-decoration-color: #008000\">'corruption_kws'</span>: <span style=\"font-weight: bold\">{</span><span style=\"color: #008000; text-decoration-color: #008000\">'angle'</span>: <span style=\"color: #008080; text-decoration-color: #008080; font-weight: bold\">135</span>, <span style=\"color: #008000; text-decoration-color: #008000\">'hist_match'</span>: <span style=\"color: #00ff00; text-decoration-color: #00ff00; font-style: italic\">True</span>, <span style=\"color: #008000; text-decoration-color: #008000\">'interpolation'</span>: <span style=\"color: #008000; text-decoration-color: #008000\">'bilinear'</span><span style=\"font-weight: bold\">}}</span>\n",
       "</pre>\n"
      ],
      "text/plain": [
       "\u001b[1m{\u001b[0m\u001b[32m'corruption_type'\u001b[0m: \u001b[32m'rotate'\u001b[0m, \u001b[32m'corruption_kws'\u001b[0m: \u001b[1m{\u001b[0m\u001b[32m'angle'\u001b[0m: \u001b[1;36m135\u001b[0m, \u001b[32m'hist_match'\u001b[0m: \u001b[3;92mTrue\u001b[0m, \u001b[32m'interpolation'\u001b[0m: \u001b[32m'bilinear'\u001b[0m\u001b[1m}\u001b[0m\u001b[1m}\u001b[0m\n"
      ]
     },
     "metadata": {},
     "output_type": "display_data"
    },
    {
     "data": {
      "text/html": [
       "<pre style=\"white-space:pre;overflow-x:auto;line-height:normal;font-family:Menlo,'DejaVu Sans Mono',consolas,'Courier New',monospace\"><span style=\"font-weight: bold\">{</span><span style=\"color: #008000; text-decoration-color: #008000\">'corruption_type'</span>: <span style=\"color: #008000; text-decoration-color: #008000\">'rotate'</span>, <span style=\"color: #008000; text-decoration-color: #008000\">'corruption_kws'</span>: <span style=\"font-weight: bold\">{</span><span style=\"color: #008000; text-decoration-color: #008000\">'angle'</span>: <span style=\"color: #008080; text-decoration-color: #008080; font-weight: bold\">150</span>, <span style=\"color: #008000; text-decoration-color: #008000\">'hist_match'</span>: <span style=\"color: #00ff00; text-decoration-color: #00ff00; font-style: italic\">True</span>, <span style=\"color: #008000; text-decoration-color: #008000\">'interpolation'</span>: <span style=\"color: #008000; text-decoration-color: #008000\">'bilinear'</span><span style=\"font-weight: bold\">}}</span>\n",
       "</pre>\n"
      ],
      "text/plain": [
       "\u001b[1m{\u001b[0m\u001b[32m'corruption_type'\u001b[0m: \u001b[32m'rotate'\u001b[0m, \u001b[32m'corruption_kws'\u001b[0m: \u001b[1m{\u001b[0m\u001b[32m'angle'\u001b[0m: \u001b[1;36m150\u001b[0m, \u001b[32m'hist_match'\u001b[0m: \u001b[3;92mTrue\u001b[0m, \u001b[32m'interpolation'\u001b[0m: \u001b[32m'bilinear'\u001b[0m\u001b[1m}\u001b[0m\u001b[1m}\u001b[0m\n"
      ]
     },
     "metadata": {},
     "output_type": "display_data"
    },
    {
     "data": {
      "text/html": [
       "<pre style=\"white-space:pre;overflow-x:auto;line-height:normal;font-family:Menlo,'DejaVu Sans Mono',consolas,'Courier New',monospace\"><span style=\"font-weight: bold\">{</span><span style=\"color: #008000; text-decoration-color: #008000\">'corruption_type'</span>: <span style=\"color: #008000; text-decoration-color: #008000\">'rotate'</span>, <span style=\"color: #008000; text-decoration-color: #008000\">'corruption_kws'</span>: <span style=\"font-weight: bold\">{</span><span style=\"color: #008000; text-decoration-color: #008000\">'angle'</span>: <span style=\"color: #008080; text-decoration-color: #008080; font-weight: bold\">165</span>, <span style=\"color: #008000; text-decoration-color: #008000\">'hist_match'</span>: <span style=\"color: #00ff00; text-decoration-color: #00ff00; font-style: italic\">True</span>, <span style=\"color: #008000; text-decoration-color: #008000\">'interpolation'</span>: <span style=\"color: #008000; text-decoration-color: #008000\">'bilinear'</span><span style=\"font-weight: bold\">}}</span>\n",
       "</pre>\n"
      ],
      "text/plain": [
       "\u001b[1m{\u001b[0m\u001b[32m'corruption_type'\u001b[0m: \u001b[32m'rotate'\u001b[0m, \u001b[32m'corruption_kws'\u001b[0m: \u001b[1m{\u001b[0m\u001b[32m'angle'\u001b[0m: \u001b[1;36m165\u001b[0m, \u001b[32m'hist_match'\u001b[0m: \u001b[3;92mTrue\u001b[0m, \u001b[32m'interpolation'\u001b[0m: \u001b[32m'bilinear'\u001b[0m\u001b[1m}\u001b[0m\u001b[1m}\u001b[0m\n"
      ]
     },
     "metadata": {},
     "output_type": "display_data"
    },
    {
     "data": {
      "text/html": [
       "<pre style=\"white-space:pre;overflow-x:auto;line-height:normal;font-family:Menlo,'DejaVu Sans Mono',consolas,'Courier New',monospace\"><span style=\"font-weight: bold\">{</span><span style=\"color: #008000; text-decoration-color: #008000\">'corruption_type'</span>: <span style=\"color: #008000; text-decoration-color: #008000\">'rotate'</span>, <span style=\"color: #008000; text-decoration-color: #008000\">'corruption_kws'</span>: <span style=\"font-weight: bold\">{</span><span style=\"color: #008000; text-decoration-color: #008000\">'angle'</span>: <span style=\"color: #008080; text-decoration-color: #008080; font-weight: bold\">180</span>, <span style=\"color: #008000; text-decoration-color: #008000\">'hist_match'</span>: <span style=\"color: #00ff00; text-decoration-color: #00ff00; font-style: italic\">True</span>, <span style=\"color: #008000; text-decoration-color: #008000\">'interpolation'</span>: <span style=\"color: #008000; text-decoration-color: #008000\">'bilinear'</span><span style=\"font-weight: bold\">}}</span>\n",
       "</pre>\n"
      ],
      "text/plain": [
       "\u001b[1m{\u001b[0m\u001b[32m'corruption_type'\u001b[0m: \u001b[32m'rotate'\u001b[0m, \u001b[32m'corruption_kws'\u001b[0m: \u001b[1m{\u001b[0m\u001b[32m'angle'\u001b[0m: \u001b[1;36m180\u001b[0m, \u001b[32m'hist_match'\u001b[0m: \u001b[3;92mTrue\u001b[0m, \u001b[32m'interpolation'\u001b[0m: \u001b[32m'bilinear'\u001b[0m\u001b[1m}\u001b[0m\u001b[1m}\u001b[0m\n"
      ]
     },
     "metadata": {},
     "output_type": "display_data"
    }
   ],
   "source": [
    "data = {}\n",
    "for key, file in file_paths.items():\n",
    "    corrupted_data = np.load(\n",
    "        file, allow_pickle=True).item()\n",
    "    data[key] = corrupted_data\n",
    "    \n",
    "    print({k: v for k, v in corrupted_data.items() if not k.startswith('x_')})"
   ]
  },
  {
   "cell_type": "markdown",
   "id": "7b352c34-26cf-4339-81b5-c10bc89c51a0",
   "metadata": {},
   "source": [
    "## Perform analysis"
   ]
  },
  {
   "cell_type": "code",
   "execution_count": 9,
   "id": "b827558d-a959-44f4-ba32-aa143cae31f5",
   "metadata": {},
   "outputs": [],
   "source": [
    "kws_analysis = dict(\n",
    "    tr=None,\n",
    "    corrupted_data=None,\n",
    "    mse_wrt_orig=False,\n",
    "    t_recon=None,\n",
    "    verbose=False,\n",
    ")"
   ]
  },
  {
   "cell_type": "markdown",
   "id": "fcc11dfc-e9e7-4cfb-bf9f-f9cf658b33e4",
   "metadata": {},
   "source": [
    "### init inds"
   ]
  },
  {
   "cell_type": "code",
   "execution_count": 10,
   "id": "3abf54bb-a01e-4798-828c-dcc65d857cdd",
   "metadata": {},
   "outputs": [
    {
     "data": {
      "text/html": [
       "<pre style=\"white-space:pre;overflow-x:auto;line-height:normal;font-family:Menlo,'DejaVu Sans Mono',consolas,'Courier New',monospace\"><span style=\"font-weight: bold\">{</span><span style=\"color: #008000; text-decoration-color: #008000\">'Omniglot'</span>: <span style=\"color: #800080; text-decoration-color: #800080; font-weight: bold\">array</span><span style=\"font-weight: bold\">([</span><span style=\"color: #008080; text-decoration-color: #008080; font-weight: bold\">12985</span>,  <span style=\"color: #008080; text-decoration-color: #008080; font-weight: bold\">5691</span>,  <span style=\"color: #008080; text-decoration-color: #008080; font-weight: bold\">6315</span>,   <span style=\"color: #008080; text-decoration-color: #008080; font-weight: bold\">774</span>, <span style=\"color: #008080; text-decoration-color: #008080; font-weight: bold\">11545</span>, <span style=\"color: #008080; text-decoration-color: #008080; font-weight: bold\">11738</span>,  <span style=\"color: #008080; text-decoration-color: #008080; font-weight: bold\">8949</span>, <span style=\"color: #008080; text-decoration-color: #008080; font-weight: bold\">12606</span>,  <span style=\"color: #008080; text-decoration-color: #008080; font-weight: bold\">4966</span>,\n",
       "        <span style=\"color: #008080; text-decoration-color: #008080; font-weight: bold\">2897</span><span style=\"font-weight: bold\">])}</span>\n",
       "</pre>\n"
      ],
      "text/plain": [
       "\u001b[1m{\u001b[0m\u001b[32m'Omniglot'\u001b[0m: \u001b[1;35marray\u001b[0m\u001b[1m(\u001b[0m\u001b[1m[\u001b[0m\u001b[1;36m12985\u001b[0m,  \u001b[1;36m5691\u001b[0m,  \u001b[1;36m6315\u001b[0m,   \u001b[1;36m774\u001b[0m, \u001b[1;36m11545\u001b[0m, \u001b[1;36m11738\u001b[0m,  \u001b[1;36m8949\u001b[0m, \u001b[1;36m12606\u001b[0m,  \u001b[1;36m4966\u001b[0m,\n",
       "        \u001b[1;36m2897\u001b[0m\u001b[1m]\u001b[0m\u001b[1m)\u001b[0m\u001b[1m}\u001b[0m\n"
      ]
     },
     "metadata": {},
     "output_type": "display_data"
    }
   ],
   "source": [
    "inds = get_dataset_inds('Omniglot')\n",
    "print(inds)"
   ]
  },
  {
   "cell_type": "markdown",
   "id": "f98bd04f-9618-43f1-9585-b851c1784f93",
   "metadata": {},
   "source": [
    "### init df"
   ]
  },
  {
   "cell_type": "code",
   "execution_count": 11,
   "id": "4736edd6-4562-4fae-bd64-e8cdba062600",
   "metadata": {},
   "outputs": [],
   "source": [
    "df = collections.defaultdict(list)"
   ]
  },
  {
   "cell_type": "markdown",
   "id": "32e5d285-1a89-4fb4-b5bd-ed8d0de16524",
   "metadata": {},
   "source": [
    "### loop: our models"
   ]
  },
  {
   "cell_type": "code",
   "execution_count": null,
   "id": "c38e5dff-0eb2-4f84-9bec-b7221312650c",
   "metadata": {},
   "outputs": [
    {
     "data": {
      "text/html": [
       "<pre style=\"white-space:pre;overflow-x:auto;line-height:normal;font-family:Menlo,'DejaVu Sans Mono',consolas,'Courier New',monospace\">______________________________________________________________________________________________________________\n",
       "</pre>\n"
      ],
      "text/plain": [
       "______________________________________________________________________________________________________________\n"
      ]
     },
     "metadata": {},
     "output_type": "display_data"
    },
    {
     "data": {
      "text/html": [
       "<pre style=\"white-space:pre;overflow-x:auto;line-height:normal;font-family:Menlo,'DejaVu Sans Mono',consolas,'Courier New',monospace\">Omniglot_<span style=\"font-weight: bold\">&lt;</span><span style=\"color: #ff00ff; text-decoration-color: #ff00ff; font-weight: bold\">jacob|mlp</span><span style=\"font-weight: bold\">&gt;</span><span style=\"color: #800080; text-decoration-color: #800080; font-weight: bold\">_</span><span style=\"font-weight: bold\">(</span><span style=\"color: #008080; text-decoration-color: #008080; font-weight: bold\">64</span>,<span style=\"color: #008080; text-decoration-color: #008080; font-weight: bold\">24.0</span><span style=\"font-weight: bold\">)</span>  ———     Omniglot_rotate-angle-<span style=\"color: #008080; text-decoration-color: #008080; font-weight: bold\">15</span>\n",
       "</pre>\n"
      ],
      "text/plain": [
       "Omniglot_\u001b[1m<\u001b[0m\u001b[1;95mjacob|mlp\u001b[0m\u001b[1m>\u001b[0m\u001b[1;35m_\u001b[0m\u001b[1m(\u001b[0m\u001b[1;36m64\u001b[0m,\u001b[1;36m24.0\u001b[0m\u001b[1m)\u001b[0m  ———     Omniglot_rotate-angle-\u001b[1;36m15\u001b[0m\n"
      ]
     },
     "metadata": {},
     "output_type": "display_data"
    },
    {
     "data": {
      "image/png": "[encoded data removed]",
      "text/plain": [
       "<Figure size 400x200 with 1 Axes>"
      ]
     },
     "metadata": {},
     "output_type": "display_data"
    },
    {
     "data": {
      "text/html": [
       "<pre style=\"white-space:pre;overflow-x:auto;line-height:normal;font-family:Menlo,'DejaVu Sans Mono',consolas,'Courier New',monospace\">\n",
       "\n",
       "\n",
       "</pre>\n"
      ],
      "text/plain": [
       "\n",
       "\n",
       "\n"
      ]
     },
     "metadata": {},
     "output_type": "display_data"
    },
    {
     "data": {
      "text/html": [
       "<pre style=\"white-space:pre;overflow-x:auto;line-height:normal;font-family:Menlo,'DejaVu Sans Mono',consolas,'Courier New',monospace\">______________________________________________________________________________________________________________\n",
       "</pre>\n"
      ],
      "text/plain": [
       "______________________________________________________________________________________________________________\n"
      ]
     },
     "metadata": {},
     "output_type": "display_data"
    },
    {
     "data": {
      "text/html": [
       "<pre style=\"white-space:pre;overflow-x:auto;line-height:normal;font-family:Menlo,'DejaVu Sans Mono',consolas,'Courier New',monospace\">Omniglot_<span style=\"font-weight: bold\">&lt;</span><span style=\"color: #ff00ff; text-decoration-color: #ff00ff; font-weight: bold\">jacob|mlp</span><span style=\"font-weight: bold\">&gt;</span><span style=\"color: #800080; text-decoration-color: #800080; font-weight: bold\">_</span><span style=\"font-weight: bold\">(</span><span style=\"color: #008080; text-decoration-color: #008080; font-weight: bold\">64</span>,<span style=\"color: #008080; text-decoration-color: #008080; font-weight: bold\">24.0</span><span style=\"font-weight: bold\">)</span>  ———     Omniglot_rotate-angle-<span style=\"color: #008080; text-decoration-color: #008080; font-weight: bold\">30</span>\n",
       "</pre>\n"
      ],
      "text/plain": [
       "Omniglot_\u001b[1m<\u001b[0m\u001b[1;95mjacob|mlp\u001b[0m\u001b[1m>\u001b[0m\u001b[1;35m_\u001b[0m\u001b[1m(\u001b[0m\u001b[1;36m64\u001b[0m,\u001b[1;36m24.0\u001b[0m\u001b[1m)\u001b[0m  ———     Omniglot_rotate-angle-\u001b[1;36m30\u001b[0m\n"
      ]
     },
     "metadata": {},
     "output_type": "display_data"
    },
    {
     "data": {
      "image/png": "[encoded data removed]",
      "text/plain": [
       "<Figure size 400x200 with 1 Axes>"
      ]
     },
     "metadata": {},
     "output_type": "display_data"
    },
    {
     "data": {
      "text/html": [
       "<pre style=\"white-space:pre;overflow-x:auto;line-height:normal;font-family:Menlo,'DejaVu Sans Mono',consolas,'Courier New',monospace\">\n",
       "\n",
       "\n",
       "</pre>\n"
      ],
      "text/plain": [
       "\n",
       "\n",
       "\n"
      ]
     },
     "metadata": {},
     "output_type": "display_data"
    },
    {
     "data": {
      "text/html": [
       "<pre style=\"white-space:pre;overflow-x:auto;line-height:normal;font-family:Menlo,'DejaVu Sans Mono',consolas,'Courier New',monospace\">______________________________________________________________________________________________________________\n",
       "</pre>\n"
      ],
      "text/plain": [
       "______________________________________________________________________________________________________________\n"
      ]
     },
     "metadata": {},
     "output_type": "display_data"
    },
    {
     "data": {
      "text/html": [
       "<pre style=\"white-space:pre;overflow-x:auto;line-height:normal;font-family:Menlo,'DejaVu Sans Mono',consolas,'Courier New',monospace\">Omniglot_<span style=\"font-weight: bold\">&lt;</span><span style=\"color: #ff00ff; text-decoration-color: #ff00ff; font-weight: bold\">jacob|mlp</span><span style=\"font-weight: bold\">&gt;</span><span style=\"color: #800080; text-decoration-color: #800080; font-weight: bold\">_</span><span style=\"font-weight: bold\">(</span><span style=\"color: #008080; text-decoration-color: #008080; font-weight: bold\">64</span>,<span style=\"color: #008080; text-decoration-color: #008080; font-weight: bold\">24.0</span><span style=\"font-weight: bold\">)</span>  ———     Omniglot_rotate-angle-<span style=\"color: #008080; text-decoration-color: #008080; font-weight: bold\">45</span>\n",
       "</pre>\n"
      ],
      "text/plain": [
       "Omniglot_\u001b[1m<\u001b[0m\u001b[1;95mjacob|mlp\u001b[0m\u001b[1m>\u001b[0m\u001b[1;35m_\u001b[0m\u001b[1m(\u001b[0m\u001b[1;36m64\u001b[0m,\u001b[1;36m24.0\u001b[0m\u001b[1m)\u001b[0m  ———     Omniglot_rotate-angle-\u001b[1;36m45\u001b[0m\n"
      ]
     },
     "metadata": {},
     "output_type": "display_data"
    }
   ],
   "source": [
    "%%time\n",
    "\n",
    "\n",
    "for model_name, tr in trainers.items():\n",
    "    fig_dir = pjoin(fig_base_dir, model_name)\n",
    "    os.makedirs(fig_dir, exist_ok=True)\n",
    "    \n",
    "    if tr.model.cfg.enc_type == 'jacob':\n",
    "        is_ipvae = True\n",
    "    else:\n",
    "        is_ipvae = False\n",
    "    t_recon = 1000 if is_ipvae else -1\n",
    "    kws_analysis['t_recon'] = t_recon\n",
    "    kws_analysis['tr'] = tr\n",
    "\n",
    "    for (theta, analysis_name), corrupted_data in data.items():\n",
    "        kws_analysis['corrupted_data'] = corrupted_data\n",
    "        results, accuracy = perform_corruption_analysis(\n",
    "            **kws_analysis)\n",
    "\n",
    "        # save results\n",
    "        df['analysis_name'].append(analysis_name)\n",
    "        df['model'].append('iP-VAE' if is_ipvae else 'aiP-VAE')\n",
    "        df['enc_type'].append(tr.model.cfg.enc_type)\n",
    "        df['dec_type'].append(tr.model.cfg.dec_type)\n",
    "        df['n_iters_train'].append(tr.model.cfg.seq_len)\n",
    "        df['n_iters_test'].append(results['props']['t_recon'])\n",
    "        df['theta'].append(theta)\n",
    "        df['mse'].append(results['mse'].mean())\n",
    "        df['accuracy'].append(accuracy.mean())\n",
    "\n",
    "        # save figs\n",
    "        x = tonp(tr.dl_vld.dataset.tensors[0][inds['Omniglot']])\n",
    "        fig, ax = plot_row_or_col(x, row=False, display=False)\n",
    "        fig.savefig(pjoin(fig_dir, f\"{analysis_name}_{model_name}_inpt.png\"), **kws_fig)\n",
    "        \n",
    "        x_corrupted = corrupted_data['x_corrupted_vld'][inds['Omniglot']]\n",
    "        fig, ax = plot_row_or_col(x_corrupted, row=False, display=False)\n",
    "        fig.savefig(pjoin(fig_dir, f\"{analysis_name}_{model_name}_corrpt.png\"), **kws_fig)\n",
    "\n",
    "        x_recon = results['recon'][inds['Omniglot']]\n",
    "        x_recon = x_recon.reshape(tr.model.cfg.shape)\n",
    "        fig, ax = plot_row_or_col(x_recon, row=False, display=False)\n",
    "        fig.savefig(pjoin(fig_dir, f\"{analysis_name}_{model_name}_recon.png\"), **kws_fig)\n",
    "\n",
    "        # plot results\n",
    "        print('_' * 110)\n",
    "        print(f\"{model_name}\\t———\\t{analysis_name}\")\n",
    "        _ = plot_weights(\n",
    "            w=np.concatenate([x, x_corrupted, x_recon]),\n",
    "            nrows=3, cmap='Greys',\n",
    "            method='none', dpi=50,\n",
    "            vmin=0.05, vmax=1,\n",
    "        )\n",
    "        print('\\n\\n')\n",
    "\n",
    "# df = pd.DataFrame(df)\n",
    "# save_obj(\n",
    "#     obj=df,\n",
    "#     file_name='df_rot',\n",
    "#     save_dir=tmp_dir,\n",
    "#     mode='df',\n",
    "# )"
   ]
  },
  {
   "cell_type": "code",
   "execution_count": null,
   "id": "e026610d-84d0-4c1b-a06e-747a0c17b8a7",
   "metadata": {},
   "outputs": [],
   "source": []
  },
  {
   "cell_type": "code",
   "execution_count": null,
   "id": "add171ad-7d45-4c24-a0ac-f544e7ffb922",
   "metadata": {},
   "outputs": [],
   "source": []
  },
  {
   "cell_type": "markdown",
   "id": "2f1f9e95-6dd3-4600-a82e-f319c6a26b73",
   "metadata": {},
   "source": [
    "## Marino & Kim\n",
    "\n",
    "rotation results"
   ]
  },
  {
   "cell_type": "code",
   "execution_count": null,
   "id": "7ef06736-829a-473e-8c65-05a489477288",
   "metadata": {},
   "outputs": [],
   "source": [
    "dekel_dir = '/home/hadi/Dropbox/git/jb-vae/tmp/dekel_data/rot_full'\n",
    "\n",
    "dekel_files = sorted(\n",
    "    os.listdir(dekel_dir),\n",
    "    key=alphanum_sort_key,\n",
    ")\n",
    "selected_dekel_files = [\n",
    "    f for f in dekel_files\n",
    "    if '_Omniglot_' in f\n",
    "    and 'rotate' in f\n",
    "]\n",
    "print(selected_dekel_files)"
   ]
  },
  {
   "cell_type": "code",
   "execution_count": null,
   "id": "90ea916b-a948-4eb8-b0c8-7e116f9f9441",
   "metadata": {},
   "outputs": [],
   "source": [
    "len(selected_dekel_files) / 3"
   ]
  },
  {
   "cell_type": "markdown",
   "id": "908824da-899a-4ab2-80bc-4c42978c30f8",
   "metadata": {},
   "source": [
    "### loop: their models"
   ]
  },
  {
   "cell_type": "code",
   "execution_count": null,
   "id": "68ad6832-723b-4074-bb77-220c65188393",
   "metadata": {},
   "outputs": [],
   "source": [
    "for f in selected_dekel_files:\n",
    "    model_name = '~'.join(f.split('_')[:-1])\n",
    "    load = dict(np.load(\n",
    "        pjoin(dekel_dir, f),\n",
    "        allow_pickle=True,\n",
    "    ))\n",
    "\n",
    "    analysis_name = next(\n",
    "        e for e in f.split('_')\n",
    "        if 'angle' in e\n",
    "    )\n",
    "    theta = int_from_str(analysis_name)\n",
    "    assert theta % 15 == 0\n",
    "    \n",
    "    analysis_name = f\"MNIST_{analysis_name}\"\n",
    "    n_iters = int_from_str(model_name.split('~')[-1])\n",
    "\n",
    "    # prep dataset\n",
    "    trn, vld, _ = make_dataset('Omniglot')\n",
    "    g_trn, g_vld = map(\n",
    "        lambda g: tonp(g).astype(int),\n",
    "        [trn.tensors[1], vld.tensors[1]],\n",
    "    )\n",
    "    corrupted_data = data[(theta, analysis_name)]\n",
    "    src = corrupted_data['x_corrupted_vld']\n",
    "\n",
    "    # prep recon\n",
    "    recon = load['recons_val'].squeeze()\n",
    "    recon = recon[:, np.newaxis]\n",
    "    assert recon.shape == src.shape\n",
    "    if np.nanmax(recon) > 1:\n",
    "        recon /= 255\n",
    "\n",
    "    # compute mse\n",
    "    mse = (src - recon) ** 2\n",
    "    mse = np.sum(mse, axis=(1, 2, 3)).mean()\n",
    "\n",
    "    # clf accuracy\n",
    "    z_vld = load['posteriors_val'][:, 0, 0]\n",
    "    z_trn = load['posteriors_trn'][:, 0, 0]\n",
    "    clf = LogisticRegression().fit(z_trn, g_trn)\n",
    "    accuracy = (clf.predict(z_vld) == g_vld).mean()\n",
    "\n",
    "    # save results\n",
    "    df['analysis_name'].append(analysis_name)\n",
    "    df['model'].append(_extract_model_type(f))\n",
    "    df['enc_type'].append('-')\n",
    "    df['dec_type'].append('-')\n",
    "    df['n_iters_train'].append(n_iters)\n",
    "    df['n_iters_test'].append(n_iters)\n",
    "    df['theta'].append(theta)\n",
    "    df['mse'].append(mse)\n",
    "    df['accuracy'].append(accuracy)"
   ]
  },
  {
   "cell_type": "code",
   "execution_count": null,
   "id": "0e2e5c62-1acc-4cc3-818d-54f50acd7d19",
   "metadata": {},
   "outputs": [],
   "source": []
  },
  {
   "cell_type": "code",
   "execution_count": null,
   "id": "46b061f6-b578-440c-bc13-7694f6881533",
   "metadata": {},
   "outputs": [],
   "source": []
  },
  {
   "cell_type": "code",
   "execution_count": null,
   "id": "b7872242-ae93-4844-b89f-9703c49001e8",
   "metadata": {},
   "outputs": [],
   "source": [
    "df = pd.DataFrame(df)\n",
    "\n",
    "save_obj(\n",
    "    obj=df,\n",
    "    file_name='df_rot_omni',\n",
    "    save_dir=tmp_dir,\n",
    "    mode='df',\n",
    ")"
   ]
  },
  {
   "cell_type": "code",
   "execution_count": null,
   "id": "07c7e205-d827-4028-8379-e34690fa3d71",
   "metadata": {},
   "outputs": [],
   "source": []
  },
  {
   "cell_type": "code",
   "execution_count": null,
   "id": "3fca8be6-8abe-4c49-a51a-002191cdad4b",
   "metadata": {},
   "outputs": [],
   "source": [
    "fig, axes = create_figure(2, 1, (10, 7), sharex='col')\n",
    "for i, y_name in enumerate(['mse', 'accuracy']):\n",
    "    sns.barplot(\n",
    "        data=df,\n",
    "        x='theta',\n",
    "        y=y_name,\n",
    "        hue='model',\n",
    "        legend=i==0,\n",
    "        palette=get_palette_models(),\n",
    "        ax=axes[i],\n",
    "    )\n",
    "axes[-1].set_ylim((0.57, 1.0))\n",
    "plt.show()"
   ]
  },
  {
   "cell_type": "code",
   "execution_count": null,
   "id": "a1673232-84c9-4143-ba1b-7d093bd69be2",
   "metadata": {},
   "outputs": [],
   "source": []
  },
  {
   "cell_type": "code",
   "execution_count": 18,
   "id": "6b2db70a-4425-4caa-b05e-7a34e242f5a8",
   "metadata": {},
   "outputs": [
    {
     "data": {
      "image/png": "[encoded data removed]",
      "text/plain": [
       "<Figure size 1000x700 with 2 Axes>"
      ]
     },
     "metadata": {},
     "output_type": "display_data"
    }
   ],
   "source": []
  },
  {
   "cell_type": "code",
   "execution_count": null,
   "id": "c3942c55-0976-4e45-bc2f-33b2f5d2e368",
   "metadata": {},
   "outputs": [],
   "source": []
  },
  {
   "cell_type": "code",
   "execution_count": null,
   "id": "244a9a76-3770-4377-bb8f-7e19a7df6386",
   "metadata": {},
   "outputs": [],
   "source": []
  },
  {
   "cell_type": "code",
   "execution_count": null,
   "id": "e264f776-3c48-43b7-8eb8-1c2f519da3b4",
   "metadata": {},
   "outputs": [],
   "source": []
  }
 ],
 "metadata": {
  "kernelspec": {
   "display_name": "Python 3 (ipykernel)",
   "language": "python",
   "name": "python3"
  },
  "language_info": {
   "codemirror_mode": {
    "name": "ipython",
    "version": 3
   },
   "file_extension": ".py",
   "mimetype": "text/x-python",
   "name": "python",
   "nbconvert_exporter": "python",
   "pygments_lexer": "ipython3",
   "version": "3.11.7"
  }
 },
 "nbformat": 4,
 "nbformat_minor": 5
}
