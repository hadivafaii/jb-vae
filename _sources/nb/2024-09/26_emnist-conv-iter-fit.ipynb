{
 "cells": [
  {
   "cell_type": "markdown",
   "id": "48f55a35-d5b5-468f-b574-730df61e9609",
   "metadata": {},
   "source": [
    "# (26) emnist fit — ```conv```, iter\n",
    "\n",
    "**Motivation**: host = ```mach```, device = ```cuda:1``` <br>"
   ]
  },
  {
   "cell_type": "code",
   "execution_count": 1,
   "id": "f823b1e9-05f2-49a0-8296-4a1819c12e81",
   "metadata": {
    "tags": [
     "hide-input"
    ]
   },
   "outputs": [],
   "source": [
    "# HIDE CODE\n",
    "\n",
    "\n",
    "import os, sys\n",
    "from IPython.display import display\n",
    "\n",
    "# tmp & extras dir\n",
    "git_dir = os.path.join(os.environ['HOME'], 'Dropbox/git')\n",
    "extras_dir = os.path.join(git_dir, 'jb-vae/_extras')\n",
    "fig_base_dir = os.path.join(git_dir, 'jb-vae/figs')\n",
    "tmp_dir = os.path.join(git_dir, 'jb-vae/tmp')\n",
    "\n",
    "# GitHub\n",
    "# sys.path.insert(0, os.path.join(git_dir, '_PoissonVAE'))\n",
    "sys.path.insert(0, os.path.join(git_dir, '_IterativeVAE'))\n",
    "from figures.fighelper import *\n",
    "from vae.train_vae import *\n",
    "\n",
    "# warnings, tqdm, & style\n",
    "warnings.filterwarnings('ignore', category=DeprecationWarning)\n",
    "warnings.filterwarnings('ignore', category=FutureWarning)\n",
    "warnings.filterwarnings('ignore', category=UserWarning)\n",
    "from rich.jupyter import print\n",
    "%matplotlib inline\n",
    "set_style()"
   ]
  },
  {
   "cell_type": "code",
   "execution_count": 2,
   "id": "45357127-b675-4e68-ba95-938ea8612cad",
   "metadata": {},
   "outputs": [
    {
     "data": {
      "text/html": [
       "<pre style=\"white-space:pre;overflow-x:auto;line-height:normal;font-family:Menlo,'DejaVu Sans Mono',consolas,'Courier New',monospace\">device: cu<span style=\"color: #00ff00; text-decoration-color: #00ff00; font-weight: bold\">da:1</span>  ———  host: yoru\n",
       "</pre>\n"
      ],
      "text/plain": [
       "device: cu\u001b[1;92mda:1\u001b[0m  ———  host: yoru\n"
      ]
     },
     "metadata": {},
     "output_type": "display_data"
    }
   ],
   "source": [
    "from base.utils_model import load_quick\n",
    "from figures.analysis import plot_convergence\n",
    "from figures.imgs import plot_weights\n",
    "\n",
    "device_idx = 1\n",
    "device = f'cuda:{device_idx}'\n",
    "\n",
    "print(f\"device: {device}  ———  host: {os.uname().nodename}\")"
   ]
  },
  {
   "cell_type": "code",
   "execution_count": 3,
   "id": "0ec2c640-b61f-466c-8a78-3493fbfe1c76",
   "metadata": {},
   "outputs": [],
   "source": [
    "def _eval():\n",
    "    seq_total = 1 if tr.model.cfg.seq_len == 1 else 1000\n",
    "    results = tr.analysis('vld', seq_total=seq_total, n_data_batches=10, verbose=False)\n",
    "    \n",
    "    fig, axes = plot_convergence(results, color='C0', display=False)\n",
    "    fig.suptitle(name, fontsize=16, fontfamily='monospace', color='darkgreen', y=1.1)\n",
    "    display(fig)"
   ]
  },
  {
   "cell_type": "code",
   "execution_count": null,
   "id": "06d43ca3-c283-42d8-bd0c-2ac23ab35388",
   "metadata": {},
   "outputs": [],
   "source": []
  },
  {
   "cell_type": "code",
   "execution_count": 4,
   "id": "ccc1ab6e-17f4-44c7-9454-022d24687778",
   "metadata": {},
   "outputs": [],
   "source": [
    "dataset = 'EMNIST'\n",
    "model_type = 'poisson'\n",
    "archi_type = 'jacob|conv'"
   ]
  },
  {
   "cell_type": "code",
   "execution_count": 5,
   "id": "6ac37eca-e89c-483b-a48d-4a4b89ee2c71",
   "metadata": {},
   "outputs": [],
   "source": [
    "seq_lengths = [16]\n",
    "beta_factors = [1/2]\n",
    "looper = itertools.product(\n",
    "    seq_lengths,\n",
    "    beta_factors,\n",
    ")"
   ]
  },
  {
   "cell_type": "code",
   "execution_count": null,
   "id": "b0af3fdb-e319-4355-b82f-2a4993b0ca61",
   "metadata": {},
   "outputs": [],
   "source": []
  },
  {
   "cell_type": "code",
   "execution_count": null,
   "id": "7984d8d1-85eb-4624-bb18-18bc3e148eff",
   "metadata": {},
   "outputs": [
    {
     "data": {
      "text/html": [
       "<pre style=\"white-space:pre;overflow-x:auto;line-height:normal;font-family:Menlo,'DejaVu Sans Mono',consolas,'Courier New',monospace\">name: <span style=\"font-weight: bold\">&lt;</span><span style=\"color: #ff00ff; text-decoration-color: #ff00ff; font-weight: bold\">jacob|conv</span><span style=\"color: #000000; text-decoration-color: #000000\">&gt;</span><span style=\"color: #800080; text-decoration-color: #800080; font-weight: bold\">_</span><span style=\"color: #000000; text-decoration-color: #000000; font-weight: bold\">(</span><span style=\"color: #008080; text-decoration-color: #008080; font-weight: bold\">16</span><span style=\"color: #000000; text-decoration-color: #000000\">,</span><span style=\"color: #008080; text-decoration-color: #008080; font-weight: bold\">8.0</span><span style=\"color: #000000; text-decoration-color: #000000; font-weight: bold\">)</span>\n",
       "\n",
       "<span style=\"color: #000000; text-decoration-color: #000000\">poisson_EMNIST_t-16_z-</span><span style=\"color: #000000; text-decoration-color: #000000; font-weight: bold\">[</span><span style=\"color: #008080; text-decoration-color: #008080; font-weight: bold\">64</span><span style=\"color: #000000; text-decoration-color: #000000; font-weight: bold\">]</span><span style=\"color: #000000; text-decoration-color: #000000\">_k-32_&lt;jacob|conv</span><span style=\"font-weight: bold\">&gt;</span>\n",
       "b200-ep200-<span style=\"color: #800080; text-decoration-color: #800080; font-weight: bold\">lr</span><span style=\"font-weight: bold\">(</span><span style=\"color: #008080; text-decoration-color: #008080; font-weight: bold\">0.002</span><span style=\"font-weight: bold\">)</span><span style=\"color: #800080; text-decoration-color: #800080; font-weight: bold\">_beta</span><span style=\"font-weight: bold\">(</span><span style=\"color: #00ff00; text-decoration-color: #00ff00; font-weight: bold\">8:0</span>x0.<span style=\"color: #008080; text-decoration-color: #008080; font-weight: bold\">1</span><span style=\"font-weight: bold\">)</span><span style=\"color: #800080; text-decoration-color: #800080; font-weight: bold\">_temp</span><span style=\"font-weight: bold\">(</span><span style=\"color: #008080; text-decoration-color: #008080; font-weight: bold\">0.05</span>:lin-<span style=\"color: #008080; text-decoration-color: #008080; font-weight: bold\">0.5</span><span style=\"font-weight: bold\">)</span><span style=\"color: #800080; text-decoration-color: #800080; font-weight: bold\">_gr</span><span style=\"font-weight: bold\">(</span><span style=\"color: #008080; text-decoration-color: #008080; font-weight: bold\">150</span><span style=\"font-weight: bold\">)</span><span style=\"color: #800080; text-decoration-color: #800080; font-weight: bold\">_</span><span style=\"font-weight: bold\">(</span>2024_09_26,<span style=\"color: #00ff00; text-decoration-color: #00ff00; font-weight: bold\">08:02</span><span style=\"font-weight: bold\">)</span>\n",
       "\n",
       "\n",
       "</pre>\n"
      ],
      "text/plain": [
       "name: \u001b[1m<\u001b[0m\u001b[1;95mjacob|conv\u001b[0m\u001b[39m>\u001b[0m\u001b[1;35m_\u001b[0m\u001b[1;39m(\u001b[0m\u001b[1;36m16\u001b[0m\u001b[39m,\u001b[0m\u001b[1;36m8.0\u001b[0m\u001b[1;39m)\u001b[0m\n",
       "\n",
       "\u001b[39mpoisson_EMNIST_t-16_z-\u001b[0m\u001b[1;39m[\u001b[0m\u001b[1;36m64\u001b[0m\u001b[1;39m]\u001b[0m\u001b[39m_k-32_<jacob|conv\u001b[0m\u001b[1m>\u001b[0m\n",
       "b200-ep200-\u001b[1;35mlr\u001b[0m\u001b[1m(\u001b[0m\u001b[1;36m0.002\u001b[0m\u001b[1m)\u001b[0m\u001b[1;35m_beta\u001b[0m\u001b[1m(\u001b[0m\u001b[1;92m8:0\u001b[0mx0.\u001b[1;36m1\u001b[0m\u001b[1m)\u001b[0m\u001b[1;35m_temp\u001b[0m\u001b[1m(\u001b[0m\u001b[1;36m0.05\u001b[0m:lin-\u001b[1;36m0.5\u001b[0m\u001b[1m)\u001b[0m\u001b[1;35m_gr\u001b[0m\u001b[1m(\u001b[0m\u001b[1;36m150\u001b[0m\u001b[1m)\u001b[0m\u001b[1;35m_\u001b[0m\u001b[1m(\u001b[0m2024_09_26,\u001b[1;92m08:02\u001b[0m\u001b[1m)\u001b[0m\n",
       "\n",
       "\n"
      ]
     },
     "metadata": {},
     "output_type": "display_data"
    },
    {
     "name": "stderr",
     "output_type": "stream",
     "text": [
      "epoch # 68, avg loss: 13.580015:  34%|█  | 68/200 [7:37:10<14:45:41, 402.59s/it]"
     ]
    }
   ],
   "source": [
    "%%time\n",
    "\n",
    "\n",
    "for seq_len, factor in looper:\n",
    "    cfg_vae, cfg_tr = default_configs(\n",
    "        dataset=dataset,\n",
    "        model_type=model_type,\n",
    "        archi_type=archi_type,\n",
    "    )\n",
    "    cfg_vae['seq_len'] = seq_len\n",
    "    cfg_tr['kl_beta'] = factor * seq_len\n",
    "\n",
    "    vae = MODEL_CLASSES[model_type](CFG_CLASSES[model_type](**cfg_vae))\n",
    "    tr = TrainerVAE(vae, ConfigTrainVAE(**cfg_tr), device=device)\n",
    "\n",
    "    name = f\"<{archi_type}>_({tr.model.cfg.seq_len},{tr.cfg.kl_beta:0.1f})\"\n",
    "    print(f\"name: {name}\\n\\n{vae.cfg.name()}\\n{tr.cfg.name()}_({vae.timestamp})\\n\\n\")\n",
    "    \n",
    "    tr.train()\n",
    "    _eval()"
   ]
  },
  {
   "cell_type": "code",
   "execution_count": null,
   "id": "9dafe5aa-78a6-4f81-8e57-f1e9712a2c8a",
   "metadata": {},
   "outputs": [],
   "source": []
  },
  {
   "cell_type": "code",
   "execution_count": null,
   "id": "0c92b34b-8bdc-4a92-a806-9380fd730d18",
   "metadata": {},
   "outputs": [],
   "source": []
  },
  {
   "cell_type": "code",
   "execution_count": null,
   "id": "53c74940-cb37-4cad-878f-e3ecd98a6021",
   "metadata": {},
   "outputs": [],
   "source": []
  },
  {
   "cell_type": "code",
   "execution_count": null,
   "id": "012d8068-0c11-4ea4-9128-2b477bfa5e9a",
   "metadata": {},
   "outputs": [],
   "source": []
  }
 ],
 "metadata": {
  "kernelspec": {
   "display_name": "Python 3 (ipykernel)",
   "language": "python",
   "name": "python3"
  },
  "language_info": {
   "codemirror_mode": {
    "name": "ipython",
    "version": 3
   },
   "file_extension": ".py",
   "mimetype": "text/x-python",
   "name": "python",
   "nbconvert_exporter": "python",
   "pygments_lexer": "ipython3",
   "version": "3.12.4"
  }
 },
 "nbformat": 4,
 "nbformat_minor": 5
}
