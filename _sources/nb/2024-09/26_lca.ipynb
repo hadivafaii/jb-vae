{
 "cells": [
  {
   "cell_type": "markdown",
   "id": "48f55a35-d5b5-468f-b574-730df61e9609",
   "metadata": {},
   "source": [
    "# (26) lca - retrieve\n",
    "\n",
    "**Motivation**: host = ```mach```, device = ```cuda:2``` <br>"
   ]
  },
  {
   "cell_type": "code",
   "execution_count": 1,
   "id": "f823b1e9-05f2-49a0-8296-4a1819c12e81",
   "metadata": {
    "tags": [
     "hide-input"
    ]
   },
   "outputs": [],
   "source": [
    "# HIDE CODE\n",
    "\n",
    "\n",
    "import os, sys\n",
    "from IPython.display import display\n",
    "\n",
    "# tmp & extras dir\n",
    "git_dir = os.path.join(os.environ['HOME'], 'Dropbox/git')\n",
    "extras_dir = os.path.join(git_dir, 'jb-vae/_extras')\n",
    "fig_base_dir = os.path.join(git_dir, 'jb-vae/figs')\n",
    "tmp_dir = os.path.join(git_dir, 'jb-vae/tmp')\n",
    "\n",
    "# GitHub\n",
    "sys.path.insert(0, os.path.join(git_dir, '_PoissonVAE'))\n",
    "from analysis.eval import sparse_score\n",
    "from figures.fighelper import *\n",
    "from vae.train_vae import *\n",
    "\n",
    "# warnings, tqdm, & style\n",
    "warnings.filterwarnings('ignore', category=DeprecationWarning)\n",
    "warnings.filterwarnings('ignore', category=FutureWarning)\n",
    "warnings.filterwarnings('ignore', category=UserWarning)\n",
    "from rich.jupyter import print\n",
    "%matplotlib inline\n",
    "set_style()"
   ]
  },
  {
   "cell_type": "code",
   "execution_count": 3,
   "id": "45357127-b675-4e68-ba95-938ea8612cad",
   "metadata": {},
   "outputs": [
    {
     "data": {
      "text/html": [
       "<pre style=\"white-space:pre;overflow-x:auto;line-height:normal;font-family:Menlo,'DejaVu Sans Mono',consolas,'Courier New',monospace\">device: cu<span style=\"color: #00ff00; text-decoration-color: #00ff00; font-weight: bold\">da:2</span>  ———  host: mach\n",
       "</pre>\n"
      ],
      "text/plain": [
       "device: cu\u001b[1;92mda:2\u001b[0m  ———  host: mach\n"
      ]
     },
     "metadata": {},
     "output_type": "display_data"
    }
   ],
   "source": [
    "device_idx = 2\n",
    "device = f'cuda:{device_idx}'\n",
    "\n",
    "print(f\"device: {device}  ———  host: {os.uname().nodename}\")"
   ]
  },
  {
   "cell_type": "code",
   "execution_count": 11,
   "id": "e4be7557-7e26-4fbc-b73a-2920635f4e0e",
   "metadata": {},
   "outputs": [],
   "source": [
    "def sc_extract_info(fname: str):\n",
    "    type, lamb, lr, iter, seed = fname.split('_')\n",
    "    if type == 'fista':\n",
    "        type = 'ista'\n",
    "        lr = lr.split(':')[-1]\n",
    "    else:\n",
    "        lr = lr.split('-')[1]\n",
    "    info = dict(\n",
    "        type=str(type),\n",
    "        lr=float(lr),\n",
    "        iter=int(iter.split('-')[1]),\n",
    "        lamb=float(lamb.split(':')[-1]),\n",
    "        seed=int(seed.split('.')[0].split('-')[1]),\n",
    "    )\n",
    "    return info\n",
    "\n",
    "\n",
    "def analyze_fits_sc(fits: str):\n",
    "    df_sc = collections.defaultdict(list)\n",
    "    for fname in tqdm(fits, ncols=60):\n",
    "        vals = sc_extract_info(fname)\n",
    "        if fname in best_lca_seeds:\n",
    "            quality = 'best'\n",
    "        elif fname.replace('.npz', '') in selected_lca:\n",
    "            quality = 'good'\n",
    "        else:\n",
    "            quality = 'bad'\n",
    "        vals['quality'] = quality\n",
    "        # load\n",
    "        run = run = np.load(pjoin(root, fname))\n",
    "        y, z = run['recons'], run['activations']\n",
    "        # recon\n",
    "        vals['mse_map'] = tr.model.loss_recon(\n",
    "            y=tr.to(y.reshape(-1, 1, 16, 16)),\n",
    "            x=tr.dl_vld.dataset.tensors[0],\n",
    "        ).mean().item()\n",
    "        # sparse score\n",
    "        lifetime, population, _ = sparse_score(\n",
    "            z.astype('float32'))\n",
    "        vals['lifetime'] = lifetime.mean()\n",
    "        vals['population'] = population.mean()\n",
    "        # add values\n",
    "        for k, v in vals.items():\n",
    "            df_sc[k].append(v)\n",
    "    \n",
    "    df_sc = pd.DataFrame(df_sc)\n",
    "    return df_sc"
   ]
  },
  {
   "cell_type": "markdown",
   "id": "99199578-9811-4ff4-b521-a7d7033216b8",
   "metadata": {},
   "source": [
    "## Load LCA results"
   ]
  },
  {
   "cell_type": "code",
   "execution_count": 12,
   "id": "4187db86-e9df-475e-aae8-568a9c9a35c9",
   "metadata": {},
   "outputs": [
    {
     "data": {
      "text/html": [
       "<pre style=\"white-space:pre;overflow-x:auto;line-height:normal;font-family:Menlo,'DejaVu Sans Mono',consolas,'Courier New',monospace\"><span style=\"font-weight: bold\">{</span><span style=\"color: #008000; text-decoration-color: #008000\">'lca'</span>: <span style=\"color: #008080; text-decoration-color: #008080; font-weight: bold\">330</span><span style=\"font-weight: bold\">}</span>\n",
       "</pre>\n"
      ],
      "text/plain": [
       "\u001b[1m{\u001b[0m\u001b[32m'lca'\u001b[0m: \u001b[1;36m330\u001b[0m\u001b[1m}\u001b[0m\n"
      ]
     },
     "metadata": {},
     "output_type": "display_data"
    }
   ],
   "source": [
    "root = add_home('Dropbox/chkpts/LCA')\n",
    "fits_lca = sorted(os.listdir(root))\n",
    "\n",
    "print({'lca': len(os.listdir(root))})"
   ]
  },
  {
   "cell_type": "code",
   "execution_count": null,
   "id": "a8d2c8ca-319a-4d6f-baeb-278fe3b86c3e",
   "metadata": {},
   "outputs": [],
   "source": []
  },
  {
   "cell_type": "code",
   "execution_count": 13,
   "id": "eef899b3-75f5-40e3-8da5-15c0f4e58f35",
   "metadata": {},
   "outputs": [
    {
     "data": {
      "text/html": [
       "<pre style=\"white-space:pre;overflow-x:auto;line-height:normal;font-family:Menlo,'DejaVu Sans Mono',consolas,'Courier New',monospace\"><span style=\"color: #008080; text-decoration-color: #008080; font-weight: bold\">135</span>\n",
       "</pre>\n"
      ],
      "text/plain": [
       "\u001b[1;36m135\u001b[0m\n"
      ]
     },
     "metadata": {},
     "output_type": "display_data"
    }
   ],
   "source": [
    "selected_lca = os.listdir(pjoin(fig_base_dir, 'selected_ista_lca'))\n",
    "selected_lca = [f.replace('.png', '') for f in sorted(selected_lca)]\n",
    "selected_lca = [f for f in selected_lca if f.startswith('lca')]\n",
    "\n",
    "print(len(selected_lca))"
   ]
  },
  {
   "cell_type": "code",
   "execution_count": null,
   "id": "f6d9d90b-c353-451b-be9d-71680d22c0dd",
   "metadata": {},
   "outputs": [],
   "source": []
  },
  {
   "cell_type": "code",
   "execution_count": 14,
   "id": "c886ff59-218e-422d-9029-b1c7c422de48",
   "metadata": {},
   "outputs": [
    {
     "data": {
      "text/html": [
       "<pre style=\"white-space:pre;overflow-x:auto;line-height:normal;font-family:Menlo,'DejaVu Sans Mono',consolas,'Courier New',monospace\"><span style=\"font-weight: bold\">[</span>\n",
       "    <span style=\"color: #008000; text-decoration-color: #008000\">'lca_lamb-0.05:0.7:0.1_lr-0.01_iter-900_seed-1.npz'</span>,\n",
       "    <span style=\"color: #008000; text-decoration-color: #008000\">'lca_lamb-0.05:0.7:0.1_lr-0.01_iter-900_seed-2.npz'</span>,\n",
       "    <span style=\"color: #008000; text-decoration-color: #008000\">'lca_lamb-0.05:0.7:0.1_lr-0.01_iter-900_seed-3.npz'</span>,\n",
       "    <span style=\"color: #008000; text-decoration-color: #008000\">'lca_lamb-0.05:0.7:0.1_lr-0.01_iter-900_seed-4.npz'</span>,\n",
       "    <span style=\"color: #008000; text-decoration-color: #008000\">'lca_lamb-0.05:0.7:0.1_lr-0.01_iter-900_seed-5.npz'</span>\n",
       "<span style=\"font-weight: bold\">]</span>\n",
       "</pre>\n"
      ],
      "text/plain": [
       "\u001b[1m[\u001b[0m\n",
       "    \u001b[32m'lca_lamb-0.05:0.7:0.1_lr-0.01_iter-900_seed-1.npz'\u001b[0m,\n",
       "    \u001b[32m'lca_lamb-0.05:0.7:0.1_lr-0.01_iter-900_seed-2.npz'\u001b[0m,\n",
       "    \u001b[32m'lca_lamb-0.05:0.7:0.1_lr-0.01_iter-900_seed-3.npz'\u001b[0m,\n",
       "    \u001b[32m'lca_lamb-0.05:0.7:0.1_lr-0.01_iter-900_seed-4.npz'\u001b[0m,\n",
       "    \u001b[32m'lca_lamb-0.05:0.7:0.1_lr-0.01_iter-900_seed-5.npz'\u001b[0m\n",
       "\u001b[1m]\u001b[0m\n"
      ]
     },
     "metadata": {},
     "output_type": "display_data"
    }
   ],
   "source": [
    "best_lca = ['lca_lamb-0.05:0.7:0.1_lr-0.01_iter-900_seed-1']\n",
    "\n",
    "best_lca_seeds = []\n",
    "for target_string in best_lca:\n",
    "    pattern = target_string.rsplit('_', 1)[0] + '_seed-\\d+'\n",
    "    matches = [s for s in fits_lca if re.match(pattern, s)]\n",
    "    best_lca_seeds.extend(matches)\n",
    "print(best_lca_seeds)"
   ]
  },
  {
   "cell_type": "code",
   "execution_count": null,
   "id": "13e7a88d-e61c-4fd9-a4d6-a62d0424186c",
   "metadata": {},
   "outputs": [],
   "source": []
  },
  {
   "cell_type": "code",
   "execution_count": 15,
   "id": "05a391d0-8dc1-4106-b8f4-36cb717bab91",
   "metadata": {},
   "outputs": [],
   "source": [
    "tr = TrainerVAE(\n",
    "    MODEL_CLASSES['poisson'](CFG_CLASSES['poisson'](dataset='vH16', save=False)),\n",
    "    ConfigTrainVAE(),\n",
    "    device=device,\n",
    ")"
   ]
  },
  {
   "cell_type": "code",
   "execution_count": null,
   "id": "918aecb3-cb70-43c3-bfda-b97c05f91197",
   "metadata": {},
   "outputs": [],
   "source": []
  },
  {
   "cell_type": "code",
   "execution_count": 16,
   "id": "e54809cb-ec06-484b-9d07-bb8d0a63f64b",
   "metadata": {},
   "outputs": [
    {
     "name": "stderr",
     "output_type": "stream",
     "text": [
      "  0%|                               | 0/330 [00:00<?, ?it/s]\n"
     ]
    },
    {
     "ename": "RuntimeError",
     "evalue": "The size of tensor a (28224) must match the size of tensor b (25811) at non-singleton dimension 0",
     "output_type": "error",
     "traceback": [
      "\u001b[0;31m---------------------------------------------------------------------------\u001b[0m",
      "\u001b[0;31mRuntimeError\u001b[0m                              Traceback (most recent call last)",
      "Cell \u001b[0;32mIn[16], line 1\u001b[0m\n\u001b[0;32m----> 1\u001b[0m df_lca \u001b[38;5;241m=\u001b[39m analyze_fits_sc(fits_lca)\n",
      "Cell \u001b[0;32mIn[11], line 33\u001b[0m, in \u001b[0;36manalyze_fits_sc\u001b[0;34m(fits)\u001b[0m\n\u001b[1;32m     31\u001b[0m y, z \u001b[38;5;241m=\u001b[39m run[\u001b[38;5;124m'\u001b[39m\u001b[38;5;124mrecons\u001b[39m\u001b[38;5;124m'\u001b[39m], run[\u001b[38;5;124m'\u001b[39m\u001b[38;5;124mactivations\u001b[39m\u001b[38;5;124m'\u001b[39m]\n\u001b[1;32m     32\u001b[0m \u001b[38;5;66;03m# recon\u001b[39;00m\n\u001b[0;32m---> 33\u001b[0m vals[\u001b[38;5;124m'\u001b[39m\u001b[38;5;124mmse_map\u001b[39m\u001b[38;5;124m'\u001b[39m] \u001b[38;5;241m=\u001b[39m tr\u001b[38;5;241m.\u001b[39mmodel\u001b[38;5;241m.\u001b[39mloss_recon(\n\u001b[1;32m     34\u001b[0m     y\u001b[38;5;241m=\u001b[39mtr\u001b[38;5;241m.\u001b[39mto(y\u001b[38;5;241m.\u001b[39mreshape(\u001b[38;5;241m-\u001b[39m\u001b[38;5;241m1\u001b[39m, \u001b[38;5;241m1\u001b[39m, \u001b[38;5;241m16\u001b[39m, \u001b[38;5;241m16\u001b[39m)),\n\u001b[1;32m     35\u001b[0m     x\u001b[38;5;241m=\u001b[39mtr\u001b[38;5;241m.\u001b[39mdl_vld\u001b[38;5;241m.\u001b[39mdataset\u001b[38;5;241m.\u001b[39mtensors[\u001b[38;5;241m0\u001b[39m],\n\u001b[1;32m     36\u001b[0m )\u001b[38;5;241m.\u001b[39mmean()\u001b[38;5;241m.\u001b[39mitem()\n\u001b[1;32m     37\u001b[0m \u001b[38;5;66;03m# sparse score\u001b[39;00m\n\u001b[1;32m     38\u001b[0m lifetime, population, _ \u001b[38;5;241m=\u001b[39m sparse_score(\n\u001b[1;32m     39\u001b[0m     z\u001b[38;5;241m.\u001b[39mastype(\u001b[38;5;124m'\u001b[39m\u001b[38;5;124mfloat32\u001b[39m\u001b[38;5;124m'\u001b[39m))\n",
      "File \u001b[0;32m~/Dropbox/git/_PoissonVAE/vae/vae.py:70\u001b[0m, in \u001b[0;36mBaseVAE.loss_recon\u001b[0;34m(self, y, x)\u001b[0m\n\u001b[1;32m     68\u001b[0m \u001b[38;5;28;01mdef\u001b[39;00m \u001b[38;5;21mloss_recon\u001b[39m(\u001b[38;5;28mself\u001b[39m, y, x):\n\u001b[1;32m     69\u001b[0m \t\u001b[38;5;28;01mreturn\u001b[39;00m torch\u001b[38;5;241m.\u001b[39msum(\n\u001b[0;32m---> 70\u001b[0m \t\t\u001b[38;5;28mself\u001b[39m\u001b[38;5;241m.\u001b[39mmse(y, x),\n\u001b[1;32m     71\u001b[0m \t\tdim\u001b[38;5;241m=\u001b[39m[\u001b[38;5;241m1\u001b[39m, \u001b[38;5;241m2\u001b[39m, \u001b[38;5;241m3\u001b[39m],\n\u001b[1;32m     72\u001b[0m \t)\n",
      "File \u001b[0;32m~/anaconda3/lib/python3.11/site-packages/torch/nn/modules/module.py:1553\u001b[0m, in \u001b[0;36mModule._wrapped_call_impl\u001b[0;34m(self, *args, **kwargs)\u001b[0m\n\u001b[1;32m   1551\u001b[0m     \u001b[38;5;28;01mreturn\u001b[39;00m \u001b[38;5;28mself\u001b[39m\u001b[38;5;241m.\u001b[39m_compiled_call_impl(\u001b[38;5;241m*\u001b[39margs, \u001b[38;5;241m*\u001b[39m\u001b[38;5;241m*\u001b[39mkwargs)  \u001b[38;5;66;03m# type: ignore[misc]\u001b[39;00m\n\u001b[1;32m   1552\u001b[0m \u001b[38;5;28;01melse\u001b[39;00m:\n\u001b[0;32m-> 1553\u001b[0m     \u001b[38;5;28;01mreturn\u001b[39;00m \u001b[38;5;28mself\u001b[39m\u001b[38;5;241m.\u001b[39m_call_impl(\u001b[38;5;241m*\u001b[39margs, \u001b[38;5;241m*\u001b[39m\u001b[38;5;241m*\u001b[39mkwargs)\n",
      "File \u001b[0;32m~/anaconda3/lib/python3.11/site-packages/torch/nn/modules/module.py:1562\u001b[0m, in \u001b[0;36mModule._call_impl\u001b[0;34m(self, *args, **kwargs)\u001b[0m\n\u001b[1;32m   1557\u001b[0m \u001b[38;5;66;03m# If we don't have any hooks, we want to skip the rest of the logic in\u001b[39;00m\n\u001b[1;32m   1558\u001b[0m \u001b[38;5;66;03m# this function, and just call forward.\u001b[39;00m\n\u001b[1;32m   1559\u001b[0m \u001b[38;5;28;01mif\u001b[39;00m \u001b[38;5;129;01mnot\u001b[39;00m (\u001b[38;5;28mself\u001b[39m\u001b[38;5;241m.\u001b[39m_backward_hooks \u001b[38;5;129;01mor\u001b[39;00m \u001b[38;5;28mself\u001b[39m\u001b[38;5;241m.\u001b[39m_backward_pre_hooks \u001b[38;5;129;01mor\u001b[39;00m \u001b[38;5;28mself\u001b[39m\u001b[38;5;241m.\u001b[39m_forward_hooks \u001b[38;5;129;01mor\u001b[39;00m \u001b[38;5;28mself\u001b[39m\u001b[38;5;241m.\u001b[39m_forward_pre_hooks\n\u001b[1;32m   1560\u001b[0m         \u001b[38;5;129;01mor\u001b[39;00m _global_backward_pre_hooks \u001b[38;5;129;01mor\u001b[39;00m _global_backward_hooks\n\u001b[1;32m   1561\u001b[0m         \u001b[38;5;129;01mor\u001b[39;00m _global_forward_hooks \u001b[38;5;129;01mor\u001b[39;00m _global_forward_pre_hooks):\n\u001b[0;32m-> 1562\u001b[0m     \u001b[38;5;28;01mreturn\u001b[39;00m forward_call(\u001b[38;5;241m*\u001b[39margs, \u001b[38;5;241m*\u001b[39m\u001b[38;5;241m*\u001b[39mkwargs)\n\u001b[1;32m   1564\u001b[0m \u001b[38;5;28;01mtry\u001b[39;00m:\n\u001b[1;32m   1565\u001b[0m     result \u001b[38;5;241m=\u001b[39m \u001b[38;5;28;01mNone\u001b[39;00m\n",
      "File \u001b[0;32m~/anaconda3/lib/python3.11/site-packages/torch/nn/modules/loss.py:538\u001b[0m, in \u001b[0;36mMSELoss.forward\u001b[0;34m(self, input, target)\u001b[0m\n\u001b[1;32m    537\u001b[0m \u001b[38;5;28;01mdef\u001b[39;00m \u001b[38;5;21mforward\u001b[39m(\u001b[38;5;28mself\u001b[39m, \u001b[38;5;28minput\u001b[39m: Tensor, target: Tensor) \u001b[38;5;241m-\u001b[39m\u001b[38;5;241m>\u001b[39m Tensor:\n\u001b[0;32m--> 538\u001b[0m     \u001b[38;5;28;01mreturn\u001b[39;00m F\u001b[38;5;241m.\u001b[39mmse_loss(\u001b[38;5;28minput\u001b[39m, target, reduction\u001b[38;5;241m=\u001b[39m\u001b[38;5;28mself\u001b[39m\u001b[38;5;241m.\u001b[39mreduction)\n",
      "File \u001b[0;32m~/anaconda3/lib/python3.11/site-packages/torch/nn/functional.py:3383\u001b[0m, in \u001b[0;36mmse_loss\u001b[0;34m(input, target, size_average, reduce, reduction)\u001b[0m\n\u001b[1;32m   3380\u001b[0m \u001b[38;5;28;01mif\u001b[39;00m size_average \u001b[38;5;129;01mis\u001b[39;00m \u001b[38;5;129;01mnot\u001b[39;00m \u001b[38;5;28;01mNone\u001b[39;00m \u001b[38;5;129;01mor\u001b[39;00m reduce \u001b[38;5;129;01mis\u001b[39;00m \u001b[38;5;129;01mnot\u001b[39;00m \u001b[38;5;28;01mNone\u001b[39;00m:\n\u001b[1;32m   3381\u001b[0m     reduction \u001b[38;5;241m=\u001b[39m _Reduction\u001b[38;5;241m.\u001b[39mlegacy_get_string(size_average, reduce)\n\u001b[0;32m-> 3383\u001b[0m expanded_input, expanded_target \u001b[38;5;241m=\u001b[39m torch\u001b[38;5;241m.\u001b[39mbroadcast_tensors(\u001b[38;5;28minput\u001b[39m, target)\n\u001b[1;32m   3384\u001b[0m \u001b[38;5;28;01mreturn\u001b[39;00m torch\u001b[38;5;241m.\u001b[39m_C\u001b[38;5;241m.\u001b[39m_nn\u001b[38;5;241m.\u001b[39mmse_loss(expanded_input, expanded_target, _Reduction\u001b[38;5;241m.\u001b[39mget_enum(reduction))\n",
      "File \u001b[0;32m~/anaconda3/lib/python3.11/site-packages/torch/functional.py:77\u001b[0m, in \u001b[0;36mbroadcast_tensors\u001b[0;34m(*tensors)\u001b[0m\n\u001b[1;32m     75\u001b[0m \u001b[38;5;28;01mif\u001b[39;00m has_torch_function(tensors):\n\u001b[1;32m     76\u001b[0m     \u001b[38;5;28;01mreturn\u001b[39;00m handle_torch_function(broadcast_tensors, tensors, \u001b[38;5;241m*\u001b[39mtensors)\n\u001b[0;32m---> 77\u001b[0m \u001b[38;5;28;01mreturn\u001b[39;00m _VF\u001b[38;5;241m.\u001b[39mbroadcast_tensors(tensors)\n",
      "\u001b[0;31mRuntimeError\u001b[0m: The size of tensor a (28224) must match the size of tensor b (25811) at non-singleton dimension 0"
     ]
    }
   ],
   "source": [
    "df_lca = analyze_fits_sc(fits_lca)"
   ]
  },
  {
   "cell_type": "code",
   "execution_count": null,
   "id": "06139326-36f4-412a-886f-fe3f57011f8e",
   "metadata": {},
   "outputs": [],
   "source": []
  },
  {
   "cell_type": "code",
   "execution_count": 17,
   "id": "3899077c-cb05-4951-aa50-dd327b421828",
   "metadata": {},
   "outputs": [
    {
     "data": {
      "text/plain": [
       "torch.Size([25811, 1, 16, 16])"
      ]
     },
     "execution_count": 17,
     "metadata": {},
     "output_type": "execute_result"
    }
   ],
   "source": [
    "tr.dl_vld.dataset.tensors[0].shape"
   ]
  },
  {
   "cell_type": "code",
   "execution_count": null,
   "id": "1405b209-9d6e-4fdf-ae77-b6cabf34dd9b",
   "metadata": {},
   "outputs": [],
   "source": []
  },
  {
   "cell_type": "code",
   "execution_count": null,
   "id": "17512234-715b-4029-84c9-569977462055",
   "metadata": {},
   "outputs": [],
   "source": []
  },
  {
   "cell_type": "code",
   "execution_count": null,
   "id": "da25a66a-198d-4e8d-80c3-2dc371035e18",
   "metadata": {},
   "outputs": [],
   "source": []
  },
  {
   "cell_type": "code",
   "execution_count": null,
   "id": "d2305901-f279-4d7a-858b-92a14649288d",
   "metadata": {},
   "outputs": [],
   "source": []
  },
  {
   "cell_type": "code",
   "execution_count": null,
   "id": "012d8068-0c11-4ea4-9128-2b477bfa5e9a",
   "metadata": {},
   "outputs": [],
   "source": []
  }
 ],
 "metadata": {
  "kernelspec": {
   "display_name": "Python 3 (ipykernel)",
   "language": "python",
   "name": "python3"
  },
  "language_info": {
   "codemirror_mode": {
    "name": "ipython",
    "version": 3
   },
   "file_extension": ".py",
   "mimetype": "text/x-python",
   "name": "python",
   "nbconvert_exporter": "python",
   "pygments_lexer": "ipython3",
   "version": "3.11.7"
  }
 },
 "nbformat": 4,
 "nbformat_minor": 5
}
