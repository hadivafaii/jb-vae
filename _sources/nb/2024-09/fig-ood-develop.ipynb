{
 "cells": [
  {
   "cell_type": "markdown",
   "id": "48f55a35-d5b5-468f-b574-730df61e9609",
   "metadata": {},
   "source": [
    "# fig — ood (develop)\n",
    "\n",
    "**Motivation**: host = ```mach```, device = ```cuda:0``` <br>"
   ]
  },
  {
   "cell_type": "code",
   "execution_count": 1,
   "id": "f823b1e9-05f2-49a0-8296-4a1819c12e81",
   "metadata": {
    "tags": [
     "hide-input"
    ]
   },
   "outputs": [],
   "source": [
    "# HIDE CODE\n",
    "\n",
    "\n",
    "import os, sys\n",
    "from IPython.display import display\n",
    "\n",
    "# tmp & extras dir\n",
    "git_dir = os.path.join(os.environ['HOME'], 'Dropbox/git')\n",
    "extras_dir = os.path.join(git_dir, 'jb-vae/_extras')\n",
    "fig_base_dir = os.path.join(git_dir, 'jb-vae/figs')\n",
    "tmp_dir = os.path.join(git_dir, 'jb-vae/tmp')\n",
    "\n",
    "# GitHub\n",
    "sys.path.insert(0, os.path.join(git_dir, '_IterativeVAE'))\n",
    "from figures.fighelper import *\n",
    "from vae.train_vae import *\n",
    "\n",
    "# warnings, tqdm, & style\n",
    "warnings.filterwarnings('ignore', category=DeprecationWarning)\n",
    "warnings.filterwarnings('ignore', category=FutureWarning)\n",
    "warnings.filterwarnings('ignore', category=UserWarning)\n",
    "from rich.jupyter import print\n",
    "%matplotlib inline\n",
    "set_style()"
   ]
  },
  {
   "cell_type": "code",
   "execution_count": 2,
   "id": "45357127-b675-4e68-ba95-938ea8612cad",
   "metadata": {},
   "outputs": [
    {
     "data": {
      "text/html": [
       "<pre style=\"white-space:pre;overflow-x:auto;line-height:normal;font-family:Menlo,'DejaVu Sans Mono',consolas,'Courier New',monospace\">device: cu<span style=\"color: #00ff00; text-decoration-color: #00ff00; font-weight: bold\">da:0</span>  ———  host: mach\n",
       "</pre>\n"
      ],
      "text/plain": [
       "device: cu\u001b[1;92mda:0\u001b[0m  ———  host: mach\n"
      ]
     },
     "metadata": {},
     "output_type": "display_data"
    }
   ],
   "source": [
    "from figures.analysis import *\n",
    "\n",
    "device_idx = 0\n",
    "device = f'cuda:{device_idx}'\n",
    "\n",
    "print(f\"device: {device}  ———  host: {os.uname().nodename}\")"
   ]
  },
  {
   "cell_type": "code",
   "execution_count": 3,
   "id": "68e68fe7-9f19-4e7e-9574-9bf8ccb76bcb",
   "metadata": {},
   "outputs": [
    {
     "data": {
      "text/html": [
       "<pre style=\"white-space:pre;overflow-x:auto;line-height:normal;font-family:Menlo,'DejaVu Sans Mono',consolas,'Courier New',monospace\"><span style=\"font-weight: bold\">[]</span>\n",
       "</pre>\n"
      ],
      "text/plain": [
       "\u001b[1m[\u001b[0m\u001b[1m]\u001b[0m\n"
      ]
     },
     "metadata": {},
     "output_type": "display_data"
    }
   ],
   "source": [
    "fig_base_dir = pjoin(fig_base_dir, 'iclr_oct02', 'ood')\n",
    "os.makedirs(fig_base_dir, exist_ok=True)\n",
    "print(os.listdir(fig_base_dir))\n",
    "\n",
    "kws_fig = {\n",
    "    'transparent': True,\n",
    "    'bbox_inches': 'tight',\n",
    "    'dpi': 300,\n",
    "}"
   ]
  },
  {
   "cell_type": "markdown",
   "id": "77537eef-2d01-4360-aa0c-07a155ad9b5f",
   "metadata": {},
   "source": [
    "## VAE: amort and iterative"
   ]
  },
  {
   "cell_type": "markdown",
   "id": "2c7e848e-48c3-460c-abdc-250a45953a67",
   "metadata": {},
   "source": [
    "### iP-VAE"
   ]
  },
  {
   "cell_type": "code",
   "execution_count": 4,
   "id": "709094c6-32a0-459a-9611-53c6ea5067d5",
   "metadata": {},
   "outputs": [
    {
     "data": {
      "text/html": [
       "<pre style=\"white-space:pre;overflow-x:auto;line-height:normal;font-family:Menlo,'DejaVu Sans Mono',consolas,'Courier New',monospace\"><span style=\"font-weight: bold\">[</span>\n",
       "    <span style=\"color: #008000; text-decoration-color: #008000\">'&lt;conv|conv&gt;_(16,8.0)'</span><span style=\"color: #000000; text-decoration-color: #000000\">,</span>\n",
       "<span style=\"color: #000000; text-decoration-color: #000000\">    </span><span style=\"color: #008000; text-decoration-color: #008000\">'&lt;conv|conv&gt;_(4,1.5)'</span><span style=\"color: #000000; text-decoration-color: #000000\">,</span>\n",
       "<span style=\"color: #000000; text-decoration-color: #000000\">    </span><span style=\"color: #008000; text-decoration-color: #008000\">'&lt;jacob|conv&gt;_(16,8.0)'</span><span style=\"color: #000000; text-decoration-color: #000000\">,</span>\n",
       "<span style=\"color: #000000; text-decoration-color: #000000\">    </span><span style=\"color: #008000; text-decoration-color: #008000\">'&lt;jacob|conv&gt;_(2,0.75)'</span><span style=\"color: #000000; text-decoration-color: #000000\">,</span>\n",
       "<span style=\"color: #000000; text-decoration-color: #000000\">    </span><span style=\"color: #008000; text-decoration-color: #008000\">'&lt;jacob|conv&gt;_(4,1.5)'</span><span style=\"color: #000000; text-decoration-color: #000000\">,</span>\n",
       "<span style=\"color: #000000; text-decoration-color: #000000\">    </span><span style=\"color: #008000; text-decoration-color: #008000\">'&lt;jacob|mlp&gt;_(16,8.0)'</span><span style=\"color: #000000; text-decoration-color: #000000\">,</span>\n",
       "<span style=\"color: #000000; text-decoration-color: #000000\">    </span><span style=\"color: #008000; text-decoration-color: #008000\">'&lt;jacob|mlp&gt;_(4,1.5)'</span><span style=\"color: #000000; text-decoration-color: #000000\">,</span>\n",
       "<span style=\"color: #000000; text-decoration-color: #000000\">    </span><span style=\"color: #008000; text-decoration-color: #008000\">'&lt;jacob|mlp&gt;_(64,24.0)'</span><span style=\"color: #000000; text-decoration-color: #000000\">,</span>\n",
       "<span style=\"color: #000000; text-decoration-color: #000000\">    </span><span style=\"color: #008000; text-decoration-color: #008000\">'&lt;mlp|mlp&gt;_(16,8.0)'</span><span style=\"color: #000000; text-decoration-color: #000000\">,</span>\n",
       "<span style=\"color: #000000; text-decoration-color: #000000\">    </span><span style=\"color: #008000; text-decoration-color: #008000\">'&lt;mlp|mlp&gt;_(4,1.5)'</span><span style=\"color: #000000; text-decoration-color: #000000\">,</span>\n",
       "<span style=\"color: #000000; text-decoration-color: #000000\">    </span><span style=\"color: #008000; text-decoration-color: #008000\">'&lt;mlp|mlp&gt;_(64,24.0)'</span>\n",
       "<span style=\"font-weight: bold\">]</span>\n",
       "</pre>\n"
      ],
      "text/plain": [
       "\u001b[1m[\u001b[0m\n",
       "    \u001b[32m'\u001b[0m\u001b[32m<\u001b[0m\u001b[32mconv|conv\u001b[0m\u001b[32m>_\u001b[0m\u001b[32m(\u001b[0m\u001b[32m16,8.0\u001b[0m\u001b[32m)\u001b[0m\u001b[32m'\u001b[0m\u001b[39m,\u001b[0m\n",
       "\u001b[39m    \u001b[0m\u001b[32m'<conv|conv>_\u001b[0m\u001b[32m(\u001b[0m\u001b[32m4,1.5\u001b[0m\u001b[32m)\u001b[0m\u001b[32m'\u001b[0m\u001b[39m,\u001b[0m\n",
       "\u001b[39m    \u001b[0m\u001b[32m'<jacob|conv>_\u001b[0m\u001b[32m(\u001b[0m\u001b[32m16,8.0\u001b[0m\u001b[32m)\u001b[0m\u001b[32m'\u001b[0m\u001b[39m,\u001b[0m\n",
       "\u001b[39m    \u001b[0m\u001b[32m'<jacob|conv>_\u001b[0m\u001b[32m(\u001b[0m\u001b[32m2,0.75\u001b[0m\u001b[32m)\u001b[0m\u001b[32m'\u001b[0m\u001b[39m,\u001b[0m\n",
       "\u001b[39m    \u001b[0m\u001b[32m'<jacob|conv>_\u001b[0m\u001b[32m(\u001b[0m\u001b[32m4,1.5\u001b[0m\u001b[32m)\u001b[0m\u001b[32m'\u001b[0m\u001b[39m,\u001b[0m\n",
       "\u001b[39m    \u001b[0m\u001b[32m'<jacob|mlp>_\u001b[0m\u001b[32m(\u001b[0m\u001b[32m16,8.0\u001b[0m\u001b[32m)\u001b[0m\u001b[32m'\u001b[0m\u001b[39m,\u001b[0m\n",
       "\u001b[39m    \u001b[0m\u001b[32m'<jacob|mlp>_\u001b[0m\u001b[32m(\u001b[0m\u001b[32m4,1.5\u001b[0m\u001b[32m)\u001b[0m\u001b[32m'\u001b[0m\u001b[39m,\u001b[0m\n",
       "\u001b[39m    \u001b[0m\u001b[32m'<jacob|mlp>_\u001b[0m\u001b[32m(\u001b[0m\u001b[32m64,24.0\u001b[0m\u001b[32m)\u001b[0m\u001b[32m'\u001b[0m\u001b[39m,\u001b[0m\n",
       "\u001b[39m    \u001b[0m\u001b[32m'<mlp|mlp>_\u001b[0m\u001b[32m(\u001b[0m\u001b[32m16,8.0\u001b[0m\u001b[32m)\u001b[0m\u001b[32m'\u001b[0m\u001b[39m,\u001b[0m\n",
       "\u001b[39m    \u001b[0m\u001b[32m'<mlp|mlp>_\u001b[0m\u001b[32m(\u001b[0m\u001b[32m4,1.5\u001b[0m\u001b[32m)\u001b[0m\u001b[32m'\u001b[0m\u001b[39m,\u001b[0m\n",
       "\u001b[39m    \u001b[0m\u001b[32m'<mlp|mlp\u001b[0m\u001b[32m>\u001b[0m\u001b[32m_\u001b[0m\u001b[32m(\u001b[0m\u001b[32m64,24.0\u001b[0m\u001b[32m)\u001b[0m\u001b[32m'\u001b[0m\n",
       "\u001b[1m]\u001b[0m\n"
      ]
     },
     "metadata": {},
     "output_type": "display_data"
    }
   ],
   "source": [
    "mnist_to_load = get_mnist_models(device)\n",
    "print(sorted(mnist_to_load))"
   ]
  },
  {
   "cell_type": "code",
   "execution_count": 5,
   "id": "1c8efc3d-5e6e-44c4-bfe5-fde17b77106a",
   "metadata": {},
   "outputs": [],
   "source": [
    "selected_models = [\n",
    "    '<jacob|mlp>_(64,24.0)',\n",
    "    '<mlp|mlp>_(64,24.0)',\n",
    "]"
   ]
  },
  {
   "cell_type": "code",
   "execution_count": 6,
   "id": "9a57e38c-a76b-47d5-b00e-1884d899c406",
   "metadata": {},
   "outputs": [],
   "source": [
    "trainers = {}\n",
    "for model_name in selected_models:\n",
    "    trainers[model_name] = load_model(\n",
    "        **mnist_to_load[model_name])[0]"
   ]
  },
  {
   "cell_type": "code",
   "execution_count": null,
   "id": "0fa61dc3-022e-4d4a-aeb1-efc57e390f31",
   "metadata": {},
   "outputs": [],
   "source": []
  },
  {
   "cell_type": "code",
   "execution_count": null,
   "id": "1e96c89d-844a-4729-9fd3-d7d9d3ffe4a6",
   "metadata": {},
   "outputs": [],
   "source": []
  },
  {
   "cell_type": "code",
   "execution_count": 7,
   "id": "1905c83f-7a5c-4eed-aaa7-05de288a63e0",
   "metadata": {},
   "outputs": [],
   "source": [
    "from analysis.ood import ood_analysis"
   ]
  },
  {
   "cell_type": "code",
   "execution_count": null,
   "id": "22c40583-5e85-4a69-83ff-a9e80f96883f",
   "metadata": {},
   "outputs": [],
   "source": []
  },
  {
   "cell_type": "code",
   "execution_count": 8,
   "id": "92f62b77-3db5-49c1-99ad-1a5c134e6ab3",
   "metadata": {},
   "outputs": [
    {
     "name": "stderr",
     "output_type": "stream",
     "text": [
      "100%|█████████████████████████████████| 14/14 [00:02<00:00,  5.87it/s]\n",
      "100%|█████████████████████████████████| 84/84 [00:13<00:00,  6.31it/s]\n",
      "100%|█████████████████████████████████| 14/14 [02:11<00:00,  9.42s/it]\n"
     ]
    },
    {
     "data": {
      "text/html": [
       "<pre style=\"white-space:pre;overflow-x:auto;line-height:normal;font-family:Menlo,'DejaVu Sans Mono',consolas,'Courier New',monospace\">______________________________________________________________________________________________________________\n",
       "</pre>\n"
      ],
      "text/plain": [
       "______________________________________________________________________________________________________________\n"
      ]
     },
     "metadata": {},
     "output_type": "display_data"
    },
    {
     "data": {
      "text/html": [
       "<pre style=\"white-space:pre;overflow-x:auto;line-height:normal;font-family:Menlo,'DejaVu Sans Mono',consolas,'Courier New',monospace\">mode: <span style=\"font-weight: bold\">&lt;</span><span style=\"color: #ff00ff; text-decoration-color: #ff00ff; font-weight: bold\">jacob|mlp</span><span style=\"font-weight: bold\">&gt;</span><span style=\"color: #800080; text-decoration-color: #800080; font-weight: bold\">_</span><span style=\"font-weight: bold\">(</span><span style=\"color: #008080; text-decoration-color: #008080; font-weight: bold\">64</span>,<span style=\"color: #008080; text-decoration-color: #008080; font-weight: bold\">24.0</span><span style=\"font-weight: bold\">)</span> ——— target: EMNIST\n",
       "mse:    <span style=\"color: #008080; text-decoration-color: #008080; font-weight: bold\">13.10</span>\n",
       "accuracy:       <span style=\"color: #008080; text-decoration-color: #008080; font-weight: bold\">0.765</span>\n",
       "</pre>\n"
      ],
      "text/plain": [
       "mode: \u001b[1m<\u001b[0m\u001b[1;95mjacob|mlp\u001b[0m\u001b[1m>\u001b[0m\u001b[1;35m_\u001b[0m\u001b[1m(\u001b[0m\u001b[1;36m64\u001b[0m,\u001b[1;36m24.0\u001b[0m\u001b[1m)\u001b[0m ——— target: EMNIST\n",
       "mse:    \u001b[1;36m13.10\u001b[0m\n",
       "accuracy:       \u001b[1;36m0.765\u001b[0m\n"
      ]
     },
     "metadata": {},
     "output_type": "display_data"
    },
    {
     "data": {
      "image/png": "[encoded data removed]",
      "text/plain": [
       "<Figure size 560x280 with 1 Axes>"
      ]
     },
     "metadata": {},
     "output_type": "display_data"
    },
    {
     "data": {
      "text/html": [
       "<pre style=\"white-space:pre;overflow-x:auto;line-height:normal;font-family:Menlo,'DejaVu Sans Mono',consolas,'Courier New',monospace\">\n",
       "\n",
       "\n",
       "</pre>\n"
      ],
      "text/plain": [
       "\n",
       "\n",
       "\n"
      ]
     },
     "metadata": {},
     "output_type": "display_data"
    },
    {
     "name": "stderr",
     "output_type": "stream",
     "text": [
      "100%|███████████████████████████████████| 9/9 [00:01<00:00,  5.43it/s]\n",
      "100%|█████████████████████████████████| 13/13 [00:02<00:00,  5.13it/s]\n",
      "100%|███████████████████████████████████| 9/9 [01:30<00:00, 10.01s/it]\n"
     ]
    },
    {
     "data": {
      "text/html": [
       "<pre style=\"white-space:pre;overflow-x:auto;line-height:normal;font-family:Menlo,'DejaVu Sans Mono',consolas,'Courier New',monospace\">______________________________________________________________________________________________________________\n",
       "</pre>\n"
      ],
      "text/plain": [
       "______________________________________________________________________________________________________________\n"
      ]
     },
     "metadata": {},
     "output_type": "display_data"
    },
    {
     "data": {
      "text/html": [
       "<pre style=\"white-space:pre;overflow-x:auto;line-height:normal;font-family:Menlo,'DejaVu Sans Mono',consolas,'Courier New',monospace\">mode: <span style=\"font-weight: bold\">&lt;</span><span style=\"color: #ff00ff; text-decoration-color: #ff00ff; font-weight: bold\">jacob|mlp</span><span style=\"font-weight: bold\">&gt;</span><span style=\"color: #800080; text-decoration-color: #800080; font-weight: bold\">_</span><span style=\"font-weight: bold\">(</span><span style=\"color: #008080; text-decoration-color: #008080; font-weight: bold\">64</span>,<span style=\"color: #008080; text-decoration-color: #008080; font-weight: bold\">24.0</span><span style=\"font-weight: bold\">)</span> ——— target: Omniglot\n",
       "mse:    <span style=\"color: #008080; text-decoration-color: #008080; font-weight: bold\">18.91</span>\n",
       "accuracy:       <span style=\"color: #008080; text-decoration-color: #008080; font-weight: bold\">0.001</span>\n",
       "</pre>\n"
      ],
      "text/plain": [
       "mode: \u001b[1m<\u001b[0m\u001b[1;95mjacob|mlp\u001b[0m\u001b[1m>\u001b[0m\u001b[1;35m_\u001b[0m\u001b[1m(\u001b[0m\u001b[1;36m64\u001b[0m,\u001b[1;36m24.0\u001b[0m\u001b[1m)\u001b[0m ——— target: Omniglot\n",
       "mse:    \u001b[1;36m18.91\u001b[0m\n",
       "accuracy:       \u001b[1;36m0.001\u001b[0m\n"
      ]
     },
     "metadata": {},
     "output_type": "display_data"
    },
    {
     "data": {
      "image/png": "[encoded data removed]",
      "text/plain": [
       "<Figure size 560x280 with 1 Axes>"
      ]
     },
     "metadata": {},
     "output_type": "display_data"
    },
    {
     "data": {
      "text/html": [
       "<pre style=\"white-space:pre;overflow-x:auto;line-height:normal;font-family:Menlo,'DejaVu Sans Mono',consolas,'Courier New',monospace\">\n",
       "\n",
       "\n",
       "</pre>\n"
      ],
      "text/plain": [
       "\n",
       "\n",
       "\n"
      ]
     },
     "metadata": {},
     "output_type": "display_data"
    },
    {
     "name": "stderr",
     "output_type": "stream",
     "text": [
      "100%|█████████████████████████████████| 14/14 [00:04<00:00,  3.44it/s]\n",
      "100%|█████████████████████████████████| 84/84 [00:25<00:00,  3.32it/s]\n",
      "100%|█████████████████████████████████| 14/14 [00:08<00:00,  1.59it/s]\n"
     ]
    },
    {
     "data": {
      "text/html": [
       "<pre style=\"white-space:pre;overflow-x:auto;line-height:normal;font-family:Menlo,'DejaVu Sans Mono',consolas,'Courier New',monospace\">______________________________________________________________________________________________________________\n",
       "</pre>\n"
      ],
      "text/plain": [
       "______________________________________________________________________________________________________________\n"
      ]
     },
     "metadata": {},
     "output_type": "display_data"
    },
    {
     "data": {
      "text/html": [
       "<pre style=\"white-space:pre;overflow-x:auto;line-height:normal;font-family:Menlo,'DejaVu Sans Mono',consolas,'Courier New',monospace\">mode: <span style=\"font-weight: bold\">&lt;</span><span style=\"color: #ff00ff; text-decoration-color: #ff00ff; font-weight: bold\">mlp|mlp</span><span style=\"font-weight: bold\">&gt;</span><span style=\"color: #800080; text-decoration-color: #800080; font-weight: bold\">_</span><span style=\"font-weight: bold\">(</span><span style=\"color: #008080; text-decoration-color: #008080; font-weight: bold\">64</span>,<span style=\"color: #008080; text-decoration-color: #008080; font-weight: bold\">24.0</span><span style=\"font-weight: bold\">)</span> ——— target: EMNIST\n",
       "mse:    <span style=\"color: #008080; text-decoration-color: #008080; font-weight: bold\">143.15</span>\n",
       "accuracy:       <span style=\"color: #008080; text-decoration-color: #008080; font-weight: bold\">0.398</span>\n",
       "</pre>\n"
      ],
      "text/plain": [
       "mode: \u001b[1m<\u001b[0m\u001b[1;95mmlp|mlp\u001b[0m\u001b[1m>\u001b[0m\u001b[1;35m_\u001b[0m\u001b[1m(\u001b[0m\u001b[1;36m64\u001b[0m,\u001b[1;36m24.0\u001b[0m\u001b[1m)\u001b[0m ——— target: EMNIST\n",
       "mse:    \u001b[1;36m143.15\u001b[0m\n",
       "accuracy:       \u001b[1;36m0.398\u001b[0m\n"
      ]
     },
     "metadata": {},
     "output_type": "display_data"
    },
    {
     "data": {
      "image/png": "[encoded data removed]",
      "text/plain": [
       "<Figure size 560x280 with 1 Axes>"
      ]
     },
     "metadata": {},
     "output_type": "display_data"
    },
    {
     "data": {
      "text/html": [
       "<pre style=\"white-space:pre;overflow-x:auto;line-height:normal;font-family:Menlo,'DejaVu Sans Mono',consolas,'Courier New',monospace\">\n",
       "\n",
       "\n",
       "</pre>\n"
      ],
      "text/plain": [
       "\n",
       "\n",
       "\n"
      ]
     },
     "metadata": {},
     "output_type": "display_data"
    },
    {
     "name": "stderr",
     "output_type": "stream",
     "text": [
      "100%|███████████████████████████████████| 9/9 [00:02<00:00,  3.25it/s]\n",
      "100%|█████████████████████████████████| 13/13 [00:03<00:00,  3.40it/s]\n",
      "100%|███████████████████████████████████| 9/9 [00:05<00:00,  1.65it/s]\n"
     ]
    },
    {
     "data": {
      "text/html": [
       "<pre style=\"white-space:pre;overflow-x:auto;line-height:normal;font-family:Menlo,'DejaVu Sans Mono',consolas,'Courier New',monospace\">______________________________________________________________________________________________________________\n",
       "</pre>\n"
      ],
      "text/plain": [
       "______________________________________________________________________________________________________________\n"
      ]
     },
     "metadata": {},
     "output_type": "display_data"
    },
    {
     "data": {
      "text/html": [
       "<pre style=\"white-space:pre;overflow-x:auto;line-height:normal;font-family:Menlo,'DejaVu Sans Mono',consolas,'Courier New',monospace\">mode: <span style=\"font-weight: bold\">&lt;</span><span style=\"color: #ff00ff; text-decoration-color: #ff00ff; font-weight: bold\">mlp|mlp</span><span style=\"font-weight: bold\">&gt;</span><span style=\"color: #800080; text-decoration-color: #800080; font-weight: bold\">_</span><span style=\"font-weight: bold\">(</span><span style=\"color: #008080; text-decoration-color: #008080; font-weight: bold\">64</span>,<span style=\"color: #008080; text-decoration-color: #008080; font-weight: bold\">24.0</span><span style=\"font-weight: bold\">)</span> ——— target: Omniglot\n",
       "mse:    <span style=\"color: #008080; text-decoration-color: #008080; font-weight: bold\">73.87</span>\n",
       "accuracy:       <span style=\"color: #008080; text-decoration-color: #008080; font-weight: bold\">0.001</span>\n",
       "</pre>\n"
      ],
      "text/plain": [
       "mode: \u001b[1m<\u001b[0m\u001b[1;95mmlp|mlp\u001b[0m\u001b[1m>\u001b[0m\u001b[1;35m_\u001b[0m\u001b[1m(\u001b[0m\u001b[1;36m64\u001b[0m,\u001b[1;36m24.0\u001b[0m\u001b[1m)\u001b[0m ——— target: Omniglot\n",
       "mse:    \u001b[1;36m73.87\u001b[0m\n",
       "accuracy:       \u001b[1;36m0.001\u001b[0m\n"
      ]
     },
     "metadata": {},
     "output_type": "display_data"
    },
    {
     "data": {
      "image/png": "[encoded data removed]",
      "text/plain": [
       "<Figure size 560x280 with 1 Axes>"
      ]
     },
     "metadata": {},
     "output_type": "display_data"
    },
    {
     "data": {
      "text/html": [
       "<pre style=\"white-space:pre;overflow-x:auto;line-height:normal;font-family:Menlo,'DejaVu Sans Mono',consolas,'Courier New',monospace\">\n",
       "\n",
       "\n",
       "</pre>\n"
      ],
      "text/plain": [
       "\n",
       "\n",
       "\n"
      ]
     },
     "metadata": {},
     "output_type": "display_data"
    },
    {
     "name": "stdout",
     "output_type": "stream",
     "text": [
      "CPU times: user 20min 10s, sys: 3min 4s, total: 23min 15s\n",
      "Wall time: 6min 18s\n"
     ]
    }
   ],
   "source": [
    "%%time\n",
    "\n",
    "rng = get_rng(1)\n",
    "\n",
    "inds = {}\n",
    "shuffle_inds = {}\n",
    "for model_name, tr in trainers.items():\n",
    "    tr.cfg.batch_size = 1500\n",
    "    t_recon = 1000 if tr.model.cfg.enc_type == 'jacob' else -1\n",
    "    for ds_tgt in ['EMNIST', 'Omniglot']:\n",
    "        accuracy, results = ood_analysis(\n",
    "            tr=tr,\n",
    "            dataset=ds_tgt,\n",
    "            n_data_batches=None,\n",
    "            t_clf=-1,\n",
    "            t_recon=t_recon,\n",
    "            verbose=True,\n",
    "        )\n",
    "        n_samples = len(results['recon'])\n",
    "        \n",
    "        print('_' * 110)\n",
    "        msg = '\\n'.join([\n",
    "            f\"mode: {model_name} ——— target: {ds_tgt}\",\n",
    "            f\"mse:\\t{results['mse'][-1]:0.2f}\",\n",
    "            f\"accuracy:\\t{accuracy:0.3f}\",\n",
    "        ])\n",
    "        print(msg)\n",
    "\n",
    "        vld = make_dataset(ds_tgt, 'cpu')[1]\n",
    "        \n",
    "        if ds_tgt not in inds:\n",
    "            _shuffle_inds = np.arange(n_samples)\n",
    "            rng.shuffle(_shuffle_inds)\n",
    "            shuffle_inds[ds_tgt] = _shuffle_inds\n",
    "            inds[ds_tgt] = first_occurrence_inds(\n",
    "                vld.tensors[1][_shuffle_inds])\n",
    "    \n",
    "        src = tonp(vld.tensors[0])[:n_samples][shuffle_inds[ds_tgt]]\n",
    "        recon = results['recon'][:, -1][shuffle_inds[ds_tgt]]\n",
    "        recon = recon.reshape(tr.model.cfg.shape)\n",
    "\n",
    "        x2p = np.concatenate([src[inds[ds_tgt]], recon[inds[ds_tgt]]])\n",
    "        _ = plot_weights(x2p, nrows=2, cmap='Greys', vmin=0.001, vmax=1, dpi=70)\n",
    "\n",
    "        print('\\n\\n')"
   ]
  },
  {
   "cell_type": "code",
   "execution_count": null,
   "id": "04f1f4ca-a304-4541-9f57-ab6850740a39",
   "metadata": {},
   "outputs": [],
   "source": []
  },
  {
   "cell_type": "code",
   "execution_count": null,
   "id": "9c2f8289-5778-4cce-8e02-7b9fad64dfa1",
   "metadata": {},
   "outputs": [],
   "source": []
  },
  {
   "cell_type": "code",
   "execution_count": 9,
   "id": "dffd1e9c-81f7-4d9f-92ae-135ff1365f85",
   "metadata": {},
   "outputs": [
    {
     "data": {
      "text/plain": [
       "13180"
      ]
     },
     "execution_count": 9,
     "metadata": {},
     "output_type": "execute_result"
    }
   ],
   "source": [
    "n_samples"
   ]
  },
  {
   "cell_type": "code",
   "execution_count": 10,
   "id": "f0ec9a42-f9fc-4e55-916b-1392506eee47",
   "metadata": {},
   "outputs": [
    {
     "data": {
      "text/plain": [
       "13180"
      ]
     },
     "execution_count": 10,
     "metadata": {},
     "output_type": "execute_result"
    }
   ],
   "source": [
    "len(shuffle_inds[ds_tgt])"
   ]
  },
  {
   "cell_type": "code",
   "execution_count": null,
   "id": "cce9abf7-5c16-41dd-9540-25f501516227",
   "metadata": {},
   "outputs": [],
   "source": []
  },
  {
   "cell_type": "code",
   "execution_count": 11,
   "id": "634d9809-3f22-4115-9faf-73747a2d6b3a",
   "metadata": {},
   "outputs": [
    {
     "data": {
      "image/png": "[encoded data removed]",
      "text/plain": [
       "<Figure size 300x200 with 1 Axes>"
      ]
     },
     "metadata": {},
     "output_type": "display_data"
    }
   ],
   "source": [
    "plt.loglog(np.arange(1, 1 + len(results['mse'])), results['mse']);"
   ]
  },
  {
   "cell_type": "code",
   "execution_count": 13,
   "id": "347a84d7-2299-40c1-ac39-6421c05d4c51",
   "metadata": {},
   "outputs": [
    {
     "data": {
      "text/plain": [
       "64"
      ]
     },
     "execution_count": 13,
     "metadata": {},
     "output_type": "execute_result"
    }
   ],
   "source": [
    "len(results['mse'])"
   ]
  },
  {
   "cell_type": "code",
   "execution_count": null,
   "id": "fb6b2f27-31b6-477a-b3ae-14012e8e1822",
   "metadata": {},
   "outputs": [],
   "source": []
  },
  {
   "cell_type": "code",
   "execution_count": null,
   "id": "ce409f09-57bc-4fd4-871c-7a4eb42db461",
   "metadata": {},
   "outputs": [],
   "source": []
  },
  {
   "cell_type": "code",
   "execution_count": 34,
   "id": "ec8d763f-fee2-48f1-bbbc-8ecb161a71c7",
   "metadata": {},
   "outputs": [
    {
     "data": {
      "text/html": [
       "<pre style=\"white-space:pre;overflow-x:auto;line-height:normal;font-family:Menlo,'DejaVu Sans Mono',consolas,'Courier New',monospace\">mse:    <span style=\"color: #008080; text-decoration-color: #008080; font-weight: bold\">13.09</span>\n",
       "accuracy:       <span style=\"color: #008080; text-decoration-color: #008080; font-weight: bold\">0.764</span>\n",
       "</pre>\n"
      ],
      "text/plain": [
       "mse:    \u001b[1;36m13.09\u001b[0m\n",
       "accuracy:       \u001b[1;36m0.764\u001b[0m\n"
      ]
     },
     "metadata": {},
     "output_type": "display_data"
    }
   ],
   "source": []
  },
  {
   "cell_type": "code",
   "execution_count": 11,
   "id": "441e1fba-cf3a-4bd8-9cb0-c12e1b2a5dac",
   "metadata": {},
   "outputs": [
    {
     "data": {
      "text/html": [
       "<pre style=\"white-space:pre;overflow-x:auto;line-height:normal;font-family:Menlo,'DejaVu Sans Mono',consolas,'Courier New',monospace\">mse:    <span style=\"color: #008080; text-decoration-color: #008080; font-weight: bold\">19.22</span>\n",
       "accuracy:       <span style=\"color: #008080; text-decoration-color: #008080; font-weight: bold\">0.001</span>\n",
       "</pre>\n"
      ],
      "text/plain": [
       "mse:    \u001b[1;36m19.22\u001b[0m\n",
       "accuracy:       \u001b[1;36m0.001\u001b[0m\n"
      ]
     },
     "metadata": {},
     "output_type": "display_data"
    }
   ],
   "source": []
  },
  {
   "cell_type": "code",
   "execution_count": null,
   "id": "59c0d4a6-4cef-4e15-a864-f2068b7e4f48",
   "metadata": {},
   "outputs": [],
   "source": []
  },
  {
   "cell_type": "code",
   "execution_count": 35,
   "id": "5353330a-e2b5-4b57-ac38-29e03e0f316c",
   "metadata": {},
   "outputs": [
    {
     "data": {
      "text/plain": [
       "(20800, 1000, 784)"
      ]
     },
     "execution_count": 35,
     "metadata": {},
     "output_type": "execute_result"
    }
   ],
   "source": [
    "results['recon'].shape"
   ]
  },
  {
   "cell_type": "code",
   "execution_count": 44,
   "id": "2291250c-2623-451f-bf11-e03385d0ca17",
   "metadata": {},
   "outputs": [],
   "source": []
  },
  {
   "cell_type": "code",
   "execution_count": null,
   "id": "f7505da2-1ff5-4752-8b53-628becbf750b",
   "metadata": {},
   "outputs": [],
   "source": []
  },
  {
   "cell_type": "code",
   "execution_count": 45,
   "id": "0d919d94-7415-4360-aade-286cea8e3ac6",
   "metadata": {},
   "outputs": [],
   "source": []
  },
  {
   "cell_type": "code",
   "execution_count": null,
   "id": "004636c0-5d18-45ce-82be-8ab8399b6220",
   "metadata": {},
   "outputs": [],
   "source": []
  },
  {
   "cell_type": "code",
   "execution_count": 46,
   "id": "d2dc0647-a6f5-472f-b24f-399d74be2974",
   "metadata": {},
   "outputs": [],
   "source": []
  },
  {
   "cell_type": "code",
   "execution_count": null,
   "id": "9e72cab0-f3aa-4f79-a43d-1c21c7d2580f",
   "metadata": {},
   "outputs": [],
   "source": []
  },
  {
   "cell_type": "code",
   "execution_count": 47,
   "id": "23261fe1-b1f2-49bd-9128-25820c0af3c9",
   "metadata": {},
   "outputs": [
    {
     "data": {
      "image/png": "[encoded data removed]",
      "text/plain": [
       "<Figure size 560x280 with 1 Axes>"
      ]
     },
     "metadata": {},
     "output_type": "display_data"
    }
   ],
   "source": []
  },
  {
   "cell_type": "code",
   "execution_count": null,
   "id": "3da69875-e79a-4f97-bac4-747367d25237",
   "metadata": {},
   "outputs": [],
   "source": []
  },
  {
   "cell_type": "code",
   "execution_count": null,
   "id": "68a2cdb4-a3dc-447f-9f2c-799034bde621",
   "metadata": {},
   "outputs": [],
   "source": []
  },
  {
   "cell_type": "code",
   "execution_count": null,
   "id": "f4badc50-f92a-4274-982e-449a0895ed66",
   "metadata": {},
   "outputs": [],
   "source": []
  },
  {
   "cell_type": "code",
   "execution_count": 54,
   "id": "5f0619d5-c425-4e80-b762-edec7da4c51c",
   "metadata": {},
   "outputs": [
    {
     "data": {
      "text/html": [
       "<pre style=\"white-space:pre;overflow-x:auto;line-height:normal;font-family:Menlo,'DejaVu Sans Mono',consolas,'Courier New',monospace\">MNIST EMNIST\n",
       "</pre>\n"
      ],
      "text/plain": [
       "MNIST EMNIST\n"
      ]
     },
     "metadata": {},
     "output_type": "display_data"
    },
    {
     "data": {
      "text/html": [
       "<pre style=\"white-space:pre;overflow-x:auto;line-height:normal;font-family:Menlo,'DejaVu Sans Mono',consolas,'Courier New',monospace\">MNIST Omniglot\n",
       "</pre>\n"
      ],
      "text/plain": [
       "MNIST Omniglot\n"
      ]
     },
     "metadata": {},
     "output_type": "display_data"
    },
    {
     "data": {
      "text/html": [
       "<pre style=\"white-space:pre;overflow-x:auto;line-height:normal;font-family:Menlo,'DejaVu Sans Mono',consolas,'Courier New',monospace\">EMNIST MNIST\n",
       "</pre>\n"
      ],
      "text/plain": [
       "EMNIST MNIST\n"
      ]
     },
     "metadata": {},
     "output_type": "display_data"
    },
    {
     "data": {
      "text/html": [
       "<pre style=\"white-space:pre;overflow-x:auto;line-height:normal;font-family:Menlo,'DejaVu Sans Mono',consolas,'Courier New',monospace\">EMNIST Omniglot\n",
       "</pre>\n"
      ],
      "text/plain": [
       "EMNIST Omniglot\n"
      ]
     },
     "metadata": {},
     "output_type": "display_data"
    },
    {
     "data": {
      "text/html": [
       "<pre style=\"white-space:pre;overflow-x:auto;line-height:normal;font-family:Menlo,'DejaVu Sans Mono',consolas,'Courier New',monospace\">Omniglot MNIST\n",
       "</pre>\n"
      ],
      "text/plain": [
       "Omniglot MNIST\n"
      ]
     },
     "metadata": {},
     "output_type": "display_data"
    },
    {
     "data": {
      "text/html": [
       "<pre style=\"white-space:pre;overflow-x:auto;line-height:normal;font-family:Menlo,'DejaVu Sans Mono',consolas,'Courier New',monospace\">Omniglot EMNIST\n",
       "</pre>\n"
      ],
      "text/plain": [
       "Omniglot EMNIST\n"
      ]
     },
     "metadata": {},
     "output_type": "display_data"
    }
   ],
   "source": [
    "datasets = ['MNIST', 'EMNIST', 'Omniglot']\n",
    "for ds_src, ds_tgt in itertools.permutations(datasets, 2):\n",
    "    print(ds_src, ds_tgt)"
   ]
  },
  {
   "cell_type": "code",
   "execution_count": null,
   "id": "254bd691-e953-46f2-a97f-af1395970859",
   "metadata": {},
   "outputs": [],
   "source": []
  },
  {
   "cell_type": "code",
   "execution_count": null,
   "id": "c3942c55-0976-4e45-bc2f-33b2f5d2e368",
   "metadata": {},
   "outputs": [],
   "source": [
    "corrupt_dir = \"/Data/hadi/corrupted_data/\"\n",
    "eval_dir = \"/Data/hadi/eval_results/rot/\"\n",
    "fs_c = [i for i in os.listdir(corrupt_dir) if i[-3:] == \"npz\" and \"rotate\" in i]\n",
    "fs = [i for i in os.listdir(eval_dir)]\n",
    "requested_dsets = [\"mnist\"]\n",
    "requested_dsets = [i.lower() for i in requested_dsets]\n",
    "for f in tqdm(fs):\n",
    "    broken = f.split(\"_\")\n",
    "    proj = broken[0]\n",
    "    if proj in [\"MARINO\", \"SAVAE\"]:\n",
    "        ds = broken[1] \n",
    "        if ds.lower() in requested_dsets:\n",
    "            rotation = broken[2]\n",
    "            rotation_fl = f\"{ds}_{rot}.npz\"\n",
    "            \n",
    "            if proj == \"MARINO\":\n",
    "                model = broken[-2] #either H or SL\n",
    "            loaded = np.load(eval_dir+f)\n",
    "            recons = loaded[\"recons\"] #shape N, 1, h, w\n",
    "            posteriors = loaded[\"posteriors\"] #shape M, t, 2, d"
   ]
  },
  {
   "cell_type": "code",
   "execution_count": null,
   "id": "244a9a76-3770-4377-bb8f-7e19a7df6386",
   "metadata": {},
   "outputs": [],
   "source": []
  },
  {
   "cell_type": "code",
   "execution_count": null,
   "id": "e264f776-3c48-43b7-8eb8-1c2f519da3b4",
   "metadata": {},
   "outputs": [],
   "source": []
  }
 ],
 "metadata": {
  "kernelspec": {
   "display_name": "Python 3 (ipykernel)",
   "language": "python",
   "name": "python3"
  },
  "language_info": {
   "codemirror_mode": {
    "name": "ipython",
    "version": 3
   },
   "file_extension": ".py",
   "mimetype": "text/x-python",
   "name": "python",
   "nbconvert_exporter": "python",
   "pygments_lexer": "ipython3",
   "version": "3.11.7"
  }
 },
 "nbformat": 4,
 "nbformat_minor": 5
}
