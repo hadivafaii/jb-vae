{
 "cells": [
  {
   "cell_type": "markdown",
   "id": "48f55a35-d5b5-468f-b574-730df61e9609",
   "metadata": {},
   "source": [
    "# fig — ood (develop)\n",
    "\n",
    "**Motivation**: host = ```mach```, device = ```cuda:0``` <br>"
   ]
  },
  {
   "cell_type": "code",
   "execution_count": 1,
   "id": "f823b1e9-05f2-49a0-8296-4a1819c12e81",
   "metadata": {
    "tags": [
     "hide-input"
    ]
   },
   "outputs": [],
   "source": [
    "# HIDE CODE\n",
    "\n",
    "\n",
    "import os, sys\n",
    "from IPython.display import display\n",
    "\n",
    "# tmp & extras dir\n",
    "git_dir = os.path.join(os.environ['HOME'], 'Dropbox/git')\n",
    "extras_dir = os.path.join(git_dir, 'jb-vae/_extras')\n",
    "fig_base_dir = os.path.join(git_dir, 'jb-vae/figs')\n",
    "tmp_dir = os.path.join(git_dir, 'jb-vae/tmp')\n",
    "\n",
    "# GitHub\n",
    "sys.path.insert(0, os.path.join(git_dir, '_IterativeVAE'))\n",
    "from figures.fighelper import *\n",
    "from vae.train_vae import *\n",
    "\n",
    "# warnings, tqdm, & style\n",
    "warnings.filterwarnings('ignore', category=DeprecationWarning)\n",
    "warnings.filterwarnings('ignore', category=FutureWarning)\n",
    "warnings.filterwarnings('ignore', category=UserWarning)\n",
    "from rich.jupyter import print\n",
    "%matplotlib inline\n",
    "set_style()"
   ]
  },
  {
   "cell_type": "code",
   "execution_count": 2,
   "id": "45357127-b675-4e68-ba95-938ea8612cad",
   "metadata": {},
   "outputs": [
    {
     "data": {
      "text/html": [
       "<pre style=\"white-space:pre;overflow-x:auto;line-height:normal;font-family:Menlo,'DejaVu Sans Mono',consolas,'Courier New',monospace\">device: cu<span style=\"color: #00ff00; text-decoration-color: #00ff00; font-weight: bold\">da:0</span>  ———  host: mach\n",
       "</pre>\n"
      ],
      "text/plain": [
       "device: cu\u001b[1;92mda:0\u001b[0m  ———  host: mach\n"
      ]
     },
     "metadata": {},
     "output_type": "display_data"
    }
   ],
   "source": [
    "from analysis.chosen import *\n",
    "from figures.analysis import *\n",
    "from analysis.ood import ood_analysis\n",
    "from analysis.clf import LogisticRegression\n",
    "\n",
    "device_idx = 0\n",
    "device = f'cuda:{device_idx}'\n",
    "\n",
    "print(f\"device: {device}  ———  host: {os.uname().nodename}\")"
   ]
  },
  {
   "cell_type": "code",
   "execution_count": 3,
   "id": "68e68fe7-9f19-4e7e-9574-9bf8ccb76bcb",
   "metadata": {},
   "outputs": [
    {
     "data": {
      "text/html": [
       "<pre style=\"white-space:pre;overflow-x:auto;line-height:normal;font-family:Menlo,'DejaVu Sans Mono',consolas,'Courier New',monospace\"><span style=\"font-weight: bold\">[</span>\n",
       "    <span style=\"color: #008000; text-decoration-color: #008000\">'ood_src-EMNIST_tgt-EMNIST'</span>,\n",
       "    <span style=\"color: #008000; text-decoration-color: #008000\">'ood_src-EMNIST_tgt-MNIST'</span>,\n",
       "    <span style=\"color: #008000; text-decoration-color: #008000\">'ood_src-Omniglot_tgt-Omniglot'</span>,\n",
       "    <span style=\"color: #008000; text-decoration-color: #008000\">'ood_src-MNIST_tgt-Omniglot'</span>,\n",
       "    <span style=\"color: #008000; text-decoration-color: #008000\">'ood_src-MNIST_tgt-MNIST'</span>,\n",
       "    <span style=\"color: #008000; text-decoration-color: #008000\">'ood_src-Omniglot_tgt-EMNIST'</span>,\n",
       "    <span style=\"color: #008000; text-decoration-color: #008000\">'ood_src-EMNIST_tgt-Omniglot'</span>,\n",
       "    <span style=\"color: #008000; text-decoration-color: #008000\">'ood_src-Omniglot_tgt-MNIST'</span>,\n",
       "    <span style=\"color: #008000; text-decoration-color: #008000\">'ood_src-MNIST_tgt-EMNIST'</span>\n",
       "<span style=\"font-weight: bold\">]</span>\n",
       "</pre>\n"
      ],
      "text/plain": [
       "\u001b[1m[\u001b[0m\n",
       "    \u001b[32m'ood_src-EMNIST_tgt-EMNIST'\u001b[0m,\n",
       "    \u001b[32m'ood_src-EMNIST_tgt-MNIST'\u001b[0m,\n",
       "    \u001b[32m'ood_src-Omniglot_tgt-Omniglot'\u001b[0m,\n",
       "    \u001b[32m'ood_src-MNIST_tgt-Omniglot'\u001b[0m,\n",
       "    \u001b[32m'ood_src-MNIST_tgt-MNIST'\u001b[0m,\n",
       "    \u001b[32m'ood_src-Omniglot_tgt-EMNIST'\u001b[0m,\n",
       "    \u001b[32m'ood_src-EMNIST_tgt-Omniglot'\u001b[0m,\n",
       "    \u001b[32m'ood_src-Omniglot_tgt-MNIST'\u001b[0m,\n",
       "    \u001b[32m'ood_src-MNIST_tgt-EMNIST'\u001b[0m\n",
       "\u001b[1m]\u001b[0m\n"
      ]
     },
     "metadata": {},
     "output_type": "display_data"
    }
   ],
   "source": [
    "fig_base_dir = pjoin(fig_base_dir, 'iclr_oct02', 'ood')\n",
    "os.makedirs(fig_base_dir, exist_ok=True)\n",
    "print(os.listdir(fig_base_dir))\n",
    "\n",
    "kws_fig = {\n",
    "    'transparent': True,\n",
    "    'bbox_inches': 'tight',\n",
    "    'dpi': 300,\n",
    "}"
   ]
  },
  {
   "cell_type": "markdown",
   "id": "77537eef-2d01-4360-aa0c-07a155ad9b5f",
   "metadata": {},
   "source": [
    "## VAE: amort and iterative"
   ]
  },
  {
   "cell_type": "markdown",
   "id": "2c7e848e-48c3-460c-abdc-250a45953a67",
   "metadata": {},
   "source": [
    "### iP-VAE"
   ]
  },
  {
   "cell_type": "code",
   "execution_count": 4,
   "id": "709094c6-32a0-459a-9611-53c6ea5067d5",
   "metadata": {},
   "outputs": [
    {
     "data": {
      "text/html": [
       "<pre style=\"white-space:pre;overflow-x:auto;line-height:normal;font-family:Menlo,'DejaVu Sans Mono',consolas,'Courier New',monospace\"><span style=\"font-weight: bold\">[</span><span style=\"color: #008000; text-decoration-color: #008000\">'EMNIST_&lt;jacob|mlp&gt;_(64,24.0)'</span><span style=\"color: #000000; text-decoration-color: #000000\">, </span><span style=\"color: #008000; text-decoration-color: #008000\">'MNIST_&lt;jacob|mlp&gt;_(64,24.0)'</span><span style=\"color: #000000; text-decoration-color: #000000\">, </span><span style=\"color: #008000; text-decoration-color: #008000\">'Omniglot_&lt;jacob|mlp&gt;_(64,24.0)'</span><span style=\"font-weight: bold\">]</span>\n",
       "</pre>\n"
      ],
      "text/plain": [
       "\u001b[1m[\u001b[0m\u001b[32m'EMNIST_\u001b[0m\u001b[32m<\u001b[0m\u001b[32mjacob|mlp\u001b[0m\u001b[32m>_\u001b[0m\u001b[32m(\u001b[0m\u001b[32m64,24.0\u001b[0m\u001b[32m)\u001b[0m\u001b[32m'\u001b[0m\u001b[39m, \u001b[0m\u001b[32m'MNIST_<jacob|mlp>_\u001b[0m\u001b[32m(\u001b[0m\u001b[32m64,24.0\u001b[0m\u001b[32m)\u001b[0m\u001b[32m'\u001b[0m\u001b[39m, \u001b[0m\u001b[32m'Omniglot_<jacob|mlp\u001b[0m\u001b[32m>\u001b[0m\u001b[32m_\u001b[0m\u001b[32m(\u001b[0m\u001b[32m64,24.0\u001b[0m\u001b[32m)\u001b[0m\u001b[32m'\u001b[0m\u001b[1m]\u001b[0m\n"
      ]
     },
     "metadata": {},
     "output_type": "display_data"
    }
   ],
   "source": [
    "models_to_load = selected_models_28x28(device)\n",
    "models_to_load = {\n",
    "    m: d for m, d in\n",
    "    models_to_load.items()\n",
    "    if '<jacob|mlp>' in m  # no conv, no aiP-VAE\n",
    "    # if 'mlp' in m  # no conv, include aiP-VAE\n",
    "}\n",
    "models_to_load = dict(sorted(\n",
    "    models_to_load.items(),\n",
    "    key=lambda t: alphanum_sort_key(t[0]),\n",
    "))\n",
    "print(list(models_to_load))"
   ]
  },
  {
   "cell_type": "code",
   "execution_count": 5,
   "id": "9a57e38c-a76b-47d5-b00e-1884d899c406",
   "metadata": {},
   "outputs": [],
   "source": [
    "trainers = {}\n",
    "for model_name, kws_load in models_to_load.items():\n",
    "    trainers[model_name] = load_model(**kws_load)[0]"
   ]
  },
  {
   "cell_type": "code",
   "execution_count": 6,
   "id": "73d166f0-1377-4cfa-89d8-9606982c3a66",
   "metadata": {},
   "outputs": [
    {
     "data": {
      "text/html": [
       "<pre style=\"white-space:pre;overflow-x:auto;line-height:normal;font-family:Menlo,'DejaVu Sans Mono',consolas,'Courier New',monospace\"><span style=\"font-weight: bold\">[</span><span style=\"color: #008000; text-decoration-color: #008000\">'EMNIST'</span>, <span style=\"color: #008000; text-decoration-color: #008000\">'MNIST'</span>, <span style=\"color: #008000; text-decoration-color: #008000\">'Omniglot'</span><span style=\"font-weight: bold\">]</span>\n",
       "</pre>\n"
      ],
      "text/plain": [
       "\u001b[1m[\u001b[0m\u001b[32m'EMNIST'\u001b[0m, \u001b[32m'MNIST'\u001b[0m, \u001b[32m'Omniglot'\u001b[0m\u001b[1m]\u001b[0m\n"
      ]
     },
     "metadata": {},
     "output_type": "display_data"
    }
   ],
   "source": [
    "datasets = [m.split('_')[0] for m in trainers]\n",
    "print(datasets)"
   ]
  },
  {
   "cell_type": "code",
   "execution_count": null,
   "id": "3579ea39-81d0-40bf-b613-9663b1a8918e",
   "metadata": {},
   "outputs": [],
   "source": []
  },
  {
   "cell_type": "code",
   "execution_count": 7,
   "id": "28ab69ae-607b-49f1-9b59-539b9dce26f1",
   "metadata": {},
   "outputs": [
    {
     "data": {
      "text/html": [
       "<pre style=\"white-space:pre;overflow-x:auto;line-height:normal;font-family:Menlo,'DejaVu Sans Mono',consolas,'Courier New',monospace\"><span style=\"font-weight: bold\">{</span>\n",
       "    <span style=\"color: #008000; text-decoration-color: #008000\">'MNIST'</span>: <span style=\"color: #800080; text-decoration-color: #800080; font-weight: bold\">array</span><span style=\"font-weight: bold\">([</span> <span style=\"color: #008080; text-decoration-color: #008080; font-weight: bold\">0</span>,  <span style=\"color: #008080; text-decoration-color: #008080; font-weight: bold\">1</span>,  <span style=\"color: #008080; text-decoration-color: #008080; font-weight: bold\">2</span>,  <span style=\"color: #008080; text-decoration-color: #008080; font-weight: bold\">3</span>,  <span style=\"color: #008080; text-decoration-color: #008080; font-weight: bold\">4</span>,  <span style=\"color: #008080; text-decoration-color: #008080; font-weight: bold\">7</span>,  <span style=\"color: #008080; text-decoration-color: #008080; font-weight: bold\">8</span>, <span style=\"color: #008080; text-decoration-color: #008080; font-weight: bold\">11</span>, <span style=\"color: #008080; text-decoration-color: #008080; font-weight: bold\">18</span>, <span style=\"color: #008080; text-decoration-color: #008080; font-weight: bold\">61</span><span style=\"font-weight: bold\">])</span>,\n",
       "    <span style=\"color: #008000; text-decoration-color: #008000\">'EMNIST'</span>: <span style=\"color: #800080; text-decoration-color: #800080; font-weight: bold\">array</span><span style=\"font-weight: bold\">([</span> <span style=\"color: #008080; text-decoration-color: #008080; font-weight: bold\">7347</span>,  <span style=\"color: #008080; text-decoration-color: #008080; font-weight: bold\">8015</span>, <span style=\"color: #008080; text-decoration-color: #008080; font-weight: bold\">10273</span>,  <span style=\"color: #008080; text-decoration-color: #008080; font-weight: bold\">1094</span>, <span style=\"color: #008080; text-decoration-color: #008080; font-weight: bold\">10720</span>,  <span style=\"color: #008080; text-decoration-color: #008080; font-weight: bold\">9523</span>, <span style=\"color: #008080; text-decoration-color: #008080; font-weight: bold\">14948</span>, <span style=\"color: #008080; text-decoration-color: #008080; font-weight: bold\">12968</span>,  <span style=\"color: #008080; text-decoration-color: #008080; font-weight: bold\">5956</span>,\n",
       "        <span style=\"color: #008080; text-decoration-color: #008080; font-weight: bold\">4567</span><span style=\"font-weight: bold\">])</span>,\n",
       "    <span style=\"color: #008000; text-decoration-color: #008000\">'Omniglot'</span>: <span style=\"color: #800080; text-decoration-color: #800080; font-weight: bold\">array</span><span style=\"font-weight: bold\">([</span> <span style=\"color: #008080; text-decoration-color: #008080; font-weight: bold\">2375</span>,  <span style=\"color: #008080; text-decoration-color: #008080; font-weight: bold\">4316</span>,  <span style=\"color: #008080; text-decoration-color: #008080; font-weight: bold\">1579</span>,  <span style=\"color: #008080; text-decoration-color: #008080; font-weight: bold\">1236</span>,  <span style=\"color: #008080; text-decoration-color: #008080; font-weight: bold\">9005</span>, <span style=\"color: #008080; text-decoration-color: #008080; font-weight: bold\">11172</span>,   <span style=\"color: #008080; text-decoration-color: #008080; font-weight: bold\">885</span>,  <span style=\"color: #008080; text-decoration-color: #008080; font-weight: bold\">6087</span>, <span style=\"color: #008080; text-decoration-color: #008080; font-weight: bold\">10796</span>,\n",
       "        <span style=\"color: #008080; text-decoration-color: #008080; font-weight: bold\">4771</span><span style=\"font-weight: bold\">])</span>\n",
       "<span style=\"font-weight: bold\">}</span>\n",
       "</pre>\n"
      ],
      "text/plain": [
       "\u001b[1m{\u001b[0m\n",
       "    \u001b[32m'MNIST'\u001b[0m: \u001b[1;35marray\u001b[0m\u001b[1m(\u001b[0m\u001b[1m[\u001b[0m \u001b[1;36m0\u001b[0m,  \u001b[1;36m1\u001b[0m,  \u001b[1;36m2\u001b[0m,  \u001b[1;36m3\u001b[0m,  \u001b[1;36m4\u001b[0m,  \u001b[1;36m7\u001b[0m,  \u001b[1;36m8\u001b[0m, \u001b[1;36m11\u001b[0m, \u001b[1;36m18\u001b[0m, \u001b[1;36m61\u001b[0m\u001b[1m]\u001b[0m\u001b[1m)\u001b[0m,\n",
       "    \u001b[32m'EMNIST'\u001b[0m: \u001b[1;35marray\u001b[0m\u001b[1m(\u001b[0m\u001b[1m[\u001b[0m \u001b[1;36m7347\u001b[0m,  \u001b[1;36m8015\u001b[0m, \u001b[1;36m10273\u001b[0m,  \u001b[1;36m1094\u001b[0m, \u001b[1;36m10720\u001b[0m,  \u001b[1;36m9523\u001b[0m, \u001b[1;36m14948\u001b[0m, \u001b[1;36m12968\u001b[0m,  \u001b[1;36m5956\u001b[0m,\n",
       "        \u001b[1;36m4567\u001b[0m\u001b[1m]\u001b[0m\u001b[1m)\u001b[0m,\n",
       "    \u001b[32m'Omniglot'\u001b[0m: \u001b[1;35marray\u001b[0m\u001b[1m(\u001b[0m\u001b[1m[\u001b[0m \u001b[1;36m2375\u001b[0m,  \u001b[1;36m4316\u001b[0m,  \u001b[1;36m1579\u001b[0m,  \u001b[1;36m1236\u001b[0m,  \u001b[1;36m9005\u001b[0m, \u001b[1;36m11172\u001b[0m,   \u001b[1;36m885\u001b[0m,  \u001b[1;36m6087\u001b[0m, \u001b[1;36m10796\u001b[0m,\n",
       "        \u001b[1;36m4771\u001b[0m\u001b[1m]\u001b[0m\u001b[1m)\u001b[0m\n",
       "\u001b[1m}\u001b[0m\n"
      ]
     },
     "metadata": {},
     "output_type": "display_data"
    }
   ],
   "source": [
    "inds = get_shuffle_inds()\n",
    "print(inds)\n",
    "\n",
    "assert set(inds) == set(datasets)"
   ]
  },
  {
   "cell_type": "code",
   "execution_count": null,
   "id": "ae73f129-3d5f-438b-889a-4d1c014f1cfc",
   "metadata": {},
   "outputs": [],
   "source": []
  },
  {
   "cell_type": "code",
   "execution_count": 8,
   "id": "4dfcf9fa-7e3c-4378-972f-9ab52acb2489",
   "metadata": {},
   "outputs": [],
   "source": [
    "def _prep_fig():\n",
    "    # make plots\n",
    "    vld = make_dataset(ds_tgt)[1]\n",
    "    x, g = vld.tensors\n",
    "\n",
    "    src = tonp(x)[inds[ds_tgt]]\n",
    "    recon = results['recon'][:, -1][inds[ds_tgt]]\n",
    "    recon = recon.reshape(tr.model.cfg.shape)\n",
    "    return src, recon\n",
    "\n",
    "\n",
    "def _save_fig():\n",
    "    fig_base_name = f\"{analysis_name}_{model_name}\"\n",
    "\n",
    "    for row in [True, False]:\n",
    "        row_col_str = 'row' if row else 'col'\n",
    "\n",
    "        fig, ax = plot_row_or_col(src, row=row, display=False)\n",
    "        fig_name = f\"{fig_base_name}_{row_col_str}-input.png\"\n",
    "        fig_name = pjoin(fig_dir, fig_name)\n",
    "        fig.savefig(fig_name, **kws_fig)\n",
    "    \n",
    "        fig, ax = plot_row_or_col(recon, row=row, display=False)\n",
    "        fig_name = f\"{fig_base_name}_{row_col_str}-recon.png\"\n",
    "        fig_name = pjoin(fig_dir, fig_name)\n",
    "        fig.savefig(fig_name, **kws_fig)"
   ]
  },
  {
   "cell_type": "code",
   "execution_count": null,
   "id": "d8bb7d45-8848-4da7-89cf-f6b22a499e9f",
   "metadata": {},
   "outputs": [],
   "source": []
  },
  {
   "cell_type": "code",
   "execution_count": 9,
   "id": "92f62b77-3db5-49c1-99ad-1a5c134e6ab3",
   "metadata": {},
   "outputs": [
    {
     "name": "stderr",
     "output_type": "stream",
     "text": [
      "100%|█████████████████████████████████| 14/14 [00:02<00:00,  5.04it/s]\n",
      "100%|█████████████████████████████████| 84/84 [00:15<00:00,  5.30it/s]\n",
      "100%|█████████████████████████████████| 14/14 [02:15<00:00,  9.66s/it]\n"
     ]
    },
    {
     "data": {
      "text/html": [
       "<pre style=\"white-space:pre;overflow-x:auto;line-height:normal;font-family:Menlo,'DejaVu Sans Mono',consolas,'Courier New',monospace\">______________________________________________________________________________________________________________\n",
       "</pre>\n"
      ],
      "text/plain": [
       "______________________________________________________________________________________________________________\n"
      ]
     },
     "metadata": {},
     "output_type": "display_data"
    },
    {
     "data": {
      "text/html": [
       "<pre style=\"white-space:pre;overflow-x:auto;line-height:normal;font-family:Menlo,'DejaVu Sans Mono',consolas,'Courier New',monospace\">model: EMNIST_<span style=\"font-weight: bold\">&lt;</span><span style=\"color: #ff00ff; text-decoration-color: #ff00ff; font-weight: bold\">jacob|mlp</span><span style=\"font-weight: bold\">&gt;</span><span style=\"color: #800080; text-decoration-color: #800080; font-weight: bold\">_</span><span style=\"font-weight: bold\">(</span><span style=\"color: #008080; text-decoration-color: #008080; font-weight: bold\">64</span>,<span style=\"color: #008080; text-decoration-color: #008080; font-weight: bold\">24.0</span><span style=\"font-weight: bold\">)</span> ——— target: EMNIST\n",
       "mse:    <span style=\"color: #008080; text-decoration-color: #008080; font-weight: bold\">4.17</span>\n",
       "accuracy:       <span style=\"color: #008080; text-decoration-color: #008080; font-weight: bold\">0.760</span>\n",
       "</pre>\n"
      ],
      "text/plain": [
       "model: EMNIST_\u001b[1m<\u001b[0m\u001b[1;95mjacob|mlp\u001b[0m\u001b[1m>\u001b[0m\u001b[1;35m_\u001b[0m\u001b[1m(\u001b[0m\u001b[1;36m64\u001b[0m,\u001b[1;36m24.0\u001b[0m\u001b[1m)\u001b[0m ——— target: EMNIST\n",
       "mse:    \u001b[1;36m4.17\u001b[0m\n",
       "accuracy:       \u001b[1;36m0.760\u001b[0m\n"
      ]
     },
     "metadata": {},
     "output_type": "display_data"
    },
    {
     "data": {
      "image/png": "[encoded data removed]",
      "text/plain": [
       "<Figure size 560x280 with 1 Axes>"
      ]
     },
     "metadata": {},
     "output_type": "display_data"
    },
    {
     "data": {
      "text/html": [
       "<pre style=\"white-space:pre;overflow-x:auto;line-height:normal;font-family:Menlo,'DejaVu Sans Mono',consolas,'Courier New',monospace\">\n",
       "\n",
       "\n",
       "</pre>\n"
      ],
      "text/plain": [
       "\n",
       "\n",
       "\n"
      ]
     },
     "metadata": {},
     "output_type": "display_data"
    },
    {
     "name": "stderr",
     "output_type": "stream",
     "text": [
      "100%|███████████████████████████████████| 7/7 [00:01<00:00,  5.56it/s]\n",
      "100%|█████████████████████████████████| 40/40 [00:07<00:00,  5.28it/s]\n",
      "100%|███████████████████████████████████| 7/7 [00:59<00:00,  8.54s/it]\n"
     ]
    },
    {
     "data": {
      "text/html": [
       "<pre style=\"white-space:pre;overflow-x:auto;line-height:normal;font-family:Menlo,'DejaVu Sans Mono',consolas,'Courier New',monospace\">______________________________________________________________________________________________________________\n",
       "</pre>\n"
      ],
      "text/plain": [
       "______________________________________________________________________________________________________________\n"
      ]
     },
     "metadata": {},
     "output_type": "display_data"
    },
    {
     "data": {
      "text/html": [
       "<pre style=\"white-space:pre;overflow-x:auto;line-height:normal;font-family:Menlo,'DejaVu Sans Mono',consolas,'Courier New',monospace\">model: EMNIST_<span style=\"font-weight: bold\">&lt;</span><span style=\"color: #ff00ff; text-decoration-color: #ff00ff; font-weight: bold\">jacob|mlp</span><span style=\"font-weight: bold\">&gt;</span><span style=\"color: #800080; text-decoration-color: #800080; font-weight: bold\">_</span><span style=\"font-weight: bold\">(</span><span style=\"color: #008080; text-decoration-color: #008080; font-weight: bold\">64</span>,<span style=\"color: #008080; text-decoration-color: #008080; font-weight: bold\">24.0</span><span style=\"font-weight: bold\">)</span> ——— target: MNIST\n",
       "mse:    <span style=\"color: #008080; text-decoration-color: #008080; font-weight: bold\">5.73</span>\n",
       "accuracy:       <span style=\"color: #008080; text-decoration-color: #008080; font-weight: bold\">0.931</span>\n",
       "</pre>\n"
      ],
      "text/plain": [
       "model: EMNIST_\u001b[1m<\u001b[0m\u001b[1;95mjacob|mlp\u001b[0m\u001b[1m>\u001b[0m\u001b[1;35m_\u001b[0m\u001b[1m(\u001b[0m\u001b[1;36m64\u001b[0m,\u001b[1;36m24.0\u001b[0m\u001b[1m)\u001b[0m ——— target: MNIST\n",
       "mse:    \u001b[1;36m5.73\u001b[0m\n",
       "accuracy:       \u001b[1;36m0.931\u001b[0m\n"
      ]
     },
     "metadata": {},
     "output_type": "display_data"
    },
    {
     "data": {
      "image/png": "[encoded data removed]",
      "text/plain": [
       "<Figure size 560x280 with 1 Axes>"
      ]
     },
     "metadata": {},
     "output_type": "display_data"
    },
    {
     "data": {
      "text/html": [
       "<pre style=\"white-space:pre;overflow-x:auto;line-height:normal;font-family:Menlo,'DejaVu Sans Mono',consolas,'Courier New',monospace\">\n",
       "\n",
       "\n",
       "</pre>\n"
      ],
      "text/plain": [
       "\n",
       "\n",
       "\n"
      ]
     },
     "metadata": {},
     "output_type": "display_data"
    },
    {
     "name": "stderr",
     "output_type": "stream",
     "text": [
      "100%|███████████████████████████████████| 9/9 [00:01<00:00,  6.38it/s]\n",
      "100%|█████████████████████████████████| 13/13 [00:02<00:00,  6.28it/s]\n",
      "100%|███████████████████████████████████| 9/9 [01:21<00:00,  9.00s/it]\n"
     ]
    },
    {
     "data": {
      "text/html": [
       "<pre style=\"white-space:pre;overflow-x:auto;line-height:normal;font-family:Menlo,'DejaVu Sans Mono',consolas,'Courier New',monospace\">______________________________________________________________________________________________________________\n",
       "</pre>\n"
      ],
      "text/plain": [
       "______________________________________________________________________________________________________________\n"
      ]
     },
     "metadata": {},
     "output_type": "display_data"
    },
    {
     "data": {
      "text/html": [
       "<pre style=\"white-space:pre;overflow-x:auto;line-height:normal;font-family:Menlo,'DejaVu Sans Mono',consolas,'Courier New',monospace\">model: EMNIST_<span style=\"font-weight: bold\">&lt;</span><span style=\"color: #ff00ff; text-decoration-color: #ff00ff; font-weight: bold\">jacob|mlp</span><span style=\"font-weight: bold\">&gt;</span><span style=\"color: #800080; text-decoration-color: #800080; font-weight: bold\">_</span><span style=\"font-weight: bold\">(</span><span style=\"color: #008080; text-decoration-color: #008080; font-weight: bold\">64</span>,<span style=\"color: #008080; text-decoration-color: #008080; font-weight: bold\">24.0</span><span style=\"font-weight: bold\">)</span> ——— target: Omniglot\n",
       "mse:    <span style=\"color: #008080; text-decoration-color: #008080; font-weight: bold\">18.55</span>\n",
       "accuracy:       <span style=\"color: #008080; text-decoration-color: #008080; font-weight: bold\">0.001</span>\n",
       "</pre>\n"
      ],
      "text/plain": [
       "model: EMNIST_\u001b[1m<\u001b[0m\u001b[1;95mjacob|mlp\u001b[0m\u001b[1m>\u001b[0m\u001b[1;35m_\u001b[0m\u001b[1m(\u001b[0m\u001b[1;36m64\u001b[0m,\u001b[1;36m24.0\u001b[0m\u001b[1m)\u001b[0m ——— target: Omniglot\n",
       "mse:    \u001b[1;36m18.55\u001b[0m\n",
       "accuracy:       \u001b[1;36m0.001\u001b[0m\n"
      ]
     },
     "metadata": {},
     "output_type": "display_data"
    },
    {
     "data": {
      "image/png": "[encoded data removed]",
      "text/plain": [
       "<Figure size 560x280 with 1 Axes>"
      ]
     },
     "metadata": {},
     "output_type": "display_data"
    },
    {
     "data": {
      "text/html": [
       "<pre style=\"white-space:pre;overflow-x:auto;line-height:normal;font-family:Menlo,'DejaVu Sans Mono',consolas,'Courier New',monospace\">\n",
       "\n",
       "\n",
       "</pre>\n"
      ],
      "text/plain": [
       "\n",
       "\n",
       "\n"
      ]
     },
     "metadata": {},
     "output_type": "display_data"
    },
    {
     "name": "stderr",
     "output_type": "stream",
     "text": [
      "100%|█████████████████████████████████| 14/14 [00:02<00:00,  5.58it/s]\n",
      "100%|█████████████████████████████████| 84/84 [00:15<00:00,  5.48it/s]\n",
      "100%|█████████████████████████████████| 14/14 [02:10<00:00,  9.30s/it]\n"
     ]
    },
    {
     "data": {
      "text/html": [
       "<pre style=\"white-space:pre;overflow-x:auto;line-height:normal;font-family:Menlo,'DejaVu Sans Mono',consolas,'Courier New',monospace\">______________________________________________________________________________________________________________\n",
       "</pre>\n"
      ],
      "text/plain": [
       "______________________________________________________________________________________________________________\n"
      ]
     },
     "metadata": {},
     "output_type": "display_data"
    },
    {
     "data": {
      "text/html": [
       "<pre style=\"white-space:pre;overflow-x:auto;line-height:normal;font-family:Menlo,'DejaVu Sans Mono',consolas,'Courier New',monospace\">model: MNIST_<span style=\"font-weight: bold\">&lt;</span><span style=\"color: #ff00ff; text-decoration-color: #ff00ff; font-weight: bold\">jacob|mlp</span><span style=\"font-weight: bold\">&gt;</span><span style=\"color: #800080; text-decoration-color: #800080; font-weight: bold\">_</span><span style=\"font-weight: bold\">(</span><span style=\"color: #008080; text-decoration-color: #008080; font-weight: bold\">64</span>,<span style=\"color: #008080; text-decoration-color: #008080; font-weight: bold\">24.0</span><span style=\"font-weight: bold\">)</span> ——— target: EMNIST\n",
       "mse:    <span style=\"color: #008080; text-decoration-color: #008080; font-weight: bold\">13.08</span>\n",
       "accuracy:       <span style=\"color: #008080; text-decoration-color: #008080; font-weight: bold\">0.764</span>\n",
       "</pre>\n"
      ],
      "text/plain": [
       "model: MNIST_\u001b[1m<\u001b[0m\u001b[1;95mjacob|mlp\u001b[0m\u001b[1m>\u001b[0m\u001b[1;35m_\u001b[0m\u001b[1m(\u001b[0m\u001b[1;36m64\u001b[0m,\u001b[1;36m24.0\u001b[0m\u001b[1m)\u001b[0m ——— target: EMNIST\n",
       "mse:    \u001b[1;36m13.08\u001b[0m\n",
       "accuracy:       \u001b[1;36m0.764\u001b[0m\n"
      ]
     },
     "metadata": {},
     "output_type": "display_data"
    },
    {
     "data": {
      "image/png": "[encoded data removed]",
      "text/plain": [
       "<Figure size 560x280 with 1 Axes>"
      ]
     },
     "metadata": {},
     "output_type": "display_data"
    },
    {
     "data": {
      "text/html": [
       "<pre style=\"white-space:pre;overflow-x:auto;line-height:normal;font-family:Menlo,'DejaVu Sans Mono',consolas,'Courier New',monospace\">\n",
       "\n",
       "\n",
       "</pre>\n"
      ],
      "text/plain": [
       "\n",
       "\n",
       "\n"
      ]
     },
     "metadata": {},
     "output_type": "display_data"
    },
    {
     "name": "stderr",
     "output_type": "stream",
     "text": [
      "100%|███████████████████████████████████| 7/7 [00:01<00:00,  6.28it/s]\n",
      "100%|█████████████████████████████████| 40/40 [00:07<00:00,  5.10it/s]\n",
      "100%|███████████████████████████████████| 7/7 [01:03<00:00,  9.02s/it]\n"
     ]
    },
    {
     "data": {
      "text/html": [
       "<pre style=\"white-space:pre;overflow-x:auto;line-height:normal;font-family:Menlo,'DejaVu Sans Mono',consolas,'Courier New',monospace\">______________________________________________________________________________________________________________\n",
       "</pre>\n"
      ],
      "text/plain": [
       "______________________________________________________________________________________________________________\n"
      ]
     },
     "metadata": {},
     "output_type": "display_data"
    },
    {
     "data": {
      "text/html": [
       "<pre style=\"white-space:pre;overflow-x:auto;line-height:normal;font-family:Menlo,'DejaVu Sans Mono',consolas,'Courier New',monospace\">model: MNIST_<span style=\"font-weight: bold\">&lt;</span><span style=\"color: #ff00ff; text-decoration-color: #ff00ff; font-weight: bold\">jacob|mlp</span><span style=\"font-weight: bold\">&gt;</span><span style=\"color: #800080; text-decoration-color: #800080; font-weight: bold\">_</span><span style=\"font-weight: bold\">(</span><span style=\"color: #008080; text-decoration-color: #008080; font-weight: bold\">64</span>,<span style=\"color: #008080; text-decoration-color: #008080; font-weight: bold\">24.0</span><span style=\"font-weight: bold\">)</span> ——— target: MNIST\n",
       "mse:    <span style=\"color: #008080; text-decoration-color: #008080; font-weight: bold\">3.97</span>\n",
       "accuracy:       <span style=\"color: #008080; text-decoration-color: #008080; font-weight: bold\">0.958</span>\n",
       "</pre>\n"
      ],
      "text/plain": [
       "model: MNIST_\u001b[1m<\u001b[0m\u001b[1;95mjacob|mlp\u001b[0m\u001b[1m>\u001b[0m\u001b[1;35m_\u001b[0m\u001b[1m(\u001b[0m\u001b[1;36m64\u001b[0m,\u001b[1;36m24.0\u001b[0m\u001b[1m)\u001b[0m ——— target: MNIST\n",
       "mse:    \u001b[1;36m3.97\u001b[0m\n",
       "accuracy:       \u001b[1;36m0.958\u001b[0m\n"
      ]
     },
     "metadata": {},
     "output_type": "display_data"
    },
    {
     "data": {
      "image/png": "[encoded data removed]",
      "text/plain": [
       "<Figure size 560x280 with 1 Axes>"
      ]
     },
     "metadata": {},
     "output_type": "display_data"
    },
    {
     "data": {
      "text/html": [
       "<pre style=\"white-space:pre;overflow-x:auto;line-height:normal;font-family:Menlo,'DejaVu Sans Mono',consolas,'Courier New',monospace\">\n",
       "\n",
       "\n",
       "</pre>\n"
      ],
      "text/plain": [
       "\n",
       "\n",
       "\n"
      ]
     },
     "metadata": {},
     "output_type": "display_data"
    },
    {
     "name": "stderr",
     "output_type": "stream",
     "text": [
      "100%|███████████████████████████████████| 9/9 [00:01<00:00,  6.21it/s]\n",
      "100%|█████████████████████████████████| 13/13 [00:02<00:00,  5.84it/s]\n",
      "100%|███████████████████████████████████| 9/9 [01:23<00:00,  9.28s/it]\n"
     ]
    },
    {
     "data": {
      "text/html": [
       "<pre style=\"white-space:pre;overflow-x:auto;line-height:normal;font-family:Menlo,'DejaVu Sans Mono',consolas,'Courier New',monospace\">______________________________________________________________________________________________________________\n",
       "</pre>\n"
      ],
      "text/plain": [
       "______________________________________________________________________________________________________________\n"
      ]
     },
     "metadata": {},
     "output_type": "display_data"
    },
    {
     "data": {
      "text/html": [
       "<pre style=\"white-space:pre;overflow-x:auto;line-height:normal;font-family:Menlo,'DejaVu Sans Mono',consolas,'Courier New',monospace\">model: MNIST_<span style=\"font-weight: bold\">&lt;</span><span style=\"color: #ff00ff; text-decoration-color: #ff00ff; font-weight: bold\">jacob|mlp</span><span style=\"font-weight: bold\">&gt;</span><span style=\"color: #800080; text-decoration-color: #800080; font-weight: bold\">_</span><span style=\"font-weight: bold\">(</span><span style=\"color: #008080; text-decoration-color: #008080; font-weight: bold\">64</span>,<span style=\"color: #008080; text-decoration-color: #008080; font-weight: bold\">24.0</span><span style=\"font-weight: bold\">)</span> ——— target: Omniglot\n",
       "mse:    <span style=\"color: #008080; text-decoration-color: #008080; font-weight: bold\">18.92</span>\n",
       "accuracy:       <span style=\"color: #008080; text-decoration-color: #008080; font-weight: bold\">0.001</span>\n",
       "</pre>\n"
      ],
      "text/plain": [
       "model: MNIST_\u001b[1m<\u001b[0m\u001b[1;95mjacob|mlp\u001b[0m\u001b[1m>\u001b[0m\u001b[1;35m_\u001b[0m\u001b[1m(\u001b[0m\u001b[1;36m64\u001b[0m,\u001b[1;36m24.0\u001b[0m\u001b[1m)\u001b[0m ——— target: Omniglot\n",
       "mse:    \u001b[1;36m18.92\u001b[0m\n",
       "accuracy:       \u001b[1;36m0.001\u001b[0m\n"
      ]
     },
     "metadata": {},
     "output_type": "display_data"
    },
    {
     "data": {
      "image/png": "[encoded data removed]",
      "text/plain": [
       "<Figure size 560x280 with 1 Axes>"
      ]
     },
     "metadata": {},
     "output_type": "display_data"
    },
    {
     "data": {
      "text/html": [
       "<pre style=\"white-space:pre;overflow-x:auto;line-height:normal;font-family:Menlo,'DejaVu Sans Mono',consolas,'Courier New',monospace\">\n",
       "\n",
       "\n",
       "</pre>\n"
      ],
      "text/plain": [
       "\n",
       "\n",
       "\n"
      ]
     },
     "metadata": {},
     "output_type": "display_data"
    },
    {
     "name": "stderr",
     "output_type": "stream",
     "text": [
      "100%|█████████████████████████████████| 14/14 [00:02<00:00,  5.26it/s]\n",
      "100%|█████████████████████████████████| 84/84 [00:15<00:00,  5.44it/s]\n",
      "100%|█████████████████████████████████| 14/14 [02:13<00:00,  9.53s/it]\n"
     ]
    },
    {
     "data": {
      "text/html": [
       "<pre style=\"white-space:pre;overflow-x:auto;line-height:normal;font-family:Menlo,'DejaVu Sans Mono',consolas,'Courier New',monospace\">______________________________________________________________________________________________________________\n",
       "</pre>\n"
      ],
      "text/plain": [
       "______________________________________________________________________________________________________________\n"
      ]
     },
     "metadata": {},
     "output_type": "display_data"
    },
    {
     "data": {
      "text/html": [
       "<pre style=\"white-space:pre;overflow-x:auto;line-height:normal;font-family:Menlo,'DejaVu Sans Mono',consolas,'Courier New',monospace\">model: Omniglot_<span style=\"font-weight: bold\">&lt;</span><span style=\"color: #ff00ff; text-decoration-color: #ff00ff; font-weight: bold\">jacob|mlp</span><span style=\"font-weight: bold\">&gt;</span><span style=\"color: #800080; text-decoration-color: #800080; font-weight: bold\">_</span><span style=\"font-weight: bold\">(</span><span style=\"color: #008080; text-decoration-color: #008080; font-weight: bold\">64</span>,<span style=\"color: #008080; text-decoration-color: #008080; font-weight: bold\">24.0</span><span style=\"font-weight: bold\">)</span> ——— target: EMNIST\n",
       "mse:    <span style=\"color: #008080; text-decoration-color: #008080; font-weight: bold\">12.48</span>\n",
       "accuracy:       <span style=\"color: #008080; text-decoration-color: #008080; font-weight: bold\">0.727</span>\n",
       "</pre>\n"
      ],
      "text/plain": [
       "model: Omniglot_\u001b[1m<\u001b[0m\u001b[1;95mjacob|mlp\u001b[0m\u001b[1m>\u001b[0m\u001b[1;35m_\u001b[0m\u001b[1m(\u001b[0m\u001b[1;36m64\u001b[0m,\u001b[1;36m24.0\u001b[0m\u001b[1m)\u001b[0m ——— target: EMNIST\n",
       "mse:    \u001b[1;36m12.48\u001b[0m\n",
       "accuracy:       \u001b[1;36m0.727\u001b[0m\n"
      ]
     },
     "metadata": {},
     "output_type": "display_data"
    },
    {
     "data": {
      "image/png": "[encoded data removed]",
      "text/plain": [
       "<Figure size 560x280 with 1 Axes>"
      ]
     },
     "metadata": {},
     "output_type": "display_data"
    },
    {
     "data": {
      "text/html": [
       "<pre style=\"white-space:pre;overflow-x:auto;line-height:normal;font-family:Menlo,'DejaVu Sans Mono',consolas,'Courier New',monospace\">\n",
       "\n",
       "\n",
       "</pre>\n"
      ],
      "text/plain": [
       "\n",
       "\n",
       "\n"
      ]
     },
     "metadata": {},
     "output_type": "display_data"
    },
    {
     "name": "stderr",
     "output_type": "stream",
     "text": [
      "100%|███████████████████████████████████| 7/7 [00:01<00:00,  5.59it/s]\n",
      "100%|█████████████████████████████████| 40/40 [00:09<00:00,  4.34it/s]\n",
      "100%|███████████████████████████████████| 7/7 [01:00<00:00,  8.64s/it]\n"
     ]
    },
    {
     "data": {
      "text/html": [
       "<pre style=\"white-space:pre;overflow-x:auto;line-height:normal;font-family:Menlo,'DejaVu Sans Mono',consolas,'Courier New',monospace\">______________________________________________________________________________________________________________\n",
       "</pre>\n"
      ],
      "text/plain": [
       "______________________________________________________________________________________________________________\n"
      ]
     },
     "metadata": {},
     "output_type": "display_data"
    },
    {
     "data": {
      "text/html": [
       "<pre style=\"white-space:pre;overflow-x:auto;line-height:normal;font-family:Menlo,'DejaVu Sans Mono',consolas,'Courier New',monospace\">model: Omniglot_<span style=\"font-weight: bold\">&lt;</span><span style=\"color: #ff00ff; text-decoration-color: #ff00ff; font-weight: bold\">jacob|mlp</span><span style=\"font-weight: bold\">&gt;</span><span style=\"color: #800080; text-decoration-color: #800080; font-weight: bold\">_</span><span style=\"font-weight: bold\">(</span><span style=\"color: #008080; text-decoration-color: #008080; font-weight: bold\">64</span>,<span style=\"color: #008080; text-decoration-color: #008080; font-weight: bold\">24.0</span><span style=\"font-weight: bold\">)</span> ——— target: MNIST\n",
       "mse:    <span style=\"color: #008080; text-decoration-color: #008080; font-weight: bold\">8.89</span>\n",
       "accuracy:       <span style=\"color: #008080; text-decoration-color: #008080; font-weight: bold\">0.925</span>\n",
       "</pre>\n"
      ],
      "text/plain": [
       "model: Omniglot_\u001b[1m<\u001b[0m\u001b[1;95mjacob|mlp\u001b[0m\u001b[1m>\u001b[0m\u001b[1;35m_\u001b[0m\u001b[1m(\u001b[0m\u001b[1;36m64\u001b[0m,\u001b[1;36m24.0\u001b[0m\u001b[1m)\u001b[0m ——— target: MNIST\n",
       "mse:    \u001b[1;36m8.89\u001b[0m\n",
       "accuracy:       \u001b[1;36m0.925\u001b[0m\n"
      ]
     },
     "metadata": {},
     "output_type": "display_data"
    },
    {
     "data": {
      "image/png": "[encoded data removed]",
      "text/plain": [
       "<Figure size 560x280 with 1 Axes>"
      ]
     },
     "metadata": {},
     "output_type": "display_data"
    },
    {
     "data": {
      "text/html": [
       "<pre style=\"white-space:pre;overflow-x:auto;line-height:normal;font-family:Menlo,'DejaVu Sans Mono',consolas,'Courier New',monospace\">\n",
       "\n",
       "\n",
       "</pre>\n"
      ],
      "text/plain": [
       "\n",
       "\n",
       "\n"
      ]
     },
     "metadata": {},
     "output_type": "display_data"
    },
    {
     "name": "stderr",
     "output_type": "stream",
     "text": [
      "100%|███████████████████████████████████| 9/9 [00:01<00:00,  5.88it/s]\n",
      "100%|█████████████████████████████████| 13/13 [00:02<00:00,  5.84it/s]\n",
      "100%|███████████████████████████████████| 9/9 [01:27<00:00,  9.69s/it]\n"
     ]
    },
    {
     "data": {
      "text/html": [
       "<pre style=\"white-space:pre;overflow-x:auto;line-height:normal;font-family:Menlo,'DejaVu Sans Mono',consolas,'Courier New',monospace\">______________________________________________________________________________________________________________\n",
       "</pre>\n"
      ],
      "text/plain": [
       "______________________________________________________________________________________________________________\n"
      ]
     },
     "metadata": {},
     "output_type": "display_data"
    },
    {
     "data": {
      "text/html": [
       "<pre style=\"white-space:pre;overflow-x:auto;line-height:normal;font-family:Menlo,'DejaVu Sans Mono',consolas,'Courier New',monospace\">model: Omniglot_<span style=\"font-weight: bold\">&lt;</span><span style=\"color: #ff00ff; text-decoration-color: #ff00ff; font-weight: bold\">jacob|mlp</span><span style=\"font-weight: bold\">&gt;</span><span style=\"color: #800080; text-decoration-color: #800080; font-weight: bold\">_</span><span style=\"font-weight: bold\">(</span><span style=\"color: #008080; text-decoration-color: #008080; font-weight: bold\">64</span>,<span style=\"color: #008080; text-decoration-color: #008080; font-weight: bold\">24.0</span><span style=\"font-weight: bold\">)</span> ——— target: Omniglot\n",
       "mse:    <span style=\"color: #008080; text-decoration-color: #008080; font-weight: bold\">9.75</span>\n",
       "accuracy:       <span style=\"color: #008080; text-decoration-color: #008080; font-weight: bold\">0.001</span>\n",
       "</pre>\n"
      ],
      "text/plain": [
       "model: Omniglot_\u001b[1m<\u001b[0m\u001b[1;95mjacob|mlp\u001b[0m\u001b[1m>\u001b[0m\u001b[1;35m_\u001b[0m\u001b[1m(\u001b[0m\u001b[1;36m64\u001b[0m,\u001b[1;36m24.0\u001b[0m\u001b[1m)\u001b[0m ——— target: Omniglot\n",
       "mse:    \u001b[1;36m9.75\u001b[0m\n",
       "accuracy:       \u001b[1;36m0.001\u001b[0m\n"
      ]
     },
     "metadata": {},
     "output_type": "display_data"
    },
    {
     "data": {
      "image/png": "[encoded data removed]",
      "text/plain": [
       "<Figure size 560x280 with 1 Axes>"
      ]
     },
     "metadata": {},
     "output_type": "display_data"
    },
    {
     "data": {
      "text/html": [
       "<pre style=\"white-space:pre;overflow-x:auto;line-height:normal;font-family:Menlo,'DejaVu Sans Mono',consolas,'Courier New',monospace\">\n",
       "\n",
       "\n",
       "</pre>\n"
      ],
      "text/plain": [
       "\n",
       "\n",
       "\n"
      ]
     },
     "metadata": {},
     "output_type": "display_data"
    },
    {
     "name": "stdout",
     "output_type": "stream",
     "text": [
      "CPU times: user 36min 4s, sys: 7min 36s, total: 43min 40s\n",
      "Wall time: 18min 57s\n"
     ]
    }
   ],
   "source": [
    "%%time\n",
    "\n",
    "\n",
    "df = collections.defaultdict(list)\n",
    "for model_name, tr in trainers.items():\n",
    "    if tr.model.cfg.enc_type == 'jacob':\n",
    "        is_ipvae = True\n",
    "    else:\n",
    "        is_ipvae = False\n",
    "\n",
    "    tr.cfg.batch_size = 1500\n",
    "    t_recon = 1000 if is_ipvae else -1\n",
    "\n",
    "    ds_src = tr.model.cfg.dataset\n",
    "    assert ds_src == model_name.split('_')[0]\n",
    "    # ds_tgt_list = [ds for ds in datasets if ds != ds_src]\n",
    "\n",
    "    for ds_tgt in datasets:\n",
    "        analysis_name = f\"ood_src-{ds_src}_tgt-{ds_tgt}\"\n",
    "        fig_dir = pjoin(fig_base_dir, analysis_name)\n",
    "        os.makedirs(fig_dir, exist_ok=True)\n",
    "\n",
    "        accuracy, results = ood_analysis(\n",
    "            tr=tr,\n",
    "            dataset=ds_tgt,\n",
    "            n_data_batches=None,\n",
    "            t_clf=-1,\n",
    "            t_recon=t_recon,\n",
    "            verbose=True,\n",
    "        )\n",
    "        \n",
    "        print('_' * 110)\n",
    "        msg = '\\n'.join([\n",
    "            f\"model: {model_name} ——— target: {ds_tgt}\",\n",
    "            f\"mse:\\t{results['mse'][-1]:0.2f}\",\n",
    "            f\"accuracy:\\t{accuracy:0.3f}\",\n",
    "        ])\n",
    "        print(msg)\n",
    "\n",
    "        # save results\n",
    "        df['analysis_name'].append(analysis_name)\n",
    "        df['ds_src'].append(ds_src)\n",
    "        df['ds_tgt'].append(ds_tgt)\n",
    "        df['model'].append('iP-VAE' if is_ipvae else 'aiP-VAE')\n",
    "        df['enc_type'].append(tr.model.cfg.enc_type)\n",
    "        df['dec_type'].append(tr.model.cfg.dec_type)\n",
    "        df['n_iters_train'].append(tr.model.cfg.seq_len)\n",
    "        df['n_iters_test'].append(results['props']['t_recon'])\n",
    "        df['mse'].append(results['mse'][-1])\n",
    "        df['accuracy'].append(accuracy)\n",
    "\n",
    "        src, recon = _prep_fig()\n",
    "        _save_fig()\n",
    "\n",
    "        # show fig (for sanity check only)\n",
    "        x2p = np.concatenate([src, recon])\n",
    "        _ = plot_weights(\n",
    "            x2p, nrows=2, cmap='Greys',\n",
    "            vmin=0.001, vmax=1, dpi=70,\n",
    "        )\n",
    "        print('\\n\\n')"
   ]
  },
  {
   "cell_type": "code",
   "execution_count": null,
   "id": "dc4c76c7-6535-4b37-b0bf-8a0637717ec7",
   "metadata": {},
   "outputs": [],
   "source": []
  },
  {
   "cell_type": "code",
   "execution_count": 11,
   "id": "fac4cf50-533f-4afd-a75f-6d4bedb8b0eb",
   "metadata": {},
   "outputs": [
    {
     "data": {
      "text/html": [
       "<pre style=\"white-space:pre;overflow-x:auto;line-height:normal;font-family:Menlo,'DejaVu Sans Mono',consolas,'Courier New',monospace\"><span style=\"font-weight: bold\">[</span>PROGRESS<span style=\"font-weight: bold\">]</span> <span style=\"color: #008000; text-decoration-color: #008000\">'df_ood.df'</span> saved at\n",
       "<span style=\"color: #800080; text-decoration-color: #800080\">/home/hadi/Dropbox/git/jb-vae/</span><span style=\"color: #ff00ff; text-decoration-color: #ff00ff\">tmp</span>\n",
       "</pre>\n"
      ],
      "text/plain": [
       "\u001b[1m[\u001b[0mPROGRESS\u001b[1m]\u001b[0m \u001b[32m'df_ood.df'\u001b[0m saved at\n",
       "\u001b[35m/home/hadi/Dropbox/git/jb-vae/\u001b[0m\u001b[95mtmp\u001b[0m\n"
      ]
     },
     "metadata": {},
     "output_type": "display_data"
    }
   ],
   "source": [
    "# df = pd.DataFrame(df)\n",
    "\n",
    "# save_obj(\n",
    "#     obj=df,\n",
    "#     file_name='df_ood',\n",
    "#     save_dir=tmp_dir,\n",
    "#     mode='df',\n",
    "# )"
   ]
  },
  {
   "cell_type": "code",
   "execution_count": null,
   "id": "36a444e9-2369-44cd-97ba-177621179bf4",
   "metadata": {},
   "outputs": [],
   "source": []
  },
  {
   "cell_type": "code",
   "execution_count": null,
   "id": "8e5a5b18-6d29-483b-94a2-a5e5f143f365",
   "metadata": {},
   "outputs": [],
   "source": []
  },
  {
   "cell_type": "code",
   "execution_count": 11,
   "id": "8361461c-1721-448e-918a-10800382a0d5",
   "metadata": {},
   "outputs": [
    {
     "data": {
      "image/png": "[encoded data removed]",
      "text/plain": [
       "<Figure size 700x800 with 1 Axes>"
      ]
     },
     "metadata": {},
     "output_type": "display_data"
    }
   ],
   "source": [
    "fig, ax= create_figure(1, 1, (7, 8))\n",
    "sns.barplot(data=pd.DataFrame(df), x='analysis_name', y='mse', hue='model', ax=ax)\n",
    "ax.tick_params(axis='x', rotation=-90)"
   ]
  },
  {
   "cell_type": "code",
   "execution_count": null,
   "id": "7d81fc90-9293-4a91-83ac-269bf4ac7065",
   "metadata": {},
   "outputs": [],
   "source": []
  },
  {
   "cell_type": "markdown",
   "id": "7b0e0991-b030-4937-b478-8129c1187b65",
   "metadata": {},
   "source": [
    "## OOD: Marino & Kim"
   ]
  },
  {
   "cell_type": "code",
   "execution_count": 4,
   "id": "d8a9e23d-cdc7-4cec-aefe-9b6c204de0b0",
   "metadata": {},
   "outputs": [],
   "source": [
    "def _extract_src_tgt(name):\n",
    "    def _final_processing(s):\n",
    "        s = str(s)\n",
    "        if s.lower == 'omniglot':\n",
    "            s = s.capitalize()\n",
    "        else:\n",
    "            s = s.upper()\n",
    "        return s\n",
    "\n",
    "    if '~' not in name:\n",
    "        name = '~'.join(f.split('_')[:-1])\n",
    "    from_to_part = [\n",
    "        part for part in name.split('~')\n",
    "        if 'from-' in part\n",
    "    ][0]\n",
    "    ds_src = from_to_part.split('-')[1]\n",
    "    ds_tgt = from_to_part.split('-')[3]\n",
    "    ds_src, ds_tgt = map(\n",
    "        _final_processing,\n",
    "        [ds_src, ds_tgt],\n",
    "    )\n",
    "    return ds_src, ds_tgt\n",
    "\n",
    "\n",
    "def _extract_model_type(name):\n",
    "    mapping = {\n",
    "        'SAVAE': 'sa-VAE',\n",
    "        'MARINO-single': 'ia-VAE (single-level)',\n",
    "        'MARINO-hier': 'ia-VAE (hierarchical)'\n",
    "    }\n",
    "    if '~' not in name:\n",
    "        name = '~'.join(f.split('_')[:-1])\n",
    "    model = name.split('~')[0]\n",
    "    if 'hierarchical' in name:\n",
    "        model = f\"{model}-hier\"\n",
    "    elif 'single' in name:\n",
    "        model = f\"{model}-single\"\n",
    "    elif model == 'SAVAE':\n",
    "        pass\n",
    "    else:\n",
    "        raise ValueError(name)\n",
    "\n",
    "    model = mapping[model]\n",
    "    return model"
   ]
  },
  {
   "cell_type": "code",
   "execution_count": 4,
   "id": "4f874830-9410-4e7e-b45a-cf15202c309e",
   "metadata": {},
   "outputs": [
    {
     "data": {
      "text/html": [
       "<pre style=\"white-space:pre;overflow-x:auto;line-height:normal;font-family:Menlo,'DejaVu Sans Mono',consolas,'Courier New',monospace\"><span style=\"font-weight: bold\">[</span>\n",
       "    <span style=\"color: #008000; text-decoration-color: #008000\">'MARINO_emnist_hierarchical_iterative_EMNIST_H_10_full.npz'</span>,\n",
       "    <span style=\"color: #008000; text-decoration-color: #008000\">'MARINO_emnist_single_level_iterative_EMNIST_SL_10_full.npz'</span>,\n",
       "    <span style=\"color: #008000; text-decoration-color: #008000\">'MARINO_hierarchical_from-emnist-to-mnist_EMNIST_H_iters10_full.npz'</span>,\n",
       "    <span style=\"color: #008000; text-decoration-color: #008000\">'MARINO_hierarchical_from-emnist-to-omniglot_EMNIST_H_iters10_full.npz'</span>,\n",
       "    <span style=\"color: #008000; text-decoration-color: #008000\">'MARINO_hierarchical_from-mnist-to-emnist_MNIST_H_iters10_full.npz'</span>,\n",
       "    <span style=\"color: #008000; text-decoration-color: #008000\">'MARINO_hierarchical_from-mnist-to-omniglot_MNIST_H_iters10_full.npz'</span>,\n",
       "    <span style=\"color: #008000; text-decoration-color: #008000\">'MARINO_hierarchical_from-mnist-to-omniglot_MNIST_H_iters1000_full.npz'</span>,\n",
       "    <span style=\"color: #008000; text-decoration-color: #008000\">'MARINO_hierarchical_from-omniglot-to-emnist_OMNIGLOT_HADI_H_iters10_full.npz'</span>,\n",
       "    <span style=\"color: #008000; text-decoration-color: #008000\">'MARINO_hierarchical_from-omniglot-to-mnist_OMNIGLOT_HADI_H_iters10_full.npz'</span>,\n",
       "    <span style=\"color: #008000; text-decoration-color: #008000\">'MARINO_mnist_hierarchical_iterative_MNIST_H_10_full.npz'</span>,\n",
       "    <span style=\"color: #008000; text-decoration-color: #008000\">'MARINO_mnist_single_level_iterative_MNIST_SL_10_full.npz'</span>,\n",
       "    <span style=\"color: #008000; text-decoration-color: #008000\">'MARINO_omniglot-hadi_hierarchical_iterative_OMNIGLOT_HADI_H_10_full.npz'</span>,\n",
       "    <span style=\"color: #008000; text-decoration-color: #008000\">'MARINO_omniglot-hadi_single_level_iterative_OMNIGLOT_HADI_SL_10_full.npz'</span>,\n",
       "    <span style=\"color: #008000; text-decoration-color: #008000\">'MARINO_single_level_from-emnist-to-mnist_EMNIST_SL_iters10_full.npz'</span>,\n",
       "    <span style=\"color: #008000; text-decoration-color: #008000\">'MARINO_single_level_from-emnist-to-omniglot_EMNIST_SL_iters10_full.npz'</span>,\n",
       "    <span style=\"color: #008000; text-decoration-color: #008000\">'MARINO_single_level_from-mnist-to-emnist_MNIST_SL_iters10_full.npz'</span>,\n",
       "    <span style=\"color: #008000; text-decoration-color: #008000\">'MARINO_single_level_from-mnist-to-omniglot_MNIST_SL_iters10_full.npz'</span>,\n",
       "    <span style=\"color: #008000; text-decoration-color: #008000\">'MARINO_single_level_from-omniglot-to-emnist_OMNIGLOT_HADI_SL_iters10_full.npz'</span>,\n",
       "    <span style=\"color: #008000; text-decoration-color: #008000\">'MARINO_single_level_from-omniglot-to-mnist_OMNIGLOT_HADI_SL_iters10_full.npz'</span>,\n",
       "    <span style=\"color: #008000; text-decoration-color: #008000\">'SAVAE_emnist_iter20_full.npz'</span>,\n",
       "    <span style=\"color: #008000; text-decoration-color: #008000\">'SAVAE_from-emnist-to-mnist_iter20_full.npz'</span>,\n",
       "    <span style=\"color: #008000; text-decoration-color: #008000\">'SAVAE_from-emnist-to-omniglot_iter20_full.npz'</span>,\n",
       "    <span style=\"color: #008000; text-decoration-color: #008000\">'SAVAE_from-mnist-to-emnist_iter20_full.npz'</span>,\n",
       "    <span style=\"color: #008000; text-decoration-color: #008000\">'SAVAE_from-mnist-to-omniglot_iter20_full.npz'</span>,\n",
       "    <span style=\"color: #008000; text-decoration-color: #008000\">'SAVAE_from-omniglot-to-emnist_iter20_full.npz'</span>,\n",
       "    <span style=\"color: #008000; text-decoration-color: #008000\">'SAVAE_from-omniglot-to-mnist_iter20_full.npz'</span>,\n",
       "    <span style=\"color: #008000; text-decoration-color: #008000\">'SAVAE_mnist_iter20_full.npz'</span>,\n",
       "    <span style=\"color: #008000; text-decoration-color: #008000\">'SAVAE_omniglot_iter20_full.npz'</span>\n",
       "<span style=\"font-weight: bold\">]</span>\n",
       "</pre>\n"
      ],
      "text/plain": [
       "\u001b[1m[\u001b[0m\n",
       "    \u001b[32m'MARINO_emnist_hierarchical_iterative_EMNIST_H_10_full.npz'\u001b[0m,\n",
       "    \u001b[32m'MARINO_emnist_single_level_iterative_EMNIST_SL_10_full.npz'\u001b[0m,\n",
       "    \u001b[32m'MARINO_hierarchical_from-emnist-to-mnist_EMNIST_H_iters10_full.npz'\u001b[0m,\n",
       "    \u001b[32m'MARINO_hierarchical_from-emnist-to-omniglot_EMNIST_H_iters10_full.npz'\u001b[0m,\n",
       "    \u001b[32m'MARINO_hierarchical_from-mnist-to-emnist_MNIST_H_iters10_full.npz'\u001b[0m,\n",
       "    \u001b[32m'MARINO_hierarchical_from-mnist-to-omniglot_MNIST_H_iters10_full.npz'\u001b[0m,\n",
       "    \u001b[32m'MARINO_hierarchical_from-mnist-to-omniglot_MNIST_H_iters1000_full.npz'\u001b[0m,\n",
       "    \u001b[32m'MARINO_hierarchical_from-omniglot-to-emnist_OMNIGLOT_HADI_H_iters10_full.npz'\u001b[0m,\n",
       "    \u001b[32m'MARINO_hierarchical_from-omniglot-to-mnist_OMNIGLOT_HADI_H_iters10_full.npz'\u001b[0m,\n",
       "    \u001b[32m'MARINO_mnist_hierarchical_iterative_MNIST_H_10_full.npz'\u001b[0m,\n",
       "    \u001b[32m'MARINO_mnist_single_level_iterative_MNIST_SL_10_full.npz'\u001b[0m,\n",
       "    \u001b[32m'MARINO_omniglot-hadi_hierarchical_iterative_OMNIGLOT_HADI_H_10_full.npz'\u001b[0m,\n",
       "    \u001b[32m'MARINO_omniglot-hadi_single_level_iterative_OMNIGLOT_HADI_SL_10_full.npz'\u001b[0m,\n",
       "    \u001b[32m'MARINO_single_level_from-emnist-to-mnist_EMNIST_SL_iters10_full.npz'\u001b[0m,\n",
       "    \u001b[32m'MARINO_single_level_from-emnist-to-omniglot_EMNIST_SL_iters10_full.npz'\u001b[0m,\n",
       "    \u001b[32m'MARINO_single_level_from-mnist-to-emnist_MNIST_SL_iters10_full.npz'\u001b[0m,\n",
       "    \u001b[32m'MARINO_single_level_from-mnist-to-omniglot_MNIST_SL_iters10_full.npz'\u001b[0m,\n",
       "    \u001b[32m'MARINO_single_level_from-omniglot-to-emnist_OMNIGLOT_HADI_SL_iters10_full.npz'\u001b[0m,\n",
       "    \u001b[32m'MARINO_single_level_from-omniglot-to-mnist_OMNIGLOT_HADI_SL_iters10_full.npz'\u001b[0m,\n",
       "    \u001b[32m'SAVAE_emnist_iter20_full.npz'\u001b[0m,\n",
       "    \u001b[32m'SAVAE_from-emnist-to-mnist_iter20_full.npz'\u001b[0m,\n",
       "    \u001b[32m'SAVAE_from-emnist-to-omniglot_iter20_full.npz'\u001b[0m,\n",
       "    \u001b[32m'SAVAE_from-mnist-to-emnist_iter20_full.npz'\u001b[0m,\n",
       "    \u001b[32m'SAVAE_from-mnist-to-omniglot_iter20_full.npz'\u001b[0m,\n",
       "    \u001b[32m'SAVAE_from-omniglot-to-emnist_iter20_full.npz'\u001b[0m,\n",
       "    \u001b[32m'SAVAE_from-omniglot-to-mnist_iter20_full.npz'\u001b[0m,\n",
       "    \u001b[32m'SAVAE_mnist_iter20_full.npz'\u001b[0m,\n",
       "    \u001b[32m'SAVAE_omniglot_iter20_full.npz'\u001b[0m\n",
       "\u001b[1m]\u001b[0m\n"
      ]
     },
     "metadata": {},
     "output_type": "display_data"
    }
   ],
   "source": [
    "dekel_dir = '/home/hadi/Dropbox/git/jb-vae/tmp/dekel_data/rot_full'\n",
    "\n",
    "dekel_files = sorted(\n",
    "    os.listdir(dekel_dir),\n",
    "    key=alphanum_sort_key,\n",
    ")\n",
    "across_files = [\n",
    "    f for f in dekel_files\n",
    "    if '_from' in f\n",
    "]\n",
    "within_files = [\n",
    "    f for f in dekel_files\n",
    "    if 'rotate' not in f\n",
    "    and 'from' not in f\n",
    "    and '_vh_' not in f\n",
    "]\n",
    "selected_dekel_files = sorted(\n",
    "    across_files + within_files,\n",
    "    key=alphanum_sort_key,\n",
    ")\n",
    "print(selected_dekel_files)"
   ]
  },
  {
   "cell_type": "code",
   "execution_count": null,
   "id": "77b701d9-ec78-4d14-ac21-68c41d582e13",
   "metadata": {},
   "outputs": [],
   "source": []
  },
  {
   "cell_type": "code",
   "execution_count": null,
   "id": "763ee152-cbb1-4673-8f64-e9b700a190ae",
   "metadata": {},
   "outputs": [],
   "source": []
  },
  {
   "cell_type": "code",
   "execution_count": null,
   "id": "a33e4651-aca5-491a-917b-9c94f80004c2",
   "metadata": {},
   "outputs": [],
   "source": []
  },
  {
   "cell_type": "code",
   "execution_count": null,
   "id": "a061d61d-d2a8-48e0-b232-664e7293f252",
   "metadata": {},
   "outputs": [],
   "source": []
  },
  {
   "cell_type": "code",
   "execution_count": null,
   "id": "12482c36-4d8d-4213-9c33-d6ee008abdbe",
   "metadata": {},
   "outputs": [],
   "source": []
  },
  {
   "cell_type": "code",
   "execution_count": 23,
   "id": "5436bad6-81c8-479e-93b8-93e72e11f3cc",
   "metadata": {},
   "outputs": [
    {
     "data": {
      "text/html": [
       "<pre style=\"white-space:pre;overflow-x:auto;line-height:normal;font-family:Menlo,'DejaVu Sans Mono',consolas,'Courier New',monospace\"><span style=\"font-weight: bold\">(</span><span style=\"color: #008080; text-decoration-color: #008080; font-weight: bold\">10000</span>, <span style=\"color: #008080; text-decoration-color: #008080; font-weight: bold\">1</span>, <span style=\"color: #008080; text-decoration-color: #008080; font-weight: bold\">28</span>, <span style=\"color: #008080; text-decoration-color: #008080; font-weight: bold\">28</span><span style=\"font-weight: bold\">)</span>\n",
       "</pre>\n"
      ],
      "text/plain": [
       "\u001b[1m(\u001b[0m\u001b[1;36m10000\u001b[0m, \u001b[1;36m1\u001b[0m, \u001b[1;36m28\u001b[0m, \u001b[1;36m28\u001b[0m\u001b[1m)\u001b[0m\n"
      ]
     },
     "metadata": {},
     "output_type": "display_data"
    },
    {
     "data": {
      "text/html": [
       "<pre style=\"white-space:pre;overflow-x:auto;line-height:normal;font-family:Menlo,'DejaVu Sans Mono',consolas,'Courier New',monospace\"><span style=\"font-weight: bold\">(</span><span style=\"color: #008080; text-decoration-color: #008080; font-weight: bold\">13180</span>, <span style=\"color: #008080; text-decoration-color: #008080; font-weight: bold\">28</span>, <span style=\"color: #008080; text-decoration-color: #008080; font-weight: bold\">28</span>, <span style=\"color: #008080; text-decoration-color: #008080; font-weight: bold\">1</span><span style=\"font-weight: bold\">)</span>\n",
       "</pre>\n"
      ],
      "text/plain": [
       "\u001b[1m(\u001b[0m\u001b[1;36m13180\u001b[0m, \u001b[1;36m28\u001b[0m, \u001b[1;36m28\u001b[0m, \u001b[1;36m1\u001b[0m\u001b[1m)\u001b[0m\n"
      ]
     },
     "metadata": {},
     "output_type": "display_data"
    },
    {
     "data": {
      "text/html": [
       "<pre style=\"white-space:pre;overflow-x:auto;line-height:normal;font-family:Menlo,'DejaVu Sans Mono',consolas,'Courier New',monospace\"><span style=\"font-weight: bold\">(</span><span style=\"color: #008080; text-decoration-color: #008080; font-weight: bold\">20800</span>, <span style=\"color: #008080; text-decoration-color: #008080; font-weight: bold\">28</span>, <span style=\"color: #008080; text-decoration-color: #008080; font-weight: bold\">28</span>, <span style=\"color: #008080; text-decoration-color: #008080; font-weight: bold\">1</span><span style=\"font-weight: bold\">)</span>\n",
       "</pre>\n"
      ],
      "text/plain": [
       "\u001b[1m(\u001b[0m\u001b[1;36m20800\u001b[0m, \u001b[1;36m28\u001b[0m, \u001b[1;36m28\u001b[0m, \u001b[1;36m1\u001b[0m\u001b[1m)\u001b[0m\n"
      ]
     },
     "metadata": {},
     "output_type": "display_data"
    },
    {
     "data": {
      "text/html": [
       "<pre style=\"white-space:pre;overflow-x:auto;line-height:normal;font-family:Menlo,'DejaVu Sans Mono',consolas,'Courier New',monospace\"><span style=\"font-weight: bold\">(</span><span style=\"color: #008080; text-decoration-color: #008080; font-weight: bold\">13180</span>, <span style=\"color: #008080; text-decoration-color: #008080; font-weight: bold\">28</span>, <span style=\"color: #008080; text-decoration-color: #008080; font-weight: bold\">28</span>, <span style=\"color: #008080; text-decoration-color: #008080; font-weight: bold\">1</span><span style=\"font-weight: bold\">)</span>\n",
       "</pre>\n"
      ],
      "text/plain": [
       "\u001b[1m(\u001b[0m\u001b[1;36m13180\u001b[0m, \u001b[1;36m28\u001b[0m, \u001b[1;36m28\u001b[0m, \u001b[1;36m1\u001b[0m\u001b[1m)\u001b[0m\n"
      ]
     },
     "metadata": {},
     "output_type": "display_data"
    },
    {
     "data": {
      "text/html": [
       "<pre style=\"white-space:pre;overflow-x:auto;line-height:normal;font-family:Menlo,'DejaVu Sans Mono',consolas,'Courier New',monospace\"><span style=\"font-weight: bold\">(</span><span style=\"color: #008080; text-decoration-color: #008080; font-weight: bold\">20800</span>, <span style=\"color: #008080; text-decoration-color: #008080; font-weight: bold\">1</span>, <span style=\"color: #008080; text-decoration-color: #008080; font-weight: bold\">28</span>, <span style=\"color: #008080; text-decoration-color: #008080; font-weight: bold\">28</span><span style=\"font-weight: bold\">)</span>\n",
       "</pre>\n"
      ],
      "text/plain": [
       "\u001b[1m(\u001b[0m\u001b[1;36m20800\u001b[0m, \u001b[1;36m1\u001b[0m, \u001b[1;36m28\u001b[0m, \u001b[1;36m28\u001b[0m\u001b[1m)\u001b[0m\n"
      ]
     },
     "metadata": {},
     "output_type": "display_data"
    },
    {
     "data": {
      "text/html": [
       "<pre style=\"white-space:pre;overflow-x:auto;line-height:normal;font-family:Menlo,'DejaVu Sans Mono',consolas,'Courier New',monospace\"><span style=\"font-weight: bold\">(</span><span style=\"color: #008080; text-decoration-color: #008080; font-weight: bold\">10000</span>, <span style=\"color: #008080; text-decoration-color: #008080; font-weight: bold\">1</span>, <span style=\"color: #008080; text-decoration-color: #008080; font-weight: bold\">28</span>, <span style=\"color: #008080; text-decoration-color: #008080; font-weight: bold\">28</span><span style=\"font-weight: bold\">)</span>\n",
       "</pre>\n"
      ],
      "text/plain": [
       "\u001b[1m(\u001b[0m\u001b[1;36m10000\u001b[0m, \u001b[1;36m1\u001b[0m, \u001b[1;36m28\u001b[0m, \u001b[1;36m28\u001b[0m\u001b[1m)\u001b[0m\n"
      ]
     },
     "metadata": {},
     "output_type": "display_data"
    },
    {
     "data": {
      "text/html": [
       "<pre style=\"white-space:pre;overflow-x:auto;line-height:normal;font-family:Menlo,'DejaVu Sans Mono',consolas,'Courier New',monospace\"><span style=\"font-weight: bold\">(</span><span style=\"color: #008080; text-decoration-color: #008080; font-weight: bold\">10000</span>, <span style=\"color: #008080; text-decoration-color: #008080; font-weight: bold\">1</span>, <span style=\"color: #008080; text-decoration-color: #008080; font-weight: bold\">28</span>, <span style=\"color: #008080; text-decoration-color: #008080; font-weight: bold\">28</span><span style=\"font-weight: bold\">)</span>\n",
       "</pre>\n"
      ],
      "text/plain": [
       "\u001b[1m(\u001b[0m\u001b[1;36m10000\u001b[0m, \u001b[1;36m1\u001b[0m, \u001b[1;36m28\u001b[0m, \u001b[1;36m28\u001b[0m\u001b[1m)\u001b[0m\n"
      ]
     },
     "metadata": {},
     "output_type": "display_data"
    },
    {
     "data": {
      "text/html": [
       "<pre style=\"white-space:pre;overflow-x:auto;line-height:normal;font-family:Menlo,'DejaVu Sans Mono',consolas,'Courier New',monospace\"><span style=\"font-weight: bold\">(</span><span style=\"color: #008080; text-decoration-color: #008080; font-weight: bold\">13180</span>, <span style=\"color: #008080; text-decoration-color: #008080; font-weight: bold\">28</span>, <span style=\"color: #008080; text-decoration-color: #008080; font-weight: bold\">28</span>, <span style=\"color: #008080; text-decoration-color: #008080; font-weight: bold\">1</span><span style=\"font-weight: bold\">)</span>\n",
       "</pre>\n"
      ],
      "text/plain": [
       "\u001b[1m(\u001b[0m\u001b[1;36m13180\u001b[0m, \u001b[1;36m28\u001b[0m, \u001b[1;36m28\u001b[0m, \u001b[1;36m1\u001b[0m\u001b[1m)\u001b[0m\n"
      ]
     },
     "metadata": {},
     "output_type": "display_data"
    },
    {
     "data": {
      "text/html": [
       "<pre style=\"white-space:pre;overflow-x:auto;line-height:normal;font-family:Menlo,'DejaVu Sans Mono',consolas,'Courier New',monospace\"><span style=\"font-weight: bold\">(</span><span style=\"color: #008080; text-decoration-color: #008080; font-weight: bold\">20800</span>, <span style=\"color: #008080; text-decoration-color: #008080; font-weight: bold\">28</span>, <span style=\"color: #008080; text-decoration-color: #008080; font-weight: bold\">28</span>, <span style=\"color: #008080; text-decoration-color: #008080; font-weight: bold\">1</span><span style=\"font-weight: bold\">)</span>\n",
       "</pre>\n"
      ],
      "text/plain": [
       "\u001b[1m(\u001b[0m\u001b[1;36m20800\u001b[0m, \u001b[1;36m28\u001b[0m, \u001b[1;36m28\u001b[0m, \u001b[1;36m1\u001b[0m\u001b[1m)\u001b[0m\n"
      ]
     },
     "metadata": {},
     "output_type": "display_data"
    },
    {
     "data": {
      "text/html": [
       "<pre style=\"white-space:pre;overflow-x:auto;line-height:normal;font-family:Menlo,'DejaVu Sans Mono',consolas,'Courier New',monospace\"><span style=\"font-weight: bold\">(</span><span style=\"color: #008080; text-decoration-color: #008080; font-weight: bold\">13180</span>, <span style=\"color: #008080; text-decoration-color: #008080; font-weight: bold\">28</span>, <span style=\"color: #008080; text-decoration-color: #008080; font-weight: bold\">28</span>, <span style=\"color: #008080; text-decoration-color: #008080; font-weight: bold\">1</span><span style=\"font-weight: bold\">)</span>\n",
       "</pre>\n"
      ],
      "text/plain": [
       "\u001b[1m(\u001b[0m\u001b[1;36m13180\u001b[0m, \u001b[1;36m28\u001b[0m, \u001b[1;36m28\u001b[0m, \u001b[1;36m1\u001b[0m\u001b[1m)\u001b[0m\n"
      ]
     },
     "metadata": {},
     "output_type": "display_data"
    },
    {
     "data": {
      "text/html": [
       "<pre style=\"white-space:pre;overflow-x:auto;line-height:normal;font-family:Menlo,'DejaVu Sans Mono',consolas,'Courier New',monospace\"><span style=\"font-weight: bold\">(</span><span style=\"color: #008080; text-decoration-color: #008080; font-weight: bold\">20800</span>, <span style=\"color: #008080; text-decoration-color: #008080; font-weight: bold\">1</span>, <span style=\"color: #008080; text-decoration-color: #008080; font-weight: bold\">28</span>, <span style=\"color: #008080; text-decoration-color: #008080; font-weight: bold\">28</span><span style=\"font-weight: bold\">)</span>\n",
       "</pre>\n"
      ],
      "text/plain": [
       "\u001b[1m(\u001b[0m\u001b[1;36m20800\u001b[0m, \u001b[1;36m1\u001b[0m, \u001b[1;36m28\u001b[0m, \u001b[1;36m28\u001b[0m\u001b[1m)\u001b[0m\n"
      ]
     },
     "metadata": {},
     "output_type": "display_data"
    },
    {
     "data": {
      "text/html": [
       "<pre style=\"white-space:pre;overflow-x:auto;line-height:normal;font-family:Menlo,'DejaVu Sans Mono',consolas,'Courier New',monospace\"><span style=\"font-weight: bold\">(</span><span style=\"color: #008080; text-decoration-color: #008080; font-weight: bold\">10000</span>, <span style=\"color: #008080; text-decoration-color: #008080; font-weight: bold\">1</span>, <span style=\"color: #008080; text-decoration-color: #008080; font-weight: bold\">28</span>, <span style=\"color: #008080; text-decoration-color: #008080; font-weight: bold\">28</span><span style=\"font-weight: bold\">)</span>\n",
       "</pre>\n"
      ],
      "text/plain": [
       "\u001b[1m(\u001b[0m\u001b[1;36m10000\u001b[0m, \u001b[1;36m1\u001b[0m, \u001b[1;36m28\u001b[0m, \u001b[1;36m28\u001b[0m\u001b[1m)\u001b[0m\n"
      ]
     },
     "metadata": {},
     "output_type": "display_data"
    },
    {
     "data": {
      "text/html": [
       "<pre style=\"white-space:pre;overflow-x:auto;line-height:normal;font-family:Menlo,'DejaVu Sans Mono',consolas,'Courier New',monospace\"><span style=\"font-weight: bold\">(</span><span style=\"color: #008080; text-decoration-color: #008080; font-weight: bold\">10000</span>, <span style=\"color: #008080; text-decoration-color: #008080; font-weight: bold\">1</span>, <span style=\"color: #008080; text-decoration-color: #008080; font-weight: bold\">28</span>, <span style=\"color: #008080; text-decoration-color: #008080; font-weight: bold\">28</span><span style=\"font-weight: bold\">)</span>\n",
       "</pre>\n"
      ],
      "text/plain": [
       "\u001b[1m(\u001b[0m\u001b[1;36m10000\u001b[0m, \u001b[1;36m1\u001b[0m, \u001b[1;36m28\u001b[0m, \u001b[1;36m28\u001b[0m\u001b[1m)\u001b[0m\n"
      ]
     },
     "metadata": {},
     "output_type": "display_data"
    },
    {
     "data": {
      "text/html": [
       "<pre style=\"white-space:pre;overflow-x:auto;line-height:normal;font-family:Menlo,'DejaVu Sans Mono',consolas,'Courier New',monospace\"><span style=\"font-weight: bold\">(</span><span style=\"color: #008080; text-decoration-color: #008080; font-weight: bold\">13180</span>, <span style=\"color: #008080; text-decoration-color: #008080; font-weight: bold\">1</span>, <span style=\"color: #008080; text-decoration-color: #008080; font-weight: bold\">28</span>, <span style=\"color: #008080; text-decoration-color: #008080; font-weight: bold\">28</span><span style=\"font-weight: bold\">)</span>\n",
       "</pre>\n"
      ],
      "text/plain": [
       "\u001b[1m(\u001b[0m\u001b[1;36m13180\u001b[0m, \u001b[1;36m1\u001b[0m, \u001b[1;36m28\u001b[0m, \u001b[1;36m28\u001b[0m\u001b[1m)\u001b[0m\n"
      ]
     },
     "metadata": {},
     "output_type": "display_data"
    },
    {
     "data": {
      "text/html": [
       "<pre style=\"white-space:pre;overflow-x:auto;line-height:normal;font-family:Menlo,'DejaVu Sans Mono',consolas,'Courier New',monospace\"><span style=\"font-weight: bold\">(</span><span style=\"color: #008080; text-decoration-color: #008080; font-weight: bold\">20800</span>, <span style=\"color: #008080; text-decoration-color: #008080; font-weight: bold\">1</span>, <span style=\"color: #008080; text-decoration-color: #008080; font-weight: bold\">28</span>, <span style=\"color: #008080; text-decoration-color: #008080; font-weight: bold\">28</span><span style=\"font-weight: bold\">)</span>\n",
       "</pre>\n"
      ],
      "text/plain": [
       "\u001b[1m(\u001b[0m\u001b[1;36m20800\u001b[0m, \u001b[1;36m1\u001b[0m, \u001b[1;36m28\u001b[0m, \u001b[1;36m28\u001b[0m\u001b[1m)\u001b[0m\n"
      ]
     },
     "metadata": {},
     "output_type": "display_data"
    },
    {
     "data": {
      "text/html": [
       "<pre style=\"white-space:pre;overflow-x:auto;line-height:normal;font-family:Menlo,'DejaVu Sans Mono',consolas,'Courier New',monospace\"><span style=\"font-weight: bold\">(</span><span style=\"color: #008080; text-decoration-color: #008080; font-weight: bold\">13180</span>, <span style=\"color: #008080; text-decoration-color: #008080; font-weight: bold\">1</span>, <span style=\"color: #008080; text-decoration-color: #008080; font-weight: bold\">28</span>, <span style=\"color: #008080; text-decoration-color: #008080; font-weight: bold\">28</span><span style=\"font-weight: bold\">)</span>\n",
       "</pre>\n"
      ],
      "text/plain": [
       "\u001b[1m(\u001b[0m\u001b[1;36m13180\u001b[0m, \u001b[1;36m1\u001b[0m, \u001b[1;36m28\u001b[0m, \u001b[1;36m28\u001b[0m\u001b[1m)\u001b[0m\n"
      ]
     },
     "metadata": {},
     "output_type": "display_data"
    },
    {
     "data": {
      "text/html": [
       "<pre style=\"white-space:pre;overflow-x:auto;line-height:normal;font-family:Menlo,'DejaVu Sans Mono',consolas,'Courier New',monospace\"><span style=\"font-weight: bold\">(</span><span style=\"color: #008080; text-decoration-color: #008080; font-weight: bold\">20800</span>, <span style=\"color: #008080; text-decoration-color: #008080; font-weight: bold\">1</span>, <span style=\"color: #008080; text-decoration-color: #008080; font-weight: bold\">28</span>, <span style=\"color: #008080; text-decoration-color: #008080; font-weight: bold\">28</span><span style=\"font-weight: bold\">)</span>\n",
       "</pre>\n"
      ],
      "text/plain": [
       "\u001b[1m(\u001b[0m\u001b[1;36m20800\u001b[0m, \u001b[1;36m1\u001b[0m, \u001b[1;36m28\u001b[0m, \u001b[1;36m28\u001b[0m\u001b[1m)\u001b[0m\n"
      ]
     },
     "metadata": {},
     "output_type": "display_data"
    },
    {
     "data": {
      "text/html": [
       "<pre style=\"white-space:pre;overflow-x:auto;line-height:normal;font-family:Menlo,'DejaVu Sans Mono',consolas,'Courier New',monospace\"><span style=\"font-weight: bold\">(</span><span style=\"color: #008080; text-decoration-color: #008080; font-weight: bold\">10000</span>, <span style=\"color: #008080; text-decoration-color: #008080; font-weight: bold\">1</span>, <span style=\"color: #008080; text-decoration-color: #008080; font-weight: bold\">28</span>, <span style=\"color: #008080; text-decoration-color: #008080; font-weight: bold\">28</span><span style=\"font-weight: bold\">)</span>\n",
       "</pre>\n"
      ],
      "text/plain": [
       "\u001b[1m(\u001b[0m\u001b[1;36m10000\u001b[0m, \u001b[1;36m1\u001b[0m, \u001b[1;36m28\u001b[0m, \u001b[1;36m28\u001b[0m\u001b[1m)\u001b[0m\n"
      ]
     },
     "metadata": {},
     "output_type": "display_data"
    }
   ],
   "source": [
    "for f in across_files:\n",
    "    name = '~'.join(f.split('_')[:-1])\n",
    "    load = dict(np.load(\n",
    "        pjoin(dekel_dir, f),\n",
    "        allow_pickle=True,\n",
    "    ))\n",
    "\n",
    "    ds_src, ds_tgt = _extract_src_tgt(name)\n",
    "    model_name = _extract_model_type(name)\n",
    "    \n",
    "    component = f\"from-{ds_src}-to-{ds_tgt}\".lower()\n",
    "    assert component in name.lower()\n",
    "\n",
    "    print(load['recons_val'].shape)"
   ]
  },
  {
   "cell_type": "code",
   "execution_count": 27,
   "id": "e7d4ce2f-9994-4d3f-bc66-ed3a40350e51",
   "metadata": {},
   "outputs": [],
   "source": []
  },
  {
   "cell_type": "code",
   "execution_count": 37,
   "id": "6853d68e-4eea-4cae-b32b-a64cac87d21f",
   "metadata": {},
   "outputs": [],
   "source": []
  },
  {
   "cell_type": "code",
   "execution_count": 39,
   "id": "8d42ae74-908c-467d-93ff-9763d51ba19e",
   "metadata": {},
   "outputs": [
    {
     "data": {
      "text/plain": [
       "'sa-VAE'"
      ]
     },
     "execution_count": 39,
     "metadata": {},
     "output_type": "execute_result"
    }
   ],
   "source": []
  },
  {
   "cell_type": "code",
   "execution_count": 46,
   "id": "dd0f900f-388d-4cd9-a471-99fed92b4830",
   "metadata": {},
   "outputs": [
    {
     "data": {
      "text/html": [
       "<pre style=\"white-space:pre;overflow-x:auto;line-height:normal;font-family:Menlo,'DejaVu Sans Mono',consolas,'Courier New',monospace\">MARINO~emnist~hierarchical~iterative~EMNIST~H~<span style=\"color: #008080; text-decoration-color: #008080; font-weight: bold\">10</span> <span style=\"color: #008080; text-decoration-color: #008080; font-weight: bold\">10</span>\n",
       "</pre>\n"
      ],
      "text/plain": [
       "MARINO~emnist~hierarchical~iterative~EMNIST~H~\u001b[1;36m10\u001b[0m \u001b[1;36m10\u001b[0m\n"
      ]
     },
     "metadata": {},
     "output_type": "display_data"
    },
    {
     "data": {
      "text/html": [
       "<pre style=\"white-space:pre;overflow-x:auto;line-height:normal;font-family:Menlo,'DejaVu Sans Mono',consolas,'Courier New',monospace\">MARINO~emnist~single~level~iterative~EMNIST~SL~<span style=\"color: #008080; text-decoration-color: #008080; font-weight: bold\">10</span> <span style=\"color: #008080; text-decoration-color: #008080; font-weight: bold\">10</span>\n",
       "</pre>\n"
      ],
      "text/plain": [
       "MARINO~emnist~single~level~iterative~EMNIST~SL~\u001b[1;36m10\u001b[0m \u001b[1;36m10\u001b[0m\n"
      ]
     },
     "metadata": {},
     "output_type": "display_data"
    },
    {
     "data": {
      "text/html": [
       "<pre style=\"white-space:pre;overflow-x:auto;line-height:normal;font-family:Menlo,'DejaVu Sans Mono',consolas,'Courier New',monospace\">MARINO~mnist~hierarchical~iterative~MNIST~H~<span style=\"color: #008080; text-decoration-color: #008080; font-weight: bold\">10</span> <span style=\"color: #008080; text-decoration-color: #008080; font-weight: bold\">10</span>\n",
       "</pre>\n"
      ],
      "text/plain": [
       "MARINO~mnist~hierarchical~iterative~MNIST~H~\u001b[1;36m10\u001b[0m \u001b[1;36m10\u001b[0m\n"
      ]
     },
     "metadata": {},
     "output_type": "display_data"
    },
    {
     "data": {
      "text/html": [
       "<pre style=\"white-space:pre;overflow-x:auto;line-height:normal;font-family:Menlo,'DejaVu Sans Mono',consolas,'Courier New',monospace\">MARINO~mnist~single~level~iterative~MNIST~SL~<span style=\"color: #008080; text-decoration-color: #008080; font-weight: bold\">10</span> <span style=\"color: #008080; text-decoration-color: #008080; font-weight: bold\">10</span>\n",
       "</pre>\n"
      ],
      "text/plain": [
       "MARINO~mnist~single~level~iterative~MNIST~SL~\u001b[1;36m10\u001b[0m \u001b[1;36m10\u001b[0m\n"
      ]
     },
     "metadata": {},
     "output_type": "display_data"
    },
    {
     "data": {
      "text/html": [
       "<pre style=\"white-space:pre;overflow-x:auto;line-height:normal;font-family:Menlo,'DejaVu Sans Mono',consolas,'Courier New',monospace\">MARINO~omniglot-hadi~hierarchical~iterative~OMNIGLOT~HADI~H~<span style=\"color: #008080; text-decoration-color: #008080; font-weight: bold\">10</span> <span style=\"color: #008080; text-decoration-color: #008080; font-weight: bold\">10</span>\n",
       "</pre>\n"
      ],
      "text/plain": [
       "MARINO~omniglot-hadi~hierarchical~iterative~OMNIGLOT~HADI~H~\u001b[1;36m10\u001b[0m \u001b[1;36m10\u001b[0m\n"
      ]
     },
     "metadata": {},
     "output_type": "display_data"
    },
    {
     "data": {
      "text/html": [
       "<pre style=\"white-space:pre;overflow-x:auto;line-height:normal;font-family:Menlo,'DejaVu Sans Mono',consolas,'Courier New',monospace\">MARINO~omniglot-hadi~single~level~iterative~OMNIGLOT~HADI~SL~<span style=\"color: #008080; text-decoration-color: #008080; font-weight: bold\">10</span> <span style=\"color: #008080; text-decoration-color: #008080; font-weight: bold\">10</span>\n",
       "</pre>\n"
      ],
      "text/plain": [
       "MARINO~omniglot-hadi~single~level~iterative~OMNIGLOT~HADI~SL~\u001b[1;36m10\u001b[0m \u001b[1;36m10\u001b[0m\n"
      ]
     },
     "metadata": {},
     "output_type": "display_data"
    },
    {
     "data": {
      "text/html": [
       "<pre style=\"white-space:pre;overflow-x:auto;line-height:normal;font-family:Menlo,'DejaVu Sans Mono',consolas,'Courier New',monospace\">SAVAE~emnist~iter20 <span style=\"color: #008080; text-decoration-color: #008080; font-weight: bold\">20</span>\n",
       "</pre>\n"
      ],
      "text/plain": [
       "SAVAE~emnist~iter20 \u001b[1;36m20\u001b[0m\n"
      ]
     },
     "metadata": {},
     "output_type": "display_data"
    },
    {
     "data": {
      "text/html": [
       "<pre style=\"white-space:pre;overflow-x:auto;line-height:normal;font-family:Menlo,'DejaVu Sans Mono',consolas,'Courier New',monospace\">SAVAE~mnist~iter20 <span style=\"color: #008080; text-decoration-color: #008080; font-weight: bold\">20</span>\n",
       "</pre>\n"
      ],
      "text/plain": [
       "SAVAE~mnist~iter20 \u001b[1;36m20\u001b[0m\n"
      ]
     },
     "metadata": {},
     "output_type": "display_data"
    },
    {
     "data": {
      "text/html": [
       "<pre style=\"white-space:pre;overflow-x:auto;line-height:normal;font-family:Menlo,'DejaVu Sans Mono',consolas,'Courier New',monospace\">SAVAE~omniglot~iter20 <span style=\"color: #008080; text-decoration-color: #008080; font-weight: bold\">20</span>\n",
       "</pre>\n"
      ],
      "text/plain": [
       "SAVAE~omniglot~iter20 \u001b[1;36m20\u001b[0m\n"
      ]
     },
     "metadata": {},
     "output_type": "display_data"
    }
   ],
   "source": [
    "for f in within_files:\n",
    "    model_name = '~'.join(f.split('_')[:-1])\n",
    "    load = dict(np.load(\n",
    "        pjoin(dekel_dir, f),\n",
    "        allow_pickle=True,\n",
    "    ))\n",
    "    model, dataset = _extract_from_within(f)\n",
    "    n_iters = int_from_str(model_name.split('~')[-1])\n",
    "    print(model_name, n_iters)"
   ]
  },
  {
   "cell_type": "code",
   "execution_count": 30,
   "id": "4ea716e6-177a-4ccd-8bb3-f487723682f3",
   "metadata": {},
   "outputs": [
    {
     "data": {
      "text/plain": [
       "'SAVAE~omniglot~iter20'"
      ]
     },
     "execution_count": 30,
     "metadata": {},
     "output_type": "execute_result"
    }
   ],
   "source": [
    "model_name"
   ]
  },
  {
   "cell_type": "code",
   "execution_count": 31,
   "id": "ae2d0849-af52-4018-9c80-a50e8c2b5f41",
   "metadata": {},
   "outputs": [],
   "source": []
  },
  {
   "cell_type": "code",
   "execution_count": 44,
   "id": "ba97d3f2-ce75-44f7-93de-5c87fa1a5544",
   "metadata": {},
   "outputs": [
    {
     "data": {
      "text/html": [
       "<pre style=\"white-space:pre;overflow-x:auto;line-height:normal;font-family:Menlo,'DejaVu Sans Mono',consolas,'Courier New',monospace\"><span style=\"font-weight: bold\">[</span>\n",
       "    <span style=\"color: #008000; text-decoration-color: #008000\">'MARINO_emnist_hierarchical_iterative_EMNIST_H_10_full.npz'</span>,\n",
       "    <span style=\"color: #008000; text-decoration-color: #008000\">'MARINO_emnist_single_level_iterative_EMNIST_SL_10_full.npz'</span>,\n",
       "    <span style=\"color: #008000; text-decoration-color: #008000\">'MARINO_mnist_hierarchical_iterative_MNIST_H_10_full.npz'</span>,\n",
       "    <span style=\"color: #008000; text-decoration-color: #008000\">'MARINO_mnist_single_level_iterative_MNIST_SL_10_full.npz'</span>,\n",
       "    <span style=\"color: #008000; text-decoration-color: #008000\">'MARINO_omniglot-hadi_hierarchical_iterative_OMNIGLOT_HADI_H_10_full.npz'</span>,\n",
       "    <span style=\"color: #008000; text-decoration-color: #008000\">'MARINO_omniglot-hadi_single_level_iterative_OMNIGLOT_HADI_SL_10_full.npz'</span>,\n",
       "    <span style=\"color: #008000; text-decoration-color: #008000\">'SAVAE_emnist_iter20_full.npz'</span>,\n",
       "    <span style=\"color: #008000; text-decoration-color: #008000\">'SAVAE_mnist_iter20_full.npz'</span>,\n",
       "    <span style=\"color: #008000; text-decoration-color: #008000\">'SAVAE_omniglot_iter20_full.npz'</span>\n",
       "<span style=\"font-weight: bold\">]</span>\n",
       "</pre>\n"
      ],
      "text/plain": [
       "\u001b[1m[\u001b[0m\n",
       "    \u001b[32m'MARINO_emnist_hierarchical_iterative_EMNIST_H_10_full.npz'\u001b[0m,\n",
       "    \u001b[32m'MARINO_emnist_single_level_iterative_EMNIST_SL_10_full.npz'\u001b[0m,\n",
       "    \u001b[32m'MARINO_mnist_hierarchical_iterative_MNIST_H_10_full.npz'\u001b[0m,\n",
       "    \u001b[32m'MARINO_mnist_single_level_iterative_MNIST_SL_10_full.npz'\u001b[0m,\n",
       "    \u001b[32m'MARINO_omniglot-hadi_hierarchical_iterative_OMNIGLOT_HADI_H_10_full.npz'\u001b[0m,\n",
       "    \u001b[32m'MARINO_omniglot-hadi_single_level_iterative_OMNIGLOT_HADI_SL_10_full.npz'\u001b[0m,\n",
       "    \u001b[32m'SAVAE_emnist_iter20_full.npz'\u001b[0m,\n",
       "    \u001b[32m'SAVAE_mnist_iter20_full.npz'\u001b[0m,\n",
       "    \u001b[32m'SAVAE_omniglot_iter20_full.npz'\u001b[0m\n",
       "\u001b[1m]\u001b[0m\n"
      ]
     },
     "metadata": {},
     "output_type": "display_data"
    }
   ],
   "source": [
    "print(within_files)"
   ]
  },
  {
   "cell_type": "code",
   "execution_count": null,
   "id": "e0362733-0742-4ff3-b62f-3fb5f1ece7f8",
   "metadata": {},
   "outputs": [],
   "source": []
  },
  {
   "cell_type": "code",
   "execution_count": 7,
   "id": "56f49eca-536d-4c4f-91b0-40b11ac7fe0b",
   "metadata": {},
   "outputs": [],
   "source": [
    "f = 'MARINO_omniglot-hadi_single_level_iterative_OMNIGLOT_HADI_SL_10_full.npz'"
   ]
  },
  {
   "cell_type": "code",
   "execution_count": 8,
   "id": "6da3a400-b1d2-4749-8b83-9ae7d67368a5",
   "metadata": {},
   "outputs": [],
   "source": [
    "mrsl = dict(np.load(\n",
    "    pjoin(dekel_dir, f),\n",
    "    allow_pickle=True,\n",
    "))"
   ]
  },
  {
   "cell_type": "code",
   "execution_count": 9,
   "id": "5cc972bf-d843-4272-b7b0-de98a8715b02",
   "metadata": {},
   "outputs": [
    {
     "data": {
      "text/plain": [
       "(13180, 28, 28, 1)"
      ]
     },
     "execution_count": 9,
     "metadata": {},
     "output_type": "execute_result"
    }
   ],
   "source": [
    "mrsl[\"recons_val\"].shape"
   ]
  },
  {
   "cell_type": "code",
   "execution_count": null,
   "id": "911f4c71-4ae8-4cb5-a1b2-26d897f18eb4",
   "metadata": {},
   "outputs": [],
   "source": []
  },
  {
   "cell_type": "code",
   "execution_count": 23,
   "id": "f927e843-2759-4b62-b83e-42906f065ca5",
   "metadata": {},
   "outputs": [],
   "source": []
  },
  {
   "cell_type": "code",
   "execution_count": null,
   "id": "cc0b8ff3-005f-4d42-be03-e3c13d19bc1c",
   "metadata": {},
   "outputs": [],
   "source": []
  },
  {
   "cell_type": "code",
   "execution_count": null,
   "id": "084b9e19-5bdd-4a87-93d2-d8a0c0977422",
   "metadata": {},
   "outputs": [],
   "source": []
  },
  {
   "cell_type": "code",
   "execution_count": 20,
   "id": "2702dbc1-c34f-43d0-82e7-faa15c8e19d7",
   "metadata": {},
   "outputs": [],
   "source": [
    "vld = make_dataset('Omniglot')[1]\n",
    "vld = tonp(vld.tensors[0])"
   ]
  },
  {
   "cell_type": "code",
   "execution_count": 22,
   "id": "a0ee16b8-1936-4c77-b855-3e5d701f14c4",
   "metadata": {},
   "outputs": [
    {
     "data": {
      "text/plain": [
       "21.261284"
      ]
     },
     "execution_count": 22,
     "metadata": {},
     "output_type": "execute_result"
    }
   ],
   "source": [
    "((mrsl[\"recons_val\"][...,0][inds_dekel]/255- vld[:, 0])**2).mean(0).sum()"
   ]
  },
  {
   "cell_type": "code",
   "execution_count": null,
   "id": "17707580-cdbb-40bf-abb2-dfa04f42c8d4",
   "metadata": {},
   "outputs": [],
   "source": []
  },
  {
   "cell_type": "code",
   "execution_count": 16,
   "id": "2893ffd7-698e-44e2-89db-daf777445f0a",
   "metadata": {},
   "outputs": [
    {
     "data": {
      "text/plain": [
       "(13180, 1, 28, 28)"
      ]
     },
     "execution_count": 16,
     "metadata": {},
     "output_type": "execute_result"
    }
   ],
   "source": [
    "vld.shape"
   ]
  },
  {
   "cell_type": "code",
   "execution_count": 17,
   "id": "1f2703f2-264e-44e5-8ab9-d07f4f812728",
   "metadata": {},
   "outputs": [
    {
     "data": {
      "image/png": "[encoded data removed]",
      "text/plain": [
       "<Figure size 640x320 with 1 Axes>"
      ]
     },
     "metadata": {},
     "output_type": "display_data"
    }
   ],
   "source": [
    "_ = plot_row_or_col(vld[:10], display=True)"
   ]
  },
  {
   "cell_type": "code",
   "execution_count": null,
   "id": "c0bb2bb6-dbe3-4396-80d0-8414728c0ec5",
   "metadata": {},
   "outputs": [],
   "source": []
  },
  {
   "cell_type": "code",
   "execution_count": null,
   "id": "8b07d9d2-58ab-4f71-9a3e-1c2c764a89c8",
   "metadata": {},
   "outputs": [],
   "source": [
    "a = vld[:, 0].reshape(13180, -1)\n",
    "b = (mrsl[\"recons_val\"][...,0]/255).reshape(13180, -1)"
   ]
  },
  {
   "cell_type": "code",
   "execution_count": null,
   "id": "5aeef760-a2a1-4944-8359-dd963af8c3b3",
   "metadata": {},
   "outputs": [],
   "source": [
    "sim = 1 - c"
   ]
  },
  {
   "cell_type": "code",
   "execution_count": 75,
   "id": "c27e6e88-c38f-48b0-9a79-71985f4f6899",
   "metadata": {},
   "outputs": [
    {
     "data": {
      "text/plain": [
       "((13180, 784), (13180, 784), (100, 100))"
      ]
     },
     "execution_count": 75,
     "metadata": {},
     "output_type": "execute_result"
    }
   ],
   "source": [
    "a.shape, b.shape, c.shape"
   ]
  },
  {
   "cell_type": "code",
   "execution_count": null,
   "id": "e59c8ad5-d059-4b28-924f-7e5077384e43",
   "metadata": {},
   "outputs": [],
   "source": []
  },
  {
   "cell_type": "code",
   "execution_count": 69,
   "id": "1cd4c552-dfe0-4a1b-9df3-b280dacd7997",
   "metadata": {},
   "outputs": [
    {
     "data": {
      "text/plain": [
       "<matplotlib.colorbar.Colorbar at 0x7cb854345f10>"
      ]
     },
     "execution_count": 69,
     "metadata": {},
     "output_type": "execute_result"
    },
    {
     "data": {
      "image/png": "[encoded data removed]",
      "text/plain": [
       "<Figure size 300x200 with 2 Axes>"
      ]
     },
     "metadata": {},
     "output_type": "display_data"
    }
   ],
   "source": [
    "plt.imshow(c)\n",
    "plt.colorbar()"
   ]
  },
  {
   "cell_type": "code",
   "execution_count": null,
   "id": "caec6017-b4cd-4709-8bf6-79148cc37f49",
   "metadata": {},
   "outputs": [],
   "source": [
    "((mrsl[\"recons_val\"][...,0]/255- vld[:, 0]/255)**2).mean(0).sum()"
   ]
  },
  {
   "cell_type": "code",
   "execution_count": 18,
   "id": "3b83b88e-3a96-4004-a578-948373552613",
   "metadata": {},
   "outputs": [
    {
     "data": {
      "text/plain": [
       "93.06395"
      ]
     },
     "execution_count": 18,
     "metadata": {},
     "output_type": "execute_result"
    }
   ],
   "source": []
  },
  {
   "cell_type": "code",
   "execution_count": 66,
   "id": "328305db-e96f-451a-a676-051642c36be8",
   "metadata": {},
   "outputs": [
    {
     "data": {
      "image/png": "[encoded data removed]",
      "text/plain": [
       "<Figure size 640x320 with 1 Axes>"
      ]
     },
     "metadata": {},
     "output_type": "display_data"
    }
   ],
   "source": [
    "_ = plot_row_or_col(mrsl[\"recons_val\"][...,0][:10] / 10, display=True)"
   ]
  },
  {
   "cell_type": "code",
   "execution_count": null,
   "id": "c88d493d-d8fc-47ee-be9e-b7866913ebf8",
   "metadata": {},
   "outputs": [],
   "source": [
    "_ = plot_row_or_col(mrsl[\"recons_val\"][...,0][:10] / 10, display=True)"
   ]
  },
  {
   "cell_type": "code",
   "execution_count": null,
   "id": "4c850009-a962-4f32-b799-f9b5dbdd899e",
   "metadata": {},
   "outputs": [],
   "source": []
  },
  {
   "cell_type": "code",
   "execution_count": 59,
   "id": "722402ec-5184-4202-8e28-88d3c08db8d1",
   "metadata": {},
   "outputs": [
    {
     "data": {
      "text/plain": [
       "<Axes: ylabel='Count'>"
      ]
     },
     "execution_count": 59,
     "metadata": {},
     "output_type": "execute_result"
    },
    {
     "data": {
      "image/png": "[encoded data removed]",
      "text/plain": [
       "<Figure size 300x200 with 1 Axes>"
      ]
     },
     "metadata": {},
     "output_type": "display_data"
    }
   ],
   "source": [
    "histplot(vld[:10].ravel())"
   ]
  },
  {
   "cell_type": "code",
   "execution_count": null,
   "id": "6646c2cc-c177-4393-b0a2-09d065989c51",
   "metadata": {},
   "outputs": [],
   "source": []
  },
  {
   "cell_type": "code",
   "execution_count": 12,
   "id": "5b27e472-5146-4f8d-bce3-ecd87a1afcc5",
   "metadata": {},
   "outputs": [
    {
     "data": {
      "text/plain": [
       "'SAVAE~from-omniglot-to-mnist~iter20'"
      ]
     },
     "execution_count": 12,
     "metadata": {},
     "output_type": "execute_result"
    }
   ],
   "source": [
    "name"
   ]
  },
  {
   "cell_type": "code",
   "execution_count": 13,
   "id": "a5ad201b-9d8f-4743-bf42-86ce82108609",
   "metadata": {},
   "outputs": [
    {
     "data": {
      "text/plain": [
       "['recons_trn',\n",
       " 'recons_val',\n",
       " 'posteriors_trn',\n",
       " 'posteriors_val',\n",
       " 'model_n_params']"
      ]
     },
     "execution_count": 13,
     "metadata": {},
     "output_type": "execute_result"
    }
   ],
   "source": [
    "list(load)"
   ]
  },
  {
   "cell_type": "code",
   "execution_count": null,
   "id": "e0b48623-a680-4e6d-aa4a-bf730de841cc",
   "metadata": {},
   "outputs": [],
   "source": []
  },
  {
   "cell_type": "code",
   "execution_count": 29,
   "id": "bf887d5c-3905-4231-920a-f86ebbbc53f8",
   "metadata": {},
   "outputs": [],
   "source": [
    "trn, vld, _ = make_dataset(ds_tgt)\n",
    "src, g_vld = vld.tensors\n",
    "g_trn = trn.tensors[1]\n",
    "\n",
    "g_trn, g_vld = map(\n",
    "    lambda g: tonp(g).astype(int),\n",
    "    [g_trn, g_vld],\n",
    ")"
   ]
  },
  {
   "cell_type": "code",
   "execution_count": null,
   "id": "967ee64f-06e7-4e89-a481-e9e04e0eaf59",
   "metadata": {},
   "outputs": [],
   "source": []
  },
  {
   "cell_type": "code",
   "execution_count": 30,
   "id": "f49472a4-97f7-4110-913d-4c8737aa5f33",
   "metadata": {},
   "outputs": [],
   "source": [
    "recon = load['recons_val']\n",
    "if np.nanmax(recon) > 1:\n",
    "    recon /= 255\n",
    "mse = (tonp(src) - load['recons_val']) ** 2\n",
    "mse = mse.sum(axis=(1, 2, 3)).mean(0)\n",
    "\n",
    "z_vld = load['posteriors_val'][:, 0, 0]\n",
    "z_trn = load['posteriors_trn'][:, 0, 0]\n",
    "clf = LogisticRegression().fit(z_trn, g_trn)\n",
    "accuracy = (clf.predict(z_vld) == g_vld).mean()"
   ]
  },
  {
   "cell_type": "code",
   "execution_count": 31,
   "id": "a9025d78-f33b-41fa-bafa-13e9677fa131",
   "metadata": {},
   "outputs": [
    {
     "data": {
      "text/plain": [
       "(0.9093, 13.585813)"
      ]
     },
     "execution_count": 31,
     "metadata": {},
     "output_type": "execute_result"
    }
   ],
   "source": [
    "accuracy, mse"
   ]
  },
  {
   "cell_type": "code",
   "execution_count": null,
   "id": "5db42068-1d54-4219-8329-917dcc1ba17b",
   "metadata": {},
   "outputs": [],
   "source": []
  },
  {
   "cell_type": "code",
   "execution_count": 32,
   "id": "fffe0796-3dd6-4c54-8461-84c949a0b16c",
   "metadata": {},
   "outputs": [],
   "source": [
    "src = src[inds[ds_tgt]]\n",
    "recon = recon[inds[ds_tgt]]\n",
    "x2p = np.concatenate([src, recon])"
   ]
  },
  {
   "cell_type": "code",
   "execution_count": 36,
   "id": "3e7e49bc-9f43-4774-8202-284dec59d163",
   "metadata": {},
   "outputs": [
    {
     "data": {
      "image/png": "[encoded data removed]",
      "text/plain": [
       "<Figure size 560x280 with 1 Axes>"
      ]
     },
     "metadata": {},
     "output_type": "display_data"
    }
   ],
   "source": [
    "_ = plot_weights(\n",
    "    x2p, nrows=2, cmap='Greys',\n",
    "    vmin=0.001, vmax=1, dpi=70,\n",
    ")"
   ]
  },
  {
   "cell_type": "code",
   "execution_count": null,
   "id": "561a6b14-8a38-4ceb-aaa9-653241cb2eb8",
   "metadata": {},
   "outputs": [],
   "source": []
  },
  {
   "cell_type": "code",
   "execution_count": 18,
   "id": "244a9a76-3770-4377-bb8f-7e19a7df6386",
   "metadata": {},
   "outputs": [
    {
     "data": {
      "text/plain": [
       "'SAVAE~from-omniglot-to-mnist~iter20'"
      ]
     },
     "execution_count": 18,
     "metadata": {},
     "output_type": "execute_result"
    }
   ],
   "source": [
    "(name)"
   ]
  },
  {
   "cell_type": "code",
   "execution_count": null,
   "id": "832f3533-36b5-43ee-b206-4dd3bbcb6b01",
   "metadata": {},
   "outputs": [],
   "source": []
  },
  {
   "cell_type": "code",
   "execution_count": null,
   "id": "0d9887ba-8789-4ec0-a976-d6c84460f065",
   "metadata": {},
   "outputs": [],
   "source": []
  },
  {
   "cell_type": "code",
   "execution_count": null,
   "id": "e264f776-3c48-43b7-8eb8-1c2f519da3b4",
   "metadata": {},
   "outputs": [],
   "source": []
  }
 ],
 "metadata": {
  "kernelspec": {
   "display_name": "Python 3 (ipykernel)",
   "language": "python",
   "name": "python3"
  },
  "language_info": {
   "codemirror_mode": {
    "name": "ipython",
    "version": 3
   },
   "file_extension": ".py",
   "mimetype": "text/x-python",
   "name": "python",
   "nbconvert_exporter": "python",
   "pygments_lexer": "ipython3",
   "version": "3.11.7"
  }
 },
 "nbformat": 4,
 "nbformat_minor": 5
}
