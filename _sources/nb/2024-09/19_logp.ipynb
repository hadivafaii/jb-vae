{
 "cells": [
  {
   "cell_type": "markdown",
   "id": "48f55a35-d5b5-468f-b574-730df61e9609",
   "metadata": {},
   "source": [
    "# (19) $\\log p(x)$ — importance weighted\n",
    "\n",
    "**Motivation**: host = ```any```, device = ```cuda:3``` <br>"
   ]
  },
  {
   "cell_type": "code",
   "execution_count": 1,
   "id": "f823b1e9-05f2-49a0-8296-4a1819c12e81",
   "metadata": {
    "tags": [
     "hide-input"
    ]
   },
   "outputs": [],
   "source": [
    "# HIDE CODE\n",
    "\n",
    "\n",
    "import os, sys\n",
    "from IPython.display import display\n",
    "\n",
    "# tmp & extras dir\n",
    "git_dir = os.path.join(os.environ['HOME'], 'Dropbox/git')\n",
    "extras_dir = os.path.join(git_dir, 'jb-vae/_extras')\n",
    "fig_base_dir = os.path.join(git_dir, 'jb-vae/figs')\n",
    "tmp_dir = os.path.join(git_dir, 'jb-vae/tmp')\n",
    "\n",
    "# GitHub\n",
    "# sys.path.insert(0, os.path.join(git_dir, '_PoissonVAE'))\n",
    "sys.path.insert(0, os.path.join(git_dir, '_IterativeVAE'))\n",
    "from figures.fighelper import *\n",
    "from vae.train_vae import *\n",
    "\n",
    "# warnings, tqdm, & style\n",
    "warnings.filterwarnings('ignore', category=DeprecationWarning)\n",
    "warnings.filterwarnings('ignore', category=FutureWarning)\n",
    "warnings.filterwarnings('ignore', category=UserWarning)\n",
    "from rich.jupyter import print\n",
    "%matplotlib inline\n",
    "set_style()"
   ]
  },
  {
   "cell_type": "code",
   "execution_count": 2,
   "id": "45357127-b675-4e68-ba95-938ea8612cad",
   "metadata": {},
   "outputs": [
    {
     "data": {
      "text/html": [
       "<pre style=\"white-space:pre;overflow-x:auto;line-height:normal;font-family:Menlo,'DejaVu Sans Mono',consolas,'Courier New',monospace\">device: cu<span style=\"color: #00ff00; text-decoration-color: #00ff00; font-weight: bold\">da:3</span>  ———  host: mach\n",
       "</pre>\n"
      ],
      "text/plain": [
       "device: cu\u001b[1;92mda:3\u001b[0m  ———  host: mach\n"
      ]
     },
     "metadata": {},
     "output_type": "display_data"
    }
   ],
   "source": [
    "from base.utils_model import load_quick\n",
    "from figures.analysis import plot_convergence\n",
    "from figures.imgs import plot_weights\n",
    "\n",
    "device_idx = 3\n",
    "device = f'cuda:{device_idx}'\n",
    "\n",
    "print(f\"device: {device}  ———  host: {os.uname().nodename}\")"
   ]
  },
  {
   "cell_type": "code",
   "execution_count": null,
   "id": "1849f3ea-ac86-4408-960c-f76d909a21a1",
   "metadata": {},
   "outputs": [],
   "source": []
  },
  {
   "cell_type": "code",
   "execution_count": 3,
   "id": "ce8f158d-77fa-4ad8-8ebb-1d348aec31b7",
   "metadata": {},
   "outputs": [
    {
     "data": {
      "text/plain": [
       "400"
      ]
     },
     "execution_count": 3,
     "metadata": {},
     "output_type": "execute_result"
    }
   ],
   "source": [
    "# model_name = 'poisson_MNIST_t-16_z-[256]_k-32_<jacob|conv>'\n",
    "# fit_name = 'b200-ep400-lr(0.002)_beta(6:0x0.1)_temp(0.05:lin-0.5)_gr(150)_(2024_09_17,09:10)'\n",
    "\n",
    "model_name = 'poisson_MNIST_t-16_z-[128]_k-32_<jacob|conv>'\n",
    "fit_name = 'b200-ep400-lr(0.002)_beta(6:0x0.1)_temp(0.05:lin-0.5)_gr(150)_(2024_09_17,09:34)'\n",
    "\n",
    "tr, meta = load_model(model_name=model_name, fit_name=fit_name, device=device, checkpoint=-1)\n",
    "meta['checkpoint']"
   ]
  },
  {
   "cell_type": "code",
   "execution_count": 4,
   "id": "a2ccd6ff-2df0-491d-832c-d919469e7222",
   "metadata": {},
   "outputs": [
    {
     "data": {
      "text/plain": [
       "(8.0, 7.0)"
      ]
     },
     "execution_count": 4,
     "metadata": {},
     "output_type": "execute_result"
    }
   ],
   "source": [
    "tr.model.cfg.clamp_u, tr.model.cfg.clamp_du"
   ]
  },
  {
   "cell_type": "code",
   "execution_count": null,
   "id": "66c02a71-c9eb-41fa-aaa9-846f0ec1f21c",
   "metadata": {},
   "outputs": [],
   "source": []
  },
  {
   "cell_type": "code",
   "execution_count": 5,
   "id": "0d20901a-146e-4d27-a13e-58a8bb344544",
   "metadata": {},
   "outputs": [
    {
     "data": {
      "text/html": [
       "<pre style=\"white-space:pre;overflow-x:auto;line-height:normal;font-family:Menlo,'DejaVu Sans Mono',consolas,'Courier New',monospace\"><span style=\"color: #800080; text-decoration-color: #800080; font-weight: bold\">tensor</span><span style=\"font-weight: bold\">([</span><span style=\"color: #008080; text-decoration-color: #008080; font-weight: bold\">16</span>, <span style=\"color: #008080; text-decoration-color: #008080; font-weight: bold\">24</span>, <span style=\"color: #008080; text-decoration-color: #008080; font-weight: bold\">31</span>, <span style=\"color: #008080; text-decoration-color: #008080; font-weight: bold\">37</span>, <span style=\"color: #008080; text-decoration-color: #008080; font-weight: bold\">42</span>, <span style=\"color: #008080; text-decoration-color: #008080; font-weight: bold\">45</span>, <span style=\"color: #008080; text-decoration-color: #008080; font-weight: bold\">48</span>, <span style=\"color: #008080; text-decoration-color: #008080; font-weight: bold\">50</span>, <span style=\"color: #008080; text-decoration-color: #008080; font-weight: bold\">52</span>, <span style=\"color: #008080; text-decoration-color: #008080; font-weight: bold\">53</span>, <span style=\"color: #008080; text-decoration-color: #008080; font-weight: bold\">54</span>, <span style=\"color: #008080; text-decoration-color: #008080; font-weight: bold\">55</span>, <span style=\"color: #008080; text-decoration-color: #008080; font-weight: bold\">56</span>, <span style=\"color: #008080; text-decoration-color: #008080; font-weight: bold\">57</span>, <span style=\"color: #008080; text-decoration-color: #008080; font-weight: bold\">58</span>, <span style=\"color: #008080; text-decoration-color: #008080; font-weight: bold\">59</span><span style=\"font-weight: bold\">]</span>,\n",
       "       <span style=\"color: #808000; text-decoration-color: #808000\">device</span>=<span style=\"color: #008000; text-decoration-color: #008000\">'cuda:3'</span>, <span style=\"color: #808000; text-decoration-color: #808000\">dtype</span>=<span style=\"color: #800080; text-decoration-color: #800080\">torch</span>.int32<span style=\"font-weight: bold\">)</span>\n",
       "</pre>\n"
      ],
      "text/plain": [
       "\u001b[1;35mtensor\u001b[0m\u001b[1m(\u001b[0m\u001b[1m[\u001b[0m\u001b[1;36m16\u001b[0m, \u001b[1;36m24\u001b[0m, \u001b[1;36m31\u001b[0m, \u001b[1;36m37\u001b[0m, \u001b[1;36m42\u001b[0m, \u001b[1;36m45\u001b[0m, \u001b[1;36m48\u001b[0m, \u001b[1;36m50\u001b[0m, \u001b[1;36m52\u001b[0m, \u001b[1;36m53\u001b[0m, \u001b[1;36m54\u001b[0m, \u001b[1;36m55\u001b[0m, \u001b[1;36m56\u001b[0m, \u001b[1;36m57\u001b[0m, \u001b[1;36m58\u001b[0m, \u001b[1;36m59\u001b[0m\u001b[1m]\u001b[0m,\n",
       "       \u001b[33mdevice\u001b[0m=\u001b[32m'cuda:3'\u001b[0m, \u001b[33mdtype\u001b[0m=\u001b[35mtorch\u001b[0m.int32\u001b[1m)\u001b[0m\n"
      ]
     },
     "metadata": {},
     "output_type": "display_data"
    }
   ],
   "source": [
    "print(tr.model.layer.n_exp)"
   ]
  },
  {
   "cell_type": "code",
   "execution_count": null,
   "id": "656e174d-9770-442f-beab-c519514ce125",
   "metadata": {},
   "outputs": [],
   "source": []
  },
  {
   "cell_type": "code",
   "execution_count": 6,
   "id": "372bc368-b0e0-4779-9f54-9ecefc62e71a",
   "metadata": {},
   "outputs": [],
   "source": [
    "x = next(iter(tr.dl_vld))[0]"
   ]
  },
  {
   "cell_type": "code",
   "execution_count": 7,
   "id": "265a8002-8249-4174-9b84-d997d986215b",
   "metadata": {},
   "outputs": [
    {
     "name": "stderr",
     "output_type": "stream",
     "text": [
      "100%|████████████████████████████████| 150000/150000 [10:50:58<00:00,  3.84it/s]\n"
     ]
    }
   ],
   "source": [
    "nll_batch = tr.model.estimate_nll(\n",
    "    x=x,\n",
    "    seq_total=150_000,\n",
    "    n_samples=100,\n",
    ")"
   ]
  },
  {
   "cell_type": "code",
   "execution_count": 10,
   "id": "475fa1b4-768e-4ab7-bf03-0ecfe0e70aea",
   "metadata": {},
   "outputs": [
    {
     "data": {
      "text/html": [
       "<pre style=\"white-space:pre;overflow-x:auto;line-height:normal;font-family:Menlo,'DejaVu Sans Mono',consolas,'Courier New',monospace\"><span style=\"font-weight: bold\">[</span>PROGRESS<span style=\"font-weight: bold\">]</span> <span style=\"color: #008000; text-decoration-color: #008000\">'nll_batch.npy'</span> saved at\n",
       "<span style=\"color: #800080; text-decoration-color: #800080\">/home/hadi/Dropbox/git/jb-vae/</span><span style=\"color: #ff00ff; text-decoration-color: #ff00ff\">tmp</span>\n",
       "</pre>\n"
      ],
      "text/plain": [
       "\u001b[1m[\u001b[0mPROGRESS\u001b[1m]\u001b[0m \u001b[32m'nll_batch.npy'\u001b[0m saved at\n",
       "\u001b[35m/home/hadi/Dropbox/git/jb-vae/\u001b[0m\u001b[95mtmp\u001b[0m\n"
      ]
     },
     "metadata": {},
     "output_type": "display_data"
    }
   ],
   "source": [
    "save_obj(nll_batch, save_dir=tmp_dir, file_name='nll_batch', mode='npy')"
   ]
  },
  {
   "cell_type": "code",
   "execution_count": null,
   "id": "16a93ff6-7143-48b3-8861-4033bf58eae3",
   "metadata": {},
   "outputs": [],
   "source": []
  },
  {
   "cell_type": "code",
   "execution_count": 11,
   "id": "f0473605-1360-448d-a44c-71c6ac863798",
   "metadata": {},
   "outputs": [],
   "source": [
    "nll = {k: v.mean(0) for k, v in nll_batch.items()}"
   ]
  },
  {
   "cell_type": "code",
   "execution_count": 12,
   "id": "7c38de8b-21fa-4e15-8454-0035c76b3c76",
   "metadata": {},
   "outputs": [
    {
     "data": {
      "image/png": "[encoded data removed]",
      "text/plain": [
       "<Figure size 300x200 with 1 Axes>"
      ]
     },
     "metadata": {},
     "output_type": "display_data"
    }
   ],
   "source": [
    "plt.loglog(nll['mse'])\n",
    "plt.loglog(nll['bce']);"
   ]
  },
  {
   "cell_type": "code",
   "execution_count": null,
   "id": "712a2878-5b5e-491e-80dc-3c13c03a2a76",
   "metadata": {},
   "outputs": [],
   "source": []
  },
  {
   "cell_type": "code",
   "execution_count": 16,
   "id": "e857f08b-f87e-4d0e-8413-06557eb215ae",
   "metadata": {},
   "outputs": [
    {
     "data": {
      "text/plain": [
       "(3.618949, 3.6307182)"
      ]
     },
     "execution_count": 16,
     "metadata": {},
     "output_type": "execute_result"
    }
   ],
   "source": [
    "nll['mse'][:40000].mean(), nll['mse'].mean()"
   ]
  },
  {
   "cell_type": "code",
   "execution_count": null,
   "id": "6487fbca-184f-4f46-a10e-e81b24cbf0cc",
   "metadata": {},
   "outputs": [],
   "source": []
  },
  {
   "cell_type": "code",
   "execution_count": 17,
   "id": "9c71697f-3a12-46c8-9e0c-753a598cf585",
   "metadata": {},
   "outputs": [
    {
     "data": {
      "text/plain": [
       "array([150.92291 , 112.278206,  90.666115, ...,  75.24891 ,  75.60721 ,\n",
       "        75.675735], dtype=float32)"
      ]
     },
     "execution_count": 17,
     "metadata": {},
     "output_type": "execute_result"
    }
   ],
   "source": [
    "nll['bce']"
   ]
  },
  {
   "cell_type": "code",
   "execution_count": null,
   "id": "dc66ef70-e1bf-4d1c-aabf-a669a2452f2f",
   "metadata": {},
   "outputs": [],
   "source": []
  },
  {
   "cell_type": "code",
   "execution_count": 18,
   "id": "14c6ff20-4abe-47bb-98ca-8ebbdcace4af",
   "metadata": {},
   "outputs": [
    {
     "data": {
      "text/plain": [
       "array([150.9229126 , 131.60055542, 117.95573934, ...,  75.19874265,\n",
       "        75.19874799,  75.19875333])"
      ]
     },
     "execution_count": 18,
     "metadata": {},
     "output_type": "execute_result"
    }
   ],
   "source": [
    "cumulative_mean(nll['bce'])"
   ]
  },
  {
   "cell_type": "code",
   "execution_count": null,
   "id": "6fc434d2-6222-4a0b-a20b-7abd064e5dcd",
   "metadata": {},
   "outputs": [],
   "source": []
  },
  {
   "cell_type": "code",
   "execution_count": 19,
   "id": "0d048017-3e1e-4bc6-9252-16e5378954c3",
   "metadata": {},
   "outputs": [
    {
     "data": {
      "text/plain": [
       "array([42.90213394, 35.22893524, 29.39859517, ...,  3.62904922,\n",
       "        3.62904919,  3.62904917])"
      ]
     },
     "execution_count": 19,
     "metadata": {},
     "output_type": "execute_result"
    }
   ],
   "source": [
    "cumulative_mean(nll['mse'])"
   ]
  },
  {
   "cell_type": "code",
   "execution_count": null,
   "id": "71ddfa3a-f9f4-4c36-9d64-4c6368f38056",
   "metadata": {},
   "outputs": [],
   "source": []
  },
  {
   "cell_type": "code",
   "execution_count": 74,
   "id": "9271ff21-59d1-4297-9c67-df03ceee3b28",
   "metadata": {},
   "outputs": [
    {
     "data": {
      "image/png": "[encoded data removed]",
      "text/plain": [
       "<Figure size 1000x400 with 2 Axes>"
      ]
     },
     "metadata": {},
     "output_type": "display_data"
    }
   ],
   "source": [
    "fig, axes = create_figure(1, 2, (10, 4))\n",
    "\n",
    "for i, (k, v) in enumerate(nll.items()):\n",
    "    ax = axes.flat[i]\n",
    "    \n",
    "    cum_mean = cumulative_mean(v)\n",
    "    ax.loglog(\n",
    "        cum_mean,\n",
    "        lw=0.5,\n",
    "        marker='.',\n",
    "        markersize=5,\n",
    "        color='C0' if i == 0 else 'k',\n",
    "        label=f'avg NLL (using {k.upper()})',\n",
    "    )\n",
    "    \n",
    "    convergence_i = find_cumulative_convergence(\n",
    "        arr=v, window_size=1000, tol=3e-7 if i == 0 else 7e-6)\n",
    "    ax.axvline(convergence_i, color='tomato', ls='--', label=f\"converged @ i = {convergence_i}\")\n",
    "    ax.axhline(cum_mean[convergence_i], color='g', ls='--', label=f\"val @ convergence = {cum_mean[convergence_i]:0.4f}\")\n",
    "    ax.set_xlabel('Time', fontsize=12)\n",
    "axes[0].set_ylabel('Cumulative mean', fontsize=12)\n",
    "\n",
    "add_legend(axes)\n",
    "add_grid(axes)\n",
    "plt.show()"
   ]
  },
  {
   "cell_type": "code",
   "execution_count": null,
   "id": "af74f1b1-0add-4ebc-91ae-a3b31005ae38",
   "metadata": {},
   "outputs": [],
   "source": []
  },
  {
   "cell_type": "code",
   "execution_count": null,
   "id": "ead241aa-051f-4ddc-abee-a795a401623a",
   "metadata": {},
   "outputs": [],
   "source": []
  },
  {
   "cell_type": "code",
   "execution_count": 56,
   "id": "37eff775-8a22-436c-a5a9-fb6d929abe07",
   "metadata": {},
   "outputs": [
    {
     "data": {
      "image/png": "[encoded data removed]",
      "text/plain": [
       "<Figure size 600x200 with 2 Axes>"
      ]
     },
     "metadata": {},
     "output_type": "display_data"
    }
   ],
   "source": [
    "fig, axes = create_figure(1, 2)\n",
    "axes[0].plot(cumulative_mean(nll['mse'])[-1000:]);\n",
    "axes[1].plot(cumulative_mean(nll['bce'])[-1000:], color='k');"
   ]
  },
  {
   "cell_type": "code",
   "execution_count": null,
   "id": "7cacae19-f3e8-4e9c-ab72-e36cb463b1ad",
   "metadata": {},
   "outputs": [],
   "source": []
  },
  {
   "cell_type": "code",
   "execution_count": null,
   "id": "bb0bcfe8-a108-40b5-aa5e-bf522bc00caa",
   "metadata": {},
   "outputs": [],
   "source": []
  },
  {
   "cell_type": "code",
   "execution_count": null,
   "id": "15723f34-6dc9-4d57-a851-3b42f30cac8f",
   "metadata": {},
   "outputs": [],
   "source": []
  },
  {
   "cell_type": "code",
   "execution_count": 75,
   "id": "15fb25f1-3773-4010-927a-237135f3121e",
   "metadata": {},
   "outputs": [],
   "source": [
    "from base.distributions import Poisson, softclamp_upper_inv"
   ]
  },
  {
   "cell_type": "code",
   "execution_count": 13,
   "id": "65c12113-8b27-4216-b6b5-12ce966093e5",
   "metadata": {},
   "outputs": [],
   "source": [
    "log_prior_rate = softclamp_upper_inv(\n",
    "    tr.model.layer.state,\n",
    "    tr.model.cfg.clamp_u,\n",
    ") - tr.model.layer.d_state\n",
    "\n",
    "prior = Poisson(\n",
    "    log_rate=log_prior_rate,\n",
    "    temp=0.0,\n",
    "    n_exp='infer',\n",
    "    clamp=None,\n",
    ")"
   ]
  },
  {
   "cell_type": "code",
   "execution_count": 14,
   "id": "72d53b8a-b833-4403-8357-7e8a14063a03",
   "metadata": {},
   "outputs": [
    {
     "data": {
      "text/plain": [
       "(59, 59)"
      ]
     },
     "execution_count": 14,
     "metadata": {},
     "output_type": "execute_result"
    }
   ],
   "source": [
    "prior.n_exp, tr.model.posterior.n_exp"
   ]
  },
  {
   "cell_type": "code",
   "execution_count": null,
   "id": "3002cd46-1274-4546-9a97-8d8297ae037d",
   "metadata": {},
   "outputs": [],
   "source": []
  },
  {
   "cell_type": "code",
   "execution_count": 15,
   "id": "3dddde29-3d7d-4d78-9534-56e422beb8bc",
   "metadata": {},
   "outputs": [],
   "source": [
    "posterior = Poisson(\n",
    "    log_rate=tr.model.layer.state,\n",
    "    temp=0.0,\n",
    "    n_exp='infer',\n",
    "    clamp=None,\n",
    ")"
   ]
  },
  {
   "cell_type": "code",
   "execution_count": 69,
   "id": "f79db2c4-539d-477d-ae1f-8b9157e19b0c",
   "metadata": {},
   "outputs": [
    {
     "data": {
      "text/plain": [
       "58"
      ]
     },
     "execution_count": 69,
     "metadata": {},
     "output_type": "execute_result"
    }
   ],
   "source": [
    "posterior.n_exp"
   ]
  },
  {
   "cell_type": "code",
   "execution_count": null,
   "id": "6febd4d3-8a67-4d41-b195-33ee27a8f804",
   "metadata": {},
   "outputs": [],
   "source": []
  },
  {
   "cell_type": "code",
   "execution_count": 70,
   "id": "e6a40c6b-6772-4a78-9c7e-932943aa0b48",
   "metadata": {},
   "outputs": [
    {
     "data": {
      "text/plain": [
       "tensor([[-3.0128, -3.2000, -1.4023,  ..., -0.1052, -0.8765,  0.9794],\n",
       "        [-1.7562, -1.3943,  0.1285,  ...,  2.2352, -1.3350,  0.6332],\n",
       "        [ 0.5005, -2.5535, -0.8493,  ...,  1.4792, -0.3112, -0.0112],\n",
       "        ...,\n",
       "        [-1.2951,  0.7156,  0.8598,  ..., -0.9239, -2.3847, -0.1379],\n",
       "        [-1.7844,  1.0198, -1.5184,  ..., -1.7391,  1.4926, -1.5356],\n",
       "        [-1.4421, -1.7429,  1.3929,  ..., -0.8176,  2.2151,  0.8939]],\n",
       "       device='cuda:0')"
      ]
     },
     "execution_count": 70,
     "metadata": {},
     "output_type": "execute_result"
    }
   ],
   "source": [
    "tr.model.layer.state"
   ]
  },
  {
   "cell_type": "code",
   "execution_count": 71,
   "id": "249f6944-4e61-4a53-9db2-0ffc3ae18d36",
   "metadata": {},
   "outputs": [
    {
     "data": {
      "text/plain": [
       "tensor([[-3.0128, -3.2000, -1.4023,  ..., -0.1052, -0.8765,  0.9794],\n",
       "        [-1.7562, -1.3943,  0.1285,  ...,  2.2352, -1.3350,  0.6332],\n",
       "        [ 0.5005, -2.5535, -0.8493,  ...,  1.4792, -0.3112, -0.0112],\n",
       "        ...,\n",
       "        [-1.2951,  0.7156,  0.8598,  ..., -0.9239, -2.3847, -0.1379],\n",
       "        [-1.7844,  1.0198, -1.5184,  ..., -1.7391,  1.4926, -1.5356],\n",
       "        [-1.4421, -1.7429,  1.3929,  ..., -0.8176,  2.2151,  0.8939]],\n",
       "       device='cuda:0')"
      ]
     },
     "execution_count": 71,
     "metadata": {},
     "output_type": "execute_result"
    }
   ],
   "source": [
    "torch.log(tr.model.posterior.rate)"
   ]
  },
  {
   "cell_type": "code",
   "execution_count": 73,
   "id": "ec27e269-7034-46b7-8fb5-e3fe83180fd4",
   "metadata": {},
   "outputs": [
    {
     "data": {
      "image/png": "[encoded data removed]",
      "text/plain": [
       "<Figure size 300x200 with 1 Axes>"
      ]
     },
     "metadata": {},
     "output_type": "display_data"
    }
   ],
   "source": [
    "histplot(tonp(tr.model.layer.state.ravel()), color='k')\n",
    "histplot(tonp(torch.log(tr.model.posterior.rate).ravel()), color='tomato');"
   ]
  },
  {
   "cell_type": "code",
   "execution_count": null,
   "id": "a9ef4628-b713-4fd0-9421-b3c95f2da6a3",
   "metadata": {},
   "outputs": [],
   "source": []
  },
  {
   "cell_type": "code",
   "execution_count": 74,
   "id": "49474119-ac52-485b-83c7-2ed1e98d471d",
   "metadata": {},
   "outputs": [
    {
     "data": {
      "text/plain": [
       "tensor(29.1670, device='cuda:0')"
      ]
     },
     "execution_count": 74,
     "metadata": {},
     "output_type": "execute_result"
    }
   ],
   "source": [
    "max_r_1 = torch.exp(tr.model.layer.state).max()\n",
    "max_r_1"
   ]
  },
  {
   "cell_type": "code",
   "execution_count": 75,
   "id": "625f47ff-baf4-491a-9c45-9c30e2b1b27f",
   "metadata": {},
   "outputs": [
    {
     "data": {
      "text/plain": [
       "tensor(29.1670, device='cuda:0')"
      ]
     },
     "execution_count": 75,
     "metadata": {},
     "output_type": "execute_result"
    }
   ],
   "source": [
    "max_r_2 = tr.model.posterior.rate.max()\n",
    "max_r_2"
   ]
  },
  {
   "cell_type": "code",
   "execution_count": null,
   "id": "d7f986a5-6dac-4db9-974a-d183db09f92a",
   "metadata": {},
   "outputs": [],
   "source": []
  },
  {
   "cell_type": "code",
   "execution_count": 76,
   "id": "9755cd14-8d93-46df-a7c8-4bdde7e72460",
   "metadata": {},
   "outputs": [],
   "source": [
    "from base.distributions import compute_n_exp"
   ]
  },
  {
   "cell_type": "code",
   "execution_count": 77,
   "id": "ffd8aa88-7477-4524-913e-3660706e2b7e",
   "metadata": {},
   "outputs": [
    {
     "data": {
      "text/plain": [
       "(58, 58)"
      ]
     },
     "execution_count": 77,
     "metadata": {},
     "output_type": "execute_result"
    }
   ],
   "source": [
    "n_exp_1 = compute_n_exp(max_r_1.item(), 1e-6)\n",
    "n_exp_2 = compute_n_exp(max_r_2.item(), 1e-6)\n",
    "\n",
    "n_exp_1, n_exp_2"
   ]
  },
  {
   "cell_type": "code",
   "execution_count": null,
   "id": "0c4583f5-405e-427d-8e58-d3fc18234314",
   "metadata": {},
   "outputs": [],
   "source": []
  },
  {
   "cell_type": "code",
   "execution_count": 18,
   "id": "d42eb06e-6e1d-4368-a882-6cbec362e8e8",
   "metadata": {},
   "outputs": [
    {
     "data": {
      "text/plain": [
       "True"
      ]
     },
     "execution_count": 18,
     "metadata": {},
     "output_type": "execute_result"
    }
   ],
   "source": [
    "torch.allclose(posterior.rate, tr.model.posterior.rate)"
   ]
  },
  {
   "cell_type": "code",
   "execution_count": null,
   "id": "4cc170fa-5c2c-4114-bc4e-283146d30cfe",
   "metadata": {},
   "outputs": [],
   "source": []
  },
  {
   "cell_type": "code",
   "execution_count": null,
   "id": "44bbf765-e282-44fd-a4ee-7f0baf1b8863",
   "metadata": {},
   "outputs": [],
   "source": []
  },
  {
   "cell_type": "code",
   "execution_count": null,
   "id": "4d9d087a-97fe-46c1-bee9-4308068ac34c",
   "metadata": {},
   "outputs": [],
   "source": []
  },
  {
   "cell_type": "code",
   "execution_count": null,
   "id": "d3d6cc68-c475-4f31-bd22-64064433e10e",
   "metadata": {},
   "outputs": [],
   "source": []
  },
  {
   "cell_type": "code",
   "execution_count": 69,
   "id": "61067263-e962-4c60-81cb-0864fde78be6",
   "metadata": {},
   "outputs": [],
   "source": [
    "c = 5.0\n",
    "x = torch.randn(100000) * 3\n",
    "\n",
    "x_clamped = softclamp_upper(x, c)\n",
    "x_unclamped = inverse_softclamp_upper(x_clamped, c)"
   ]
  },
  {
   "cell_type": "code",
   "execution_count": 70,
   "id": "6a6dc2a7-c3f0-44d1-9a14-d694a89ec096",
   "metadata": {},
   "outputs": [
    {
     "data": {
      "image/png": "[encoded data removed]",
      "text/plain": [
       "<Figure size 300x200 with 1 Axes>"
      ]
     },
     "metadata": {},
     "output_type": "display_data"
    }
   ],
   "source": [
    "histplot(tonp(x.ravel()))\n",
    "histplot(tonp(x_clamped.ravel()))\n",
    "histplot(tonp(x_unclamped.ravel()));"
   ]
  },
  {
   "cell_type": "code",
   "execution_count": null,
   "id": "bf62a994-9d60-4d32-9107-ab2c082d704e",
   "metadata": {},
   "outputs": [],
   "source": []
  },
  {
   "cell_type": "code",
   "execution_count": null,
   "id": "71a39cb0-93f0-4f5d-a43c-62387d5ddfbd",
   "metadata": {},
   "outputs": [],
   "source": []
  },
  {
   "cell_type": "code",
   "execution_count": null,
   "id": "89a402a2-a4ce-4412-9ec8-1149a03dbbb4",
   "metadata": {},
   "outputs": [],
   "source": []
  },
  {
   "cell_type": "code",
   "execution_count": 80,
   "id": "e17e87d4-3d9d-4bbc-8989-1d55049448a5",
   "metadata": {},
   "outputs": [
    {
     "data": {
      "text/plain": [
       "<Axes: ylabel='Count'>"
      ]
     },
     "execution_count": 80,
     "metadata": {},
     "output_type": "execute_result"
    },
    {
     "data": {
      "image/png": "[encoded data removed]",
      "text/plain": [
       "<Figure size 300x200 with 1 Axes>"
      ]
     },
     "metadata": {},
     "output_type": "display_data"
    }
   ],
   "source": [
    "delta = tonp(torch.abs(x - x_unclamped))\n",
    "histplot(delta)"
   ]
  },
  {
   "cell_type": "code",
   "execution_count": 81,
   "id": "62a4f7e2-962f-4e9c-a3ab-b683cf482302",
   "metadata": {},
   "outputs": [
    {
     "data": {
      "text/plain": [
       "1.8537504e-07"
      ]
     },
     "execution_count": 81,
     "metadata": {},
     "output_type": "execute_result"
    }
   ],
   "source": [
    "delta.mean()"
   ]
  },
  {
   "cell_type": "code",
   "execution_count": null,
   "id": "9b617522-9db7-44ff-b832-c600c5917d36",
   "metadata": {},
   "outputs": [],
   "source": []
  },
  {
   "cell_type": "code",
   "execution_count": null,
   "id": "876de8db-cbc5-4cd7-a371-ffef0d39e524",
   "metadata": {},
   "outputs": [],
   "source": []
  },
  {
   "cell_type": "code",
   "execution_count": null,
   "id": "f7e5b229-6062-403c-9207-f80a9daed27d",
   "metadata": {},
   "outputs": [],
   "source": []
  },
  {
   "cell_type": "code",
   "execution_count": null,
   "id": "5c9f9ede-9360-4fa3-82f7-e1d6e579f877",
   "metadata": {},
   "outputs": [],
   "source": []
  },
  {
   "cell_type": "code",
   "execution_count": null,
   "id": "73166638-b26e-4e33-aca4-e8649f168607",
   "metadata": {},
   "outputs": [],
   "source": []
  },
  {
   "cell_type": "code",
   "execution_count": null,
   "id": "c9d512ab-a346-442e-b75f-76359720917d",
   "metadata": {},
   "outputs": [],
   "source": []
  }
 ],
 "metadata": {
  "kernelspec": {
   "display_name": "Python 3 (ipykernel)",
   "language": "python",
   "name": "python3"
  },
  "language_info": {
   "codemirror_mode": {
    "name": "ipython",
    "version": 3
   },
   "file_extension": ".py",
   "mimetype": "text/x-python",
   "name": "python",
   "nbconvert_exporter": "python",
   "pygments_lexer": "ipython3",
   "version": "3.11.7"
  }
 },
 "nbformat": 4,
 "nbformat_minor": 5
}
