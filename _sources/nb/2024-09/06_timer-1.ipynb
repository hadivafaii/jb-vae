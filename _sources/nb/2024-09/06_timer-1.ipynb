{
 "cells": [
  {
   "cell_type": "markdown",
   "id": "48f55a35-d5b5-468f-b574-730df61e9609",
   "metadata": {},
   "source": [
    "# (06) timer run\n",
    "\n",
    "**Motivation**: host = ```mach```, device = ```cuda:1``` <br>"
   ]
  },
  {
   "cell_type": "code",
   "execution_count": 1,
   "id": "f823b1e9-05f2-49a0-8296-4a1819c12e81",
   "metadata": {
    "tags": [
     "hide-input"
    ]
   },
   "outputs": [],
   "source": [
    "# HIDE CODE\n",
    "\n",
    "\n",
    "import os, sys\n",
    "from IPython.display import display\n",
    "\n",
    "# tmp & extras dir\n",
    "git_dir = os.path.join(os.environ['HOME'], 'Dropbox/git')\n",
    "extras_dir = os.path.join(git_dir, 'jb-vae/_extras')\n",
    "fig_base_dir = os.path.join(git_dir, 'jb-vae/figs')\n",
    "tmp_dir = os.path.join(git_dir, 'jb-vae/tmp')\n",
    "\n",
    "# GitHub\n",
    "# sys.path.insert(0, os.path.join(git_dir, '_PoissonVAE'))\n",
    "sys.path.insert(0, os.path.join(git_dir, '_IterativeVAE'))\n",
    "from figures.fighelper import *\n",
    "from vae.train_vae import *\n",
    "\n",
    "# warnings, tqdm, & style\n",
    "warnings.filterwarnings('ignore', category=DeprecationWarning)\n",
    "warnings.filterwarnings('ignore', category=FutureWarning)\n",
    "warnings.filterwarnings('ignore', category=UserWarning)\n",
    "from rich.jupyter import print\n",
    "%matplotlib inline\n",
    "set_style()"
   ]
  },
  {
   "cell_type": "code",
   "execution_count": 2,
   "id": "45357127-b675-4e68-ba95-938ea8612cad",
   "metadata": {},
   "outputs": [
    {
     "data": {
      "text/html": [
       "<pre style=\"white-space:pre;overflow-x:auto;line-height:normal;font-family:Menlo,'DejaVu Sans Mono',consolas,'Courier New',monospace\">device: cu<span style=\"color: #00ff00; text-decoration-color: #00ff00; font-weight: bold\">da:1</span>  ———  host: mach\n",
       "</pre>\n"
      ],
      "text/plain": [
       "device: cu\u001b[1;92mda:1\u001b[0m  ———  host: mach\n"
      ]
     },
     "metadata": {},
     "output_type": "display_data"
    }
   ],
   "source": [
    "from base.utils_model import load_quick\n",
    "from figures.analysis import plot_convergence\n",
    "from figures.imgs import plot_weights\n",
    "\n",
    "device_idx = 1\n",
    "device = f'cuda:{device_idx}'\n",
    "\n",
    "print(f\"device: {device}  ———  host: {os.uname().nodename}\")"
   ]
  },
  {
   "cell_type": "markdown",
   "id": "fa9c264b-9265-4a93-a127-9038b38d729c",
   "metadata": {},
   "source": [
    "## MNIST"
   ]
  },
  {
   "cell_type": "markdown",
   "id": "1b211bbf-5c19-435c-97bc-b041d1e99e5d",
   "metadata": {},
   "source": [
    "### Get configs"
   ]
  },
  {
   "cell_type": "code",
   "execution_count": 3,
   "id": "0b2b9c2f-7b2a-44d2-b070-655cd858ee91",
   "metadata": {},
   "outputs": [],
   "source": [
    "model_type = 'poisson'\n",
    "cfg_vae, cfg_tr = default_configs('MNIST', model_type, 'conv+b|conv+b')\n",
    "\n",
    "cfg_vae['n_latents'] = [128]\n",
    "cfg_vae['init_scale'] = 1e-4\n",
    "cfg_vae['seq_len'] = 10\n",
    "\n",
    "cfg_tr['lr'] = 2e-3\n",
    "cfg_tr['epochs'] = 500\n",
    "cfg_tr['batch_size'] = 200\n",
    "cfg_tr['kl_beta'] = 5.0\n",
    "cfg_tr['kl_balancer'] = None"
   ]
  },
  {
   "cell_type": "markdown",
   "id": "55b49256-8f58-4dd2-be84-c80abbb8fc3e",
   "metadata": {},
   "source": [
    "### Make model + trainer"
   ]
  },
  {
   "cell_type": "code",
   "execution_count": 4,
   "id": "525223b3-c569-4dc5-9b11-473f55c73900",
   "metadata": {},
   "outputs": [
    {
     "data": {
      "text/html": [
       "<pre style=\"white-space:pre;overflow-x:auto;line-height:normal;font-family:Menlo,'DejaVu Sans Mono',consolas,'Courier New',monospace\">\n",
       "# params: <span style=\"color: #008080; text-decoration-color: #008080; font-weight: bold\">2.3</span> M\n",
       "</pre>\n"
      ],
      "text/plain": [
       "\n",
       "# params: \u001b[1;36m2.3\u001b[0m M\n"
      ]
     },
     "metadata": {},
     "output_type": "display_data"
    }
   ],
   "source": [
    "vae = IPVAE(CFG_CLASSES[model_type](**cfg_vae))\n",
    "tr = TrainerVAE(vae, ConfigTrainVAE(**cfg_tr), device=device, verbose=True)"
   ]
  },
  {
   "cell_type": "code",
   "execution_count": 5,
   "id": "75863f96-824c-4fd1-baed-c4232e43941d",
   "metadata": {},
   "outputs": [
    {
     "data": {
      "text/plain": [
       "150000"
      ]
     },
     "execution_count": 5,
     "metadata": {},
     "output_type": "execute_result"
    }
   ],
   "source": [
    "tr.n_iters"
   ]
  },
  {
   "cell_type": "code",
   "execution_count": null,
   "id": "54a01685-26c9-4732-ac90-1ddf34f0de6f",
   "metadata": {},
   "outputs": [],
   "source": []
  },
  {
   "cell_type": "code",
   "execution_count": 6,
   "id": "0673310c-f22b-4be2-870f-cd57d3a11aec",
   "metadata": {},
   "outputs": [
    {
     "name": "stderr",
     "output_type": "stream",
     "text": [
      "  0%|                                                   | 0/500 [00:00<?, ?it/s]"
     ]
    },
    {
     "data": {
      "text/html": [
       "<pre style=\"white-space:pre;overflow-x:auto;line-height:normal;font-family:Menlo,'DejaVu Sans Mono',consolas,'Courier New',monospace\">starting loop. Time: <span style=\"color: #008080; text-decoration-color: #008080; font-weight: bold\">5.4e-05</span>\n",
       "</pre>\n"
      ],
      "text/plain": [
       "starting loop. Time: \u001b[1;36m5.4e-05\u001b[0m\n"
      ]
     },
     "metadata": {},
     "output_type": "display_data"
    },
    {
     "data": {
      "text/html": [
       "<pre style=\"white-space:pre;overflow-x:auto;line-height:normal;font-family:Menlo,'DejaVu Sans Mono',consolas,'Courier New',monospace\">start of batch. Time: <span style=\"color: #008080; text-decoration-color: #008080; font-weight: bold\">0.55</span>\n",
       "</pre>\n"
      ],
      "text/plain": [
       "start of batch. Time: \u001b[1;36m0.55\u001b[0m\n"
      ]
     },
     "metadata": {},
     "output_type": "display_data"
    },
    {
     "data": {
      "text/html": [
       "<pre style=\"white-space:pre;overflow-x:auto;line-height:normal;font-family:Menlo,'DejaVu Sans Mono',consolas,'Courier New',monospace\">set model params <span style=\"font-weight: bold\">(</span>temp, eps, beta<span style=\"font-weight: bold\">)</span>. Time: <span style=\"color: #008080; text-decoration-color: #008080; font-weight: bold\">0.031</span>\n",
       "</pre>\n"
      ],
      "text/plain": [
       "set model params \u001b[1m(\u001b[0mtemp, eps, beta\u001b[1m)\u001b[0m. Time: \u001b[1;36m0.031\u001b[0m\n"
      ]
     },
     "metadata": {},
     "output_type": "display_data"
    },
    {
     "data": {
      "text/html": [
       "<pre style=\"white-space:pre;overflow-x:auto;line-height:normal;font-family:Menlo,'DejaVu Sans Mono',consolas,'Courier New',monospace\">poisson, hard bool. Time: <span style=\"color: #008080; text-decoration-color: #008080; font-weight: bold\">0.00098</span>\n",
       "</pre>\n"
      ],
      "text/plain": [
       "poisson, hard bool. Time: \u001b[1;36m0.00098\u001b[0m\n"
      ]
     },
     "metadata": {},
     "output_type": "display_data"
    },
    {
     "data": {
      "text/html": [
       "<pre style=\"white-space:pre;overflow-x:auto;line-height:normal;font-family:Menlo,'DejaVu Sans Mono',consolas,'Courier New',monospace\">forward pass. Time: <span style=\"color: #008080; text-decoration-color: #008080; font-weight: bold\">25</span>\n",
       "</pre>\n"
      ],
      "text/plain": [
       "forward pass. Time: \u001b[1;36m25\u001b[0m\n"
      ]
     },
     "metadata": {},
     "output_type": "display_data"
    },
    {
     "data": {
      "text/html": [
       "<pre style=\"white-space:pre;overflow-x:auto;line-height:normal;font-family:Menlo,'DejaVu Sans Mono',consolas,'Courier New',monospace\">loss computed. Time: <span style=\"color: #008080; text-decoration-color: #008080; font-weight: bold\">0.36</span>\n",
       "</pre>\n"
      ],
      "text/plain": [
       "loss computed. Time: \u001b[1;36m0.36\u001b[0m\n"
      ]
     },
     "metadata": {},
     "output_type": "display_data"
    },
    {
     "data": {
      "text/html": [
       "<pre style=\"white-space:pre;overflow-x:auto;line-height:normal;font-family:Menlo,'DejaVu Sans Mono',consolas,'Courier New',monospace\">backward. Time: <span style=\"color: #008080; text-decoration-color: #008080; font-weight: bold\">26</span>\n",
       "</pre>\n"
      ],
      "text/plain": [
       "backward. Time: \u001b[1;36m26\u001b[0m\n"
      ]
     },
     "metadata": {},
     "output_type": "display_data"
    },
    {
     "data": {
      "text/html": [
       "<pre style=\"white-space:pre;overflow-x:auto;line-height:normal;font-family:Menlo,'DejaVu Sans Mono',consolas,'Courier New',monospace\">grad clipped. Time: <span style=\"color: #008080; text-decoration-color: #008080; font-weight: bold\">0.44</span>\n",
       "</pre>\n"
      ],
      "text/plain": [
       "grad clipped. Time: \u001b[1;36m0.44\u001b[0m\n"
      ]
     },
     "metadata": {},
     "output_type": "display_data"
    },
    {
     "data": {
      "text/html": [
       "<pre style=\"white-space:pre;overflow-x:auto;line-height:normal;font-family:Menlo,'DejaVu Sans Mono',consolas,'Courier New',monospace\">optim step. Time: <span style=\"color: #008080; text-decoration-color: #008080; font-weight: bold\">2</span>\n",
       "</pre>\n"
      ],
      "text/plain": [
       "optim step. Time: \u001b[1;36m2\u001b[0m\n"
      ]
     },
     "metadata": {},
     "output_type": "display_data"
    },
    {
     "data": {
      "text/html": [
       "<pre style=\"white-space:pre;overflow-x:auto;line-height:normal;font-family:Menlo,'DejaVu Sans Mono',consolas,'Courier New',monospace\">optim schedule. Time: <span style=\"color: #008080; text-decoration-color: #008080; font-weight: bold\">0.00072</span>\n",
       "</pre>\n"
      ],
      "text/plain": [
       "optim schedule. Time: \u001b[1;36m0.00072\u001b[0m\n"
      ]
     },
     "metadata": {},
     "output_type": "display_data"
    },
    {
     "data": {
      "text/html": [
       "<pre style=\"white-space:pre;overflow-x:auto;line-height:normal;font-family:Menlo,'DejaVu Sans Mono',consolas,'Courier New',monospace\">update ema. Time: <span style=\"color: #008080; text-decoration-color: #008080; font-weight: bold\">0.00044</span>\n",
       "</pre>\n"
      ],
      "text/plain": [
       "update ema. Time: \u001b[1;36m0.00044\u001b[0m\n"
      ]
     },
     "metadata": {},
     "output_type": "display_data"
    },
    {
     "data": {
      "text/html": [
       "<pre style=\"white-space:pre;overflow-x:auto;line-height:normal;font-family:Menlo,'DejaVu Sans Mono',consolas,'Courier New',monospace\">meters updated. Time: <span style=\"color: #008080; text-decoration-color: #008080; font-weight: bold\">0.13</span>\n",
       "</pre>\n"
      ],
      "text/plain": [
       "meters updated. Time: \u001b[1;36m0.13\u001b[0m\n"
      ]
     },
     "metadata": {},
     "output_type": "display_data"
    },
    {
     "data": {
      "text/html": [
       "<pre style=\"white-space:pre;overflow-x:auto;line-height:normal;font-family:Menlo,'DejaVu Sans Mono',consolas,'Courier New',monospace\">end of batch. Time: <span style=\"color: #008080; text-decoration-color: #008080; font-weight: bold\">0.14</span>\n",
       "</pre>\n"
      ],
      "text/plain": [
       "end of batch. Time: \u001b[1;36m0.14\u001b[0m\n"
      ]
     },
     "metadata": {},
     "output_type": "display_data"
    },
    {
     "name": "stderr",
     "output_type": "stream",
     "text": [
      "epoch # 1, avg loss: 53.247894:   0%|         | 1/500 [01:01<8:32:50, 61.66s/it]\n",
      "\n",
      "KeyboardInterrupt\n",
      "\n"
     ]
    }
   ],
   "source": [
    "tr.train()"
   ]
  },
  {
   "cell_type": "code",
   "execution_count": null,
   "id": "c48162a9-6a51-413d-85f5-92033c582b63",
   "metadata": {},
   "outputs": [],
   "source": []
  },
  {
   "cell_type": "code",
   "execution_count": null,
   "id": "2fcf5831-06a8-44b3-a70a-dfe95e46217f",
   "metadata": {},
   "outputs": [],
   "source": []
  },
  {
   "cell_type": "code",
   "execution_count": null,
   "id": "8f109405-c1c7-42d6-bd48-5e5359130299",
   "metadata": {},
   "outputs": [],
   "source": []
  },
  {
   "cell_type": "code",
   "execution_count": null,
   "id": "c29dc393-b301-4afb-8faa-fffa38593d13",
   "metadata": {},
   "outputs": [],
   "source": []
  },
  {
   "cell_type": "code",
   "execution_count": 7,
   "id": "4a7b1209-9a37-4722-93aa-e825cb79f93f",
   "metadata": {},
   "outputs": [],
   "source": [
    "self = tr"
   ]
  },
  {
   "cell_type": "code",
   "execution_count": 33,
   "id": "939cc244-a784-467c-b684-587650c0d4ad",
   "metadata": {},
   "outputs": [
    {
     "data": {
      "text/html": [
       "<pre style=\"white-space:pre;overflow-x:auto;line-height:normal;font-family:Menlo,'DejaVu Sans Mono',consolas,'Courier New',monospace\">Time to load first batch: <span style=\"color: #008080; text-decoration-color: #008080; font-weight: bold\">0.005</span> seconds\n",
       "</pre>\n"
      ],
      "text/plain": [
       "Time to load first batch: \u001b[1;36m0.005\u001b[0m seconds\n"
      ]
     },
     "metadata": {},
     "output_type": "display_data"
    },
    {
     "data": {
      "text/html": [
       "<pre style=\"white-space:pre;overflow-x:auto;line-height:normal;font-family:Menlo,'DejaVu Sans Mono',consolas,'Courier New',monospace\">Time to load second batch: <span style=\"color: #008080; text-decoration-color: #008080; font-weight: bold\">0.002</span> seconds\n",
       "</pre>\n"
      ],
      "text/plain": [
       "Time to load second batch: \u001b[1;36m0.002\u001b[0m seconds\n"
      ]
     },
     "metadata": {},
     "output_type": "display_data"
    },
    {
     "data": {
      "text/html": [
       "<pre style=\"white-space:pre;overflow-x:auto;line-height:normal;font-family:Menlo,'DejaVu Sans Mono',consolas,'Courier New',monospace\">Time to load third batch: <span style=\"color: #008080; text-decoration-color: #008080; font-weight: bold\">0.007</span> seconds\n",
       "</pre>\n"
      ],
      "text/plain": [
       "Time to load third batch: \u001b[1;36m0.007\u001b[0m seconds\n"
      ]
     },
     "metadata": {},
     "output_type": "display_data"
    }
   ],
   "source": [
    "import time\n",
    "\n",
    "start_time = time.time()\n",
    "first_batch_time = None\n",
    "for i, (x, *_) in enumerate(self.dl_trn):\n",
    "    if i == 0:\n",
    "        first_batch_time = time.time() - start_time\n",
    "    elif i == 1:\n",
    "        second_batch_time = time.time() - start_time - first_batch_time\n",
    "    elif i == 2:\n",
    "        third_batch_time = time.time() - start_time - second_batch_time\n",
    "        break\n",
    "\n",
    "print(f\"Time to load first batch: {first_batch_time:.3f} seconds\")\n",
    "print(f\"Time to load second batch: {second_batch_time:.3f} seconds\")\n",
    "print(f\"Time to load third batch: {third_batch_time:.3f} seconds\")"
   ]
  },
  {
   "cell_type": "code",
   "execution_count": null,
   "id": "0587fcbb-5a75-4b20-af8b-2c9cfc45cbab",
   "metadata": {},
   "outputs": [],
   "source": []
  },
  {
   "cell_type": "code",
   "execution_count": 35,
   "id": "539579eb-a23e-47a8-87d1-139d16487c94",
   "metadata": {},
   "outputs": [
    {
     "name": "stderr",
     "output_type": "stream",
     "text": [
      "STAGE:2024-09-05 20:07:35 70558:70558 ActivityProfilerController.cpp:314] Completed Stage: Warm Up\n",
      "STAGE:2024-09-05 20:10:55 70558:70558 ActivityProfilerController.cpp:320] Completed Stage: Collection\n",
      "STAGE:2024-09-05 20:11:06 70558:70558 ActivityProfilerController.cpp:324] Completed Stage: Post Processing\n"
     ]
    }
   ],
   "source": [
    "from torch.profiler import profile, ProfilerActivity\n",
    "\n",
    "num_epochs = 100\n",
    "\n",
    "with profile(activities=[ProfilerActivity.CPU, ProfilerActivity.CUDA], record_shapes=True) as prof:\n",
    "    # Place your training loop here\n",
    "    for epoch in range(num_epochs):\n",
    "        for i, (x, *_) in enumerate(self.dl_trn):\n",
    "            # Perform model training steps\n",
    "            pass\n",
    "\n",
    "prof.export_chrome_trace(pjoin(tmp_dir, \"trace.json\")) \n",
    "# Exports the profiling results which can be viewed in Chrome’s tracing tools\n"
   ]
  },
  {
   "cell_type": "code",
   "execution_count": null,
   "id": "698224b9-92aa-4f30-a355-b9568a6919d2",
   "metadata": {},
   "outputs": [],
   "source": []
  },
  {
   "cell_type": "code",
   "execution_count": null,
   "id": "23f0cf4c-b01d-47c1-ac67-fb531cb8cbb8",
   "metadata": {},
   "outputs": [],
   "source": []
  },
  {
   "cell_type": "code",
   "execution_count": 36,
   "id": "724dc15d-7012-4cf1-9807-56a9aa0455c7",
   "metadata": {},
   "outputs": [],
   "source": [
    "gstep = 1245"
   ]
  },
  {
   "cell_type": "code",
   "execution_count": 8,
   "id": "278d63af-863b-44c4-9822-bd712d6afaf5",
   "metadata": {},
   "outputs": [],
   "source": [
    "def test():\n",
    "    annealing_is_done = (\n",
    "        self.cfg.temp_stop ==\n",
    "        self.temperatures[gstep]\n",
    "    )\n",
    "    hard = (\n",
    "        self.model.cfg.hard_fwd\n",
    "        and annealing_is_done\n",
    "    )\n",
    "    kws = dict(hard=hard)\n",
    "    return kws"
   ]
  },
  {
   "cell_type": "code",
   "execution_count": 9,
   "id": "58f2ba45-9b4c-4b58-aa5e-e7b58b33962c",
   "metadata": {},
   "outputs": [
    {
     "name": "stdout",
     "output_type": "stream",
     "text": [
      "257 ns ± 42.3 ns per loop (mean ± std. dev. of 7 runs, 1,000,000 loops each)\n"
     ]
    }
   ],
   "source": [
    "%timeit test()"
   ]
  },
  {
   "cell_type": "code",
   "execution_count": null,
   "id": "b082e9b7-f88a-4347-bdcc-89fd8611df1a",
   "metadata": {},
   "outputs": [],
   "source": []
  },
  {
   "cell_type": "code",
   "execution_count": null,
   "id": "19ea795e-b9e3-4457-8caa-f93c2cf0e60b",
   "metadata": {},
   "outputs": [],
   "source": []
  },
  {
   "cell_type": "code",
   "execution_count": 16,
   "id": "0d4f6179-d678-4cbe-8b9b-038359cd0e8d",
   "metadata": {},
   "outputs": [
    {
     "name": "stderr",
     "output_type": "stream",
     "text": [
      "STAGE:2024-09-05 17:46:58 61702:61702 ActivityProfilerController.cpp:314] Completed Stage: Warm Up\n",
      "STAGE:2024-09-05 17:46:59 61702:61702 ActivityProfilerController.cpp:320] Completed Stage: Collection\n",
      "STAGE:2024-09-05 17:46:59 61702:61702 ActivityProfilerController.cpp:324] Completed Stage: Post Processing\n"
     ]
    }
   ],
   "source": [
    "from torch.profiler import profile, record_function, ProfilerActivity\n",
    "\n",
    "with profile(activities=[ProfilerActivity.CPU, ProfilerActivity.CUDA], record_shapes=True) as prof:\n",
    "    with record_function(\"annealing_and_hard\"):\n",
    "        annealing_is_done = (\n",
    "            min(self.temperatures) ==\n",
    "            self.temperatures[gstep]\n",
    "        )\n",
    "        hard = (\n",
    "            self.model.cfg.hard_fwd\n",
    "            and annealing_is_done\n",
    "        )\n",
    "        kws = dict(hard=hard)"
   ]
  },
  {
   "cell_type": "code",
   "execution_count": 17,
   "id": "e5c01e53-3876-42b7-9900-8380c37f5a15",
   "metadata": {},
   "outputs": [
    {
     "data": {
      "text/html": [
       "<pre style=\"white-space:pre;overflow-x:auto;line-height:normal;font-family:Menlo,'DejaVu Sans Mono',consolas,'Courier New',monospace\">-------------------------  ------------  ------------  ------------  ------------  ------------  ------------  \n",
       "                     Name    Self CPU %      Self CPU   CPU total %     CPU total  CPU time avg    # of Calls  \n",
       "-------------------------  ------------  ------------  ------------  ------------  ------------  ------------  \n",
       "       annealing_and_hard        <span style=\"color: #008080; text-decoration-color: #008080; font-weight: bold\">99.91</span>%      <span style=\"color: #008080; text-decoration-color: #008080; font-weight: bold\">10.</span>026ms        <span style=\"color: #008080; text-decoration-color: #008080; font-weight: bold\">99.91</span>%      <span style=\"color: #008080; text-decoration-color: #008080; font-weight: bold\">10.</span>026ms      <span style=\"color: #008080; text-decoration-color: #008080; font-weight: bold\">10.</span>026ms             <span style=\"color: #008080; text-decoration-color: #008080; font-weight: bold\">1</span>  \n",
       "    cudaDeviceSynchronize         <span style=\"color: #008080; text-decoration-color: #008080; font-weight: bold\">0.09</span>%       <span style=\"color: #008080; text-decoration-color: #008080; font-weight: bold\">9.</span>000us         <span style=\"color: #008080; text-decoration-color: #008080; font-weight: bold\">0.09</span>%       <span style=\"color: #008080; text-decoration-color: #008080; font-weight: bold\">9.</span>000us       <span style=\"color: #008080; text-decoration-color: #008080; font-weight: bold\">9.</span>000us             <span style=\"color: #008080; text-decoration-color: #008080; font-weight: bold\">1</span>  \n",
       "-------------------------  ------------  ------------  ------------  ------------  ------------  ------------  \n",
       "Self CPU time total: <span style=\"color: #008080; text-decoration-color: #008080; font-weight: bold\">10.</span>035ms\n",
       "\n",
       "</pre>\n"
      ],
      "text/plain": [
       "-------------------------  ------------  ------------  ------------  ------------  ------------  ------------  \n",
       "                     Name    Self CPU %      Self CPU   CPU total %     CPU total  CPU time avg    # of Calls  \n",
       "-------------------------  ------------  ------------  ------------  ------------  ------------  ------------  \n",
       "       annealing_and_hard        \u001b[1;36m99.91\u001b[0m%      \u001b[1;36m10.\u001b[0m026ms        \u001b[1;36m99.91\u001b[0m%      \u001b[1;36m10.\u001b[0m026ms      \u001b[1;36m10.\u001b[0m026ms             \u001b[1;36m1\u001b[0m  \n",
       "    cudaDeviceSynchronize         \u001b[1;36m0.09\u001b[0m%       \u001b[1;36m9.\u001b[0m000us         \u001b[1;36m0.09\u001b[0m%       \u001b[1;36m9.\u001b[0m000us       \u001b[1;36m9.\u001b[0m000us             \u001b[1;36m1\u001b[0m  \n",
       "-------------------------  ------------  ------------  ------------  ------------  ------------  ------------  \n",
       "Self CPU time total: \u001b[1;36m10.\u001b[0m035ms\n",
       "\n"
      ]
     },
     "metadata": {},
     "output_type": "display_data"
    }
   ],
   "source": [
    "print(prof.key_averages().table(sort_by=\"cpu_time_total\", row_limit=10))"
   ]
  },
  {
   "cell_type": "code",
   "execution_count": null,
   "id": "92e4c610-267f-4e3a-a353-7e5a7badd3ba",
   "metadata": {},
   "outputs": [],
   "source": []
  },
  {
   "cell_type": "code",
   "execution_count": null,
   "id": "1bfd69ec-e20a-40b1-8342-02102aabbe20",
   "metadata": {},
   "outputs": [],
   "source": []
  },
  {
   "cell_type": "code",
   "execution_count": null,
   "id": "4b4d5c76-0171-4a31-8e23-ec58c2f1bb94",
   "metadata": {},
   "outputs": [],
   "source": []
  },
  {
   "cell_type": "markdown",
   "id": "cd3e0148-6ca4-491a-b0ed-8ebe14ab8cb0",
   "metadata": {},
   "source": [
    "### Fit model"
   ]
  },
  {
   "cell_type": "code",
   "execution_count": 9,
   "id": "338feceb-5f72-4e41-a194-0e5aff90865c",
   "metadata": {},
   "outputs": [],
   "source": [
    "# torch.backends.cudnn.benchmark = True\n",
    "# torch.backends.cudnn.benchmark_limit = 0"
   ]
  },
  {
   "cell_type": "code",
   "execution_count": 9,
   "id": "d578c305-3ba2-45e8-a115-d2f508f3afc7",
   "metadata": {},
   "outputs": [
    {
     "name": "stderr",
     "output_type": "stream",
     "text": [
      "  0%|                                                   | 0/500 [00:00<?, ?it/s]"
     ]
    },
    {
     "data": {
      "text/html": [
       "<pre style=\"white-space:pre;overflow-x:auto;line-height:normal;font-family:Menlo,'DejaVu Sans Mono',consolas,'Courier New',monospace\">starting loop. Time: <span style=\"color: #008080; text-decoration-color: #008080; font-weight: bold\">7.62939453125e-05</span>\n",
       "</pre>\n"
      ],
      "text/plain": [
       "starting loop. Time: \u001b[1;36m7.62939453125e-05\u001b[0m\n"
      ]
     },
     "metadata": {},
     "output_type": "display_data"
    },
    {
     "data": {
      "text/html": [
       "<pre style=\"white-space:pre;overflow-x:auto;line-height:normal;font-family:Menlo,'DejaVu Sans Mono',consolas,'Courier New',monospace\">start of batch. Time: <span style=\"color: #008080; text-decoration-color: #008080; font-weight: bold\">0.45922183990478516</span>\n",
       "</pre>\n"
      ],
      "text/plain": [
       "start of batch. Time: \u001b[1;36m0.45922183990478516\u001b[0m\n"
      ]
     },
     "metadata": {},
     "output_type": "display_data"
    },
    {
     "data": {
      "text/html": [
       "<pre style=\"white-space:pre;overflow-x:auto;line-height:normal;font-family:Menlo,'DejaVu Sans Mono',consolas,'Courier New',monospace\">set model params <span style=\"font-weight: bold\">(</span>temp, eps, beta<span style=\"font-weight: bold\">)</span>. Time: <span style=\"color: #008080; text-decoration-color: #008080; font-weight: bold\">0.027841567993164062</span>\n",
       "</pre>\n"
      ],
      "text/plain": [
       "set model params \u001b[1m(\u001b[0mtemp, eps, beta\u001b[1m)\u001b[0m. Time: \u001b[1;36m0.027841567993164062\u001b[0m\n"
      ]
     },
     "metadata": {},
     "output_type": "display_data"
    },
    {
     "data": {
      "text/html": [
       "<pre style=\"white-space:pre;overflow-x:auto;line-height:normal;font-family:Menlo,'DejaVu Sans Mono',consolas,'Courier New',monospace\">poisson, hard bool. Time: <span style=\"color: #008080; text-decoration-color: #008080; font-weight: bold\">1.6198914051055908</span>\n",
       "</pre>\n"
      ],
      "text/plain": [
       "poisson, hard bool. Time: \u001b[1;36m1.6198914051055908\u001b[0m\n"
      ]
     },
     "metadata": {},
     "output_type": "display_data"
    },
    {
     "data": {
      "text/html": [
       "<pre style=\"white-space:pre;overflow-x:auto;line-height:normal;font-family:Menlo,'DejaVu Sans Mono',consolas,'Courier New',monospace\">forward pass. Time: <span style=\"color: #008080; text-decoration-color: #008080; font-weight: bold\">10.854869604110718</span>\n",
       "</pre>\n"
      ],
      "text/plain": [
       "forward pass. Time: \u001b[1;36m10.854869604110718\u001b[0m\n"
      ]
     },
     "metadata": {},
     "output_type": "display_data"
    },
    {
     "data": {
      "text/html": [
       "<pre style=\"white-space:pre;overflow-x:auto;line-height:normal;font-family:Menlo,'DejaVu Sans Mono',consolas,'Courier New',monospace\">loss computed. Time: <span style=\"color: #008080; text-decoration-color: #008080; font-weight: bold\">0.13442373275756836</span>\n",
       "</pre>\n"
      ],
      "text/plain": [
       "loss computed. Time: \u001b[1;36m0.13442373275756836\u001b[0m\n"
      ]
     },
     "metadata": {},
     "output_type": "display_data"
    },
    {
     "data": {
      "text/html": [
       "<pre style=\"white-space:pre;overflow-x:auto;line-height:normal;font-family:Menlo,'DejaVu Sans Mono',consolas,'Courier New',monospace\">backward. Time: <span style=\"color: #008080; text-decoration-color: #008080; font-weight: bold\">10.18665885925293</span>\n",
       "</pre>\n"
      ],
      "text/plain": [
       "backward. Time: \u001b[1;36m10.18665885925293\u001b[0m\n"
      ]
     },
     "metadata": {},
     "output_type": "display_data"
    },
    {
     "data": {
      "text/html": [
       "<pre style=\"white-space:pre;overflow-x:auto;line-height:normal;font-family:Menlo,'DejaVu Sans Mono',consolas,'Courier New',monospace\">grad clipped. Time: <span style=\"color: #008080; text-decoration-color: #008080; font-weight: bold\">2.7777955532073975</span>\n",
       "</pre>\n"
      ],
      "text/plain": [
       "grad clipped. Time: \u001b[1;36m2.7777955532073975\u001b[0m\n"
      ]
     },
     "metadata": {},
     "output_type": "display_data"
    },
    {
     "data": {
      "text/html": [
       "<pre style=\"white-space:pre;overflow-x:auto;line-height:normal;font-family:Menlo,'DejaVu Sans Mono',consolas,'Courier New',monospace\">optim step. Time: <span style=\"color: #008080; text-decoration-color: #008080; font-weight: bold\">0.3173196315765381</span>\n",
       "</pre>\n"
      ],
      "text/plain": [
       "optim step. Time: \u001b[1;36m0.3173196315765381\u001b[0m\n"
      ]
     },
     "metadata": {},
     "output_type": "display_data"
    },
    {
     "data": {
      "text/html": [
       "<pre style=\"white-space:pre;overflow-x:auto;line-height:normal;font-family:Menlo,'DejaVu Sans Mono',consolas,'Courier New',monospace\">optim schedule. Time: <span style=\"color: #008080; text-decoration-color: #008080; font-weight: bold\">0.0006706714630126953</span>\n",
       "</pre>\n"
      ],
      "text/plain": [
       "optim schedule. Time: \u001b[1;36m0.0006706714630126953\u001b[0m\n"
      ]
     },
     "metadata": {},
     "output_type": "display_data"
    },
    {
     "data": {
      "text/html": [
       "<pre style=\"white-space:pre;overflow-x:auto;line-height:normal;font-family:Menlo,'DejaVu Sans Mono',consolas,'Courier New',monospace\">update ema. Time: <span style=\"color: #008080; text-decoration-color: #008080; font-weight: bold\">0.0004024505615234375</span>\n",
       "</pre>\n"
      ],
      "text/plain": [
       "update ema. Time: \u001b[1;36m0.0004024505615234375\u001b[0m\n"
      ]
     },
     "metadata": {},
     "output_type": "display_data"
    },
    {
     "data": {
      "text/html": [
       "<pre style=\"white-space:pre;overflow-x:auto;line-height:normal;font-family:Menlo,'DejaVu Sans Mono',consolas,'Courier New',monospace\">meters updated. Time: <span style=\"color: #008080; text-decoration-color: #008080; font-weight: bold\">0.11311960220336914</span>\n",
       "</pre>\n"
      ],
      "text/plain": [
       "meters updated. Time: \u001b[1;36m0.11311960220336914\u001b[0m\n"
      ]
     },
     "metadata": {},
     "output_type": "display_data"
    },
    {
     "data": {
      "text/html": [
       "<pre style=\"white-space:pre;overflow-x:auto;line-height:normal;font-family:Menlo,'DejaVu Sans Mono',consolas,'Courier New',monospace\">end of batch. Time: <span style=\"color: #008080; text-decoration-color: #008080; font-weight: bold\">0.09965229034423828</span>\n",
       "</pre>\n"
      ],
      "text/plain": [
       "end of batch. Time: \u001b[1;36m0.09965229034423828\u001b[0m\n"
      ]
     },
     "metadata": {},
     "output_type": "display_data"
    },
    {
     "name": "stderr",
     "output_type": "stream",
     "text": [
      "epoch # 1, avg loss: 42.677650:   0%|         | 1/500 [00:26<3:41:24, 26.62s/it]"
     ]
    },
    {
     "data": {
      "text/html": [
       "<pre style=\"white-space:pre;overflow-x:auto;line-height:normal;font-family:Menlo,'DejaVu Sans Mono',consolas,'Courier New',monospace\">starting loop. Time: <span style=\"color: #008080; text-decoration-color: #008080; font-weight: bold\">3.24249267578125e-05</span>\n",
       "</pre>\n"
      ],
      "text/plain": [
       "starting loop. Time: \u001b[1;36m3.24249267578125e-05\u001b[0m\n"
      ]
     },
     "metadata": {},
     "output_type": "display_data"
    },
    {
     "data": {
      "text/html": [
       "<pre style=\"white-space:pre;overflow-x:auto;line-height:normal;font-family:Menlo,'DejaVu Sans Mono',consolas,'Courier New',monospace\">start of batch. Time: <span style=\"color: #008080; text-decoration-color: #008080; font-weight: bold\">0.433424711227417</span>\n",
       "</pre>\n"
      ],
      "text/plain": [
       "start of batch. Time: \u001b[1;36m0.433424711227417\u001b[0m\n"
      ]
     },
     "metadata": {},
     "output_type": "display_data"
    },
    {
     "data": {
      "text/html": [
       "<pre style=\"white-space:pre;overflow-x:auto;line-height:normal;font-family:Menlo,'DejaVu Sans Mono',consolas,'Courier New',monospace\">set model params <span style=\"font-weight: bold\">(</span>temp, eps, beta<span style=\"font-weight: bold\">)</span>. Time: <span style=\"color: #008080; text-decoration-color: #008080; font-weight: bold\">0.015857219696044922</span>\n",
       "</pre>\n"
      ],
      "text/plain": [
       "set model params \u001b[1m(\u001b[0mtemp, eps, beta\u001b[1m)\u001b[0m. Time: \u001b[1;36m0.015857219696044922\u001b[0m\n"
      ]
     },
     "metadata": {},
     "output_type": "display_data"
    },
    {
     "data": {
      "text/html": [
       "<pre style=\"white-space:pre;overflow-x:auto;line-height:normal;font-family:Menlo,'DejaVu Sans Mono',consolas,'Courier New',monospace\">poisson, hard bool. Time: <span style=\"color: #008080; text-decoration-color: #008080; font-weight: bold\">1.569554328918457</span>\n",
       "</pre>\n"
      ],
      "text/plain": [
       "poisson, hard bool. Time: \u001b[1;36m1.569554328918457\u001b[0m\n"
      ]
     },
     "metadata": {},
     "output_type": "display_data"
    },
    {
     "data": {
      "text/html": [
       "<pre style=\"white-space:pre;overflow-x:auto;line-height:normal;font-family:Menlo,'DejaVu Sans Mono',consolas,'Courier New',monospace\">forward pass. Time: <span style=\"color: #008080; text-decoration-color: #008080; font-weight: bold\">9.978548288345337</span>\n",
       "</pre>\n"
      ],
      "text/plain": [
       "forward pass. Time: \u001b[1;36m9.978548288345337\u001b[0m\n"
      ]
     },
     "metadata": {},
     "output_type": "display_data"
    },
    {
     "data": {
      "text/html": [
       "<pre style=\"white-space:pre;overflow-x:auto;line-height:normal;font-family:Menlo,'DejaVu Sans Mono',consolas,'Courier New',monospace\">loss computed. Time: <span style=\"color: #008080; text-decoration-color: #008080; font-weight: bold\">0.11454391479492188</span>\n",
       "</pre>\n"
      ],
      "text/plain": [
       "loss computed. Time: \u001b[1;36m0.11454391479492188\u001b[0m\n"
      ]
     },
     "metadata": {},
     "output_type": "display_data"
    },
    {
     "data": {
      "text/html": [
       "<pre style=\"white-space:pre;overflow-x:auto;line-height:normal;font-family:Menlo,'DejaVu Sans Mono',consolas,'Courier New',monospace\">backward. Time: <span style=\"color: #008080; text-decoration-color: #008080; font-weight: bold\">9.805531024932861</span>\n",
       "</pre>\n"
      ],
      "text/plain": [
       "backward. Time: \u001b[1;36m9.805531024932861\u001b[0m\n"
      ]
     },
     "metadata": {},
     "output_type": "display_data"
    },
    {
     "data": {
      "text/html": [
       "<pre style=\"white-space:pre;overflow-x:auto;line-height:normal;font-family:Menlo,'DejaVu Sans Mono',consolas,'Courier New',monospace\">grad clipped. Time: <span style=\"color: #008080; text-decoration-color: #008080; font-weight: bold\">1.5472562313079834</span>\n",
       "</pre>\n"
      ],
      "text/plain": [
       "grad clipped. Time: \u001b[1;36m1.5472562313079834\u001b[0m\n"
      ]
     },
     "metadata": {},
     "output_type": "display_data"
    },
    {
     "data": {
      "text/html": [
       "<pre style=\"white-space:pre;overflow-x:auto;line-height:normal;font-family:Menlo,'DejaVu Sans Mono',consolas,'Courier New',monospace\">optim step. Time: <span style=\"color: #008080; text-decoration-color: #008080; font-weight: bold\">0.28636622428894043</span>\n",
       "</pre>\n"
      ],
      "text/plain": [
       "optim step. Time: \u001b[1;36m0.28636622428894043\u001b[0m\n"
      ]
     },
     "metadata": {},
     "output_type": "display_data"
    },
    {
     "data": {
      "text/html": [
       "<pre style=\"white-space:pre;overflow-x:auto;line-height:normal;font-family:Menlo,'DejaVu Sans Mono',consolas,'Courier New',monospace\">optim schedule. Time: <span style=\"color: #008080; text-decoration-color: #008080; font-weight: bold\">0.0005190372467041016</span>\n",
       "</pre>\n"
      ],
      "text/plain": [
       "optim schedule. Time: \u001b[1;36m0.0005190372467041016\u001b[0m\n"
      ]
     },
     "metadata": {},
     "output_type": "display_data"
    },
    {
     "data": {
      "text/html": [
       "<pre style=\"white-space:pre;overflow-x:auto;line-height:normal;font-family:Menlo,'DejaVu Sans Mono',consolas,'Courier New',monospace\">update ema. Time: <span style=\"color: #008080; text-decoration-color: #008080; font-weight: bold\">0.000263214111328125</span>\n",
       "</pre>\n"
      ],
      "text/plain": [
       "update ema. Time: \u001b[1;36m0.000263214111328125\u001b[0m\n"
      ]
     },
     "metadata": {},
     "output_type": "display_data"
    },
    {
     "data": {
      "text/html": [
       "<pre style=\"white-space:pre;overflow-x:auto;line-height:normal;font-family:Menlo,'DejaVu Sans Mono',consolas,'Courier New',monospace\">meters updated. Time: <span style=\"color: #008080; text-decoration-color: #008080; font-weight: bold\">0.0976572036743164</span>\n",
       "</pre>\n"
      ],
      "text/plain": [
       "meters updated. Time: \u001b[1;36m0.0976572036743164\u001b[0m\n"
      ]
     },
     "metadata": {},
     "output_type": "display_data"
    },
    {
     "data": {
      "text/html": [
       "<pre style=\"white-space:pre;overflow-x:auto;line-height:normal;font-family:Menlo,'DejaVu Sans Mono',consolas,'Courier New',monospace\">end of batch. Time: <span style=\"color: #008080; text-decoration-color: #008080; font-weight: bold\">0.09259438514709473</span>\n",
       "</pre>\n"
      ],
      "text/plain": [
       "end of batch. Time: \u001b[1;36m0.09259438514709473\u001b[0m\n"
      ]
     },
     "metadata": {},
     "output_type": "display_data"
    },
    {
     "name": "stderr",
     "output_type": "stream",
     "text": [
      "epoch # 2, avg loss: 34.329868:   0%|         | 2/500 [00:50<3:28:01, 25.06s/it]"
     ]
    },
    {
     "data": {
      "text/html": [
       "<pre style=\"white-space:pre;overflow-x:auto;line-height:normal;font-family:Menlo,'DejaVu Sans Mono',consolas,'Courier New',monospace\">starting loop. Time: <span style=\"color: #008080; text-decoration-color: #008080; font-weight: bold\">3.3855438232421875e-05</span>\n",
       "</pre>\n"
      ],
      "text/plain": [
       "starting loop. Time: \u001b[1;36m3.3855438232421875e-05\u001b[0m\n"
      ]
     },
     "metadata": {},
     "output_type": "display_data"
    },
    {
     "data": {
      "text/html": [
       "<pre style=\"white-space:pre;overflow-x:auto;line-height:normal;font-family:Menlo,'DejaVu Sans Mono',consolas,'Courier New',monospace\">start of batch. Time: <span style=\"color: #008080; text-decoration-color: #008080; font-weight: bold\">0.5796351432800293</span>\n",
       "</pre>\n"
      ],
      "text/plain": [
       "start of batch. Time: \u001b[1;36m0.5796351432800293\u001b[0m\n"
      ]
     },
     "metadata": {},
     "output_type": "display_data"
    },
    {
     "data": {
      "text/html": [
       "<pre style=\"white-space:pre;overflow-x:auto;line-height:normal;font-family:Menlo,'DejaVu Sans Mono',consolas,'Courier New',monospace\">set model params <span style=\"font-weight: bold\">(</span>temp, eps, beta<span style=\"font-weight: bold\">)</span>. Time: <span style=\"color: #008080; text-decoration-color: #008080; font-weight: bold\">0.01569962501525879</span>\n",
       "</pre>\n"
      ],
      "text/plain": [
       "set model params \u001b[1m(\u001b[0mtemp, eps, beta\u001b[1m)\u001b[0m. Time: \u001b[1;36m0.01569962501525879\u001b[0m\n"
      ]
     },
     "metadata": {},
     "output_type": "display_data"
    },
    {
     "data": {
      "text/html": [
       "<pre style=\"white-space:pre;overflow-x:auto;line-height:normal;font-family:Menlo,'DejaVu Sans Mono',consolas,'Courier New',monospace\">poisson, hard bool. Time: <span style=\"color: #008080; text-decoration-color: #008080; font-weight: bold\">1.5429816246032715</span>\n",
       "</pre>\n"
      ],
      "text/plain": [
       "poisson, hard bool. Time: \u001b[1;36m1.5429816246032715\u001b[0m\n"
      ]
     },
     "metadata": {},
     "output_type": "display_data"
    },
    {
     "data": {
      "text/html": [
       "<pre style=\"white-space:pre;overflow-x:auto;line-height:normal;font-family:Menlo,'DejaVu Sans Mono',consolas,'Courier New',monospace\">forward pass. Time: <span style=\"color: #008080; text-decoration-color: #008080; font-weight: bold\">9.968197107315063</span>\n",
       "</pre>\n"
      ],
      "text/plain": [
       "forward pass. Time: \u001b[1;36m9.968197107315063\u001b[0m\n"
      ]
     },
     "metadata": {},
     "output_type": "display_data"
    },
    {
     "data": {
      "text/html": [
       "<pre style=\"white-space:pre;overflow-x:auto;line-height:normal;font-family:Menlo,'DejaVu Sans Mono',consolas,'Courier New',monospace\">loss computed. Time: <span style=\"color: #008080; text-decoration-color: #008080; font-weight: bold\">0.11395573616027832</span>\n",
       "</pre>\n"
      ],
      "text/plain": [
       "loss computed. Time: \u001b[1;36m0.11395573616027832\u001b[0m\n"
      ]
     },
     "metadata": {},
     "output_type": "display_data"
    },
    {
     "data": {
      "text/html": [
       "<pre style=\"white-space:pre;overflow-x:auto;line-height:normal;font-family:Menlo,'DejaVu Sans Mono',consolas,'Courier New',monospace\">backward. Time: <span style=\"color: #008080; text-decoration-color: #008080; font-weight: bold\">9.543018579483032</span>\n",
       "</pre>\n"
      ],
      "text/plain": [
       "backward. Time: \u001b[1;36m9.543018579483032\u001b[0m\n"
      ]
     },
     "metadata": {},
     "output_type": "display_data"
    },
    {
     "data": {
      "text/html": [
       "<pre style=\"white-space:pre;overflow-x:auto;line-height:normal;font-family:Menlo,'DejaVu Sans Mono',consolas,'Courier New',monospace\">grad clipped. Time: <span style=\"color: #008080; text-decoration-color: #008080; font-weight: bold\">2.359907865524292</span>\n",
       "</pre>\n"
      ],
      "text/plain": [
       "grad clipped. Time: \u001b[1;36m2.359907865524292\u001b[0m\n"
      ]
     },
     "metadata": {},
     "output_type": "display_data"
    },
    {
     "data": {
      "text/html": [
       "<pre style=\"white-space:pre;overflow-x:auto;line-height:normal;font-family:Menlo,'DejaVu Sans Mono',consolas,'Courier New',monospace\">optim step. Time: <span style=\"color: #008080; text-decoration-color: #008080; font-weight: bold\">0.2797853946685791</span>\n",
       "</pre>\n"
      ],
      "text/plain": [
       "optim step. Time: \u001b[1;36m0.2797853946685791\u001b[0m\n"
      ]
     },
     "metadata": {},
     "output_type": "display_data"
    },
    {
     "data": {
      "text/html": [
       "<pre style=\"white-space:pre;overflow-x:auto;line-height:normal;font-family:Menlo,'DejaVu Sans Mono',consolas,'Courier New',monospace\">optim schedule. Time: <span style=\"color: #008080; text-decoration-color: #008080; font-weight: bold\">0.0007429122924804688</span>\n",
       "</pre>\n"
      ],
      "text/plain": [
       "optim schedule. Time: \u001b[1;36m0.0007429122924804688\u001b[0m\n"
      ]
     },
     "metadata": {},
     "output_type": "display_data"
    },
    {
     "data": {
      "text/html": [
       "<pre style=\"white-space:pre;overflow-x:auto;line-height:normal;font-family:Menlo,'DejaVu Sans Mono',consolas,'Courier New',monospace\">update ema. Time: <span style=\"color: #008080; text-decoration-color: #008080; font-weight: bold\">0.00037026405334472656</span>\n",
       "</pre>\n"
      ],
      "text/plain": [
       "update ema. Time: \u001b[1;36m0.00037026405334472656\u001b[0m\n"
      ]
     },
     "metadata": {},
     "output_type": "display_data"
    },
    {
     "data": {
      "text/html": [
       "<pre style=\"white-space:pre;overflow-x:auto;line-height:normal;font-family:Menlo,'DejaVu Sans Mono',consolas,'Courier New',monospace\">meters updated. Time: <span style=\"color: #008080; text-decoration-color: #008080; font-weight: bold\">0.09662365913391113</span>\n",
       "</pre>\n"
      ],
      "text/plain": [
       "meters updated. Time: \u001b[1;36m0.09662365913391113\u001b[0m\n"
      ]
     },
     "metadata": {},
     "output_type": "display_data"
    },
    {
     "data": {
      "text/html": [
       "<pre style=\"white-space:pre;overflow-x:auto;line-height:normal;font-family:Menlo,'DejaVu Sans Mono',consolas,'Courier New',monospace\">end of batch. Time: <span style=\"color: #008080; text-decoration-color: #008080; font-weight: bold\">0.09031224250793457</span>\n",
       "</pre>\n"
      ],
      "text/plain": [
       "end of batch. Time: \u001b[1;36m0.09031224250793457\u001b[0m\n"
      ]
     },
     "metadata": {},
     "output_type": "display_data"
    },
    {
     "name": "stderr",
     "output_type": "stream",
     "text": [
      "epoch # 3, avg loss: 31.267898:   1%|         | 3/500 [01:15<3:25:55, 24.86s/it]"
     ]
    },
    {
     "data": {
      "text/html": [
       "<pre style=\"white-space:pre;overflow-x:auto;line-height:normal;font-family:Menlo,'DejaVu Sans Mono',consolas,'Courier New',monospace\">starting loop. Time: <span style=\"color: #008080; text-decoration-color: #008080; font-weight: bold\">3.1948089599609375e-05</span>\n",
       "</pre>\n"
      ],
      "text/plain": [
       "starting loop. Time: \u001b[1;36m3.1948089599609375e-05\u001b[0m\n"
      ]
     },
     "metadata": {},
     "output_type": "display_data"
    },
    {
     "data": {
      "text/html": [
       "<pre style=\"white-space:pre;overflow-x:auto;line-height:normal;font-family:Menlo,'DejaVu Sans Mono',consolas,'Courier New',monospace\">start of batch. Time: <span style=\"color: #008080; text-decoration-color: #008080; font-weight: bold\">0.46323108673095703</span>\n",
       "</pre>\n"
      ],
      "text/plain": [
       "start of batch. Time: \u001b[1;36m0.46323108673095703\u001b[0m\n"
      ]
     },
     "metadata": {},
     "output_type": "display_data"
    },
    {
     "data": {
      "text/html": [
       "<pre style=\"white-space:pre;overflow-x:auto;line-height:normal;font-family:Menlo,'DejaVu Sans Mono',consolas,'Courier New',monospace\">set model params <span style=\"font-weight: bold\">(</span>temp, eps, beta<span style=\"font-weight: bold\">)</span>. Time: <span style=\"color: #008080; text-decoration-color: #008080; font-weight: bold\">0.016482114791870117</span>\n",
       "</pre>\n"
      ],
      "text/plain": [
       "set model params \u001b[1m(\u001b[0mtemp, eps, beta\u001b[1m)\u001b[0m. Time: \u001b[1;36m0.016482114791870117\u001b[0m\n"
      ]
     },
     "metadata": {},
     "output_type": "display_data"
    },
    {
     "data": {
      "text/html": [
       "<pre style=\"white-space:pre;overflow-x:auto;line-height:normal;font-family:Menlo,'DejaVu Sans Mono',consolas,'Courier New',monospace\">poisson, hard bool. Time: <span style=\"color: #008080; text-decoration-color: #008080; font-weight: bold\">1.5795750617980957</span>\n",
       "</pre>\n"
      ],
      "text/plain": [
       "poisson, hard bool. Time: \u001b[1;36m1.5795750617980957\u001b[0m\n"
      ]
     },
     "metadata": {},
     "output_type": "display_data"
    },
    {
     "data": {
      "text/html": [
       "<pre style=\"white-space:pre;overflow-x:auto;line-height:normal;font-family:Menlo,'DejaVu Sans Mono',consolas,'Courier New',monospace\">forward pass. Time: <span style=\"color: #008080; text-decoration-color: #008080; font-weight: bold\">10.064418315887451</span>\n",
       "</pre>\n"
      ],
      "text/plain": [
       "forward pass. Time: \u001b[1;36m10.064418315887451\u001b[0m\n"
      ]
     },
     "metadata": {},
     "output_type": "display_data"
    },
    {
     "data": {
      "text/html": [
       "<pre style=\"white-space:pre;overflow-x:auto;line-height:normal;font-family:Menlo,'DejaVu Sans Mono',consolas,'Courier New',monospace\">loss computed. Time: <span style=\"color: #008080; text-decoration-color: #008080; font-weight: bold\">0.11504817008972168</span>\n",
       "</pre>\n"
      ],
      "text/plain": [
       "loss computed. Time: \u001b[1;36m0.11504817008972168\u001b[0m\n"
      ]
     },
     "metadata": {},
     "output_type": "display_data"
    },
    {
     "data": {
      "text/html": [
       "<pre style=\"white-space:pre;overflow-x:auto;line-height:normal;font-family:Menlo,'DejaVu Sans Mono',consolas,'Courier New',monospace\">backward. Time: <span style=\"color: #008080; text-decoration-color: #008080; font-weight: bold\">9.177548885345459</span>\n",
       "</pre>\n"
      ],
      "text/plain": [
       "backward. Time: \u001b[1;36m9.177548885345459\u001b[0m\n"
      ]
     },
     "metadata": {},
     "output_type": "display_data"
    },
    {
     "data": {
      "text/html": [
       "<pre style=\"white-space:pre;overflow-x:auto;line-height:normal;font-family:Menlo,'DejaVu Sans Mono',consolas,'Courier New',monospace\">grad clipped. Time: <span style=\"color: #008080; text-decoration-color: #008080; font-weight: bold\">2.711548089981079</span>\n",
       "</pre>\n"
      ],
      "text/plain": [
       "grad clipped. Time: \u001b[1;36m2.711548089981079\u001b[0m\n"
      ]
     },
     "metadata": {},
     "output_type": "display_data"
    },
    {
     "data": {
      "text/html": [
       "<pre style=\"white-space:pre;overflow-x:auto;line-height:normal;font-family:Menlo,'DejaVu Sans Mono',consolas,'Courier New',monospace\">optim step. Time: <span style=\"color: #008080; text-decoration-color: #008080; font-weight: bold\">0.2809309959411621</span>\n",
       "</pre>\n"
      ],
      "text/plain": [
       "optim step. Time: \u001b[1;36m0.2809309959411621\u001b[0m\n"
      ]
     },
     "metadata": {},
     "output_type": "display_data"
    },
    {
     "data": {
      "text/html": [
       "<pre style=\"white-space:pre;overflow-x:auto;line-height:normal;font-family:Menlo,'DejaVu Sans Mono',consolas,'Courier New',monospace\">optim schedule. Time: <span style=\"color: #008080; text-decoration-color: #008080; font-weight: bold\">0.0006573200225830078</span>\n",
       "</pre>\n"
      ],
      "text/plain": [
       "optim schedule. Time: \u001b[1;36m0.0006573200225830078\u001b[0m\n"
      ]
     },
     "metadata": {},
     "output_type": "display_data"
    },
    {
     "data": {
      "text/html": [
       "<pre style=\"white-space:pre;overflow-x:auto;line-height:normal;font-family:Menlo,'DejaVu Sans Mono',consolas,'Courier New',monospace\">update ema. Time: <span style=\"color: #008080; text-decoration-color: #008080; font-weight: bold\">0.0003714561462402344</span>\n",
       "</pre>\n"
      ],
      "text/plain": [
       "update ema. Time: \u001b[1;36m0.0003714561462402344\u001b[0m\n"
      ]
     },
     "metadata": {},
     "output_type": "display_data"
    },
    {
     "data": {
      "text/html": [
       "<pre style=\"white-space:pre;overflow-x:auto;line-height:normal;font-family:Menlo,'DejaVu Sans Mono',consolas,'Courier New',monospace\">meters updated. Time: <span style=\"color: #008080; text-decoration-color: #008080; font-weight: bold\">0.09785199165344238</span>\n",
       "</pre>\n"
      ],
      "text/plain": [
       "meters updated. Time: \u001b[1;36m0.09785199165344238\u001b[0m\n"
      ]
     },
     "metadata": {},
     "output_type": "display_data"
    },
    {
     "data": {
      "text/html": [
       "<pre style=\"white-space:pre;overflow-x:auto;line-height:normal;font-family:Menlo,'DejaVu Sans Mono',consolas,'Courier New',monospace\">end of batch. Time: <span style=\"color: #008080; text-decoration-color: #008080; font-weight: bold\">0.10699748992919922</span>\n",
       "</pre>\n"
      ],
      "text/plain": [
       "end of batch. Time: \u001b[1;36m0.10699748992919922\u001b[0m\n"
      ]
     },
     "metadata": {},
     "output_type": "display_data"
    },
    {
     "name": "stderr",
     "output_type": "stream",
     "text": [
      "epoch # 4, avg loss: 35.803611:   1%|         | 4/500 [01:39<3:24:48, 24.78s/it]"
     ]
    },
    {
     "data": {
      "text/html": [
       "<pre style=\"white-space:pre;overflow-x:auto;line-height:normal;font-family:Menlo,'DejaVu Sans Mono',consolas,'Courier New',monospace\">starting loop. Time: <span style=\"color: #008080; text-decoration-color: #008080; font-weight: bold\">3.170967102050781e-05</span>\n",
       "</pre>\n"
      ],
      "text/plain": [
       "starting loop. Time: \u001b[1;36m3.170967102050781e-05\u001b[0m\n"
      ]
     },
     "metadata": {},
     "output_type": "display_data"
    },
    {
     "data": {
      "text/html": [
       "<pre style=\"white-space:pre;overflow-x:auto;line-height:normal;font-family:Menlo,'DejaVu Sans Mono',consolas,'Courier New',monospace\">start of batch. Time: <span style=\"color: #008080; text-decoration-color: #008080; font-weight: bold\">0.4804270267486572</span>\n",
       "</pre>\n"
      ],
      "text/plain": [
       "start of batch. Time: \u001b[1;36m0.4804270267486572\u001b[0m\n"
      ]
     },
     "metadata": {},
     "output_type": "display_data"
    },
    {
     "data": {
      "text/html": [
       "<pre style=\"white-space:pre;overflow-x:auto;line-height:normal;font-family:Menlo,'DejaVu Sans Mono',consolas,'Courier New',monospace\">set model params <span style=\"font-weight: bold\">(</span>temp, eps, beta<span style=\"font-weight: bold\">)</span>. Time: <span style=\"color: #008080; text-decoration-color: #008080; font-weight: bold\">0.016758441925048828</span>\n",
       "</pre>\n"
      ],
      "text/plain": [
       "set model params \u001b[1m(\u001b[0mtemp, eps, beta\u001b[1m)\u001b[0m. Time: \u001b[1;36m0.016758441925048828\u001b[0m\n"
      ]
     },
     "metadata": {},
     "output_type": "display_data"
    },
    {
     "data": {
      "text/html": [
       "<pre style=\"white-space:pre;overflow-x:auto;line-height:normal;font-family:Menlo,'DejaVu Sans Mono',consolas,'Courier New',monospace\">poisson, hard bool. Time: <span style=\"color: #008080; text-decoration-color: #008080; font-weight: bold\">1.6466920375823975</span>\n",
       "</pre>\n"
      ],
      "text/plain": [
       "poisson, hard bool. Time: \u001b[1;36m1.6466920375823975\u001b[0m\n"
      ]
     },
     "metadata": {},
     "output_type": "display_data"
    },
    {
     "data": {
      "text/html": [
       "<pre style=\"white-space:pre;overflow-x:auto;line-height:normal;font-family:Menlo,'DejaVu Sans Mono',consolas,'Courier New',monospace\">forward pass. Time: <span style=\"color: #008080; text-decoration-color: #008080; font-weight: bold\">10.496212005615234</span>\n",
       "</pre>\n"
      ],
      "text/plain": [
       "forward pass. Time: \u001b[1;36m10.496212005615234\u001b[0m\n"
      ]
     },
     "metadata": {},
     "output_type": "display_data"
    },
    {
     "data": {
      "text/html": [
       "<pre style=\"white-space:pre;overflow-x:auto;line-height:normal;font-family:Menlo,'DejaVu Sans Mono',consolas,'Courier New',monospace\">loss computed. Time: <span style=\"color: #008080; text-decoration-color: #008080; font-weight: bold\">0.12045526504516602</span>\n",
       "</pre>\n"
      ],
      "text/plain": [
       "loss computed. Time: \u001b[1;36m0.12045526504516602\u001b[0m\n"
      ]
     },
     "metadata": {},
     "output_type": "display_data"
    },
    {
     "data": {
      "text/html": [
       "<pre style=\"white-space:pre;overflow-x:auto;line-height:normal;font-family:Menlo,'DejaVu Sans Mono',consolas,'Courier New',monospace\">backward. Time: <span style=\"color: #008080; text-decoration-color: #008080; font-weight: bold\">9.3620285987854</span>\n",
       "</pre>\n"
      ],
      "text/plain": [
       "backward. Time: \u001b[1;36m9.3620285987854\u001b[0m\n"
      ]
     },
     "metadata": {},
     "output_type": "display_data"
    },
    {
     "data": {
      "text/html": [
       "<pre style=\"white-space:pre;overflow-x:auto;line-height:normal;font-family:Menlo,'DejaVu Sans Mono',consolas,'Courier New',monospace\">grad clipped. Time: <span style=\"color: #008080; text-decoration-color: #008080; font-weight: bold\">2.8190293312072754</span>\n",
       "</pre>\n"
      ],
      "text/plain": [
       "grad clipped. Time: \u001b[1;36m2.8190293312072754\u001b[0m\n"
      ]
     },
     "metadata": {},
     "output_type": "display_data"
    },
    {
     "data": {
      "text/html": [
       "<pre style=\"white-space:pre;overflow-x:auto;line-height:normal;font-family:Menlo,'DejaVu Sans Mono',consolas,'Courier New',monospace\">optim step. Time: <span style=\"color: #008080; text-decoration-color: #008080; font-weight: bold\">0.29775571823120117</span>\n",
       "</pre>\n"
      ],
      "text/plain": [
       "optim step. Time: \u001b[1;36m0.29775571823120117\u001b[0m\n"
      ]
     },
     "metadata": {},
     "output_type": "display_data"
    },
    {
     "data": {
      "text/html": [
       "<pre style=\"white-space:pre;overflow-x:auto;line-height:normal;font-family:Menlo,'DejaVu Sans Mono',consolas,'Courier New',monospace\">optim schedule. Time: <span style=\"color: #008080; text-decoration-color: #008080; font-weight: bold\">0.0006933212280273438</span>\n",
       "</pre>\n"
      ],
      "text/plain": [
       "optim schedule. Time: \u001b[1;36m0.0006933212280273438\u001b[0m\n"
      ]
     },
     "metadata": {},
     "output_type": "display_data"
    },
    {
     "data": {
      "text/html": [
       "<pre style=\"white-space:pre;overflow-x:auto;line-height:normal;font-family:Menlo,'DejaVu Sans Mono',consolas,'Courier New',monospace\">update ema. Time: <span style=\"color: #008080; text-decoration-color: #008080; font-weight: bold\">0.0003135204315185547</span>\n",
       "</pre>\n"
      ],
      "text/plain": [
       "update ema. Time: \u001b[1;36m0.0003135204315185547\u001b[0m\n"
      ]
     },
     "metadata": {},
     "output_type": "display_data"
    },
    {
     "data": {
      "text/html": [
       "<pre style=\"white-space:pre;overflow-x:auto;line-height:normal;font-family:Menlo,'DejaVu Sans Mono',consolas,'Courier New',monospace\">meters updated. Time: <span style=\"color: #008080; text-decoration-color: #008080; font-weight: bold\">0.10286545753479004</span>\n",
       "</pre>\n"
      ],
      "text/plain": [
       "meters updated. Time: \u001b[1;36m0.10286545753479004\u001b[0m\n"
      ]
     },
     "metadata": {},
     "output_type": "display_data"
    },
    {
     "data": {
      "text/html": [
       "<pre style=\"white-space:pre;overflow-x:auto;line-height:normal;font-family:Menlo,'DejaVu Sans Mono',consolas,'Courier New',monospace\">end of batch. Time: <span style=\"color: #008080; text-decoration-color: #008080; font-weight: bold\">0.09660696983337402</span>\n",
       "</pre>\n"
      ],
      "text/plain": [
       "end of batch. Time: \u001b[1;36m0.09660696983337402\u001b[0m\n"
      ]
     },
     "metadata": {},
     "output_type": "display_data"
    },
    {
     "name": "stderr",
     "output_type": "stream",
     "text": [
      "epoch # 5, avg loss: 41.684516:   1%|         | 5/500 [02:05<3:26:26, 25.02s/it]"
     ]
    },
    {
     "data": {
      "text/html": [
       "<pre style=\"white-space:pre;overflow-x:auto;line-height:normal;font-family:Menlo,'DejaVu Sans Mono',consolas,'Courier New',monospace\">starting loop. Time: <span style=\"color: #008080; text-decoration-color: #008080; font-weight: bold\">3.0994415283203125e-05</span>\n",
       "</pre>\n"
      ],
      "text/plain": [
       "starting loop. Time: \u001b[1;36m3.0994415283203125e-05\u001b[0m\n"
      ]
     },
     "metadata": {},
     "output_type": "display_data"
    },
    {
     "data": {
      "text/html": [
       "<pre style=\"white-space:pre;overflow-x:auto;line-height:normal;font-family:Menlo,'DejaVu Sans Mono',consolas,'Courier New',monospace\">start of batch. Time: <span style=\"color: #008080; text-decoration-color: #008080; font-weight: bold\">0.4565589427947998</span>\n",
       "</pre>\n"
      ],
      "text/plain": [
       "start of batch. Time: \u001b[1;36m0.4565589427947998\u001b[0m\n"
      ]
     },
     "metadata": {},
     "output_type": "display_data"
    },
    {
     "data": {
      "text/html": [
       "<pre style=\"white-space:pre;overflow-x:auto;line-height:normal;font-family:Menlo,'DejaVu Sans Mono',consolas,'Courier New',monospace\">set model params <span style=\"font-weight: bold\">(</span>temp, eps, beta<span style=\"font-weight: bold\">)</span>. Time: <span style=\"color: #008080; text-decoration-color: #008080; font-weight: bold\">0.015394449234008789</span>\n",
       "</pre>\n"
      ],
      "text/plain": [
       "set model params \u001b[1m(\u001b[0mtemp, eps, beta\u001b[1m)\u001b[0m. Time: \u001b[1;36m0.015394449234008789\u001b[0m\n"
      ]
     },
     "metadata": {},
     "output_type": "display_data"
    },
    {
     "data": {
      "text/html": [
       "<pre style=\"white-space:pre;overflow-x:auto;line-height:normal;font-family:Menlo,'DejaVu Sans Mono',consolas,'Courier New',monospace\">poisson, hard bool. Time: <span style=\"color: #008080; text-decoration-color: #008080; font-weight: bold\">1.543067455291748</span>\n",
       "</pre>\n"
      ],
      "text/plain": [
       "poisson, hard bool. Time: \u001b[1;36m1.543067455291748\u001b[0m\n"
      ]
     },
     "metadata": {},
     "output_type": "display_data"
    },
    {
     "data": {
      "text/html": [
       "<pre style=\"white-space:pre;overflow-x:auto;line-height:normal;font-family:Menlo,'DejaVu Sans Mono',consolas,'Courier New',monospace\">forward pass. Time: <span style=\"color: #008080; text-decoration-color: #008080; font-weight: bold\">10.11753225326538</span>\n",
       "</pre>\n"
      ],
      "text/plain": [
       "forward pass. Time: \u001b[1;36m10.11753225326538\u001b[0m\n"
      ]
     },
     "metadata": {},
     "output_type": "display_data"
    },
    {
     "data": {
      "text/html": [
       "<pre style=\"white-space:pre;overflow-x:auto;line-height:normal;font-family:Menlo,'DejaVu Sans Mono',consolas,'Courier New',monospace\">loss computed. Time: <span style=\"color: #008080; text-decoration-color: #008080; font-weight: bold\">0.11414408683776855</span>\n",
       "</pre>\n"
      ],
      "text/plain": [
       "loss computed. Time: \u001b[1;36m0.11414408683776855\u001b[0m\n"
      ]
     },
     "metadata": {},
     "output_type": "display_data"
    },
    {
     "data": {
      "text/html": [
       "<pre style=\"white-space:pre;overflow-x:auto;line-height:normal;font-family:Menlo,'DejaVu Sans Mono',consolas,'Courier New',monospace\">backward. Time: <span style=\"color: #008080; text-decoration-color: #008080; font-weight: bold\">9.757051467895508</span>\n",
       "</pre>\n"
      ],
      "text/plain": [
       "backward. Time: \u001b[1;36m9.757051467895508\u001b[0m\n"
      ]
     },
     "metadata": {},
     "output_type": "display_data"
    },
    {
     "data": {
      "text/html": [
       "<pre style=\"white-space:pre;overflow-x:auto;line-height:normal;font-family:Menlo,'DejaVu Sans Mono',consolas,'Courier New',monospace\">grad clipped. Time: <span style=\"color: #008080; text-decoration-color: #008080; font-weight: bold\">2.502627372741699</span>\n",
       "</pre>\n"
      ],
      "text/plain": [
       "grad clipped. Time: \u001b[1;36m2.502627372741699\u001b[0m\n"
      ]
     },
     "metadata": {},
     "output_type": "display_data"
    },
    {
     "data": {
      "text/html": [
       "<pre style=\"white-space:pre;overflow-x:auto;line-height:normal;font-family:Menlo,'DejaVu Sans Mono',consolas,'Courier New',monospace\">optim step. Time: <span style=\"color: #008080; text-decoration-color: #008080; font-weight: bold\">0.2794649600982666</span>\n",
       "</pre>\n"
      ],
      "text/plain": [
       "optim step. Time: \u001b[1;36m0.2794649600982666\u001b[0m\n"
      ]
     },
     "metadata": {},
     "output_type": "display_data"
    },
    {
     "data": {
      "text/html": [
       "<pre style=\"white-space:pre;overflow-x:auto;line-height:normal;font-family:Menlo,'DejaVu Sans Mono',consolas,'Courier New',monospace\">optim schedule. Time: <span style=\"color: #008080; text-decoration-color: #008080; font-weight: bold\">0.0036792755126953125</span>\n",
       "</pre>\n"
      ],
      "text/plain": [
       "optim schedule. Time: \u001b[1;36m0.0036792755126953125\u001b[0m\n"
      ]
     },
     "metadata": {},
     "output_type": "display_data"
    },
    {
     "data": {
      "text/html": [
       "<pre style=\"white-space:pre;overflow-x:auto;line-height:normal;font-family:Menlo,'DejaVu Sans Mono',consolas,'Courier New',monospace\">update ema. Time: <span style=\"color: #008080; text-decoration-color: #008080; font-weight: bold\">0.0002791881561279297</span>\n",
       "</pre>\n"
      ],
      "text/plain": [
       "update ema. Time: \u001b[1;36m0.0002791881561279297\u001b[0m\n"
      ]
     },
     "metadata": {},
     "output_type": "display_data"
    },
    {
     "data": {
      "text/html": [
       "<pre style=\"white-space:pre;overflow-x:auto;line-height:normal;font-family:Menlo,'DejaVu Sans Mono',consolas,'Courier New',monospace\">meters updated. Time: <span style=\"color: #008080; text-decoration-color: #008080; font-weight: bold\">0.0981442928314209</span>\n",
       "</pre>\n"
      ],
      "text/plain": [
       "meters updated. Time: \u001b[1;36m0.0981442928314209\u001b[0m\n"
      ]
     },
     "metadata": {},
     "output_type": "display_data"
    },
    {
     "data": {
      "text/html": [
       "<pre style=\"white-space:pre;overflow-x:auto;line-height:normal;font-family:Menlo,'DejaVu Sans Mono',consolas,'Courier New',monospace\">end of batch. Time: <span style=\"color: #008080; text-decoration-color: #008080; font-weight: bold\">0.09305620193481445</span>\n",
       "</pre>\n"
      ],
      "text/plain": [
       "end of batch. Time: \u001b[1;36m0.09305620193481445\u001b[0m\n"
      ]
     },
     "metadata": {},
     "output_type": "display_data"
    },
    {
     "name": "stderr",
     "output_type": "stream",
     "text": [
      "epoch # 6, avg loss: 34.035676:   1%|         | 6/500 [02:30<3:25:59, 25.02s/it]"
     ]
    },
    {
     "data": {
      "text/html": [
       "<pre style=\"white-space:pre;overflow-x:auto;line-height:normal;font-family:Menlo,'DejaVu Sans Mono',consolas,'Courier New',monospace\">starting loop. Time: <span style=\"color: #008080; text-decoration-color: #008080; font-weight: bold\">3.743171691894531e-05</span>\n",
       "</pre>\n"
      ],
      "text/plain": [
       "starting loop. Time: \u001b[1;36m3.743171691894531e-05\u001b[0m\n"
      ]
     },
     "metadata": {},
     "output_type": "display_data"
    },
    {
     "data": {
      "text/html": [
       "<pre style=\"white-space:pre;overflow-x:auto;line-height:normal;font-family:Menlo,'DejaVu Sans Mono',consolas,'Courier New',monospace\">start of batch. Time: <span style=\"color: #008080; text-decoration-color: #008080; font-weight: bold\">0.45669031143188477</span>\n",
       "</pre>\n"
      ],
      "text/plain": [
       "start of batch. Time: \u001b[1;36m0.45669031143188477\u001b[0m\n"
      ]
     },
     "metadata": {},
     "output_type": "display_data"
    },
    {
     "data": {
      "text/html": [
       "<pre style=\"white-space:pre;overflow-x:auto;line-height:normal;font-family:Menlo,'DejaVu Sans Mono',consolas,'Courier New',monospace\">set model params <span style=\"font-weight: bold\">(</span>temp, eps, beta<span style=\"font-weight: bold\">)</span>. Time: <span style=\"color: #008080; text-decoration-color: #008080; font-weight: bold\">0.015441179275512695</span>\n",
       "</pre>\n"
      ],
      "text/plain": [
       "set model params \u001b[1m(\u001b[0mtemp, eps, beta\u001b[1m)\u001b[0m. Time: \u001b[1;36m0.015441179275512695\u001b[0m\n"
      ]
     },
     "metadata": {},
     "output_type": "display_data"
    },
    {
     "data": {
      "text/html": [
       "<pre style=\"white-space:pre;overflow-x:auto;line-height:normal;font-family:Menlo,'DejaVu Sans Mono',consolas,'Courier New',monospace\">poisson, hard bool. Time: <span style=\"color: #008080; text-decoration-color: #008080; font-weight: bold\">1.5293292999267578</span>\n",
       "</pre>\n"
      ],
      "text/plain": [
       "poisson, hard bool. Time: \u001b[1;36m1.5293292999267578\u001b[0m\n"
      ]
     },
     "metadata": {},
     "output_type": "display_data"
    },
    {
     "data": {
      "text/html": [
       "<pre style=\"white-space:pre;overflow-x:auto;line-height:normal;font-family:Menlo,'DejaVu Sans Mono',consolas,'Courier New',monospace\">forward pass. Time: <span style=\"color: #008080; text-decoration-color: #008080; font-weight: bold\">10.087515354156494</span>\n",
       "</pre>\n"
      ],
      "text/plain": [
       "forward pass. Time: \u001b[1;36m10.087515354156494\u001b[0m\n"
      ]
     },
     "metadata": {},
     "output_type": "display_data"
    },
    {
     "data": {
      "text/html": [
       "<pre style=\"white-space:pre;overflow-x:auto;line-height:normal;font-family:Menlo,'DejaVu Sans Mono',consolas,'Courier New',monospace\">loss computed. Time: <span style=\"color: #008080; text-decoration-color: #008080; font-weight: bold\">0.112945556640625</span>\n",
       "</pre>\n"
      ],
      "text/plain": [
       "loss computed. Time: \u001b[1;36m0.112945556640625\u001b[0m\n"
      ]
     },
     "metadata": {},
     "output_type": "display_data"
    },
    {
     "data": {
      "text/html": [
       "<pre style=\"white-space:pre;overflow-x:auto;line-height:normal;font-family:Menlo,'DejaVu Sans Mono',consolas,'Courier New',monospace\">backward. Time: <span style=\"color: #008080; text-decoration-color: #008080; font-weight: bold\">9.329233884811401</span>\n",
       "</pre>\n"
      ],
      "text/plain": [
       "backward. Time: \u001b[1;36m9.329233884811401\u001b[0m\n"
      ]
     },
     "metadata": {},
     "output_type": "display_data"
    },
    {
     "data": {
      "text/html": [
       "<pre style=\"white-space:pre;overflow-x:auto;line-height:normal;font-family:Menlo,'DejaVu Sans Mono',consolas,'Courier New',monospace\">grad clipped. Time: <span style=\"color: #008080; text-decoration-color: #008080; font-weight: bold\">3.03444504737854</span>\n",
       "</pre>\n"
      ],
      "text/plain": [
       "grad clipped. Time: \u001b[1;36m3.03444504737854\u001b[0m\n"
      ]
     },
     "metadata": {},
     "output_type": "display_data"
    },
    {
     "data": {
      "text/html": [
       "<pre style=\"white-space:pre;overflow-x:auto;line-height:normal;font-family:Menlo,'DejaVu Sans Mono',consolas,'Courier New',monospace\">optim step. Time: <span style=\"color: #008080; text-decoration-color: #008080; font-weight: bold\">0.27895116806030273</span>\n",
       "</pre>\n"
      ],
      "text/plain": [
       "optim step. Time: \u001b[1;36m0.27895116806030273\u001b[0m\n"
      ]
     },
     "metadata": {},
     "output_type": "display_data"
    },
    {
     "data": {
      "text/html": [
       "<pre style=\"white-space:pre;overflow-x:auto;line-height:normal;font-family:Menlo,'DejaVu Sans Mono',consolas,'Courier New',monospace\">optim schedule. Time: <span style=\"color: #008080; text-decoration-color: #008080; font-weight: bold\">0.003437519073486328</span>\n",
       "</pre>\n"
      ],
      "text/plain": [
       "optim schedule. Time: \u001b[1;36m0.003437519073486328\u001b[0m\n"
      ]
     },
     "metadata": {},
     "output_type": "display_data"
    },
    {
     "data": {
      "text/html": [
       "<pre style=\"white-space:pre;overflow-x:auto;line-height:normal;font-family:Menlo,'DejaVu Sans Mono',consolas,'Courier New',monospace\">update ema. Time: <span style=\"color: #008080; text-decoration-color: #008080; font-weight: bold\">0.0004048347473144531</span>\n",
       "</pre>\n"
      ],
      "text/plain": [
       "update ema. Time: \u001b[1;36m0.0004048347473144531\u001b[0m\n"
      ]
     },
     "metadata": {},
     "output_type": "display_data"
    },
    {
     "data": {
      "text/html": [
       "<pre style=\"white-space:pre;overflow-x:auto;line-height:normal;font-family:Menlo,'DejaVu Sans Mono',consolas,'Courier New',monospace\">meters updated. Time: <span style=\"color: #008080; text-decoration-color: #008080; font-weight: bold\">0.09872007369995117</span>\n",
       "</pre>\n"
      ],
      "text/plain": [
       "meters updated. Time: \u001b[1;36m0.09872007369995117\u001b[0m\n"
      ]
     },
     "metadata": {},
     "output_type": "display_data"
    },
    {
     "data": {
      "text/html": [
       "<pre style=\"white-space:pre;overflow-x:auto;line-height:normal;font-family:Menlo,'DejaVu Sans Mono',consolas,'Courier New',monospace\">end of batch. Time: <span style=\"color: #008080; text-decoration-color: #008080; font-weight: bold\">0.08983635902404785</span>\n",
       "</pre>\n"
      ],
      "text/plain": [
       "end of batch. Time: \u001b[1;36m0.08983635902404785\u001b[0m\n"
      ]
     },
     "metadata": {},
     "output_type": "display_data"
    },
    {
     "name": "stderr",
     "output_type": "stream",
     "text": [
      "epoch # 7, avg loss: 28.336998:   1%|▏        | 7/500 [03:03<3:35:17, 26.20s/it]\n"
     ]
    },
    {
     "ename": "KeyboardInterrupt",
     "evalue": "",
     "output_type": "error",
     "traceback": [
      "\u001b[0;31m---------------------------------------------------------------------------\u001b[0m",
      "\u001b[0;31mKeyboardInterrupt\u001b[0m                         Traceback (most recent call last)",
      "Cell \u001b[0;32mIn[9], line 1\u001b[0m\n\u001b[0;32m----> 1\u001b[0m tr\u001b[38;5;241m.\u001b[39mtrain(fit_name\u001b[38;5;241m=\u001b[39m\u001b[38;5;124mf\u001b[39m\u001b[38;5;124m\"\u001b[39m\u001b[38;5;124mvmap_\u001b[39m\u001b[38;5;132;01m{\u001b[39;00mtr\u001b[38;5;241m.\u001b[39mcfg\u001b[38;5;241m.\u001b[39mname()\u001b[38;5;132;01m}\u001b[39;00m\u001b[38;5;124m\"\u001b[39m)\n",
      "File \u001b[0;32m~/Dropbox/git/_IterativeVAE/base/train_base.py:87\u001b[0m, in \u001b[0;36mBaseTrainer.train\u001b[0;34m(self, fit_name, epochs, fresh_fit, save)\u001b[0m\n\u001b[1;32m     80\u001b[0m \u001b[38;5;28mself\u001b[39m\u001b[38;5;241m.\u001b[39mpbar \u001b[38;5;241m=\u001b[39m tqdm(\n\u001b[1;32m     81\u001b[0m \titerable\u001b[38;5;241m=\u001b[39mepochs,\n\u001b[1;32m     82\u001b[0m \tdynamic_ncols\u001b[38;5;241m=\u001b[39m\u001b[38;5;28;01mTrue\u001b[39;00m,\n\u001b[1;32m     83\u001b[0m \tleave\u001b[38;5;241m=\u001b[39m\u001b[38;5;28;01mTrue\u001b[39;00m,\n\u001b[1;32m     84\u001b[0m \tposition\u001b[38;5;241m=\u001b[39m\u001b[38;5;241m0\u001b[39m,\n\u001b[1;32m     85\u001b[0m )\n\u001b[1;32m     86\u001b[0m \u001b[38;5;28;01mfor\u001b[39;00m epoch \u001b[38;5;129;01min\u001b[39;00m \u001b[38;5;28mself\u001b[39m\u001b[38;5;241m.\u001b[39mpbar:\n\u001b[0;32m---> 87\u001b[0m \tavg_loss \u001b[38;5;241m=\u001b[39m \u001b[38;5;28mself\u001b[39m\u001b[38;5;241m.\u001b[39miteration(epoch)\n\u001b[1;32m     88\u001b[0m \tmsg \u001b[38;5;241m=\u001b[39m \u001b[38;5;124m'\u001b[39m\u001b[38;5;124m, \u001b[39m\u001b[38;5;124m'\u001b[39m\u001b[38;5;241m.\u001b[39mjoin([\n\u001b[1;32m     89\u001b[0m \t\t\u001b[38;5;124mf\u001b[39m\u001b[38;5;124m\"\u001b[39m\u001b[38;5;124mepoch # \u001b[39m\u001b[38;5;132;01m{\u001b[39;00mepoch\u001b[38;5;250m \u001b[39m\u001b[38;5;241m+\u001b[39m\u001b[38;5;250m \u001b[39m\u001b[38;5;241m1\u001b[39m\u001b[38;5;132;01m:\u001b[39;00m\u001b[38;5;124md\u001b[39m\u001b[38;5;132;01m}\u001b[39;00m\u001b[38;5;124m\"\u001b[39m,\n\u001b[1;32m     90\u001b[0m \t\t\u001b[38;5;124mf\u001b[39m\u001b[38;5;124m\"\u001b[39m\u001b[38;5;124mavg loss: \u001b[39m\u001b[38;5;132;01m{\u001b[39;00mavg_loss\u001b[38;5;132;01m:\u001b[39;00m\u001b[38;5;124m3f\u001b[39m\u001b[38;5;132;01m}\u001b[39;00m\u001b[38;5;124m\"\u001b[39m,\n\u001b[1;32m     91\u001b[0m \t])\n\u001b[1;32m     92\u001b[0m \t\u001b[38;5;28mself\u001b[39m\u001b[38;5;241m.\u001b[39mpbar\u001b[38;5;241m.\u001b[39mset_description(msg)\n",
      "File \u001b[0;32m~/Dropbox/git/_IterativeVAE/vae/train_vae.py:410\u001b[0m, in \u001b[0;36mTrainerVAE.iteration\u001b[0;34m(self, epoch)\u001b[0m\n\u001b[1;32m    408\u001b[0m \u001b[38;5;28mself\u001b[39m\u001b[38;5;241m.\u001b[39moptim\u001b[38;5;241m.\u001b[39mzero_grad(set_to_none\u001b[38;5;241m=\u001b[39m\u001b[38;5;28;01mTrue\u001b[39;00m)\n\u001b[1;32m    409\u001b[0m \u001b[38;5;66;03m# backward\u001b[39;00m\n\u001b[0;32m--> 410\u001b[0m loss\u001b[38;5;241m.\u001b[39mbackward()\n\u001b[1;32m    411\u001b[0m timer(\u001b[38;5;124m\"\u001b[39m\u001b[38;5;124mbackward\u001b[39m\u001b[38;5;124m\"\u001b[39m)\n\u001b[1;32m    412\u001b[0m \u001b[38;5;66;03m# clip grad\u001b[39;00m\n",
      "File \u001b[0;32m~/anaconda3/lib/python3.11/site-packages/torch/_tensor.py:525\u001b[0m, in \u001b[0;36mTensor.backward\u001b[0;34m(self, gradient, retain_graph, create_graph, inputs)\u001b[0m\n\u001b[1;32m    515\u001b[0m \u001b[38;5;28;01mif\u001b[39;00m has_torch_function_unary(\u001b[38;5;28mself\u001b[39m):\n\u001b[1;32m    516\u001b[0m     \u001b[38;5;28;01mreturn\u001b[39;00m handle_torch_function(\n\u001b[1;32m    517\u001b[0m         Tensor\u001b[38;5;241m.\u001b[39mbackward,\n\u001b[1;32m    518\u001b[0m         (\u001b[38;5;28mself\u001b[39m,),\n\u001b[0;32m   (...)\u001b[0m\n\u001b[1;32m    523\u001b[0m         inputs\u001b[38;5;241m=\u001b[39minputs,\n\u001b[1;32m    524\u001b[0m     )\n\u001b[0;32m--> 525\u001b[0m torch\u001b[38;5;241m.\u001b[39mautograd\u001b[38;5;241m.\u001b[39mbackward(\n\u001b[1;32m    526\u001b[0m     \u001b[38;5;28mself\u001b[39m, gradient, retain_graph, create_graph, inputs\u001b[38;5;241m=\u001b[39minputs\n\u001b[1;32m    527\u001b[0m )\n",
      "File \u001b[0;32m~/anaconda3/lib/python3.11/site-packages/torch/autograd/__init__.py:267\u001b[0m, in \u001b[0;36mbackward\u001b[0;34m(tensors, grad_tensors, retain_graph, create_graph, grad_variables, inputs)\u001b[0m\n\u001b[1;32m    262\u001b[0m     retain_graph \u001b[38;5;241m=\u001b[39m create_graph\n\u001b[1;32m    264\u001b[0m \u001b[38;5;66;03m# The reason we repeat the same comment below is that\u001b[39;00m\n\u001b[1;32m    265\u001b[0m \u001b[38;5;66;03m# some Python versions print out the first line of a multi-line function\u001b[39;00m\n\u001b[1;32m    266\u001b[0m \u001b[38;5;66;03m# calls in the traceback and some print out the last line\u001b[39;00m\n\u001b[0;32m--> 267\u001b[0m _engine_run_backward(\n\u001b[1;32m    268\u001b[0m     tensors,\n\u001b[1;32m    269\u001b[0m     grad_tensors_,\n\u001b[1;32m    270\u001b[0m     retain_graph,\n\u001b[1;32m    271\u001b[0m     create_graph,\n\u001b[1;32m    272\u001b[0m     inputs,\n\u001b[1;32m    273\u001b[0m     allow_unreachable\u001b[38;5;241m=\u001b[39m\u001b[38;5;28;01mTrue\u001b[39;00m,\n\u001b[1;32m    274\u001b[0m     accumulate_grad\u001b[38;5;241m=\u001b[39m\u001b[38;5;28;01mTrue\u001b[39;00m,\n\u001b[1;32m    275\u001b[0m )\n",
      "File \u001b[0;32m~/anaconda3/lib/python3.11/site-packages/torch/autograd/graph.py:744\u001b[0m, in \u001b[0;36m_engine_run_backward\u001b[0;34m(t_outputs, *args, **kwargs)\u001b[0m\n\u001b[1;32m    742\u001b[0m     unregister_hooks \u001b[38;5;241m=\u001b[39m _register_logging_hooks_on_whole_graph(t_outputs)\n\u001b[1;32m    743\u001b[0m \u001b[38;5;28;01mtry\u001b[39;00m:\n\u001b[0;32m--> 744\u001b[0m     \u001b[38;5;28;01mreturn\u001b[39;00m Variable\u001b[38;5;241m.\u001b[39m_execution_engine\u001b[38;5;241m.\u001b[39mrun_backward(  \u001b[38;5;66;03m# Calls into the C++ engine to run the backward pass\u001b[39;00m\n\u001b[1;32m    745\u001b[0m         t_outputs, \u001b[38;5;241m*\u001b[39margs, \u001b[38;5;241m*\u001b[39m\u001b[38;5;241m*\u001b[39mkwargs\n\u001b[1;32m    746\u001b[0m     )  \u001b[38;5;66;03m# Calls into the C++ engine to run the backward pass\u001b[39;00m\n\u001b[1;32m    747\u001b[0m \u001b[38;5;28;01mfinally\u001b[39;00m:\n\u001b[1;32m    748\u001b[0m     \u001b[38;5;28;01mif\u001b[39;00m attach_logging_hooks:\n",
      "\u001b[0;31mKeyboardInterrupt\u001b[0m: "
     ]
    }
   ],
   "source": [
    "tr.train(fit_name=f\"vmap_{tr.cfg.name()}\")"
   ]
  },
  {
   "cell_type": "code",
   "execution_count": null,
   "id": "8c07d42d-9769-4c16-9ee3-ad52edfcb7d2",
   "metadata": {},
   "outputs": [],
   "source": []
  },
  {
   "cell_type": "code",
   "execution_count": null,
   "id": "4c857fff-dd1a-46d1-9427-0c82f41328db",
   "metadata": {},
   "outputs": [],
   "source": [
    "log_rate = tonp(tr.model.log_rate).ravel()\n",
    "bias = tonp(tr.model.layer.bias).ravel()\n",
    "\n",
    "fig, axes = create_figure(1, 2, (10, 2))\n",
    "kws = dict(fill=True, lw=3, alpha=0.3, ax=axes[0])\n",
    "sns.histplot(log_rate, color='C0', element='step', label=r'$\\log r$', **kws)\n",
    "\n",
    "kws = dict(fill=True, lw=3, alpha=0.3, ax=axes[1])\n",
    "sns.histplot(np.exp(log_rate), color='C0', element='step', label='rate', **kws)\n",
    "sns.histplot(bias, color='C8', element='step', label='bias', **kws)\n",
    "\n",
    "axes[1].set(ylabel='')\n",
    "add_legend(axes)\n",
    "\n",
    "plt.show()"
   ]
  },
  {
   "cell_type": "code",
   "execution_count": null,
   "id": "2530c444-94a1-40d0-b5fe-41f25c0f0c6b",
   "metadata": {},
   "outputs": [],
   "source": []
  },
  {
   "cell_type": "code",
   "execution_count": null,
   "id": "9ea26cd3-c958-4c25-bafc-9974960196d1",
   "metadata": {},
   "outputs": [],
   "source": [
    "dead = log_rate > 1\n",
    "dead.sum(), (~dead).sum(), dead.sum() / len(dead)"
   ]
  },
  {
   "cell_type": "code",
   "execution_count": null,
   "id": "7a21df07-259e-418e-be72-d7604ddebec0",
   "metadata": {},
   "outputs": [],
   "source": []
  },
  {
   "cell_type": "code",
   "execution_count": null,
   "id": "94106792-8f11-4897-95bb-ba386dc5db0c",
   "metadata": {},
   "outputs": [],
   "source": [
    "%%time\n",
    "\n",
    "kws = dict(\n",
    "    seq_total=1000,\n",
    "    seq_batch_sz=1000,\n",
    "    n_data_batches=10,\n",
    "    active=~dead,\n",
    "    full_data=True,\n",
    "    return_recon=True,\n",
    ")\n",
    "results = {\n",
    "    name: tr.analysis(dl_name=name, **kws)\n",
    "    for name in ['trn', 'vld'] # , 'tst']\n",
    "}"
   ]
  },
  {
   "cell_type": "code",
   "execution_count": null,
   "id": "67a72dc4-34a2-41d1-b1cc-d8f3fe91e391",
   "metadata": {},
   "outputs": [],
   "source": []
  },
  {
   "cell_type": "code",
   "execution_count": null,
   "id": "00a8e349-e695-403d-9b61-d172b595b02a",
   "metadata": {},
   "outputs": [],
   "source": [
    "colors = {'trn': 'C9', 'vld': 'C0', 'tst': 'k'}\n",
    "for name, d in results.items():\n",
    "    if name != 'trn':\n",
    "        print('\\n\\n\\n')\n",
    "    print('_' * 110)\n",
    "    print('-' * 110)\n",
    "    print(name)\n",
    "\n",
    "    plot_convergence(d, color=colors[name])"
   ]
  },
  {
   "cell_type": "code",
   "execution_count": null,
   "id": "26a472a2-130a-46c0-a9f9-1f8966aa4158",
   "metadata": {},
   "outputs": [],
   "source": []
  },
  {
   "cell_type": "code",
   "execution_count": null,
   "id": "c0057e34-5bdd-4143-ba8c-cc408aa89438",
   "metadata": {},
   "outputs": [],
   "source": []
  },
  {
   "cell_type": "code",
   "execution_count": null,
   "id": "de8d10e1-a869-49da-a797-5f6ef33fb684",
   "metadata": {},
   "outputs": [],
   "source": []
  },
  {
   "cell_type": "code",
   "execution_count": null,
   "id": "fb333f93-0e59-4857-b692-f8aab6446ad3",
   "metadata": {},
   "outputs": [],
   "source": []
  },
  {
   "cell_type": "code",
   "execution_count": null,
   "id": "f5b7ebf7-c695-48c1-9d07-51d04a3c8d34",
   "metadata": {},
   "outputs": [],
   "source": [
    "%%time\n",
    "\n",
    "kws = dict(\n",
    "    seq_total=3000,\n",
    "    seq_batch_sz=1000,\n",
    "    n_data_batches=1,\n",
    "    active=~dead,\n",
    "    full_data=True,\n",
    "    return_recon=True,\n",
    ")\n",
    "results_to_plot = {\n",
    "    name: tr.analysis(dl_name=name, **kws)\n",
    "    for name in ['trn', 'vld'] # , 'tst']\n",
    "}"
   ]
  },
  {
   "cell_type": "code",
   "execution_count": null,
   "id": "cd447958-746a-4c21-b3ae-6b9fba118557",
   "metadata": {},
   "outputs": [],
   "source": [
    "num = 16\n",
    "shape = (tr.model.cfg.input_sz, ) * 2\n",
    "\n",
    "for name, d in results_to_plot.items():\n",
    "    if name != 'trn':\n",
    "        print('\\n\\n\\n')\n",
    "    print('_' * 110)\n",
    "    print('-' * 110)\n",
    "    print(name)\n",
    "    \n",
    "    x2p = np.concatenate([\n",
    "        d['x'][:num, 0],\n",
    "        d['y'][:num, -1].reshape(-1, *shape),\n",
    "    ])\n",
    "    _ = plot_weights(x2p, nrows=2)"
   ]
  },
  {
   "cell_type": "code",
   "execution_count": null,
   "id": "29567be3-3d1b-406d-8a9f-7b7dc4f52222",
   "metadata": {},
   "outputs": [],
   "source": []
  },
  {
   "cell_type": "code",
   "execution_count": null,
   "id": "ad5b80fa-e5c8-45cd-b320-033d479d8784",
   "metadata": {},
   "outputs": [],
   "source": []
  },
  {
   "cell_type": "code",
   "execution_count": null,
   "id": "fe1facf9-e568-422f-970a-63be0843fccf",
   "metadata": {},
   "outputs": [],
   "source": [
    "tr.model.reset_states(64)\n",
    "dist, z, pred = tr.model.layer.generate(0.0)\n",
    "\n",
    "output = tr.model.generate(pred, seq=range(300))\n",
    "output = output.stack()\n",
    "\n",
    "loss_kl = tonp(torch.sum(output['loss_kl'], -1))\n",
    "u = tr.model.log_rate.expand(len(pred), -1)\n",
    "desc_len = tr.model.layer.loss_kl(u=u)\n",
    "desc_len = tonp(torch.sum(desc_len, dim=-1))\n",
    "\n",
    "list(output)"
   ]
  },
  {
   "cell_type": "code",
   "execution_count": null,
   "id": "2fd7ffc4-c8fd-441a-a0f6-8581a7967d87",
   "metadata": {},
   "outputs": [],
   "source": []
  },
  {
   "cell_type": "code",
   "execution_count": null,
   "id": "38eeea33-7782-496a-a543-0a53f63f0847",
   "metadata": {},
   "outputs": [],
   "source": [
    "shape = (tr.model.cfg.input_sz, tr.model.cfg.input_sz)"
   ]
  },
  {
   "cell_type": "code",
   "execution_count": null,
   "id": "ee0763a7-dbfd-4963-a1c0-712bcc3c7cb0",
   "metadata": {},
   "outputs": [],
   "source": [
    "nrows = 4\n",
    "ncols = int(np.ceil(len(pred) / nrows))\n",
    "fig, axes = create_figure(nrows, ncols, (1.1 * ncols, 1.3 * nrows), 'all', 'all')\n",
    "for sample_i, ax in enumerate(axes.flat):\n",
    "    i, j = sample_i // ncols, sample_i % ncols\n",
    "    x2p = tonp(pred[sample_i].reshape(shape))\n",
    "    ax.imshow(x2p, cmap='Greys_r')\n",
    "    ax.set_title(f\"i = {sample_i}\")\n",
    "trim_axs(axes, len(pred))\n",
    "remove_ticks(axes)\n",
    "plt.show()"
   ]
  },
  {
   "cell_type": "code",
   "execution_count": null,
   "id": "d866af5a-cdd4-4395-ae8a-b9dac01b67db",
   "metadata": {},
   "outputs": [],
   "source": []
  },
  {
   "cell_type": "code",
   "execution_count": null,
   "id": "d9c2b88b-5f53-4ac8-b3bd-c49bdee3ace0",
   "metadata": {},
   "outputs": [],
   "source": [
    "sample_i = 27"
   ]
  },
  {
   "cell_type": "code",
   "execution_count": null,
   "id": "e76c4dad-b2fe-4d33-9e04-ec43fab84b87",
   "metadata": {},
   "outputs": [],
   "source": [
    "nrows, ncols = 4, 30\n",
    "fig, axes = create_figure(nrows, ncols, (1.3 * ncols, 1.3 * nrows), 'all', 'all')\n",
    "for idx, ax in enumerate(axes.flat):\n",
    "    i, j = idx // ncols, idx % ncols\n",
    "    x2p = tonp(output['recon'][sample_i, idx].reshape(shape))\n",
    "    ax.imshow(x2p, cmap='Greys_r')\n",
    "remove_ticks(axes)"
   ]
  },
  {
   "cell_type": "code",
   "execution_count": null,
   "id": "5644c1ff-1a1b-427b-bf91-64264e646b2d",
   "metadata": {},
   "outputs": [],
   "source": []
  },
  {
   "cell_type": "code",
   "execution_count": null,
   "id": "d12dd475-ed4c-4c15-9bca-2bea73a3cebc",
   "metadata": {},
   "outputs": [],
   "source": [
    "order = np.argsort(desc_len)"
   ]
  },
  {
   "cell_type": "code",
   "execution_count": null,
   "id": "cab19ddb-3b17-4ed2-8d8f-a713fea7ae27",
   "metadata": {},
   "outputs": [],
   "source": [
    "for i in range(len(pred)):\n",
    "    sample_i = order[i]\n",
    "    nrows, ncols = 4, 30\n",
    "    fig, axes = create_figure(nrows, ncols, (1.3 * ncols, 1.3 * nrows), 'all', 'all')\n",
    "    tit = ' ——— '.join([\n",
    "        f\"i = {i}, sample # {sample_i}\",\n",
    "        f\"desc len = {desc_len[sample_i]:0.2g}\",\n",
    "    ])\n",
    "    fig.suptitle(tit, fontsize=25, y=1.14)\n",
    "    \n",
    "    x2p = tonp(pred[sample_i].reshape(shape))\n",
    "    axes[0, 0].imshow(x2p, cmap='Greys_r')\n",
    "    \n",
    "    for idx, ax in enumerate(axes.flat[1:], start=1):\n",
    "        i, j = idx // ncols, idx % ncols\n",
    "        x2p = tonp(output['recon'][sample_i, idx - 1].reshape(28, 28))\n",
    "        ax.imshow(x2p, cmap='Greys_r')\n",
    "    remove_ticks(axes)\n",
    "    plt.show()"
   ]
  },
  {
   "cell_type": "code",
   "execution_count": null,
   "id": "d238aa62-5aff-426c-b510-15cf6cdfac9e",
   "metadata": {},
   "outputs": [],
   "source": []
  },
  {
   "cell_type": "code",
   "execution_count": null,
   "id": "fd023ac8-ac07-4936-b3e1-4ab13f8c0e43",
   "metadata": {},
   "outputs": [],
   "source": []
  },
  {
   "cell_type": "code",
   "execution_count": null,
   "id": "48188cb7-6100-449b-8643-756df7a2d579",
   "metadata": {},
   "outputs": [],
   "source": []
  },
  {
   "cell_type": "code",
   "execution_count": null,
   "id": "a936d50f-2b6a-42f8-a19d-2fc110d1769a",
   "metadata": {},
   "outputs": [],
   "source": []
  },
  {
   "cell_type": "code",
   "execution_count": null,
   "id": "44148b96-bf1c-49e3-82a7-0020e8678fa3",
   "metadata": {},
   "outputs": [],
   "source": []
  }
 ],
 "metadata": {
  "kernelspec": {
   "display_name": "Python 3 (ipykernel)",
   "language": "python",
   "name": "python3"
  },
  "language_info": {
   "codemirror_mode": {
    "name": "ipython",
    "version": 3
   },
   "file_extension": ".py",
   "mimetype": "text/x-python",
   "name": "python",
   "nbconvert_exporter": "python",
   "pygments_lexer": "ipython3",
   "version": "3.11.7"
  }
 },
 "nbformat": 4,
 "nbformat_minor": 5
}
