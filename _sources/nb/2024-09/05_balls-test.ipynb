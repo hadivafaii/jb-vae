{
 "cells": [
  {
   "cell_type": "markdown",
   "id": "48f55a35-d5b5-468f-b574-730df61e9609",
   "metadata": {},
   "source": [
    "# (05) balls — tst\n",
    "\n",
    "**Motivation**: host = ```mach```, device = ```cuda:0``` <br>"
   ]
  },
  {
   "cell_type": "code",
   "execution_count": 1,
   "id": "f823b1e9-05f2-49a0-8296-4a1819c12e81",
   "metadata": {
    "tags": [
     "hide-input"
    ]
   },
   "outputs": [],
   "source": [
    "# HIDE CODE\n",
    "\n",
    "\n",
    "import os, sys\n",
    "from IPython.display import display\n",
    "\n",
    "# tmp & extras dir\n",
    "git_dir = os.path.join(os.environ['HOME'], 'Dropbox/git')\n",
    "extras_dir = os.path.join(git_dir, 'jb-vae/_extras')\n",
    "fig_base_dir = os.path.join(git_dir, 'jb-vae/figs')\n",
    "tmp_dir = os.path.join(git_dir, 'jb-vae/tmp')\n",
    "\n",
    "# GitHub\n",
    "# sys.path.insert(0, os.path.join(git_dir, '_PoissonVAE'))\n",
    "sys.path.insert(0, os.path.join(git_dir, '_IterativeVAE'))\n",
    "from figures.fighelper import *\n",
    "from vae.train_vae import *\n",
    "\n",
    "# warnings, tqdm, & style\n",
    "warnings.filterwarnings('ignore', category=DeprecationWarning)\n",
    "warnings.filterwarnings('ignore', category=FutureWarning)\n",
    "warnings.filterwarnings('ignore', category=UserWarning)\n",
    "from rich.jupyter import print\n",
    "%matplotlib inline\n",
    "set_style()"
   ]
  },
  {
   "cell_type": "code",
   "execution_count": 2,
   "id": "45357127-b675-4e68-ba95-938ea8612cad",
   "metadata": {},
   "outputs": [
    {
     "data": {
      "text/html": [
       "<pre style=\"white-space:pre;overflow-x:auto;line-height:normal;font-family:Menlo,'DejaVu Sans Mono',consolas,'Courier New',monospace\">device: cu<span style=\"color: #00ff00; text-decoration-color: #00ff00; font-weight: bold\">da:0</span>  ———  host: mach\n",
       "</pre>\n"
      ],
      "text/plain": [
       "device: cu\u001b[1;92mda:0\u001b[0m  ———  host: mach\n"
      ]
     },
     "metadata": {},
     "output_type": "display_data"
    }
   ],
   "source": [
    "from base.utils_model import load_quick\n",
    "from figures.analysis import plot_convergence\n",
    "from figures.imgs import plot_weights\n",
    "\n",
    "device_idx = 0\n",
    "device = f'cuda:{device_idx}'\n",
    "\n",
    "print(f\"device: {device}  ———  host: {os.uname().nodename}\")"
   ]
  },
  {
   "cell_type": "markdown",
   "id": "50809001-1125-4770-a156-81546ead4939",
   "metadata": {},
   "source": [
    "## Load model"
   ]
  },
  {
   "cell_type": "code",
   "execution_count": 3,
   "id": "3e7b5b1b-66b8-413f-b7e9-2dfacc226a77",
   "metadata": {},
   "outputs": [
    {
     "ename": "RuntimeError",
     "evalue": "Error(s) in loading state_dict for IPVAE:\n\tMissing key(s) in state_dict: \"layer.bias\", \"layer.log_rate\", \"layer.temp\", \"layer.beta\", \"layer.eps\", \"layer.n_exp\", \"layer.fc_dec._layer.weight\", \"layer.dec.1.weight\", \"layer.dec.1.bias\", \"layer.dec.3.weight\", \"layer.dec.3.bias\", \"layer.dec.5.weight\", \"layer.dec.5.bias\". \n\tUnexpected key(s) in state_dict: \"layers.L_0.bias\", \"layers.L_0.log_rate\", \"layers.L_0.temp\", \"layers.L_0.beta\", \"layers.L_0.eps\", \"layers.L_0.n_exp\", \"layers.L_0.fc_dec._layer.weight\", \"layers.L_0.dec.1.weight\", \"layers.L_0.dec.1.bias\", \"layers.L_0.dec.3.weight\", \"layers.L_0.dec.3.bias\", \"layers.L_0.dec.5.weight\", \"layers.L_0.dec.5.bias\". ",
     "output_type": "error",
     "traceback": [
      "\u001b[0;31m---------------------------------------------------------------------------\u001b[0m",
      "\u001b[0;31mRuntimeError\u001b[0m                              Traceback (most recent call last)",
      "Cell \u001b[0;32mIn[3], line 21\u001b[0m\n\u001b[1;32m     17\u001b[0m     model_name \u001b[38;5;241m=\u001b[39m \u001b[38;5;124m'\u001b[39m\u001b[38;5;124mpoisson_uniform_c(-4)_BALLS16_t-16_z-[128]_k-32_<jacob|lin>\u001b[39m\u001b[38;5;124m'\u001b[39m\n\u001b[1;32m     18\u001b[0m     fit_name \u001b[38;5;241m=\u001b[39m \u001b[38;5;124m'\u001b[39m\u001b[38;5;124mmc_b512-ep1000-lr(0.002)_beta(4:0x0.5)_temp(0.05:lin-0.5)_gr(250)_(2024_09_04,14:09)\u001b[39m\u001b[38;5;124m'\u001b[39m\n\u001b[0;32m---> 21\u001b[0m tr, meta \u001b[38;5;241m=\u001b[39m load_model(model_name\u001b[38;5;241m=\u001b[39mmodel_name, fit_name\u001b[38;5;241m=\u001b[39mfit_name, device\u001b[38;5;241m=\u001b[39mdevice)\n\u001b[1;32m     22\u001b[0m meta[\u001b[38;5;124m'\u001b[39m\u001b[38;5;124mcheckpoint\u001b[39m\u001b[38;5;124m'\u001b[39m]\n",
      "File \u001b[0;32m~/Dropbox/git/_IterativeVAE/base/utils_model.py:400\u001b[0m, in \u001b[0;36mload_model\u001b[0;34m(model_name, fit_name, checkpoint, device, strict, verbose, path, **kwargs)\u001b[0m\n\u001b[1;32m    398\u001b[0m state_dict \u001b[38;5;241m=\u001b[39m torch\u001b[38;5;241m.\u001b[39mload(state_dict, \u001b[38;5;124m'\u001b[39m\u001b[38;5;124mcpu\u001b[39m\u001b[38;5;124m'\u001b[39m)\n\u001b[1;32m    399\u001b[0m ema \u001b[38;5;241m=\u001b[39m state_dict[\u001b[38;5;124m'\u001b[39m\u001b[38;5;124mmodel_ema\u001b[39m\u001b[38;5;124m'\u001b[39m] \u001b[38;5;129;01mis\u001b[39;00m \u001b[38;5;129;01mnot\u001b[39;00m \u001b[38;5;28;01mNone\u001b[39;00m\n\u001b[0;32m--> 400\u001b[0m model\u001b[38;5;241m.\u001b[39mload_state_dict(\n\u001b[1;32m    401\u001b[0m \tstate_dict\u001b[38;5;241m=\u001b[39mstate_dict[\u001b[38;5;124m'\u001b[39m\u001b[38;5;124mmodel\u001b[39m\u001b[38;5;124m'\u001b[39m],\n\u001b[1;32m    402\u001b[0m \tstrict\u001b[38;5;241m=\u001b[39mstrict,\n\u001b[1;32m    403\u001b[0m )\n\u001b[1;32m    405\u001b[0m \u001b[38;5;66;03m# set chkpt_dir & timestamp\u001b[39;00m\n\u001b[1;32m    406\u001b[0m model\u001b[38;5;241m.\u001b[39mchkpt_dir \u001b[38;5;241m=\u001b[39m path\n",
      "File \u001b[0;32m~/anaconda3/lib/python3.11/site-packages/torch/nn/modules/module.py:2189\u001b[0m, in \u001b[0;36mModule.load_state_dict\u001b[0;34m(self, state_dict, strict, assign)\u001b[0m\n\u001b[1;32m   2184\u001b[0m         error_msgs\u001b[38;5;241m.\u001b[39minsert(\n\u001b[1;32m   2185\u001b[0m             \u001b[38;5;241m0\u001b[39m, \u001b[38;5;124m'\u001b[39m\u001b[38;5;124mMissing key(s) in state_dict: \u001b[39m\u001b[38;5;132;01m{}\u001b[39;00m\u001b[38;5;124m. \u001b[39m\u001b[38;5;124m'\u001b[39m\u001b[38;5;241m.\u001b[39mformat(\n\u001b[1;32m   2186\u001b[0m                 \u001b[38;5;124m'\u001b[39m\u001b[38;5;124m, \u001b[39m\u001b[38;5;124m'\u001b[39m\u001b[38;5;241m.\u001b[39mjoin(\u001b[38;5;124mf\u001b[39m\u001b[38;5;124m'\u001b[39m\u001b[38;5;124m\"\u001b[39m\u001b[38;5;132;01m{\u001b[39;00mk\u001b[38;5;132;01m}\u001b[39;00m\u001b[38;5;124m\"\u001b[39m\u001b[38;5;124m'\u001b[39m \u001b[38;5;28;01mfor\u001b[39;00m k \u001b[38;5;129;01min\u001b[39;00m missing_keys)))\n\u001b[1;32m   2188\u001b[0m \u001b[38;5;28;01mif\u001b[39;00m \u001b[38;5;28mlen\u001b[39m(error_msgs) \u001b[38;5;241m>\u001b[39m \u001b[38;5;241m0\u001b[39m:\n\u001b[0;32m-> 2189\u001b[0m     \u001b[38;5;28;01mraise\u001b[39;00m \u001b[38;5;167;01mRuntimeError\u001b[39;00m(\u001b[38;5;124m'\u001b[39m\u001b[38;5;124mError(s) in loading state_dict for \u001b[39m\u001b[38;5;132;01m{}\u001b[39;00m\u001b[38;5;124m:\u001b[39m\u001b[38;5;130;01m\\n\u001b[39;00m\u001b[38;5;130;01m\\t\u001b[39;00m\u001b[38;5;132;01m{}\u001b[39;00m\u001b[38;5;124m'\u001b[39m\u001b[38;5;241m.\u001b[39mformat(\n\u001b[1;32m   2190\u001b[0m                        \u001b[38;5;28mself\u001b[39m\u001b[38;5;241m.\u001b[39m\u001b[38;5;18m__class__\u001b[39m\u001b[38;5;241m.\u001b[39m\u001b[38;5;18m__name__\u001b[39m, \u001b[38;5;124m\"\u001b[39m\u001b[38;5;130;01m\\n\u001b[39;00m\u001b[38;5;130;01m\\t\u001b[39;00m\u001b[38;5;124m\"\u001b[39m\u001b[38;5;241m.\u001b[39mjoin(error_msgs)))\n\u001b[1;32m   2191\u001b[0m \u001b[38;5;28;01mreturn\u001b[39;00m _IncompatibleKeys(missing_keys, unexpected_keys)\n",
      "\u001b[0;31mRuntimeError\u001b[0m: Error(s) in loading state_dict for IPVAE:\n\tMissing key(s) in state_dict: \"layer.bias\", \"layer.log_rate\", \"layer.temp\", \"layer.beta\", \"layer.eps\", \"layer.n_exp\", \"layer.fc_dec._layer.weight\", \"layer.dec.1.weight\", \"layer.dec.1.bias\", \"layer.dec.3.weight\", \"layer.dec.3.bias\", \"layer.dec.5.weight\", \"layer.dec.5.bias\". \n\tUnexpected key(s) in state_dict: \"layers.L_0.bias\", \"layers.L_0.log_rate\", \"layers.L_0.temp\", \"layers.L_0.beta\", \"layers.L_0.eps\", \"layers.L_0.n_exp\", \"layers.L_0.fc_dec._layer.weight\", \"layers.L_0.dec.1.weight\", \"layers.L_0.dec.1.bias\", \"layers.L_0.dec.3.weight\", \"layers.L_0.dec.3.bias\", \"layers.L_0.dec.5.weight\", \"layers.L_0.dec.5.bias\". "
     ]
    }
   ],
   "source": [
    "which = 'deconv'\n",
    "\n",
    "\n",
    "if which == 'deconv':\n",
    "    model_name = 'poisson_uniform_c(-2)_BALLS16_t-16_z-[8]_k-32_<jacob|deconv>'\n",
    "    fit_name = 'mc_b512-ep1000-lr(0.002)_beta(1:0x0.5)_temp(0.05:lin-0.5)_gr(250)_(2024_09_04,15:42)'\n",
    "\n",
    "elif which == 'conv':\n",
    "    model_name = ''\n",
    "    fit_name = ''\n",
    "    \n",
    "elif which == 'mlp':\n",
    "    model_name = 'poisson_uniform_c(-2)_BALLS16_t-16_z-[32]_k-32_<jacob|mlp>'\n",
    "    fit_name = 'mc_b512-ep1000-lr(0.002)_beta(16:0x0.5)_temp(0.05:lin-0.5)_gr(250)_(2024_09_04,10:11)'\n",
    "    \n",
    "elif which == 'lin':\n",
    "    model_name = 'poisson_uniform_c(-4)_BALLS16_t-16_z-[128]_k-32_<jacob|lin>'\n",
    "    fit_name = 'mc_b512-ep1000-lr(0.002)_beta(4:0x0.5)_temp(0.05:lin-0.5)_gr(250)_(2024_09_04,14:09)'\n",
    "\n",
    "\n",
    "tr, meta = load_model(model_name=model_name, fit_name=fit_name, device=device)\n",
    "meta['checkpoint']"
   ]
  },
  {
   "cell_type": "code",
   "execution_count": null,
   "id": "7fb00264-dbeb-4a0a-b00b-e1edc70a2558",
   "metadata": {},
   "outputs": [],
   "source": []
  },
  {
   "cell_type": "code",
   "execution_count": null,
   "id": "ce83975e-a363-4559-8eb1-2ae543a7aa13",
   "metadata": {},
   "outputs": [],
   "source": [
    "log_rate = tonp(tr.model.input_layer.log_rate).ravel()\n",
    "bias = tonp(tr.model.input_layer.bias).ravel()\n",
    "\n",
    "fig, axes = create_figure(1, 2, (10, 2))\n",
    "kws = dict(fill=True, lw=3, alpha=0.3, ax=axes[0])\n",
    "sns.histplot(log_rate, color='C0', element='step', label=r'$\\log r$', **kws)\n",
    "\n",
    "kws = dict(fill=True, lw=3, alpha=0.3, ax=axes[1])\n",
    "sns.histplot(np.exp(log_rate), color='C0', element='step', label='rate', **kws)\n",
    "sns.histplot(bias, color='C8', element='step', label='bias', **kws)\n",
    "\n",
    "axes[1].set(ylabel='')\n",
    "add_legend(axes)\n",
    "\n",
    "plt.show()"
   ]
  },
  {
   "cell_type": "code",
   "execution_count": null,
   "id": "1081afdc-0645-4f5a-a7a1-730bb5271a35",
   "metadata": {},
   "outputs": [],
   "source": []
  },
  {
   "cell_type": "code",
   "execution_count": null,
   "id": "0fb1a431-34b0-4d2b-a3e1-0616d8e59c7e",
   "metadata": {},
   "outputs": [],
   "source": [
    "dead = log_rate > 10\n",
    "dead.sum()"
   ]
  },
  {
   "cell_type": "code",
   "execution_count": null,
   "id": "05e58943-50fc-45b6-941c-0fc758404050",
   "metadata": {},
   "outputs": [],
   "source": []
  },
  {
   "cell_type": "code",
   "execution_count": 6,
   "id": "a8f5e7ba-0b35-435c-8cce-5dbd3a259bfb",
   "metadata": {},
   "outputs": [
    {
     "data": {
      "image/png": "[encoded data removed]",
      "text/plain": [
       "<Figure size 1280x640 with 1 Axes>"
      ]
     },
     "metadata": {},
     "output_type": "display_data"
    }
   ],
   "source": [
    "try:\n",
    "    tr.model.show(nrows=1, order=np.argsort(dead))\n",
    "except AttributeError:\n",
    "    print(tr.model.cfg.dec_type)"
   ]
  },
  {
   "cell_type": "code",
   "execution_count": null,
   "id": "2d2e9141-5d12-42a9-8d09-94e756dda687",
   "metadata": {},
   "outputs": [],
   "source": []
  },
  {
   "cell_type": "code",
   "execution_count": 7,
   "id": "2b2ae71b-3d1e-469b-a1ab-9e207f639025",
   "metadata": {},
   "outputs": [
    {
     "name": "stderr",
     "output_type": "stream",
     "text": [
      "100%|███████████████████████████████████| 5/5 [00:33<00:00,  6.68s/it]\n",
      "100%|███████████████████████████████████| 5/5 [00:33<00:00,  6.61s/it]\n",
      "100%|███████████████████████████████████| 5/5 [00:32<00:00,  6.57s/it]\n"
     ]
    },
    {
     "name": "stdout",
     "output_type": "stream",
     "text": [
      "CPU times: user 1min 53s, sys: 1.1 s, total: 1min 54s\n",
      "Wall time: 1min 40s\n"
     ]
    }
   ],
   "source": [
    "%%time\n",
    "\n",
    "kws = dict(\n",
    "    seq_total=1000,\n",
    "    seq_batch_sz=1000,\n",
    "    n_data_batches=5,\n",
    "    active=~dead,\n",
    "    full_data=True,\n",
    "    return_recon=False,\n",
    ")\n",
    "results = {\n",
    "    name: tr.analysis(dl_name=name, **kws)\n",
    "    for name in ['trn', 'vld', 'tst']\n",
    "}"
   ]
  },
  {
   "cell_type": "code",
   "execution_count": null,
   "id": "eeabafbb-1d56-4eb6-9bd5-64b3f8e08fce",
   "metadata": {},
   "outputs": [],
   "source": []
  },
  {
   "cell_type": "code",
   "execution_count": 4,
   "id": "d0bcb2b9-1a4f-4834-9610-ddb11f4a6410",
   "metadata": {},
   "outputs": [
    {
     "ename": "NameError",
     "evalue": "name 'results' is not defined",
     "output_type": "error",
     "traceback": [
      "\u001b[0;31m---------------------------------------------------------------------------\u001b[0m",
      "\u001b[0;31mNameError\u001b[0m                                 Traceback (most recent call last)",
      "Cell \u001b[0;32mIn[4], line 2\u001b[0m\n\u001b[1;32m      1\u001b[0m colors \u001b[38;5;241m=\u001b[39m {\u001b[38;5;124m'\u001b[39m\u001b[38;5;124mtrn\u001b[39m\u001b[38;5;124m'\u001b[39m: \u001b[38;5;124m'\u001b[39m\u001b[38;5;124mC9\u001b[39m\u001b[38;5;124m'\u001b[39m, \u001b[38;5;124m'\u001b[39m\u001b[38;5;124mvld\u001b[39m\u001b[38;5;124m'\u001b[39m: \u001b[38;5;124m'\u001b[39m\u001b[38;5;124mC0\u001b[39m\u001b[38;5;124m'\u001b[39m, \u001b[38;5;124m'\u001b[39m\u001b[38;5;124mtst\u001b[39m\u001b[38;5;124m'\u001b[39m: \u001b[38;5;124m'\u001b[39m\u001b[38;5;124mk\u001b[39m\u001b[38;5;124m'\u001b[39m}\n\u001b[0;32m----> 2\u001b[0m \u001b[38;5;28;01mfor\u001b[39;00m name, d \u001b[38;5;129;01min\u001b[39;00m results\u001b[38;5;241m.\u001b[39mitems():\n\u001b[1;32m      3\u001b[0m     \u001b[38;5;28;01mif\u001b[39;00m name \u001b[38;5;241m!=\u001b[39m \u001b[38;5;124m'\u001b[39m\u001b[38;5;124mtrn\u001b[39m\u001b[38;5;124m'\u001b[39m:\n\u001b[1;32m      4\u001b[0m         \u001b[38;5;28mprint\u001b[39m(\u001b[38;5;124m'\u001b[39m\u001b[38;5;130;01m\\n\u001b[39;00m\u001b[38;5;130;01m\\n\u001b[39;00m\u001b[38;5;130;01m\\n\u001b[39;00m\u001b[38;5;124m'\u001b[39m)\n",
      "\u001b[0;31mNameError\u001b[0m: name 'results' is not defined"
     ]
    }
   ],
   "source": [
    "colors = {'trn': 'C9', 'vld': 'C0', 'tst': 'k'}\n",
    "for name, d in results.items():\n",
    "    if name != 'trn':\n",
    "        print('\\n\\n\\n')\n",
    "    print('_' * 110)\n",
    "    print('-' * 110)\n",
    "    print(name)\n",
    "\n",
    "    plot_convergence(d, color=colors[name])"
   ]
  },
  {
   "cell_type": "code",
   "execution_count": null,
   "id": "9fdc8800-53ef-4478-8da2-3fec32917d13",
   "metadata": {},
   "outputs": [],
   "source": []
  },
  {
   "cell_type": "code",
   "execution_count": 9,
   "id": "002d7b82-fc33-4aad-bbf0-e528fac24d45",
   "metadata": {},
   "outputs": [],
   "source": [
    "from sklearn.linear_model import LinearRegression, Ridge\n",
    "from sklearn.metrics import r2_score"
   ]
  },
  {
   "cell_type": "code",
   "execution_count": 10,
   "id": "e7c04775-b13c-4d75-ae7e-f8c17bbac12a",
   "metadata": {},
   "outputs": [],
   "source": [
    "var = 'state_final'\n",
    "\n",
    "lr = LinearRegression().fit(\n",
    "    X=results['trn'][var][:, ~dead],\n",
    "    y=results['trn']['g'][:, [1, 3]],\n",
    ")\n",
    "r2 = {\n",
    "    name: r2_score(\n",
    "        y_true=d['g'][:, [1, 3]],\n",
    "        y_pred=lr.predict(d[var][:, ~dead]),\n",
    "        multioutput='raw_values')\n",
    "    for name, d in results.items()\n",
    "}\n",
    "corr = {\n",
    "    name: 1 - np.diag(sp_dist.cdist(\n",
    "        XA=d['g'][:, [1, 3]].T,\n",
    "        XB=lr.predict(d[var][:, ~dead]).T,\n",
    "        metric='correlation',\n",
    "    )) for name, d in results.items()\n",
    "}"
   ]
  },
  {
   "cell_type": "code",
   "execution_count": 11,
   "id": "ebad92bf-ab37-4403-a8db-517b54468c15",
   "metadata": {},
   "outputs": [
    {
     "data": {
      "text/html": [
       "<pre style=\"white-space:pre;overflow-x:auto;line-height:normal;font-family:Menlo,'DejaVu Sans Mono',consolas,'Courier New',monospace\">r2:\n",
       "</pre>\n"
      ],
      "text/plain": [
       "r2:\n"
      ]
     },
     "metadata": {},
     "output_type": "display_data"
    },
    {
     "data": {
      "text/plain": [
       "{'trn': array([0.21385639, 0.19959942]),\n",
       " 'vld': array([0.20460621, 0.19410172]),\n",
       " 'tst': array([-29.22340348, -51.41092668])}"
      ]
     },
     "metadata": {},
     "output_type": "display_data"
    },
    {
     "data": {
      "text/html": [
       "<pre style=\"white-space:pre;overflow-x:auto;line-height:normal;font-family:Menlo,'DejaVu Sans Mono',consolas,'Courier New',monospace\">\n",
       "\n",
       "</pre>\n"
      ],
      "text/plain": [
       "\n",
       "\n"
      ]
     },
     "metadata": {},
     "output_type": "display_data"
    },
    {
     "data": {
      "text/html": [
       "<pre style=\"white-space:pre;overflow-x:auto;line-height:normal;font-family:Menlo,'DejaVu Sans Mono',consolas,'Courier New',monospace\">corr:\n",
       "</pre>\n"
      ],
      "text/plain": [
       "corr:\n"
      ]
     },
     "metadata": {},
     "output_type": "display_data"
    },
    {
     "data": {
      "text/plain": [
       "{'trn': array([0.46244609, 0.44676551]),\n",
       " 'vld': array([0.45291979, 0.44058487]),\n",
       " 'tst': array([ 0.07829004, -0.13608229])}"
      ]
     },
     "metadata": {},
     "output_type": "display_data"
    }
   ],
   "source": [
    "print('r2:')\n",
    "display(r2)\n",
    "print('\\n')\n",
    "print('corr:')\n",
    "display(corr)"
   ]
  },
  {
   "cell_type": "code",
   "execution_count": null,
   "id": "6ee91371-312d-44a4-bfdf-d634ffec6cd6",
   "metadata": {},
   "outputs": [],
   "source": []
  },
  {
   "cell_type": "code",
   "execution_count": 11,
   "id": "8b544ac3-dc4f-406d-b142-77ff935bea5a",
   "metadata": {},
   "outputs": [
    {
     "data": {
      "text/html": [
       "<pre style=\"white-space:pre;overflow-x:auto;line-height:normal;font-family:Menlo,'DejaVu Sans Mono',consolas,'Courier New',monospace\">r2:\n",
       "</pre>\n"
      ],
      "text/plain": [
       "r2:\n"
      ]
     },
     "metadata": {},
     "output_type": "display_data"
    },
    {
     "data": {
      "text/plain": [
       "{'trn': array([0.99632893, 0.99589208]),\n",
       " 'vld': array([0.99572993, 0.99507107]),\n",
       " 'tst': array([0.88304978, 0.86136709])}"
      ]
     },
     "metadata": {},
     "output_type": "display_data"
    },
    {
     "data": {
      "text/html": [
       "<pre style=\"white-space:pre;overflow-x:auto;line-height:normal;font-family:Menlo,'DejaVu Sans Mono',consolas,'Courier New',monospace\">\n",
       "\n",
       "</pre>\n"
      ],
      "text/plain": [
       "\n",
       "\n"
      ]
     },
     "metadata": {},
     "output_type": "display_data"
    },
    {
     "data": {
      "text/html": [
       "<pre style=\"white-space:pre;overflow-x:auto;line-height:normal;font-family:Menlo,'DejaVu Sans Mono',consolas,'Courier New',monospace\">corr:\n",
       "</pre>\n"
      ],
      "text/plain": [
       "corr:\n"
      ]
     },
     "metadata": {},
     "output_type": "display_data"
    },
    {
     "data": {
      "text/plain": [
       "{'trn': array([0.99821904, 0.99795285]),\n",
       " 'vld': array([0.99791889, 0.9975354 ]),\n",
       " 'tst': array([0.94752717, 0.93428711])}"
      ]
     },
     "metadata": {},
     "output_type": "display_data"
    }
   ],
   "source": []
  },
  {
   "cell_type": "code",
   "execution_count": null,
   "id": "9eb9051a-a0af-425d-aa15-48edd1bd9b4b",
   "metadata": {},
   "outputs": [],
   "source": []
  },
  {
   "cell_type": "code",
   "execution_count": null,
   "id": "bf28bd9b-6482-423b-b514-eecefe9edbac",
   "metadata": {},
   "outputs": [],
   "source": []
  },
  {
   "cell_type": "code",
   "execution_count": 12,
   "id": "bfe3a82d-28ae-4a09-9066-56523001a425",
   "metadata": {},
   "outputs": [
    {
     "name": "stderr",
     "output_type": "stream",
     "text": [
      "100%|███████████████████████████████████| 1/1 [00:09<00:00,  9.69s/it]\n",
      "100%|███████████████████████████████████| 1/1 [00:09<00:00,  9.87s/it]\n",
      "100%|███████████████████████████████████| 1/1 [00:09<00:00,  9.65s/it]\n"
     ]
    },
    {
     "name": "stdout",
     "output_type": "stream",
     "text": [
      "CPU times: user 42.1 s, sys: 9.45 s, total: 51.5 s\n",
      "Wall time: 36.8 s\n"
     ]
    }
   ],
   "source": [
    "%%time\n",
    "\n",
    "kws = dict(\n",
    "    seq_total=3000,\n",
    "    seq_batch_sz=1000,\n",
    "    n_data_batches=1,\n",
    "    active=~dead,\n",
    "    full_data=True,\n",
    "    verbose=True,\n",
    "    return_recon=True,\n",
    ")\n",
    "results_to_plot = {\n",
    "    name: tr.analysis(dl_name=name, **kws)\n",
    "    for name in ['trn', 'vld', 'tst']\n",
    "}"
   ]
  },
  {
   "cell_type": "code",
   "execution_count": 13,
   "id": "b7cdd19b-e72e-4e2b-ab0d-98a9a174af56",
   "metadata": {},
   "outputs": [
    {
     "data": {
      "text/html": [
       "<pre style=\"white-space:pre;overflow-x:auto;line-height:normal;font-family:Menlo,'DejaVu Sans Mono',consolas,'Courier New',monospace\">______________________________________________________________________________________________________________\n",
       "</pre>\n"
      ],
      "text/plain": [
       "______________________________________________________________________________________________________________\n"
      ]
     },
     "metadata": {},
     "output_type": "display_data"
    },
    {
     "data": {
      "text/html": [
       "<pre style=\"white-space:pre;overflow-x:auto;line-height:normal;font-family:Menlo,'DejaVu Sans Mono',consolas,'Courier New',monospace\">--------------------------------------------------------------------------------------------------------------\n",
       "</pre>\n"
      ],
      "text/plain": [
       "--------------------------------------------------------------------------------------------------------------\n"
      ]
     },
     "metadata": {},
     "output_type": "display_data"
    },
    {
     "data": {
      "text/html": [
       "<pre style=\"white-space:pre;overflow-x:auto;line-height:normal;font-family:Menlo,'DejaVu Sans Mono',consolas,'Courier New',monospace\">trn\n",
       "</pre>\n"
      ],
      "text/plain": [
       "trn\n"
      ]
     },
     "metadata": {},
     "output_type": "display_data"
    },
    {
     "data": {
      "image/png": "[encoded data removed]",
      "text/plain": [
       "<Figure size 1280x640 with 1 Axes>"
      ]
     },
     "metadata": {},
     "output_type": "display_data"
    },
    {
     "data": {
      "text/html": [
       "<pre style=\"white-space:pre;overflow-x:auto;line-height:normal;font-family:Menlo,'DejaVu Sans Mono',consolas,'Courier New',monospace\">\n",
       "\n",
       "\n",
       "\n",
       "</pre>\n"
      ],
      "text/plain": [
       "\n",
       "\n",
       "\n",
       "\n"
      ]
     },
     "metadata": {},
     "output_type": "display_data"
    },
    {
     "data": {
      "text/html": [
       "<pre style=\"white-space:pre;overflow-x:auto;line-height:normal;font-family:Menlo,'DejaVu Sans Mono',consolas,'Courier New',monospace\">______________________________________________________________________________________________________________\n",
       "</pre>\n"
      ],
      "text/plain": [
       "______________________________________________________________________________________________________________\n"
      ]
     },
     "metadata": {},
     "output_type": "display_data"
    },
    {
     "data": {
      "text/html": [
       "<pre style=\"white-space:pre;overflow-x:auto;line-height:normal;font-family:Menlo,'DejaVu Sans Mono',consolas,'Courier New',monospace\">--------------------------------------------------------------------------------------------------------------\n",
       "</pre>\n"
      ],
      "text/plain": [
       "--------------------------------------------------------------------------------------------------------------\n"
      ]
     },
     "metadata": {},
     "output_type": "display_data"
    },
    {
     "data": {
      "text/html": [
       "<pre style=\"white-space:pre;overflow-x:auto;line-height:normal;font-family:Menlo,'DejaVu Sans Mono',consolas,'Courier New',monospace\">vld\n",
       "</pre>\n"
      ],
      "text/plain": [
       "vld\n"
      ]
     },
     "metadata": {},
     "output_type": "display_data"
    },
    {
     "data": {
      "image/png": "[encoded data removed]",
      "text/plain": [
       "<Figure size 1280x640 with 1 Axes>"
      ]
     },
     "metadata": {},
     "output_type": "display_data"
    },
    {
     "data": {
      "text/html": [
       "<pre style=\"white-space:pre;overflow-x:auto;line-height:normal;font-family:Menlo,'DejaVu Sans Mono',consolas,'Courier New',monospace\">\n",
       "\n",
       "\n",
       "\n",
       "</pre>\n"
      ],
      "text/plain": [
       "\n",
       "\n",
       "\n",
       "\n"
      ]
     },
     "metadata": {},
     "output_type": "display_data"
    },
    {
     "data": {
      "text/html": [
       "<pre style=\"white-space:pre;overflow-x:auto;line-height:normal;font-family:Menlo,'DejaVu Sans Mono',consolas,'Courier New',monospace\">______________________________________________________________________________________________________________\n",
       "</pre>\n"
      ],
      "text/plain": [
       "______________________________________________________________________________________________________________\n"
      ]
     },
     "metadata": {},
     "output_type": "display_data"
    },
    {
     "data": {
      "text/html": [
       "<pre style=\"white-space:pre;overflow-x:auto;line-height:normal;font-family:Menlo,'DejaVu Sans Mono',consolas,'Courier New',monospace\">--------------------------------------------------------------------------------------------------------------\n",
       "</pre>\n"
      ],
      "text/plain": [
       "--------------------------------------------------------------------------------------------------------------\n"
      ]
     },
     "metadata": {},
     "output_type": "display_data"
    },
    {
     "data": {
      "text/html": [
       "<pre style=\"white-space:pre;overflow-x:auto;line-height:normal;font-family:Menlo,'DejaVu Sans Mono',consolas,'Courier New',monospace\">tst\n",
       "</pre>\n"
      ],
      "text/plain": [
       "tst\n"
      ]
     },
     "metadata": {},
     "output_type": "display_data"
    },
    {
     "data": {
      "image/png": "[encoded data removed]",
      "text/plain": [
       "<Figure size 1280x640 with 1 Axes>"
      ]
     },
     "metadata": {},
     "output_type": "display_data"
    }
   ],
   "source": [
    "num = 16\n",
    "shape = (tr.model.cfg.input_sz, ) * 2\n",
    "\n",
    "for name, d in results_to_plot.items():\n",
    "    if name != 'trn':\n",
    "        print('\\n\\n\\n')\n",
    "    print('_' * 110)\n",
    "    print('-' * 110)\n",
    "    print(name)\n",
    "    \n",
    "    x2p = np.concatenate([\n",
    "        d['x'][:num, 0],\n",
    "        d['y'][:num, -1].reshape(-1, *shape),\n",
    "    ])\n",
    "    _ = plot_weights(x2p, nrows=2)"
   ]
  },
  {
   "cell_type": "code",
   "execution_count": null,
   "id": "3d4e4397-4189-4fab-8747-e0d85aa8eb53",
   "metadata": {},
   "outputs": [],
   "source": []
  },
  {
   "cell_type": "code",
   "execution_count": null,
   "id": "2bf8e6a0-e730-4e1c-b20b-2920133c95ed",
   "metadata": {},
   "outputs": [],
   "source": [
    "list(d)"
   ]
  },
  {
   "cell_type": "code",
   "execution_count": null,
   "id": "cb0e54db-75e2-42cc-ae39-66ad059239e9",
   "metadata": {},
   "outputs": [],
   "source": [
    "results['tst']['z_final'][100], np.round(results['tst']['state_final'][100], 5)"
   ]
  },
  {
   "cell_type": "code",
   "execution_count": null,
   "id": "245405b0-73f4-4ec4-8719-11c93a2a1b7c",
   "metadata": {},
   "outputs": [],
   "source": [
    "plt.plot(np.exp(results['trn']['state_final'][100][~tonp(dead)]), marker='o');"
   ]
  },
  {
   "cell_type": "code",
   "execution_count": null,
   "id": "0b1d2a64-f4f2-4f03-8ea0-96e9dc95cd51",
   "metadata": {},
   "outputs": [],
   "source": [
    "plt.plot(np.exp(results['tst']['state_final'][120, ~tonp(dead)]), marker='o');"
   ]
  },
  {
   "cell_type": "code",
   "execution_count": null,
   "id": "64bf67d5-88de-4430-869d-fb0a52c0f8c3",
   "metadata": {},
   "outputs": [],
   "source": []
  },
  {
   "cell_type": "code",
   "execution_count": 15,
   "id": "d76bf884-c806-40f1-896e-08bcf36b18de",
   "metadata": {},
   "outputs": [],
   "source": []
  },
  {
   "cell_type": "code",
   "execution_count": null,
   "id": "a8a3b848-642b-42dc-b5a2-8d1ce2e5b04f",
   "metadata": {},
   "outputs": [],
   "source": []
  },
  {
   "cell_type": "code",
   "execution_count": null,
   "id": "1021d9de-7a83-4a58-bd4a-25c60e901c3b",
   "metadata": {},
   "outputs": [],
   "source": []
  },
  {
   "cell_type": "code",
   "execution_count": null,
   "id": "80561308-a28e-4d92-b823-2aafcfd5ab97",
   "metadata": {},
   "outputs": [],
   "source": []
  },
  {
   "cell_type": "markdown",
   "id": "db9447fb-f649-4b8f-bec2-8e5fec7ca011",
   "metadata": {},
   "source": [
    "## Best:\n",
    "\n",
    "- BALLS64]\n",
    "- lin\n",
    "- low beta"
   ]
  },
  {
   "cell_type": "code",
   "execution_count": 21,
   "id": "e3e96ca8-8f71-4d48-a8dd-1325a5ab4485",
   "metadata": {},
   "outputs": [
    {
     "data": {
      "text/plain": [
       "{'trn': array([0.99227716, 0.99063825]),\n",
       " 'vld': array([0.9831758 , 0.98419235]),\n",
       " 'tst': array([0.70075178, 0.63438643])}"
      ]
     },
     "execution_count": 21,
     "metadata": {},
     "output_type": "execute_result"
    }
   ],
   "source": [
    "r2"
   ]
  },
  {
   "cell_type": "code",
   "execution_count": 22,
   "id": "ed097ea3-7627-4433-9555-05196d4397cd",
   "metadata": {},
   "outputs": [
    {
     "data": {
      "text/plain": [
       "{'trn': array([0.99613414, 0.99532226]),\n",
       " 'vld': array([0.99157756, 0.99210476]),\n",
       " 'tst': array([0.8577958 , 0.84957657])}"
      ]
     },
     "execution_count": 22,
     "metadata": {},
     "output_type": "execute_result"
    }
   ],
   "source": [
    "corr"
   ]
  },
  {
   "cell_type": "code",
   "execution_count": null,
   "id": "85912cb3-47d0-4eb1-8051-9594ca2ca152",
   "metadata": {},
   "outputs": [],
   "source": []
  },
  {
   "cell_type": "code",
   "execution_count": null,
   "id": "372e1919-297d-41cf-a05d-065287c8e4af",
   "metadata": {},
   "outputs": [],
   "source": []
  },
  {
   "cell_type": "code",
   "execution_count": null,
   "id": "ee0763a7-dbfd-4963-a1c0-712bcc3c7cb0",
   "metadata": {},
   "outputs": [],
   "source": []
  },
  {
   "cell_type": "code",
   "execution_count": null,
   "id": "44148b96-bf1c-49e3-82a7-0020e8678fa3",
   "metadata": {},
   "outputs": [],
   "source": []
  }
 ],
 "metadata": {
  "kernelspec": {
   "display_name": "Python 3 (ipykernel)",
   "language": "python",
   "name": "python3"
  },
  "language_info": {
   "codemirror_mode": {
    "name": "ipython",
    "version": 3
   },
   "file_extension": ".py",
   "mimetype": "text/x-python",
   "name": "python",
   "nbconvert_exporter": "python",
   "pygments_lexer": "ipython3",
   "version": "3.11.7"
  }
 },
 "nbformat": 4,
 "nbformat_minor": 5
}
