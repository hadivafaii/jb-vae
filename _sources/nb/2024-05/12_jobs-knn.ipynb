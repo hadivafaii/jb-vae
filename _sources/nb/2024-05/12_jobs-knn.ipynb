{
 "cells": [
  {
   "cell_type": "markdown",
   "id": "48f55a35-d5b5-468f-b574-730df61e9609",
   "metadata": {},
   "source": [
    "# (12) Jobs: KNN\n",
    "\n",
    "**Motivation**: Make fig (```knn```, only conv+mnist) job runnsers as txt file. <br>"
   ]
  },
  {
   "cell_type": "code",
   "execution_count": 1,
   "id": "f823b1e9-05f2-49a0-8296-4a1819c12e81",
   "metadata": {
    "tags": [
     "hide-input"
    ]
   },
   "outputs": [],
   "source": [
    "# HIDE CODE\n",
    "\n",
    "\n",
    "import os, sys\n",
    "from IPython.display import display\n",
    "\n",
    "# tmp & extras dir\n",
    "git_dir = os.path.join(os.environ['HOME'], 'Dropbox/git')\n",
    "extras_dir = os.path.join(git_dir, 'jb-vae/_extras')\n",
    "fig_base_dir = os.path.join(git_dir, 'jb-vae/figs')\n",
    "tmp_dir = os.path.join(git_dir, 'jb-vae/tmp')\n",
    "\n",
    "# GitHub\n",
    "sys.path.insert(0, os.path.join(git_dir, '_PoissonVAE'))\n",
    "from analysis.eval import sparse_score\n",
    "from figures.fighelper import *\n",
    "from vae.train_vae import *\n",
    "\n",
    "# warnings, tqdm, & style\n",
    "warnings.filterwarnings('ignore', category=DeprecationWarning)\n",
    "warnings.filterwarnings('ignore', category=FutureWarning)\n",
    "from rich.jupyter import print\n",
    "%matplotlib inline\n",
    "set_style()"
   ]
  },
  {
   "cell_type": "markdown",
   "id": "c7256efb-c916-4111-9d10-8d923cdc0233",
   "metadata": {},
   "source": [
    "## Setup"
   ]
  },
  {
   "cell_type": "code",
   "execution_count": 2,
   "id": "c98a020f-ded3-4634-9068-722cac61089b",
   "metadata": {},
   "outputs": [],
   "source": [
    "from analysis.helper import job_runner_script\n",
    "\n",
    "\n",
    "def _cleanup(path, host=None):\n",
    "    for f in os.listdir(path):\n",
    "        cond = f.endswith('.txt')\n",
    "        if host is not None:\n",
    "            cond = cond and host in f\n",
    "        if cond:\n",
    "            os.remove(pjoin(path, f))\n",
    "\n",
    "\n",
    "def _name(host, gpu_i, fit_i):\n",
    "    return f\"{host}-cuda{gpu_i}-fit{fit_i}\"\n",
    "\n",
    "\n",
    "def divide_list(lst, n):\n",
    "    k, m = divmod(len(lst), n)\n",
    "    return [lst[i * k + min(i, m):(i + 1) * k + min(i + 1, m)] for i in range(n)]"
   ]
  },
  {
   "cell_type": "code",
   "execution_count": 3,
   "id": "50e3bee9-0d4d-4006-a11d-751a74071467",
   "metadata": {},
   "outputs": [
    {
     "data": {
      "text/html": [
       "<pre style=\"white-space:pre;overflow-x:auto;line-height:normal;font-family:Menlo,'DejaVu Sans Mono',consolas,'Courier New',monospace\"><span style=\"font-weight: bold\">[</span><span style=\"color: #008000; text-decoration-color: #008000\">'fit_vae.sh'</span>, <span style=\"color: #008000; text-decoration-color: #008000\">'resume_fit.sh'</span>, <span style=\"color: #008000; text-decoration-color: #008000\">'run_sessions.sh'</span>, <span style=\"color: #008000; text-decoration-color: #008000\">'test_tqdm.py'</span>, <span style=\"color: #008000; text-decoration-color: #008000\">'test_tqdm.sh'</span><span style=\"font-weight: bold\">]</span>\n",
       "</pre>\n"
      ],
      "text/plain": [
       "\u001b[1m[\u001b[0m\u001b[32m'fit_vae.sh'\u001b[0m, \u001b[32m'resume_fit.sh'\u001b[0m, \u001b[32m'run_sessions.sh'\u001b[0m, \u001b[32m'test_tqdm.py'\u001b[0m, \u001b[32m'test_tqdm.sh'\u001b[0m\u001b[1m]\u001b[0m\n"
      ]
     },
     "metadata": {},
     "output_type": "display_data"
    }
   ],
   "source": [
    "save_dir = 'Dropbox/git/_PoissonVAE/scripts'\n",
    "save_dir = pjoin(os.environ['HOME'], save_dir)\n",
    "os.makedirs(save_dir, exist_ok=True)\n",
    "\n",
    "_cleanup(save_dir)\n",
    "\n",
    "print(sorted(os.listdir(save_dir)))"
   ]
  },
  {
   "cell_type": "code",
   "execution_count": 4,
   "id": "efe468e0-9b68-426d-b02e-364a7fa00650",
   "metadata": {},
   "outputs": [],
   "source": [
    "n_seeds = 5\n",
    "seeds = range(1, n_seeds + 1)"
   ]
  },
  {
   "cell_type": "markdown",
   "id": "e78b2843-f3ea-4181-9c40-88ba48ea67c9",
   "metadata": {
    "jp-MarkdownHeadingCollapsed": true
   },
   "source": [
    "## KNN experiments\n",
    "\n",
    "This is a reduced set of experiments.\n",
    "- Only MNIST\n",
    "- Only CONV\n",
    "\n",
    "Explores model dimensionality: ```n_latents = 5, 10, 20, 50, 100```"
   ]
  },
  {
   "cell_type": "code",
   "execution_count": 5,
   "id": "6cee9e90-1045-40d4-bea0-ad51ae45ae6d",
   "metadata": {},
   "outputs": [],
   "source": [
    "host = 'mach'\n",
    "_cleanup(save_dir, host)\n",
    "\n",
    "n_latents = [5, 10, 20, 50, 100]\n",
    "model_types = ['poisson', 'categorical', 'gaussian', 'laplace']\n",
    "archi = 'conv+b|conv+b'\n",
    "dataset = 'MNIST'\n",
    "\n",
    "scripts_mach = collections.defaultdict(list)\n",
    "tot = 0"
   ]
  },
  {
   "cell_type": "code",
   "execution_count": 6,
   "id": "5ff20fd0-aa94-49ee-86e4-61e35cf5fc08",
   "metadata": {},
   "outputs": [],
   "source": [
    "combos_outer = itertools.product(\n",
    "    enumerate(model_types), n_latents)\n",
    "for (gpu_i, m), k in combos_outer:\n",
    "    if m == 'categorical':\n",
    "        arg = f\"--n_latents 1 --n_categories {k}\"\n",
    "    else:\n",
    "        arg = f\"--n_latents {k}\"\n",
    "    arg = f\"{arg} --cudnn_bench\"\n",
    "    for s in seeds:\n",
    "        scripts_mach[gpu_i].append(job_runner_script(\n",
    "            device=gpu_i,\n",
    "            dataset=dataset,\n",
    "            archi=archi,\n",
    "            args=arg,\n",
    "            model=m,\n",
    "            seed=s,\n",
    "        ))\n",
    "        tot += 1"
   ]
  },
  {
   "cell_type": "code",
   "execution_count": 7,
   "id": "542bd948-331c-4a0c-8ec3-ac0546e1b666",
   "metadata": {},
   "outputs": [
    {
     "data": {
      "text/html": [
       "<pre style=\"white-space:pre;overflow-x:auto;line-height:normal;font-family:Menlo,'DejaVu Sans Mono',consolas,'Courier New',monospace\"><span style=\"color: #008080; text-decoration-color: #008080; font-weight: bold\">100</span>\n",
       "</pre>\n"
      ],
      "text/plain": [
       "\u001b[1;36m100\u001b[0m\n"
      ]
     },
     "metadata": {},
     "output_type": "display_data"
    }
   ],
   "source": [
    "print(tot)"
   ]
  },
  {
   "cell_type": "code",
   "execution_count": null,
   "id": "e0fb884d-d848-4521-857d-84ba62f95f2a",
   "metadata": {},
   "outputs": [],
   "source": []
  },
  {
   "cell_type": "code",
   "execution_count": 8,
   "id": "9223bc13-c167-422d-9933-48088283413a",
   "metadata": {},
   "outputs": [
    {
     "data": {
      "text/html": [
       "<pre style=\"white-space:pre;overflow-x:auto;line-height:normal;font-family:Menlo,'DejaVu Sans Mono',consolas,'Courier New',monospace\"><span style=\"font-weight: bold\">{</span><span style=\"color: #008080; text-decoration-color: #008080; font-weight: bold\">0</span>: <span style=\"color: #008080; text-decoration-color: #008080; font-weight: bold\">25</span>, <span style=\"color: #008080; text-decoration-color: #008080; font-weight: bold\">1</span>: <span style=\"color: #008080; text-decoration-color: #008080; font-weight: bold\">25</span>, <span style=\"color: #008080; text-decoration-color: #008080; font-weight: bold\">2</span>: <span style=\"color: #008080; text-decoration-color: #008080; font-weight: bold\">25</span>, <span style=\"color: #008080; text-decoration-color: #008080; font-weight: bold\">3</span>: <span style=\"color: #008080; text-decoration-color: #008080; font-weight: bold\">25</span><span style=\"font-weight: bold\">}</span>\n",
       "</pre>\n"
      ],
      "text/plain": [
       "\u001b[1m{\u001b[0m\u001b[1;36m0\u001b[0m: \u001b[1;36m25\u001b[0m, \u001b[1;36m1\u001b[0m: \u001b[1;36m25\u001b[0m, \u001b[1;36m2\u001b[0m: \u001b[1;36m25\u001b[0m, \u001b[1;36m3\u001b[0m: \u001b[1;36m25\u001b[0m\u001b[1m}\u001b[0m\n"
      ]
     },
     "metadata": {},
     "output_type": "display_data"
    }
   ],
   "source": [
    "scripts_mach = dict(scripts_mach)\n",
    "print({k: len(v) for k, v in scripts_mach.items()})"
   ]
  },
  {
   "cell_type": "code",
   "execution_count": null,
   "id": "0fc59ac4-a23e-4e2c-8db9-7b08412c7183",
   "metadata": {},
   "outputs": [],
   "source": []
  },
  {
   "cell_type": "code",
   "execution_count": 9,
   "id": "d309ab9b-9a22-405d-aa5f-66be5571996d",
   "metadata": {},
   "outputs": [
    {
     "data": {
      "text/html": [
       "<pre style=\"white-space:pre;overflow-x:auto;line-height:normal;font-family:Menlo,'DejaVu Sans Mono',consolas,'Courier New',monospace\"><span style=\"font-weight: bold\">[</span>PROGRESS<span style=\"font-weight: bold\">]</span> <span style=\"color: #008000; text-decoration-color: #008000\">'mach-cuda0-fit0.txt'</span> saved at\n",
       "<span style=\"color: #800080; text-decoration-color: #800080\">/home/hadi/Dropbox/git/_PoissonVAE/</span><span style=\"color: #ff00ff; text-decoration-color: #ff00ff\">scripts</span>\n",
       "</pre>\n"
      ],
      "text/plain": [
       "\u001b[1m[\u001b[0mPROGRESS\u001b[1m]\u001b[0m \u001b[32m'mach-cuda0-fit0.txt'\u001b[0m saved at\n",
       "\u001b[35m/home/hadi/Dropbox/git/_PoissonVAE/\u001b[0m\u001b[95mscripts\u001b[0m\n"
      ]
     },
     "metadata": {},
     "output_type": "display_data"
    },
    {
     "data": {
      "text/html": [
       "<pre style=\"white-space:pre;overflow-x:auto;line-height:normal;font-family:Menlo,'DejaVu Sans Mono',consolas,'Courier New',monospace\"><span style=\"font-weight: bold\">[</span>PROGRESS<span style=\"font-weight: bold\">]</span> <span style=\"color: #008000; text-decoration-color: #008000\">'mach-cuda0-fit1.txt'</span> saved at\n",
       "<span style=\"color: #800080; text-decoration-color: #800080\">/home/hadi/Dropbox/git/_PoissonVAE/</span><span style=\"color: #ff00ff; text-decoration-color: #ff00ff\">scripts</span>\n",
       "</pre>\n"
      ],
      "text/plain": [
       "\u001b[1m[\u001b[0mPROGRESS\u001b[1m]\u001b[0m \u001b[32m'mach-cuda0-fit1.txt'\u001b[0m saved at\n",
       "\u001b[35m/home/hadi/Dropbox/git/_PoissonVAE/\u001b[0m\u001b[95mscripts\u001b[0m\n"
      ]
     },
     "metadata": {},
     "output_type": "display_data"
    },
    {
     "data": {
      "text/html": [
       "<pre style=\"white-space:pre;overflow-x:auto;line-height:normal;font-family:Menlo,'DejaVu Sans Mono',consolas,'Courier New',monospace\"><span style=\"font-weight: bold\">[</span>PROGRESS<span style=\"font-weight: bold\">]</span> <span style=\"color: #008000; text-decoration-color: #008000\">'mach-cuda0-fit2.txt'</span> saved at\n",
       "<span style=\"color: #800080; text-decoration-color: #800080\">/home/hadi/Dropbox/git/_PoissonVAE/</span><span style=\"color: #ff00ff; text-decoration-color: #ff00ff\">scripts</span>\n",
       "</pre>\n"
      ],
      "text/plain": [
       "\u001b[1m[\u001b[0mPROGRESS\u001b[1m]\u001b[0m \u001b[32m'mach-cuda0-fit2.txt'\u001b[0m saved at\n",
       "\u001b[35m/home/hadi/Dropbox/git/_PoissonVAE/\u001b[0m\u001b[95mscripts\u001b[0m\n"
      ]
     },
     "metadata": {},
     "output_type": "display_data"
    },
    {
     "data": {
      "text/html": [
       "<pre style=\"white-space:pre;overflow-x:auto;line-height:normal;font-family:Menlo,'DejaVu Sans Mono',consolas,'Courier New',monospace\"><span style=\"font-weight: bold\">[</span>PROGRESS<span style=\"font-weight: bold\">]</span> <span style=\"color: #008000; text-decoration-color: #008000\">'mach-cuda0-fit3.txt'</span> saved at\n",
       "<span style=\"color: #800080; text-decoration-color: #800080\">/home/hadi/Dropbox/git/_PoissonVAE/</span><span style=\"color: #ff00ff; text-decoration-color: #ff00ff\">scripts</span>\n",
       "</pre>\n"
      ],
      "text/plain": [
       "\u001b[1m[\u001b[0mPROGRESS\u001b[1m]\u001b[0m \u001b[32m'mach-cuda0-fit3.txt'\u001b[0m saved at\n",
       "\u001b[35m/home/hadi/Dropbox/git/_PoissonVAE/\u001b[0m\u001b[95mscripts\u001b[0m\n"
      ]
     },
     "metadata": {},
     "output_type": "display_data"
    },
    {
     "data": {
      "text/html": [
       "<pre style=\"white-space:pre;overflow-x:auto;line-height:normal;font-family:Menlo,'DejaVu Sans Mono',consolas,'Courier New',monospace\"><span style=\"font-weight: bold\">[</span>PROGRESS<span style=\"font-weight: bold\">]</span> <span style=\"color: #008000; text-decoration-color: #008000\">'mach-cuda0-fit4.txt'</span> saved at\n",
       "<span style=\"color: #800080; text-decoration-color: #800080\">/home/hadi/Dropbox/git/_PoissonVAE/</span><span style=\"color: #ff00ff; text-decoration-color: #ff00ff\">scripts</span>\n",
       "</pre>\n"
      ],
      "text/plain": [
       "\u001b[1m[\u001b[0mPROGRESS\u001b[1m]\u001b[0m \u001b[32m'mach-cuda0-fit4.txt'\u001b[0m saved at\n",
       "\u001b[35m/home/hadi/Dropbox/git/_PoissonVAE/\u001b[0m\u001b[95mscripts\u001b[0m\n"
      ]
     },
     "metadata": {},
     "output_type": "display_data"
    },
    {
     "data": {
      "text/html": [
       "<pre style=\"white-space:pre;overflow-x:auto;line-height:normal;font-family:Menlo,'DejaVu Sans Mono',consolas,'Courier New',monospace\"><span style=\"font-weight: bold\">[</span>PROGRESS<span style=\"font-weight: bold\">]</span> <span style=\"color: #008000; text-decoration-color: #008000\">'mach-cuda1-fit0.txt'</span> saved at\n",
       "<span style=\"color: #800080; text-decoration-color: #800080\">/home/hadi/Dropbox/git/_PoissonVAE/</span><span style=\"color: #ff00ff; text-decoration-color: #ff00ff\">scripts</span>\n",
       "</pre>\n"
      ],
      "text/plain": [
       "\u001b[1m[\u001b[0mPROGRESS\u001b[1m]\u001b[0m \u001b[32m'mach-cuda1-fit0.txt'\u001b[0m saved at\n",
       "\u001b[35m/home/hadi/Dropbox/git/_PoissonVAE/\u001b[0m\u001b[95mscripts\u001b[0m\n"
      ]
     },
     "metadata": {},
     "output_type": "display_data"
    },
    {
     "data": {
      "text/html": [
       "<pre style=\"white-space:pre;overflow-x:auto;line-height:normal;font-family:Menlo,'DejaVu Sans Mono',consolas,'Courier New',monospace\"><span style=\"font-weight: bold\">[</span>PROGRESS<span style=\"font-weight: bold\">]</span> <span style=\"color: #008000; text-decoration-color: #008000\">'mach-cuda1-fit1.txt'</span> saved at\n",
       "<span style=\"color: #800080; text-decoration-color: #800080\">/home/hadi/Dropbox/git/_PoissonVAE/</span><span style=\"color: #ff00ff; text-decoration-color: #ff00ff\">scripts</span>\n",
       "</pre>\n"
      ],
      "text/plain": [
       "\u001b[1m[\u001b[0mPROGRESS\u001b[1m]\u001b[0m \u001b[32m'mach-cuda1-fit1.txt'\u001b[0m saved at\n",
       "\u001b[35m/home/hadi/Dropbox/git/_PoissonVAE/\u001b[0m\u001b[95mscripts\u001b[0m\n"
      ]
     },
     "metadata": {},
     "output_type": "display_data"
    },
    {
     "data": {
      "text/html": [
       "<pre style=\"white-space:pre;overflow-x:auto;line-height:normal;font-family:Menlo,'DejaVu Sans Mono',consolas,'Courier New',monospace\"><span style=\"font-weight: bold\">[</span>PROGRESS<span style=\"font-weight: bold\">]</span> <span style=\"color: #008000; text-decoration-color: #008000\">'mach-cuda1-fit2.txt'</span> saved at\n",
       "<span style=\"color: #800080; text-decoration-color: #800080\">/home/hadi/Dropbox/git/_PoissonVAE/</span><span style=\"color: #ff00ff; text-decoration-color: #ff00ff\">scripts</span>\n",
       "</pre>\n"
      ],
      "text/plain": [
       "\u001b[1m[\u001b[0mPROGRESS\u001b[1m]\u001b[0m \u001b[32m'mach-cuda1-fit2.txt'\u001b[0m saved at\n",
       "\u001b[35m/home/hadi/Dropbox/git/_PoissonVAE/\u001b[0m\u001b[95mscripts\u001b[0m\n"
      ]
     },
     "metadata": {},
     "output_type": "display_data"
    },
    {
     "data": {
      "text/html": [
       "<pre style=\"white-space:pre;overflow-x:auto;line-height:normal;font-family:Menlo,'DejaVu Sans Mono',consolas,'Courier New',monospace\"><span style=\"font-weight: bold\">[</span>PROGRESS<span style=\"font-weight: bold\">]</span> <span style=\"color: #008000; text-decoration-color: #008000\">'mach-cuda1-fit3.txt'</span> saved at\n",
       "<span style=\"color: #800080; text-decoration-color: #800080\">/home/hadi/Dropbox/git/_PoissonVAE/</span><span style=\"color: #ff00ff; text-decoration-color: #ff00ff\">scripts</span>\n",
       "</pre>\n"
      ],
      "text/plain": [
       "\u001b[1m[\u001b[0mPROGRESS\u001b[1m]\u001b[0m \u001b[32m'mach-cuda1-fit3.txt'\u001b[0m saved at\n",
       "\u001b[35m/home/hadi/Dropbox/git/_PoissonVAE/\u001b[0m\u001b[95mscripts\u001b[0m\n"
      ]
     },
     "metadata": {},
     "output_type": "display_data"
    },
    {
     "data": {
      "text/html": [
       "<pre style=\"white-space:pre;overflow-x:auto;line-height:normal;font-family:Menlo,'DejaVu Sans Mono',consolas,'Courier New',monospace\"><span style=\"font-weight: bold\">[</span>PROGRESS<span style=\"font-weight: bold\">]</span> <span style=\"color: #008000; text-decoration-color: #008000\">'mach-cuda1-fit4.txt'</span> saved at\n",
       "<span style=\"color: #800080; text-decoration-color: #800080\">/home/hadi/Dropbox/git/_PoissonVAE/</span><span style=\"color: #ff00ff; text-decoration-color: #ff00ff\">scripts</span>\n",
       "</pre>\n"
      ],
      "text/plain": [
       "\u001b[1m[\u001b[0mPROGRESS\u001b[1m]\u001b[0m \u001b[32m'mach-cuda1-fit4.txt'\u001b[0m saved at\n",
       "\u001b[35m/home/hadi/Dropbox/git/_PoissonVAE/\u001b[0m\u001b[95mscripts\u001b[0m\n"
      ]
     },
     "metadata": {},
     "output_type": "display_data"
    },
    {
     "data": {
      "text/html": [
       "<pre style=\"white-space:pre;overflow-x:auto;line-height:normal;font-family:Menlo,'DejaVu Sans Mono',consolas,'Courier New',monospace\"><span style=\"font-weight: bold\">[</span>PROGRESS<span style=\"font-weight: bold\">]</span> <span style=\"color: #008000; text-decoration-color: #008000\">'mach-cuda2-fit0.txt'</span> saved at\n",
       "<span style=\"color: #800080; text-decoration-color: #800080\">/home/hadi/Dropbox/git/_PoissonVAE/</span><span style=\"color: #ff00ff; text-decoration-color: #ff00ff\">scripts</span>\n",
       "</pre>\n"
      ],
      "text/plain": [
       "\u001b[1m[\u001b[0mPROGRESS\u001b[1m]\u001b[0m \u001b[32m'mach-cuda2-fit0.txt'\u001b[0m saved at\n",
       "\u001b[35m/home/hadi/Dropbox/git/_PoissonVAE/\u001b[0m\u001b[95mscripts\u001b[0m\n"
      ]
     },
     "metadata": {},
     "output_type": "display_data"
    },
    {
     "data": {
      "text/html": [
       "<pre style=\"white-space:pre;overflow-x:auto;line-height:normal;font-family:Menlo,'DejaVu Sans Mono',consolas,'Courier New',monospace\"><span style=\"font-weight: bold\">[</span>PROGRESS<span style=\"font-weight: bold\">]</span> <span style=\"color: #008000; text-decoration-color: #008000\">'mach-cuda2-fit1.txt'</span> saved at\n",
       "<span style=\"color: #800080; text-decoration-color: #800080\">/home/hadi/Dropbox/git/_PoissonVAE/</span><span style=\"color: #ff00ff; text-decoration-color: #ff00ff\">scripts</span>\n",
       "</pre>\n"
      ],
      "text/plain": [
       "\u001b[1m[\u001b[0mPROGRESS\u001b[1m]\u001b[0m \u001b[32m'mach-cuda2-fit1.txt'\u001b[0m saved at\n",
       "\u001b[35m/home/hadi/Dropbox/git/_PoissonVAE/\u001b[0m\u001b[95mscripts\u001b[0m\n"
      ]
     },
     "metadata": {},
     "output_type": "display_data"
    },
    {
     "data": {
      "text/html": [
       "<pre style=\"white-space:pre;overflow-x:auto;line-height:normal;font-family:Menlo,'DejaVu Sans Mono',consolas,'Courier New',monospace\"><span style=\"font-weight: bold\">[</span>PROGRESS<span style=\"font-weight: bold\">]</span> <span style=\"color: #008000; text-decoration-color: #008000\">'mach-cuda2-fit2.txt'</span> saved at\n",
       "<span style=\"color: #800080; text-decoration-color: #800080\">/home/hadi/Dropbox/git/_PoissonVAE/</span><span style=\"color: #ff00ff; text-decoration-color: #ff00ff\">scripts</span>\n",
       "</pre>\n"
      ],
      "text/plain": [
       "\u001b[1m[\u001b[0mPROGRESS\u001b[1m]\u001b[0m \u001b[32m'mach-cuda2-fit2.txt'\u001b[0m saved at\n",
       "\u001b[35m/home/hadi/Dropbox/git/_PoissonVAE/\u001b[0m\u001b[95mscripts\u001b[0m\n"
      ]
     },
     "metadata": {},
     "output_type": "display_data"
    },
    {
     "data": {
      "text/html": [
       "<pre style=\"white-space:pre;overflow-x:auto;line-height:normal;font-family:Menlo,'DejaVu Sans Mono',consolas,'Courier New',monospace\"><span style=\"font-weight: bold\">[</span>PROGRESS<span style=\"font-weight: bold\">]</span> <span style=\"color: #008000; text-decoration-color: #008000\">'mach-cuda2-fit3.txt'</span> saved at\n",
       "<span style=\"color: #800080; text-decoration-color: #800080\">/home/hadi/Dropbox/git/_PoissonVAE/</span><span style=\"color: #ff00ff; text-decoration-color: #ff00ff\">scripts</span>\n",
       "</pre>\n"
      ],
      "text/plain": [
       "\u001b[1m[\u001b[0mPROGRESS\u001b[1m]\u001b[0m \u001b[32m'mach-cuda2-fit3.txt'\u001b[0m saved at\n",
       "\u001b[35m/home/hadi/Dropbox/git/_PoissonVAE/\u001b[0m\u001b[95mscripts\u001b[0m\n"
      ]
     },
     "metadata": {},
     "output_type": "display_data"
    },
    {
     "data": {
      "text/html": [
       "<pre style=\"white-space:pre;overflow-x:auto;line-height:normal;font-family:Menlo,'DejaVu Sans Mono',consolas,'Courier New',monospace\"><span style=\"font-weight: bold\">[</span>PROGRESS<span style=\"font-weight: bold\">]</span> <span style=\"color: #008000; text-decoration-color: #008000\">'mach-cuda2-fit4.txt'</span> saved at\n",
       "<span style=\"color: #800080; text-decoration-color: #800080\">/home/hadi/Dropbox/git/_PoissonVAE/</span><span style=\"color: #ff00ff; text-decoration-color: #ff00ff\">scripts</span>\n",
       "</pre>\n"
      ],
      "text/plain": [
       "\u001b[1m[\u001b[0mPROGRESS\u001b[1m]\u001b[0m \u001b[32m'mach-cuda2-fit4.txt'\u001b[0m saved at\n",
       "\u001b[35m/home/hadi/Dropbox/git/_PoissonVAE/\u001b[0m\u001b[95mscripts\u001b[0m\n"
      ]
     },
     "metadata": {},
     "output_type": "display_data"
    },
    {
     "data": {
      "text/html": [
       "<pre style=\"white-space:pre;overflow-x:auto;line-height:normal;font-family:Menlo,'DejaVu Sans Mono',consolas,'Courier New',monospace\"><span style=\"font-weight: bold\">[</span>PROGRESS<span style=\"font-weight: bold\">]</span> <span style=\"color: #008000; text-decoration-color: #008000\">'mach-cuda3-fit0.txt'</span> saved at\n",
       "<span style=\"color: #800080; text-decoration-color: #800080\">/home/hadi/Dropbox/git/_PoissonVAE/</span><span style=\"color: #ff00ff; text-decoration-color: #ff00ff\">scripts</span>\n",
       "</pre>\n"
      ],
      "text/plain": [
       "\u001b[1m[\u001b[0mPROGRESS\u001b[1m]\u001b[0m \u001b[32m'mach-cuda3-fit0.txt'\u001b[0m saved at\n",
       "\u001b[35m/home/hadi/Dropbox/git/_PoissonVAE/\u001b[0m\u001b[95mscripts\u001b[0m\n"
      ]
     },
     "metadata": {},
     "output_type": "display_data"
    },
    {
     "data": {
      "text/html": [
       "<pre style=\"white-space:pre;overflow-x:auto;line-height:normal;font-family:Menlo,'DejaVu Sans Mono',consolas,'Courier New',monospace\"><span style=\"font-weight: bold\">[</span>PROGRESS<span style=\"font-weight: bold\">]</span> <span style=\"color: #008000; text-decoration-color: #008000\">'mach-cuda3-fit1.txt'</span> saved at\n",
       "<span style=\"color: #800080; text-decoration-color: #800080\">/home/hadi/Dropbox/git/_PoissonVAE/</span><span style=\"color: #ff00ff; text-decoration-color: #ff00ff\">scripts</span>\n",
       "</pre>\n"
      ],
      "text/plain": [
       "\u001b[1m[\u001b[0mPROGRESS\u001b[1m]\u001b[0m \u001b[32m'mach-cuda3-fit1.txt'\u001b[0m saved at\n",
       "\u001b[35m/home/hadi/Dropbox/git/_PoissonVAE/\u001b[0m\u001b[95mscripts\u001b[0m\n"
      ]
     },
     "metadata": {},
     "output_type": "display_data"
    },
    {
     "data": {
      "text/html": [
       "<pre style=\"white-space:pre;overflow-x:auto;line-height:normal;font-family:Menlo,'DejaVu Sans Mono',consolas,'Courier New',monospace\"><span style=\"font-weight: bold\">[</span>PROGRESS<span style=\"font-weight: bold\">]</span> <span style=\"color: #008000; text-decoration-color: #008000\">'mach-cuda3-fit2.txt'</span> saved at\n",
       "<span style=\"color: #800080; text-decoration-color: #800080\">/home/hadi/Dropbox/git/_PoissonVAE/</span><span style=\"color: #ff00ff; text-decoration-color: #ff00ff\">scripts</span>\n",
       "</pre>\n"
      ],
      "text/plain": [
       "\u001b[1m[\u001b[0mPROGRESS\u001b[1m]\u001b[0m \u001b[32m'mach-cuda3-fit2.txt'\u001b[0m saved at\n",
       "\u001b[35m/home/hadi/Dropbox/git/_PoissonVAE/\u001b[0m\u001b[95mscripts\u001b[0m\n"
      ]
     },
     "metadata": {},
     "output_type": "display_data"
    },
    {
     "data": {
      "text/html": [
       "<pre style=\"white-space:pre;overflow-x:auto;line-height:normal;font-family:Menlo,'DejaVu Sans Mono',consolas,'Courier New',monospace\"><span style=\"font-weight: bold\">[</span>PROGRESS<span style=\"font-weight: bold\">]</span> <span style=\"color: #008000; text-decoration-color: #008000\">'mach-cuda3-fit3.txt'</span> saved at\n",
       "<span style=\"color: #800080; text-decoration-color: #800080\">/home/hadi/Dropbox/git/_PoissonVAE/</span><span style=\"color: #ff00ff; text-decoration-color: #ff00ff\">scripts</span>\n",
       "</pre>\n"
      ],
      "text/plain": [
       "\u001b[1m[\u001b[0mPROGRESS\u001b[1m]\u001b[0m \u001b[32m'mach-cuda3-fit3.txt'\u001b[0m saved at\n",
       "\u001b[35m/home/hadi/Dropbox/git/_PoissonVAE/\u001b[0m\u001b[95mscripts\u001b[0m\n"
      ]
     },
     "metadata": {},
     "output_type": "display_data"
    },
    {
     "data": {
      "text/html": [
       "<pre style=\"white-space:pre;overflow-x:auto;line-height:normal;font-family:Menlo,'DejaVu Sans Mono',consolas,'Courier New',monospace\"><span style=\"font-weight: bold\">[</span>PROGRESS<span style=\"font-weight: bold\">]</span> <span style=\"color: #008000; text-decoration-color: #008000\">'mach-cuda3-fit4.txt'</span> saved at\n",
       "<span style=\"color: #800080; text-decoration-color: #800080\">/home/hadi/Dropbox/git/_PoissonVAE/</span><span style=\"color: #ff00ff; text-decoration-color: #ff00ff\">scripts</span>\n",
       "</pre>\n"
      ],
      "text/plain": [
       "\u001b[1m[\u001b[0mPROGRESS\u001b[1m]\u001b[0m \u001b[32m'mach-cuda3-fit4.txt'\u001b[0m saved at\n",
       "\u001b[35m/home/hadi/Dropbox/git/_PoissonVAE/\u001b[0m\u001b[95mscripts\u001b[0m\n"
      ]
     },
     "metadata": {},
     "output_type": "display_data"
    }
   ],
   "source": [
    "n_fits = 5\n",
    "\n",
    "for gpu_i, scripts in scripts_mach.items():\n",
    "    scripts_divided = divide_list(scripts, n_fits)\n",
    "    for fit_i, s in enumerate(scripts_divided):\n",
    "        combined = ' && '.join(s)\n",
    "        save_obj(\n",
    "            obj=combined,\n",
    "            file_name=_name(host, gpu_i, fit_i),\n",
    "            save_dir=save_dir,\n",
    "            mode='txt',\n",
    "        )"
   ]
  },
  {
   "cell_type": "code",
   "execution_count": null,
   "id": "a6a11f75-8890-476c-a618-943fe1da1dd8",
   "metadata": {},
   "outputs": [],
   "source": []
  },
  {
   "cell_type": "code",
   "execution_count": 10,
   "id": "d2d89856-f2b0-4e7e-b239-d257bcd06310",
   "metadata": {},
   "outputs": [
    {
     "data": {
      "text/html": [
       "<pre style=\"white-space:pre;overflow-x:auto;line-height:normal;font-family:Menlo,'DejaVu Sans Mono',consolas,'Courier New',monospace\">.<span style=\"color: #800080; text-decoration-color: #800080\">/</span><span style=\"color: #ff00ff; text-decoration-color: #ff00ff\">fit_vae.sh</span> <span style=\"color: #008000; text-decoration-color: #008000\">'3'</span> <span style=\"color: #008000; text-decoration-color: #008000\">'MNIST'</span> <span style=\"color: #008000; text-decoration-color: #008000\">'laplace'</span> <span style=\"color: #008000; text-decoration-color: #008000\">'conv+b|conv+b'</span> --seed <span style=\"color: #008080; text-decoration-color: #008080; font-weight: bold\">1</span> --n_latents <span style=\"color: #008080; text-decoration-color: #008080; font-weight: bold\">100</span> --cudnn_bench &amp;&amp; \n",
       ".<span style=\"color: #800080; text-decoration-color: #800080\">/</span><span style=\"color: #ff00ff; text-decoration-color: #ff00ff\">fit_vae.sh</span> <span style=\"color: #008000; text-decoration-color: #008000\">'3'</span> <span style=\"color: #008000; text-decoration-color: #008000\">'MNIST'</span> <span style=\"color: #008000; text-decoration-color: #008000\">'laplace'</span> <span style=\"color: #008000; text-decoration-color: #008000\">'conv+b|conv+b'</span> --seed <span style=\"color: #008080; text-decoration-color: #008080; font-weight: bold\">2</span> --n_latents <span style=\"color: #008080; text-decoration-color: #008080; font-weight: bold\">100</span> --cudnn_bench &amp;&amp; \n",
       ".<span style=\"color: #800080; text-decoration-color: #800080\">/</span><span style=\"color: #ff00ff; text-decoration-color: #ff00ff\">fit_vae.sh</span> <span style=\"color: #008000; text-decoration-color: #008000\">'3'</span> <span style=\"color: #008000; text-decoration-color: #008000\">'MNIST'</span> <span style=\"color: #008000; text-decoration-color: #008000\">'laplace'</span> <span style=\"color: #008000; text-decoration-color: #008000\">'conv+b|conv+b'</span> --seed <span style=\"color: #008080; text-decoration-color: #008080; font-weight: bold\">3</span> --n_latents <span style=\"color: #008080; text-decoration-color: #008080; font-weight: bold\">100</span> --cudnn_bench &amp;&amp; \n",
       ".<span style=\"color: #800080; text-decoration-color: #800080\">/</span><span style=\"color: #ff00ff; text-decoration-color: #ff00ff\">fit_vae.sh</span> <span style=\"color: #008000; text-decoration-color: #008000\">'3'</span> <span style=\"color: #008000; text-decoration-color: #008000\">'MNIST'</span> <span style=\"color: #008000; text-decoration-color: #008000\">'laplace'</span> <span style=\"color: #008000; text-decoration-color: #008000\">'conv+b|conv+b'</span> --seed <span style=\"color: #008080; text-decoration-color: #008080; font-weight: bold\">4</span> --n_latents <span style=\"color: #008080; text-decoration-color: #008080; font-weight: bold\">100</span> --cudnn_bench &amp;&amp; \n",
       ".<span style=\"color: #800080; text-decoration-color: #800080\">/</span><span style=\"color: #ff00ff; text-decoration-color: #ff00ff\">fit_vae.sh</span> <span style=\"color: #008000; text-decoration-color: #008000\">'3'</span> <span style=\"color: #008000; text-decoration-color: #008000\">'MNIST'</span> <span style=\"color: #008000; text-decoration-color: #008000\">'laplace'</span> <span style=\"color: #008000; text-decoration-color: #008000\">'conv+b|conv+b'</span> --seed <span style=\"color: #008080; text-decoration-color: #008080; font-weight: bold\">5</span> --n_latents <span style=\"color: #008080; text-decoration-color: #008080; font-weight: bold\">100</span> --cudnn_bench\n",
       "</pre>\n"
      ],
      "text/plain": [
       ".\u001b[35m/\u001b[0m\u001b[95mfit_vae.sh\u001b[0m \u001b[32m'3'\u001b[0m \u001b[32m'MNIST'\u001b[0m \u001b[32m'laplace'\u001b[0m \u001b[32m'conv+b|conv+b'\u001b[0m --seed \u001b[1;36m1\u001b[0m --n_latents \u001b[1;36m100\u001b[0m --cudnn_bench && \n",
       ".\u001b[35m/\u001b[0m\u001b[95mfit_vae.sh\u001b[0m \u001b[32m'3'\u001b[0m \u001b[32m'MNIST'\u001b[0m \u001b[32m'laplace'\u001b[0m \u001b[32m'conv+b|conv+b'\u001b[0m --seed \u001b[1;36m2\u001b[0m --n_latents \u001b[1;36m100\u001b[0m --cudnn_bench && \n",
       ".\u001b[35m/\u001b[0m\u001b[95mfit_vae.sh\u001b[0m \u001b[32m'3'\u001b[0m \u001b[32m'MNIST'\u001b[0m \u001b[32m'laplace'\u001b[0m \u001b[32m'conv+b|conv+b'\u001b[0m --seed \u001b[1;36m3\u001b[0m --n_latents \u001b[1;36m100\u001b[0m --cudnn_bench && \n",
       ".\u001b[35m/\u001b[0m\u001b[95mfit_vae.sh\u001b[0m \u001b[32m'3'\u001b[0m \u001b[32m'MNIST'\u001b[0m \u001b[32m'laplace'\u001b[0m \u001b[32m'conv+b|conv+b'\u001b[0m --seed \u001b[1;36m4\u001b[0m --n_latents \u001b[1;36m100\u001b[0m --cudnn_bench && \n",
       ".\u001b[35m/\u001b[0m\u001b[95mfit_vae.sh\u001b[0m \u001b[32m'3'\u001b[0m \u001b[32m'MNIST'\u001b[0m \u001b[32m'laplace'\u001b[0m \u001b[32m'conv+b|conv+b'\u001b[0m --seed \u001b[1;36m5\u001b[0m --n_latents \u001b[1;36m100\u001b[0m --cudnn_bench\n"
      ]
     },
     "metadata": {},
     "output_type": "display_data"
    }
   ],
   "source": [
    "print(combined.replace('&& ', '&& \\n'))"
   ]
  },
  {
   "cell_type": "code",
   "execution_count": null,
   "id": "84b18d21-f8dc-44f4-a879-c9e8f185cff6",
   "metadata": {},
   "outputs": [],
   "source": []
  },
  {
   "cell_type": "code",
   "execution_count": 12,
   "id": "4b21b0a5-0ea7-486b-a73a-92a07d4951e7",
   "metadata": {},
   "outputs": [
    {
     "data": {
      "text/html": [
       "<pre style=\"white-space:pre;overflow-x:auto;line-height:normal;font-family:Menlo,'DejaVu Sans Mono',consolas,'Courier New',monospace\"><span style=\"font-weight: bold\">{</span>\n",
       "    <span style=\"color: #008080; text-decoration-color: #008080; font-weight: bold\">0</span>: <span style=\"font-weight: bold\">[</span>\n",
       "        <span style=\"color: #008000; text-decoration-color: #008000\">\"./fit_vae.sh '0' 'MNIST' 'poisson' 'conv+b|conv+b' --seed 1 --n_latents 5 --cudnn_bench\"</span>,\n",
       "        <span style=\"color: #008000; text-decoration-color: #008000\">\"./fit_vae.sh '0' 'MNIST' 'poisson' 'conv+b|conv+b' --seed 2 --n_latents 5 --cudnn_bench\"</span>,\n",
       "        <span style=\"color: #008000; text-decoration-color: #008000\">\"./fit_vae.sh '0' 'MNIST' 'poisson' 'conv+b|conv+b' --seed 3 --n_latents 5 --cudnn_bench\"</span>,\n",
       "        <span style=\"color: #008000; text-decoration-color: #008000\">\"./fit_vae.sh '0' 'MNIST' 'poisson' 'conv+b|conv+b' --seed 4 --n_latents 5 --cudnn_bench\"</span>,\n",
       "        <span style=\"color: #008000; text-decoration-color: #008000\">\"./fit_vae.sh '0' 'MNIST' 'poisson' 'conv+b|conv+b' --seed 5 --n_latents 5 --cudnn_bench\"</span>,\n",
       "        <span style=\"color: #008000; text-decoration-color: #008000\">\"./fit_vae.sh '0' 'MNIST' 'poisson' 'conv+b|conv+b' --seed 1 --n_latents 10 --cudnn_bench\"</span>,\n",
       "        <span style=\"color: #008000; text-decoration-color: #008000\">\"./fit_vae.sh '0' 'MNIST' 'poisson' 'conv+b|conv+b' --seed 2 --n_latents 10 --cudnn_bench\"</span>,\n",
       "        <span style=\"color: #008000; text-decoration-color: #008000\">\"./fit_vae.sh '0' 'MNIST' 'poisson' 'conv+b|conv+b' --seed 3 --n_latents 10 --cudnn_bench\"</span>,\n",
       "        <span style=\"color: #008000; text-decoration-color: #008000\">\"./fit_vae.sh '0' 'MNIST' 'poisson' 'conv+b|conv+b' --seed 4 --n_latents 10 --cudnn_bench\"</span>,\n",
       "        <span style=\"color: #008000; text-decoration-color: #008000\">\"./fit_vae.sh '0' 'MNIST' 'poisson' 'conv+b|conv+b' --seed 5 --n_latents 10 --cudnn_bench\"</span>,\n",
       "        <span style=\"color: #008000; text-decoration-color: #008000\">\"./fit_vae.sh '0' 'MNIST' 'poisson' 'conv+b|conv+b' --seed 1 --n_latents 20 --cudnn_bench\"</span>,\n",
       "        <span style=\"color: #008000; text-decoration-color: #008000\">\"./fit_vae.sh '0' 'MNIST' 'poisson' 'conv+b|conv+b' --seed 2 --n_latents 20 --cudnn_bench\"</span>,\n",
       "        <span style=\"color: #008000; text-decoration-color: #008000\">\"./fit_vae.sh '0' 'MNIST' 'poisson' 'conv+b|conv+b' --seed 3 --n_latents 20 --cudnn_bench\"</span>,\n",
       "        <span style=\"color: #008000; text-decoration-color: #008000\">\"./fit_vae.sh '0' 'MNIST' 'poisson' 'conv+b|conv+b' --seed 4 --n_latents 20 --cudnn_bench\"</span>,\n",
       "        <span style=\"color: #008000; text-decoration-color: #008000\">\"./fit_vae.sh '0' 'MNIST' 'poisson' 'conv+b|conv+b' --seed 5 --n_latents 20 --cudnn_bench\"</span>,\n",
       "        <span style=\"color: #008000; text-decoration-color: #008000\">\"./fit_vae.sh '0' 'MNIST' 'poisson' 'conv+b|conv+b' --seed 1 --n_latents 50 --cudnn_bench\"</span>,\n",
       "        <span style=\"color: #008000; text-decoration-color: #008000\">\"./fit_vae.sh '0' 'MNIST' 'poisson' 'conv+b|conv+b' --seed 2 --n_latents 50 --cudnn_bench\"</span>,\n",
       "        <span style=\"color: #008000; text-decoration-color: #008000\">\"./fit_vae.sh '0' 'MNIST' 'poisson' 'conv+b|conv+b' --seed 3 --n_latents 50 --cudnn_bench\"</span>,\n",
       "        <span style=\"color: #008000; text-decoration-color: #008000\">\"./fit_vae.sh '0' 'MNIST' 'poisson' 'conv+b|conv+b' --seed 4 --n_latents 50 --cudnn_bench\"</span>,\n",
       "        <span style=\"color: #008000; text-decoration-color: #008000\">\"./fit_vae.sh '0' 'MNIST' 'poisson' 'conv+b|conv+b' --seed 5 --n_latents 50 --cudnn_bench\"</span>,\n",
       "        <span style=\"color: #008000; text-decoration-color: #008000\">\"./fit_vae.sh '0' 'MNIST' 'poisson' 'conv+b|conv+b' --seed 1 --n_latents 100 --cudnn_bench\"</span>,\n",
       "        <span style=\"color: #008000; text-decoration-color: #008000\">\"./fit_vae.sh '0' 'MNIST' 'poisson' 'conv+b|conv+b' --seed 2 --n_latents 100 --cudnn_bench\"</span>,\n",
       "        <span style=\"color: #008000; text-decoration-color: #008000\">\"./fit_vae.sh '0' 'MNIST' 'poisson' 'conv+b|conv+b' --seed 3 --n_latents 100 --cudnn_bench\"</span>,\n",
       "        <span style=\"color: #008000; text-decoration-color: #008000\">\"./fit_vae.sh '0' 'MNIST' 'poisson' 'conv+b|conv+b' --seed 4 --n_latents 100 --cudnn_bench\"</span>,\n",
       "        <span style=\"color: #008000; text-decoration-color: #008000\">\"./fit_vae.sh '0' 'MNIST' 'poisson' 'conv+b|conv+b' --seed 5 --n_latents 100 --cudnn_bench\"</span>\n",
       "    <span style=\"font-weight: bold\">]</span>,\n",
       "    <span style=\"color: #008080; text-decoration-color: #008080; font-weight: bold\">1</span>: <span style=\"font-weight: bold\">[</span>\n",
       "        <span style=\"color: #008000; text-decoration-color: #008000\">\"./fit_vae.sh '1' 'MNIST' 'categorical' 'conv+b|conv+b' --seed 1 --n_latents 1 --n_categories 5 </span>\n",
       "<span style=\"color: #008000; text-decoration-color: #008000\">--cudnn_bench\"</span>,\n",
       "        <span style=\"color: #008000; text-decoration-color: #008000\">\"./fit_vae.sh '1' 'MNIST' 'categorical' 'conv+b|conv+b' --seed 2 --n_latents 1 --n_categories 5 </span>\n",
       "<span style=\"color: #008000; text-decoration-color: #008000\">--cudnn_bench\"</span>,\n",
       "        <span style=\"color: #008000; text-decoration-color: #008000\">\"./fit_vae.sh '1' 'MNIST' 'categorical' 'conv+b|conv+b' --seed 3 --n_latents 1 --n_categories 5 </span>\n",
       "<span style=\"color: #008000; text-decoration-color: #008000\">--cudnn_bench\"</span>,\n",
       "        <span style=\"color: #008000; text-decoration-color: #008000\">\"./fit_vae.sh '1' 'MNIST' 'categorical' 'conv+b|conv+b' --seed 4 --n_latents 1 --n_categories 5 </span>\n",
       "<span style=\"color: #008000; text-decoration-color: #008000\">--cudnn_bench\"</span>,\n",
       "        <span style=\"color: #008000; text-decoration-color: #008000\">\"./fit_vae.sh '1' 'MNIST' 'categorical' 'conv+b|conv+b' --seed 5 --n_latents 1 --n_categories 5 </span>\n",
       "<span style=\"color: #008000; text-decoration-color: #008000\">--cudnn_bench\"</span>,\n",
       "        <span style=\"color: #008000; text-decoration-color: #008000\">\"./fit_vae.sh '1' 'MNIST' 'categorical' 'conv+b|conv+b' --seed 1 --n_latents 1 --n_categories 10 </span>\n",
       "<span style=\"color: #008000; text-decoration-color: #008000\">--cudnn_bench\"</span>,\n",
       "        <span style=\"color: #008000; text-decoration-color: #008000\">\"./fit_vae.sh '1' 'MNIST' 'categorical' 'conv+b|conv+b' --seed 2 --n_latents 1 --n_categories 10 </span>\n",
       "<span style=\"color: #008000; text-decoration-color: #008000\">--cudnn_bench\"</span>,\n",
       "        <span style=\"color: #008000; text-decoration-color: #008000\">\"./fit_vae.sh '1' 'MNIST' 'categorical' 'conv+b|conv+b' --seed 3 --n_latents 1 --n_categories 10 </span>\n",
       "<span style=\"color: #008000; text-decoration-color: #008000\">--cudnn_bench\"</span>,\n",
       "        <span style=\"color: #008000; text-decoration-color: #008000\">\"./fit_vae.sh '1' 'MNIST' 'categorical' 'conv+b|conv+b' --seed 4 --n_latents 1 --n_categories 10 </span>\n",
       "<span style=\"color: #008000; text-decoration-color: #008000\">--cudnn_bench\"</span>,\n",
       "        <span style=\"color: #008000; text-decoration-color: #008000\">\"./fit_vae.sh '1' 'MNIST' 'categorical' 'conv+b|conv+b' --seed 5 --n_latents 1 --n_categories 10 </span>\n",
       "<span style=\"color: #008000; text-decoration-color: #008000\">--cudnn_bench\"</span>,\n",
       "        <span style=\"color: #008000; text-decoration-color: #008000\">\"./fit_vae.sh '1' 'MNIST' 'categorical' 'conv+b|conv+b' --seed 1 --n_latents 1 --n_categories 20 </span>\n",
       "<span style=\"color: #008000; text-decoration-color: #008000\">--cudnn_bench\"</span>,\n",
       "        <span style=\"color: #008000; text-decoration-color: #008000\">\"./fit_vae.sh '1' 'MNIST' 'categorical' 'conv+b|conv+b' --seed 2 --n_latents 1 --n_categories 20 </span>\n",
       "<span style=\"color: #008000; text-decoration-color: #008000\">--cudnn_bench\"</span>,\n",
       "        <span style=\"color: #008000; text-decoration-color: #008000\">\"./fit_vae.sh '1' 'MNIST' 'categorical' 'conv+b|conv+b' --seed 3 --n_latents 1 --n_categories 20 </span>\n",
       "<span style=\"color: #008000; text-decoration-color: #008000\">--cudnn_bench\"</span>,\n",
       "        <span style=\"color: #008000; text-decoration-color: #008000\">\"./fit_vae.sh '1' 'MNIST' 'categorical' 'conv+b|conv+b' --seed 4 --n_latents 1 --n_categories 20 </span>\n",
       "<span style=\"color: #008000; text-decoration-color: #008000\">--cudnn_bench\"</span>,\n",
       "        <span style=\"color: #008000; text-decoration-color: #008000\">\"./fit_vae.sh '1' 'MNIST' 'categorical' 'conv+b|conv+b' --seed 5 --n_latents 1 --n_categories 20 </span>\n",
       "<span style=\"color: #008000; text-decoration-color: #008000\">--cudnn_bench\"</span>,\n",
       "        <span style=\"color: #008000; text-decoration-color: #008000\">\"./fit_vae.sh '1' 'MNIST' 'categorical' 'conv+b|conv+b' --seed 1 --n_latents 1 --n_categories 50 </span>\n",
       "<span style=\"color: #008000; text-decoration-color: #008000\">--cudnn_bench\"</span>,\n",
       "        <span style=\"color: #008000; text-decoration-color: #008000\">\"./fit_vae.sh '1' 'MNIST' 'categorical' 'conv+b|conv+b' --seed 2 --n_latents 1 --n_categories 50 </span>\n",
       "<span style=\"color: #008000; text-decoration-color: #008000\">--cudnn_bench\"</span>,\n",
       "        <span style=\"color: #008000; text-decoration-color: #008000\">\"./fit_vae.sh '1' 'MNIST' 'categorical' 'conv+b|conv+b' --seed 3 --n_latents 1 --n_categories 50 </span>\n",
       "<span style=\"color: #008000; text-decoration-color: #008000\">--cudnn_bench\"</span>,\n",
       "        <span style=\"color: #008000; text-decoration-color: #008000\">\"./fit_vae.sh '1' 'MNIST' 'categorical' 'conv+b|conv+b' --seed 4 --n_latents 1 --n_categories 50 </span>\n",
       "<span style=\"color: #008000; text-decoration-color: #008000\">--cudnn_bench\"</span>,\n",
       "        <span style=\"color: #008000; text-decoration-color: #008000\">\"./fit_vae.sh '1' 'MNIST' 'categorical' 'conv+b|conv+b' --seed 5 --n_latents 1 --n_categories 50 </span>\n",
       "<span style=\"color: #008000; text-decoration-color: #008000\">--cudnn_bench\"</span>,\n",
       "        <span style=\"color: #008000; text-decoration-color: #008000\">\"./fit_vae.sh '1' 'MNIST' 'categorical' 'conv+b|conv+b' --seed 1 --n_latents 1 --n_categories 100 </span>\n",
       "<span style=\"color: #008000; text-decoration-color: #008000\">--cudnn_bench\"</span>,\n",
       "        <span style=\"color: #008000; text-decoration-color: #008000\">\"./fit_vae.sh '1' 'MNIST' 'categorical' 'conv+b|conv+b' --seed 2 --n_latents 1 --n_categories 100 </span>\n",
       "<span style=\"color: #008000; text-decoration-color: #008000\">--cudnn_bench\"</span>,\n",
       "        <span style=\"color: #008000; text-decoration-color: #008000\">\"./fit_vae.sh '1' 'MNIST' 'categorical' 'conv+b|conv+b' --seed 3 --n_latents 1 --n_categories 100 </span>\n",
       "<span style=\"color: #008000; text-decoration-color: #008000\">--cudnn_bench\"</span>,\n",
       "        <span style=\"color: #008000; text-decoration-color: #008000\">\"./fit_vae.sh '1' 'MNIST' 'categorical' 'conv+b|conv+b' --seed 4 --n_latents 1 --n_categories 100 </span>\n",
       "<span style=\"color: #008000; text-decoration-color: #008000\">--cudnn_bench\"</span>,\n",
       "        <span style=\"color: #008000; text-decoration-color: #008000\">\"./fit_vae.sh '1' 'MNIST' 'categorical' 'conv+b|conv+b' --seed 5 --n_latents 1 --n_categories 100 </span>\n",
       "<span style=\"color: #008000; text-decoration-color: #008000\">--cudnn_bench\"</span>\n",
       "    <span style=\"font-weight: bold\">]</span>,\n",
       "    <span style=\"color: #008080; text-decoration-color: #008080; font-weight: bold\">2</span>: <span style=\"font-weight: bold\">[</span>\n",
       "        <span style=\"color: #008000; text-decoration-color: #008000\">\"./fit_vae.sh '2' 'MNIST' 'gaussian' 'conv+b|conv+b' --seed 1 --n_latents 5 --cudnn_bench\"</span>,\n",
       "        <span style=\"color: #008000; text-decoration-color: #008000\">\"./fit_vae.sh '2' 'MNIST' 'gaussian' 'conv+b|conv+b' --seed 2 --n_latents 5 --cudnn_bench\"</span>,\n",
       "        <span style=\"color: #008000; text-decoration-color: #008000\">\"./fit_vae.sh '2' 'MNIST' 'gaussian' 'conv+b|conv+b' --seed 3 --n_latents 5 --cudnn_bench\"</span>,\n",
       "        <span style=\"color: #008000; text-decoration-color: #008000\">\"./fit_vae.sh '2' 'MNIST' 'gaussian' 'conv+b|conv+b' --seed 4 --n_latents 5 --cudnn_bench\"</span>,\n",
       "        <span style=\"color: #008000; text-decoration-color: #008000\">\"./fit_vae.sh '2' 'MNIST' 'gaussian' 'conv+b|conv+b' --seed 5 --n_latents 5 --cudnn_bench\"</span>,\n",
       "        <span style=\"color: #008000; text-decoration-color: #008000\">\"./fit_vae.sh '2' 'MNIST' 'gaussian' 'conv+b|conv+b' --seed 1 --n_latents 10 --cudnn_bench\"</span>,\n",
       "        <span style=\"color: #008000; text-decoration-color: #008000\">\"./fit_vae.sh '2' 'MNIST' 'gaussian' 'conv+b|conv+b' --seed 2 --n_latents 10 --cudnn_bench\"</span>,\n",
       "        <span style=\"color: #008000; text-decoration-color: #008000\">\"./fit_vae.sh '2' 'MNIST' 'gaussian' 'conv+b|conv+b' --seed 3 --n_latents 10 --cudnn_bench\"</span>,\n",
       "        <span style=\"color: #008000; text-decoration-color: #008000\">\"./fit_vae.sh '2' 'MNIST' 'gaussian' 'conv+b|conv+b' --seed 4 --n_latents 10 --cudnn_bench\"</span>,\n",
       "        <span style=\"color: #008000; text-decoration-color: #008000\">\"./fit_vae.sh '2' 'MNIST' 'gaussian' 'conv+b|conv+b' --seed 5 --n_latents 10 --cudnn_bench\"</span>,\n",
       "        <span style=\"color: #008000; text-decoration-color: #008000\">\"./fit_vae.sh '2' 'MNIST' 'gaussian' 'conv+b|conv+b' --seed 1 --n_latents 20 --cudnn_bench\"</span>,\n",
       "        <span style=\"color: #008000; text-decoration-color: #008000\">\"./fit_vae.sh '2' 'MNIST' 'gaussian' 'conv+b|conv+b' --seed 2 --n_latents 20 --cudnn_bench\"</span>,\n",
       "        <span style=\"color: #008000; text-decoration-color: #008000\">\"./fit_vae.sh '2' 'MNIST' 'gaussian' 'conv+b|conv+b' --seed 3 --n_latents 20 --cudnn_bench\"</span>,\n",
       "        <span style=\"color: #008000; text-decoration-color: #008000\">\"./fit_vae.sh '2' 'MNIST' 'gaussian' 'conv+b|conv+b' --seed 4 --n_latents 20 --cudnn_bench\"</span>,\n",
       "        <span style=\"color: #008000; text-decoration-color: #008000\">\"./fit_vae.sh '2' 'MNIST' 'gaussian' 'conv+b|conv+b' --seed 5 --n_latents 20 --cudnn_bench\"</span>,\n",
       "        <span style=\"color: #008000; text-decoration-color: #008000\">\"./fit_vae.sh '2' 'MNIST' 'gaussian' 'conv+b|conv+b' --seed 1 --n_latents 50 --cudnn_bench\"</span>,\n",
       "        <span style=\"color: #008000; text-decoration-color: #008000\">\"./fit_vae.sh '2' 'MNIST' 'gaussian' 'conv+b|conv+b' --seed 2 --n_latents 50 --cudnn_bench\"</span>,\n",
       "        <span style=\"color: #008000; text-decoration-color: #008000\">\"./fit_vae.sh '2' 'MNIST' 'gaussian' 'conv+b|conv+b' --seed 3 --n_latents 50 --cudnn_bench\"</span>,\n",
       "        <span style=\"color: #008000; text-decoration-color: #008000\">\"./fit_vae.sh '2' 'MNIST' 'gaussian' 'conv+b|conv+b' --seed 4 --n_latents 50 --cudnn_bench\"</span>,\n",
       "        <span style=\"color: #008000; text-decoration-color: #008000\">\"./fit_vae.sh '2' 'MNIST' 'gaussian' 'conv+b|conv+b' --seed 5 --n_latents 50 --cudnn_bench\"</span>,\n",
       "        <span style=\"color: #008000; text-decoration-color: #008000\">\"./fit_vae.sh '2' 'MNIST' 'gaussian' 'conv+b|conv+b' --seed 1 --n_latents 100 --cudnn_bench\"</span>,\n",
       "        <span style=\"color: #008000; text-decoration-color: #008000\">\"./fit_vae.sh '2' 'MNIST' 'gaussian' 'conv+b|conv+b' --seed 2 --n_latents 100 --cudnn_bench\"</span>,\n",
       "        <span style=\"color: #008000; text-decoration-color: #008000\">\"./fit_vae.sh '2' 'MNIST' 'gaussian' 'conv+b|conv+b' --seed 3 --n_latents 100 --cudnn_bench\"</span>,\n",
       "        <span style=\"color: #008000; text-decoration-color: #008000\">\"./fit_vae.sh '2' 'MNIST' 'gaussian' 'conv+b|conv+b' --seed 4 --n_latents 100 --cudnn_bench\"</span>,\n",
       "        <span style=\"color: #008000; text-decoration-color: #008000\">\"./fit_vae.sh '2' 'MNIST' 'gaussian' 'conv+b|conv+b' --seed 5 --n_latents 100 --cudnn_bench\"</span>\n",
       "    <span style=\"font-weight: bold\">]</span>,\n",
       "    <span style=\"color: #008080; text-decoration-color: #008080; font-weight: bold\">3</span>: <span style=\"font-weight: bold\">[</span>\n",
       "        <span style=\"color: #008000; text-decoration-color: #008000\">\"./fit_vae.sh '3' 'MNIST' 'laplace' 'conv+b|conv+b' --seed 1 --n_latents 5 --cudnn_bench\"</span>,\n",
       "        <span style=\"color: #008000; text-decoration-color: #008000\">\"./fit_vae.sh '3' 'MNIST' 'laplace' 'conv+b|conv+b' --seed 2 --n_latents 5 --cudnn_bench\"</span>,\n",
       "        <span style=\"color: #008000; text-decoration-color: #008000\">\"./fit_vae.sh '3' 'MNIST' 'laplace' 'conv+b|conv+b' --seed 3 --n_latents 5 --cudnn_bench\"</span>,\n",
       "        <span style=\"color: #008000; text-decoration-color: #008000\">\"./fit_vae.sh '3' 'MNIST' 'laplace' 'conv+b|conv+b' --seed 4 --n_latents 5 --cudnn_bench\"</span>,\n",
       "        <span style=\"color: #008000; text-decoration-color: #008000\">\"./fit_vae.sh '3' 'MNIST' 'laplace' 'conv+b|conv+b' --seed 5 --n_latents 5 --cudnn_bench\"</span>,\n",
       "        <span style=\"color: #008000; text-decoration-color: #008000\">\"./fit_vae.sh '3' 'MNIST' 'laplace' 'conv+b|conv+b' --seed 1 --n_latents 10 --cudnn_bench\"</span>,\n",
       "        <span style=\"color: #008000; text-decoration-color: #008000\">\"./fit_vae.sh '3' 'MNIST' 'laplace' 'conv+b|conv+b' --seed 2 --n_latents 10 --cudnn_bench\"</span>,\n",
       "        <span style=\"color: #008000; text-decoration-color: #008000\">\"./fit_vae.sh '3' 'MNIST' 'laplace' 'conv+b|conv+b' --seed 3 --n_latents 10 --cudnn_bench\"</span>,\n",
       "        <span style=\"color: #008000; text-decoration-color: #008000\">\"./fit_vae.sh '3' 'MNIST' 'laplace' 'conv+b|conv+b' --seed 4 --n_latents 10 --cudnn_bench\"</span>,\n",
       "        <span style=\"color: #008000; text-decoration-color: #008000\">\"./fit_vae.sh '3' 'MNIST' 'laplace' 'conv+b|conv+b' --seed 5 --n_latents 10 --cudnn_bench\"</span>,\n",
       "        <span style=\"color: #008000; text-decoration-color: #008000\">\"./fit_vae.sh '3' 'MNIST' 'laplace' 'conv+b|conv+b' --seed 1 --n_latents 20 --cudnn_bench\"</span>,\n",
       "        <span style=\"color: #008000; text-decoration-color: #008000\">\"./fit_vae.sh '3' 'MNIST' 'laplace' 'conv+b|conv+b' --seed 2 --n_latents 20 --cudnn_bench\"</span>,\n",
       "        <span style=\"color: #008000; text-decoration-color: #008000\">\"./fit_vae.sh '3' 'MNIST' 'laplace' 'conv+b|conv+b' --seed 3 --n_latents 20 --cudnn_bench\"</span>,\n",
       "        <span style=\"color: #008000; text-decoration-color: #008000\">\"./fit_vae.sh '3' 'MNIST' 'laplace' 'conv+b|conv+b' --seed 4 --n_latents 20 --cudnn_bench\"</span>,\n",
       "        <span style=\"color: #008000; text-decoration-color: #008000\">\"./fit_vae.sh '3' 'MNIST' 'laplace' 'conv+b|conv+b' --seed 5 --n_latents 20 --cudnn_bench\"</span>,\n",
       "        <span style=\"color: #008000; text-decoration-color: #008000\">\"./fit_vae.sh '3' 'MNIST' 'laplace' 'conv+b|conv+b' --seed 1 --n_latents 50 --cudnn_bench\"</span>,\n",
       "        <span style=\"color: #008000; text-decoration-color: #008000\">\"./fit_vae.sh '3' 'MNIST' 'laplace' 'conv+b|conv+b' --seed 2 --n_latents 50 --cudnn_bench\"</span>,\n",
       "        <span style=\"color: #008000; text-decoration-color: #008000\">\"./fit_vae.sh '3' 'MNIST' 'laplace' 'conv+b|conv+b' --seed 3 --n_latents 50 --cudnn_bench\"</span>,\n",
       "        <span style=\"color: #008000; text-decoration-color: #008000\">\"./fit_vae.sh '3' 'MNIST' 'laplace' 'conv+b|conv+b' --seed 4 --n_latents 50 --cudnn_bench\"</span>,\n",
       "        <span style=\"color: #008000; text-decoration-color: #008000\">\"./fit_vae.sh '3' 'MNIST' 'laplace' 'conv+b|conv+b' --seed 5 --n_latents 50 --cudnn_bench\"</span>,\n",
       "        <span style=\"color: #008000; text-decoration-color: #008000\">\"./fit_vae.sh '3' 'MNIST' 'laplace' 'conv+b|conv+b' --seed 1 --n_latents 100 --cudnn_bench\"</span>,\n",
       "        <span style=\"color: #008000; text-decoration-color: #008000\">\"./fit_vae.sh '3' 'MNIST' 'laplace' 'conv+b|conv+b' --seed 2 --n_latents 100 --cudnn_bench\"</span>,\n",
       "        <span style=\"color: #008000; text-decoration-color: #008000\">\"./fit_vae.sh '3' 'MNIST' 'laplace' 'conv+b|conv+b' --seed 3 --n_latents 100 --cudnn_bench\"</span>,\n",
       "        <span style=\"color: #008000; text-decoration-color: #008000\">\"./fit_vae.sh '3' 'MNIST' 'laplace' 'conv+b|conv+b' --seed 4 --n_latents 100 --cudnn_bench\"</span>,\n",
       "        <span style=\"color: #008000; text-decoration-color: #008000\">\"./fit_vae.sh '3' 'MNIST' 'laplace' 'conv+b|conv+b' --seed 5 --n_latents 100 --cudnn_bench\"</span>\n",
       "    <span style=\"font-weight: bold\">]</span>\n",
       "<span style=\"font-weight: bold\">}</span>\n",
       "</pre>\n"
      ],
      "text/plain": [
       "\u001b[1m{\u001b[0m\n",
       "    \u001b[1;36m0\u001b[0m: \u001b[1m[\u001b[0m\n",
       "        \u001b[32m\"./fit_vae.sh '0' 'MNIST' 'poisson' 'conv+b|conv+b' --seed 1 --n_latents 5 --cudnn_bench\"\u001b[0m,\n",
       "        \u001b[32m\"./fit_vae.sh '0' 'MNIST' 'poisson' 'conv+b|conv+b' --seed 2 --n_latents 5 --cudnn_bench\"\u001b[0m,\n",
       "        \u001b[32m\"./fit_vae.sh '0' 'MNIST' 'poisson' 'conv+b|conv+b' --seed 3 --n_latents 5 --cudnn_bench\"\u001b[0m,\n",
       "        \u001b[32m\"./fit_vae.sh '0' 'MNIST' 'poisson' 'conv+b|conv+b' --seed 4 --n_latents 5 --cudnn_bench\"\u001b[0m,\n",
       "        \u001b[32m\"./fit_vae.sh '0' 'MNIST' 'poisson' 'conv+b|conv+b' --seed 5 --n_latents 5 --cudnn_bench\"\u001b[0m,\n",
       "        \u001b[32m\"./fit_vae.sh '0' 'MNIST' 'poisson' 'conv+b|conv+b' --seed 1 --n_latents 10 --cudnn_bench\"\u001b[0m,\n",
       "        \u001b[32m\"./fit_vae.sh '0' 'MNIST' 'poisson' 'conv+b|conv+b' --seed 2 --n_latents 10 --cudnn_bench\"\u001b[0m,\n",
       "        \u001b[32m\"./fit_vae.sh '0' 'MNIST' 'poisson' 'conv+b|conv+b' --seed 3 --n_latents 10 --cudnn_bench\"\u001b[0m,\n",
       "        \u001b[32m\"./fit_vae.sh '0' 'MNIST' 'poisson' 'conv+b|conv+b' --seed 4 --n_latents 10 --cudnn_bench\"\u001b[0m,\n",
       "        \u001b[32m\"./fit_vae.sh '0' 'MNIST' 'poisson' 'conv+b|conv+b' --seed 5 --n_latents 10 --cudnn_bench\"\u001b[0m,\n",
       "        \u001b[32m\"./fit_vae.sh '0' 'MNIST' 'poisson' 'conv+b|conv+b' --seed 1 --n_latents 20 --cudnn_bench\"\u001b[0m,\n",
       "        \u001b[32m\"./fit_vae.sh '0' 'MNIST' 'poisson' 'conv+b|conv+b' --seed 2 --n_latents 20 --cudnn_bench\"\u001b[0m,\n",
       "        \u001b[32m\"./fit_vae.sh '0' 'MNIST' 'poisson' 'conv+b|conv+b' --seed 3 --n_latents 20 --cudnn_bench\"\u001b[0m,\n",
       "        \u001b[32m\"./fit_vae.sh '0' 'MNIST' 'poisson' 'conv+b|conv+b' --seed 4 --n_latents 20 --cudnn_bench\"\u001b[0m,\n",
       "        \u001b[32m\"./fit_vae.sh '0' 'MNIST' 'poisson' 'conv+b|conv+b' --seed 5 --n_latents 20 --cudnn_bench\"\u001b[0m,\n",
       "        \u001b[32m\"./fit_vae.sh '0' 'MNIST' 'poisson' 'conv+b|conv+b' --seed 1 --n_latents 50 --cudnn_bench\"\u001b[0m,\n",
       "        \u001b[32m\"./fit_vae.sh '0' 'MNIST' 'poisson' 'conv+b|conv+b' --seed 2 --n_latents 50 --cudnn_bench\"\u001b[0m,\n",
       "        \u001b[32m\"./fit_vae.sh '0' 'MNIST' 'poisson' 'conv+b|conv+b' --seed 3 --n_latents 50 --cudnn_bench\"\u001b[0m,\n",
       "        \u001b[32m\"./fit_vae.sh '0' 'MNIST' 'poisson' 'conv+b|conv+b' --seed 4 --n_latents 50 --cudnn_bench\"\u001b[0m,\n",
       "        \u001b[32m\"./fit_vae.sh '0' 'MNIST' 'poisson' 'conv+b|conv+b' --seed 5 --n_latents 50 --cudnn_bench\"\u001b[0m,\n",
       "        \u001b[32m\"./fit_vae.sh '0' 'MNIST' 'poisson' 'conv+b|conv+b' --seed 1 --n_latents 100 --cudnn_bench\"\u001b[0m,\n",
       "        \u001b[32m\"./fit_vae.sh '0' 'MNIST' 'poisson' 'conv+b|conv+b' --seed 2 --n_latents 100 --cudnn_bench\"\u001b[0m,\n",
       "        \u001b[32m\"./fit_vae.sh '0' 'MNIST' 'poisson' 'conv+b|conv+b' --seed 3 --n_latents 100 --cudnn_bench\"\u001b[0m,\n",
       "        \u001b[32m\"./fit_vae.sh '0' 'MNIST' 'poisson' 'conv+b|conv+b' --seed 4 --n_latents 100 --cudnn_bench\"\u001b[0m,\n",
       "        \u001b[32m\"./fit_vae.sh '0' 'MNIST' 'poisson' 'conv+b|conv+b' --seed 5 --n_latents 100 --cudnn_bench\"\u001b[0m\n",
       "    \u001b[1m]\u001b[0m,\n",
       "    \u001b[1;36m1\u001b[0m: \u001b[1m[\u001b[0m\n",
       "        \u001b[32m\"./fit_vae.sh '1' 'MNIST' 'categorical' 'conv+b|conv+b' --seed 1 --n_latents 1 --n_categories 5 \u001b[0m\n",
       "\u001b[32m--cudnn_bench\"\u001b[0m,\n",
       "        \u001b[32m\"./fit_vae.sh '1' 'MNIST' 'categorical' 'conv+b|conv+b' --seed 2 --n_latents 1 --n_categories 5 \u001b[0m\n",
       "\u001b[32m--cudnn_bench\"\u001b[0m,\n",
       "        \u001b[32m\"./fit_vae.sh '1' 'MNIST' 'categorical' 'conv+b|conv+b' --seed 3 --n_latents 1 --n_categories 5 \u001b[0m\n",
       "\u001b[32m--cudnn_bench\"\u001b[0m,\n",
       "        \u001b[32m\"./fit_vae.sh '1' 'MNIST' 'categorical' 'conv+b|conv+b' --seed 4 --n_latents 1 --n_categories 5 \u001b[0m\n",
       "\u001b[32m--cudnn_bench\"\u001b[0m,\n",
       "        \u001b[32m\"./fit_vae.sh '1' 'MNIST' 'categorical' 'conv+b|conv+b' --seed 5 --n_latents 1 --n_categories 5 \u001b[0m\n",
       "\u001b[32m--cudnn_bench\"\u001b[0m,\n",
       "        \u001b[32m\"./fit_vae.sh '1' 'MNIST' 'categorical' 'conv+b|conv+b' --seed 1 --n_latents 1 --n_categories 10 \u001b[0m\n",
       "\u001b[32m--cudnn_bench\"\u001b[0m,\n",
       "        \u001b[32m\"./fit_vae.sh '1' 'MNIST' 'categorical' 'conv+b|conv+b' --seed 2 --n_latents 1 --n_categories 10 \u001b[0m\n",
       "\u001b[32m--cudnn_bench\"\u001b[0m,\n",
       "        \u001b[32m\"./fit_vae.sh '1' 'MNIST' 'categorical' 'conv+b|conv+b' --seed 3 --n_latents 1 --n_categories 10 \u001b[0m\n",
       "\u001b[32m--cudnn_bench\"\u001b[0m,\n",
       "        \u001b[32m\"./fit_vae.sh '1' 'MNIST' 'categorical' 'conv+b|conv+b' --seed 4 --n_latents 1 --n_categories 10 \u001b[0m\n",
       "\u001b[32m--cudnn_bench\"\u001b[0m,\n",
       "        \u001b[32m\"./fit_vae.sh '1' 'MNIST' 'categorical' 'conv+b|conv+b' --seed 5 --n_latents 1 --n_categories 10 \u001b[0m\n",
       "\u001b[32m--cudnn_bench\"\u001b[0m,\n",
       "        \u001b[32m\"./fit_vae.sh '1' 'MNIST' 'categorical' 'conv+b|conv+b' --seed 1 --n_latents 1 --n_categories 20 \u001b[0m\n",
       "\u001b[32m--cudnn_bench\"\u001b[0m,\n",
       "        \u001b[32m\"./fit_vae.sh '1' 'MNIST' 'categorical' 'conv+b|conv+b' --seed 2 --n_latents 1 --n_categories 20 \u001b[0m\n",
       "\u001b[32m--cudnn_bench\"\u001b[0m,\n",
       "        \u001b[32m\"./fit_vae.sh '1' 'MNIST' 'categorical' 'conv+b|conv+b' --seed 3 --n_latents 1 --n_categories 20 \u001b[0m\n",
       "\u001b[32m--cudnn_bench\"\u001b[0m,\n",
       "        \u001b[32m\"./fit_vae.sh '1' 'MNIST' 'categorical' 'conv+b|conv+b' --seed 4 --n_latents 1 --n_categories 20 \u001b[0m\n",
       "\u001b[32m--cudnn_bench\"\u001b[0m,\n",
       "        \u001b[32m\"./fit_vae.sh '1' 'MNIST' 'categorical' 'conv+b|conv+b' --seed 5 --n_latents 1 --n_categories 20 \u001b[0m\n",
       "\u001b[32m--cudnn_bench\"\u001b[0m,\n",
       "        \u001b[32m\"./fit_vae.sh '1' 'MNIST' 'categorical' 'conv+b|conv+b' --seed 1 --n_latents 1 --n_categories 50 \u001b[0m\n",
       "\u001b[32m--cudnn_bench\"\u001b[0m,\n",
       "        \u001b[32m\"./fit_vae.sh '1' 'MNIST' 'categorical' 'conv+b|conv+b' --seed 2 --n_latents 1 --n_categories 50 \u001b[0m\n",
       "\u001b[32m--cudnn_bench\"\u001b[0m,\n",
       "        \u001b[32m\"./fit_vae.sh '1' 'MNIST' 'categorical' 'conv+b|conv+b' --seed 3 --n_latents 1 --n_categories 50 \u001b[0m\n",
       "\u001b[32m--cudnn_bench\"\u001b[0m,\n",
       "        \u001b[32m\"./fit_vae.sh '1' 'MNIST' 'categorical' 'conv+b|conv+b' --seed 4 --n_latents 1 --n_categories 50 \u001b[0m\n",
       "\u001b[32m--cudnn_bench\"\u001b[0m,\n",
       "        \u001b[32m\"./fit_vae.sh '1' 'MNIST' 'categorical' 'conv+b|conv+b' --seed 5 --n_latents 1 --n_categories 50 \u001b[0m\n",
       "\u001b[32m--cudnn_bench\"\u001b[0m,\n",
       "        \u001b[32m\"./fit_vae.sh '1' 'MNIST' 'categorical' 'conv+b|conv+b' --seed 1 --n_latents 1 --n_categories 100 \u001b[0m\n",
       "\u001b[32m--cudnn_bench\"\u001b[0m,\n",
       "        \u001b[32m\"./fit_vae.sh '1' 'MNIST' 'categorical' 'conv+b|conv+b' --seed 2 --n_latents 1 --n_categories 100 \u001b[0m\n",
       "\u001b[32m--cudnn_bench\"\u001b[0m,\n",
       "        \u001b[32m\"./fit_vae.sh '1' 'MNIST' 'categorical' 'conv+b|conv+b' --seed 3 --n_latents 1 --n_categories 100 \u001b[0m\n",
       "\u001b[32m--cudnn_bench\"\u001b[0m,\n",
       "        \u001b[32m\"./fit_vae.sh '1' 'MNIST' 'categorical' 'conv+b|conv+b' --seed 4 --n_latents 1 --n_categories 100 \u001b[0m\n",
       "\u001b[32m--cudnn_bench\"\u001b[0m,\n",
       "        \u001b[32m\"./fit_vae.sh '1' 'MNIST' 'categorical' 'conv+b|conv+b' --seed 5 --n_latents 1 --n_categories 100 \u001b[0m\n",
       "\u001b[32m--cudnn_bench\"\u001b[0m\n",
       "    \u001b[1m]\u001b[0m,\n",
       "    \u001b[1;36m2\u001b[0m: \u001b[1m[\u001b[0m\n",
       "        \u001b[32m\"./fit_vae.sh '2' 'MNIST' 'gaussian' 'conv+b|conv+b' --seed 1 --n_latents 5 --cudnn_bench\"\u001b[0m,\n",
       "        \u001b[32m\"./fit_vae.sh '2' 'MNIST' 'gaussian' 'conv+b|conv+b' --seed 2 --n_latents 5 --cudnn_bench\"\u001b[0m,\n",
       "        \u001b[32m\"./fit_vae.sh '2' 'MNIST' 'gaussian' 'conv+b|conv+b' --seed 3 --n_latents 5 --cudnn_bench\"\u001b[0m,\n",
       "        \u001b[32m\"./fit_vae.sh '2' 'MNIST' 'gaussian' 'conv+b|conv+b' --seed 4 --n_latents 5 --cudnn_bench\"\u001b[0m,\n",
       "        \u001b[32m\"./fit_vae.sh '2' 'MNIST' 'gaussian' 'conv+b|conv+b' --seed 5 --n_latents 5 --cudnn_bench\"\u001b[0m,\n",
       "        \u001b[32m\"./fit_vae.sh '2' 'MNIST' 'gaussian' 'conv+b|conv+b' --seed 1 --n_latents 10 --cudnn_bench\"\u001b[0m,\n",
       "        \u001b[32m\"./fit_vae.sh '2' 'MNIST' 'gaussian' 'conv+b|conv+b' --seed 2 --n_latents 10 --cudnn_bench\"\u001b[0m,\n",
       "        \u001b[32m\"./fit_vae.sh '2' 'MNIST' 'gaussian' 'conv+b|conv+b' --seed 3 --n_latents 10 --cudnn_bench\"\u001b[0m,\n",
       "        \u001b[32m\"./fit_vae.sh '2' 'MNIST' 'gaussian' 'conv+b|conv+b' --seed 4 --n_latents 10 --cudnn_bench\"\u001b[0m,\n",
       "        \u001b[32m\"./fit_vae.sh '2' 'MNIST' 'gaussian' 'conv+b|conv+b' --seed 5 --n_latents 10 --cudnn_bench\"\u001b[0m,\n",
       "        \u001b[32m\"./fit_vae.sh '2' 'MNIST' 'gaussian' 'conv+b|conv+b' --seed 1 --n_latents 20 --cudnn_bench\"\u001b[0m,\n",
       "        \u001b[32m\"./fit_vae.sh '2' 'MNIST' 'gaussian' 'conv+b|conv+b' --seed 2 --n_latents 20 --cudnn_bench\"\u001b[0m,\n",
       "        \u001b[32m\"./fit_vae.sh '2' 'MNIST' 'gaussian' 'conv+b|conv+b' --seed 3 --n_latents 20 --cudnn_bench\"\u001b[0m,\n",
       "        \u001b[32m\"./fit_vae.sh '2' 'MNIST' 'gaussian' 'conv+b|conv+b' --seed 4 --n_latents 20 --cudnn_bench\"\u001b[0m,\n",
       "        \u001b[32m\"./fit_vae.sh '2' 'MNIST' 'gaussian' 'conv+b|conv+b' --seed 5 --n_latents 20 --cudnn_bench\"\u001b[0m,\n",
       "        \u001b[32m\"./fit_vae.sh '2' 'MNIST' 'gaussian' 'conv+b|conv+b' --seed 1 --n_latents 50 --cudnn_bench\"\u001b[0m,\n",
       "        \u001b[32m\"./fit_vae.sh '2' 'MNIST' 'gaussian' 'conv+b|conv+b' --seed 2 --n_latents 50 --cudnn_bench\"\u001b[0m,\n",
       "        \u001b[32m\"./fit_vae.sh '2' 'MNIST' 'gaussian' 'conv+b|conv+b' --seed 3 --n_latents 50 --cudnn_bench\"\u001b[0m,\n",
       "        \u001b[32m\"./fit_vae.sh '2' 'MNIST' 'gaussian' 'conv+b|conv+b' --seed 4 --n_latents 50 --cudnn_bench\"\u001b[0m,\n",
       "        \u001b[32m\"./fit_vae.sh '2' 'MNIST' 'gaussian' 'conv+b|conv+b' --seed 5 --n_latents 50 --cudnn_bench\"\u001b[0m,\n",
       "        \u001b[32m\"./fit_vae.sh '2' 'MNIST' 'gaussian' 'conv+b|conv+b' --seed 1 --n_latents 100 --cudnn_bench\"\u001b[0m,\n",
       "        \u001b[32m\"./fit_vae.sh '2' 'MNIST' 'gaussian' 'conv+b|conv+b' --seed 2 --n_latents 100 --cudnn_bench\"\u001b[0m,\n",
       "        \u001b[32m\"./fit_vae.sh '2' 'MNIST' 'gaussian' 'conv+b|conv+b' --seed 3 --n_latents 100 --cudnn_bench\"\u001b[0m,\n",
       "        \u001b[32m\"./fit_vae.sh '2' 'MNIST' 'gaussian' 'conv+b|conv+b' --seed 4 --n_latents 100 --cudnn_bench\"\u001b[0m,\n",
       "        \u001b[32m\"./fit_vae.sh '2' 'MNIST' 'gaussian' 'conv+b|conv+b' --seed 5 --n_latents 100 --cudnn_bench\"\u001b[0m\n",
       "    \u001b[1m]\u001b[0m,\n",
       "    \u001b[1;36m3\u001b[0m: \u001b[1m[\u001b[0m\n",
       "        \u001b[32m\"./fit_vae.sh '3' 'MNIST' 'laplace' 'conv+b|conv+b' --seed 1 --n_latents 5 --cudnn_bench\"\u001b[0m,\n",
       "        \u001b[32m\"./fit_vae.sh '3' 'MNIST' 'laplace' 'conv+b|conv+b' --seed 2 --n_latents 5 --cudnn_bench\"\u001b[0m,\n",
       "        \u001b[32m\"./fit_vae.sh '3' 'MNIST' 'laplace' 'conv+b|conv+b' --seed 3 --n_latents 5 --cudnn_bench\"\u001b[0m,\n",
       "        \u001b[32m\"./fit_vae.sh '3' 'MNIST' 'laplace' 'conv+b|conv+b' --seed 4 --n_latents 5 --cudnn_bench\"\u001b[0m,\n",
       "        \u001b[32m\"./fit_vae.sh '3' 'MNIST' 'laplace' 'conv+b|conv+b' --seed 5 --n_latents 5 --cudnn_bench\"\u001b[0m,\n",
       "        \u001b[32m\"./fit_vae.sh '3' 'MNIST' 'laplace' 'conv+b|conv+b' --seed 1 --n_latents 10 --cudnn_bench\"\u001b[0m,\n",
       "        \u001b[32m\"./fit_vae.sh '3' 'MNIST' 'laplace' 'conv+b|conv+b' --seed 2 --n_latents 10 --cudnn_bench\"\u001b[0m,\n",
       "        \u001b[32m\"./fit_vae.sh '3' 'MNIST' 'laplace' 'conv+b|conv+b' --seed 3 --n_latents 10 --cudnn_bench\"\u001b[0m,\n",
       "        \u001b[32m\"./fit_vae.sh '3' 'MNIST' 'laplace' 'conv+b|conv+b' --seed 4 --n_latents 10 --cudnn_bench\"\u001b[0m,\n",
       "        \u001b[32m\"./fit_vae.sh '3' 'MNIST' 'laplace' 'conv+b|conv+b' --seed 5 --n_latents 10 --cudnn_bench\"\u001b[0m,\n",
       "        \u001b[32m\"./fit_vae.sh '3' 'MNIST' 'laplace' 'conv+b|conv+b' --seed 1 --n_latents 20 --cudnn_bench\"\u001b[0m,\n",
       "        \u001b[32m\"./fit_vae.sh '3' 'MNIST' 'laplace' 'conv+b|conv+b' --seed 2 --n_latents 20 --cudnn_bench\"\u001b[0m,\n",
       "        \u001b[32m\"./fit_vae.sh '3' 'MNIST' 'laplace' 'conv+b|conv+b' --seed 3 --n_latents 20 --cudnn_bench\"\u001b[0m,\n",
       "        \u001b[32m\"./fit_vae.sh '3' 'MNIST' 'laplace' 'conv+b|conv+b' --seed 4 --n_latents 20 --cudnn_bench\"\u001b[0m,\n",
       "        \u001b[32m\"./fit_vae.sh '3' 'MNIST' 'laplace' 'conv+b|conv+b' --seed 5 --n_latents 20 --cudnn_bench\"\u001b[0m,\n",
       "        \u001b[32m\"./fit_vae.sh '3' 'MNIST' 'laplace' 'conv+b|conv+b' --seed 1 --n_latents 50 --cudnn_bench\"\u001b[0m,\n",
       "        \u001b[32m\"./fit_vae.sh '3' 'MNIST' 'laplace' 'conv+b|conv+b' --seed 2 --n_latents 50 --cudnn_bench\"\u001b[0m,\n",
       "        \u001b[32m\"./fit_vae.sh '3' 'MNIST' 'laplace' 'conv+b|conv+b' --seed 3 --n_latents 50 --cudnn_bench\"\u001b[0m,\n",
       "        \u001b[32m\"./fit_vae.sh '3' 'MNIST' 'laplace' 'conv+b|conv+b' --seed 4 --n_latents 50 --cudnn_bench\"\u001b[0m,\n",
       "        \u001b[32m\"./fit_vae.sh '3' 'MNIST' 'laplace' 'conv+b|conv+b' --seed 5 --n_latents 50 --cudnn_bench\"\u001b[0m,\n",
       "        \u001b[32m\"./fit_vae.sh '3' 'MNIST' 'laplace' 'conv+b|conv+b' --seed 1 --n_latents 100 --cudnn_bench\"\u001b[0m,\n",
       "        \u001b[32m\"./fit_vae.sh '3' 'MNIST' 'laplace' 'conv+b|conv+b' --seed 2 --n_latents 100 --cudnn_bench\"\u001b[0m,\n",
       "        \u001b[32m\"./fit_vae.sh '3' 'MNIST' 'laplace' 'conv+b|conv+b' --seed 3 --n_latents 100 --cudnn_bench\"\u001b[0m,\n",
       "        \u001b[32m\"./fit_vae.sh '3' 'MNIST' 'laplace' 'conv+b|conv+b' --seed 4 --n_latents 100 --cudnn_bench\"\u001b[0m,\n",
       "        \u001b[32m\"./fit_vae.sh '3' 'MNIST' 'laplace' 'conv+b|conv+b' --seed 5 --n_latents 100 --cudnn_bench\"\u001b[0m\n",
       "    \u001b[1m]\u001b[0m\n",
       "\u001b[1m}\u001b[0m\n"
      ]
     },
     "metadata": {},
     "output_type": "display_data"
    }
   ],
   "source": [
    "print(scripts_mach)"
   ]
  },
  {
   "cell_type": "code",
   "execution_count": null,
   "id": "262aa590-2819-45b7-9f0f-87f9c21ec9dc",
   "metadata": {},
   "outputs": [],
   "source": []
  },
  {
   "cell_type": "code",
   "execution_count": null,
   "id": "237cf06d-163c-4e38-b967-c6a54280af89",
   "metadata": {},
   "outputs": [],
   "source": []
  },
  {
   "cell_type": "markdown",
   "id": "60a3926d-7665-4ece-8fb5-8a63c58f5888",
   "metadata": {
    "jp-MarkdownHeadingCollapsed": true
   },
   "source": [
    "## Gausian w/ activation function\n",
    "\n",
    "- Apply relu, softplus, square, and exp.\n",
    "- Only do ```k=10, k=50```, use solo or chewie"
   ]
  },
  {
   "cell_type": "code",
   "execution_count": 5,
   "id": "503ded44-6d33-4ad0-bc52-acf00b459ff8",
   "metadata": {},
   "outputs": [],
   "source": [
    "host = 'chewie'\n",
    "_cleanup(save_dir, host)\n",
    "\n",
    "activations = ['relu', 'softplus', 'square', 'exp']\n",
    "model_types = ['gaussian', 'laplace']\n",
    "n_latents = [10, 50]\n",
    "\n",
    "scripts_chewie = collections.defaultdict(list)\n",
    "tot = 0"
   ]
  },
  {
   "cell_type": "code",
   "execution_count": 6,
   "id": "614ed0be-983c-40eb-b693-ab84cce9bc33",
   "metadata": {},
   "outputs": [],
   "source": [
    "combos_outer = itertools.product(\n",
    "    enumerate(n_latents), activations)\n",
    "for (gpu_i, k), fn in combos_outer:\n",
    "    # arg\n",
    "    arg = f\"--n_latents {k} --latent_act {fn} --comment {fn}\"\n",
    "    if fn == 'exp':\n",
    "        arg = f\"{arg} --init_scale 0.0001\"\n",
    "\n",
    "    combos_inner = itertools.product(\n",
    "        seeds, model_types)\n",
    "    for s, m in combos_inner:\n",
    "        scripts_chewie[gpu_i].append(job_runner_script(\n",
    "            device=gpu_i,\n",
    "            archi='conv+b|conv+b',\n",
    "            dataset='MNIST',\n",
    "            args=arg,\n",
    "            model=m,\n",
    "            seed=s,\n",
    "        ))\n",
    "        tot += 1"
   ]
  },
  {
   "cell_type": "code",
   "execution_count": 7,
   "id": "117069b3-860c-4c03-a5fb-5f97c209f8a9",
   "metadata": {},
   "outputs": [
    {
     "data": {
      "text/html": [
       "<pre style=\"white-space:pre;overflow-x:auto;line-height:normal;font-family:Menlo,'DejaVu Sans Mono',consolas,'Courier New',monospace\"><span style=\"color: #008080; text-decoration-color: #008080; font-weight: bold\">80</span>\n",
       "</pre>\n"
      ],
      "text/plain": [
       "\u001b[1;36m80\u001b[0m\n"
      ]
     },
     "metadata": {},
     "output_type": "display_data"
    }
   ],
   "source": [
    "print(tot)"
   ]
  },
  {
   "cell_type": "code",
   "execution_count": null,
   "id": "ad9cf74a-9bc2-4787-8d24-d20f5f3855e0",
   "metadata": {},
   "outputs": [],
   "source": []
  },
  {
   "cell_type": "code",
   "execution_count": 8,
   "id": "7af02f61-8f37-4c83-b16d-c8a56696433d",
   "metadata": {},
   "outputs": [
    {
     "data": {
      "text/html": [
       "<pre style=\"white-space:pre;overflow-x:auto;line-height:normal;font-family:Menlo,'DejaVu Sans Mono',consolas,'Courier New',monospace\"><span style=\"font-weight: bold\">{</span><span style=\"color: #008080; text-decoration-color: #008080; font-weight: bold\">0</span>: <span style=\"color: #008080; text-decoration-color: #008080; font-weight: bold\">40</span>, <span style=\"color: #008080; text-decoration-color: #008080; font-weight: bold\">1</span>: <span style=\"color: #008080; text-decoration-color: #008080; font-weight: bold\">40</span><span style=\"font-weight: bold\">}</span>\n",
       "</pre>\n"
      ],
      "text/plain": [
       "\u001b[1m{\u001b[0m\u001b[1;36m0\u001b[0m: \u001b[1;36m40\u001b[0m, \u001b[1;36m1\u001b[0m: \u001b[1;36m40\u001b[0m\u001b[1m}\u001b[0m\n"
      ]
     },
     "metadata": {},
     "output_type": "display_data"
    }
   ],
   "source": [
    "scripts_chewie = dict(scripts_chewie)\n",
    "print({k: len(v) for k, v in scripts_chewie.items()})"
   ]
  },
  {
   "cell_type": "code",
   "execution_count": null,
   "id": "a4e7e7a5-8ef7-40b6-b628-3ebd17fc205f",
   "metadata": {},
   "outputs": [],
   "source": []
  },
  {
   "cell_type": "code",
   "execution_count": 9,
   "id": "14cdcc96-e353-4c6b-953b-28e7aa76c1c9",
   "metadata": {},
   "outputs": [
    {
     "data": {
      "text/html": [
       "<pre style=\"white-space:pre;overflow-x:auto;line-height:normal;font-family:Menlo,'DejaVu Sans Mono',consolas,'Courier New',monospace\"><span style=\"font-weight: bold\">[</span>PROGRESS<span style=\"font-weight: bold\">]</span> <span style=\"color: #008000; text-decoration-color: #008000\">'chewie-cuda0-fit0.txt'</span> saved at\n",
       "<span style=\"color: #800080; text-decoration-color: #800080\">/home/hadi/Dropbox/git/_PoissonVAE/</span><span style=\"color: #ff00ff; text-decoration-color: #ff00ff\">scripts</span>\n",
       "</pre>\n"
      ],
      "text/plain": [
       "\u001b[1m[\u001b[0mPROGRESS\u001b[1m]\u001b[0m \u001b[32m'chewie-cuda0-fit0.txt'\u001b[0m saved at\n",
       "\u001b[35m/home/hadi/Dropbox/git/_PoissonVAE/\u001b[0m\u001b[95mscripts\u001b[0m\n"
      ]
     },
     "metadata": {},
     "output_type": "display_data"
    },
    {
     "data": {
      "text/html": [
       "<pre style=\"white-space:pre;overflow-x:auto;line-height:normal;font-family:Menlo,'DejaVu Sans Mono',consolas,'Courier New',monospace\"><span style=\"font-weight: bold\">[</span>PROGRESS<span style=\"font-weight: bold\">]</span> <span style=\"color: #008000; text-decoration-color: #008000\">'chewie-cuda0-fit1.txt'</span> saved at\n",
       "<span style=\"color: #800080; text-decoration-color: #800080\">/home/hadi/Dropbox/git/_PoissonVAE/</span><span style=\"color: #ff00ff; text-decoration-color: #ff00ff\">scripts</span>\n",
       "</pre>\n"
      ],
      "text/plain": [
       "\u001b[1m[\u001b[0mPROGRESS\u001b[1m]\u001b[0m \u001b[32m'chewie-cuda0-fit1.txt'\u001b[0m saved at\n",
       "\u001b[35m/home/hadi/Dropbox/git/_PoissonVAE/\u001b[0m\u001b[95mscripts\u001b[0m\n"
      ]
     },
     "metadata": {},
     "output_type": "display_data"
    },
    {
     "data": {
      "text/html": [
       "<pre style=\"white-space:pre;overflow-x:auto;line-height:normal;font-family:Menlo,'DejaVu Sans Mono',consolas,'Courier New',monospace\"><span style=\"font-weight: bold\">[</span>PROGRESS<span style=\"font-weight: bold\">]</span> <span style=\"color: #008000; text-decoration-color: #008000\">'chewie-cuda0-fit2.txt'</span> saved at\n",
       "<span style=\"color: #800080; text-decoration-color: #800080\">/home/hadi/Dropbox/git/_PoissonVAE/</span><span style=\"color: #ff00ff; text-decoration-color: #ff00ff\">scripts</span>\n",
       "</pre>\n"
      ],
      "text/plain": [
       "\u001b[1m[\u001b[0mPROGRESS\u001b[1m]\u001b[0m \u001b[32m'chewie-cuda0-fit2.txt'\u001b[0m saved at\n",
       "\u001b[35m/home/hadi/Dropbox/git/_PoissonVAE/\u001b[0m\u001b[95mscripts\u001b[0m\n"
      ]
     },
     "metadata": {},
     "output_type": "display_data"
    },
    {
     "data": {
      "text/html": [
       "<pre style=\"white-space:pre;overflow-x:auto;line-height:normal;font-family:Menlo,'DejaVu Sans Mono',consolas,'Courier New',monospace\"><span style=\"font-weight: bold\">[</span>PROGRESS<span style=\"font-weight: bold\">]</span> <span style=\"color: #008000; text-decoration-color: #008000\">'chewie-cuda0-fit3.txt'</span> saved at\n",
       "<span style=\"color: #800080; text-decoration-color: #800080\">/home/hadi/Dropbox/git/_PoissonVAE/</span><span style=\"color: #ff00ff; text-decoration-color: #ff00ff\">scripts</span>\n",
       "</pre>\n"
      ],
      "text/plain": [
       "\u001b[1m[\u001b[0mPROGRESS\u001b[1m]\u001b[0m \u001b[32m'chewie-cuda0-fit3.txt'\u001b[0m saved at\n",
       "\u001b[35m/home/hadi/Dropbox/git/_PoissonVAE/\u001b[0m\u001b[95mscripts\u001b[0m\n"
      ]
     },
     "metadata": {},
     "output_type": "display_data"
    },
    {
     "data": {
      "text/html": [
       "<pre style=\"white-space:pre;overflow-x:auto;line-height:normal;font-family:Menlo,'DejaVu Sans Mono',consolas,'Courier New',monospace\"><span style=\"font-weight: bold\">[</span>PROGRESS<span style=\"font-weight: bold\">]</span> <span style=\"color: #008000; text-decoration-color: #008000\">'chewie-cuda0-fit4.txt'</span> saved at\n",
       "<span style=\"color: #800080; text-decoration-color: #800080\">/home/hadi/Dropbox/git/_PoissonVAE/</span><span style=\"color: #ff00ff; text-decoration-color: #ff00ff\">scripts</span>\n",
       "</pre>\n"
      ],
      "text/plain": [
       "\u001b[1m[\u001b[0mPROGRESS\u001b[1m]\u001b[0m \u001b[32m'chewie-cuda0-fit4.txt'\u001b[0m saved at\n",
       "\u001b[35m/home/hadi/Dropbox/git/_PoissonVAE/\u001b[0m\u001b[95mscripts\u001b[0m\n"
      ]
     },
     "metadata": {},
     "output_type": "display_data"
    },
    {
     "data": {
      "text/html": [
       "<pre style=\"white-space:pre;overflow-x:auto;line-height:normal;font-family:Menlo,'DejaVu Sans Mono',consolas,'Courier New',monospace\"><span style=\"font-weight: bold\">[</span>PROGRESS<span style=\"font-weight: bold\">]</span> <span style=\"color: #008000; text-decoration-color: #008000\">'chewie-cuda1-fit0.txt'</span> saved at\n",
       "<span style=\"color: #800080; text-decoration-color: #800080\">/home/hadi/Dropbox/git/_PoissonVAE/</span><span style=\"color: #ff00ff; text-decoration-color: #ff00ff\">scripts</span>\n",
       "</pre>\n"
      ],
      "text/plain": [
       "\u001b[1m[\u001b[0mPROGRESS\u001b[1m]\u001b[0m \u001b[32m'chewie-cuda1-fit0.txt'\u001b[0m saved at\n",
       "\u001b[35m/home/hadi/Dropbox/git/_PoissonVAE/\u001b[0m\u001b[95mscripts\u001b[0m\n"
      ]
     },
     "metadata": {},
     "output_type": "display_data"
    },
    {
     "data": {
      "text/html": [
       "<pre style=\"white-space:pre;overflow-x:auto;line-height:normal;font-family:Menlo,'DejaVu Sans Mono',consolas,'Courier New',monospace\"><span style=\"font-weight: bold\">[</span>PROGRESS<span style=\"font-weight: bold\">]</span> <span style=\"color: #008000; text-decoration-color: #008000\">'chewie-cuda1-fit1.txt'</span> saved at\n",
       "<span style=\"color: #800080; text-decoration-color: #800080\">/home/hadi/Dropbox/git/_PoissonVAE/</span><span style=\"color: #ff00ff; text-decoration-color: #ff00ff\">scripts</span>\n",
       "</pre>\n"
      ],
      "text/plain": [
       "\u001b[1m[\u001b[0mPROGRESS\u001b[1m]\u001b[0m \u001b[32m'chewie-cuda1-fit1.txt'\u001b[0m saved at\n",
       "\u001b[35m/home/hadi/Dropbox/git/_PoissonVAE/\u001b[0m\u001b[95mscripts\u001b[0m\n"
      ]
     },
     "metadata": {},
     "output_type": "display_data"
    },
    {
     "data": {
      "text/html": [
       "<pre style=\"white-space:pre;overflow-x:auto;line-height:normal;font-family:Menlo,'DejaVu Sans Mono',consolas,'Courier New',monospace\"><span style=\"font-weight: bold\">[</span>PROGRESS<span style=\"font-weight: bold\">]</span> <span style=\"color: #008000; text-decoration-color: #008000\">'chewie-cuda1-fit2.txt'</span> saved at\n",
       "<span style=\"color: #800080; text-decoration-color: #800080\">/home/hadi/Dropbox/git/_PoissonVAE/</span><span style=\"color: #ff00ff; text-decoration-color: #ff00ff\">scripts</span>\n",
       "</pre>\n"
      ],
      "text/plain": [
       "\u001b[1m[\u001b[0mPROGRESS\u001b[1m]\u001b[0m \u001b[32m'chewie-cuda1-fit2.txt'\u001b[0m saved at\n",
       "\u001b[35m/home/hadi/Dropbox/git/_PoissonVAE/\u001b[0m\u001b[95mscripts\u001b[0m\n"
      ]
     },
     "metadata": {},
     "output_type": "display_data"
    },
    {
     "data": {
      "text/html": [
       "<pre style=\"white-space:pre;overflow-x:auto;line-height:normal;font-family:Menlo,'DejaVu Sans Mono',consolas,'Courier New',monospace\"><span style=\"font-weight: bold\">[</span>PROGRESS<span style=\"font-weight: bold\">]</span> <span style=\"color: #008000; text-decoration-color: #008000\">'chewie-cuda1-fit3.txt'</span> saved at\n",
       "<span style=\"color: #800080; text-decoration-color: #800080\">/home/hadi/Dropbox/git/_PoissonVAE/</span><span style=\"color: #ff00ff; text-decoration-color: #ff00ff\">scripts</span>\n",
       "</pre>\n"
      ],
      "text/plain": [
       "\u001b[1m[\u001b[0mPROGRESS\u001b[1m]\u001b[0m \u001b[32m'chewie-cuda1-fit3.txt'\u001b[0m saved at\n",
       "\u001b[35m/home/hadi/Dropbox/git/_PoissonVAE/\u001b[0m\u001b[95mscripts\u001b[0m\n"
      ]
     },
     "metadata": {},
     "output_type": "display_data"
    },
    {
     "data": {
      "text/html": [
       "<pre style=\"white-space:pre;overflow-x:auto;line-height:normal;font-family:Menlo,'DejaVu Sans Mono',consolas,'Courier New',monospace\"><span style=\"font-weight: bold\">[</span>PROGRESS<span style=\"font-weight: bold\">]</span> <span style=\"color: #008000; text-decoration-color: #008000\">'chewie-cuda1-fit4.txt'</span> saved at\n",
       "<span style=\"color: #800080; text-decoration-color: #800080\">/home/hadi/Dropbox/git/_PoissonVAE/</span><span style=\"color: #ff00ff; text-decoration-color: #ff00ff\">scripts</span>\n",
       "</pre>\n"
      ],
      "text/plain": [
       "\u001b[1m[\u001b[0mPROGRESS\u001b[1m]\u001b[0m \u001b[32m'chewie-cuda1-fit4.txt'\u001b[0m saved at\n",
       "\u001b[35m/home/hadi/Dropbox/git/_PoissonVAE/\u001b[0m\u001b[95mscripts\u001b[0m\n"
      ]
     },
     "metadata": {},
     "output_type": "display_data"
    }
   ],
   "source": [
    "n_fits = 5\n",
    "\n",
    "for gpu_i, scripts in scripts_chewie.items():\n",
    "    scripts_divided = divide_list(scripts, n_fits)\n",
    "    for fit_i, s in enumerate(scripts_divided):\n",
    "        combined = ' && '.join(s)\n",
    "        save_obj(\n",
    "            obj=combined,\n",
    "            file_name=_name(host, gpu_i, fit_i),\n",
    "            save_dir=save_dir,\n",
    "            mode='txt',\n",
    "        )"
   ]
  },
  {
   "cell_type": "code",
   "execution_count": null,
   "id": "212bf4d7-83f9-4e66-899b-08155be36f08",
   "metadata": {},
   "outputs": [],
   "source": []
  },
  {
   "cell_type": "code",
   "execution_count": 10,
   "id": "ff570054-6280-462d-882f-1747f3894ee3",
   "metadata": {},
   "outputs": [
    {
     "data": {
      "text/html": [
       "<pre style=\"white-space:pre;overflow-x:auto;line-height:normal;font-family:Menlo,'DejaVu Sans Mono',consolas,'Courier New',monospace\">.<span style=\"color: #800080; text-decoration-color: #800080\">/</span><span style=\"color: #ff00ff; text-decoration-color: #ff00ff\">fit_vae.sh</span> <span style=\"color: #008000; text-decoration-color: #008000\">'1'</span> <span style=\"color: #008000; text-decoration-color: #008000\">'MNIST'</span> <span style=\"color: #008000; text-decoration-color: #008000\">'gaussian'</span> <span style=\"color: #008000; text-decoration-color: #008000\">'conv+b|conv+b'</span> --seed <span style=\"color: #008080; text-decoration-color: #008080; font-weight: bold\">2</span> --n_latents <span style=\"color: #008080; text-decoration-color: #008080; font-weight: bold\">50</span> --latent_act exp --comment exp \n",
       "--init_scale <span style=\"color: #008080; text-decoration-color: #008080; font-weight: bold\">0.0001</span> &amp;&amp; \n",
       ".<span style=\"color: #800080; text-decoration-color: #800080\">/</span><span style=\"color: #ff00ff; text-decoration-color: #ff00ff\">fit_vae.sh</span> <span style=\"color: #008000; text-decoration-color: #008000\">'1'</span> <span style=\"color: #008000; text-decoration-color: #008000\">'MNIST'</span> <span style=\"color: #008000; text-decoration-color: #008000\">'laplace'</span> <span style=\"color: #008000; text-decoration-color: #008000\">'conv+b|conv+b'</span> --seed <span style=\"color: #008080; text-decoration-color: #008080; font-weight: bold\">2</span> --n_latents <span style=\"color: #008080; text-decoration-color: #008080; font-weight: bold\">50</span> --latent_act exp --comment exp \n",
       "--init_scale <span style=\"color: #008080; text-decoration-color: #008080; font-weight: bold\">0.0001</span> &amp;&amp; \n",
       ".<span style=\"color: #800080; text-decoration-color: #800080\">/</span><span style=\"color: #ff00ff; text-decoration-color: #ff00ff\">fit_vae.sh</span> <span style=\"color: #008000; text-decoration-color: #008000\">'1'</span> <span style=\"color: #008000; text-decoration-color: #008000\">'MNIST'</span> <span style=\"color: #008000; text-decoration-color: #008000\">'gaussian'</span> <span style=\"color: #008000; text-decoration-color: #008000\">'conv+b|conv+b'</span> --seed <span style=\"color: #008080; text-decoration-color: #008080; font-weight: bold\">3</span> --n_latents <span style=\"color: #008080; text-decoration-color: #008080; font-weight: bold\">50</span> --latent_act exp --comment exp \n",
       "--init_scale <span style=\"color: #008080; text-decoration-color: #008080; font-weight: bold\">0.0001</span> &amp;&amp; \n",
       ".<span style=\"color: #800080; text-decoration-color: #800080\">/</span><span style=\"color: #ff00ff; text-decoration-color: #ff00ff\">fit_vae.sh</span> <span style=\"color: #008000; text-decoration-color: #008000\">'1'</span> <span style=\"color: #008000; text-decoration-color: #008000\">'MNIST'</span> <span style=\"color: #008000; text-decoration-color: #008000\">'laplace'</span> <span style=\"color: #008000; text-decoration-color: #008000\">'conv+b|conv+b'</span> --seed <span style=\"color: #008080; text-decoration-color: #008080; font-weight: bold\">3</span> --n_latents <span style=\"color: #008080; text-decoration-color: #008080; font-weight: bold\">50</span> --latent_act exp --comment exp \n",
       "--init_scale <span style=\"color: #008080; text-decoration-color: #008080; font-weight: bold\">0.0001</span> &amp;&amp; \n",
       ".<span style=\"color: #800080; text-decoration-color: #800080\">/</span><span style=\"color: #ff00ff; text-decoration-color: #ff00ff\">fit_vae.sh</span> <span style=\"color: #008000; text-decoration-color: #008000\">'1'</span> <span style=\"color: #008000; text-decoration-color: #008000\">'MNIST'</span> <span style=\"color: #008000; text-decoration-color: #008000\">'gaussian'</span> <span style=\"color: #008000; text-decoration-color: #008000\">'conv+b|conv+b'</span> --seed <span style=\"color: #008080; text-decoration-color: #008080; font-weight: bold\">4</span> --n_latents <span style=\"color: #008080; text-decoration-color: #008080; font-weight: bold\">50</span> --latent_act exp --comment exp \n",
       "--init_scale <span style=\"color: #008080; text-decoration-color: #008080; font-weight: bold\">0.0001</span> &amp;&amp; \n",
       ".<span style=\"color: #800080; text-decoration-color: #800080\">/</span><span style=\"color: #ff00ff; text-decoration-color: #ff00ff\">fit_vae.sh</span> <span style=\"color: #008000; text-decoration-color: #008000\">'1'</span> <span style=\"color: #008000; text-decoration-color: #008000\">'MNIST'</span> <span style=\"color: #008000; text-decoration-color: #008000\">'laplace'</span> <span style=\"color: #008000; text-decoration-color: #008000\">'conv+b|conv+b'</span> --seed <span style=\"color: #008080; text-decoration-color: #008080; font-weight: bold\">4</span> --n_latents <span style=\"color: #008080; text-decoration-color: #008080; font-weight: bold\">50</span> --latent_act exp --comment exp \n",
       "--init_scale <span style=\"color: #008080; text-decoration-color: #008080; font-weight: bold\">0.0001</span> &amp;&amp; \n",
       ".<span style=\"color: #800080; text-decoration-color: #800080\">/</span><span style=\"color: #ff00ff; text-decoration-color: #ff00ff\">fit_vae.sh</span> <span style=\"color: #008000; text-decoration-color: #008000\">'1'</span> <span style=\"color: #008000; text-decoration-color: #008000\">'MNIST'</span> <span style=\"color: #008000; text-decoration-color: #008000\">'gaussian'</span> <span style=\"color: #008000; text-decoration-color: #008000\">'conv+b|conv+b'</span> --seed <span style=\"color: #008080; text-decoration-color: #008080; font-weight: bold\">5</span> --n_latents <span style=\"color: #008080; text-decoration-color: #008080; font-weight: bold\">50</span> --latent_act exp --comment exp \n",
       "--init_scale <span style=\"color: #008080; text-decoration-color: #008080; font-weight: bold\">0.0001</span> &amp;&amp; \n",
       ".<span style=\"color: #800080; text-decoration-color: #800080\">/</span><span style=\"color: #ff00ff; text-decoration-color: #ff00ff\">fit_vae.sh</span> <span style=\"color: #008000; text-decoration-color: #008000\">'1'</span> <span style=\"color: #008000; text-decoration-color: #008000\">'MNIST'</span> <span style=\"color: #008000; text-decoration-color: #008000\">'laplace'</span> <span style=\"color: #008000; text-decoration-color: #008000\">'conv+b|conv+b'</span> --seed <span style=\"color: #008080; text-decoration-color: #008080; font-weight: bold\">5</span> --n_latents <span style=\"color: #008080; text-decoration-color: #008080; font-weight: bold\">50</span> --latent_act exp --comment exp \n",
       "--init_scale <span style=\"color: #008080; text-decoration-color: #008080; font-weight: bold\">0.0001</span>\n",
       "</pre>\n"
      ],
      "text/plain": [
       ".\u001b[35m/\u001b[0m\u001b[95mfit_vae.sh\u001b[0m \u001b[32m'1'\u001b[0m \u001b[32m'MNIST'\u001b[0m \u001b[32m'gaussian'\u001b[0m \u001b[32m'conv+b|conv+b'\u001b[0m --seed \u001b[1;36m2\u001b[0m --n_latents \u001b[1;36m50\u001b[0m --latent_act exp --comment exp \n",
       "--init_scale \u001b[1;36m0.0001\u001b[0m && \n",
       ".\u001b[35m/\u001b[0m\u001b[95mfit_vae.sh\u001b[0m \u001b[32m'1'\u001b[0m \u001b[32m'MNIST'\u001b[0m \u001b[32m'laplace'\u001b[0m \u001b[32m'conv+b|conv+b'\u001b[0m --seed \u001b[1;36m2\u001b[0m --n_latents \u001b[1;36m50\u001b[0m --latent_act exp --comment exp \n",
       "--init_scale \u001b[1;36m0.0001\u001b[0m && \n",
       ".\u001b[35m/\u001b[0m\u001b[95mfit_vae.sh\u001b[0m \u001b[32m'1'\u001b[0m \u001b[32m'MNIST'\u001b[0m \u001b[32m'gaussian'\u001b[0m \u001b[32m'conv+b|conv+b'\u001b[0m --seed \u001b[1;36m3\u001b[0m --n_latents \u001b[1;36m50\u001b[0m --latent_act exp --comment exp \n",
       "--init_scale \u001b[1;36m0.0001\u001b[0m && \n",
       ".\u001b[35m/\u001b[0m\u001b[95mfit_vae.sh\u001b[0m \u001b[32m'1'\u001b[0m \u001b[32m'MNIST'\u001b[0m \u001b[32m'laplace'\u001b[0m \u001b[32m'conv+b|conv+b'\u001b[0m --seed \u001b[1;36m3\u001b[0m --n_latents \u001b[1;36m50\u001b[0m --latent_act exp --comment exp \n",
       "--init_scale \u001b[1;36m0.0001\u001b[0m && \n",
       ".\u001b[35m/\u001b[0m\u001b[95mfit_vae.sh\u001b[0m \u001b[32m'1'\u001b[0m \u001b[32m'MNIST'\u001b[0m \u001b[32m'gaussian'\u001b[0m \u001b[32m'conv+b|conv+b'\u001b[0m --seed \u001b[1;36m4\u001b[0m --n_latents \u001b[1;36m50\u001b[0m --latent_act exp --comment exp \n",
       "--init_scale \u001b[1;36m0.0001\u001b[0m && \n",
       ".\u001b[35m/\u001b[0m\u001b[95mfit_vae.sh\u001b[0m \u001b[32m'1'\u001b[0m \u001b[32m'MNIST'\u001b[0m \u001b[32m'laplace'\u001b[0m \u001b[32m'conv+b|conv+b'\u001b[0m --seed \u001b[1;36m4\u001b[0m --n_latents \u001b[1;36m50\u001b[0m --latent_act exp --comment exp \n",
       "--init_scale \u001b[1;36m0.0001\u001b[0m && \n",
       ".\u001b[35m/\u001b[0m\u001b[95mfit_vae.sh\u001b[0m \u001b[32m'1'\u001b[0m \u001b[32m'MNIST'\u001b[0m \u001b[32m'gaussian'\u001b[0m \u001b[32m'conv+b|conv+b'\u001b[0m --seed \u001b[1;36m5\u001b[0m --n_latents \u001b[1;36m50\u001b[0m --latent_act exp --comment exp \n",
       "--init_scale \u001b[1;36m0.0001\u001b[0m && \n",
       ".\u001b[35m/\u001b[0m\u001b[95mfit_vae.sh\u001b[0m \u001b[32m'1'\u001b[0m \u001b[32m'MNIST'\u001b[0m \u001b[32m'laplace'\u001b[0m \u001b[32m'conv+b|conv+b'\u001b[0m --seed \u001b[1;36m5\u001b[0m --n_latents \u001b[1;36m50\u001b[0m --latent_act exp --comment exp \n",
       "--init_scale \u001b[1;36m0.0001\u001b[0m\n"
      ]
     },
     "metadata": {},
     "output_type": "display_data"
    }
   ],
   "source": [
    "print(combined.replace('&& ', '&& \\n'))"
   ]
  },
  {
   "cell_type": "code",
   "execution_count": null,
   "id": "e113ebf1-1cbf-4782-8f2e-f28232e9b61d",
   "metadata": {},
   "outputs": [],
   "source": []
  },
  {
   "cell_type": "code",
   "execution_count": 11,
   "id": "a194db23-a517-4a55-9aec-1b0ff3f1d09d",
   "metadata": {},
   "outputs": [
    {
     "data": {
      "text/html": [
       "<pre style=\"white-space:pre;overflow-x:auto;line-height:normal;font-family:Menlo,'DejaVu Sans Mono',consolas,'Courier New',monospace\"><span style=\"font-weight: bold\">{</span>\n",
       "    <span style=\"color: #008080; text-decoration-color: #008080; font-weight: bold\">0</span>: <span style=\"font-weight: bold\">[</span>\n",
       "        <span style=\"color: #008000; text-decoration-color: #008000\">\"./fit_vae.sh '0' 'MNIST' 'gaussian' 'conv+b|conv+b' --seed 1 --n_latents 10 --latent_act relu --comment </span>\n",
       "<span style=\"color: #008000; text-decoration-color: #008000\">relu\"</span>,\n",
       "        <span style=\"color: #008000; text-decoration-color: #008000\">\"./fit_vae.sh '0' 'MNIST' 'laplace' 'conv+b|conv+b' --seed 1 --n_latents 10 --latent_act relu --comment </span>\n",
       "<span style=\"color: #008000; text-decoration-color: #008000\">relu\"</span>,\n",
       "        <span style=\"color: #008000; text-decoration-color: #008000\">\"./fit_vae.sh '0' 'MNIST' 'gaussian' 'conv+b|conv+b' --seed 2 --n_latents 10 --latent_act relu --comment </span>\n",
       "<span style=\"color: #008000; text-decoration-color: #008000\">relu\"</span>,\n",
       "        <span style=\"color: #008000; text-decoration-color: #008000\">\"./fit_vae.sh '0' 'MNIST' 'laplace' 'conv+b|conv+b' --seed 2 --n_latents 10 --latent_act relu --comment </span>\n",
       "<span style=\"color: #008000; text-decoration-color: #008000\">relu\"</span>,\n",
       "        <span style=\"color: #008000; text-decoration-color: #008000\">\"./fit_vae.sh '0' 'MNIST' 'gaussian' 'conv+b|conv+b' --seed 3 --n_latents 10 --latent_act relu --comment </span>\n",
       "<span style=\"color: #008000; text-decoration-color: #008000\">relu\"</span>,\n",
       "        <span style=\"color: #008000; text-decoration-color: #008000\">\"./fit_vae.sh '0' 'MNIST' 'laplace' 'conv+b|conv+b' --seed 3 --n_latents 10 --latent_act relu --comment </span>\n",
       "<span style=\"color: #008000; text-decoration-color: #008000\">relu\"</span>,\n",
       "        <span style=\"color: #008000; text-decoration-color: #008000\">\"./fit_vae.sh '0' 'MNIST' 'gaussian' 'conv+b|conv+b' --seed 4 --n_latents 10 --latent_act relu --comment </span>\n",
       "<span style=\"color: #008000; text-decoration-color: #008000\">relu\"</span>,\n",
       "        <span style=\"color: #008000; text-decoration-color: #008000\">\"./fit_vae.sh '0' 'MNIST' 'laplace' 'conv+b|conv+b' --seed 4 --n_latents 10 --latent_act relu --comment </span>\n",
       "<span style=\"color: #008000; text-decoration-color: #008000\">relu\"</span>,\n",
       "        <span style=\"color: #008000; text-decoration-color: #008000\">\"./fit_vae.sh '0' 'MNIST' 'gaussian' 'conv+b|conv+b' --seed 5 --n_latents 10 --latent_act relu --comment </span>\n",
       "<span style=\"color: #008000; text-decoration-color: #008000\">relu\"</span>,\n",
       "        <span style=\"color: #008000; text-decoration-color: #008000\">\"./fit_vae.sh '0' 'MNIST' 'laplace' 'conv+b|conv+b' --seed 5 --n_latents 10 --latent_act relu --comment </span>\n",
       "<span style=\"color: #008000; text-decoration-color: #008000\">relu\"</span>,\n",
       "        <span style=\"color: #008000; text-decoration-color: #008000\">\"./fit_vae.sh '0' 'MNIST' 'gaussian' 'conv+b|conv+b' --seed 1 --n_latents 10 --latent_act softplus </span>\n",
       "<span style=\"color: #008000; text-decoration-color: #008000\">--comment softplus\"</span>,\n",
       "        <span style=\"color: #008000; text-decoration-color: #008000\">\"./fit_vae.sh '0' 'MNIST' 'laplace' 'conv+b|conv+b' --seed 1 --n_latents 10 --latent_act softplus --comment</span>\n",
       "<span style=\"color: #008000; text-decoration-color: #008000\">softplus\"</span>,\n",
       "        <span style=\"color: #008000; text-decoration-color: #008000\">\"./fit_vae.sh '0' 'MNIST' 'gaussian' 'conv+b|conv+b' --seed 2 --n_latents 10 --latent_act softplus </span>\n",
       "<span style=\"color: #008000; text-decoration-color: #008000\">--comment softplus\"</span>,\n",
       "        <span style=\"color: #008000; text-decoration-color: #008000\">\"./fit_vae.sh '0' 'MNIST' 'laplace' 'conv+b|conv+b' --seed 2 --n_latents 10 --latent_act softplus --comment</span>\n",
       "<span style=\"color: #008000; text-decoration-color: #008000\">softplus\"</span>,\n",
       "        <span style=\"color: #008000; text-decoration-color: #008000\">\"./fit_vae.sh '0' 'MNIST' 'gaussian' 'conv+b|conv+b' --seed 3 --n_latents 10 --latent_act softplus </span>\n",
       "<span style=\"color: #008000; text-decoration-color: #008000\">--comment softplus\"</span>,\n",
       "        <span style=\"color: #008000; text-decoration-color: #008000\">\"./fit_vae.sh '0' 'MNIST' 'laplace' 'conv+b|conv+b' --seed 3 --n_latents 10 --latent_act softplus --comment</span>\n",
       "<span style=\"color: #008000; text-decoration-color: #008000\">softplus\"</span>,\n",
       "        <span style=\"color: #008000; text-decoration-color: #008000\">\"./fit_vae.sh '0' 'MNIST' 'gaussian' 'conv+b|conv+b' --seed 4 --n_latents 10 --latent_act softplus </span>\n",
       "<span style=\"color: #008000; text-decoration-color: #008000\">--comment softplus\"</span>,\n",
       "        <span style=\"color: #008000; text-decoration-color: #008000\">\"./fit_vae.sh '0' 'MNIST' 'laplace' 'conv+b|conv+b' --seed 4 --n_latents 10 --latent_act softplus --comment</span>\n",
       "<span style=\"color: #008000; text-decoration-color: #008000\">softplus\"</span>,\n",
       "        <span style=\"color: #008000; text-decoration-color: #008000\">\"./fit_vae.sh '0' 'MNIST' 'gaussian' 'conv+b|conv+b' --seed 5 --n_latents 10 --latent_act softplus </span>\n",
       "<span style=\"color: #008000; text-decoration-color: #008000\">--comment softplus\"</span>,\n",
       "        <span style=\"color: #008000; text-decoration-color: #008000\">\"./fit_vae.sh '0' 'MNIST' 'laplace' 'conv+b|conv+b' --seed 5 --n_latents 10 --latent_act softplus --comment</span>\n",
       "<span style=\"color: #008000; text-decoration-color: #008000\">softplus\"</span>,\n",
       "        <span style=\"color: #008000; text-decoration-color: #008000\">\"./fit_vae.sh '0' 'MNIST' 'gaussian' 'conv+b|conv+b' --seed 1 --n_latents 10 --latent_act square --comment </span>\n",
       "<span style=\"color: #008000; text-decoration-color: #008000\">square\"</span>,\n",
       "        <span style=\"color: #008000; text-decoration-color: #008000\">\"./fit_vae.sh '0' 'MNIST' 'laplace' 'conv+b|conv+b' --seed 1 --n_latents 10 --latent_act square --comment </span>\n",
       "<span style=\"color: #008000; text-decoration-color: #008000\">square\"</span>,\n",
       "        <span style=\"color: #008000; text-decoration-color: #008000\">\"./fit_vae.sh '0' 'MNIST' 'gaussian' 'conv+b|conv+b' --seed 2 --n_latents 10 --latent_act square --comment </span>\n",
       "<span style=\"color: #008000; text-decoration-color: #008000\">square\"</span>,\n",
       "        <span style=\"color: #008000; text-decoration-color: #008000\">\"./fit_vae.sh '0' 'MNIST' 'laplace' 'conv+b|conv+b' --seed 2 --n_latents 10 --latent_act square --comment </span>\n",
       "<span style=\"color: #008000; text-decoration-color: #008000\">square\"</span>,\n",
       "        <span style=\"color: #008000; text-decoration-color: #008000\">\"./fit_vae.sh '0' 'MNIST' 'gaussian' 'conv+b|conv+b' --seed 3 --n_latents 10 --latent_act square --comment </span>\n",
       "<span style=\"color: #008000; text-decoration-color: #008000\">square\"</span>,\n",
       "        <span style=\"color: #008000; text-decoration-color: #008000\">\"./fit_vae.sh '0' 'MNIST' 'laplace' 'conv+b|conv+b' --seed 3 --n_latents 10 --latent_act square --comment </span>\n",
       "<span style=\"color: #008000; text-decoration-color: #008000\">square\"</span>,\n",
       "        <span style=\"color: #008000; text-decoration-color: #008000\">\"./fit_vae.sh '0' 'MNIST' 'gaussian' 'conv+b|conv+b' --seed 4 --n_latents 10 --latent_act square --comment </span>\n",
       "<span style=\"color: #008000; text-decoration-color: #008000\">square\"</span>,\n",
       "        <span style=\"color: #008000; text-decoration-color: #008000\">\"./fit_vae.sh '0' 'MNIST' 'laplace' 'conv+b|conv+b' --seed 4 --n_latents 10 --latent_act square --comment </span>\n",
       "<span style=\"color: #008000; text-decoration-color: #008000\">square\"</span>,\n",
       "        <span style=\"color: #008000; text-decoration-color: #008000\">\"./fit_vae.sh '0' 'MNIST' 'gaussian' 'conv+b|conv+b' --seed 5 --n_latents 10 --latent_act square --comment </span>\n",
       "<span style=\"color: #008000; text-decoration-color: #008000\">square\"</span>,\n",
       "        <span style=\"color: #008000; text-decoration-color: #008000\">\"./fit_vae.sh '0' 'MNIST' 'laplace' 'conv+b|conv+b' --seed 5 --n_latents 10 --latent_act square --comment </span>\n",
       "<span style=\"color: #008000; text-decoration-color: #008000\">square\"</span>,\n",
       "        <span style=\"color: #008000; text-decoration-color: #008000\">\"./fit_vae.sh '0' 'MNIST' 'gaussian' 'conv+b|conv+b' --seed 1 --n_latents 10 --latent_act exp --comment exp</span>\n",
       "<span style=\"color: #008000; text-decoration-color: #008000\">--init_scale 0.0001\"</span>,\n",
       "        <span style=\"color: #008000; text-decoration-color: #008000\">\"./fit_vae.sh '0' 'MNIST' 'laplace' 'conv+b|conv+b' --seed 1 --n_latents 10 --latent_act exp --comment exp </span>\n",
       "<span style=\"color: #008000; text-decoration-color: #008000\">--init_scale 0.0001\"</span>,\n",
       "        <span style=\"color: #008000; text-decoration-color: #008000\">\"./fit_vae.sh '0' 'MNIST' 'gaussian' 'conv+b|conv+b' --seed 2 --n_latents 10 --latent_act exp --comment exp</span>\n",
       "<span style=\"color: #008000; text-decoration-color: #008000\">--init_scale 0.0001\"</span>,\n",
       "        <span style=\"color: #008000; text-decoration-color: #008000\">\"./fit_vae.sh '0' 'MNIST' 'laplace' 'conv+b|conv+b' --seed 2 --n_latents 10 --latent_act exp --comment exp </span>\n",
       "<span style=\"color: #008000; text-decoration-color: #008000\">--init_scale 0.0001\"</span>,\n",
       "        <span style=\"color: #008000; text-decoration-color: #008000\">\"./fit_vae.sh '0' 'MNIST' 'gaussian' 'conv+b|conv+b' --seed 3 --n_latents 10 --latent_act exp --comment exp</span>\n",
       "<span style=\"color: #008000; text-decoration-color: #008000\">--init_scale 0.0001\"</span>,\n",
       "        <span style=\"color: #008000; text-decoration-color: #008000\">\"./fit_vae.sh '0' 'MNIST' 'laplace' 'conv+b|conv+b' --seed 3 --n_latents 10 --latent_act exp --comment exp </span>\n",
       "<span style=\"color: #008000; text-decoration-color: #008000\">--init_scale 0.0001\"</span>,\n",
       "        <span style=\"color: #008000; text-decoration-color: #008000\">\"./fit_vae.sh '0' 'MNIST' 'gaussian' 'conv+b|conv+b' --seed 4 --n_latents 10 --latent_act exp --comment exp</span>\n",
       "<span style=\"color: #008000; text-decoration-color: #008000\">--init_scale 0.0001\"</span>,\n",
       "        <span style=\"color: #008000; text-decoration-color: #008000\">\"./fit_vae.sh '0' 'MNIST' 'laplace' 'conv+b|conv+b' --seed 4 --n_latents 10 --latent_act exp --comment exp </span>\n",
       "<span style=\"color: #008000; text-decoration-color: #008000\">--init_scale 0.0001\"</span>,\n",
       "        <span style=\"color: #008000; text-decoration-color: #008000\">\"./fit_vae.sh '0' 'MNIST' 'gaussian' 'conv+b|conv+b' --seed 5 --n_latents 10 --latent_act exp --comment exp</span>\n",
       "<span style=\"color: #008000; text-decoration-color: #008000\">--init_scale 0.0001\"</span>,\n",
       "        <span style=\"color: #008000; text-decoration-color: #008000\">\"./fit_vae.sh '0' 'MNIST' 'laplace' 'conv+b|conv+b' --seed 5 --n_latents 10 --latent_act exp --comment exp </span>\n",
       "<span style=\"color: #008000; text-decoration-color: #008000\">--init_scale 0.0001\"</span>\n",
       "    <span style=\"font-weight: bold\">]</span>,\n",
       "    <span style=\"color: #008080; text-decoration-color: #008080; font-weight: bold\">1</span>: <span style=\"font-weight: bold\">[</span>\n",
       "        <span style=\"color: #008000; text-decoration-color: #008000\">\"./fit_vae.sh '1' 'MNIST' 'gaussian' 'conv+b|conv+b' --seed 1 --n_latents 50 --latent_act relu --comment </span>\n",
       "<span style=\"color: #008000; text-decoration-color: #008000\">relu\"</span>,\n",
       "        <span style=\"color: #008000; text-decoration-color: #008000\">\"./fit_vae.sh '1' 'MNIST' 'laplace' 'conv+b|conv+b' --seed 1 --n_latents 50 --latent_act relu --comment </span>\n",
       "<span style=\"color: #008000; text-decoration-color: #008000\">relu\"</span>,\n",
       "        <span style=\"color: #008000; text-decoration-color: #008000\">\"./fit_vae.sh '1' 'MNIST' 'gaussian' 'conv+b|conv+b' --seed 2 --n_latents 50 --latent_act relu --comment </span>\n",
       "<span style=\"color: #008000; text-decoration-color: #008000\">relu\"</span>,\n",
       "        <span style=\"color: #008000; text-decoration-color: #008000\">\"./fit_vae.sh '1' 'MNIST' 'laplace' 'conv+b|conv+b' --seed 2 --n_latents 50 --latent_act relu --comment </span>\n",
       "<span style=\"color: #008000; text-decoration-color: #008000\">relu\"</span>,\n",
       "        <span style=\"color: #008000; text-decoration-color: #008000\">\"./fit_vae.sh '1' 'MNIST' 'gaussian' 'conv+b|conv+b' --seed 3 --n_latents 50 --latent_act relu --comment </span>\n",
       "<span style=\"color: #008000; text-decoration-color: #008000\">relu\"</span>,\n",
       "        <span style=\"color: #008000; text-decoration-color: #008000\">\"./fit_vae.sh '1' 'MNIST' 'laplace' 'conv+b|conv+b' --seed 3 --n_latents 50 --latent_act relu --comment </span>\n",
       "<span style=\"color: #008000; text-decoration-color: #008000\">relu\"</span>,\n",
       "        <span style=\"color: #008000; text-decoration-color: #008000\">\"./fit_vae.sh '1' 'MNIST' 'gaussian' 'conv+b|conv+b' --seed 4 --n_latents 50 --latent_act relu --comment </span>\n",
       "<span style=\"color: #008000; text-decoration-color: #008000\">relu\"</span>,\n",
       "        <span style=\"color: #008000; text-decoration-color: #008000\">\"./fit_vae.sh '1' 'MNIST' 'laplace' 'conv+b|conv+b' --seed 4 --n_latents 50 --latent_act relu --comment </span>\n",
       "<span style=\"color: #008000; text-decoration-color: #008000\">relu\"</span>,\n",
       "        <span style=\"color: #008000; text-decoration-color: #008000\">\"./fit_vae.sh '1' 'MNIST' 'gaussian' 'conv+b|conv+b' --seed 5 --n_latents 50 --latent_act relu --comment </span>\n",
       "<span style=\"color: #008000; text-decoration-color: #008000\">relu\"</span>,\n",
       "        <span style=\"color: #008000; text-decoration-color: #008000\">\"./fit_vae.sh '1' 'MNIST' 'laplace' 'conv+b|conv+b' --seed 5 --n_latents 50 --latent_act relu --comment </span>\n",
       "<span style=\"color: #008000; text-decoration-color: #008000\">relu\"</span>,\n",
       "        <span style=\"color: #008000; text-decoration-color: #008000\">\"./fit_vae.sh '1' 'MNIST' 'gaussian' 'conv+b|conv+b' --seed 1 --n_latents 50 --latent_act softplus </span>\n",
       "<span style=\"color: #008000; text-decoration-color: #008000\">--comment softplus\"</span>,\n",
       "        <span style=\"color: #008000; text-decoration-color: #008000\">\"./fit_vae.sh '1' 'MNIST' 'laplace' 'conv+b|conv+b' --seed 1 --n_latents 50 --latent_act softplus --comment</span>\n",
       "<span style=\"color: #008000; text-decoration-color: #008000\">softplus\"</span>,\n",
       "        <span style=\"color: #008000; text-decoration-color: #008000\">\"./fit_vae.sh '1' 'MNIST' 'gaussian' 'conv+b|conv+b' --seed 2 --n_latents 50 --latent_act softplus </span>\n",
       "<span style=\"color: #008000; text-decoration-color: #008000\">--comment softplus\"</span>,\n",
       "        <span style=\"color: #008000; text-decoration-color: #008000\">\"./fit_vae.sh '1' 'MNIST' 'laplace' 'conv+b|conv+b' --seed 2 --n_latents 50 --latent_act softplus --comment</span>\n",
       "<span style=\"color: #008000; text-decoration-color: #008000\">softplus\"</span>,\n",
       "        <span style=\"color: #008000; text-decoration-color: #008000\">\"./fit_vae.sh '1' 'MNIST' 'gaussian' 'conv+b|conv+b' --seed 3 --n_latents 50 --latent_act softplus </span>\n",
       "<span style=\"color: #008000; text-decoration-color: #008000\">--comment softplus\"</span>,\n",
       "        <span style=\"color: #008000; text-decoration-color: #008000\">\"./fit_vae.sh '1' 'MNIST' 'laplace' 'conv+b|conv+b' --seed 3 --n_latents 50 --latent_act softplus --comment</span>\n",
       "<span style=\"color: #008000; text-decoration-color: #008000\">softplus\"</span>,\n",
       "        <span style=\"color: #008000; text-decoration-color: #008000\">\"./fit_vae.sh '1' 'MNIST' 'gaussian' 'conv+b|conv+b' --seed 4 --n_latents 50 --latent_act softplus </span>\n",
       "<span style=\"color: #008000; text-decoration-color: #008000\">--comment softplus\"</span>,\n",
       "        <span style=\"color: #008000; text-decoration-color: #008000\">\"./fit_vae.sh '1' 'MNIST' 'laplace' 'conv+b|conv+b' --seed 4 --n_latents 50 --latent_act softplus --comment</span>\n",
       "<span style=\"color: #008000; text-decoration-color: #008000\">softplus\"</span>,\n",
       "        <span style=\"color: #008000; text-decoration-color: #008000\">\"./fit_vae.sh '1' 'MNIST' 'gaussian' 'conv+b|conv+b' --seed 5 --n_latents 50 --latent_act softplus </span>\n",
       "<span style=\"color: #008000; text-decoration-color: #008000\">--comment softplus\"</span>,\n",
       "        <span style=\"color: #008000; text-decoration-color: #008000\">\"./fit_vae.sh '1' 'MNIST' 'laplace' 'conv+b|conv+b' --seed 5 --n_latents 50 --latent_act softplus --comment</span>\n",
       "<span style=\"color: #008000; text-decoration-color: #008000\">softplus\"</span>,\n",
       "        <span style=\"color: #008000; text-decoration-color: #008000\">\"./fit_vae.sh '1' 'MNIST' 'gaussian' 'conv+b|conv+b' --seed 1 --n_latents 50 --latent_act square --comment </span>\n",
       "<span style=\"color: #008000; text-decoration-color: #008000\">square\"</span>,\n",
       "        <span style=\"color: #008000; text-decoration-color: #008000\">\"./fit_vae.sh '1' 'MNIST' 'laplace' 'conv+b|conv+b' --seed 1 --n_latents 50 --latent_act square --comment </span>\n",
       "<span style=\"color: #008000; text-decoration-color: #008000\">square\"</span>,\n",
       "        <span style=\"color: #008000; text-decoration-color: #008000\">\"./fit_vae.sh '1' 'MNIST' 'gaussian' 'conv+b|conv+b' --seed 2 --n_latents 50 --latent_act square --comment </span>\n",
       "<span style=\"color: #008000; text-decoration-color: #008000\">square\"</span>,\n",
       "        <span style=\"color: #008000; text-decoration-color: #008000\">\"./fit_vae.sh '1' 'MNIST' 'laplace' 'conv+b|conv+b' --seed 2 --n_latents 50 --latent_act square --comment </span>\n",
       "<span style=\"color: #008000; text-decoration-color: #008000\">square\"</span>,\n",
       "        <span style=\"color: #008000; text-decoration-color: #008000\">\"./fit_vae.sh '1' 'MNIST' 'gaussian' 'conv+b|conv+b' --seed 3 --n_latents 50 --latent_act square --comment </span>\n",
       "<span style=\"color: #008000; text-decoration-color: #008000\">square\"</span>,\n",
       "        <span style=\"color: #008000; text-decoration-color: #008000\">\"./fit_vae.sh '1' 'MNIST' 'laplace' 'conv+b|conv+b' --seed 3 --n_latents 50 --latent_act square --comment </span>\n",
       "<span style=\"color: #008000; text-decoration-color: #008000\">square\"</span>,\n",
       "        <span style=\"color: #008000; text-decoration-color: #008000\">\"./fit_vae.sh '1' 'MNIST' 'gaussian' 'conv+b|conv+b' --seed 4 --n_latents 50 --latent_act square --comment </span>\n",
       "<span style=\"color: #008000; text-decoration-color: #008000\">square\"</span>,\n",
       "        <span style=\"color: #008000; text-decoration-color: #008000\">\"./fit_vae.sh '1' 'MNIST' 'laplace' 'conv+b|conv+b' --seed 4 --n_latents 50 --latent_act square --comment </span>\n",
       "<span style=\"color: #008000; text-decoration-color: #008000\">square\"</span>,\n",
       "        <span style=\"color: #008000; text-decoration-color: #008000\">\"./fit_vae.sh '1' 'MNIST' 'gaussian' 'conv+b|conv+b' --seed 5 --n_latents 50 --latent_act square --comment </span>\n",
       "<span style=\"color: #008000; text-decoration-color: #008000\">square\"</span>,\n",
       "        <span style=\"color: #008000; text-decoration-color: #008000\">\"./fit_vae.sh '1' 'MNIST' 'laplace' 'conv+b|conv+b' --seed 5 --n_latents 50 --latent_act square --comment </span>\n",
       "<span style=\"color: #008000; text-decoration-color: #008000\">square\"</span>,\n",
       "        <span style=\"color: #008000; text-decoration-color: #008000\">\"./fit_vae.sh '1' 'MNIST' 'gaussian' 'conv+b|conv+b' --seed 1 --n_latents 50 --latent_act exp --comment exp</span>\n",
       "<span style=\"color: #008000; text-decoration-color: #008000\">--init_scale 0.0001\"</span>,\n",
       "        <span style=\"color: #008000; text-decoration-color: #008000\">\"./fit_vae.sh '1' 'MNIST' 'laplace' 'conv+b|conv+b' --seed 1 --n_latents 50 --latent_act exp --comment exp </span>\n",
       "<span style=\"color: #008000; text-decoration-color: #008000\">--init_scale 0.0001\"</span>,\n",
       "        <span style=\"color: #008000; text-decoration-color: #008000\">\"./fit_vae.sh '1' 'MNIST' 'gaussian' 'conv+b|conv+b' --seed 2 --n_latents 50 --latent_act exp --comment exp</span>\n",
       "<span style=\"color: #008000; text-decoration-color: #008000\">--init_scale 0.0001\"</span>,\n",
       "        <span style=\"color: #008000; text-decoration-color: #008000\">\"./fit_vae.sh '1' 'MNIST' 'laplace' 'conv+b|conv+b' --seed 2 --n_latents 50 --latent_act exp --comment exp </span>\n",
       "<span style=\"color: #008000; text-decoration-color: #008000\">--init_scale 0.0001\"</span>,\n",
       "        <span style=\"color: #008000; text-decoration-color: #008000\">\"./fit_vae.sh '1' 'MNIST' 'gaussian' 'conv+b|conv+b' --seed 3 --n_latents 50 --latent_act exp --comment exp</span>\n",
       "<span style=\"color: #008000; text-decoration-color: #008000\">--init_scale 0.0001\"</span>,\n",
       "        <span style=\"color: #008000; text-decoration-color: #008000\">\"./fit_vae.sh '1' 'MNIST' 'laplace' 'conv+b|conv+b' --seed 3 --n_latents 50 --latent_act exp --comment exp </span>\n",
       "<span style=\"color: #008000; text-decoration-color: #008000\">--init_scale 0.0001\"</span>,\n",
       "        <span style=\"color: #008000; text-decoration-color: #008000\">\"./fit_vae.sh '1' 'MNIST' 'gaussian' 'conv+b|conv+b' --seed 4 --n_latents 50 --latent_act exp --comment exp</span>\n",
       "<span style=\"color: #008000; text-decoration-color: #008000\">--init_scale 0.0001\"</span>,\n",
       "        <span style=\"color: #008000; text-decoration-color: #008000\">\"./fit_vae.sh '1' 'MNIST' 'laplace' 'conv+b|conv+b' --seed 4 --n_latents 50 --latent_act exp --comment exp </span>\n",
       "<span style=\"color: #008000; text-decoration-color: #008000\">--init_scale 0.0001\"</span>,\n",
       "        <span style=\"color: #008000; text-decoration-color: #008000\">\"./fit_vae.sh '1' 'MNIST' 'gaussian' 'conv+b|conv+b' --seed 5 --n_latents 50 --latent_act exp --comment exp</span>\n",
       "<span style=\"color: #008000; text-decoration-color: #008000\">--init_scale 0.0001\"</span>,\n",
       "        <span style=\"color: #008000; text-decoration-color: #008000\">\"./fit_vae.sh '1' 'MNIST' 'laplace' 'conv+b|conv+b' --seed 5 --n_latents 50 --latent_act exp --comment exp </span>\n",
       "<span style=\"color: #008000; text-decoration-color: #008000\">--init_scale 0.0001\"</span>\n",
       "    <span style=\"font-weight: bold\">]</span>\n",
       "<span style=\"font-weight: bold\">}</span>\n",
       "</pre>\n"
      ],
      "text/plain": [
       "\u001b[1m{\u001b[0m\n",
       "    \u001b[1;36m0\u001b[0m: \u001b[1m[\u001b[0m\n",
       "        \u001b[32m\"./fit_vae.sh '0' 'MNIST' 'gaussian' 'conv+b|conv+b' --seed 1 --n_latents 10 --latent_act relu --comment \u001b[0m\n",
       "\u001b[32mrelu\"\u001b[0m,\n",
       "        \u001b[32m\"./fit_vae.sh '0' 'MNIST' 'laplace' 'conv+b|conv+b' --seed 1 --n_latents 10 --latent_act relu --comment \u001b[0m\n",
       "\u001b[32mrelu\"\u001b[0m,\n",
       "        \u001b[32m\"./fit_vae.sh '0' 'MNIST' 'gaussian' 'conv+b|conv+b' --seed 2 --n_latents 10 --latent_act relu --comment \u001b[0m\n",
       "\u001b[32mrelu\"\u001b[0m,\n",
       "        \u001b[32m\"./fit_vae.sh '0' 'MNIST' 'laplace' 'conv+b|conv+b' --seed 2 --n_latents 10 --latent_act relu --comment \u001b[0m\n",
       "\u001b[32mrelu\"\u001b[0m,\n",
       "        \u001b[32m\"./fit_vae.sh '0' 'MNIST' 'gaussian' 'conv+b|conv+b' --seed 3 --n_latents 10 --latent_act relu --comment \u001b[0m\n",
       "\u001b[32mrelu\"\u001b[0m,\n",
       "        \u001b[32m\"./fit_vae.sh '0' 'MNIST' 'laplace' 'conv+b|conv+b' --seed 3 --n_latents 10 --latent_act relu --comment \u001b[0m\n",
       "\u001b[32mrelu\"\u001b[0m,\n",
       "        \u001b[32m\"./fit_vae.sh '0' 'MNIST' 'gaussian' 'conv+b|conv+b' --seed 4 --n_latents 10 --latent_act relu --comment \u001b[0m\n",
       "\u001b[32mrelu\"\u001b[0m,\n",
       "        \u001b[32m\"./fit_vae.sh '0' 'MNIST' 'laplace' 'conv+b|conv+b' --seed 4 --n_latents 10 --latent_act relu --comment \u001b[0m\n",
       "\u001b[32mrelu\"\u001b[0m,\n",
       "        \u001b[32m\"./fit_vae.sh '0' 'MNIST' 'gaussian' 'conv+b|conv+b' --seed 5 --n_latents 10 --latent_act relu --comment \u001b[0m\n",
       "\u001b[32mrelu\"\u001b[0m,\n",
       "        \u001b[32m\"./fit_vae.sh '0' 'MNIST' 'laplace' 'conv+b|conv+b' --seed 5 --n_latents 10 --latent_act relu --comment \u001b[0m\n",
       "\u001b[32mrelu\"\u001b[0m,\n",
       "        \u001b[32m\"./fit_vae.sh '0' 'MNIST' 'gaussian' 'conv+b|conv+b' --seed 1 --n_latents 10 --latent_act softplus \u001b[0m\n",
       "\u001b[32m--comment softplus\"\u001b[0m,\n",
       "        \u001b[32m\"./fit_vae.sh '0' 'MNIST' 'laplace' 'conv+b|conv+b' --seed 1 --n_latents 10 --latent_act softplus --comment\u001b[0m\n",
       "\u001b[32msoftplus\"\u001b[0m,\n",
       "        \u001b[32m\"./fit_vae.sh '0' 'MNIST' 'gaussian' 'conv+b|conv+b' --seed 2 --n_latents 10 --latent_act softplus \u001b[0m\n",
       "\u001b[32m--comment softplus\"\u001b[0m,\n",
       "        \u001b[32m\"./fit_vae.sh '0' 'MNIST' 'laplace' 'conv+b|conv+b' --seed 2 --n_latents 10 --latent_act softplus --comment\u001b[0m\n",
       "\u001b[32msoftplus\"\u001b[0m,\n",
       "        \u001b[32m\"./fit_vae.sh '0' 'MNIST' 'gaussian' 'conv+b|conv+b' --seed 3 --n_latents 10 --latent_act softplus \u001b[0m\n",
       "\u001b[32m--comment softplus\"\u001b[0m,\n",
       "        \u001b[32m\"./fit_vae.sh '0' 'MNIST' 'laplace' 'conv+b|conv+b' --seed 3 --n_latents 10 --latent_act softplus --comment\u001b[0m\n",
       "\u001b[32msoftplus\"\u001b[0m,\n",
       "        \u001b[32m\"./fit_vae.sh '0' 'MNIST' 'gaussian' 'conv+b|conv+b' --seed 4 --n_latents 10 --latent_act softplus \u001b[0m\n",
       "\u001b[32m--comment softplus\"\u001b[0m,\n",
       "        \u001b[32m\"./fit_vae.sh '0' 'MNIST' 'laplace' 'conv+b|conv+b' --seed 4 --n_latents 10 --latent_act softplus --comment\u001b[0m\n",
       "\u001b[32msoftplus\"\u001b[0m,\n",
       "        \u001b[32m\"./fit_vae.sh '0' 'MNIST' 'gaussian' 'conv+b|conv+b' --seed 5 --n_latents 10 --latent_act softplus \u001b[0m\n",
       "\u001b[32m--comment softplus\"\u001b[0m,\n",
       "        \u001b[32m\"./fit_vae.sh '0' 'MNIST' 'laplace' 'conv+b|conv+b' --seed 5 --n_latents 10 --latent_act softplus --comment\u001b[0m\n",
       "\u001b[32msoftplus\"\u001b[0m,\n",
       "        \u001b[32m\"./fit_vae.sh '0' 'MNIST' 'gaussian' 'conv+b|conv+b' --seed 1 --n_latents 10 --latent_act square --comment \u001b[0m\n",
       "\u001b[32msquare\"\u001b[0m,\n",
       "        \u001b[32m\"./fit_vae.sh '0' 'MNIST' 'laplace' 'conv+b|conv+b' --seed 1 --n_latents 10 --latent_act square --comment \u001b[0m\n",
       "\u001b[32msquare\"\u001b[0m,\n",
       "        \u001b[32m\"./fit_vae.sh '0' 'MNIST' 'gaussian' 'conv+b|conv+b' --seed 2 --n_latents 10 --latent_act square --comment \u001b[0m\n",
       "\u001b[32msquare\"\u001b[0m,\n",
       "        \u001b[32m\"./fit_vae.sh '0' 'MNIST' 'laplace' 'conv+b|conv+b' --seed 2 --n_latents 10 --latent_act square --comment \u001b[0m\n",
       "\u001b[32msquare\"\u001b[0m,\n",
       "        \u001b[32m\"./fit_vae.sh '0' 'MNIST' 'gaussian' 'conv+b|conv+b' --seed 3 --n_latents 10 --latent_act square --comment \u001b[0m\n",
       "\u001b[32msquare\"\u001b[0m,\n",
       "        \u001b[32m\"./fit_vae.sh '0' 'MNIST' 'laplace' 'conv+b|conv+b' --seed 3 --n_latents 10 --latent_act square --comment \u001b[0m\n",
       "\u001b[32msquare\"\u001b[0m,\n",
       "        \u001b[32m\"./fit_vae.sh '0' 'MNIST' 'gaussian' 'conv+b|conv+b' --seed 4 --n_latents 10 --latent_act square --comment \u001b[0m\n",
       "\u001b[32msquare\"\u001b[0m,\n",
       "        \u001b[32m\"./fit_vae.sh '0' 'MNIST' 'laplace' 'conv+b|conv+b' --seed 4 --n_latents 10 --latent_act square --comment \u001b[0m\n",
       "\u001b[32msquare\"\u001b[0m,\n",
       "        \u001b[32m\"./fit_vae.sh '0' 'MNIST' 'gaussian' 'conv+b|conv+b' --seed 5 --n_latents 10 --latent_act square --comment \u001b[0m\n",
       "\u001b[32msquare\"\u001b[0m,\n",
       "        \u001b[32m\"./fit_vae.sh '0' 'MNIST' 'laplace' 'conv+b|conv+b' --seed 5 --n_latents 10 --latent_act square --comment \u001b[0m\n",
       "\u001b[32msquare\"\u001b[0m,\n",
       "        \u001b[32m\"./fit_vae.sh '0' 'MNIST' 'gaussian' 'conv+b|conv+b' --seed 1 --n_latents 10 --latent_act exp --comment exp\u001b[0m\n",
       "\u001b[32m--init_scale 0.0001\"\u001b[0m,\n",
       "        \u001b[32m\"./fit_vae.sh '0' 'MNIST' 'laplace' 'conv+b|conv+b' --seed 1 --n_latents 10 --latent_act exp --comment exp \u001b[0m\n",
       "\u001b[32m--init_scale 0.0001\"\u001b[0m,\n",
       "        \u001b[32m\"./fit_vae.sh '0' 'MNIST' 'gaussian' 'conv+b|conv+b' --seed 2 --n_latents 10 --latent_act exp --comment exp\u001b[0m\n",
       "\u001b[32m--init_scale 0.0001\"\u001b[0m,\n",
       "        \u001b[32m\"./fit_vae.sh '0' 'MNIST' 'laplace' 'conv+b|conv+b' --seed 2 --n_latents 10 --latent_act exp --comment exp \u001b[0m\n",
       "\u001b[32m--init_scale 0.0001\"\u001b[0m,\n",
       "        \u001b[32m\"./fit_vae.sh '0' 'MNIST' 'gaussian' 'conv+b|conv+b' --seed 3 --n_latents 10 --latent_act exp --comment exp\u001b[0m\n",
       "\u001b[32m--init_scale 0.0001\"\u001b[0m,\n",
       "        \u001b[32m\"./fit_vae.sh '0' 'MNIST' 'laplace' 'conv+b|conv+b' --seed 3 --n_latents 10 --latent_act exp --comment exp \u001b[0m\n",
       "\u001b[32m--init_scale 0.0001\"\u001b[0m,\n",
       "        \u001b[32m\"./fit_vae.sh '0' 'MNIST' 'gaussian' 'conv+b|conv+b' --seed 4 --n_latents 10 --latent_act exp --comment exp\u001b[0m\n",
       "\u001b[32m--init_scale 0.0001\"\u001b[0m,\n",
       "        \u001b[32m\"./fit_vae.sh '0' 'MNIST' 'laplace' 'conv+b|conv+b' --seed 4 --n_latents 10 --latent_act exp --comment exp \u001b[0m\n",
       "\u001b[32m--init_scale 0.0001\"\u001b[0m,\n",
       "        \u001b[32m\"./fit_vae.sh '0' 'MNIST' 'gaussian' 'conv+b|conv+b' --seed 5 --n_latents 10 --latent_act exp --comment exp\u001b[0m\n",
       "\u001b[32m--init_scale 0.0001\"\u001b[0m,\n",
       "        \u001b[32m\"./fit_vae.sh '0' 'MNIST' 'laplace' 'conv+b|conv+b' --seed 5 --n_latents 10 --latent_act exp --comment exp \u001b[0m\n",
       "\u001b[32m--init_scale 0.0001\"\u001b[0m\n",
       "    \u001b[1m]\u001b[0m,\n",
       "    \u001b[1;36m1\u001b[0m: \u001b[1m[\u001b[0m\n",
       "        \u001b[32m\"./fit_vae.sh '1' 'MNIST' 'gaussian' 'conv+b|conv+b' --seed 1 --n_latents 50 --latent_act relu --comment \u001b[0m\n",
       "\u001b[32mrelu\"\u001b[0m,\n",
       "        \u001b[32m\"./fit_vae.sh '1' 'MNIST' 'laplace' 'conv+b|conv+b' --seed 1 --n_latents 50 --latent_act relu --comment \u001b[0m\n",
       "\u001b[32mrelu\"\u001b[0m,\n",
       "        \u001b[32m\"./fit_vae.sh '1' 'MNIST' 'gaussian' 'conv+b|conv+b' --seed 2 --n_latents 50 --latent_act relu --comment \u001b[0m\n",
       "\u001b[32mrelu\"\u001b[0m,\n",
       "        \u001b[32m\"./fit_vae.sh '1' 'MNIST' 'laplace' 'conv+b|conv+b' --seed 2 --n_latents 50 --latent_act relu --comment \u001b[0m\n",
       "\u001b[32mrelu\"\u001b[0m,\n",
       "        \u001b[32m\"./fit_vae.sh '1' 'MNIST' 'gaussian' 'conv+b|conv+b' --seed 3 --n_latents 50 --latent_act relu --comment \u001b[0m\n",
       "\u001b[32mrelu\"\u001b[0m,\n",
       "        \u001b[32m\"./fit_vae.sh '1' 'MNIST' 'laplace' 'conv+b|conv+b' --seed 3 --n_latents 50 --latent_act relu --comment \u001b[0m\n",
       "\u001b[32mrelu\"\u001b[0m,\n",
       "        \u001b[32m\"./fit_vae.sh '1' 'MNIST' 'gaussian' 'conv+b|conv+b' --seed 4 --n_latents 50 --latent_act relu --comment \u001b[0m\n",
       "\u001b[32mrelu\"\u001b[0m,\n",
       "        \u001b[32m\"./fit_vae.sh '1' 'MNIST' 'laplace' 'conv+b|conv+b' --seed 4 --n_latents 50 --latent_act relu --comment \u001b[0m\n",
       "\u001b[32mrelu\"\u001b[0m,\n",
       "        \u001b[32m\"./fit_vae.sh '1' 'MNIST' 'gaussian' 'conv+b|conv+b' --seed 5 --n_latents 50 --latent_act relu --comment \u001b[0m\n",
       "\u001b[32mrelu\"\u001b[0m,\n",
       "        \u001b[32m\"./fit_vae.sh '1' 'MNIST' 'laplace' 'conv+b|conv+b' --seed 5 --n_latents 50 --latent_act relu --comment \u001b[0m\n",
       "\u001b[32mrelu\"\u001b[0m,\n",
       "        \u001b[32m\"./fit_vae.sh '1' 'MNIST' 'gaussian' 'conv+b|conv+b' --seed 1 --n_latents 50 --latent_act softplus \u001b[0m\n",
       "\u001b[32m--comment softplus\"\u001b[0m,\n",
       "        \u001b[32m\"./fit_vae.sh '1' 'MNIST' 'laplace' 'conv+b|conv+b' --seed 1 --n_latents 50 --latent_act softplus --comment\u001b[0m\n",
       "\u001b[32msoftplus\"\u001b[0m,\n",
       "        \u001b[32m\"./fit_vae.sh '1' 'MNIST' 'gaussian' 'conv+b|conv+b' --seed 2 --n_latents 50 --latent_act softplus \u001b[0m\n",
       "\u001b[32m--comment softplus\"\u001b[0m,\n",
       "        \u001b[32m\"./fit_vae.sh '1' 'MNIST' 'laplace' 'conv+b|conv+b' --seed 2 --n_latents 50 --latent_act softplus --comment\u001b[0m\n",
       "\u001b[32msoftplus\"\u001b[0m,\n",
       "        \u001b[32m\"./fit_vae.sh '1' 'MNIST' 'gaussian' 'conv+b|conv+b' --seed 3 --n_latents 50 --latent_act softplus \u001b[0m\n",
       "\u001b[32m--comment softplus\"\u001b[0m,\n",
       "        \u001b[32m\"./fit_vae.sh '1' 'MNIST' 'laplace' 'conv+b|conv+b' --seed 3 --n_latents 50 --latent_act softplus --comment\u001b[0m\n",
       "\u001b[32msoftplus\"\u001b[0m,\n",
       "        \u001b[32m\"./fit_vae.sh '1' 'MNIST' 'gaussian' 'conv+b|conv+b' --seed 4 --n_latents 50 --latent_act softplus \u001b[0m\n",
       "\u001b[32m--comment softplus\"\u001b[0m,\n",
       "        \u001b[32m\"./fit_vae.sh '1' 'MNIST' 'laplace' 'conv+b|conv+b' --seed 4 --n_latents 50 --latent_act softplus --comment\u001b[0m\n",
       "\u001b[32msoftplus\"\u001b[0m,\n",
       "        \u001b[32m\"./fit_vae.sh '1' 'MNIST' 'gaussian' 'conv+b|conv+b' --seed 5 --n_latents 50 --latent_act softplus \u001b[0m\n",
       "\u001b[32m--comment softplus\"\u001b[0m,\n",
       "        \u001b[32m\"./fit_vae.sh '1' 'MNIST' 'laplace' 'conv+b|conv+b' --seed 5 --n_latents 50 --latent_act softplus --comment\u001b[0m\n",
       "\u001b[32msoftplus\"\u001b[0m,\n",
       "        \u001b[32m\"./fit_vae.sh '1' 'MNIST' 'gaussian' 'conv+b|conv+b' --seed 1 --n_latents 50 --latent_act square --comment \u001b[0m\n",
       "\u001b[32msquare\"\u001b[0m,\n",
       "        \u001b[32m\"./fit_vae.sh '1' 'MNIST' 'laplace' 'conv+b|conv+b' --seed 1 --n_latents 50 --latent_act square --comment \u001b[0m\n",
       "\u001b[32msquare\"\u001b[0m,\n",
       "        \u001b[32m\"./fit_vae.sh '1' 'MNIST' 'gaussian' 'conv+b|conv+b' --seed 2 --n_latents 50 --latent_act square --comment \u001b[0m\n",
       "\u001b[32msquare\"\u001b[0m,\n",
       "        \u001b[32m\"./fit_vae.sh '1' 'MNIST' 'laplace' 'conv+b|conv+b' --seed 2 --n_latents 50 --latent_act square --comment \u001b[0m\n",
       "\u001b[32msquare\"\u001b[0m,\n",
       "        \u001b[32m\"./fit_vae.sh '1' 'MNIST' 'gaussian' 'conv+b|conv+b' --seed 3 --n_latents 50 --latent_act square --comment \u001b[0m\n",
       "\u001b[32msquare\"\u001b[0m,\n",
       "        \u001b[32m\"./fit_vae.sh '1' 'MNIST' 'laplace' 'conv+b|conv+b' --seed 3 --n_latents 50 --latent_act square --comment \u001b[0m\n",
       "\u001b[32msquare\"\u001b[0m,\n",
       "        \u001b[32m\"./fit_vae.sh '1' 'MNIST' 'gaussian' 'conv+b|conv+b' --seed 4 --n_latents 50 --latent_act square --comment \u001b[0m\n",
       "\u001b[32msquare\"\u001b[0m,\n",
       "        \u001b[32m\"./fit_vae.sh '1' 'MNIST' 'laplace' 'conv+b|conv+b' --seed 4 --n_latents 50 --latent_act square --comment \u001b[0m\n",
       "\u001b[32msquare\"\u001b[0m,\n",
       "        \u001b[32m\"./fit_vae.sh '1' 'MNIST' 'gaussian' 'conv+b|conv+b' --seed 5 --n_latents 50 --latent_act square --comment \u001b[0m\n",
       "\u001b[32msquare\"\u001b[0m,\n",
       "        \u001b[32m\"./fit_vae.sh '1' 'MNIST' 'laplace' 'conv+b|conv+b' --seed 5 --n_latents 50 --latent_act square --comment \u001b[0m\n",
       "\u001b[32msquare\"\u001b[0m,\n",
       "        \u001b[32m\"./fit_vae.sh '1' 'MNIST' 'gaussian' 'conv+b|conv+b' --seed 1 --n_latents 50 --latent_act exp --comment exp\u001b[0m\n",
       "\u001b[32m--init_scale 0.0001\"\u001b[0m,\n",
       "        \u001b[32m\"./fit_vae.sh '1' 'MNIST' 'laplace' 'conv+b|conv+b' --seed 1 --n_latents 50 --latent_act exp --comment exp \u001b[0m\n",
       "\u001b[32m--init_scale 0.0001\"\u001b[0m,\n",
       "        \u001b[32m\"./fit_vae.sh '1' 'MNIST' 'gaussian' 'conv+b|conv+b' --seed 2 --n_latents 50 --latent_act exp --comment exp\u001b[0m\n",
       "\u001b[32m--init_scale 0.0001\"\u001b[0m,\n",
       "        \u001b[32m\"./fit_vae.sh '1' 'MNIST' 'laplace' 'conv+b|conv+b' --seed 2 --n_latents 50 --latent_act exp --comment exp \u001b[0m\n",
       "\u001b[32m--init_scale 0.0001\"\u001b[0m,\n",
       "        \u001b[32m\"./fit_vae.sh '1' 'MNIST' 'gaussian' 'conv+b|conv+b' --seed 3 --n_latents 50 --latent_act exp --comment exp\u001b[0m\n",
       "\u001b[32m--init_scale 0.0001\"\u001b[0m,\n",
       "        \u001b[32m\"./fit_vae.sh '1' 'MNIST' 'laplace' 'conv+b|conv+b' --seed 3 --n_latents 50 --latent_act exp --comment exp \u001b[0m\n",
       "\u001b[32m--init_scale 0.0001\"\u001b[0m,\n",
       "        \u001b[32m\"./fit_vae.sh '1' 'MNIST' 'gaussian' 'conv+b|conv+b' --seed 4 --n_latents 50 --latent_act exp --comment exp\u001b[0m\n",
       "\u001b[32m--init_scale 0.0001\"\u001b[0m,\n",
       "        \u001b[32m\"./fit_vae.sh '1' 'MNIST' 'laplace' 'conv+b|conv+b' --seed 4 --n_latents 50 --latent_act exp --comment exp \u001b[0m\n",
       "\u001b[32m--init_scale 0.0001\"\u001b[0m,\n",
       "        \u001b[32m\"./fit_vae.sh '1' 'MNIST' 'gaussian' 'conv+b|conv+b' --seed 5 --n_latents 50 --latent_act exp --comment exp\u001b[0m\n",
       "\u001b[32m--init_scale 0.0001\"\u001b[0m,\n",
       "        \u001b[32m\"./fit_vae.sh '1' 'MNIST' 'laplace' 'conv+b|conv+b' --seed 5 --n_latents 50 --latent_act exp --comment exp \u001b[0m\n",
       "\u001b[32m--init_scale 0.0001\"\u001b[0m\n",
       "    \u001b[1m]\u001b[0m\n",
       "\u001b[1m}\u001b[0m\n"
      ]
     },
     "metadata": {},
     "output_type": "display_data"
    }
   ],
   "source": [
    "print(scripts_chewie)"
   ]
  },
  {
   "cell_type": "code",
   "execution_count": null,
   "id": "575b1379-2396-4fd9-b635-0af20d127cb8",
   "metadata": {},
   "outputs": [],
   "source": []
  },
  {
   "cell_type": "code",
   "execution_count": null,
   "id": "2cc8cabc-ace8-4e65-88bb-1967d8c25184",
   "metadata": {},
   "outputs": [],
   "source": []
  },
  {
   "cell_type": "markdown",
   "id": "8d4467a9-9cc0-4010-abe6-863ba1fc8e53",
   "metadata": {},
   "source": [
    "## Gausian w/ activation function\n",
    "\n",
    "- Apply relu and exp\n",
    "- Only do ```k=100```\n",
    "- use mach"
   ]
  },
  {
   "cell_type": "code",
   "execution_count": 5,
   "id": "ed0aa42d-20da-4de5-9a0e-3dc3ee6bf213",
   "metadata": {},
   "outputs": [],
   "source": [
    "host = 'mach'\n",
    "_cleanup(save_dir, host)\n",
    "\n",
    "scripts_mach = collections.defaultdict(list)\n",
    "tot = 0"
   ]
  },
  {
   "cell_type": "code",
   "execution_count": 6,
   "id": "9ba48163-867c-4060-85bc-243fe374fa67",
   "metadata": {},
   "outputs": [],
   "source": [
    "k = 100\n",
    "\n",
    "for fn in ['relu', 'exp']:\n",
    "    # arg\n",
    "    arg = f\"--n_latents {k} --latent_act {fn} --comment {fn}\"\n",
    "    if fn == 'exp':\n",
    "        arg = f\"{arg} --init_scale 0.0001\"\n",
    "    arg = f\"{arg} --cudnn_bench\"\n",
    "    \n",
    "    for s in seeds:\n",
    "        gpu_i = tot % 4\n",
    "        scripts_mach[gpu_i].append(job_runner_script(\n",
    "            device=gpu_i,\n",
    "            archi='conv+b|conv+b',\n",
    "            dataset='MNIST',\n",
    "            model='gaussian',\n",
    "            args=arg,\n",
    "            seed=s,\n",
    "        ))\n",
    "        tot += 1"
   ]
  },
  {
   "cell_type": "code",
   "execution_count": 7,
   "id": "969f62bc-ddfb-430c-b2b5-89c3e2195b5c",
   "metadata": {},
   "outputs": [
    {
     "data": {
      "text/html": [
       "<pre style=\"white-space:pre;overflow-x:auto;line-height:normal;font-family:Menlo,'DejaVu Sans Mono',consolas,'Courier New',monospace\"><span style=\"color: #008080; text-decoration-color: #008080; font-weight: bold\">10</span>\n",
       "</pre>\n"
      ],
      "text/plain": [
       "\u001b[1;36m10\u001b[0m\n"
      ]
     },
     "metadata": {},
     "output_type": "display_data"
    }
   ],
   "source": [
    "print(tot)"
   ]
  },
  {
   "cell_type": "code",
   "execution_count": null,
   "id": "e92731a5-2c99-405a-adb0-fede19286d1f",
   "metadata": {},
   "outputs": [],
   "source": []
  },
  {
   "cell_type": "code",
   "execution_count": 8,
   "id": "75f38c80-4844-4242-9d96-994895d17f67",
   "metadata": {},
   "outputs": [
    {
     "data": {
      "text/html": [
       "<pre style=\"white-space:pre;overflow-x:auto;line-height:normal;font-family:Menlo,'DejaVu Sans Mono',consolas,'Courier New',monospace\"><span style=\"font-weight: bold\">{</span><span style=\"color: #008080; text-decoration-color: #008080; font-weight: bold\">0</span>: <span style=\"color: #008080; text-decoration-color: #008080; font-weight: bold\">3</span>, <span style=\"color: #008080; text-decoration-color: #008080; font-weight: bold\">1</span>: <span style=\"color: #008080; text-decoration-color: #008080; font-weight: bold\">3</span>, <span style=\"color: #008080; text-decoration-color: #008080; font-weight: bold\">2</span>: <span style=\"color: #008080; text-decoration-color: #008080; font-weight: bold\">2</span>, <span style=\"color: #008080; text-decoration-color: #008080; font-weight: bold\">3</span>: <span style=\"color: #008080; text-decoration-color: #008080; font-weight: bold\">2</span><span style=\"font-weight: bold\">}</span>\n",
       "</pre>\n"
      ],
      "text/plain": [
       "\u001b[1m{\u001b[0m\u001b[1;36m0\u001b[0m: \u001b[1;36m3\u001b[0m, \u001b[1;36m1\u001b[0m: \u001b[1;36m3\u001b[0m, \u001b[1;36m2\u001b[0m: \u001b[1;36m2\u001b[0m, \u001b[1;36m3\u001b[0m: \u001b[1;36m2\u001b[0m\u001b[1m}\u001b[0m\n"
      ]
     },
     "metadata": {},
     "output_type": "display_data"
    }
   ],
   "source": [
    "scripts_mach = dict(scripts_mach)\n",
    "print({k: len(v) for k, v in scripts_mach.items()})"
   ]
  },
  {
   "cell_type": "code",
   "execution_count": null,
   "id": "523ad73f-da9b-4c84-a745-da15ce771979",
   "metadata": {},
   "outputs": [],
   "source": []
  },
  {
   "cell_type": "code",
   "execution_count": 9,
   "id": "a2a06e1e-3276-4cdc-9777-216b750309e9",
   "metadata": {},
   "outputs": [
    {
     "data": {
      "text/html": [
       "<pre style=\"white-space:pre;overflow-x:auto;line-height:normal;font-family:Menlo,'DejaVu Sans Mono',consolas,'Courier New',monospace\"><span style=\"font-weight: bold\">[</span>PROGRESS<span style=\"font-weight: bold\">]</span> <span style=\"color: #008000; text-decoration-color: #008000\">'mach-cuda0-fit0.txt'</span> saved at\n",
       "<span style=\"color: #800080; text-decoration-color: #800080\">/home/hadi/Dropbox/git/_PoissonVAE/</span><span style=\"color: #ff00ff; text-decoration-color: #ff00ff\">scripts</span>\n",
       "</pre>\n"
      ],
      "text/plain": [
       "\u001b[1m[\u001b[0mPROGRESS\u001b[1m]\u001b[0m \u001b[32m'mach-cuda0-fit0.txt'\u001b[0m saved at\n",
       "\u001b[35m/home/hadi/Dropbox/git/_PoissonVAE/\u001b[0m\u001b[95mscripts\u001b[0m\n"
      ]
     },
     "metadata": {},
     "output_type": "display_data"
    },
    {
     "data": {
      "text/html": [
       "<pre style=\"white-space:pre;overflow-x:auto;line-height:normal;font-family:Menlo,'DejaVu Sans Mono',consolas,'Courier New',monospace\"><span style=\"font-weight: bold\">[</span>PROGRESS<span style=\"font-weight: bold\">]</span> <span style=\"color: #008000; text-decoration-color: #008000\">'mach-cuda0-fit1.txt'</span> saved at\n",
       "<span style=\"color: #800080; text-decoration-color: #800080\">/home/hadi/Dropbox/git/_PoissonVAE/</span><span style=\"color: #ff00ff; text-decoration-color: #ff00ff\">scripts</span>\n",
       "</pre>\n"
      ],
      "text/plain": [
       "\u001b[1m[\u001b[0mPROGRESS\u001b[1m]\u001b[0m \u001b[32m'mach-cuda0-fit1.txt'\u001b[0m saved at\n",
       "\u001b[35m/home/hadi/Dropbox/git/_PoissonVAE/\u001b[0m\u001b[95mscripts\u001b[0m\n"
      ]
     },
     "metadata": {},
     "output_type": "display_data"
    },
    {
     "data": {
      "text/html": [
       "<pre style=\"white-space:pre;overflow-x:auto;line-height:normal;font-family:Menlo,'DejaVu Sans Mono',consolas,'Courier New',monospace\"><span style=\"font-weight: bold\">[</span>PROGRESS<span style=\"font-weight: bold\">]</span> <span style=\"color: #008000; text-decoration-color: #008000\">'mach-cuda0-fit2.txt'</span> saved at\n",
       "<span style=\"color: #800080; text-decoration-color: #800080\">/home/hadi/Dropbox/git/_PoissonVAE/</span><span style=\"color: #ff00ff; text-decoration-color: #ff00ff\">scripts</span>\n",
       "</pre>\n"
      ],
      "text/plain": [
       "\u001b[1m[\u001b[0mPROGRESS\u001b[1m]\u001b[0m \u001b[32m'mach-cuda0-fit2.txt'\u001b[0m saved at\n",
       "\u001b[35m/home/hadi/Dropbox/git/_PoissonVAE/\u001b[0m\u001b[95mscripts\u001b[0m\n"
      ]
     },
     "metadata": {},
     "output_type": "display_data"
    },
    {
     "data": {
      "text/html": [
       "<pre style=\"white-space:pre;overflow-x:auto;line-height:normal;font-family:Menlo,'DejaVu Sans Mono',consolas,'Courier New',monospace\"><span style=\"font-weight: bold\">[</span>PROGRESS<span style=\"font-weight: bold\">]</span> <span style=\"color: #008000; text-decoration-color: #008000\">'mach-cuda1-fit0.txt'</span> saved at\n",
       "<span style=\"color: #800080; text-decoration-color: #800080\">/home/hadi/Dropbox/git/_PoissonVAE/</span><span style=\"color: #ff00ff; text-decoration-color: #ff00ff\">scripts</span>\n",
       "</pre>\n"
      ],
      "text/plain": [
       "\u001b[1m[\u001b[0mPROGRESS\u001b[1m]\u001b[0m \u001b[32m'mach-cuda1-fit0.txt'\u001b[0m saved at\n",
       "\u001b[35m/home/hadi/Dropbox/git/_PoissonVAE/\u001b[0m\u001b[95mscripts\u001b[0m\n"
      ]
     },
     "metadata": {},
     "output_type": "display_data"
    },
    {
     "data": {
      "text/html": [
       "<pre style=\"white-space:pre;overflow-x:auto;line-height:normal;font-family:Menlo,'DejaVu Sans Mono',consolas,'Courier New',monospace\"><span style=\"font-weight: bold\">[</span>PROGRESS<span style=\"font-weight: bold\">]</span> <span style=\"color: #008000; text-decoration-color: #008000\">'mach-cuda1-fit1.txt'</span> saved at\n",
       "<span style=\"color: #800080; text-decoration-color: #800080\">/home/hadi/Dropbox/git/_PoissonVAE/</span><span style=\"color: #ff00ff; text-decoration-color: #ff00ff\">scripts</span>\n",
       "</pre>\n"
      ],
      "text/plain": [
       "\u001b[1m[\u001b[0mPROGRESS\u001b[1m]\u001b[0m \u001b[32m'mach-cuda1-fit1.txt'\u001b[0m saved at\n",
       "\u001b[35m/home/hadi/Dropbox/git/_PoissonVAE/\u001b[0m\u001b[95mscripts\u001b[0m\n"
      ]
     },
     "metadata": {},
     "output_type": "display_data"
    },
    {
     "data": {
      "text/html": [
       "<pre style=\"white-space:pre;overflow-x:auto;line-height:normal;font-family:Menlo,'DejaVu Sans Mono',consolas,'Courier New',monospace\"><span style=\"font-weight: bold\">[</span>PROGRESS<span style=\"font-weight: bold\">]</span> <span style=\"color: #008000; text-decoration-color: #008000\">'mach-cuda1-fit2.txt'</span> saved at\n",
       "<span style=\"color: #800080; text-decoration-color: #800080\">/home/hadi/Dropbox/git/_PoissonVAE/</span><span style=\"color: #ff00ff; text-decoration-color: #ff00ff\">scripts</span>\n",
       "</pre>\n"
      ],
      "text/plain": [
       "\u001b[1m[\u001b[0mPROGRESS\u001b[1m]\u001b[0m \u001b[32m'mach-cuda1-fit2.txt'\u001b[0m saved at\n",
       "\u001b[35m/home/hadi/Dropbox/git/_PoissonVAE/\u001b[0m\u001b[95mscripts\u001b[0m\n"
      ]
     },
     "metadata": {},
     "output_type": "display_data"
    },
    {
     "data": {
      "text/html": [
       "<pre style=\"white-space:pre;overflow-x:auto;line-height:normal;font-family:Menlo,'DejaVu Sans Mono',consolas,'Courier New',monospace\"><span style=\"font-weight: bold\">[</span>PROGRESS<span style=\"font-weight: bold\">]</span> <span style=\"color: #008000; text-decoration-color: #008000\">'mach-cuda2-fit0.txt'</span> saved at\n",
       "<span style=\"color: #800080; text-decoration-color: #800080\">/home/hadi/Dropbox/git/_PoissonVAE/</span><span style=\"color: #ff00ff; text-decoration-color: #ff00ff\">scripts</span>\n",
       "</pre>\n"
      ],
      "text/plain": [
       "\u001b[1m[\u001b[0mPROGRESS\u001b[1m]\u001b[0m \u001b[32m'mach-cuda2-fit0.txt'\u001b[0m saved at\n",
       "\u001b[35m/home/hadi/Dropbox/git/_PoissonVAE/\u001b[0m\u001b[95mscripts\u001b[0m\n"
      ]
     },
     "metadata": {},
     "output_type": "display_data"
    },
    {
     "data": {
      "text/html": [
       "<pre style=\"white-space:pre;overflow-x:auto;line-height:normal;font-family:Menlo,'DejaVu Sans Mono',consolas,'Courier New',monospace\"><span style=\"font-weight: bold\">[</span>PROGRESS<span style=\"font-weight: bold\">]</span> <span style=\"color: #008000; text-decoration-color: #008000\">'mach-cuda2-fit1.txt'</span> saved at\n",
       "<span style=\"color: #800080; text-decoration-color: #800080\">/home/hadi/Dropbox/git/_PoissonVAE/</span><span style=\"color: #ff00ff; text-decoration-color: #ff00ff\">scripts</span>\n",
       "</pre>\n"
      ],
      "text/plain": [
       "\u001b[1m[\u001b[0mPROGRESS\u001b[1m]\u001b[0m \u001b[32m'mach-cuda2-fit1.txt'\u001b[0m saved at\n",
       "\u001b[35m/home/hadi/Dropbox/git/_PoissonVAE/\u001b[0m\u001b[95mscripts\u001b[0m\n"
      ]
     },
     "metadata": {},
     "output_type": "display_data"
    },
    {
     "data": {
      "text/html": [
       "<pre style=\"white-space:pre;overflow-x:auto;line-height:normal;font-family:Menlo,'DejaVu Sans Mono',consolas,'Courier New',monospace\"><span style=\"font-weight: bold\">[</span>PROGRESS<span style=\"font-weight: bold\">]</span> <span style=\"color: #008000; text-decoration-color: #008000\">'mach-cuda3-fit0.txt'</span> saved at\n",
       "<span style=\"color: #800080; text-decoration-color: #800080\">/home/hadi/Dropbox/git/_PoissonVAE/</span><span style=\"color: #ff00ff; text-decoration-color: #ff00ff\">scripts</span>\n",
       "</pre>\n"
      ],
      "text/plain": [
       "\u001b[1m[\u001b[0mPROGRESS\u001b[1m]\u001b[0m \u001b[32m'mach-cuda3-fit0.txt'\u001b[0m saved at\n",
       "\u001b[35m/home/hadi/Dropbox/git/_PoissonVAE/\u001b[0m\u001b[95mscripts\u001b[0m\n"
      ]
     },
     "metadata": {},
     "output_type": "display_data"
    },
    {
     "data": {
      "text/html": [
       "<pre style=\"white-space:pre;overflow-x:auto;line-height:normal;font-family:Menlo,'DejaVu Sans Mono',consolas,'Courier New',monospace\"><span style=\"font-weight: bold\">[</span>PROGRESS<span style=\"font-weight: bold\">]</span> <span style=\"color: #008000; text-decoration-color: #008000\">'mach-cuda3-fit1.txt'</span> saved at\n",
       "<span style=\"color: #800080; text-decoration-color: #800080\">/home/hadi/Dropbox/git/_PoissonVAE/</span><span style=\"color: #ff00ff; text-decoration-color: #ff00ff\">scripts</span>\n",
       "</pre>\n"
      ],
      "text/plain": [
       "\u001b[1m[\u001b[0mPROGRESS\u001b[1m]\u001b[0m \u001b[32m'mach-cuda3-fit1.txt'\u001b[0m saved at\n",
       "\u001b[35m/home/hadi/Dropbox/git/_PoissonVAE/\u001b[0m\u001b[95mscripts\u001b[0m\n"
      ]
     },
     "metadata": {},
     "output_type": "display_data"
    }
   ],
   "source": [
    "for gpu_i, scripts in scripts_mach.items():\n",
    "    for fit_i, s in enumerate(scripts):\n",
    "        save_obj(\n",
    "            obj=s,\n",
    "            file_name=_name(host, gpu_i, fit_i),\n",
    "            save_dir=save_dir,\n",
    "            mode='txt',\n",
    "        )"
   ]
  },
  {
   "cell_type": "code",
   "execution_count": null,
   "id": "ae77c8ff-58c7-4fed-8398-7b34b59d6238",
   "metadata": {},
   "outputs": [],
   "source": []
  },
  {
   "cell_type": "code",
   "execution_count": 10,
   "id": "63f384c4-f286-4caa-b0b0-2bbfd6152521",
   "metadata": {},
   "outputs": [
    {
     "data": {
      "text/html": [
       "<pre style=\"white-space:pre;overflow-x:auto;line-height:normal;font-family:Menlo,'DejaVu Sans Mono',consolas,'Courier New',monospace\">.<span style=\"color: #800080; text-decoration-color: #800080\">/</span><span style=\"color: #ff00ff; text-decoration-color: #ff00ff\">fit_vae.sh</span> <span style=\"color: #008000; text-decoration-color: #008000\">'3'</span> <span style=\"color: #008000; text-decoration-color: #008000\">'MNIST'</span> <span style=\"color: #008000; text-decoration-color: #008000\">'gaussian'</span> <span style=\"color: #008000; text-decoration-color: #008000\">'conv+b|conv+b'</span> --seed <span style=\"color: #008080; text-decoration-color: #008080; font-weight: bold\">3</span> --n_latents <span style=\"color: #008080; text-decoration-color: #008080; font-weight: bold\">100</span> --latent_act exp --comment exp \n",
       "--init_scale <span style=\"color: #008080; text-decoration-color: #008080; font-weight: bold\">0.0001</span> --cudnn_bench\n",
       "</pre>\n"
      ],
      "text/plain": [
       ".\u001b[35m/\u001b[0m\u001b[95mfit_vae.sh\u001b[0m \u001b[32m'3'\u001b[0m \u001b[32m'MNIST'\u001b[0m \u001b[32m'gaussian'\u001b[0m \u001b[32m'conv+b|conv+b'\u001b[0m --seed \u001b[1;36m3\u001b[0m --n_latents \u001b[1;36m100\u001b[0m --latent_act exp --comment exp \n",
       "--init_scale \u001b[1;36m0.0001\u001b[0m --cudnn_bench\n"
      ]
     },
     "metadata": {},
     "output_type": "display_data"
    }
   ],
   "source": [
    "print(s)"
   ]
  },
  {
   "cell_type": "code",
   "execution_count": null,
   "id": "03eca995-7658-4bfe-81a0-a24fa34e7333",
   "metadata": {},
   "outputs": [],
   "source": []
  },
  {
   "cell_type": "code",
   "execution_count": 11,
   "id": "ab631678-f0da-40e7-b357-ab7633b25521",
   "metadata": {},
   "outputs": [
    {
     "data": {
      "text/html": [
       "<pre style=\"white-space:pre;overflow-x:auto;line-height:normal;font-family:Menlo,'DejaVu Sans Mono',consolas,'Courier New',monospace\"><span style=\"font-weight: bold\">{</span>\n",
       "    <span style=\"color: #008080; text-decoration-color: #008080; font-weight: bold\">0</span>: <span style=\"font-weight: bold\">[</span>\n",
       "        <span style=\"color: #008000; text-decoration-color: #008000\">\"./fit_vae.sh '0' 'MNIST' 'gaussian' 'conv+b|conv+b' --seed 1 --n_latents 100 --latent_act relu --comment </span>\n",
       "<span style=\"color: #008000; text-decoration-color: #008000\">relu --cudnn_bench\"</span>,\n",
       "        <span style=\"color: #008000; text-decoration-color: #008000\">\"./fit_vae.sh '0' 'MNIST' 'gaussian' 'conv+b|conv+b' --seed 5 --n_latents 100 --latent_act relu --comment </span>\n",
       "<span style=\"color: #008000; text-decoration-color: #008000\">relu --cudnn_bench\"</span>,\n",
       "        <span style=\"color: #008000; text-decoration-color: #008000\">\"./fit_vae.sh '0' 'MNIST' 'gaussian' 'conv+b|conv+b' --seed 4 --n_latents 100 --latent_act exp --comment </span>\n",
       "<span style=\"color: #008000; text-decoration-color: #008000\">exp --init_scale 0.0001 --cudnn_bench\"</span>\n",
       "    <span style=\"font-weight: bold\">]</span>,\n",
       "    <span style=\"color: #008080; text-decoration-color: #008080; font-weight: bold\">1</span>: <span style=\"font-weight: bold\">[</span>\n",
       "        <span style=\"color: #008000; text-decoration-color: #008000\">\"./fit_vae.sh '1' 'MNIST' 'gaussian' 'conv+b|conv+b' --seed 2 --n_latents 100 --latent_act relu --comment </span>\n",
       "<span style=\"color: #008000; text-decoration-color: #008000\">relu --cudnn_bench\"</span>,\n",
       "        <span style=\"color: #008000; text-decoration-color: #008000\">\"./fit_vae.sh '1' 'MNIST' 'gaussian' 'conv+b|conv+b' --seed 1 --n_latents 100 --latent_act exp --comment </span>\n",
       "<span style=\"color: #008000; text-decoration-color: #008000\">exp --init_scale 0.0001 --cudnn_bench\"</span>,\n",
       "        <span style=\"color: #008000; text-decoration-color: #008000\">\"./fit_vae.sh '1' 'MNIST' 'gaussian' 'conv+b|conv+b' --seed 5 --n_latents 100 --latent_act exp --comment </span>\n",
       "<span style=\"color: #008000; text-decoration-color: #008000\">exp --init_scale 0.0001 --cudnn_bench\"</span>\n",
       "    <span style=\"font-weight: bold\">]</span>,\n",
       "    <span style=\"color: #008080; text-decoration-color: #008080; font-weight: bold\">2</span>: <span style=\"font-weight: bold\">[</span>\n",
       "        <span style=\"color: #008000; text-decoration-color: #008000\">\"./fit_vae.sh '2' 'MNIST' 'gaussian' 'conv+b|conv+b' --seed 3 --n_latents 100 --latent_act relu --comment </span>\n",
       "<span style=\"color: #008000; text-decoration-color: #008000\">relu --cudnn_bench\"</span>,\n",
       "        <span style=\"color: #008000; text-decoration-color: #008000\">\"./fit_vae.sh '2' 'MNIST' 'gaussian' 'conv+b|conv+b' --seed 2 --n_latents 100 --latent_act exp --comment </span>\n",
       "<span style=\"color: #008000; text-decoration-color: #008000\">exp --init_scale 0.0001 --cudnn_bench\"</span>\n",
       "    <span style=\"font-weight: bold\">]</span>,\n",
       "    <span style=\"color: #008080; text-decoration-color: #008080; font-weight: bold\">3</span>: <span style=\"font-weight: bold\">[</span>\n",
       "        <span style=\"color: #008000; text-decoration-color: #008000\">\"./fit_vae.sh '3' 'MNIST' 'gaussian' 'conv+b|conv+b' --seed 4 --n_latents 100 --latent_act relu --comment </span>\n",
       "<span style=\"color: #008000; text-decoration-color: #008000\">relu --cudnn_bench\"</span>,\n",
       "        <span style=\"color: #008000; text-decoration-color: #008000\">\"./fit_vae.sh '3' 'MNIST' 'gaussian' 'conv+b|conv+b' --seed 3 --n_latents 100 --latent_act exp --comment </span>\n",
       "<span style=\"color: #008000; text-decoration-color: #008000\">exp --init_scale 0.0001 --cudnn_bench\"</span>\n",
       "    <span style=\"font-weight: bold\">]</span>\n",
       "<span style=\"font-weight: bold\">}</span>\n",
       "</pre>\n"
      ],
      "text/plain": [
       "\u001b[1m{\u001b[0m\n",
       "    \u001b[1;36m0\u001b[0m: \u001b[1m[\u001b[0m\n",
       "        \u001b[32m\"./fit_vae.sh '0' 'MNIST' 'gaussian' 'conv+b|conv+b' --seed 1 --n_latents 100 --latent_act relu --comment \u001b[0m\n",
       "\u001b[32mrelu --cudnn_bench\"\u001b[0m,\n",
       "        \u001b[32m\"./fit_vae.sh '0' 'MNIST' 'gaussian' 'conv+b|conv+b' --seed 5 --n_latents 100 --latent_act relu --comment \u001b[0m\n",
       "\u001b[32mrelu --cudnn_bench\"\u001b[0m,\n",
       "        \u001b[32m\"./fit_vae.sh '0' 'MNIST' 'gaussian' 'conv+b|conv+b' --seed 4 --n_latents 100 --latent_act exp --comment \u001b[0m\n",
       "\u001b[32mexp --init_scale 0.0001 --cudnn_bench\"\u001b[0m\n",
       "    \u001b[1m]\u001b[0m,\n",
       "    \u001b[1;36m1\u001b[0m: \u001b[1m[\u001b[0m\n",
       "        \u001b[32m\"./fit_vae.sh '1' 'MNIST' 'gaussian' 'conv+b|conv+b' --seed 2 --n_latents 100 --latent_act relu --comment \u001b[0m\n",
       "\u001b[32mrelu --cudnn_bench\"\u001b[0m,\n",
       "        \u001b[32m\"./fit_vae.sh '1' 'MNIST' 'gaussian' 'conv+b|conv+b' --seed 1 --n_latents 100 --latent_act exp --comment \u001b[0m\n",
       "\u001b[32mexp --init_scale 0.0001 --cudnn_bench\"\u001b[0m,\n",
       "        \u001b[32m\"./fit_vae.sh '1' 'MNIST' 'gaussian' 'conv+b|conv+b' --seed 5 --n_latents 100 --latent_act exp --comment \u001b[0m\n",
       "\u001b[32mexp --init_scale 0.0001 --cudnn_bench\"\u001b[0m\n",
       "    \u001b[1m]\u001b[0m,\n",
       "    \u001b[1;36m2\u001b[0m: \u001b[1m[\u001b[0m\n",
       "        \u001b[32m\"./fit_vae.sh '2' 'MNIST' 'gaussian' 'conv+b|conv+b' --seed 3 --n_latents 100 --latent_act relu --comment \u001b[0m\n",
       "\u001b[32mrelu --cudnn_bench\"\u001b[0m,\n",
       "        \u001b[32m\"./fit_vae.sh '2' 'MNIST' 'gaussian' 'conv+b|conv+b' --seed 2 --n_latents 100 --latent_act exp --comment \u001b[0m\n",
       "\u001b[32mexp --init_scale 0.0001 --cudnn_bench\"\u001b[0m\n",
       "    \u001b[1m]\u001b[0m,\n",
       "    \u001b[1;36m3\u001b[0m: \u001b[1m[\u001b[0m\n",
       "        \u001b[32m\"./fit_vae.sh '3' 'MNIST' 'gaussian' 'conv+b|conv+b' --seed 4 --n_latents 100 --latent_act relu --comment \u001b[0m\n",
       "\u001b[32mrelu --cudnn_bench\"\u001b[0m,\n",
       "        \u001b[32m\"./fit_vae.sh '3' 'MNIST' 'gaussian' 'conv+b|conv+b' --seed 3 --n_latents 100 --latent_act exp --comment \u001b[0m\n",
       "\u001b[32mexp --init_scale 0.0001 --cudnn_bench\"\u001b[0m\n",
       "    \u001b[1m]\u001b[0m\n",
       "\u001b[1m}\u001b[0m\n"
      ]
     },
     "metadata": {},
     "output_type": "display_data"
    }
   ],
   "source": [
    "print(scripts_mach)"
   ]
  },
  {
   "cell_type": "code",
   "execution_count": null,
   "id": "93c4ff15-d268-4fee-9afe-d981487ba072",
   "metadata": {},
   "outputs": [],
   "source": []
  },
  {
   "cell_type": "code",
   "execution_count": null,
   "id": "f3b5dd3e-ae42-4bec-b0d5-32c947ca68e6",
   "metadata": {},
   "outputs": [],
   "source": []
  },
  {
   "cell_type": "code",
   "execution_count": null,
   "id": "e9b369a3-6a4f-44e9-80a8-890bcb94fba6",
   "metadata": {},
   "outputs": [],
   "source": []
  }
 ],
 "metadata": {
  "kernelspec": {
   "display_name": "Python 3 (ipykernel)",
   "language": "python",
   "name": "python3"
  },
  "language_info": {
   "codemirror_mode": {
    "name": "ipython",
    "version": 3
   },
   "file_extension": ".py",
   "mimetype": "text/x-python",
   "name": "python",
   "nbconvert_exporter": "python",
   "pygments_lexer": "ipython3",
   "version": "3.11.7"
  }
 },
 "nbformat": 4,
 "nbformat_minor": 5
}
