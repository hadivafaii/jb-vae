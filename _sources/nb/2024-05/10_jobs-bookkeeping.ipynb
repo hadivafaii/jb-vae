{
 "cells": [
  {
   "cell_type": "markdown",
   "id": "48f55a35-d5b5-468f-b574-730df61e9609",
   "metadata": {},
   "source": [
    "# (10) Jobs: bookkeeping\n",
    "\n",
    "**Motivation**: do things that are hard in BASH. <br>"
   ]
  },
  {
   "cell_type": "code",
   "execution_count": 1,
   "id": "f823b1e9-05f2-49a0-8296-4a1819c12e81",
   "metadata": {
    "tags": [
     "hide-input"
    ]
   },
   "outputs": [],
   "source": [
    "# HIDE CODE\n",
    "\n",
    "\n",
    "import os, sys\n",
    "from IPython.display import display\n",
    "\n",
    "# tmp & extras dir\n",
    "git_dir = os.path.join(os.environ['HOME'], 'Dropbox/git')\n",
    "extras_dir = os.path.join(git_dir, 'jb-vae/_extras')\n",
    "fig_base_dir = os.path.join(git_dir, 'jb-vae/figs')\n",
    "tmp_dir = os.path.join(git_dir, 'jb-vae/tmp')\n",
    "\n",
    "# GitHub\n",
    "sys.path.insert(0, os.path.join(git_dir, '_PoissonVAE'))\n",
    "from analysis.eval import sparse_score\n",
    "from figures.fighelper import *\n",
    "from vae.train_vae import *\n",
    "\n",
    "# warnings, tqdm, & style\n",
    "warnings.filterwarnings('ignore', category=DeprecationWarning)\n",
    "warnings.filterwarnings('ignore', category=FutureWarning)\n",
    "from rich.jupyter import print\n",
    "%matplotlib inline\n",
    "set_style()"
   ]
  },
  {
   "cell_type": "markdown",
   "id": "c7256efb-c916-4111-9d10-8d923cdc0233",
   "metadata": {},
   "source": [
    "## Setup"
   ]
  },
  {
   "cell_type": "code",
   "execution_count": 2,
   "id": "27fb2289-a892-4def-97f8-02df3ec10e87",
   "metadata": {},
   "outputs": [
    {
     "data": {
      "text/html": [
       "<pre style=\"white-space:pre;overflow-x:auto;line-height:normal;font-family:Menlo,'DejaVu Sans Mono',consolas,'Courier New',monospace\"><span style=\"font-weight: bold\">[]</span>\n",
       "</pre>\n"
      ],
      "text/plain": [
       "\u001b[1m[\u001b[0m\u001b[1m]\u001b[0m\n"
      ]
     },
     "metadata": {},
     "output_type": "display_data"
    }
   ],
   "source": [
    "path = 'Dropbox/git/_PoissonVAE/logs'\n",
    "path = pjoin(os.environ['HOME'], path)\n",
    "\n",
    "print(sorted(os.listdir(path)))"
   ]
  },
  {
   "cell_type": "markdown",
   "id": "4845f062-2437-4a3e-9402-05d695cb38d5",
   "metadata": {},
   "source": [
    "## Delete from logs dir"
   ]
  },
  {
   "cell_type": "code",
   "execution_count": 3,
   "id": "84313637-b448-41fc-a8b9-62d7153b1351",
   "metadata": {},
   "outputs": [],
   "source": [
    "def delete_criterion(f: str):\n",
    "    return '_solo-' in f or f.startswith('categorical')"
   ]
  },
  {
   "cell_type": "code",
   "execution_count": 4,
   "id": "0f3cc66a-2b6f-4a1c-9ab3-d647733d7e26",
   "metadata": {},
   "outputs": [],
   "source": [
    "for f in sorted(os.listdir(path)):\n",
    "    if delete_criterion(f):\n",
    "        os.remove(pjoin(path, f))\n",
    "        print(f\"removed:\\t{f}\")"
   ]
  },
  {
   "cell_type": "code",
   "execution_count": null,
   "id": "b545fffc-573e-41cd-a897-35a6ecdf045e",
   "metadata": {},
   "outputs": [],
   "source": []
  },
  {
   "cell_type": "markdown",
   "id": "ab71f457-6ec9-4b8c-8c02-38efa6205329",
   "metadata": {},
   "source": [
    "## Delete some models & runs"
   ]
  },
  {
   "cell_type": "code",
   "execution_count": 5,
   "id": "555b8903-862f-407e-9fb4-c37dad54f5a9",
   "metadata": {},
   "outputs": [],
   "source": [
    "import shutil\n",
    "\n",
    "\n",
    "def delete_criterion(f: str):\n",
    "    return f.startswith('categorical')"
   ]
  },
  {
   "cell_type": "markdown",
   "id": "bf05b042-ee38-4a9c-8108-27b9f914b975",
   "metadata": {},
   "source": [
    "### models"
   ]
  },
  {
   "cell_type": "code",
   "execution_count": 6,
   "id": "3e114fd7-8505-4cf1-ac49-fef866cfca23",
   "metadata": {},
   "outputs": [
    {
     "data": {
      "text/html": [
       "<pre style=\"white-space:pre;overflow-x:auto;line-height:normal;font-family:Menlo,'DejaVu Sans Mono',consolas,'Courier New',monospace\"><span style=\"font-weight: bold\">[</span>\n",
       "    <span style=\"color: #008000; text-decoration-color: #008000\">'categorical-512_CIFAR10-PATCHES_z-1_&lt;lin|lin&gt;_seed-1'</span><span style=\"color: #000000; text-decoration-color: #000000\">,</span>\n",
       "<span style=\"color: #000000; text-decoration-color: #000000\">    </span><span style=\"color: #008000; text-decoration-color: #008000\">'categorical-512_CIFAR10-PATCHES_z-1_&lt;lin|lin&gt;_seed-2'</span><span style=\"color: #000000; text-decoration-color: #000000\">,</span>\n",
       "<span style=\"color: #000000; text-decoration-color: #000000\">    </span><span style=\"color: #008000; text-decoration-color: #008000\">'categorical-512_CIFAR10-PATCHES_z-1_k-16_&lt;mlp+b|lin&gt;_seed-1'</span><span style=\"color: #000000; text-decoration-color: #000000\">,</span>\n",
       "<span style=\"color: #000000; text-decoration-color: #000000\">    </span><span style=\"color: #008000; text-decoration-color: #008000\">'categorical-512_DOVES_z-1_&lt;lin|lin&gt;_seed-1'</span><span style=\"color: #000000; text-decoration-color: #000000\">,</span>\n",
       "<span style=\"color: #000000; text-decoration-color: #000000\">    </span><span style=\"color: #008000; text-decoration-color: #008000\">'categorical-512_DOVES_z-1_&lt;lin|lin&gt;_seed-2'</span><span style=\"color: #000000; text-decoration-color: #000000\">,</span>\n",
       "<span style=\"color: #000000; text-decoration-color: #000000\">    </span><span style=\"color: #008000; text-decoration-color: #008000\">'categorical-512_DOVES_z-1_k-16_&lt;mlp+b|lin&gt;_seed-1'</span><span style=\"color: #000000; text-decoration-color: #000000\">,</span>\n",
       "<span style=\"color: #000000; text-decoration-color: #000000\">    </span><span style=\"color: #008000; text-decoration-color: #008000\">'categorical-512_MNIST_z-1_&lt;lin|lin&gt;_seed-1'</span><span style=\"color: #000000; text-decoration-color: #000000\">,</span>\n",
       "<span style=\"color: #000000; text-decoration-color: #000000\">    </span><span style=\"color: #008000; text-decoration-color: #008000\">'categorical-512_MNIST_z-1_&lt;lin|lin&gt;_seed-2'</span><span style=\"color: #000000; text-decoration-color: #000000\">,</span>\n",
       "<span style=\"color: #000000; text-decoration-color: #000000\">    </span><span style=\"color: #008000; text-decoration-color: #008000\">'categorical-512_MNIST_z-1_&lt;lin|lin&gt;_seed-2990'</span><span style=\"color: #000000; text-decoration-color: #000000\">,</span>\n",
       "<span style=\"color: #000000; text-decoration-color: #000000\">    </span><span style=\"color: #008000; text-decoration-color: #008000\">'categorical-512_MNIST_z-1_&lt;lin|lin&gt;_seed-3'</span><span style=\"color: #000000; text-decoration-color: #000000\">,</span>\n",
       "<span style=\"color: #000000; text-decoration-color: #000000\">    </span><span style=\"color: #008000; text-decoration-color: #008000\">'categorical-512_MNIST_z-1_k-16_&lt;mlp+b|lin&gt;_seed-1'</span><span style=\"color: #000000; text-decoration-color: #000000\">,</span>\n",
       "<span style=\"color: #000000; text-decoration-color: #000000\">    </span><span style=\"color: #008000; text-decoration-color: #008000\">'categorical-512_MNIST_z-1_k-16_&lt;mlp+b|lin&gt;_seed-2'</span><span style=\"color: #000000; text-decoration-color: #000000\">,</span>\n",
       "<span style=\"color: #000000; text-decoration-color: #000000\">    </span><span style=\"color: #008000; text-decoration-color: #008000\">'categorical-512_MNIST_z-1_k-16_&lt;mlp+b|lin&gt;_seed-3'</span><span style=\"color: #000000; text-decoration-color: #000000\">,</span>\n",
       "<span style=\"color: #000000; text-decoration-color: #000000\">    </span><span style=\"color: #008000; text-decoration-color: #008000\">'gaussian_CIFAR10-PATCHES_z-512_&lt;lin|lin&gt;_seed-1'</span><span style=\"color: #000000; text-decoration-color: #000000\">,</span>\n",
       "<span style=\"color: #000000; text-decoration-color: #000000\">    </span><span style=\"color: #008000; text-decoration-color: #008000\">'gaussian_CIFAR10-PATCHES_z-512_k-16_&lt;mlp+b|lin&gt;_seed-1'</span><span style=\"color: #000000; text-decoration-color: #000000\">,</span>\n",
       "<span style=\"color: #000000; text-decoration-color: #000000\">    </span><span style=\"color: #008000; text-decoration-color: #008000\">'gaussian_DOVES_z-512_&lt;lin|lin&gt;_seed-1'</span><span style=\"color: #000000; text-decoration-color: #000000\">,</span>\n",
       "<span style=\"color: #000000; text-decoration-color: #000000\">    </span><span style=\"color: #008000; text-decoration-color: #008000\">'gaussian_DOVES_z-512_k-16_&lt;mlp+b|lin&gt;_seed-1'</span><span style=\"color: #000000; text-decoration-color: #000000\">,</span>\n",
       "<span style=\"color: #000000; text-decoration-color: #000000\">    </span><span style=\"color: #008000; text-decoration-color: #008000\">'gaussian_MNIST_z-512_&lt;lin|lin&gt;_seed-1'</span><span style=\"color: #000000; text-decoration-color: #000000\">,</span>\n",
       "<span style=\"color: #000000; text-decoration-color: #000000\">    </span><span style=\"color: #008000; text-decoration-color: #008000\">'gaussian_MNIST_z-512_k-16_&lt;mlp+b|lin&gt;_seed-1'</span><span style=\"color: #000000; text-decoration-color: #000000\">,</span>\n",
       "<span style=\"color: #000000; text-decoration-color: #000000\">    </span><span style=\"color: #008000; text-decoration-color: #008000\">'laplace_CIFAR10-PATCHES_z-512_&lt;lin|lin&gt;_seed-1'</span><span style=\"color: #000000; text-decoration-color: #000000\">,</span>\n",
       "<span style=\"color: #000000; text-decoration-color: #000000\">    </span><span style=\"color: #008000; text-decoration-color: #008000\">'laplace_CIFAR10-PATCHES_z-512_k-16_&lt;mlp+b|lin&gt;_seed-1'</span><span style=\"color: #000000; text-decoration-color: #000000\">,</span>\n",
       "<span style=\"color: #000000; text-decoration-color: #000000\">    </span><span style=\"color: #008000; text-decoration-color: #008000\">'laplace_DOVES_z-512_&lt;lin|lin&gt;_seed-1'</span><span style=\"color: #000000; text-decoration-color: #000000\">,</span>\n",
       "<span style=\"color: #000000; text-decoration-color: #000000\">    </span><span style=\"color: #008000; text-decoration-color: #008000\">'laplace_DOVES_z-512_k-16_&lt;mlp+b|lin&gt;_seed-1'</span><span style=\"color: #000000; text-decoration-color: #000000\">,</span>\n",
       "<span style=\"color: #000000; text-decoration-color: #000000\">    </span><span style=\"color: #008000; text-decoration-color: #008000\">'laplace_MNIST_z-512_&lt;lin|lin&gt;_seed-1'</span><span style=\"color: #000000; text-decoration-color: #000000\">,</span>\n",
       "<span style=\"color: #000000; text-decoration-color: #000000\">    </span><span style=\"color: #008000; text-decoration-color: #008000\">'laplace_MNIST_z-512_k-16_&lt;mlp+b|lin&gt;_seed-1'</span><span style=\"color: #000000; text-decoration-color: #000000\">,</span>\n",
       "<span style=\"color: #000000; text-decoration-color: #000000\">    </span><span style=\"color: #008000; text-decoration-color: #008000\">'poisson_uniform_c(-4)_CIFAR10-PATCHES_z-512_fp_&lt;lin|lin&gt;_seed-1'</span><span style=\"color: #000000; text-decoration-color: #000000\">,</span>\n",
       "<span style=\"color: #000000; text-decoration-color: #000000\">    </span><span style=\"color: #008000; text-decoration-color: #008000\">'poisson_uniform_c(-4)_CIFAR10-PATCHES_z-512_k-16_fp_&lt;mlp+b|lin&gt;_seed-1'</span><span style=\"color: #000000; text-decoration-color: #000000\">,</span>\n",
       "<span style=\"color: #000000; text-decoration-color: #000000\">    </span><span style=\"color: #008000; text-decoration-color: #008000\">'poisson_uniform_c(-4)_DOVES_z-512_fp_&lt;lin|lin&gt;_seed-1'</span><span style=\"color: #000000; text-decoration-color: #000000\">,</span>\n",
       "<span style=\"color: #000000; text-decoration-color: #000000\">    </span><span style=\"color: #008000; text-decoration-color: #008000\">'poisson_uniform_c(-4)_DOVES_z-512_k-16_fp_&lt;mlp+b|lin&gt;_seed-1'</span><span style=\"color: #000000; text-decoration-color: #000000\">,</span>\n",
       "<span style=\"color: #000000; text-decoration-color: #000000\">    </span><span style=\"color: #008000; text-decoration-color: #008000\">'poisson_uniform_c(-4)_MNIST_z-512_fp_&lt;lin|lin&gt;_seed-1'</span><span style=\"color: #000000; text-decoration-color: #000000\">,</span>\n",
       "<span style=\"color: #000000; text-decoration-color: #000000\">    </span><span style=\"color: #008000; text-decoration-color: #008000\">'poisson_uniform_c(-4)_MNIST_z-512_k-16_fp_&lt;mlp+b|lin&gt;_seed-1'</span>\n",
       "<span style=\"font-weight: bold\">]</span>\n",
       "</pre>\n"
      ],
      "text/plain": [
       "\u001b[1m[\u001b[0m\n",
       "    \u001b[32m'categorical-512_CIFAR10-PATCHES_z-1_\u001b[0m\u001b[32m<\u001b[0m\u001b[32mlin|lin\u001b[0m\u001b[32m>_seed-1'\u001b[0m\u001b[39m,\u001b[0m\n",
       "\u001b[39m    \u001b[0m\u001b[32m'categorical-512_CIFAR10-PATCHES_z-1_<lin|lin>_seed-2'\u001b[0m\u001b[39m,\u001b[0m\n",
       "\u001b[39m    \u001b[0m\u001b[32m'categorical-512_CIFAR10-PATCHES_z-1_k-16_<mlp+b|lin>_seed-1'\u001b[0m\u001b[39m,\u001b[0m\n",
       "\u001b[39m    \u001b[0m\u001b[32m'categorical-512_DOVES_z-1_<lin|lin>_seed-1'\u001b[0m\u001b[39m,\u001b[0m\n",
       "\u001b[39m    \u001b[0m\u001b[32m'categorical-512_DOVES_z-1_<lin|lin>_seed-2'\u001b[0m\u001b[39m,\u001b[0m\n",
       "\u001b[39m    \u001b[0m\u001b[32m'categorical-512_DOVES_z-1_k-16_<mlp+b|lin>_seed-1'\u001b[0m\u001b[39m,\u001b[0m\n",
       "\u001b[39m    \u001b[0m\u001b[32m'categorical-512_MNIST_z-1_<lin|lin>_seed-1'\u001b[0m\u001b[39m,\u001b[0m\n",
       "\u001b[39m    \u001b[0m\u001b[32m'categorical-512_MNIST_z-1_<lin|lin>_seed-2'\u001b[0m\u001b[39m,\u001b[0m\n",
       "\u001b[39m    \u001b[0m\u001b[32m'categorical-512_MNIST_z-1_<lin|lin>_seed-2990'\u001b[0m\u001b[39m,\u001b[0m\n",
       "\u001b[39m    \u001b[0m\u001b[32m'categorical-512_MNIST_z-1_<lin|lin>_seed-3'\u001b[0m\u001b[39m,\u001b[0m\n",
       "\u001b[39m    \u001b[0m\u001b[32m'categorical-512_MNIST_z-1_k-16_<mlp+b|lin>_seed-1'\u001b[0m\u001b[39m,\u001b[0m\n",
       "\u001b[39m    \u001b[0m\u001b[32m'categorical-512_MNIST_z-1_k-16_<mlp+b|lin>_seed-2'\u001b[0m\u001b[39m,\u001b[0m\n",
       "\u001b[39m    \u001b[0m\u001b[32m'categorical-512_MNIST_z-1_k-16_<mlp+b|lin>_seed-3'\u001b[0m\u001b[39m,\u001b[0m\n",
       "\u001b[39m    \u001b[0m\u001b[32m'gaussian_CIFAR10-PATCHES_z-512_<lin|lin>_seed-1'\u001b[0m\u001b[39m,\u001b[0m\n",
       "\u001b[39m    \u001b[0m\u001b[32m'gaussian_CIFAR10-PATCHES_z-512_k-16_<mlp+b|lin>_seed-1'\u001b[0m\u001b[39m,\u001b[0m\n",
       "\u001b[39m    \u001b[0m\u001b[32m'gaussian_DOVES_z-512_<lin|lin>_seed-1'\u001b[0m\u001b[39m,\u001b[0m\n",
       "\u001b[39m    \u001b[0m\u001b[32m'gaussian_DOVES_z-512_k-16_<mlp+b|lin>_seed-1'\u001b[0m\u001b[39m,\u001b[0m\n",
       "\u001b[39m    \u001b[0m\u001b[32m'gaussian_MNIST_z-512_<lin|lin>_seed-1'\u001b[0m\u001b[39m,\u001b[0m\n",
       "\u001b[39m    \u001b[0m\u001b[32m'gaussian_MNIST_z-512_k-16_<mlp+b|lin>_seed-1'\u001b[0m\u001b[39m,\u001b[0m\n",
       "\u001b[39m    \u001b[0m\u001b[32m'laplace_CIFAR10-PATCHES_z-512_<lin|lin>_seed-1'\u001b[0m\u001b[39m,\u001b[0m\n",
       "\u001b[39m    \u001b[0m\u001b[32m'laplace_CIFAR10-PATCHES_z-512_k-16_<mlp+b|lin>_seed-1'\u001b[0m\u001b[39m,\u001b[0m\n",
       "\u001b[39m    \u001b[0m\u001b[32m'laplace_DOVES_z-512_<lin|lin>_seed-1'\u001b[0m\u001b[39m,\u001b[0m\n",
       "\u001b[39m    \u001b[0m\u001b[32m'laplace_DOVES_z-512_k-16_<mlp+b|lin>_seed-1'\u001b[0m\u001b[39m,\u001b[0m\n",
       "\u001b[39m    \u001b[0m\u001b[32m'laplace_MNIST_z-512_<lin|lin>_seed-1'\u001b[0m\u001b[39m,\u001b[0m\n",
       "\u001b[39m    \u001b[0m\u001b[32m'laplace_MNIST_z-512_k-16_<mlp+b|lin>_seed-1'\u001b[0m\u001b[39m,\u001b[0m\n",
       "\u001b[39m    \u001b[0m\u001b[32m'poisson_uniform_c\u001b[0m\u001b[32m(\u001b[0m\u001b[32m-4\u001b[0m\u001b[32m)\u001b[0m\u001b[32m_CIFAR10-PATCHES_z-512_fp_<lin|lin>_seed-1'\u001b[0m\u001b[39m,\u001b[0m\n",
       "\u001b[39m    \u001b[0m\u001b[32m'poisson_uniform_c\u001b[0m\u001b[32m(\u001b[0m\u001b[32m-4\u001b[0m\u001b[32m)\u001b[0m\u001b[32m_CIFAR10-PATCHES_z-512_k-16_fp_<mlp+b|lin>_seed-1'\u001b[0m\u001b[39m,\u001b[0m\n",
       "\u001b[39m    \u001b[0m\u001b[32m'poisson_uniform_c\u001b[0m\u001b[32m(\u001b[0m\u001b[32m-4\u001b[0m\u001b[32m)\u001b[0m\u001b[32m_DOVES_z-512_fp_<lin|lin>_seed-1'\u001b[0m\u001b[39m,\u001b[0m\n",
       "\u001b[39m    \u001b[0m\u001b[32m'poisson_uniform_c\u001b[0m\u001b[32m(\u001b[0m\u001b[32m-4\u001b[0m\u001b[32m)\u001b[0m\u001b[32m_DOVES_z-512_k-16_fp_<mlp+b|lin>_seed-1'\u001b[0m\u001b[39m,\u001b[0m\n",
       "\u001b[39m    \u001b[0m\u001b[32m'poisson_uniform_c\u001b[0m\u001b[32m(\u001b[0m\u001b[32m-4\u001b[0m\u001b[32m)\u001b[0m\u001b[32m_MNIST_z-512_fp_<lin|lin>_seed-1'\u001b[0m\u001b[39m,\u001b[0m\n",
       "\u001b[39m    \u001b[0m\u001b[32m'poisson_uniform_c\u001b[0m\u001b[32m(\u001b[0m\u001b[32m-4\u001b[0m\u001b[32m)\u001b[0m\u001b[32m_MNIST_z-512_k-16_fp_<mlp+b|lin\u001b[0m\u001b[32m>\u001b[0m\u001b[32m_seed-1'\u001b[0m\n",
       "\u001b[1m]\u001b[0m\n"
      ]
     },
     "metadata": {},
     "output_type": "display_data"
    }
   ],
   "source": [
    "models_dir = '/home/hadi/Projects/PoissonVAE/models'\n",
    "print(sorted(os.listdir(models_dir)))"
   ]
  },
  {
   "cell_type": "code",
   "execution_count": 7,
   "id": "d9c96114-8097-44e4-aca2-5d0a56f13e8b",
   "metadata": {},
   "outputs": [
    {
     "data": {
      "text/html": [
       "<pre style=\"white-space:pre;overflow-x:auto;line-height:normal;font-family:Menlo,'DejaVu Sans Mono',consolas,'Courier New',monospace\">removed:        categorical-512_CIFAR10-PATCHES_z-1_<span style=\"font-weight: bold\">&lt;</span><span style=\"color: #ff00ff; text-decoration-color: #ff00ff; font-weight: bold\">lin|lin</span><span style=\"font-weight: bold\">&gt;</span>_seed-<span style=\"color: #008080; text-decoration-color: #008080; font-weight: bold\">1</span>\n",
       "</pre>\n"
      ],
      "text/plain": [
       "removed:        categorical-512_CIFAR10-PATCHES_z-1_\u001b[1m<\u001b[0m\u001b[1;95mlin|lin\u001b[0m\u001b[1m>\u001b[0m_seed-\u001b[1;36m1\u001b[0m\n"
      ]
     },
     "metadata": {},
     "output_type": "display_data"
    },
    {
     "data": {
      "text/html": [
       "<pre style=\"white-space:pre;overflow-x:auto;line-height:normal;font-family:Menlo,'DejaVu Sans Mono',consolas,'Courier New',monospace\">removed:        categorical-512_CIFAR10-PATCHES_z-1_<span style=\"font-weight: bold\">&lt;</span><span style=\"color: #ff00ff; text-decoration-color: #ff00ff; font-weight: bold\">lin|lin</span><span style=\"font-weight: bold\">&gt;</span>_seed-<span style=\"color: #008080; text-decoration-color: #008080; font-weight: bold\">2</span>\n",
       "</pre>\n"
      ],
      "text/plain": [
       "removed:        categorical-512_CIFAR10-PATCHES_z-1_\u001b[1m<\u001b[0m\u001b[1;95mlin|lin\u001b[0m\u001b[1m>\u001b[0m_seed-\u001b[1;36m2\u001b[0m\n"
      ]
     },
     "metadata": {},
     "output_type": "display_data"
    },
    {
     "data": {
      "text/html": [
       "<pre style=\"white-space:pre;overflow-x:auto;line-height:normal;font-family:Menlo,'DejaVu Sans Mono',consolas,'Courier New',monospace\">removed:        categorical-512_CIFAR10-PATCHES_z-1_k-16_<span style=\"font-weight: bold\">&lt;</span><span style=\"color: #ff00ff; text-decoration-color: #ff00ff; font-weight: bold\">mlp</span><span style=\"color: #000000; text-decoration-color: #000000\">+b|lin</span><span style=\"font-weight: bold\">&gt;</span>_seed-<span style=\"color: #008080; text-decoration-color: #008080; font-weight: bold\">1</span>\n",
       "</pre>\n"
      ],
      "text/plain": [
       "removed:        categorical-512_CIFAR10-PATCHES_z-1_k-16_\u001b[1m<\u001b[0m\u001b[1;95mmlp\u001b[0m\u001b[39m+b|lin\u001b[0m\u001b[1m>\u001b[0m_seed-\u001b[1;36m1\u001b[0m\n"
      ]
     },
     "metadata": {},
     "output_type": "display_data"
    },
    {
     "data": {
      "text/html": [
       "<pre style=\"white-space:pre;overflow-x:auto;line-height:normal;font-family:Menlo,'DejaVu Sans Mono',consolas,'Courier New',monospace\">removed:        categorical-512_DOVES_z-1_<span style=\"font-weight: bold\">&lt;</span><span style=\"color: #ff00ff; text-decoration-color: #ff00ff; font-weight: bold\">lin|lin</span><span style=\"font-weight: bold\">&gt;</span>_seed-<span style=\"color: #008080; text-decoration-color: #008080; font-weight: bold\">1</span>\n",
       "</pre>\n"
      ],
      "text/plain": [
       "removed:        categorical-512_DOVES_z-1_\u001b[1m<\u001b[0m\u001b[1;95mlin|lin\u001b[0m\u001b[1m>\u001b[0m_seed-\u001b[1;36m1\u001b[0m\n"
      ]
     },
     "metadata": {},
     "output_type": "display_data"
    },
    {
     "data": {
      "text/html": [
       "<pre style=\"white-space:pre;overflow-x:auto;line-height:normal;font-family:Menlo,'DejaVu Sans Mono',consolas,'Courier New',monospace\">removed:        categorical-512_DOVES_z-1_<span style=\"font-weight: bold\">&lt;</span><span style=\"color: #ff00ff; text-decoration-color: #ff00ff; font-weight: bold\">lin|lin</span><span style=\"font-weight: bold\">&gt;</span>_seed-<span style=\"color: #008080; text-decoration-color: #008080; font-weight: bold\">2</span>\n",
       "</pre>\n"
      ],
      "text/plain": [
       "removed:        categorical-512_DOVES_z-1_\u001b[1m<\u001b[0m\u001b[1;95mlin|lin\u001b[0m\u001b[1m>\u001b[0m_seed-\u001b[1;36m2\u001b[0m\n"
      ]
     },
     "metadata": {},
     "output_type": "display_data"
    },
    {
     "data": {
      "text/html": [
       "<pre style=\"white-space:pre;overflow-x:auto;line-height:normal;font-family:Menlo,'DejaVu Sans Mono',consolas,'Courier New',monospace\">removed:        categorical-512_DOVES_z-1_k-16_<span style=\"font-weight: bold\">&lt;</span><span style=\"color: #ff00ff; text-decoration-color: #ff00ff; font-weight: bold\">mlp</span><span style=\"color: #000000; text-decoration-color: #000000\">+b|lin</span><span style=\"font-weight: bold\">&gt;</span>_seed-<span style=\"color: #008080; text-decoration-color: #008080; font-weight: bold\">1</span>\n",
       "</pre>\n"
      ],
      "text/plain": [
       "removed:        categorical-512_DOVES_z-1_k-16_\u001b[1m<\u001b[0m\u001b[1;95mmlp\u001b[0m\u001b[39m+b|lin\u001b[0m\u001b[1m>\u001b[0m_seed-\u001b[1;36m1\u001b[0m\n"
      ]
     },
     "metadata": {},
     "output_type": "display_data"
    },
    {
     "data": {
      "text/html": [
       "<pre style=\"white-space:pre;overflow-x:auto;line-height:normal;font-family:Menlo,'DejaVu Sans Mono',consolas,'Courier New',monospace\">removed:        categorical-512_MNIST_z-1_<span style=\"font-weight: bold\">&lt;</span><span style=\"color: #ff00ff; text-decoration-color: #ff00ff; font-weight: bold\">lin|lin</span><span style=\"font-weight: bold\">&gt;</span>_seed-<span style=\"color: #008080; text-decoration-color: #008080; font-weight: bold\">1</span>\n",
       "</pre>\n"
      ],
      "text/plain": [
       "removed:        categorical-512_MNIST_z-1_\u001b[1m<\u001b[0m\u001b[1;95mlin|lin\u001b[0m\u001b[1m>\u001b[0m_seed-\u001b[1;36m1\u001b[0m\n"
      ]
     },
     "metadata": {},
     "output_type": "display_data"
    },
    {
     "data": {
      "text/html": [
       "<pre style=\"white-space:pre;overflow-x:auto;line-height:normal;font-family:Menlo,'DejaVu Sans Mono',consolas,'Courier New',monospace\">removed:        categorical-512_MNIST_z-1_<span style=\"font-weight: bold\">&lt;</span><span style=\"color: #ff00ff; text-decoration-color: #ff00ff; font-weight: bold\">lin|lin</span><span style=\"font-weight: bold\">&gt;</span>_seed-<span style=\"color: #008080; text-decoration-color: #008080; font-weight: bold\">2</span>\n",
       "</pre>\n"
      ],
      "text/plain": [
       "removed:        categorical-512_MNIST_z-1_\u001b[1m<\u001b[0m\u001b[1;95mlin|lin\u001b[0m\u001b[1m>\u001b[0m_seed-\u001b[1;36m2\u001b[0m\n"
      ]
     },
     "metadata": {},
     "output_type": "display_data"
    },
    {
     "data": {
      "text/html": [
       "<pre style=\"white-space:pre;overflow-x:auto;line-height:normal;font-family:Menlo,'DejaVu Sans Mono',consolas,'Courier New',monospace\">removed:        categorical-512_MNIST_z-1_<span style=\"font-weight: bold\">&lt;</span><span style=\"color: #ff00ff; text-decoration-color: #ff00ff; font-weight: bold\">lin|lin</span><span style=\"font-weight: bold\">&gt;</span>_seed-<span style=\"color: #008080; text-decoration-color: #008080; font-weight: bold\">2990</span>\n",
       "</pre>\n"
      ],
      "text/plain": [
       "removed:        categorical-512_MNIST_z-1_\u001b[1m<\u001b[0m\u001b[1;95mlin|lin\u001b[0m\u001b[1m>\u001b[0m_seed-\u001b[1;36m2990\u001b[0m\n"
      ]
     },
     "metadata": {},
     "output_type": "display_data"
    },
    {
     "data": {
      "text/html": [
       "<pre style=\"white-space:pre;overflow-x:auto;line-height:normal;font-family:Menlo,'DejaVu Sans Mono',consolas,'Courier New',monospace\">removed:        categorical-512_MNIST_z-1_<span style=\"font-weight: bold\">&lt;</span><span style=\"color: #ff00ff; text-decoration-color: #ff00ff; font-weight: bold\">lin|lin</span><span style=\"font-weight: bold\">&gt;</span>_seed-<span style=\"color: #008080; text-decoration-color: #008080; font-weight: bold\">3</span>\n",
       "</pre>\n"
      ],
      "text/plain": [
       "removed:        categorical-512_MNIST_z-1_\u001b[1m<\u001b[0m\u001b[1;95mlin|lin\u001b[0m\u001b[1m>\u001b[0m_seed-\u001b[1;36m3\u001b[0m\n"
      ]
     },
     "metadata": {},
     "output_type": "display_data"
    },
    {
     "data": {
      "text/html": [
       "<pre style=\"white-space:pre;overflow-x:auto;line-height:normal;font-family:Menlo,'DejaVu Sans Mono',consolas,'Courier New',monospace\">removed:        categorical-512_MNIST_z-1_k-16_<span style=\"font-weight: bold\">&lt;</span><span style=\"color: #ff00ff; text-decoration-color: #ff00ff; font-weight: bold\">mlp</span><span style=\"color: #000000; text-decoration-color: #000000\">+b|lin</span><span style=\"font-weight: bold\">&gt;</span>_seed-<span style=\"color: #008080; text-decoration-color: #008080; font-weight: bold\">1</span>\n",
       "</pre>\n"
      ],
      "text/plain": [
       "removed:        categorical-512_MNIST_z-1_k-16_\u001b[1m<\u001b[0m\u001b[1;95mmlp\u001b[0m\u001b[39m+b|lin\u001b[0m\u001b[1m>\u001b[0m_seed-\u001b[1;36m1\u001b[0m\n"
      ]
     },
     "metadata": {},
     "output_type": "display_data"
    },
    {
     "data": {
      "text/html": [
       "<pre style=\"white-space:pre;overflow-x:auto;line-height:normal;font-family:Menlo,'DejaVu Sans Mono',consolas,'Courier New',monospace\">removed:        categorical-512_MNIST_z-1_k-16_<span style=\"font-weight: bold\">&lt;</span><span style=\"color: #ff00ff; text-decoration-color: #ff00ff; font-weight: bold\">mlp</span><span style=\"color: #000000; text-decoration-color: #000000\">+b|lin</span><span style=\"font-weight: bold\">&gt;</span>_seed-<span style=\"color: #008080; text-decoration-color: #008080; font-weight: bold\">2</span>\n",
       "</pre>\n"
      ],
      "text/plain": [
       "removed:        categorical-512_MNIST_z-1_k-16_\u001b[1m<\u001b[0m\u001b[1;95mmlp\u001b[0m\u001b[39m+b|lin\u001b[0m\u001b[1m>\u001b[0m_seed-\u001b[1;36m2\u001b[0m\n"
      ]
     },
     "metadata": {},
     "output_type": "display_data"
    },
    {
     "data": {
      "text/html": [
       "<pre style=\"white-space:pre;overflow-x:auto;line-height:normal;font-family:Menlo,'DejaVu Sans Mono',consolas,'Courier New',monospace\">removed:        categorical-512_MNIST_z-1_k-16_<span style=\"font-weight: bold\">&lt;</span><span style=\"color: #ff00ff; text-decoration-color: #ff00ff; font-weight: bold\">mlp</span><span style=\"color: #000000; text-decoration-color: #000000\">+b|lin</span><span style=\"font-weight: bold\">&gt;</span>_seed-<span style=\"color: #008080; text-decoration-color: #008080; font-weight: bold\">3</span>\n",
       "</pre>\n"
      ],
      "text/plain": [
       "removed:        categorical-512_MNIST_z-1_k-16_\u001b[1m<\u001b[0m\u001b[1;95mmlp\u001b[0m\u001b[39m+b|lin\u001b[0m\u001b[1m>\u001b[0m_seed-\u001b[1;36m3\u001b[0m\n"
      ]
     },
     "metadata": {},
     "output_type": "display_data"
    }
   ],
   "source": [
    "for f in sorted(os.listdir(models_dir)):\n",
    "    if delete_criterion(f):\n",
    "        shutil.rmtree(pjoin(models_dir, f))\n",
    "        print(f\"removed:\\t{f}\")"
   ]
  },
  {
   "cell_type": "markdown",
   "id": "59f7dd86-b503-4528-b6f3-957807213e16",
   "metadata": {},
   "source": [
    "### runs"
   ]
  },
  {
   "cell_type": "code",
   "execution_count": 8,
   "id": "e091400c-8466-4a4d-b44c-ce08bd22e2f0",
   "metadata": {},
   "outputs": [
    {
     "data": {
      "text/html": [
       "<pre style=\"white-space:pre;overflow-x:auto;line-height:normal;font-family:Menlo,'DejaVu Sans Mono',consolas,'Courier New',monospace\"><span style=\"font-weight: bold\">[</span>\n",
       "    <span style=\"color: #008000; text-decoration-color: #008000\">'categorical-512_CIFAR10-PATCHES_z-1_&lt;lin|lin&gt;_seed-1'</span><span style=\"color: #000000; text-decoration-color: #000000\">,</span>\n",
       "<span style=\"color: #000000; text-decoration-color: #000000\">    </span><span style=\"color: #008000; text-decoration-color: #008000\">'categorical-512_CIFAR10-PATCHES_z-1_&lt;lin|lin&gt;_seed-2'</span><span style=\"color: #000000; text-decoration-color: #000000\">,</span>\n",
       "<span style=\"color: #000000; text-decoration-color: #000000\">    </span><span style=\"color: #008000; text-decoration-color: #008000\">'categorical-512_CIFAR10-PATCHES_z-1_k-16_&lt;mlp+b|lin&gt;_seed-1'</span><span style=\"color: #000000; text-decoration-color: #000000\">,</span>\n",
       "<span style=\"color: #000000; text-decoration-color: #000000\">    </span><span style=\"color: #008000; text-decoration-color: #008000\">'categorical-512_DOVES_z-1_&lt;lin|lin&gt;_seed-1'</span><span style=\"color: #000000; text-decoration-color: #000000\">,</span>\n",
       "<span style=\"color: #000000; text-decoration-color: #000000\">    </span><span style=\"color: #008000; text-decoration-color: #008000\">'categorical-512_DOVES_z-1_&lt;lin|lin&gt;_seed-2'</span><span style=\"color: #000000; text-decoration-color: #000000\">,</span>\n",
       "<span style=\"color: #000000; text-decoration-color: #000000\">    </span><span style=\"color: #008000; text-decoration-color: #008000\">'categorical-512_DOVES_z-1_k-16_&lt;mlp+b|lin&gt;_seed-1'</span><span style=\"color: #000000; text-decoration-color: #000000\">,</span>\n",
       "<span style=\"color: #000000; text-decoration-color: #000000\">    </span><span style=\"color: #008000; text-decoration-color: #008000\">'categorical-512_MNIST_z-1_&lt;lin|lin&gt;_seed-1'</span><span style=\"color: #000000; text-decoration-color: #000000\">,</span>\n",
       "<span style=\"color: #000000; text-decoration-color: #000000\">    </span><span style=\"color: #008000; text-decoration-color: #008000\">'categorical-512_MNIST_z-1_&lt;lin|lin&gt;_seed-2'</span><span style=\"color: #000000; text-decoration-color: #000000\">,</span>\n",
       "<span style=\"color: #000000; text-decoration-color: #000000\">    </span><span style=\"color: #008000; text-decoration-color: #008000\">'categorical-512_MNIST_z-1_&lt;lin|lin&gt;_seed-2990'</span><span style=\"color: #000000; text-decoration-color: #000000\">,</span>\n",
       "<span style=\"color: #000000; text-decoration-color: #000000\">    </span><span style=\"color: #008000; text-decoration-color: #008000\">'categorical-512_MNIST_z-1_&lt;lin|lin&gt;_seed-3'</span><span style=\"color: #000000; text-decoration-color: #000000\">,</span>\n",
       "<span style=\"color: #000000; text-decoration-color: #000000\">    </span><span style=\"color: #008000; text-decoration-color: #008000\">'categorical-512_MNIST_z-1_k-16_&lt;mlp+b|lin&gt;_seed-1'</span><span style=\"color: #000000; text-decoration-color: #000000\">,</span>\n",
       "<span style=\"color: #000000; text-decoration-color: #000000\">    </span><span style=\"color: #008000; text-decoration-color: #008000\">'categorical-512_MNIST_z-1_k-16_&lt;mlp+b|lin&gt;_seed-2'</span><span style=\"color: #000000; text-decoration-color: #000000\">,</span>\n",
       "<span style=\"color: #000000; text-decoration-color: #000000\">    </span><span style=\"color: #008000; text-decoration-color: #008000\">'categorical-512_MNIST_z-1_k-16_&lt;mlp+b|lin&gt;_seed-3'</span><span style=\"color: #000000; text-decoration-color: #000000\">,</span>\n",
       "<span style=\"color: #000000; text-decoration-color: #000000\">    </span><span style=\"color: #008000; text-decoration-color: #008000\">'gaussian_CIFAR10-PATCHES_z-512_&lt;lin|lin&gt;_seed-1'</span><span style=\"color: #000000; text-decoration-color: #000000\">,</span>\n",
       "<span style=\"color: #000000; text-decoration-color: #000000\">    </span><span style=\"color: #008000; text-decoration-color: #008000\">'gaussian_CIFAR10-PATCHES_z-512_k-16_&lt;mlp+b|lin&gt;_seed-1'</span><span style=\"color: #000000; text-decoration-color: #000000\">,</span>\n",
       "<span style=\"color: #000000; text-decoration-color: #000000\">    </span><span style=\"color: #008000; text-decoration-color: #008000\">'gaussian_DOVES_z-512_&lt;lin|lin&gt;_seed-1'</span><span style=\"color: #000000; text-decoration-color: #000000\">,</span>\n",
       "<span style=\"color: #000000; text-decoration-color: #000000\">    </span><span style=\"color: #008000; text-decoration-color: #008000\">'gaussian_DOVES_z-512_k-16_&lt;mlp+b|lin&gt;_seed-1'</span><span style=\"color: #000000; text-decoration-color: #000000\">,</span>\n",
       "<span style=\"color: #000000; text-decoration-color: #000000\">    </span><span style=\"color: #008000; text-decoration-color: #008000\">'gaussian_MNIST_z-512_&lt;lin|lin&gt;_seed-1'</span><span style=\"color: #000000; text-decoration-color: #000000\">,</span>\n",
       "<span style=\"color: #000000; text-decoration-color: #000000\">    </span><span style=\"color: #008000; text-decoration-color: #008000\">'gaussian_MNIST_z-512_k-16_&lt;mlp+b|lin&gt;_seed-1'</span><span style=\"color: #000000; text-decoration-color: #000000\">,</span>\n",
       "<span style=\"color: #000000; text-decoration-color: #000000\">    </span><span style=\"color: #008000; text-decoration-color: #008000\">'laplace_CIFAR10-PATCHES_z-512_&lt;lin|lin&gt;_seed-1'</span><span style=\"color: #000000; text-decoration-color: #000000\">,</span>\n",
       "<span style=\"color: #000000; text-decoration-color: #000000\">    </span><span style=\"color: #008000; text-decoration-color: #008000\">'laplace_CIFAR10-PATCHES_z-512_k-16_&lt;mlp+b|lin&gt;_seed-1'</span><span style=\"color: #000000; text-decoration-color: #000000\">,</span>\n",
       "<span style=\"color: #000000; text-decoration-color: #000000\">    </span><span style=\"color: #008000; text-decoration-color: #008000\">'laplace_DOVES_z-512_&lt;lin|lin&gt;_seed-1'</span><span style=\"color: #000000; text-decoration-color: #000000\">,</span>\n",
       "<span style=\"color: #000000; text-decoration-color: #000000\">    </span><span style=\"color: #008000; text-decoration-color: #008000\">'laplace_DOVES_z-512_k-16_&lt;mlp+b|lin&gt;_seed-1'</span><span style=\"color: #000000; text-decoration-color: #000000\">,</span>\n",
       "<span style=\"color: #000000; text-decoration-color: #000000\">    </span><span style=\"color: #008000; text-decoration-color: #008000\">'laplace_MNIST_z-512_&lt;lin|lin&gt;_seed-1'</span><span style=\"color: #000000; text-decoration-color: #000000\">,</span>\n",
       "<span style=\"color: #000000; text-decoration-color: #000000\">    </span><span style=\"color: #008000; text-decoration-color: #008000\">'laplace_MNIST_z-512_k-16_&lt;mlp+b|lin&gt;_seed-1'</span><span style=\"color: #000000; text-decoration-color: #000000\">,</span>\n",
       "<span style=\"color: #000000; text-decoration-color: #000000\">    </span><span style=\"color: #008000; text-decoration-color: #008000\">'poisson_uniform_c(-4)_CIFAR10-PATCHES_z-512_fp_&lt;lin|lin&gt;_seed-1'</span><span style=\"color: #000000; text-decoration-color: #000000\">,</span>\n",
       "<span style=\"color: #000000; text-decoration-color: #000000\">    </span><span style=\"color: #008000; text-decoration-color: #008000\">'poisson_uniform_c(-4)_CIFAR10-PATCHES_z-512_k-16_fp_&lt;mlp+b|lin&gt;_seed-1'</span><span style=\"color: #000000; text-decoration-color: #000000\">,</span>\n",
       "<span style=\"color: #000000; text-decoration-color: #000000\">    </span><span style=\"color: #008000; text-decoration-color: #008000\">'poisson_uniform_c(-4)_DOVES_z-512_fp_&lt;lin|lin&gt;_seed-1'</span><span style=\"color: #000000; text-decoration-color: #000000\">,</span>\n",
       "<span style=\"color: #000000; text-decoration-color: #000000\">    </span><span style=\"color: #008000; text-decoration-color: #008000\">'poisson_uniform_c(-4)_DOVES_z-512_k-16_fp_&lt;mlp+b|lin&gt;_seed-1'</span><span style=\"color: #000000; text-decoration-color: #000000\">,</span>\n",
       "<span style=\"color: #000000; text-decoration-color: #000000\">    </span><span style=\"color: #008000; text-decoration-color: #008000\">'poisson_uniform_c(-4)_MNIST_z-512_fp_&lt;lin|lin&gt;_seed-1'</span><span style=\"color: #000000; text-decoration-color: #000000\">,</span>\n",
       "<span style=\"color: #000000; text-decoration-color: #000000\">    </span><span style=\"color: #008000; text-decoration-color: #008000\">'poisson_uniform_c(-4)_MNIST_z-512_k-16_fp_&lt;mlp+b|lin&gt;_seed-1'</span>\n",
       "<span style=\"font-weight: bold\">]</span>\n",
       "</pre>\n"
      ],
      "text/plain": [
       "\u001b[1m[\u001b[0m\n",
       "    \u001b[32m'categorical-512_CIFAR10-PATCHES_z-1_\u001b[0m\u001b[32m<\u001b[0m\u001b[32mlin|lin\u001b[0m\u001b[32m>_seed-1'\u001b[0m\u001b[39m,\u001b[0m\n",
       "\u001b[39m    \u001b[0m\u001b[32m'categorical-512_CIFAR10-PATCHES_z-1_<lin|lin>_seed-2'\u001b[0m\u001b[39m,\u001b[0m\n",
       "\u001b[39m    \u001b[0m\u001b[32m'categorical-512_CIFAR10-PATCHES_z-1_k-16_<mlp+b|lin>_seed-1'\u001b[0m\u001b[39m,\u001b[0m\n",
       "\u001b[39m    \u001b[0m\u001b[32m'categorical-512_DOVES_z-1_<lin|lin>_seed-1'\u001b[0m\u001b[39m,\u001b[0m\n",
       "\u001b[39m    \u001b[0m\u001b[32m'categorical-512_DOVES_z-1_<lin|lin>_seed-2'\u001b[0m\u001b[39m,\u001b[0m\n",
       "\u001b[39m    \u001b[0m\u001b[32m'categorical-512_DOVES_z-1_k-16_<mlp+b|lin>_seed-1'\u001b[0m\u001b[39m,\u001b[0m\n",
       "\u001b[39m    \u001b[0m\u001b[32m'categorical-512_MNIST_z-1_<lin|lin>_seed-1'\u001b[0m\u001b[39m,\u001b[0m\n",
       "\u001b[39m    \u001b[0m\u001b[32m'categorical-512_MNIST_z-1_<lin|lin>_seed-2'\u001b[0m\u001b[39m,\u001b[0m\n",
       "\u001b[39m    \u001b[0m\u001b[32m'categorical-512_MNIST_z-1_<lin|lin>_seed-2990'\u001b[0m\u001b[39m,\u001b[0m\n",
       "\u001b[39m    \u001b[0m\u001b[32m'categorical-512_MNIST_z-1_<lin|lin>_seed-3'\u001b[0m\u001b[39m,\u001b[0m\n",
       "\u001b[39m    \u001b[0m\u001b[32m'categorical-512_MNIST_z-1_k-16_<mlp+b|lin>_seed-1'\u001b[0m\u001b[39m,\u001b[0m\n",
       "\u001b[39m    \u001b[0m\u001b[32m'categorical-512_MNIST_z-1_k-16_<mlp+b|lin>_seed-2'\u001b[0m\u001b[39m,\u001b[0m\n",
       "\u001b[39m    \u001b[0m\u001b[32m'categorical-512_MNIST_z-1_k-16_<mlp+b|lin>_seed-3'\u001b[0m\u001b[39m,\u001b[0m\n",
       "\u001b[39m    \u001b[0m\u001b[32m'gaussian_CIFAR10-PATCHES_z-512_<lin|lin>_seed-1'\u001b[0m\u001b[39m,\u001b[0m\n",
       "\u001b[39m    \u001b[0m\u001b[32m'gaussian_CIFAR10-PATCHES_z-512_k-16_<mlp+b|lin>_seed-1'\u001b[0m\u001b[39m,\u001b[0m\n",
       "\u001b[39m    \u001b[0m\u001b[32m'gaussian_DOVES_z-512_<lin|lin>_seed-1'\u001b[0m\u001b[39m,\u001b[0m\n",
       "\u001b[39m    \u001b[0m\u001b[32m'gaussian_DOVES_z-512_k-16_<mlp+b|lin>_seed-1'\u001b[0m\u001b[39m,\u001b[0m\n",
       "\u001b[39m    \u001b[0m\u001b[32m'gaussian_MNIST_z-512_<lin|lin>_seed-1'\u001b[0m\u001b[39m,\u001b[0m\n",
       "\u001b[39m    \u001b[0m\u001b[32m'gaussian_MNIST_z-512_k-16_<mlp+b|lin>_seed-1'\u001b[0m\u001b[39m,\u001b[0m\n",
       "\u001b[39m    \u001b[0m\u001b[32m'laplace_CIFAR10-PATCHES_z-512_<lin|lin>_seed-1'\u001b[0m\u001b[39m,\u001b[0m\n",
       "\u001b[39m    \u001b[0m\u001b[32m'laplace_CIFAR10-PATCHES_z-512_k-16_<mlp+b|lin>_seed-1'\u001b[0m\u001b[39m,\u001b[0m\n",
       "\u001b[39m    \u001b[0m\u001b[32m'laplace_DOVES_z-512_<lin|lin>_seed-1'\u001b[0m\u001b[39m,\u001b[0m\n",
       "\u001b[39m    \u001b[0m\u001b[32m'laplace_DOVES_z-512_k-16_<mlp+b|lin>_seed-1'\u001b[0m\u001b[39m,\u001b[0m\n",
       "\u001b[39m    \u001b[0m\u001b[32m'laplace_MNIST_z-512_<lin|lin>_seed-1'\u001b[0m\u001b[39m,\u001b[0m\n",
       "\u001b[39m    \u001b[0m\u001b[32m'laplace_MNIST_z-512_k-16_<mlp+b|lin>_seed-1'\u001b[0m\u001b[39m,\u001b[0m\n",
       "\u001b[39m    \u001b[0m\u001b[32m'poisson_uniform_c\u001b[0m\u001b[32m(\u001b[0m\u001b[32m-4\u001b[0m\u001b[32m)\u001b[0m\u001b[32m_CIFAR10-PATCHES_z-512_fp_<lin|lin>_seed-1'\u001b[0m\u001b[39m,\u001b[0m\n",
       "\u001b[39m    \u001b[0m\u001b[32m'poisson_uniform_c\u001b[0m\u001b[32m(\u001b[0m\u001b[32m-4\u001b[0m\u001b[32m)\u001b[0m\u001b[32m_CIFAR10-PATCHES_z-512_k-16_fp_<mlp+b|lin>_seed-1'\u001b[0m\u001b[39m,\u001b[0m\n",
       "\u001b[39m    \u001b[0m\u001b[32m'poisson_uniform_c\u001b[0m\u001b[32m(\u001b[0m\u001b[32m-4\u001b[0m\u001b[32m)\u001b[0m\u001b[32m_DOVES_z-512_fp_<lin|lin>_seed-1'\u001b[0m\u001b[39m,\u001b[0m\n",
       "\u001b[39m    \u001b[0m\u001b[32m'poisson_uniform_c\u001b[0m\u001b[32m(\u001b[0m\u001b[32m-4\u001b[0m\u001b[32m)\u001b[0m\u001b[32m_DOVES_z-512_k-16_fp_<mlp+b|lin>_seed-1'\u001b[0m\u001b[39m,\u001b[0m\n",
       "\u001b[39m    \u001b[0m\u001b[32m'poisson_uniform_c\u001b[0m\u001b[32m(\u001b[0m\u001b[32m-4\u001b[0m\u001b[32m)\u001b[0m\u001b[32m_MNIST_z-512_fp_<lin|lin>_seed-1'\u001b[0m\u001b[39m,\u001b[0m\n",
       "\u001b[39m    \u001b[0m\u001b[32m'poisson_uniform_c\u001b[0m\u001b[32m(\u001b[0m\u001b[32m-4\u001b[0m\u001b[32m)\u001b[0m\u001b[32m_MNIST_z-512_k-16_fp_<mlp+b|lin\u001b[0m\u001b[32m>\u001b[0m\u001b[32m_seed-1'\u001b[0m\n",
       "\u001b[1m]\u001b[0m\n"
      ]
     },
     "metadata": {},
     "output_type": "display_data"
    }
   ],
   "source": [
    "runs_dir = '/home/hadi/Projects/PoissonVAE/runs'\n",
    "print(sorted(os.listdir(runs_dir)))"
   ]
  },
  {
   "cell_type": "code",
   "execution_count": 9,
   "id": "e46adf9f-d259-4cb1-93f8-9f9b4ee3aed9",
   "metadata": {},
   "outputs": [
    {
     "data": {
      "text/html": [
       "<pre style=\"white-space:pre;overflow-x:auto;line-height:normal;font-family:Menlo,'DejaVu Sans Mono',consolas,'Courier New',monospace\">removed:        categorical-512_CIFAR10-PATCHES_z-1_<span style=\"font-weight: bold\">&lt;</span><span style=\"color: #ff00ff; text-decoration-color: #ff00ff; font-weight: bold\">lin|lin</span><span style=\"font-weight: bold\">&gt;</span>_seed-<span style=\"color: #008080; text-decoration-color: #008080; font-weight: bold\">1</span>\n",
       "</pre>\n"
      ],
      "text/plain": [
       "removed:        categorical-512_CIFAR10-PATCHES_z-1_\u001b[1m<\u001b[0m\u001b[1;95mlin|lin\u001b[0m\u001b[1m>\u001b[0m_seed-\u001b[1;36m1\u001b[0m\n"
      ]
     },
     "metadata": {},
     "output_type": "display_data"
    },
    {
     "data": {
      "text/html": [
       "<pre style=\"white-space:pre;overflow-x:auto;line-height:normal;font-family:Menlo,'DejaVu Sans Mono',consolas,'Courier New',monospace\">removed:        categorical-512_CIFAR10-PATCHES_z-1_<span style=\"font-weight: bold\">&lt;</span><span style=\"color: #ff00ff; text-decoration-color: #ff00ff; font-weight: bold\">lin|lin</span><span style=\"font-weight: bold\">&gt;</span>_seed-<span style=\"color: #008080; text-decoration-color: #008080; font-weight: bold\">2</span>\n",
       "</pre>\n"
      ],
      "text/plain": [
       "removed:        categorical-512_CIFAR10-PATCHES_z-1_\u001b[1m<\u001b[0m\u001b[1;95mlin|lin\u001b[0m\u001b[1m>\u001b[0m_seed-\u001b[1;36m2\u001b[0m\n"
      ]
     },
     "metadata": {},
     "output_type": "display_data"
    },
    {
     "data": {
      "text/html": [
       "<pre style=\"white-space:pre;overflow-x:auto;line-height:normal;font-family:Menlo,'DejaVu Sans Mono',consolas,'Courier New',monospace\">removed:        categorical-512_CIFAR10-PATCHES_z-1_k-16_<span style=\"font-weight: bold\">&lt;</span><span style=\"color: #ff00ff; text-decoration-color: #ff00ff; font-weight: bold\">mlp</span><span style=\"color: #000000; text-decoration-color: #000000\">+b|lin</span><span style=\"font-weight: bold\">&gt;</span>_seed-<span style=\"color: #008080; text-decoration-color: #008080; font-weight: bold\">1</span>\n",
       "</pre>\n"
      ],
      "text/plain": [
       "removed:        categorical-512_CIFAR10-PATCHES_z-1_k-16_\u001b[1m<\u001b[0m\u001b[1;95mmlp\u001b[0m\u001b[39m+b|lin\u001b[0m\u001b[1m>\u001b[0m_seed-\u001b[1;36m1\u001b[0m\n"
      ]
     },
     "metadata": {},
     "output_type": "display_data"
    },
    {
     "data": {
      "text/html": [
       "<pre style=\"white-space:pre;overflow-x:auto;line-height:normal;font-family:Menlo,'DejaVu Sans Mono',consolas,'Courier New',monospace\">removed:        categorical-512_DOVES_z-1_<span style=\"font-weight: bold\">&lt;</span><span style=\"color: #ff00ff; text-decoration-color: #ff00ff; font-weight: bold\">lin|lin</span><span style=\"font-weight: bold\">&gt;</span>_seed-<span style=\"color: #008080; text-decoration-color: #008080; font-weight: bold\">1</span>\n",
       "</pre>\n"
      ],
      "text/plain": [
       "removed:        categorical-512_DOVES_z-1_\u001b[1m<\u001b[0m\u001b[1;95mlin|lin\u001b[0m\u001b[1m>\u001b[0m_seed-\u001b[1;36m1\u001b[0m\n"
      ]
     },
     "metadata": {},
     "output_type": "display_data"
    },
    {
     "data": {
      "text/html": [
       "<pre style=\"white-space:pre;overflow-x:auto;line-height:normal;font-family:Menlo,'DejaVu Sans Mono',consolas,'Courier New',monospace\">removed:        categorical-512_DOVES_z-1_<span style=\"font-weight: bold\">&lt;</span><span style=\"color: #ff00ff; text-decoration-color: #ff00ff; font-weight: bold\">lin|lin</span><span style=\"font-weight: bold\">&gt;</span>_seed-<span style=\"color: #008080; text-decoration-color: #008080; font-weight: bold\">2</span>\n",
       "</pre>\n"
      ],
      "text/plain": [
       "removed:        categorical-512_DOVES_z-1_\u001b[1m<\u001b[0m\u001b[1;95mlin|lin\u001b[0m\u001b[1m>\u001b[0m_seed-\u001b[1;36m2\u001b[0m\n"
      ]
     },
     "metadata": {},
     "output_type": "display_data"
    },
    {
     "data": {
      "text/html": [
       "<pre style=\"white-space:pre;overflow-x:auto;line-height:normal;font-family:Menlo,'DejaVu Sans Mono',consolas,'Courier New',monospace\">removed:        categorical-512_DOVES_z-1_k-16_<span style=\"font-weight: bold\">&lt;</span><span style=\"color: #ff00ff; text-decoration-color: #ff00ff; font-weight: bold\">mlp</span><span style=\"color: #000000; text-decoration-color: #000000\">+b|lin</span><span style=\"font-weight: bold\">&gt;</span>_seed-<span style=\"color: #008080; text-decoration-color: #008080; font-weight: bold\">1</span>\n",
       "</pre>\n"
      ],
      "text/plain": [
       "removed:        categorical-512_DOVES_z-1_k-16_\u001b[1m<\u001b[0m\u001b[1;95mmlp\u001b[0m\u001b[39m+b|lin\u001b[0m\u001b[1m>\u001b[0m_seed-\u001b[1;36m1\u001b[0m\n"
      ]
     },
     "metadata": {},
     "output_type": "display_data"
    },
    {
     "data": {
      "text/html": [
       "<pre style=\"white-space:pre;overflow-x:auto;line-height:normal;font-family:Menlo,'DejaVu Sans Mono',consolas,'Courier New',monospace\">removed:        categorical-512_MNIST_z-1_<span style=\"font-weight: bold\">&lt;</span><span style=\"color: #ff00ff; text-decoration-color: #ff00ff; font-weight: bold\">lin|lin</span><span style=\"font-weight: bold\">&gt;</span>_seed-<span style=\"color: #008080; text-decoration-color: #008080; font-weight: bold\">1</span>\n",
       "</pre>\n"
      ],
      "text/plain": [
       "removed:        categorical-512_MNIST_z-1_\u001b[1m<\u001b[0m\u001b[1;95mlin|lin\u001b[0m\u001b[1m>\u001b[0m_seed-\u001b[1;36m1\u001b[0m\n"
      ]
     },
     "metadata": {},
     "output_type": "display_data"
    },
    {
     "data": {
      "text/html": [
       "<pre style=\"white-space:pre;overflow-x:auto;line-height:normal;font-family:Menlo,'DejaVu Sans Mono',consolas,'Courier New',monospace\">removed:        categorical-512_MNIST_z-1_<span style=\"font-weight: bold\">&lt;</span><span style=\"color: #ff00ff; text-decoration-color: #ff00ff; font-weight: bold\">lin|lin</span><span style=\"font-weight: bold\">&gt;</span>_seed-<span style=\"color: #008080; text-decoration-color: #008080; font-weight: bold\">2</span>\n",
       "</pre>\n"
      ],
      "text/plain": [
       "removed:        categorical-512_MNIST_z-1_\u001b[1m<\u001b[0m\u001b[1;95mlin|lin\u001b[0m\u001b[1m>\u001b[0m_seed-\u001b[1;36m2\u001b[0m\n"
      ]
     },
     "metadata": {},
     "output_type": "display_data"
    },
    {
     "data": {
      "text/html": [
       "<pre style=\"white-space:pre;overflow-x:auto;line-height:normal;font-family:Menlo,'DejaVu Sans Mono',consolas,'Courier New',monospace\">removed:        categorical-512_MNIST_z-1_<span style=\"font-weight: bold\">&lt;</span><span style=\"color: #ff00ff; text-decoration-color: #ff00ff; font-weight: bold\">lin|lin</span><span style=\"font-weight: bold\">&gt;</span>_seed-<span style=\"color: #008080; text-decoration-color: #008080; font-weight: bold\">2990</span>\n",
       "</pre>\n"
      ],
      "text/plain": [
       "removed:        categorical-512_MNIST_z-1_\u001b[1m<\u001b[0m\u001b[1;95mlin|lin\u001b[0m\u001b[1m>\u001b[0m_seed-\u001b[1;36m2990\u001b[0m\n"
      ]
     },
     "metadata": {},
     "output_type": "display_data"
    },
    {
     "data": {
      "text/html": [
       "<pre style=\"white-space:pre;overflow-x:auto;line-height:normal;font-family:Menlo,'DejaVu Sans Mono',consolas,'Courier New',monospace\">removed:        categorical-512_MNIST_z-1_<span style=\"font-weight: bold\">&lt;</span><span style=\"color: #ff00ff; text-decoration-color: #ff00ff; font-weight: bold\">lin|lin</span><span style=\"font-weight: bold\">&gt;</span>_seed-<span style=\"color: #008080; text-decoration-color: #008080; font-weight: bold\">3</span>\n",
       "</pre>\n"
      ],
      "text/plain": [
       "removed:        categorical-512_MNIST_z-1_\u001b[1m<\u001b[0m\u001b[1;95mlin|lin\u001b[0m\u001b[1m>\u001b[0m_seed-\u001b[1;36m3\u001b[0m\n"
      ]
     },
     "metadata": {},
     "output_type": "display_data"
    },
    {
     "data": {
      "text/html": [
       "<pre style=\"white-space:pre;overflow-x:auto;line-height:normal;font-family:Menlo,'DejaVu Sans Mono',consolas,'Courier New',monospace\">removed:        categorical-512_MNIST_z-1_k-16_<span style=\"font-weight: bold\">&lt;</span><span style=\"color: #ff00ff; text-decoration-color: #ff00ff; font-weight: bold\">mlp</span><span style=\"color: #000000; text-decoration-color: #000000\">+b|lin</span><span style=\"font-weight: bold\">&gt;</span>_seed-<span style=\"color: #008080; text-decoration-color: #008080; font-weight: bold\">1</span>\n",
       "</pre>\n"
      ],
      "text/plain": [
       "removed:        categorical-512_MNIST_z-1_k-16_\u001b[1m<\u001b[0m\u001b[1;95mmlp\u001b[0m\u001b[39m+b|lin\u001b[0m\u001b[1m>\u001b[0m_seed-\u001b[1;36m1\u001b[0m\n"
      ]
     },
     "metadata": {},
     "output_type": "display_data"
    },
    {
     "data": {
      "text/html": [
       "<pre style=\"white-space:pre;overflow-x:auto;line-height:normal;font-family:Menlo,'DejaVu Sans Mono',consolas,'Courier New',monospace\">removed:        categorical-512_MNIST_z-1_k-16_<span style=\"font-weight: bold\">&lt;</span><span style=\"color: #ff00ff; text-decoration-color: #ff00ff; font-weight: bold\">mlp</span><span style=\"color: #000000; text-decoration-color: #000000\">+b|lin</span><span style=\"font-weight: bold\">&gt;</span>_seed-<span style=\"color: #008080; text-decoration-color: #008080; font-weight: bold\">2</span>\n",
       "</pre>\n"
      ],
      "text/plain": [
       "removed:        categorical-512_MNIST_z-1_k-16_\u001b[1m<\u001b[0m\u001b[1;95mmlp\u001b[0m\u001b[39m+b|lin\u001b[0m\u001b[1m>\u001b[0m_seed-\u001b[1;36m2\u001b[0m\n"
      ]
     },
     "metadata": {},
     "output_type": "display_data"
    },
    {
     "data": {
      "text/html": [
       "<pre style=\"white-space:pre;overflow-x:auto;line-height:normal;font-family:Menlo,'DejaVu Sans Mono',consolas,'Courier New',monospace\">removed:        categorical-512_MNIST_z-1_k-16_<span style=\"font-weight: bold\">&lt;</span><span style=\"color: #ff00ff; text-decoration-color: #ff00ff; font-weight: bold\">mlp</span><span style=\"color: #000000; text-decoration-color: #000000\">+b|lin</span><span style=\"font-weight: bold\">&gt;</span>_seed-<span style=\"color: #008080; text-decoration-color: #008080; font-weight: bold\">3</span>\n",
       "</pre>\n"
      ],
      "text/plain": [
       "removed:        categorical-512_MNIST_z-1_k-16_\u001b[1m<\u001b[0m\u001b[1;95mmlp\u001b[0m\u001b[39m+b|lin\u001b[0m\u001b[1m>\u001b[0m_seed-\u001b[1;36m3\u001b[0m\n"
      ]
     },
     "metadata": {},
     "output_type": "display_data"
    }
   ],
   "source": [
    "for f in sorted(os.listdir(runs_dir)):\n",
    "    if delete_criterion(f):\n",
    "        shutil.rmtree(pjoin(runs_dir, f))\n",
    "        print(f\"removed:\\t{f}\")"
   ]
  },
  {
   "cell_type": "code",
   "execution_count": null,
   "id": "384773ca-01ed-46de-a147-683c9ff48426",
   "metadata": {},
   "outputs": [],
   "source": []
  },
  {
   "cell_type": "code",
   "execution_count": null,
   "id": "8a6a7630-6e31-4da6-8eb1-c68d28e6faca",
   "metadata": {},
   "outputs": [],
   "source": []
  },
  {
   "cell_type": "code",
   "execution_count": 10,
   "id": "d5ee0022-6bf2-489e-96c7-4ec63bf779b3",
   "metadata": {},
   "outputs": [
    {
     "data": {
      "text/html": [
       "<pre style=\"white-space:pre;overflow-x:auto;line-height:normal;font-family:Menlo,'DejaVu Sans Mono',consolas,'Courier New',monospace\"><span style=\"font-weight: bold\">[</span>\n",
       "    <span style=\"color: #008000; text-decoration-color: #008000\">'gaussian_CIFAR10-PATCHES_z-512_&lt;lin|lin&gt;_seed-1'</span><span style=\"color: #000000; text-decoration-color: #000000\">,</span>\n",
       "<span style=\"color: #000000; text-decoration-color: #000000\">    </span><span style=\"color: #008000; text-decoration-color: #008000\">'gaussian_CIFAR10-PATCHES_z-512_k-16_&lt;mlp+b|lin&gt;_seed-1'</span><span style=\"color: #000000; text-decoration-color: #000000\">,</span>\n",
       "<span style=\"color: #000000; text-decoration-color: #000000\">    </span><span style=\"color: #008000; text-decoration-color: #008000\">'gaussian_DOVES_z-512_&lt;lin|lin&gt;_seed-1'</span><span style=\"color: #000000; text-decoration-color: #000000\">,</span>\n",
       "<span style=\"color: #000000; text-decoration-color: #000000\">    </span><span style=\"color: #008000; text-decoration-color: #008000\">'gaussian_DOVES_z-512_k-16_&lt;mlp+b|lin&gt;_seed-1'</span><span style=\"color: #000000; text-decoration-color: #000000\">,</span>\n",
       "<span style=\"color: #000000; text-decoration-color: #000000\">    </span><span style=\"color: #008000; text-decoration-color: #008000\">'gaussian_MNIST_z-512_&lt;lin|lin&gt;_seed-1'</span><span style=\"color: #000000; text-decoration-color: #000000\">,</span>\n",
       "<span style=\"color: #000000; text-decoration-color: #000000\">    </span><span style=\"color: #008000; text-decoration-color: #008000\">'gaussian_MNIST_z-512_k-16_&lt;mlp+b|lin&gt;_seed-1'</span><span style=\"color: #000000; text-decoration-color: #000000\">,</span>\n",
       "<span style=\"color: #000000; text-decoration-color: #000000\">    </span><span style=\"color: #008000; text-decoration-color: #008000\">'laplace_CIFAR10-PATCHES_z-512_&lt;lin|lin&gt;_seed-1'</span><span style=\"color: #000000; text-decoration-color: #000000\">,</span>\n",
       "<span style=\"color: #000000; text-decoration-color: #000000\">    </span><span style=\"color: #008000; text-decoration-color: #008000\">'laplace_CIFAR10-PATCHES_z-512_k-16_&lt;mlp+b|lin&gt;_seed-1'</span><span style=\"color: #000000; text-decoration-color: #000000\">,</span>\n",
       "<span style=\"color: #000000; text-decoration-color: #000000\">    </span><span style=\"color: #008000; text-decoration-color: #008000\">'laplace_DOVES_z-512_&lt;lin|lin&gt;_seed-1'</span><span style=\"color: #000000; text-decoration-color: #000000\">,</span>\n",
       "<span style=\"color: #000000; text-decoration-color: #000000\">    </span><span style=\"color: #008000; text-decoration-color: #008000\">'laplace_DOVES_z-512_k-16_&lt;mlp+b|lin&gt;_seed-1'</span><span style=\"color: #000000; text-decoration-color: #000000\">,</span>\n",
       "<span style=\"color: #000000; text-decoration-color: #000000\">    </span><span style=\"color: #008000; text-decoration-color: #008000\">'laplace_MNIST_z-512_&lt;lin|lin&gt;_seed-1'</span><span style=\"color: #000000; text-decoration-color: #000000\">,</span>\n",
       "<span style=\"color: #000000; text-decoration-color: #000000\">    </span><span style=\"color: #008000; text-decoration-color: #008000\">'laplace_MNIST_z-512_k-16_&lt;mlp+b|lin&gt;_seed-1'</span><span style=\"color: #000000; text-decoration-color: #000000\">,</span>\n",
       "<span style=\"color: #000000; text-decoration-color: #000000\">    </span><span style=\"color: #008000; text-decoration-color: #008000\">'poisson_uniform_c(-4)_CIFAR10-PATCHES_z-512_fp_&lt;lin|lin&gt;_seed-1'</span><span style=\"color: #000000; text-decoration-color: #000000\">,</span>\n",
       "<span style=\"color: #000000; text-decoration-color: #000000\">    </span><span style=\"color: #008000; text-decoration-color: #008000\">'poisson_uniform_c(-4)_CIFAR10-PATCHES_z-512_k-16_fp_&lt;mlp+b|lin&gt;_seed-1'</span><span style=\"color: #000000; text-decoration-color: #000000\">,</span>\n",
       "<span style=\"color: #000000; text-decoration-color: #000000\">    </span><span style=\"color: #008000; text-decoration-color: #008000\">'poisson_uniform_c(-4)_DOVES_z-512_fp_&lt;lin|lin&gt;_seed-1'</span><span style=\"color: #000000; text-decoration-color: #000000\">,</span>\n",
       "<span style=\"color: #000000; text-decoration-color: #000000\">    </span><span style=\"color: #008000; text-decoration-color: #008000\">'poisson_uniform_c(-4)_DOVES_z-512_k-16_fp_&lt;mlp+b|lin&gt;_seed-1'</span><span style=\"color: #000000; text-decoration-color: #000000\">,</span>\n",
       "<span style=\"color: #000000; text-decoration-color: #000000\">    </span><span style=\"color: #008000; text-decoration-color: #008000\">'poisson_uniform_c(-4)_MNIST_z-512_fp_&lt;lin|lin&gt;_seed-1'</span><span style=\"color: #000000; text-decoration-color: #000000\">,</span>\n",
       "<span style=\"color: #000000; text-decoration-color: #000000\">    </span><span style=\"color: #008000; text-decoration-color: #008000\">'poisson_uniform_c(-4)_MNIST_z-512_k-16_fp_&lt;mlp+b|lin&gt;_seed-1'</span>\n",
       "<span style=\"font-weight: bold\">]</span>\n",
       "<span style=\"font-weight: bold\">[</span>\n",
       "    <span style=\"color: #008000; text-decoration-color: #008000\">'gaussian_CIFAR10-PATCHES_z-512_&lt;lin|lin&gt;_seed-1'</span><span style=\"color: #000000; text-decoration-color: #000000\">,</span>\n",
       "<span style=\"color: #000000; text-decoration-color: #000000\">    </span><span style=\"color: #008000; text-decoration-color: #008000\">'gaussian_CIFAR10-PATCHES_z-512_k-16_&lt;mlp+b|lin&gt;_seed-1'</span><span style=\"color: #000000; text-decoration-color: #000000\">,</span>\n",
       "<span style=\"color: #000000; text-decoration-color: #000000\">    </span><span style=\"color: #008000; text-decoration-color: #008000\">'gaussian_DOVES_z-512_&lt;lin|lin&gt;_seed-1'</span><span style=\"color: #000000; text-decoration-color: #000000\">,</span>\n",
       "<span style=\"color: #000000; text-decoration-color: #000000\">    </span><span style=\"color: #008000; text-decoration-color: #008000\">'gaussian_DOVES_z-512_k-16_&lt;mlp+b|lin&gt;_seed-1'</span><span style=\"color: #000000; text-decoration-color: #000000\">,</span>\n",
       "<span style=\"color: #000000; text-decoration-color: #000000\">    </span><span style=\"color: #008000; text-decoration-color: #008000\">'gaussian_MNIST_z-512_&lt;lin|lin&gt;_seed-1'</span><span style=\"color: #000000; text-decoration-color: #000000\">,</span>\n",
       "<span style=\"color: #000000; text-decoration-color: #000000\">    </span><span style=\"color: #008000; text-decoration-color: #008000\">'gaussian_MNIST_z-512_k-16_&lt;mlp+b|lin&gt;_seed-1'</span><span style=\"color: #000000; text-decoration-color: #000000\">,</span>\n",
       "<span style=\"color: #000000; text-decoration-color: #000000\">    </span><span style=\"color: #008000; text-decoration-color: #008000\">'laplace_CIFAR10-PATCHES_z-512_&lt;lin|lin&gt;_seed-1'</span><span style=\"color: #000000; text-decoration-color: #000000\">,</span>\n",
       "<span style=\"color: #000000; text-decoration-color: #000000\">    </span><span style=\"color: #008000; text-decoration-color: #008000\">'laplace_CIFAR10-PATCHES_z-512_k-16_&lt;mlp+b|lin&gt;_seed-1'</span><span style=\"color: #000000; text-decoration-color: #000000\">,</span>\n",
       "<span style=\"color: #000000; text-decoration-color: #000000\">    </span><span style=\"color: #008000; text-decoration-color: #008000\">'laplace_DOVES_z-512_&lt;lin|lin&gt;_seed-1'</span><span style=\"color: #000000; text-decoration-color: #000000\">,</span>\n",
       "<span style=\"color: #000000; text-decoration-color: #000000\">    </span><span style=\"color: #008000; text-decoration-color: #008000\">'laplace_DOVES_z-512_k-16_&lt;mlp+b|lin&gt;_seed-1'</span><span style=\"color: #000000; text-decoration-color: #000000\">,</span>\n",
       "<span style=\"color: #000000; text-decoration-color: #000000\">    </span><span style=\"color: #008000; text-decoration-color: #008000\">'laplace_MNIST_z-512_&lt;lin|lin&gt;_seed-1'</span><span style=\"color: #000000; text-decoration-color: #000000\">,</span>\n",
       "<span style=\"color: #000000; text-decoration-color: #000000\">    </span><span style=\"color: #008000; text-decoration-color: #008000\">'laplace_MNIST_z-512_k-16_&lt;mlp+b|lin&gt;_seed-1'</span><span style=\"color: #000000; text-decoration-color: #000000\">,</span>\n",
       "<span style=\"color: #000000; text-decoration-color: #000000\">    </span><span style=\"color: #008000; text-decoration-color: #008000\">'poisson_uniform_c(-4)_CIFAR10-PATCHES_z-512_fp_&lt;lin|lin&gt;_seed-1'</span><span style=\"color: #000000; text-decoration-color: #000000\">,</span>\n",
       "<span style=\"color: #000000; text-decoration-color: #000000\">    </span><span style=\"color: #008000; text-decoration-color: #008000\">'poisson_uniform_c(-4)_CIFAR10-PATCHES_z-512_k-16_fp_&lt;mlp+b|lin&gt;_seed-1'</span><span style=\"color: #000000; text-decoration-color: #000000\">,</span>\n",
       "<span style=\"color: #000000; text-decoration-color: #000000\">    </span><span style=\"color: #008000; text-decoration-color: #008000\">'poisson_uniform_c(-4)_DOVES_z-512_fp_&lt;lin|lin&gt;_seed-1'</span><span style=\"color: #000000; text-decoration-color: #000000\">,</span>\n",
       "<span style=\"color: #000000; text-decoration-color: #000000\">    </span><span style=\"color: #008000; text-decoration-color: #008000\">'poisson_uniform_c(-4)_DOVES_z-512_k-16_fp_&lt;mlp+b|lin&gt;_seed-1'</span><span style=\"color: #000000; text-decoration-color: #000000\">,</span>\n",
       "<span style=\"color: #000000; text-decoration-color: #000000\">    </span><span style=\"color: #008000; text-decoration-color: #008000\">'poisson_uniform_c(-4)_MNIST_z-512_fp_&lt;lin|lin&gt;_seed-1'</span><span style=\"color: #000000; text-decoration-color: #000000\">,</span>\n",
       "<span style=\"color: #000000; text-decoration-color: #000000\">    </span><span style=\"color: #008000; text-decoration-color: #008000\">'poisson_uniform_c(-4)_MNIST_z-512_k-16_fp_&lt;mlp+b|lin&gt;_seed-1'</span>\n",
       "<span style=\"font-weight: bold\">]</span>\n",
       "</pre>\n"
      ],
      "text/plain": [
       "\u001b[1m[\u001b[0m\n",
       "    \u001b[32m'gaussian_CIFAR10-PATCHES_z-512_\u001b[0m\u001b[32m<\u001b[0m\u001b[32mlin|lin\u001b[0m\u001b[32m>_seed-1'\u001b[0m\u001b[39m,\u001b[0m\n",
       "\u001b[39m    \u001b[0m\u001b[32m'gaussian_CIFAR10-PATCHES_z-512_k-16_<mlp+b|lin>_seed-1'\u001b[0m\u001b[39m,\u001b[0m\n",
       "\u001b[39m    \u001b[0m\u001b[32m'gaussian_DOVES_z-512_<lin|lin>_seed-1'\u001b[0m\u001b[39m,\u001b[0m\n",
       "\u001b[39m    \u001b[0m\u001b[32m'gaussian_DOVES_z-512_k-16_<mlp+b|lin>_seed-1'\u001b[0m\u001b[39m,\u001b[0m\n",
       "\u001b[39m    \u001b[0m\u001b[32m'gaussian_MNIST_z-512_<lin|lin>_seed-1'\u001b[0m\u001b[39m,\u001b[0m\n",
       "\u001b[39m    \u001b[0m\u001b[32m'gaussian_MNIST_z-512_k-16_<mlp+b|lin>_seed-1'\u001b[0m\u001b[39m,\u001b[0m\n",
       "\u001b[39m    \u001b[0m\u001b[32m'laplace_CIFAR10-PATCHES_z-512_<lin|lin>_seed-1'\u001b[0m\u001b[39m,\u001b[0m\n",
       "\u001b[39m    \u001b[0m\u001b[32m'laplace_CIFAR10-PATCHES_z-512_k-16_<mlp+b|lin>_seed-1'\u001b[0m\u001b[39m,\u001b[0m\n",
       "\u001b[39m    \u001b[0m\u001b[32m'laplace_DOVES_z-512_<lin|lin>_seed-1'\u001b[0m\u001b[39m,\u001b[0m\n",
       "\u001b[39m    \u001b[0m\u001b[32m'laplace_DOVES_z-512_k-16_<mlp+b|lin>_seed-1'\u001b[0m\u001b[39m,\u001b[0m\n",
       "\u001b[39m    \u001b[0m\u001b[32m'laplace_MNIST_z-512_<lin|lin>_seed-1'\u001b[0m\u001b[39m,\u001b[0m\n",
       "\u001b[39m    \u001b[0m\u001b[32m'laplace_MNIST_z-512_k-16_<mlp+b|lin>_seed-1'\u001b[0m\u001b[39m,\u001b[0m\n",
       "\u001b[39m    \u001b[0m\u001b[32m'poisson_uniform_c\u001b[0m\u001b[32m(\u001b[0m\u001b[32m-4\u001b[0m\u001b[32m)\u001b[0m\u001b[32m_CIFAR10-PATCHES_z-512_fp_<lin|lin>_seed-1'\u001b[0m\u001b[39m,\u001b[0m\n",
       "\u001b[39m    \u001b[0m\u001b[32m'poisson_uniform_c\u001b[0m\u001b[32m(\u001b[0m\u001b[32m-4\u001b[0m\u001b[32m)\u001b[0m\u001b[32m_CIFAR10-PATCHES_z-512_k-16_fp_<mlp+b|lin>_seed-1'\u001b[0m\u001b[39m,\u001b[0m\n",
       "\u001b[39m    \u001b[0m\u001b[32m'poisson_uniform_c\u001b[0m\u001b[32m(\u001b[0m\u001b[32m-4\u001b[0m\u001b[32m)\u001b[0m\u001b[32m_DOVES_z-512_fp_<lin|lin>_seed-1'\u001b[0m\u001b[39m,\u001b[0m\n",
       "\u001b[39m    \u001b[0m\u001b[32m'poisson_uniform_c\u001b[0m\u001b[32m(\u001b[0m\u001b[32m-4\u001b[0m\u001b[32m)\u001b[0m\u001b[32m_DOVES_z-512_k-16_fp_<mlp+b|lin>_seed-1'\u001b[0m\u001b[39m,\u001b[0m\n",
       "\u001b[39m    \u001b[0m\u001b[32m'poisson_uniform_c\u001b[0m\u001b[32m(\u001b[0m\u001b[32m-4\u001b[0m\u001b[32m)\u001b[0m\u001b[32m_MNIST_z-512_fp_<lin|lin>_seed-1'\u001b[0m\u001b[39m,\u001b[0m\n",
       "\u001b[39m    \u001b[0m\u001b[32m'poisson_uniform_c\u001b[0m\u001b[32m(\u001b[0m\u001b[32m-4\u001b[0m\u001b[32m)\u001b[0m\u001b[32m_MNIST_z-512_k-16_fp_<mlp+b|lin\u001b[0m\u001b[32m>\u001b[0m\u001b[32m_seed-1'\u001b[0m\n",
       "\u001b[1m]\u001b[0m\n",
       "\u001b[1m[\u001b[0m\n",
       "    \u001b[32m'gaussian_CIFAR10-PATCHES_z-512_\u001b[0m\u001b[32m<\u001b[0m\u001b[32mlin|lin\u001b[0m\u001b[32m>_seed-1'\u001b[0m\u001b[39m,\u001b[0m\n",
       "\u001b[39m    \u001b[0m\u001b[32m'gaussian_CIFAR10-PATCHES_z-512_k-16_<mlp+b|lin>_seed-1'\u001b[0m\u001b[39m,\u001b[0m\n",
       "\u001b[39m    \u001b[0m\u001b[32m'gaussian_DOVES_z-512_<lin|lin>_seed-1'\u001b[0m\u001b[39m,\u001b[0m\n",
       "\u001b[39m    \u001b[0m\u001b[32m'gaussian_DOVES_z-512_k-16_<mlp+b|lin>_seed-1'\u001b[0m\u001b[39m,\u001b[0m\n",
       "\u001b[39m    \u001b[0m\u001b[32m'gaussian_MNIST_z-512_<lin|lin>_seed-1'\u001b[0m\u001b[39m,\u001b[0m\n",
       "\u001b[39m    \u001b[0m\u001b[32m'gaussian_MNIST_z-512_k-16_<mlp+b|lin>_seed-1'\u001b[0m\u001b[39m,\u001b[0m\n",
       "\u001b[39m    \u001b[0m\u001b[32m'laplace_CIFAR10-PATCHES_z-512_<lin|lin>_seed-1'\u001b[0m\u001b[39m,\u001b[0m\n",
       "\u001b[39m    \u001b[0m\u001b[32m'laplace_CIFAR10-PATCHES_z-512_k-16_<mlp+b|lin>_seed-1'\u001b[0m\u001b[39m,\u001b[0m\n",
       "\u001b[39m    \u001b[0m\u001b[32m'laplace_DOVES_z-512_<lin|lin>_seed-1'\u001b[0m\u001b[39m,\u001b[0m\n",
       "\u001b[39m    \u001b[0m\u001b[32m'laplace_DOVES_z-512_k-16_<mlp+b|lin>_seed-1'\u001b[0m\u001b[39m,\u001b[0m\n",
       "\u001b[39m    \u001b[0m\u001b[32m'laplace_MNIST_z-512_<lin|lin>_seed-1'\u001b[0m\u001b[39m,\u001b[0m\n",
       "\u001b[39m    \u001b[0m\u001b[32m'laplace_MNIST_z-512_k-16_<mlp+b|lin>_seed-1'\u001b[0m\u001b[39m,\u001b[0m\n",
       "\u001b[39m    \u001b[0m\u001b[32m'poisson_uniform_c\u001b[0m\u001b[32m(\u001b[0m\u001b[32m-4\u001b[0m\u001b[32m)\u001b[0m\u001b[32m_CIFAR10-PATCHES_z-512_fp_<lin|lin>_seed-1'\u001b[0m\u001b[39m,\u001b[0m\n",
       "\u001b[39m    \u001b[0m\u001b[32m'poisson_uniform_c\u001b[0m\u001b[32m(\u001b[0m\u001b[32m-4\u001b[0m\u001b[32m)\u001b[0m\u001b[32m_CIFAR10-PATCHES_z-512_k-16_fp_<mlp+b|lin>_seed-1'\u001b[0m\u001b[39m,\u001b[0m\n",
       "\u001b[39m    \u001b[0m\u001b[32m'poisson_uniform_c\u001b[0m\u001b[32m(\u001b[0m\u001b[32m-4\u001b[0m\u001b[32m)\u001b[0m\u001b[32m_DOVES_z-512_fp_<lin|lin>_seed-1'\u001b[0m\u001b[39m,\u001b[0m\n",
       "\u001b[39m    \u001b[0m\u001b[32m'poisson_uniform_c\u001b[0m\u001b[32m(\u001b[0m\u001b[32m-4\u001b[0m\u001b[32m)\u001b[0m\u001b[32m_DOVES_z-512_k-16_fp_<mlp+b|lin>_seed-1'\u001b[0m\u001b[39m,\u001b[0m\n",
       "\u001b[39m    \u001b[0m\u001b[32m'poisson_uniform_c\u001b[0m\u001b[32m(\u001b[0m\u001b[32m-4\u001b[0m\u001b[32m)\u001b[0m\u001b[32m_MNIST_z-512_fp_<lin|lin>_seed-1'\u001b[0m\u001b[39m,\u001b[0m\n",
       "\u001b[39m    \u001b[0m\u001b[32m'poisson_uniform_c\u001b[0m\u001b[32m(\u001b[0m\u001b[32m-4\u001b[0m\u001b[32m)\u001b[0m\u001b[32m_MNIST_z-512_k-16_fp_<mlp+b|lin\u001b[0m\u001b[32m>\u001b[0m\u001b[32m_seed-1'\u001b[0m\n",
       "\u001b[1m]\u001b[0m\n"
      ]
     },
     "metadata": {},
     "output_type": "display_data"
    }
   ],
   "source": [
    "print(sorted(os.listdir(models_dir)), sorted(os.listdir(runs_dir)))"
   ]
  },
  {
   "cell_type": "code",
   "execution_count": null,
   "id": "813848aa-8f73-415e-ac5f-6a873b437257",
   "metadata": {},
   "outputs": [],
   "source": []
  },
  {
   "cell_type": "code",
   "execution_count": null,
   "id": "2cc8cabc-ace8-4e65-88bb-1967d8c25184",
   "metadata": {},
   "outputs": [],
   "source": []
  },
  {
   "cell_type": "code",
   "execution_count": null,
   "id": "bc6da45e-b694-4bff-a95a-21a7c3eaaef3",
   "metadata": {},
   "outputs": [],
   "source": []
  }
 ],
 "metadata": {
  "kernelspec": {
   "display_name": "Python 3 (ipykernel)",
   "language": "python",
   "name": "python3"
  },
  "language_info": {
   "codemirror_mode": {
    "name": "ipython",
    "version": 3
   },
   "file_extension": ".py",
   "mimetype": "text/x-python",
   "name": "python",
   "nbconvert_exporter": "python",
   "pygments_lexer": "ipython3",
   "version": "3.11.7"
  }
 },
 "nbformat": 4,
 "nbformat_minor": 5
}
