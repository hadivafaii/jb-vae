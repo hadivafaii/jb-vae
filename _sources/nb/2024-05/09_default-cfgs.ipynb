{
 "cells": [
  {
   "cell_type": "markdown",
   "id": "48f55a35-d5b5-468f-b574-730df61e9609",
   "metadata": {},
   "source": [
    "# (09) Configs\n",
    "\n",
    "**Motivation**: Print default configs. <br>"
   ]
  },
  {
   "cell_type": "code",
   "execution_count": 1,
   "id": "f823b1e9-05f2-49a0-8296-4a1819c12e81",
   "metadata": {
    "tags": [
     "hide-input"
    ]
   },
   "outputs": [],
   "source": [
    "# HIDE CODE\n",
    "\n",
    "\n",
    "import os, sys\n",
    "from IPython.display import display\n",
    "\n",
    "# tmp & extras dir\n",
    "git_dir = os.path.join(os.environ['HOME'], 'Dropbox/git')\n",
    "extras_dir = os.path.join(git_dir, 'jb-vae/_extras')\n",
    "fig_base_dir = os.path.join(git_dir, 'jb-vae/figs')\n",
    "tmp_dir = os.path.join(git_dir, 'jb-vae/tmp')\n",
    "\n",
    "# GitHub\n",
    "sys.path.insert(0, os.path.join(git_dir, '_PoissonVAE'))\n",
    "from analysis.eval import sparse_score\n",
    "from figures.fighelper import *\n",
    "from vae.train_vae import *\n",
    "\n",
    "# warnings, tqdm, & style\n",
    "warnings.filterwarnings('ignore', category=DeprecationWarning)\n",
    "from rich.jupyter import print\n",
    "%matplotlib inline\n",
    "set_style()"
   ]
  },
  {
   "cell_type": "markdown",
   "id": "065d59d1-9c7f-4e4e-80b9-cb5fa873c6a7",
   "metadata": {},
   "source": [
    "## Building blocks"
   ]
  },
  {
   "cell_type": "code",
   "execution_count": 2,
   "id": "adff5699-02f9-479d-801e-682ded38950a",
   "metadata": {},
   "outputs": [
    {
     "data": {
      "text/html": [
       "<pre style=\"white-space:pre;overflow-x:auto;line-height:normal;font-family:Menlo,'DejaVu Sans Mono',consolas,'Courier New',monospace\"># combos = <span style=\"color: #008080; text-decoration-color: #008080; font-weight: bold\">48</span>\n",
       "</pre>\n"
      ],
      "text/plain": [
       "# combos = \u001b[1;36m48\u001b[0m\n"
      ]
     },
     "metadata": {},
     "output_type": "display_data"
    }
   ],
   "source": [
    "datasets = ['DOVES', 'CIFAR10-PATCHES', 'MNIST']\n",
    "model_types = ['poisson', 'categorical', 'gaussian', 'laplace']\n",
    "architectures = ['lin|lin', 'mlp+b|lin', 'conv+b|lin', 'conv+b|conv+b']\n",
    "\n",
    "print(f\"# combos = {len(model_types) * len(datasets) * len(architectures)}\")"
   ]
  },
  {
   "cell_type": "code",
   "execution_count": 3,
   "id": "0831ac72-d1c7-4960-8529-ea060f0d2136",
   "metadata": {},
   "outputs": [
    {
     "data": {
      "text/html": [
       "<pre style=\"white-space:pre;overflow-x:auto;line-height:normal;font-family:Menlo,'DejaVu Sans Mono',consolas,'Courier New',monospace\"># total fits:\n",
       "# combos x # seeds = <span style=\"color: #008080; text-decoration-color: #008080; font-weight: bold\">48</span> * <span style=\"color: #008080; text-decoration-color: #008080; font-weight: bold\">5</span> = <span style=\"color: #008080; text-decoration-color: #008080; font-weight: bold\">240</span>\n",
       "\n",
       "<span style=\"font-weight: bold\">[</span>\n",
       "    <span style=\"font-weight: bold\">(</span><span style=\"color: #008000; text-decoration-color: #008000\">'DOVES'</span>, <span style=\"color: #008000; text-decoration-color: #008000\">'poisson'</span>, <span style=\"color: #008000; text-decoration-color: #008000\">'lin|lin'</span><span style=\"font-weight: bold\">)</span>,\n",
       "    <span style=\"font-weight: bold\">(</span><span style=\"color: #008000; text-decoration-color: #008000\">'DOVES'</span>, <span style=\"color: #008000; text-decoration-color: #008000\">'poisson'</span>, <span style=\"color: #008000; text-decoration-color: #008000\">'mlp+b|lin'</span><span style=\"font-weight: bold\">)</span>,\n",
       "    <span style=\"font-weight: bold\">(</span><span style=\"color: #008000; text-decoration-color: #008000\">'DOVES'</span>, <span style=\"color: #008000; text-decoration-color: #008000\">'poisson'</span>, <span style=\"color: #008000; text-decoration-color: #008000\">'conv+b|lin'</span><span style=\"font-weight: bold\">)</span>,\n",
       "    <span style=\"font-weight: bold\">(</span><span style=\"color: #008000; text-decoration-color: #008000\">'DOVES'</span>, <span style=\"color: #008000; text-decoration-color: #008000\">'poisson'</span>, <span style=\"color: #008000; text-decoration-color: #008000\">'conv+b|conv+b'</span><span style=\"font-weight: bold\">)</span>,\n",
       "    <span style=\"font-weight: bold\">(</span><span style=\"color: #008000; text-decoration-color: #008000\">'DOVES'</span>, <span style=\"color: #008000; text-decoration-color: #008000\">'categorical'</span>, <span style=\"color: #008000; text-decoration-color: #008000\">'lin|lin'</span><span style=\"font-weight: bold\">)</span>,\n",
       "    <span style=\"font-weight: bold\">(</span><span style=\"color: #008000; text-decoration-color: #008000\">'DOVES'</span>, <span style=\"color: #008000; text-decoration-color: #008000\">'categorical'</span>, <span style=\"color: #008000; text-decoration-color: #008000\">'mlp+b|lin'</span><span style=\"font-weight: bold\">)</span>,\n",
       "    <span style=\"font-weight: bold\">(</span><span style=\"color: #008000; text-decoration-color: #008000\">'DOVES'</span>, <span style=\"color: #008000; text-decoration-color: #008000\">'categorical'</span>, <span style=\"color: #008000; text-decoration-color: #008000\">'conv+b|lin'</span><span style=\"font-weight: bold\">)</span>,\n",
       "    <span style=\"font-weight: bold\">(</span><span style=\"color: #008000; text-decoration-color: #008000\">'DOVES'</span>, <span style=\"color: #008000; text-decoration-color: #008000\">'categorical'</span>, <span style=\"color: #008000; text-decoration-color: #008000\">'conv+b|conv+b'</span><span style=\"font-weight: bold\">)</span>,\n",
       "    <span style=\"font-weight: bold\">(</span><span style=\"color: #008000; text-decoration-color: #008000\">'DOVES'</span>, <span style=\"color: #008000; text-decoration-color: #008000\">'gaussian'</span>, <span style=\"color: #008000; text-decoration-color: #008000\">'lin|lin'</span><span style=\"font-weight: bold\">)</span>,\n",
       "    <span style=\"font-weight: bold\">(</span><span style=\"color: #008000; text-decoration-color: #008000\">'DOVES'</span>, <span style=\"color: #008000; text-decoration-color: #008000\">'gaussian'</span>, <span style=\"color: #008000; text-decoration-color: #008000\">'mlp+b|lin'</span><span style=\"font-weight: bold\">)</span>,\n",
       "    <span style=\"font-weight: bold\">(</span><span style=\"color: #008000; text-decoration-color: #008000\">'DOVES'</span>, <span style=\"color: #008000; text-decoration-color: #008000\">'gaussian'</span>, <span style=\"color: #008000; text-decoration-color: #008000\">'conv+b|lin'</span><span style=\"font-weight: bold\">)</span>,\n",
       "    <span style=\"font-weight: bold\">(</span><span style=\"color: #008000; text-decoration-color: #008000\">'DOVES'</span>, <span style=\"color: #008000; text-decoration-color: #008000\">'gaussian'</span>, <span style=\"color: #008000; text-decoration-color: #008000\">'conv+b|conv+b'</span><span style=\"font-weight: bold\">)</span>,\n",
       "    <span style=\"font-weight: bold\">(</span><span style=\"color: #008000; text-decoration-color: #008000\">'DOVES'</span>, <span style=\"color: #008000; text-decoration-color: #008000\">'laplace'</span>, <span style=\"color: #008000; text-decoration-color: #008000\">'lin|lin'</span><span style=\"font-weight: bold\">)</span>,\n",
       "    <span style=\"font-weight: bold\">(</span><span style=\"color: #008000; text-decoration-color: #008000\">'DOVES'</span>, <span style=\"color: #008000; text-decoration-color: #008000\">'laplace'</span>, <span style=\"color: #008000; text-decoration-color: #008000\">'mlp+b|lin'</span><span style=\"font-weight: bold\">)</span>,\n",
       "    <span style=\"font-weight: bold\">(</span><span style=\"color: #008000; text-decoration-color: #008000\">'DOVES'</span>, <span style=\"color: #008000; text-decoration-color: #008000\">'laplace'</span>, <span style=\"color: #008000; text-decoration-color: #008000\">'conv+b|lin'</span><span style=\"font-weight: bold\">)</span>,\n",
       "    <span style=\"font-weight: bold\">(</span><span style=\"color: #008000; text-decoration-color: #008000\">'DOVES'</span>, <span style=\"color: #008000; text-decoration-color: #008000\">'laplace'</span>, <span style=\"color: #008000; text-decoration-color: #008000\">'conv+b|conv+b'</span><span style=\"font-weight: bold\">)</span>,\n",
       "    <span style=\"font-weight: bold\">(</span><span style=\"color: #008000; text-decoration-color: #008000\">'CIFAR10-PATCHES'</span>, <span style=\"color: #008000; text-decoration-color: #008000\">'poisson'</span>, <span style=\"color: #008000; text-decoration-color: #008000\">'lin|lin'</span><span style=\"font-weight: bold\">)</span>,\n",
       "    <span style=\"font-weight: bold\">(</span><span style=\"color: #008000; text-decoration-color: #008000\">'CIFAR10-PATCHES'</span>, <span style=\"color: #008000; text-decoration-color: #008000\">'poisson'</span>, <span style=\"color: #008000; text-decoration-color: #008000\">'mlp+b|lin'</span><span style=\"font-weight: bold\">)</span>,\n",
       "    <span style=\"font-weight: bold\">(</span><span style=\"color: #008000; text-decoration-color: #008000\">'CIFAR10-PATCHES'</span>, <span style=\"color: #008000; text-decoration-color: #008000\">'poisson'</span>, <span style=\"color: #008000; text-decoration-color: #008000\">'conv+b|lin'</span><span style=\"font-weight: bold\">)</span>,\n",
       "    <span style=\"font-weight: bold\">(</span><span style=\"color: #008000; text-decoration-color: #008000\">'CIFAR10-PATCHES'</span>, <span style=\"color: #008000; text-decoration-color: #008000\">'poisson'</span>, <span style=\"color: #008000; text-decoration-color: #008000\">'conv+b|conv+b'</span><span style=\"font-weight: bold\">)</span>,\n",
       "    <span style=\"font-weight: bold\">(</span><span style=\"color: #008000; text-decoration-color: #008000\">'CIFAR10-PATCHES'</span>, <span style=\"color: #008000; text-decoration-color: #008000\">'categorical'</span>, <span style=\"color: #008000; text-decoration-color: #008000\">'lin|lin'</span><span style=\"font-weight: bold\">)</span>,\n",
       "    <span style=\"font-weight: bold\">(</span><span style=\"color: #008000; text-decoration-color: #008000\">'CIFAR10-PATCHES'</span>, <span style=\"color: #008000; text-decoration-color: #008000\">'categorical'</span>, <span style=\"color: #008000; text-decoration-color: #008000\">'mlp+b|lin'</span><span style=\"font-weight: bold\">)</span>,\n",
       "    <span style=\"font-weight: bold\">(</span><span style=\"color: #008000; text-decoration-color: #008000\">'CIFAR10-PATCHES'</span>, <span style=\"color: #008000; text-decoration-color: #008000\">'categorical'</span>, <span style=\"color: #008000; text-decoration-color: #008000\">'conv+b|lin'</span><span style=\"font-weight: bold\">)</span>,\n",
       "    <span style=\"font-weight: bold\">(</span><span style=\"color: #008000; text-decoration-color: #008000\">'CIFAR10-PATCHES'</span>, <span style=\"color: #008000; text-decoration-color: #008000\">'categorical'</span>, <span style=\"color: #008000; text-decoration-color: #008000\">'conv+b|conv+b'</span><span style=\"font-weight: bold\">)</span>,\n",
       "    <span style=\"font-weight: bold\">(</span><span style=\"color: #008000; text-decoration-color: #008000\">'CIFAR10-PATCHES'</span>, <span style=\"color: #008000; text-decoration-color: #008000\">'gaussian'</span>, <span style=\"color: #008000; text-decoration-color: #008000\">'lin|lin'</span><span style=\"font-weight: bold\">)</span>,\n",
       "    <span style=\"font-weight: bold\">(</span><span style=\"color: #008000; text-decoration-color: #008000\">'CIFAR10-PATCHES'</span>, <span style=\"color: #008000; text-decoration-color: #008000\">'gaussian'</span>, <span style=\"color: #008000; text-decoration-color: #008000\">'mlp+b|lin'</span><span style=\"font-weight: bold\">)</span>,\n",
       "    <span style=\"font-weight: bold\">(</span><span style=\"color: #008000; text-decoration-color: #008000\">'CIFAR10-PATCHES'</span>, <span style=\"color: #008000; text-decoration-color: #008000\">'gaussian'</span>, <span style=\"color: #008000; text-decoration-color: #008000\">'conv+b|lin'</span><span style=\"font-weight: bold\">)</span>,\n",
       "    <span style=\"font-weight: bold\">(</span><span style=\"color: #008000; text-decoration-color: #008000\">'CIFAR10-PATCHES'</span>, <span style=\"color: #008000; text-decoration-color: #008000\">'gaussian'</span>, <span style=\"color: #008000; text-decoration-color: #008000\">'conv+b|conv+b'</span><span style=\"font-weight: bold\">)</span>,\n",
       "    <span style=\"font-weight: bold\">(</span><span style=\"color: #008000; text-decoration-color: #008000\">'CIFAR10-PATCHES'</span>, <span style=\"color: #008000; text-decoration-color: #008000\">'laplace'</span>, <span style=\"color: #008000; text-decoration-color: #008000\">'lin|lin'</span><span style=\"font-weight: bold\">)</span>,\n",
       "    <span style=\"font-weight: bold\">(</span><span style=\"color: #008000; text-decoration-color: #008000\">'CIFAR10-PATCHES'</span>, <span style=\"color: #008000; text-decoration-color: #008000\">'laplace'</span>, <span style=\"color: #008000; text-decoration-color: #008000\">'mlp+b|lin'</span><span style=\"font-weight: bold\">)</span>,\n",
       "    <span style=\"font-weight: bold\">(</span><span style=\"color: #008000; text-decoration-color: #008000\">'CIFAR10-PATCHES'</span>, <span style=\"color: #008000; text-decoration-color: #008000\">'laplace'</span>, <span style=\"color: #008000; text-decoration-color: #008000\">'conv+b|lin'</span><span style=\"font-weight: bold\">)</span>,\n",
       "    <span style=\"font-weight: bold\">(</span><span style=\"color: #008000; text-decoration-color: #008000\">'CIFAR10-PATCHES'</span>, <span style=\"color: #008000; text-decoration-color: #008000\">'laplace'</span>, <span style=\"color: #008000; text-decoration-color: #008000\">'conv+b|conv+b'</span><span style=\"font-weight: bold\">)</span>,\n",
       "    <span style=\"font-weight: bold\">(</span><span style=\"color: #008000; text-decoration-color: #008000\">'MNIST'</span>, <span style=\"color: #008000; text-decoration-color: #008000\">'poisson'</span>, <span style=\"color: #008000; text-decoration-color: #008000\">'lin|lin'</span><span style=\"font-weight: bold\">)</span>,\n",
       "    <span style=\"font-weight: bold\">(</span><span style=\"color: #008000; text-decoration-color: #008000\">'MNIST'</span>, <span style=\"color: #008000; text-decoration-color: #008000\">'poisson'</span>, <span style=\"color: #008000; text-decoration-color: #008000\">'mlp+b|lin'</span><span style=\"font-weight: bold\">)</span>,\n",
       "    <span style=\"font-weight: bold\">(</span><span style=\"color: #008000; text-decoration-color: #008000\">'MNIST'</span>, <span style=\"color: #008000; text-decoration-color: #008000\">'poisson'</span>, <span style=\"color: #008000; text-decoration-color: #008000\">'conv+b|lin'</span><span style=\"font-weight: bold\">)</span>,\n",
       "    <span style=\"font-weight: bold\">(</span><span style=\"color: #008000; text-decoration-color: #008000\">'MNIST'</span>, <span style=\"color: #008000; text-decoration-color: #008000\">'poisson'</span>, <span style=\"color: #008000; text-decoration-color: #008000\">'conv+b|conv+b'</span><span style=\"font-weight: bold\">)</span>,\n",
       "    <span style=\"font-weight: bold\">(</span><span style=\"color: #008000; text-decoration-color: #008000\">'MNIST'</span>, <span style=\"color: #008000; text-decoration-color: #008000\">'categorical'</span>, <span style=\"color: #008000; text-decoration-color: #008000\">'lin|lin'</span><span style=\"font-weight: bold\">)</span>,\n",
       "    <span style=\"font-weight: bold\">(</span><span style=\"color: #008000; text-decoration-color: #008000\">'MNIST'</span>, <span style=\"color: #008000; text-decoration-color: #008000\">'categorical'</span>, <span style=\"color: #008000; text-decoration-color: #008000\">'mlp+b|lin'</span><span style=\"font-weight: bold\">)</span>,\n",
       "    <span style=\"font-weight: bold\">(</span><span style=\"color: #008000; text-decoration-color: #008000\">'MNIST'</span>, <span style=\"color: #008000; text-decoration-color: #008000\">'categorical'</span>, <span style=\"color: #008000; text-decoration-color: #008000\">'conv+b|lin'</span><span style=\"font-weight: bold\">)</span>,\n",
       "    <span style=\"font-weight: bold\">(</span><span style=\"color: #008000; text-decoration-color: #008000\">'MNIST'</span>, <span style=\"color: #008000; text-decoration-color: #008000\">'categorical'</span>, <span style=\"color: #008000; text-decoration-color: #008000\">'conv+b|conv+b'</span><span style=\"font-weight: bold\">)</span>,\n",
       "    <span style=\"font-weight: bold\">(</span><span style=\"color: #008000; text-decoration-color: #008000\">'MNIST'</span>, <span style=\"color: #008000; text-decoration-color: #008000\">'gaussian'</span>, <span style=\"color: #008000; text-decoration-color: #008000\">'lin|lin'</span><span style=\"font-weight: bold\">)</span>,\n",
       "    <span style=\"font-weight: bold\">(</span><span style=\"color: #008000; text-decoration-color: #008000\">'MNIST'</span>, <span style=\"color: #008000; text-decoration-color: #008000\">'gaussian'</span>, <span style=\"color: #008000; text-decoration-color: #008000\">'mlp+b|lin'</span><span style=\"font-weight: bold\">)</span>,\n",
       "    <span style=\"font-weight: bold\">(</span><span style=\"color: #008000; text-decoration-color: #008000\">'MNIST'</span>, <span style=\"color: #008000; text-decoration-color: #008000\">'gaussian'</span>, <span style=\"color: #008000; text-decoration-color: #008000\">'conv+b|lin'</span><span style=\"font-weight: bold\">)</span>,\n",
       "    <span style=\"font-weight: bold\">(</span><span style=\"color: #008000; text-decoration-color: #008000\">'MNIST'</span>, <span style=\"color: #008000; text-decoration-color: #008000\">'gaussian'</span>, <span style=\"color: #008000; text-decoration-color: #008000\">'conv+b|conv+b'</span><span style=\"font-weight: bold\">)</span>,\n",
       "    <span style=\"font-weight: bold\">(</span><span style=\"color: #008000; text-decoration-color: #008000\">'MNIST'</span>, <span style=\"color: #008000; text-decoration-color: #008000\">'laplace'</span>, <span style=\"color: #008000; text-decoration-color: #008000\">'lin|lin'</span><span style=\"font-weight: bold\">)</span>,\n",
       "    <span style=\"font-weight: bold\">(</span><span style=\"color: #008000; text-decoration-color: #008000\">'MNIST'</span>, <span style=\"color: #008000; text-decoration-color: #008000\">'laplace'</span>, <span style=\"color: #008000; text-decoration-color: #008000\">'mlp+b|lin'</span><span style=\"font-weight: bold\">)</span>,\n",
       "    <span style=\"font-weight: bold\">(</span><span style=\"color: #008000; text-decoration-color: #008000\">'MNIST'</span>, <span style=\"color: #008000; text-decoration-color: #008000\">'laplace'</span>, <span style=\"color: #008000; text-decoration-color: #008000\">'conv+b|lin'</span><span style=\"font-weight: bold\">)</span>,\n",
       "    <span style=\"font-weight: bold\">(</span><span style=\"color: #008000; text-decoration-color: #008000\">'MNIST'</span>, <span style=\"color: #008000; text-decoration-color: #008000\">'laplace'</span>, <span style=\"color: #008000; text-decoration-color: #008000\">'conv+b|conv+b'</span><span style=\"font-weight: bold\">)</span>\n",
       "<span style=\"font-weight: bold\">]</span>\n",
       "</pre>\n"
      ],
      "text/plain": [
       "# total fits:\n",
       "# combos x # seeds = \u001b[1;36m48\u001b[0m * \u001b[1;36m5\u001b[0m = \u001b[1;36m240\u001b[0m\n",
       "\n",
       "\u001b[1m[\u001b[0m\n",
       "    \u001b[1m(\u001b[0m\u001b[32m'DOVES'\u001b[0m, \u001b[32m'poisson'\u001b[0m, \u001b[32m'lin|lin'\u001b[0m\u001b[1m)\u001b[0m,\n",
       "    \u001b[1m(\u001b[0m\u001b[32m'DOVES'\u001b[0m, \u001b[32m'poisson'\u001b[0m, \u001b[32m'mlp+b|lin'\u001b[0m\u001b[1m)\u001b[0m,\n",
       "    \u001b[1m(\u001b[0m\u001b[32m'DOVES'\u001b[0m, \u001b[32m'poisson'\u001b[0m, \u001b[32m'conv+b|lin'\u001b[0m\u001b[1m)\u001b[0m,\n",
       "    \u001b[1m(\u001b[0m\u001b[32m'DOVES'\u001b[0m, \u001b[32m'poisson'\u001b[0m, \u001b[32m'conv+b|conv+b'\u001b[0m\u001b[1m)\u001b[0m,\n",
       "    \u001b[1m(\u001b[0m\u001b[32m'DOVES'\u001b[0m, \u001b[32m'categorical'\u001b[0m, \u001b[32m'lin|lin'\u001b[0m\u001b[1m)\u001b[0m,\n",
       "    \u001b[1m(\u001b[0m\u001b[32m'DOVES'\u001b[0m, \u001b[32m'categorical'\u001b[0m, \u001b[32m'mlp+b|lin'\u001b[0m\u001b[1m)\u001b[0m,\n",
       "    \u001b[1m(\u001b[0m\u001b[32m'DOVES'\u001b[0m, \u001b[32m'categorical'\u001b[0m, \u001b[32m'conv+b|lin'\u001b[0m\u001b[1m)\u001b[0m,\n",
       "    \u001b[1m(\u001b[0m\u001b[32m'DOVES'\u001b[0m, \u001b[32m'categorical'\u001b[0m, \u001b[32m'conv+b|conv+b'\u001b[0m\u001b[1m)\u001b[0m,\n",
       "    \u001b[1m(\u001b[0m\u001b[32m'DOVES'\u001b[0m, \u001b[32m'gaussian'\u001b[0m, \u001b[32m'lin|lin'\u001b[0m\u001b[1m)\u001b[0m,\n",
       "    \u001b[1m(\u001b[0m\u001b[32m'DOVES'\u001b[0m, \u001b[32m'gaussian'\u001b[0m, \u001b[32m'mlp+b|lin'\u001b[0m\u001b[1m)\u001b[0m,\n",
       "    \u001b[1m(\u001b[0m\u001b[32m'DOVES'\u001b[0m, \u001b[32m'gaussian'\u001b[0m, \u001b[32m'conv+b|lin'\u001b[0m\u001b[1m)\u001b[0m,\n",
       "    \u001b[1m(\u001b[0m\u001b[32m'DOVES'\u001b[0m, \u001b[32m'gaussian'\u001b[0m, \u001b[32m'conv+b|conv+b'\u001b[0m\u001b[1m)\u001b[0m,\n",
       "    \u001b[1m(\u001b[0m\u001b[32m'DOVES'\u001b[0m, \u001b[32m'laplace'\u001b[0m, \u001b[32m'lin|lin'\u001b[0m\u001b[1m)\u001b[0m,\n",
       "    \u001b[1m(\u001b[0m\u001b[32m'DOVES'\u001b[0m, \u001b[32m'laplace'\u001b[0m, \u001b[32m'mlp+b|lin'\u001b[0m\u001b[1m)\u001b[0m,\n",
       "    \u001b[1m(\u001b[0m\u001b[32m'DOVES'\u001b[0m, \u001b[32m'laplace'\u001b[0m, \u001b[32m'conv+b|lin'\u001b[0m\u001b[1m)\u001b[0m,\n",
       "    \u001b[1m(\u001b[0m\u001b[32m'DOVES'\u001b[0m, \u001b[32m'laplace'\u001b[0m, \u001b[32m'conv+b|conv+b'\u001b[0m\u001b[1m)\u001b[0m,\n",
       "    \u001b[1m(\u001b[0m\u001b[32m'CIFAR10-PATCHES'\u001b[0m, \u001b[32m'poisson'\u001b[0m, \u001b[32m'lin|lin'\u001b[0m\u001b[1m)\u001b[0m,\n",
       "    \u001b[1m(\u001b[0m\u001b[32m'CIFAR10-PATCHES'\u001b[0m, \u001b[32m'poisson'\u001b[0m, \u001b[32m'mlp+b|lin'\u001b[0m\u001b[1m)\u001b[0m,\n",
       "    \u001b[1m(\u001b[0m\u001b[32m'CIFAR10-PATCHES'\u001b[0m, \u001b[32m'poisson'\u001b[0m, \u001b[32m'conv+b|lin'\u001b[0m\u001b[1m)\u001b[0m,\n",
       "    \u001b[1m(\u001b[0m\u001b[32m'CIFAR10-PATCHES'\u001b[0m, \u001b[32m'poisson'\u001b[0m, \u001b[32m'conv+b|conv+b'\u001b[0m\u001b[1m)\u001b[0m,\n",
       "    \u001b[1m(\u001b[0m\u001b[32m'CIFAR10-PATCHES'\u001b[0m, \u001b[32m'categorical'\u001b[0m, \u001b[32m'lin|lin'\u001b[0m\u001b[1m)\u001b[0m,\n",
       "    \u001b[1m(\u001b[0m\u001b[32m'CIFAR10-PATCHES'\u001b[0m, \u001b[32m'categorical'\u001b[0m, \u001b[32m'mlp+b|lin'\u001b[0m\u001b[1m)\u001b[0m,\n",
       "    \u001b[1m(\u001b[0m\u001b[32m'CIFAR10-PATCHES'\u001b[0m, \u001b[32m'categorical'\u001b[0m, \u001b[32m'conv+b|lin'\u001b[0m\u001b[1m)\u001b[0m,\n",
       "    \u001b[1m(\u001b[0m\u001b[32m'CIFAR10-PATCHES'\u001b[0m, \u001b[32m'categorical'\u001b[0m, \u001b[32m'conv+b|conv+b'\u001b[0m\u001b[1m)\u001b[0m,\n",
       "    \u001b[1m(\u001b[0m\u001b[32m'CIFAR10-PATCHES'\u001b[0m, \u001b[32m'gaussian'\u001b[0m, \u001b[32m'lin|lin'\u001b[0m\u001b[1m)\u001b[0m,\n",
       "    \u001b[1m(\u001b[0m\u001b[32m'CIFAR10-PATCHES'\u001b[0m, \u001b[32m'gaussian'\u001b[0m, \u001b[32m'mlp+b|lin'\u001b[0m\u001b[1m)\u001b[0m,\n",
       "    \u001b[1m(\u001b[0m\u001b[32m'CIFAR10-PATCHES'\u001b[0m, \u001b[32m'gaussian'\u001b[0m, \u001b[32m'conv+b|lin'\u001b[0m\u001b[1m)\u001b[0m,\n",
       "    \u001b[1m(\u001b[0m\u001b[32m'CIFAR10-PATCHES'\u001b[0m, \u001b[32m'gaussian'\u001b[0m, \u001b[32m'conv+b|conv+b'\u001b[0m\u001b[1m)\u001b[0m,\n",
       "    \u001b[1m(\u001b[0m\u001b[32m'CIFAR10-PATCHES'\u001b[0m, \u001b[32m'laplace'\u001b[0m, \u001b[32m'lin|lin'\u001b[0m\u001b[1m)\u001b[0m,\n",
       "    \u001b[1m(\u001b[0m\u001b[32m'CIFAR10-PATCHES'\u001b[0m, \u001b[32m'laplace'\u001b[0m, \u001b[32m'mlp+b|lin'\u001b[0m\u001b[1m)\u001b[0m,\n",
       "    \u001b[1m(\u001b[0m\u001b[32m'CIFAR10-PATCHES'\u001b[0m, \u001b[32m'laplace'\u001b[0m, \u001b[32m'conv+b|lin'\u001b[0m\u001b[1m)\u001b[0m,\n",
       "    \u001b[1m(\u001b[0m\u001b[32m'CIFAR10-PATCHES'\u001b[0m, \u001b[32m'laplace'\u001b[0m, \u001b[32m'conv+b|conv+b'\u001b[0m\u001b[1m)\u001b[0m,\n",
       "    \u001b[1m(\u001b[0m\u001b[32m'MNIST'\u001b[0m, \u001b[32m'poisson'\u001b[0m, \u001b[32m'lin|lin'\u001b[0m\u001b[1m)\u001b[0m,\n",
       "    \u001b[1m(\u001b[0m\u001b[32m'MNIST'\u001b[0m, \u001b[32m'poisson'\u001b[0m, \u001b[32m'mlp+b|lin'\u001b[0m\u001b[1m)\u001b[0m,\n",
       "    \u001b[1m(\u001b[0m\u001b[32m'MNIST'\u001b[0m, \u001b[32m'poisson'\u001b[0m, \u001b[32m'conv+b|lin'\u001b[0m\u001b[1m)\u001b[0m,\n",
       "    \u001b[1m(\u001b[0m\u001b[32m'MNIST'\u001b[0m, \u001b[32m'poisson'\u001b[0m, \u001b[32m'conv+b|conv+b'\u001b[0m\u001b[1m)\u001b[0m,\n",
       "    \u001b[1m(\u001b[0m\u001b[32m'MNIST'\u001b[0m, \u001b[32m'categorical'\u001b[0m, \u001b[32m'lin|lin'\u001b[0m\u001b[1m)\u001b[0m,\n",
       "    \u001b[1m(\u001b[0m\u001b[32m'MNIST'\u001b[0m, \u001b[32m'categorical'\u001b[0m, \u001b[32m'mlp+b|lin'\u001b[0m\u001b[1m)\u001b[0m,\n",
       "    \u001b[1m(\u001b[0m\u001b[32m'MNIST'\u001b[0m, \u001b[32m'categorical'\u001b[0m, \u001b[32m'conv+b|lin'\u001b[0m\u001b[1m)\u001b[0m,\n",
       "    \u001b[1m(\u001b[0m\u001b[32m'MNIST'\u001b[0m, \u001b[32m'categorical'\u001b[0m, \u001b[32m'conv+b|conv+b'\u001b[0m\u001b[1m)\u001b[0m,\n",
       "    \u001b[1m(\u001b[0m\u001b[32m'MNIST'\u001b[0m, \u001b[32m'gaussian'\u001b[0m, \u001b[32m'lin|lin'\u001b[0m\u001b[1m)\u001b[0m,\n",
       "    \u001b[1m(\u001b[0m\u001b[32m'MNIST'\u001b[0m, \u001b[32m'gaussian'\u001b[0m, \u001b[32m'mlp+b|lin'\u001b[0m\u001b[1m)\u001b[0m,\n",
       "    \u001b[1m(\u001b[0m\u001b[32m'MNIST'\u001b[0m, \u001b[32m'gaussian'\u001b[0m, \u001b[32m'conv+b|lin'\u001b[0m\u001b[1m)\u001b[0m,\n",
       "    \u001b[1m(\u001b[0m\u001b[32m'MNIST'\u001b[0m, \u001b[32m'gaussian'\u001b[0m, \u001b[32m'conv+b|conv+b'\u001b[0m\u001b[1m)\u001b[0m,\n",
       "    \u001b[1m(\u001b[0m\u001b[32m'MNIST'\u001b[0m, \u001b[32m'laplace'\u001b[0m, \u001b[32m'lin|lin'\u001b[0m\u001b[1m)\u001b[0m,\n",
       "    \u001b[1m(\u001b[0m\u001b[32m'MNIST'\u001b[0m, \u001b[32m'laplace'\u001b[0m, \u001b[32m'mlp+b|lin'\u001b[0m\u001b[1m)\u001b[0m,\n",
       "    \u001b[1m(\u001b[0m\u001b[32m'MNIST'\u001b[0m, \u001b[32m'laplace'\u001b[0m, \u001b[32m'conv+b|lin'\u001b[0m\u001b[1m)\u001b[0m,\n",
       "    \u001b[1m(\u001b[0m\u001b[32m'MNIST'\u001b[0m, \u001b[32m'laplace'\u001b[0m, \u001b[32m'conv+b|conv+b'\u001b[0m\u001b[1m)\u001b[0m\n",
       "\u001b[1m]\u001b[0m\n"
      ]
     },
     "metadata": {},
     "output_type": "display_data"
    }
   ],
   "source": [
    "looper = list(itertools.product(\n",
    "    datasets,\n",
    "    model_types,\n",
    "    architectures,\n",
    "))\n",
    "print(f\"# total fits:\\n# combos x # seeds = {len(looper)} * 5 = {len(looper) * 5}\\n\", looper)"
   ]
  },
  {
   "cell_type": "markdown",
   "id": "982988ad-ede0-4b33-9122-6210f5582994",
   "metadata": {},
   "source": [
    "## Print all"
   ]
  },
  {
   "cell_type": "code",
   "execution_count": 4,
   "id": "2d983db9-af95-40b6-845a-bfba6fcca308",
   "metadata": {},
   "outputs": [
    {
     "data": {
      "text/html": [
       "<pre style=\"white-space:pre;overflow-x:auto;line-height:normal;font-family:Menlo,'DejaVu Sans Mono',consolas,'Courier New',monospace\">-------------------------------------------------------------------------------------------------------------------\n",
       "                         Dataset = DOVES,       Model = poisson,       Architecture: lin|lin                       \n",
       "-------------------------------------------------------------------------------------------------------------------\n",
       "VAE:\n",
       "<span style=\"font-weight: bold\">{</span><span style=\"color: #008000; text-decoration-color: #008000\">'dataset'</span>: <span style=\"color: #008000; text-decoration-color: #008000\">'DOVES'</span>, <span style=\"color: #008000; text-decoration-color: #008000\">'n_ch'</span>: <span style=\"color: #008080; text-decoration-color: #008080; font-weight: bold\">32</span>, <span style=\"color: #008000; text-decoration-color: #008000\">'n_latents'</span>: <span style=\"color: #008080; text-decoration-color: #008080; font-weight: bold\">512</span>, <span style=\"color: #008000; text-decoration-color: #008000\">'prior_clamp'</span>: <span style=\"color: #008080; text-decoration-color: #008080; font-weight: bold\">-4</span>, <span style=\"color: #008000; text-decoration-color: #008000\">'fit_prior'</span>: <span style=\"color: #00ff00; text-decoration-color: #00ff00; font-style: italic\">True</span>, <span style=\"color: #008000; text-decoration-color: #008000\">'enc_type'</span>: <span style=\"color: #008000; text-decoration-color: #008000\">'lin'</span>, \n",
       "<span style=\"color: #008000; text-decoration-color: #008000\">'dec_type'</span>: <span style=\"color: #008000; text-decoration-color: #008000\">'lin'</span>, <span style=\"color: #008000; text-decoration-color: #008000\">'enc_bias'</span>: <span style=\"color: #ff0000; text-decoration-color: #ff0000; font-style: italic\">False</span>, <span style=\"color: #008000; text-decoration-color: #008000\">'dec_bias'</span>: <span style=\"color: #ff0000; text-decoration-color: #ff0000; font-style: italic\">False</span>, <span style=\"color: #008000; text-decoration-color: #008000\">'init_dist'</span>: <span style=\"color: #008000; text-decoration-color: #008000\">'Normal'</span>, <span style=\"color: #008000; text-decoration-color: #008000\">'init_scale'</span>: <span style=\"color: #008080; text-decoration-color: #008080; font-weight: bold\">0.05</span><span style=\"font-weight: bold\">}</span>\n",
       "\n",
       "Trainer:\n",
       "<span style=\"font-weight: bold\">{</span><span style=\"color: #008000; text-decoration-color: #008000\">'lr'</span>: <span style=\"color: #008080; text-decoration-color: #008080; font-weight: bold\">0.005</span>, <span style=\"color: #008000; text-decoration-color: #008000\">'batch_size'</span>: <span style=\"color: #008080; text-decoration-color: #008080; font-weight: bold\">1000</span>, <span style=\"color: #008000; text-decoration-color: #008000\">'epochs'</span>: <span style=\"color: #008080; text-decoration-color: #008080; font-weight: bold\">3000</span>, <span style=\"color: #008000; text-decoration-color: #008000\">'optimizer_kws'</span>: <span style=\"font-weight: bold\">{</span><span style=\"color: #008000; text-decoration-color: #008000\">'weight_decay'</span>: <span style=\"color: #008080; text-decoration-color: #008080; font-weight: bold\">0.0</span><span style=\"font-weight: bold\">}</span>, <span style=\"color: #008000; text-decoration-color: #008000\">'grad_clip'</span>: <span style=\"color: #008080; text-decoration-color: #008080; font-weight: bold\">500</span>, \n",
       "<span style=\"color: #008000; text-decoration-color: #008000\">'kl_const_portion'</span>: <span style=\"color: #008080; text-decoration-color: #008080; font-weight: bold\">0.0</span><span style=\"font-weight: bold\">}</span>\n",
       "-------------------------------------------------------------------------------------------------------------------\n",
       "\n",
       "\n",
       "\n",
       "</pre>\n"
      ],
      "text/plain": [
       "-------------------------------------------------------------------------------------------------------------------\n",
       "                         Dataset = DOVES,       Model = poisson,       Architecture: lin|lin                       \n",
       "-------------------------------------------------------------------------------------------------------------------\n",
       "VAE:\n",
       "\u001b[1m{\u001b[0m\u001b[32m'dataset'\u001b[0m: \u001b[32m'DOVES'\u001b[0m, \u001b[32m'n_ch'\u001b[0m: \u001b[1;36m32\u001b[0m, \u001b[32m'n_latents'\u001b[0m: \u001b[1;36m512\u001b[0m, \u001b[32m'prior_clamp'\u001b[0m: \u001b[1;36m-4\u001b[0m, \u001b[32m'fit_prior'\u001b[0m: \u001b[3;92mTrue\u001b[0m, \u001b[32m'enc_type'\u001b[0m: \u001b[32m'lin'\u001b[0m, \n",
       "\u001b[32m'dec_type'\u001b[0m: \u001b[32m'lin'\u001b[0m, \u001b[32m'enc_bias'\u001b[0m: \u001b[3;91mFalse\u001b[0m, \u001b[32m'dec_bias'\u001b[0m: \u001b[3;91mFalse\u001b[0m, \u001b[32m'init_dist'\u001b[0m: \u001b[32m'Normal'\u001b[0m, \u001b[32m'init_scale'\u001b[0m: \u001b[1;36m0.05\u001b[0m\u001b[1m}\u001b[0m\n",
       "\n",
       "Trainer:\n",
       "\u001b[1m{\u001b[0m\u001b[32m'lr'\u001b[0m: \u001b[1;36m0.005\u001b[0m, \u001b[32m'batch_size'\u001b[0m: \u001b[1;36m1000\u001b[0m, \u001b[32m'epochs'\u001b[0m: \u001b[1;36m3000\u001b[0m, \u001b[32m'optimizer_kws'\u001b[0m: \u001b[1m{\u001b[0m\u001b[32m'weight_decay'\u001b[0m: \u001b[1;36m0.0\u001b[0m\u001b[1m}\u001b[0m, \u001b[32m'grad_clip'\u001b[0m: \u001b[1;36m500\u001b[0m, \n",
       "\u001b[32m'kl_const_portion'\u001b[0m: \u001b[1;36m0.0\u001b[0m\u001b[1m}\u001b[0m\n",
       "-------------------------------------------------------------------------------------------------------------------\n",
       "\n",
       "\n",
       "\n"
      ]
     },
     "metadata": {},
     "output_type": "display_data"
    },
    {
     "data": {
      "text/html": [
       "<pre style=\"white-space:pre;overflow-x:auto;line-height:normal;font-family:Menlo,'DejaVu Sans Mono',consolas,'Courier New',monospace\">-------------------------------------------------------------------------------------------------------------------\n",
       "                         Dataset = DOVES,       Model = poisson,       Architecture: mlp+b|lin                     \n",
       "-------------------------------------------------------------------------------------------------------------------\n",
       "VAE:\n",
       "<span style=\"font-weight: bold\">{</span><span style=\"color: #008000; text-decoration-color: #008000\">'dataset'</span>: <span style=\"color: #008000; text-decoration-color: #008000\">'DOVES'</span>, <span style=\"color: #008000; text-decoration-color: #008000\">'n_ch'</span>: <span style=\"color: #008080; text-decoration-color: #008080; font-weight: bold\">16</span>, <span style=\"color: #008000; text-decoration-color: #008000\">'n_latents'</span>: <span style=\"color: #008080; text-decoration-color: #008080; font-weight: bold\">512</span>, <span style=\"color: #008000; text-decoration-color: #008000\">'prior_clamp'</span>: <span style=\"color: #008080; text-decoration-color: #008080; font-weight: bold\">-4</span>, <span style=\"color: #008000; text-decoration-color: #008000\">'fit_prior'</span>: <span style=\"color: #00ff00; text-decoration-color: #00ff00; font-style: italic\">True</span>, <span style=\"color: #008000; text-decoration-color: #008000\">'enc_type'</span>: <span style=\"color: #008000; text-decoration-color: #008000\">'mlp'</span>, \n",
       "<span style=\"color: #008000; text-decoration-color: #008000\">'dec_type'</span>: <span style=\"color: #008000; text-decoration-color: #008000\">'lin'</span>, <span style=\"color: #008000; text-decoration-color: #008000\">'enc_bias'</span>: <span style=\"color: #00ff00; text-decoration-color: #00ff00; font-style: italic\">True</span>, <span style=\"color: #008000; text-decoration-color: #008000\">'dec_bias'</span>: <span style=\"color: #ff0000; text-decoration-color: #ff0000; font-style: italic\">False</span>, <span style=\"color: #008000; text-decoration-color: #008000\">'init_dist'</span>: <span style=\"color: #008000; text-decoration-color: #008000\">'Normal'</span>, <span style=\"color: #008000; text-decoration-color: #008000\">'init_scale'</span>: <span style=\"color: #008080; text-decoration-color: #008080; font-weight: bold\">0.05</span><span style=\"font-weight: bold\">}</span>\n",
       "\n",
       "Trainer:\n",
       "<span style=\"font-weight: bold\">{</span><span style=\"color: #008000; text-decoration-color: #008000\">'lr'</span>: <span style=\"color: #008080; text-decoration-color: #008080; font-weight: bold\">0.005</span>, <span style=\"color: #008000; text-decoration-color: #008000\">'batch_size'</span>: <span style=\"color: #008080; text-decoration-color: #008080; font-weight: bold\">1000</span>, <span style=\"color: #008000; text-decoration-color: #008000\">'epochs'</span>: <span style=\"color: #008080; text-decoration-color: #008080; font-weight: bold\">3000</span>, <span style=\"color: #008000; text-decoration-color: #008000\">'optimizer_kws'</span>: <span style=\"font-weight: bold\">{</span><span style=\"color: #008000; text-decoration-color: #008000\">'weight_decay'</span>: <span style=\"color: #008080; text-decoration-color: #008080; font-weight: bold\">0.0</span><span style=\"font-weight: bold\">}</span>, <span style=\"color: #008000; text-decoration-color: #008000\">'grad_clip'</span>: <span style=\"color: #008080; text-decoration-color: #008080; font-weight: bold\">500</span>, \n",
       "<span style=\"color: #008000; text-decoration-color: #008000\">'kl_const_portion'</span>: <span style=\"color: #008080; text-decoration-color: #008080; font-weight: bold\">0.0</span><span style=\"font-weight: bold\">}</span>\n",
       "-------------------------------------------------------------------------------------------------------------------\n",
       "\n",
       "\n",
       "\n",
       "</pre>\n"
      ],
      "text/plain": [
       "-------------------------------------------------------------------------------------------------------------------\n",
       "                         Dataset = DOVES,       Model = poisson,       Architecture: mlp+b|lin                     \n",
       "-------------------------------------------------------------------------------------------------------------------\n",
       "VAE:\n",
       "\u001b[1m{\u001b[0m\u001b[32m'dataset'\u001b[0m: \u001b[32m'DOVES'\u001b[0m, \u001b[32m'n_ch'\u001b[0m: \u001b[1;36m16\u001b[0m, \u001b[32m'n_latents'\u001b[0m: \u001b[1;36m512\u001b[0m, \u001b[32m'prior_clamp'\u001b[0m: \u001b[1;36m-4\u001b[0m, \u001b[32m'fit_prior'\u001b[0m: \u001b[3;92mTrue\u001b[0m, \u001b[32m'enc_type'\u001b[0m: \u001b[32m'mlp'\u001b[0m, \n",
       "\u001b[32m'dec_type'\u001b[0m: \u001b[32m'lin'\u001b[0m, \u001b[32m'enc_bias'\u001b[0m: \u001b[3;92mTrue\u001b[0m, \u001b[32m'dec_bias'\u001b[0m: \u001b[3;91mFalse\u001b[0m, \u001b[32m'init_dist'\u001b[0m: \u001b[32m'Normal'\u001b[0m, \u001b[32m'init_scale'\u001b[0m: \u001b[1;36m0.05\u001b[0m\u001b[1m}\u001b[0m\n",
       "\n",
       "Trainer:\n",
       "\u001b[1m{\u001b[0m\u001b[32m'lr'\u001b[0m: \u001b[1;36m0.005\u001b[0m, \u001b[32m'batch_size'\u001b[0m: \u001b[1;36m1000\u001b[0m, \u001b[32m'epochs'\u001b[0m: \u001b[1;36m3000\u001b[0m, \u001b[32m'optimizer_kws'\u001b[0m: \u001b[1m{\u001b[0m\u001b[32m'weight_decay'\u001b[0m: \u001b[1;36m0.0\u001b[0m\u001b[1m}\u001b[0m, \u001b[32m'grad_clip'\u001b[0m: \u001b[1;36m500\u001b[0m, \n",
       "\u001b[32m'kl_const_portion'\u001b[0m: \u001b[1;36m0.0\u001b[0m\u001b[1m}\u001b[0m\n",
       "-------------------------------------------------------------------------------------------------------------------\n",
       "\n",
       "\n",
       "\n"
      ]
     },
     "metadata": {},
     "output_type": "display_data"
    },
    {
     "data": {
      "text/html": [
       "<pre style=\"white-space:pre;overflow-x:auto;line-height:normal;font-family:Menlo,'DejaVu Sans Mono',consolas,'Courier New',monospace\">-------------------------------------------------------------------------------------------------------------------\n",
       "                         Dataset = DOVES,       Model = poisson,       Architecture: conv+b|lin                    \n",
       "-------------------------------------------------------------------------------------------------------------------\n",
       "VAE:\n",
       "<span style=\"font-weight: bold\">{</span><span style=\"color: #008000; text-decoration-color: #008000\">'dataset'</span>: <span style=\"color: #008000; text-decoration-color: #008000\">'DOVES'</span>, <span style=\"color: #008000; text-decoration-color: #008000\">'n_ch'</span>: <span style=\"color: #008080; text-decoration-color: #008080; font-weight: bold\">32</span>, <span style=\"color: #008000; text-decoration-color: #008000\">'n_latents'</span>: <span style=\"color: #008080; text-decoration-color: #008080; font-weight: bold\">512</span>, <span style=\"color: #008000; text-decoration-color: #008000\">'prior_clamp'</span>: <span style=\"color: #008080; text-decoration-color: #008080; font-weight: bold\">-4</span>, <span style=\"color: #008000; text-decoration-color: #008000\">'fit_prior'</span>: <span style=\"color: #00ff00; text-decoration-color: #00ff00; font-style: italic\">True</span>, <span style=\"color: #008000; text-decoration-color: #008000\">'enc_type'</span>: <span style=\"color: #008000; text-decoration-color: #008000\">'conv'</span>, \n",
       "<span style=\"color: #008000; text-decoration-color: #008000\">'dec_type'</span>: <span style=\"color: #008000; text-decoration-color: #008000\">'lin'</span>, <span style=\"color: #008000; text-decoration-color: #008000\">'enc_bias'</span>: <span style=\"color: #00ff00; text-decoration-color: #00ff00; font-style: italic\">True</span>, <span style=\"color: #008000; text-decoration-color: #008000\">'dec_bias'</span>: <span style=\"color: #ff0000; text-decoration-color: #ff0000; font-style: italic\">False</span>, <span style=\"color: #008000; text-decoration-color: #008000\">'init_dist'</span>: <span style=\"color: #008000; text-decoration-color: #008000\">'Normal'</span>, <span style=\"color: #008000; text-decoration-color: #008000\">'init_scale'</span>: <span style=\"color: #008080; text-decoration-color: #008080; font-weight: bold\">0.05</span><span style=\"font-weight: bold\">}</span>\n",
       "\n",
       "Trainer:\n",
       "<span style=\"font-weight: bold\">{</span><span style=\"color: #008000; text-decoration-color: #008000\">'lr'</span>: <span style=\"color: #008080; text-decoration-color: #008080; font-weight: bold\">0.005</span>, <span style=\"color: #008000; text-decoration-color: #008000\">'batch_size'</span>: <span style=\"color: #008080; text-decoration-color: #008080; font-weight: bold\">1000</span>, <span style=\"color: #008000; text-decoration-color: #008000\">'epochs'</span>: <span style=\"color: #008080; text-decoration-color: #008080; font-weight: bold\">3000</span>, <span style=\"color: #008000; text-decoration-color: #008000\">'optimizer_kws'</span>: <span style=\"font-weight: bold\">{</span><span style=\"color: #008000; text-decoration-color: #008000\">'weight_decay'</span>: <span style=\"color: #008080; text-decoration-color: #008080; font-weight: bold\">0.0</span><span style=\"font-weight: bold\">}</span>, <span style=\"color: #008000; text-decoration-color: #008000\">'grad_clip'</span>: <span style=\"color: #008080; text-decoration-color: #008080; font-weight: bold\">500</span>, \n",
       "<span style=\"color: #008000; text-decoration-color: #008000\">'kl_const_portion'</span>: <span style=\"color: #008080; text-decoration-color: #008080; font-weight: bold\">0.0</span><span style=\"font-weight: bold\">}</span>\n",
       "-------------------------------------------------------------------------------------------------------------------\n",
       "\n",
       "\n",
       "\n",
       "</pre>\n"
      ],
      "text/plain": [
       "-------------------------------------------------------------------------------------------------------------------\n",
       "                         Dataset = DOVES,       Model = poisson,       Architecture: conv+b|lin                    \n",
       "-------------------------------------------------------------------------------------------------------------------\n",
       "VAE:\n",
       "\u001b[1m{\u001b[0m\u001b[32m'dataset'\u001b[0m: \u001b[32m'DOVES'\u001b[0m, \u001b[32m'n_ch'\u001b[0m: \u001b[1;36m32\u001b[0m, \u001b[32m'n_latents'\u001b[0m: \u001b[1;36m512\u001b[0m, \u001b[32m'prior_clamp'\u001b[0m: \u001b[1;36m-4\u001b[0m, \u001b[32m'fit_prior'\u001b[0m: \u001b[3;92mTrue\u001b[0m, \u001b[32m'enc_type'\u001b[0m: \u001b[32m'conv'\u001b[0m, \n",
       "\u001b[32m'dec_type'\u001b[0m: \u001b[32m'lin'\u001b[0m, \u001b[32m'enc_bias'\u001b[0m: \u001b[3;92mTrue\u001b[0m, \u001b[32m'dec_bias'\u001b[0m: \u001b[3;91mFalse\u001b[0m, \u001b[32m'init_dist'\u001b[0m: \u001b[32m'Normal'\u001b[0m, \u001b[32m'init_scale'\u001b[0m: \u001b[1;36m0.05\u001b[0m\u001b[1m}\u001b[0m\n",
       "\n",
       "Trainer:\n",
       "\u001b[1m{\u001b[0m\u001b[32m'lr'\u001b[0m: \u001b[1;36m0.005\u001b[0m, \u001b[32m'batch_size'\u001b[0m: \u001b[1;36m1000\u001b[0m, \u001b[32m'epochs'\u001b[0m: \u001b[1;36m3000\u001b[0m, \u001b[32m'optimizer_kws'\u001b[0m: \u001b[1m{\u001b[0m\u001b[32m'weight_decay'\u001b[0m: \u001b[1;36m0.0\u001b[0m\u001b[1m}\u001b[0m, \u001b[32m'grad_clip'\u001b[0m: \u001b[1;36m500\u001b[0m, \n",
       "\u001b[32m'kl_const_portion'\u001b[0m: \u001b[1;36m0.0\u001b[0m\u001b[1m}\u001b[0m\n",
       "-------------------------------------------------------------------------------------------------------------------\n",
       "\n",
       "\n",
       "\n"
      ]
     },
     "metadata": {},
     "output_type": "display_data"
    },
    {
     "data": {
      "text/html": [
       "<pre style=\"white-space:pre;overflow-x:auto;line-height:normal;font-family:Menlo,'DejaVu Sans Mono',consolas,'Courier New',monospace\">-------------------------------------------------------------------------------------------------------------------\n",
       "                         Dataset = DOVES,       Model = poisson,       Architecture: conv+b|conv+b                 \n",
       "-------------------------------------------------------------------------------------------------------------------\n",
       "VAE:\n",
       "<span style=\"font-weight: bold\">{</span><span style=\"color: #008000; text-decoration-color: #008000\">'dataset'</span>: <span style=\"color: #008000; text-decoration-color: #008000\">'DOVES'</span>, <span style=\"color: #008000; text-decoration-color: #008000\">'n_ch'</span>: <span style=\"color: #008080; text-decoration-color: #008080; font-weight: bold\">32</span>, <span style=\"color: #008000; text-decoration-color: #008000\">'n_latents'</span>: <span style=\"color: #008080; text-decoration-color: #008080; font-weight: bold\">10</span>, <span style=\"color: #008000; text-decoration-color: #008000\">'prior_clamp'</span>: <span style=\"color: #008080; text-decoration-color: #008080; font-weight: bold\">-2</span>, <span style=\"color: #008000; text-decoration-color: #008000\">'fit_prior'</span>: <span style=\"color: #00ff00; text-decoration-color: #00ff00; font-style: italic\">True</span>, <span style=\"color: #008000; text-decoration-color: #008000\">'enc_type'</span>: <span style=\"color: #008000; text-decoration-color: #008000\">'conv'</span>, \n",
       "<span style=\"color: #008000; text-decoration-color: #008000\">'dec_type'</span>: <span style=\"color: #008000; text-decoration-color: #008000\">'conv'</span>, <span style=\"color: #008000; text-decoration-color: #008000\">'enc_bias'</span>: <span style=\"color: #00ff00; text-decoration-color: #00ff00; font-style: italic\">True</span>, <span style=\"color: #008000; text-decoration-color: #008000\">'dec_bias'</span>: <span style=\"color: #00ff00; text-decoration-color: #00ff00; font-style: italic\">True</span>, <span style=\"color: #008000; text-decoration-color: #008000\">'init_dist'</span>: <span style=\"color: #008000; text-decoration-color: #008000\">'StudentT'</span>, <span style=\"color: #008000; text-decoration-color: #008000\">'init_scale'</span>: <span style=\"color: #008080; text-decoration-color: #008080; font-weight: bold\">0.1</span><span style=\"font-weight: bold\">}</span>\n",
       "\n",
       "Trainer:\n",
       "<span style=\"font-weight: bold\">{</span><span style=\"color: #008000; text-decoration-color: #008000\">'lr'</span>: <span style=\"color: #008080; text-decoration-color: #008080; font-weight: bold\">0.005</span>, <span style=\"color: #008000; text-decoration-color: #008000\">'batch_size'</span>: <span style=\"color: #008080; text-decoration-color: #008080; font-weight: bold\">1000</span>, <span style=\"color: #008000; text-decoration-color: #008000\">'epochs'</span>: <span style=\"color: #008080; text-decoration-color: #008080; font-weight: bold\">3000</span>, <span style=\"color: #008000; text-decoration-color: #008000\">'optimizer_kws'</span>: <span style=\"font-weight: bold\">{</span><span style=\"color: #008000; text-decoration-color: #008000\">'weight_decay'</span>: <span style=\"color: #008080; text-decoration-color: #008080; font-weight: bold\">0.0</span><span style=\"font-weight: bold\">}</span>, <span style=\"color: #008000; text-decoration-color: #008000\">'grad_clip'</span>: <span style=\"color: #008080; text-decoration-color: #008080; font-weight: bold\">500</span>, \n",
       "<span style=\"color: #008000; text-decoration-color: #008000\">'kl_const_portion'</span>: <span style=\"color: #008080; text-decoration-color: #008080; font-weight: bold\">0.01</span><span style=\"font-weight: bold\">}</span>\n",
       "-------------------------------------------------------------------------------------------------------------------\n",
       "\n",
       "\n",
       "\n",
       "</pre>\n"
      ],
      "text/plain": [
       "-------------------------------------------------------------------------------------------------------------------\n",
       "                         Dataset = DOVES,       Model = poisson,       Architecture: conv+b|conv+b                 \n",
       "-------------------------------------------------------------------------------------------------------------------\n",
       "VAE:\n",
       "\u001b[1m{\u001b[0m\u001b[32m'dataset'\u001b[0m: \u001b[32m'DOVES'\u001b[0m, \u001b[32m'n_ch'\u001b[0m: \u001b[1;36m32\u001b[0m, \u001b[32m'n_latents'\u001b[0m: \u001b[1;36m10\u001b[0m, \u001b[32m'prior_clamp'\u001b[0m: \u001b[1;36m-2\u001b[0m, \u001b[32m'fit_prior'\u001b[0m: \u001b[3;92mTrue\u001b[0m, \u001b[32m'enc_type'\u001b[0m: \u001b[32m'conv'\u001b[0m, \n",
       "\u001b[32m'dec_type'\u001b[0m: \u001b[32m'conv'\u001b[0m, \u001b[32m'enc_bias'\u001b[0m: \u001b[3;92mTrue\u001b[0m, \u001b[32m'dec_bias'\u001b[0m: \u001b[3;92mTrue\u001b[0m, \u001b[32m'init_dist'\u001b[0m: \u001b[32m'StudentT'\u001b[0m, \u001b[32m'init_scale'\u001b[0m: \u001b[1;36m0.1\u001b[0m\u001b[1m}\u001b[0m\n",
       "\n",
       "Trainer:\n",
       "\u001b[1m{\u001b[0m\u001b[32m'lr'\u001b[0m: \u001b[1;36m0.005\u001b[0m, \u001b[32m'batch_size'\u001b[0m: \u001b[1;36m1000\u001b[0m, \u001b[32m'epochs'\u001b[0m: \u001b[1;36m3000\u001b[0m, \u001b[32m'optimizer_kws'\u001b[0m: \u001b[1m{\u001b[0m\u001b[32m'weight_decay'\u001b[0m: \u001b[1;36m0.0\u001b[0m\u001b[1m}\u001b[0m, \u001b[32m'grad_clip'\u001b[0m: \u001b[1;36m500\u001b[0m, \n",
       "\u001b[32m'kl_const_portion'\u001b[0m: \u001b[1;36m0.01\u001b[0m\u001b[1m}\u001b[0m\n",
       "-------------------------------------------------------------------------------------------------------------------\n",
       "\n",
       "\n",
       "\n"
      ]
     },
     "metadata": {},
     "output_type": "display_data"
    },
    {
     "data": {
      "text/html": [
       "<pre style=\"white-space:pre;overflow-x:auto;line-height:normal;font-family:Menlo,'DejaVu Sans Mono',consolas,'Courier New',monospace\">-------------------------------------------------------------------------------------------------------------------\n",
       "                         Dataset = DOVES,       Model = categorical,       Architecture: lin|lin                   \n",
       "-------------------------------------------------------------------------------------------------------------------\n",
       "VAE:\n",
       "<span style=\"font-weight: bold\">{</span><span style=\"color: #008000; text-decoration-color: #008000\">'dataset'</span>: <span style=\"color: #008000; text-decoration-color: #008000\">'DOVES'</span>, <span style=\"color: #008000; text-decoration-color: #008000\">'n_ch'</span>: <span style=\"color: #008080; text-decoration-color: #008080; font-weight: bold\">32</span>, <span style=\"color: #008000; text-decoration-color: #008000\">'n_latents'</span>: <span style=\"color: #008080; text-decoration-color: #008080; font-weight: bold\">1</span>, <span style=\"color: #008000; text-decoration-color: #008000\">'enc_type'</span>: <span style=\"color: #008000; text-decoration-color: #008000\">'lin'</span>, <span style=\"color: #008000; text-decoration-color: #008000\">'dec_type'</span>: <span style=\"color: #008000; text-decoration-color: #008000\">'lin'</span>, <span style=\"color: #008000; text-decoration-color: #008000\">'enc_bias'</span>: <span style=\"color: #ff0000; text-decoration-color: #ff0000; font-style: italic\">False</span>, \n",
       "<span style=\"color: #008000; text-decoration-color: #008000\">'dec_bias'</span>: <span style=\"color: #ff0000; text-decoration-color: #ff0000; font-style: italic\">False</span>, <span style=\"color: #008000; text-decoration-color: #008000\">'n_categories'</span>: <span style=\"color: #008080; text-decoration-color: #008080; font-weight: bold\">512</span>, <span style=\"color: #008000; text-decoration-color: #008000\">'init_dist'</span>: <span style=\"color: #008000; text-decoration-color: #008000\">'Normal'</span>, <span style=\"color: #008000; text-decoration-color: #008000\">'init_scale'</span>: <span style=\"color: #008080; text-decoration-color: #008080; font-weight: bold\">0.05</span><span style=\"font-weight: bold\">}</span>\n",
       "\n",
       "Trainer:\n",
       "<span style=\"font-weight: bold\">{</span><span style=\"color: #008000; text-decoration-color: #008000\">'temp_stop'</span>: <span style=\"color: #008080; text-decoration-color: #008080; font-weight: bold\">0.1</span>, <span style=\"color: #008000; text-decoration-color: #008000\">'lr'</span>: <span style=\"color: #008080; text-decoration-color: #008080; font-weight: bold\">0.005</span>, <span style=\"color: #008000; text-decoration-color: #008000\">'batch_size'</span>: <span style=\"color: #008080; text-decoration-color: #008080; font-weight: bold\">1000</span>, <span style=\"color: #008000; text-decoration-color: #008000\">'epochs'</span>: <span style=\"color: #008080; text-decoration-color: #008080; font-weight: bold\">3000</span>, <span style=\"color: #008000; text-decoration-color: #008000\">'optimizer_kws'</span>: <span style=\"font-weight: bold\">{</span><span style=\"color: #008000; text-decoration-color: #008000\">'weight_decay'</span>: <span style=\"color: #008080; text-decoration-color: #008080; font-weight: bold\">0.0</span><span style=\"font-weight: bold\">}</span>, \n",
       "<span style=\"color: #008000; text-decoration-color: #008000\">'grad_clip'</span>: <span style=\"color: #008080; text-decoration-color: #008080; font-weight: bold\">500</span>, <span style=\"color: #008000; text-decoration-color: #008000\">'kl_const_portion'</span>: <span style=\"color: #008080; text-decoration-color: #008080; font-weight: bold\">0.0</span><span style=\"font-weight: bold\">}</span>\n",
       "-------------------------------------------------------------------------------------------------------------------\n",
       "\n",
       "\n",
       "\n",
       "</pre>\n"
      ],
      "text/plain": [
       "-------------------------------------------------------------------------------------------------------------------\n",
       "                         Dataset = DOVES,       Model = categorical,       Architecture: lin|lin                   \n",
       "-------------------------------------------------------------------------------------------------------------------\n",
       "VAE:\n",
       "\u001b[1m{\u001b[0m\u001b[32m'dataset'\u001b[0m: \u001b[32m'DOVES'\u001b[0m, \u001b[32m'n_ch'\u001b[0m: \u001b[1;36m32\u001b[0m, \u001b[32m'n_latents'\u001b[0m: \u001b[1;36m1\u001b[0m, \u001b[32m'enc_type'\u001b[0m: \u001b[32m'lin'\u001b[0m, \u001b[32m'dec_type'\u001b[0m: \u001b[32m'lin'\u001b[0m, \u001b[32m'enc_bias'\u001b[0m: \u001b[3;91mFalse\u001b[0m, \n",
       "\u001b[32m'dec_bias'\u001b[0m: \u001b[3;91mFalse\u001b[0m, \u001b[32m'n_categories'\u001b[0m: \u001b[1;36m512\u001b[0m, \u001b[32m'init_dist'\u001b[0m: \u001b[32m'Normal'\u001b[0m, \u001b[32m'init_scale'\u001b[0m: \u001b[1;36m0.05\u001b[0m\u001b[1m}\u001b[0m\n",
       "\n",
       "Trainer:\n",
       "\u001b[1m{\u001b[0m\u001b[32m'temp_stop'\u001b[0m: \u001b[1;36m0.1\u001b[0m, \u001b[32m'lr'\u001b[0m: \u001b[1;36m0.005\u001b[0m, \u001b[32m'batch_size'\u001b[0m: \u001b[1;36m1000\u001b[0m, \u001b[32m'epochs'\u001b[0m: \u001b[1;36m3000\u001b[0m, \u001b[32m'optimizer_kws'\u001b[0m: \u001b[1m{\u001b[0m\u001b[32m'weight_decay'\u001b[0m: \u001b[1;36m0.0\u001b[0m\u001b[1m}\u001b[0m, \n",
       "\u001b[32m'grad_clip'\u001b[0m: \u001b[1;36m500\u001b[0m, \u001b[32m'kl_const_portion'\u001b[0m: \u001b[1;36m0.0\u001b[0m\u001b[1m}\u001b[0m\n",
       "-------------------------------------------------------------------------------------------------------------------\n",
       "\n",
       "\n",
       "\n"
      ]
     },
     "metadata": {},
     "output_type": "display_data"
    },
    {
     "data": {
      "text/html": [
       "<pre style=\"white-space:pre;overflow-x:auto;line-height:normal;font-family:Menlo,'DejaVu Sans Mono',consolas,'Courier New',monospace\">-------------------------------------------------------------------------------------------------------------------\n",
       "                         Dataset = DOVES,       Model = categorical,       Architecture: mlp+b|lin                 \n",
       "-------------------------------------------------------------------------------------------------------------------\n",
       "VAE:\n",
       "<span style=\"font-weight: bold\">{</span><span style=\"color: #008000; text-decoration-color: #008000\">'dataset'</span>: <span style=\"color: #008000; text-decoration-color: #008000\">'DOVES'</span>, <span style=\"color: #008000; text-decoration-color: #008000\">'n_ch'</span>: <span style=\"color: #008080; text-decoration-color: #008080; font-weight: bold\">16</span>, <span style=\"color: #008000; text-decoration-color: #008000\">'n_latents'</span>: <span style=\"color: #008080; text-decoration-color: #008080; font-weight: bold\">1</span>, <span style=\"color: #008000; text-decoration-color: #008000\">'enc_type'</span>: <span style=\"color: #008000; text-decoration-color: #008000\">'mlp'</span>, <span style=\"color: #008000; text-decoration-color: #008000\">'dec_type'</span>: <span style=\"color: #008000; text-decoration-color: #008000\">'lin'</span>, <span style=\"color: #008000; text-decoration-color: #008000\">'enc_bias'</span>: <span style=\"color: #00ff00; text-decoration-color: #00ff00; font-style: italic\">True</span>, \n",
       "<span style=\"color: #008000; text-decoration-color: #008000\">'dec_bias'</span>: <span style=\"color: #ff0000; text-decoration-color: #ff0000; font-style: italic\">False</span>, <span style=\"color: #008000; text-decoration-color: #008000\">'n_categories'</span>: <span style=\"color: #008080; text-decoration-color: #008080; font-weight: bold\">512</span>, <span style=\"color: #008000; text-decoration-color: #008000\">'init_dist'</span>: <span style=\"color: #008000; text-decoration-color: #008000\">'Normal'</span>, <span style=\"color: #008000; text-decoration-color: #008000\">'init_scale'</span>: <span style=\"color: #008080; text-decoration-color: #008080; font-weight: bold\">0.05</span><span style=\"font-weight: bold\">}</span>\n",
       "\n",
       "Trainer:\n",
       "<span style=\"font-weight: bold\">{</span><span style=\"color: #008000; text-decoration-color: #008000\">'temp_stop'</span>: <span style=\"color: #008080; text-decoration-color: #008080; font-weight: bold\">0.1</span>, <span style=\"color: #008000; text-decoration-color: #008000\">'lr'</span>: <span style=\"color: #008080; text-decoration-color: #008080; font-weight: bold\">0.005</span>, <span style=\"color: #008000; text-decoration-color: #008000\">'batch_size'</span>: <span style=\"color: #008080; text-decoration-color: #008080; font-weight: bold\">1000</span>, <span style=\"color: #008000; text-decoration-color: #008000\">'epochs'</span>: <span style=\"color: #008080; text-decoration-color: #008080; font-weight: bold\">3000</span>, <span style=\"color: #008000; text-decoration-color: #008000\">'optimizer_kws'</span>: <span style=\"font-weight: bold\">{</span><span style=\"color: #008000; text-decoration-color: #008000\">'weight_decay'</span>: <span style=\"color: #008080; text-decoration-color: #008080; font-weight: bold\">0.0</span><span style=\"font-weight: bold\">}</span>, \n",
       "<span style=\"color: #008000; text-decoration-color: #008000\">'grad_clip'</span>: <span style=\"color: #008080; text-decoration-color: #008080; font-weight: bold\">500</span>, <span style=\"color: #008000; text-decoration-color: #008000\">'kl_const_portion'</span>: <span style=\"color: #008080; text-decoration-color: #008080; font-weight: bold\">0.0</span><span style=\"font-weight: bold\">}</span>\n",
       "-------------------------------------------------------------------------------------------------------------------\n",
       "\n",
       "\n",
       "\n",
       "</pre>\n"
      ],
      "text/plain": [
       "-------------------------------------------------------------------------------------------------------------------\n",
       "                         Dataset = DOVES,       Model = categorical,       Architecture: mlp+b|lin                 \n",
       "-------------------------------------------------------------------------------------------------------------------\n",
       "VAE:\n",
       "\u001b[1m{\u001b[0m\u001b[32m'dataset'\u001b[0m: \u001b[32m'DOVES'\u001b[0m, \u001b[32m'n_ch'\u001b[0m: \u001b[1;36m16\u001b[0m, \u001b[32m'n_latents'\u001b[0m: \u001b[1;36m1\u001b[0m, \u001b[32m'enc_type'\u001b[0m: \u001b[32m'mlp'\u001b[0m, \u001b[32m'dec_type'\u001b[0m: \u001b[32m'lin'\u001b[0m, \u001b[32m'enc_bias'\u001b[0m: \u001b[3;92mTrue\u001b[0m, \n",
       "\u001b[32m'dec_bias'\u001b[0m: \u001b[3;91mFalse\u001b[0m, \u001b[32m'n_categories'\u001b[0m: \u001b[1;36m512\u001b[0m, \u001b[32m'init_dist'\u001b[0m: \u001b[32m'Normal'\u001b[0m, \u001b[32m'init_scale'\u001b[0m: \u001b[1;36m0.05\u001b[0m\u001b[1m}\u001b[0m\n",
       "\n",
       "Trainer:\n",
       "\u001b[1m{\u001b[0m\u001b[32m'temp_stop'\u001b[0m: \u001b[1;36m0.1\u001b[0m, \u001b[32m'lr'\u001b[0m: \u001b[1;36m0.005\u001b[0m, \u001b[32m'batch_size'\u001b[0m: \u001b[1;36m1000\u001b[0m, \u001b[32m'epochs'\u001b[0m: \u001b[1;36m3000\u001b[0m, \u001b[32m'optimizer_kws'\u001b[0m: \u001b[1m{\u001b[0m\u001b[32m'weight_decay'\u001b[0m: \u001b[1;36m0.0\u001b[0m\u001b[1m}\u001b[0m, \n",
       "\u001b[32m'grad_clip'\u001b[0m: \u001b[1;36m500\u001b[0m, \u001b[32m'kl_const_portion'\u001b[0m: \u001b[1;36m0.0\u001b[0m\u001b[1m}\u001b[0m\n",
       "-------------------------------------------------------------------------------------------------------------------\n",
       "\n",
       "\n",
       "\n"
      ]
     },
     "metadata": {},
     "output_type": "display_data"
    },
    {
     "data": {
      "text/html": [
       "<pre style=\"white-space:pre;overflow-x:auto;line-height:normal;font-family:Menlo,'DejaVu Sans Mono',consolas,'Courier New',monospace\">-------------------------------------------------------------------------------------------------------------------\n",
       "                         Dataset = DOVES,       Model = categorical,       Architecture: conv+b|lin                \n",
       "-------------------------------------------------------------------------------------------------------------------\n",
       "VAE:\n",
       "<span style=\"font-weight: bold\">{</span><span style=\"color: #008000; text-decoration-color: #008000\">'dataset'</span>: <span style=\"color: #008000; text-decoration-color: #008000\">'DOVES'</span>, <span style=\"color: #008000; text-decoration-color: #008000\">'n_ch'</span>: <span style=\"color: #008080; text-decoration-color: #008080; font-weight: bold\">32</span>, <span style=\"color: #008000; text-decoration-color: #008000\">'n_latents'</span>: <span style=\"color: #008080; text-decoration-color: #008080; font-weight: bold\">1</span>, <span style=\"color: #008000; text-decoration-color: #008000\">'enc_type'</span>: <span style=\"color: #008000; text-decoration-color: #008000\">'conv'</span>, <span style=\"color: #008000; text-decoration-color: #008000\">'dec_type'</span>: <span style=\"color: #008000; text-decoration-color: #008000\">'lin'</span>, <span style=\"color: #008000; text-decoration-color: #008000\">'enc_bias'</span>: <span style=\"color: #00ff00; text-decoration-color: #00ff00; font-style: italic\">True</span>, \n",
       "<span style=\"color: #008000; text-decoration-color: #008000\">'dec_bias'</span>: <span style=\"color: #ff0000; text-decoration-color: #ff0000; font-style: italic\">False</span>, <span style=\"color: #008000; text-decoration-color: #008000\">'n_categories'</span>: <span style=\"color: #008080; text-decoration-color: #008080; font-weight: bold\">512</span>, <span style=\"color: #008000; text-decoration-color: #008000\">'init_dist'</span>: <span style=\"color: #008000; text-decoration-color: #008000\">'Normal'</span>, <span style=\"color: #008000; text-decoration-color: #008000\">'init_scale'</span>: <span style=\"color: #008080; text-decoration-color: #008080; font-weight: bold\">0.05</span><span style=\"font-weight: bold\">}</span>\n",
       "\n",
       "Trainer:\n",
       "<span style=\"font-weight: bold\">{</span><span style=\"color: #008000; text-decoration-color: #008000\">'temp_stop'</span>: <span style=\"color: #008080; text-decoration-color: #008080; font-weight: bold\">0.1</span>, <span style=\"color: #008000; text-decoration-color: #008000\">'lr'</span>: <span style=\"color: #008080; text-decoration-color: #008080; font-weight: bold\">0.005</span>, <span style=\"color: #008000; text-decoration-color: #008000\">'batch_size'</span>: <span style=\"color: #008080; text-decoration-color: #008080; font-weight: bold\">1000</span>, <span style=\"color: #008000; text-decoration-color: #008000\">'epochs'</span>: <span style=\"color: #008080; text-decoration-color: #008080; font-weight: bold\">3000</span>, <span style=\"color: #008000; text-decoration-color: #008000\">'optimizer_kws'</span>: <span style=\"font-weight: bold\">{</span><span style=\"color: #008000; text-decoration-color: #008000\">'weight_decay'</span>: <span style=\"color: #008080; text-decoration-color: #008080; font-weight: bold\">0.0</span><span style=\"font-weight: bold\">}</span>, \n",
       "<span style=\"color: #008000; text-decoration-color: #008000\">'grad_clip'</span>: <span style=\"color: #008080; text-decoration-color: #008080; font-weight: bold\">500</span>, <span style=\"color: #008000; text-decoration-color: #008000\">'kl_const_portion'</span>: <span style=\"color: #008080; text-decoration-color: #008080; font-weight: bold\">0.0</span><span style=\"font-weight: bold\">}</span>\n",
       "-------------------------------------------------------------------------------------------------------------------\n",
       "\n",
       "\n",
       "\n",
       "</pre>\n"
      ],
      "text/plain": [
       "-------------------------------------------------------------------------------------------------------------------\n",
       "                         Dataset = DOVES,       Model = categorical,       Architecture: conv+b|lin                \n",
       "-------------------------------------------------------------------------------------------------------------------\n",
       "VAE:\n",
       "\u001b[1m{\u001b[0m\u001b[32m'dataset'\u001b[0m: \u001b[32m'DOVES'\u001b[0m, \u001b[32m'n_ch'\u001b[0m: \u001b[1;36m32\u001b[0m, \u001b[32m'n_latents'\u001b[0m: \u001b[1;36m1\u001b[0m, \u001b[32m'enc_type'\u001b[0m: \u001b[32m'conv'\u001b[0m, \u001b[32m'dec_type'\u001b[0m: \u001b[32m'lin'\u001b[0m, \u001b[32m'enc_bias'\u001b[0m: \u001b[3;92mTrue\u001b[0m, \n",
       "\u001b[32m'dec_bias'\u001b[0m: \u001b[3;91mFalse\u001b[0m, \u001b[32m'n_categories'\u001b[0m: \u001b[1;36m512\u001b[0m, \u001b[32m'init_dist'\u001b[0m: \u001b[32m'Normal'\u001b[0m, \u001b[32m'init_scale'\u001b[0m: \u001b[1;36m0.05\u001b[0m\u001b[1m}\u001b[0m\n",
       "\n",
       "Trainer:\n",
       "\u001b[1m{\u001b[0m\u001b[32m'temp_stop'\u001b[0m: \u001b[1;36m0.1\u001b[0m, \u001b[32m'lr'\u001b[0m: \u001b[1;36m0.005\u001b[0m, \u001b[32m'batch_size'\u001b[0m: \u001b[1;36m1000\u001b[0m, \u001b[32m'epochs'\u001b[0m: \u001b[1;36m3000\u001b[0m, \u001b[32m'optimizer_kws'\u001b[0m: \u001b[1m{\u001b[0m\u001b[32m'weight_decay'\u001b[0m: \u001b[1;36m0.0\u001b[0m\u001b[1m}\u001b[0m, \n",
       "\u001b[32m'grad_clip'\u001b[0m: \u001b[1;36m500\u001b[0m, \u001b[32m'kl_const_portion'\u001b[0m: \u001b[1;36m0.0\u001b[0m\u001b[1m}\u001b[0m\n",
       "-------------------------------------------------------------------------------------------------------------------\n",
       "\n",
       "\n",
       "\n"
      ]
     },
     "metadata": {},
     "output_type": "display_data"
    },
    {
     "data": {
      "text/html": [
       "<pre style=\"white-space:pre;overflow-x:auto;line-height:normal;font-family:Menlo,'DejaVu Sans Mono',consolas,'Courier New',monospace\">-------------------------------------------------------------------------------------------------------------------\n",
       "                         Dataset = DOVES,       Model = categorical,       Architecture: conv+b|conv+b             \n",
       "-------------------------------------------------------------------------------------------------------------------\n",
       "VAE:\n",
       "<span style=\"font-weight: bold\">{</span><span style=\"color: #008000; text-decoration-color: #008000\">'dataset'</span>: <span style=\"color: #008000; text-decoration-color: #008000\">'DOVES'</span>, <span style=\"color: #008000; text-decoration-color: #008000\">'n_ch'</span>: <span style=\"color: #008080; text-decoration-color: #008080; font-weight: bold\">32</span>, <span style=\"color: #008000; text-decoration-color: #008000\">'n_latents'</span>: <span style=\"color: #008080; text-decoration-color: #008080; font-weight: bold\">1</span>, <span style=\"color: #008000; text-decoration-color: #008000\">'enc_type'</span>: <span style=\"color: #008000; text-decoration-color: #008000\">'conv'</span>, <span style=\"color: #008000; text-decoration-color: #008000\">'dec_type'</span>: <span style=\"color: #008000; text-decoration-color: #008000\">'conv'</span>, <span style=\"color: #008000; text-decoration-color: #008000\">'enc_bias'</span>: <span style=\"color: #00ff00; text-decoration-color: #00ff00; font-style: italic\">True</span>, \n",
       "<span style=\"color: #008000; text-decoration-color: #008000\">'dec_bias'</span>: <span style=\"color: #00ff00; text-decoration-color: #00ff00; font-style: italic\">True</span>, <span style=\"color: #008000; text-decoration-color: #008000\">'n_categories'</span>: <span style=\"color: #008080; text-decoration-color: #008080; font-weight: bold\">10</span>, <span style=\"color: #008000; text-decoration-color: #008000\">'init_dist'</span>: <span style=\"color: #008000; text-decoration-color: #008000\">'StudentT'</span>, <span style=\"color: #008000; text-decoration-color: #008000\">'init_scale'</span>: <span style=\"color: #008080; text-decoration-color: #008080; font-weight: bold\">0.1</span><span style=\"font-weight: bold\">}</span>\n",
       "\n",
       "Trainer:\n",
       "<span style=\"font-weight: bold\">{</span><span style=\"color: #008000; text-decoration-color: #008000\">'temp_stop'</span>: <span style=\"color: #008080; text-decoration-color: #008080; font-weight: bold\">0.1</span>, <span style=\"color: #008000; text-decoration-color: #008000\">'lr'</span>: <span style=\"color: #008080; text-decoration-color: #008080; font-weight: bold\">0.005</span>, <span style=\"color: #008000; text-decoration-color: #008000\">'batch_size'</span>: <span style=\"color: #008080; text-decoration-color: #008080; font-weight: bold\">1000</span>, <span style=\"color: #008000; text-decoration-color: #008000\">'epochs'</span>: <span style=\"color: #008080; text-decoration-color: #008080; font-weight: bold\">3000</span>, <span style=\"color: #008000; text-decoration-color: #008000\">'optimizer_kws'</span>: <span style=\"font-weight: bold\">{</span><span style=\"color: #008000; text-decoration-color: #008000\">'weight_decay'</span>: <span style=\"color: #008080; text-decoration-color: #008080; font-weight: bold\">0.0</span><span style=\"font-weight: bold\">}</span>, \n",
       "<span style=\"color: #008000; text-decoration-color: #008000\">'grad_clip'</span>: <span style=\"color: #008080; text-decoration-color: #008080; font-weight: bold\">500</span>, <span style=\"color: #008000; text-decoration-color: #008000\">'kl_const_portion'</span>: <span style=\"color: #008080; text-decoration-color: #008080; font-weight: bold\">0.01</span><span style=\"font-weight: bold\">}</span>\n",
       "-------------------------------------------------------------------------------------------------------------------\n",
       "\n",
       "\n",
       "\n",
       "</pre>\n"
      ],
      "text/plain": [
       "-------------------------------------------------------------------------------------------------------------------\n",
       "                         Dataset = DOVES,       Model = categorical,       Architecture: conv+b|conv+b             \n",
       "-------------------------------------------------------------------------------------------------------------------\n",
       "VAE:\n",
       "\u001b[1m{\u001b[0m\u001b[32m'dataset'\u001b[0m: \u001b[32m'DOVES'\u001b[0m, \u001b[32m'n_ch'\u001b[0m: \u001b[1;36m32\u001b[0m, \u001b[32m'n_latents'\u001b[0m: \u001b[1;36m1\u001b[0m, \u001b[32m'enc_type'\u001b[0m: \u001b[32m'conv'\u001b[0m, \u001b[32m'dec_type'\u001b[0m: \u001b[32m'conv'\u001b[0m, \u001b[32m'enc_bias'\u001b[0m: \u001b[3;92mTrue\u001b[0m, \n",
       "\u001b[32m'dec_bias'\u001b[0m: \u001b[3;92mTrue\u001b[0m, \u001b[32m'n_categories'\u001b[0m: \u001b[1;36m10\u001b[0m, \u001b[32m'init_dist'\u001b[0m: \u001b[32m'StudentT'\u001b[0m, \u001b[32m'init_scale'\u001b[0m: \u001b[1;36m0.1\u001b[0m\u001b[1m}\u001b[0m\n",
       "\n",
       "Trainer:\n",
       "\u001b[1m{\u001b[0m\u001b[32m'temp_stop'\u001b[0m: \u001b[1;36m0.1\u001b[0m, \u001b[32m'lr'\u001b[0m: \u001b[1;36m0.005\u001b[0m, \u001b[32m'batch_size'\u001b[0m: \u001b[1;36m1000\u001b[0m, \u001b[32m'epochs'\u001b[0m: \u001b[1;36m3000\u001b[0m, \u001b[32m'optimizer_kws'\u001b[0m: \u001b[1m{\u001b[0m\u001b[32m'weight_decay'\u001b[0m: \u001b[1;36m0.0\u001b[0m\u001b[1m}\u001b[0m, \n",
       "\u001b[32m'grad_clip'\u001b[0m: \u001b[1;36m500\u001b[0m, \u001b[32m'kl_const_portion'\u001b[0m: \u001b[1;36m0.01\u001b[0m\u001b[1m}\u001b[0m\n",
       "-------------------------------------------------------------------------------------------------------------------\n",
       "\n",
       "\n",
       "\n"
      ]
     },
     "metadata": {},
     "output_type": "display_data"
    },
    {
     "data": {
      "text/html": [
       "<pre style=\"white-space:pre;overflow-x:auto;line-height:normal;font-family:Menlo,'DejaVu Sans Mono',consolas,'Courier New',monospace\">-------------------------------------------------------------------------------------------------------------------\n",
       "                         Dataset = DOVES,       Model = gaussian,       Architecture: lin|lin                      \n",
       "-------------------------------------------------------------------------------------------------------------------\n",
       "VAE:\n",
       "<span style=\"font-weight: bold\">{</span><span style=\"color: #008000; text-decoration-color: #008000\">'dataset'</span>: <span style=\"color: #008000; text-decoration-color: #008000\">'DOVES'</span>, <span style=\"color: #008000; text-decoration-color: #008000\">'n_ch'</span>: <span style=\"color: #008080; text-decoration-color: #008080; font-weight: bold\">32</span>, <span style=\"color: #008000; text-decoration-color: #008000\">'n_latents'</span>: <span style=\"color: #008080; text-decoration-color: #008080; font-weight: bold\">512</span>, <span style=\"color: #008000; text-decoration-color: #008000\">'enc_type'</span>: <span style=\"color: #008000; text-decoration-color: #008000\">'lin'</span>, <span style=\"color: #008000; text-decoration-color: #008000\">'dec_type'</span>: <span style=\"color: #008000; text-decoration-color: #008000\">'lin'</span>, <span style=\"color: #008000; text-decoration-color: #008000\">'enc_bias'</span>: <span style=\"color: #ff0000; text-decoration-color: #ff0000; font-style: italic\">False</span>, \n",
       "<span style=\"color: #008000; text-decoration-color: #008000\">'dec_bias'</span>: <span style=\"color: #ff0000; text-decoration-color: #ff0000; font-style: italic\">False</span>, <span style=\"color: #008000; text-decoration-color: #008000\">'init_dist'</span>: <span style=\"color: #008000; text-decoration-color: #008000\">'Normal'</span>, <span style=\"color: #008000; text-decoration-color: #008000\">'init_scale'</span>: <span style=\"color: #008080; text-decoration-color: #008080; font-weight: bold\">0.05</span><span style=\"font-weight: bold\">}</span>\n",
       "\n",
       "Trainer:\n",
       "<span style=\"font-weight: bold\">{</span><span style=\"color: #008000; text-decoration-color: #008000\">'temp_anneal_portion'</span>: <span style=\"color: #008080; text-decoration-color: #008080; font-weight: bold\">0.0</span>, <span style=\"color: #008000; text-decoration-color: #008000\">'temp_stop'</span>: <span style=\"color: #008080; text-decoration-color: #008080; font-weight: bold\">1.0</span>, <span style=\"color: #008000; text-decoration-color: #008000\">'lr'</span>: <span style=\"color: #008080; text-decoration-color: #008080; font-weight: bold\">0.005</span>, <span style=\"color: #008000; text-decoration-color: #008000\">'batch_size'</span>: <span style=\"color: #008080; text-decoration-color: #008080; font-weight: bold\">1000</span>, <span style=\"color: #008000; text-decoration-color: #008000\">'epochs'</span>: <span style=\"color: #008080; text-decoration-color: #008080; font-weight: bold\">3000</span>, <span style=\"color: #008000; text-decoration-color: #008000\">'optimizer_kws'</span>: \n",
       "<span style=\"font-weight: bold\">{</span><span style=\"color: #008000; text-decoration-color: #008000\">'weight_decay'</span>: <span style=\"color: #008080; text-decoration-color: #008080; font-weight: bold\">0.0</span><span style=\"font-weight: bold\">}</span>, <span style=\"color: #008000; text-decoration-color: #008000\">'grad_clip'</span>: <span style=\"color: #008080; text-decoration-color: #008080; font-weight: bold\">500</span>, <span style=\"color: #008000; text-decoration-color: #008000\">'kl_const_portion'</span>: <span style=\"color: #008080; text-decoration-color: #008080; font-weight: bold\">0.0</span><span style=\"font-weight: bold\">}</span>\n",
       "-------------------------------------------------------------------------------------------------------------------\n",
       "\n",
       "\n",
       "\n",
       "</pre>\n"
      ],
      "text/plain": [
       "-------------------------------------------------------------------------------------------------------------------\n",
       "                         Dataset = DOVES,       Model = gaussian,       Architecture: lin|lin                      \n",
       "-------------------------------------------------------------------------------------------------------------------\n",
       "VAE:\n",
       "\u001b[1m{\u001b[0m\u001b[32m'dataset'\u001b[0m: \u001b[32m'DOVES'\u001b[0m, \u001b[32m'n_ch'\u001b[0m: \u001b[1;36m32\u001b[0m, \u001b[32m'n_latents'\u001b[0m: \u001b[1;36m512\u001b[0m, \u001b[32m'enc_type'\u001b[0m: \u001b[32m'lin'\u001b[0m, \u001b[32m'dec_type'\u001b[0m: \u001b[32m'lin'\u001b[0m, \u001b[32m'enc_bias'\u001b[0m: \u001b[3;91mFalse\u001b[0m, \n",
       "\u001b[32m'dec_bias'\u001b[0m: \u001b[3;91mFalse\u001b[0m, \u001b[32m'init_dist'\u001b[0m: \u001b[32m'Normal'\u001b[0m, \u001b[32m'init_scale'\u001b[0m: \u001b[1;36m0.05\u001b[0m\u001b[1m}\u001b[0m\n",
       "\n",
       "Trainer:\n",
       "\u001b[1m{\u001b[0m\u001b[32m'temp_anneal_portion'\u001b[0m: \u001b[1;36m0.0\u001b[0m, \u001b[32m'temp_stop'\u001b[0m: \u001b[1;36m1.0\u001b[0m, \u001b[32m'lr'\u001b[0m: \u001b[1;36m0.005\u001b[0m, \u001b[32m'batch_size'\u001b[0m: \u001b[1;36m1000\u001b[0m, \u001b[32m'epochs'\u001b[0m: \u001b[1;36m3000\u001b[0m, \u001b[32m'optimizer_kws'\u001b[0m: \n",
       "\u001b[1m{\u001b[0m\u001b[32m'weight_decay'\u001b[0m: \u001b[1;36m0.0\u001b[0m\u001b[1m}\u001b[0m, \u001b[32m'grad_clip'\u001b[0m: \u001b[1;36m500\u001b[0m, \u001b[32m'kl_const_portion'\u001b[0m: \u001b[1;36m0.0\u001b[0m\u001b[1m}\u001b[0m\n",
       "-------------------------------------------------------------------------------------------------------------------\n",
       "\n",
       "\n",
       "\n"
      ]
     },
     "metadata": {},
     "output_type": "display_data"
    },
    {
     "data": {
      "text/html": [
       "<pre style=\"white-space:pre;overflow-x:auto;line-height:normal;font-family:Menlo,'DejaVu Sans Mono',consolas,'Courier New',monospace\">-------------------------------------------------------------------------------------------------------------------\n",
       "                         Dataset = DOVES,       Model = gaussian,       Architecture: mlp+b|lin                    \n",
       "-------------------------------------------------------------------------------------------------------------------\n",
       "VAE:\n",
       "<span style=\"font-weight: bold\">{</span><span style=\"color: #008000; text-decoration-color: #008000\">'dataset'</span>: <span style=\"color: #008000; text-decoration-color: #008000\">'DOVES'</span>, <span style=\"color: #008000; text-decoration-color: #008000\">'n_ch'</span>: <span style=\"color: #008080; text-decoration-color: #008080; font-weight: bold\">16</span>, <span style=\"color: #008000; text-decoration-color: #008000\">'n_latents'</span>: <span style=\"color: #008080; text-decoration-color: #008080; font-weight: bold\">512</span>, <span style=\"color: #008000; text-decoration-color: #008000\">'enc_type'</span>: <span style=\"color: #008000; text-decoration-color: #008000\">'mlp'</span>, <span style=\"color: #008000; text-decoration-color: #008000\">'dec_type'</span>: <span style=\"color: #008000; text-decoration-color: #008000\">'lin'</span>, <span style=\"color: #008000; text-decoration-color: #008000\">'enc_bias'</span>: <span style=\"color: #00ff00; text-decoration-color: #00ff00; font-style: italic\">True</span>, \n",
       "<span style=\"color: #008000; text-decoration-color: #008000\">'dec_bias'</span>: <span style=\"color: #ff0000; text-decoration-color: #ff0000; font-style: italic\">False</span>, <span style=\"color: #008000; text-decoration-color: #008000\">'init_dist'</span>: <span style=\"color: #008000; text-decoration-color: #008000\">'Normal'</span>, <span style=\"color: #008000; text-decoration-color: #008000\">'init_scale'</span>: <span style=\"color: #008080; text-decoration-color: #008080; font-weight: bold\">0.05</span><span style=\"font-weight: bold\">}</span>\n",
       "\n",
       "Trainer:\n",
       "<span style=\"font-weight: bold\">{</span><span style=\"color: #008000; text-decoration-color: #008000\">'temp_anneal_portion'</span>: <span style=\"color: #008080; text-decoration-color: #008080; font-weight: bold\">0.0</span>, <span style=\"color: #008000; text-decoration-color: #008000\">'temp_stop'</span>: <span style=\"color: #008080; text-decoration-color: #008080; font-weight: bold\">1.0</span>, <span style=\"color: #008000; text-decoration-color: #008000\">'lr'</span>: <span style=\"color: #008080; text-decoration-color: #008080; font-weight: bold\">0.005</span>, <span style=\"color: #008000; text-decoration-color: #008000\">'batch_size'</span>: <span style=\"color: #008080; text-decoration-color: #008080; font-weight: bold\">1000</span>, <span style=\"color: #008000; text-decoration-color: #008000\">'epochs'</span>: <span style=\"color: #008080; text-decoration-color: #008080; font-weight: bold\">3000</span>, <span style=\"color: #008000; text-decoration-color: #008000\">'optimizer_kws'</span>: \n",
       "<span style=\"font-weight: bold\">{</span><span style=\"color: #008000; text-decoration-color: #008000\">'weight_decay'</span>: <span style=\"color: #008080; text-decoration-color: #008080; font-weight: bold\">0.0</span><span style=\"font-weight: bold\">}</span>, <span style=\"color: #008000; text-decoration-color: #008000\">'grad_clip'</span>: <span style=\"color: #008080; text-decoration-color: #008080; font-weight: bold\">500</span>, <span style=\"color: #008000; text-decoration-color: #008000\">'kl_const_portion'</span>: <span style=\"color: #008080; text-decoration-color: #008080; font-weight: bold\">0.0</span><span style=\"font-weight: bold\">}</span>\n",
       "-------------------------------------------------------------------------------------------------------------------\n",
       "\n",
       "\n",
       "\n",
       "</pre>\n"
      ],
      "text/plain": [
       "-------------------------------------------------------------------------------------------------------------------\n",
       "                         Dataset = DOVES,       Model = gaussian,       Architecture: mlp+b|lin                    \n",
       "-------------------------------------------------------------------------------------------------------------------\n",
       "VAE:\n",
       "\u001b[1m{\u001b[0m\u001b[32m'dataset'\u001b[0m: \u001b[32m'DOVES'\u001b[0m, \u001b[32m'n_ch'\u001b[0m: \u001b[1;36m16\u001b[0m, \u001b[32m'n_latents'\u001b[0m: \u001b[1;36m512\u001b[0m, \u001b[32m'enc_type'\u001b[0m: \u001b[32m'mlp'\u001b[0m, \u001b[32m'dec_type'\u001b[0m: \u001b[32m'lin'\u001b[0m, \u001b[32m'enc_bias'\u001b[0m: \u001b[3;92mTrue\u001b[0m, \n",
       "\u001b[32m'dec_bias'\u001b[0m: \u001b[3;91mFalse\u001b[0m, \u001b[32m'init_dist'\u001b[0m: \u001b[32m'Normal'\u001b[0m, \u001b[32m'init_scale'\u001b[0m: \u001b[1;36m0.05\u001b[0m\u001b[1m}\u001b[0m\n",
       "\n",
       "Trainer:\n",
       "\u001b[1m{\u001b[0m\u001b[32m'temp_anneal_portion'\u001b[0m: \u001b[1;36m0.0\u001b[0m, \u001b[32m'temp_stop'\u001b[0m: \u001b[1;36m1.0\u001b[0m, \u001b[32m'lr'\u001b[0m: \u001b[1;36m0.005\u001b[0m, \u001b[32m'batch_size'\u001b[0m: \u001b[1;36m1000\u001b[0m, \u001b[32m'epochs'\u001b[0m: \u001b[1;36m3000\u001b[0m, \u001b[32m'optimizer_kws'\u001b[0m: \n",
       "\u001b[1m{\u001b[0m\u001b[32m'weight_decay'\u001b[0m: \u001b[1;36m0.0\u001b[0m\u001b[1m}\u001b[0m, \u001b[32m'grad_clip'\u001b[0m: \u001b[1;36m500\u001b[0m, \u001b[32m'kl_const_portion'\u001b[0m: \u001b[1;36m0.0\u001b[0m\u001b[1m}\u001b[0m\n",
       "-------------------------------------------------------------------------------------------------------------------\n",
       "\n",
       "\n",
       "\n"
      ]
     },
     "metadata": {},
     "output_type": "display_data"
    },
    {
     "data": {
      "text/html": [
       "<pre style=\"white-space:pre;overflow-x:auto;line-height:normal;font-family:Menlo,'DejaVu Sans Mono',consolas,'Courier New',monospace\">-------------------------------------------------------------------------------------------------------------------\n",
       "                         Dataset = DOVES,       Model = gaussian,       Architecture: conv+b|lin                   \n",
       "-------------------------------------------------------------------------------------------------------------------\n",
       "VAE:\n",
       "<span style=\"font-weight: bold\">{</span><span style=\"color: #008000; text-decoration-color: #008000\">'dataset'</span>: <span style=\"color: #008000; text-decoration-color: #008000\">'DOVES'</span>, <span style=\"color: #008000; text-decoration-color: #008000\">'n_ch'</span>: <span style=\"color: #008080; text-decoration-color: #008080; font-weight: bold\">32</span>, <span style=\"color: #008000; text-decoration-color: #008000\">'n_latents'</span>: <span style=\"color: #008080; text-decoration-color: #008080; font-weight: bold\">512</span>, <span style=\"color: #008000; text-decoration-color: #008000\">'enc_type'</span>: <span style=\"color: #008000; text-decoration-color: #008000\">'conv'</span>, <span style=\"color: #008000; text-decoration-color: #008000\">'dec_type'</span>: <span style=\"color: #008000; text-decoration-color: #008000\">'lin'</span>, <span style=\"color: #008000; text-decoration-color: #008000\">'enc_bias'</span>: <span style=\"color: #00ff00; text-decoration-color: #00ff00; font-style: italic\">True</span>, \n",
       "<span style=\"color: #008000; text-decoration-color: #008000\">'dec_bias'</span>: <span style=\"color: #ff0000; text-decoration-color: #ff0000; font-style: italic\">False</span>, <span style=\"color: #008000; text-decoration-color: #008000\">'init_dist'</span>: <span style=\"color: #008000; text-decoration-color: #008000\">'Normal'</span>, <span style=\"color: #008000; text-decoration-color: #008000\">'init_scale'</span>: <span style=\"color: #008080; text-decoration-color: #008080; font-weight: bold\">0.05</span><span style=\"font-weight: bold\">}</span>\n",
       "\n",
       "Trainer:\n",
       "<span style=\"font-weight: bold\">{</span><span style=\"color: #008000; text-decoration-color: #008000\">'temp_anneal_portion'</span>: <span style=\"color: #008080; text-decoration-color: #008080; font-weight: bold\">0.0</span>, <span style=\"color: #008000; text-decoration-color: #008000\">'temp_stop'</span>: <span style=\"color: #008080; text-decoration-color: #008080; font-weight: bold\">1.0</span>, <span style=\"color: #008000; text-decoration-color: #008000\">'lr'</span>: <span style=\"color: #008080; text-decoration-color: #008080; font-weight: bold\">0.005</span>, <span style=\"color: #008000; text-decoration-color: #008000\">'batch_size'</span>: <span style=\"color: #008080; text-decoration-color: #008080; font-weight: bold\">1000</span>, <span style=\"color: #008000; text-decoration-color: #008000\">'epochs'</span>: <span style=\"color: #008080; text-decoration-color: #008080; font-weight: bold\">3000</span>, <span style=\"color: #008000; text-decoration-color: #008000\">'optimizer_kws'</span>: \n",
       "<span style=\"font-weight: bold\">{</span><span style=\"color: #008000; text-decoration-color: #008000\">'weight_decay'</span>: <span style=\"color: #008080; text-decoration-color: #008080; font-weight: bold\">0.0</span><span style=\"font-weight: bold\">}</span>, <span style=\"color: #008000; text-decoration-color: #008000\">'grad_clip'</span>: <span style=\"color: #008080; text-decoration-color: #008080; font-weight: bold\">500</span>, <span style=\"color: #008000; text-decoration-color: #008000\">'kl_const_portion'</span>: <span style=\"color: #008080; text-decoration-color: #008080; font-weight: bold\">0.0</span><span style=\"font-weight: bold\">}</span>\n",
       "-------------------------------------------------------------------------------------------------------------------\n",
       "\n",
       "\n",
       "\n",
       "</pre>\n"
      ],
      "text/plain": [
       "-------------------------------------------------------------------------------------------------------------------\n",
       "                         Dataset = DOVES,       Model = gaussian,       Architecture: conv+b|lin                   \n",
       "-------------------------------------------------------------------------------------------------------------------\n",
       "VAE:\n",
       "\u001b[1m{\u001b[0m\u001b[32m'dataset'\u001b[0m: \u001b[32m'DOVES'\u001b[0m, \u001b[32m'n_ch'\u001b[0m: \u001b[1;36m32\u001b[0m, \u001b[32m'n_latents'\u001b[0m: \u001b[1;36m512\u001b[0m, \u001b[32m'enc_type'\u001b[0m: \u001b[32m'conv'\u001b[0m, \u001b[32m'dec_type'\u001b[0m: \u001b[32m'lin'\u001b[0m, \u001b[32m'enc_bias'\u001b[0m: \u001b[3;92mTrue\u001b[0m, \n",
       "\u001b[32m'dec_bias'\u001b[0m: \u001b[3;91mFalse\u001b[0m, \u001b[32m'init_dist'\u001b[0m: \u001b[32m'Normal'\u001b[0m, \u001b[32m'init_scale'\u001b[0m: \u001b[1;36m0.05\u001b[0m\u001b[1m}\u001b[0m\n",
       "\n",
       "Trainer:\n",
       "\u001b[1m{\u001b[0m\u001b[32m'temp_anneal_portion'\u001b[0m: \u001b[1;36m0.0\u001b[0m, \u001b[32m'temp_stop'\u001b[0m: \u001b[1;36m1.0\u001b[0m, \u001b[32m'lr'\u001b[0m: \u001b[1;36m0.005\u001b[0m, \u001b[32m'batch_size'\u001b[0m: \u001b[1;36m1000\u001b[0m, \u001b[32m'epochs'\u001b[0m: \u001b[1;36m3000\u001b[0m, \u001b[32m'optimizer_kws'\u001b[0m: \n",
       "\u001b[1m{\u001b[0m\u001b[32m'weight_decay'\u001b[0m: \u001b[1;36m0.0\u001b[0m\u001b[1m}\u001b[0m, \u001b[32m'grad_clip'\u001b[0m: \u001b[1;36m500\u001b[0m, \u001b[32m'kl_const_portion'\u001b[0m: \u001b[1;36m0.0\u001b[0m\u001b[1m}\u001b[0m\n",
       "-------------------------------------------------------------------------------------------------------------------\n",
       "\n",
       "\n",
       "\n"
      ]
     },
     "metadata": {},
     "output_type": "display_data"
    },
    {
     "data": {
      "text/html": [
       "<pre style=\"white-space:pre;overflow-x:auto;line-height:normal;font-family:Menlo,'DejaVu Sans Mono',consolas,'Courier New',monospace\">-------------------------------------------------------------------------------------------------------------------\n",
       "                         Dataset = DOVES,       Model = gaussian,       Architecture: conv+b|conv+b                \n",
       "-------------------------------------------------------------------------------------------------------------------\n",
       "VAE:\n",
       "<span style=\"font-weight: bold\">{</span><span style=\"color: #008000; text-decoration-color: #008000\">'dataset'</span>: <span style=\"color: #008000; text-decoration-color: #008000\">'DOVES'</span>, <span style=\"color: #008000; text-decoration-color: #008000\">'n_ch'</span>: <span style=\"color: #008080; text-decoration-color: #008080; font-weight: bold\">32</span>, <span style=\"color: #008000; text-decoration-color: #008000\">'n_latents'</span>: <span style=\"color: #008080; text-decoration-color: #008080; font-weight: bold\">10</span>, <span style=\"color: #008000; text-decoration-color: #008000\">'enc_type'</span>: <span style=\"color: #008000; text-decoration-color: #008000\">'conv'</span>, <span style=\"color: #008000; text-decoration-color: #008000\">'dec_type'</span>: <span style=\"color: #008000; text-decoration-color: #008000\">'conv'</span>, <span style=\"color: #008000; text-decoration-color: #008000\">'enc_bias'</span>: <span style=\"color: #00ff00; text-decoration-color: #00ff00; font-style: italic\">True</span>, \n",
       "<span style=\"color: #008000; text-decoration-color: #008000\">'dec_bias'</span>: <span style=\"color: #00ff00; text-decoration-color: #00ff00; font-style: italic\">True</span>, <span style=\"color: #008000; text-decoration-color: #008000\">'init_dist'</span>: <span style=\"color: #008000; text-decoration-color: #008000\">'StudentT'</span>, <span style=\"color: #008000; text-decoration-color: #008000\">'init_scale'</span>: <span style=\"color: #008080; text-decoration-color: #008080; font-weight: bold\">0.1</span><span style=\"font-weight: bold\">}</span>\n",
       "\n",
       "Trainer:\n",
       "<span style=\"font-weight: bold\">{</span><span style=\"color: #008000; text-decoration-color: #008000\">'temp_anneal_portion'</span>: <span style=\"color: #008080; text-decoration-color: #008080; font-weight: bold\">0.0</span>, <span style=\"color: #008000; text-decoration-color: #008000\">'temp_stop'</span>: <span style=\"color: #008080; text-decoration-color: #008080; font-weight: bold\">1.0</span>, <span style=\"color: #008000; text-decoration-color: #008000\">'lr'</span>: <span style=\"color: #008080; text-decoration-color: #008080; font-weight: bold\">0.005</span>, <span style=\"color: #008000; text-decoration-color: #008000\">'batch_size'</span>: <span style=\"color: #008080; text-decoration-color: #008080; font-weight: bold\">1000</span>, <span style=\"color: #008000; text-decoration-color: #008000\">'epochs'</span>: <span style=\"color: #008080; text-decoration-color: #008080; font-weight: bold\">3000</span>, <span style=\"color: #008000; text-decoration-color: #008000\">'optimizer_kws'</span>: \n",
       "<span style=\"font-weight: bold\">{</span><span style=\"color: #008000; text-decoration-color: #008000\">'weight_decay'</span>: <span style=\"color: #008080; text-decoration-color: #008080; font-weight: bold\">0.0</span><span style=\"font-weight: bold\">}</span>, <span style=\"color: #008000; text-decoration-color: #008000\">'grad_clip'</span>: <span style=\"color: #008080; text-decoration-color: #008080; font-weight: bold\">500</span>, <span style=\"color: #008000; text-decoration-color: #008000\">'kl_const_portion'</span>: <span style=\"color: #008080; text-decoration-color: #008080; font-weight: bold\">0.01</span><span style=\"font-weight: bold\">}</span>\n",
       "-------------------------------------------------------------------------------------------------------------------\n",
       "\n",
       "\n",
       "\n",
       "</pre>\n"
      ],
      "text/plain": [
       "-------------------------------------------------------------------------------------------------------------------\n",
       "                         Dataset = DOVES,       Model = gaussian,       Architecture: conv+b|conv+b                \n",
       "-------------------------------------------------------------------------------------------------------------------\n",
       "VAE:\n",
       "\u001b[1m{\u001b[0m\u001b[32m'dataset'\u001b[0m: \u001b[32m'DOVES'\u001b[0m, \u001b[32m'n_ch'\u001b[0m: \u001b[1;36m32\u001b[0m, \u001b[32m'n_latents'\u001b[0m: \u001b[1;36m10\u001b[0m, \u001b[32m'enc_type'\u001b[0m: \u001b[32m'conv'\u001b[0m, \u001b[32m'dec_type'\u001b[0m: \u001b[32m'conv'\u001b[0m, \u001b[32m'enc_bias'\u001b[0m: \u001b[3;92mTrue\u001b[0m, \n",
       "\u001b[32m'dec_bias'\u001b[0m: \u001b[3;92mTrue\u001b[0m, \u001b[32m'init_dist'\u001b[0m: \u001b[32m'StudentT'\u001b[0m, \u001b[32m'init_scale'\u001b[0m: \u001b[1;36m0.1\u001b[0m\u001b[1m}\u001b[0m\n",
       "\n",
       "Trainer:\n",
       "\u001b[1m{\u001b[0m\u001b[32m'temp_anneal_portion'\u001b[0m: \u001b[1;36m0.0\u001b[0m, \u001b[32m'temp_stop'\u001b[0m: \u001b[1;36m1.0\u001b[0m, \u001b[32m'lr'\u001b[0m: \u001b[1;36m0.005\u001b[0m, \u001b[32m'batch_size'\u001b[0m: \u001b[1;36m1000\u001b[0m, \u001b[32m'epochs'\u001b[0m: \u001b[1;36m3000\u001b[0m, \u001b[32m'optimizer_kws'\u001b[0m: \n",
       "\u001b[1m{\u001b[0m\u001b[32m'weight_decay'\u001b[0m: \u001b[1;36m0.0\u001b[0m\u001b[1m}\u001b[0m, \u001b[32m'grad_clip'\u001b[0m: \u001b[1;36m500\u001b[0m, \u001b[32m'kl_const_portion'\u001b[0m: \u001b[1;36m0.01\u001b[0m\u001b[1m}\u001b[0m\n",
       "-------------------------------------------------------------------------------------------------------------------\n",
       "\n",
       "\n",
       "\n"
      ]
     },
     "metadata": {},
     "output_type": "display_data"
    },
    {
     "data": {
      "text/html": [
       "<pre style=\"white-space:pre;overflow-x:auto;line-height:normal;font-family:Menlo,'DejaVu Sans Mono',consolas,'Courier New',monospace\">-------------------------------------------------------------------------------------------------------------------\n",
       "                         Dataset = DOVES,       Model = laplace,       Architecture: lin|lin                       \n",
       "-------------------------------------------------------------------------------------------------------------------\n",
       "VAE:\n",
       "<span style=\"font-weight: bold\">{</span><span style=\"color: #008000; text-decoration-color: #008000\">'dataset'</span>: <span style=\"color: #008000; text-decoration-color: #008000\">'DOVES'</span>, <span style=\"color: #008000; text-decoration-color: #008000\">'n_ch'</span>: <span style=\"color: #008080; text-decoration-color: #008080; font-weight: bold\">32</span>, <span style=\"color: #008000; text-decoration-color: #008000\">'n_latents'</span>: <span style=\"color: #008080; text-decoration-color: #008080; font-weight: bold\">512</span>, <span style=\"color: #008000; text-decoration-color: #008000\">'enc_type'</span>: <span style=\"color: #008000; text-decoration-color: #008000\">'lin'</span>, <span style=\"color: #008000; text-decoration-color: #008000\">'dec_type'</span>: <span style=\"color: #008000; text-decoration-color: #008000\">'lin'</span>, <span style=\"color: #008000; text-decoration-color: #008000\">'enc_bias'</span>: <span style=\"color: #ff0000; text-decoration-color: #ff0000; font-style: italic\">False</span>, \n",
       "<span style=\"color: #008000; text-decoration-color: #008000\">'dec_bias'</span>: <span style=\"color: #ff0000; text-decoration-color: #ff0000; font-style: italic\">False</span>, <span style=\"color: #008000; text-decoration-color: #008000\">'init_dist'</span>: <span style=\"color: #008000; text-decoration-color: #008000\">'Normal'</span>, <span style=\"color: #008000; text-decoration-color: #008000\">'init_scale'</span>: <span style=\"color: #008080; text-decoration-color: #008080; font-weight: bold\">0.05</span><span style=\"font-weight: bold\">}</span>\n",
       "\n",
       "Trainer:\n",
       "<span style=\"font-weight: bold\">{</span><span style=\"color: #008000; text-decoration-color: #008000\">'temp_anneal_portion'</span>: <span style=\"color: #008080; text-decoration-color: #008080; font-weight: bold\">0.0</span>, <span style=\"color: #008000; text-decoration-color: #008000\">'temp_stop'</span>: <span style=\"color: #008080; text-decoration-color: #008080; font-weight: bold\">1.0</span>, <span style=\"color: #008000; text-decoration-color: #008000\">'lr'</span>: <span style=\"color: #008080; text-decoration-color: #008080; font-weight: bold\">0.005</span>, <span style=\"color: #008000; text-decoration-color: #008000\">'batch_size'</span>: <span style=\"color: #008080; text-decoration-color: #008080; font-weight: bold\">1000</span>, <span style=\"color: #008000; text-decoration-color: #008000\">'epochs'</span>: <span style=\"color: #008080; text-decoration-color: #008080; font-weight: bold\">3000</span>, <span style=\"color: #008000; text-decoration-color: #008000\">'optimizer_kws'</span>: \n",
       "<span style=\"font-weight: bold\">{</span><span style=\"color: #008000; text-decoration-color: #008000\">'weight_decay'</span>: <span style=\"color: #008080; text-decoration-color: #008080; font-weight: bold\">0.0</span><span style=\"font-weight: bold\">}</span>, <span style=\"color: #008000; text-decoration-color: #008000\">'grad_clip'</span>: <span style=\"color: #008080; text-decoration-color: #008080; font-weight: bold\">500</span>, <span style=\"color: #008000; text-decoration-color: #008000\">'kl_const_portion'</span>: <span style=\"color: #008080; text-decoration-color: #008080; font-weight: bold\">0.0</span><span style=\"font-weight: bold\">}</span>\n",
       "-------------------------------------------------------------------------------------------------------------------\n",
       "\n",
       "\n",
       "\n",
       "</pre>\n"
      ],
      "text/plain": [
       "-------------------------------------------------------------------------------------------------------------------\n",
       "                         Dataset = DOVES,       Model = laplace,       Architecture: lin|lin                       \n",
       "-------------------------------------------------------------------------------------------------------------------\n",
       "VAE:\n",
       "\u001b[1m{\u001b[0m\u001b[32m'dataset'\u001b[0m: \u001b[32m'DOVES'\u001b[0m, \u001b[32m'n_ch'\u001b[0m: \u001b[1;36m32\u001b[0m, \u001b[32m'n_latents'\u001b[0m: \u001b[1;36m512\u001b[0m, \u001b[32m'enc_type'\u001b[0m: \u001b[32m'lin'\u001b[0m, \u001b[32m'dec_type'\u001b[0m: \u001b[32m'lin'\u001b[0m, \u001b[32m'enc_bias'\u001b[0m: \u001b[3;91mFalse\u001b[0m, \n",
       "\u001b[32m'dec_bias'\u001b[0m: \u001b[3;91mFalse\u001b[0m, \u001b[32m'init_dist'\u001b[0m: \u001b[32m'Normal'\u001b[0m, \u001b[32m'init_scale'\u001b[0m: \u001b[1;36m0.05\u001b[0m\u001b[1m}\u001b[0m\n",
       "\n",
       "Trainer:\n",
       "\u001b[1m{\u001b[0m\u001b[32m'temp_anneal_portion'\u001b[0m: \u001b[1;36m0.0\u001b[0m, \u001b[32m'temp_stop'\u001b[0m: \u001b[1;36m1.0\u001b[0m, \u001b[32m'lr'\u001b[0m: \u001b[1;36m0.005\u001b[0m, \u001b[32m'batch_size'\u001b[0m: \u001b[1;36m1000\u001b[0m, \u001b[32m'epochs'\u001b[0m: \u001b[1;36m3000\u001b[0m, \u001b[32m'optimizer_kws'\u001b[0m: \n",
       "\u001b[1m{\u001b[0m\u001b[32m'weight_decay'\u001b[0m: \u001b[1;36m0.0\u001b[0m\u001b[1m}\u001b[0m, \u001b[32m'grad_clip'\u001b[0m: \u001b[1;36m500\u001b[0m, \u001b[32m'kl_const_portion'\u001b[0m: \u001b[1;36m0.0\u001b[0m\u001b[1m}\u001b[0m\n",
       "-------------------------------------------------------------------------------------------------------------------\n",
       "\n",
       "\n",
       "\n"
      ]
     },
     "metadata": {},
     "output_type": "display_data"
    },
    {
     "data": {
      "text/html": [
       "<pre style=\"white-space:pre;overflow-x:auto;line-height:normal;font-family:Menlo,'DejaVu Sans Mono',consolas,'Courier New',monospace\">-------------------------------------------------------------------------------------------------------------------\n",
       "                         Dataset = DOVES,       Model = laplace,       Architecture: mlp+b|lin                     \n",
       "-------------------------------------------------------------------------------------------------------------------\n",
       "VAE:\n",
       "<span style=\"font-weight: bold\">{</span><span style=\"color: #008000; text-decoration-color: #008000\">'dataset'</span>: <span style=\"color: #008000; text-decoration-color: #008000\">'DOVES'</span>, <span style=\"color: #008000; text-decoration-color: #008000\">'n_ch'</span>: <span style=\"color: #008080; text-decoration-color: #008080; font-weight: bold\">16</span>, <span style=\"color: #008000; text-decoration-color: #008000\">'n_latents'</span>: <span style=\"color: #008080; text-decoration-color: #008080; font-weight: bold\">512</span>, <span style=\"color: #008000; text-decoration-color: #008000\">'enc_type'</span>: <span style=\"color: #008000; text-decoration-color: #008000\">'mlp'</span>, <span style=\"color: #008000; text-decoration-color: #008000\">'dec_type'</span>: <span style=\"color: #008000; text-decoration-color: #008000\">'lin'</span>, <span style=\"color: #008000; text-decoration-color: #008000\">'enc_bias'</span>: <span style=\"color: #00ff00; text-decoration-color: #00ff00; font-style: italic\">True</span>, \n",
       "<span style=\"color: #008000; text-decoration-color: #008000\">'dec_bias'</span>: <span style=\"color: #ff0000; text-decoration-color: #ff0000; font-style: italic\">False</span>, <span style=\"color: #008000; text-decoration-color: #008000\">'init_dist'</span>: <span style=\"color: #008000; text-decoration-color: #008000\">'Normal'</span>, <span style=\"color: #008000; text-decoration-color: #008000\">'init_scale'</span>: <span style=\"color: #008080; text-decoration-color: #008080; font-weight: bold\">0.05</span><span style=\"font-weight: bold\">}</span>\n",
       "\n",
       "Trainer:\n",
       "<span style=\"font-weight: bold\">{</span><span style=\"color: #008000; text-decoration-color: #008000\">'temp_anneal_portion'</span>: <span style=\"color: #008080; text-decoration-color: #008080; font-weight: bold\">0.0</span>, <span style=\"color: #008000; text-decoration-color: #008000\">'temp_stop'</span>: <span style=\"color: #008080; text-decoration-color: #008080; font-weight: bold\">1.0</span>, <span style=\"color: #008000; text-decoration-color: #008000\">'lr'</span>: <span style=\"color: #008080; text-decoration-color: #008080; font-weight: bold\">0.005</span>, <span style=\"color: #008000; text-decoration-color: #008000\">'batch_size'</span>: <span style=\"color: #008080; text-decoration-color: #008080; font-weight: bold\">1000</span>, <span style=\"color: #008000; text-decoration-color: #008000\">'epochs'</span>: <span style=\"color: #008080; text-decoration-color: #008080; font-weight: bold\">3000</span>, <span style=\"color: #008000; text-decoration-color: #008000\">'optimizer_kws'</span>: \n",
       "<span style=\"font-weight: bold\">{</span><span style=\"color: #008000; text-decoration-color: #008000\">'weight_decay'</span>: <span style=\"color: #008080; text-decoration-color: #008080; font-weight: bold\">0.0</span><span style=\"font-weight: bold\">}</span>, <span style=\"color: #008000; text-decoration-color: #008000\">'grad_clip'</span>: <span style=\"color: #008080; text-decoration-color: #008080; font-weight: bold\">500</span>, <span style=\"color: #008000; text-decoration-color: #008000\">'kl_const_portion'</span>: <span style=\"color: #008080; text-decoration-color: #008080; font-weight: bold\">0.0</span><span style=\"font-weight: bold\">}</span>\n",
       "-------------------------------------------------------------------------------------------------------------------\n",
       "\n",
       "\n",
       "\n",
       "</pre>\n"
      ],
      "text/plain": [
       "-------------------------------------------------------------------------------------------------------------------\n",
       "                         Dataset = DOVES,       Model = laplace,       Architecture: mlp+b|lin                     \n",
       "-------------------------------------------------------------------------------------------------------------------\n",
       "VAE:\n",
       "\u001b[1m{\u001b[0m\u001b[32m'dataset'\u001b[0m: \u001b[32m'DOVES'\u001b[0m, \u001b[32m'n_ch'\u001b[0m: \u001b[1;36m16\u001b[0m, \u001b[32m'n_latents'\u001b[0m: \u001b[1;36m512\u001b[0m, \u001b[32m'enc_type'\u001b[0m: \u001b[32m'mlp'\u001b[0m, \u001b[32m'dec_type'\u001b[0m: \u001b[32m'lin'\u001b[0m, \u001b[32m'enc_bias'\u001b[0m: \u001b[3;92mTrue\u001b[0m, \n",
       "\u001b[32m'dec_bias'\u001b[0m: \u001b[3;91mFalse\u001b[0m, \u001b[32m'init_dist'\u001b[0m: \u001b[32m'Normal'\u001b[0m, \u001b[32m'init_scale'\u001b[0m: \u001b[1;36m0.05\u001b[0m\u001b[1m}\u001b[0m\n",
       "\n",
       "Trainer:\n",
       "\u001b[1m{\u001b[0m\u001b[32m'temp_anneal_portion'\u001b[0m: \u001b[1;36m0.0\u001b[0m, \u001b[32m'temp_stop'\u001b[0m: \u001b[1;36m1.0\u001b[0m, \u001b[32m'lr'\u001b[0m: \u001b[1;36m0.005\u001b[0m, \u001b[32m'batch_size'\u001b[0m: \u001b[1;36m1000\u001b[0m, \u001b[32m'epochs'\u001b[0m: \u001b[1;36m3000\u001b[0m, \u001b[32m'optimizer_kws'\u001b[0m: \n",
       "\u001b[1m{\u001b[0m\u001b[32m'weight_decay'\u001b[0m: \u001b[1;36m0.0\u001b[0m\u001b[1m}\u001b[0m, \u001b[32m'grad_clip'\u001b[0m: \u001b[1;36m500\u001b[0m, \u001b[32m'kl_const_portion'\u001b[0m: \u001b[1;36m0.0\u001b[0m\u001b[1m}\u001b[0m\n",
       "-------------------------------------------------------------------------------------------------------------------\n",
       "\n",
       "\n",
       "\n"
      ]
     },
     "metadata": {},
     "output_type": "display_data"
    },
    {
     "data": {
      "text/html": [
       "<pre style=\"white-space:pre;overflow-x:auto;line-height:normal;font-family:Menlo,'DejaVu Sans Mono',consolas,'Courier New',monospace\">-------------------------------------------------------------------------------------------------------------------\n",
       "                         Dataset = DOVES,       Model = laplace,       Architecture: conv+b|lin                    \n",
       "-------------------------------------------------------------------------------------------------------------------\n",
       "VAE:\n",
       "<span style=\"font-weight: bold\">{</span><span style=\"color: #008000; text-decoration-color: #008000\">'dataset'</span>: <span style=\"color: #008000; text-decoration-color: #008000\">'DOVES'</span>, <span style=\"color: #008000; text-decoration-color: #008000\">'n_ch'</span>: <span style=\"color: #008080; text-decoration-color: #008080; font-weight: bold\">32</span>, <span style=\"color: #008000; text-decoration-color: #008000\">'n_latents'</span>: <span style=\"color: #008080; text-decoration-color: #008080; font-weight: bold\">512</span>, <span style=\"color: #008000; text-decoration-color: #008000\">'enc_type'</span>: <span style=\"color: #008000; text-decoration-color: #008000\">'conv'</span>, <span style=\"color: #008000; text-decoration-color: #008000\">'dec_type'</span>: <span style=\"color: #008000; text-decoration-color: #008000\">'lin'</span>, <span style=\"color: #008000; text-decoration-color: #008000\">'enc_bias'</span>: <span style=\"color: #00ff00; text-decoration-color: #00ff00; font-style: italic\">True</span>, \n",
       "<span style=\"color: #008000; text-decoration-color: #008000\">'dec_bias'</span>: <span style=\"color: #ff0000; text-decoration-color: #ff0000; font-style: italic\">False</span>, <span style=\"color: #008000; text-decoration-color: #008000\">'init_dist'</span>: <span style=\"color: #008000; text-decoration-color: #008000\">'Normal'</span>, <span style=\"color: #008000; text-decoration-color: #008000\">'init_scale'</span>: <span style=\"color: #008080; text-decoration-color: #008080; font-weight: bold\">0.05</span><span style=\"font-weight: bold\">}</span>\n",
       "\n",
       "Trainer:\n",
       "<span style=\"font-weight: bold\">{</span><span style=\"color: #008000; text-decoration-color: #008000\">'temp_anneal_portion'</span>: <span style=\"color: #008080; text-decoration-color: #008080; font-weight: bold\">0.0</span>, <span style=\"color: #008000; text-decoration-color: #008000\">'temp_stop'</span>: <span style=\"color: #008080; text-decoration-color: #008080; font-weight: bold\">1.0</span>, <span style=\"color: #008000; text-decoration-color: #008000\">'lr'</span>: <span style=\"color: #008080; text-decoration-color: #008080; font-weight: bold\">0.005</span>, <span style=\"color: #008000; text-decoration-color: #008000\">'batch_size'</span>: <span style=\"color: #008080; text-decoration-color: #008080; font-weight: bold\">1000</span>, <span style=\"color: #008000; text-decoration-color: #008000\">'epochs'</span>: <span style=\"color: #008080; text-decoration-color: #008080; font-weight: bold\">3000</span>, <span style=\"color: #008000; text-decoration-color: #008000\">'optimizer_kws'</span>: \n",
       "<span style=\"font-weight: bold\">{</span><span style=\"color: #008000; text-decoration-color: #008000\">'weight_decay'</span>: <span style=\"color: #008080; text-decoration-color: #008080; font-weight: bold\">0.0</span><span style=\"font-weight: bold\">}</span>, <span style=\"color: #008000; text-decoration-color: #008000\">'grad_clip'</span>: <span style=\"color: #008080; text-decoration-color: #008080; font-weight: bold\">500</span>, <span style=\"color: #008000; text-decoration-color: #008000\">'kl_const_portion'</span>: <span style=\"color: #008080; text-decoration-color: #008080; font-weight: bold\">0.0</span><span style=\"font-weight: bold\">}</span>\n",
       "-------------------------------------------------------------------------------------------------------------------\n",
       "\n",
       "\n",
       "\n",
       "</pre>\n"
      ],
      "text/plain": [
       "-------------------------------------------------------------------------------------------------------------------\n",
       "                         Dataset = DOVES,       Model = laplace,       Architecture: conv+b|lin                    \n",
       "-------------------------------------------------------------------------------------------------------------------\n",
       "VAE:\n",
       "\u001b[1m{\u001b[0m\u001b[32m'dataset'\u001b[0m: \u001b[32m'DOVES'\u001b[0m, \u001b[32m'n_ch'\u001b[0m: \u001b[1;36m32\u001b[0m, \u001b[32m'n_latents'\u001b[0m: \u001b[1;36m512\u001b[0m, \u001b[32m'enc_type'\u001b[0m: \u001b[32m'conv'\u001b[0m, \u001b[32m'dec_type'\u001b[0m: \u001b[32m'lin'\u001b[0m, \u001b[32m'enc_bias'\u001b[0m: \u001b[3;92mTrue\u001b[0m, \n",
       "\u001b[32m'dec_bias'\u001b[0m: \u001b[3;91mFalse\u001b[0m, \u001b[32m'init_dist'\u001b[0m: \u001b[32m'Normal'\u001b[0m, \u001b[32m'init_scale'\u001b[0m: \u001b[1;36m0.05\u001b[0m\u001b[1m}\u001b[0m\n",
       "\n",
       "Trainer:\n",
       "\u001b[1m{\u001b[0m\u001b[32m'temp_anneal_portion'\u001b[0m: \u001b[1;36m0.0\u001b[0m, \u001b[32m'temp_stop'\u001b[0m: \u001b[1;36m1.0\u001b[0m, \u001b[32m'lr'\u001b[0m: \u001b[1;36m0.005\u001b[0m, \u001b[32m'batch_size'\u001b[0m: \u001b[1;36m1000\u001b[0m, \u001b[32m'epochs'\u001b[0m: \u001b[1;36m3000\u001b[0m, \u001b[32m'optimizer_kws'\u001b[0m: \n",
       "\u001b[1m{\u001b[0m\u001b[32m'weight_decay'\u001b[0m: \u001b[1;36m0.0\u001b[0m\u001b[1m}\u001b[0m, \u001b[32m'grad_clip'\u001b[0m: \u001b[1;36m500\u001b[0m, \u001b[32m'kl_const_portion'\u001b[0m: \u001b[1;36m0.0\u001b[0m\u001b[1m}\u001b[0m\n",
       "-------------------------------------------------------------------------------------------------------------------\n",
       "\n",
       "\n",
       "\n"
      ]
     },
     "metadata": {},
     "output_type": "display_data"
    },
    {
     "data": {
      "text/html": [
       "<pre style=\"white-space:pre;overflow-x:auto;line-height:normal;font-family:Menlo,'DejaVu Sans Mono',consolas,'Courier New',monospace\">-------------------------------------------------------------------------------------------------------------------\n",
       "                         Dataset = DOVES,       Model = laplace,       Architecture: conv+b|conv+b                 \n",
       "-------------------------------------------------------------------------------------------------------------------\n",
       "VAE:\n",
       "<span style=\"font-weight: bold\">{</span><span style=\"color: #008000; text-decoration-color: #008000\">'dataset'</span>: <span style=\"color: #008000; text-decoration-color: #008000\">'DOVES'</span>, <span style=\"color: #008000; text-decoration-color: #008000\">'n_ch'</span>: <span style=\"color: #008080; text-decoration-color: #008080; font-weight: bold\">32</span>, <span style=\"color: #008000; text-decoration-color: #008000\">'n_latents'</span>: <span style=\"color: #008080; text-decoration-color: #008080; font-weight: bold\">10</span>, <span style=\"color: #008000; text-decoration-color: #008000\">'enc_type'</span>: <span style=\"color: #008000; text-decoration-color: #008000\">'conv'</span>, <span style=\"color: #008000; text-decoration-color: #008000\">'dec_type'</span>: <span style=\"color: #008000; text-decoration-color: #008000\">'conv'</span>, <span style=\"color: #008000; text-decoration-color: #008000\">'enc_bias'</span>: <span style=\"color: #00ff00; text-decoration-color: #00ff00; font-style: italic\">True</span>, \n",
       "<span style=\"color: #008000; text-decoration-color: #008000\">'dec_bias'</span>: <span style=\"color: #00ff00; text-decoration-color: #00ff00; font-style: italic\">True</span>, <span style=\"color: #008000; text-decoration-color: #008000\">'init_dist'</span>: <span style=\"color: #008000; text-decoration-color: #008000\">'StudentT'</span>, <span style=\"color: #008000; text-decoration-color: #008000\">'init_scale'</span>: <span style=\"color: #008080; text-decoration-color: #008080; font-weight: bold\">0.1</span><span style=\"font-weight: bold\">}</span>\n",
       "\n",
       "Trainer:\n",
       "<span style=\"font-weight: bold\">{</span><span style=\"color: #008000; text-decoration-color: #008000\">'temp_anneal_portion'</span>: <span style=\"color: #008080; text-decoration-color: #008080; font-weight: bold\">0.0</span>, <span style=\"color: #008000; text-decoration-color: #008000\">'temp_stop'</span>: <span style=\"color: #008080; text-decoration-color: #008080; font-weight: bold\">1.0</span>, <span style=\"color: #008000; text-decoration-color: #008000\">'lr'</span>: <span style=\"color: #008080; text-decoration-color: #008080; font-weight: bold\">0.005</span>, <span style=\"color: #008000; text-decoration-color: #008000\">'batch_size'</span>: <span style=\"color: #008080; text-decoration-color: #008080; font-weight: bold\">1000</span>, <span style=\"color: #008000; text-decoration-color: #008000\">'epochs'</span>: <span style=\"color: #008080; text-decoration-color: #008080; font-weight: bold\">3000</span>, <span style=\"color: #008000; text-decoration-color: #008000\">'optimizer_kws'</span>: \n",
       "<span style=\"font-weight: bold\">{</span><span style=\"color: #008000; text-decoration-color: #008000\">'weight_decay'</span>: <span style=\"color: #008080; text-decoration-color: #008080; font-weight: bold\">0.0</span><span style=\"font-weight: bold\">}</span>, <span style=\"color: #008000; text-decoration-color: #008000\">'grad_clip'</span>: <span style=\"color: #008080; text-decoration-color: #008080; font-weight: bold\">500</span>, <span style=\"color: #008000; text-decoration-color: #008000\">'kl_const_portion'</span>: <span style=\"color: #008080; text-decoration-color: #008080; font-weight: bold\">0.01</span><span style=\"font-weight: bold\">}</span>\n",
       "-------------------------------------------------------------------------------------------------------------------\n",
       "\n",
       "\n",
       "\n",
       "</pre>\n"
      ],
      "text/plain": [
       "-------------------------------------------------------------------------------------------------------------------\n",
       "                         Dataset = DOVES,       Model = laplace,       Architecture: conv+b|conv+b                 \n",
       "-------------------------------------------------------------------------------------------------------------------\n",
       "VAE:\n",
       "\u001b[1m{\u001b[0m\u001b[32m'dataset'\u001b[0m: \u001b[32m'DOVES'\u001b[0m, \u001b[32m'n_ch'\u001b[0m: \u001b[1;36m32\u001b[0m, \u001b[32m'n_latents'\u001b[0m: \u001b[1;36m10\u001b[0m, \u001b[32m'enc_type'\u001b[0m: \u001b[32m'conv'\u001b[0m, \u001b[32m'dec_type'\u001b[0m: \u001b[32m'conv'\u001b[0m, \u001b[32m'enc_bias'\u001b[0m: \u001b[3;92mTrue\u001b[0m, \n",
       "\u001b[32m'dec_bias'\u001b[0m: \u001b[3;92mTrue\u001b[0m, \u001b[32m'init_dist'\u001b[0m: \u001b[32m'StudentT'\u001b[0m, \u001b[32m'init_scale'\u001b[0m: \u001b[1;36m0.1\u001b[0m\u001b[1m}\u001b[0m\n",
       "\n",
       "Trainer:\n",
       "\u001b[1m{\u001b[0m\u001b[32m'temp_anneal_portion'\u001b[0m: \u001b[1;36m0.0\u001b[0m, \u001b[32m'temp_stop'\u001b[0m: \u001b[1;36m1.0\u001b[0m, \u001b[32m'lr'\u001b[0m: \u001b[1;36m0.005\u001b[0m, \u001b[32m'batch_size'\u001b[0m: \u001b[1;36m1000\u001b[0m, \u001b[32m'epochs'\u001b[0m: \u001b[1;36m3000\u001b[0m, \u001b[32m'optimizer_kws'\u001b[0m: \n",
       "\u001b[1m{\u001b[0m\u001b[32m'weight_decay'\u001b[0m: \u001b[1;36m0.0\u001b[0m\u001b[1m}\u001b[0m, \u001b[32m'grad_clip'\u001b[0m: \u001b[1;36m500\u001b[0m, \u001b[32m'kl_const_portion'\u001b[0m: \u001b[1;36m0.01\u001b[0m\u001b[1m}\u001b[0m\n",
       "-------------------------------------------------------------------------------------------------------------------\n",
       "\n",
       "\n",
       "\n"
      ]
     },
     "metadata": {},
     "output_type": "display_data"
    },
    {
     "data": {
      "text/html": [
       "<pre style=\"white-space:pre;overflow-x:auto;line-height:normal;font-family:Menlo,'DejaVu Sans Mono',consolas,'Courier New',monospace\">-------------------------------------------------------------------------------------------------------------------\n",
       "                         Dataset = CIFAR10-PATCHES,       Model = poisson,       Architecture: lin|lin             \n",
       "-------------------------------------------------------------------------------------------------------------------\n",
       "VAE:\n",
       "<span style=\"font-weight: bold\">{</span><span style=\"color: #008000; text-decoration-color: #008000\">'dataset'</span>: <span style=\"color: #008000; text-decoration-color: #008000\">'CIFAR10-PATCHES'</span>, <span style=\"color: #008000; text-decoration-color: #008000\">'n_ch'</span>: <span style=\"color: #008080; text-decoration-color: #008080; font-weight: bold\">32</span>, <span style=\"color: #008000; text-decoration-color: #008000\">'n_latents'</span>: <span style=\"color: #008080; text-decoration-color: #008080; font-weight: bold\">512</span>, <span style=\"color: #008000; text-decoration-color: #008000\">'prior_clamp'</span>: <span style=\"color: #008080; text-decoration-color: #008080; font-weight: bold\">-4</span>, <span style=\"color: #008000; text-decoration-color: #008000\">'fit_prior'</span>: <span style=\"color: #00ff00; text-decoration-color: #00ff00; font-style: italic\">True</span>, <span style=\"color: #008000; text-decoration-color: #008000\">'enc_type'</span>: \n",
       "<span style=\"color: #008000; text-decoration-color: #008000\">'lin'</span>, <span style=\"color: #008000; text-decoration-color: #008000\">'dec_type'</span>: <span style=\"color: #008000; text-decoration-color: #008000\">'lin'</span>, <span style=\"color: #008000; text-decoration-color: #008000\">'enc_bias'</span>: <span style=\"color: #ff0000; text-decoration-color: #ff0000; font-style: italic\">False</span>, <span style=\"color: #008000; text-decoration-color: #008000\">'dec_bias'</span>: <span style=\"color: #ff0000; text-decoration-color: #ff0000; font-style: italic\">False</span>, <span style=\"color: #008000; text-decoration-color: #008000\">'init_dist'</span>: <span style=\"color: #008000; text-decoration-color: #008000\">'Normal'</span>, <span style=\"color: #008000; text-decoration-color: #008000\">'init_scale'</span>: <span style=\"color: #008080; text-decoration-color: #008080; font-weight: bold\">0.05</span><span style=\"font-weight: bold\">}</span>\n",
       "\n",
       "Trainer:\n",
       "<span style=\"font-weight: bold\">{</span><span style=\"color: #008000; text-decoration-color: #008000\">'lr'</span>: <span style=\"color: #008080; text-decoration-color: #008080; font-weight: bold\">0.005</span>, <span style=\"color: #008000; text-decoration-color: #008000\">'batch_size'</span>: <span style=\"color: #008080; text-decoration-color: #008080; font-weight: bold\">1000</span>, <span style=\"color: #008000; text-decoration-color: #008000\">'epochs'</span>: <span style=\"color: #008080; text-decoration-color: #008080; font-weight: bold\">1500</span>, <span style=\"color: #008000; text-decoration-color: #008000\">'optimizer_kws'</span>: <span style=\"font-weight: bold\">{</span><span style=\"color: #008000; text-decoration-color: #008000\">'weight_decay'</span>: <span style=\"color: #008080; text-decoration-color: #008080; font-weight: bold\">0.0</span><span style=\"font-weight: bold\">}</span>, <span style=\"color: #008000; text-decoration-color: #008000\">'grad_clip'</span>: <span style=\"color: #008080; text-decoration-color: #008080; font-weight: bold\">500</span>, \n",
       "<span style=\"color: #008000; text-decoration-color: #008000\">'kl_const_portion'</span>: <span style=\"color: #008080; text-decoration-color: #008080; font-weight: bold\">0.0</span><span style=\"font-weight: bold\">}</span>\n",
       "-------------------------------------------------------------------------------------------------------------------\n",
       "\n",
       "\n",
       "\n",
       "</pre>\n"
      ],
      "text/plain": [
       "-------------------------------------------------------------------------------------------------------------------\n",
       "                         Dataset = CIFAR10-PATCHES,       Model = poisson,       Architecture: lin|lin             \n",
       "-------------------------------------------------------------------------------------------------------------------\n",
       "VAE:\n",
       "\u001b[1m{\u001b[0m\u001b[32m'dataset'\u001b[0m: \u001b[32m'CIFAR10-PATCHES'\u001b[0m, \u001b[32m'n_ch'\u001b[0m: \u001b[1;36m32\u001b[0m, \u001b[32m'n_latents'\u001b[0m: \u001b[1;36m512\u001b[0m, \u001b[32m'prior_clamp'\u001b[0m: \u001b[1;36m-4\u001b[0m, \u001b[32m'fit_prior'\u001b[0m: \u001b[3;92mTrue\u001b[0m, \u001b[32m'enc_type'\u001b[0m: \n",
       "\u001b[32m'lin'\u001b[0m, \u001b[32m'dec_type'\u001b[0m: \u001b[32m'lin'\u001b[0m, \u001b[32m'enc_bias'\u001b[0m: \u001b[3;91mFalse\u001b[0m, \u001b[32m'dec_bias'\u001b[0m: \u001b[3;91mFalse\u001b[0m, \u001b[32m'init_dist'\u001b[0m: \u001b[32m'Normal'\u001b[0m, \u001b[32m'init_scale'\u001b[0m: \u001b[1;36m0.05\u001b[0m\u001b[1m}\u001b[0m\n",
       "\n",
       "Trainer:\n",
       "\u001b[1m{\u001b[0m\u001b[32m'lr'\u001b[0m: \u001b[1;36m0.005\u001b[0m, \u001b[32m'batch_size'\u001b[0m: \u001b[1;36m1000\u001b[0m, \u001b[32m'epochs'\u001b[0m: \u001b[1;36m1500\u001b[0m, \u001b[32m'optimizer_kws'\u001b[0m: \u001b[1m{\u001b[0m\u001b[32m'weight_decay'\u001b[0m: \u001b[1;36m0.0\u001b[0m\u001b[1m}\u001b[0m, \u001b[32m'grad_clip'\u001b[0m: \u001b[1;36m500\u001b[0m, \n",
       "\u001b[32m'kl_const_portion'\u001b[0m: \u001b[1;36m0.0\u001b[0m\u001b[1m}\u001b[0m\n",
       "-------------------------------------------------------------------------------------------------------------------\n",
       "\n",
       "\n",
       "\n"
      ]
     },
     "metadata": {},
     "output_type": "display_data"
    },
    {
     "data": {
      "text/html": [
       "<pre style=\"white-space:pre;overflow-x:auto;line-height:normal;font-family:Menlo,'DejaVu Sans Mono',consolas,'Courier New',monospace\">-------------------------------------------------------------------------------------------------------------------\n",
       "                         Dataset = CIFAR10-PATCHES,       Model = poisson,       Architecture: mlp+b|lin           \n",
       "-------------------------------------------------------------------------------------------------------------------\n",
       "VAE:\n",
       "<span style=\"font-weight: bold\">{</span><span style=\"color: #008000; text-decoration-color: #008000\">'dataset'</span>: <span style=\"color: #008000; text-decoration-color: #008000\">'CIFAR10-PATCHES'</span>, <span style=\"color: #008000; text-decoration-color: #008000\">'n_ch'</span>: <span style=\"color: #008080; text-decoration-color: #008080; font-weight: bold\">16</span>, <span style=\"color: #008000; text-decoration-color: #008000\">'n_latents'</span>: <span style=\"color: #008080; text-decoration-color: #008080; font-weight: bold\">512</span>, <span style=\"color: #008000; text-decoration-color: #008000\">'prior_clamp'</span>: <span style=\"color: #008080; text-decoration-color: #008080; font-weight: bold\">-4</span>, <span style=\"color: #008000; text-decoration-color: #008000\">'fit_prior'</span>: <span style=\"color: #00ff00; text-decoration-color: #00ff00; font-style: italic\">True</span>, <span style=\"color: #008000; text-decoration-color: #008000\">'enc_type'</span>: \n",
       "<span style=\"color: #008000; text-decoration-color: #008000\">'mlp'</span>, <span style=\"color: #008000; text-decoration-color: #008000\">'dec_type'</span>: <span style=\"color: #008000; text-decoration-color: #008000\">'lin'</span>, <span style=\"color: #008000; text-decoration-color: #008000\">'enc_bias'</span>: <span style=\"color: #00ff00; text-decoration-color: #00ff00; font-style: italic\">True</span>, <span style=\"color: #008000; text-decoration-color: #008000\">'dec_bias'</span>: <span style=\"color: #ff0000; text-decoration-color: #ff0000; font-style: italic\">False</span>, <span style=\"color: #008000; text-decoration-color: #008000\">'init_dist'</span>: <span style=\"color: #008000; text-decoration-color: #008000\">'Normal'</span>, <span style=\"color: #008000; text-decoration-color: #008000\">'init_scale'</span>: <span style=\"color: #008080; text-decoration-color: #008080; font-weight: bold\">0.05</span><span style=\"font-weight: bold\">}</span>\n",
       "\n",
       "Trainer:\n",
       "<span style=\"font-weight: bold\">{</span><span style=\"color: #008000; text-decoration-color: #008000\">'lr'</span>: <span style=\"color: #008080; text-decoration-color: #008080; font-weight: bold\">0.005</span>, <span style=\"color: #008000; text-decoration-color: #008000\">'batch_size'</span>: <span style=\"color: #008080; text-decoration-color: #008080; font-weight: bold\">1000</span>, <span style=\"color: #008000; text-decoration-color: #008000\">'epochs'</span>: <span style=\"color: #008080; text-decoration-color: #008080; font-weight: bold\">1500</span>, <span style=\"color: #008000; text-decoration-color: #008000\">'optimizer_kws'</span>: <span style=\"font-weight: bold\">{</span><span style=\"color: #008000; text-decoration-color: #008000\">'weight_decay'</span>: <span style=\"color: #008080; text-decoration-color: #008080; font-weight: bold\">0.0</span><span style=\"font-weight: bold\">}</span>, <span style=\"color: #008000; text-decoration-color: #008000\">'grad_clip'</span>: <span style=\"color: #008080; text-decoration-color: #008080; font-weight: bold\">500</span>, \n",
       "<span style=\"color: #008000; text-decoration-color: #008000\">'kl_const_portion'</span>: <span style=\"color: #008080; text-decoration-color: #008080; font-weight: bold\">0.0</span><span style=\"font-weight: bold\">}</span>\n",
       "-------------------------------------------------------------------------------------------------------------------\n",
       "\n",
       "\n",
       "\n",
       "</pre>\n"
      ],
      "text/plain": [
       "-------------------------------------------------------------------------------------------------------------------\n",
       "                         Dataset = CIFAR10-PATCHES,       Model = poisson,       Architecture: mlp+b|lin           \n",
       "-------------------------------------------------------------------------------------------------------------------\n",
       "VAE:\n",
       "\u001b[1m{\u001b[0m\u001b[32m'dataset'\u001b[0m: \u001b[32m'CIFAR10-PATCHES'\u001b[0m, \u001b[32m'n_ch'\u001b[0m: \u001b[1;36m16\u001b[0m, \u001b[32m'n_latents'\u001b[0m: \u001b[1;36m512\u001b[0m, \u001b[32m'prior_clamp'\u001b[0m: \u001b[1;36m-4\u001b[0m, \u001b[32m'fit_prior'\u001b[0m: \u001b[3;92mTrue\u001b[0m, \u001b[32m'enc_type'\u001b[0m: \n",
       "\u001b[32m'mlp'\u001b[0m, \u001b[32m'dec_type'\u001b[0m: \u001b[32m'lin'\u001b[0m, \u001b[32m'enc_bias'\u001b[0m: \u001b[3;92mTrue\u001b[0m, \u001b[32m'dec_bias'\u001b[0m: \u001b[3;91mFalse\u001b[0m, \u001b[32m'init_dist'\u001b[0m: \u001b[32m'Normal'\u001b[0m, \u001b[32m'init_scale'\u001b[0m: \u001b[1;36m0.05\u001b[0m\u001b[1m}\u001b[0m\n",
       "\n",
       "Trainer:\n",
       "\u001b[1m{\u001b[0m\u001b[32m'lr'\u001b[0m: \u001b[1;36m0.005\u001b[0m, \u001b[32m'batch_size'\u001b[0m: \u001b[1;36m1000\u001b[0m, \u001b[32m'epochs'\u001b[0m: \u001b[1;36m1500\u001b[0m, \u001b[32m'optimizer_kws'\u001b[0m: \u001b[1m{\u001b[0m\u001b[32m'weight_decay'\u001b[0m: \u001b[1;36m0.0\u001b[0m\u001b[1m}\u001b[0m, \u001b[32m'grad_clip'\u001b[0m: \u001b[1;36m500\u001b[0m, \n",
       "\u001b[32m'kl_const_portion'\u001b[0m: \u001b[1;36m0.0\u001b[0m\u001b[1m}\u001b[0m\n",
       "-------------------------------------------------------------------------------------------------------------------\n",
       "\n",
       "\n",
       "\n"
      ]
     },
     "metadata": {},
     "output_type": "display_data"
    },
    {
     "data": {
      "text/html": [
       "<pre style=\"white-space:pre;overflow-x:auto;line-height:normal;font-family:Menlo,'DejaVu Sans Mono',consolas,'Courier New',monospace\">-------------------------------------------------------------------------------------------------------------------\n",
       "                         Dataset = CIFAR10-PATCHES,       Model = poisson,       Architecture: conv+b|lin          \n",
       "-------------------------------------------------------------------------------------------------------------------\n",
       "VAE:\n",
       "<span style=\"font-weight: bold\">{</span><span style=\"color: #008000; text-decoration-color: #008000\">'dataset'</span>: <span style=\"color: #008000; text-decoration-color: #008000\">'CIFAR10-PATCHES'</span>, <span style=\"color: #008000; text-decoration-color: #008000\">'n_ch'</span>: <span style=\"color: #008080; text-decoration-color: #008080; font-weight: bold\">32</span>, <span style=\"color: #008000; text-decoration-color: #008000\">'n_latents'</span>: <span style=\"color: #008080; text-decoration-color: #008080; font-weight: bold\">512</span>, <span style=\"color: #008000; text-decoration-color: #008000\">'prior_clamp'</span>: <span style=\"color: #008080; text-decoration-color: #008080; font-weight: bold\">-4</span>, <span style=\"color: #008000; text-decoration-color: #008000\">'fit_prior'</span>: <span style=\"color: #00ff00; text-decoration-color: #00ff00; font-style: italic\">True</span>, <span style=\"color: #008000; text-decoration-color: #008000\">'enc_type'</span>: \n",
       "<span style=\"color: #008000; text-decoration-color: #008000\">'conv'</span>, <span style=\"color: #008000; text-decoration-color: #008000\">'dec_type'</span>: <span style=\"color: #008000; text-decoration-color: #008000\">'lin'</span>, <span style=\"color: #008000; text-decoration-color: #008000\">'enc_bias'</span>: <span style=\"color: #00ff00; text-decoration-color: #00ff00; font-style: italic\">True</span>, <span style=\"color: #008000; text-decoration-color: #008000\">'dec_bias'</span>: <span style=\"color: #ff0000; text-decoration-color: #ff0000; font-style: italic\">False</span>, <span style=\"color: #008000; text-decoration-color: #008000\">'init_dist'</span>: <span style=\"color: #008000; text-decoration-color: #008000\">'Normal'</span>, <span style=\"color: #008000; text-decoration-color: #008000\">'init_scale'</span>: <span style=\"color: #008080; text-decoration-color: #008080; font-weight: bold\">0.05</span><span style=\"font-weight: bold\">}</span>\n",
       "\n",
       "Trainer:\n",
       "<span style=\"font-weight: bold\">{</span><span style=\"color: #008000; text-decoration-color: #008000\">'lr'</span>: <span style=\"color: #008080; text-decoration-color: #008080; font-weight: bold\">0.005</span>, <span style=\"color: #008000; text-decoration-color: #008000\">'batch_size'</span>: <span style=\"color: #008080; text-decoration-color: #008080; font-weight: bold\">1000</span>, <span style=\"color: #008000; text-decoration-color: #008000\">'epochs'</span>: <span style=\"color: #008080; text-decoration-color: #008080; font-weight: bold\">1500</span>, <span style=\"color: #008000; text-decoration-color: #008000\">'optimizer_kws'</span>: <span style=\"font-weight: bold\">{</span><span style=\"color: #008000; text-decoration-color: #008000\">'weight_decay'</span>: <span style=\"color: #008080; text-decoration-color: #008080; font-weight: bold\">0.0</span><span style=\"font-weight: bold\">}</span>, <span style=\"color: #008000; text-decoration-color: #008000\">'grad_clip'</span>: <span style=\"color: #008080; text-decoration-color: #008080; font-weight: bold\">500</span>, \n",
       "<span style=\"color: #008000; text-decoration-color: #008000\">'kl_const_portion'</span>: <span style=\"color: #008080; text-decoration-color: #008080; font-weight: bold\">0.0</span><span style=\"font-weight: bold\">}</span>\n",
       "-------------------------------------------------------------------------------------------------------------------\n",
       "\n",
       "\n",
       "\n",
       "</pre>\n"
      ],
      "text/plain": [
       "-------------------------------------------------------------------------------------------------------------------\n",
       "                         Dataset = CIFAR10-PATCHES,       Model = poisson,       Architecture: conv+b|lin          \n",
       "-------------------------------------------------------------------------------------------------------------------\n",
       "VAE:\n",
       "\u001b[1m{\u001b[0m\u001b[32m'dataset'\u001b[0m: \u001b[32m'CIFAR10-PATCHES'\u001b[0m, \u001b[32m'n_ch'\u001b[0m: \u001b[1;36m32\u001b[0m, \u001b[32m'n_latents'\u001b[0m: \u001b[1;36m512\u001b[0m, \u001b[32m'prior_clamp'\u001b[0m: \u001b[1;36m-4\u001b[0m, \u001b[32m'fit_prior'\u001b[0m: \u001b[3;92mTrue\u001b[0m, \u001b[32m'enc_type'\u001b[0m: \n",
       "\u001b[32m'conv'\u001b[0m, \u001b[32m'dec_type'\u001b[0m: \u001b[32m'lin'\u001b[0m, \u001b[32m'enc_bias'\u001b[0m: \u001b[3;92mTrue\u001b[0m, \u001b[32m'dec_bias'\u001b[0m: \u001b[3;91mFalse\u001b[0m, \u001b[32m'init_dist'\u001b[0m: \u001b[32m'Normal'\u001b[0m, \u001b[32m'init_scale'\u001b[0m: \u001b[1;36m0.05\u001b[0m\u001b[1m}\u001b[0m\n",
       "\n",
       "Trainer:\n",
       "\u001b[1m{\u001b[0m\u001b[32m'lr'\u001b[0m: \u001b[1;36m0.005\u001b[0m, \u001b[32m'batch_size'\u001b[0m: \u001b[1;36m1000\u001b[0m, \u001b[32m'epochs'\u001b[0m: \u001b[1;36m1500\u001b[0m, \u001b[32m'optimizer_kws'\u001b[0m: \u001b[1m{\u001b[0m\u001b[32m'weight_decay'\u001b[0m: \u001b[1;36m0.0\u001b[0m\u001b[1m}\u001b[0m, \u001b[32m'grad_clip'\u001b[0m: \u001b[1;36m500\u001b[0m, \n",
       "\u001b[32m'kl_const_portion'\u001b[0m: \u001b[1;36m0.0\u001b[0m\u001b[1m}\u001b[0m\n",
       "-------------------------------------------------------------------------------------------------------------------\n",
       "\n",
       "\n",
       "\n"
      ]
     },
     "metadata": {},
     "output_type": "display_data"
    },
    {
     "data": {
      "text/html": [
       "<pre style=\"white-space:pre;overflow-x:auto;line-height:normal;font-family:Menlo,'DejaVu Sans Mono',consolas,'Courier New',monospace\">-------------------------------------------------------------------------------------------------------------------\n",
       "                         Dataset = CIFAR10-PATCHES,       Model = poisson,       Architecture: conv+b|conv+b       \n",
       "-------------------------------------------------------------------------------------------------------------------\n",
       "VAE:\n",
       "<span style=\"font-weight: bold\">{</span><span style=\"color: #008000; text-decoration-color: #008000\">'dataset'</span>: <span style=\"color: #008000; text-decoration-color: #008000\">'CIFAR10-PATCHES'</span>, <span style=\"color: #008000; text-decoration-color: #008000\">'n_ch'</span>: <span style=\"color: #008080; text-decoration-color: #008080; font-weight: bold\">32</span>, <span style=\"color: #008000; text-decoration-color: #008000\">'n_latents'</span>: <span style=\"color: #008080; text-decoration-color: #008080; font-weight: bold\">10</span>, <span style=\"color: #008000; text-decoration-color: #008000\">'prior_clamp'</span>: <span style=\"color: #008080; text-decoration-color: #008080; font-weight: bold\">-2</span>, <span style=\"color: #008000; text-decoration-color: #008000\">'fit_prior'</span>: <span style=\"color: #00ff00; text-decoration-color: #00ff00; font-style: italic\">True</span>, <span style=\"color: #008000; text-decoration-color: #008000\">'enc_type'</span>: \n",
       "<span style=\"color: #008000; text-decoration-color: #008000\">'conv'</span>, <span style=\"color: #008000; text-decoration-color: #008000\">'dec_type'</span>: <span style=\"color: #008000; text-decoration-color: #008000\">'conv'</span>, <span style=\"color: #008000; text-decoration-color: #008000\">'enc_bias'</span>: <span style=\"color: #00ff00; text-decoration-color: #00ff00; font-style: italic\">True</span>, <span style=\"color: #008000; text-decoration-color: #008000\">'dec_bias'</span>: <span style=\"color: #00ff00; text-decoration-color: #00ff00; font-style: italic\">True</span>, <span style=\"color: #008000; text-decoration-color: #008000\">'init_dist'</span>: <span style=\"color: #008000; text-decoration-color: #008000\">'StudentT'</span>, <span style=\"color: #008000; text-decoration-color: #008000\">'init_scale'</span>: <span style=\"color: #008080; text-decoration-color: #008080; font-weight: bold\">0.1</span><span style=\"font-weight: bold\">}</span>\n",
       "\n",
       "Trainer:\n",
       "<span style=\"font-weight: bold\">{</span><span style=\"color: #008000; text-decoration-color: #008000\">'lr'</span>: <span style=\"color: #008080; text-decoration-color: #008080; font-weight: bold\">0.005</span>, <span style=\"color: #008000; text-decoration-color: #008000\">'batch_size'</span>: <span style=\"color: #008080; text-decoration-color: #008080; font-weight: bold\">1000</span>, <span style=\"color: #008000; text-decoration-color: #008000\">'epochs'</span>: <span style=\"color: #008080; text-decoration-color: #008080; font-weight: bold\">1500</span>, <span style=\"color: #008000; text-decoration-color: #008000\">'optimizer_kws'</span>: <span style=\"font-weight: bold\">{</span><span style=\"color: #008000; text-decoration-color: #008000\">'weight_decay'</span>: <span style=\"color: #008080; text-decoration-color: #008080; font-weight: bold\">0.0</span><span style=\"font-weight: bold\">}</span>, <span style=\"color: #008000; text-decoration-color: #008000\">'grad_clip'</span>: <span style=\"color: #008080; text-decoration-color: #008080; font-weight: bold\">500</span>, \n",
       "<span style=\"color: #008000; text-decoration-color: #008000\">'kl_const_portion'</span>: <span style=\"color: #008080; text-decoration-color: #008080; font-weight: bold\">0.01</span><span style=\"font-weight: bold\">}</span>\n",
       "-------------------------------------------------------------------------------------------------------------------\n",
       "\n",
       "\n",
       "\n",
       "</pre>\n"
      ],
      "text/plain": [
       "-------------------------------------------------------------------------------------------------------------------\n",
       "                         Dataset = CIFAR10-PATCHES,       Model = poisson,       Architecture: conv+b|conv+b       \n",
       "-------------------------------------------------------------------------------------------------------------------\n",
       "VAE:\n",
       "\u001b[1m{\u001b[0m\u001b[32m'dataset'\u001b[0m: \u001b[32m'CIFAR10-PATCHES'\u001b[0m, \u001b[32m'n_ch'\u001b[0m: \u001b[1;36m32\u001b[0m, \u001b[32m'n_latents'\u001b[0m: \u001b[1;36m10\u001b[0m, \u001b[32m'prior_clamp'\u001b[0m: \u001b[1;36m-2\u001b[0m, \u001b[32m'fit_prior'\u001b[0m: \u001b[3;92mTrue\u001b[0m, \u001b[32m'enc_type'\u001b[0m: \n",
       "\u001b[32m'conv'\u001b[0m, \u001b[32m'dec_type'\u001b[0m: \u001b[32m'conv'\u001b[0m, \u001b[32m'enc_bias'\u001b[0m: \u001b[3;92mTrue\u001b[0m, \u001b[32m'dec_bias'\u001b[0m: \u001b[3;92mTrue\u001b[0m, \u001b[32m'init_dist'\u001b[0m: \u001b[32m'StudentT'\u001b[0m, \u001b[32m'init_scale'\u001b[0m: \u001b[1;36m0.1\u001b[0m\u001b[1m}\u001b[0m\n",
       "\n",
       "Trainer:\n",
       "\u001b[1m{\u001b[0m\u001b[32m'lr'\u001b[0m: \u001b[1;36m0.005\u001b[0m, \u001b[32m'batch_size'\u001b[0m: \u001b[1;36m1000\u001b[0m, \u001b[32m'epochs'\u001b[0m: \u001b[1;36m1500\u001b[0m, \u001b[32m'optimizer_kws'\u001b[0m: \u001b[1m{\u001b[0m\u001b[32m'weight_decay'\u001b[0m: \u001b[1;36m0.0\u001b[0m\u001b[1m}\u001b[0m, \u001b[32m'grad_clip'\u001b[0m: \u001b[1;36m500\u001b[0m, \n",
       "\u001b[32m'kl_const_portion'\u001b[0m: \u001b[1;36m0.01\u001b[0m\u001b[1m}\u001b[0m\n",
       "-------------------------------------------------------------------------------------------------------------------\n",
       "\n",
       "\n",
       "\n"
      ]
     },
     "metadata": {},
     "output_type": "display_data"
    },
    {
     "data": {
      "text/html": [
       "<pre style=\"white-space:pre;overflow-x:auto;line-height:normal;font-family:Menlo,'DejaVu Sans Mono',consolas,'Courier New',monospace\">-------------------------------------------------------------------------------------------------------------------\n",
       "                         Dataset = CIFAR10-PATCHES,       Model = categorical,       Architecture: lin|lin         \n",
       "-------------------------------------------------------------------------------------------------------------------\n",
       "VAE:\n",
       "<span style=\"font-weight: bold\">{</span><span style=\"color: #008000; text-decoration-color: #008000\">'dataset'</span>: <span style=\"color: #008000; text-decoration-color: #008000\">'CIFAR10-PATCHES'</span>, <span style=\"color: #008000; text-decoration-color: #008000\">'n_ch'</span>: <span style=\"color: #008080; text-decoration-color: #008080; font-weight: bold\">32</span>, <span style=\"color: #008000; text-decoration-color: #008000\">'n_latents'</span>: <span style=\"color: #008080; text-decoration-color: #008080; font-weight: bold\">1</span>, <span style=\"color: #008000; text-decoration-color: #008000\">'enc_type'</span>: <span style=\"color: #008000; text-decoration-color: #008000\">'lin'</span>, <span style=\"color: #008000; text-decoration-color: #008000\">'dec_type'</span>: <span style=\"color: #008000; text-decoration-color: #008000\">'lin'</span>, <span style=\"color: #008000; text-decoration-color: #008000\">'enc_bias'</span>: <span style=\"color: #ff0000; text-decoration-color: #ff0000; font-style: italic\">False</span>,\n",
       "<span style=\"color: #008000; text-decoration-color: #008000\">'dec_bias'</span>: <span style=\"color: #ff0000; text-decoration-color: #ff0000; font-style: italic\">False</span>, <span style=\"color: #008000; text-decoration-color: #008000\">'n_categories'</span>: <span style=\"color: #008080; text-decoration-color: #008080; font-weight: bold\">512</span>, <span style=\"color: #008000; text-decoration-color: #008000\">'init_dist'</span>: <span style=\"color: #008000; text-decoration-color: #008000\">'Normal'</span>, <span style=\"color: #008000; text-decoration-color: #008000\">'init_scale'</span>: <span style=\"color: #008080; text-decoration-color: #008080; font-weight: bold\">0.05</span><span style=\"font-weight: bold\">}</span>\n",
       "\n",
       "Trainer:\n",
       "<span style=\"font-weight: bold\">{</span><span style=\"color: #008000; text-decoration-color: #008000\">'temp_stop'</span>: <span style=\"color: #008080; text-decoration-color: #008080; font-weight: bold\">0.1</span>, <span style=\"color: #008000; text-decoration-color: #008000\">'lr'</span>: <span style=\"color: #008080; text-decoration-color: #008080; font-weight: bold\">0.005</span>, <span style=\"color: #008000; text-decoration-color: #008000\">'batch_size'</span>: <span style=\"color: #008080; text-decoration-color: #008080; font-weight: bold\">1000</span>, <span style=\"color: #008000; text-decoration-color: #008000\">'epochs'</span>: <span style=\"color: #008080; text-decoration-color: #008080; font-weight: bold\">1500</span>, <span style=\"color: #008000; text-decoration-color: #008000\">'optimizer_kws'</span>: <span style=\"font-weight: bold\">{</span><span style=\"color: #008000; text-decoration-color: #008000\">'weight_decay'</span>: <span style=\"color: #008080; text-decoration-color: #008080; font-weight: bold\">0.0</span><span style=\"font-weight: bold\">}</span>, \n",
       "<span style=\"color: #008000; text-decoration-color: #008000\">'grad_clip'</span>: <span style=\"color: #008080; text-decoration-color: #008080; font-weight: bold\">500</span>, <span style=\"color: #008000; text-decoration-color: #008000\">'kl_const_portion'</span>: <span style=\"color: #008080; text-decoration-color: #008080; font-weight: bold\">0.0</span><span style=\"font-weight: bold\">}</span>\n",
       "-------------------------------------------------------------------------------------------------------------------\n",
       "\n",
       "\n",
       "\n",
       "</pre>\n"
      ],
      "text/plain": [
       "-------------------------------------------------------------------------------------------------------------------\n",
       "                         Dataset = CIFAR10-PATCHES,       Model = categorical,       Architecture: lin|lin         \n",
       "-------------------------------------------------------------------------------------------------------------------\n",
       "VAE:\n",
       "\u001b[1m{\u001b[0m\u001b[32m'dataset'\u001b[0m: \u001b[32m'CIFAR10-PATCHES'\u001b[0m, \u001b[32m'n_ch'\u001b[0m: \u001b[1;36m32\u001b[0m, \u001b[32m'n_latents'\u001b[0m: \u001b[1;36m1\u001b[0m, \u001b[32m'enc_type'\u001b[0m: \u001b[32m'lin'\u001b[0m, \u001b[32m'dec_type'\u001b[0m: \u001b[32m'lin'\u001b[0m, \u001b[32m'enc_bias'\u001b[0m: \u001b[3;91mFalse\u001b[0m,\n",
       "\u001b[32m'dec_bias'\u001b[0m: \u001b[3;91mFalse\u001b[0m, \u001b[32m'n_categories'\u001b[0m: \u001b[1;36m512\u001b[0m, \u001b[32m'init_dist'\u001b[0m: \u001b[32m'Normal'\u001b[0m, \u001b[32m'init_scale'\u001b[0m: \u001b[1;36m0.05\u001b[0m\u001b[1m}\u001b[0m\n",
       "\n",
       "Trainer:\n",
       "\u001b[1m{\u001b[0m\u001b[32m'temp_stop'\u001b[0m: \u001b[1;36m0.1\u001b[0m, \u001b[32m'lr'\u001b[0m: \u001b[1;36m0.005\u001b[0m, \u001b[32m'batch_size'\u001b[0m: \u001b[1;36m1000\u001b[0m, \u001b[32m'epochs'\u001b[0m: \u001b[1;36m1500\u001b[0m, \u001b[32m'optimizer_kws'\u001b[0m: \u001b[1m{\u001b[0m\u001b[32m'weight_decay'\u001b[0m: \u001b[1;36m0.0\u001b[0m\u001b[1m}\u001b[0m, \n",
       "\u001b[32m'grad_clip'\u001b[0m: \u001b[1;36m500\u001b[0m, \u001b[32m'kl_const_portion'\u001b[0m: \u001b[1;36m0.0\u001b[0m\u001b[1m}\u001b[0m\n",
       "-------------------------------------------------------------------------------------------------------------------\n",
       "\n",
       "\n",
       "\n"
      ]
     },
     "metadata": {},
     "output_type": "display_data"
    },
    {
     "data": {
      "text/html": [
       "<pre style=\"white-space:pre;overflow-x:auto;line-height:normal;font-family:Menlo,'DejaVu Sans Mono',consolas,'Courier New',monospace\">-------------------------------------------------------------------------------------------------------------------\n",
       "                         Dataset = CIFAR10-PATCHES,       Model = categorical,       Architecture: mlp+b|lin       \n",
       "-------------------------------------------------------------------------------------------------------------------\n",
       "VAE:\n",
       "<span style=\"font-weight: bold\">{</span><span style=\"color: #008000; text-decoration-color: #008000\">'dataset'</span>: <span style=\"color: #008000; text-decoration-color: #008000\">'CIFAR10-PATCHES'</span>, <span style=\"color: #008000; text-decoration-color: #008000\">'n_ch'</span>: <span style=\"color: #008080; text-decoration-color: #008080; font-weight: bold\">16</span>, <span style=\"color: #008000; text-decoration-color: #008000\">'n_latents'</span>: <span style=\"color: #008080; text-decoration-color: #008080; font-weight: bold\">1</span>, <span style=\"color: #008000; text-decoration-color: #008000\">'enc_type'</span>: <span style=\"color: #008000; text-decoration-color: #008000\">'mlp'</span>, <span style=\"color: #008000; text-decoration-color: #008000\">'dec_type'</span>: <span style=\"color: #008000; text-decoration-color: #008000\">'lin'</span>, <span style=\"color: #008000; text-decoration-color: #008000\">'enc_bias'</span>: <span style=\"color: #00ff00; text-decoration-color: #00ff00; font-style: italic\">True</span>, \n",
       "<span style=\"color: #008000; text-decoration-color: #008000\">'dec_bias'</span>: <span style=\"color: #ff0000; text-decoration-color: #ff0000; font-style: italic\">False</span>, <span style=\"color: #008000; text-decoration-color: #008000\">'n_categories'</span>: <span style=\"color: #008080; text-decoration-color: #008080; font-weight: bold\">512</span>, <span style=\"color: #008000; text-decoration-color: #008000\">'init_dist'</span>: <span style=\"color: #008000; text-decoration-color: #008000\">'Normal'</span>, <span style=\"color: #008000; text-decoration-color: #008000\">'init_scale'</span>: <span style=\"color: #008080; text-decoration-color: #008080; font-weight: bold\">0.05</span><span style=\"font-weight: bold\">}</span>\n",
       "\n",
       "Trainer:\n",
       "<span style=\"font-weight: bold\">{</span><span style=\"color: #008000; text-decoration-color: #008000\">'temp_stop'</span>: <span style=\"color: #008080; text-decoration-color: #008080; font-weight: bold\">0.1</span>, <span style=\"color: #008000; text-decoration-color: #008000\">'lr'</span>: <span style=\"color: #008080; text-decoration-color: #008080; font-weight: bold\">0.005</span>, <span style=\"color: #008000; text-decoration-color: #008000\">'batch_size'</span>: <span style=\"color: #008080; text-decoration-color: #008080; font-weight: bold\">1000</span>, <span style=\"color: #008000; text-decoration-color: #008000\">'epochs'</span>: <span style=\"color: #008080; text-decoration-color: #008080; font-weight: bold\">1500</span>, <span style=\"color: #008000; text-decoration-color: #008000\">'optimizer_kws'</span>: <span style=\"font-weight: bold\">{</span><span style=\"color: #008000; text-decoration-color: #008000\">'weight_decay'</span>: <span style=\"color: #008080; text-decoration-color: #008080; font-weight: bold\">0.0</span><span style=\"font-weight: bold\">}</span>, \n",
       "<span style=\"color: #008000; text-decoration-color: #008000\">'grad_clip'</span>: <span style=\"color: #008080; text-decoration-color: #008080; font-weight: bold\">500</span>, <span style=\"color: #008000; text-decoration-color: #008000\">'kl_const_portion'</span>: <span style=\"color: #008080; text-decoration-color: #008080; font-weight: bold\">0.0</span><span style=\"font-weight: bold\">}</span>\n",
       "-------------------------------------------------------------------------------------------------------------------\n",
       "\n",
       "\n",
       "\n",
       "</pre>\n"
      ],
      "text/plain": [
       "-------------------------------------------------------------------------------------------------------------------\n",
       "                         Dataset = CIFAR10-PATCHES,       Model = categorical,       Architecture: mlp+b|lin       \n",
       "-------------------------------------------------------------------------------------------------------------------\n",
       "VAE:\n",
       "\u001b[1m{\u001b[0m\u001b[32m'dataset'\u001b[0m: \u001b[32m'CIFAR10-PATCHES'\u001b[0m, \u001b[32m'n_ch'\u001b[0m: \u001b[1;36m16\u001b[0m, \u001b[32m'n_latents'\u001b[0m: \u001b[1;36m1\u001b[0m, \u001b[32m'enc_type'\u001b[0m: \u001b[32m'mlp'\u001b[0m, \u001b[32m'dec_type'\u001b[0m: \u001b[32m'lin'\u001b[0m, \u001b[32m'enc_bias'\u001b[0m: \u001b[3;92mTrue\u001b[0m, \n",
       "\u001b[32m'dec_bias'\u001b[0m: \u001b[3;91mFalse\u001b[0m, \u001b[32m'n_categories'\u001b[0m: \u001b[1;36m512\u001b[0m, \u001b[32m'init_dist'\u001b[0m: \u001b[32m'Normal'\u001b[0m, \u001b[32m'init_scale'\u001b[0m: \u001b[1;36m0.05\u001b[0m\u001b[1m}\u001b[0m\n",
       "\n",
       "Trainer:\n",
       "\u001b[1m{\u001b[0m\u001b[32m'temp_stop'\u001b[0m: \u001b[1;36m0.1\u001b[0m, \u001b[32m'lr'\u001b[0m: \u001b[1;36m0.005\u001b[0m, \u001b[32m'batch_size'\u001b[0m: \u001b[1;36m1000\u001b[0m, \u001b[32m'epochs'\u001b[0m: \u001b[1;36m1500\u001b[0m, \u001b[32m'optimizer_kws'\u001b[0m: \u001b[1m{\u001b[0m\u001b[32m'weight_decay'\u001b[0m: \u001b[1;36m0.0\u001b[0m\u001b[1m}\u001b[0m, \n",
       "\u001b[32m'grad_clip'\u001b[0m: \u001b[1;36m500\u001b[0m, \u001b[32m'kl_const_portion'\u001b[0m: \u001b[1;36m0.0\u001b[0m\u001b[1m}\u001b[0m\n",
       "-------------------------------------------------------------------------------------------------------------------\n",
       "\n",
       "\n",
       "\n"
      ]
     },
     "metadata": {},
     "output_type": "display_data"
    },
    {
     "data": {
      "text/html": [
       "<pre style=\"white-space:pre;overflow-x:auto;line-height:normal;font-family:Menlo,'DejaVu Sans Mono',consolas,'Courier New',monospace\">-------------------------------------------------------------------------------------------------------------------\n",
       "                         Dataset = CIFAR10-PATCHES,       Model = categorical,       Architecture: conv+b|lin      \n",
       "-------------------------------------------------------------------------------------------------------------------\n",
       "VAE:\n",
       "<span style=\"font-weight: bold\">{</span><span style=\"color: #008000; text-decoration-color: #008000\">'dataset'</span>: <span style=\"color: #008000; text-decoration-color: #008000\">'CIFAR10-PATCHES'</span>, <span style=\"color: #008000; text-decoration-color: #008000\">'n_ch'</span>: <span style=\"color: #008080; text-decoration-color: #008080; font-weight: bold\">32</span>, <span style=\"color: #008000; text-decoration-color: #008000\">'n_latents'</span>: <span style=\"color: #008080; text-decoration-color: #008080; font-weight: bold\">1</span>, <span style=\"color: #008000; text-decoration-color: #008000\">'enc_type'</span>: <span style=\"color: #008000; text-decoration-color: #008000\">'conv'</span>, <span style=\"color: #008000; text-decoration-color: #008000\">'dec_type'</span>: <span style=\"color: #008000; text-decoration-color: #008000\">'lin'</span>, <span style=\"color: #008000; text-decoration-color: #008000\">'enc_bias'</span>: <span style=\"color: #00ff00; text-decoration-color: #00ff00; font-style: italic\">True</span>,\n",
       "<span style=\"color: #008000; text-decoration-color: #008000\">'dec_bias'</span>: <span style=\"color: #ff0000; text-decoration-color: #ff0000; font-style: italic\">False</span>, <span style=\"color: #008000; text-decoration-color: #008000\">'n_categories'</span>: <span style=\"color: #008080; text-decoration-color: #008080; font-weight: bold\">512</span>, <span style=\"color: #008000; text-decoration-color: #008000\">'init_dist'</span>: <span style=\"color: #008000; text-decoration-color: #008000\">'Normal'</span>, <span style=\"color: #008000; text-decoration-color: #008000\">'init_scale'</span>: <span style=\"color: #008080; text-decoration-color: #008080; font-weight: bold\">0.05</span><span style=\"font-weight: bold\">}</span>\n",
       "\n",
       "Trainer:\n",
       "<span style=\"font-weight: bold\">{</span><span style=\"color: #008000; text-decoration-color: #008000\">'temp_stop'</span>: <span style=\"color: #008080; text-decoration-color: #008080; font-weight: bold\">0.1</span>, <span style=\"color: #008000; text-decoration-color: #008000\">'lr'</span>: <span style=\"color: #008080; text-decoration-color: #008080; font-weight: bold\">0.005</span>, <span style=\"color: #008000; text-decoration-color: #008000\">'batch_size'</span>: <span style=\"color: #008080; text-decoration-color: #008080; font-weight: bold\">1000</span>, <span style=\"color: #008000; text-decoration-color: #008000\">'epochs'</span>: <span style=\"color: #008080; text-decoration-color: #008080; font-weight: bold\">1500</span>, <span style=\"color: #008000; text-decoration-color: #008000\">'optimizer_kws'</span>: <span style=\"font-weight: bold\">{</span><span style=\"color: #008000; text-decoration-color: #008000\">'weight_decay'</span>: <span style=\"color: #008080; text-decoration-color: #008080; font-weight: bold\">0.0</span><span style=\"font-weight: bold\">}</span>, \n",
       "<span style=\"color: #008000; text-decoration-color: #008000\">'grad_clip'</span>: <span style=\"color: #008080; text-decoration-color: #008080; font-weight: bold\">500</span>, <span style=\"color: #008000; text-decoration-color: #008000\">'kl_const_portion'</span>: <span style=\"color: #008080; text-decoration-color: #008080; font-weight: bold\">0.0</span><span style=\"font-weight: bold\">}</span>\n",
       "-------------------------------------------------------------------------------------------------------------------\n",
       "\n",
       "\n",
       "\n",
       "</pre>\n"
      ],
      "text/plain": [
       "-------------------------------------------------------------------------------------------------------------------\n",
       "                         Dataset = CIFAR10-PATCHES,       Model = categorical,       Architecture: conv+b|lin      \n",
       "-------------------------------------------------------------------------------------------------------------------\n",
       "VAE:\n",
       "\u001b[1m{\u001b[0m\u001b[32m'dataset'\u001b[0m: \u001b[32m'CIFAR10-PATCHES'\u001b[0m, \u001b[32m'n_ch'\u001b[0m: \u001b[1;36m32\u001b[0m, \u001b[32m'n_latents'\u001b[0m: \u001b[1;36m1\u001b[0m, \u001b[32m'enc_type'\u001b[0m: \u001b[32m'conv'\u001b[0m, \u001b[32m'dec_type'\u001b[0m: \u001b[32m'lin'\u001b[0m, \u001b[32m'enc_bias'\u001b[0m: \u001b[3;92mTrue\u001b[0m,\n",
       "\u001b[32m'dec_bias'\u001b[0m: \u001b[3;91mFalse\u001b[0m, \u001b[32m'n_categories'\u001b[0m: \u001b[1;36m512\u001b[0m, \u001b[32m'init_dist'\u001b[0m: \u001b[32m'Normal'\u001b[0m, \u001b[32m'init_scale'\u001b[0m: \u001b[1;36m0.05\u001b[0m\u001b[1m}\u001b[0m\n",
       "\n",
       "Trainer:\n",
       "\u001b[1m{\u001b[0m\u001b[32m'temp_stop'\u001b[0m: \u001b[1;36m0.1\u001b[0m, \u001b[32m'lr'\u001b[0m: \u001b[1;36m0.005\u001b[0m, \u001b[32m'batch_size'\u001b[0m: \u001b[1;36m1000\u001b[0m, \u001b[32m'epochs'\u001b[0m: \u001b[1;36m1500\u001b[0m, \u001b[32m'optimizer_kws'\u001b[0m: \u001b[1m{\u001b[0m\u001b[32m'weight_decay'\u001b[0m: \u001b[1;36m0.0\u001b[0m\u001b[1m}\u001b[0m, \n",
       "\u001b[32m'grad_clip'\u001b[0m: \u001b[1;36m500\u001b[0m, \u001b[32m'kl_const_portion'\u001b[0m: \u001b[1;36m0.0\u001b[0m\u001b[1m}\u001b[0m\n",
       "-------------------------------------------------------------------------------------------------------------------\n",
       "\n",
       "\n",
       "\n"
      ]
     },
     "metadata": {},
     "output_type": "display_data"
    },
    {
     "data": {
      "text/html": [
       "<pre style=\"white-space:pre;overflow-x:auto;line-height:normal;font-family:Menlo,'DejaVu Sans Mono',consolas,'Courier New',monospace\">-------------------------------------------------------------------------------------------------------------------\n",
       "                         Dataset = CIFAR10-PATCHES,       Model = categorical,       Architecture: conv+b|conv+b   \n",
       "-------------------------------------------------------------------------------------------------------------------\n",
       "VAE:\n",
       "<span style=\"font-weight: bold\">{</span><span style=\"color: #008000; text-decoration-color: #008000\">'dataset'</span>: <span style=\"color: #008000; text-decoration-color: #008000\">'CIFAR10-PATCHES'</span>, <span style=\"color: #008000; text-decoration-color: #008000\">'n_ch'</span>: <span style=\"color: #008080; text-decoration-color: #008080; font-weight: bold\">32</span>, <span style=\"color: #008000; text-decoration-color: #008000\">'n_latents'</span>: <span style=\"color: #008080; text-decoration-color: #008080; font-weight: bold\">1</span>, <span style=\"color: #008000; text-decoration-color: #008000\">'enc_type'</span>: <span style=\"color: #008000; text-decoration-color: #008000\">'conv'</span>, <span style=\"color: #008000; text-decoration-color: #008000\">'dec_type'</span>: <span style=\"color: #008000; text-decoration-color: #008000\">'conv'</span>, <span style=\"color: #008000; text-decoration-color: #008000\">'enc_bias'</span>: \n",
       "<span style=\"color: #00ff00; text-decoration-color: #00ff00; font-style: italic\">True</span>, <span style=\"color: #008000; text-decoration-color: #008000\">'dec_bias'</span>: <span style=\"color: #00ff00; text-decoration-color: #00ff00; font-style: italic\">True</span>, <span style=\"color: #008000; text-decoration-color: #008000\">'n_categories'</span>: <span style=\"color: #008080; text-decoration-color: #008080; font-weight: bold\">10</span>, <span style=\"color: #008000; text-decoration-color: #008000\">'init_dist'</span>: <span style=\"color: #008000; text-decoration-color: #008000\">'StudentT'</span>, <span style=\"color: #008000; text-decoration-color: #008000\">'init_scale'</span>: <span style=\"color: #008080; text-decoration-color: #008080; font-weight: bold\">0.1</span><span style=\"font-weight: bold\">}</span>\n",
       "\n",
       "Trainer:\n",
       "<span style=\"font-weight: bold\">{</span><span style=\"color: #008000; text-decoration-color: #008000\">'temp_stop'</span>: <span style=\"color: #008080; text-decoration-color: #008080; font-weight: bold\">0.1</span>, <span style=\"color: #008000; text-decoration-color: #008000\">'lr'</span>: <span style=\"color: #008080; text-decoration-color: #008080; font-weight: bold\">0.005</span>, <span style=\"color: #008000; text-decoration-color: #008000\">'batch_size'</span>: <span style=\"color: #008080; text-decoration-color: #008080; font-weight: bold\">1000</span>, <span style=\"color: #008000; text-decoration-color: #008000\">'epochs'</span>: <span style=\"color: #008080; text-decoration-color: #008080; font-weight: bold\">1500</span>, <span style=\"color: #008000; text-decoration-color: #008000\">'optimizer_kws'</span>: <span style=\"font-weight: bold\">{</span><span style=\"color: #008000; text-decoration-color: #008000\">'weight_decay'</span>: <span style=\"color: #008080; text-decoration-color: #008080; font-weight: bold\">0.0</span><span style=\"font-weight: bold\">}</span>, \n",
       "<span style=\"color: #008000; text-decoration-color: #008000\">'grad_clip'</span>: <span style=\"color: #008080; text-decoration-color: #008080; font-weight: bold\">500</span>, <span style=\"color: #008000; text-decoration-color: #008000\">'kl_const_portion'</span>: <span style=\"color: #008080; text-decoration-color: #008080; font-weight: bold\">0.01</span><span style=\"font-weight: bold\">}</span>\n",
       "-------------------------------------------------------------------------------------------------------------------\n",
       "\n",
       "\n",
       "\n",
       "</pre>\n"
      ],
      "text/plain": [
       "-------------------------------------------------------------------------------------------------------------------\n",
       "                         Dataset = CIFAR10-PATCHES,       Model = categorical,       Architecture: conv+b|conv+b   \n",
       "-------------------------------------------------------------------------------------------------------------------\n",
       "VAE:\n",
       "\u001b[1m{\u001b[0m\u001b[32m'dataset'\u001b[0m: \u001b[32m'CIFAR10-PATCHES'\u001b[0m, \u001b[32m'n_ch'\u001b[0m: \u001b[1;36m32\u001b[0m, \u001b[32m'n_latents'\u001b[0m: \u001b[1;36m1\u001b[0m, \u001b[32m'enc_type'\u001b[0m: \u001b[32m'conv'\u001b[0m, \u001b[32m'dec_type'\u001b[0m: \u001b[32m'conv'\u001b[0m, \u001b[32m'enc_bias'\u001b[0m: \n",
       "\u001b[3;92mTrue\u001b[0m, \u001b[32m'dec_bias'\u001b[0m: \u001b[3;92mTrue\u001b[0m, \u001b[32m'n_categories'\u001b[0m: \u001b[1;36m10\u001b[0m, \u001b[32m'init_dist'\u001b[0m: \u001b[32m'StudentT'\u001b[0m, \u001b[32m'init_scale'\u001b[0m: \u001b[1;36m0.1\u001b[0m\u001b[1m}\u001b[0m\n",
       "\n",
       "Trainer:\n",
       "\u001b[1m{\u001b[0m\u001b[32m'temp_stop'\u001b[0m: \u001b[1;36m0.1\u001b[0m, \u001b[32m'lr'\u001b[0m: \u001b[1;36m0.005\u001b[0m, \u001b[32m'batch_size'\u001b[0m: \u001b[1;36m1000\u001b[0m, \u001b[32m'epochs'\u001b[0m: \u001b[1;36m1500\u001b[0m, \u001b[32m'optimizer_kws'\u001b[0m: \u001b[1m{\u001b[0m\u001b[32m'weight_decay'\u001b[0m: \u001b[1;36m0.0\u001b[0m\u001b[1m}\u001b[0m, \n",
       "\u001b[32m'grad_clip'\u001b[0m: \u001b[1;36m500\u001b[0m, \u001b[32m'kl_const_portion'\u001b[0m: \u001b[1;36m0.01\u001b[0m\u001b[1m}\u001b[0m\n",
       "-------------------------------------------------------------------------------------------------------------------\n",
       "\n",
       "\n",
       "\n"
      ]
     },
     "metadata": {},
     "output_type": "display_data"
    },
    {
     "data": {
      "text/html": [
       "<pre style=\"white-space:pre;overflow-x:auto;line-height:normal;font-family:Menlo,'DejaVu Sans Mono',consolas,'Courier New',monospace\">-------------------------------------------------------------------------------------------------------------------\n",
       "                         Dataset = CIFAR10-PATCHES,       Model = gaussian,       Architecture: lin|lin            \n",
       "-------------------------------------------------------------------------------------------------------------------\n",
       "VAE:\n",
       "<span style=\"font-weight: bold\">{</span><span style=\"color: #008000; text-decoration-color: #008000\">'dataset'</span>: <span style=\"color: #008000; text-decoration-color: #008000\">'CIFAR10-PATCHES'</span>, <span style=\"color: #008000; text-decoration-color: #008000\">'n_ch'</span>: <span style=\"color: #008080; text-decoration-color: #008080; font-weight: bold\">32</span>, <span style=\"color: #008000; text-decoration-color: #008000\">'n_latents'</span>: <span style=\"color: #008080; text-decoration-color: #008080; font-weight: bold\">512</span>, <span style=\"color: #008000; text-decoration-color: #008000\">'enc_type'</span>: <span style=\"color: #008000; text-decoration-color: #008000\">'lin'</span>, <span style=\"color: #008000; text-decoration-color: #008000\">'dec_type'</span>: <span style=\"color: #008000; text-decoration-color: #008000\">'lin'</span>, <span style=\"color: #008000; text-decoration-color: #008000\">'enc_bias'</span>: \n",
       "<span style=\"color: #ff0000; text-decoration-color: #ff0000; font-style: italic\">False</span>, <span style=\"color: #008000; text-decoration-color: #008000\">'dec_bias'</span>: <span style=\"color: #ff0000; text-decoration-color: #ff0000; font-style: italic\">False</span>, <span style=\"color: #008000; text-decoration-color: #008000\">'init_dist'</span>: <span style=\"color: #008000; text-decoration-color: #008000\">'Normal'</span>, <span style=\"color: #008000; text-decoration-color: #008000\">'init_scale'</span>: <span style=\"color: #008080; text-decoration-color: #008080; font-weight: bold\">0.05</span><span style=\"font-weight: bold\">}</span>\n",
       "\n",
       "Trainer:\n",
       "<span style=\"font-weight: bold\">{</span><span style=\"color: #008000; text-decoration-color: #008000\">'temp_anneal_portion'</span>: <span style=\"color: #008080; text-decoration-color: #008080; font-weight: bold\">0.0</span>, <span style=\"color: #008000; text-decoration-color: #008000\">'temp_stop'</span>: <span style=\"color: #008080; text-decoration-color: #008080; font-weight: bold\">1.0</span>, <span style=\"color: #008000; text-decoration-color: #008000\">'lr'</span>: <span style=\"color: #008080; text-decoration-color: #008080; font-weight: bold\">0.005</span>, <span style=\"color: #008000; text-decoration-color: #008000\">'batch_size'</span>: <span style=\"color: #008080; text-decoration-color: #008080; font-weight: bold\">1000</span>, <span style=\"color: #008000; text-decoration-color: #008000\">'epochs'</span>: <span style=\"color: #008080; text-decoration-color: #008080; font-weight: bold\">1500</span>, <span style=\"color: #008000; text-decoration-color: #008000\">'optimizer_kws'</span>: \n",
       "<span style=\"font-weight: bold\">{</span><span style=\"color: #008000; text-decoration-color: #008000\">'weight_decay'</span>: <span style=\"color: #008080; text-decoration-color: #008080; font-weight: bold\">0.0</span><span style=\"font-weight: bold\">}</span>, <span style=\"color: #008000; text-decoration-color: #008000\">'grad_clip'</span>: <span style=\"color: #008080; text-decoration-color: #008080; font-weight: bold\">500</span>, <span style=\"color: #008000; text-decoration-color: #008000\">'kl_const_portion'</span>: <span style=\"color: #008080; text-decoration-color: #008080; font-weight: bold\">0.0</span><span style=\"font-weight: bold\">}</span>\n",
       "-------------------------------------------------------------------------------------------------------------------\n",
       "\n",
       "\n",
       "\n",
       "</pre>\n"
      ],
      "text/plain": [
       "-------------------------------------------------------------------------------------------------------------------\n",
       "                         Dataset = CIFAR10-PATCHES,       Model = gaussian,       Architecture: lin|lin            \n",
       "-------------------------------------------------------------------------------------------------------------------\n",
       "VAE:\n",
       "\u001b[1m{\u001b[0m\u001b[32m'dataset'\u001b[0m: \u001b[32m'CIFAR10-PATCHES'\u001b[0m, \u001b[32m'n_ch'\u001b[0m: \u001b[1;36m32\u001b[0m, \u001b[32m'n_latents'\u001b[0m: \u001b[1;36m512\u001b[0m, \u001b[32m'enc_type'\u001b[0m: \u001b[32m'lin'\u001b[0m, \u001b[32m'dec_type'\u001b[0m: \u001b[32m'lin'\u001b[0m, \u001b[32m'enc_bias'\u001b[0m: \n",
       "\u001b[3;91mFalse\u001b[0m, \u001b[32m'dec_bias'\u001b[0m: \u001b[3;91mFalse\u001b[0m, \u001b[32m'init_dist'\u001b[0m: \u001b[32m'Normal'\u001b[0m, \u001b[32m'init_scale'\u001b[0m: \u001b[1;36m0.05\u001b[0m\u001b[1m}\u001b[0m\n",
       "\n",
       "Trainer:\n",
       "\u001b[1m{\u001b[0m\u001b[32m'temp_anneal_portion'\u001b[0m: \u001b[1;36m0.0\u001b[0m, \u001b[32m'temp_stop'\u001b[0m: \u001b[1;36m1.0\u001b[0m, \u001b[32m'lr'\u001b[0m: \u001b[1;36m0.005\u001b[0m, \u001b[32m'batch_size'\u001b[0m: \u001b[1;36m1000\u001b[0m, \u001b[32m'epochs'\u001b[0m: \u001b[1;36m1500\u001b[0m, \u001b[32m'optimizer_kws'\u001b[0m: \n",
       "\u001b[1m{\u001b[0m\u001b[32m'weight_decay'\u001b[0m: \u001b[1;36m0.0\u001b[0m\u001b[1m}\u001b[0m, \u001b[32m'grad_clip'\u001b[0m: \u001b[1;36m500\u001b[0m, \u001b[32m'kl_const_portion'\u001b[0m: \u001b[1;36m0.0\u001b[0m\u001b[1m}\u001b[0m\n",
       "-------------------------------------------------------------------------------------------------------------------\n",
       "\n",
       "\n",
       "\n"
      ]
     },
     "metadata": {},
     "output_type": "display_data"
    },
    {
     "data": {
      "text/html": [
       "<pre style=\"white-space:pre;overflow-x:auto;line-height:normal;font-family:Menlo,'DejaVu Sans Mono',consolas,'Courier New',monospace\">-------------------------------------------------------------------------------------------------------------------\n",
       "                         Dataset = CIFAR10-PATCHES,       Model = gaussian,       Architecture: mlp+b|lin          \n",
       "-------------------------------------------------------------------------------------------------------------------\n",
       "VAE:\n",
       "<span style=\"font-weight: bold\">{</span><span style=\"color: #008000; text-decoration-color: #008000\">'dataset'</span>: <span style=\"color: #008000; text-decoration-color: #008000\">'CIFAR10-PATCHES'</span>, <span style=\"color: #008000; text-decoration-color: #008000\">'n_ch'</span>: <span style=\"color: #008080; text-decoration-color: #008080; font-weight: bold\">16</span>, <span style=\"color: #008000; text-decoration-color: #008000\">'n_latents'</span>: <span style=\"color: #008080; text-decoration-color: #008080; font-weight: bold\">512</span>, <span style=\"color: #008000; text-decoration-color: #008000\">'enc_type'</span>: <span style=\"color: #008000; text-decoration-color: #008000\">'mlp'</span>, <span style=\"color: #008000; text-decoration-color: #008000\">'dec_type'</span>: <span style=\"color: #008000; text-decoration-color: #008000\">'lin'</span>, <span style=\"color: #008000; text-decoration-color: #008000\">'enc_bias'</span>: \n",
       "<span style=\"color: #00ff00; text-decoration-color: #00ff00; font-style: italic\">True</span>, <span style=\"color: #008000; text-decoration-color: #008000\">'dec_bias'</span>: <span style=\"color: #ff0000; text-decoration-color: #ff0000; font-style: italic\">False</span>, <span style=\"color: #008000; text-decoration-color: #008000\">'init_dist'</span>: <span style=\"color: #008000; text-decoration-color: #008000\">'Normal'</span>, <span style=\"color: #008000; text-decoration-color: #008000\">'init_scale'</span>: <span style=\"color: #008080; text-decoration-color: #008080; font-weight: bold\">0.05</span><span style=\"font-weight: bold\">}</span>\n",
       "\n",
       "Trainer:\n",
       "<span style=\"font-weight: bold\">{</span><span style=\"color: #008000; text-decoration-color: #008000\">'temp_anneal_portion'</span>: <span style=\"color: #008080; text-decoration-color: #008080; font-weight: bold\">0.0</span>, <span style=\"color: #008000; text-decoration-color: #008000\">'temp_stop'</span>: <span style=\"color: #008080; text-decoration-color: #008080; font-weight: bold\">1.0</span>, <span style=\"color: #008000; text-decoration-color: #008000\">'lr'</span>: <span style=\"color: #008080; text-decoration-color: #008080; font-weight: bold\">0.005</span>, <span style=\"color: #008000; text-decoration-color: #008000\">'batch_size'</span>: <span style=\"color: #008080; text-decoration-color: #008080; font-weight: bold\">1000</span>, <span style=\"color: #008000; text-decoration-color: #008000\">'epochs'</span>: <span style=\"color: #008080; text-decoration-color: #008080; font-weight: bold\">1500</span>, <span style=\"color: #008000; text-decoration-color: #008000\">'optimizer_kws'</span>: \n",
       "<span style=\"font-weight: bold\">{</span><span style=\"color: #008000; text-decoration-color: #008000\">'weight_decay'</span>: <span style=\"color: #008080; text-decoration-color: #008080; font-weight: bold\">0.0</span><span style=\"font-weight: bold\">}</span>, <span style=\"color: #008000; text-decoration-color: #008000\">'grad_clip'</span>: <span style=\"color: #008080; text-decoration-color: #008080; font-weight: bold\">500</span>, <span style=\"color: #008000; text-decoration-color: #008000\">'kl_const_portion'</span>: <span style=\"color: #008080; text-decoration-color: #008080; font-weight: bold\">0.0</span><span style=\"font-weight: bold\">}</span>\n",
       "-------------------------------------------------------------------------------------------------------------------\n",
       "\n",
       "\n",
       "\n",
       "</pre>\n"
      ],
      "text/plain": [
       "-------------------------------------------------------------------------------------------------------------------\n",
       "                         Dataset = CIFAR10-PATCHES,       Model = gaussian,       Architecture: mlp+b|lin          \n",
       "-------------------------------------------------------------------------------------------------------------------\n",
       "VAE:\n",
       "\u001b[1m{\u001b[0m\u001b[32m'dataset'\u001b[0m: \u001b[32m'CIFAR10-PATCHES'\u001b[0m, \u001b[32m'n_ch'\u001b[0m: \u001b[1;36m16\u001b[0m, \u001b[32m'n_latents'\u001b[0m: \u001b[1;36m512\u001b[0m, \u001b[32m'enc_type'\u001b[0m: \u001b[32m'mlp'\u001b[0m, \u001b[32m'dec_type'\u001b[0m: \u001b[32m'lin'\u001b[0m, \u001b[32m'enc_bias'\u001b[0m: \n",
       "\u001b[3;92mTrue\u001b[0m, \u001b[32m'dec_bias'\u001b[0m: \u001b[3;91mFalse\u001b[0m, \u001b[32m'init_dist'\u001b[0m: \u001b[32m'Normal'\u001b[0m, \u001b[32m'init_scale'\u001b[0m: \u001b[1;36m0.05\u001b[0m\u001b[1m}\u001b[0m\n",
       "\n",
       "Trainer:\n",
       "\u001b[1m{\u001b[0m\u001b[32m'temp_anneal_portion'\u001b[0m: \u001b[1;36m0.0\u001b[0m, \u001b[32m'temp_stop'\u001b[0m: \u001b[1;36m1.0\u001b[0m, \u001b[32m'lr'\u001b[0m: \u001b[1;36m0.005\u001b[0m, \u001b[32m'batch_size'\u001b[0m: \u001b[1;36m1000\u001b[0m, \u001b[32m'epochs'\u001b[0m: \u001b[1;36m1500\u001b[0m, \u001b[32m'optimizer_kws'\u001b[0m: \n",
       "\u001b[1m{\u001b[0m\u001b[32m'weight_decay'\u001b[0m: \u001b[1;36m0.0\u001b[0m\u001b[1m}\u001b[0m, \u001b[32m'grad_clip'\u001b[0m: \u001b[1;36m500\u001b[0m, \u001b[32m'kl_const_portion'\u001b[0m: \u001b[1;36m0.0\u001b[0m\u001b[1m}\u001b[0m\n",
       "-------------------------------------------------------------------------------------------------------------------\n",
       "\n",
       "\n",
       "\n"
      ]
     },
     "metadata": {},
     "output_type": "display_data"
    },
    {
     "data": {
      "text/html": [
       "<pre style=\"white-space:pre;overflow-x:auto;line-height:normal;font-family:Menlo,'DejaVu Sans Mono',consolas,'Courier New',monospace\">-------------------------------------------------------------------------------------------------------------------\n",
       "                         Dataset = CIFAR10-PATCHES,       Model = gaussian,       Architecture: conv+b|lin         \n",
       "-------------------------------------------------------------------------------------------------------------------\n",
       "VAE:\n",
       "<span style=\"font-weight: bold\">{</span><span style=\"color: #008000; text-decoration-color: #008000\">'dataset'</span>: <span style=\"color: #008000; text-decoration-color: #008000\">'CIFAR10-PATCHES'</span>, <span style=\"color: #008000; text-decoration-color: #008000\">'n_ch'</span>: <span style=\"color: #008080; text-decoration-color: #008080; font-weight: bold\">32</span>, <span style=\"color: #008000; text-decoration-color: #008000\">'n_latents'</span>: <span style=\"color: #008080; text-decoration-color: #008080; font-weight: bold\">512</span>, <span style=\"color: #008000; text-decoration-color: #008000\">'enc_type'</span>: <span style=\"color: #008000; text-decoration-color: #008000\">'conv'</span>, <span style=\"color: #008000; text-decoration-color: #008000\">'dec_type'</span>: <span style=\"color: #008000; text-decoration-color: #008000\">'lin'</span>, <span style=\"color: #008000; text-decoration-color: #008000\">'enc_bias'</span>: \n",
       "<span style=\"color: #00ff00; text-decoration-color: #00ff00; font-style: italic\">True</span>, <span style=\"color: #008000; text-decoration-color: #008000\">'dec_bias'</span>: <span style=\"color: #ff0000; text-decoration-color: #ff0000; font-style: italic\">False</span>, <span style=\"color: #008000; text-decoration-color: #008000\">'init_dist'</span>: <span style=\"color: #008000; text-decoration-color: #008000\">'Normal'</span>, <span style=\"color: #008000; text-decoration-color: #008000\">'init_scale'</span>: <span style=\"color: #008080; text-decoration-color: #008080; font-weight: bold\">0.05</span><span style=\"font-weight: bold\">}</span>\n",
       "\n",
       "Trainer:\n",
       "<span style=\"font-weight: bold\">{</span><span style=\"color: #008000; text-decoration-color: #008000\">'temp_anneal_portion'</span>: <span style=\"color: #008080; text-decoration-color: #008080; font-weight: bold\">0.0</span>, <span style=\"color: #008000; text-decoration-color: #008000\">'temp_stop'</span>: <span style=\"color: #008080; text-decoration-color: #008080; font-weight: bold\">1.0</span>, <span style=\"color: #008000; text-decoration-color: #008000\">'lr'</span>: <span style=\"color: #008080; text-decoration-color: #008080; font-weight: bold\">0.005</span>, <span style=\"color: #008000; text-decoration-color: #008000\">'batch_size'</span>: <span style=\"color: #008080; text-decoration-color: #008080; font-weight: bold\">1000</span>, <span style=\"color: #008000; text-decoration-color: #008000\">'epochs'</span>: <span style=\"color: #008080; text-decoration-color: #008080; font-weight: bold\">1500</span>, <span style=\"color: #008000; text-decoration-color: #008000\">'optimizer_kws'</span>: \n",
       "<span style=\"font-weight: bold\">{</span><span style=\"color: #008000; text-decoration-color: #008000\">'weight_decay'</span>: <span style=\"color: #008080; text-decoration-color: #008080; font-weight: bold\">0.0</span><span style=\"font-weight: bold\">}</span>, <span style=\"color: #008000; text-decoration-color: #008000\">'grad_clip'</span>: <span style=\"color: #008080; text-decoration-color: #008080; font-weight: bold\">500</span>, <span style=\"color: #008000; text-decoration-color: #008000\">'kl_const_portion'</span>: <span style=\"color: #008080; text-decoration-color: #008080; font-weight: bold\">0.0</span><span style=\"font-weight: bold\">}</span>\n",
       "-------------------------------------------------------------------------------------------------------------------\n",
       "\n",
       "\n",
       "\n",
       "</pre>\n"
      ],
      "text/plain": [
       "-------------------------------------------------------------------------------------------------------------------\n",
       "                         Dataset = CIFAR10-PATCHES,       Model = gaussian,       Architecture: conv+b|lin         \n",
       "-------------------------------------------------------------------------------------------------------------------\n",
       "VAE:\n",
       "\u001b[1m{\u001b[0m\u001b[32m'dataset'\u001b[0m: \u001b[32m'CIFAR10-PATCHES'\u001b[0m, \u001b[32m'n_ch'\u001b[0m: \u001b[1;36m32\u001b[0m, \u001b[32m'n_latents'\u001b[0m: \u001b[1;36m512\u001b[0m, \u001b[32m'enc_type'\u001b[0m: \u001b[32m'conv'\u001b[0m, \u001b[32m'dec_type'\u001b[0m: \u001b[32m'lin'\u001b[0m, \u001b[32m'enc_bias'\u001b[0m: \n",
       "\u001b[3;92mTrue\u001b[0m, \u001b[32m'dec_bias'\u001b[0m: \u001b[3;91mFalse\u001b[0m, \u001b[32m'init_dist'\u001b[0m: \u001b[32m'Normal'\u001b[0m, \u001b[32m'init_scale'\u001b[0m: \u001b[1;36m0.05\u001b[0m\u001b[1m}\u001b[0m\n",
       "\n",
       "Trainer:\n",
       "\u001b[1m{\u001b[0m\u001b[32m'temp_anneal_portion'\u001b[0m: \u001b[1;36m0.0\u001b[0m, \u001b[32m'temp_stop'\u001b[0m: \u001b[1;36m1.0\u001b[0m, \u001b[32m'lr'\u001b[0m: \u001b[1;36m0.005\u001b[0m, \u001b[32m'batch_size'\u001b[0m: \u001b[1;36m1000\u001b[0m, \u001b[32m'epochs'\u001b[0m: \u001b[1;36m1500\u001b[0m, \u001b[32m'optimizer_kws'\u001b[0m: \n",
       "\u001b[1m{\u001b[0m\u001b[32m'weight_decay'\u001b[0m: \u001b[1;36m0.0\u001b[0m\u001b[1m}\u001b[0m, \u001b[32m'grad_clip'\u001b[0m: \u001b[1;36m500\u001b[0m, \u001b[32m'kl_const_portion'\u001b[0m: \u001b[1;36m0.0\u001b[0m\u001b[1m}\u001b[0m\n",
       "-------------------------------------------------------------------------------------------------------------------\n",
       "\n",
       "\n",
       "\n"
      ]
     },
     "metadata": {},
     "output_type": "display_data"
    },
    {
     "data": {
      "text/html": [
       "<pre style=\"white-space:pre;overflow-x:auto;line-height:normal;font-family:Menlo,'DejaVu Sans Mono',consolas,'Courier New',monospace\">-------------------------------------------------------------------------------------------------------------------\n",
       "                         Dataset = CIFAR10-PATCHES,       Model = gaussian,       Architecture: conv+b|conv+b      \n",
       "-------------------------------------------------------------------------------------------------------------------\n",
       "VAE:\n",
       "<span style=\"font-weight: bold\">{</span><span style=\"color: #008000; text-decoration-color: #008000\">'dataset'</span>: <span style=\"color: #008000; text-decoration-color: #008000\">'CIFAR10-PATCHES'</span>, <span style=\"color: #008000; text-decoration-color: #008000\">'n_ch'</span>: <span style=\"color: #008080; text-decoration-color: #008080; font-weight: bold\">32</span>, <span style=\"color: #008000; text-decoration-color: #008000\">'n_latents'</span>: <span style=\"color: #008080; text-decoration-color: #008080; font-weight: bold\">10</span>, <span style=\"color: #008000; text-decoration-color: #008000\">'enc_type'</span>: <span style=\"color: #008000; text-decoration-color: #008000\">'conv'</span>, <span style=\"color: #008000; text-decoration-color: #008000\">'dec_type'</span>: <span style=\"color: #008000; text-decoration-color: #008000\">'conv'</span>, <span style=\"color: #008000; text-decoration-color: #008000\">'enc_bias'</span>: \n",
       "<span style=\"color: #00ff00; text-decoration-color: #00ff00; font-style: italic\">True</span>, <span style=\"color: #008000; text-decoration-color: #008000\">'dec_bias'</span>: <span style=\"color: #00ff00; text-decoration-color: #00ff00; font-style: italic\">True</span>, <span style=\"color: #008000; text-decoration-color: #008000\">'init_dist'</span>: <span style=\"color: #008000; text-decoration-color: #008000\">'StudentT'</span>, <span style=\"color: #008000; text-decoration-color: #008000\">'init_scale'</span>: <span style=\"color: #008080; text-decoration-color: #008080; font-weight: bold\">0.1</span><span style=\"font-weight: bold\">}</span>\n",
       "\n",
       "Trainer:\n",
       "<span style=\"font-weight: bold\">{</span><span style=\"color: #008000; text-decoration-color: #008000\">'temp_anneal_portion'</span>: <span style=\"color: #008080; text-decoration-color: #008080; font-weight: bold\">0.0</span>, <span style=\"color: #008000; text-decoration-color: #008000\">'temp_stop'</span>: <span style=\"color: #008080; text-decoration-color: #008080; font-weight: bold\">1.0</span>, <span style=\"color: #008000; text-decoration-color: #008000\">'lr'</span>: <span style=\"color: #008080; text-decoration-color: #008080; font-weight: bold\">0.005</span>, <span style=\"color: #008000; text-decoration-color: #008000\">'batch_size'</span>: <span style=\"color: #008080; text-decoration-color: #008080; font-weight: bold\">1000</span>, <span style=\"color: #008000; text-decoration-color: #008000\">'epochs'</span>: <span style=\"color: #008080; text-decoration-color: #008080; font-weight: bold\">1500</span>, <span style=\"color: #008000; text-decoration-color: #008000\">'optimizer_kws'</span>: \n",
       "<span style=\"font-weight: bold\">{</span><span style=\"color: #008000; text-decoration-color: #008000\">'weight_decay'</span>: <span style=\"color: #008080; text-decoration-color: #008080; font-weight: bold\">0.0</span><span style=\"font-weight: bold\">}</span>, <span style=\"color: #008000; text-decoration-color: #008000\">'grad_clip'</span>: <span style=\"color: #008080; text-decoration-color: #008080; font-weight: bold\">500</span>, <span style=\"color: #008000; text-decoration-color: #008000\">'kl_const_portion'</span>: <span style=\"color: #008080; text-decoration-color: #008080; font-weight: bold\">0.01</span><span style=\"font-weight: bold\">}</span>\n",
       "-------------------------------------------------------------------------------------------------------------------\n",
       "\n",
       "\n",
       "\n",
       "</pre>\n"
      ],
      "text/plain": [
       "-------------------------------------------------------------------------------------------------------------------\n",
       "                         Dataset = CIFAR10-PATCHES,       Model = gaussian,       Architecture: conv+b|conv+b      \n",
       "-------------------------------------------------------------------------------------------------------------------\n",
       "VAE:\n",
       "\u001b[1m{\u001b[0m\u001b[32m'dataset'\u001b[0m: \u001b[32m'CIFAR10-PATCHES'\u001b[0m, \u001b[32m'n_ch'\u001b[0m: \u001b[1;36m32\u001b[0m, \u001b[32m'n_latents'\u001b[0m: \u001b[1;36m10\u001b[0m, \u001b[32m'enc_type'\u001b[0m: \u001b[32m'conv'\u001b[0m, \u001b[32m'dec_type'\u001b[0m: \u001b[32m'conv'\u001b[0m, \u001b[32m'enc_bias'\u001b[0m: \n",
       "\u001b[3;92mTrue\u001b[0m, \u001b[32m'dec_bias'\u001b[0m: \u001b[3;92mTrue\u001b[0m, \u001b[32m'init_dist'\u001b[0m: \u001b[32m'StudentT'\u001b[0m, \u001b[32m'init_scale'\u001b[0m: \u001b[1;36m0.1\u001b[0m\u001b[1m}\u001b[0m\n",
       "\n",
       "Trainer:\n",
       "\u001b[1m{\u001b[0m\u001b[32m'temp_anneal_portion'\u001b[0m: \u001b[1;36m0.0\u001b[0m, \u001b[32m'temp_stop'\u001b[0m: \u001b[1;36m1.0\u001b[0m, \u001b[32m'lr'\u001b[0m: \u001b[1;36m0.005\u001b[0m, \u001b[32m'batch_size'\u001b[0m: \u001b[1;36m1000\u001b[0m, \u001b[32m'epochs'\u001b[0m: \u001b[1;36m1500\u001b[0m, \u001b[32m'optimizer_kws'\u001b[0m: \n",
       "\u001b[1m{\u001b[0m\u001b[32m'weight_decay'\u001b[0m: \u001b[1;36m0.0\u001b[0m\u001b[1m}\u001b[0m, \u001b[32m'grad_clip'\u001b[0m: \u001b[1;36m500\u001b[0m, \u001b[32m'kl_const_portion'\u001b[0m: \u001b[1;36m0.01\u001b[0m\u001b[1m}\u001b[0m\n",
       "-------------------------------------------------------------------------------------------------------------------\n",
       "\n",
       "\n",
       "\n"
      ]
     },
     "metadata": {},
     "output_type": "display_data"
    },
    {
     "data": {
      "text/html": [
       "<pre style=\"white-space:pre;overflow-x:auto;line-height:normal;font-family:Menlo,'DejaVu Sans Mono',consolas,'Courier New',monospace\">-------------------------------------------------------------------------------------------------------------------\n",
       "                         Dataset = CIFAR10-PATCHES,       Model = laplace,       Architecture: lin|lin             \n",
       "-------------------------------------------------------------------------------------------------------------------\n",
       "VAE:\n",
       "<span style=\"font-weight: bold\">{</span><span style=\"color: #008000; text-decoration-color: #008000\">'dataset'</span>: <span style=\"color: #008000; text-decoration-color: #008000\">'CIFAR10-PATCHES'</span>, <span style=\"color: #008000; text-decoration-color: #008000\">'n_ch'</span>: <span style=\"color: #008080; text-decoration-color: #008080; font-weight: bold\">32</span>, <span style=\"color: #008000; text-decoration-color: #008000\">'n_latents'</span>: <span style=\"color: #008080; text-decoration-color: #008080; font-weight: bold\">512</span>, <span style=\"color: #008000; text-decoration-color: #008000\">'enc_type'</span>: <span style=\"color: #008000; text-decoration-color: #008000\">'lin'</span>, <span style=\"color: #008000; text-decoration-color: #008000\">'dec_type'</span>: <span style=\"color: #008000; text-decoration-color: #008000\">'lin'</span>, <span style=\"color: #008000; text-decoration-color: #008000\">'enc_bias'</span>: \n",
       "<span style=\"color: #ff0000; text-decoration-color: #ff0000; font-style: italic\">False</span>, <span style=\"color: #008000; text-decoration-color: #008000\">'dec_bias'</span>: <span style=\"color: #ff0000; text-decoration-color: #ff0000; font-style: italic\">False</span>, <span style=\"color: #008000; text-decoration-color: #008000\">'init_dist'</span>: <span style=\"color: #008000; text-decoration-color: #008000\">'Normal'</span>, <span style=\"color: #008000; text-decoration-color: #008000\">'init_scale'</span>: <span style=\"color: #008080; text-decoration-color: #008080; font-weight: bold\">0.05</span><span style=\"font-weight: bold\">}</span>\n",
       "\n",
       "Trainer:\n",
       "<span style=\"font-weight: bold\">{</span><span style=\"color: #008000; text-decoration-color: #008000\">'temp_anneal_portion'</span>: <span style=\"color: #008080; text-decoration-color: #008080; font-weight: bold\">0.0</span>, <span style=\"color: #008000; text-decoration-color: #008000\">'temp_stop'</span>: <span style=\"color: #008080; text-decoration-color: #008080; font-weight: bold\">1.0</span>, <span style=\"color: #008000; text-decoration-color: #008000\">'lr'</span>: <span style=\"color: #008080; text-decoration-color: #008080; font-weight: bold\">0.005</span>, <span style=\"color: #008000; text-decoration-color: #008000\">'batch_size'</span>: <span style=\"color: #008080; text-decoration-color: #008080; font-weight: bold\">1000</span>, <span style=\"color: #008000; text-decoration-color: #008000\">'epochs'</span>: <span style=\"color: #008080; text-decoration-color: #008080; font-weight: bold\">1500</span>, <span style=\"color: #008000; text-decoration-color: #008000\">'optimizer_kws'</span>: \n",
       "<span style=\"font-weight: bold\">{</span><span style=\"color: #008000; text-decoration-color: #008000\">'weight_decay'</span>: <span style=\"color: #008080; text-decoration-color: #008080; font-weight: bold\">0.0</span><span style=\"font-weight: bold\">}</span>, <span style=\"color: #008000; text-decoration-color: #008000\">'grad_clip'</span>: <span style=\"color: #008080; text-decoration-color: #008080; font-weight: bold\">500</span>, <span style=\"color: #008000; text-decoration-color: #008000\">'kl_const_portion'</span>: <span style=\"color: #008080; text-decoration-color: #008080; font-weight: bold\">0.0</span><span style=\"font-weight: bold\">}</span>\n",
       "-------------------------------------------------------------------------------------------------------------------\n",
       "\n",
       "\n",
       "\n",
       "</pre>\n"
      ],
      "text/plain": [
       "-------------------------------------------------------------------------------------------------------------------\n",
       "                         Dataset = CIFAR10-PATCHES,       Model = laplace,       Architecture: lin|lin             \n",
       "-------------------------------------------------------------------------------------------------------------------\n",
       "VAE:\n",
       "\u001b[1m{\u001b[0m\u001b[32m'dataset'\u001b[0m: \u001b[32m'CIFAR10-PATCHES'\u001b[0m, \u001b[32m'n_ch'\u001b[0m: \u001b[1;36m32\u001b[0m, \u001b[32m'n_latents'\u001b[0m: \u001b[1;36m512\u001b[0m, \u001b[32m'enc_type'\u001b[0m: \u001b[32m'lin'\u001b[0m, \u001b[32m'dec_type'\u001b[0m: \u001b[32m'lin'\u001b[0m, \u001b[32m'enc_bias'\u001b[0m: \n",
       "\u001b[3;91mFalse\u001b[0m, \u001b[32m'dec_bias'\u001b[0m: \u001b[3;91mFalse\u001b[0m, \u001b[32m'init_dist'\u001b[0m: \u001b[32m'Normal'\u001b[0m, \u001b[32m'init_scale'\u001b[0m: \u001b[1;36m0.05\u001b[0m\u001b[1m}\u001b[0m\n",
       "\n",
       "Trainer:\n",
       "\u001b[1m{\u001b[0m\u001b[32m'temp_anneal_portion'\u001b[0m: \u001b[1;36m0.0\u001b[0m, \u001b[32m'temp_stop'\u001b[0m: \u001b[1;36m1.0\u001b[0m, \u001b[32m'lr'\u001b[0m: \u001b[1;36m0.005\u001b[0m, \u001b[32m'batch_size'\u001b[0m: \u001b[1;36m1000\u001b[0m, \u001b[32m'epochs'\u001b[0m: \u001b[1;36m1500\u001b[0m, \u001b[32m'optimizer_kws'\u001b[0m: \n",
       "\u001b[1m{\u001b[0m\u001b[32m'weight_decay'\u001b[0m: \u001b[1;36m0.0\u001b[0m\u001b[1m}\u001b[0m, \u001b[32m'grad_clip'\u001b[0m: \u001b[1;36m500\u001b[0m, \u001b[32m'kl_const_portion'\u001b[0m: \u001b[1;36m0.0\u001b[0m\u001b[1m}\u001b[0m\n",
       "-------------------------------------------------------------------------------------------------------------------\n",
       "\n",
       "\n",
       "\n"
      ]
     },
     "metadata": {},
     "output_type": "display_data"
    },
    {
     "data": {
      "text/html": [
       "<pre style=\"white-space:pre;overflow-x:auto;line-height:normal;font-family:Menlo,'DejaVu Sans Mono',consolas,'Courier New',monospace\">-------------------------------------------------------------------------------------------------------------------\n",
       "                         Dataset = CIFAR10-PATCHES,       Model = laplace,       Architecture: mlp+b|lin           \n",
       "-------------------------------------------------------------------------------------------------------------------\n",
       "VAE:\n",
       "<span style=\"font-weight: bold\">{</span><span style=\"color: #008000; text-decoration-color: #008000\">'dataset'</span>: <span style=\"color: #008000; text-decoration-color: #008000\">'CIFAR10-PATCHES'</span>, <span style=\"color: #008000; text-decoration-color: #008000\">'n_ch'</span>: <span style=\"color: #008080; text-decoration-color: #008080; font-weight: bold\">16</span>, <span style=\"color: #008000; text-decoration-color: #008000\">'n_latents'</span>: <span style=\"color: #008080; text-decoration-color: #008080; font-weight: bold\">512</span>, <span style=\"color: #008000; text-decoration-color: #008000\">'enc_type'</span>: <span style=\"color: #008000; text-decoration-color: #008000\">'mlp'</span>, <span style=\"color: #008000; text-decoration-color: #008000\">'dec_type'</span>: <span style=\"color: #008000; text-decoration-color: #008000\">'lin'</span>, <span style=\"color: #008000; text-decoration-color: #008000\">'enc_bias'</span>: \n",
       "<span style=\"color: #00ff00; text-decoration-color: #00ff00; font-style: italic\">True</span>, <span style=\"color: #008000; text-decoration-color: #008000\">'dec_bias'</span>: <span style=\"color: #ff0000; text-decoration-color: #ff0000; font-style: italic\">False</span>, <span style=\"color: #008000; text-decoration-color: #008000\">'init_dist'</span>: <span style=\"color: #008000; text-decoration-color: #008000\">'Normal'</span>, <span style=\"color: #008000; text-decoration-color: #008000\">'init_scale'</span>: <span style=\"color: #008080; text-decoration-color: #008080; font-weight: bold\">0.05</span><span style=\"font-weight: bold\">}</span>\n",
       "\n",
       "Trainer:\n",
       "<span style=\"font-weight: bold\">{</span><span style=\"color: #008000; text-decoration-color: #008000\">'temp_anneal_portion'</span>: <span style=\"color: #008080; text-decoration-color: #008080; font-weight: bold\">0.0</span>, <span style=\"color: #008000; text-decoration-color: #008000\">'temp_stop'</span>: <span style=\"color: #008080; text-decoration-color: #008080; font-weight: bold\">1.0</span>, <span style=\"color: #008000; text-decoration-color: #008000\">'lr'</span>: <span style=\"color: #008080; text-decoration-color: #008080; font-weight: bold\">0.005</span>, <span style=\"color: #008000; text-decoration-color: #008000\">'batch_size'</span>: <span style=\"color: #008080; text-decoration-color: #008080; font-weight: bold\">1000</span>, <span style=\"color: #008000; text-decoration-color: #008000\">'epochs'</span>: <span style=\"color: #008080; text-decoration-color: #008080; font-weight: bold\">1500</span>, <span style=\"color: #008000; text-decoration-color: #008000\">'optimizer_kws'</span>: \n",
       "<span style=\"font-weight: bold\">{</span><span style=\"color: #008000; text-decoration-color: #008000\">'weight_decay'</span>: <span style=\"color: #008080; text-decoration-color: #008080; font-weight: bold\">0.0</span><span style=\"font-weight: bold\">}</span>, <span style=\"color: #008000; text-decoration-color: #008000\">'grad_clip'</span>: <span style=\"color: #008080; text-decoration-color: #008080; font-weight: bold\">500</span>, <span style=\"color: #008000; text-decoration-color: #008000\">'kl_const_portion'</span>: <span style=\"color: #008080; text-decoration-color: #008080; font-weight: bold\">0.0</span><span style=\"font-weight: bold\">}</span>\n",
       "-------------------------------------------------------------------------------------------------------------------\n",
       "\n",
       "\n",
       "\n",
       "</pre>\n"
      ],
      "text/plain": [
       "-------------------------------------------------------------------------------------------------------------------\n",
       "                         Dataset = CIFAR10-PATCHES,       Model = laplace,       Architecture: mlp+b|lin           \n",
       "-------------------------------------------------------------------------------------------------------------------\n",
       "VAE:\n",
       "\u001b[1m{\u001b[0m\u001b[32m'dataset'\u001b[0m: \u001b[32m'CIFAR10-PATCHES'\u001b[0m, \u001b[32m'n_ch'\u001b[0m: \u001b[1;36m16\u001b[0m, \u001b[32m'n_latents'\u001b[0m: \u001b[1;36m512\u001b[0m, \u001b[32m'enc_type'\u001b[0m: \u001b[32m'mlp'\u001b[0m, \u001b[32m'dec_type'\u001b[0m: \u001b[32m'lin'\u001b[0m, \u001b[32m'enc_bias'\u001b[0m: \n",
       "\u001b[3;92mTrue\u001b[0m, \u001b[32m'dec_bias'\u001b[0m: \u001b[3;91mFalse\u001b[0m, \u001b[32m'init_dist'\u001b[0m: \u001b[32m'Normal'\u001b[0m, \u001b[32m'init_scale'\u001b[0m: \u001b[1;36m0.05\u001b[0m\u001b[1m}\u001b[0m\n",
       "\n",
       "Trainer:\n",
       "\u001b[1m{\u001b[0m\u001b[32m'temp_anneal_portion'\u001b[0m: \u001b[1;36m0.0\u001b[0m, \u001b[32m'temp_stop'\u001b[0m: \u001b[1;36m1.0\u001b[0m, \u001b[32m'lr'\u001b[0m: \u001b[1;36m0.005\u001b[0m, \u001b[32m'batch_size'\u001b[0m: \u001b[1;36m1000\u001b[0m, \u001b[32m'epochs'\u001b[0m: \u001b[1;36m1500\u001b[0m, \u001b[32m'optimizer_kws'\u001b[0m: \n",
       "\u001b[1m{\u001b[0m\u001b[32m'weight_decay'\u001b[0m: \u001b[1;36m0.0\u001b[0m\u001b[1m}\u001b[0m, \u001b[32m'grad_clip'\u001b[0m: \u001b[1;36m500\u001b[0m, \u001b[32m'kl_const_portion'\u001b[0m: \u001b[1;36m0.0\u001b[0m\u001b[1m}\u001b[0m\n",
       "-------------------------------------------------------------------------------------------------------------------\n",
       "\n",
       "\n",
       "\n"
      ]
     },
     "metadata": {},
     "output_type": "display_data"
    },
    {
     "data": {
      "text/html": [
       "<pre style=\"white-space:pre;overflow-x:auto;line-height:normal;font-family:Menlo,'DejaVu Sans Mono',consolas,'Courier New',monospace\">-------------------------------------------------------------------------------------------------------------------\n",
       "                         Dataset = CIFAR10-PATCHES,       Model = laplace,       Architecture: conv+b|lin          \n",
       "-------------------------------------------------------------------------------------------------------------------\n",
       "VAE:\n",
       "<span style=\"font-weight: bold\">{</span><span style=\"color: #008000; text-decoration-color: #008000\">'dataset'</span>: <span style=\"color: #008000; text-decoration-color: #008000\">'CIFAR10-PATCHES'</span>, <span style=\"color: #008000; text-decoration-color: #008000\">'n_ch'</span>: <span style=\"color: #008080; text-decoration-color: #008080; font-weight: bold\">32</span>, <span style=\"color: #008000; text-decoration-color: #008000\">'n_latents'</span>: <span style=\"color: #008080; text-decoration-color: #008080; font-weight: bold\">512</span>, <span style=\"color: #008000; text-decoration-color: #008000\">'enc_type'</span>: <span style=\"color: #008000; text-decoration-color: #008000\">'conv'</span>, <span style=\"color: #008000; text-decoration-color: #008000\">'dec_type'</span>: <span style=\"color: #008000; text-decoration-color: #008000\">'lin'</span>, <span style=\"color: #008000; text-decoration-color: #008000\">'enc_bias'</span>: \n",
       "<span style=\"color: #00ff00; text-decoration-color: #00ff00; font-style: italic\">True</span>, <span style=\"color: #008000; text-decoration-color: #008000\">'dec_bias'</span>: <span style=\"color: #ff0000; text-decoration-color: #ff0000; font-style: italic\">False</span>, <span style=\"color: #008000; text-decoration-color: #008000\">'init_dist'</span>: <span style=\"color: #008000; text-decoration-color: #008000\">'Normal'</span>, <span style=\"color: #008000; text-decoration-color: #008000\">'init_scale'</span>: <span style=\"color: #008080; text-decoration-color: #008080; font-weight: bold\">0.05</span><span style=\"font-weight: bold\">}</span>\n",
       "\n",
       "Trainer:\n",
       "<span style=\"font-weight: bold\">{</span><span style=\"color: #008000; text-decoration-color: #008000\">'temp_anneal_portion'</span>: <span style=\"color: #008080; text-decoration-color: #008080; font-weight: bold\">0.0</span>, <span style=\"color: #008000; text-decoration-color: #008000\">'temp_stop'</span>: <span style=\"color: #008080; text-decoration-color: #008080; font-weight: bold\">1.0</span>, <span style=\"color: #008000; text-decoration-color: #008000\">'lr'</span>: <span style=\"color: #008080; text-decoration-color: #008080; font-weight: bold\">0.005</span>, <span style=\"color: #008000; text-decoration-color: #008000\">'batch_size'</span>: <span style=\"color: #008080; text-decoration-color: #008080; font-weight: bold\">1000</span>, <span style=\"color: #008000; text-decoration-color: #008000\">'epochs'</span>: <span style=\"color: #008080; text-decoration-color: #008080; font-weight: bold\">1500</span>, <span style=\"color: #008000; text-decoration-color: #008000\">'optimizer_kws'</span>: \n",
       "<span style=\"font-weight: bold\">{</span><span style=\"color: #008000; text-decoration-color: #008000\">'weight_decay'</span>: <span style=\"color: #008080; text-decoration-color: #008080; font-weight: bold\">0.0</span><span style=\"font-weight: bold\">}</span>, <span style=\"color: #008000; text-decoration-color: #008000\">'grad_clip'</span>: <span style=\"color: #008080; text-decoration-color: #008080; font-weight: bold\">500</span>, <span style=\"color: #008000; text-decoration-color: #008000\">'kl_const_portion'</span>: <span style=\"color: #008080; text-decoration-color: #008080; font-weight: bold\">0.0</span><span style=\"font-weight: bold\">}</span>\n",
       "-------------------------------------------------------------------------------------------------------------------\n",
       "\n",
       "\n",
       "\n",
       "</pre>\n"
      ],
      "text/plain": [
       "-------------------------------------------------------------------------------------------------------------------\n",
       "                         Dataset = CIFAR10-PATCHES,       Model = laplace,       Architecture: conv+b|lin          \n",
       "-------------------------------------------------------------------------------------------------------------------\n",
       "VAE:\n",
       "\u001b[1m{\u001b[0m\u001b[32m'dataset'\u001b[0m: \u001b[32m'CIFAR10-PATCHES'\u001b[0m, \u001b[32m'n_ch'\u001b[0m: \u001b[1;36m32\u001b[0m, \u001b[32m'n_latents'\u001b[0m: \u001b[1;36m512\u001b[0m, \u001b[32m'enc_type'\u001b[0m: \u001b[32m'conv'\u001b[0m, \u001b[32m'dec_type'\u001b[0m: \u001b[32m'lin'\u001b[0m, \u001b[32m'enc_bias'\u001b[0m: \n",
       "\u001b[3;92mTrue\u001b[0m, \u001b[32m'dec_bias'\u001b[0m: \u001b[3;91mFalse\u001b[0m, \u001b[32m'init_dist'\u001b[0m: \u001b[32m'Normal'\u001b[0m, \u001b[32m'init_scale'\u001b[0m: \u001b[1;36m0.05\u001b[0m\u001b[1m}\u001b[0m\n",
       "\n",
       "Trainer:\n",
       "\u001b[1m{\u001b[0m\u001b[32m'temp_anneal_portion'\u001b[0m: \u001b[1;36m0.0\u001b[0m, \u001b[32m'temp_stop'\u001b[0m: \u001b[1;36m1.0\u001b[0m, \u001b[32m'lr'\u001b[0m: \u001b[1;36m0.005\u001b[0m, \u001b[32m'batch_size'\u001b[0m: \u001b[1;36m1000\u001b[0m, \u001b[32m'epochs'\u001b[0m: \u001b[1;36m1500\u001b[0m, \u001b[32m'optimizer_kws'\u001b[0m: \n",
       "\u001b[1m{\u001b[0m\u001b[32m'weight_decay'\u001b[0m: \u001b[1;36m0.0\u001b[0m\u001b[1m}\u001b[0m, \u001b[32m'grad_clip'\u001b[0m: \u001b[1;36m500\u001b[0m, \u001b[32m'kl_const_portion'\u001b[0m: \u001b[1;36m0.0\u001b[0m\u001b[1m}\u001b[0m\n",
       "-------------------------------------------------------------------------------------------------------------------\n",
       "\n",
       "\n",
       "\n"
      ]
     },
     "metadata": {},
     "output_type": "display_data"
    },
    {
     "data": {
      "text/html": [
       "<pre style=\"white-space:pre;overflow-x:auto;line-height:normal;font-family:Menlo,'DejaVu Sans Mono',consolas,'Courier New',monospace\">-------------------------------------------------------------------------------------------------------------------\n",
       "                         Dataset = CIFAR10-PATCHES,       Model = laplace,       Architecture: conv+b|conv+b       \n",
       "-------------------------------------------------------------------------------------------------------------------\n",
       "VAE:\n",
       "<span style=\"font-weight: bold\">{</span><span style=\"color: #008000; text-decoration-color: #008000\">'dataset'</span>: <span style=\"color: #008000; text-decoration-color: #008000\">'CIFAR10-PATCHES'</span>, <span style=\"color: #008000; text-decoration-color: #008000\">'n_ch'</span>: <span style=\"color: #008080; text-decoration-color: #008080; font-weight: bold\">32</span>, <span style=\"color: #008000; text-decoration-color: #008000\">'n_latents'</span>: <span style=\"color: #008080; text-decoration-color: #008080; font-weight: bold\">10</span>, <span style=\"color: #008000; text-decoration-color: #008000\">'enc_type'</span>: <span style=\"color: #008000; text-decoration-color: #008000\">'conv'</span>, <span style=\"color: #008000; text-decoration-color: #008000\">'dec_type'</span>: <span style=\"color: #008000; text-decoration-color: #008000\">'conv'</span>, <span style=\"color: #008000; text-decoration-color: #008000\">'enc_bias'</span>: \n",
       "<span style=\"color: #00ff00; text-decoration-color: #00ff00; font-style: italic\">True</span>, <span style=\"color: #008000; text-decoration-color: #008000\">'dec_bias'</span>: <span style=\"color: #00ff00; text-decoration-color: #00ff00; font-style: italic\">True</span>, <span style=\"color: #008000; text-decoration-color: #008000\">'init_dist'</span>: <span style=\"color: #008000; text-decoration-color: #008000\">'StudentT'</span>, <span style=\"color: #008000; text-decoration-color: #008000\">'init_scale'</span>: <span style=\"color: #008080; text-decoration-color: #008080; font-weight: bold\">0.1</span><span style=\"font-weight: bold\">}</span>\n",
       "\n",
       "Trainer:\n",
       "<span style=\"font-weight: bold\">{</span><span style=\"color: #008000; text-decoration-color: #008000\">'temp_anneal_portion'</span>: <span style=\"color: #008080; text-decoration-color: #008080; font-weight: bold\">0.0</span>, <span style=\"color: #008000; text-decoration-color: #008000\">'temp_stop'</span>: <span style=\"color: #008080; text-decoration-color: #008080; font-weight: bold\">1.0</span>, <span style=\"color: #008000; text-decoration-color: #008000\">'lr'</span>: <span style=\"color: #008080; text-decoration-color: #008080; font-weight: bold\">0.005</span>, <span style=\"color: #008000; text-decoration-color: #008000\">'batch_size'</span>: <span style=\"color: #008080; text-decoration-color: #008080; font-weight: bold\">1000</span>, <span style=\"color: #008000; text-decoration-color: #008000\">'epochs'</span>: <span style=\"color: #008080; text-decoration-color: #008080; font-weight: bold\">1500</span>, <span style=\"color: #008000; text-decoration-color: #008000\">'optimizer_kws'</span>: \n",
       "<span style=\"font-weight: bold\">{</span><span style=\"color: #008000; text-decoration-color: #008000\">'weight_decay'</span>: <span style=\"color: #008080; text-decoration-color: #008080; font-weight: bold\">0.0</span><span style=\"font-weight: bold\">}</span>, <span style=\"color: #008000; text-decoration-color: #008000\">'grad_clip'</span>: <span style=\"color: #008080; text-decoration-color: #008080; font-weight: bold\">500</span>, <span style=\"color: #008000; text-decoration-color: #008000\">'kl_const_portion'</span>: <span style=\"color: #008080; text-decoration-color: #008080; font-weight: bold\">0.01</span><span style=\"font-weight: bold\">}</span>\n",
       "-------------------------------------------------------------------------------------------------------------------\n",
       "\n",
       "\n",
       "\n",
       "</pre>\n"
      ],
      "text/plain": [
       "-------------------------------------------------------------------------------------------------------------------\n",
       "                         Dataset = CIFAR10-PATCHES,       Model = laplace,       Architecture: conv+b|conv+b       \n",
       "-------------------------------------------------------------------------------------------------------------------\n",
       "VAE:\n",
       "\u001b[1m{\u001b[0m\u001b[32m'dataset'\u001b[0m: \u001b[32m'CIFAR10-PATCHES'\u001b[0m, \u001b[32m'n_ch'\u001b[0m: \u001b[1;36m32\u001b[0m, \u001b[32m'n_latents'\u001b[0m: \u001b[1;36m10\u001b[0m, \u001b[32m'enc_type'\u001b[0m: \u001b[32m'conv'\u001b[0m, \u001b[32m'dec_type'\u001b[0m: \u001b[32m'conv'\u001b[0m, \u001b[32m'enc_bias'\u001b[0m: \n",
       "\u001b[3;92mTrue\u001b[0m, \u001b[32m'dec_bias'\u001b[0m: \u001b[3;92mTrue\u001b[0m, \u001b[32m'init_dist'\u001b[0m: \u001b[32m'StudentT'\u001b[0m, \u001b[32m'init_scale'\u001b[0m: \u001b[1;36m0.1\u001b[0m\u001b[1m}\u001b[0m\n",
       "\n",
       "Trainer:\n",
       "\u001b[1m{\u001b[0m\u001b[32m'temp_anneal_portion'\u001b[0m: \u001b[1;36m0.0\u001b[0m, \u001b[32m'temp_stop'\u001b[0m: \u001b[1;36m1.0\u001b[0m, \u001b[32m'lr'\u001b[0m: \u001b[1;36m0.005\u001b[0m, \u001b[32m'batch_size'\u001b[0m: \u001b[1;36m1000\u001b[0m, \u001b[32m'epochs'\u001b[0m: \u001b[1;36m1500\u001b[0m, \u001b[32m'optimizer_kws'\u001b[0m: \n",
       "\u001b[1m{\u001b[0m\u001b[32m'weight_decay'\u001b[0m: \u001b[1;36m0.0\u001b[0m\u001b[1m}\u001b[0m, \u001b[32m'grad_clip'\u001b[0m: \u001b[1;36m500\u001b[0m, \u001b[32m'kl_const_portion'\u001b[0m: \u001b[1;36m0.01\u001b[0m\u001b[1m}\u001b[0m\n",
       "-------------------------------------------------------------------------------------------------------------------\n",
       "\n",
       "\n",
       "\n"
      ]
     },
     "metadata": {},
     "output_type": "display_data"
    },
    {
     "data": {
      "text/html": [
       "<pre style=\"white-space:pre;overflow-x:auto;line-height:normal;font-family:Menlo,'DejaVu Sans Mono',consolas,'Courier New',monospace\">-------------------------------------------------------------------------------------------------------------------\n",
       "                         Dataset = MNIST,       Model = poisson,       Architecture: lin|lin                       \n",
       "-------------------------------------------------------------------------------------------------------------------\n",
       "VAE:\n",
       "<span style=\"font-weight: bold\">{</span><span style=\"color: #008000; text-decoration-color: #008000\">'dataset'</span>: <span style=\"color: #008000; text-decoration-color: #008000\">'MNIST'</span>, <span style=\"color: #008000; text-decoration-color: #008000\">'n_ch'</span>: <span style=\"color: #008080; text-decoration-color: #008080; font-weight: bold\">32</span>, <span style=\"color: #008000; text-decoration-color: #008000\">'n_latents'</span>: <span style=\"color: #008080; text-decoration-color: #008080; font-weight: bold\">512</span>, <span style=\"color: #008000; text-decoration-color: #008000\">'prior_clamp'</span>: <span style=\"color: #008080; text-decoration-color: #008080; font-weight: bold\">-4</span>, <span style=\"color: #008000; text-decoration-color: #008000\">'fit_prior'</span>: <span style=\"color: #00ff00; text-decoration-color: #00ff00; font-style: italic\">True</span>, <span style=\"color: #008000; text-decoration-color: #008000\">'enc_type'</span>: <span style=\"color: #008000; text-decoration-color: #008000\">'lin'</span>, \n",
       "<span style=\"color: #008000; text-decoration-color: #008000\">'dec_type'</span>: <span style=\"color: #008000; text-decoration-color: #008000\">'lin'</span>, <span style=\"color: #008000; text-decoration-color: #008000\">'enc_bias'</span>: <span style=\"color: #ff0000; text-decoration-color: #ff0000; font-style: italic\">False</span>, <span style=\"color: #008000; text-decoration-color: #008000\">'dec_bias'</span>: <span style=\"color: #ff0000; text-decoration-color: #ff0000; font-style: italic\">False</span>, <span style=\"color: #008000; text-decoration-color: #008000\">'init_dist'</span>: <span style=\"color: #008000; text-decoration-color: #008000\">'Normal'</span>, <span style=\"color: #008000; text-decoration-color: #008000\">'init_scale'</span>: <span style=\"color: #008080; text-decoration-color: #008080; font-weight: bold\">0.05</span><span style=\"font-weight: bold\">}</span>\n",
       "\n",
       "Trainer:\n",
       "<span style=\"font-weight: bold\">{</span><span style=\"color: #008000; text-decoration-color: #008000\">'lr'</span>: <span style=\"color: #008080; text-decoration-color: #008080; font-weight: bold\">0.002</span>, <span style=\"color: #008000; text-decoration-color: #008000\">'epochs'</span>: <span style=\"color: #008080; text-decoration-color: #008080; font-weight: bold\">1200</span>, <span style=\"color: #008000; text-decoration-color: #008000\">'batch_size'</span>: <span style=\"color: #008080; text-decoration-color: #008080; font-weight: bold\">200</span>, <span style=\"color: #008000; text-decoration-color: #008000\">'warm_restart'</span>: <span style=\"color: #008080; text-decoration-color: #008080; font-weight: bold\">2</span>, <span style=\"color: #008000; text-decoration-color: #008000\">'optimizer_kws'</span>: <span style=\"font-weight: bold\">{</span><span style=\"color: #008000; text-decoration-color: #008000\">'weight_decay'</span>: <span style=\"color: #008080; text-decoration-color: #008080; font-weight: bold\">0.0003</span><span style=\"font-weight: bold\">}</span>, \n",
       "<span style=\"color: #008000; text-decoration-color: #008000\">'grad_clip'</span>: <span style=\"color: #008080; text-decoration-color: #008080; font-weight: bold\">1000</span>, <span style=\"color: #008000; text-decoration-color: #008000\">'kl_const_portion'</span>: <span style=\"color: #008080; text-decoration-color: #008080; font-weight: bold\">0.0</span><span style=\"font-weight: bold\">}</span>\n",
       "-------------------------------------------------------------------------------------------------------------------\n",
       "\n",
       "\n",
       "\n",
       "</pre>\n"
      ],
      "text/plain": [
       "-------------------------------------------------------------------------------------------------------------------\n",
       "                         Dataset = MNIST,       Model = poisson,       Architecture: lin|lin                       \n",
       "-------------------------------------------------------------------------------------------------------------------\n",
       "VAE:\n",
       "\u001b[1m{\u001b[0m\u001b[32m'dataset'\u001b[0m: \u001b[32m'MNIST'\u001b[0m, \u001b[32m'n_ch'\u001b[0m: \u001b[1;36m32\u001b[0m, \u001b[32m'n_latents'\u001b[0m: \u001b[1;36m512\u001b[0m, \u001b[32m'prior_clamp'\u001b[0m: \u001b[1;36m-4\u001b[0m, \u001b[32m'fit_prior'\u001b[0m: \u001b[3;92mTrue\u001b[0m, \u001b[32m'enc_type'\u001b[0m: \u001b[32m'lin'\u001b[0m, \n",
       "\u001b[32m'dec_type'\u001b[0m: \u001b[32m'lin'\u001b[0m, \u001b[32m'enc_bias'\u001b[0m: \u001b[3;91mFalse\u001b[0m, \u001b[32m'dec_bias'\u001b[0m: \u001b[3;91mFalse\u001b[0m, \u001b[32m'init_dist'\u001b[0m: \u001b[32m'Normal'\u001b[0m, \u001b[32m'init_scale'\u001b[0m: \u001b[1;36m0.05\u001b[0m\u001b[1m}\u001b[0m\n",
       "\n",
       "Trainer:\n",
       "\u001b[1m{\u001b[0m\u001b[32m'lr'\u001b[0m: \u001b[1;36m0.002\u001b[0m, \u001b[32m'epochs'\u001b[0m: \u001b[1;36m1200\u001b[0m, \u001b[32m'batch_size'\u001b[0m: \u001b[1;36m200\u001b[0m, \u001b[32m'warm_restart'\u001b[0m: \u001b[1;36m2\u001b[0m, \u001b[32m'optimizer_kws'\u001b[0m: \u001b[1m{\u001b[0m\u001b[32m'weight_decay'\u001b[0m: \u001b[1;36m0.0003\u001b[0m\u001b[1m}\u001b[0m, \n",
       "\u001b[32m'grad_clip'\u001b[0m: \u001b[1;36m1000\u001b[0m, \u001b[32m'kl_const_portion'\u001b[0m: \u001b[1;36m0.0\u001b[0m\u001b[1m}\u001b[0m\n",
       "-------------------------------------------------------------------------------------------------------------------\n",
       "\n",
       "\n",
       "\n"
      ]
     },
     "metadata": {},
     "output_type": "display_data"
    },
    {
     "data": {
      "text/html": [
       "<pre style=\"white-space:pre;overflow-x:auto;line-height:normal;font-family:Menlo,'DejaVu Sans Mono',consolas,'Courier New',monospace\">-------------------------------------------------------------------------------------------------------------------\n",
       "                         Dataset = MNIST,       Model = poisson,       Architecture: mlp+b|lin                     \n",
       "-------------------------------------------------------------------------------------------------------------------\n",
       "VAE:\n",
       "<span style=\"font-weight: bold\">{</span><span style=\"color: #008000; text-decoration-color: #008000\">'dataset'</span>: <span style=\"color: #008000; text-decoration-color: #008000\">'MNIST'</span>, <span style=\"color: #008000; text-decoration-color: #008000\">'n_ch'</span>: <span style=\"color: #008080; text-decoration-color: #008080; font-weight: bold\">16</span>, <span style=\"color: #008000; text-decoration-color: #008000\">'n_latents'</span>: <span style=\"color: #008080; text-decoration-color: #008080; font-weight: bold\">512</span>, <span style=\"color: #008000; text-decoration-color: #008000\">'prior_clamp'</span>: <span style=\"color: #008080; text-decoration-color: #008080; font-weight: bold\">-4</span>, <span style=\"color: #008000; text-decoration-color: #008000\">'fit_prior'</span>: <span style=\"color: #00ff00; text-decoration-color: #00ff00; font-style: italic\">True</span>, <span style=\"color: #008000; text-decoration-color: #008000\">'enc_type'</span>: <span style=\"color: #008000; text-decoration-color: #008000\">'mlp'</span>, \n",
       "<span style=\"color: #008000; text-decoration-color: #008000\">'dec_type'</span>: <span style=\"color: #008000; text-decoration-color: #008000\">'lin'</span>, <span style=\"color: #008000; text-decoration-color: #008000\">'enc_bias'</span>: <span style=\"color: #00ff00; text-decoration-color: #00ff00; font-style: italic\">True</span>, <span style=\"color: #008000; text-decoration-color: #008000\">'dec_bias'</span>: <span style=\"color: #ff0000; text-decoration-color: #ff0000; font-style: italic\">False</span>, <span style=\"color: #008000; text-decoration-color: #008000\">'init_dist'</span>: <span style=\"color: #008000; text-decoration-color: #008000\">'Normal'</span>, <span style=\"color: #008000; text-decoration-color: #008000\">'init_scale'</span>: <span style=\"color: #008080; text-decoration-color: #008080; font-weight: bold\">0.05</span><span style=\"font-weight: bold\">}</span>\n",
       "\n",
       "Trainer:\n",
       "<span style=\"font-weight: bold\">{</span><span style=\"color: #008000; text-decoration-color: #008000\">'lr'</span>: <span style=\"color: #008080; text-decoration-color: #008080; font-weight: bold\">0.002</span>, <span style=\"color: #008000; text-decoration-color: #008000\">'epochs'</span>: <span style=\"color: #008080; text-decoration-color: #008080; font-weight: bold\">1200</span>, <span style=\"color: #008000; text-decoration-color: #008000\">'batch_size'</span>: <span style=\"color: #008080; text-decoration-color: #008080; font-weight: bold\">200</span>, <span style=\"color: #008000; text-decoration-color: #008000\">'warm_restart'</span>: <span style=\"color: #008080; text-decoration-color: #008080; font-weight: bold\">2</span>, <span style=\"color: #008000; text-decoration-color: #008000\">'optimizer_kws'</span>: <span style=\"font-weight: bold\">{</span><span style=\"color: #008000; text-decoration-color: #008000\">'weight_decay'</span>: <span style=\"color: #008080; text-decoration-color: #008080; font-weight: bold\">0.0003</span><span style=\"font-weight: bold\">}</span>, \n",
       "<span style=\"color: #008000; text-decoration-color: #008000\">'grad_clip'</span>: <span style=\"color: #008080; text-decoration-color: #008080; font-weight: bold\">1000</span>, <span style=\"color: #008000; text-decoration-color: #008000\">'kl_const_portion'</span>: <span style=\"color: #008080; text-decoration-color: #008080; font-weight: bold\">0.0</span><span style=\"font-weight: bold\">}</span>\n",
       "-------------------------------------------------------------------------------------------------------------------\n",
       "\n",
       "\n",
       "\n",
       "</pre>\n"
      ],
      "text/plain": [
       "-------------------------------------------------------------------------------------------------------------------\n",
       "                         Dataset = MNIST,       Model = poisson,       Architecture: mlp+b|lin                     \n",
       "-------------------------------------------------------------------------------------------------------------------\n",
       "VAE:\n",
       "\u001b[1m{\u001b[0m\u001b[32m'dataset'\u001b[0m: \u001b[32m'MNIST'\u001b[0m, \u001b[32m'n_ch'\u001b[0m: \u001b[1;36m16\u001b[0m, \u001b[32m'n_latents'\u001b[0m: \u001b[1;36m512\u001b[0m, \u001b[32m'prior_clamp'\u001b[0m: \u001b[1;36m-4\u001b[0m, \u001b[32m'fit_prior'\u001b[0m: \u001b[3;92mTrue\u001b[0m, \u001b[32m'enc_type'\u001b[0m: \u001b[32m'mlp'\u001b[0m, \n",
       "\u001b[32m'dec_type'\u001b[0m: \u001b[32m'lin'\u001b[0m, \u001b[32m'enc_bias'\u001b[0m: \u001b[3;92mTrue\u001b[0m, \u001b[32m'dec_bias'\u001b[0m: \u001b[3;91mFalse\u001b[0m, \u001b[32m'init_dist'\u001b[0m: \u001b[32m'Normal'\u001b[0m, \u001b[32m'init_scale'\u001b[0m: \u001b[1;36m0.05\u001b[0m\u001b[1m}\u001b[0m\n",
       "\n",
       "Trainer:\n",
       "\u001b[1m{\u001b[0m\u001b[32m'lr'\u001b[0m: \u001b[1;36m0.002\u001b[0m, \u001b[32m'epochs'\u001b[0m: \u001b[1;36m1200\u001b[0m, \u001b[32m'batch_size'\u001b[0m: \u001b[1;36m200\u001b[0m, \u001b[32m'warm_restart'\u001b[0m: \u001b[1;36m2\u001b[0m, \u001b[32m'optimizer_kws'\u001b[0m: \u001b[1m{\u001b[0m\u001b[32m'weight_decay'\u001b[0m: \u001b[1;36m0.0003\u001b[0m\u001b[1m}\u001b[0m, \n",
       "\u001b[32m'grad_clip'\u001b[0m: \u001b[1;36m1000\u001b[0m, \u001b[32m'kl_const_portion'\u001b[0m: \u001b[1;36m0.0\u001b[0m\u001b[1m}\u001b[0m\n",
       "-------------------------------------------------------------------------------------------------------------------\n",
       "\n",
       "\n",
       "\n"
      ]
     },
     "metadata": {},
     "output_type": "display_data"
    },
    {
     "data": {
      "text/html": [
       "<pre style=\"white-space:pre;overflow-x:auto;line-height:normal;font-family:Menlo,'DejaVu Sans Mono',consolas,'Courier New',monospace\">-------------------------------------------------------------------------------------------------------------------\n",
       "                         Dataset = MNIST,       Model = poisson,       Architecture: conv+b|lin                    \n",
       "-------------------------------------------------------------------------------------------------------------------\n",
       "VAE:\n",
       "<span style=\"font-weight: bold\">{</span><span style=\"color: #008000; text-decoration-color: #008000\">'dataset'</span>: <span style=\"color: #008000; text-decoration-color: #008000\">'MNIST'</span>, <span style=\"color: #008000; text-decoration-color: #008000\">'n_ch'</span>: <span style=\"color: #008080; text-decoration-color: #008080; font-weight: bold\">32</span>, <span style=\"color: #008000; text-decoration-color: #008000\">'n_latents'</span>: <span style=\"color: #008080; text-decoration-color: #008080; font-weight: bold\">512</span>, <span style=\"color: #008000; text-decoration-color: #008000\">'prior_clamp'</span>: <span style=\"color: #008080; text-decoration-color: #008080; font-weight: bold\">-4</span>, <span style=\"color: #008000; text-decoration-color: #008000\">'fit_prior'</span>: <span style=\"color: #00ff00; text-decoration-color: #00ff00; font-style: italic\">True</span>, <span style=\"color: #008000; text-decoration-color: #008000\">'enc_type'</span>: <span style=\"color: #008000; text-decoration-color: #008000\">'conv'</span>, \n",
       "<span style=\"color: #008000; text-decoration-color: #008000\">'dec_type'</span>: <span style=\"color: #008000; text-decoration-color: #008000\">'lin'</span>, <span style=\"color: #008000; text-decoration-color: #008000\">'enc_bias'</span>: <span style=\"color: #00ff00; text-decoration-color: #00ff00; font-style: italic\">True</span>, <span style=\"color: #008000; text-decoration-color: #008000\">'dec_bias'</span>: <span style=\"color: #ff0000; text-decoration-color: #ff0000; font-style: italic\">False</span>, <span style=\"color: #008000; text-decoration-color: #008000\">'init_dist'</span>: <span style=\"color: #008000; text-decoration-color: #008000\">'Normal'</span>, <span style=\"color: #008000; text-decoration-color: #008000\">'init_scale'</span>: <span style=\"color: #008080; text-decoration-color: #008080; font-weight: bold\">0.05</span><span style=\"font-weight: bold\">}</span>\n",
       "\n",
       "Trainer:\n",
       "<span style=\"font-weight: bold\">{</span><span style=\"color: #008000; text-decoration-color: #008000\">'lr'</span>: <span style=\"color: #008080; text-decoration-color: #008080; font-weight: bold\">0.002</span>, <span style=\"color: #008000; text-decoration-color: #008000\">'epochs'</span>: <span style=\"color: #008080; text-decoration-color: #008080; font-weight: bold\">1200</span>, <span style=\"color: #008000; text-decoration-color: #008000\">'batch_size'</span>: <span style=\"color: #008080; text-decoration-color: #008080; font-weight: bold\">200</span>, <span style=\"color: #008000; text-decoration-color: #008000\">'warm_restart'</span>: <span style=\"color: #008080; text-decoration-color: #008080; font-weight: bold\">2</span>, <span style=\"color: #008000; text-decoration-color: #008000\">'optimizer_kws'</span>: <span style=\"font-weight: bold\">{</span><span style=\"color: #008000; text-decoration-color: #008000\">'weight_decay'</span>: <span style=\"color: #008080; text-decoration-color: #008080; font-weight: bold\">0.0003</span><span style=\"font-weight: bold\">}</span>, \n",
       "<span style=\"color: #008000; text-decoration-color: #008000\">'grad_clip'</span>: <span style=\"color: #008080; text-decoration-color: #008080; font-weight: bold\">1000</span>, <span style=\"color: #008000; text-decoration-color: #008000\">'kl_const_portion'</span>: <span style=\"color: #008080; text-decoration-color: #008080; font-weight: bold\">0.0</span><span style=\"font-weight: bold\">}</span>\n",
       "-------------------------------------------------------------------------------------------------------------------\n",
       "\n",
       "\n",
       "\n",
       "</pre>\n"
      ],
      "text/plain": [
       "-------------------------------------------------------------------------------------------------------------------\n",
       "                         Dataset = MNIST,       Model = poisson,       Architecture: conv+b|lin                    \n",
       "-------------------------------------------------------------------------------------------------------------------\n",
       "VAE:\n",
       "\u001b[1m{\u001b[0m\u001b[32m'dataset'\u001b[0m: \u001b[32m'MNIST'\u001b[0m, \u001b[32m'n_ch'\u001b[0m: \u001b[1;36m32\u001b[0m, \u001b[32m'n_latents'\u001b[0m: \u001b[1;36m512\u001b[0m, \u001b[32m'prior_clamp'\u001b[0m: \u001b[1;36m-4\u001b[0m, \u001b[32m'fit_prior'\u001b[0m: \u001b[3;92mTrue\u001b[0m, \u001b[32m'enc_type'\u001b[0m: \u001b[32m'conv'\u001b[0m, \n",
       "\u001b[32m'dec_type'\u001b[0m: \u001b[32m'lin'\u001b[0m, \u001b[32m'enc_bias'\u001b[0m: \u001b[3;92mTrue\u001b[0m, \u001b[32m'dec_bias'\u001b[0m: \u001b[3;91mFalse\u001b[0m, \u001b[32m'init_dist'\u001b[0m: \u001b[32m'Normal'\u001b[0m, \u001b[32m'init_scale'\u001b[0m: \u001b[1;36m0.05\u001b[0m\u001b[1m}\u001b[0m\n",
       "\n",
       "Trainer:\n",
       "\u001b[1m{\u001b[0m\u001b[32m'lr'\u001b[0m: \u001b[1;36m0.002\u001b[0m, \u001b[32m'epochs'\u001b[0m: \u001b[1;36m1200\u001b[0m, \u001b[32m'batch_size'\u001b[0m: \u001b[1;36m200\u001b[0m, \u001b[32m'warm_restart'\u001b[0m: \u001b[1;36m2\u001b[0m, \u001b[32m'optimizer_kws'\u001b[0m: \u001b[1m{\u001b[0m\u001b[32m'weight_decay'\u001b[0m: \u001b[1;36m0.0003\u001b[0m\u001b[1m}\u001b[0m, \n",
       "\u001b[32m'grad_clip'\u001b[0m: \u001b[1;36m1000\u001b[0m, \u001b[32m'kl_const_portion'\u001b[0m: \u001b[1;36m0.0\u001b[0m\u001b[1m}\u001b[0m\n",
       "-------------------------------------------------------------------------------------------------------------------\n",
       "\n",
       "\n",
       "\n"
      ]
     },
     "metadata": {},
     "output_type": "display_data"
    },
    {
     "data": {
      "text/html": [
       "<pre style=\"white-space:pre;overflow-x:auto;line-height:normal;font-family:Menlo,'DejaVu Sans Mono',consolas,'Courier New',monospace\">-------------------------------------------------------------------------------------------------------------------\n",
       "                         Dataset = MNIST,       Model = poisson,       Architecture: conv+b|conv+b                 \n",
       "-------------------------------------------------------------------------------------------------------------------\n",
       "VAE:\n",
       "<span style=\"font-weight: bold\">{</span><span style=\"color: #008000; text-decoration-color: #008000\">'dataset'</span>: <span style=\"color: #008000; text-decoration-color: #008000\">'MNIST'</span>, <span style=\"color: #008000; text-decoration-color: #008000\">'n_ch'</span>: <span style=\"color: #008080; text-decoration-color: #008080; font-weight: bold\">32</span>, <span style=\"color: #008000; text-decoration-color: #008000\">'n_latents'</span>: <span style=\"color: #008080; text-decoration-color: #008080; font-weight: bold\">10</span>, <span style=\"color: #008000; text-decoration-color: #008000\">'prior_clamp'</span>: <span style=\"color: #008080; text-decoration-color: #008080; font-weight: bold\">-2</span>, <span style=\"color: #008000; text-decoration-color: #008000\">'fit_prior'</span>: <span style=\"color: #00ff00; text-decoration-color: #00ff00; font-style: italic\">True</span>, <span style=\"color: #008000; text-decoration-color: #008000\">'enc_type'</span>: <span style=\"color: #008000; text-decoration-color: #008000\">'conv'</span>, \n",
       "<span style=\"color: #008000; text-decoration-color: #008000\">'dec_type'</span>: <span style=\"color: #008000; text-decoration-color: #008000\">'conv'</span>, <span style=\"color: #008000; text-decoration-color: #008000\">'enc_bias'</span>: <span style=\"color: #00ff00; text-decoration-color: #00ff00; font-style: italic\">True</span>, <span style=\"color: #008000; text-decoration-color: #008000\">'dec_bias'</span>: <span style=\"color: #00ff00; text-decoration-color: #00ff00; font-style: italic\">True</span>, <span style=\"color: #008000; text-decoration-color: #008000\">'init_dist'</span>: <span style=\"color: #008000; text-decoration-color: #008000\">'StudentT'</span>, <span style=\"color: #008000; text-decoration-color: #008000\">'init_scale'</span>: <span style=\"color: #008080; text-decoration-color: #008080; font-weight: bold\">0.1</span><span style=\"font-weight: bold\">}</span>\n",
       "\n",
       "Trainer:\n",
       "<span style=\"font-weight: bold\">{</span><span style=\"color: #008000; text-decoration-color: #008000\">'lr'</span>: <span style=\"color: #008080; text-decoration-color: #008080; font-weight: bold\">0.002</span>, <span style=\"color: #008000; text-decoration-color: #008000\">'epochs'</span>: <span style=\"color: #008080; text-decoration-color: #008080; font-weight: bold\">1200</span>, <span style=\"color: #008000; text-decoration-color: #008000\">'batch_size'</span>: <span style=\"color: #008080; text-decoration-color: #008080; font-weight: bold\">200</span>, <span style=\"color: #008000; text-decoration-color: #008000\">'warm_restart'</span>: <span style=\"color: #008080; text-decoration-color: #008080; font-weight: bold\">2</span>, <span style=\"color: #008000; text-decoration-color: #008000\">'optimizer_kws'</span>: <span style=\"font-weight: bold\">{</span><span style=\"color: #008000; text-decoration-color: #008000\">'weight_decay'</span>: <span style=\"color: #008080; text-decoration-color: #008080; font-weight: bold\">0.0003</span><span style=\"font-weight: bold\">}</span>, \n",
       "<span style=\"color: #008000; text-decoration-color: #008000\">'grad_clip'</span>: <span style=\"color: #008080; text-decoration-color: #008080; font-weight: bold\">1000</span>, <span style=\"color: #008000; text-decoration-color: #008000\">'kl_const_portion'</span>: <span style=\"color: #008080; text-decoration-color: #008080; font-weight: bold\">0.01</span><span style=\"font-weight: bold\">}</span>\n",
       "-------------------------------------------------------------------------------------------------------------------\n",
       "\n",
       "\n",
       "\n",
       "</pre>\n"
      ],
      "text/plain": [
       "-------------------------------------------------------------------------------------------------------------------\n",
       "                         Dataset = MNIST,       Model = poisson,       Architecture: conv+b|conv+b                 \n",
       "-------------------------------------------------------------------------------------------------------------------\n",
       "VAE:\n",
       "\u001b[1m{\u001b[0m\u001b[32m'dataset'\u001b[0m: \u001b[32m'MNIST'\u001b[0m, \u001b[32m'n_ch'\u001b[0m: \u001b[1;36m32\u001b[0m, \u001b[32m'n_latents'\u001b[0m: \u001b[1;36m10\u001b[0m, \u001b[32m'prior_clamp'\u001b[0m: \u001b[1;36m-2\u001b[0m, \u001b[32m'fit_prior'\u001b[0m: \u001b[3;92mTrue\u001b[0m, \u001b[32m'enc_type'\u001b[0m: \u001b[32m'conv'\u001b[0m, \n",
       "\u001b[32m'dec_type'\u001b[0m: \u001b[32m'conv'\u001b[0m, \u001b[32m'enc_bias'\u001b[0m: \u001b[3;92mTrue\u001b[0m, \u001b[32m'dec_bias'\u001b[0m: \u001b[3;92mTrue\u001b[0m, \u001b[32m'init_dist'\u001b[0m: \u001b[32m'StudentT'\u001b[0m, \u001b[32m'init_scale'\u001b[0m: \u001b[1;36m0.1\u001b[0m\u001b[1m}\u001b[0m\n",
       "\n",
       "Trainer:\n",
       "\u001b[1m{\u001b[0m\u001b[32m'lr'\u001b[0m: \u001b[1;36m0.002\u001b[0m, \u001b[32m'epochs'\u001b[0m: \u001b[1;36m1200\u001b[0m, \u001b[32m'batch_size'\u001b[0m: \u001b[1;36m200\u001b[0m, \u001b[32m'warm_restart'\u001b[0m: \u001b[1;36m2\u001b[0m, \u001b[32m'optimizer_kws'\u001b[0m: \u001b[1m{\u001b[0m\u001b[32m'weight_decay'\u001b[0m: \u001b[1;36m0.0003\u001b[0m\u001b[1m}\u001b[0m, \n",
       "\u001b[32m'grad_clip'\u001b[0m: \u001b[1;36m1000\u001b[0m, \u001b[32m'kl_const_portion'\u001b[0m: \u001b[1;36m0.01\u001b[0m\u001b[1m}\u001b[0m\n",
       "-------------------------------------------------------------------------------------------------------------------\n",
       "\n",
       "\n",
       "\n"
      ]
     },
     "metadata": {},
     "output_type": "display_data"
    },
    {
     "data": {
      "text/html": [
       "<pre style=\"white-space:pre;overflow-x:auto;line-height:normal;font-family:Menlo,'DejaVu Sans Mono',consolas,'Courier New',monospace\">-------------------------------------------------------------------------------------------------------------------\n",
       "                         Dataset = MNIST,       Model = categorical,       Architecture: lin|lin                   \n",
       "-------------------------------------------------------------------------------------------------------------------\n",
       "VAE:\n",
       "<span style=\"font-weight: bold\">{</span><span style=\"color: #008000; text-decoration-color: #008000\">'dataset'</span>: <span style=\"color: #008000; text-decoration-color: #008000\">'MNIST'</span>, <span style=\"color: #008000; text-decoration-color: #008000\">'n_ch'</span>: <span style=\"color: #008080; text-decoration-color: #008080; font-weight: bold\">32</span>, <span style=\"color: #008000; text-decoration-color: #008000\">'n_latents'</span>: <span style=\"color: #008080; text-decoration-color: #008080; font-weight: bold\">1</span>, <span style=\"color: #008000; text-decoration-color: #008000\">'enc_type'</span>: <span style=\"color: #008000; text-decoration-color: #008000\">'lin'</span>, <span style=\"color: #008000; text-decoration-color: #008000\">'dec_type'</span>: <span style=\"color: #008000; text-decoration-color: #008000\">'lin'</span>, <span style=\"color: #008000; text-decoration-color: #008000\">'enc_bias'</span>: <span style=\"color: #ff0000; text-decoration-color: #ff0000; font-style: italic\">False</span>, \n",
       "<span style=\"color: #008000; text-decoration-color: #008000\">'dec_bias'</span>: <span style=\"color: #ff0000; text-decoration-color: #ff0000; font-style: italic\">False</span>, <span style=\"color: #008000; text-decoration-color: #008000\">'n_categories'</span>: <span style=\"color: #008080; text-decoration-color: #008080; font-weight: bold\">512</span>, <span style=\"color: #008000; text-decoration-color: #008000\">'init_dist'</span>: <span style=\"color: #008000; text-decoration-color: #008000\">'Normal'</span>, <span style=\"color: #008000; text-decoration-color: #008000\">'init_scale'</span>: <span style=\"color: #008080; text-decoration-color: #008080; font-weight: bold\">0.05</span><span style=\"font-weight: bold\">}</span>\n",
       "\n",
       "Trainer:\n",
       "<span style=\"font-weight: bold\">{</span><span style=\"color: #008000; text-decoration-color: #008000\">'temp_stop'</span>: <span style=\"color: #008080; text-decoration-color: #008080; font-weight: bold\">0.1</span>, <span style=\"color: #008000; text-decoration-color: #008000\">'lr'</span>: <span style=\"color: #008080; text-decoration-color: #008080; font-weight: bold\">0.002</span>, <span style=\"color: #008000; text-decoration-color: #008000\">'epochs'</span>: <span style=\"color: #008080; text-decoration-color: #008080; font-weight: bold\">1200</span>, <span style=\"color: #008000; text-decoration-color: #008000\">'batch_size'</span>: <span style=\"color: #008080; text-decoration-color: #008080; font-weight: bold\">200</span>, <span style=\"color: #008000; text-decoration-color: #008000\">'warm_restart'</span>: <span style=\"color: #008080; text-decoration-color: #008080; font-weight: bold\">2</span>, <span style=\"color: #008000; text-decoration-color: #008000\">'optimizer_kws'</span>: \n",
       "<span style=\"font-weight: bold\">{</span><span style=\"color: #008000; text-decoration-color: #008000\">'weight_decay'</span>: <span style=\"color: #008080; text-decoration-color: #008080; font-weight: bold\">0.0003</span><span style=\"font-weight: bold\">}</span>, <span style=\"color: #008000; text-decoration-color: #008000\">'grad_clip'</span>: <span style=\"color: #008080; text-decoration-color: #008080; font-weight: bold\">1000</span>, <span style=\"color: #008000; text-decoration-color: #008000\">'kl_const_portion'</span>: <span style=\"color: #008080; text-decoration-color: #008080; font-weight: bold\">0.0</span><span style=\"font-weight: bold\">}</span>\n",
       "-------------------------------------------------------------------------------------------------------------------\n",
       "\n",
       "\n",
       "\n",
       "</pre>\n"
      ],
      "text/plain": [
       "-------------------------------------------------------------------------------------------------------------------\n",
       "                         Dataset = MNIST,       Model = categorical,       Architecture: lin|lin                   \n",
       "-------------------------------------------------------------------------------------------------------------------\n",
       "VAE:\n",
       "\u001b[1m{\u001b[0m\u001b[32m'dataset'\u001b[0m: \u001b[32m'MNIST'\u001b[0m, \u001b[32m'n_ch'\u001b[0m: \u001b[1;36m32\u001b[0m, \u001b[32m'n_latents'\u001b[0m: \u001b[1;36m1\u001b[0m, \u001b[32m'enc_type'\u001b[0m: \u001b[32m'lin'\u001b[0m, \u001b[32m'dec_type'\u001b[0m: \u001b[32m'lin'\u001b[0m, \u001b[32m'enc_bias'\u001b[0m: \u001b[3;91mFalse\u001b[0m, \n",
       "\u001b[32m'dec_bias'\u001b[0m: \u001b[3;91mFalse\u001b[0m, \u001b[32m'n_categories'\u001b[0m: \u001b[1;36m512\u001b[0m, \u001b[32m'init_dist'\u001b[0m: \u001b[32m'Normal'\u001b[0m, \u001b[32m'init_scale'\u001b[0m: \u001b[1;36m0.05\u001b[0m\u001b[1m}\u001b[0m\n",
       "\n",
       "Trainer:\n",
       "\u001b[1m{\u001b[0m\u001b[32m'temp_stop'\u001b[0m: \u001b[1;36m0.1\u001b[0m, \u001b[32m'lr'\u001b[0m: \u001b[1;36m0.002\u001b[0m, \u001b[32m'epochs'\u001b[0m: \u001b[1;36m1200\u001b[0m, \u001b[32m'batch_size'\u001b[0m: \u001b[1;36m200\u001b[0m, \u001b[32m'warm_restart'\u001b[0m: \u001b[1;36m2\u001b[0m, \u001b[32m'optimizer_kws'\u001b[0m: \n",
       "\u001b[1m{\u001b[0m\u001b[32m'weight_decay'\u001b[0m: \u001b[1;36m0.0003\u001b[0m\u001b[1m}\u001b[0m, \u001b[32m'grad_clip'\u001b[0m: \u001b[1;36m1000\u001b[0m, \u001b[32m'kl_const_portion'\u001b[0m: \u001b[1;36m0.0\u001b[0m\u001b[1m}\u001b[0m\n",
       "-------------------------------------------------------------------------------------------------------------------\n",
       "\n",
       "\n",
       "\n"
      ]
     },
     "metadata": {},
     "output_type": "display_data"
    },
    {
     "data": {
      "text/html": [
       "<pre style=\"white-space:pre;overflow-x:auto;line-height:normal;font-family:Menlo,'DejaVu Sans Mono',consolas,'Courier New',monospace\">-------------------------------------------------------------------------------------------------------------------\n",
       "                         Dataset = MNIST,       Model = categorical,       Architecture: mlp+b|lin                 \n",
       "-------------------------------------------------------------------------------------------------------------------\n",
       "VAE:\n",
       "<span style=\"font-weight: bold\">{</span><span style=\"color: #008000; text-decoration-color: #008000\">'dataset'</span>: <span style=\"color: #008000; text-decoration-color: #008000\">'MNIST'</span>, <span style=\"color: #008000; text-decoration-color: #008000\">'n_ch'</span>: <span style=\"color: #008080; text-decoration-color: #008080; font-weight: bold\">16</span>, <span style=\"color: #008000; text-decoration-color: #008000\">'n_latents'</span>: <span style=\"color: #008080; text-decoration-color: #008080; font-weight: bold\">1</span>, <span style=\"color: #008000; text-decoration-color: #008000\">'enc_type'</span>: <span style=\"color: #008000; text-decoration-color: #008000\">'mlp'</span>, <span style=\"color: #008000; text-decoration-color: #008000\">'dec_type'</span>: <span style=\"color: #008000; text-decoration-color: #008000\">'lin'</span>, <span style=\"color: #008000; text-decoration-color: #008000\">'enc_bias'</span>: <span style=\"color: #00ff00; text-decoration-color: #00ff00; font-style: italic\">True</span>, \n",
       "<span style=\"color: #008000; text-decoration-color: #008000\">'dec_bias'</span>: <span style=\"color: #ff0000; text-decoration-color: #ff0000; font-style: italic\">False</span>, <span style=\"color: #008000; text-decoration-color: #008000\">'n_categories'</span>: <span style=\"color: #008080; text-decoration-color: #008080; font-weight: bold\">512</span>, <span style=\"color: #008000; text-decoration-color: #008000\">'init_dist'</span>: <span style=\"color: #008000; text-decoration-color: #008000\">'Normal'</span>, <span style=\"color: #008000; text-decoration-color: #008000\">'init_scale'</span>: <span style=\"color: #008080; text-decoration-color: #008080; font-weight: bold\">0.05</span><span style=\"font-weight: bold\">}</span>\n",
       "\n",
       "Trainer:\n",
       "<span style=\"font-weight: bold\">{</span><span style=\"color: #008000; text-decoration-color: #008000\">'temp_stop'</span>: <span style=\"color: #008080; text-decoration-color: #008080; font-weight: bold\">0.1</span>, <span style=\"color: #008000; text-decoration-color: #008000\">'lr'</span>: <span style=\"color: #008080; text-decoration-color: #008080; font-weight: bold\">0.002</span>, <span style=\"color: #008000; text-decoration-color: #008000\">'epochs'</span>: <span style=\"color: #008080; text-decoration-color: #008080; font-weight: bold\">1200</span>, <span style=\"color: #008000; text-decoration-color: #008000\">'batch_size'</span>: <span style=\"color: #008080; text-decoration-color: #008080; font-weight: bold\">200</span>, <span style=\"color: #008000; text-decoration-color: #008000\">'warm_restart'</span>: <span style=\"color: #008080; text-decoration-color: #008080; font-weight: bold\">2</span>, <span style=\"color: #008000; text-decoration-color: #008000\">'optimizer_kws'</span>: \n",
       "<span style=\"font-weight: bold\">{</span><span style=\"color: #008000; text-decoration-color: #008000\">'weight_decay'</span>: <span style=\"color: #008080; text-decoration-color: #008080; font-weight: bold\">0.0003</span><span style=\"font-weight: bold\">}</span>, <span style=\"color: #008000; text-decoration-color: #008000\">'grad_clip'</span>: <span style=\"color: #008080; text-decoration-color: #008080; font-weight: bold\">1000</span>, <span style=\"color: #008000; text-decoration-color: #008000\">'kl_const_portion'</span>: <span style=\"color: #008080; text-decoration-color: #008080; font-weight: bold\">0.0</span><span style=\"font-weight: bold\">}</span>\n",
       "-------------------------------------------------------------------------------------------------------------------\n",
       "\n",
       "\n",
       "\n",
       "</pre>\n"
      ],
      "text/plain": [
       "-------------------------------------------------------------------------------------------------------------------\n",
       "                         Dataset = MNIST,       Model = categorical,       Architecture: mlp+b|lin                 \n",
       "-------------------------------------------------------------------------------------------------------------------\n",
       "VAE:\n",
       "\u001b[1m{\u001b[0m\u001b[32m'dataset'\u001b[0m: \u001b[32m'MNIST'\u001b[0m, \u001b[32m'n_ch'\u001b[0m: \u001b[1;36m16\u001b[0m, \u001b[32m'n_latents'\u001b[0m: \u001b[1;36m1\u001b[0m, \u001b[32m'enc_type'\u001b[0m: \u001b[32m'mlp'\u001b[0m, \u001b[32m'dec_type'\u001b[0m: \u001b[32m'lin'\u001b[0m, \u001b[32m'enc_bias'\u001b[0m: \u001b[3;92mTrue\u001b[0m, \n",
       "\u001b[32m'dec_bias'\u001b[0m: \u001b[3;91mFalse\u001b[0m, \u001b[32m'n_categories'\u001b[0m: \u001b[1;36m512\u001b[0m, \u001b[32m'init_dist'\u001b[0m: \u001b[32m'Normal'\u001b[0m, \u001b[32m'init_scale'\u001b[0m: \u001b[1;36m0.05\u001b[0m\u001b[1m}\u001b[0m\n",
       "\n",
       "Trainer:\n",
       "\u001b[1m{\u001b[0m\u001b[32m'temp_stop'\u001b[0m: \u001b[1;36m0.1\u001b[0m, \u001b[32m'lr'\u001b[0m: \u001b[1;36m0.002\u001b[0m, \u001b[32m'epochs'\u001b[0m: \u001b[1;36m1200\u001b[0m, \u001b[32m'batch_size'\u001b[0m: \u001b[1;36m200\u001b[0m, \u001b[32m'warm_restart'\u001b[0m: \u001b[1;36m2\u001b[0m, \u001b[32m'optimizer_kws'\u001b[0m: \n",
       "\u001b[1m{\u001b[0m\u001b[32m'weight_decay'\u001b[0m: \u001b[1;36m0.0003\u001b[0m\u001b[1m}\u001b[0m, \u001b[32m'grad_clip'\u001b[0m: \u001b[1;36m1000\u001b[0m, \u001b[32m'kl_const_portion'\u001b[0m: \u001b[1;36m0.0\u001b[0m\u001b[1m}\u001b[0m\n",
       "-------------------------------------------------------------------------------------------------------------------\n",
       "\n",
       "\n",
       "\n"
      ]
     },
     "metadata": {},
     "output_type": "display_data"
    },
    {
     "data": {
      "text/html": [
       "<pre style=\"white-space:pre;overflow-x:auto;line-height:normal;font-family:Menlo,'DejaVu Sans Mono',consolas,'Courier New',monospace\">-------------------------------------------------------------------------------------------------------------------\n",
       "                         Dataset = MNIST,       Model = categorical,       Architecture: conv+b|lin                \n",
       "-------------------------------------------------------------------------------------------------------------------\n",
       "VAE:\n",
       "<span style=\"font-weight: bold\">{</span><span style=\"color: #008000; text-decoration-color: #008000\">'dataset'</span>: <span style=\"color: #008000; text-decoration-color: #008000\">'MNIST'</span>, <span style=\"color: #008000; text-decoration-color: #008000\">'n_ch'</span>: <span style=\"color: #008080; text-decoration-color: #008080; font-weight: bold\">32</span>, <span style=\"color: #008000; text-decoration-color: #008000\">'n_latents'</span>: <span style=\"color: #008080; text-decoration-color: #008080; font-weight: bold\">1</span>, <span style=\"color: #008000; text-decoration-color: #008000\">'enc_type'</span>: <span style=\"color: #008000; text-decoration-color: #008000\">'conv'</span>, <span style=\"color: #008000; text-decoration-color: #008000\">'dec_type'</span>: <span style=\"color: #008000; text-decoration-color: #008000\">'lin'</span>, <span style=\"color: #008000; text-decoration-color: #008000\">'enc_bias'</span>: <span style=\"color: #00ff00; text-decoration-color: #00ff00; font-style: italic\">True</span>, \n",
       "<span style=\"color: #008000; text-decoration-color: #008000\">'dec_bias'</span>: <span style=\"color: #ff0000; text-decoration-color: #ff0000; font-style: italic\">False</span>, <span style=\"color: #008000; text-decoration-color: #008000\">'n_categories'</span>: <span style=\"color: #008080; text-decoration-color: #008080; font-weight: bold\">512</span>, <span style=\"color: #008000; text-decoration-color: #008000\">'init_dist'</span>: <span style=\"color: #008000; text-decoration-color: #008000\">'Normal'</span>, <span style=\"color: #008000; text-decoration-color: #008000\">'init_scale'</span>: <span style=\"color: #008080; text-decoration-color: #008080; font-weight: bold\">0.05</span><span style=\"font-weight: bold\">}</span>\n",
       "\n",
       "Trainer:\n",
       "<span style=\"font-weight: bold\">{</span><span style=\"color: #008000; text-decoration-color: #008000\">'temp_stop'</span>: <span style=\"color: #008080; text-decoration-color: #008080; font-weight: bold\">0.1</span>, <span style=\"color: #008000; text-decoration-color: #008000\">'lr'</span>: <span style=\"color: #008080; text-decoration-color: #008080; font-weight: bold\">0.002</span>, <span style=\"color: #008000; text-decoration-color: #008000\">'epochs'</span>: <span style=\"color: #008080; text-decoration-color: #008080; font-weight: bold\">1200</span>, <span style=\"color: #008000; text-decoration-color: #008000\">'batch_size'</span>: <span style=\"color: #008080; text-decoration-color: #008080; font-weight: bold\">200</span>, <span style=\"color: #008000; text-decoration-color: #008000\">'warm_restart'</span>: <span style=\"color: #008080; text-decoration-color: #008080; font-weight: bold\">2</span>, <span style=\"color: #008000; text-decoration-color: #008000\">'optimizer_kws'</span>: \n",
       "<span style=\"font-weight: bold\">{</span><span style=\"color: #008000; text-decoration-color: #008000\">'weight_decay'</span>: <span style=\"color: #008080; text-decoration-color: #008080; font-weight: bold\">0.0003</span><span style=\"font-weight: bold\">}</span>, <span style=\"color: #008000; text-decoration-color: #008000\">'grad_clip'</span>: <span style=\"color: #008080; text-decoration-color: #008080; font-weight: bold\">1000</span>, <span style=\"color: #008000; text-decoration-color: #008000\">'kl_const_portion'</span>: <span style=\"color: #008080; text-decoration-color: #008080; font-weight: bold\">0.0</span><span style=\"font-weight: bold\">}</span>\n",
       "-------------------------------------------------------------------------------------------------------------------\n",
       "\n",
       "\n",
       "\n",
       "</pre>\n"
      ],
      "text/plain": [
       "-------------------------------------------------------------------------------------------------------------------\n",
       "                         Dataset = MNIST,       Model = categorical,       Architecture: conv+b|lin                \n",
       "-------------------------------------------------------------------------------------------------------------------\n",
       "VAE:\n",
       "\u001b[1m{\u001b[0m\u001b[32m'dataset'\u001b[0m: \u001b[32m'MNIST'\u001b[0m, \u001b[32m'n_ch'\u001b[0m: \u001b[1;36m32\u001b[0m, \u001b[32m'n_latents'\u001b[0m: \u001b[1;36m1\u001b[0m, \u001b[32m'enc_type'\u001b[0m: \u001b[32m'conv'\u001b[0m, \u001b[32m'dec_type'\u001b[0m: \u001b[32m'lin'\u001b[0m, \u001b[32m'enc_bias'\u001b[0m: \u001b[3;92mTrue\u001b[0m, \n",
       "\u001b[32m'dec_bias'\u001b[0m: \u001b[3;91mFalse\u001b[0m, \u001b[32m'n_categories'\u001b[0m: \u001b[1;36m512\u001b[0m, \u001b[32m'init_dist'\u001b[0m: \u001b[32m'Normal'\u001b[0m, \u001b[32m'init_scale'\u001b[0m: \u001b[1;36m0.05\u001b[0m\u001b[1m}\u001b[0m\n",
       "\n",
       "Trainer:\n",
       "\u001b[1m{\u001b[0m\u001b[32m'temp_stop'\u001b[0m: \u001b[1;36m0.1\u001b[0m, \u001b[32m'lr'\u001b[0m: \u001b[1;36m0.002\u001b[0m, \u001b[32m'epochs'\u001b[0m: \u001b[1;36m1200\u001b[0m, \u001b[32m'batch_size'\u001b[0m: \u001b[1;36m200\u001b[0m, \u001b[32m'warm_restart'\u001b[0m: \u001b[1;36m2\u001b[0m, \u001b[32m'optimizer_kws'\u001b[0m: \n",
       "\u001b[1m{\u001b[0m\u001b[32m'weight_decay'\u001b[0m: \u001b[1;36m0.0003\u001b[0m\u001b[1m}\u001b[0m, \u001b[32m'grad_clip'\u001b[0m: \u001b[1;36m1000\u001b[0m, \u001b[32m'kl_const_portion'\u001b[0m: \u001b[1;36m0.0\u001b[0m\u001b[1m}\u001b[0m\n",
       "-------------------------------------------------------------------------------------------------------------------\n",
       "\n",
       "\n",
       "\n"
      ]
     },
     "metadata": {},
     "output_type": "display_data"
    },
    {
     "data": {
      "text/html": [
       "<pre style=\"white-space:pre;overflow-x:auto;line-height:normal;font-family:Menlo,'DejaVu Sans Mono',consolas,'Courier New',monospace\">-------------------------------------------------------------------------------------------------------------------\n",
       "                         Dataset = MNIST,       Model = categorical,       Architecture: conv+b|conv+b             \n",
       "-------------------------------------------------------------------------------------------------------------------\n",
       "VAE:\n",
       "<span style=\"font-weight: bold\">{</span><span style=\"color: #008000; text-decoration-color: #008000\">'dataset'</span>: <span style=\"color: #008000; text-decoration-color: #008000\">'MNIST'</span>, <span style=\"color: #008000; text-decoration-color: #008000\">'n_ch'</span>: <span style=\"color: #008080; text-decoration-color: #008080; font-weight: bold\">32</span>, <span style=\"color: #008000; text-decoration-color: #008000\">'n_latents'</span>: <span style=\"color: #008080; text-decoration-color: #008080; font-weight: bold\">1</span>, <span style=\"color: #008000; text-decoration-color: #008000\">'enc_type'</span>: <span style=\"color: #008000; text-decoration-color: #008000\">'conv'</span>, <span style=\"color: #008000; text-decoration-color: #008000\">'dec_type'</span>: <span style=\"color: #008000; text-decoration-color: #008000\">'conv'</span>, <span style=\"color: #008000; text-decoration-color: #008000\">'enc_bias'</span>: <span style=\"color: #00ff00; text-decoration-color: #00ff00; font-style: italic\">True</span>, \n",
       "<span style=\"color: #008000; text-decoration-color: #008000\">'dec_bias'</span>: <span style=\"color: #00ff00; text-decoration-color: #00ff00; font-style: italic\">True</span>, <span style=\"color: #008000; text-decoration-color: #008000\">'n_categories'</span>: <span style=\"color: #008080; text-decoration-color: #008080; font-weight: bold\">10</span>, <span style=\"color: #008000; text-decoration-color: #008000\">'init_dist'</span>: <span style=\"color: #008000; text-decoration-color: #008000\">'StudentT'</span>, <span style=\"color: #008000; text-decoration-color: #008000\">'init_scale'</span>: <span style=\"color: #008080; text-decoration-color: #008080; font-weight: bold\">0.1</span><span style=\"font-weight: bold\">}</span>\n",
       "\n",
       "Trainer:\n",
       "<span style=\"font-weight: bold\">{</span><span style=\"color: #008000; text-decoration-color: #008000\">'temp_stop'</span>: <span style=\"color: #008080; text-decoration-color: #008080; font-weight: bold\">0.1</span>, <span style=\"color: #008000; text-decoration-color: #008000\">'lr'</span>: <span style=\"color: #008080; text-decoration-color: #008080; font-weight: bold\">0.002</span>, <span style=\"color: #008000; text-decoration-color: #008000\">'epochs'</span>: <span style=\"color: #008080; text-decoration-color: #008080; font-weight: bold\">1200</span>, <span style=\"color: #008000; text-decoration-color: #008000\">'batch_size'</span>: <span style=\"color: #008080; text-decoration-color: #008080; font-weight: bold\">200</span>, <span style=\"color: #008000; text-decoration-color: #008000\">'warm_restart'</span>: <span style=\"color: #008080; text-decoration-color: #008080; font-weight: bold\">2</span>, <span style=\"color: #008000; text-decoration-color: #008000\">'optimizer_kws'</span>: \n",
       "<span style=\"font-weight: bold\">{</span><span style=\"color: #008000; text-decoration-color: #008000\">'weight_decay'</span>: <span style=\"color: #008080; text-decoration-color: #008080; font-weight: bold\">0.0003</span><span style=\"font-weight: bold\">}</span>, <span style=\"color: #008000; text-decoration-color: #008000\">'grad_clip'</span>: <span style=\"color: #008080; text-decoration-color: #008080; font-weight: bold\">1000</span>, <span style=\"color: #008000; text-decoration-color: #008000\">'kl_const_portion'</span>: <span style=\"color: #008080; text-decoration-color: #008080; font-weight: bold\">0.01</span><span style=\"font-weight: bold\">}</span>\n",
       "-------------------------------------------------------------------------------------------------------------------\n",
       "\n",
       "\n",
       "\n",
       "</pre>\n"
      ],
      "text/plain": [
       "-------------------------------------------------------------------------------------------------------------------\n",
       "                         Dataset = MNIST,       Model = categorical,       Architecture: conv+b|conv+b             \n",
       "-------------------------------------------------------------------------------------------------------------------\n",
       "VAE:\n",
       "\u001b[1m{\u001b[0m\u001b[32m'dataset'\u001b[0m: \u001b[32m'MNIST'\u001b[0m, \u001b[32m'n_ch'\u001b[0m: \u001b[1;36m32\u001b[0m, \u001b[32m'n_latents'\u001b[0m: \u001b[1;36m1\u001b[0m, \u001b[32m'enc_type'\u001b[0m: \u001b[32m'conv'\u001b[0m, \u001b[32m'dec_type'\u001b[0m: \u001b[32m'conv'\u001b[0m, \u001b[32m'enc_bias'\u001b[0m: \u001b[3;92mTrue\u001b[0m, \n",
       "\u001b[32m'dec_bias'\u001b[0m: \u001b[3;92mTrue\u001b[0m, \u001b[32m'n_categories'\u001b[0m: \u001b[1;36m10\u001b[0m, \u001b[32m'init_dist'\u001b[0m: \u001b[32m'StudentT'\u001b[0m, \u001b[32m'init_scale'\u001b[0m: \u001b[1;36m0.1\u001b[0m\u001b[1m}\u001b[0m\n",
       "\n",
       "Trainer:\n",
       "\u001b[1m{\u001b[0m\u001b[32m'temp_stop'\u001b[0m: \u001b[1;36m0.1\u001b[0m, \u001b[32m'lr'\u001b[0m: \u001b[1;36m0.002\u001b[0m, \u001b[32m'epochs'\u001b[0m: \u001b[1;36m1200\u001b[0m, \u001b[32m'batch_size'\u001b[0m: \u001b[1;36m200\u001b[0m, \u001b[32m'warm_restart'\u001b[0m: \u001b[1;36m2\u001b[0m, \u001b[32m'optimizer_kws'\u001b[0m: \n",
       "\u001b[1m{\u001b[0m\u001b[32m'weight_decay'\u001b[0m: \u001b[1;36m0.0003\u001b[0m\u001b[1m}\u001b[0m, \u001b[32m'grad_clip'\u001b[0m: \u001b[1;36m1000\u001b[0m, \u001b[32m'kl_const_portion'\u001b[0m: \u001b[1;36m0.01\u001b[0m\u001b[1m}\u001b[0m\n",
       "-------------------------------------------------------------------------------------------------------------------\n",
       "\n",
       "\n",
       "\n"
      ]
     },
     "metadata": {},
     "output_type": "display_data"
    },
    {
     "data": {
      "text/html": [
       "<pre style=\"white-space:pre;overflow-x:auto;line-height:normal;font-family:Menlo,'DejaVu Sans Mono',consolas,'Courier New',monospace\">-------------------------------------------------------------------------------------------------------------------\n",
       "                         Dataset = MNIST,       Model = gaussian,       Architecture: lin|lin                      \n",
       "-------------------------------------------------------------------------------------------------------------------\n",
       "VAE:\n",
       "<span style=\"font-weight: bold\">{</span><span style=\"color: #008000; text-decoration-color: #008000\">'dataset'</span>: <span style=\"color: #008000; text-decoration-color: #008000\">'MNIST'</span>, <span style=\"color: #008000; text-decoration-color: #008000\">'n_ch'</span>: <span style=\"color: #008080; text-decoration-color: #008080; font-weight: bold\">32</span>, <span style=\"color: #008000; text-decoration-color: #008000\">'n_latents'</span>: <span style=\"color: #008080; text-decoration-color: #008080; font-weight: bold\">512</span>, <span style=\"color: #008000; text-decoration-color: #008000\">'enc_type'</span>: <span style=\"color: #008000; text-decoration-color: #008000\">'lin'</span>, <span style=\"color: #008000; text-decoration-color: #008000\">'dec_type'</span>: <span style=\"color: #008000; text-decoration-color: #008000\">'lin'</span>, <span style=\"color: #008000; text-decoration-color: #008000\">'enc_bias'</span>: <span style=\"color: #ff0000; text-decoration-color: #ff0000; font-style: italic\">False</span>, \n",
       "<span style=\"color: #008000; text-decoration-color: #008000\">'dec_bias'</span>: <span style=\"color: #ff0000; text-decoration-color: #ff0000; font-style: italic\">False</span>, <span style=\"color: #008000; text-decoration-color: #008000\">'init_dist'</span>: <span style=\"color: #008000; text-decoration-color: #008000\">'Normal'</span>, <span style=\"color: #008000; text-decoration-color: #008000\">'init_scale'</span>: <span style=\"color: #008080; text-decoration-color: #008080; font-weight: bold\">0.05</span><span style=\"font-weight: bold\">}</span>\n",
       "\n",
       "Trainer:\n",
       "<span style=\"font-weight: bold\">{</span><span style=\"color: #008000; text-decoration-color: #008000\">'temp_anneal_portion'</span>: <span style=\"color: #008080; text-decoration-color: #008080; font-weight: bold\">0.0</span>, <span style=\"color: #008000; text-decoration-color: #008000\">'temp_stop'</span>: <span style=\"color: #008080; text-decoration-color: #008080; font-weight: bold\">1.0</span>, <span style=\"color: #008000; text-decoration-color: #008000\">'lr'</span>: <span style=\"color: #008080; text-decoration-color: #008080; font-weight: bold\">0.002</span>, <span style=\"color: #008000; text-decoration-color: #008000\">'epochs'</span>: <span style=\"color: #008080; text-decoration-color: #008080; font-weight: bold\">1200</span>, <span style=\"color: #008000; text-decoration-color: #008000\">'batch_size'</span>: <span style=\"color: #008080; text-decoration-color: #008080; font-weight: bold\">200</span>, <span style=\"color: #008000; text-decoration-color: #008000\">'warm_restart'</span>: <span style=\"color: #008080; text-decoration-color: #008080; font-weight: bold\">2</span>, \n",
       "<span style=\"color: #008000; text-decoration-color: #008000\">'optimizer_kws'</span>: <span style=\"font-weight: bold\">{</span><span style=\"color: #008000; text-decoration-color: #008000\">'weight_decay'</span>: <span style=\"color: #008080; text-decoration-color: #008080; font-weight: bold\">0.0003</span><span style=\"font-weight: bold\">}</span>, <span style=\"color: #008000; text-decoration-color: #008000\">'grad_clip'</span>: <span style=\"color: #008080; text-decoration-color: #008080; font-weight: bold\">1000</span>, <span style=\"color: #008000; text-decoration-color: #008000\">'kl_const_portion'</span>: <span style=\"color: #008080; text-decoration-color: #008080; font-weight: bold\">0.0</span><span style=\"font-weight: bold\">}</span>\n",
       "-------------------------------------------------------------------------------------------------------------------\n",
       "\n",
       "\n",
       "\n",
       "</pre>\n"
      ],
      "text/plain": [
       "-------------------------------------------------------------------------------------------------------------------\n",
       "                         Dataset = MNIST,       Model = gaussian,       Architecture: lin|lin                      \n",
       "-------------------------------------------------------------------------------------------------------------------\n",
       "VAE:\n",
       "\u001b[1m{\u001b[0m\u001b[32m'dataset'\u001b[0m: \u001b[32m'MNIST'\u001b[0m, \u001b[32m'n_ch'\u001b[0m: \u001b[1;36m32\u001b[0m, \u001b[32m'n_latents'\u001b[0m: \u001b[1;36m512\u001b[0m, \u001b[32m'enc_type'\u001b[0m: \u001b[32m'lin'\u001b[0m, \u001b[32m'dec_type'\u001b[0m: \u001b[32m'lin'\u001b[0m, \u001b[32m'enc_bias'\u001b[0m: \u001b[3;91mFalse\u001b[0m, \n",
       "\u001b[32m'dec_bias'\u001b[0m: \u001b[3;91mFalse\u001b[0m, \u001b[32m'init_dist'\u001b[0m: \u001b[32m'Normal'\u001b[0m, \u001b[32m'init_scale'\u001b[0m: \u001b[1;36m0.05\u001b[0m\u001b[1m}\u001b[0m\n",
       "\n",
       "Trainer:\n",
       "\u001b[1m{\u001b[0m\u001b[32m'temp_anneal_portion'\u001b[0m: \u001b[1;36m0.0\u001b[0m, \u001b[32m'temp_stop'\u001b[0m: \u001b[1;36m1.0\u001b[0m, \u001b[32m'lr'\u001b[0m: \u001b[1;36m0.002\u001b[0m, \u001b[32m'epochs'\u001b[0m: \u001b[1;36m1200\u001b[0m, \u001b[32m'batch_size'\u001b[0m: \u001b[1;36m200\u001b[0m, \u001b[32m'warm_restart'\u001b[0m: \u001b[1;36m2\u001b[0m, \n",
       "\u001b[32m'optimizer_kws'\u001b[0m: \u001b[1m{\u001b[0m\u001b[32m'weight_decay'\u001b[0m: \u001b[1;36m0.0003\u001b[0m\u001b[1m}\u001b[0m, \u001b[32m'grad_clip'\u001b[0m: \u001b[1;36m1000\u001b[0m, \u001b[32m'kl_const_portion'\u001b[0m: \u001b[1;36m0.0\u001b[0m\u001b[1m}\u001b[0m\n",
       "-------------------------------------------------------------------------------------------------------------------\n",
       "\n",
       "\n",
       "\n"
      ]
     },
     "metadata": {},
     "output_type": "display_data"
    },
    {
     "data": {
      "text/html": [
       "<pre style=\"white-space:pre;overflow-x:auto;line-height:normal;font-family:Menlo,'DejaVu Sans Mono',consolas,'Courier New',monospace\">-------------------------------------------------------------------------------------------------------------------\n",
       "                         Dataset = MNIST,       Model = gaussian,       Architecture: mlp+b|lin                    \n",
       "-------------------------------------------------------------------------------------------------------------------\n",
       "VAE:\n",
       "<span style=\"font-weight: bold\">{</span><span style=\"color: #008000; text-decoration-color: #008000\">'dataset'</span>: <span style=\"color: #008000; text-decoration-color: #008000\">'MNIST'</span>, <span style=\"color: #008000; text-decoration-color: #008000\">'n_ch'</span>: <span style=\"color: #008080; text-decoration-color: #008080; font-weight: bold\">16</span>, <span style=\"color: #008000; text-decoration-color: #008000\">'n_latents'</span>: <span style=\"color: #008080; text-decoration-color: #008080; font-weight: bold\">512</span>, <span style=\"color: #008000; text-decoration-color: #008000\">'enc_type'</span>: <span style=\"color: #008000; text-decoration-color: #008000\">'mlp'</span>, <span style=\"color: #008000; text-decoration-color: #008000\">'dec_type'</span>: <span style=\"color: #008000; text-decoration-color: #008000\">'lin'</span>, <span style=\"color: #008000; text-decoration-color: #008000\">'enc_bias'</span>: <span style=\"color: #00ff00; text-decoration-color: #00ff00; font-style: italic\">True</span>, \n",
       "<span style=\"color: #008000; text-decoration-color: #008000\">'dec_bias'</span>: <span style=\"color: #ff0000; text-decoration-color: #ff0000; font-style: italic\">False</span>, <span style=\"color: #008000; text-decoration-color: #008000\">'init_dist'</span>: <span style=\"color: #008000; text-decoration-color: #008000\">'Normal'</span>, <span style=\"color: #008000; text-decoration-color: #008000\">'init_scale'</span>: <span style=\"color: #008080; text-decoration-color: #008080; font-weight: bold\">0.05</span><span style=\"font-weight: bold\">}</span>\n",
       "\n",
       "Trainer:\n",
       "<span style=\"font-weight: bold\">{</span><span style=\"color: #008000; text-decoration-color: #008000\">'temp_anneal_portion'</span>: <span style=\"color: #008080; text-decoration-color: #008080; font-weight: bold\">0.0</span>, <span style=\"color: #008000; text-decoration-color: #008000\">'temp_stop'</span>: <span style=\"color: #008080; text-decoration-color: #008080; font-weight: bold\">1.0</span>, <span style=\"color: #008000; text-decoration-color: #008000\">'lr'</span>: <span style=\"color: #008080; text-decoration-color: #008080; font-weight: bold\">0.002</span>, <span style=\"color: #008000; text-decoration-color: #008000\">'epochs'</span>: <span style=\"color: #008080; text-decoration-color: #008080; font-weight: bold\">1200</span>, <span style=\"color: #008000; text-decoration-color: #008000\">'batch_size'</span>: <span style=\"color: #008080; text-decoration-color: #008080; font-weight: bold\">200</span>, <span style=\"color: #008000; text-decoration-color: #008000\">'warm_restart'</span>: <span style=\"color: #008080; text-decoration-color: #008080; font-weight: bold\">2</span>, \n",
       "<span style=\"color: #008000; text-decoration-color: #008000\">'optimizer_kws'</span>: <span style=\"font-weight: bold\">{</span><span style=\"color: #008000; text-decoration-color: #008000\">'weight_decay'</span>: <span style=\"color: #008080; text-decoration-color: #008080; font-weight: bold\">0.0003</span><span style=\"font-weight: bold\">}</span>, <span style=\"color: #008000; text-decoration-color: #008000\">'grad_clip'</span>: <span style=\"color: #008080; text-decoration-color: #008080; font-weight: bold\">1000</span>, <span style=\"color: #008000; text-decoration-color: #008000\">'kl_const_portion'</span>: <span style=\"color: #008080; text-decoration-color: #008080; font-weight: bold\">0.0</span><span style=\"font-weight: bold\">}</span>\n",
       "-------------------------------------------------------------------------------------------------------------------\n",
       "\n",
       "\n",
       "\n",
       "</pre>\n"
      ],
      "text/plain": [
       "-------------------------------------------------------------------------------------------------------------------\n",
       "                         Dataset = MNIST,       Model = gaussian,       Architecture: mlp+b|lin                    \n",
       "-------------------------------------------------------------------------------------------------------------------\n",
       "VAE:\n",
       "\u001b[1m{\u001b[0m\u001b[32m'dataset'\u001b[0m: \u001b[32m'MNIST'\u001b[0m, \u001b[32m'n_ch'\u001b[0m: \u001b[1;36m16\u001b[0m, \u001b[32m'n_latents'\u001b[0m: \u001b[1;36m512\u001b[0m, \u001b[32m'enc_type'\u001b[0m: \u001b[32m'mlp'\u001b[0m, \u001b[32m'dec_type'\u001b[0m: \u001b[32m'lin'\u001b[0m, \u001b[32m'enc_bias'\u001b[0m: \u001b[3;92mTrue\u001b[0m, \n",
       "\u001b[32m'dec_bias'\u001b[0m: \u001b[3;91mFalse\u001b[0m, \u001b[32m'init_dist'\u001b[0m: \u001b[32m'Normal'\u001b[0m, \u001b[32m'init_scale'\u001b[0m: \u001b[1;36m0.05\u001b[0m\u001b[1m}\u001b[0m\n",
       "\n",
       "Trainer:\n",
       "\u001b[1m{\u001b[0m\u001b[32m'temp_anneal_portion'\u001b[0m: \u001b[1;36m0.0\u001b[0m, \u001b[32m'temp_stop'\u001b[0m: \u001b[1;36m1.0\u001b[0m, \u001b[32m'lr'\u001b[0m: \u001b[1;36m0.002\u001b[0m, \u001b[32m'epochs'\u001b[0m: \u001b[1;36m1200\u001b[0m, \u001b[32m'batch_size'\u001b[0m: \u001b[1;36m200\u001b[0m, \u001b[32m'warm_restart'\u001b[0m: \u001b[1;36m2\u001b[0m, \n",
       "\u001b[32m'optimizer_kws'\u001b[0m: \u001b[1m{\u001b[0m\u001b[32m'weight_decay'\u001b[0m: \u001b[1;36m0.0003\u001b[0m\u001b[1m}\u001b[0m, \u001b[32m'grad_clip'\u001b[0m: \u001b[1;36m1000\u001b[0m, \u001b[32m'kl_const_portion'\u001b[0m: \u001b[1;36m0.0\u001b[0m\u001b[1m}\u001b[0m\n",
       "-------------------------------------------------------------------------------------------------------------------\n",
       "\n",
       "\n",
       "\n"
      ]
     },
     "metadata": {},
     "output_type": "display_data"
    },
    {
     "data": {
      "text/html": [
       "<pre style=\"white-space:pre;overflow-x:auto;line-height:normal;font-family:Menlo,'DejaVu Sans Mono',consolas,'Courier New',monospace\">-------------------------------------------------------------------------------------------------------------------\n",
       "                         Dataset = MNIST,       Model = gaussian,       Architecture: conv+b|lin                   \n",
       "-------------------------------------------------------------------------------------------------------------------\n",
       "VAE:\n",
       "<span style=\"font-weight: bold\">{</span><span style=\"color: #008000; text-decoration-color: #008000\">'dataset'</span>: <span style=\"color: #008000; text-decoration-color: #008000\">'MNIST'</span>, <span style=\"color: #008000; text-decoration-color: #008000\">'n_ch'</span>: <span style=\"color: #008080; text-decoration-color: #008080; font-weight: bold\">32</span>, <span style=\"color: #008000; text-decoration-color: #008000\">'n_latents'</span>: <span style=\"color: #008080; text-decoration-color: #008080; font-weight: bold\">512</span>, <span style=\"color: #008000; text-decoration-color: #008000\">'enc_type'</span>: <span style=\"color: #008000; text-decoration-color: #008000\">'conv'</span>, <span style=\"color: #008000; text-decoration-color: #008000\">'dec_type'</span>: <span style=\"color: #008000; text-decoration-color: #008000\">'lin'</span>, <span style=\"color: #008000; text-decoration-color: #008000\">'enc_bias'</span>: <span style=\"color: #00ff00; text-decoration-color: #00ff00; font-style: italic\">True</span>, \n",
       "<span style=\"color: #008000; text-decoration-color: #008000\">'dec_bias'</span>: <span style=\"color: #ff0000; text-decoration-color: #ff0000; font-style: italic\">False</span>, <span style=\"color: #008000; text-decoration-color: #008000\">'init_dist'</span>: <span style=\"color: #008000; text-decoration-color: #008000\">'Normal'</span>, <span style=\"color: #008000; text-decoration-color: #008000\">'init_scale'</span>: <span style=\"color: #008080; text-decoration-color: #008080; font-weight: bold\">0.05</span><span style=\"font-weight: bold\">}</span>\n",
       "\n",
       "Trainer:\n",
       "<span style=\"font-weight: bold\">{</span><span style=\"color: #008000; text-decoration-color: #008000\">'temp_anneal_portion'</span>: <span style=\"color: #008080; text-decoration-color: #008080; font-weight: bold\">0.0</span>, <span style=\"color: #008000; text-decoration-color: #008000\">'temp_stop'</span>: <span style=\"color: #008080; text-decoration-color: #008080; font-weight: bold\">1.0</span>, <span style=\"color: #008000; text-decoration-color: #008000\">'lr'</span>: <span style=\"color: #008080; text-decoration-color: #008080; font-weight: bold\">0.002</span>, <span style=\"color: #008000; text-decoration-color: #008000\">'epochs'</span>: <span style=\"color: #008080; text-decoration-color: #008080; font-weight: bold\">1200</span>, <span style=\"color: #008000; text-decoration-color: #008000\">'batch_size'</span>: <span style=\"color: #008080; text-decoration-color: #008080; font-weight: bold\">200</span>, <span style=\"color: #008000; text-decoration-color: #008000\">'warm_restart'</span>: <span style=\"color: #008080; text-decoration-color: #008080; font-weight: bold\">2</span>, \n",
       "<span style=\"color: #008000; text-decoration-color: #008000\">'optimizer_kws'</span>: <span style=\"font-weight: bold\">{</span><span style=\"color: #008000; text-decoration-color: #008000\">'weight_decay'</span>: <span style=\"color: #008080; text-decoration-color: #008080; font-weight: bold\">0.0003</span><span style=\"font-weight: bold\">}</span>, <span style=\"color: #008000; text-decoration-color: #008000\">'grad_clip'</span>: <span style=\"color: #008080; text-decoration-color: #008080; font-weight: bold\">1000</span>, <span style=\"color: #008000; text-decoration-color: #008000\">'kl_const_portion'</span>: <span style=\"color: #008080; text-decoration-color: #008080; font-weight: bold\">0.0</span><span style=\"font-weight: bold\">}</span>\n",
       "-------------------------------------------------------------------------------------------------------------------\n",
       "\n",
       "\n",
       "\n",
       "</pre>\n"
      ],
      "text/plain": [
       "-------------------------------------------------------------------------------------------------------------------\n",
       "                         Dataset = MNIST,       Model = gaussian,       Architecture: conv+b|lin                   \n",
       "-------------------------------------------------------------------------------------------------------------------\n",
       "VAE:\n",
       "\u001b[1m{\u001b[0m\u001b[32m'dataset'\u001b[0m: \u001b[32m'MNIST'\u001b[0m, \u001b[32m'n_ch'\u001b[0m: \u001b[1;36m32\u001b[0m, \u001b[32m'n_latents'\u001b[0m: \u001b[1;36m512\u001b[0m, \u001b[32m'enc_type'\u001b[0m: \u001b[32m'conv'\u001b[0m, \u001b[32m'dec_type'\u001b[0m: \u001b[32m'lin'\u001b[0m, \u001b[32m'enc_bias'\u001b[0m: \u001b[3;92mTrue\u001b[0m, \n",
       "\u001b[32m'dec_bias'\u001b[0m: \u001b[3;91mFalse\u001b[0m, \u001b[32m'init_dist'\u001b[0m: \u001b[32m'Normal'\u001b[0m, \u001b[32m'init_scale'\u001b[0m: \u001b[1;36m0.05\u001b[0m\u001b[1m}\u001b[0m\n",
       "\n",
       "Trainer:\n",
       "\u001b[1m{\u001b[0m\u001b[32m'temp_anneal_portion'\u001b[0m: \u001b[1;36m0.0\u001b[0m, \u001b[32m'temp_stop'\u001b[0m: \u001b[1;36m1.0\u001b[0m, \u001b[32m'lr'\u001b[0m: \u001b[1;36m0.002\u001b[0m, \u001b[32m'epochs'\u001b[0m: \u001b[1;36m1200\u001b[0m, \u001b[32m'batch_size'\u001b[0m: \u001b[1;36m200\u001b[0m, \u001b[32m'warm_restart'\u001b[0m: \u001b[1;36m2\u001b[0m, \n",
       "\u001b[32m'optimizer_kws'\u001b[0m: \u001b[1m{\u001b[0m\u001b[32m'weight_decay'\u001b[0m: \u001b[1;36m0.0003\u001b[0m\u001b[1m}\u001b[0m, \u001b[32m'grad_clip'\u001b[0m: \u001b[1;36m1000\u001b[0m, \u001b[32m'kl_const_portion'\u001b[0m: \u001b[1;36m0.0\u001b[0m\u001b[1m}\u001b[0m\n",
       "-------------------------------------------------------------------------------------------------------------------\n",
       "\n",
       "\n",
       "\n"
      ]
     },
     "metadata": {},
     "output_type": "display_data"
    },
    {
     "data": {
      "text/html": [
       "<pre style=\"white-space:pre;overflow-x:auto;line-height:normal;font-family:Menlo,'DejaVu Sans Mono',consolas,'Courier New',monospace\">-------------------------------------------------------------------------------------------------------------------\n",
       "                         Dataset = MNIST,       Model = gaussian,       Architecture: conv+b|conv+b                \n",
       "-------------------------------------------------------------------------------------------------------------------\n",
       "VAE:\n",
       "<span style=\"font-weight: bold\">{</span><span style=\"color: #008000; text-decoration-color: #008000\">'dataset'</span>: <span style=\"color: #008000; text-decoration-color: #008000\">'MNIST'</span>, <span style=\"color: #008000; text-decoration-color: #008000\">'n_ch'</span>: <span style=\"color: #008080; text-decoration-color: #008080; font-weight: bold\">32</span>, <span style=\"color: #008000; text-decoration-color: #008000\">'n_latents'</span>: <span style=\"color: #008080; text-decoration-color: #008080; font-weight: bold\">10</span>, <span style=\"color: #008000; text-decoration-color: #008000\">'enc_type'</span>: <span style=\"color: #008000; text-decoration-color: #008000\">'conv'</span>, <span style=\"color: #008000; text-decoration-color: #008000\">'dec_type'</span>: <span style=\"color: #008000; text-decoration-color: #008000\">'conv'</span>, <span style=\"color: #008000; text-decoration-color: #008000\">'enc_bias'</span>: <span style=\"color: #00ff00; text-decoration-color: #00ff00; font-style: italic\">True</span>, \n",
       "<span style=\"color: #008000; text-decoration-color: #008000\">'dec_bias'</span>: <span style=\"color: #00ff00; text-decoration-color: #00ff00; font-style: italic\">True</span>, <span style=\"color: #008000; text-decoration-color: #008000\">'init_dist'</span>: <span style=\"color: #008000; text-decoration-color: #008000\">'StudentT'</span>, <span style=\"color: #008000; text-decoration-color: #008000\">'init_scale'</span>: <span style=\"color: #008080; text-decoration-color: #008080; font-weight: bold\">0.1</span><span style=\"font-weight: bold\">}</span>\n",
       "\n",
       "Trainer:\n",
       "<span style=\"font-weight: bold\">{</span><span style=\"color: #008000; text-decoration-color: #008000\">'temp_anneal_portion'</span>: <span style=\"color: #008080; text-decoration-color: #008080; font-weight: bold\">0.0</span>, <span style=\"color: #008000; text-decoration-color: #008000\">'temp_stop'</span>: <span style=\"color: #008080; text-decoration-color: #008080; font-weight: bold\">1.0</span>, <span style=\"color: #008000; text-decoration-color: #008000\">'lr'</span>: <span style=\"color: #008080; text-decoration-color: #008080; font-weight: bold\">0.002</span>, <span style=\"color: #008000; text-decoration-color: #008000\">'epochs'</span>: <span style=\"color: #008080; text-decoration-color: #008080; font-weight: bold\">1200</span>, <span style=\"color: #008000; text-decoration-color: #008000\">'batch_size'</span>: <span style=\"color: #008080; text-decoration-color: #008080; font-weight: bold\">200</span>, <span style=\"color: #008000; text-decoration-color: #008000\">'warm_restart'</span>: <span style=\"color: #008080; text-decoration-color: #008080; font-weight: bold\">2</span>, \n",
       "<span style=\"color: #008000; text-decoration-color: #008000\">'optimizer_kws'</span>: <span style=\"font-weight: bold\">{</span><span style=\"color: #008000; text-decoration-color: #008000\">'weight_decay'</span>: <span style=\"color: #008080; text-decoration-color: #008080; font-weight: bold\">0.0003</span><span style=\"font-weight: bold\">}</span>, <span style=\"color: #008000; text-decoration-color: #008000\">'grad_clip'</span>: <span style=\"color: #008080; text-decoration-color: #008080; font-weight: bold\">1000</span>, <span style=\"color: #008000; text-decoration-color: #008000\">'kl_const_portion'</span>: <span style=\"color: #008080; text-decoration-color: #008080; font-weight: bold\">0.01</span><span style=\"font-weight: bold\">}</span>\n",
       "-------------------------------------------------------------------------------------------------------------------\n",
       "\n",
       "\n",
       "\n",
       "</pre>\n"
      ],
      "text/plain": [
       "-------------------------------------------------------------------------------------------------------------------\n",
       "                         Dataset = MNIST,       Model = gaussian,       Architecture: conv+b|conv+b                \n",
       "-------------------------------------------------------------------------------------------------------------------\n",
       "VAE:\n",
       "\u001b[1m{\u001b[0m\u001b[32m'dataset'\u001b[0m: \u001b[32m'MNIST'\u001b[0m, \u001b[32m'n_ch'\u001b[0m: \u001b[1;36m32\u001b[0m, \u001b[32m'n_latents'\u001b[0m: \u001b[1;36m10\u001b[0m, \u001b[32m'enc_type'\u001b[0m: \u001b[32m'conv'\u001b[0m, \u001b[32m'dec_type'\u001b[0m: \u001b[32m'conv'\u001b[0m, \u001b[32m'enc_bias'\u001b[0m: \u001b[3;92mTrue\u001b[0m, \n",
       "\u001b[32m'dec_bias'\u001b[0m: \u001b[3;92mTrue\u001b[0m, \u001b[32m'init_dist'\u001b[0m: \u001b[32m'StudentT'\u001b[0m, \u001b[32m'init_scale'\u001b[0m: \u001b[1;36m0.1\u001b[0m\u001b[1m}\u001b[0m\n",
       "\n",
       "Trainer:\n",
       "\u001b[1m{\u001b[0m\u001b[32m'temp_anneal_portion'\u001b[0m: \u001b[1;36m0.0\u001b[0m, \u001b[32m'temp_stop'\u001b[0m: \u001b[1;36m1.0\u001b[0m, \u001b[32m'lr'\u001b[0m: \u001b[1;36m0.002\u001b[0m, \u001b[32m'epochs'\u001b[0m: \u001b[1;36m1200\u001b[0m, \u001b[32m'batch_size'\u001b[0m: \u001b[1;36m200\u001b[0m, \u001b[32m'warm_restart'\u001b[0m: \u001b[1;36m2\u001b[0m, \n",
       "\u001b[32m'optimizer_kws'\u001b[0m: \u001b[1m{\u001b[0m\u001b[32m'weight_decay'\u001b[0m: \u001b[1;36m0.0003\u001b[0m\u001b[1m}\u001b[0m, \u001b[32m'grad_clip'\u001b[0m: \u001b[1;36m1000\u001b[0m, \u001b[32m'kl_const_portion'\u001b[0m: \u001b[1;36m0.01\u001b[0m\u001b[1m}\u001b[0m\n",
       "-------------------------------------------------------------------------------------------------------------------\n",
       "\n",
       "\n",
       "\n"
      ]
     },
     "metadata": {},
     "output_type": "display_data"
    },
    {
     "data": {
      "text/html": [
       "<pre style=\"white-space:pre;overflow-x:auto;line-height:normal;font-family:Menlo,'DejaVu Sans Mono',consolas,'Courier New',monospace\">-------------------------------------------------------------------------------------------------------------------\n",
       "                         Dataset = MNIST,       Model = laplace,       Architecture: lin|lin                       \n",
       "-------------------------------------------------------------------------------------------------------------------\n",
       "VAE:\n",
       "<span style=\"font-weight: bold\">{</span><span style=\"color: #008000; text-decoration-color: #008000\">'dataset'</span>: <span style=\"color: #008000; text-decoration-color: #008000\">'MNIST'</span>, <span style=\"color: #008000; text-decoration-color: #008000\">'n_ch'</span>: <span style=\"color: #008080; text-decoration-color: #008080; font-weight: bold\">32</span>, <span style=\"color: #008000; text-decoration-color: #008000\">'n_latents'</span>: <span style=\"color: #008080; text-decoration-color: #008080; font-weight: bold\">512</span>, <span style=\"color: #008000; text-decoration-color: #008000\">'enc_type'</span>: <span style=\"color: #008000; text-decoration-color: #008000\">'lin'</span>, <span style=\"color: #008000; text-decoration-color: #008000\">'dec_type'</span>: <span style=\"color: #008000; text-decoration-color: #008000\">'lin'</span>, <span style=\"color: #008000; text-decoration-color: #008000\">'enc_bias'</span>: <span style=\"color: #ff0000; text-decoration-color: #ff0000; font-style: italic\">False</span>, \n",
       "<span style=\"color: #008000; text-decoration-color: #008000\">'dec_bias'</span>: <span style=\"color: #ff0000; text-decoration-color: #ff0000; font-style: italic\">False</span>, <span style=\"color: #008000; text-decoration-color: #008000\">'init_dist'</span>: <span style=\"color: #008000; text-decoration-color: #008000\">'Normal'</span>, <span style=\"color: #008000; text-decoration-color: #008000\">'init_scale'</span>: <span style=\"color: #008080; text-decoration-color: #008080; font-weight: bold\">0.05</span><span style=\"font-weight: bold\">}</span>\n",
       "\n",
       "Trainer:\n",
       "<span style=\"font-weight: bold\">{</span><span style=\"color: #008000; text-decoration-color: #008000\">'temp_anneal_portion'</span>: <span style=\"color: #008080; text-decoration-color: #008080; font-weight: bold\">0.0</span>, <span style=\"color: #008000; text-decoration-color: #008000\">'temp_stop'</span>: <span style=\"color: #008080; text-decoration-color: #008080; font-weight: bold\">1.0</span>, <span style=\"color: #008000; text-decoration-color: #008000\">'lr'</span>: <span style=\"color: #008080; text-decoration-color: #008080; font-weight: bold\">0.002</span>, <span style=\"color: #008000; text-decoration-color: #008000\">'epochs'</span>: <span style=\"color: #008080; text-decoration-color: #008080; font-weight: bold\">1200</span>, <span style=\"color: #008000; text-decoration-color: #008000\">'batch_size'</span>: <span style=\"color: #008080; text-decoration-color: #008080; font-weight: bold\">200</span>, <span style=\"color: #008000; text-decoration-color: #008000\">'warm_restart'</span>: <span style=\"color: #008080; text-decoration-color: #008080; font-weight: bold\">2</span>, \n",
       "<span style=\"color: #008000; text-decoration-color: #008000\">'optimizer_kws'</span>: <span style=\"font-weight: bold\">{</span><span style=\"color: #008000; text-decoration-color: #008000\">'weight_decay'</span>: <span style=\"color: #008080; text-decoration-color: #008080; font-weight: bold\">0.0003</span><span style=\"font-weight: bold\">}</span>, <span style=\"color: #008000; text-decoration-color: #008000\">'grad_clip'</span>: <span style=\"color: #008080; text-decoration-color: #008080; font-weight: bold\">1000</span>, <span style=\"color: #008000; text-decoration-color: #008000\">'kl_const_portion'</span>: <span style=\"color: #008080; text-decoration-color: #008080; font-weight: bold\">0.0</span><span style=\"font-weight: bold\">}</span>\n",
       "-------------------------------------------------------------------------------------------------------------------\n",
       "\n",
       "\n",
       "\n",
       "</pre>\n"
      ],
      "text/plain": [
       "-------------------------------------------------------------------------------------------------------------------\n",
       "                         Dataset = MNIST,       Model = laplace,       Architecture: lin|lin                       \n",
       "-------------------------------------------------------------------------------------------------------------------\n",
       "VAE:\n",
       "\u001b[1m{\u001b[0m\u001b[32m'dataset'\u001b[0m: \u001b[32m'MNIST'\u001b[0m, \u001b[32m'n_ch'\u001b[0m: \u001b[1;36m32\u001b[0m, \u001b[32m'n_latents'\u001b[0m: \u001b[1;36m512\u001b[0m, \u001b[32m'enc_type'\u001b[0m: \u001b[32m'lin'\u001b[0m, \u001b[32m'dec_type'\u001b[0m: \u001b[32m'lin'\u001b[0m, \u001b[32m'enc_bias'\u001b[0m: \u001b[3;91mFalse\u001b[0m, \n",
       "\u001b[32m'dec_bias'\u001b[0m: \u001b[3;91mFalse\u001b[0m, \u001b[32m'init_dist'\u001b[0m: \u001b[32m'Normal'\u001b[0m, \u001b[32m'init_scale'\u001b[0m: \u001b[1;36m0.05\u001b[0m\u001b[1m}\u001b[0m\n",
       "\n",
       "Trainer:\n",
       "\u001b[1m{\u001b[0m\u001b[32m'temp_anneal_portion'\u001b[0m: \u001b[1;36m0.0\u001b[0m, \u001b[32m'temp_stop'\u001b[0m: \u001b[1;36m1.0\u001b[0m, \u001b[32m'lr'\u001b[0m: \u001b[1;36m0.002\u001b[0m, \u001b[32m'epochs'\u001b[0m: \u001b[1;36m1200\u001b[0m, \u001b[32m'batch_size'\u001b[0m: \u001b[1;36m200\u001b[0m, \u001b[32m'warm_restart'\u001b[0m: \u001b[1;36m2\u001b[0m, \n",
       "\u001b[32m'optimizer_kws'\u001b[0m: \u001b[1m{\u001b[0m\u001b[32m'weight_decay'\u001b[0m: \u001b[1;36m0.0003\u001b[0m\u001b[1m}\u001b[0m, \u001b[32m'grad_clip'\u001b[0m: \u001b[1;36m1000\u001b[0m, \u001b[32m'kl_const_portion'\u001b[0m: \u001b[1;36m0.0\u001b[0m\u001b[1m}\u001b[0m\n",
       "-------------------------------------------------------------------------------------------------------------------\n",
       "\n",
       "\n",
       "\n"
      ]
     },
     "metadata": {},
     "output_type": "display_data"
    },
    {
     "data": {
      "text/html": [
       "<pre style=\"white-space:pre;overflow-x:auto;line-height:normal;font-family:Menlo,'DejaVu Sans Mono',consolas,'Courier New',monospace\">-------------------------------------------------------------------------------------------------------------------\n",
       "                         Dataset = MNIST,       Model = laplace,       Architecture: mlp+b|lin                     \n",
       "-------------------------------------------------------------------------------------------------------------------\n",
       "VAE:\n",
       "<span style=\"font-weight: bold\">{</span><span style=\"color: #008000; text-decoration-color: #008000\">'dataset'</span>: <span style=\"color: #008000; text-decoration-color: #008000\">'MNIST'</span>, <span style=\"color: #008000; text-decoration-color: #008000\">'n_ch'</span>: <span style=\"color: #008080; text-decoration-color: #008080; font-weight: bold\">16</span>, <span style=\"color: #008000; text-decoration-color: #008000\">'n_latents'</span>: <span style=\"color: #008080; text-decoration-color: #008080; font-weight: bold\">512</span>, <span style=\"color: #008000; text-decoration-color: #008000\">'enc_type'</span>: <span style=\"color: #008000; text-decoration-color: #008000\">'mlp'</span>, <span style=\"color: #008000; text-decoration-color: #008000\">'dec_type'</span>: <span style=\"color: #008000; text-decoration-color: #008000\">'lin'</span>, <span style=\"color: #008000; text-decoration-color: #008000\">'enc_bias'</span>: <span style=\"color: #00ff00; text-decoration-color: #00ff00; font-style: italic\">True</span>, \n",
       "<span style=\"color: #008000; text-decoration-color: #008000\">'dec_bias'</span>: <span style=\"color: #ff0000; text-decoration-color: #ff0000; font-style: italic\">False</span>, <span style=\"color: #008000; text-decoration-color: #008000\">'init_dist'</span>: <span style=\"color: #008000; text-decoration-color: #008000\">'Normal'</span>, <span style=\"color: #008000; text-decoration-color: #008000\">'init_scale'</span>: <span style=\"color: #008080; text-decoration-color: #008080; font-weight: bold\">0.05</span><span style=\"font-weight: bold\">}</span>\n",
       "\n",
       "Trainer:\n",
       "<span style=\"font-weight: bold\">{</span><span style=\"color: #008000; text-decoration-color: #008000\">'temp_anneal_portion'</span>: <span style=\"color: #008080; text-decoration-color: #008080; font-weight: bold\">0.0</span>, <span style=\"color: #008000; text-decoration-color: #008000\">'temp_stop'</span>: <span style=\"color: #008080; text-decoration-color: #008080; font-weight: bold\">1.0</span>, <span style=\"color: #008000; text-decoration-color: #008000\">'lr'</span>: <span style=\"color: #008080; text-decoration-color: #008080; font-weight: bold\">0.002</span>, <span style=\"color: #008000; text-decoration-color: #008000\">'epochs'</span>: <span style=\"color: #008080; text-decoration-color: #008080; font-weight: bold\">1200</span>, <span style=\"color: #008000; text-decoration-color: #008000\">'batch_size'</span>: <span style=\"color: #008080; text-decoration-color: #008080; font-weight: bold\">200</span>, <span style=\"color: #008000; text-decoration-color: #008000\">'warm_restart'</span>: <span style=\"color: #008080; text-decoration-color: #008080; font-weight: bold\">2</span>, \n",
       "<span style=\"color: #008000; text-decoration-color: #008000\">'optimizer_kws'</span>: <span style=\"font-weight: bold\">{</span><span style=\"color: #008000; text-decoration-color: #008000\">'weight_decay'</span>: <span style=\"color: #008080; text-decoration-color: #008080; font-weight: bold\">0.0003</span><span style=\"font-weight: bold\">}</span>, <span style=\"color: #008000; text-decoration-color: #008000\">'grad_clip'</span>: <span style=\"color: #008080; text-decoration-color: #008080; font-weight: bold\">1000</span>, <span style=\"color: #008000; text-decoration-color: #008000\">'kl_const_portion'</span>: <span style=\"color: #008080; text-decoration-color: #008080; font-weight: bold\">0.0</span><span style=\"font-weight: bold\">}</span>\n",
       "-------------------------------------------------------------------------------------------------------------------\n",
       "\n",
       "\n",
       "\n",
       "</pre>\n"
      ],
      "text/plain": [
       "-------------------------------------------------------------------------------------------------------------------\n",
       "                         Dataset = MNIST,       Model = laplace,       Architecture: mlp+b|lin                     \n",
       "-------------------------------------------------------------------------------------------------------------------\n",
       "VAE:\n",
       "\u001b[1m{\u001b[0m\u001b[32m'dataset'\u001b[0m: \u001b[32m'MNIST'\u001b[0m, \u001b[32m'n_ch'\u001b[0m: \u001b[1;36m16\u001b[0m, \u001b[32m'n_latents'\u001b[0m: \u001b[1;36m512\u001b[0m, \u001b[32m'enc_type'\u001b[0m: \u001b[32m'mlp'\u001b[0m, \u001b[32m'dec_type'\u001b[0m: \u001b[32m'lin'\u001b[0m, \u001b[32m'enc_bias'\u001b[0m: \u001b[3;92mTrue\u001b[0m, \n",
       "\u001b[32m'dec_bias'\u001b[0m: \u001b[3;91mFalse\u001b[0m, \u001b[32m'init_dist'\u001b[0m: \u001b[32m'Normal'\u001b[0m, \u001b[32m'init_scale'\u001b[0m: \u001b[1;36m0.05\u001b[0m\u001b[1m}\u001b[0m\n",
       "\n",
       "Trainer:\n",
       "\u001b[1m{\u001b[0m\u001b[32m'temp_anneal_portion'\u001b[0m: \u001b[1;36m0.0\u001b[0m, \u001b[32m'temp_stop'\u001b[0m: \u001b[1;36m1.0\u001b[0m, \u001b[32m'lr'\u001b[0m: \u001b[1;36m0.002\u001b[0m, \u001b[32m'epochs'\u001b[0m: \u001b[1;36m1200\u001b[0m, \u001b[32m'batch_size'\u001b[0m: \u001b[1;36m200\u001b[0m, \u001b[32m'warm_restart'\u001b[0m: \u001b[1;36m2\u001b[0m, \n",
       "\u001b[32m'optimizer_kws'\u001b[0m: \u001b[1m{\u001b[0m\u001b[32m'weight_decay'\u001b[0m: \u001b[1;36m0.0003\u001b[0m\u001b[1m}\u001b[0m, \u001b[32m'grad_clip'\u001b[0m: \u001b[1;36m1000\u001b[0m, \u001b[32m'kl_const_portion'\u001b[0m: \u001b[1;36m0.0\u001b[0m\u001b[1m}\u001b[0m\n",
       "-------------------------------------------------------------------------------------------------------------------\n",
       "\n",
       "\n",
       "\n"
      ]
     },
     "metadata": {},
     "output_type": "display_data"
    },
    {
     "data": {
      "text/html": [
       "<pre style=\"white-space:pre;overflow-x:auto;line-height:normal;font-family:Menlo,'DejaVu Sans Mono',consolas,'Courier New',monospace\">-------------------------------------------------------------------------------------------------------------------\n",
       "                         Dataset = MNIST,       Model = laplace,       Architecture: conv+b|lin                    \n",
       "-------------------------------------------------------------------------------------------------------------------\n",
       "VAE:\n",
       "<span style=\"font-weight: bold\">{</span><span style=\"color: #008000; text-decoration-color: #008000\">'dataset'</span>: <span style=\"color: #008000; text-decoration-color: #008000\">'MNIST'</span>, <span style=\"color: #008000; text-decoration-color: #008000\">'n_ch'</span>: <span style=\"color: #008080; text-decoration-color: #008080; font-weight: bold\">32</span>, <span style=\"color: #008000; text-decoration-color: #008000\">'n_latents'</span>: <span style=\"color: #008080; text-decoration-color: #008080; font-weight: bold\">512</span>, <span style=\"color: #008000; text-decoration-color: #008000\">'enc_type'</span>: <span style=\"color: #008000; text-decoration-color: #008000\">'conv'</span>, <span style=\"color: #008000; text-decoration-color: #008000\">'dec_type'</span>: <span style=\"color: #008000; text-decoration-color: #008000\">'lin'</span>, <span style=\"color: #008000; text-decoration-color: #008000\">'enc_bias'</span>: <span style=\"color: #00ff00; text-decoration-color: #00ff00; font-style: italic\">True</span>, \n",
       "<span style=\"color: #008000; text-decoration-color: #008000\">'dec_bias'</span>: <span style=\"color: #ff0000; text-decoration-color: #ff0000; font-style: italic\">False</span>, <span style=\"color: #008000; text-decoration-color: #008000\">'init_dist'</span>: <span style=\"color: #008000; text-decoration-color: #008000\">'Normal'</span>, <span style=\"color: #008000; text-decoration-color: #008000\">'init_scale'</span>: <span style=\"color: #008080; text-decoration-color: #008080; font-weight: bold\">0.05</span><span style=\"font-weight: bold\">}</span>\n",
       "\n",
       "Trainer:\n",
       "<span style=\"font-weight: bold\">{</span><span style=\"color: #008000; text-decoration-color: #008000\">'temp_anneal_portion'</span>: <span style=\"color: #008080; text-decoration-color: #008080; font-weight: bold\">0.0</span>, <span style=\"color: #008000; text-decoration-color: #008000\">'temp_stop'</span>: <span style=\"color: #008080; text-decoration-color: #008080; font-weight: bold\">1.0</span>, <span style=\"color: #008000; text-decoration-color: #008000\">'lr'</span>: <span style=\"color: #008080; text-decoration-color: #008080; font-weight: bold\">0.002</span>, <span style=\"color: #008000; text-decoration-color: #008000\">'epochs'</span>: <span style=\"color: #008080; text-decoration-color: #008080; font-weight: bold\">1200</span>, <span style=\"color: #008000; text-decoration-color: #008000\">'batch_size'</span>: <span style=\"color: #008080; text-decoration-color: #008080; font-weight: bold\">200</span>, <span style=\"color: #008000; text-decoration-color: #008000\">'warm_restart'</span>: <span style=\"color: #008080; text-decoration-color: #008080; font-weight: bold\">2</span>, \n",
       "<span style=\"color: #008000; text-decoration-color: #008000\">'optimizer_kws'</span>: <span style=\"font-weight: bold\">{</span><span style=\"color: #008000; text-decoration-color: #008000\">'weight_decay'</span>: <span style=\"color: #008080; text-decoration-color: #008080; font-weight: bold\">0.0003</span><span style=\"font-weight: bold\">}</span>, <span style=\"color: #008000; text-decoration-color: #008000\">'grad_clip'</span>: <span style=\"color: #008080; text-decoration-color: #008080; font-weight: bold\">1000</span>, <span style=\"color: #008000; text-decoration-color: #008000\">'kl_const_portion'</span>: <span style=\"color: #008080; text-decoration-color: #008080; font-weight: bold\">0.0</span><span style=\"font-weight: bold\">}</span>\n",
       "-------------------------------------------------------------------------------------------------------------------\n",
       "\n",
       "\n",
       "\n",
       "</pre>\n"
      ],
      "text/plain": [
       "-------------------------------------------------------------------------------------------------------------------\n",
       "                         Dataset = MNIST,       Model = laplace,       Architecture: conv+b|lin                    \n",
       "-------------------------------------------------------------------------------------------------------------------\n",
       "VAE:\n",
       "\u001b[1m{\u001b[0m\u001b[32m'dataset'\u001b[0m: \u001b[32m'MNIST'\u001b[0m, \u001b[32m'n_ch'\u001b[0m: \u001b[1;36m32\u001b[0m, \u001b[32m'n_latents'\u001b[0m: \u001b[1;36m512\u001b[0m, \u001b[32m'enc_type'\u001b[0m: \u001b[32m'conv'\u001b[0m, \u001b[32m'dec_type'\u001b[0m: \u001b[32m'lin'\u001b[0m, \u001b[32m'enc_bias'\u001b[0m: \u001b[3;92mTrue\u001b[0m, \n",
       "\u001b[32m'dec_bias'\u001b[0m: \u001b[3;91mFalse\u001b[0m, \u001b[32m'init_dist'\u001b[0m: \u001b[32m'Normal'\u001b[0m, \u001b[32m'init_scale'\u001b[0m: \u001b[1;36m0.05\u001b[0m\u001b[1m}\u001b[0m\n",
       "\n",
       "Trainer:\n",
       "\u001b[1m{\u001b[0m\u001b[32m'temp_anneal_portion'\u001b[0m: \u001b[1;36m0.0\u001b[0m, \u001b[32m'temp_stop'\u001b[0m: \u001b[1;36m1.0\u001b[0m, \u001b[32m'lr'\u001b[0m: \u001b[1;36m0.002\u001b[0m, \u001b[32m'epochs'\u001b[0m: \u001b[1;36m1200\u001b[0m, \u001b[32m'batch_size'\u001b[0m: \u001b[1;36m200\u001b[0m, \u001b[32m'warm_restart'\u001b[0m: \u001b[1;36m2\u001b[0m, \n",
       "\u001b[32m'optimizer_kws'\u001b[0m: \u001b[1m{\u001b[0m\u001b[32m'weight_decay'\u001b[0m: \u001b[1;36m0.0003\u001b[0m\u001b[1m}\u001b[0m, \u001b[32m'grad_clip'\u001b[0m: \u001b[1;36m1000\u001b[0m, \u001b[32m'kl_const_portion'\u001b[0m: \u001b[1;36m0.0\u001b[0m\u001b[1m}\u001b[0m\n",
       "-------------------------------------------------------------------------------------------------------------------\n",
       "\n",
       "\n",
       "\n"
      ]
     },
     "metadata": {},
     "output_type": "display_data"
    },
    {
     "data": {
      "text/html": [
       "<pre style=\"white-space:pre;overflow-x:auto;line-height:normal;font-family:Menlo,'DejaVu Sans Mono',consolas,'Courier New',monospace\">-------------------------------------------------------------------------------------------------------------------\n",
       "                         Dataset = MNIST,       Model = laplace,       Architecture: conv+b|conv+b                 \n",
       "-------------------------------------------------------------------------------------------------------------------\n",
       "VAE:\n",
       "<span style=\"font-weight: bold\">{</span><span style=\"color: #008000; text-decoration-color: #008000\">'dataset'</span>: <span style=\"color: #008000; text-decoration-color: #008000\">'MNIST'</span>, <span style=\"color: #008000; text-decoration-color: #008000\">'n_ch'</span>: <span style=\"color: #008080; text-decoration-color: #008080; font-weight: bold\">32</span>, <span style=\"color: #008000; text-decoration-color: #008000\">'n_latents'</span>: <span style=\"color: #008080; text-decoration-color: #008080; font-weight: bold\">10</span>, <span style=\"color: #008000; text-decoration-color: #008000\">'enc_type'</span>: <span style=\"color: #008000; text-decoration-color: #008000\">'conv'</span>, <span style=\"color: #008000; text-decoration-color: #008000\">'dec_type'</span>: <span style=\"color: #008000; text-decoration-color: #008000\">'conv'</span>, <span style=\"color: #008000; text-decoration-color: #008000\">'enc_bias'</span>: <span style=\"color: #00ff00; text-decoration-color: #00ff00; font-style: italic\">True</span>, \n",
       "<span style=\"color: #008000; text-decoration-color: #008000\">'dec_bias'</span>: <span style=\"color: #00ff00; text-decoration-color: #00ff00; font-style: italic\">True</span>, <span style=\"color: #008000; text-decoration-color: #008000\">'init_dist'</span>: <span style=\"color: #008000; text-decoration-color: #008000\">'StudentT'</span>, <span style=\"color: #008000; text-decoration-color: #008000\">'init_scale'</span>: <span style=\"color: #008080; text-decoration-color: #008080; font-weight: bold\">0.1</span><span style=\"font-weight: bold\">}</span>\n",
       "\n",
       "Trainer:\n",
       "<span style=\"font-weight: bold\">{</span><span style=\"color: #008000; text-decoration-color: #008000\">'temp_anneal_portion'</span>: <span style=\"color: #008080; text-decoration-color: #008080; font-weight: bold\">0.0</span>, <span style=\"color: #008000; text-decoration-color: #008000\">'temp_stop'</span>: <span style=\"color: #008080; text-decoration-color: #008080; font-weight: bold\">1.0</span>, <span style=\"color: #008000; text-decoration-color: #008000\">'lr'</span>: <span style=\"color: #008080; text-decoration-color: #008080; font-weight: bold\">0.002</span>, <span style=\"color: #008000; text-decoration-color: #008000\">'epochs'</span>: <span style=\"color: #008080; text-decoration-color: #008080; font-weight: bold\">1200</span>, <span style=\"color: #008000; text-decoration-color: #008000\">'batch_size'</span>: <span style=\"color: #008080; text-decoration-color: #008080; font-weight: bold\">200</span>, <span style=\"color: #008000; text-decoration-color: #008000\">'warm_restart'</span>: <span style=\"color: #008080; text-decoration-color: #008080; font-weight: bold\">2</span>, \n",
       "<span style=\"color: #008000; text-decoration-color: #008000\">'optimizer_kws'</span>: <span style=\"font-weight: bold\">{</span><span style=\"color: #008000; text-decoration-color: #008000\">'weight_decay'</span>: <span style=\"color: #008080; text-decoration-color: #008080; font-weight: bold\">0.0003</span><span style=\"font-weight: bold\">}</span>, <span style=\"color: #008000; text-decoration-color: #008000\">'grad_clip'</span>: <span style=\"color: #008080; text-decoration-color: #008080; font-weight: bold\">1000</span>, <span style=\"color: #008000; text-decoration-color: #008000\">'kl_const_portion'</span>: <span style=\"color: #008080; text-decoration-color: #008080; font-weight: bold\">0.01</span><span style=\"font-weight: bold\">}</span>\n",
       "-------------------------------------------------------------------------------------------------------------------\n",
       "\n",
       "\n",
       "\n",
       "</pre>\n"
      ],
      "text/plain": [
       "-------------------------------------------------------------------------------------------------------------------\n",
       "                         Dataset = MNIST,       Model = laplace,       Architecture: conv+b|conv+b                 \n",
       "-------------------------------------------------------------------------------------------------------------------\n",
       "VAE:\n",
       "\u001b[1m{\u001b[0m\u001b[32m'dataset'\u001b[0m: \u001b[32m'MNIST'\u001b[0m, \u001b[32m'n_ch'\u001b[0m: \u001b[1;36m32\u001b[0m, \u001b[32m'n_latents'\u001b[0m: \u001b[1;36m10\u001b[0m, \u001b[32m'enc_type'\u001b[0m: \u001b[32m'conv'\u001b[0m, \u001b[32m'dec_type'\u001b[0m: \u001b[32m'conv'\u001b[0m, \u001b[32m'enc_bias'\u001b[0m: \u001b[3;92mTrue\u001b[0m, \n",
       "\u001b[32m'dec_bias'\u001b[0m: \u001b[3;92mTrue\u001b[0m, \u001b[32m'init_dist'\u001b[0m: \u001b[32m'StudentT'\u001b[0m, \u001b[32m'init_scale'\u001b[0m: \u001b[1;36m0.1\u001b[0m\u001b[1m}\u001b[0m\n",
       "\n",
       "Trainer:\n",
       "\u001b[1m{\u001b[0m\u001b[32m'temp_anneal_portion'\u001b[0m: \u001b[1;36m0.0\u001b[0m, \u001b[32m'temp_stop'\u001b[0m: \u001b[1;36m1.0\u001b[0m, \u001b[32m'lr'\u001b[0m: \u001b[1;36m0.002\u001b[0m, \u001b[32m'epochs'\u001b[0m: \u001b[1;36m1200\u001b[0m, \u001b[32m'batch_size'\u001b[0m: \u001b[1;36m200\u001b[0m, \u001b[32m'warm_restart'\u001b[0m: \u001b[1;36m2\u001b[0m, \n",
       "\u001b[32m'optimizer_kws'\u001b[0m: \u001b[1m{\u001b[0m\u001b[32m'weight_decay'\u001b[0m: \u001b[1;36m0.0003\u001b[0m\u001b[1m}\u001b[0m, \u001b[32m'grad_clip'\u001b[0m: \u001b[1;36m1000\u001b[0m, \u001b[32m'kl_const_portion'\u001b[0m: \u001b[1;36m0.01\u001b[0m\u001b[1m}\u001b[0m\n",
       "-------------------------------------------------------------------------------------------------------------------\n",
       "\n",
       "\n",
       "\n"
      ]
     },
     "metadata": {},
     "output_type": "display_data"
    }
   ],
   "source": [
    "for d, m, a in looper:\n",
    "    cfg_vae, cfg_tr = default_configs(d, m, a)\n",
    "\n",
    "    msg = (' ' * 7).join([\n",
    "        f\"Dataset = {d},\",\n",
    "        f\"Model = {m},\",\n",
    "        f\"Architecture: {a}\",\n",
    "    ])\n",
    "    msg = ' ' * 25 + msg  + ' ' * 25 \n",
    "    msg = f\"{'-' * 115}\\n{msg}\\n{'-' * 115}\"\n",
    "    print(f\"{msg}\\nVAE:\\n{cfg_vae}\\n\\nTrainer:\\n{cfg_tr}\\n{'-' * 115}\\n\\n\\n\")"
   ]
  },
  {
   "cell_type": "code",
   "execution_count": null,
   "id": "faf7faa3-a6ba-4c02-972b-1ad3ffa3458e",
   "metadata": {},
   "outputs": [],
   "source": []
  },
  {
   "cell_type": "code",
   "execution_count": null,
   "id": "68f37d80-9e83-4253-9231-bcaa26e1d480",
   "metadata": {},
   "outputs": [],
   "source": []
  },
  {
   "cell_type": "code",
   "execution_count": null,
   "id": "bc6da45e-b694-4bff-a95a-21a7c3eaaef3",
   "metadata": {},
   "outputs": [],
   "source": []
  }
 ],
 "metadata": {
  "kernelspec": {
   "display_name": "Python 3 (ipykernel)",
   "language": "python",
   "name": "python3"
  },
  "language_info": {
   "codemirror_mode": {
    "name": "ipython",
    "version": 3
   },
   "file_extension": ".py",
   "mimetype": "text/x-python",
   "name": "python",
   "nbconvert_exporter": "python",
   "pygments_lexer": "ipython3",
   "version": "3.11.7"
  }
 },
 "nbformat": 4,
 "nbformat_minor": 5
}
