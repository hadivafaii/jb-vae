{
 "cells": [
  {
   "cell_type": "markdown",
   "id": "68c49500-d331-4529-a189-66955134371a",
   "metadata": {},
   "source": [
    "# (16) df: main\n",
    "\n",
    "**Motivation**: Contains \"MC vs. Exact\" results, as well as dead neuron, and sparse score results. Device = ```cuda:1``` <br>"
   ]
  },
  {
   "cell_type": "code",
   "execution_count": 1,
   "id": "721412ee-9fe2-4e48-910d-37a7304ed31d",
   "metadata": {
    "tags": [
     "hide-input"
    ]
   },
   "outputs": [],
   "source": [
    "# HIDE CODE\n",
    "\n",
    "\n",
    "import os, sys\n",
    "from IPython.display import display\n",
    "\n",
    "# tmp & extras dir\n",
    "git_dir = os.path.join(os.environ['HOME'], 'Dropbox/git')\n",
    "extras_dir = os.path.join(git_dir, 'jb-vae/_extras')\n",
    "fig_base_dir = os.path.join(git_dir, 'jb-vae/figs')\n",
    "tmp_dir = os.path.join(git_dir, 'jb-vae/tmp')\n",
    "\n",
    "# GitHub\n",
    "sys.path.insert(0, os.path.join(git_dir, '_PoissonVAE'))\n",
    "from analysis.eval import sparse_score\n",
    "from figures.fighelper import *\n",
    "from vae.train_vae import *\n",
    "\n",
    "# warnings, tqdm, & style\n",
    "warnings.filterwarnings('ignore', category=DeprecationWarning)\n",
    "warnings.filterwarnings('ignore', category=FutureWarning)\n",
    "warnings.filterwarnings('ignore', category=UserWarning)\n",
    "from rich.jupyter import print\n",
    "%matplotlib inline\n",
    "set_style()"
   ]
  },
  {
   "cell_type": "markdown",
   "id": "b53a8ee9-7fa2-4903-925a-12fb15c60166",
   "metadata": {},
   "source": [
    "## Device"
   ]
  },
  {
   "cell_type": "code",
   "execution_count": 2,
   "id": "d7b94732-ef0f-4cf3-ba3a-241743b56306",
   "metadata": {},
   "outputs": [],
   "source": [
    "device_idx = 1\n",
    "device = f'cuda:{device_idx}'\n",
    "\n",
    "from analysis.final import sort_fits, analyze_fits, add_nelbo_diff\n",
    "from figures.table import table_entry_loss\n",
    "from figures.point import nelbo_point\n",
    "from analysis.stats import ttest"
   ]
  },
  {
   "cell_type": "markdown",
   "id": "181b665c-d6d5-4a1b-84d3-ad8bd8037a75",
   "metadata": {},
   "source": [
    "## Load, make df"
   ]
  },
  {
   "cell_type": "markdown",
   "id": "8c2f0da6-427f-472e-b19a-8d1d5ddc084c",
   "metadata": {},
   "source": [
    "### Fit names"
   ]
  },
  {
   "cell_type": "code",
   "execution_count": 3,
   "id": "e49efe22-08b9-4c5e-9661-63fa2b911444",
   "metadata": {},
   "outputs": [
    {
     "data": {
      "text/plain": [
       "(460, 90, 527)"
      ]
     },
     "execution_count": 3,
     "metadata": {},
     "output_type": "execute_result"
    }
   ],
   "source": [
    "fits, fits_st, fits_etc = sort_fits()\n",
    "len(fits), len(fits_st), len(fits_etc)"
   ]
  },
  {
   "cell_type": "markdown",
   "id": "c87c2614-6d67-47eb-a2c6-b310636cccad",
   "metadata": {},
   "source": [
    "### Make df"
   ]
  },
  {
   "cell_type": "code",
   "execution_count": 4,
   "id": "8abf7360-86a3-4d0b-89b7-b62182b629e9",
   "metadata": {},
   "outputs": [
    {
     "data": {
      "text/html": [
       "<pre style=\"white-space:pre;overflow-x:auto;line-height:normal;font-family:Menlo,'DejaVu Sans Mono',consolas,'Courier New',monospace\"># fits: <span style=\"color: #008080; text-decoration-color: #008080; font-weight: bold\">240</span> ——— # fits_st: <span style=\"color: #008080; text-decoration-color: #008080; font-weight: bold\">60</span> ——— # fits_etc: <span style=\"color: #008080; text-decoration-color: #008080; font-weight: bold\">60</span>\n",
       "</pre>\n"
      ],
      "text/plain": [
       "# fits: \u001b[1;36m240\u001b[0m ——— # fits_st: \u001b[1;36m60\u001b[0m ——— # fits_etc: \u001b[1;36m60\u001b[0m\n"
      ]
     },
     "metadata": {},
     "output_type": "display_data"
    }
   ],
   "source": [
    "def accept_fn(name):\n",
    "    archi = name.split('-')[1]\n",
    "    accept = (\n",
    "        archi in ['<lin|lin>', '<conv+b|lin>']\n",
    "        and '-b' not in name\n",
    "    )\n",
    "    return accept\n",
    "\n",
    "\n",
    "def accept_fn_etc(name):\n",
    "    archi = name.split('-')[1]\n",
    "    accept = (\n",
    "        archi in ['<lin|lin>', '<conv+b|lin>']\n",
    "        and any(fn in name for fn in ['relu', 'exp'])\n",
    "        and 'gaussian' in name\n",
    "        and '-b' not in name\n",
    "    )\n",
    "    return accept\n",
    "\n",
    "\n",
    "fits, fits_st, fits_etc = sort_fits()\n",
    "\n",
    "fits = sorted(filter(accept_fn, fits))\n",
    "fits_st = sorted(filter(accept_fn, fits_st))\n",
    "fits_etc = sorted(filter(accept_fn_etc, fits_etc))\n",
    "\n",
    "msg = ' ——— '.join([\n",
    "    f\"# fits: {len(fits)}\",\n",
    "    f\"# fits_st: {len(fits_st)}\",\n",
    "    f\"# fits_etc: {len(fits_etc)}\",\n",
    "])\n",
    "print(msg)"
   ]
  },
  {
   "cell_type": "code",
   "execution_count": null,
   "id": "12f0fcf2-225c-4d73-b80e-2b9a4a5f9e9e",
   "metadata": {},
   "outputs": [],
   "source": []
  },
  {
   "cell_type": "code",
   "execution_count": 5,
   "id": "db2bd6ba-0cd6-49b6-a58a-8384c3a402b4",
   "metadata": {},
   "outputs": [
    {
     "name": "stderr",
     "output_type": "stream",
     "text": [
      "100%|█████████████████████████████████████████| 240/240 [03:09<00:00,  1.27it/s]\n",
      "100%|███████████████████████████████████████████| 60/60 [00:54<00:00,  1.10it/s]\n",
      "100%|███████████████████████████████████████████| 60/60 [00:50<00:00,  1.19it/s]\n"
     ]
    },
    {
     "data": {
      "text/html": [
       "<pre style=\"white-space:pre;overflow-x:auto;line-height:normal;font-family:Menlo,'DejaVu Sans Mono',consolas,'Courier New',monospace\"><span style=\"font-weight: bold\">[</span>PROGRESS<span style=\"font-weight: bold\">]</span> <span style=\"color: #008000; text-decoration-color: #008000\">'df_main.df'</span> saved at\n",
       "<span style=\"color: #800080; text-decoration-color: #800080\">/home/hadi/Dropbox/git/jb-vae/</span><span style=\"color: #ff00ff; text-decoration-color: #ff00ff\">tmp</span>\n",
       "</pre>\n"
      ],
      "text/plain": [
       "\u001b[1m[\u001b[0mPROGRESS\u001b[1m]\u001b[0m \u001b[32m'df_main.df'\u001b[0m saved at\n",
       "\u001b[35m/home/hadi/Dropbox/git/jb-vae/\u001b[0m\u001b[95mtmp\u001b[0m\n"
      ]
     },
     "metadata": {},
     "output_type": "display_data"
    },
    {
     "name": "stdout",
     "output_type": "stream",
     "text": [
      "CPU times: user 2h 58min 28s, sys: 6min 32s, total: 3h 5min\n",
      "Wall time: 4min 54s\n"
     ]
    }
   ],
   "source": [
    "%%time\n",
    "\n",
    "df_exmc = analyze_fits(fits, device, 'main')\n",
    "df_st = analyze_fits(fits_st, device, 'main')\n",
    "df_st['method'] = 'st'\n",
    "df_etc = analyze_fits(fits_etc, device, 'main')\n",
    "\n",
    "df = pd.concat([df_exmc, df_st, df_etc]).reset_index(drop=True)\n",
    "\n",
    "# fix the categorical\n",
    "cond = (\n",
    "    (df['type'] == 'categorical') &\n",
    "    (df['enc_type'] == 'conv') &\n",
    "    (df['dataset'] == 'MNIST') &\n",
    "    (df['method'] == 'mc') &\n",
    "    (df['seed'].isin([2, 3]))\n",
    ")\n",
    "df.loc[cond, 'kl'] = np.nan\n",
    "df.loc[cond, 'kl_diag'] = np.nan\n",
    "df.loc[cond, 'mse'] = np.nan\n",
    "df.loc[cond, 'mse_map'] = np.nan\n",
    "df.loc[cond, 'nelbo'] = np.nan\n",
    "\n",
    "# savel\n",
    "save_obj(\n",
    "    obj=df,\n",
    "    file_name='df_main',\n",
    "    save_dir=tmp_dir,\n",
    "    verbose=True,\n",
    "    mode='df',\n",
    ")"
   ]
  },
  {
   "cell_type": "code",
   "execution_count": 9,
   "id": "1fb4d079-f64a-4b3f-9473-96b8fca99ffe",
   "metadata": {},
   "outputs": [
    {
     "name": "stderr",
     "output_type": "stream",
     "text": [
      "100%|█████████████████████████████████████████| 240/240 [03:32<00:00,  1.13it/s]\n",
      "100%|███████████████████████████████████████████| 60/60 [00:58<00:00,  1.03it/s]\n",
      "100%|███████████████████████████████████████████| 60/60 [00:52<00:00,  1.14it/s]\n"
     ]
    },
    {
     "data": {
      "text/html": [
       "<pre style=\"white-space:pre;overflow-x:auto;line-height:normal;font-family:Menlo,'DejaVu Sans Mono',consolas,'Courier New',monospace\"><span style=\"font-weight: bold\">[</span>PROGRESS<span style=\"font-weight: bold\">]</span> <span style=\"color: #008000; text-decoration-color: #008000\">'df_lifetime.df'</span> saved at\n",
       "<span style=\"color: #800080; text-decoration-color: #800080\">/home/hadi/Dropbox/git/jb-vae/</span><span style=\"color: #ff00ff; text-decoration-color: #ff00ff\">tmp</span>\n",
       "</pre>\n"
      ],
      "text/plain": [
       "\u001b[1m[\u001b[0mPROGRESS\u001b[1m]\u001b[0m \u001b[32m'df_lifetime.df'\u001b[0m saved at\n",
       "\u001b[35m/home/hadi/Dropbox/git/jb-vae/\u001b[0m\u001b[95mtmp\u001b[0m\n"
      ]
     },
     "metadata": {},
     "output_type": "display_data"
    },
    {
     "name": "stderr",
     "output_type": "stream",
     "text": [
      "100%|█████████████████████████████████████████| 240/240 [03:39<00:00,  1.09it/s]\n",
      "100%|███████████████████████████████████████████| 60/60 [01:01<00:00,  1.02s/it]\n",
      "100%|███████████████████████████████████████████| 60/60 [00:52<00:00,  1.13it/s]\n"
     ]
    },
    {
     "data": {
      "text/html": [
       "<pre style=\"white-space:pre;overflow-x:auto;line-height:normal;font-family:Menlo,'DejaVu Sans Mono',consolas,'Courier New',monospace\"><span style=\"font-weight: bold\">[</span>PROGRESS<span style=\"font-weight: bold\">]</span> <span style=\"color: #008000; text-decoration-color: #008000\">'df_population.df'</span> saved at\n",
       "<span style=\"color: #800080; text-decoration-color: #800080\">/home/hadi/Dropbox/git/jb-vae/</span><span style=\"color: #ff00ff; text-decoration-color: #ff00ff\">tmp</span>\n",
       "</pre>\n"
      ],
      "text/plain": [
       "\u001b[1m[\u001b[0mPROGRESS\u001b[1m]\u001b[0m \u001b[32m'df_population.df'\u001b[0m saved at\n",
       "\u001b[35m/home/hadi/Dropbox/git/jb-vae/\u001b[0m\u001b[95mtmp\u001b[0m\n"
      ]
     },
     "metadata": {},
     "output_type": "display_data"
    },
    {
     "name": "stdout",
     "output_type": "stream",
     "text": [
      "CPU times: user 6h 5min 52s, sys: 13min 42s, total: 6h 19min 34s\n",
      "Wall time: 11min 34s\n"
     ]
    }
   ],
   "source": [
    "%%time  \n",
    "\n",
    "for sparse_key in ['lifetime', 'population']:\n",
    "    df_exmc = analyze_fits(fits, device, 'sparse', sparse_key=sparse_key)\n",
    "    df_st = analyze_fits(fits_st, device, 'sparse', sparse_key=sparse_key)\n",
    "    df_st['method'] = 'st'\n",
    "    df_etc = analyze_fits(fits_etc, device, 'sparse', sparse_key=sparse_key)\n",
    "    \n",
    "    df = pd.concat([df_exmc, df_st, df_etc]).reset_index(drop=True)\n",
    "\n",
    "    # fix the categorical\n",
    "    cond = (\n",
    "        (df['type'] == 'categorical') &\n",
    "        (df['enc_type'] == 'conv') &\n",
    "        (df['dataset'] == 'MNIST') &\n",
    "        (df['method'] == 'mc') &\n",
    "        (df['seed'].isin([2, 3]))\n",
    "    )\n",
    "    df.loc[cond, 'kl'] = np.nan\n",
    "    df.loc[cond, 'kl_diag'] = np.nan\n",
    "    df.loc[cond, 'mse'] = np.nan\n",
    "    df.loc[cond, 'mse_map'] = np.nan\n",
    "    df.loc[cond, 'nelbo'] = np.nan\n",
    "    \n",
    "    # savel\n",
    "    save_obj(\n",
    "        obj=df,\n",
    "        file_name=f\"df_{sparse_key}\",\n",
    "        save_dir=tmp_dir,\n",
    "        verbose=True,\n",
    "        mode='df',\n",
    "    )"
   ]
  },
  {
   "cell_type": "code",
   "execution_count": null,
   "id": "4d83abff-6b83-4b88-9d83-e6b5bf8aceb7",
   "metadata": {},
   "outputs": [],
   "source": []
  },
  {
   "cell_type": "markdown",
   "id": "c5cf1ec3-696e-485c-a14a-46d936af3814",
   "metadata": {},
   "source": [
    "### Load/analyze"
   ]
  },
  {
   "cell_type": "code",
   "execution_count": 8,
   "id": "b8581805-ba2c-48e9-af28-a18d6e969c02",
   "metadata": {},
   "outputs": [],
   "source": [
    "df = pjoin(tmp_dir, 'df_lifetime.df')\n",
    "df = pd.read_pickle(df)"
   ]
  },
  {
   "cell_type": "code",
   "execution_count": 9,
   "id": "6eec447b-a40b-400a-a16d-768d3d5d2fe5",
   "metadata": {},
   "outputs": [],
   "source": [
    "df_selected = df.loc[\n",
    "    (df['method'] == 'mc') &\n",
    "    (df['type'] != 'categorical')\n",
    "]\n",
    "df_selected = df_selected.groupby(\n",
    "    ['dataset', 'type', 'enc_type', 'seed']).mean(\n",
    "    numeric_only=True)['lifetime'].reset_index()"
   ]
  },
  {
   "cell_type": "code",
   "execution_count": null,
   "id": "942c7a36-4204-4120-9cb5-1eb8e54de7d6",
   "metadata": {},
   "outputs": [],
   "source": []
  },
  {
   "cell_type": "code",
   "execution_count": 10,
   "id": "6ec73b52-3b56-4544-a276-34e978d7b596",
   "metadata": {},
   "outputs": [
    {
     "data": {
      "image/png": "[encoded data removed]",
      "text/plain": [
       "<Figure size 1033.12x350 with 2 Axes>"
      ]
     },
     "metadata": {},
     "output_type": "display_data"
    }
   ],
   "source": [
    "fg = sns.catplot(\n",
    "    data=df_selected,\n",
    "    x='dataset',\n",
    "    hue='type',\n",
    "    col='enc_type',\n",
    "    col_order=['lin', 'conv'],\n",
    "    y='lifetime',\n",
    "    height=3.5,\n",
    "    aspect=1.3,\n",
    "    s=70,\n",
    ")\n",
    "fg.axes.flat[0].set(ylim=(0, 1))\n",
    "plt.show()"
   ]
  },
  {
   "cell_type": "code",
   "execution_count": null,
   "id": "19ee4b6f-6587-47bb-977c-dc8e78ea65e7",
   "metadata": {},
   "outputs": [],
   "source": []
  },
  {
   "cell_type": "code",
   "execution_count": null,
   "id": "3d86f74f-beb8-44f1-bc04-6abfc366cfc8",
   "metadata": {},
   "outputs": [],
   "source": []
  },
  {
   "cell_type": "code",
   "execution_count": 11,
   "id": "f6898408-05a2-489c-9e6c-2f299e6242a1",
   "metadata": {},
   "outputs": [],
   "source": [
    "df = pjoin(tmp_dir, 'df_main.df')\n",
    "df = pd.read_pickle(df)"
   ]
  },
  {
   "cell_type": "code",
   "execution_count": 12,
   "id": "52fd0471-d522-4361-bffc-955187075971",
   "metadata": {},
   "outputs": [
    {
     "data": {
      "text/html": [
       "<div>\n",
       "<style scoped>\n",
       "    .dataframe tbody tr th:only-of-type {\n",
       "        vertical-align: middle;\n",
       "    }\n",
       "\n",
       "    .dataframe tbody tr th {\n",
       "        vertical-align: top;\n",
       "    }\n",
       "\n",
       "    .dataframe thead th {\n",
       "        text-align: right;\n",
       "    }\n",
       "</style>\n",
       "<table border=\"1\" class=\"dataframe\">\n",
       "  <thead>\n",
       "    <tr style=\"text-align: right;\">\n",
       "      <th></th>\n",
       "      <th></th>\n",
       "      <th>type</th>\n",
       "      <th>gaussian</th>\n",
       "      <th>laplace</th>\n",
       "      <th>poisson</th>\n",
       "    </tr>\n",
       "    <tr>\n",
       "      <th>dataset</th>\n",
       "      <th>enc_type</th>\n",
       "      <th>method</th>\n",
       "      <th></th>\n",
       "      <th></th>\n",
       "      <th></th>\n",
       "    </tr>\n",
       "  </thead>\n",
       "  <tbody>\n",
       "    <tr>\n",
       "      <th rowspan=\"6\" valign=\"top\">CIFAR10-PATCHES</th>\n",
       "      <th rowspan=\"3\" valign=\"top\">conv</th>\n",
       "      <th>exact</th>\n",
       "      <td>0.246094</td>\n",
       "      <td>0.229687</td>\n",
       "      <td>1.000000</td>\n",
       "    </tr>\n",
       "    <tr>\n",
       "      <th>mc</th>\n",
       "      <td>0.246094</td>\n",
       "      <td>0.230469</td>\n",
       "      <td>0.928125</td>\n",
       "    </tr>\n",
       "    <tr>\n",
       "      <th>st</th>\n",
       "      <td>NaN</td>\n",
       "      <td>NaN</td>\n",
       "      <td>1.000000</td>\n",
       "    </tr>\n",
       "    <tr>\n",
       "      <th rowspan=\"3\" valign=\"top\">lin</th>\n",
       "      <th>exact</th>\n",
       "      <td>0.226562</td>\n",
       "      <td>0.198437</td>\n",
       "      <td>0.998437</td>\n",
       "    </tr>\n",
       "    <tr>\n",
       "      <th>mc</th>\n",
       "      <td>0.105469</td>\n",
       "      <td>0.192969</td>\n",
       "      <td>0.999219</td>\n",
       "    </tr>\n",
       "    <tr>\n",
       "      <th>st</th>\n",
       "      <td>NaN</td>\n",
       "      <td>NaN</td>\n",
       "      <td>0.998047</td>\n",
       "    </tr>\n",
       "    <tr>\n",
       "      <th rowspan=\"6\" valign=\"top\">DOVES</th>\n",
       "      <th rowspan=\"3\" valign=\"top\">conv</th>\n",
       "      <th>exact</th>\n",
       "      <td>0.246094</td>\n",
       "      <td>0.224219</td>\n",
       "      <td>1.000000</td>\n",
       "    </tr>\n",
       "    <tr>\n",
       "      <th>mc</th>\n",
       "      <td>0.246094</td>\n",
       "      <td>0.221875</td>\n",
       "      <td>0.819141</td>\n",
       "    </tr>\n",
       "    <tr>\n",
       "      <th>st</th>\n",
       "      <td>NaN</td>\n",
       "      <td>NaN</td>\n",
       "      <td>0.998047</td>\n",
       "    </tr>\n",
       "    <tr>\n",
       "      <th rowspan=\"3\" valign=\"top\">lin</th>\n",
       "      <th>exact</th>\n",
       "      <td>0.222656</td>\n",
       "      <td>0.191406</td>\n",
       "      <td>0.939844</td>\n",
       "    </tr>\n",
       "    <tr>\n",
       "      <th>mc</th>\n",
       "      <td>0.217578</td>\n",
       "      <td>0.187500</td>\n",
       "      <td>0.983984</td>\n",
       "    </tr>\n",
       "    <tr>\n",
       "      <th>st</th>\n",
       "      <td>NaN</td>\n",
       "      <td>NaN</td>\n",
       "      <td>0.974219</td>\n",
       "    </tr>\n",
       "    <tr>\n",
       "      <th rowspan=\"6\" valign=\"top\">MNIST</th>\n",
       "      <th rowspan=\"3\" valign=\"top\">conv</th>\n",
       "      <th>exact</th>\n",
       "      <td>0.042969</td>\n",
       "      <td>0.036719</td>\n",
       "      <td>0.533203</td>\n",
       "    </tr>\n",
       "    <tr>\n",
       "      <th>mc</th>\n",
       "      <td>0.031250</td>\n",
       "      <td>0.033984</td>\n",
       "      <td>0.426172</td>\n",
       "    </tr>\n",
       "    <tr>\n",
       "      <th>st</th>\n",
       "      <td>NaN</td>\n",
       "      <td>NaN</td>\n",
       "      <td>0.276953</td>\n",
       "    </tr>\n",
       "    <tr>\n",
       "      <th rowspan=\"3\" valign=\"top\">lin</th>\n",
       "      <th>exact</th>\n",
       "      <td>0.037109</td>\n",
       "      <td>0.031250</td>\n",
       "      <td>0.519922</td>\n",
       "    </tr>\n",
       "    <tr>\n",
       "      <th>mc</th>\n",
       "      <td>0.027344</td>\n",
       "      <td>0.027344</td>\n",
       "      <td>0.536719</td>\n",
       "    </tr>\n",
       "    <tr>\n",
       "      <th>st</th>\n",
       "      <td>NaN</td>\n",
       "      <td>NaN</td>\n",
       "      <td>0.205859</td>\n",
       "    </tr>\n",
       "  </tbody>\n",
       "</table>\n",
       "</div>"
      ],
      "text/plain": [
       "type                             gaussian   laplace   poisson\n",
       "dataset         enc_type method                              \n",
       "CIFAR10-PATCHES conv     exact   0.246094  0.229687  1.000000\n",
       "                         mc      0.246094  0.230469  0.928125\n",
       "                         st           NaN       NaN  1.000000\n",
       "                lin      exact   0.226562  0.198437  0.998437\n",
       "                         mc      0.105469  0.192969  0.999219\n",
       "                         st           NaN       NaN  0.998047\n",
       "DOVES           conv     exact   0.246094  0.224219  1.000000\n",
       "                         mc      0.246094  0.221875  0.819141\n",
       "                         st           NaN       NaN  0.998047\n",
       "                lin      exact   0.222656  0.191406  0.939844\n",
       "                         mc      0.217578  0.187500  0.983984\n",
       "                         st           NaN       NaN  0.974219\n",
       "MNIST           conv     exact   0.042969  0.036719  0.533203\n",
       "                         mc      0.031250  0.033984  0.426172\n",
       "                         st           NaN       NaN  0.276953\n",
       "                lin      exact   0.037109  0.031250  0.519922\n",
       "                         mc      0.027344  0.027344  0.536719\n",
       "                         st           NaN       NaN  0.205859"
      ]
     },
     "execution_count": 12,
     "metadata": {},
     "output_type": "execute_result"
    }
   ],
   "source": [
    "df.loc[df['type'] != 'categorical'].pivot_table(\n",
    "    index=['dataset', 'enc_type', 'method'],\n",
    "    columns='type',\n",
    "    values='active',\n",
    ")"
   ]
  },
  {
   "cell_type": "code",
   "execution_count": null,
   "id": "06be1985-b7fa-461c-b498-d7e000bbf91e",
   "metadata": {},
   "outputs": [],
   "source": []
  },
  {
   "cell_type": "code",
   "execution_count": 13,
   "id": "a0afdca6-7bdd-47c7-b797-ec08dd988579",
   "metadata": {},
   "outputs": [
    {
     "data": {
      "text/plain": [
       "<seaborn.axisgrid.FacetGrid at 0x7aa8aed50990>"
      ]
     },
     "execution_count": 13,
     "metadata": {},
     "output_type": "execute_result"
    },
    {
     "data": {
      "image/png": "[encoded data removed]",
      "text/plain": [
       "<Figure size 940.5x400 with 2 Axes>"
      ]
     },
     "metadata": {},
     "output_type": "display_data"
    }
   ],
   "source": [
    "sns.catplot(\n",
    "    data=df.loc[df['method'] != 'st'],\n",
    "    x='dataset',\n",
    "    hue='type',\n",
    "    col='enc_type',\n",
    "    y='active',\n",
    "    height=4,\n",
    ")"
   ]
  },
  {
   "cell_type": "code",
   "execution_count": 14,
   "id": "5354327c-f45a-4f46-bff3-09c076433e37",
   "metadata": {},
   "outputs": [
    {
     "data": {
      "text/html": [
       "<div>\n",
       "<style scoped>\n",
       "    .dataframe tbody tr th:only-of-type {\n",
       "        vertical-align: middle;\n",
       "    }\n",
       "\n",
       "    .dataframe tbody tr th {\n",
       "        vertical-align: top;\n",
       "    }\n",
       "\n",
       "    .dataframe thead tr th {\n",
       "        text-align: left;\n",
       "    }\n",
       "\n",
       "    .dataframe thead tr:last-of-type th {\n",
       "        text-align: right;\n",
       "    }\n",
       "</style>\n",
       "<table border=\"1\" class=\"dataframe\">\n",
       "  <thead>\n",
       "    <tr>\n",
       "      <th>dataset</th>\n",
       "      <th colspan=\"2\" halign=\"left\">CIFAR10-PATCHES</th>\n",
       "      <th colspan=\"2\" halign=\"left\">DOVES</th>\n",
       "      <th colspan=\"2\" halign=\"left\">MNIST</th>\n",
       "    </tr>\n",
       "    <tr>\n",
       "      <th>enc_type</th>\n",
       "      <th>conv</th>\n",
       "      <th>lin</th>\n",
       "      <th>conv</th>\n",
       "      <th>lin</th>\n",
       "      <th>conv</th>\n",
       "      <th>lin</th>\n",
       "    </tr>\n",
       "    <tr>\n",
       "      <th>type</th>\n",
       "      <th></th>\n",
       "      <th></th>\n",
       "      <th></th>\n",
       "      <th></th>\n",
       "      <th></th>\n",
       "      <th></th>\n",
       "    </tr>\n",
       "  </thead>\n",
       "  <tbody>\n",
       "    <tr>\n",
       "      <th>categorical</th>\n",
       "      <td>0.819727</td>\n",
       "      <td>0.995313</td>\n",
       "      <td>0.995313</td>\n",
       "      <td>0.968750</td>\n",
       "      <td>0.118945</td>\n",
       "      <td>0.071484</td>\n",
       "    </tr>\n",
       "    <tr>\n",
       "      <th>gaussian</th>\n",
       "      <td>0.246094</td>\n",
       "      <td>0.166016</td>\n",
       "      <td>0.246094</td>\n",
       "      <td>0.220117</td>\n",
       "      <td>0.037109</td>\n",
       "      <td>0.032227</td>\n",
       "    </tr>\n",
       "    <tr>\n",
       "      <th>laplace</th>\n",
       "      <td>0.230078</td>\n",
       "      <td>0.195703</td>\n",
       "      <td>0.223047</td>\n",
       "      <td>0.189453</td>\n",
       "      <td>0.035352</td>\n",
       "      <td>0.029297</td>\n",
       "    </tr>\n",
       "    <tr>\n",
       "      <th>poisson</th>\n",
       "      <td>0.964063</td>\n",
       "      <td>0.998828</td>\n",
       "      <td>0.909570</td>\n",
       "      <td>0.961914</td>\n",
       "      <td>0.479687</td>\n",
       "      <td>0.528320</td>\n",
       "    </tr>\n",
       "  </tbody>\n",
       "</table>\n",
       "</div>"
      ],
      "text/plain": [
       "dataset     CIFAR10-PATCHES               DOVES               MNIST          \n",
       "enc_type               conv       lin      conv       lin      conv       lin\n",
       "type                                                                         \n",
       "categorical        0.819727  0.995313  0.995313  0.968750  0.118945  0.071484\n",
       "gaussian           0.246094  0.166016  0.246094  0.220117  0.037109  0.032227\n",
       "laplace            0.230078  0.195703  0.223047  0.189453  0.035352  0.029297\n",
       "poisson            0.964063  0.998828  0.909570  0.961914  0.479687  0.528320"
      ]
     },
     "execution_count": 14,
     "metadata": {},
     "output_type": "execute_result"
    }
   ],
   "source": [
    "df.loc[df['method'] != 'st'].pivot_table(\n",
    "    columns=['dataset', 'enc_type'],\n",
    "    index='type',\n",
    "    values='active',\n",
    ")"
   ]
  },
  {
   "cell_type": "code",
   "execution_count": null,
   "id": "5df9dbfe-7951-4f7c-90ec-fe14bdabc45b",
   "metadata": {},
   "outputs": [],
   "source": []
  },
  {
   "cell_type": "code",
   "execution_count": 7,
   "id": "27ea922c-fdfd-4fea-83b3-c47290380c1d",
   "metadata": {},
   "outputs": [
    {
     "data": {
      "text/plain": [
       "<seaborn.axisgrid.FacetGrid at 0x75c9abe90b10>"
      ]
     },
     "execution_count": 7,
     "metadata": {},
     "output_type": "execute_result"
    },
    {
     "data": {
      "image/png": "[encoded data removed]",
      "text/plain": [
       "<Figure size 958.125x400 with 2 Axes>"
      ]
     },
     "metadata": {},
     "output_type": "display_data"
    }
   ],
   "source": [
    "sns.catplot(\n",
    "    data=df.loc[df['method'] == 'mc'],\n",
    "    x='dataset',\n",
    "    hue='type',\n",
    "    col='enc_type',\n",
    "    y='active',\n",
    "    height=4,\n",
    ")"
   ]
  },
  {
   "cell_type": "code",
   "execution_count": 8,
   "id": "4a473eb8-11ad-4f10-b06e-b2a5dd2cfafa",
   "metadata": {},
   "outputs": [
    {
     "data": {
      "text/html": [
       "<div>\n",
       "<style scoped>\n",
       "    .dataframe tbody tr th:only-of-type {\n",
       "        vertical-align: middle;\n",
       "    }\n",
       "\n",
       "    .dataframe tbody tr th {\n",
       "        vertical-align: top;\n",
       "    }\n",
       "\n",
       "    .dataframe thead tr th {\n",
       "        text-align: left;\n",
       "    }\n",
       "\n",
       "    .dataframe thead tr:last-of-type th {\n",
       "        text-align: right;\n",
       "    }\n",
       "</style>\n",
       "<table border=\"1\" class=\"dataframe\">\n",
       "  <thead>\n",
       "    <tr>\n",
       "      <th>dataset</th>\n",
       "      <th colspan=\"2\" halign=\"left\">CIFAR10-PATCHES</th>\n",
       "      <th colspan=\"2\" halign=\"left\">DOVES</th>\n",
       "      <th colspan=\"2\" halign=\"left\">MNIST</th>\n",
       "    </tr>\n",
       "    <tr>\n",
       "      <th>enc_type</th>\n",
       "      <th>conv</th>\n",
       "      <th>lin</th>\n",
       "      <th>conv</th>\n",
       "      <th>lin</th>\n",
       "      <th>conv</th>\n",
       "      <th>lin</th>\n",
       "    </tr>\n",
       "    <tr>\n",
       "      <th>type</th>\n",
       "      <th></th>\n",
       "      <th></th>\n",
       "      <th></th>\n",
       "      <th></th>\n",
       "      <th></th>\n",
       "      <th></th>\n",
       "    </tr>\n",
       "  </thead>\n",
       "  <tbody>\n",
       "    <tr>\n",
       "      <th>categorical</th>\n",
       "      <td>0.801562</td>\n",
       "      <td>0.996094</td>\n",
       "      <td>0.996094</td>\n",
       "      <td>0.995313</td>\n",
       "      <td>0.237891</td>\n",
       "      <td>0.139453</td>\n",
       "    </tr>\n",
       "    <tr>\n",
       "      <th>gaussian</th>\n",
       "      <td>0.246094</td>\n",
       "      <td>0.105469</td>\n",
       "      <td>0.246094</td>\n",
       "      <td>0.217578</td>\n",
       "      <td>0.031250</td>\n",
       "      <td>0.027344</td>\n",
       "    </tr>\n",
       "    <tr>\n",
       "      <th>gaussian-exp</th>\n",
       "      <td>0.204297</td>\n",
       "      <td>0.000000</td>\n",
       "      <td>0.531641</td>\n",
       "      <td>0.089844</td>\n",
       "      <td>0.101953</td>\n",
       "      <td>0.053906</td>\n",
       "    </tr>\n",
       "    <tr>\n",
       "      <th>gaussian-relu</th>\n",
       "      <td>0.216016</td>\n",
       "      <td>0.000000</td>\n",
       "      <td>0.234375</td>\n",
       "      <td>0.105859</td>\n",
       "      <td>0.039062</td>\n",
       "      <td>0.036719</td>\n",
       "    </tr>\n",
       "    <tr>\n",
       "      <th>laplace</th>\n",
       "      <td>0.230469</td>\n",
       "      <td>0.192969</td>\n",
       "      <td>0.221875</td>\n",
       "      <td>0.187500</td>\n",
       "      <td>0.033984</td>\n",
       "      <td>0.027344</td>\n",
       "    </tr>\n",
       "    <tr>\n",
       "      <th>poisson</th>\n",
       "      <td>0.928125</td>\n",
       "      <td>0.999219</td>\n",
       "      <td>0.819141</td>\n",
       "      <td>0.983984</td>\n",
       "      <td>0.426172</td>\n",
       "      <td>0.536719</td>\n",
       "    </tr>\n",
       "  </tbody>\n",
       "</table>\n",
       "</div>"
      ],
      "text/plain": [
       "dataset       CIFAR10-PATCHES               DOVES               MNIST  \\\n",
       "enc_type                 conv       lin      conv       lin      conv   \n",
       "type                                                                    \n",
       "categorical          0.801562  0.996094  0.996094  0.995313  0.237891   \n",
       "gaussian             0.246094  0.105469  0.246094  0.217578  0.031250   \n",
       "gaussian-exp         0.204297  0.000000  0.531641  0.089844  0.101953   \n",
       "gaussian-relu        0.216016  0.000000  0.234375  0.105859  0.039062   \n",
       "laplace              0.230469  0.192969  0.221875  0.187500  0.033984   \n",
       "poisson              0.928125  0.999219  0.819141  0.983984  0.426172   \n",
       "\n",
       "dataset                  \n",
       "enc_type            lin  \n",
       "type                     \n",
       "categorical    0.139453  \n",
       "gaussian       0.027344  \n",
       "gaussian-exp   0.053906  \n",
       "gaussian-relu  0.036719  \n",
       "laplace        0.027344  \n",
       "poisson        0.536719  "
      ]
     },
     "execution_count": 8,
     "metadata": {},
     "output_type": "execute_result"
    }
   ],
   "source": [
    "df.loc[df['method'] == 'mc'].pivot_table(\n",
    "    columns=['dataset', 'enc_type'],\n",
    "    index='type',\n",
    "    values='active',\n",
    ")"
   ]
  },
  {
   "cell_type": "code",
   "execution_count": null,
   "id": "7bec10c5-be8d-4a94-ac86-8f25e82894be",
   "metadata": {},
   "outputs": [],
   "source": []
  },
  {
   "cell_type": "markdown",
   "id": "13b24d59-aebe-45fb-ba71-95d71059787e",
   "metadata": {},
   "source": [
    "### Load df"
   ]
  },
  {
   "cell_type": "code",
   "execution_count": 4,
   "id": "b7cbb3ed-2e3e-4c7d-853d-b8ccf0bdf91f",
   "metadata": {},
   "outputs": [
    {
     "data": {
      "text/plain": [
       "(150, 9)"
      ]
     },
     "execution_count": 4,
     "metadata": {},
     "output_type": "execute_result"
    }
   ],
   "source": [
    "df = pjoin(tmp_dir, 'df_main.df')\n",
    "df = pd.read_pickle(df)\n",
    "df = add_nelbo_diff(df)\n",
    "df.shape"
   ]
  },
  {
   "cell_type": "code",
   "execution_count": 5,
   "id": "71fb1a9a-ecd5-40e5-8b9d-8f310e46a6f9",
   "metadata": {},
   "outputs": [
    {
     "data": {
      "image/png": "[encoded data removed]",
      "text/plain": [
       "<Figure size 600x400 with 6 Axes>"
      ]
     },
     "metadata": {},
     "output_type": "display_data"
    },
    {
     "ename": "NameError",
     "evalue": "name 'fig_dir' is not defined",
     "output_type": "error",
     "traceback": [
      "\u001b[0;31m---------------------------------------------------------------------------\u001b[0m",
      "\u001b[0;31mNameError\u001b[0m                                 Traceback (most recent call last)",
      "Cell \u001b[0;32mIn[5], line 2\u001b[0m\n\u001b[1;32m      1\u001b[0m fig, axes \u001b[38;5;241m=\u001b[39m nelbo_point(df, scale\u001b[38;5;241m=\u001b[39m\u001b[38;5;241m2\u001b[39m)\n\u001b[0;32m----> 2\u001b[0m fig\u001b[38;5;241m.\u001b[39msavefig(pjoin(fig_dir, \u001b[38;5;124m'\u001b[39m\u001b[38;5;124mnelbo_point.pdf\u001b[39m\u001b[38;5;124m'\u001b[39m), \u001b[38;5;241m*\u001b[39m\u001b[38;5;241m*\u001b[39mkws_fig)\n",
      "\u001b[0;31mNameError\u001b[0m: name 'fig_dir' is not defined"
     ]
    }
   ],
   "source": [
    "fig, axes = nelbo_point(df, scale=2)\n",
    "fig.savefig(pjoin(fig_dir, 'nelbo_point.pdf'), **kws_fig)"
   ]
  },
  {
   "cell_type": "code",
   "execution_count": 25,
   "id": "97c9d38b-d1be-41fc-9a6f-2f16778370ed",
   "metadata": {},
   "outputs": [
    {
     "data": {
      "image/png": "[encoded data removed]",
      "text/plain": [
       "<Figure size 600x400 with 6 Axes>"
      ]
     },
     "metadata": {},
     "output_type": "display_data"
    }
   ],
   "source": [
    "fig, axes = nelbo_point(df, scale=2, remove_lbls=False)"
   ]
  },
  {
   "cell_type": "code",
   "execution_count": null,
   "id": "4549aaed-fcde-42d9-b1d2-869f30a6ccf1",
   "metadata": {},
   "outputs": [],
   "source": []
  },
  {
   "cell_type": "code",
   "execution_count": 6,
   "id": "765ad63d-37b0-46c1-9e5f-1bfc54c3ee8c",
   "metadata": {},
   "outputs": [
    {
     "data": {
      "text/html": [
       "<div>\n",
       "<style scoped>\n",
       "    .dataframe tbody tr th:only-of-type {\n",
       "        vertical-align: middle;\n",
       "    }\n",
       "\n",
       "    .dataframe tbody tr th {\n",
       "        vertical-align: top;\n",
       "    }\n",
       "\n",
       "    .dataframe thead th {\n",
       "        text-align: right;\n",
       "    }\n",
       "</style>\n",
       "<table border=\"1\" class=\"dataframe\">\n",
       "  <thead>\n",
       "    <tr style=\"text-align: right;\">\n",
       "      <th></th>\n",
       "      <th></th>\n",
       "      <th>seed</th>\n",
       "      <th>nelbo</th>\n",
       "      <th>nelbo_diff</th>\n",
       "    </tr>\n",
       "    <tr>\n",
       "      <th>type</th>\n",
       "      <th>method</th>\n",
       "      <th></th>\n",
       "      <th></th>\n",
       "      <th></th>\n",
       "    </tr>\n",
       "  </thead>\n",
       "  <tbody>\n",
       "    <tr>\n",
       "      <th rowspan=\"2\" valign=\"top\">gaussian</th>\n",
       "      <th>exact</th>\n",
       "      <td>3.0</td>\n",
       "      <td>118.394539</td>\n",
       "      <td>0.062021</td>\n",
       "    </tr>\n",
       "    <tr>\n",
       "      <th>mc</th>\n",
       "      <td>3.0</td>\n",
       "      <td>118.430450</td>\n",
       "      <td>0.142867</td>\n",
       "    </tr>\n",
       "    <tr>\n",
       "      <th rowspan=\"3\" valign=\"top\">poisson</th>\n",
       "      <th>exact</th>\n",
       "      <td>3.0</td>\n",
       "      <td>123.472893</td>\n",
       "      <td>0.216889</td>\n",
       "    </tr>\n",
       "    <tr>\n",
       "      <th>mc</th>\n",
       "      <td>3.0</td>\n",
       "      <td>123.759293</td>\n",
       "      <td>0.599133</td>\n",
       "    </tr>\n",
       "    <tr>\n",
       "      <th>st</th>\n",
       "      <td>3.0</td>\n",
       "      <td>135.367767</td>\n",
       "      <td>9.887917</td>\n",
       "    </tr>\n",
       "  </tbody>\n",
       "</table>\n",
       "</div>"
      ],
      "text/plain": [
       "                 seed       nelbo  nelbo_diff\n",
       "type     method                              \n",
       "gaussian exact    3.0  118.394539    0.062021\n",
       "         mc       3.0  118.430450    0.142867\n",
       "poisson  exact    3.0  123.472893    0.216889\n",
       "         mc       3.0  123.759293    0.599133\n",
       "         st       3.0  135.367767    9.887917"
      ]
     },
     "execution_count": 6,
     "metadata": {},
     "output_type": "execute_result"
    }
   ],
   "source": [
    "df.groupby(['type', 'method']).mean(numeric_only=True)"
   ]
  },
  {
   "cell_type": "code",
   "execution_count": null,
   "id": "49953b37-1cf4-4779-a73c-6c5934109979",
   "metadata": {},
   "outputs": [],
   "source": []
  },
  {
   "cell_type": "code",
   "execution_count": 7,
   "id": "861566a4-5148-4ff0-8728-e9d81e6f68fa",
   "metadata": {},
   "outputs": [],
   "source": [
    "group_cols = ['type', 'dataset', 'enc_type', 'method']\n",
    "df_agg, df_ttest = ttest('nelbo', df, group_cols, test_conds=[('exact', 'mc')])"
   ]
  },
  {
   "cell_type": "code",
   "execution_count": 8,
   "id": "8cda6435-d8ff-4d50-9214-48aced7ca008",
   "metadata": {},
   "outputs": [
    {
     "data": {
      "text/html": [
       "<div>\n",
       "<style scoped>\n",
       "    .dataframe tbody tr th:only-of-type {\n",
       "        vertical-align: middle;\n",
       "    }\n",
       "\n",
       "    .dataframe tbody tr th {\n",
       "        vertical-align: top;\n",
       "    }\n",
       "\n",
       "    .dataframe thead th {\n",
       "        text-align: right;\n",
       "    }\n",
       "</style>\n",
       "<table border=\"1\" class=\"dataframe\">\n",
       "  <thead>\n",
       "    <tr style=\"text-align: right;\">\n",
       "      <th></th>\n",
       "      <th>type</th>\n",
       "      <th>dataset</th>\n",
       "      <th>enc_type</th>\n",
       "      <th>cond1</th>\n",
       "      <th>cond2</th>\n",
       "      <th>t</th>\n",
       "      <th>pvals</th>\n",
       "      <th>pvals_fdr_bh</th>\n",
       "      <th>reject</th>\n",
       "    </tr>\n",
       "  </thead>\n",
       "  <tbody>\n",
       "    <tr>\n",
       "      <th>0</th>\n",
       "      <td>gaussian</td>\n",
       "      <td>CIFAR10-PATCHES</td>\n",
       "      <td>conv</td>\n",
       "      <td>exact</td>\n",
       "      <td>mc</td>\n",
       "      <td>-1.736704</td>\n",
       "      <td>0.157443</td>\n",
       "      <td>0.171757</td>\n",
       "      <td>False</td>\n",
       "    </tr>\n",
       "    <tr>\n",
       "      <th>1</th>\n",
       "      <td>gaussian</td>\n",
       "      <td>CIFAR10-PATCHES</td>\n",
       "      <td>lin</td>\n",
       "      <td>exact</td>\n",
       "      <td>mc</td>\n",
       "      <td>-0.425670</td>\n",
       "      <td>0.692252</td>\n",
       "      <td>0.692252</td>\n",
       "      <td>False</td>\n",
       "    </tr>\n",
       "    <tr>\n",
       "      <th>2</th>\n",
       "      <td>gaussian</td>\n",
       "      <td>DOVES</td>\n",
       "      <td>conv</td>\n",
       "      <td>exact</td>\n",
       "      <td>mc</td>\n",
       "      <td>-2.090717</td>\n",
       "      <td>0.104746</td>\n",
       "      <td>0.139661</td>\n",
       "      <td>False</td>\n",
       "    </tr>\n",
       "    <tr>\n",
       "      <th>3</th>\n",
       "      <td>gaussian</td>\n",
       "      <td>DOVES</td>\n",
       "      <td>lin</td>\n",
       "      <td>exact</td>\n",
       "      <td>mc</td>\n",
       "      <td>1.843652</td>\n",
       "      <td>0.139009</td>\n",
       "      <td>0.166810</td>\n",
       "      <td>False</td>\n",
       "    </tr>\n",
       "    <tr>\n",
       "      <th>4</th>\n",
       "      <td>gaussian</td>\n",
       "      <td>MNIST</td>\n",
       "      <td>conv</td>\n",
       "      <td>exact</td>\n",
       "      <td>mc</td>\n",
       "      <td>-7.369763</td>\n",
       "      <td>0.001806</td>\n",
       "      <td>0.003698</td>\n",
       "      <td>True</td>\n",
       "    </tr>\n",
       "    <tr>\n",
       "      <th>5</th>\n",
       "      <td>gaussian</td>\n",
       "      <td>MNIST</td>\n",
       "      <td>lin</td>\n",
       "      <td>exact</td>\n",
       "      <td>mc</td>\n",
       "      <td>-9.279763</td>\n",
       "      <td>0.000750</td>\n",
       "      <td>0.003000</td>\n",
       "      <td>True</td>\n",
       "    </tr>\n",
       "    <tr>\n",
       "      <th>6</th>\n",
       "      <td>poisson</td>\n",
       "      <td>CIFAR10-PATCHES</td>\n",
       "      <td>conv</td>\n",
       "      <td>exact</td>\n",
       "      <td>mc</td>\n",
       "      <td>-14.507506</td>\n",
       "      <td>0.000131</td>\n",
       "      <td>0.000788</td>\n",
       "      <td>True</td>\n",
       "    </tr>\n",
       "    <tr>\n",
       "      <th>7</th>\n",
       "      <td>poisson</td>\n",
       "      <td>CIFAR10-PATCHES</td>\n",
       "      <td>lin</td>\n",
       "      <td>exact</td>\n",
       "      <td>mc</td>\n",
       "      <td>-6.218841</td>\n",
       "      <td>0.003404</td>\n",
       "      <td>0.005835</td>\n",
       "      <td>True</td>\n",
       "    </tr>\n",
       "    <tr>\n",
       "      <th>8</th>\n",
       "      <td>poisson</td>\n",
       "      <td>DOVES</td>\n",
       "      <td>conv</td>\n",
       "      <td>exact</td>\n",
       "      <td>mc</td>\n",
       "      <td>-17.087880</td>\n",
       "      <td>0.000069</td>\n",
       "      <td>0.000788</td>\n",
       "      <td>True</td>\n",
       "    </tr>\n",
       "    <tr>\n",
       "      <th>9</th>\n",
       "      <td>poisson</td>\n",
       "      <td>DOVES</td>\n",
       "      <td>lin</td>\n",
       "      <td>exact</td>\n",
       "      <td>mc</td>\n",
       "      <td>4.337745</td>\n",
       "      <td>0.012275</td>\n",
       "      <td>0.018412</td>\n",
       "      <td>False</td>\n",
       "    </tr>\n",
       "    <tr>\n",
       "      <th>10</th>\n",
       "      <td>poisson</td>\n",
       "      <td>MNIST</td>\n",
       "      <td>conv</td>\n",
       "      <td>exact</td>\n",
       "      <td>mc</td>\n",
       "      <td>-7.387991</td>\n",
       "      <td>0.001790</td>\n",
       "      <td>0.003698</td>\n",
       "      <td>True</td>\n",
       "    </tr>\n",
       "    <tr>\n",
       "      <th>11</th>\n",
       "      <td>poisson</td>\n",
       "      <td>MNIST</td>\n",
       "      <td>lin</td>\n",
       "      <td>exact</td>\n",
       "      <td>mc</td>\n",
       "      <td>-7.324384</td>\n",
       "      <td>0.001849</td>\n",
       "      <td>0.003698</td>\n",
       "      <td>True</td>\n",
       "    </tr>\n",
       "  </tbody>\n",
       "</table>\n",
       "</div>"
      ],
      "text/plain": [
       "        type          dataset enc_type  cond1 cond2          t     pvals  \\\n",
       "0   gaussian  CIFAR10-PATCHES     conv  exact    mc  -1.736704  0.157443   \n",
       "1   gaussian  CIFAR10-PATCHES      lin  exact    mc  -0.425670  0.692252   \n",
       "2   gaussian            DOVES     conv  exact    mc  -2.090717  0.104746   \n",
       "3   gaussian            DOVES      lin  exact    mc   1.843652  0.139009   \n",
       "4   gaussian            MNIST     conv  exact    mc  -7.369763  0.001806   \n",
       "5   gaussian            MNIST      lin  exact    mc  -9.279763  0.000750   \n",
       "6    poisson  CIFAR10-PATCHES     conv  exact    mc -14.507506  0.000131   \n",
       "7    poisson  CIFAR10-PATCHES      lin  exact    mc  -6.218841  0.003404   \n",
       "8    poisson            DOVES     conv  exact    mc -17.087880  0.000069   \n",
       "9    poisson            DOVES      lin  exact    mc   4.337745  0.012275   \n",
       "10   poisson            MNIST     conv  exact    mc  -7.387991  0.001790   \n",
       "11   poisson            MNIST      lin  exact    mc  -7.324384  0.001849   \n",
       "\n",
       "    pvals_fdr_bh  reject  \n",
       "0       0.171757   False  \n",
       "1       0.692252   False  \n",
       "2       0.139661   False  \n",
       "3       0.166810   False  \n",
       "4       0.003698    True  \n",
       "5       0.003000    True  \n",
       "6       0.000788    True  \n",
       "7       0.005835    True  \n",
       "8       0.000788    True  \n",
       "9       0.018412   False  \n",
       "10      0.003698    True  \n",
       "11      0.003698    True  "
      ]
     },
     "execution_count": 8,
     "metadata": {},
     "output_type": "execute_result"
    }
   ],
   "source": [
    "df_ttest"
   ]
  },
  {
   "cell_type": "code",
   "execution_count": null,
   "id": "c5459239-465a-4a2a-ba30-df94a94b12de",
   "metadata": {},
   "outputs": [],
   "source": []
  },
  {
   "cell_type": "code",
   "execution_count": 9,
   "id": "a85f6798-0472-453e-ac1e-63c8af2c2a3b",
   "metadata": {},
   "outputs": [
    {
     "data": {
      "text/html": [
       "<pre style=\"white-space:pre;overflow-x:auto;line-height:normal;font-family:Menlo,'DejaVu Sans Mono',consolas,'Courier New',monospace\">——— model: poisson ———\n",
       "\n",
       "</pre>\n"
      ],
      "text/plain": [
       "——— model: poisson ———\n",
       "\n"
      ]
     },
     "metadata": {},
     "output_type": "display_data"
    },
    {
     "data": {
      "text/html": [
       "<pre style=\"white-space:pre;overflow-x:auto;line-height:normal;font-family:Menlo,'DejaVu Sans Mono',consolas,'Courier New',monospace\">\\begin<span style=\"font-weight: bold\">{</span>tabularx<span style=\"font-weight: bold\">}{</span>34mm<span style=\"font-weight: bold\">}{</span>CC<span style=\"font-weight: bold\">}</span>\n",
       "    \\entry<span style=\"font-weight: bold\">{</span><span style=\"color: #008080; text-decoration-color: #008080; font-weight: bold\">168.0</span><span style=\"font-weight: bold\">}{</span>.<span style=\"color: #008080; text-decoration-color: #008080; font-weight: bold\">8</span><span style=\"font-weight: bold\">}</span> &amp; \\entry<span style=\"font-weight: bold\">{</span><span style=\"color: #008080; text-decoration-color: #008080; font-weight: bold\">162.4</span><span style=\"font-weight: bold\">}{</span>.<span style=\"color: #008080; text-decoration-color: #008080; font-weight: bold\">2</span><span style=\"font-weight: bold\">}</span> \\\\ \n",
       "    \\entry<span style=\"font-weight: bold\">{</span><span style=\"color: #008080; text-decoration-color: #008080; font-weight: bold\">167.2</span><span style=\"font-weight: bold\">}{</span>.<span style=\"color: #008080; text-decoration-color: #008080; font-weight: bold\">1</span><span style=\"font-weight: bold\">}</span> &amp; \\entry<span style=\"font-weight: bold\">{</span><span style=\"color: #008080; text-decoration-color: #008080; font-weight: bold\">163.4</span><span style=\"font-weight: bold\">}{</span>.<span style=\"color: #008080; text-decoration-color: #008080; font-weight: bold\">1</span><span style=\"font-weight: bold\">}</span> \\\\ \n",
       "    \\entry<span style=\"font-weight: bold\">{</span><span style=\"color: #008080; text-decoration-color: #008080; font-weight: bold\">179.3</span><span style=\"font-weight: bold\">}{</span>.<span style=\"color: #008080; text-decoration-color: #008080; font-weight: bold\">1</span><span style=\"font-weight: bold\">}</span> &amp; \\entry<span style=\"font-weight: bold\">{</span><span style=\"color: #008080; text-decoration-color: #008080; font-weight: bold\">179.4</span><span style=\"font-weight: bold\">}{</span>.<span style=\"color: #008080; text-decoration-color: #008080; font-weight: bold\">1</span><span style=\"font-weight: bold\">}</span>\n",
       "\\end<span style=\"font-weight: bold\">{</span>tabularx<span style=\"font-weight: bold\">}</span>\n",
       "&amp;\n",
       "\\begin<span style=\"font-weight: bold\">{</span>tabularx<span style=\"font-weight: bold\">}{</span>34mm<span style=\"font-weight: bold\">}{</span>CC<span style=\"font-weight: bold\">}</span>\n",
       "    \\entry<span style=\"font-weight: bold\">{</span><span style=\"color: #008080; text-decoration-color: #008080; font-weight: bold\">167.1</span><span style=\"font-weight: bold\">}{</span>.<span style=\"color: #008080; text-decoration-color: #008080; font-weight: bold\">2</span><span style=\"font-weight: bold\">}</span> &amp; \\entry<span style=\"font-weight: bold\">{</span><span style=\"color: #008080; text-decoration-color: #008080; font-weight: bold\">162.1</span><span style=\"font-weight: bold\">}{</span>.<span style=\"color: #008080; text-decoration-color: #008080; font-weight: bold\">1</span><span style=\"font-weight: bold\">}</span> \\\\ \n",
       "    \\entry<span style=\"font-weight: bold\">{</span><span style=\"color: #008080; text-decoration-color: #008080; font-weight: bold\">167.3</span><span style=\"font-weight: bold\">}{</span>.<span style=\"color: #008080; text-decoration-color: #008080; font-weight: bold\">1</span><span style=\"font-weight: bold\">}</span> &amp; \\entry<span style=\"font-weight: bold\">{</span><span style=\"color: #008080; text-decoration-color: #008080; font-weight: bold\">162.9</span><span style=\"font-weight: bold\">}{</span>.<span style=\"color: #008080; text-decoration-color: #008080; font-weight: bold\">2</span><span style=\"font-weight: bold\">}</span> \\\\ \n",
       "    \\entry<span style=\"font-weight: bold\">{</span><span style=\"color: #008080; text-decoration-color: #008080; font-weight: bold\">182.3</span><span style=\"font-weight: bold\">}{</span>.<span style=\"color: #008080; text-decoration-color: #008080; font-weight: bold\">1</span><span style=\"font-weight: bold\">}</span> &amp; \\entry<span style=\"font-weight: bold\">{</span><span style=\"color: #008080; text-decoration-color: #008080; font-weight: bold\">182.3</span><span style=\"font-weight: bold\">}{</span>.<span style=\"color: #008080; text-decoration-color: #008080; font-weight: bold\">2</span><span style=\"font-weight: bold\">}</span>\n",
       "\\end<span style=\"font-weight: bold\">{</span>tabularx<span style=\"font-weight: bold\">}</span>\n",
       "&amp;\n",
       "\\begin<span style=\"font-weight: bold\">{</span>tabularx<span style=\"font-weight: bold\">}{</span>34mm<span style=\"font-weight: bold\">}{</span>CC<span style=\"font-weight: bold\">}</span>\n",
       "    \\entry<span style=\"font-weight: bold\">{</span><span style=\"color: #008080; text-decoration-color: #008080; font-weight: bold\">41.5</span><span style=\"font-weight: bold\">}{</span>.<span style=\"color: #008080; text-decoration-color: #008080; font-weight: bold\">1</span><span style=\"font-weight: bold\">}</span> &amp; \\entry<span style=\"font-weight: bold\">{</span><span style=\"color: #008080; text-decoration-color: #008080; font-weight: bold\">39.7</span><span style=\"font-weight: bold\">}{</span>.<span style=\"color: #008080; text-decoration-color: #008080; font-weight: bold\">2</span><span style=\"font-weight: bold\">}</span> \\\\ \n",
       "    \\entry<span style=\"font-weight: bold\">{</span><span style=\"color: #008080; text-decoration-color: #008080; font-weight: bold\">41.7</span><span style=\"font-weight: bold\">}{</span>.<span style=\"color: #008080; text-decoration-color: #008080; font-weight: bold\">2</span><span style=\"font-weight: bold\">}</span> &amp; \\entry<span style=\"font-weight: bold\">{</span><span style=\"color: #008080; text-decoration-color: #008080; font-weight: bold\">40.1</span><span style=\"font-weight: bold\">}{</span>.<span style=\"color: #008080; text-decoration-color: #008080; font-weight: bold\">2</span><span style=\"font-weight: bold\">}</span> \\\\ \n",
       "    \\entry<span style=\"font-weight: bold\">{</span><span style=\"color: #008080; text-decoration-color: #008080; font-weight: bold\">44.8</span><span style=\"font-weight: bold\">}{</span>.<span style=\"color: #008080; text-decoration-color: #008080; font-weight: bold\">1</span><span style=\"font-weight: bold\">}</span> &amp; \\entry<span style=\"font-weight: bold\">{</span><span style=\"color: #008080; text-decoration-color: #008080; font-weight: bold\">44.2</span><span style=\"font-weight: bold\">}{</span>.<span style=\"color: #008080; text-decoration-color: #008080; font-weight: bold\">1</span><span style=\"font-weight: bold\">}</span>\n",
       "\\end<span style=\"font-weight: bold\">{</span>tabularx<span style=\"font-weight: bold\">}</span>\n",
       "</pre>\n"
      ],
      "text/plain": [
       "\\begin\u001b[1m{\u001b[0mtabularx\u001b[1m}\u001b[0m\u001b[1m{\u001b[0m34mm\u001b[1m}\u001b[0m\u001b[1m{\u001b[0mCC\u001b[1m}\u001b[0m\n",
       "    \\entry\u001b[1m{\u001b[0m\u001b[1;36m168.0\u001b[0m\u001b[1m}\u001b[0m\u001b[1m{\u001b[0m.\u001b[1;36m8\u001b[0m\u001b[1m}\u001b[0m & \\entry\u001b[1m{\u001b[0m\u001b[1;36m162.4\u001b[0m\u001b[1m}\u001b[0m\u001b[1m{\u001b[0m.\u001b[1;36m2\u001b[0m\u001b[1m}\u001b[0m \\\\ \n",
       "    \\entry\u001b[1m{\u001b[0m\u001b[1;36m167.2\u001b[0m\u001b[1m}\u001b[0m\u001b[1m{\u001b[0m.\u001b[1;36m1\u001b[0m\u001b[1m}\u001b[0m & \\entry\u001b[1m{\u001b[0m\u001b[1;36m163.4\u001b[0m\u001b[1m}\u001b[0m\u001b[1m{\u001b[0m.\u001b[1;36m1\u001b[0m\u001b[1m}\u001b[0m \\\\ \n",
       "    \\entry\u001b[1m{\u001b[0m\u001b[1;36m179.3\u001b[0m\u001b[1m}\u001b[0m\u001b[1m{\u001b[0m.\u001b[1;36m1\u001b[0m\u001b[1m}\u001b[0m & \\entry\u001b[1m{\u001b[0m\u001b[1;36m179.4\u001b[0m\u001b[1m}\u001b[0m\u001b[1m{\u001b[0m.\u001b[1;36m1\u001b[0m\u001b[1m}\u001b[0m\n",
       "\\end\u001b[1m{\u001b[0mtabularx\u001b[1m}\u001b[0m\n",
       "&\n",
       "\\begin\u001b[1m{\u001b[0mtabularx\u001b[1m}\u001b[0m\u001b[1m{\u001b[0m34mm\u001b[1m}\u001b[0m\u001b[1m{\u001b[0mCC\u001b[1m}\u001b[0m\n",
       "    \\entry\u001b[1m{\u001b[0m\u001b[1;36m167.1\u001b[0m\u001b[1m}\u001b[0m\u001b[1m{\u001b[0m.\u001b[1;36m2\u001b[0m\u001b[1m}\u001b[0m & \\entry\u001b[1m{\u001b[0m\u001b[1;36m162.1\u001b[0m\u001b[1m}\u001b[0m\u001b[1m{\u001b[0m.\u001b[1;36m1\u001b[0m\u001b[1m}\u001b[0m \\\\ \n",
       "    \\entry\u001b[1m{\u001b[0m\u001b[1;36m167.3\u001b[0m\u001b[1m}\u001b[0m\u001b[1m{\u001b[0m.\u001b[1;36m1\u001b[0m\u001b[1m}\u001b[0m & \\entry\u001b[1m{\u001b[0m\u001b[1;36m162.9\u001b[0m\u001b[1m}\u001b[0m\u001b[1m{\u001b[0m.\u001b[1;36m2\u001b[0m\u001b[1m}\u001b[0m \\\\ \n",
       "    \\entry\u001b[1m{\u001b[0m\u001b[1;36m182.3\u001b[0m\u001b[1m}\u001b[0m\u001b[1m{\u001b[0m.\u001b[1;36m1\u001b[0m\u001b[1m}\u001b[0m & \\entry\u001b[1m{\u001b[0m\u001b[1;36m182.3\u001b[0m\u001b[1m}\u001b[0m\u001b[1m{\u001b[0m.\u001b[1;36m2\u001b[0m\u001b[1m}\u001b[0m\n",
       "\\end\u001b[1m{\u001b[0mtabularx\u001b[1m}\u001b[0m\n",
       "&\n",
       "\\begin\u001b[1m{\u001b[0mtabularx\u001b[1m}\u001b[0m\u001b[1m{\u001b[0m34mm\u001b[1m}\u001b[0m\u001b[1m{\u001b[0mCC\u001b[1m}\u001b[0m\n",
       "    \\entry\u001b[1m{\u001b[0m\u001b[1;36m41.5\u001b[0m\u001b[1m}\u001b[0m\u001b[1m{\u001b[0m.\u001b[1;36m1\u001b[0m\u001b[1m}\u001b[0m & \\entry\u001b[1m{\u001b[0m\u001b[1;36m39.7\u001b[0m\u001b[1m}\u001b[0m\u001b[1m{\u001b[0m.\u001b[1;36m2\u001b[0m\u001b[1m}\u001b[0m \\\\ \n",
       "    \\entry\u001b[1m{\u001b[0m\u001b[1;36m41.7\u001b[0m\u001b[1m}\u001b[0m\u001b[1m{\u001b[0m.\u001b[1;36m2\u001b[0m\u001b[1m}\u001b[0m & \\entry\u001b[1m{\u001b[0m\u001b[1;36m40.1\u001b[0m\u001b[1m}\u001b[0m\u001b[1m{\u001b[0m.\u001b[1;36m2\u001b[0m\u001b[1m}\u001b[0m \\\\ \n",
       "    \\entry\u001b[1m{\u001b[0m\u001b[1;36m44.8\u001b[0m\u001b[1m}\u001b[0m\u001b[1m{\u001b[0m.\u001b[1;36m1\u001b[0m\u001b[1m}\u001b[0m & \\entry\u001b[1m{\u001b[0m\u001b[1;36m44.2\u001b[0m\u001b[1m}\u001b[0m\u001b[1m{\u001b[0m.\u001b[1;36m1\u001b[0m\u001b[1m}\u001b[0m\n",
       "\\end\u001b[1m{\u001b[0mtabularx\u001b[1m}\u001b[0m\n"
      ]
     },
     "metadata": {},
     "output_type": "display_data"
    },
    {
     "data": {
      "text/html": [
       "<pre style=\"white-space:pre;overflow-x:auto;line-height:normal;font-family:Menlo,'DejaVu Sans Mono',consolas,'Courier New',monospace\">\n",
       "\n",
       "\n",
       "\n",
       "</pre>\n"
      ],
      "text/plain": [
       "\n",
       "\n",
       "\n",
       "\n"
      ]
     },
     "metadata": {},
     "output_type": "display_data"
    },
    {
     "data": {
      "text/html": [
       "<pre style=\"white-space:pre;overflow-x:auto;line-height:normal;font-family:Menlo,'DejaVu Sans Mono',consolas,'Courier New',monospace\">——— model: gaussian ———\n",
       "\n",
       "</pre>\n"
      ],
      "text/plain": [
       "——— model: gaussian ———\n",
       "\n"
      ]
     },
     "metadata": {},
     "output_type": "display_data"
    },
    {
     "data": {
      "text/html": [
       "<pre style=\"white-space:pre;overflow-x:auto;line-height:normal;font-family:Menlo,'DejaVu Sans Mono',consolas,'Courier New',monospace\">\\begin<span style=\"font-weight: bold\">{</span>tabularx<span style=\"font-weight: bold\">}{</span>34mm<span style=\"font-weight: bold\">}{</span>CC<span style=\"font-weight: bold\">}</span>\n",
       "    \\entry<span style=\"font-weight: bold\">{</span><span style=\"color: #008080; text-decoration-color: #008080; font-weight: bold\">160.3</span><span style=\"font-weight: bold\">}{</span>.<span style=\"color: #008080; text-decoration-color: #008080; font-weight: bold\">1</span><span style=\"font-weight: bold\">}</span> &amp; \\entry<span style=\"font-weight: bold\">{</span><span style=\"color: #008080; text-decoration-color: #008080; font-weight: bold\">154.4</span><span style=\"font-weight: bold\">}{</span>.<span style=\"color: #008080; text-decoration-color: #008080; font-weight: bold\">1</span><span style=\"font-weight: bold\">}</span> \\\\ \n",
       "    \\entry<span style=\"font-weight: bold\">{</span><span style=\"color: #008080; text-decoration-color: #008080; font-weight: bold\">160.3</span><span style=\"font-weight: bold\">}{</span>.<span style=\"color: #008080; text-decoration-color: #008080; font-weight: bold\">1</span><span style=\"font-weight: bold\">}</span> &amp; \\entry<span style=\"font-weight: bold\">{</span><span style=\"color: #008080; text-decoration-color: #008080; font-weight: bold\">154.4</span><span style=\"font-weight: bold\">}{</span>.<span style=\"color: #008080; text-decoration-color: #008080; font-weight: bold\">1</span><span style=\"font-weight: bold\">}</span>\n",
       "\\end<span style=\"font-weight: bold\">{</span>tabularx<span style=\"font-weight: bold\">}</span>\n",
       "&amp;\n",
       "\\begin<span style=\"font-weight: bold\">{</span>tabularx<span style=\"font-weight: bold\">}{</span>34mm<span style=\"font-weight: bold\">}{</span>CC<span style=\"font-weight: bold\">}</span>\n",
       "    \\entry<span style=\"font-weight: bold\">{</span><span style=\"color: #008080; text-decoration-color: #008080; font-weight: bold\">165.9</span><span style=\"font-weight: bold\">}{</span>.<span style=\"color: #008080; text-decoration-color: #008080; font-weight: bold\">1</span><span style=\"font-weight: bold\">}</span> &amp; \\entry<span style=\"font-weight: bold\">{</span><span style=\"color: #008080; text-decoration-color: #008080; font-weight: bold\">149.2</span><span style=\"font-weight: bold\">}{</span>.<span style=\"color: #008080; text-decoration-color: #008080; font-weight: bold\">0</span><span style=\"font-weight: bold\">}</span> \\\\ \n",
       "    \\entry<span style=\"font-weight: bold\">{</span><span style=\"color: #008080; text-decoration-color: #008080; font-weight: bold\">165.9</span><span style=\"font-weight: bold\">}{</span>.<span style=\"color: #008080; text-decoration-color: #008080; font-weight: bold\">1</span><span style=\"font-weight: bold\">}</span> &amp; \\entry<span style=\"font-weight: bold\">{</span><span style=\"color: #008080; text-decoration-color: #008080; font-weight: bold\">149.2</span><span style=\"font-weight: bold\">}{</span>.<span style=\"color: #008080; text-decoration-color: #008080; font-weight: bold\">1</span><span style=\"font-weight: bold\">}</span>\n",
       "\\end<span style=\"font-weight: bold\">{</span>tabularx<span style=\"font-weight: bold\">}</span>\n",
       "&amp;\n",
       "\\begin<span style=\"font-weight: bold\">{</span>tabularx<span style=\"font-weight: bold\">}{</span>34mm<span style=\"font-weight: bold\">}{</span>CC<span style=\"font-weight: bold\">}</span>\n",
       "    \\entry<span style=\"font-weight: bold\">{</span><span style=\"color: #008080; text-decoration-color: #008080; font-weight: bold\">40.6</span><span style=\"font-weight: bold\">}{</span>.<span style=\"color: #008080; text-decoration-color: #008080; font-weight: bold\">1</span><span style=\"font-weight: bold\">}</span> &amp; \\entry<span style=\"font-weight: bold\">{</span><span style=\"color: #008080; text-decoration-color: #008080; font-weight: bold\">40.0</span><span style=\"font-weight: bold\">}{</span>.<span style=\"color: #008080; text-decoration-color: #008080; font-weight: bold\">1</span><span style=\"font-weight: bold\">}</span> \\\\ \n",
       "    \\entry<span style=\"font-weight: bold\">{</span><span style=\"color: #008080; text-decoration-color: #008080; font-weight: bold\">40.7</span><span style=\"font-weight: bold\">}{</span>.<span style=\"color: #008080; text-decoration-color: #008080; font-weight: bold\">1</span><span style=\"font-weight: bold\">}</span> &amp; \\entry<span style=\"font-weight: bold\">{</span><span style=\"color: #008080; text-decoration-color: #008080; font-weight: bold\">40.1</span><span style=\"font-weight: bold\">}{</span>.<span style=\"color: #008080; text-decoration-color: #008080; font-weight: bold\">0</span><span style=\"font-weight: bold\">}</span>\n",
       "\\end<span style=\"font-weight: bold\">{</span>tabularx<span style=\"font-weight: bold\">}</span>\n",
       "</pre>\n"
      ],
      "text/plain": [
       "\\begin\u001b[1m{\u001b[0mtabularx\u001b[1m}\u001b[0m\u001b[1m{\u001b[0m34mm\u001b[1m}\u001b[0m\u001b[1m{\u001b[0mCC\u001b[1m}\u001b[0m\n",
       "    \\entry\u001b[1m{\u001b[0m\u001b[1;36m160.3\u001b[0m\u001b[1m}\u001b[0m\u001b[1m{\u001b[0m.\u001b[1;36m1\u001b[0m\u001b[1m}\u001b[0m & \\entry\u001b[1m{\u001b[0m\u001b[1;36m154.4\u001b[0m\u001b[1m}\u001b[0m\u001b[1m{\u001b[0m.\u001b[1;36m1\u001b[0m\u001b[1m}\u001b[0m \\\\ \n",
       "    \\entry\u001b[1m{\u001b[0m\u001b[1;36m160.3\u001b[0m\u001b[1m}\u001b[0m\u001b[1m{\u001b[0m.\u001b[1;36m1\u001b[0m\u001b[1m}\u001b[0m & \\entry\u001b[1m{\u001b[0m\u001b[1;36m154.4\u001b[0m\u001b[1m}\u001b[0m\u001b[1m{\u001b[0m.\u001b[1;36m1\u001b[0m\u001b[1m}\u001b[0m\n",
       "\\end\u001b[1m{\u001b[0mtabularx\u001b[1m}\u001b[0m\n",
       "&\n",
       "\\begin\u001b[1m{\u001b[0mtabularx\u001b[1m}\u001b[0m\u001b[1m{\u001b[0m34mm\u001b[1m}\u001b[0m\u001b[1m{\u001b[0mCC\u001b[1m}\u001b[0m\n",
       "    \\entry\u001b[1m{\u001b[0m\u001b[1;36m165.9\u001b[0m\u001b[1m}\u001b[0m\u001b[1m{\u001b[0m.\u001b[1;36m1\u001b[0m\u001b[1m}\u001b[0m & \\entry\u001b[1m{\u001b[0m\u001b[1;36m149.2\u001b[0m\u001b[1m}\u001b[0m\u001b[1m{\u001b[0m.\u001b[1;36m0\u001b[0m\u001b[1m}\u001b[0m \\\\ \n",
       "    \\entry\u001b[1m{\u001b[0m\u001b[1;36m165.9\u001b[0m\u001b[1m}\u001b[0m\u001b[1m{\u001b[0m.\u001b[1;36m1\u001b[0m\u001b[1m}\u001b[0m & \\entry\u001b[1m{\u001b[0m\u001b[1;36m149.2\u001b[0m\u001b[1m}\u001b[0m\u001b[1m{\u001b[0m.\u001b[1;36m1\u001b[0m\u001b[1m}\u001b[0m\n",
       "\\end\u001b[1m{\u001b[0mtabularx\u001b[1m}\u001b[0m\n",
       "&\n",
       "\\begin\u001b[1m{\u001b[0mtabularx\u001b[1m}\u001b[0m\u001b[1m{\u001b[0m34mm\u001b[1m}\u001b[0m\u001b[1m{\u001b[0mCC\u001b[1m}\u001b[0m\n",
       "    \\entry\u001b[1m{\u001b[0m\u001b[1;36m40.6\u001b[0m\u001b[1m}\u001b[0m\u001b[1m{\u001b[0m.\u001b[1;36m1\u001b[0m\u001b[1m}\u001b[0m & \\entry\u001b[1m{\u001b[0m\u001b[1;36m40.0\u001b[0m\u001b[1m}\u001b[0m\u001b[1m{\u001b[0m.\u001b[1;36m1\u001b[0m\u001b[1m}\u001b[0m \\\\ \n",
       "    \\entry\u001b[1m{\u001b[0m\u001b[1;36m40.7\u001b[0m\u001b[1m}\u001b[0m\u001b[1m{\u001b[0m.\u001b[1;36m1\u001b[0m\u001b[1m}\u001b[0m & \\entry\u001b[1m{\u001b[0m\u001b[1;36m40.1\u001b[0m\u001b[1m}\u001b[0m\u001b[1m{\u001b[0m.\u001b[1;36m0\u001b[0m\u001b[1m}\u001b[0m\n",
       "\\end\u001b[1m{\u001b[0mtabularx\u001b[1m}\u001b[0m\n"
      ]
     },
     "metadata": {},
     "output_type": "display_data"
    },
    {
     "data": {
      "text/html": [
       "<pre style=\"white-space:pre;overflow-x:auto;line-height:normal;font-family:Menlo,'DejaVu Sans Mono',consolas,'Courier New',monospace\">\n",
       "\n",
       "\n",
       "\n",
       "</pre>\n"
      ],
      "text/plain": [
       "\n",
       "\n",
       "\n",
       "\n"
      ]
     },
     "metadata": {},
     "output_type": "display_data"
    },
    {
     "data": {
      "text/html": [
       "<pre style=\"white-space:pre;overflow-x:auto;line-height:normal;font-family:Menlo,'DejaVu Sans Mono',consolas,'Courier New',monospace\">——— model: categorical ———\n",
       "\n",
       "</pre>\n"
      ],
      "text/plain": [
       "——— model: categorical ———\n",
       "\n"
      ]
     },
     "metadata": {},
     "output_type": "display_data"
    },
    {
     "data": {
      "text/html": [
       "<pre style=\"white-space:pre;overflow-x:auto;line-height:normal;font-family:Menlo,'DejaVu Sans Mono',consolas,'Courier New',monospace\">\\begin<span style=\"font-weight: bold\">{</span>tabularx<span style=\"font-weight: bold\">}{</span>34mm<span style=\"font-weight: bold\">}{</span>CC<span style=\"font-weight: bold\">}</span>\n",
       "\n",
       "\\end<span style=\"font-weight: bold\">{</span>tabularx<span style=\"font-weight: bold\">}</span>\n",
       "&amp;\n",
       "\\begin<span style=\"font-weight: bold\">{</span>tabularx<span style=\"font-weight: bold\">}{</span>34mm<span style=\"font-weight: bold\">}{</span>CC<span style=\"font-weight: bold\">}</span>\n",
       "\n",
       "\\end<span style=\"font-weight: bold\">{</span>tabularx<span style=\"font-weight: bold\">}</span>\n",
       "&amp;\n",
       "\\begin<span style=\"font-weight: bold\">{</span>tabularx<span style=\"font-weight: bold\">}{</span>34mm<span style=\"font-weight: bold\">}{</span>CC<span style=\"font-weight: bold\">}</span>\n",
       "\n",
       "\\end<span style=\"font-weight: bold\">{</span>tabularx<span style=\"font-weight: bold\">}</span>\n",
       "</pre>\n"
      ],
      "text/plain": [
       "\\begin\u001b[1m{\u001b[0mtabularx\u001b[1m}\u001b[0m\u001b[1m{\u001b[0m34mm\u001b[1m}\u001b[0m\u001b[1m{\u001b[0mCC\u001b[1m}\u001b[0m\n",
       "\n",
       "\\end\u001b[1m{\u001b[0mtabularx\u001b[1m}\u001b[0m\n",
       "&\n",
       "\\begin\u001b[1m{\u001b[0mtabularx\u001b[1m}\u001b[0m\u001b[1m{\u001b[0m34mm\u001b[1m}\u001b[0m\u001b[1m{\u001b[0mCC\u001b[1m}\u001b[0m\n",
       "\n",
       "\\end\u001b[1m{\u001b[0mtabularx\u001b[1m}\u001b[0m\n",
       "&\n",
       "\\begin\u001b[1m{\u001b[0mtabularx\u001b[1m}\u001b[0m\u001b[1m{\u001b[0m34mm\u001b[1m}\u001b[0m\u001b[1m{\u001b[0mCC\u001b[1m}\u001b[0m\n",
       "\n",
       "\\end\u001b[1m{\u001b[0mtabularx\u001b[1m}\u001b[0m\n"
      ]
     },
     "metadata": {},
     "output_type": "display_data"
    },
    {
     "data": {
      "text/html": [
       "<pre style=\"white-space:pre;overflow-x:auto;line-height:normal;font-family:Menlo,'DejaVu Sans Mono',consolas,'Courier New',monospace\">\n",
       "\n",
       "\n",
       "\n",
       "</pre>\n"
      ],
      "text/plain": [
       "\n",
       "\n",
       "\n",
       "\n"
      ]
     },
     "metadata": {},
     "output_type": "display_data"
    },
    {
     "data": {
      "text/html": [
       "<pre style=\"white-space:pre;overflow-x:auto;line-height:normal;font-family:Menlo,'DejaVu Sans Mono',consolas,'Courier New',monospace\">——— model: laplace ———\n",
       "\n",
       "</pre>\n"
      ],
      "text/plain": [
       "——— model: laplace ———\n",
       "\n"
      ]
     },
     "metadata": {},
     "output_type": "display_data"
    },
    {
     "data": {
      "text/html": [
       "<pre style=\"white-space:pre;overflow-x:auto;line-height:normal;font-family:Menlo,'DejaVu Sans Mono',consolas,'Courier New',monospace\">\\begin<span style=\"font-weight: bold\">{</span>tabularx<span style=\"font-weight: bold\">}{</span>34mm<span style=\"font-weight: bold\">}{</span>CC<span style=\"font-weight: bold\">}</span>\n",
       "\n",
       "\\end<span style=\"font-weight: bold\">{</span>tabularx<span style=\"font-weight: bold\">}</span>\n",
       "&amp;\n",
       "\\begin<span style=\"font-weight: bold\">{</span>tabularx<span style=\"font-weight: bold\">}{</span>34mm<span style=\"font-weight: bold\">}{</span>CC<span style=\"font-weight: bold\">}</span>\n",
       "\n",
       "\\end<span style=\"font-weight: bold\">{</span>tabularx<span style=\"font-weight: bold\">}</span>\n",
       "&amp;\n",
       "\\begin<span style=\"font-weight: bold\">{</span>tabularx<span style=\"font-weight: bold\">}{</span>34mm<span style=\"font-weight: bold\">}{</span>CC<span style=\"font-weight: bold\">}</span>\n",
       "\n",
       "\\end<span style=\"font-weight: bold\">{</span>tabularx<span style=\"font-weight: bold\">}</span>\n",
       "</pre>\n"
      ],
      "text/plain": [
       "\\begin\u001b[1m{\u001b[0mtabularx\u001b[1m}\u001b[0m\u001b[1m{\u001b[0m34mm\u001b[1m}\u001b[0m\u001b[1m{\u001b[0mCC\u001b[1m}\u001b[0m\n",
       "\n",
       "\\end\u001b[1m{\u001b[0mtabularx\u001b[1m}\u001b[0m\n",
       "&\n",
       "\\begin\u001b[1m{\u001b[0mtabularx\u001b[1m}\u001b[0m\u001b[1m{\u001b[0m34mm\u001b[1m}\u001b[0m\u001b[1m{\u001b[0mCC\u001b[1m}\u001b[0m\n",
       "\n",
       "\\end\u001b[1m{\u001b[0mtabularx\u001b[1m}\u001b[0m\n",
       "&\n",
       "\\begin\u001b[1m{\u001b[0mtabularx\u001b[1m}\u001b[0m\u001b[1m{\u001b[0m34mm\u001b[1m}\u001b[0m\u001b[1m{\u001b[0mCC\u001b[1m}\u001b[0m\n",
       "\n",
       "\\end\u001b[1m{\u001b[0mtabularx\u001b[1m}\u001b[0m\n"
      ]
     },
     "metadata": {},
     "output_type": "display_data"
    },
    {
     "data": {
      "text/html": [
       "<pre style=\"white-space:pre;overflow-x:auto;line-height:normal;font-family:Menlo,'DejaVu Sans Mono',consolas,'Courier New',monospace\">\n",
       "\n",
       "\n",
       "\n",
       "</pre>\n"
      ],
      "text/plain": [
       "\n",
       "\n",
       "\n",
       "\n"
      ]
     },
     "metadata": {},
     "output_type": "display_data"
    }
   ],
   "source": [
    "for model in ['poisson', 'gaussian', 'categorical', 'laplace']:\n",
    "    table = table_entry_nelbo(model, df_agg)\n",
    "    print(f\"——— model: {model} ———\\n\")\n",
    "    print(table)\n",
    "    print('\\n\\n\\n')"
   ]
  },
  {
   "cell_type": "code",
   "execution_count": null,
   "id": "2eb291ff-4bb0-43d7-b705-d7c403d5a789",
   "metadata": {},
   "outputs": [],
   "source": []
  },
  {
   "cell_type": "code",
   "execution_count": null,
   "id": "dd888cb8-94f2-4bbe-9c0d-19445bb4cc4f",
   "metadata": {},
   "outputs": [],
   "source": []
  },
  {
   "cell_type": "code",
   "execution_count": null,
   "id": "a44e7279-0f20-41fe-80f9-2d4c873d3e9d",
   "metadata": {},
   "outputs": [],
   "source": []
  }
 ],
 "metadata": {
  "kernelspec": {
   "display_name": "Python 3 (ipykernel)",
   "language": "python",
   "name": "python3"
  },
  "language_info": {
   "codemirror_mode": {
    "name": "ipython",
    "version": 3
   },
   "file_extension": ".py",
   "mimetype": "text/x-python",
   "name": "python",
   "nbconvert_exporter": "python",
   "pygments_lexer": "ipython3",
   "version": "3.11.7"
  }
 },
 "nbformat": 4,
 "nbformat_minor": 5
}
