{
 "cells": [
  {
   "cell_type": "markdown",
   "id": "48f55a35-d5b5-468f-b574-730df61e9609",
   "metadata": {},
   "source": [
    "# (11) Jobs: beta fits\n",
    "\n",
    "**Motivation**: Make beta/n_latent job runnsers as txt file. <br>"
   ]
  },
  {
   "cell_type": "code",
   "execution_count": 1,
   "id": "f823b1e9-05f2-49a0-8296-4a1819c12e81",
   "metadata": {
    "tags": [
     "hide-input"
    ]
   },
   "outputs": [],
   "source": [
    "# HIDE CODE\n",
    "\n",
    "\n",
    "import os, sys\n",
    "from IPython.display import display\n",
    "\n",
    "# tmp & extras dir\n",
    "git_dir = os.path.join(os.environ['HOME'], 'Dropbox/git')\n",
    "extras_dir = os.path.join(git_dir, 'jb-vae/_extras')\n",
    "fig_base_dir = os.path.join(git_dir, 'jb-vae/figs')\n",
    "tmp_dir = os.path.join(git_dir, 'jb-vae/tmp')\n",
    "\n",
    "# GitHub\n",
    "sys.path.insert(0, os.path.join(git_dir, '_PoissonVAE'))\n",
    "from analysis.eval import sparse_score\n",
    "from figures.fighelper import *\n",
    "from vae.train_vae import *\n",
    "\n",
    "# warnings, tqdm, & style\n",
    "warnings.filterwarnings('ignore', category=DeprecationWarning)\n",
    "warnings.filterwarnings('ignore', category=FutureWarning)\n",
    "from rich.jupyter import print\n",
    "%matplotlib inline\n",
    "set_style()"
   ]
  },
  {
   "cell_type": "markdown",
   "id": "c7256efb-c916-4111-9d10-8d923cdc0233",
   "metadata": {},
   "source": [
    "## Setup"
   ]
  },
  {
   "cell_type": "code",
   "execution_count": 2,
   "id": "c98a020f-ded3-4634-9068-722cac61089b",
   "metadata": {},
   "outputs": [],
   "source": [
    "from analysis.helper import job_runner_script\n",
    "\n",
    "\n",
    "def _cleanup(path, host=None):\n",
    "    for f in os.listdir(path):\n",
    "        cond = f.endswith('.txt')\n",
    "        if host is not None:\n",
    "            cond = cond and host in f\n",
    "        if cond:\n",
    "            os.remove(pjoin(path, f))\n",
    "\n",
    "\n",
    "def _name(host, gpu_i, fit_i):\n",
    "    return f\"{host}-cuda{gpu_i}-fit{fit_i}\"\n",
    "\n",
    "\n",
    "def divide_list(lst, n):\n",
    "    k, m = divmod(len(lst), n)\n",
    "    return [lst[i * k + min(i, m):(i + 1) * k + min(i + 1, m)] for i in range(n)]"
   ]
  },
  {
   "cell_type": "code",
   "execution_count": 3,
   "id": "50e3bee9-0d4d-4006-a11d-751a74071467",
   "metadata": {},
   "outputs": [
    {
     "data": {
      "text/html": [
       "<pre style=\"white-space:pre;overflow-x:auto;line-height:normal;font-family:Menlo,'DejaVu Sans Mono',consolas,'Courier New',monospace\"><span style=\"font-weight: bold\">[</span><span style=\"color: #008000; text-decoration-color: #008000\">'fit_vae.sh'</span>, <span style=\"color: #008000; text-decoration-color: #008000\">'run_sessions.sh'</span>, <span style=\"color: #008000; text-decoration-color: #008000\">'test_tqdm.py'</span>, <span style=\"color: #008000; text-decoration-color: #008000\">'test_tqdm.sh'</span><span style=\"font-weight: bold\">]</span>\n",
       "</pre>\n"
      ],
      "text/plain": [
       "\u001b[1m[\u001b[0m\u001b[32m'fit_vae.sh'\u001b[0m, \u001b[32m'run_sessions.sh'\u001b[0m, \u001b[32m'test_tqdm.py'\u001b[0m, \u001b[32m'test_tqdm.sh'\u001b[0m\u001b[1m]\u001b[0m\n"
      ]
     },
     "metadata": {},
     "output_type": "display_data"
    }
   ],
   "source": [
    "save_dir = 'Dropbox/git/_PoissonVAE/scripts'\n",
    "save_dir = pjoin(os.environ['HOME'], save_dir)\n",
    "os.makedirs(save_dir, exist_ok=True)\n",
    "\n",
    "# delete existing job runners?\n",
    "_cleanup(save_dir, None)\n",
    "\n",
    "print(sorted(os.listdir(save_dir)))"
   ]
  },
  {
   "cell_type": "code",
   "execution_count": null,
   "id": "7f0a8696-a14d-488a-8347-660bcb24b84b",
   "metadata": {},
   "outputs": [],
   "source": []
  },
  {
   "cell_type": "markdown",
   "id": "8d0536be-7e31-4bdb-97aa-d4171504f99d",
   "metadata": {
    "jp-MarkdownHeadingCollapsed": true
   },
   "source": [
    "## Betas (mach)\n",
    "\n",
    "```<lin|lin>```"
   ]
  },
  {
   "cell_type": "code",
   "execution_count": 4,
   "id": "d19bc5e6-c8a9-44be-8659-5b9049138a0b",
   "metadata": {},
   "outputs": [],
   "source": [
    "host = 'mach'\n",
    "_cleanup(save_dir, host)\n",
    "\n",
    "scripts_mach = collections.defaultdict(list)\n",
    "tot = 0"
   ]
  },
  {
   "cell_type": "code",
   "execution_count": 5,
   "id": "bb15205b-c050-4da7-912d-e4945ec34340",
   "metadata": {},
   "outputs": [],
   "source": [
    "n_seeds = 5\n",
    "seeds = range(1, n_seeds + 1)\n",
    "\n",
    "betas = [0.01, 0.2, 0.4, 0.6, 0.8, 1.0, 1.5, 4.0]\n",
    "latent_dim = [i * 256 for i in [1, 2, 3, 4]]"
   ]
  },
  {
   "cell_type": "code",
   "execution_count": 6,
   "id": "e601367a-857d-4d1f-b2f2-f08f9c74320b",
   "metadata": {},
   "outputs": [],
   "source": [
    "combos = itertools.product(\n",
    "    enumerate(betas), latent_dim, seeds)\n",
    "for (idx, b), k, s in combos:\n",
    "    if b == 1.0 and k == 512:\n",
    "        continue\n",
    "\n",
    "    arg = ' '.join([\n",
    "        f\"--kl_beta {b}\",\n",
    "        f\"--n_latents {k}\",\n",
    "        f\"--comment k{k}-b{b:0.2g}\",\n",
    "    ])\n",
    "    gpu_i = idx // 2\n",
    "\n",
    "    kws = dict(\n",
    "        device=gpu_i,\n",
    "        dataset='DOVES',\n",
    "        model='poisson',\n",
    "        archi='lin|lin',\n",
    "        seed=s,\n",
    "        args=arg,\n",
    "    )\n",
    "    scripts_mach[gpu_i].append(job_runner_script(**kws))\n",
    "    tot += 1"
   ]
  },
  {
   "cell_type": "code",
   "execution_count": 7,
   "id": "3a1d82d3-8bfd-4e21-8571-35065ba01a21",
   "metadata": {},
   "outputs": [
    {
     "data": {
      "text/html": [
       "<pre style=\"white-space:pre;overflow-x:auto;line-height:normal;font-family:Menlo,'DejaVu Sans Mono',consolas,'Courier New',monospace\"><span style=\"color: #008080; text-decoration-color: #008080; font-weight: bold\">155</span>\n",
       "</pre>\n"
      ],
      "text/plain": [
       "\u001b[1;36m155\u001b[0m\n"
      ]
     },
     "metadata": {},
     "output_type": "display_data"
    }
   ],
   "source": [
    "print(tot)"
   ]
  },
  {
   "cell_type": "code",
   "execution_count": null,
   "id": "a2fe52f4-2de8-4f35-a972-ee175e47b0d9",
   "metadata": {},
   "outputs": [],
   "source": []
  },
  {
   "cell_type": "code",
   "execution_count": 8,
   "id": "1c5dbd15-a2fc-46f6-be0c-07bdf6ecac22",
   "metadata": {},
   "outputs": [
    {
     "data": {
      "text/html": [
       "<pre style=\"white-space:pre;overflow-x:auto;line-height:normal;font-family:Menlo,'DejaVu Sans Mono',consolas,'Courier New',monospace\"><span style=\"font-weight: bold\">{</span><span style=\"color: #008080; text-decoration-color: #008080; font-weight: bold\">0</span>: <span style=\"color: #008080; text-decoration-color: #008080; font-weight: bold\">40</span>, <span style=\"color: #008080; text-decoration-color: #008080; font-weight: bold\">1</span>: <span style=\"color: #008080; text-decoration-color: #008080; font-weight: bold\">40</span>, <span style=\"color: #008080; text-decoration-color: #008080; font-weight: bold\">2</span>: <span style=\"color: #008080; text-decoration-color: #008080; font-weight: bold\">35</span>, <span style=\"color: #008080; text-decoration-color: #008080; font-weight: bold\">3</span>: <span style=\"color: #008080; text-decoration-color: #008080; font-weight: bold\">40</span><span style=\"font-weight: bold\">}</span>\n",
       "</pre>\n"
      ],
      "text/plain": [
       "\u001b[1m{\u001b[0m\u001b[1;36m0\u001b[0m: \u001b[1;36m40\u001b[0m, \u001b[1;36m1\u001b[0m: \u001b[1;36m40\u001b[0m, \u001b[1;36m2\u001b[0m: \u001b[1;36m35\u001b[0m, \u001b[1;36m3\u001b[0m: \u001b[1;36m40\u001b[0m\u001b[1m}\u001b[0m\n"
      ]
     },
     "metadata": {},
     "output_type": "display_data"
    }
   ],
   "source": [
    "scripts_mach = dict(scripts_mach)\n",
    "print({k: len(v) for k, v in scripts_mach.items()})"
   ]
  },
  {
   "cell_type": "code",
   "execution_count": null,
   "id": "ee739811-ee24-4b57-b400-9dce89302800",
   "metadata": {},
   "outputs": [],
   "source": []
  },
  {
   "cell_type": "markdown",
   "id": "315e0980-f63a-4c43-86eb-3a453323227d",
   "metadata": {},
   "source": [
    "### Save"
   ]
  },
  {
   "cell_type": "code",
   "execution_count": 9,
   "id": "4918ab82-072b-4fa5-b7a7-f28447eb601b",
   "metadata": {
    "scrolled": true
   },
   "outputs": [
    {
     "data": {
      "text/html": [
       "<pre style=\"white-space:pre;overflow-x:auto;line-height:normal;font-family:Menlo,'DejaVu Sans Mono',consolas,'Courier New',monospace\"><span style=\"font-weight: bold\">[</span>PROGRESS<span style=\"font-weight: bold\">]</span> <span style=\"color: #008000; text-decoration-color: #008000\">'mach-cuda0-fit0.txt'</span> saved at\n",
       "<span style=\"color: #800080; text-decoration-color: #800080\">/home/hadi/Dropbox/git/_PoissonVAE/</span><span style=\"color: #ff00ff; text-decoration-color: #ff00ff\">scripts</span>\n",
       "</pre>\n"
      ],
      "text/plain": [
       "\u001b[1m[\u001b[0mPROGRESS\u001b[1m]\u001b[0m \u001b[32m'mach-cuda0-fit0.txt'\u001b[0m saved at\n",
       "\u001b[35m/home/hadi/Dropbox/git/_PoissonVAE/\u001b[0m\u001b[95mscripts\u001b[0m\n"
      ]
     },
     "metadata": {},
     "output_type": "display_data"
    },
    {
     "data": {
      "text/html": [
       "<pre style=\"white-space:pre;overflow-x:auto;line-height:normal;font-family:Menlo,'DejaVu Sans Mono',consolas,'Courier New',monospace\"><span style=\"font-weight: bold\">[</span>PROGRESS<span style=\"font-weight: bold\">]</span> <span style=\"color: #008000; text-decoration-color: #008000\">'mach-cuda0-fit1.txt'</span> saved at\n",
       "<span style=\"color: #800080; text-decoration-color: #800080\">/home/hadi/Dropbox/git/_PoissonVAE/</span><span style=\"color: #ff00ff; text-decoration-color: #ff00ff\">scripts</span>\n",
       "</pre>\n"
      ],
      "text/plain": [
       "\u001b[1m[\u001b[0mPROGRESS\u001b[1m]\u001b[0m \u001b[32m'mach-cuda0-fit1.txt'\u001b[0m saved at\n",
       "\u001b[35m/home/hadi/Dropbox/git/_PoissonVAE/\u001b[0m\u001b[95mscripts\u001b[0m\n"
      ]
     },
     "metadata": {},
     "output_type": "display_data"
    },
    {
     "data": {
      "text/html": [
       "<pre style=\"white-space:pre;overflow-x:auto;line-height:normal;font-family:Menlo,'DejaVu Sans Mono',consolas,'Courier New',monospace\"><span style=\"font-weight: bold\">[</span>PROGRESS<span style=\"font-weight: bold\">]</span> <span style=\"color: #008000; text-decoration-color: #008000\">'mach-cuda0-fit2.txt'</span> saved at\n",
       "<span style=\"color: #800080; text-decoration-color: #800080\">/home/hadi/Dropbox/git/_PoissonVAE/</span><span style=\"color: #ff00ff; text-decoration-color: #ff00ff\">scripts</span>\n",
       "</pre>\n"
      ],
      "text/plain": [
       "\u001b[1m[\u001b[0mPROGRESS\u001b[1m]\u001b[0m \u001b[32m'mach-cuda0-fit2.txt'\u001b[0m saved at\n",
       "\u001b[35m/home/hadi/Dropbox/git/_PoissonVAE/\u001b[0m\u001b[95mscripts\u001b[0m\n"
      ]
     },
     "metadata": {},
     "output_type": "display_data"
    },
    {
     "data": {
      "text/html": [
       "<pre style=\"white-space:pre;overflow-x:auto;line-height:normal;font-family:Menlo,'DejaVu Sans Mono',consolas,'Courier New',monospace\"><span style=\"font-weight: bold\">[</span>PROGRESS<span style=\"font-weight: bold\">]</span> <span style=\"color: #008000; text-decoration-color: #008000\">'mach-cuda0-fit3.txt'</span> saved at\n",
       "<span style=\"color: #800080; text-decoration-color: #800080\">/home/hadi/Dropbox/git/_PoissonVAE/</span><span style=\"color: #ff00ff; text-decoration-color: #ff00ff\">scripts</span>\n",
       "</pre>\n"
      ],
      "text/plain": [
       "\u001b[1m[\u001b[0mPROGRESS\u001b[1m]\u001b[0m \u001b[32m'mach-cuda0-fit3.txt'\u001b[0m saved at\n",
       "\u001b[35m/home/hadi/Dropbox/git/_PoissonVAE/\u001b[0m\u001b[95mscripts\u001b[0m\n"
      ]
     },
     "metadata": {},
     "output_type": "display_data"
    },
    {
     "data": {
      "text/html": [
       "<pre style=\"white-space:pre;overflow-x:auto;line-height:normal;font-family:Menlo,'DejaVu Sans Mono',consolas,'Courier New',monospace\"><span style=\"font-weight: bold\">[</span>PROGRESS<span style=\"font-weight: bold\">]</span> <span style=\"color: #008000; text-decoration-color: #008000\">'mach-cuda0-fit4.txt'</span> saved at\n",
       "<span style=\"color: #800080; text-decoration-color: #800080\">/home/hadi/Dropbox/git/_PoissonVAE/</span><span style=\"color: #ff00ff; text-decoration-color: #ff00ff\">scripts</span>\n",
       "</pre>\n"
      ],
      "text/plain": [
       "\u001b[1m[\u001b[0mPROGRESS\u001b[1m]\u001b[0m \u001b[32m'mach-cuda0-fit4.txt'\u001b[0m saved at\n",
       "\u001b[35m/home/hadi/Dropbox/git/_PoissonVAE/\u001b[0m\u001b[95mscripts\u001b[0m\n"
      ]
     },
     "metadata": {},
     "output_type": "display_data"
    },
    {
     "data": {
      "text/html": [
       "<pre style=\"white-space:pre;overflow-x:auto;line-height:normal;font-family:Menlo,'DejaVu Sans Mono',consolas,'Courier New',monospace\"><span style=\"font-weight: bold\">[</span>PROGRESS<span style=\"font-weight: bold\">]</span> <span style=\"color: #008000; text-decoration-color: #008000\">'mach-cuda0-fit5.txt'</span> saved at\n",
       "<span style=\"color: #800080; text-decoration-color: #800080\">/home/hadi/Dropbox/git/_PoissonVAE/</span><span style=\"color: #ff00ff; text-decoration-color: #ff00ff\">scripts</span>\n",
       "</pre>\n"
      ],
      "text/plain": [
       "\u001b[1m[\u001b[0mPROGRESS\u001b[1m]\u001b[0m \u001b[32m'mach-cuda0-fit5.txt'\u001b[0m saved at\n",
       "\u001b[35m/home/hadi/Dropbox/git/_PoissonVAE/\u001b[0m\u001b[95mscripts\u001b[0m\n"
      ]
     },
     "metadata": {},
     "output_type": "display_data"
    },
    {
     "data": {
      "text/html": [
       "<pre style=\"white-space:pre;overflow-x:auto;line-height:normal;font-family:Menlo,'DejaVu Sans Mono',consolas,'Courier New',monospace\"><span style=\"font-weight: bold\">[</span>PROGRESS<span style=\"font-weight: bold\">]</span> <span style=\"color: #008000; text-decoration-color: #008000\">'mach-cuda0-fit6.txt'</span> saved at\n",
       "<span style=\"color: #800080; text-decoration-color: #800080\">/home/hadi/Dropbox/git/_PoissonVAE/</span><span style=\"color: #ff00ff; text-decoration-color: #ff00ff\">scripts</span>\n",
       "</pre>\n"
      ],
      "text/plain": [
       "\u001b[1m[\u001b[0mPROGRESS\u001b[1m]\u001b[0m \u001b[32m'mach-cuda0-fit6.txt'\u001b[0m saved at\n",
       "\u001b[35m/home/hadi/Dropbox/git/_PoissonVAE/\u001b[0m\u001b[95mscripts\u001b[0m\n"
      ]
     },
     "metadata": {},
     "output_type": "display_data"
    },
    {
     "data": {
      "text/html": [
       "<pre style=\"white-space:pre;overflow-x:auto;line-height:normal;font-family:Menlo,'DejaVu Sans Mono',consolas,'Courier New',monospace\"><span style=\"font-weight: bold\">[</span>PROGRESS<span style=\"font-weight: bold\">]</span> <span style=\"color: #008000; text-decoration-color: #008000\">'mach-cuda0-fit7.txt'</span> saved at\n",
       "<span style=\"color: #800080; text-decoration-color: #800080\">/home/hadi/Dropbox/git/_PoissonVAE/</span><span style=\"color: #ff00ff; text-decoration-color: #ff00ff\">scripts</span>\n",
       "</pre>\n"
      ],
      "text/plain": [
       "\u001b[1m[\u001b[0mPROGRESS\u001b[1m]\u001b[0m \u001b[32m'mach-cuda0-fit7.txt'\u001b[0m saved at\n",
       "\u001b[35m/home/hadi/Dropbox/git/_PoissonVAE/\u001b[0m\u001b[95mscripts\u001b[0m\n"
      ]
     },
     "metadata": {},
     "output_type": "display_data"
    },
    {
     "data": {
      "text/html": [
       "<pre style=\"white-space:pre;overflow-x:auto;line-height:normal;font-family:Menlo,'DejaVu Sans Mono',consolas,'Courier New',monospace\"><span style=\"font-weight: bold\">[</span>PROGRESS<span style=\"font-weight: bold\">]</span> <span style=\"color: #008000; text-decoration-color: #008000\">'mach-cuda1-fit0.txt'</span> saved at\n",
       "<span style=\"color: #800080; text-decoration-color: #800080\">/home/hadi/Dropbox/git/_PoissonVAE/</span><span style=\"color: #ff00ff; text-decoration-color: #ff00ff\">scripts</span>\n",
       "</pre>\n"
      ],
      "text/plain": [
       "\u001b[1m[\u001b[0mPROGRESS\u001b[1m]\u001b[0m \u001b[32m'mach-cuda1-fit0.txt'\u001b[0m saved at\n",
       "\u001b[35m/home/hadi/Dropbox/git/_PoissonVAE/\u001b[0m\u001b[95mscripts\u001b[0m\n"
      ]
     },
     "metadata": {},
     "output_type": "display_data"
    },
    {
     "data": {
      "text/html": [
       "<pre style=\"white-space:pre;overflow-x:auto;line-height:normal;font-family:Menlo,'DejaVu Sans Mono',consolas,'Courier New',monospace\"><span style=\"font-weight: bold\">[</span>PROGRESS<span style=\"font-weight: bold\">]</span> <span style=\"color: #008000; text-decoration-color: #008000\">'mach-cuda1-fit1.txt'</span> saved at\n",
       "<span style=\"color: #800080; text-decoration-color: #800080\">/home/hadi/Dropbox/git/_PoissonVAE/</span><span style=\"color: #ff00ff; text-decoration-color: #ff00ff\">scripts</span>\n",
       "</pre>\n"
      ],
      "text/plain": [
       "\u001b[1m[\u001b[0mPROGRESS\u001b[1m]\u001b[0m \u001b[32m'mach-cuda1-fit1.txt'\u001b[0m saved at\n",
       "\u001b[35m/home/hadi/Dropbox/git/_PoissonVAE/\u001b[0m\u001b[95mscripts\u001b[0m\n"
      ]
     },
     "metadata": {},
     "output_type": "display_data"
    },
    {
     "data": {
      "text/html": [
       "<pre style=\"white-space:pre;overflow-x:auto;line-height:normal;font-family:Menlo,'DejaVu Sans Mono',consolas,'Courier New',monospace\"><span style=\"font-weight: bold\">[</span>PROGRESS<span style=\"font-weight: bold\">]</span> <span style=\"color: #008000; text-decoration-color: #008000\">'mach-cuda1-fit2.txt'</span> saved at\n",
       "<span style=\"color: #800080; text-decoration-color: #800080\">/home/hadi/Dropbox/git/_PoissonVAE/</span><span style=\"color: #ff00ff; text-decoration-color: #ff00ff\">scripts</span>\n",
       "</pre>\n"
      ],
      "text/plain": [
       "\u001b[1m[\u001b[0mPROGRESS\u001b[1m]\u001b[0m \u001b[32m'mach-cuda1-fit2.txt'\u001b[0m saved at\n",
       "\u001b[35m/home/hadi/Dropbox/git/_PoissonVAE/\u001b[0m\u001b[95mscripts\u001b[0m\n"
      ]
     },
     "metadata": {},
     "output_type": "display_data"
    },
    {
     "data": {
      "text/html": [
       "<pre style=\"white-space:pre;overflow-x:auto;line-height:normal;font-family:Menlo,'DejaVu Sans Mono',consolas,'Courier New',monospace\"><span style=\"font-weight: bold\">[</span>PROGRESS<span style=\"font-weight: bold\">]</span> <span style=\"color: #008000; text-decoration-color: #008000\">'mach-cuda1-fit3.txt'</span> saved at\n",
       "<span style=\"color: #800080; text-decoration-color: #800080\">/home/hadi/Dropbox/git/_PoissonVAE/</span><span style=\"color: #ff00ff; text-decoration-color: #ff00ff\">scripts</span>\n",
       "</pre>\n"
      ],
      "text/plain": [
       "\u001b[1m[\u001b[0mPROGRESS\u001b[1m]\u001b[0m \u001b[32m'mach-cuda1-fit3.txt'\u001b[0m saved at\n",
       "\u001b[35m/home/hadi/Dropbox/git/_PoissonVAE/\u001b[0m\u001b[95mscripts\u001b[0m\n"
      ]
     },
     "metadata": {},
     "output_type": "display_data"
    },
    {
     "data": {
      "text/html": [
       "<pre style=\"white-space:pre;overflow-x:auto;line-height:normal;font-family:Menlo,'DejaVu Sans Mono',consolas,'Courier New',monospace\"><span style=\"font-weight: bold\">[</span>PROGRESS<span style=\"font-weight: bold\">]</span> <span style=\"color: #008000; text-decoration-color: #008000\">'mach-cuda1-fit4.txt'</span> saved at\n",
       "<span style=\"color: #800080; text-decoration-color: #800080\">/home/hadi/Dropbox/git/_PoissonVAE/</span><span style=\"color: #ff00ff; text-decoration-color: #ff00ff\">scripts</span>\n",
       "</pre>\n"
      ],
      "text/plain": [
       "\u001b[1m[\u001b[0mPROGRESS\u001b[1m]\u001b[0m \u001b[32m'mach-cuda1-fit4.txt'\u001b[0m saved at\n",
       "\u001b[35m/home/hadi/Dropbox/git/_PoissonVAE/\u001b[0m\u001b[95mscripts\u001b[0m\n"
      ]
     },
     "metadata": {},
     "output_type": "display_data"
    },
    {
     "data": {
      "text/html": [
       "<pre style=\"white-space:pre;overflow-x:auto;line-height:normal;font-family:Menlo,'DejaVu Sans Mono',consolas,'Courier New',monospace\"><span style=\"font-weight: bold\">[</span>PROGRESS<span style=\"font-weight: bold\">]</span> <span style=\"color: #008000; text-decoration-color: #008000\">'mach-cuda1-fit5.txt'</span> saved at\n",
       "<span style=\"color: #800080; text-decoration-color: #800080\">/home/hadi/Dropbox/git/_PoissonVAE/</span><span style=\"color: #ff00ff; text-decoration-color: #ff00ff\">scripts</span>\n",
       "</pre>\n"
      ],
      "text/plain": [
       "\u001b[1m[\u001b[0mPROGRESS\u001b[1m]\u001b[0m \u001b[32m'mach-cuda1-fit5.txt'\u001b[0m saved at\n",
       "\u001b[35m/home/hadi/Dropbox/git/_PoissonVAE/\u001b[0m\u001b[95mscripts\u001b[0m\n"
      ]
     },
     "metadata": {},
     "output_type": "display_data"
    },
    {
     "data": {
      "text/html": [
       "<pre style=\"white-space:pre;overflow-x:auto;line-height:normal;font-family:Menlo,'DejaVu Sans Mono',consolas,'Courier New',monospace\"><span style=\"font-weight: bold\">[</span>PROGRESS<span style=\"font-weight: bold\">]</span> <span style=\"color: #008000; text-decoration-color: #008000\">'mach-cuda1-fit6.txt'</span> saved at\n",
       "<span style=\"color: #800080; text-decoration-color: #800080\">/home/hadi/Dropbox/git/_PoissonVAE/</span><span style=\"color: #ff00ff; text-decoration-color: #ff00ff\">scripts</span>\n",
       "</pre>\n"
      ],
      "text/plain": [
       "\u001b[1m[\u001b[0mPROGRESS\u001b[1m]\u001b[0m \u001b[32m'mach-cuda1-fit6.txt'\u001b[0m saved at\n",
       "\u001b[35m/home/hadi/Dropbox/git/_PoissonVAE/\u001b[0m\u001b[95mscripts\u001b[0m\n"
      ]
     },
     "metadata": {},
     "output_type": "display_data"
    },
    {
     "data": {
      "text/html": [
       "<pre style=\"white-space:pre;overflow-x:auto;line-height:normal;font-family:Menlo,'DejaVu Sans Mono',consolas,'Courier New',monospace\"><span style=\"font-weight: bold\">[</span>PROGRESS<span style=\"font-weight: bold\">]</span> <span style=\"color: #008000; text-decoration-color: #008000\">'mach-cuda1-fit7.txt'</span> saved at\n",
       "<span style=\"color: #800080; text-decoration-color: #800080\">/home/hadi/Dropbox/git/_PoissonVAE/</span><span style=\"color: #ff00ff; text-decoration-color: #ff00ff\">scripts</span>\n",
       "</pre>\n"
      ],
      "text/plain": [
       "\u001b[1m[\u001b[0mPROGRESS\u001b[1m]\u001b[0m \u001b[32m'mach-cuda1-fit7.txt'\u001b[0m saved at\n",
       "\u001b[35m/home/hadi/Dropbox/git/_PoissonVAE/\u001b[0m\u001b[95mscripts\u001b[0m\n"
      ]
     },
     "metadata": {},
     "output_type": "display_data"
    },
    {
     "data": {
      "text/html": [
       "<pre style=\"white-space:pre;overflow-x:auto;line-height:normal;font-family:Menlo,'DejaVu Sans Mono',consolas,'Courier New',monospace\"><span style=\"font-weight: bold\">[</span>PROGRESS<span style=\"font-weight: bold\">]</span> <span style=\"color: #008000; text-decoration-color: #008000\">'mach-cuda2-fit0.txt'</span> saved at\n",
       "<span style=\"color: #800080; text-decoration-color: #800080\">/home/hadi/Dropbox/git/_PoissonVAE/</span><span style=\"color: #ff00ff; text-decoration-color: #ff00ff\">scripts</span>\n",
       "</pre>\n"
      ],
      "text/plain": [
       "\u001b[1m[\u001b[0mPROGRESS\u001b[1m]\u001b[0m \u001b[32m'mach-cuda2-fit0.txt'\u001b[0m saved at\n",
       "\u001b[35m/home/hadi/Dropbox/git/_PoissonVAE/\u001b[0m\u001b[95mscripts\u001b[0m\n"
      ]
     },
     "metadata": {},
     "output_type": "display_data"
    },
    {
     "data": {
      "text/html": [
       "<pre style=\"white-space:pre;overflow-x:auto;line-height:normal;font-family:Menlo,'DejaVu Sans Mono',consolas,'Courier New',monospace\"><span style=\"font-weight: bold\">[</span>PROGRESS<span style=\"font-weight: bold\">]</span> <span style=\"color: #008000; text-decoration-color: #008000\">'mach-cuda2-fit1.txt'</span> saved at\n",
       "<span style=\"color: #800080; text-decoration-color: #800080\">/home/hadi/Dropbox/git/_PoissonVAE/</span><span style=\"color: #ff00ff; text-decoration-color: #ff00ff\">scripts</span>\n",
       "</pre>\n"
      ],
      "text/plain": [
       "\u001b[1m[\u001b[0mPROGRESS\u001b[1m]\u001b[0m \u001b[32m'mach-cuda2-fit1.txt'\u001b[0m saved at\n",
       "\u001b[35m/home/hadi/Dropbox/git/_PoissonVAE/\u001b[0m\u001b[95mscripts\u001b[0m\n"
      ]
     },
     "metadata": {},
     "output_type": "display_data"
    },
    {
     "data": {
      "text/html": [
       "<pre style=\"white-space:pre;overflow-x:auto;line-height:normal;font-family:Menlo,'DejaVu Sans Mono',consolas,'Courier New',monospace\"><span style=\"font-weight: bold\">[</span>PROGRESS<span style=\"font-weight: bold\">]</span> <span style=\"color: #008000; text-decoration-color: #008000\">'mach-cuda2-fit2.txt'</span> saved at\n",
       "<span style=\"color: #800080; text-decoration-color: #800080\">/home/hadi/Dropbox/git/_PoissonVAE/</span><span style=\"color: #ff00ff; text-decoration-color: #ff00ff\">scripts</span>\n",
       "</pre>\n"
      ],
      "text/plain": [
       "\u001b[1m[\u001b[0mPROGRESS\u001b[1m]\u001b[0m \u001b[32m'mach-cuda2-fit2.txt'\u001b[0m saved at\n",
       "\u001b[35m/home/hadi/Dropbox/git/_PoissonVAE/\u001b[0m\u001b[95mscripts\u001b[0m\n"
      ]
     },
     "metadata": {},
     "output_type": "display_data"
    },
    {
     "data": {
      "text/html": [
       "<pre style=\"white-space:pre;overflow-x:auto;line-height:normal;font-family:Menlo,'DejaVu Sans Mono',consolas,'Courier New',monospace\"><span style=\"font-weight: bold\">[</span>PROGRESS<span style=\"font-weight: bold\">]</span> <span style=\"color: #008000; text-decoration-color: #008000\">'mach-cuda2-fit3.txt'</span> saved at\n",
       "<span style=\"color: #800080; text-decoration-color: #800080\">/home/hadi/Dropbox/git/_PoissonVAE/</span><span style=\"color: #ff00ff; text-decoration-color: #ff00ff\">scripts</span>\n",
       "</pre>\n"
      ],
      "text/plain": [
       "\u001b[1m[\u001b[0mPROGRESS\u001b[1m]\u001b[0m \u001b[32m'mach-cuda2-fit3.txt'\u001b[0m saved at\n",
       "\u001b[35m/home/hadi/Dropbox/git/_PoissonVAE/\u001b[0m\u001b[95mscripts\u001b[0m\n"
      ]
     },
     "metadata": {},
     "output_type": "display_data"
    },
    {
     "data": {
      "text/html": [
       "<pre style=\"white-space:pre;overflow-x:auto;line-height:normal;font-family:Menlo,'DejaVu Sans Mono',consolas,'Courier New',monospace\"><span style=\"font-weight: bold\">[</span>PROGRESS<span style=\"font-weight: bold\">]</span> <span style=\"color: #008000; text-decoration-color: #008000\">'mach-cuda2-fit4.txt'</span> saved at\n",
       "<span style=\"color: #800080; text-decoration-color: #800080\">/home/hadi/Dropbox/git/_PoissonVAE/</span><span style=\"color: #ff00ff; text-decoration-color: #ff00ff\">scripts</span>\n",
       "</pre>\n"
      ],
      "text/plain": [
       "\u001b[1m[\u001b[0mPROGRESS\u001b[1m]\u001b[0m \u001b[32m'mach-cuda2-fit4.txt'\u001b[0m saved at\n",
       "\u001b[35m/home/hadi/Dropbox/git/_PoissonVAE/\u001b[0m\u001b[95mscripts\u001b[0m\n"
      ]
     },
     "metadata": {},
     "output_type": "display_data"
    },
    {
     "data": {
      "text/html": [
       "<pre style=\"white-space:pre;overflow-x:auto;line-height:normal;font-family:Menlo,'DejaVu Sans Mono',consolas,'Courier New',monospace\"><span style=\"font-weight: bold\">[</span>PROGRESS<span style=\"font-weight: bold\">]</span> <span style=\"color: #008000; text-decoration-color: #008000\">'mach-cuda2-fit5.txt'</span> saved at\n",
       "<span style=\"color: #800080; text-decoration-color: #800080\">/home/hadi/Dropbox/git/_PoissonVAE/</span><span style=\"color: #ff00ff; text-decoration-color: #ff00ff\">scripts</span>\n",
       "</pre>\n"
      ],
      "text/plain": [
       "\u001b[1m[\u001b[0mPROGRESS\u001b[1m]\u001b[0m \u001b[32m'mach-cuda2-fit5.txt'\u001b[0m saved at\n",
       "\u001b[35m/home/hadi/Dropbox/git/_PoissonVAE/\u001b[0m\u001b[95mscripts\u001b[0m\n"
      ]
     },
     "metadata": {},
     "output_type": "display_data"
    },
    {
     "data": {
      "text/html": [
       "<pre style=\"white-space:pre;overflow-x:auto;line-height:normal;font-family:Menlo,'DejaVu Sans Mono',consolas,'Courier New',monospace\"><span style=\"font-weight: bold\">[</span>PROGRESS<span style=\"font-weight: bold\">]</span> <span style=\"color: #008000; text-decoration-color: #008000\">'mach-cuda2-fit6.txt'</span> saved at\n",
       "<span style=\"color: #800080; text-decoration-color: #800080\">/home/hadi/Dropbox/git/_PoissonVAE/</span><span style=\"color: #ff00ff; text-decoration-color: #ff00ff\">scripts</span>\n",
       "</pre>\n"
      ],
      "text/plain": [
       "\u001b[1m[\u001b[0mPROGRESS\u001b[1m]\u001b[0m \u001b[32m'mach-cuda2-fit6.txt'\u001b[0m saved at\n",
       "\u001b[35m/home/hadi/Dropbox/git/_PoissonVAE/\u001b[0m\u001b[95mscripts\u001b[0m\n"
      ]
     },
     "metadata": {},
     "output_type": "display_data"
    },
    {
     "data": {
      "text/html": [
       "<pre style=\"white-space:pre;overflow-x:auto;line-height:normal;font-family:Menlo,'DejaVu Sans Mono',consolas,'Courier New',monospace\"><span style=\"font-weight: bold\">[</span>PROGRESS<span style=\"font-weight: bold\">]</span> <span style=\"color: #008000; text-decoration-color: #008000\">'mach-cuda2-fit7.txt'</span> saved at\n",
       "<span style=\"color: #800080; text-decoration-color: #800080\">/home/hadi/Dropbox/git/_PoissonVAE/</span><span style=\"color: #ff00ff; text-decoration-color: #ff00ff\">scripts</span>\n",
       "</pre>\n"
      ],
      "text/plain": [
       "\u001b[1m[\u001b[0mPROGRESS\u001b[1m]\u001b[0m \u001b[32m'mach-cuda2-fit7.txt'\u001b[0m saved at\n",
       "\u001b[35m/home/hadi/Dropbox/git/_PoissonVAE/\u001b[0m\u001b[95mscripts\u001b[0m\n"
      ]
     },
     "metadata": {},
     "output_type": "display_data"
    },
    {
     "data": {
      "text/html": [
       "<pre style=\"white-space:pre;overflow-x:auto;line-height:normal;font-family:Menlo,'DejaVu Sans Mono',consolas,'Courier New',monospace\"><span style=\"font-weight: bold\">[</span>PROGRESS<span style=\"font-weight: bold\">]</span> <span style=\"color: #008000; text-decoration-color: #008000\">'mach-cuda3-fit0.txt'</span> saved at\n",
       "<span style=\"color: #800080; text-decoration-color: #800080\">/home/hadi/Dropbox/git/_PoissonVAE/</span><span style=\"color: #ff00ff; text-decoration-color: #ff00ff\">scripts</span>\n",
       "</pre>\n"
      ],
      "text/plain": [
       "\u001b[1m[\u001b[0mPROGRESS\u001b[1m]\u001b[0m \u001b[32m'mach-cuda3-fit0.txt'\u001b[0m saved at\n",
       "\u001b[35m/home/hadi/Dropbox/git/_PoissonVAE/\u001b[0m\u001b[95mscripts\u001b[0m\n"
      ]
     },
     "metadata": {},
     "output_type": "display_data"
    },
    {
     "data": {
      "text/html": [
       "<pre style=\"white-space:pre;overflow-x:auto;line-height:normal;font-family:Menlo,'DejaVu Sans Mono',consolas,'Courier New',monospace\"><span style=\"font-weight: bold\">[</span>PROGRESS<span style=\"font-weight: bold\">]</span> <span style=\"color: #008000; text-decoration-color: #008000\">'mach-cuda3-fit1.txt'</span> saved at\n",
       "<span style=\"color: #800080; text-decoration-color: #800080\">/home/hadi/Dropbox/git/_PoissonVAE/</span><span style=\"color: #ff00ff; text-decoration-color: #ff00ff\">scripts</span>\n",
       "</pre>\n"
      ],
      "text/plain": [
       "\u001b[1m[\u001b[0mPROGRESS\u001b[1m]\u001b[0m \u001b[32m'mach-cuda3-fit1.txt'\u001b[0m saved at\n",
       "\u001b[35m/home/hadi/Dropbox/git/_PoissonVAE/\u001b[0m\u001b[95mscripts\u001b[0m\n"
      ]
     },
     "metadata": {},
     "output_type": "display_data"
    },
    {
     "data": {
      "text/html": [
       "<pre style=\"white-space:pre;overflow-x:auto;line-height:normal;font-family:Menlo,'DejaVu Sans Mono',consolas,'Courier New',monospace\"><span style=\"font-weight: bold\">[</span>PROGRESS<span style=\"font-weight: bold\">]</span> <span style=\"color: #008000; text-decoration-color: #008000\">'mach-cuda3-fit2.txt'</span> saved at\n",
       "<span style=\"color: #800080; text-decoration-color: #800080\">/home/hadi/Dropbox/git/_PoissonVAE/</span><span style=\"color: #ff00ff; text-decoration-color: #ff00ff\">scripts</span>\n",
       "</pre>\n"
      ],
      "text/plain": [
       "\u001b[1m[\u001b[0mPROGRESS\u001b[1m]\u001b[0m \u001b[32m'mach-cuda3-fit2.txt'\u001b[0m saved at\n",
       "\u001b[35m/home/hadi/Dropbox/git/_PoissonVAE/\u001b[0m\u001b[95mscripts\u001b[0m\n"
      ]
     },
     "metadata": {},
     "output_type": "display_data"
    },
    {
     "data": {
      "text/html": [
       "<pre style=\"white-space:pre;overflow-x:auto;line-height:normal;font-family:Menlo,'DejaVu Sans Mono',consolas,'Courier New',monospace\"><span style=\"font-weight: bold\">[</span>PROGRESS<span style=\"font-weight: bold\">]</span> <span style=\"color: #008000; text-decoration-color: #008000\">'mach-cuda3-fit3.txt'</span> saved at\n",
       "<span style=\"color: #800080; text-decoration-color: #800080\">/home/hadi/Dropbox/git/_PoissonVAE/</span><span style=\"color: #ff00ff; text-decoration-color: #ff00ff\">scripts</span>\n",
       "</pre>\n"
      ],
      "text/plain": [
       "\u001b[1m[\u001b[0mPROGRESS\u001b[1m]\u001b[0m \u001b[32m'mach-cuda3-fit3.txt'\u001b[0m saved at\n",
       "\u001b[35m/home/hadi/Dropbox/git/_PoissonVAE/\u001b[0m\u001b[95mscripts\u001b[0m\n"
      ]
     },
     "metadata": {},
     "output_type": "display_data"
    },
    {
     "data": {
      "text/html": [
       "<pre style=\"white-space:pre;overflow-x:auto;line-height:normal;font-family:Menlo,'DejaVu Sans Mono',consolas,'Courier New',monospace\"><span style=\"font-weight: bold\">[</span>PROGRESS<span style=\"font-weight: bold\">]</span> <span style=\"color: #008000; text-decoration-color: #008000\">'mach-cuda3-fit4.txt'</span> saved at\n",
       "<span style=\"color: #800080; text-decoration-color: #800080\">/home/hadi/Dropbox/git/_PoissonVAE/</span><span style=\"color: #ff00ff; text-decoration-color: #ff00ff\">scripts</span>\n",
       "</pre>\n"
      ],
      "text/plain": [
       "\u001b[1m[\u001b[0mPROGRESS\u001b[1m]\u001b[0m \u001b[32m'mach-cuda3-fit4.txt'\u001b[0m saved at\n",
       "\u001b[35m/home/hadi/Dropbox/git/_PoissonVAE/\u001b[0m\u001b[95mscripts\u001b[0m\n"
      ]
     },
     "metadata": {},
     "output_type": "display_data"
    },
    {
     "data": {
      "text/html": [
       "<pre style=\"white-space:pre;overflow-x:auto;line-height:normal;font-family:Menlo,'DejaVu Sans Mono',consolas,'Courier New',monospace\"><span style=\"font-weight: bold\">[</span>PROGRESS<span style=\"font-weight: bold\">]</span> <span style=\"color: #008000; text-decoration-color: #008000\">'mach-cuda3-fit5.txt'</span> saved at\n",
       "<span style=\"color: #800080; text-decoration-color: #800080\">/home/hadi/Dropbox/git/_PoissonVAE/</span><span style=\"color: #ff00ff; text-decoration-color: #ff00ff\">scripts</span>\n",
       "</pre>\n"
      ],
      "text/plain": [
       "\u001b[1m[\u001b[0mPROGRESS\u001b[1m]\u001b[0m \u001b[32m'mach-cuda3-fit5.txt'\u001b[0m saved at\n",
       "\u001b[35m/home/hadi/Dropbox/git/_PoissonVAE/\u001b[0m\u001b[95mscripts\u001b[0m\n"
      ]
     },
     "metadata": {},
     "output_type": "display_data"
    },
    {
     "data": {
      "text/html": [
       "<pre style=\"white-space:pre;overflow-x:auto;line-height:normal;font-family:Menlo,'DejaVu Sans Mono',consolas,'Courier New',monospace\"><span style=\"font-weight: bold\">[</span>PROGRESS<span style=\"font-weight: bold\">]</span> <span style=\"color: #008000; text-decoration-color: #008000\">'mach-cuda3-fit6.txt'</span> saved at\n",
       "<span style=\"color: #800080; text-decoration-color: #800080\">/home/hadi/Dropbox/git/_PoissonVAE/</span><span style=\"color: #ff00ff; text-decoration-color: #ff00ff\">scripts</span>\n",
       "</pre>\n"
      ],
      "text/plain": [
       "\u001b[1m[\u001b[0mPROGRESS\u001b[1m]\u001b[0m \u001b[32m'mach-cuda3-fit6.txt'\u001b[0m saved at\n",
       "\u001b[35m/home/hadi/Dropbox/git/_PoissonVAE/\u001b[0m\u001b[95mscripts\u001b[0m\n"
      ]
     },
     "metadata": {},
     "output_type": "display_data"
    },
    {
     "data": {
      "text/html": [
       "<pre style=\"white-space:pre;overflow-x:auto;line-height:normal;font-family:Menlo,'DejaVu Sans Mono',consolas,'Courier New',monospace\"><span style=\"font-weight: bold\">[</span>PROGRESS<span style=\"font-weight: bold\">]</span> <span style=\"color: #008000; text-decoration-color: #008000\">'mach-cuda3-fit7.txt'</span> saved at\n",
       "<span style=\"color: #800080; text-decoration-color: #800080\">/home/hadi/Dropbox/git/_PoissonVAE/</span><span style=\"color: #ff00ff; text-decoration-color: #ff00ff\">scripts</span>\n",
       "</pre>\n"
      ],
      "text/plain": [
       "\u001b[1m[\u001b[0mPROGRESS\u001b[1m]\u001b[0m \u001b[32m'mach-cuda3-fit7.txt'\u001b[0m saved at\n",
       "\u001b[35m/home/hadi/Dropbox/git/_PoissonVAE/\u001b[0m\u001b[95mscripts\u001b[0m\n"
      ]
     },
     "metadata": {},
     "output_type": "display_data"
    }
   ],
   "source": [
    "n_fits = 8\n",
    "\n",
    "for gpu_i, scripts in scripts_mach.items():\n",
    "    scripts_divided = divide_list(scripts, n_fits)\n",
    "    for fit_i, s in enumerate(scripts_divided):\n",
    "        combined = ' && '.join(s)\n",
    "        save_obj(\n",
    "            obj=combined,\n",
    "            file_name=_name(host, gpu_i, fit_i),\n",
    "            save_dir=save_dir,\n",
    "            mode='txt',\n",
    "        )"
   ]
  },
  {
   "cell_type": "code",
   "execution_count": null,
   "id": "3f60ba8e-5e23-49b6-86d2-825be718a391",
   "metadata": {},
   "outputs": [],
   "source": []
  },
  {
   "cell_type": "markdown",
   "id": "8f315c07-4e59-4ea4-bf70-41ed67898efc",
   "metadata": {},
   "source": [
    "Print one to check"
   ]
  },
  {
   "cell_type": "code",
   "execution_count": 10,
   "id": "413587ca-d5bf-4d1d-91fe-76fd25cb7701",
   "metadata": {},
   "outputs": [
    {
     "data": {
      "text/html": [
       "<pre style=\"white-space:pre;overflow-x:auto;line-height:normal;font-family:Menlo,'DejaVu Sans Mono',consolas,'Courier New',monospace\">.<span style=\"color: #800080; text-decoration-color: #800080\">/</span><span style=\"color: #ff00ff; text-decoration-color: #ff00ff\">fit_vae.sh</span> <span style=\"color: #008000; text-decoration-color: #008000\">'3'</span> <span style=\"color: #008000; text-decoration-color: #008000\">'DOVES'</span> <span style=\"color: #008000; text-decoration-color: #008000\">'poisson'</span> <span style=\"color: #008000; text-decoration-color: #008000\">'lin|lin'</span> --seed <span style=\"color: #008080; text-decoration-color: #008080; font-weight: bold\">1</span> --kl_beta <span style=\"color: #008080; text-decoration-color: #008080; font-weight: bold\">4.0</span> --n_latents <span style=\"color: #008080; text-decoration-color: #008080; font-weight: bold\">1024</span> --comment k1024-b4 &amp;&amp; \n",
       ".<span style=\"color: #800080; text-decoration-color: #800080\">/</span><span style=\"color: #ff00ff; text-decoration-color: #ff00ff\">fit_vae.sh</span> <span style=\"color: #008000; text-decoration-color: #008000\">'3'</span> <span style=\"color: #008000; text-decoration-color: #008000\">'DOVES'</span> <span style=\"color: #008000; text-decoration-color: #008000\">'poisson'</span> <span style=\"color: #008000; text-decoration-color: #008000\">'lin|lin'</span> --seed <span style=\"color: #008080; text-decoration-color: #008080; font-weight: bold\">2</span> --kl_beta <span style=\"color: #008080; text-decoration-color: #008080; font-weight: bold\">4.0</span> --n_latents <span style=\"color: #008080; text-decoration-color: #008080; font-weight: bold\">1024</span> --comment k1024-b4 &amp;&amp; \n",
       ".<span style=\"color: #800080; text-decoration-color: #800080\">/</span><span style=\"color: #ff00ff; text-decoration-color: #ff00ff\">fit_vae.sh</span> <span style=\"color: #008000; text-decoration-color: #008000\">'3'</span> <span style=\"color: #008000; text-decoration-color: #008000\">'DOVES'</span> <span style=\"color: #008000; text-decoration-color: #008000\">'poisson'</span> <span style=\"color: #008000; text-decoration-color: #008000\">'lin|lin'</span> --seed <span style=\"color: #008080; text-decoration-color: #008080; font-weight: bold\">3</span> --kl_beta <span style=\"color: #008080; text-decoration-color: #008080; font-weight: bold\">4.0</span> --n_latents <span style=\"color: #008080; text-decoration-color: #008080; font-weight: bold\">1024</span> --comment k1024-b4 &amp;&amp; \n",
       ".<span style=\"color: #800080; text-decoration-color: #800080\">/</span><span style=\"color: #ff00ff; text-decoration-color: #ff00ff\">fit_vae.sh</span> <span style=\"color: #008000; text-decoration-color: #008000\">'3'</span> <span style=\"color: #008000; text-decoration-color: #008000\">'DOVES'</span> <span style=\"color: #008000; text-decoration-color: #008000\">'poisson'</span> <span style=\"color: #008000; text-decoration-color: #008000\">'lin|lin'</span> --seed <span style=\"color: #008080; text-decoration-color: #008080; font-weight: bold\">4</span> --kl_beta <span style=\"color: #008080; text-decoration-color: #008080; font-weight: bold\">4.0</span> --n_latents <span style=\"color: #008080; text-decoration-color: #008080; font-weight: bold\">1024</span> --comment k1024-b4 &amp;&amp; \n",
       ".<span style=\"color: #800080; text-decoration-color: #800080\">/</span><span style=\"color: #ff00ff; text-decoration-color: #ff00ff\">fit_vae.sh</span> <span style=\"color: #008000; text-decoration-color: #008000\">'3'</span> <span style=\"color: #008000; text-decoration-color: #008000\">'DOVES'</span> <span style=\"color: #008000; text-decoration-color: #008000\">'poisson'</span> <span style=\"color: #008000; text-decoration-color: #008000\">'lin|lin'</span> --seed <span style=\"color: #008080; text-decoration-color: #008080; font-weight: bold\">5</span> --kl_beta <span style=\"color: #008080; text-decoration-color: #008080; font-weight: bold\">4.0</span> --n_latents <span style=\"color: #008080; text-decoration-color: #008080; font-weight: bold\">1024</span> --comment k1024-b4\n",
       "</pre>\n"
      ],
      "text/plain": [
       ".\u001b[35m/\u001b[0m\u001b[95mfit_vae.sh\u001b[0m \u001b[32m'3'\u001b[0m \u001b[32m'DOVES'\u001b[0m \u001b[32m'poisson'\u001b[0m \u001b[32m'lin|lin'\u001b[0m --seed \u001b[1;36m1\u001b[0m --kl_beta \u001b[1;36m4.0\u001b[0m --n_latents \u001b[1;36m1024\u001b[0m --comment k1024-b4 && \n",
       ".\u001b[35m/\u001b[0m\u001b[95mfit_vae.sh\u001b[0m \u001b[32m'3'\u001b[0m \u001b[32m'DOVES'\u001b[0m \u001b[32m'poisson'\u001b[0m \u001b[32m'lin|lin'\u001b[0m --seed \u001b[1;36m2\u001b[0m --kl_beta \u001b[1;36m4.0\u001b[0m --n_latents \u001b[1;36m1024\u001b[0m --comment k1024-b4 && \n",
       ".\u001b[35m/\u001b[0m\u001b[95mfit_vae.sh\u001b[0m \u001b[32m'3'\u001b[0m \u001b[32m'DOVES'\u001b[0m \u001b[32m'poisson'\u001b[0m \u001b[32m'lin|lin'\u001b[0m --seed \u001b[1;36m3\u001b[0m --kl_beta \u001b[1;36m4.0\u001b[0m --n_latents \u001b[1;36m1024\u001b[0m --comment k1024-b4 && \n",
       ".\u001b[35m/\u001b[0m\u001b[95mfit_vae.sh\u001b[0m \u001b[32m'3'\u001b[0m \u001b[32m'DOVES'\u001b[0m \u001b[32m'poisson'\u001b[0m \u001b[32m'lin|lin'\u001b[0m --seed \u001b[1;36m4\u001b[0m --kl_beta \u001b[1;36m4.0\u001b[0m --n_latents \u001b[1;36m1024\u001b[0m --comment k1024-b4 && \n",
       ".\u001b[35m/\u001b[0m\u001b[95mfit_vae.sh\u001b[0m \u001b[32m'3'\u001b[0m \u001b[32m'DOVES'\u001b[0m \u001b[32m'poisson'\u001b[0m \u001b[32m'lin|lin'\u001b[0m --seed \u001b[1;36m5\u001b[0m --kl_beta \u001b[1;36m4.0\u001b[0m --n_latents \u001b[1;36m1024\u001b[0m --comment k1024-b4\n"
      ]
     },
     "metadata": {},
     "output_type": "display_data"
    }
   ],
   "source": [
    "print(combined.replace('&& ', '&& \\n'))"
   ]
  },
  {
   "cell_type": "code",
   "execution_count": null,
   "id": "41f88d8a-c971-42d4-b9f3-43f182c06b9e",
   "metadata": {},
   "outputs": [],
   "source": []
  },
  {
   "cell_type": "code",
   "execution_count": 11,
   "id": "b302fa96-e45d-42d0-b0cb-6664b76a47cc",
   "metadata": {},
   "outputs": [
    {
     "data": {
      "text/html": [
       "<pre style=\"white-space:pre;overflow-x:auto;line-height:normal;font-family:Menlo,'DejaVu Sans Mono',consolas,'Courier New',monospace\"><span style=\"font-weight: bold\">{</span>\n",
       "    <span style=\"color: #008080; text-decoration-color: #008080; font-weight: bold\">0</span>: <span style=\"font-weight: bold\">[</span>\n",
       "        <span style=\"color: #008000; text-decoration-color: #008000\">\"./fit_vae.sh '0' 'DOVES' 'poisson' 'lin|lin' --seed 1 --kl_beta 0.01 --n_latents 256 --comment </span>\n",
       "<span style=\"color: #008000; text-decoration-color: #008000\">k256-b0.01\"</span>,\n",
       "        <span style=\"color: #008000; text-decoration-color: #008000\">\"./fit_vae.sh '0' 'DOVES' 'poisson' 'lin|lin' --seed 2 --kl_beta 0.01 --n_latents 256 --comment </span>\n",
       "<span style=\"color: #008000; text-decoration-color: #008000\">k256-b0.01\"</span>,\n",
       "        <span style=\"color: #008000; text-decoration-color: #008000\">\"./fit_vae.sh '0' 'DOVES' 'poisson' 'lin|lin' --seed 3 --kl_beta 0.01 --n_latents 256 --comment </span>\n",
       "<span style=\"color: #008000; text-decoration-color: #008000\">k256-b0.01\"</span>,\n",
       "        <span style=\"color: #008000; text-decoration-color: #008000\">\"./fit_vae.sh '0' 'DOVES' 'poisson' 'lin|lin' --seed 4 --kl_beta 0.01 --n_latents 256 --comment </span>\n",
       "<span style=\"color: #008000; text-decoration-color: #008000\">k256-b0.01\"</span>,\n",
       "        <span style=\"color: #008000; text-decoration-color: #008000\">\"./fit_vae.sh '0' 'DOVES' 'poisson' 'lin|lin' --seed 5 --kl_beta 0.01 --n_latents 256 --comment </span>\n",
       "<span style=\"color: #008000; text-decoration-color: #008000\">k256-b0.01\"</span>,\n",
       "        <span style=\"color: #008000; text-decoration-color: #008000\">\"./fit_vae.sh '0' 'DOVES' 'poisson' 'lin|lin' --seed 1 --kl_beta 0.01 --n_latents 512 --comment </span>\n",
       "<span style=\"color: #008000; text-decoration-color: #008000\">k512-b0.01\"</span>,\n",
       "        <span style=\"color: #008000; text-decoration-color: #008000\">\"./fit_vae.sh '0' 'DOVES' 'poisson' 'lin|lin' --seed 2 --kl_beta 0.01 --n_latents 512 --comment </span>\n",
       "<span style=\"color: #008000; text-decoration-color: #008000\">k512-b0.01\"</span>,\n",
       "        <span style=\"color: #008000; text-decoration-color: #008000\">\"./fit_vae.sh '0' 'DOVES' 'poisson' 'lin|lin' --seed 3 --kl_beta 0.01 --n_latents 512 --comment </span>\n",
       "<span style=\"color: #008000; text-decoration-color: #008000\">k512-b0.01\"</span>,\n",
       "        <span style=\"color: #008000; text-decoration-color: #008000\">\"./fit_vae.sh '0' 'DOVES' 'poisson' 'lin|lin' --seed 4 --kl_beta 0.01 --n_latents 512 --comment </span>\n",
       "<span style=\"color: #008000; text-decoration-color: #008000\">k512-b0.01\"</span>,\n",
       "        <span style=\"color: #008000; text-decoration-color: #008000\">\"./fit_vae.sh '0' 'DOVES' 'poisson' 'lin|lin' --seed 5 --kl_beta 0.01 --n_latents 512 --comment </span>\n",
       "<span style=\"color: #008000; text-decoration-color: #008000\">k512-b0.01\"</span>,\n",
       "        <span style=\"color: #008000; text-decoration-color: #008000\">\"./fit_vae.sh '0' 'DOVES' 'poisson' 'lin|lin' --seed 1 --kl_beta 0.01 --n_latents 768 --comment </span>\n",
       "<span style=\"color: #008000; text-decoration-color: #008000\">k768-b0.01\"</span>,\n",
       "        <span style=\"color: #008000; text-decoration-color: #008000\">\"./fit_vae.sh '0' 'DOVES' 'poisson' 'lin|lin' --seed 2 --kl_beta 0.01 --n_latents 768 --comment </span>\n",
       "<span style=\"color: #008000; text-decoration-color: #008000\">k768-b0.01\"</span>,\n",
       "        <span style=\"color: #008000; text-decoration-color: #008000\">\"./fit_vae.sh '0' 'DOVES' 'poisson' 'lin|lin' --seed 3 --kl_beta 0.01 --n_latents 768 --comment </span>\n",
       "<span style=\"color: #008000; text-decoration-color: #008000\">k768-b0.01\"</span>,\n",
       "        <span style=\"color: #008000; text-decoration-color: #008000\">\"./fit_vae.sh '0' 'DOVES' 'poisson' 'lin|lin' --seed 4 --kl_beta 0.01 --n_latents 768 --comment </span>\n",
       "<span style=\"color: #008000; text-decoration-color: #008000\">k768-b0.01\"</span>,\n",
       "        <span style=\"color: #008000; text-decoration-color: #008000\">\"./fit_vae.sh '0' 'DOVES' 'poisson' 'lin|lin' --seed 5 --kl_beta 0.01 --n_latents 768 --comment </span>\n",
       "<span style=\"color: #008000; text-decoration-color: #008000\">k768-b0.01\"</span>,\n",
       "        <span style=\"color: #008000; text-decoration-color: #008000\">\"./fit_vae.sh '0' 'DOVES' 'poisson' 'lin|lin' --seed 1 --kl_beta 0.01 --n_latents 1024 --comment </span>\n",
       "<span style=\"color: #008000; text-decoration-color: #008000\">k1024-b0.01\"</span>,\n",
       "        <span style=\"color: #008000; text-decoration-color: #008000\">\"./fit_vae.sh '0' 'DOVES' 'poisson' 'lin|lin' --seed 2 --kl_beta 0.01 --n_latents 1024 --comment </span>\n",
       "<span style=\"color: #008000; text-decoration-color: #008000\">k1024-b0.01\"</span>,\n",
       "        <span style=\"color: #008000; text-decoration-color: #008000\">\"./fit_vae.sh '0' 'DOVES' 'poisson' 'lin|lin' --seed 3 --kl_beta 0.01 --n_latents 1024 --comment </span>\n",
       "<span style=\"color: #008000; text-decoration-color: #008000\">k1024-b0.01\"</span>,\n",
       "        <span style=\"color: #008000; text-decoration-color: #008000\">\"./fit_vae.sh '0' 'DOVES' 'poisson' 'lin|lin' --seed 4 --kl_beta 0.01 --n_latents 1024 --comment </span>\n",
       "<span style=\"color: #008000; text-decoration-color: #008000\">k1024-b0.01\"</span>,\n",
       "        <span style=\"color: #008000; text-decoration-color: #008000\">\"./fit_vae.sh '0' 'DOVES' 'poisson' 'lin|lin' --seed 5 --kl_beta 0.01 --n_latents 1024 --comment </span>\n",
       "<span style=\"color: #008000; text-decoration-color: #008000\">k1024-b0.01\"</span>,\n",
       "        <span style=\"color: #008000; text-decoration-color: #008000\">\"./fit_vae.sh '0' 'DOVES' 'poisson' 'lin|lin' --seed 1 --kl_beta 0.2 --n_latents 256 --comment k256-b0.2\"</span>,\n",
       "        <span style=\"color: #008000; text-decoration-color: #008000\">\"./fit_vae.sh '0' 'DOVES' 'poisson' 'lin|lin' --seed 2 --kl_beta 0.2 --n_latents 256 --comment k256-b0.2\"</span>,\n",
       "        <span style=\"color: #008000; text-decoration-color: #008000\">\"./fit_vae.sh '0' 'DOVES' 'poisson' 'lin|lin' --seed 3 --kl_beta 0.2 --n_latents 256 --comment k256-b0.2\"</span>,\n",
       "        <span style=\"color: #008000; text-decoration-color: #008000\">\"./fit_vae.sh '0' 'DOVES' 'poisson' 'lin|lin' --seed 4 --kl_beta 0.2 --n_latents 256 --comment k256-b0.2\"</span>,\n",
       "        <span style=\"color: #008000; text-decoration-color: #008000\">\"./fit_vae.sh '0' 'DOVES' 'poisson' 'lin|lin' --seed 5 --kl_beta 0.2 --n_latents 256 --comment k256-b0.2\"</span>,\n",
       "        <span style=\"color: #008000; text-decoration-color: #008000\">\"./fit_vae.sh '0' 'DOVES' 'poisson' 'lin|lin' --seed 1 --kl_beta 0.2 --n_latents 512 --comment k512-b0.2\"</span>,\n",
       "        <span style=\"color: #008000; text-decoration-color: #008000\">\"./fit_vae.sh '0' 'DOVES' 'poisson' 'lin|lin' --seed 2 --kl_beta 0.2 --n_latents 512 --comment k512-b0.2\"</span>,\n",
       "        <span style=\"color: #008000; text-decoration-color: #008000\">\"./fit_vae.sh '0' 'DOVES' 'poisson' 'lin|lin' --seed 3 --kl_beta 0.2 --n_latents 512 --comment k512-b0.2\"</span>,\n",
       "        <span style=\"color: #008000; text-decoration-color: #008000\">\"./fit_vae.sh '0' 'DOVES' 'poisson' 'lin|lin' --seed 4 --kl_beta 0.2 --n_latents 512 --comment k512-b0.2\"</span>,\n",
       "        <span style=\"color: #008000; text-decoration-color: #008000\">\"./fit_vae.sh '0' 'DOVES' 'poisson' 'lin|lin' --seed 5 --kl_beta 0.2 --n_latents 512 --comment k512-b0.2\"</span>,\n",
       "        <span style=\"color: #008000; text-decoration-color: #008000\">\"./fit_vae.sh '0' 'DOVES' 'poisson' 'lin|lin' --seed 1 --kl_beta 0.2 --n_latents 768 --comment k768-b0.2\"</span>,\n",
       "        <span style=\"color: #008000; text-decoration-color: #008000\">\"./fit_vae.sh '0' 'DOVES' 'poisson' 'lin|lin' --seed 2 --kl_beta 0.2 --n_latents 768 --comment k768-b0.2\"</span>,\n",
       "        <span style=\"color: #008000; text-decoration-color: #008000\">\"./fit_vae.sh '0' 'DOVES' 'poisson' 'lin|lin' --seed 3 --kl_beta 0.2 --n_latents 768 --comment k768-b0.2\"</span>,\n",
       "        <span style=\"color: #008000; text-decoration-color: #008000\">\"./fit_vae.sh '0' 'DOVES' 'poisson' 'lin|lin' --seed 4 --kl_beta 0.2 --n_latents 768 --comment k768-b0.2\"</span>,\n",
       "        <span style=\"color: #008000; text-decoration-color: #008000\">\"./fit_vae.sh '0' 'DOVES' 'poisson' 'lin|lin' --seed 5 --kl_beta 0.2 --n_latents 768 --comment k768-b0.2\"</span>,\n",
       "        <span style=\"color: #008000; text-decoration-color: #008000\">\"./fit_vae.sh '0' 'DOVES' 'poisson' 'lin|lin' --seed 1 --kl_beta 0.2 --n_latents 1024 --comment </span>\n",
       "<span style=\"color: #008000; text-decoration-color: #008000\">k1024-b0.2\"</span>,\n",
       "        <span style=\"color: #008000; text-decoration-color: #008000\">\"./fit_vae.sh '0' 'DOVES' 'poisson' 'lin|lin' --seed 2 --kl_beta 0.2 --n_latents 1024 --comment </span>\n",
       "<span style=\"color: #008000; text-decoration-color: #008000\">k1024-b0.2\"</span>,\n",
       "        <span style=\"color: #008000; text-decoration-color: #008000\">\"./fit_vae.sh '0' 'DOVES' 'poisson' 'lin|lin' --seed 3 --kl_beta 0.2 --n_latents 1024 --comment </span>\n",
       "<span style=\"color: #008000; text-decoration-color: #008000\">k1024-b0.2\"</span>,\n",
       "        <span style=\"color: #008000; text-decoration-color: #008000\">\"./fit_vae.sh '0' 'DOVES' 'poisson' 'lin|lin' --seed 4 --kl_beta 0.2 --n_latents 1024 --comment </span>\n",
       "<span style=\"color: #008000; text-decoration-color: #008000\">k1024-b0.2\"</span>,\n",
       "        <span style=\"color: #008000; text-decoration-color: #008000\">\"./fit_vae.sh '0' 'DOVES' 'poisson' 'lin|lin' --seed 5 --kl_beta 0.2 --n_latents 1024 --comment k1024-b0.2\"</span>\n",
       "    <span style=\"font-weight: bold\">]</span>,\n",
       "    <span style=\"color: #008080; text-decoration-color: #008080; font-weight: bold\">1</span>: <span style=\"font-weight: bold\">[</span>\n",
       "        <span style=\"color: #008000; text-decoration-color: #008000\">\"./fit_vae.sh '1' 'DOVES' 'poisson' 'lin|lin' --seed 1 --kl_beta 0.4 --n_latents 256 --comment k256-b0.4\"</span>,\n",
       "        <span style=\"color: #008000; text-decoration-color: #008000\">\"./fit_vae.sh '1' 'DOVES' 'poisson' 'lin|lin' --seed 2 --kl_beta 0.4 --n_latents 256 --comment k256-b0.4\"</span>,\n",
       "        <span style=\"color: #008000; text-decoration-color: #008000\">\"./fit_vae.sh '1' 'DOVES' 'poisson' 'lin|lin' --seed 3 --kl_beta 0.4 --n_latents 256 --comment k256-b0.4\"</span>,\n",
       "        <span style=\"color: #008000; text-decoration-color: #008000\">\"./fit_vae.sh '1' 'DOVES' 'poisson' 'lin|lin' --seed 4 --kl_beta 0.4 --n_latents 256 --comment k256-b0.4\"</span>,\n",
       "        <span style=\"color: #008000; text-decoration-color: #008000\">\"./fit_vae.sh '1' 'DOVES' 'poisson' 'lin|lin' --seed 5 --kl_beta 0.4 --n_latents 256 --comment k256-b0.4\"</span>,\n",
       "        <span style=\"color: #008000; text-decoration-color: #008000\">\"./fit_vae.sh '1' 'DOVES' 'poisson' 'lin|lin' --seed 1 --kl_beta 0.4 --n_latents 512 --comment k512-b0.4\"</span>,\n",
       "        <span style=\"color: #008000; text-decoration-color: #008000\">\"./fit_vae.sh '1' 'DOVES' 'poisson' 'lin|lin' --seed 2 --kl_beta 0.4 --n_latents 512 --comment k512-b0.4\"</span>,\n",
       "        <span style=\"color: #008000; text-decoration-color: #008000\">\"./fit_vae.sh '1' 'DOVES' 'poisson' 'lin|lin' --seed 3 --kl_beta 0.4 --n_latents 512 --comment k512-b0.4\"</span>,\n",
       "        <span style=\"color: #008000; text-decoration-color: #008000\">\"./fit_vae.sh '1' 'DOVES' 'poisson' 'lin|lin' --seed 4 --kl_beta 0.4 --n_latents 512 --comment k512-b0.4\"</span>,\n",
       "        <span style=\"color: #008000; text-decoration-color: #008000\">\"./fit_vae.sh '1' 'DOVES' 'poisson' 'lin|lin' --seed 5 --kl_beta 0.4 --n_latents 512 --comment k512-b0.4\"</span>,\n",
       "        <span style=\"color: #008000; text-decoration-color: #008000\">\"./fit_vae.sh '1' 'DOVES' 'poisson' 'lin|lin' --seed 1 --kl_beta 0.4 --n_latents 768 --comment k768-b0.4\"</span>,\n",
       "        <span style=\"color: #008000; text-decoration-color: #008000\">\"./fit_vae.sh '1' 'DOVES' 'poisson' 'lin|lin' --seed 2 --kl_beta 0.4 --n_latents 768 --comment k768-b0.4\"</span>,\n",
       "        <span style=\"color: #008000; text-decoration-color: #008000\">\"./fit_vae.sh '1' 'DOVES' 'poisson' 'lin|lin' --seed 3 --kl_beta 0.4 --n_latents 768 --comment k768-b0.4\"</span>,\n",
       "        <span style=\"color: #008000; text-decoration-color: #008000\">\"./fit_vae.sh '1' 'DOVES' 'poisson' 'lin|lin' --seed 4 --kl_beta 0.4 --n_latents 768 --comment k768-b0.4\"</span>,\n",
       "        <span style=\"color: #008000; text-decoration-color: #008000\">\"./fit_vae.sh '1' 'DOVES' 'poisson' 'lin|lin' --seed 5 --kl_beta 0.4 --n_latents 768 --comment k768-b0.4\"</span>,\n",
       "        <span style=\"color: #008000; text-decoration-color: #008000\">\"./fit_vae.sh '1' 'DOVES' 'poisson' 'lin|lin' --seed 1 --kl_beta 0.4 --n_latents 1024 --comment </span>\n",
       "<span style=\"color: #008000; text-decoration-color: #008000\">k1024-b0.4\"</span>,\n",
       "        <span style=\"color: #008000; text-decoration-color: #008000\">\"./fit_vae.sh '1' 'DOVES' 'poisson' 'lin|lin' --seed 2 --kl_beta 0.4 --n_latents 1024 --comment </span>\n",
       "<span style=\"color: #008000; text-decoration-color: #008000\">k1024-b0.4\"</span>,\n",
       "        <span style=\"color: #008000; text-decoration-color: #008000\">\"./fit_vae.sh '1' 'DOVES' 'poisson' 'lin|lin' --seed 3 --kl_beta 0.4 --n_latents 1024 --comment </span>\n",
       "<span style=\"color: #008000; text-decoration-color: #008000\">k1024-b0.4\"</span>,\n",
       "        <span style=\"color: #008000; text-decoration-color: #008000\">\"./fit_vae.sh '1' 'DOVES' 'poisson' 'lin|lin' --seed 4 --kl_beta 0.4 --n_latents 1024 --comment </span>\n",
       "<span style=\"color: #008000; text-decoration-color: #008000\">k1024-b0.4\"</span>,\n",
       "        <span style=\"color: #008000; text-decoration-color: #008000\">\"./fit_vae.sh '1' 'DOVES' 'poisson' 'lin|lin' --seed 5 --kl_beta 0.4 --n_latents 1024 --comment </span>\n",
       "<span style=\"color: #008000; text-decoration-color: #008000\">k1024-b0.4\"</span>,\n",
       "        <span style=\"color: #008000; text-decoration-color: #008000\">\"./fit_vae.sh '1' 'DOVES' 'poisson' 'lin|lin' --seed 1 --kl_beta 0.6 --n_latents 256 --comment k256-b0.6\"</span>,\n",
       "        <span style=\"color: #008000; text-decoration-color: #008000\">\"./fit_vae.sh '1' 'DOVES' 'poisson' 'lin|lin' --seed 2 --kl_beta 0.6 --n_latents 256 --comment k256-b0.6\"</span>,\n",
       "        <span style=\"color: #008000; text-decoration-color: #008000\">\"./fit_vae.sh '1' 'DOVES' 'poisson' 'lin|lin' --seed 3 --kl_beta 0.6 --n_latents 256 --comment k256-b0.6\"</span>,\n",
       "        <span style=\"color: #008000; text-decoration-color: #008000\">\"./fit_vae.sh '1' 'DOVES' 'poisson' 'lin|lin' --seed 4 --kl_beta 0.6 --n_latents 256 --comment k256-b0.6\"</span>,\n",
       "        <span style=\"color: #008000; text-decoration-color: #008000\">\"./fit_vae.sh '1' 'DOVES' 'poisson' 'lin|lin' --seed 5 --kl_beta 0.6 --n_latents 256 --comment k256-b0.6\"</span>,\n",
       "        <span style=\"color: #008000; text-decoration-color: #008000\">\"./fit_vae.sh '1' 'DOVES' 'poisson' 'lin|lin' --seed 1 --kl_beta 0.6 --n_latents 512 --comment k512-b0.6\"</span>,\n",
       "        <span style=\"color: #008000; text-decoration-color: #008000\">\"./fit_vae.sh '1' 'DOVES' 'poisson' 'lin|lin' --seed 2 --kl_beta 0.6 --n_latents 512 --comment k512-b0.6\"</span>,\n",
       "        <span style=\"color: #008000; text-decoration-color: #008000\">\"./fit_vae.sh '1' 'DOVES' 'poisson' 'lin|lin' --seed 3 --kl_beta 0.6 --n_latents 512 --comment k512-b0.6\"</span>,\n",
       "        <span style=\"color: #008000; text-decoration-color: #008000\">\"./fit_vae.sh '1' 'DOVES' 'poisson' 'lin|lin' --seed 4 --kl_beta 0.6 --n_latents 512 --comment k512-b0.6\"</span>,\n",
       "        <span style=\"color: #008000; text-decoration-color: #008000\">\"./fit_vae.sh '1' 'DOVES' 'poisson' 'lin|lin' --seed 5 --kl_beta 0.6 --n_latents 512 --comment k512-b0.6\"</span>,\n",
       "        <span style=\"color: #008000; text-decoration-color: #008000\">\"./fit_vae.sh '1' 'DOVES' 'poisson' 'lin|lin' --seed 1 --kl_beta 0.6 --n_latents 768 --comment k768-b0.6\"</span>,\n",
       "        <span style=\"color: #008000; text-decoration-color: #008000\">\"./fit_vae.sh '1' 'DOVES' 'poisson' 'lin|lin' --seed 2 --kl_beta 0.6 --n_latents 768 --comment k768-b0.6\"</span>,\n",
       "        <span style=\"color: #008000; text-decoration-color: #008000\">\"./fit_vae.sh '1' 'DOVES' 'poisson' 'lin|lin' --seed 3 --kl_beta 0.6 --n_latents 768 --comment k768-b0.6\"</span>,\n",
       "        <span style=\"color: #008000; text-decoration-color: #008000\">\"./fit_vae.sh '1' 'DOVES' 'poisson' 'lin|lin' --seed 4 --kl_beta 0.6 --n_latents 768 --comment k768-b0.6\"</span>,\n",
       "        <span style=\"color: #008000; text-decoration-color: #008000\">\"./fit_vae.sh '1' 'DOVES' 'poisson' 'lin|lin' --seed 5 --kl_beta 0.6 --n_latents 768 --comment k768-b0.6\"</span>,\n",
       "        <span style=\"color: #008000; text-decoration-color: #008000\">\"./fit_vae.sh '1' 'DOVES' 'poisson' 'lin|lin' --seed 1 --kl_beta 0.6 --n_latents 1024 --comment </span>\n",
       "<span style=\"color: #008000; text-decoration-color: #008000\">k1024-b0.6\"</span>,\n",
       "        <span style=\"color: #008000; text-decoration-color: #008000\">\"./fit_vae.sh '1' 'DOVES' 'poisson' 'lin|lin' --seed 2 --kl_beta 0.6 --n_latents 1024 --comment </span>\n",
       "<span style=\"color: #008000; text-decoration-color: #008000\">k1024-b0.6\"</span>,\n",
       "        <span style=\"color: #008000; text-decoration-color: #008000\">\"./fit_vae.sh '1' 'DOVES' 'poisson' 'lin|lin' --seed 3 --kl_beta 0.6 --n_latents 1024 --comment </span>\n",
       "<span style=\"color: #008000; text-decoration-color: #008000\">k1024-b0.6\"</span>,\n",
       "        <span style=\"color: #008000; text-decoration-color: #008000\">\"./fit_vae.sh '1' 'DOVES' 'poisson' 'lin|lin' --seed 4 --kl_beta 0.6 --n_latents 1024 --comment </span>\n",
       "<span style=\"color: #008000; text-decoration-color: #008000\">k1024-b0.6\"</span>,\n",
       "        <span style=\"color: #008000; text-decoration-color: #008000\">\"./fit_vae.sh '1' 'DOVES' 'poisson' 'lin|lin' --seed 5 --kl_beta 0.6 --n_latents 1024 --comment k1024-b0.6\"</span>\n",
       "    <span style=\"font-weight: bold\">]</span>,\n",
       "    <span style=\"color: #008080; text-decoration-color: #008080; font-weight: bold\">2</span>: <span style=\"font-weight: bold\">[</span>\n",
       "        <span style=\"color: #008000; text-decoration-color: #008000\">\"./fit_vae.sh '2' 'DOVES' 'poisson' 'lin|lin' --seed 1 --kl_beta 0.8 --n_latents 256 --comment k256-b0.8\"</span>,\n",
       "        <span style=\"color: #008000; text-decoration-color: #008000\">\"./fit_vae.sh '2' 'DOVES' 'poisson' 'lin|lin' --seed 2 --kl_beta 0.8 --n_latents 256 --comment k256-b0.8\"</span>,\n",
       "        <span style=\"color: #008000; text-decoration-color: #008000\">\"./fit_vae.sh '2' 'DOVES' 'poisson' 'lin|lin' --seed 3 --kl_beta 0.8 --n_latents 256 --comment k256-b0.8\"</span>,\n",
       "        <span style=\"color: #008000; text-decoration-color: #008000\">\"./fit_vae.sh '2' 'DOVES' 'poisson' 'lin|lin' --seed 4 --kl_beta 0.8 --n_latents 256 --comment k256-b0.8\"</span>,\n",
       "        <span style=\"color: #008000; text-decoration-color: #008000\">\"./fit_vae.sh '2' 'DOVES' 'poisson' 'lin|lin' --seed 5 --kl_beta 0.8 --n_latents 256 --comment k256-b0.8\"</span>,\n",
       "        <span style=\"color: #008000; text-decoration-color: #008000\">\"./fit_vae.sh '2' 'DOVES' 'poisson' 'lin|lin' --seed 1 --kl_beta 0.8 --n_latents 512 --comment k512-b0.8\"</span>,\n",
       "        <span style=\"color: #008000; text-decoration-color: #008000\">\"./fit_vae.sh '2' 'DOVES' 'poisson' 'lin|lin' --seed 2 --kl_beta 0.8 --n_latents 512 --comment k512-b0.8\"</span>,\n",
       "        <span style=\"color: #008000; text-decoration-color: #008000\">\"./fit_vae.sh '2' 'DOVES' 'poisson' 'lin|lin' --seed 3 --kl_beta 0.8 --n_latents 512 --comment k512-b0.8\"</span>,\n",
       "        <span style=\"color: #008000; text-decoration-color: #008000\">\"./fit_vae.sh '2' 'DOVES' 'poisson' 'lin|lin' --seed 4 --kl_beta 0.8 --n_latents 512 --comment k512-b0.8\"</span>,\n",
       "        <span style=\"color: #008000; text-decoration-color: #008000\">\"./fit_vae.sh '2' 'DOVES' 'poisson' 'lin|lin' --seed 5 --kl_beta 0.8 --n_latents 512 --comment k512-b0.8\"</span>,\n",
       "        <span style=\"color: #008000; text-decoration-color: #008000\">\"./fit_vae.sh '2' 'DOVES' 'poisson' 'lin|lin' --seed 1 --kl_beta 0.8 --n_latents 768 --comment k768-b0.8\"</span>,\n",
       "        <span style=\"color: #008000; text-decoration-color: #008000\">\"./fit_vae.sh '2' 'DOVES' 'poisson' 'lin|lin' --seed 2 --kl_beta 0.8 --n_latents 768 --comment k768-b0.8\"</span>,\n",
       "        <span style=\"color: #008000; text-decoration-color: #008000\">\"./fit_vae.sh '2' 'DOVES' 'poisson' 'lin|lin' --seed 3 --kl_beta 0.8 --n_latents 768 --comment k768-b0.8\"</span>,\n",
       "        <span style=\"color: #008000; text-decoration-color: #008000\">\"./fit_vae.sh '2' 'DOVES' 'poisson' 'lin|lin' --seed 4 --kl_beta 0.8 --n_latents 768 --comment k768-b0.8\"</span>,\n",
       "        <span style=\"color: #008000; text-decoration-color: #008000\">\"./fit_vae.sh '2' 'DOVES' 'poisson' 'lin|lin' --seed 5 --kl_beta 0.8 --n_latents 768 --comment k768-b0.8\"</span>,\n",
       "        <span style=\"color: #008000; text-decoration-color: #008000\">\"./fit_vae.sh '2' 'DOVES' 'poisson' 'lin|lin' --seed 1 --kl_beta 0.8 --n_latents 1024 --comment </span>\n",
       "<span style=\"color: #008000; text-decoration-color: #008000\">k1024-b0.8\"</span>,\n",
       "        <span style=\"color: #008000; text-decoration-color: #008000\">\"./fit_vae.sh '2' 'DOVES' 'poisson' 'lin|lin' --seed 2 --kl_beta 0.8 --n_latents 1024 --comment </span>\n",
       "<span style=\"color: #008000; text-decoration-color: #008000\">k1024-b0.8\"</span>,\n",
       "        <span style=\"color: #008000; text-decoration-color: #008000\">\"./fit_vae.sh '2' 'DOVES' 'poisson' 'lin|lin' --seed 3 --kl_beta 0.8 --n_latents 1024 --comment </span>\n",
       "<span style=\"color: #008000; text-decoration-color: #008000\">k1024-b0.8\"</span>,\n",
       "        <span style=\"color: #008000; text-decoration-color: #008000\">\"./fit_vae.sh '2' 'DOVES' 'poisson' 'lin|lin' --seed 4 --kl_beta 0.8 --n_latents 1024 --comment </span>\n",
       "<span style=\"color: #008000; text-decoration-color: #008000\">k1024-b0.8\"</span>,\n",
       "        <span style=\"color: #008000; text-decoration-color: #008000\">\"./fit_vae.sh '2' 'DOVES' 'poisson' 'lin|lin' --seed 5 --kl_beta 0.8 --n_latents 1024 --comment </span>\n",
       "<span style=\"color: #008000; text-decoration-color: #008000\">k1024-b0.8\"</span>,\n",
       "        <span style=\"color: #008000; text-decoration-color: #008000\">\"./fit_vae.sh '2' 'DOVES' 'poisson' 'lin|lin' --seed 1 --kl_beta 1.0 --n_latents 256 --comment k256-b1\"</span>,\n",
       "        <span style=\"color: #008000; text-decoration-color: #008000\">\"./fit_vae.sh '2' 'DOVES' 'poisson' 'lin|lin' --seed 2 --kl_beta 1.0 --n_latents 256 --comment k256-b1\"</span>,\n",
       "        <span style=\"color: #008000; text-decoration-color: #008000\">\"./fit_vae.sh '2' 'DOVES' 'poisson' 'lin|lin' --seed 3 --kl_beta 1.0 --n_latents 256 --comment k256-b1\"</span>,\n",
       "        <span style=\"color: #008000; text-decoration-color: #008000\">\"./fit_vae.sh '2' 'DOVES' 'poisson' 'lin|lin' --seed 4 --kl_beta 1.0 --n_latents 256 --comment k256-b1\"</span>,\n",
       "        <span style=\"color: #008000; text-decoration-color: #008000\">\"./fit_vae.sh '2' 'DOVES' 'poisson' 'lin|lin' --seed 5 --kl_beta 1.0 --n_latents 256 --comment k256-b1\"</span>,\n",
       "        <span style=\"color: #008000; text-decoration-color: #008000\">\"./fit_vae.sh '2' 'DOVES' 'poisson' 'lin|lin' --seed 1 --kl_beta 1.0 --n_latents 768 --comment k768-b1\"</span>,\n",
       "        <span style=\"color: #008000; text-decoration-color: #008000\">\"./fit_vae.sh '2' 'DOVES' 'poisson' 'lin|lin' --seed 2 --kl_beta 1.0 --n_latents 768 --comment k768-b1\"</span>,\n",
       "        <span style=\"color: #008000; text-decoration-color: #008000\">\"./fit_vae.sh '2' 'DOVES' 'poisson' 'lin|lin' --seed 3 --kl_beta 1.0 --n_latents 768 --comment k768-b1\"</span>,\n",
       "        <span style=\"color: #008000; text-decoration-color: #008000\">\"./fit_vae.sh '2' 'DOVES' 'poisson' 'lin|lin' --seed 4 --kl_beta 1.0 --n_latents 768 --comment k768-b1\"</span>,\n",
       "        <span style=\"color: #008000; text-decoration-color: #008000\">\"./fit_vae.sh '2' 'DOVES' 'poisson' 'lin|lin' --seed 5 --kl_beta 1.0 --n_latents 768 --comment k768-b1\"</span>,\n",
       "        <span style=\"color: #008000; text-decoration-color: #008000\">\"./fit_vae.sh '2' 'DOVES' 'poisson' 'lin|lin' --seed 1 --kl_beta 1.0 --n_latents 1024 --comment k1024-b1\"</span>,\n",
       "        <span style=\"color: #008000; text-decoration-color: #008000\">\"./fit_vae.sh '2' 'DOVES' 'poisson' 'lin|lin' --seed 2 --kl_beta 1.0 --n_latents 1024 --comment k1024-b1\"</span>,\n",
       "        <span style=\"color: #008000; text-decoration-color: #008000\">\"./fit_vae.sh '2' 'DOVES' 'poisson' 'lin|lin' --seed 3 --kl_beta 1.0 --n_latents 1024 --comment k1024-b1\"</span>,\n",
       "        <span style=\"color: #008000; text-decoration-color: #008000\">\"./fit_vae.sh '2' 'DOVES' 'poisson' 'lin|lin' --seed 4 --kl_beta 1.0 --n_latents 1024 --comment k1024-b1\"</span>,\n",
       "        <span style=\"color: #008000; text-decoration-color: #008000\">\"./fit_vae.sh '2' 'DOVES' 'poisson' 'lin|lin' --seed 5 --kl_beta 1.0 --n_latents 1024 --comment k1024-b1\"</span>\n",
       "    <span style=\"font-weight: bold\">]</span>,\n",
       "    <span style=\"color: #008080; text-decoration-color: #008080; font-weight: bold\">3</span>: <span style=\"font-weight: bold\">[</span>\n",
       "        <span style=\"color: #008000; text-decoration-color: #008000\">\"./fit_vae.sh '3' 'DOVES' 'poisson' 'lin|lin' --seed 1 --kl_beta 1.5 --n_latents 256 --comment k256-b1.5\"</span>,\n",
       "        <span style=\"color: #008000; text-decoration-color: #008000\">\"./fit_vae.sh '3' 'DOVES' 'poisson' 'lin|lin' --seed 2 --kl_beta 1.5 --n_latents 256 --comment k256-b1.5\"</span>,\n",
       "        <span style=\"color: #008000; text-decoration-color: #008000\">\"./fit_vae.sh '3' 'DOVES' 'poisson' 'lin|lin' --seed 3 --kl_beta 1.5 --n_latents 256 --comment k256-b1.5\"</span>,\n",
       "        <span style=\"color: #008000; text-decoration-color: #008000\">\"./fit_vae.sh '3' 'DOVES' 'poisson' 'lin|lin' --seed 4 --kl_beta 1.5 --n_latents 256 --comment k256-b1.5\"</span>,\n",
       "        <span style=\"color: #008000; text-decoration-color: #008000\">\"./fit_vae.sh '3' 'DOVES' 'poisson' 'lin|lin' --seed 5 --kl_beta 1.5 --n_latents 256 --comment k256-b1.5\"</span>,\n",
       "        <span style=\"color: #008000; text-decoration-color: #008000\">\"./fit_vae.sh '3' 'DOVES' 'poisson' 'lin|lin' --seed 1 --kl_beta 1.5 --n_latents 512 --comment k512-b1.5\"</span>,\n",
       "        <span style=\"color: #008000; text-decoration-color: #008000\">\"./fit_vae.sh '3' 'DOVES' 'poisson' 'lin|lin' --seed 2 --kl_beta 1.5 --n_latents 512 --comment k512-b1.5\"</span>,\n",
       "        <span style=\"color: #008000; text-decoration-color: #008000\">\"./fit_vae.sh '3' 'DOVES' 'poisson' 'lin|lin' --seed 3 --kl_beta 1.5 --n_latents 512 --comment k512-b1.5\"</span>,\n",
       "        <span style=\"color: #008000; text-decoration-color: #008000\">\"./fit_vae.sh '3' 'DOVES' 'poisson' 'lin|lin' --seed 4 --kl_beta 1.5 --n_latents 512 --comment k512-b1.5\"</span>,\n",
       "        <span style=\"color: #008000; text-decoration-color: #008000\">\"./fit_vae.sh '3' 'DOVES' 'poisson' 'lin|lin' --seed 5 --kl_beta 1.5 --n_latents 512 --comment k512-b1.5\"</span>,\n",
       "        <span style=\"color: #008000; text-decoration-color: #008000\">\"./fit_vae.sh '3' 'DOVES' 'poisson' 'lin|lin' --seed 1 --kl_beta 1.5 --n_latents 768 --comment k768-b1.5\"</span>,\n",
       "        <span style=\"color: #008000; text-decoration-color: #008000\">\"./fit_vae.sh '3' 'DOVES' 'poisson' 'lin|lin' --seed 2 --kl_beta 1.5 --n_latents 768 --comment k768-b1.5\"</span>,\n",
       "        <span style=\"color: #008000; text-decoration-color: #008000\">\"./fit_vae.sh '3' 'DOVES' 'poisson' 'lin|lin' --seed 3 --kl_beta 1.5 --n_latents 768 --comment k768-b1.5\"</span>,\n",
       "        <span style=\"color: #008000; text-decoration-color: #008000\">\"./fit_vae.sh '3' 'DOVES' 'poisson' 'lin|lin' --seed 4 --kl_beta 1.5 --n_latents 768 --comment k768-b1.5\"</span>,\n",
       "        <span style=\"color: #008000; text-decoration-color: #008000\">\"./fit_vae.sh '3' 'DOVES' 'poisson' 'lin|lin' --seed 5 --kl_beta 1.5 --n_latents 768 --comment k768-b1.5\"</span>,\n",
       "        <span style=\"color: #008000; text-decoration-color: #008000\">\"./fit_vae.sh '3' 'DOVES' 'poisson' 'lin|lin' --seed 1 --kl_beta 1.5 --n_latents 1024 --comment </span>\n",
       "<span style=\"color: #008000; text-decoration-color: #008000\">k1024-b1.5\"</span>,\n",
       "        <span style=\"color: #008000; text-decoration-color: #008000\">\"./fit_vae.sh '3' 'DOVES' 'poisson' 'lin|lin' --seed 2 --kl_beta 1.5 --n_latents 1024 --comment </span>\n",
       "<span style=\"color: #008000; text-decoration-color: #008000\">k1024-b1.5\"</span>,\n",
       "        <span style=\"color: #008000; text-decoration-color: #008000\">\"./fit_vae.sh '3' 'DOVES' 'poisson' 'lin|lin' --seed 3 --kl_beta 1.5 --n_latents 1024 --comment </span>\n",
       "<span style=\"color: #008000; text-decoration-color: #008000\">k1024-b1.5\"</span>,\n",
       "        <span style=\"color: #008000; text-decoration-color: #008000\">\"./fit_vae.sh '3' 'DOVES' 'poisson' 'lin|lin' --seed 4 --kl_beta 1.5 --n_latents 1024 --comment </span>\n",
       "<span style=\"color: #008000; text-decoration-color: #008000\">k1024-b1.5\"</span>,\n",
       "        <span style=\"color: #008000; text-decoration-color: #008000\">\"./fit_vae.sh '3' 'DOVES' 'poisson' 'lin|lin' --seed 5 --kl_beta 1.5 --n_latents 1024 --comment </span>\n",
       "<span style=\"color: #008000; text-decoration-color: #008000\">k1024-b1.5\"</span>,\n",
       "        <span style=\"color: #008000; text-decoration-color: #008000\">\"./fit_vae.sh '3' 'DOVES' 'poisson' 'lin|lin' --seed 1 --kl_beta 4.0 --n_latents 256 --comment k256-b4\"</span>,\n",
       "        <span style=\"color: #008000; text-decoration-color: #008000\">\"./fit_vae.sh '3' 'DOVES' 'poisson' 'lin|lin' --seed 2 --kl_beta 4.0 --n_latents 256 --comment k256-b4\"</span>,\n",
       "        <span style=\"color: #008000; text-decoration-color: #008000\">\"./fit_vae.sh '3' 'DOVES' 'poisson' 'lin|lin' --seed 3 --kl_beta 4.0 --n_latents 256 --comment k256-b4\"</span>,\n",
       "        <span style=\"color: #008000; text-decoration-color: #008000\">\"./fit_vae.sh '3' 'DOVES' 'poisson' 'lin|lin' --seed 4 --kl_beta 4.0 --n_latents 256 --comment k256-b4\"</span>,\n",
       "        <span style=\"color: #008000; text-decoration-color: #008000\">\"./fit_vae.sh '3' 'DOVES' 'poisson' 'lin|lin' --seed 5 --kl_beta 4.0 --n_latents 256 --comment k256-b4\"</span>,\n",
       "        <span style=\"color: #008000; text-decoration-color: #008000\">\"./fit_vae.sh '3' 'DOVES' 'poisson' 'lin|lin' --seed 1 --kl_beta 4.0 --n_latents 512 --comment k512-b4\"</span>,\n",
       "        <span style=\"color: #008000; text-decoration-color: #008000\">\"./fit_vae.sh '3' 'DOVES' 'poisson' 'lin|lin' --seed 2 --kl_beta 4.0 --n_latents 512 --comment k512-b4\"</span>,\n",
       "        <span style=\"color: #008000; text-decoration-color: #008000\">\"./fit_vae.sh '3' 'DOVES' 'poisson' 'lin|lin' --seed 3 --kl_beta 4.0 --n_latents 512 --comment k512-b4\"</span>,\n",
       "        <span style=\"color: #008000; text-decoration-color: #008000\">\"./fit_vae.sh '3' 'DOVES' 'poisson' 'lin|lin' --seed 4 --kl_beta 4.0 --n_latents 512 --comment k512-b4\"</span>,\n",
       "        <span style=\"color: #008000; text-decoration-color: #008000\">\"./fit_vae.sh '3' 'DOVES' 'poisson' 'lin|lin' --seed 5 --kl_beta 4.0 --n_latents 512 --comment k512-b4\"</span>,\n",
       "        <span style=\"color: #008000; text-decoration-color: #008000\">\"./fit_vae.sh '3' 'DOVES' 'poisson' 'lin|lin' --seed 1 --kl_beta 4.0 --n_latents 768 --comment k768-b4\"</span>,\n",
       "        <span style=\"color: #008000; text-decoration-color: #008000\">\"./fit_vae.sh '3' 'DOVES' 'poisson' 'lin|lin' --seed 2 --kl_beta 4.0 --n_latents 768 --comment k768-b4\"</span>,\n",
       "        <span style=\"color: #008000; text-decoration-color: #008000\">\"./fit_vae.sh '3' 'DOVES' 'poisson' 'lin|lin' --seed 3 --kl_beta 4.0 --n_latents 768 --comment k768-b4\"</span>,\n",
       "        <span style=\"color: #008000; text-decoration-color: #008000\">\"./fit_vae.sh '3' 'DOVES' 'poisson' 'lin|lin' --seed 4 --kl_beta 4.0 --n_latents 768 --comment k768-b4\"</span>,\n",
       "        <span style=\"color: #008000; text-decoration-color: #008000\">\"./fit_vae.sh '3' 'DOVES' 'poisson' 'lin|lin' --seed 5 --kl_beta 4.0 --n_latents 768 --comment k768-b4\"</span>,\n",
       "        <span style=\"color: #008000; text-decoration-color: #008000\">\"./fit_vae.sh '3' 'DOVES' 'poisson' 'lin|lin' --seed 1 --kl_beta 4.0 --n_latents 1024 --comment k1024-b4\"</span>,\n",
       "        <span style=\"color: #008000; text-decoration-color: #008000\">\"./fit_vae.sh '3' 'DOVES' 'poisson' 'lin|lin' --seed 2 --kl_beta 4.0 --n_latents 1024 --comment k1024-b4\"</span>,\n",
       "        <span style=\"color: #008000; text-decoration-color: #008000\">\"./fit_vae.sh '3' 'DOVES' 'poisson' 'lin|lin' --seed 3 --kl_beta 4.0 --n_latents 1024 --comment k1024-b4\"</span>,\n",
       "        <span style=\"color: #008000; text-decoration-color: #008000\">\"./fit_vae.sh '3' 'DOVES' 'poisson' 'lin|lin' --seed 4 --kl_beta 4.0 --n_latents 1024 --comment k1024-b4\"</span>,\n",
       "        <span style=\"color: #008000; text-decoration-color: #008000\">\"./fit_vae.sh '3' 'DOVES' 'poisson' 'lin|lin' --seed 5 --kl_beta 4.0 --n_latents 1024 --comment k1024-b4\"</span>\n",
       "    <span style=\"font-weight: bold\">]</span>\n",
       "<span style=\"font-weight: bold\">}</span>\n",
       "</pre>\n"
      ],
      "text/plain": [
       "\u001b[1m{\u001b[0m\n",
       "    \u001b[1;36m0\u001b[0m: \u001b[1m[\u001b[0m\n",
       "        \u001b[32m\"./fit_vae.sh '0' 'DOVES' 'poisson' 'lin|lin' --seed 1 --kl_beta 0.01 --n_latents 256 --comment \u001b[0m\n",
       "\u001b[32mk256-b0.01\"\u001b[0m,\n",
       "        \u001b[32m\"./fit_vae.sh '0' 'DOVES' 'poisson' 'lin|lin' --seed 2 --kl_beta 0.01 --n_latents 256 --comment \u001b[0m\n",
       "\u001b[32mk256-b0.01\"\u001b[0m,\n",
       "        \u001b[32m\"./fit_vae.sh '0' 'DOVES' 'poisson' 'lin|lin' --seed 3 --kl_beta 0.01 --n_latents 256 --comment \u001b[0m\n",
       "\u001b[32mk256-b0.01\"\u001b[0m,\n",
       "        \u001b[32m\"./fit_vae.sh '0' 'DOVES' 'poisson' 'lin|lin' --seed 4 --kl_beta 0.01 --n_latents 256 --comment \u001b[0m\n",
       "\u001b[32mk256-b0.01\"\u001b[0m,\n",
       "        \u001b[32m\"./fit_vae.sh '0' 'DOVES' 'poisson' 'lin|lin' --seed 5 --kl_beta 0.01 --n_latents 256 --comment \u001b[0m\n",
       "\u001b[32mk256-b0.01\"\u001b[0m,\n",
       "        \u001b[32m\"./fit_vae.sh '0' 'DOVES' 'poisson' 'lin|lin' --seed 1 --kl_beta 0.01 --n_latents 512 --comment \u001b[0m\n",
       "\u001b[32mk512-b0.01\"\u001b[0m,\n",
       "        \u001b[32m\"./fit_vae.sh '0' 'DOVES' 'poisson' 'lin|lin' --seed 2 --kl_beta 0.01 --n_latents 512 --comment \u001b[0m\n",
       "\u001b[32mk512-b0.01\"\u001b[0m,\n",
       "        \u001b[32m\"./fit_vae.sh '0' 'DOVES' 'poisson' 'lin|lin' --seed 3 --kl_beta 0.01 --n_latents 512 --comment \u001b[0m\n",
       "\u001b[32mk512-b0.01\"\u001b[0m,\n",
       "        \u001b[32m\"./fit_vae.sh '0' 'DOVES' 'poisson' 'lin|lin' --seed 4 --kl_beta 0.01 --n_latents 512 --comment \u001b[0m\n",
       "\u001b[32mk512-b0.01\"\u001b[0m,\n",
       "        \u001b[32m\"./fit_vae.sh '0' 'DOVES' 'poisson' 'lin|lin' --seed 5 --kl_beta 0.01 --n_latents 512 --comment \u001b[0m\n",
       "\u001b[32mk512-b0.01\"\u001b[0m,\n",
       "        \u001b[32m\"./fit_vae.sh '0' 'DOVES' 'poisson' 'lin|lin' --seed 1 --kl_beta 0.01 --n_latents 768 --comment \u001b[0m\n",
       "\u001b[32mk768-b0.01\"\u001b[0m,\n",
       "        \u001b[32m\"./fit_vae.sh '0' 'DOVES' 'poisson' 'lin|lin' --seed 2 --kl_beta 0.01 --n_latents 768 --comment \u001b[0m\n",
       "\u001b[32mk768-b0.01\"\u001b[0m,\n",
       "        \u001b[32m\"./fit_vae.sh '0' 'DOVES' 'poisson' 'lin|lin' --seed 3 --kl_beta 0.01 --n_latents 768 --comment \u001b[0m\n",
       "\u001b[32mk768-b0.01\"\u001b[0m,\n",
       "        \u001b[32m\"./fit_vae.sh '0' 'DOVES' 'poisson' 'lin|lin' --seed 4 --kl_beta 0.01 --n_latents 768 --comment \u001b[0m\n",
       "\u001b[32mk768-b0.01\"\u001b[0m,\n",
       "        \u001b[32m\"./fit_vae.sh '0' 'DOVES' 'poisson' 'lin|lin' --seed 5 --kl_beta 0.01 --n_latents 768 --comment \u001b[0m\n",
       "\u001b[32mk768-b0.01\"\u001b[0m,\n",
       "        \u001b[32m\"./fit_vae.sh '0' 'DOVES' 'poisson' 'lin|lin' --seed 1 --kl_beta 0.01 --n_latents 1024 --comment \u001b[0m\n",
       "\u001b[32mk1024-b0.01\"\u001b[0m,\n",
       "        \u001b[32m\"./fit_vae.sh '0' 'DOVES' 'poisson' 'lin|lin' --seed 2 --kl_beta 0.01 --n_latents 1024 --comment \u001b[0m\n",
       "\u001b[32mk1024-b0.01\"\u001b[0m,\n",
       "        \u001b[32m\"./fit_vae.sh '0' 'DOVES' 'poisson' 'lin|lin' --seed 3 --kl_beta 0.01 --n_latents 1024 --comment \u001b[0m\n",
       "\u001b[32mk1024-b0.01\"\u001b[0m,\n",
       "        \u001b[32m\"./fit_vae.sh '0' 'DOVES' 'poisson' 'lin|lin' --seed 4 --kl_beta 0.01 --n_latents 1024 --comment \u001b[0m\n",
       "\u001b[32mk1024-b0.01\"\u001b[0m,\n",
       "        \u001b[32m\"./fit_vae.sh '0' 'DOVES' 'poisson' 'lin|lin' --seed 5 --kl_beta 0.01 --n_latents 1024 --comment \u001b[0m\n",
       "\u001b[32mk1024-b0.01\"\u001b[0m,\n",
       "        \u001b[32m\"./fit_vae.sh '0' 'DOVES' 'poisson' 'lin|lin' --seed 1 --kl_beta 0.2 --n_latents 256 --comment k256-b0.2\"\u001b[0m,\n",
       "        \u001b[32m\"./fit_vae.sh '0' 'DOVES' 'poisson' 'lin|lin' --seed 2 --kl_beta 0.2 --n_latents 256 --comment k256-b0.2\"\u001b[0m,\n",
       "        \u001b[32m\"./fit_vae.sh '0' 'DOVES' 'poisson' 'lin|lin' --seed 3 --kl_beta 0.2 --n_latents 256 --comment k256-b0.2\"\u001b[0m,\n",
       "        \u001b[32m\"./fit_vae.sh '0' 'DOVES' 'poisson' 'lin|lin' --seed 4 --kl_beta 0.2 --n_latents 256 --comment k256-b0.2\"\u001b[0m,\n",
       "        \u001b[32m\"./fit_vae.sh '0' 'DOVES' 'poisson' 'lin|lin' --seed 5 --kl_beta 0.2 --n_latents 256 --comment k256-b0.2\"\u001b[0m,\n",
       "        \u001b[32m\"./fit_vae.sh '0' 'DOVES' 'poisson' 'lin|lin' --seed 1 --kl_beta 0.2 --n_latents 512 --comment k512-b0.2\"\u001b[0m,\n",
       "        \u001b[32m\"./fit_vae.sh '0' 'DOVES' 'poisson' 'lin|lin' --seed 2 --kl_beta 0.2 --n_latents 512 --comment k512-b0.2\"\u001b[0m,\n",
       "        \u001b[32m\"./fit_vae.sh '0' 'DOVES' 'poisson' 'lin|lin' --seed 3 --kl_beta 0.2 --n_latents 512 --comment k512-b0.2\"\u001b[0m,\n",
       "        \u001b[32m\"./fit_vae.sh '0' 'DOVES' 'poisson' 'lin|lin' --seed 4 --kl_beta 0.2 --n_latents 512 --comment k512-b0.2\"\u001b[0m,\n",
       "        \u001b[32m\"./fit_vae.sh '0' 'DOVES' 'poisson' 'lin|lin' --seed 5 --kl_beta 0.2 --n_latents 512 --comment k512-b0.2\"\u001b[0m,\n",
       "        \u001b[32m\"./fit_vae.sh '0' 'DOVES' 'poisson' 'lin|lin' --seed 1 --kl_beta 0.2 --n_latents 768 --comment k768-b0.2\"\u001b[0m,\n",
       "        \u001b[32m\"./fit_vae.sh '0' 'DOVES' 'poisson' 'lin|lin' --seed 2 --kl_beta 0.2 --n_latents 768 --comment k768-b0.2\"\u001b[0m,\n",
       "        \u001b[32m\"./fit_vae.sh '0' 'DOVES' 'poisson' 'lin|lin' --seed 3 --kl_beta 0.2 --n_latents 768 --comment k768-b0.2\"\u001b[0m,\n",
       "        \u001b[32m\"./fit_vae.sh '0' 'DOVES' 'poisson' 'lin|lin' --seed 4 --kl_beta 0.2 --n_latents 768 --comment k768-b0.2\"\u001b[0m,\n",
       "        \u001b[32m\"./fit_vae.sh '0' 'DOVES' 'poisson' 'lin|lin' --seed 5 --kl_beta 0.2 --n_latents 768 --comment k768-b0.2\"\u001b[0m,\n",
       "        \u001b[32m\"./fit_vae.sh '0' 'DOVES' 'poisson' 'lin|lin' --seed 1 --kl_beta 0.2 --n_latents 1024 --comment \u001b[0m\n",
       "\u001b[32mk1024-b0.2\"\u001b[0m,\n",
       "        \u001b[32m\"./fit_vae.sh '0' 'DOVES' 'poisson' 'lin|lin' --seed 2 --kl_beta 0.2 --n_latents 1024 --comment \u001b[0m\n",
       "\u001b[32mk1024-b0.2\"\u001b[0m,\n",
       "        \u001b[32m\"./fit_vae.sh '0' 'DOVES' 'poisson' 'lin|lin' --seed 3 --kl_beta 0.2 --n_latents 1024 --comment \u001b[0m\n",
       "\u001b[32mk1024-b0.2\"\u001b[0m,\n",
       "        \u001b[32m\"./fit_vae.sh '0' 'DOVES' 'poisson' 'lin|lin' --seed 4 --kl_beta 0.2 --n_latents 1024 --comment \u001b[0m\n",
       "\u001b[32mk1024-b0.2\"\u001b[0m,\n",
       "        \u001b[32m\"./fit_vae.sh '0' 'DOVES' 'poisson' 'lin|lin' --seed 5 --kl_beta 0.2 --n_latents 1024 --comment k1024-b0.2\"\u001b[0m\n",
       "    \u001b[1m]\u001b[0m,\n",
       "    \u001b[1;36m1\u001b[0m: \u001b[1m[\u001b[0m\n",
       "        \u001b[32m\"./fit_vae.sh '1' 'DOVES' 'poisson' 'lin|lin' --seed 1 --kl_beta 0.4 --n_latents 256 --comment k256-b0.4\"\u001b[0m,\n",
       "        \u001b[32m\"./fit_vae.sh '1' 'DOVES' 'poisson' 'lin|lin' --seed 2 --kl_beta 0.4 --n_latents 256 --comment k256-b0.4\"\u001b[0m,\n",
       "        \u001b[32m\"./fit_vae.sh '1' 'DOVES' 'poisson' 'lin|lin' --seed 3 --kl_beta 0.4 --n_latents 256 --comment k256-b0.4\"\u001b[0m,\n",
       "        \u001b[32m\"./fit_vae.sh '1' 'DOVES' 'poisson' 'lin|lin' --seed 4 --kl_beta 0.4 --n_latents 256 --comment k256-b0.4\"\u001b[0m,\n",
       "        \u001b[32m\"./fit_vae.sh '1' 'DOVES' 'poisson' 'lin|lin' --seed 5 --kl_beta 0.4 --n_latents 256 --comment k256-b0.4\"\u001b[0m,\n",
       "        \u001b[32m\"./fit_vae.sh '1' 'DOVES' 'poisson' 'lin|lin' --seed 1 --kl_beta 0.4 --n_latents 512 --comment k512-b0.4\"\u001b[0m,\n",
       "        \u001b[32m\"./fit_vae.sh '1' 'DOVES' 'poisson' 'lin|lin' --seed 2 --kl_beta 0.4 --n_latents 512 --comment k512-b0.4\"\u001b[0m,\n",
       "        \u001b[32m\"./fit_vae.sh '1' 'DOVES' 'poisson' 'lin|lin' --seed 3 --kl_beta 0.4 --n_latents 512 --comment k512-b0.4\"\u001b[0m,\n",
       "        \u001b[32m\"./fit_vae.sh '1' 'DOVES' 'poisson' 'lin|lin' --seed 4 --kl_beta 0.4 --n_latents 512 --comment k512-b0.4\"\u001b[0m,\n",
       "        \u001b[32m\"./fit_vae.sh '1' 'DOVES' 'poisson' 'lin|lin' --seed 5 --kl_beta 0.4 --n_latents 512 --comment k512-b0.4\"\u001b[0m,\n",
       "        \u001b[32m\"./fit_vae.sh '1' 'DOVES' 'poisson' 'lin|lin' --seed 1 --kl_beta 0.4 --n_latents 768 --comment k768-b0.4\"\u001b[0m,\n",
       "        \u001b[32m\"./fit_vae.sh '1' 'DOVES' 'poisson' 'lin|lin' --seed 2 --kl_beta 0.4 --n_latents 768 --comment k768-b0.4\"\u001b[0m,\n",
       "        \u001b[32m\"./fit_vae.sh '1' 'DOVES' 'poisson' 'lin|lin' --seed 3 --kl_beta 0.4 --n_latents 768 --comment k768-b0.4\"\u001b[0m,\n",
       "        \u001b[32m\"./fit_vae.sh '1' 'DOVES' 'poisson' 'lin|lin' --seed 4 --kl_beta 0.4 --n_latents 768 --comment k768-b0.4\"\u001b[0m,\n",
       "        \u001b[32m\"./fit_vae.sh '1' 'DOVES' 'poisson' 'lin|lin' --seed 5 --kl_beta 0.4 --n_latents 768 --comment k768-b0.4\"\u001b[0m,\n",
       "        \u001b[32m\"./fit_vae.sh '1' 'DOVES' 'poisson' 'lin|lin' --seed 1 --kl_beta 0.4 --n_latents 1024 --comment \u001b[0m\n",
       "\u001b[32mk1024-b0.4\"\u001b[0m,\n",
       "        \u001b[32m\"./fit_vae.sh '1' 'DOVES' 'poisson' 'lin|lin' --seed 2 --kl_beta 0.4 --n_latents 1024 --comment \u001b[0m\n",
       "\u001b[32mk1024-b0.4\"\u001b[0m,\n",
       "        \u001b[32m\"./fit_vae.sh '1' 'DOVES' 'poisson' 'lin|lin' --seed 3 --kl_beta 0.4 --n_latents 1024 --comment \u001b[0m\n",
       "\u001b[32mk1024-b0.4\"\u001b[0m,\n",
       "        \u001b[32m\"./fit_vae.sh '1' 'DOVES' 'poisson' 'lin|lin' --seed 4 --kl_beta 0.4 --n_latents 1024 --comment \u001b[0m\n",
       "\u001b[32mk1024-b0.4\"\u001b[0m,\n",
       "        \u001b[32m\"./fit_vae.sh '1' 'DOVES' 'poisson' 'lin|lin' --seed 5 --kl_beta 0.4 --n_latents 1024 --comment \u001b[0m\n",
       "\u001b[32mk1024-b0.4\"\u001b[0m,\n",
       "        \u001b[32m\"./fit_vae.sh '1' 'DOVES' 'poisson' 'lin|lin' --seed 1 --kl_beta 0.6 --n_latents 256 --comment k256-b0.6\"\u001b[0m,\n",
       "        \u001b[32m\"./fit_vae.sh '1' 'DOVES' 'poisson' 'lin|lin' --seed 2 --kl_beta 0.6 --n_latents 256 --comment k256-b0.6\"\u001b[0m,\n",
       "        \u001b[32m\"./fit_vae.sh '1' 'DOVES' 'poisson' 'lin|lin' --seed 3 --kl_beta 0.6 --n_latents 256 --comment k256-b0.6\"\u001b[0m,\n",
       "        \u001b[32m\"./fit_vae.sh '1' 'DOVES' 'poisson' 'lin|lin' --seed 4 --kl_beta 0.6 --n_latents 256 --comment k256-b0.6\"\u001b[0m,\n",
       "        \u001b[32m\"./fit_vae.sh '1' 'DOVES' 'poisson' 'lin|lin' --seed 5 --kl_beta 0.6 --n_latents 256 --comment k256-b0.6\"\u001b[0m,\n",
       "        \u001b[32m\"./fit_vae.sh '1' 'DOVES' 'poisson' 'lin|lin' --seed 1 --kl_beta 0.6 --n_latents 512 --comment k512-b0.6\"\u001b[0m,\n",
       "        \u001b[32m\"./fit_vae.sh '1' 'DOVES' 'poisson' 'lin|lin' --seed 2 --kl_beta 0.6 --n_latents 512 --comment k512-b0.6\"\u001b[0m,\n",
       "        \u001b[32m\"./fit_vae.sh '1' 'DOVES' 'poisson' 'lin|lin' --seed 3 --kl_beta 0.6 --n_latents 512 --comment k512-b0.6\"\u001b[0m,\n",
       "        \u001b[32m\"./fit_vae.sh '1' 'DOVES' 'poisson' 'lin|lin' --seed 4 --kl_beta 0.6 --n_latents 512 --comment k512-b0.6\"\u001b[0m,\n",
       "        \u001b[32m\"./fit_vae.sh '1' 'DOVES' 'poisson' 'lin|lin' --seed 5 --kl_beta 0.6 --n_latents 512 --comment k512-b0.6\"\u001b[0m,\n",
       "        \u001b[32m\"./fit_vae.sh '1' 'DOVES' 'poisson' 'lin|lin' --seed 1 --kl_beta 0.6 --n_latents 768 --comment k768-b0.6\"\u001b[0m,\n",
       "        \u001b[32m\"./fit_vae.sh '1' 'DOVES' 'poisson' 'lin|lin' --seed 2 --kl_beta 0.6 --n_latents 768 --comment k768-b0.6\"\u001b[0m,\n",
       "        \u001b[32m\"./fit_vae.sh '1' 'DOVES' 'poisson' 'lin|lin' --seed 3 --kl_beta 0.6 --n_latents 768 --comment k768-b0.6\"\u001b[0m,\n",
       "        \u001b[32m\"./fit_vae.sh '1' 'DOVES' 'poisson' 'lin|lin' --seed 4 --kl_beta 0.6 --n_latents 768 --comment k768-b0.6\"\u001b[0m,\n",
       "        \u001b[32m\"./fit_vae.sh '1' 'DOVES' 'poisson' 'lin|lin' --seed 5 --kl_beta 0.6 --n_latents 768 --comment k768-b0.6\"\u001b[0m,\n",
       "        \u001b[32m\"./fit_vae.sh '1' 'DOVES' 'poisson' 'lin|lin' --seed 1 --kl_beta 0.6 --n_latents 1024 --comment \u001b[0m\n",
       "\u001b[32mk1024-b0.6\"\u001b[0m,\n",
       "        \u001b[32m\"./fit_vae.sh '1' 'DOVES' 'poisson' 'lin|lin' --seed 2 --kl_beta 0.6 --n_latents 1024 --comment \u001b[0m\n",
       "\u001b[32mk1024-b0.6\"\u001b[0m,\n",
       "        \u001b[32m\"./fit_vae.sh '1' 'DOVES' 'poisson' 'lin|lin' --seed 3 --kl_beta 0.6 --n_latents 1024 --comment \u001b[0m\n",
       "\u001b[32mk1024-b0.6\"\u001b[0m,\n",
       "        \u001b[32m\"./fit_vae.sh '1' 'DOVES' 'poisson' 'lin|lin' --seed 4 --kl_beta 0.6 --n_latents 1024 --comment \u001b[0m\n",
       "\u001b[32mk1024-b0.6\"\u001b[0m,\n",
       "        \u001b[32m\"./fit_vae.sh '1' 'DOVES' 'poisson' 'lin|lin' --seed 5 --kl_beta 0.6 --n_latents 1024 --comment k1024-b0.6\"\u001b[0m\n",
       "    \u001b[1m]\u001b[0m,\n",
       "    \u001b[1;36m2\u001b[0m: \u001b[1m[\u001b[0m\n",
       "        \u001b[32m\"./fit_vae.sh '2' 'DOVES' 'poisson' 'lin|lin' --seed 1 --kl_beta 0.8 --n_latents 256 --comment k256-b0.8\"\u001b[0m,\n",
       "        \u001b[32m\"./fit_vae.sh '2' 'DOVES' 'poisson' 'lin|lin' --seed 2 --kl_beta 0.8 --n_latents 256 --comment k256-b0.8\"\u001b[0m,\n",
       "        \u001b[32m\"./fit_vae.sh '2' 'DOVES' 'poisson' 'lin|lin' --seed 3 --kl_beta 0.8 --n_latents 256 --comment k256-b0.8\"\u001b[0m,\n",
       "        \u001b[32m\"./fit_vae.sh '2' 'DOVES' 'poisson' 'lin|lin' --seed 4 --kl_beta 0.8 --n_latents 256 --comment k256-b0.8\"\u001b[0m,\n",
       "        \u001b[32m\"./fit_vae.sh '2' 'DOVES' 'poisson' 'lin|lin' --seed 5 --kl_beta 0.8 --n_latents 256 --comment k256-b0.8\"\u001b[0m,\n",
       "        \u001b[32m\"./fit_vae.sh '2' 'DOVES' 'poisson' 'lin|lin' --seed 1 --kl_beta 0.8 --n_latents 512 --comment k512-b0.8\"\u001b[0m,\n",
       "        \u001b[32m\"./fit_vae.sh '2' 'DOVES' 'poisson' 'lin|lin' --seed 2 --kl_beta 0.8 --n_latents 512 --comment k512-b0.8\"\u001b[0m,\n",
       "        \u001b[32m\"./fit_vae.sh '2' 'DOVES' 'poisson' 'lin|lin' --seed 3 --kl_beta 0.8 --n_latents 512 --comment k512-b0.8\"\u001b[0m,\n",
       "        \u001b[32m\"./fit_vae.sh '2' 'DOVES' 'poisson' 'lin|lin' --seed 4 --kl_beta 0.8 --n_latents 512 --comment k512-b0.8\"\u001b[0m,\n",
       "        \u001b[32m\"./fit_vae.sh '2' 'DOVES' 'poisson' 'lin|lin' --seed 5 --kl_beta 0.8 --n_latents 512 --comment k512-b0.8\"\u001b[0m,\n",
       "        \u001b[32m\"./fit_vae.sh '2' 'DOVES' 'poisson' 'lin|lin' --seed 1 --kl_beta 0.8 --n_latents 768 --comment k768-b0.8\"\u001b[0m,\n",
       "        \u001b[32m\"./fit_vae.sh '2' 'DOVES' 'poisson' 'lin|lin' --seed 2 --kl_beta 0.8 --n_latents 768 --comment k768-b0.8\"\u001b[0m,\n",
       "        \u001b[32m\"./fit_vae.sh '2' 'DOVES' 'poisson' 'lin|lin' --seed 3 --kl_beta 0.8 --n_latents 768 --comment k768-b0.8\"\u001b[0m,\n",
       "        \u001b[32m\"./fit_vae.sh '2' 'DOVES' 'poisson' 'lin|lin' --seed 4 --kl_beta 0.8 --n_latents 768 --comment k768-b0.8\"\u001b[0m,\n",
       "        \u001b[32m\"./fit_vae.sh '2' 'DOVES' 'poisson' 'lin|lin' --seed 5 --kl_beta 0.8 --n_latents 768 --comment k768-b0.8\"\u001b[0m,\n",
       "        \u001b[32m\"./fit_vae.sh '2' 'DOVES' 'poisson' 'lin|lin' --seed 1 --kl_beta 0.8 --n_latents 1024 --comment \u001b[0m\n",
       "\u001b[32mk1024-b0.8\"\u001b[0m,\n",
       "        \u001b[32m\"./fit_vae.sh '2' 'DOVES' 'poisson' 'lin|lin' --seed 2 --kl_beta 0.8 --n_latents 1024 --comment \u001b[0m\n",
       "\u001b[32mk1024-b0.8\"\u001b[0m,\n",
       "        \u001b[32m\"./fit_vae.sh '2' 'DOVES' 'poisson' 'lin|lin' --seed 3 --kl_beta 0.8 --n_latents 1024 --comment \u001b[0m\n",
       "\u001b[32mk1024-b0.8\"\u001b[0m,\n",
       "        \u001b[32m\"./fit_vae.sh '2' 'DOVES' 'poisson' 'lin|lin' --seed 4 --kl_beta 0.8 --n_latents 1024 --comment \u001b[0m\n",
       "\u001b[32mk1024-b0.8\"\u001b[0m,\n",
       "        \u001b[32m\"./fit_vae.sh '2' 'DOVES' 'poisson' 'lin|lin' --seed 5 --kl_beta 0.8 --n_latents 1024 --comment \u001b[0m\n",
       "\u001b[32mk1024-b0.8\"\u001b[0m,\n",
       "        \u001b[32m\"./fit_vae.sh '2' 'DOVES' 'poisson' 'lin|lin' --seed 1 --kl_beta 1.0 --n_latents 256 --comment k256-b1\"\u001b[0m,\n",
       "        \u001b[32m\"./fit_vae.sh '2' 'DOVES' 'poisson' 'lin|lin' --seed 2 --kl_beta 1.0 --n_latents 256 --comment k256-b1\"\u001b[0m,\n",
       "        \u001b[32m\"./fit_vae.sh '2' 'DOVES' 'poisson' 'lin|lin' --seed 3 --kl_beta 1.0 --n_latents 256 --comment k256-b1\"\u001b[0m,\n",
       "        \u001b[32m\"./fit_vae.sh '2' 'DOVES' 'poisson' 'lin|lin' --seed 4 --kl_beta 1.0 --n_latents 256 --comment k256-b1\"\u001b[0m,\n",
       "        \u001b[32m\"./fit_vae.sh '2' 'DOVES' 'poisson' 'lin|lin' --seed 5 --kl_beta 1.0 --n_latents 256 --comment k256-b1\"\u001b[0m,\n",
       "        \u001b[32m\"./fit_vae.sh '2' 'DOVES' 'poisson' 'lin|lin' --seed 1 --kl_beta 1.0 --n_latents 768 --comment k768-b1\"\u001b[0m,\n",
       "        \u001b[32m\"./fit_vae.sh '2' 'DOVES' 'poisson' 'lin|lin' --seed 2 --kl_beta 1.0 --n_latents 768 --comment k768-b1\"\u001b[0m,\n",
       "        \u001b[32m\"./fit_vae.sh '2' 'DOVES' 'poisson' 'lin|lin' --seed 3 --kl_beta 1.0 --n_latents 768 --comment k768-b1\"\u001b[0m,\n",
       "        \u001b[32m\"./fit_vae.sh '2' 'DOVES' 'poisson' 'lin|lin' --seed 4 --kl_beta 1.0 --n_latents 768 --comment k768-b1\"\u001b[0m,\n",
       "        \u001b[32m\"./fit_vae.sh '2' 'DOVES' 'poisson' 'lin|lin' --seed 5 --kl_beta 1.0 --n_latents 768 --comment k768-b1\"\u001b[0m,\n",
       "        \u001b[32m\"./fit_vae.sh '2' 'DOVES' 'poisson' 'lin|lin' --seed 1 --kl_beta 1.0 --n_latents 1024 --comment k1024-b1\"\u001b[0m,\n",
       "        \u001b[32m\"./fit_vae.sh '2' 'DOVES' 'poisson' 'lin|lin' --seed 2 --kl_beta 1.0 --n_latents 1024 --comment k1024-b1\"\u001b[0m,\n",
       "        \u001b[32m\"./fit_vae.sh '2' 'DOVES' 'poisson' 'lin|lin' --seed 3 --kl_beta 1.0 --n_latents 1024 --comment k1024-b1\"\u001b[0m,\n",
       "        \u001b[32m\"./fit_vae.sh '2' 'DOVES' 'poisson' 'lin|lin' --seed 4 --kl_beta 1.0 --n_latents 1024 --comment k1024-b1\"\u001b[0m,\n",
       "        \u001b[32m\"./fit_vae.sh '2' 'DOVES' 'poisson' 'lin|lin' --seed 5 --kl_beta 1.0 --n_latents 1024 --comment k1024-b1\"\u001b[0m\n",
       "    \u001b[1m]\u001b[0m,\n",
       "    \u001b[1;36m3\u001b[0m: \u001b[1m[\u001b[0m\n",
       "        \u001b[32m\"./fit_vae.sh '3' 'DOVES' 'poisson' 'lin|lin' --seed 1 --kl_beta 1.5 --n_latents 256 --comment k256-b1.5\"\u001b[0m,\n",
       "        \u001b[32m\"./fit_vae.sh '3' 'DOVES' 'poisson' 'lin|lin' --seed 2 --kl_beta 1.5 --n_latents 256 --comment k256-b1.5\"\u001b[0m,\n",
       "        \u001b[32m\"./fit_vae.sh '3' 'DOVES' 'poisson' 'lin|lin' --seed 3 --kl_beta 1.5 --n_latents 256 --comment k256-b1.5\"\u001b[0m,\n",
       "        \u001b[32m\"./fit_vae.sh '3' 'DOVES' 'poisson' 'lin|lin' --seed 4 --kl_beta 1.5 --n_latents 256 --comment k256-b1.5\"\u001b[0m,\n",
       "        \u001b[32m\"./fit_vae.sh '3' 'DOVES' 'poisson' 'lin|lin' --seed 5 --kl_beta 1.5 --n_latents 256 --comment k256-b1.5\"\u001b[0m,\n",
       "        \u001b[32m\"./fit_vae.sh '3' 'DOVES' 'poisson' 'lin|lin' --seed 1 --kl_beta 1.5 --n_latents 512 --comment k512-b1.5\"\u001b[0m,\n",
       "        \u001b[32m\"./fit_vae.sh '3' 'DOVES' 'poisson' 'lin|lin' --seed 2 --kl_beta 1.5 --n_latents 512 --comment k512-b1.5\"\u001b[0m,\n",
       "        \u001b[32m\"./fit_vae.sh '3' 'DOVES' 'poisson' 'lin|lin' --seed 3 --kl_beta 1.5 --n_latents 512 --comment k512-b1.5\"\u001b[0m,\n",
       "        \u001b[32m\"./fit_vae.sh '3' 'DOVES' 'poisson' 'lin|lin' --seed 4 --kl_beta 1.5 --n_latents 512 --comment k512-b1.5\"\u001b[0m,\n",
       "        \u001b[32m\"./fit_vae.sh '3' 'DOVES' 'poisson' 'lin|lin' --seed 5 --kl_beta 1.5 --n_latents 512 --comment k512-b1.5\"\u001b[0m,\n",
       "        \u001b[32m\"./fit_vae.sh '3' 'DOVES' 'poisson' 'lin|lin' --seed 1 --kl_beta 1.5 --n_latents 768 --comment k768-b1.5\"\u001b[0m,\n",
       "        \u001b[32m\"./fit_vae.sh '3' 'DOVES' 'poisson' 'lin|lin' --seed 2 --kl_beta 1.5 --n_latents 768 --comment k768-b1.5\"\u001b[0m,\n",
       "        \u001b[32m\"./fit_vae.sh '3' 'DOVES' 'poisson' 'lin|lin' --seed 3 --kl_beta 1.5 --n_latents 768 --comment k768-b1.5\"\u001b[0m,\n",
       "        \u001b[32m\"./fit_vae.sh '3' 'DOVES' 'poisson' 'lin|lin' --seed 4 --kl_beta 1.5 --n_latents 768 --comment k768-b1.5\"\u001b[0m,\n",
       "        \u001b[32m\"./fit_vae.sh '3' 'DOVES' 'poisson' 'lin|lin' --seed 5 --kl_beta 1.5 --n_latents 768 --comment k768-b1.5\"\u001b[0m,\n",
       "        \u001b[32m\"./fit_vae.sh '3' 'DOVES' 'poisson' 'lin|lin' --seed 1 --kl_beta 1.5 --n_latents 1024 --comment \u001b[0m\n",
       "\u001b[32mk1024-b1.5\"\u001b[0m,\n",
       "        \u001b[32m\"./fit_vae.sh '3' 'DOVES' 'poisson' 'lin|lin' --seed 2 --kl_beta 1.5 --n_latents 1024 --comment \u001b[0m\n",
       "\u001b[32mk1024-b1.5\"\u001b[0m,\n",
       "        \u001b[32m\"./fit_vae.sh '3' 'DOVES' 'poisson' 'lin|lin' --seed 3 --kl_beta 1.5 --n_latents 1024 --comment \u001b[0m\n",
       "\u001b[32mk1024-b1.5\"\u001b[0m,\n",
       "        \u001b[32m\"./fit_vae.sh '3' 'DOVES' 'poisson' 'lin|lin' --seed 4 --kl_beta 1.5 --n_latents 1024 --comment \u001b[0m\n",
       "\u001b[32mk1024-b1.5\"\u001b[0m,\n",
       "        \u001b[32m\"./fit_vae.sh '3' 'DOVES' 'poisson' 'lin|lin' --seed 5 --kl_beta 1.5 --n_latents 1024 --comment \u001b[0m\n",
       "\u001b[32mk1024-b1.5\"\u001b[0m,\n",
       "        \u001b[32m\"./fit_vae.sh '3' 'DOVES' 'poisson' 'lin|lin' --seed 1 --kl_beta 4.0 --n_latents 256 --comment k256-b4\"\u001b[0m,\n",
       "        \u001b[32m\"./fit_vae.sh '3' 'DOVES' 'poisson' 'lin|lin' --seed 2 --kl_beta 4.0 --n_latents 256 --comment k256-b4\"\u001b[0m,\n",
       "        \u001b[32m\"./fit_vae.sh '3' 'DOVES' 'poisson' 'lin|lin' --seed 3 --kl_beta 4.0 --n_latents 256 --comment k256-b4\"\u001b[0m,\n",
       "        \u001b[32m\"./fit_vae.sh '3' 'DOVES' 'poisson' 'lin|lin' --seed 4 --kl_beta 4.0 --n_latents 256 --comment k256-b4\"\u001b[0m,\n",
       "        \u001b[32m\"./fit_vae.sh '3' 'DOVES' 'poisson' 'lin|lin' --seed 5 --kl_beta 4.0 --n_latents 256 --comment k256-b4\"\u001b[0m,\n",
       "        \u001b[32m\"./fit_vae.sh '3' 'DOVES' 'poisson' 'lin|lin' --seed 1 --kl_beta 4.0 --n_latents 512 --comment k512-b4\"\u001b[0m,\n",
       "        \u001b[32m\"./fit_vae.sh '3' 'DOVES' 'poisson' 'lin|lin' --seed 2 --kl_beta 4.0 --n_latents 512 --comment k512-b4\"\u001b[0m,\n",
       "        \u001b[32m\"./fit_vae.sh '3' 'DOVES' 'poisson' 'lin|lin' --seed 3 --kl_beta 4.0 --n_latents 512 --comment k512-b4\"\u001b[0m,\n",
       "        \u001b[32m\"./fit_vae.sh '3' 'DOVES' 'poisson' 'lin|lin' --seed 4 --kl_beta 4.0 --n_latents 512 --comment k512-b4\"\u001b[0m,\n",
       "        \u001b[32m\"./fit_vae.sh '3' 'DOVES' 'poisson' 'lin|lin' --seed 5 --kl_beta 4.0 --n_latents 512 --comment k512-b4\"\u001b[0m,\n",
       "        \u001b[32m\"./fit_vae.sh '3' 'DOVES' 'poisson' 'lin|lin' --seed 1 --kl_beta 4.0 --n_latents 768 --comment k768-b4\"\u001b[0m,\n",
       "        \u001b[32m\"./fit_vae.sh '3' 'DOVES' 'poisson' 'lin|lin' --seed 2 --kl_beta 4.0 --n_latents 768 --comment k768-b4\"\u001b[0m,\n",
       "        \u001b[32m\"./fit_vae.sh '3' 'DOVES' 'poisson' 'lin|lin' --seed 3 --kl_beta 4.0 --n_latents 768 --comment k768-b4\"\u001b[0m,\n",
       "        \u001b[32m\"./fit_vae.sh '3' 'DOVES' 'poisson' 'lin|lin' --seed 4 --kl_beta 4.0 --n_latents 768 --comment k768-b4\"\u001b[0m,\n",
       "        \u001b[32m\"./fit_vae.sh '3' 'DOVES' 'poisson' 'lin|lin' --seed 5 --kl_beta 4.0 --n_latents 768 --comment k768-b4\"\u001b[0m,\n",
       "        \u001b[32m\"./fit_vae.sh '3' 'DOVES' 'poisson' 'lin|lin' --seed 1 --kl_beta 4.0 --n_latents 1024 --comment k1024-b4\"\u001b[0m,\n",
       "        \u001b[32m\"./fit_vae.sh '3' 'DOVES' 'poisson' 'lin|lin' --seed 2 --kl_beta 4.0 --n_latents 1024 --comment k1024-b4\"\u001b[0m,\n",
       "        \u001b[32m\"./fit_vae.sh '3' 'DOVES' 'poisson' 'lin|lin' --seed 3 --kl_beta 4.0 --n_latents 1024 --comment k1024-b4\"\u001b[0m,\n",
       "        \u001b[32m\"./fit_vae.sh '3' 'DOVES' 'poisson' 'lin|lin' --seed 4 --kl_beta 4.0 --n_latents 1024 --comment k1024-b4\"\u001b[0m,\n",
       "        \u001b[32m\"./fit_vae.sh '3' 'DOVES' 'poisson' 'lin|lin' --seed 5 --kl_beta 4.0 --n_latents 1024 --comment k1024-b4\"\u001b[0m\n",
       "    \u001b[1m]\u001b[0m\n",
       "\u001b[1m}\u001b[0m\n"
      ]
     },
     "metadata": {},
     "output_type": "display_data"
    }
   ],
   "source": [
    "print(scripts_mach)"
   ]
  },
  {
   "cell_type": "code",
   "execution_count": null,
   "id": "d603c4e7-e654-489a-a4d6-fc5963e0a847",
   "metadata": {},
   "outputs": [],
   "source": []
  },
  {
   "cell_type": "code",
   "execution_count": 12,
   "id": "40821d16-9de7-4fbd-9db3-98fe7b429479",
   "metadata": {},
   "outputs": [
    {
     "data": {
      "text/html": [
       "<pre style=\"white-space:pre;overflow-x:auto;line-height:normal;font-family:Menlo,'DejaVu Sans Mono',consolas,'Courier New',monospace\"><span style=\"font-weight: bold\">[</span>\n",
       "    <span style=\"font-weight: bold\">[</span>\n",
       "        <span style=\"color: #008000; text-decoration-color: #008000\">\"./fit_vae.sh '3' 'DOVES' 'poisson' 'lin|lin' --seed 1 --kl_beta 1.5 --n_latents 256 --comment k256-b1.5\"</span>,\n",
       "        <span style=\"color: #008000; text-decoration-color: #008000\">\"./fit_vae.sh '3' 'DOVES' 'poisson' 'lin|lin' --seed 2 --kl_beta 1.5 --n_latents 256 --comment k256-b1.5\"</span>,\n",
       "        <span style=\"color: #008000; text-decoration-color: #008000\">\"./fit_vae.sh '3' 'DOVES' 'poisson' 'lin|lin' --seed 3 --kl_beta 1.5 --n_latents 256 --comment k256-b1.5\"</span>,\n",
       "        <span style=\"color: #008000; text-decoration-color: #008000\">\"./fit_vae.sh '3' 'DOVES' 'poisson' 'lin|lin' --seed 4 --kl_beta 1.5 --n_latents 256 --comment k256-b1.5\"</span>,\n",
       "        <span style=\"color: #008000; text-decoration-color: #008000\">\"./fit_vae.sh '3' 'DOVES' 'poisson' 'lin|lin' --seed 5 --kl_beta 1.5 --n_latents 256 --comment k256-b1.5\"</span>\n",
       "    <span style=\"font-weight: bold\">]</span>,\n",
       "    <span style=\"font-weight: bold\">[</span>\n",
       "        <span style=\"color: #008000; text-decoration-color: #008000\">\"./fit_vae.sh '3' 'DOVES' 'poisson' 'lin|lin' --seed 1 --kl_beta 1.5 --n_latents 512 --comment k512-b1.5\"</span>,\n",
       "        <span style=\"color: #008000; text-decoration-color: #008000\">\"./fit_vae.sh '3' 'DOVES' 'poisson' 'lin|lin' --seed 2 --kl_beta 1.5 --n_latents 512 --comment k512-b1.5\"</span>,\n",
       "        <span style=\"color: #008000; text-decoration-color: #008000\">\"./fit_vae.sh '3' 'DOVES' 'poisson' 'lin|lin' --seed 3 --kl_beta 1.5 --n_latents 512 --comment k512-b1.5\"</span>,\n",
       "        <span style=\"color: #008000; text-decoration-color: #008000\">\"./fit_vae.sh '3' 'DOVES' 'poisson' 'lin|lin' --seed 4 --kl_beta 1.5 --n_latents 512 --comment k512-b1.5\"</span>,\n",
       "        <span style=\"color: #008000; text-decoration-color: #008000\">\"./fit_vae.sh '3' 'DOVES' 'poisson' 'lin|lin' --seed 5 --kl_beta 1.5 --n_latents 512 --comment k512-b1.5\"</span>\n",
       "    <span style=\"font-weight: bold\">]</span>,\n",
       "    <span style=\"font-weight: bold\">[</span>\n",
       "        <span style=\"color: #008000; text-decoration-color: #008000\">\"./fit_vae.sh '3' 'DOVES' 'poisson' 'lin|lin' --seed 1 --kl_beta 1.5 --n_latents 768 --comment k768-b1.5\"</span>,\n",
       "        <span style=\"color: #008000; text-decoration-color: #008000\">\"./fit_vae.sh '3' 'DOVES' 'poisson' 'lin|lin' --seed 2 --kl_beta 1.5 --n_latents 768 --comment k768-b1.5\"</span>,\n",
       "        <span style=\"color: #008000; text-decoration-color: #008000\">\"./fit_vae.sh '3' 'DOVES' 'poisson' 'lin|lin' --seed 3 --kl_beta 1.5 --n_latents 768 --comment k768-b1.5\"</span>,\n",
       "        <span style=\"color: #008000; text-decoration-color: #008000\">\"./fit_vae.sh '3' 'DOVES' 'poisson' 'lin|lin' --seed 4 --kl_beta 1.5 --n_latents 768 --comment k768-b1.5\"</span>,\n",
       "        <span style=\"color: #008000; text-decoration-color: #008000\">\"./fit_vae.sh '3' 'DOVES' 'poisson' 'lin|lin' --seed 5 --kl_beta 1.5 --n_latents 768 --comment k768-b1.5\"</span>\n",
       "    <span style=\"font-weight: bold\">]</span>,\n",
       "    <span style=\"font-weight: bold\">[</span>\n",
       "        <span style=\"color: #008000; text-decoration-color: #008000\">\"./fit_vae.sh '3' 'DOVES' 'poisson' 'lin|lin' --seed 1 --kl_beta 1.5 --n_latents 1024 --comment </span>\n",
       "<span style=\"color: #008000; text-decoration-color: #008000\">k1024-b1.5\"</span>,\n",
       "        <span style=\"color: #008000; text-decoration-color: #008000\">\"./fit_vae.sh '3' 'DOVES' 'poisson' 'lin|lin' --seed 2 --kl_beta 1.5 --n_latents 1024 --comment </span>\n",
       "<span style=\"color: #008000; text-decoration-color: #008000\">k1024-b1.5\"</span>,\n",
       "        <span style=\"color: #008000; text-decoration-color: #008000\">\"./fit_vae.sh '3' 'DOVES' 'poisson' 'lin|lin' --seed 3 --kl_beta 1.5 --n_latents 1024 --comment </span>\n",
       "<span style=\"color: #008000; text-decoration-color: #008000\">k1024-b1.5\"</span>,\n",
       "        <span style=\"color: #008000; text-decoration-color: #008000\">\"./fit_vae.sh '3' 'DOVES' 'poisson' 'lin|lin' --seed 4 --kl_beta 1.5 --n_latents 1024 --comment </span>\n",
       "<span style=\"color: #008000; text-decoration-color: #008000\">k1024-b1.5\"</span>,\n",
       "        <span style=\"color: #008000; text-decoration-color: #008000\">\"./fit_vae.sh '3' 'DOVES' 'poisson' 'lin|lin' --seed 5 --kl_beta 1.5 --n_latents 1024 --comment k1024-b1.5\"</span>\n",
       "    <span style=\"font-weight: bold\">]</span>,\n",
       "    <span style=\"font-weight: bold\">[</span>\n",
       "        <span style=\"color: #008000; text-decoration-color: #008000\">\"./fit_vae.sh '3' 'DOVES' 'poisson' 'lin|lin' --seed 1 --kl_beta 4.0 --n_latents 256 --comment k256-b4\"</span>,\n",
       "        <span style=\"color: #008000; text-decoration-color: #008000\">\"./fit_vae.sh '3' 'DOVES' 'poisson' 'lin|lin' --seed 2 --kl_beta 4.0 --n_latents 256 --comment k256-b4\"</span>,\n",
       "        <span style=\"color: #008000; text-decoration-color: #008000\">\"./fit_vae.sh '3' 'DOVES' 'poisson' 'lin|lin' --seed 3 --kl_beta 4.0 --n_latents 256 --comment k256-b4\"</span>,\n",
       "        <span style=\"color: #008000; text-decoration-color: #008000\">\"./fit_vae.sh '3' 'DOVES' 'poisson' 'lin|lin' --seed 4 --kl_beta 4.0 --n_latents 256 --comment k256-b4\"</span>,\n",
       "        <span style=\"color: #008000; text-decoration-color: #008000\">\"./fit_vae.sh '3' 'DOVES' 'poisson' 'lin|lin' --seed 5 --kl_beta 4.0 --n_latents 256 --comment k256-b4\"</span>\n",
       "    <span style=\"font-weight: bold\">]</span>,\n",
       "    <span style=\"font-weight: bold\">[</span>\n",
       "        <span style=\"color: #008000; text-decoration-color: #008000\">\"./fit_vae.sh '3' 'DOVES' 'poisson' 'lin|lin' --seed 1 --kl_beta 4.0 --n_latents 512 --comment k512-b4\"</span>,\n",
       "        <span style=\"color: #008000; text-decoration-color: #008000\">\"./fit_vae.sh '3' 'DOVES' 'poisson' 'lin|lin' --seed 2 --kl_beta 4.0 --n_latents 512 --comment k512-b4\"</span>,\n",
       "        <span style=\"color: #008000; text-decoration-color: #008000\">\"./fit_vae.sh '3' 'DOVES' 'poisson' 'lin|lin' --seed 3 --kl_beta 4.0 --n_latents 512 --comment k512-b4\"</span>,\n",
       "        <span style=\"color: #008000; text-decoration-color: #008000\">\"./fit_vae.sh '3' 'DOVES' 'poisson' 'lin|lin' --seed 4 --kl_beta 4.0 --n_latents 512 --comment k512-b4\"</span>,\n",
       "        <span style=\"color: #008000; text-decoration-color: #008000\">\"./fit_vae.sh '3' 'DOVES' 'poisson' 'lin|lin' --seed 5 --kl_beta 4.0 --n_latents 512 --comment k512-b4\"</span>\n",
       "    <span style=\"font-weight: bold\">]</span>,\n",
       "    <span style=\"font-weight: bold\">[</span>\n",
       "        <span style=\"color: #008000; text-decoration-color: #008000\">\"./fit_vae.sh '3' 'DOVES' 'poisson' 'lin|lin' --seed 1 --kl_beta 4.0 --n_latents 768 --comment k768-b4\"</span>,\n",
       "        <span style=\"color: #008000; text-decoration-color: #008000\">\"./fit_vae.sh '3' 'DOVES' 'poisson' 'lin|lin' --seed 2 --kl_beta 4.0 --n_latents 768 --comment k768-b4\"</span>,\n",
       "        <span style=\"color: #008000; text-decoration-color: #008000\">\"./fit_vae.sh '3' 'DOVES' 'poisson' 'lin|lin' --seed 3 --kl_beta 4.0 --n_latents 768 --comment k768-b4\"</span>,\n",
       "        <span style=\"color: #008000; text-decoration-color: #008000\">\"./fit_vae.sh '3' 'DOVES' 'poisson' 'lin|lin' --seed 4 --kl_beta 4.0 --n_latents 768 --comment k768-b4\"</span>,\n",
       "        <span style=\"color: #008000; text-decoration-color: #008000\">\"./fit_vae.sh '3' 'DOVES' 'poisson' 'lin|lin' --seed 5 --kl_beta 4.0 --n_latents 768 --comment k768-b4\"</span>\n",
       "    <span style=\"font-weight: bold\">]</span>,\n",
       "    <span style=\"font-weight: bold\">[</span>\n",
       "        <span style=\"color: #008000; text-decoration-color: #008000\">\"./fit_vae.sh '3' 'DOVES' 'poisson' 'lin|lin' --seed 1 --kl_beta 4.0 --n_latents 1024 --comment k1024-b4\"</span>,\n",
       "        <span style=\"color: #008000; text-decoration-color: #008000\">\"./fit_vae.sh '3' 'DOVES' 'poisson' 'lin|lin' --seed 2 --kl_beta 4.0 --n_latents 1024 --comment k1024-b4\"</span>,\n",
       "        <span style=\"color: #008000; text-decoration-color: #008000\">\"./fit_vae.sh '3' 'DOVES' 'poisson' 'lin|lin' --seed 3 --kl_beta 4.0 --n_latents 1024 --comment k1024-b4\"</span>,\n",
       "        <span style=\"color: #008000; text-decoration-color: #008000\">\"./fit_vae.sh '3' 'DOVES' 'poisson' 'lin|lin' --seed 4 --kl_beta 4.0 --n_latents 1024 --comment k1024-b4\"</span>,\n",
       "        <span style=\"color: #008000; text-decoration-color: #008000\">\"./fit_vae.sh '3' 'DOVES' 'poisson' 'lin|lin' --seed 5 --kl_beta 4.0 --n_latents 1024 --comment k1024-b4\"</span>\n",
       "    <span style=\"font-weight: bold\">]</span>\n",
       "<span style=\"font-weight: bold\">]</span>\n",
       "</pre>\n"
      ],
      "text/plain": [
       "\u001b[1m[\u001b[0m\n",
       "    \u001b[1m[\u001b[0m\n",
       "        \u001b[32m\"./fit_vae.sh '3' 'DOVES' 'poisson' 'lin|lin' --seed 1 --kl_beta 1.5 --n_latents 256 --comment k256-b1.5\"\u001b[0m,\n",
       "        \u001b[32m\"./fit_vae.sh '3' 'DOVES' 'poisson' 'lin|lin' --seed 2 --kl_beta 1.5 --n_latents 256 --comment k256-b1.5\"\u001b[0m,\n",
       "        \u001b[32m\"./fit_vae.sh '3' 'DOVES' 'poisson' 'lin|lin' --seed 3 --kl_beta 1.5 --n_latents 256 --comment k256-b1.5\"\u001b[0m,\n",
       "        \u001b[32m\"./fit_vae.sh '3' 'DOVES' 'poisson' 'lin|lin' --seed 4 --kl_beta 1.5 --n_latents 256 --comment k256-b1.5\"\u001b[0m,\n",
       "        \u001b[32m\"./fit_vae.sh '3' 'DOVES' 'poisson' 'lin|lin' --seed 5 --kl_beta 1.5 --n_latents 256 --comment k256-b1.5\"\u001b[0m\n",
       "    \u001b[1m]\u001b[0m,\n",
       "    \u001b[1m[\u001b[0m\n",
       "        \u001b[32m\"./fit_vae.sh '3' 'DOVES' 'poisson' 'lin|lin' --seed 1 --kl_beta 1.5 --n_latents 512 --comment k512-b1.5\"\u001b[0m,\n",
       "        \u001b[32m\"./fit_vae.sh '3' 'DOVES' 'poisson' 'lin|lin' --seed 2 --kl_beta 1.5 --n_latents 512 --comment k512-b1.5\"\u001b[0m,\n",
       "        \u001b[32m\"./fit_vae.sh '3' 'DOVES' 'poisson' 'lin|lin' --seed 3 --kl_beta 1.5 --n_latents 512 --comment k512-b1.5\"\u001b[0m,\n",
       "        \u001b[32m\"./fit_vae.sh '3' 'DOVES' 'poisson' 'lin|lin' --seed 4 --kl_beta 1.5 --n_latents 512 --comment k512-b1.5\"\u001b[0m,\n",
       "        \u001b[32m\"./fit_vae.sh '3' 'DOVES' 'poisson' 'lin|lin' --seed 5 --kl_beta 1.5 --n_latents 512 --comment k512-b1.5\"\u001b[0m\n",
       "    \u001b[1m]\u001b[0m,\n",
       "    \u001b[1m[\u001b[0m\n",
       "        \u001b[32m\"./fit_vae.sh '3' 'DOVES' 'poisson' 'lin|lin' --seed 1 --kl_beta 1.5 --n_latents 768 --comment k768-b1.5\"\u001b[0m,\n",
       "        \u001b[32m\"./fit_vae.sh '3' 'DOVES' 'poisson' 'lin|lin' --seed 2 --kl_beta 1.5 --n_latents 768 --comment k768-b1.5\"\u001b[0m,\n",
       "        \u001b[32m\"./fit_vae.sh '3' 'DOVES' 'poisson' 'lin|lin' --seed 3 --kl_beta 1.5 --n_latents 768 --comment k768-b1.5\"\u001b[0m,\n",
       "        \u001b[32m\"./fit_vae.sh '3' 'DOVES' 'poisson' 'lin|lin' --seed 4 --kl_beta 1.5 --n_latents 768 --comment k768-b1.5\"\u001b[0m,\n",
       "        \u001b[32m\"./fit_vae.sh '3' 'DOVES' 'poisson' 'lin|lin' --seed 5 --kl_beta 1.5 --n_latents 768 --comment k768-b1.5\"\u001b[0m\n",
       "    \u001b[1m]\u001b[0m,\n",
       "    \u001b[1m[\u001b[0m\n",
       "        \u001b[32m\"./fit_vae.sh '3' 'DOVES' 'poisson' 'lin|lin' --seed 1 --kl_beta 1.5 --n_latents 1024 --comment \u001b[0m\n",
       "\u001b[32mk1024-b1.5\"\u001b[0m,\n",
       "        \u001b[32m\"./fit_vae.sh '3' 'DOVES' 'poisson' 'lin|lin' --seed 2 --kl_beta 1.5 --n_latents 1024 --comment \u001b[0m\n",
       "\u001b[32mk1024-b1.5\"\u001b[0m,\n",
       "        \u001b[32m\"./fit_vae.sh '3' 'DOVES' 'poisson' 'lin|lin' --seed 3 --kl_beta 1.5 --n_latents 1024 --comment \u001b[0m\n",
       "\u001b[32mk1024-b1.5\"\u001b[0m,\n",
       "        \u001b[32m\"./fit_vae.sh '3' 'DOVES' 'poisson' 'lin|lin' --seed 4 --kl_beta 1.5 --n_latents 1024 --comment \u001b[0m\n",
       "\u001b[32mk1024-b1.5\"\u001b[0m,\n",
       "        \u001b[32m\"./fit_vae.sh '3' 'DOVES' 'poisson' 'lin|lin' --seed 5 --kl_beta 1.5 --n_latents 1024 --comment k1024-b1.5\"\u001b[0m\n",
       "    \u001b[1m]\u001b[0m,\n",
       "    \u001b[1m[\u001b[0m\n",
       "        \u001b[32m\"./fit_vae.sh '3' 'DOVES' 'poisson' 'lin|lin' --seed 1 --kl_beta 4.0 --n_latents 256 --comment k256-b4\"\u001b[0m,\n",
       "        \u001b[32m\"./fit_vae.sh '3' 'DOVES' 'poisson' 'lin|lin' --seed 2 --kl_beta 4.0 --n_latents 256 --comment k256-b4\"\u001b[0m,\n",
       "        \u001b[32m\"./fit_vae.sh '3' 'DOVES' 'poisson' 'lin|lin' --seed 3 --kl_beta 4.0 --n_latents 256 --comment k256-b4\"\u001b[0m,\n",
       "        \u001b[32m\"./fit_vae.sh '3' 'DOVES' 'poisson' 'lin|lin' --seed 4 --kl_beta 4.0 --n_latents 256 --comment k256-b4\"\u001b[0m,\n",
       "        \u001b[32m\"./fit_vae.sh '3' 'DOVES' 'poisson' 'lin|lin' --seed 5 --kl_beta 4.0 --n_latents 256 --comment k256-b4\"\u001b[0m\n",
       "    \u001b[1m]\u001b[0m,\n",
       "    \u001b[1m[\u001b[0m\n",
       "        \u001b[32m\"./fit_vae.sh '3' 'DOVES' 'poisson' 'lin|lin' --seed 1 --kl_beta 4.0 --n_latents 512 --comment k512-b4\"\u001b[0m,\n",
       "        \u001b[32m\"./fit_vae.sh '3' 'DOVES' 'poisson' 'lin|lin' --seed 2 --kl_beta 4.0 --n_latents 512 --comment k512-b4\"\u001b[0m,\n",
       "        \u001b[32m\"./fit_vae.sh '3' 'DOVES' 'poisson' 'lin|lin' --seed 3 --kl_beta 4.0 --n_latents 512 --comment k512-b4\"\u001b[0m,\n",
       "        \u001b[32m\"./fit_vae.sh '3' 'DOVES' 'poisson' 'lin|lin' --seed 4 --kl_beta 4.0 --n_latents 512 --comment k512-b4\"\u001b[0m,\n",
       "        \u001b[32m\"./fit_vae.sh '3' 'DOVES' 'poisson' 'lin|lin' --seed 5 --kl_beta 4.0 --n_latents 512 --comment k512-b4\"\u001b[0m\n",
       "    \u001b[1m]\u001b[0m,\n",
       "    \u001b[1m[\u001b[0m\n",
       "        \u001b[32m\"./fit_vae.sh '3' 'DOVES' 'poisson' 'lin|lin' --seed 1 --kl_beta 4.0 --n_latents 768 --comment k768-b4\"\u001b[0m,\n",
       "        \u001b[32m\"./fit_vae.sh '3' 'DOVES' 'poisson' 'lin|lin' --seed 2 --kl_beta 4.0 --n_latents 768 --comment k768-b4\"\u001b[0m,\n",
       "        \u001b[32m\"./fit_vae.sh '3' 'DOVES' 'poisson' 'lin|lin' --seed 3 --kl_beta 4.0 --n_latents 768 --comment k768-b4\"\u001b[0m,\n",
       "        \u001b[32m\"./fit_vae.sh '3' 'DOVES' 'poisson' 'lin|lin' --seed 4 --kl_beta 4.0 --n_latents 768 --comment k768-b4\"\u001b[0m,\n",
       "        \u001b[32m\"./fit_vae.sh '3' 'DOVES' 'poisson' 'lin|lin' --seed 5 --kl_beta 4.0 --n_latents 768 --comment k768-b4\"\u001b[0m\n",
       "    \u001b[1m]\u001b[0m,\n",
       "    \u001b[1m[\u001b[0m\n",
       "        \u001b[32m\"./fit_vae.sh '3' 'DOVES' 'poisson' 'lin|lin' --seed 1 --kl_beta 4.0 --n_latents 1024 --comment k1024-b4\"\u001b[0m,\n",
       "        \u001b[32m\"./fit_vae.sh '3' 'DOVES' 'poisson' 'lin|lin' --seed 2 --kl_beta 4.0 --n_latents 1024 --comment k1024-b4\"\u001b[0m,\n",
       "        \u001b[32m\"./fit_vae.sh '3' 'DOVES' 'poisson' 'lin|lin' --seed 3 --kl_beta 4.0 --n_latents 1024 --comment k1024-b4\"\u001b[0m,\n",
       "        \u001b[32m\"./fit_vae.sh '3' 'DOVES' 'poisson' 'lin|lin' --seed 4 --kl_beta 4.0 --n_latents 1024 --comment k1024-b4\"\u001b[0m,\n",
       "        \u001b[32m\"./fit_vae.sh '3' 'DOVES' 'poisson' 'lin|lin' --seed 5 --kl_beta 4.0 --n_latents 1024 --comment k1024-b4\"\u001b[0m\n",
       "    \u001b[1m]\u001b[0m\n",
       "\u001b[1m]\u001b[0m\n"
      ]
     },
     "metadata": {},
     "output_type": "display_data"
    }
   ],
   "source": [
    "print(scripts_divided)"
   ]
  },
  {
   "cell_type": "code",
   "execution_count": null,
   "id": "1caca3ba-0a83-4e70-8905-2a4c76cfc347",
   "metadata": {},
   "outputs": [],
   "source": []
  },
  {
   "cell_type": "code",
   "execution_count": null,
   "id": "2b2bce2c-a12f-4311-898b-53c418a71e84",
   "metadata": {},
   "outputs": [],
   "source": []
  },
  {
   "cell_type": "markdown",
   "id": "fb9b773b-cc4b-4494-b3f0-158f5bb69312",
   "metadata": {},
   "source": [
    "## Betas (solo + chewie)\n",
    "\n",
    "```<conv|lin>```"
   ]
  },
  {
   "cell_type": "markdown",
   "id": "03f6e2fb-41f1-404f-8394-e9886148e3f8",
   "metadata": {
    "jp-MarkdownHeadingCollapsed": true
   },
   "source": [
    "### solo"
   ]
  },
  {
   "cell_type": "code",
   "execution_count": 4,
   "id": "1dffe9b5-35cc-4735-843b-b3fae189c3b7",
   "metadata": {},
   "outputs": [],
   "source": [
    "host = 'solo'\n",
    "_cleanup(save_dir, host)\n",
    "\n",
    "scripts_solo = collections.defaultdict(list)\n",
    "tot = 0"
   ]
  },
  {
   "cell_type": "code",
   "execution_count": 5,
   "id": "846c8e4d-1a5a-433d-b071-7ca86b23a749",
   "metadata": {},
   "outputs": [],
   "source": [
    "n_seeds = 5\n",
    "seeds = range(1, n_seeds + 1)\n",
    "\n",
    "betas = [0.01, 0.2, 0.4, 0.6, 0.8, 1.0, 1.5, 4.0]\n",
    "latent_dim = [i * 256 for i in [3, 4]]  # [1, 2, 3, 4]]"
   ]
  },
  {
   "cell_type": "code",
   "execution_count": 6,
   "id": "2198a9da-57f0-4729-ac8b-431d425fe147",
   "metadata": {},
   "outputs": [],
   "source": [
    "combos = itertools.product(\n",
    "    enumerate(betas), latent_dim, seeds)\n",
    "for (idx, b), k, s in combos:\n",
    "    if b == 1.0 and k == 512:\n",
    "        continue\n",
    "\n",
    "    arg = ' '.join([\n",
    "        f\"--kl_beta {b}\",\n",
    "        f\"--n_latents {k}\",\n",
    "        f\"--comment k{k}-b{b:0.2g}\",\n",
    "    ])\n",
    "    gpu_i = idx // 4\n",
    "\n",
    "    kws = dict(\n",
    "        device=gpu_i,\n",
    "        dataset='DOVES',\n",
    "        model='poisson',\n",
    "        archi='conv+b|lin',\n",
    "        seed=s,\n",
    "        args=arg,\n",
    "    )\n",
    "    scripts_solo[gpu_i].append(job_runner_script(**kws))\n",
    "    tot += 1"
   ]
  },
  {
   "cell_type": "code",
   "execution_count": 7,
   "id": "489f3b51-bfdf-4d02-8d0f-209d7b911acf",
   "metadata": {},
   "outputs": [
    {
     "data": {
      "text/html": [
       "<pre style=\"white-space:pre;overflow-x:auto;line-height:normal;font-family:Menlo,'DejaVu Sans Mono',consolas,'Courier New',monospace\"><span style=\"color: #008080; text-decoration-color: #008080; font-weight: bold\">80</span>\n",
       "</pre>\n"
      ],
      "text/plain": [
       "\u001b[1;36m80\u001b[0m\n"
      ]
     },
     "metadata": {},
     "output_type": "display_data"
    }
   ],
   "source": [
    "print(tot)"
   ]
  },
  {
   "cell_type": "code",
   "execution_count": null,
   "id": "ef5f9fa8-577b-4324-b1fa-88b682cebdff",
   "metadata": {},
   "outputs": [],
   "source": []
  },
  {
   "cell_type": "code",
   "execution_count": 8,
   "id": "450b79b9-6264-4366-a058-c9b764a4c0f5",
   "metadata": {},
   "outputs": [
    {
     "data": {
      "text/html": [
       "<pre style=\"white-space:pre;overflow-x:auto;line-height:normal;font-family:Menlo,'DejaVu Sans Mono',consolas,'Courier New',monospace\"><span style=\"font-weight: bold\">{</span><span style=\"color: #008080; text-decoration-color: #008080; font-weight: bold\">0</span>: <span style=\"color: #008080; text-decoration-color: #008080; font-weight: bold\">40</span>, <span style=\"color: #008080; text-decoration-color: #008080; font-weight: bold\">1</span>: <span style=\"color: #008080; text-decoration-color: #008080; font-weight: bold\">40</span><span style=\"font-weight: bold\">}</span>\n",
       "</pre>\n"
      ],
      "text/plain": [
       "\u001b[1m{\u001b[0m\u001b[1;36m0\u001b[0m: \u001b[1;36m40\u001b[0m, \u001b[1;36m1\u001b[0m: \u001b[1;36m40\u001b[0m\u001b[1m}\u001b[0m\n"
      ]
     },
     "metadata": {},
     "output_type": "display_data"
    }
   ],
   "source": [
    "scripts_solo = dict(scripts_solo)\n",
    "print({k: len(v) for k, v in scripts_solo.items()})"
   ]
  },
  {
   "cell_type": "code",
   "execution_count": null,
   "id": "69410908-ed69-4ec9-8182-1c0d003f067f",
   "metadata": {},
   "outputs": [],
   "source": []
  },
  {
   "cell_type": "markdown",
   "id": "475a98d6-c67d-4ce4-8ede-233271570782",
   "metadata": {},
   "source": [
    "#### Save"
   ]
  },
  {
   "cell_type": "code",
   "execution_count": 9,
   "id": "d7da8ad7-cd43-49f0-83bd-84a33ad79f73",
   "metadata": {
    "scrolled": true
   },
   "outputs": [
    {
     "data": {
      "text/html": [
       "<pre style=\"white-space:pre;overflow-x:auto;line-height:normal;font-family:Menlo,'DejaVu Sans Mono',consolas,'Courier New',monospace\"><span style=\"font-weight: bold\">[</span>PROGRESS<span style=\"font-weight: bold\">]</span> <span style=\"color: #008000; text-decoration-color: #008000\">'solo-cuda0-fit0.txt'</span> saved at\n",
       "<span style=\"color: #800080; text-decoration-color: #800080\">/home/hadi/Dropbox/git/_PoissonVAE/</span><span style=\"color: #ff00ff; text-decoration-color: #ff00ff\">scripts</span>\n",
       "</pre>\n"
      ],
      "text/plain": [
       "\u001b[1m[\u001b[0mPROGRESS\u001b[1m]\u001b[0m \u001b[32m'solo-cuda0-fit0.txt'\u001b[0m saved at\n",
       "\u001b[35m/home/hadi/Dropbox/git/_PoissonVAE/\u001b[0m\u001b[95mscripts\u001b[0m\n"
      ]
     },
     "metadata": {},
     "output_type": "display_data"
    },
    {
     "data": {
      "text/html": [
       "<pre style=\"white-space:pre;overflow-x:auto;line-height:normal;font-family:Menlo,'DejaVu Sans Mono',consolas,'Courier New',monospace\"><span style=\"font-weight: bold\">[</span>PROGRESS<span style=\"font-weight: bold\">]</span> <span style=\"color: #008000; text-decoration-color: #008000\">'solo-cuda0-fit1.txt'</span> saved at\n",
       "<span style=\"color: #800080; text-decoration-color: #800080\">/home/hadi/Dropbox/git/_PoissonVAE/</span><span style=\"color: #ff00ff; text-decoration-color: #ff00ff\">scripts</span>\n",
       "</pre>\n"
      ],
      "text/plain": [
       "\u001b[1m[\u001b[0mPROGRESS\u001b[1m]\u001b[0m \u001b[32m'solo-cuda0-fit1.txt'\u001b[0m saved at\n",
       "\u001b[35m/home/hadi/Dropbox/git/_PoissonVAE/\u001b[0m\u001b[95mscripts\u001b[0m\n"
      ]
     },
     "metadata": {},
     "output_type": "display_data"
    },
    {
     "data": {
      "text/html": [
       "<pre style=\"white-space:pre;overflow-x:auto;line-height:normal;font-family:Menlo,'DejaVu Sans Mono',consolas,'Courier New',monospace\"><span style=\"font-weight: bold\">[</span>PROGRESS<span style=\"font-weight: bold\">]</span> <span style=\"color: #008000; text-decoration-color: #008000\">'solo-cuda0-fit2.txt'</span> saved at\n",
       "<span style=\"color: #800080; text-decoration-color: #800080\">/home/hadi/Dropbox/git/_PoissonVAE/</span><span style=\"color: #ff00ff; text-decoration-color: #ff00ff\">scripts</span>\n",
       "</pre>\n"
      ],
      "text/plain": [
       "\u001b[1m[\u001b[0mPROGRESS\u001b[1m]\u001b[0m \u001b[32m'solo-cuda0-fit2.txt'\u001b[0m saved at\n",
       "\u001b[35m/home/hadi/Dropbox/git/_PoissonVAE/\u001b[0m\u001b[95mscripts\u001b[0m\n"
      ]
     },
     "metadata": {},
     "output_type": "display_data"
    },
    {
     "data": {
      "text/html": [
       "<pre style=\"white-space:pre;overflow-x:auto;line-height:normal;font-family:Menlo,'DejaVu Sans Mono',consolas,'Courier New',monospace\"><span style=\"font-weight: bold\">[</span>PROGRESS<span style=\"font-weight: bold\">]</span> <span style=\"color: #008000; text-decoration-color: #008000\">'solo-cuda0-fit3.txt'</span> saved at\n",
       "<span style=\"color: #800080; text-decoration-color: #800080\">/home/hadi/Dropbox/git/_PoissonVAE/</span><span style=\"color: #ff00ff; text-decoration-color: #ff00ff\">scripts</span>\n",
       "</pre>\n"
      ],
      "text/plain": [
       "\u001b[1m[\u001b[0mPROGRESS\u001b[1m]\u001b[0m \u001b[32m'solo-cuda0-fit3.txt'\u001b[0m saved at\n",
       "\u001b[35m/home/hadi/Dropbox/git/_PoissonVAE/\u001b[0m\u001b[95mscripts\u001b[0m\n"
      ]
     },
     "metadata": {},
     "output_type": "display_data"
    },
    {
     "data": {
      "text/html": [
       "<pre style=\"white-space:pre;overflow-x:auto;line-height:normal;font-family:Menlo,'DejaVu Sans Mono',consolas,'Courier New',monospace\"><span style=\"font-weight: bold\">[</span>PROGRESS<span style=\"font-weight: bold\">]</span> <span style=\"color: #008000; text-decoration-color: #008000\">'solo-cuda0-fit4.txt'</span> saved at\n",
       "<span style=\"color: #800080; text-decoration-color: #800080\">/home/hadi/Dropbox/git/_PoissonVAE/</span><span style=\"color: #ff00ff; text-decoration-color: #ff00ff\">scripts</span>\n",
       "</pre>\n"
      ],
      "text/plain": [
       "\u001b[1m[\u001b[0mPROGRESS\u001b[1m]\u001b[0m \u001b[32m'solo-cuda0-fit4.txt'\u001b[0m saved at\n",
       "\u001b[35m/home/hadi/Dropbox/git/_PoissonVAE/\u001b[0m\u001b[95mscripts\u001b[0m\n"
      ]
     },
     "metadata": {},
     "output_type": "display_data"
    },
    {
     "data": {
      "text/html": [
       "<pre style=\"white-space:pre;overflow-x:auto;line-height:normal;font-family:Menlo,'DejaVu Sans Mono',consolas,'Courier New',monospace\"><span style=\"font-weight: bold\">[</span>PROGRESS<span style=\"font-weight: bold\">]</span> <span style=\"color: #008000; text-decoration-color: #008000\">'solo-cuda1-fit0.txt'</span> saved at\n",
       "<span style=\"color: #800080; text-decoration-color: #800080\">/home/hadi/Dropbox/git/_PoissonVAE/</span><span style=\"color: #ff00ff; text-decoration-color: #ff00ff\">scripts</span>\n",
       "</pre>\n"
      ],
      "text/plain": [
       "\u001b[1m[\u001b[0mPROGRESS\u001b[1m]\u001b[0m \u001b[32m'solo-cuda1-fit0.txt'\u001b[0m saved at\n",
       "\u001b[35m/home/hadi/Dropbox/git/_PoissonVAE/\u001b[0m\u001b[95mscripts\u001b[0m\n"
      ]
     },
     "metadata": {},
     "output_type": "display_data"
    },
    {
     "data": {
      "text/html": [
       "<pre style=\"white-space:pre;overflow-x:auto;line-height:normal;font-family:Menlo,'DejaVu Sans Mono',consolas,'Courier New',monospace\"><span style=\"font-weight: bold\">[</span>PROGRESS<span style=\"font-weight: bold\">]</span> <span style=\"color: #008000; text-decoration-color: #008000\">'solo-cuda1-fit1.txt'</span> saved at\n",
       "<span style=\"color: #800080; text-decoration-color: #800080\">/home/hadi/Dropbox/git/_PoissonVAE/</span><span style=\"color: #ff00ff; text-decoration-color: #ff00ff\">scripts</span>\n",
       "</pre>\n"
      ],
      "text/plain": [
       "\u001b[1m[\u001b[0mPROGRESS\u001b[1m]\u001b[0m \u001b[32m'solo-cuda1-fit1.txt'\u001b[0m saved at\n",
       "\u001b[35m/home/hadi/Dropbox/git/_PoissonVAE/\u001b[0m\u001b[95mscripts\u001b[0m\n"
      ]
     },
     "metadata": {},
     "output_type": "display_data"
    },
    {
     "data": {
      "text/html": [
       "<pre style=\"white-space:pre;overflow-x:auto;line-height:normal;font-family:Menlo,'DejaVu Sans Mono',consolas,'Courier New',monospace\"><span style=\"font-weight: bold\">[</span>PROGRESS<span style=\"font-weight: bold\">]</span> <span style=\"color: #008000; text-decoration-color: #008000\">'solo-cuda1-fit2.txt'</span> saved at\n",
       "<span style=\"color: #800080; text-decoration-color: #800080\">/home/hadi/Dropbox/git/_PoissonVAE/</span><span style=\"color: #ff00ff; text-decoration-color: #ff00ff\">scripts</span>\n",
       "</pre>\n"
      ],
      "text/plain": [
       "\u001b[1m[\u001b[0mPROGRESS\u001b[1m]\u001b[0m \u001b[32m'solo-cuda1-fit2.txt'\u001b[0m saved at\n",
       "\u001b[35m/home/hadi/Dropbox/git/_PoissonVAE/\u001b[0m\u001b[95mscripts\u001b[0m\n"
      ]
     },
     "metadata": {},
     "output_type": "display_data"
    },
    {
     "data": {
      "text/html": [
       "<pre style=\"white-space:pre;overflow-x:auto;line-height:normal;font-family:Menlo,'DejaVu Sans Mono',consolas,'Courier New',monospace\"><span style=\"font-weight: bold\">[</span>PROGRESS<span style=\"font-weight: bold\">]</span> <span style=\"color: #008000; text-decoration-color: #008000\">'solo-cuda1-fit3.txt'</span> saved at\n",
       "<span style=\"color: #800080; text-decoration-color: #800080\">/home/hadi/Dropbox/git/_PoissonVAE/</span><span style=\"color: #ff00ff; text-decoration-color: #ff00ff\">scripts</span>\n",
       "</pre>\n"
      ],
      "text/plain": [
       "\u001b[1m[\u001b[0mPROGRESS\u001b[1m]\u001b[0m \u001b[32m'solo-cuda1-fit3.txt'\u001b[0m saved at\n",
       "\u001b[35m/home/hadi/Dropbox/git/_PoissonVAE/\u001b[0m\u001b[95mscripts\u001b[0m\n"
      ]
     },
     "metadata": {},
     "output_type": "display_data"
    },
    {
     "data": {
      "text/html": [
       "<pre style=\"white-space:pre;overflow-x:auto;line-height:normal;font-family:Menlo,'DejaVu Sans Mono',consolas,'Courier New',monospace\"><span style=\"font-weight: bold\">[</span>PROGRESS<span style=\"font-weight: bold\">]</span> <span style=\"color: #008000; text-decoration-color: #008000\">'solo-cuda1-fit4.txt'</span> saved at\n",
       "<span style=\"color: #800080; text-decoration-color: #800080\">/home/hadi/Dropbox/git/_PoissonVAE/</span><span style=\"color: #ff00ff; text-decoration-color: #ff00ff\">scripts</span>\n",
       "</pre>\n"
      ],
      "text/plain": [
       "\u001b[1m[\u001b[0mPROGRESS\u001b[1m]\u001b[0m \u001b[32m'solo-cuda1-fit4.txt'\u001b[0m saved at\n",
       "\u001b[35m/home/hadi/Dropbox/git/_PoissonVAE/\u001b[0m\u001b[95mscripts\u001b[0m\n"
      ]
     },
     "metadata": {},
     "output_type": "display_data"
    }
   ],
   "source": [
    "n_fits = 5\n",
    "\n",
    "for gpu_i, scripts in scripts_solo.items():\n",
    "    scripts_divided = divide_list(scripts, n_fits)\n",
    "    for fit_i, s in enumerate(scripts_divided):\n",
    "        combined = ' && '.join(s)\n",
    "        save_obj(\n",
    "            obj=combined,\n",
    "            file_name=_name(host, gpu_i, fit_i),\n",
    "            save_dir=save_dir,\n",
    "            mode='txt',\n",
    "        )"
   ]
  },
  {
   "cell_type": "code",
   "execution_count": null,
   "id": "efc29f51-ad49-4565-a01a-f195eafba175",
   "metadata": {},
   "outputs": [],
   "source": []
  },
  {
   "cell_type": "markdown",
   "id": "457f06af-4481-4575-a8f9-fc00b5899b45",
   "metadata": {},
   "source": [
    "Print one to check"
   ]
  },
  {
   "cell_type": "code",
   "execution_count": 10,
   "id": "383f9a99-c0da-4630-b7c6-a7fe5d528fd5",
   "metadata": {},
   "outputs": [
    {
     "data": {
      "text/html": [
       "<pre style=\"white-space:pre;overflow-x:auto;line-height:normal;font-family:Menlo,'DejaVu Sans Mono',consolas,'Courier New',monospace\">.<span style=\"color: #800080; text-decoration-color: #800080\">/</span><span style=\"color: #ff00ff; text-decoration-color: #ff00ff\">fit_vae.sh</span> <span style=\"color: #008000; text-decoration-color: #008000\">'1'</span> <span style=\"color: #008000; text-decoration-color: #008000\">'DOVES'</span> <span style=\"color: #008000; text-decoration-color: #008000\">'poisson'</span> <span style=\"color: #008000; text-decoration-color: #008000\">'conv+b|lin'</span> --seed <span style=\"color: #008080; text-decoration-color: #008080; font-weight: bold\">3</span> --kl_beta <span style=\"color: #008080; text-decoration-color: #008080; font-weight: bold\">4.0</span> --n_latents <span style=\"color: #008080; text-decoration-color: #008080; font-weight: bold\">768</span> --comment k768-b4 &amp;&amp; \n",
       ".<span style=\"color: #800080; text-decoration-color: #800080\">/</span><span style=\"color: #ff00ff; text-decoration-color: #ff00ff\">fit_vae.sh</span> <span style=\"color: #008000; text-decoration-color: #008000\">'1'</span> <span style=\"color: #008000; text-decoration-color: #008000\">'DOVES'</span> <span style=\"color: #008000; text-decoration-color: #008000\">'poisson'</span> <span style=\"color: #008000; text-decoration-color: #008000\">'conv+b|lin'</span> --seed <span style=\"color: #008080; text-decoration-color: #008080; font-weight: bold\">4</span> --kl_beta <span style=\"color: #008080; text-decoration-color: #008080; font-weight: bold\">4.0</span> --n_latents <span style=\"color: #008080; text-decoration-color: #008080; font-weight: bold\">768</span> --comment k768-b4 &amp;&amp; \n",
       ".<span style=\"color: #800080; text-decoration-color: #800080\">/</span><span style=\"color: #ff00ff; text-decoration-color: #ff00ff\">fit_vae.sh</span> <span style=\"color: #008000; text-decoration-color: #008000\">'1'</span> <span style=\"color: #008000; text-decoration-color: #008000\">'DOVES'</span> <span style=\"color: #008000; text-decoration-color: #008000\">'poisson'</span> <span style=\"color: #008000; text-decoration-color: #008000\">'conv+b|lin'</span> --seed <span style=\"color: #008080; text-decoration-color: #008080; font-weight: bold\">5</span> --kl_beta <span style=\"color: #008080; text-decoration-color: #008080; font-weight: bold\">4.0</span> --n_latents <span style=\"color: #008080; text-decoration-color: #008080; font-weight: bold\">768</span> --comment k768-b4 &amp;&amp; \n",
       ".<span style=\"color: #800080; text-decoration-color: #800080\">/</span><span style=\"color: #ff00ff; text-decoration-color: #ff00ff\">fit_vae.sh</span> <span style=\"color: #008000; text-decoration-color: #008000\">'1'</span> <span style=\"color: #008000; text-decoration-color: #008000\">'DOVES'</span> <span style=\"color: #008000; text-decoration-color: #008000\">'poisson'</span> <span style=\"color: #008000; text-decoration-color: #008000\">'conv+b|lin'</span> --seed <span style=\"color: #008080; text-decoration-color: #008080; font-weight: bold\">1</span> --kl_beta <span style=\"color: #008080; text-decoration-color: #008080; font-weight: bold\">4.0</span> --n_latents <span style=\"color: #008080; text-decoration-color: #008080; font-weight: bold\">1024</span> --comment k1024-b4 &amp;&amp; \n",
       ".<span style=\"color: #800080; text-decoration-color: #800080\">/</span><span style=\"color: #ff00ff; text-decoration-color: #ff00ff\">fit_vae.sh</span> <span style=\"color: #008000; text-decoration-color: #008000\">'1'</span> <span style=\"color: #008000; text-decoration-color: #008000\">'DOVES'</span> <span style=\"color: #008000; text-decoration-color: #008000\">'poisson'</span> <span style=\"color: #008000; text-decoration-color: #008000\">'conv+b|lin'</span> --seed <span style=\"color: #008080; text-decoration-color: #008080; font-weight: bold\">2</span> --kl_beta <span style=\"color: #008080; text-decoration-color: #008080; font-weight: bold\">4.0</span> --n_latents <span style=\"color: #008080; text-decoration-color: #008080; font-weight: bold\">1024</span> --comment k1024-b4 &amp;&amp; \n",
       ".<span style=\"color: #800080; text-decoration-color: #800080\">/</span><span style=\"color: #ff00ff; text-decoration-color: #ff00ff\">fit_vae.sh</span> <span style=\"color: #008000; text-decoration-color: #008000\">'1'</span> <span style=\"color: #008000; text-decoration-color: #008000\">'DOVES'</span> <span style=\"color: #008000; text-decoration-color: #008000\">'poisson'</span> <span style=\"color: #008000; text-decoration-color: #008000\">'conv+b|lin'</span> --seed <span style=\"color: #008080; text-decoration-color: #008080; font-weight: bold\">3</span> --kl_beta <span style=\"color: #008080; text-decoration-color: #008080; font-weight: bold\">4.0</span> --n_latents <span style=\"color: #008080; text-decoration-color: #008080; font-weight: bold\">1024</span> --comment k1024-b4 &amp;&amp; \n",
       ".<span style=\"color: #800080; text-decoration-color: #800080\">/</span><span style=\"color: #ff00ff; text-decoration-color: #ff00ff\">fit_vae.sh</span> <span style=\"color: #008000; text-decoration-color: #008000\">'1'</span> <span style=\"color: #008000; text-decoration-color: #008000\">'DOVES'</span> <span style=\"color: #008000; text-decoration-color: #008000\">'poisson'</span> <span style=\"color: #008000; text-decoration-color: #008000\">'conv+b|lin'</span> --seed <span style=\"color: #008080; text-decoration-color: #008080; font-weight: bold\">4</span> --kl_beta <span style=\"color: #008080; text-decoration-color: #008080; font-weight: bold\">4.0</span> --n_latents <span style=\"color: #008080; text-decoration-color: #008080; font-weight: bold\">1024</span> --comment k1024-b4 &amp;&amp; \n",
       ".<span style=\"color: #800080; text-decoration-color: #800080\">/</span><span style=\"color: #ff00ff; text-decoration-color: #ff00ff\">fit_vae.sh</span> <span style=\"color: #008000; text-decoration-color: #008000\">'1'</span> <span style=\"color: #008000; text-decoration-color: #008000\">'DOVES'</span> <span style=\"color: #008000; text-decoration-color: #008000\">'poisson'</span> <span style=\"color: #008000; text-decoration-color: #008000\">'conv+b|lin'</span> --seed <span style=\"color: #008080; text-decoration-color: #008080; font-weight: bold\">5</span> --kl_beta <span style=\"color: #008080; text-decoration-color: #008080; font-weight: bold\">4.0</span> --n_latents <span style=\"color: #008080; text-decoration-color: #008080; font-weight: bold\">1024</span> --comment k1024-b4\n",
       "</pre>\n"
      ],
      "text/plain": [
       ".\u001b[35m/\u001b[0m\u001b[95mfit_vae.sh\u001b[0m \u001b[32m'1'\u001b[0m \u001b[32m'DOVES'\u001b[0m \u001b[32m'poisson'\u001b[0m \u001b[32m'conv+b|lin'\u001b[0m --seed \u001b[1;36m3\u001b[0m --kl_beta \u001b[1;36m4.0\u001b[0m --n_latents \u001b[1;36m768\u001b[0m --comment k768-b4 && \n",
       ".\u001b[35m/\u001b[0m\u001b[95mfit_vae.sh\u001b[0m \u001b[32m'1'\u001b[0m \u001b[32m'DOVES'\u001b[0m \u001b[32m'poisson'\u001b[0m \u001b[32m'conv+b|lin'\u001b[0m --seed \u001b[1;36m4\u001b[0m --kl_beta \u001b[1;36m4.0\u001b[0m --n_latents \u001b[1;36m768\u001b[0m --comment k768-b4 && \n",
       ".\u001b[35m/\u001b[0m\u001b[95mfit_vae.sh\u001b[0m \u001b[32m'1'\u001b[0m \u001b[32m'DOVES'\u001b[0m \u001b[32m'poisson'\u001b[0m \u001b[32m'conv+b|lin'\u001b[0m --seed \u001b[1;36m5\u001b[0m --kl_beta \u001b[1;36m4.0\u001b[0m --n_latents \u001b[1;36m768\u001b[0m --comment k768-b4 && \n",
       ".\u001b[35m/\u001b[0m\u001b[95mfit_vae.sh\u001b[0m \u001b[32m'1'\u001b[0m \u001b[32m'DOVES'\u001b[0m \u001b[32m'poisson'\u001b[0m \u001b[32m'conv+b|lin'\u001b[0m --seed \u001b[1;36m1\u001b[0m --kl_beta \u001b[1;36m4.0\u001b[0m --n_latents \u001b[1;36m1024\u001b[0m --comment k1024-b4 && \n",
       ".\u001b[35m/\u001b[0m\u001b[95mfit_vae.sh\u001b[0m \u001b[32m'1'\u001b[0m \u001b[32m'DOVES'\u001b[0m \u001b[32m'poisson'\u001b[0m \u001b[32m'conv+b|lin'\u001b[0m --seed \u001b[1;36m2\u001b[0m --kl_beta \u001b[1;36m4.0\u001b[0m --n_latents \u001b[1;36m1024\u001b[0m --comment k1024-b4 && \n",
       ".\u001b[35m/\u001b[0m\u001b[95mfit_vae.sh\u001b[0m \u001b[32m'1'\u001b[0m \u001b[32m'DOVES'\u001b[0m \u001b[32m'poisson'\u001b[0m \u001b[32m'conv+b|lin'\u001b[0m --seed \u001b[1;36m3\u001b[0m --kl_beta \u001b[1;36m4.0\u001b[0m --n_latents \u001b[1;36m1024\u001b[0m --comment k1024-b4 && \n",
       ".\u001b[35m/\u001b[0m\u001b[95mfit_vae.sh\u001b[0m \u001b[32m'1'\u001b[0m \u001b[32m'DOVES'\u001b[0m \u001b[32m'poisson'\u001b[0m \u001b[32m'conv+b|lin'\u001b[0m --seed \u001b[1;36m4\u001b[0m --kl_beta \u001b[1;36m4.0\u001b[0m --n_latents \u001b[1;36m1024\u001b[0m --comment k1024-b4 && \n",
       ".\u001b[35m/\u001b[0m\u001b[95mfit_vae.sh\u001b[0m \u001b[32m'1'\u001b[0m \u001b[32m'DOVES'\u001b[0m \u001b[32m'poisson'\u001b[0m \u001b[32m'conv+b|lin'\u001b[0m --seed \u001b[1;36m5\u001b[0m --kl_beta \u001b[1;36m4.0\u001b[0m --n_latents \u001b[1;36m1024\u001b[0m --comment k1024-b4\n"
      ]
     },
     "metadata": {},
     "output_type": "display_data"
    }
   ],
   "source": [
    "print(combined.replace('&& ', '&& \\n'))"
   ]
  },
  {
   "cell_type": "code",
   "execution_count": null,
   "id": "2b804cd7-9831-4c4e-8ac5-13031da1227c",
   "metadata": {},
   "outputs": [],
   "source": []
  },
  {
   "cell_type": "code",
   "execution_count": 11,
   "id": "221bdfd7-ee02-47da-a5d5-283f081fdf1f",
   "metadata": {},
   "outputs": [
    {
     "data": {
      "text/html": [
       "<pre style=\"white-space:pre;overflow-x:auto;line-height:normal;font-family:Menlo,'DejaVu Sans Mono',consolas,'Courier New',monospace\"><span style=\"font-weight: bold\">{</span>\n",
       "    <span style=\"color: #008080; text-decoration-color: #008080; font-weight: bold\">0</span>: <span style=\"font-weight: bold\">[</span>\n",
       "        <span style=\"color: #008000; text-decoration-color: #008000\">\"./fit_vae.sh '0' 'DOVES' 'poisson' 'conv+b|lin' --seed 1 --kl_beta 0.01 --n_latents 768 --comment </span>\n",
       "<span style=\"color: #008000; text-decoration-color: #008000\">k768-b0.01\"</span>,\n",
       "        <span style=\"color: #008000; text-decoration-color: #008000\">\"./fit_vae.sh '0' 'DOVES' 'poisson' 'conv+b|lin' --seed 2 --kl_beta 0.01 --n_latents 768 --comment </span>\n",
       "<span style=\"color: #008000; text-decoration-color: #008000\">k768-b0.01\"</span>,\n",
       "        <span style=\"color: #008000; text-decoration-color: #008000\">\"./fit_vae.sh '0' 'DOVES' 'poisson' 'conv+b|lin' --seed 3 --kl_beta 0.01 --n_latents 768 --comment </span>\n",
       "<span style=\"color: #008000; text-decoration-color: #008000\">k768-b0.01\"</span>,\n",
       "        <span style=\"color: #008000; text-decoration-color: #008000\">\"./fit_vae.sh '0' 'DOVES' 'poisson' 'conv+b|lin' --seed 4 --kl_beta 0.01 --n_latents 768 --comment </span>\n",
       "<span style=\"color: #008000; text-decoration-color: #008000\">k768-b0.01\"</span>,\n",
       "        <span style=\"color: #008000; text-decoration-color: #008000\">\"./fit_vae.sh '0' 'DOVES' 'poisson' 'conv+b|lin' --seed 5 --kl_beta 0.01 --n_latents 768 --comment </span>\n",
       "<span style=\"color: #008000; text-decoration-color: #008000\">k768-b0.01\"</span>,\n",
       "        <span style=\"color: #008000; text-decoration-color: #008000\">\"./fit_vae.sh '0' 'DOVES' 'poisson' 'conv+b|lin' --seed 1 --kl_beta 0.01 --n_latents 1024 --comment </span>\n",
       "<span style=\"color: #008000; text-decoration-color: #008000\">k1024-b0.01\"</span>,\n",
       "        <span style=\"color: #008000; text-decoration-color: #008000\">\"./fit_vae.sh '0' 'DOVES' 'poisson' 'conv+b|lin' --seed 2 --kl_beta 0.01 --n_latents 1024 --comment </span>\n",
       "<span style=\"color: #008000; text-decoration-color: #008000\">k1024-b0.01\"</span>,\n",
       "        <span style=\"color: #008000; text-decoration-color: #008000\">\"./fit_vae.sh '0' 'DOVES' 'poisson' 'conv+b|lin' --seed 3 --kl_beta 0.01 --n_latents 1024 --comment </span>\n",
       "<span style=\"color: #008000; text-decoration-color: #008000\">k1024-b0.01\"</span>,\n",
       "        <span style=\"color: #008000; text-decoration-color: #008000\">\"./fit_vae.sh '0' 'DOVES' 'poisson' 'conv+b|lin' --seed 4 --kl_beta 0.01 --n_latents 1024 --comment </span>\n",
       "<span style=\"color: #008000; text-decoration-color: #008000\">k1024-b0.01\"</span>,\n",
       "        <span style=\"color: #008000; text-decoration-color: #008000\">\"./fit_vae.sh '0' 'DOVES' 'poisson' 'conv+b|lin' --seed 5 --kl_beta 0.01 --n_latents 1024 --comment </span>\n",
       "<span style=\"color: #008000; text-decoration-color: #008000\">k1024-b0.01\"</span>,\n",
       "        <span style=\"color: #008000; text-decoration-color: #008000\">\"./fit_vae.sh '0' 'DOVES' 'poisson' 'conv+b|lin' --seed 1 --kl_beta 0.2 --n_latents 768 --comment </span>\n",
       "<span style=\"color: #008000; text-decoration-color: #008000\">k768-b0.2\"</span>,\n",
       "        <span style=\"color: #008000; text-decoration-color: #008000\">\"./fit_vae.sh '0' 'DOVES' 'poisson' 'conv+b|lin' --seed 2 --kl_beta 0.2 --n_latents 768 --comment </span>\n",
       "<span style=\"color: #008000; text-decoration-color: #008000\">k768-b0.2\"</span>,\n",
       "        <span style=\"color: #008000; text-decoration-color: #008000\">\"./fit_vae.sh '0' 'DOVES' 'poisson' 'conv+b|lin' --seed 3 --kl_beta 0.2 --n_latents 768 --comment </span>\n",
       "<span style=\"color: #008000; text-decoration-color: #008000\">k768-b0.2\"</span>,\n",
       "        <span style=\"color: #008000; text-decoration-color: #008000\">\"./fit_vae.sh '0' 'DOVES' 'poisson' 'conv+b|lin' --seed 4 --kl_beta 0.2 --n_latents 768 --comment </span>\n",
       "<span style=\"color: #008000; text-decoration-color: #008000\">k768-b0.2\"</span>,\n",
       "        <span style=\"color: #008000; text-decoration-color: #008000\">\"./fit_vae.sh '0' 'DOVES' 'poisson' 'conv+b|lin' --seed 5 --kl_beta 0.2 --n_latents 768 --comment </span>\n",
       "<span style=\"color: #008000; text-decoration-color: #008000\">k768-b0.2\"</span>,\n",
       "        <span style=\"color: #008000; text-decoration-color: #008000\">\"./fit_vae.sh '0' 'DOVES' 'poisson' 'conv+b|lin' --seed 1 --kl_beta 0.2 --n_latents 1024 --comment </span>\n",
       "<span style=\"color: #008000; text-decoration-color: #008000\">k1024-b0.2\"</span>,\n",
       "        <span style=\"color: #008000; text-decoration-color: #008000\">\"./fit_vae.sh '0' 'DOVES' 'poisson' 'conv+b|lin' --seed 2 --kl_beta 0.2 --n_latents 1024 --comment </span>\n",
       "<span style=\"color: #008000; text-decoration-color: #008000\">k1024-b0.2\"</span>,\n",
       "        <span style=\"color: #008000; text-decoration-color: #008000\">\"./fit_vae.sh '0' 'DOVES' 'poisson' 'conv+b|lin' --seed 3 --kl_beta 0.2 --n_latents 1024 --comment </span>\n",
       "<span style=\"color: #008000; text-decoration-color: #008000\">k1024-b0.2\"</span>,\n",
       "        <span style=\"color: #008000; text-decoration-color: #008000\">\"./fit_vae.sh '0' 'DOVES' 'poisson' 'conv+b|lin' --seed 4 --kl_beta 0.2 --n_latents 1024 --comment </span>\n",
       "<span style=\"color: #008000; text-decoration-color: #008000\">k1024-b0.2\"</span>,\n",
       "        <span style=\"color: #008000; text-decoration-color: #008000\">\"./fit_vae.sh '0' 'DOVES' 'poisson' 'conv+b|lin' --seed 5 --kl_beta 0.2 --n_latents 1024 --comment </span>\n",
       "<span style=\"color: #008000; text-decoration-color: #008000\">k1024-b0.2\"</span>,\n",
       "        <span style=\"color: #008000; text-decoration-color: #008000\">\"./fit_vae.sh '0' 'DOVES' 'poisson' 'conv+b|lin' --seed 1 --kl_beta 0.4 --n_latents 768 --comment </span>\n",
       "<span style=\"color: #008000; text-decoration-color: #008000\">k768-b0.4\"</span>,\n",
       "        <span style=\"color: #008000; text-decoration-color: #008000\">\"./fit_vae.sh '0' 'DOVES' 'poisson' 'conv+b|lin' --seed 2 --kl_beta 0.4 --n_latents 768 --comment </span>\n",
       "<span style=\"color: #008000; text-decoration-color: #008000\">k768-b0.4\"</span>,\n",
       "        <span style=\"color: #008000; text-decoration-color: #008000\">\"./fit_vae.sh '0' 'DOVES' 'poisson' 'conv+b|lin' --seed 3 --kl_beta 0.4 --n_latents 768 --comment </span>\n",
       "<span style=\"color: #008000; text-decoration-color: #008000\">k768-b0.4\"</span>,\n",
       "        <span style=\"color: #008000; text-decoration-color: #008000\">\"./fit_vae.sh '0' 'DOVES' 'poisson' 'conv+b|lin' --seed 4 --kl_beta 0.4 --n_latents 768 --comment </span>\n",
       "<span style=\"color: #008000; text-decoration-color: #008000\">k768-b0.4\"</span>,\n",
       "        <span style=\"color: #008000; text-decoration-color: #008000\">\"./fit_vae.sh '0' 'DOVES' 'poisson' 'conv+b|lin' --seed 5 --kl_beta 0.4 --n_latents 768 --comment </span>\n",
       "<span style=\"color: #008000; text-decoration-color: #008000\">k768-b0.4\"</span>,\n",
       "        <span style=\"color: #008000; text-decoration-color: #008000\">\"./fit_vae.sh '0' 'DOVES' 'poisson' 'conv+b|lin' --seed 1 --kl_beta 0.4 --n_latents 1024 --comment </span>\n",
       "<span style=\"color: #008000; text-decoration-color: #008000\">k1024-b0.4\"</span>,\n",
       "        <span style=\"color: #008000; text-decoration-color: #008000\">\"./fit_vae.sh '0' 'DOVES' 'poisson' 'conv+b|lin' --seed 2 --kl_beta 0.4 --n_latents 1024 --comment </span>\n",
       "<span style=\"color: #008000; text-decoration-color: #008000\">k1024-b0.4\"</span>,\n",
       "        <span style=\"color: #008000; text-decoration-color: #008000\">\"./fit_vae.sh '0' 'DOVES' 'poisson' 'conv+b|lin' --seed 3 --kl_beta 0.4 --n_latents 1024 --comment </span>\n",
       "<span style=\"color: #008000; text-decoration-color: #008000\">k1024-b0.4\"</span>,\n",
       "        <span style=\"color: #008000; text-decoration-color: #008000\">\"./fit_vae.sh '0' 'DOVES' 'poisson' 'conv+b|lin' --seed 4 --kl_beta 0.4 --n_latents 1024 --comment </span>\n",
       "<span style=\"color: #008000; text-decoration-color: #008000\">k1024-b0.4\"</span>,\n",
       "        <span style=\"color: #008000; text-decoration-color: #008000\">\"./fit_vae.sh '0' 'DOVES' 'poisson' 'conv+b|lin' --seed 5 --kl_beta 0.4 --n_latents 1024 --comment </span>\n",
       "<span style=\"color: #008000; text-decoration-color: #008000\">k1024-b0.4\"</span>,\n",
       "        <span style=\"color: #008000; text-decoration-color: #008000\">\"./fit_vae.sh '0' 'DOVES' 'poisson' 'conv+b|lin' --seed 1 --kl_beta 0.6 --n_latents 768 --comment </span>\n",
       "<span style=\"color: #008000; text-decoration-color: #008000\">k768-b0.6\"</span>,\n",
       "        <span style=\"color: #008000; text-decoration-color: #008000\">\"./fit_vae.sh '0' 'DOVES' 'poisson' 'conv+b|lin' --seed 2 --kl_beta 0.6 --n_latents 768 --comment </span>\n",
       "<span style=\"color: #008000; text-decoration-color: #008000\">k768-b0.6\"</span>,\n",
       "        <span style=\"color: #008000; text-decoration-color: #008000\">\"./fit_vae.sh '0' 'DOVES' 'poisson' 'conv+b|lin' --seed 3 --kl_beta 0.6 --n_latents 768 --comment </span>\n",
       "<span style=\"color: #008000; text-decoration-color: #008000\">k768-b0.6\"</span>,\n",
       "        <span style=\"color: #008000; text-decoration-color: #008000\">\"./fit_vae.sh '0' 'DOVES' 'poisson' 'conv+b|lin' --seed 4 --kl_beta 0.6 --n_latents 768 --comment </span>\n",
       "<span style=\"color: #008000; text-decoration-color: #008000\">k768-b0.6\"</span>,\n",
       "        <span style=\"color: #008000; text-decoration-color: #008000\">\"./fit_vae.sh '0' 'DOVES' 'poisson' 'conv+b|lin' --seed 5 --kl_beta 0.6 --n_latents 768 --comment </span>\n",
       "<span style=\"color: #008000; text-decoration-color: #008000\">k768-b0.6\"</span>,\n",
       "        <span style=\"color: #008000; text-decoration-color: #008000\">\"./fit_vae.sh '0' 'DOVES' 'poisson' 'conv+b|lin' --seed 1 --kl_beta 0.6 --n_latents 1024 --comment </span>\n",
       "<span style=\"color: #008000; text-decoration-color: #008000\">k1024-b0.6\"</span>,\n",
       "        <span style=\"color: #008000; text-decoration-color: #008000\">\"./fit_vae.sh '0' 'DOVES' 'poisson' 'conv+b|lin' --seed 2 --kl_beta 0.6 --n_latents 1024 --comment </span>\n",
       "<span style=\"color: #008000; text-decoration-color: #008000\">k1024-b0.6\"</span>,\n",
       "        <span style=\"color: #008000; text-decoration-color: #008000\">\"./fit_vae.sh '0' 'DOVES' 'poisson' 'conv+b|lin' --seed 3 --kl_beta 0.6 --n_latents 1024 --comment </span>\n",
       "<span style=\"color: #008000; text-decoration-color: #008000\">k1024-b0.6\"</span>,\n",
       "        <span style=\"color: #008000; text-decoration-color: #008000\">\"./fit_vae.sh '0' 'DOVES' 'poisson' 'conv+b|lin' --seed 4 --kl_beta 0.6 --n_latents 1024 --comment </span>\n",
       "<span style=\"color: #008000; text-decoration-color: #008000\">k1024-b0.6\"</span>,\n",
       "        <span style=\"color: #008000; text-decoration-color: #008000\">\"./fit_vae.sh '0' 'DOVES' 'poisson' 'conv+b|lin' --seed 5 --kl_beta 0.6 --n_latents 1024 --comment </span>\n",
       "<span style=\"color: #008000; text-decoration-color: #008000\">k1024-b0.6\"</span>\n",
       "    <span style=\"font-weight: bold\">]</span>,\n",
       "    <span style=\"color: #008080; text-decoration-color: #008080; font-weight: bold\">1</span>: <span style=\"font-weight: bold\">[</span>\n",
       "        <span style=\"color: #008000; text-decoration-color: #008000\">\"./fit_vae.sh '1' 'DOVES' 'poisson' 'conv+b|lin' --seed 1 --kl_beta 0.8 --n_latents 768 --comment </span>\n",
       "<span style=\"color: #008000; text-decoration-color: #008000\">k768-b0.8\"</span>,\n",
       "        <span style=\"color: #008000; text-decoration-color: #008000\">\"./fit_vae.sh '1' 'DOVES' 'poisson' 'conv+b|lin' --seed 2 --kl_beta 0.8 --n_latents 768 --comment </span>\n",
       "<span style=\"color: #008000; text-decoration-color: #008000\">k768-b0.8\"</span>,\n",
       "        <span style=\"color: #008000; text-decoration-color: #008000\">\"./fit_vae.sh '1' 'DOVES' 'poisson' 'conv+b|lin' --seed 3 --kl_beta 0.8 --n_latents 768 --comment </span>\n",
       "<span style=\"color: #008000; text-decoration-color: #008000\">k768-b0.8\"</span>,\n",
       "        <span style=\"color: #008000; text-decoration-color: #008000\">\"./fit_vae.sh '1' 'DOVES' 'poisson' 'conv+b|lin' --seed 4 --kl_beta 0.8 --n_latents 768 --comment </span>\n",
       "<span style=\"color: #008000; text-decoration-color: #008000\">k768-b0.8\"</span>,\n",
       "        <span style=\"color: #008000; text-decoration-color: #008000\">\"./fit_vae.sh '1' 'DOVES' 'poisson' 'conv+b|lin' --seed 5 --kl_beta 0.8 --n_latents 768 --comment </span>\n",
       "<span style=\"color: #008000; text-decoration-color: #008000\">k768-b0.8\"</span>,\n",
       "        <span style=\"color: #008000; text-decoration-color: #008000\">\"./fit_vae.sh '1' 'DOVES' 'poisson' 'conv+b|lin' --seed 1 --kl_beta 0.8 --n_latents 1024 --comment </span>\n",
       "<span style=\"color: #008000; text-decoration-color: #008000\">k1024-b0.8\"</span>,\n",
       "        <span style=\"color: #008000; text-decoration-color: #008000\">\"./fit_vae.sh '1' 'DOVES' 'poisson' 'conv+b|lin' --seed 2 --kl_beta 0.8 --n_latents 1024 --comment </span>\n",
       "<span style=\"color: #008000; text-decoration-color: #008000\">k1024-b0.8\"</span>,\n",
       "        <span style=\"color: #008000; text-decoration-color: #008000\">\"./fit_vae.sh '1' 'DOVES' 'poisson' 'conv+b|lin' --seed 3 --kl_beta 0.8 --n_latents 1024 --comment </span>\n",
       "<span style=\"color: #008000; text-decoration-color: #008000\">k1024-b0.8\"</span>,\n",
       "        <span style=\"color: #008000; text-decoration-color: #008000\">\"./fit_vae.sh '1' 'DOVES' 'poisson' 'conv+b|lin' --seed 4 --kl_beta 0.8 --n_latents 1024 --comment </span>\n",
       "<span style=\"color: #008000; text-decoration-color: #008000\">k1024-b0.8\"</span>,\n",
       "        <span style=\"color: #008000; text-decoration-color: #008000\">\"./fit_vae.sh '1' 'DOVES' 'poisson' 'conv+b|lin' --seed 5 --kl_beta 0.8 --n_latents 1024 --comment </span>\n",
       "<span style=\"color: #008000; text-decoration-color: #008000\">k1024-b0.8\"</span>,\n",
       "        <span style=\"color: #008000; text-decoration-color: #008000\">\"./fit_vae.sh '1' 'DOVES' 'poisson' 'conv+b|lin' --seed 1 --kl_beta 1.0 --n_latents 768 --comment k768-b1\"</span>,\n",
       "        <span style=\"color: #008000; text-decoration-color: #008000\">\"./fit_vae.sh '1' 'DOVES' 'poisson' 'conv+b|lin' --seed 2 --kl_beta 1.0 --n_latents 768 --comment k768-b1\"</span>,\n",
       "        <span style=\"color: #008000; text-decoration-color: #008000\">\"./fit_vae.sh '1' 'DOVES' 'poisson' 'conv+b|lin' --seed 3 --kl_beta 1.0 --n_latents 768 --comment k768-b1\"</span>,\n",
       "        <span style=\"color: #008000; text-decoration-color: #008000\">\"./fit_vae.sh '1' 'DOVES' 'poisson' 'conv+b|lin' --seed 4 --kl_beta 1.0 --n_latents 768 --comment k768-b1\"</span>,\n",
       "        <span style=\"color: #008000; text-decoration-color: #008000\">\"./fit_vae.sh '1' 'DOVES' 'poisson' 'conv+b|lin' --seed 5 --kl_beta 1.0 --n_latents 768 --comment k768-b1\"</span>,\n",
       "        <span style=\"color: #008000; text-decoration-color: #008000\">\"./fit_vae.sh '1' 'DOVES' 'poisson' 'conv+b|lin' --seed 1 --kl_beta 1.0 --n_latents 1024 --comment </span>\n",
       "<span style=\"color: #008000; text-decoration-color: #008000\">k1024-b1\"</span>,\n",
       "        <span style=\"color: #008000; text-decoration-color: #008000\">\"./fit_vae.sh '1' 'DOVES' 'poisson' 'conv+b|lin' --seed 2 --kl_beta 1.0 --n_latents 1024 --comment </span>\n",
       "<span style=\"color: #008000; text-decoration-color: #008000\">k1024-b1\"</span>,\n",
       "        <span style=\"color: #008000; text-decoration-color: #008000\">\"./fit_vae.sh '1' 'DOVES' 'poisson' 'conv+b|lin' --seed 3 --kl_beta 1.0 --n_latents 1024 --comment </span>\n",
       "<span style=\"color: #008000; text-decoration-color: #008000\">k1024-b1\"</span>,\n",
       "        <span style=\"color: #008000; text-decoration-color: #008000\">\"./fit_vae.sh '1' 'DOVES' 'poisson' 'conv+b|lin' --seed 4 --kl_beta 1.0 --n_latents 1024 --comment </span>\n",
       "<span style=\"color: #008000; text-decoration-color: #008000\">k1024-b1\"</span>,\n",
       "        <span style=\"color: #008000; text-decoration-color: #008000\">\"./fit_vae.sh '1' 'DOVES' 'poisson' 'conv+b|lin' --seed 5 --kl_beta 1.0 --n_latents 1024 --comment </span>\n",
       "<span style=\"color: #008000; text-decoration-color: #008000\">k1024-b1\"</span>,\n",
       "        <span style=\"color: #008000; text-decoration-color: #008000\">\"./fit_vae.sh '1' 'DOVES' 'poisson' 'conv+b|lin' --seed 1 --kl_beta 1.5 --n_latents 768 --comment </span>\n",
       "<span style=\"color: #008000; text-decoration-color: #008000\">k768-b1.5\"</span>,\n",
       "        <span style=\"color: #008000; text-decoration-color: #008000\">\"./fit_vae.sh '1' 'DOVES' 'poisson' 'conv+b|lin' --seed 2 --kl_beta 1.5 --n_latents 768 --comment </span>\n",
       "<span style=\"color: #008000; text-decoration-color: #008000\">k768-b1.5\"</span>,\n",
       "        <span style=\"color: #008000; text-decoration-color: #008000\">\"./fit_vae.sh '1' 'DOVES' 'poisson' 'conv+b|lin' --seed 3 --kl_beta 1.5 --n_latents 768 --comment </span>\n",
       "<span style=\"color: #008000; text-decoration-color: #008000\">k768-b1.5\"</span>,\n",
       "        <span style=\"color: #008000; text-decoration-color: #008000\">\"./fit_vae.sh '1' 'DOVES' 'poisson' 'conv+b|lin' --seed 4 --kl_beta 1.5 --n_latents 768 --comment </span>\n",
       "<span style=\"color: #008000; text-decoration-color: #008000\">k768-b1.5\"</span>,\n",
       "        <span style=\"color: #008000; text-decoration-color: #008000\">\"./fit_vae.sh '1' 'DOVES' 'poisson' 'conv+b|lin' --seed 5 --kl_beta 1.5 --n_latents 768 --comment </span>\n",
       "<span style=\"color: #008000; text-decoration-color: #008000\">k768-b1.5\"</span>,\n",
       "        <span style=\"color: #008000; text-decoration-color: #008000\">\"./fit_vae.sh '1' 'DOVES' 'poisson' 'conv+b|lin' --seed 1 --kl_beta 1.5 --n_latents 1024 --comment </span>\n",
       "<span style=\"color: #008000; text-decoration-color: #008000\">k1024-b1.5\"</span>,\n",
       "        <span style=\"color: #008000; text-decoration-color: #008000\">\"./fit_vae.sh '1' 'DOVES' 'poisson' 'conv+b|lin' --seed 2 --kl_beta 1.5 --n_latents 1024 --comment </span>\n",
       "<span style=\"color: #008000; text-decoration-color: #008000\">k1024-b1.5\"</span>,\n",
       "        <span style=\"color: #008000; text-decoration-color: #008000\">\"./fit_vae.sh '1' 'DOVES' 'poisson' 'conv+b|lin' --seed 3 --kl_beta 1.5 --n_latents 1024 --comment </span>\n",
       "<span style=\"color: #008000; text-decoration-color: #008000\">k1024-b1.5\"</span>,\n",
       "        <span style=\"color: #008000; text-decoration-color: #008000\">\"./fit_vae.sh '1' 'DOVES' 'poisson' 'conv+b|lin' --seed 4 --kl_beta 1.5 --n_latents 1024 --comment </span>\n",
       "<span style=\"color: #008000; text-decoration-color: #008000\">k1024-b1.5\"</span>,\n",
       "        <span style=\"color: #008000; text-decoration-color: #008000\">\"./fit_vae.sh '1' 'DOVES' 'poisson' 'conv+b|lin' --seed 5 --kl_beta 1.5 --n_latents 1024 --comment </span>\n",
       "<span style=\"color: #008000; text-decoration-color: #008000\">k1024-b1.5\"</span>,\n",
       "        <span style=\"color: #008000; text-decoration-color: #008000\">\"./fit_vae.sh '1' 'DOVES' 'poisson' 'conv+b|lin' --seed 1 --kl_beta 4.0 --n_latents 768 --comment k768-b4\"</span>,\n",
       "        <span style=\"color: #008000; text-decoration-color: #008000\">\"./fit_vae.sh '1' 'DOVES' 'poisson' 'conv+b|lin' --seed 2 --kl_beta 4.0 --n_latents 768 --comment k768-b4\"</span>,\n",
       "        <span style=\"color: #008000; text-decoration-color: #008000\">\"./fit_vae.sh '1' 'DOVES' 'poisson' 'conv+b|lin' --seed 3 --kl_beta 4.0 --n_latents 768 --comment k768-b4\"</span>,\n",
       "        <span style=\"color: #008000; text-decoration-color: #008000\">\"./fit_vae.sh '1' 'DOVES' 'poisson' 'conv+b|lin' --seed 4 --kl_beta 4.0 --n_latents 768 --comment k768-b4\"</span>,\n",
       "        <span style=\"color: #008000; text-decoration-color: #008000\">\"./fit_vae.sh '1' 'DOVES' 'poisson' 'conv+b|lin' --seed 5 --kl_beta 4.0 --n_latents 768 --comment k768-b4\"</span>,\n",
       "        <span style=\"color: #008000; text-decoration-color: #008000\">\"./fit_vae.sh '1' 'DOVES' 'poisson' 'conv+b|lin' --seed 1 --kl_beta 4.0 --n_latents 1024 --comment </span>\n",
       "<span style=\"color: #008000; text-decoration-color: #008000\">k1024-b4\"</span>,\n",
       "        <span style=\"color: #008000; text-decoration-color: #008000\">\"./fit_vae.sh '1' 'DOVES' 'poisson' 'conv+b|lin' --seed 2 --kl_beta 4.0 --n_latents 1024 --comment </span>\n",
       "<span style=\"color: #008000; text-decoration-color: #008000\">k1024-b4\"</span>,\n",
       "        <span style=\"color: #008000; text-decoration-color: #008000\">\"./fit_vae.sh '1' 'DOVES' 'poisson' 'conv+b|lin' --seed 3 --kl_beta 4.0 --n_latents 1024 --comment </span>\n",
       "<span style=\"color: #008000; text-decoration-color: #008000\">k1024-b4\"</span>,\n",
       "        <span style=\"color: #008000; text-decoration-color: #008000\">\"./fit_vae.sh '1' 'DOVES' 'poisson' 'conv+b|lin' --seed 4 --kl_beta 4.0 --n_latents 1024 --comment </span>\n",
       "<span style=\"color: #008000; text-decoration-color: #008000\">k1024-b4\"</span>,\n",
       "        <span style=\"color: #008000; text-decoration-color: #008000\">\"./fit_vae.sh '1' 'DOVES' 'poisson' 'conv+b|lin' --seed 5 --kl_beta 4.0 --n_latents 1024 --comment </span>\n",
       "<span style=\"color: #008000; text-decoration-color: #008000\">k1024-b4\"</span>\n",
       "    <span style=\"font-weight: bold\">]</span>\n",
       "<span style=\"font-weight: bold\">}</span>\n",
       "</pre>\n"
      ],
      "text/plain": [
       "\u001b[1m{\u001b[0m\n",
       "    \u001b[1;36m0\u001b[0m: \u001b[1m[\u001b[0m\n",
       "        \u001b[32m\"./fit_vae.sh '0' 'DOVES' 'poisson' 'conv+b|lin' --seed 1 --kl_beta 0.01 --n_latents 768 --comment \u001b[0m\n",
       "\u001b[32mk768-b0.01\"\u001b[0m,\n",
       "        \u001b[32m\"./fit_vae.sh '0' 'DOVES' 'poisson' 'conv+b|lin' --seed 2 --kl_beta 0.01 --n_latents 768 --comment \u001b[0m\n",
       "\u001b[32mk768-b0.01\"\u001b[0m,\n",
       "        \u001b[32m\"./fit_vae.sh '0' 'DOVES' 'poisson' 'conv+b|lin' --seed 3 --kl_beta 0.01 --n_latents 768 --comment \u001b[0m\n",
       "\u001b[32mk768-b0.01\"\u001b[0m,\n",
       "        \u001b[32m\"./fit_vae.sh '0' 'DOVES' 'poisson' 'conv+b|lin' --seed 4 --kl_beta 0.01 --n_latents 768 --comment \u001b[0m\n",
       "\u001b[32mk768-b0.01\"\u001b[0m,\n",
       "        \u001b[32m\"./fit_vae.sh '0' 'DOVES' 'poisson' 'conv+b|lin' --seed 5 --kl_beta 0.01 --n_latents 768 --comment \u001b[0m\n",
       "\u001b[32mk768-b0.01\"\u001b[0m,\n",
       "        \u001b[32m\"./fit_vae.sh '0' 'DOVES' 'poisson' 'conv+b|lin' --seed 1 --kl_beta 0.01 --n_latents 1024 --comment \u001b[0m\n",
       "\u001b[32mk1024-b0.01\"\u001b[0m,\n",
       "        \u001b[32m\"./fit_vae.sh '0' 'DOVES' 'poisson' 'conv+b|lin' --seed 2 --kl_beta 0.01 --n_latents 1024 --comment \u001b[0m\n",
       "\u001b[32mk1024-b0.01\"\u001b[0m,\n",
       "        \u001b[32m\"./fit_vae.sh '0' 'DOVES' 'poisson' 'conv+b|lin' --seed 3 --kl_beta 0.01 --n_latents 1024 --comment \u001b[0m\n",
       "\u001b[32mk1024-b0.01\"\u001b[0m,\n",
       "        \u001b[32m\"./fit_vae.sh '0' 'DOVES' 'poisson' 'conv+b|lin' --seed 4 --kl_beta 0.01 --n_latents 1024 --comment \u001b[0m\n",
       "\u001b[32mk1024-b0.01\"\u001b[0m,\n",
       "        \u001b[32m\"./fit_vae.sh '0' 'DOVES' 'poisson' 'conv+b|lin' --seed 5 --kl_beta 0.01 --n_latents 1024 --comment \u001b[0m\n",
       "\u001b[32mk1024-b0.01\"\u001b[0m,\n",
       "        \u001b[32m\"./fit_vae.sh '0' 'DOVES' 'poisson' 'conv+b|lin' --seed 1 --kl_beta 0.2 --n_latents 768 --comment \u001b[0m\n",
       "\u001b[32mk768-b0.2\"\u001b[0m,\n",
       "        \u001b[32m\"./fit_vae.sh '0' 'DOVES' 'poisson' 'conv+b|lin' --seed 2 --kl_beta 0.2 --n_latents 768 --comment \u001b[0m\n",
       "\u001b[32mk768-b0.2\"\u001b[0m,\n",
       "        \u001b[32m\"./fit_vae.sh '0' 'DOVES' 'poisson' 'conv+b|lin' --seed 3 --kl_beta 0.2 --n_latents 768 --comment \u001b[0m\n",
       "\u001b[32mk768-b0.2\"\u001b[0m,\n",
       "        \u001b[32m\"./fit_vae.sh '0' 'DOVES' 'poisson' 'conv+b|lin' --seed 4 --kl_beta 0.2 --n_latents 768 --comment \u001b[0m\n",
       "\u001b[32mk768-b0.2\"\u001b[0m,\n",
       "        \u001b[32m\"./fit_vae.sh '0' 'DOVES' 'poisson' 'conv+b|lin' --seed 5 --kl_beta 0.2 --n_latents 768 --comment \u001b[0m\n",
       "\u001b[32mk768-b0.2\"\u001b[0m,\n",
       "        \u001b[32m\"./fit_vae.sh '0' 'DOVES' 'poisson' 'conv+b|lin' --seed 1 --kl_beta 0.2 --n_latents 1024 --comment \u001b[0m\n",
       "\u001b[32mk1024-b0.2\"\u001b[0m,\n",
       "        \u001b[32m\"./fit_vae.sh '0' 'DOVES' 'poisson' 'conv+b|lin' --seed 2 --kl_beta 0.2 --n_latents 1024 --comment \u001b[0m\n",
       "\u001b[32mk1024-b0.2\"\u001b[0m,\n",
       "        \u001b[32m\"./fit_vae.sh '0' 'DOVES' 'poisson' 'conv+b|lin' --seed 3 --kl_beta 0.2 --n_latents 1024 --comment \u001b[0m\n",
       "\u001b[32mk1024-b0.2\"\u001b[0m,\n",
       "        \u001b[32m\"./fit_vae.sh '0' 'DOVES' 'poisson' 'conv+b|lin' --seed 4 --kl_beta 0.2 --n_latents 1024 --comment \u001b[0m\n",
       "\u001b[32mk1024-b0.2\"\u001b[0m,\n",
       "        \u001b[32m\"./fit_vae.sh '0' 'DOVES' 'poisson' 'conv+b|lin' --seed 5 --kl_beta 0.2 --n_latents 1024 --comment \u001b[0m\n",
       "\u001b[32mk1024-b0.2\"\u001b[0m,\n",
       "        \u001b[32m\"./fit_vae.sh '0' 'DOVES' 'poisson' 'conv+b|lin' --seed 1 --kl_beta 0.4 --n_latents 768 --comment \u001b[0m\n",
       "\u001b[32mk768-b0.4\"\u001b[0m,\n",
       "        \u001b[32m\"./fit_vae.sh '0' 'DOVES' 'poisson' 'conv+b|lin' --seed 2 --kl_beta 0.4 --n_latents 768 --comment \u001b[0m\n",
       "\u001b[32mk768-b0.4\"\u001b[0m,\n",
       "        \u001b[32m\"./fit_vae.sh '0' 'DOVES' 'poisson' 'conv+b|lin' --seed 3 --kl_beta 0.4 --n_latents 768 --comment \u001b[0m\n",
       "\u001b[32mk768-b0.4\"\u001b[0m,\n",
       "        \u001b[32m\"./fit_vae.sh '0' 'DOVES' 'poisson' 'conv+b|lin' --seed 4 --kl_beta 0.4 --n_latents 768 --comment \u001b[0m\n",
       "\u001b[32mk768-b0.4\"\u001b[0m,\n",
       "        \u001b[32m\"./fit_vae.sh '0' 'DOVES' 'poisson' 'conv+b|lin' --seed 5 --kl_beta 0.4 --n_latents 768 --comment \u001b[0m\n",
       "\u001b[32mk768-b0.4\"\u001b[0m,\n",
       "        \u001b[32m\"./fit_vae.sh '0' 'DOVES' 'poisson' 'conv+b|lin' --seed 1 --kl_beta 0.4 --n_latents 1024 --comment \u001b[0m\n",
       "\u001b[32mk1024-b0.4\"\u001b[0m,\n",
       "        \u001b[32m\"./fit_vae.sh '0' 'DOVES' 'poisson' 'conv+b|lin' --seed 2 --kl_beta 0.4 --n_latents 1024 --comment \u001b[0m\n",
       "\u001b[32mk1024-b0.4\"\u001b[0m,\n",
       "        \u001b[32m\"./fit_vae.sh '0' 'DOVES' 'poisson' 'conv+b|lin' --seed 3 --kl_beta 0.4 --n_latents 1024 --comment \u001b[0m\n",
       "\u001b[32mk1024-b0.4\"\u001b[0m,\n",
       "        \u001b[32m\"./fit_vae.sh '0' 'DOVES' 'poisson' 'conv+b|lin' --seed 4 --kl_beta 0.4 --n_latents 1024 --comment \u001b[0m\n",
       "\u001b[32mk1024-b0.4\"\u001b[0m,\n",
       "        \u001b[32m\"./fit_vae.sh '0' 'DOVES' 'poisson' 'conv+b|lin' --seed 5 --kl_beta 0.4 --n_latents 1024 --comment \u001b[0m\n",
       "\u001b[32mk1024-b0.4\"\u001b[0m,\n",
       "        \u001b[32m\"./fit_vae.sh '0' 'DOVES' 'poisson' 'conv+b|lin' --seed 1 --kl_beta 0.6 --n_latents 768 --comment \u001b[0m\n",
       "\u001b[32mk768-b0.6\"\u001b[0m,\n",
       "        \u001b[32m\"./fit_vae.sh '0' 'DOVES' 'poisson' 'conv+b|lin' --seed 2 --kl_beta 0.6 --n_latents 768 --comment \u001b[0m\n",
       "\u001b[32mk768-b0.6\"\u001b[0m,\n",
       "        \u001b[32m\"./fit_vae.sh '0' 'DOVES' 'poisson' 'conv+b|lin' --seed 3 --kl_beta 0.6 --n_latents 768 --comment \u001b[0m\n",
       "\u001b[32mk768-b0.6\"\u001b[0m,\n",
       "        \u001b[32m\"./fit_vae.sh '0' 'DOVES' 'poisson' 'conv+b|lin' --seed 4 --kl_beta 0.6 --n_latents 768 --comment \u001b[0m\n",
       "\u001b[32mk768-b0.6\"\u001b[0m,\n",
       "        \u001b[32m\"./fit_vae.sh '0' 'DOVES' 'poisson' 'conv+b|lin' --seed 5 --kl_beta 0.6 --n_latents 768 --comment \u001b[0m\n",
       "\u001b[32mk768-b0.6\"\u001b[0m,\n",
       "        \u001b[32m\"./fit_vae.sh '0' 'DOVES' 'poisson' 'conv+b|lin' --seed 1 --kl_beta 0.6 --n_latents 1024 --comment \u001b[0m\n",
       "\u001b[32mk1024-b0.6\"\u001b[0m,\n",
       "        \u001b[32m\"./fit_vae.sh '0' 'DOVES' 'poisson' 'conv+b|lin' --seed 2 --kl_beta 0.6 --n_latents 1024 --comment \u001b[0m\n",
       "\u001b[32mk1024-b0.6\"\u001b[0m,\n",
       "        \u001b[32m\"./fit_vae.sh '0' 'DOVES' 'poisson' 'conv+b|lin' --seed 3 --kl_beta 0.6 --n_latents 1024 --comment \u001b[0m\n",
       "\u001b[32mk1024-b0.6\"\u001b[0m,\n",
       "        \u001b[32m\"./fit_vae.sh '0' 'DOVES' 'poisson' 'conv+b|lin' --seed 4 --kl_beta 0.6 --n_latents 1024 --comment \u001b[0m\n",
       "\u001b[32mk1024-b0.6\"\u001b[0m,\n",
       "        \u001b[32m\"./fit_vae.sh '0' 'DOVES' 'poisson' 'conv+b|lin' --seed 5 --kl_beta 0.6 --n_latents 1024 --comment \u001b[0m\n",
       "\u001b[32mk1024-b0.6\"\u001b[0m\n",
       "    \u001b[1m]\u001b[0m,\n",
       "    \u001b[1;36m1\u001b[0m: \u001b[1m[\u001b[0m\n",
       "        \u001b[32m\"./fit_vae.sh '1' 'DOVES' 'poisson' 'conv+b|lin' --seed 1 --kl_beta 0.8 --n_latents 768 --comment \u001b[0m\n",
       "\u001b[32mk768-b0.8\"\u001b[0m,\n",
       "        \u001b[32m\"./fit_vae.sh '1' 'DOVES' 'poisson' 'conv+b|lin' --seed 2 --kl_beta 0.8 --n_latents 768 --comment \u001b[0m\n",
       "\u001b[32mk768-b0.8\"\u001b[0m,\n",
       "        \u001b[32m\"./fit_vae.sh '1' 'DOVES' 'poisson' 'conv+b|lin' --seed 3 --kl_beta 0.8 --n_latents 768 --comment \u001b[0m\n",
       "\u001b[32mk768-b0.8\"\u001b[0m,\n",
       "        \u001b[32m\"./fit_vae.sh '1' 'DOVES' 'poisson' 'conv+b|lin' --seed 4 --kl_beta 0.8 --n_latents 768 --comment \u001b[0m\n",
       "\u001b[32mk768-b0.8\"\u001b[0m,\n",
       "        \u001b[32m\"./fit_vae.sh '1' 'DOVES' 'poisson' 'conv+b|lin' --seed 5 --kl_beta 0.8 --n_latents 768 --comment \u001b[0m\n",
       "\u001b[32mk768-b0.8\"\u001b[0m,\n",
       "        \u001b[32m\"./fit_vae.sh '1' 'DOVES' 'poisson' 'conv+b|lin' --seed 1 --kl_beta 0.8 --n_latents 1024 --comment \u001b[0m\n",
       "\u001b[32mk1024-b0.8\"\u001b[0m,\n",
       "        \u001b[32m\"./fit_vae.sh '1' 'DOVES' 'poisson' 'conv+b|lin' --seed 2 --kl_beta 0.8 --n_latents 1024 --comment \u001b[0m\n",
       "\u001b[32mk1024-b0.8\"\u001b[0m,\n",
       "        \u001b[32m\"./fit_vae.sh '1' 'DOVES' 'poisson' 'conv+b|lin' --seed 3 --kl_beta 0.8 --n_latents 1024 --comment \u001b[0m\n",
       "\u001b[32mk1024-b0.8\"\u001b[0m,\n",
       "        \u001b[32m\"./fit_vae.sh '1' 'DOVES' 'poisson' 'conv+b|lin' --seed 4 --kl_beta 0.8 --n_latents 1024 --comment \u001b[0m\n",
       "\u001b[32mk1024-b0.8\"\u001b[0m,\n",
       "        \u001b[32m\"./fit_vae.sh '1' 'DOVES' 'poisson' 'conv+b|lin' --seed 5 --kl_beta 0.8 --n_latents 1024 --comment \u001b[0m\n",
       "\u001b[32mk1024-b0.8\"\u001b[0m,\n",
       "        \u001b[32m\"./fit_vae.sh '1' 'DOVES' 'poisson' 'conv+b|lin' --seed 1 --kl_beta 1.0 --n_latents 768 --comment k768-b1\"\u001b[0m,\n",
       "        \u001b[32m\"./fit_vae.sh '1' 'DOVES' 'poisson' 'conv+b|lin' --seed 2 --kl_beta 1.0 --n_latents 768 --comment k768-b1\"\u001b[0m,\n",
       "        \u001b[32m\"./fit_vae.sh '1' 'DOVES' 'poisson' 'conv+b|lin' --seed 3 --kl_beta 1.0 --n_latents 768 --comment k768-b1\"\u001b[0m,\n",
       "        \u001b[32m\"./fit_vae.sh '1' 'DOVES' 'poisson' 'conv+b|lin' --seed 4 --kl_beta 1.0 --n_latents 768 --comment k768-b1\"\u001b[0m,\n",
       "        \u001b[32m\"./fit_vae.sh '1' 'DOVES' 'poisson' 'conv+b|lin' --seed 5 --kl_beta 1.0 --n_latents 768 --comment k768-b1\"\u001b[0m,\n",
       "        \u001b[32m\"./fit_vae.sh '1' 'DOVES' 'poisson' 'conv+b|lin' --seed 1 --kl_beta 1.0 --n_latents 1024 --comment \u001b[0m\n",
       "\u001b[32mk1024-b1\"\u001b[0m,\n",
       "        \u001b[32m\"./fit_vae.sh '1' 'DOVES' 'poisson' 'conv+b|lin' --seed 2 --kl_beta 1.0 --n_latents 1024 --comment \u001b[0m\n",
       "\u001b[32mk1024-b1\"\u001b[0m,\n",
       "        \u001b[32m\"./fit_vae.sh '1' 'DOVES' 'poisson' 'conv+b|lin' --seed 3 --kl_beta 1.0 --n_latents 1024 --comment \u001b[0m\n",
       "\u001b[32mk1024-b1\"\u001b[0m,\n",
       "        \u001b[32m\"./fit_vae.sh '1' 'DOVES' 'poisson' 'conv+b|lin' --seed 4 --kl_beta 1.0 --n_latents 1024 --comment \u001b[0m\n",
       "\u001b[32mk1024-b1\"\u001b[0m,\n",
       "        \u001b[32m\"./fit_vae.sh '1' 'DOVES' 'poisson' 'conv+b|lin' --seed 5 --kl_beta 1.0 --n_latents 1024 --comment \u001b[0m\n",
       "\u001b[32mk1024-b1\"\u001b[0m,\n",
       "        \u001b[32m\"./fit_vae.sh '1' 'DOVES' 'poisson' 'conv+b|lin' --seed 1 --kl_beta 1.5 --n_latents 768 --comment \u001b[0m\n",
       "\u001b[32mk768-b1.5\"\u001b[0m,\n",
       "        \u001b[32m\"./fit_vae.sh '1' 'DOVES' 'poisson' 'conv+b|lin' --seed 2 --kl_beta 1.5 --n_latents 768 --comment \u001b[0m\n",
       "\u001b[32mk768-b1.5\"\u001b[0m,\n",
       "        \u001b[32m\"./fit_vae.sh '1' 'DOVES' 'poisson' 'conv+b|lin' --seed 3 --kl_beta 1.5 --n_latents 768 --comment \u001b[0m\n",
       "\u001b[32mk768-b1.5\"\u001b[0m,\n",
       "        \u001b[32m\"./fit_vae.sh '1' 'DOVES' 'poisson' 'conv+b|lin' --seed 4 --kl_beta 1.5 --n_latents 768 --comment \u001b[0m\n",
       "\u001b[32mk768-b1.5\"\u001b[0m,\n",
       "        \u001b[32m\"./fit_vae.sh '1' 'DOVES' 'poisson' 'conv+b|lin' --seed 5 --kl_beta 1.5 --n_latents 768 --comment \u001b[0m\n",
       "\u001b[32mk768-b1.5\"\u001b[0m,\n",
       "        \u001b[32m\"./fit_vae.sh '1' 'DOVES' 'poisson' 'conv+b|lin' --seed 1 --kl_beta 1.5 --n_latents 1024 --comment \u001b[0m\n",
       "\u001b[32mk1024-b1.5\"\u001b[0m,\n",
       "        \u001b[32m\"./fit_vae.sh '1' 'DOVES' 'poisson' 'conv+b|lin' --seed 2 --kl_beta 1.5 --n_latents 1024 --comment \u001b[0m\n",
       "\u001b[32mk1024-b1.5\"\u001b[0m,\n",
       "        \u001b[32m\"./fit_vae.sh '1' 'DOVES' 'poisson' 'conv+b|lin' --seed 3 --kl_beta 1.5 --n_latents 1024 --comment \u001b[0m\n",
       "\u001b[32mk1024-b1.5\"\u001b[0m,\n",
       "        \u001b[32m\"./fit_vae.sh '1' 'DOVES' 'poisson' 'conv+b|lin' --seed 4 --kl_beta 1.5 --n_latents 1024 --comment \u001b[0m\n",
       "\u001b[32mk1024-b1.5\"\u001b[0m,\n",
       "        \u001b[32m\"./fit_vae.sh '1' 'DOVES' 'poisson' 'conv+b|lin' --seed 5 --kl_beta 1.5 --n_latents 1024 --comment \u001b[0m\n",
       "\u001b[32mk1024-b1.5\"\u001b[0m,\n",
       "        \u001b[32m\"./fit_vae.sh '1' 'DOVES' 'poisson' 'conv+b|lin' --seed 1 --kl_beta 4.0 --n_latents 768 --comment k768-b4\"\u001b[0m,\n",
       "        \u001b[32m\"./fit_vae.sh '1' 'DOVES' 'poisson' 'conv+b|lin' --seed 2 --kl_beta 4.0 --n_latents 768 --comment k768-b4\"\u001b[0m,\n",
       "        \u001b[32m\"./fit_vae.sh '1' 'DOVES' 'poisson' 'conv+b|lin' --seed 3 --kl_beta 4.0 --n_latents 768 --comment k768-b4\"\u001b[0m,\n",
       "        \u001b[32m\"./fit_vae.sh '1' 'DOVES' 'poisson' 'conv+b|lin' --seed 4 --kl_beta 4.0 --n_latents 768 --comment k768-b4\"\u001b[0m,\n",
       "        \u001b[32m\"./fit_vae.sh '1' 'DOVES' 'poisson' 'conv+b|lin' --seed 5 --kl_beta 4.0 --n_latents 768 --comment k768-b4\"\u001b[0m,\n",
       "        \u001b[32m\"./fit_vae.sh '1' 'DOVES' 'poisson' 'conv+b|lin' --seed 1 --kl_beta 4.0 --n_latents 1024 --comment \u001b[0m\n",
       "\u001b[32mk1024-b4\"\u001b[0m,\n",
       "        \u001b[32m\"./fit_vae.sh '1' 'DOVES' 'poisson' 'conv+b|lin' --seed 2 --kl_beta 4.0 --n_latents 1024 --comment \u001b[0m\n",
       "\u001b[32mk1024-b4\"\u001b[0m,\n",
       "        \u001b[32m\"./fit_vae.sh '1' 'DOVES' 'poisson' 'conv+b|lin' --seed 3 --kl_beta 4.0 --n_latents 1024 --comment \u001b[0m\n",
       "\u001b[32mk1024-b4\"\u001b[0m,\n",
       "        \u001b[32m\"./fit_vae.sh '1' 'DOVES' 'poisson' 'conv+b|lin' --seed 4 --kl_beta 4.0 --n_latents 1024 --comment \u001b[0m\n",
       "\u001b[32mk1024-b4\"\u001b[0m,\n",
       "        \u001b[32m\"./fit_vae.sh '1' 'DOVES' 'poisson' 'conv+b|lin' --seed 5 --kl_beta 4.0 --n_latents 1024 --comment \u001b[0m\n",
       "\u001b[32mk1024-b4\"\u001b[0m\n",
       "    \u001b[1m]\u001b[0m\n",
       "\u001b[1m}\u001b[0m\n"
      ]
     },
     "metadata": {},
     "output_type": "display_data"
    }
   ],
   "source": [
    "print(scripts_solo)"
   ]
  },
  {
   "cell_type": "code",
   "execution_count": null,
   "id": "7cc70162-aa48-4e1c-8ad1-3dd7ca67b46c",
   "metadata": {},
   "outputs": [],
   "source": []
  },
  {
   "cell_type": "code",
   "execution_count": null,
   "id": "5aa3764e-6ed8-4e72-af8c-1489e83a64b7",
   "metadata": {},
   "outputs": [],
   "source": []
  },
  {
   "cell_type": "markdown",
   "id": "53ee4c32-220e-4aae-92b1-392e8647eb78",
   "metadata": {
    "jp-MarkdownHeadingCollapsed": true
   },
   "source": [
    "### chewie"
   ]
  },
  {
   "cell_type": "code",
   "execution_count": 4,
   "id": "a504ae57-63d3-4b32-8359-40766b76050b",
   "metadata": {},
   "outputs": [],
   "source": [
    "host = 'chewie'\n",
    "_cleanup(save_dir, host)\n",
    "\n",
    "scripts_chewie = collections.defaultdict(list)\n",
    "tot = 0"
   ]
  },
  {
   "cell_type": "code",
   "execution_count": 5,
   "id": "33d58661-d7ac-4fee-b699-78dd4139a320",
   "metadata": {},
   "outputs": [],
   "source": [
    "n_seeds = 5\n",
    "seeds = range(1, n_seeds + 1)\n",
    "\n",
    "betas = [0.01, 0.2, 0.4, 0.6, 0.8, 1.0, 1.5, 4.0]\n",
    "latent_dim = [i * 256 for i in [1, 2]]  # [1, 2, 3, 4]]"
   ]
  },
  {
   "cell_type": "code",
   "execution_count": 6,
   "id": "b139003d-8013-4586-bc81-26c458e20884",
   "metadata": {},
   "outputs": [],
   "source": [
    "combos = itertools.product(\n",
    "    enumerate(betas), latent_dim, seeds)\n",
    "for (idx, b), k, s in combos:\n",
    "    if b == 1.0 and k == 512:\n",
    "        continue\n",
    "\n",
    "    arg = ' '.join([\n",
    "        f\"--kl_beta {b}\",\n",
    "        f\"--n_latents {k}\",\n",
    "        f\"--comment k{k}-b{b:0.2g}\",\n",
    "    ])\n",
    "    gpu_i = idx // 4\n",
    "\n",
    "    kws = dict(\n",
    "        device=gpu_i,\n",
    "        dataset='DOVES',\n",
    "        model='poisson',\n",
    "        archi='conv+b|lin',\n",
    "        seed=s,\n",
    "        args=arg,\n",
    "    )\n",
    "    scripts_chewie[gpu_i].append(job_runner_script(**kws))\n",
    "    tot += 1"
   ]
  },
  {
   "cell_type": "code",
   "execution_count": 7,
   "id": "f6c6b13d-1ec3-4f25-87f1-d2ee1922dce4",
   "metadata": {},
   "outputs": [
    {
     "data": {
      "text/html": [
       "<pre style=\"white-space:pre;overflow-x:auto;line-height:normal;font-family:Menlo,'DejaVu Sans Mono',consolas,'Courier New',monospace\"><span style=\"color: #008080; text-decoration-color: #008080; font-weight: bold\">75</span>\n",
       "</pre>\n"
      ],
      "text/plain": [
       "\u001b[1;36m75\u001b[0m\n"
      ]
     },
     "metadata": {},
     "output_type": "display_data"
    }
   ],
   "source": [
    "print(tot)"
   ]
  },
  {
   "cell_type": "code",
   "execution_count": null,
   "id": "97acd75e-fdf2-46cf-939a-4cd21b8769cc",
   "metadata": {},
   "outputs": [],
   "source": []
  },
  {
   "cell_type": "code",
   "execution_count": 8,
   "id": "6600783b-c4ff-4ff0-b652-bce0fc3f580b",
   "metadata": {},
   "outputs": [
    {
     "data": {
      "text/html": [
       "<pre style=\"white-space:pre;overflow-x:auto;line-height:normal;font-family:Menlo,'DejaVu Sans Mono',consolas,'Courier New',monospace\"><span style=\"font-weight: bold\">{</span><span style=\"color: #008080; text-decoration-color: #008080; font-weight: bold\">0</span>: <span style=\"color: #008080; text-decoration-color: #008080; font-weight: bold\">40</span>, <span style=\"color: #008080; text-decoration-color: #008080; font-weight: bold\">1</span>: <span style=\"color: #008080; text-decoration-color: #008080; font-weight: bold\">35</span><span style=\"font-weight: bold\">}</span>\n",
       "</pre>\n"
      ],
      "text/plain": [
       "\u001b[1m{\u001b[0m\u001b[1;36m0\u001b[0m: \u001b[1;36m40\u001b[0m, \u001b[1;36m1\u001b[0m: \u001b[1;36m35\u001b[0m\u001b[1m}\u001b[0m\n"
      ]
     },
     "metadata": {},
     "output_type": "display_data"
    }
   ],
   "source": [
    "scripts_chewie = dict(scripts_chewie)\n",
    "print({k: len(v) for k, v in scripts_chewie.items()})"
   ]
  },
  {
   "cell_type": "code",
   "execution_count": null,
   "id": "e57a52de-a569-4596-a09d-dea20bc99711",
   "metadata": {},
   "outputs": [],
   "source": []
  },
  {
   "cell_type": "markdown",
   "id": "8bc33c89-8d32-41f9-8cea-756da61d96dc",
   "metadata": {},
   "source": [
    "#### Save"
   ]
  },
  {
   "cell_type": "code",
   "execution_count": 9,
   "id": "7e810ca2-d8c7-416c-834b-f3657204d5b2",
   "metadata": {},
   "outputs": [
    {
     "data": {
      "text/html": [
       "<pre style=\"white-space:pre;overflow-x:auto;line-height:normal;font-family:Menlo,'DejaVu Sans Mono',consolas,'Courier New',monospace\"><span style=\"font-weight: bold\">[</span>PROGRESS<span style=\"font-weight: bold\">]</span> <span style=\"color: #008000; text-decoration-color: #008000\">'chewie-cuda0-fit0.txt'</span> saved at\n",
       "<span style=\"color: #800080; text-decoration-color: #800080\">/home/hadi/Dropbox/git/_PoissonVAE/</span><span style=\"color: #ff00ff; text-decoration-color: #ff00ff\">scripts</span>\n",
       "</pre>\n"
      ],
      "text/plain": [
       "\u001b[1m[\u001b[0mPROGRESS\u001b[1m]\u001b[0m \u001b[32m'chewie-cuda0-fit0.txt'\u001b[0m saved at\n",
       "\u001b[35m/home/hadi/Dropbox/git/_PoissonVAE/\u001b[0m\u001b[95mscripts\u001b[0m\n"
      ]
     },
     "metadata": {},
     "output_type": "display_data"
    },
    {
     "data": {
      "text/html": [
       "<pre style=\"white-space:pre;overflow-x:auto;line-height:normal;font-family:Menlo,'DejaVu Sans Mono',consolas,'Courier New',monospace\"><span style=\"font-weight: bold\">[</span>PROGRESS<span style=\"font-weight: bold\">]</span> <span style=\"color: #008000; text-decoration-color: #008000\">'chewie-cuda0-fit1.txt'</span> saved at\n",
       "<span style=\"color: #800080; text-decoration-color: #800080\">/home/hadi/Dropbox/git/_PoissonVAE/</span><span style=\"color: #ff00ff; text-decoration-color: #ff00ff\">scripts</span>\n",
       "</pre>\n"
      ],
      "text/plain": [
       "\u001b[1m[\u001b[0mPROGRESS\u001b[1m]\u001b[0m \u001b[32m'chewie-cuda0-fit1.txt'\u001b[0m saved at\n",
       "\u001b[35m/home/hadi/Dropbox/git/_PoissonVAE/\u001b[0m\u001b[95mscripts\u001b[0m\n"
      ]
     },
     "metadata": {},
     "output_type": "display_data"
    },
    {
     "data": {
      "text/html": [
       "<pre style=\"white-space:pre;overflow-x:auto;line-height:normal;font-family:Menlo,'DejaVu Sans Mono',consolas,'Courier New',monospace\"><span style=\"font-weight: bold\">[</span>PROGRESS<span style=\"font-weight: bold\">]</span> <span style=\"color: #008000; text-decoration-color: #008000\">'chewie-cuda0-fit2.txt'</span> saved at\n",
       "<span style=\"color: #800080; text-decoration-color: #800080\">/home/hadi/Dropbox/git/_PoissonVAE/</span><span style=\"color: #ff00ff; text-decoration-color: #ff00ff\">scripts</span>\n",
       "</pre>\n"
      ],
      "text/plain": [
       "\u001b[1m[\u001b[0mPROGRESS\u001b[1m]\u001b[0m \u001b[32m'chewie-cuda0-fit2.txt'\u001b[0m saved at\n",
       "\u001b[35m/home/hadi/Dropbox/git/_PoissonVAE/\u001b[0m\u001b[95mscripts\u001b[0m\n"
      ]
     },
     "metadata": {},
     "output_type": "display_data"
    },
    {
     "data": {
      "text/html": [
       "<pre style=\"white-space:pre;overflow-x:auto;line-height:normal;font-family:Menlo,'DejaVu Sans Mono',consolas,'Courier New',monospace\"><span style=\"font-weight: bold\">[</span>PROGRESS<span style=\"font-weight: bold\">]</span> <span style=\"color: #008000; text-decoration-color: #008000\">'chewie-cuda0-fit3.txt'</span> saved at\n",
       "<span style=\"color: #800080; text-decoration-color: #800080\">/home/hadi/Dropbox/git/_PoissonVAE/</span><span style=\"color: #ff00ff; text-decoration-color: #ff00ff\">scripts</span>\n",
       "</pre>\n"
      ],
      "text/plain": [
       "\u001b[1m[\u001b[0mPROGRESS\u001b[1m]\u001b[0m \u001b[32m'chewie-cuda0-fit3.txt'\u001b[0m saved at\n",
       "\u001b[35m/home/hadi/Dropbox/git/_PoissonVAE/\u001b[0m\u001b[95mscripts\u001b[0m\n"
      ]
     },
     "metadata": {},
     "output_type": "display_data"
    },
    {
     "data": {
      "text/html": [
       "<pre style=\"white-space:pre;overflow-x:auto;line-height:normal;font-family:Menlo,'DejaVu Sans Mono',consolas,'Courier New',monospace\"><span style=\"font-weight: bold\">[</span>PROGRESS<span style=\"font-weight: bold\">]</span> <span style=\"color: #008000; text-decoration-color: #008000\">'chewie-cuda0-fit4.txt'</span> saved at\n",
       "<span style=\"color: #800080; text-decoration-color: #800080\">/home/hadi/Dropbox/git/_PoissonVAE/</span><span style=\"color: #ff00ff; text-decoration-color: #ff00ff\">scripts</span>\n",
       "</pre>\n"
      ],
      "text/plain": [
       "\u001b[1m[\u001b[0mPROGRESS\u001b[1m]\u001b[0m \u001b[32m'chewie-cuda0-fit4.txt'\u001b[0m saved at\n",
       "\u001b[35m/home/hadi/Dropbox/git/_PoissonVAE/\u001b[0m\u001b[95mscripts\u001b[0m\n"
      ]
     },
     "metadata": {},
     "output_type": "display_data"
    },
    {
     "data": {
      "text/html": [
       "<pre style=\"white-space:pre;overflow-x:auto;line-height:normal;font-family:Menlo,'DejaVu Sans Mono',consolas,'Courier New',monospace\"><span style=\"font-weight: bold\">[</span>PROGRESS<span style=\"font-weight: bold\">]</span> <span style=\"color: #008000; text-decoration-color: #008000\">'chewie-cuda1-fit0.txt'</span> saved at\n",
       "<span style=\"color: #800080; text-decoration-color: #800080\">/home/hadi/Dropbox/git/_PoissonVAE/</span><span style=\"color: #ff00ff; text-decoration-color: #ff00ff\">scripts</span>\n",
       "</pre>\n"
      ],
      "text/plain": [
       "\u001b[1m[\u001b[0mPROGRESS\u001b[1m]\u001b[0m \u001b[32m'chewie-cuda1-fit0.txt'\u001b[0m saved at\n",
       "\u001b[35m/home/hadi/Dropbox/git/_PoissonVAE/\u001b[0m\u001b[95mscripts\u001b[0m\n"
      ]
     },
     "metadata": {},
     "output_type": "display_data"
    },
    {
     "data": {
      "text/html": [
       "<pre style=\"white-space:pre;overflow-x:auto;line-height:normal;font-family:Menlo,'DejaVu Sans Mono',consolas,'Courier New',monospace\"><span style=\"font-weight: bold\">[</span>PROGRESS<span style=\"font-weight: bold\">]</span> <span style=\"color: #008000; text-decoration-color: #008000\">'chewie-cuda1-fit1.txt'</span> saved at\n",
       "<span style=\"color: #800080; text-decoration-color: #800080\">/home/hadi/Dropbox/git/_PoissonVAE/</span><span style=\"color: #ff00ff; text-decoration-color: #ff00ff\">scripts</span>\n",
       "</pre>\n"
      ],
      "text/plain": [
       "\u001b[1m[\u001b[0mPROGRESS\u001b[1m]\u001b[0m \u001b[32m'chewie-cuda1-fit1.txt'\u001b[0m saved at\n",
       "\u001b[35m/home/hadi/Dropbox/git/_PoissonVAE/\u001b[0m\u001b[95mscripts\u001b[0m\n"
      ]
     },
     "metadata": {},
     "output_type": "display_data"
    },
    {
     "data": {
      "text/html": [
       "<pre style=\"white-space:pre;overflow-x:auto;line-height:normal;font-family:Menlo,'DejaVu Sans Mono',consolas,'Courier New',monospace\"><span style=\"font-weight: bold\">[</span>PROGRESS<span style=\"font-weight: bold\">]</span> <span style=\"color: #008000; text-decoration-color: #008000\">'chewie-cuda1-fit2.txt'</span> saved at\n",
       "<span style=\"color: #800080; text-decoration-color: #800080\">/home/hadi/Dropbox/git/_PoissonVAE/</span><span style=\"color: #ff00ff; text-decoration-color: #ff00ff\">scripts</span>\n",
       "</pre>\n"
      ],
      "text/plain": [
       "\u001b[1m[\u001b[0mPROGRESS\u001b[1m]\u001b[0m \u001b[32m'chewie-cuda1-fit2.txt'\u001b[0m saved at\n",
       "\u001b[35m/home/hadi/Dropbox/git/_PoissonVAE/\u001b[0m\u001b[95mscripts\u001b[0m\n"
      ]
     },
     "metadata": {},
     "output_type": "display_data"
    },
    {
     "data": {
      "text/html": [
       "<pre style=\"white-space:pre;overflow-x:auto;line-height:normal;font-family:Menlo,'DejaVu Sans Mono',consolas,'Courier New',monospace\"><span style=\"font-weight: bold\">[</span>PROGRESS<span style=\"font-weight: bold\">]</span> <span style=\"color: #008000; text-decoration-color: #008000\">'chewie-cuda1-fit3.txt'</span> saved at\n",
       "<span style=\"color: #800080; text-decoration-color: #800080\">/home/hadi/Dropbox/git/_PoissonVAE/</span><span style=\"color: #ff00ff; text-decoration-color: #ff00ff\">scripts</span>\n",
       "</pre>\n"
      ],
      "text/plain": [
       "\u001b[1m[\u001b[0mPROGRESS\u001b[1m]\u001b[0m \u001b[32m'chewie-cuda1-fit3.txt'\u001b[0m saved at\n",
       "\u001b[35m/home/hadi/Dropbox/git/_PoissonVAE/\u001b[0m\u001b[95mscripts\u001b[0m\n"
      ]
     },
     "metadata": {},
     "output_type": "display_data"
    },
    {
     "data": {
      "text/html": [
       "<pre style=\"white-space:pre;overflow-x:auto;line-height:normal;font-family:Menlo,'DejaVu Sans Mono',consolas,'Courier New',monospace\"><span style=\"font-weight: bold\">[</span>PROGRESS<span style=\"font-weight: bold\">]</span> <span style=\"color: #008000; text-decoration-color: #008000\">'chewie-cuda1-fit4.txt'</span> saved at\n",
       "<span style=\"color: #800080; text-decoration-color: #800080\">/home/hadi/Dropbox/git/_PoissonVAE/</span><span style=\"color: #ff00ff; text-decoration-color: #ff00ff\">scripts</span>\n",
       "</pre>\n"
      ],
      "text/plain": [
       "\u001b[1m[\u001b[0mPROGRESS\u001b[1m]\u001b[0m \u001b[32m'chewie-cuda1-fit4.txt'\u001b[0m saved at\n",
       "\u001b[35m/home/hadi/Dropbox/git/_PoissonVAE/\u001b[0m\u001b[95mscripts\u001b[0m\n"
      ]
     },
     "metadata": {},
     "output_type": "display_data"
    }
   ],
   "source": [
    "n_fits = 5\n",
    "\n",
    "for gpu_i, scripts in scripts_chewie.items():\n",
    "    scripts_divided = divide_list(scripts, n_fits)\n",
    "    for fit_i, s in enumerate(scripts_divided):\n",
    "        combined = ' && '.join(s)\n",
    "        save_obj(\n",
    "            obj=combined,\n",
    "            file_name=_name(host, gpu_i, fit_i),\n",
    "            save_dir=save_dir,\n",
    "            mode='txt',\n",
    "        )"
   ]
  },
  {
   "cell_type": "code",
   "execution_count": null,
   "id": "1a6d7a61-3d24-4dfa-9b88-4147dc939946",
   "metadata": {},
   "outputs": [],
   "source": []
  },
  {
   "cell_type": "markdown",
   "id": "2ef8789c-c43b-4623-9714-8f8176be17df",
   "metadata": {},
   "source": [
    "Print one to check"
   ]
  },
  {
   "cell_type": "code",
   "execution_count": 10,
   "id": "b0d2d843-5238-430e-9f37-1aba5f93b5d8",
   "metadata": {},
   "outputs": [
    {
     "data": {
      "text/html": [
       "<pre style=\"white-space:pre;overflow-x:auto;line-height:normal;font-family:Menlo,'DejaVu Sans Mono',consolas,'Courier New',monospace\">.<span style=\"color: #800080; text-decoration-color: #800080\">/</span><span style=\"color: #ff00ff; text-decoration-color: #ff00ff\">fit_vae.sh</span> <span style=\"color: #008000; text-decoration-color: #008000\">'1'</span> <span style=\"color: #008000; text-decoration-color: #008000\">'DOVES'</span> <span style=\"color: #008000; text-decoration-color: #008000\">'poisson'</span> <span style=\"color: #008000; text-decoration-color: #008000\">'conv+b|lin'</span> --seed <span style=\"color: #008080; text-decoration-color: #008080; font-weight: bold\">4</span> --kl_beta <span style=\"color: #008080; text-decoration-color: #008080; font-weight: bold\">4.0</span> --n_latents <span style=\"color: #008080; text-decoration-color: #008080; font-weight: bold\">256</span> --comment k256-b4 &amp;&amp; \n",
       ".<span style=\"color: #800080; text-decoration-color: #800080\">/</span><span style=\"color: #ff00ff; text-decoration-color: #ff00ff\">fit_vae.sh</span> <span style=\"color: #008000; text-decoration-color: #008000\">'1'</span> <span style=\"color: #008000; text-decoration-color: #008000\">'DOVES'</span> <span style=\"color: #008000; text-decoration-color: #008000\">'poisson'</span> <span style=\"color: #008000; text-decoration-color: #008000\">'conv+b|lin'</span> --seed <span style=\"color: #008080; text-decoration-color: #008080; font-weight: bold\">5</span> --kl_beta <span style=\"color: #008080; text-decoration-color: #008080; font-weight: bold\">4.0</span> --n_latents <span style=\"color: #008080; text-decoration-color: #008080; font-weight: bold\">256</span> --comment k256-b4 &amp;&amp; \n",
       ".<span style=\"color: #800080; text-decoration-color: #800080\">/</span><span style=\"color: #ff00ff; text-decoration-color: #ff00ff\">fit_vae.sh</span> <span style=\"color: #008000; text-decoration-color: #008000\">'1'</span> <span style=\"color: #008000; text-decoration-color: #008000\">'DOVES'</span> <span style=\"color: #008000; text-decoration-color: #008000\">'poisson'</span> <span style=\"color: #008000; text-decoration-color: #008000\">'conv+b|lin'</span> --seed <span style=\"color: #008080; text-decoration-color: #008080; font-weight: bold\">1</span> --kl_beta <span style=\"color: #008080; text-decoration-color: #008080; font-weight: bold\">4.0</span> --n_latents <span style=\"color: #008080; text-decoration-color: #008080; font-weight: bold\">512</span> --comment k512-b4 &amp;&amp; \n",
       ".<span style=\"color: #800080; text-decoration-color: #800080\">/</span><span style=\"color: #ff00ff; text-decoration-color: #ff00ff\">fit_vae.sh</span> <span style=\"color: #008000; text-decoration-color: #008000\">'1'</span> <span style=\"color: #008000; text-decoration-color: #008000\">'DOVES'</span> <span style=\"color: #008000; text-decoration-color: #008000\">'poisson'</span> <span style=\"color: #008000; text-decoration-color: #008000\">'conv+b|lin'</span> --seed <span style=\"color: #008080; text-decoration-color: #008080; font-weight: bold\">2</span> --kl_beta <span style=\"color: #008080; text-decoration-color: #008080; font-weight: bold\">4.0</span> --n_latents <span style=\"color: #008080; text-decoration-color: #008080; font-weight: bold\">512</span> --comment k512-b4 &amp;&amp; \n",
       ".<span style=\"color: #800080; text-decoration-color: #800080\">/</span><span style=\"color: #ff00ff; text-decoration-color: #ff00ff\">fit_vae.sh</span> <span style=\"color: #008000; text-decoration-color: #008000\">'1'</span> <span style=\"color: #008000; text-decoration-color: #008000\">'DOVES'</span> <span style=\"color: #008000; text-decoration-color: #008000\">'poisson'</span> <span style=\"color: #008000; text-decoration-color: #008000\">'conv+b|lin'</span> --seed <span style=\"color: #008080; text-decoration-color: #008080; font-weight: bold\">3</span> --kl_beta <span style=\"color: #008080; text-decoration-color: #008080; font-weight: bold\">4.0</span> --n_latents <span style=\"color: #008080; text-decoration-color: #008080; font-weight: bold\">512</span> --comment k512-b4 &amp;&amp; \n",
       ".<span style=\"color: #800080; text-decoration-color: #800080\">/</span><span style=\"color: #ff00ff; text-decoration-color: #ff00ff\">fit_vae.sh</span> <span style=\"color: #008000; text-decoration-color: #008000\">'1'</span> <span style=\"color: #008000; text-decoration-color: #008000\">'DOVES'</span> <span style=\"color: #008000; text-decoration-color: #008000\">'poisson'</span> <span style=\"color: #008000; text-decoration-color: #008000\">'conv+b|lin'</span> --seed <span style=\"color: #008080; text-decoration-color: #008080; font-weight: bold\">4</span> --kl_beta <span style=\"color: #008080; text-decoration-color: #008080; font-weight: bold\">4.0</span> --n_latents <span style=\"color: #008080; text-decoration-color: #008080; font-weight: bold\">512</span> --comment k512-b4 &amp;&amp; \n",
       ".<span style=\"color: #800080; text-decoration-color: #800080\">/</span><span style=\"color: #ff00ff; text-decoration-color: #ff00ff\">fit_vae.sh</span> <span style=\"color: #008000; text-decoration-color: #008000\">'1'</span> <span style=\"color: #008000; text-decoration-color: #008000\">'DOVES'</span> <span style=\"color: #008000; text-decoration-color: #008000\">'poisson'</span> <span style=\"color: #008000; text-decoration-color: #008000\">'conv+b|lin'</span> --seed <span style=\"color: #008080; text-decoration-color: #008080; font-weight: bold\">5</span> --kl_beta <span style=\"color: #008080; text-decoration-color: #008080; font-weight: bold\">4.0</span> --n_latents <span style=\"color: #008080; text-decoration-color: #008080; font-weight: bold\">512</span> --comment k512-b4\n",
       "</pre>\n"
      ],
      "text/plain": [
       ".\u001b[35m/\u001b[0m\u001b[95mfit_vae.sh\u001b[0m \u001b[32m'1'\u001b[0m \u001b[32m'DOVES'\u001b[0m \u001b[32m'poisson'\u001b[0m \u001b[32m'conv+b|lin'\u001b[0m --seed \u001b[1;36m4\u001b[0m --kl_beta \u001b[1;36m4.0\u001b[0m --n_latents \u001b[1;36m256\u001b[0m --comment k256-b4 && \n",
       ".\u001b[35m/\u001b[0m\u001b[95mfit_vae.sh\u001b[0m \u001b[32m'1'\u001b[0m \u001b[32m'DOVES'\u001b[0m \u001b[32m'poisson'\u001b[0m \u001b[32m'conv+b|lin'\u001b[0m --seed \u001b[1;36m5\u001b[0m --kl_beta \u001b[1;36m4.0\u001b[0m --n_latents \u001b[1;36m256\u001b[0m --comment k256-b4 && \n",
       ".\u001b[35m/\u001b[0m\u001b[95mfit_vae.sh\u001b[0m \u001b[32m'1'\u001b[0m \u001b[32m'DOVES'\u001b[0m \u001b[32m'poisson'\u001b[0m \u001b[32m'conv+b|lin'\u001b[0m --seed \u001b[1;36m1\u001b[0m --kl_beta \u001b[1;36m4.0\u001b[0m --n_latents \u001b[1;36m512\u001b[0m --comment k512-b4 && \n",
       ".\u001b[35m/\u001b[0m\u001b[95mfit_vae.sh\u001b[0m \u001b[32m'1'\u001b[0m \u001b[32m'DOVES'\u001b[0m \u001b[32m'poisson'\u001b[0m \u001b[32m'conv+b|lin'\u001b[0m --seed \u001b[1;36m2\u001b[0m --kl_beta \u001b[1;36m4.0\u001b[0m --n_latents \u001b[1;36m512\u001b[0m --comment k512-b4 && \n",
       ".\u001b[35m/\u001b[0m\u001b[95mfit_vae.sh\u001b[0m \u001b[32m'1'\u001b[0m \u001b[32m'DOVES'\u001b[0m \u001b[32m'poisson'\u001b[0m \u001b[32m'conv+b|lin'\u001b[0m --seed \u001b[1;36m3\u001b[0m --kl_beta \u001b[1;36m4.0\u001b[0m --n_latents \u001b[1;36m512\u001b[0m --comment k512-b4 && \n",
       ".\u001b[35m/\u001b[0m\u001b[95mfit_vae.sh\u001b[0m \u001b[32m'1'\u001b[0m \u001b[32m'DOVES'\u001b[0m \u001b[32m'poisson'\u001b[0m \u001b[32m'conv+b|lin'\u001b[0m --seed \u001b[1;36m4\u001b[0m --kl_beta \u001b[1;36m4.0\u001b[0m --n_latents \u001b[1;36m512\u001b[0m --comment k512-b4 && \n",
       ".\u001b[35m/\u001b[0m\u001b[95mfit_vae.sh\u001b[0m \u001b[32m'1'\u001b[0m \u001b[32m'DOVES'\u001b[0m \u001b[32m'poisson'\u001b[0m \u001b[32m'conv+b|lin'\u001b[0m --seed \u001b[1;36m5\u001b[0m --kl_beta \u001b[1;36m4.0\u001b[0m --n_latents \u001b[1;36m512\u001b[0m --comment k512-b4\n"
      ]
     },
     "metadata": {},
     "output_type": "display_data"
    }
   ],
   "source": [
    "print(combined.replace('&& ', '&& \\n'))"
   ]
  },
  {
   "cell_type": "code",
   "execution_count": null,
   "id": "b74acb5c-d5e3-4cd9-b895-b2ca55e1cf47",
   "metadata": {},
   "outputs": [],
   "source": []
  },
  {
   "cell_type": "code",
   "execution_count": 11,
   "id": "bd0cd8e8-ef3f-476d-a0c1-3b88bf221677",
   "metadata": {},
   "outputs": [
    {
     "data": {
      "text/html": [
       "<pre style=\"white-space:pre;overflow-x:auto;line-height:normal;font-family:Menlo,'DejaVu Sans Mono',consolas,'Courier New',monospace\"><span style=\"font-weight: bold\">{</span>\n",
       "    <span style=\"color: #008080; text-decoration-color: #008080; font-weight: bold\">0</span>: <span style=\"font-weight: bold\">[</span>\n",
       "        <span style=\"color: #008000; text-decoration-color: #008000\">\"./fit_vae.sh '0' 'DOVES' 'poisson' 'conv+b|lin' --seed 1 --kl_beta 0.01 --n_latents 256 --comment </span>\n",
       "<span style=\"color: #008000; text-decoration-color: #008000\">k256-b0.01\"</span>,\n",
       "        <span style=\"color: #008000; text-decoration-color: #008000\">\"./fit_vae.sh '0' 'DOVES' 'poisson' 'conv+b|lin' --seed 2 --kl_beta 0.01 --n_latents 256 --comment </span>\n",
       "<span style=\"color: #008000; text-decoration-color: #008000\">k256-b0.01\"</span>,\n",
       "        <span style=\"color: #008000; text-decoration-color: #008000\">\"./fit_vae.sh '0' 'DOVES' 'poisson' 'conv+b|lin' --seed 3 --kl_beta 0.01 --n_latents 256 --comment </span>\n",
       "<span style=\"color: #008000; text-decoration-color: #008000\">k256-b0.01\"</span>,\n",
       "        <span style=\"color: #008000; text-decoration-color: #008000\">\"./fit_vae.sh '0' 'DOVES' 'poisson' 'conv+b|lin' --seed 4 --kl_beta 0.01 --n_latents 256 --comment </span>\n",
       "<span style=\"color: #008000; text-decoration-color: #008000\">k256-b0.01\"</span>,\n",
       "        <span style=\"color: #008000; text-decoration-color: #008000\">\"./fit_vae.sh '0' 'DOVES' 'poisson' 'conv+b|lin' --seed 5 --kl_beta 0.01 --n_latents 256 --comment </span>\n",
       "<span style=\"color: #008000; text-decoration-color: #008000\">k256-b0.01\"</span>,\n",
       "        <span style=\"color: #008000; text-decoration-color: #008000\">\"./fit_vae.sh '0' 'DOVES' 'poisson' 'conv+b|lin' --seed 1 --kl_beta 0.01 --n_latents 512 --comment </span>\n",
       "<span style=\"color: #008000; text-decoration-color: #008000\">k512-b0.01\"</span>,\n",
       "        <span style=\"color: #008000; text-decoration-color: #008000\">\"./fit_vae.sh '0' 'DOVES' 'poisson' 'conv+b|lin' --seed 2 --kl_beta 0.01 --n_latents 512 --comment </span>\n",
       "<span style=\"color: #008000; text-decoration-color: #008000\">k512-b0.01\"</span>,\n",
       "        <span style=\"color: #008000; text-decoration-color: #008000\">\"./fit_vae.sh '0' 'DOVES' 'poisson' 'conv+b|lin' --seed 3 --kl_beta 0.01 --n_latents 512 --comment </span>\n",
       "<span style=\"color: #008000; text-decoration-color: #008000\">k512-b0.01\"</span>,\n",
       "        <span style=\"color: #008000; text-decoration-color: #008000\">\"./fit_vae.sh '0' 'DOVES' 'poisson' 'conv+b|lin' --seed 4 --kl_beta 0.01 --n_latents 512 --comment </span>\n",
       "<span style=\"color: #008000; text-decoration-color: #008000\">k512-b0.01\"</span>,\n",
       "        <span style=\"color: #008000; text-decoration-color: #008000\">\"./fit_vae.sh '0' 'DOVES' 'poisson' 'conv+b|lin' --seed 5 --kl_beta 0.01 --n_latents 512 --comment </span>\n",
       "<span style=\"color: #008000; text-decoration-color: #008000\">k512-b0.01\"</span>,\n",
       "        <span style=\"color: #008000; text-decoration-color: #008000\">\"./fit_vae.sh '0' 'DOVES' 'poisson' 'conv+b|lin' --seed 1 --kl_beta 0.2 --n_latents 256 --comment </span>\n",
       "<span style=\"color: #008000; text-decoration-color: #008000\">k256-b0.2\"</span>,\n",
       "        <span style=\"color: #008000; text-decoration-color: #008000\">\"./fit_vae.sh '0' 'DOVES' 'poisson' 'conv+b|lin' --seed 2 --kl_beta 0.2 --n_latents 256 --comment </span>\n",
       "<span style=\"color: #008000; text-decoration-color: #008000\">k256-b0.2\"</span>,\n",
       "        <span style=\"color: #008000; text-decoration-color: #008000\">\"./fit_vae.sh '0' 'DOVES' 'poisson' 'conv+b|lin' --seed 3 --kl_beta 0.2 --n_latents 256 --comment </span>\n",
       "<span style=\"color: #008000; text-decoration-color: #008000\">k256-b0.2\"</span>,\n",
       "        <span style=\"color: #008000; text-decoration-color: #008000\">\"./fit_vae.sh '0' 'DOVES' 'poisson' 'conv+b|lin' --seed 4 --kl_beta 0.2 --n_latents 256 --comment </span>\n",
       "<span style=\"color: #008000; text-decoration-color: #008000\">k256-b0.2\"</span>,\n",
       "        <span style=\"color: #008000; text-decoration-color: #008000\">\"./fit_vae.sh '0' 'DOVES' 'poisson' 'conv+b|lin' --seed 5 --kl_beta 0.2 --n_latents 256 --comment </span>\n",
       "<span style=\"color: #008000; text-decoration-color: #008000\">k256-b0.2\"</span>,\n",
       "        <span style=\"color: #008000; text-decoration-color: #008000\">\"./fit_vae.sh '0' 'DOVES' 'poisson' 'conv+b|lin' --seed 1 --kl_beta 0.2 --n_latents 512 --comment </span>\n",
       "<span style=\"color: #008000; text-decoration-color: #008000\">k512-b0.2\"</span>,\n",
       "        <span style=\"color: #008000; text-decoration-color: #008000\">\"./fit_vae.sh '0' 'DOVES' 'poisson' 'conv+b|lin' --seed 2 --kl_beta 0.2 --n_latents 512 --comment </span>\n",
       "<span style=\"color: #008000; text-decoration-color: #008000\">k512-b0.2\"</span>,\n",
       "        <span style=\"color: #008000; text-decoration-color: #008000\">\"./fit_vae.sh '0' 'DOVES' 'poisson' 'conv+b|lin' --seed 3 --kl_beta 0.2 --n_latents 512 --comment </span>\n",
       "<span style=\"color: #008000; text-decoration-color: #008000\">k512-b0.2\"</span>,\n",
       "        <span style=\"color: #008000; text-decoration-color: #008000\">\"./fit_vae.sh '0' 'DOVES' 'poisson' 'conv+b|lin' --seed 4 --kl_beta 0.2 --n_latents 512 --comment </span>\n",
       "<span style=\"color: #008000; text-decoration-color: #008000\">k512-b0.2\"</span>,\n",
       "        <span style=\"color: #008000; text-decoration-color: #008000\">\"./fit_vae.sh '0' 'DOVES' 'poisson' 'conv+b|lin' --seed 5 --kl_beta 0.2 --n_latents 512 --comment </span>\n",
       "<span style=\"color: #008000; text-decoration-color: #008000\">k512-b0.2\"</span>,\n",
       "        <span style=\"color: #008000; text-decoration-color: #008000\">\"./fit_vae.sh '0' 'DOVES' 'poisson' 'conv+b|lin' --seed 1 --kl_beta 0.4 --n_latents 256 --comment </span>\n",
       "<span style=\"color: #008000; text-decoration-color: #008000\">k256-b0.4\"</span>,\n",
       "        <span style=\"color: #008000; text-decoration-color: #008000\">\"./fit_vae.sh '0' 'DOVES' 'poisson' 'conv+b|lin' --seed 2 --kl_beta 0.4 --n_latents 256 --comment </span>\n",
       "<span style=\"color: #008000; text-decoration-color: #008000\">k256-b0.4\"</span>,\n",
       "        <span style=\"color: #008000; text-decoration-color: #008000\">\"./fit_vae.sh '0' 'DOVES' 'poisson' 'conv+b|lin' --seed 3 --kl_beta 0.4 --n_latents 256 --comment </span>\n",
       "<span style=\"color: #008000; text-decoration-color: #008000\">k256-b0.4\"</span>,\n",
       "        <span style=\"color: #008000; text-decoration-color: #008000\">\"./fit_vae.sh '0' 'DOVES' 'poisson' 'conv+b|lin' --seed 4 --kl_beta 0.4 --n_latents 256 --comment </span>\n",
       "<span style=\"color: #008000; text-decoration-color: #008000\">k256-b0.4\"</span>,\n",
       "        <span style=\"color: #008000; text-decoration-color: #008000\">\"./fit_vae.sh '0' 'DOVES' 'poisson' 'conv+b|lin' --seed 5 --kl_beta 0.4 --n_latents 256 --comment </span>\n",
       "<span style=\"color: #008000; text-decoration-color: #008000\">k256-b0.4\"</span>,\n",
       "        <span style=\"color: #008000; text-decoration-color: #008000\">\"./fit_vae.sh '0' 'DOVES' 'poisson' 'conv+b|lin' --seed 1 --kl_beta 0.4 --n_latents 512 --comment </span>\n",
       "<span style=\"color: #008000; text-decoration-color: #008000\">k512-b0.4\"</span>,\n",
       "        <span style=\"color: #008000; text-decoration-color: #008000\">\"./fit_vae.sh '0' 'DOVES' 'poisson' 'conv+b|lin' --seed 2 --kl_beta 0.4 --n_latents 512 --comment </span>\n",
       "<span style=\"color: #008000; text-decoration-color: #008000\">k512-b0.4\"</span>,\n",
       "        <span style=\"color: #008000; text-decoration-color: #008000\">\"./fit_vae.sh '0' 'DOVES' 'poisson' 'conv+b|lin' --seed 3 --kl_beta 0.4 --n_latents 512 --comment </span>\n",
       "<span style=\"color: #008000; text-decoration-color: #008000\">k512-b0.4\"</span>,\n",
       "        <span style=\"color: #008000; text-decoration-color: #008000\">\"./fit_vae.sh '0' 'DOVES' 'poisson' 'conv+b|lin' --seed 4 --kl_beta 0.4 --n_latents 512 --comment </span>\n",
       "<span style=\"color: #008000; text-decoration-color: #008000\">k512-b0.4\"</span>,\n",
       "        <span style=\"color: #008000; text-decoration-color: #008000\">\"./fit_vae.sh '0' 'DOVES' 'poisson' 'conv+b|lin' --seed 5 --kl_beta 0.4 --n_latents 512 --comment </span>\n",
       "<span style=\"color: #008000; text-decoration-color: #008000\">k512-b0.4\"</span>,\n",
       "        <span style=\"color: #008000; text-decoration-color: #008000\">\"./fit_vae.sh '0' 'DOVES' 'poisson' 'conv+b|lin' --seed 1 --kl_beta 0.6 --n_latents 256 --comment </span>\n",
       "<span style=\"color: #008000; text-decoration-color: #008000\">k256-b0.6\"</span>,\n",
       "        <span style=\"color: #008000; text-decoration-color: #008000\">\"./fit_vae.sh '0' 'DOVES' 'poisson' 'conv+b|lin' --seed 2 --kl_beta 0.6 --n_latents 256 --comment </span>\n",
       "<span style=\"color: #008000; text-decoration-color: #008000\">k256-b0.6\"</span>,\n",
       "        <span style=\"color: #008000; text-decoration-color: #008000\">\"./fit_vae.sh '0' 'DOVES' 'poisson' 'conv+b|lin' --seed 3 --kl_beta 0.6 --n_latents 256 --comment </span>\n",
       "<span style=\"color: #008000; text-decoration-color: #008000\">k256-b0.6\"</span>,\n",
       "        <span style=\"color: #008000; text-decoration-color: #008000\">\"./fit_vae.sh '0' 'DOVES' 'poisson' 'conv+b|lin' --seed 4 --kl_beta 0.6 --n_latents 256 --comment </span>\n",
       "<span style=\"color: #008000; text-decoration-color: #008000\">k256-b0.6\"</span>,\n",
       "        <span style=\"color: #008000; text-decoration-color: #008000\">\"./fit_vae.sh '0' 'DOVES' 'poisson' 'conv+b|lin' --seed 5 --kl_beta 0.6 --n_latents 256 --comment </span>\n",
       "<span style=\"color: #008000; text-decoration-color: #008000\">k256-b0.6\"</span>,\n",
       "        <span style=\"color: #008000; text-decoration-color: #008000\">\"./fit_vae.sh '0' 'DOVES' 'poisson' 'conv+b|lin' --seed 1 --kl_beta 0.6 --n_latents 512 --comment </span>\n",
       "<span style=\"color: #008000; text-decoration-color: #008000\">k512-b0.6\"</span>,\n",
       "        <span style=\"color: #008000; text-decoration-color: #008000\">\"./fit_vae.sh '0' 'DOVES' 'poisson' 'conv+b|lin' --seed 2 --kl_beta 0.6 --n_latents 512 --comment </span>\n",
       "<span style=\"color: #008000; text-decoration-color: #008000\">k512-b0.6\"</span>,\n",
       "        <span style=\"color: #008000; text-decoration-color: #008000\">\"./fit_vae.sh '0' 'DOVES' 'poisson' 'conv+b|lin' --seed 3 --kl_beta 0.6 --n_latents 512 --comment </span>\n",
       "<span style=\"color: #008000; text-decoration-color: #008000\">k512-b0.6\"</span>,\n",
       "        <span style=\"color: #008000; text-decoration-color: #008000\">\"./fit_vae.sh '0' 'DOVES' 'poisson' 'conv+b|lin' --seed 4 --kl_beta 0.6 --n_latents 512 --comment </span>\n",
       "<span style=\"color: #008000; text-decoration-color: #008000\">k512-b0.6\"</span>,\n",
       "        <span style=\"color: #008000; text-decoration-color: #008000\">\"./fit_vae.sh '0' 'DOVES' 'poisson' 'conv+b|lin' --seed 5 --kl_beta 0.6 --n_latents 512 --comment </span>\n",
       "<span style=\"color: #008000; text-decoration-color: #008000\">k512-b0.6\"</span>\n",
       "    <span style=\"font-weight: bold\">]</span>,\n",
       "    <span style=\"color: #008080; text-decoration-color: #008080; font-weight: bold\">1</span>: <span style=\"font-weight: bold\">[</span>\n",
       "        <span style=\"color: #008000; text-decoration-color: #008000\">\"./fit_vae.sh '1' 'DOVES' 'poisson' 'conv+b|lin' --seed 1 --kl_beta 0.8 --n_latents 256 --comment </span>\n",
       "<span style=\"color: #008000; text-decoration-color: #008000\">k256-b0.8\"</span>,\n",
       "        <span style=\"color: #008000; text-decoration-color: #008000\">\"./fit_vae.sh '1' 'DOVES' 'poisson' 'conv+b|lin' --seed 2 --kl_beta 0.8 --n_latents 256 --comment </span>\n",
       "<span style=\"color: #008000; text-decoration-color: #008000\">k256-b0.8\"</span>,\n",
       "        <span style=\"color: #008000; text-decoration-color: #008000\">\"./fit_vae.sh '1' 'DOVES' 'poisson' 'conv+b|lin' --seed 3 --kl_beta 0.8 --n_latents 256 --comment </span>\n",
       "<span style=\"color: #008000; text-decoration-color: #008000\">k256-b0.8\"</span>,\n",
       "        <span style=\"color: #008000; text-decoration-color: #008000\">\"./fit_vae.sh '1' 'DOVES' 'poisson' 'conv+b|lin' --seed 4 --kl_beta 0.8 --n_latents 256 --comment </span>\n",
       "<span style=\"color: #008000; text-decoration-color: #008000\">k256-b0.8\"</span>,\n",
       "        <span style=\"color: #008000; text-decoration-color: #008000\">\"./fit_vae.sh '1' 'DOVES' 'poisson' 'conv+b|lin' --seed 5 --kl_beta 0.8 --n_latents 256 --comment </span>\n",
       "<span style=\"color: #008000; text-decoration-color: #008000\">k256-b0.8\"</span>,\n",
       "        <span style=\"color: #008000; text-decoration-color: #008000\">\"./fit_vae.sh '1' 'DOVES' 'poisson' 'conv+b|lin' --seed 1 --kl_beta 0.8 --n_latents 512 --comment </span>\n",
       "<span style=\"color: #008000; text-decoration-color: #008000\">k512-b0.8\"</span>,\n",
       "        <span style=\"color: #008000; text-decoration-color: #008000\">\"./fit_vae.sh '1' 'DOVES' 'poisson' 'conv+b|lin' --seed 2 --kl_beta 0.8 --n_latents 512 --comment </span>\n",
       "<span style=\"color: #008000; text-decoration-color: #008000\">k512-b0.8\"</span>,\n",
       "        <span style=\"color: #008000; text-decoration-color: #008000\">\"./fit_vae.sh '1' 'DOVES' 'poisson' 'conv+b|lin' --seed 3 --kl_beta 0.8 --n_latents 512 --comment </span>\n",
       "<span style=\"color: #008000; text-decoration-color: #008000\">k512-b0.8\"</span>,\n",
       "        <span style=\"color: #008000; text-decoration-color: #008000\">\"./fit_vae.sh '1' 'DOVES' 'poisson' 'conv+b|lin' --seed 4 --kl_beta 0.8 --n_latents 512 --comment </span>\n",
       "<span style=\"color: #008000; text-decoration-color: #008000\">k512-b0.8\"</span>,\n",
       "        <span style=\"color: #008000; text-decoration-color: #008000\">\"./fit_vae.sh '1' 'DOVES' 'poisson' 'conv+b|lin' --seed 5 --kl_beta 0.8 --n_latents 512 --comment </span>\n",
       "<span style=\"color: #008000; text-decoration-color: #008000\">k512-b0.8\"</span>,\n",
       "        <span style=\"color: #008000; text-decoration-color: #008000\">\"./fit_vae.sh '1' 'DOVES' 'poisson' 'conv+b|lin' --seed 1 --kl_beta 1.0 --n_latents 256 --comment k256-b1\"</span>,\n",
       "        <span style=\"color: #008000; text-decoration-color: #008000\">\"./fit_vae.sh '1' 'DOVES' 'poisson' 'conv+b|lin' --seed 2 --kl_beta 1.0 --n_latents 256 --comment k256-b1\"</span>,\n",
       "        <span style=\"color: #008000; text-decoration-color: #008000\">\"./fit_vae.sh '1' 'DOVES' 'poisson' 'conv+b|lin' --seed 3 --kl_beta 1.0 --n_latents 256 --comment k256-b1\"</span>,\n",
       "        <span style=\"color: #008000; text-decoration-color: #008000\">\"./fit_vae.sh '1' 'DOVES' 'poisson' 'conv+b|lin' --seed 4 --kl_beta 1.0 --n_latents 256 --comment k256-b1\"</span>,\n",
       "        <span style=\"color: #008000; text-decoration-color: #008000\">\"./fit_vae.sh '1' 'DOVES' 'poisson' 'conv+b|lin' --seed 5 --kl_beta 1.0 --n_latents 256 --comment k256-b1\"</span>,\n",
       "        <span style=\"color: #008000; text-decoration-color: #008000\">\"./fit_vae.sh '1' 'DOVES' 'poisson' 'conv+b|lin' --seed 1 --kl_beta 1.5 --n_latents 256 --comment </span>\n",
       "<span style=\"color: #008000; text-decoration-color: #008000\">k256-b1.5\"</span>,\n",
       "        <span style=\"color: #008000; text-decoration-color: #008000\">\"./fit_vae.sh '1' 'DOVES' 'poisson' 'conv+b|lin' --seed 2 --kl_beta 1.5 --n_latents 256 --comment </span>\n",
       "<span style=\"color: #008000; text-decoration-color: #008000\">k256-b1.5\"</span>,\n",
       "        <span style=\"color: #008000; text-decoration-color: #008000\">\"./fit_vae.sh '1' 'DOVES' 'poisson' 'conv+b|lin' --seed 3 --kl_beta 1.5 --n_latents 256 --comment </span>\n",
       "<span style=\"color: #008000; text-decoration-color: #008000\">k256-b1.5\"</span>,\n",
       "        <span style=\"color: #008000; text-decoration-color: #008000\">\"./fit_vae.sh '1' 'DOVES' 'poisson' 'conv+b|lin' --seed 4 --kl_beta 1.5 --n_latents 256 --comment </span>\n",
       "<span style=\"color: #008000; text-decoration-color: #008000\">k256-b1.5\"</span>,\n",
       "        <span style=\"color: #008000; text-decoration-color: #008000\">\"./fit_vae.sh '1' 'DOVES' 'poisson' 'conv+b|lin' --seed 5 --kl_beta 1.5 --n_latents 256 --comment </span>\n",
       "<span style=\"color: #008000; text-decoration-color: #008000\">k256-b1.5\"</span>,\n",
       "        <span style=\"color: #008000; text-decoration-color: #008000\">\"./fit_vae.sh '1' 'DOVES' 'poisson' 'conv+b|lin' --seed 1 --kl_beta 1.5 --n_latents 512 --comment </span>\n",
       "<span style=\"color: #008000; text-decoration-color: #008000\">k512-b1.5\"</span>,\n",
       "        <span style=\"color: #008000; text-decoration-color: #008000\">\"./fit_vae.sh '1' 'DOVES' 'poisson' 'conv+b|lin' --seed 2 --kl_beta 1.5 --n_latents 512 --comment </span>\n",
       "<span style=\"color: #008000; text-decoration-color: #008000\">k512-b1.5\"</span>,\n",
       "        <span style=\"color: #008000; text-decoration-color: #008000\">\"./fit_vae.sh '1' 'DOVES' 'poisson' 'conv+b|lin' --seed 3 --kl_beta 1.5 --n_latents 512 --comment </span>\n",
       "<span style=\"color: #008000; text-decoration-color: #008000\">k512-b1.5\"</span>,\n",
       "        <span style=\"color: #008000; text-decoration-color: #008000\">\"./fit_vae.sh '1' 'DOVES' 'poisson' 'conv+b|lin' --seed 4 --kl_beta 1.5 --n_latents 512 --comment </span>\n",
       "<span style=\"color: #008000; text-decoration-color: #008000\">k512-b1.5\"</span>,\n",
       "        <span style=\"color: #008000; text-decoration-color: #008000\">\"./fit_vae.sh '1' 'DOVES' 'poisson' 'conv+b|lin' --seed 5 --kl_beta 1.5 --n_latents 512 --comment </span>\n",
       "<span style=\"color: #008000; text-decoration-color: #008000\">k512-b1.5\"</span>,\n",
       "        <span style=\"color: #008000; text-decoration-color: #008000\">\"./fit_vae.sh '1' 'DOVES' 'poisson' 'conv+b|lin' --seed 1 --kl_beta 4.0 --n_latents 256 --comment k256-b4\"</span>,\n",
       "        <span style=\"color: #008000; text-decoration-color: #008000\">\"./fit_vae.sh '1' 'DOVES' 'poisson' 'conv+b|lin' --seed 2 --kl_beta 4.0 --n_latents 256 --comment k256-b4\"</span>,\n",
       "        <span style=\"color: #008000; text-decoration-color: #008000\">\"./fit_vae.sh '1' 'DOVES' 'poisson' 'conv+b|lin' --seed 3 --kl_beta 4.0 --n_latents 256 --comment k256-b4\"</span>,\n",
       "        <span style=\"color: #008000; text-decoration-color: #008000\">\"./fit_vae.sh '1' 'DOVES' 'poisson' 'conv+b|lin' --seed 4 --kl_beta 4.0 --n_latents 256 --comment k256-b4\"</span>,\n",
       "        <span style=\"color: #008000; text-decoration-color: #008000\">\"./fit_vae.sh '1' 'DOVES' 'poisson' 'conv+b|lin' --seed 5 --kl_beta 4.0 --n_latents 256 --comment k256-b4\"</span>,\n",
       "        <span style=\"color: #008000; text-decoration-color: #008000\">\"./fit_vae.sh '1' 'DOVES' 'poisson' 'conv+b|lin' --seed 1 --kl_beta 4.0 --n_latents 512 --comment k512-b4\"</span>,\n",
       "        <span style=\"color: #008000; text-decoration-color: #008000\">\"./fit_vae.sh '1' 'DOVES' 'poisson' 'conv+b|lin' --seed 2 --kl_beta 4.0 --n_latents 512 --comment k512-b4\"</span>,\n",
       "        <span style=\"color: #008000; text-decoration-color: #008000\">\"./fit_vae.sh '1' 'DOVES' 'poisson' 'conv+b|lin' --seed 3 --kl_beta 4.0 --n_latents 512 --comment k512-b4\"</span>,\n",
       "        <span style=\"color: #008000; text-decoration-color: #008000\">\"./fit_vae.sh '1' 'DOVES' 'poisson' 'conv+b|lin' --seed 4 --kl_beta 4.0 --n_latents 512 --comment k512-b4\"</span>,\n",
       "        <span style=\"color: #008000; text-decoration-color: #008000\">\"./fit_vae.sh '1' 'DOVES' 'poisson' 'conv+b|lin' --seed 5 --kl_beta 4.0 --n_latents 512 --comment k512-b4\"</span>\n",
       "    <span style=\"font-weight: bold\">]</span>\n",
       "<span style=\"font-weight: bold\">}</span>\n",
       "</pre>\n"
      ],
      "text/plain": [
       "\u001b[1m{\u001b[0m\n",
       "    \u001b[1;36m0\u001b[0m: \u001b[1m[\u001b[0m\n",
       "        \u001b[32m\"./fit_vae.sh '0' 'DOVES' 'poisson' 'conv+b|lin' --seed 1 --kl_beta 0.01 --n_latents 256 --comment \u001b[0m\n",
       "\u001b[32mk256-b0.01\"\u001b[0m,\n",
       "        \u001b[32m\"./fit_vae.sh '0' 'DOVES' 'poisson' 'conv+b|lin' --seed 2 --kl_beta 0.01 --n_latents 256 --comment \u001b[0m\n",
       "\u001b[32mk256-b0.01\"\u001b[0m,\n",
       "        \u001b[32m\"./fit_vae.sh '0' 'DOVES' 'poisson' 'conv+b|lin' --seed 3 --kl_beta 0.01 --n_latents 256 --comment \u001b[0m\n",
       "\u001b[32mk256-b0.01\"\u001b[0m,\n",
       "        \u001b[32m\"./fit_vae.sh '0' 'DOVES' 'poisson' 'conv+b|lin' --seed 4 --kl_beta 0.01 --n_latents 256 --comment \u001b[0m\n",
       "\u001b[32mk256-b0.01\"\u001b[0m,\n",
       "        \u001b[32m\"./fit_vae.sh '0' 'DOVES' 'poisson' 'conv+b|lin' --seed 5 --kl_beta 0.01 --n_latents 256 --comment \u001b[0m\n",
       "\u001b[32mk256-b0.01\"\u001b[0m,\n",
       "        \u001b[32m\"./fit_vae.sh '0' 'DOVES' 'poisson' 'conv+b|lin' --seed 1 --kl_beta 0.01 --n_latents 512 --comment \u001b[0m\n",
       "\u001b[32mk512-b0.01\"\u001b[0m,\n",
       "        \u001b[32m\"./fit_vae.sh '0' 'DOVES' 'poisson' 'conv+b|lin' --seed 2 --kl_beta 0.01 --n_latents 512 --comment \u001b[0m\n",
       "\u001b[32mk512-b0.01\"\u001b[0m,\n",
       "        \u001b[32m\"./fit_vae.sh '0' 'DOVES' 'poisson' 'conv+b|lin' --seed 3 --kl_beta 0.01 --n_latents 512 --comment \u001b[0m\n",
       "\u001b[32mk512-b0.01\"\u001b[0m,\n",
       "        \u001b[32m\"./fit_vae.sh '0' 'DOVES' 'poisson' 'conv+b|lin' --seed 4 --kl_beta 0.01 --n_latents 512 --comment \u001b[0m\n",
       "\u001b[32mk512-b0.01\"\u001b[0m,\n",
       "        \u001b[32m\"./fit_vae.sh '0' 'DOVES' 'poisson' 'conv+b|lin' --seed 5 --kl_beta 0.01 --n_latents 512 --comment \u001b[0m\n",
       "\u001b[32mk512-b0.01\"\u001b[0m,\n",
       "        \u001b[32m\"./fit_vae.sh '0' 'DOVES' 'poisson' 'conv+b|lin' --seed 1 --kl_beta 0.2 --n_latents 256 --comment \u001b[0m\n",
       "\u001b[32mk256-b0.2\"\u001b[0m,\n",
       "        \u001b[32m\"./fit_vae.sh '0' 'DOVES' 'poisson' 'conv+b|lin' --seed 2 --kl_beta 0.2 --n_latents 256 --comment \u001b[0m\n",
       "\u001b[32mk256-b0.2\"\u001b[0m,\n",
       "        \u001b[32m\"./fit_vae.sh '0' 'DOVES' 'poisson' 'conv+b|lin' --seed 3 --kl_beta 0.2 --n_latents 256 --comment \u001b[0m\n",
       "\u001b[32mk256-b0.2\"\u001b[0m,\n",
       "        \u001b[32m\"./fit_vae.sh '0' 'DOVES' 'poisson' 'conv+b|lin' --seed 4 --kl_beta 0.2 --n_latents 256 --comment \u001b[0m\n",
       "\u001b[32mk256-b0.2\"\u001b[0m,\n",
       "        \u001b[32m\"./fit_vae.sh '0' 'DOVES' 'poisson' 'conv+b|lin' --seed 5 --kl_beta 0.2 --n_latents 256 --comment \u001b[0m\n",
       "\u001b[32mk256-b0.2\"\u001b[0m,\n",
       "        \u001b[32m\"./fit_vae.sh '0' 'DOVES' 'poisson' 'conv+b|lin' --seed 1 --kl_beta 0.2 --n_latents 512 --comment \u001b[0m\n",
       "\u001b[32mk512-b0.2\"\u001b[0m,\n",
       "        \u001b[32m\"./fit_vae.sh '0' 'DOVES' 'poisson' 'conv+b|lin' --seed 2 --kl_beta 0.2 --n_latents 512 --comment \u001b[0m\n",
       "\u001b[32mk512-b0.2\"\u001b[0m,\n",
       "        \u001b[32m\"./fit_vae.sh '0' 'DOVES' 'poisson' 'conv+b|lin' --seed 3 --kl_beta 0.2 --n_latents 512 --comment \u001b[0m\n",
       "\u001b[32mk512-b0.2\"\u001b[0m,\n",
       "        \u001b[32m\"./fit_vae.sh '0' 'DOVES' 'poisson' 'conv+b|lin' --seed 4 --kl_beta 0.2 --n_latents 512 --comment \u001b[0m\n",
       "\u001b[32mk512-b0.2\"\u001b[0m,\n",
       "        \u001b[32m\"./fit_vae.sh '0' 'DOVES' 'poisson' 'conv+b|lin' --seed 5 --kl_beta 0.2 --n_latents 512 --comment \u001b[0m\n",
       "\u001b[32mk512-b0.2\"\u001b[0m,\n",
       "        \u001b[32m\"./fit_vae.sh '0' 'DOVES' 'poisson' 'conv+b|lin' --seed 1 --kl_beta 0.4 --n_latents 256 --comment \u001b[0m\n",
       "\u001b[32mk256-b0.4\"\u001b[0m,\n",
       "        \u001b[32m\"./fit_vae.sh '0' 'DOVES' 'poisson' 'conv+b|lin' --seed 2 --kl_beta 0.4 --n_latents 256 --comment \u001b[0m\n",
       "\u001b[32mk256-b0.4\"\u001b[0m,\n",
       "        \u001b[32m\"./fit_vae.sh '0' 'DOVES' 'poisson' 'conv+b|lin' --seed 3 --kl_beta 0.4 --n_latents 256 --comment \u001b[0m\n",
       "\u001b[32mk256-b0.4\"\u001b[0m,\n",
       "        \u001b[32m\"./fit_vae.sh '0' 'DOVES' 'poisson' 'conv+b|lin' --seed 4 --kl_beta 0.4 --n_latents 256 --comment \u001b[0m\n",
       "\u001b[32mk256-b0.4\"\u001b[0m,\n",
       "        \u001b[32m\"./fit_vae.sh '0' 'DOVES' 'poisson' 'conv+b|lin' --seed 5 --kl_beta 0.4 --n_latents 256 --comment \u001b[0m\n",
       "\u001b[32mk256-b0.4\"\u001b[0m,\n",
       "        \u001b[32m\"./fit_vae.sh '0' 'DOVES' 'poisson' 'conv+b|lin' --seed 1 --kl_beta 0.4 --n_latents 512 --comment \u001b[0m\n",
       "\u001b[32mk512-b0.4\"\u001b[0m,\n",
       "        \u001b[32m\"./fit_vae.sh '0' 'DOVES' 'poisson' 'conv+b|lin' --seed 2 --kl_beta 0.4 --n_latents 512 --comment \u001b[0m\n",
       "\u001b[32mk512-b0.4\"\u001b[0m,\n",
       "        \u001b[32m\"./fit_vae.sh '0' 'DOVES' 'poisson' 'conv+b|lin' --seed 3 --kl_beta 0.4 --n_latents 512 --comment \u001b[0m\n",
       "\u001b[32mk512-b0.4\"\u001b[0m,\n",
       "        \u001b[32m\"./fit_vae.sh '0' 'DOVES' 'poisson' 'conv+b|lin' --seed 4 --kl_beta 0.4 --n_latents 512 --comment \u001b[0m\n",
       "\u001b[32mk512-b0.4\"\u001b[0m,\n",
       "        \u001b[32m\"./fit_vae.sh '0' 'DOVES' 'poisson' 'conv+b|lin' --seed 5 --kl_beta 0.4 --n_latents 512 --comment \u001b[0m\n",
       "\u001b[32mk512-b0.4\"\u001b[0m,\n",
       "        \u001b[32m\"./fit_vae.sh '0' 'DOVES' 'poisson' 'conv+b|lin' --seed 1 --kl_beta 0.6 --n_latents 256 --comment \u001b[0m\n",
       "\u001b[32mk256-b0.6\"\u001b[0m,\n",
       "        \u001b[32m\"./fit_vae.sh '0' 'DOVES' 'poisson' 'conv+b|lin' --seed 2 --kl_beta 0.6 --n_latents 256 --comment \u001b[0m\n",
       "\u001b[32mk256-b0.6\"\u001b[0m,\n",
       "        \u001b[32m\"./fit_vae.sh '0' 'DOVES' 'poisson' 'conv+b|lin' --seed 3 --kl_beta 0.6 --n_latents 256 --comment \u001b[0m\n",
       "\u001b[32mk256-b0.6\"\u001b[0m,\n",
       "        \u001b[32m\"./fit_vae.sh '0' 'DOVES' 'poisson' 'conv+b|lin' --seed 4 --kl_beta 0.6 --n_latents 256 --comment \u001b[0m\n",
       "\u001b[32mk256-b0.6\"\u001b[0m,\n",
       "        \u001b[32m\"./fit_vae.sh '0' 'DOVES' 'poisson' 'conv+b|lin' --seed 5 --kl_beta 0.6 --n_latents 256 --comment \u001b[0m\n",
       "\u001b[32mk256-b0.6\"\u001b[0m,\n",
       "        \u001b[32m\"./fit_vae.sh '0' 'DOVES' 'poisson' 'conv+b|lin' --seed 1 --kl_beta 0.6 --n_latents 512 --comment \u001b[0m\n",
       "\u001b[32mk512-b0.6\"\u001b[0m,\n",
       "        \u001b[32m\"./fit_vae.sh '0' 'DOVES' 'poisson' 'conv+b|lin' --seed 2 --kl_beta 0.6 --n_latents 512 --comment \u001b[0m\n",
       "\u001b[32mk512-b0.6\"\u001b[0m,\n",
       "        \u001b[32m\"./fit_vae.sh '0' 'DOVES' 'poisson' 'conv+b|lin' --seed 3 --kl_beta 0.6 --n_latents 512 --comment \u001b[0m\n",
       "\u001b[32mk512-b0.6\"\u001b[0m,\n",
       "        \u001b[32m\"./fit_vae.sh '0' 'DOVES' 'poisson' 'conv+b|lin' --seed 4 --kl_beta 0.6 --n_latents 512 --comment \u001b[0m\n",
       "\u001b[32mk512-b0.6\"\u001b[0m,\n",
       "        \u001b[32m\"./fit_vae.sh '0' 'DOVES' 'poisson' 'conv+b|lin' --seed 5 --kl_beta 0.6 --n_latents 512 --comment \u001b[0m\n",
       "\u001b[32mk512-b0.6\"\u001b[0m\n",
       "    \u001b[1m]\u001b[0m,\n",
       "    \u001b[1;36m1\u001b[0m: \u001b[1m[\u001b[0m\n",
       "        \u001b[32m\"./fit_vae.sh '1' 'DOVES' 'poisson' 'conv+b|lin' --seed 1 --kl_beta 0.8 --n_latents 256 --comment \u001b[0m\n",
       "\u001b[32mk256-b0.8\"\u001b[0m,\n",
       "        \u001b[32m\"./fit_vae.sh '1' 'DOVES' 'poisson' 'conv+b|lin' --seed 2 --kl_beta 0.8 --n_latents 256 --comment \u001b[0m\n",
       "\u001b[32mk256-b0.8\"\u001b[0m,\n",
       "        \u001b[32m\"./fit_vae.sh '1' 'DOVES' 'poisson' 'conv+b|lin' --seed 3 --kl_beta 0.8 --n_latents 256 --comment \u001b[0m\n",
       "\u001b[32mk256-b0.8\"\u001b[0m,\n",
       "        \u001b[32m\"./fit_vae.sh '1' 'DOVES' 'poisson' 'conv+b|lin' --seed 4 --kl_beta 0.8 --n_latents 256 --comment \u001b[0m\n",
       "\u001b[32mk256-b0.8\"\u001b[0m,\n",
       "        \u001b[32m\"./fit_vae.sh '1' 'DOVES' 'poisson' 'conv+b|lin' --seed 5 --kl_beta 0.8 --n_latents 256 --comment \u001b[0m\n",
       "\u001b[32mk256-b0.8\"\u001b[0m,\n",
       "        \u001b[32m\"./fit_vae.sh '1' 'DOVES' 'poisson' 'conv+b|lin' --seed 1 --kl_beta 0.8 --n_latents 512 --comment \u001b[0m\n",
       "\u001b[32mk512-b0.8\"\u001b[0m,\n",
       "        \u001b[32m\"./fit_vae.sh '1' 'DOVES' 'poisson' 'conv+b|lin' --seed 2 --kl_beta 0.8 --n_latents 512 --comment \u001b[0m\n",
       "\u001b[32mk512-b0.8\"\u001b[0m,\n",
       "        \u001b[32m\"./fit_vae.sh '1' 'DOVES' 'poisson' 'conv+b|lin' --seed 3 --kl_beta 0.8 --n_latents 512 --comment \u001b[0m\n",
       "\u001b[32mk512-b0.8\"\u001b[0m,\n",
       "        \u001b[32m\"./fit_vae.sh '1' 'DOVES' 'poisson' 'conv+b|lin' --seed 4 --kl_beta 0.8 --n_latents 512 --comment \u001b[0m\n",
       "\u001b[32mk512-b0.8\"\u001b[0m,\n",
       "        \u001b[32m\"./fit_vae.sh '1' 'DOVES' 'poisson' 'conv+b|lin' --seed 5 --kl_beta 0.8 --n_latents 512 --comment \u001b[0m\n",
       "\u001b[32mk512-b0.8\"\u001b[0m,\n",
       "        \u001b[32m\"./fit_vae.sh '1' 'DOVES' 'poisson' 'conv+b|lin' --seed 1 --kl_beta 1.0 --n_latents 256 --comment k256-b1\"\u001b[0m,\n",
       "        \u001b[32m\"./fit_vae.sh '1' 'DOVES' 'poisson' 'conv+b|lin' --seed 2 --kl_beta 1.0 --n_latents 256 --comment k256-b1\"\u001b[0m,\n",
       "        \u001b[32m\"./fit_vae.sh '1' 'DOVES' 'poisson' 'conv+b|lin' --seed 3 --kl_beta 1.0 --n_latents 256 --comment k256-b1\"\u001b[0m,\n",
       "        \u001b[32m\"./fit_vae.sh '1' 'DOVES' 'poisson' 'conv+b|lin' --seed 4 --kl_beta 1.0 --n_latents 256 --comment k256-b1\"\u001b[0m,\n",
       "        \u001b[32m\"./fit_vae.sh '1' 'DOVES' 'poisson' 'conv+b|lin' --seed 5 --kl_beta 1.0 --n_latents 256 --comment k256-b1\"\u001b[0m,\n",
       "        \u001b[32m\"./fit_vae.sh '1' 'DOVES' 'poisson' 'conv+b|lin' --seed 1 --kl_beta 1.5 --n_latents 256 --comment \u001b[0m\n",
       "\u001b[32mk256-b1.5\"\u001b[0m,\n",
       "        \u001b[32m\"./fit_vae.sh '1' 'DOVES' 'poisson' 'conv+b|lin' --seed 2 --kl_beta 1.5 --n_latents 256 --comment \u001b[0m\n",
       "\u001b[32mk256-b1.5\"\u001b[0m,\n",
       "        \u001b[32m\"./fit_vae.sh '1' 'DOVES' 'poisson' 'conv+b|lin' --seed 3 --kl_beta 1.5 --n_latents 256 --comment \u001b[0m\n",
       "\u001b[32mk256-b1.5\"\u001b[0m,\n",
       "        \u001b[32m\"./fit_vae.sh '1' 'DOVES' 'poisson' 'conv+b|lin' --seed 4 --kl_beta 1.5 --n_latents 256 --comment \u001b[0m\n",
       "\u001b[32mk256-b1.5\"\u001b[0m,\n",
       "        \u001b[32m\"./fit_vae.sh '1' 'DOVES' 'poisson' 'conv+b|lin' --seed 5 --kl_beta 1.5 --n_latents 256 --comment \u001b[0m\n",
       "\u001b[32mk256-b1.5\"\u001b[0m,\n",
       "        \u001b[32m\"./fit_vae.sh '1' 'DOVES' 'poisson' 'conv+b|lin' --seed 1 --kl_beta 1.5 --n_latents 512 --comment \u001b[0m\n",
       "\u001b[32mk512-b1.5\"\u001b[0m,\n",
       "        \u001b[32m\"./fit_vae.sh '1' 'DOVES' 'poisson' 'conv+b|lin' --seed 2 --kl_beta 1.5 --n_latents 512 --comment \u001b[0m\n",
       "\u001b[32mk512-b1.5\"\u001b[0m,\n",
       "        \u001b[32m\"./fit_vae.sh '1' 'DOVES' 'poisson' 'conv+b|lin' --seed 3 --kl_beta 1.5 --n_latents 512 --comment \u001b[0m\n",
       "\u001b[32mk512-b1.5\"\u001b[0m,\n",
       "        \u001b[32m\"./fit_vae.sh '1' 'DOVES' 'poisson' 'conv+b|lin' --seed 4 --kl_beta 1.5 --n_latents 512 --comment \u001b[0m\n",
       "\u001b[32mk512-b1.5\"\u001b[0m,\n",
       "        \u001b[32m\"./fit_vae.sh '1' 'DOVES' 'poisson' 'conv+b|lin' --seed 5 --kl_beta 1.5 --n_latents 512 --comment \u001b[0m\n",
       "\u001b[32mk512-b1.5\"\u001b[0m,\n",
       "        \u001b[32m\"./fit_vae.sh '1' 'DOVES' 'poisson' 'conv+b|lin' --seed 1 --kl_beta 4.0 --n_latents 256 --comment k256-b4\"\u001b[0m,\n",
       "        \u001b[32m\"./fit_vae.sh '1' 'DOVES' 'poisson' 'conv+b|lin' --seed 2 --kl_beta 4.0 --n_latents 256 --comment k256-b4\"\u001b[0m,\n",
       "        \u001b[32m\"./fit_vae.sh '1' 'DOVES' 'poisson' 'conv+b|lin' --seed 3 --kl_beta 4.0 --n_latents 256 --comment k256-b4\"\u001b[0m,\n",
       "        \u001b[32m\"./fit_vae.sh '1' 'DOVES' 'poisson' 'conv+b|lin' --seed 4 --kl_beta 4.0 --n_latents 256 --comment k256-b4\"\u001b[0m,\n",
       "        \u001b[32m\"./fit_vae.sh '1' 'DOVES' 'poisson' 'conv+b|lin' --seed 5 --kl_beta 4.0 --n_latents 256 --comment k256-b4\"\u001b[0m,\n",
       "        \u001b[32m\"./fit_vae.sh '1' 'DOVES' 'poisson' 'conv+b|lin' --seed 1 --kl_beta 4.0 --n_latents 512 --comment k512-b4\"\u001b[0m,\n",
       "        \u001b[32m\"./fit_vae.sh '1' 'DOVES' 'poisson' 'conv+b|lin' --seed 2 --kl_beta 4.0 --n_latents 512 --comment k512-b4\"\u001b[0m,\n",
       "        \u001b[32m\"./fit_vae.sh '1' 'DOVES' 'poisson' 'conv+b|lin' --seed 3 --kl_beta 4.0 --n_latents 512 --comment k512-b4\"\u001b[0m,\n",
       "        \u001b[32m\"./fit_vae.sh '1' 'DOVES' 'poisson' 'conv+b|lin' --seed 4 --kl_beta 4.0 --n_latents 512 --comment k512-b4\"\u001b[0m,\n",
       "        \u001b[32m\"./fit_vae.sh '1' 'DOVES' 'poisson' 'conv+b|lin' --seed 5 --kl_beta 4.0 --n_latents 512 --comment k512-b4\"\u001b[0m\n",
       "    \u001b[1m]\u001b[0m\n",
       "\u001b[1m}\u001b[0m\n"
      ]
     },
     "metadata": {},
     "output_type": "display_data"
    }
   ],
   "source": [
    "print(scripts_chewie)"
   ]
  },
  {
   "cell_type": "code",
   "execution_count": null,
   "id": "374343ae-4bbb-453d-bbef-4e4accc0bc64",
   "metadata": {},
   "outputs": [],
   "source": []
  },
  {
   "cell_type": "code",
   "execution_count": null,
   "id": "190b48e7-3779-4b55-9cf1-ba243415b1f5",
   "metadata": {},
   "outputs": [],
   "source": []
  },
  {
   "cell_type": "code",
   "execution_count": null,
   "id": "03b41d92-5042-458d-b2e0-8b4056d4fc99",
   "metadata": {},
   "outputs": [],
   "source": []
  }
 ],
 "metadata": {
  "kernelspec": {
   "display_name": "Python 3 (ipykernel)",
   "language": "python",
   "name": "python3"
  },
  "language_info": {
   "codemirror_mode": {
    "name": "ipython",
    "version": 3
   },
   "file_extension": ".py",
   "mimetype": "text/x-python",
   "name": "python",
   "nbconvert_exporter": "python",
   "pygments_lexer": "ipython3",
   "version": "3.11.7"
  }
 },
 "nbformat": 4,
 "nbformat_minor": 5
}
