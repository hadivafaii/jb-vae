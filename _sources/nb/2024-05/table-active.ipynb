{
 "cells": [
  {
   "cell_type": "markdown",
   "id": "68c49500-d331-4529-a189-66955134371a",
   "metadata": {},
   "source": [
    "# Table: active\n",
    "\n",
    "**Motivation**: Proportion of active neurons. Device = ```cuda:1``` <br>"
   ]
  },
  {
   "cell_type": "code",
   "execution_count": 1,
   "id": "721412ee-9fe2-4e48-910d-37a7304ed31d",
   "metadata": {
    "tags": [
     "hide-input"
    ]
   },
   "outputs": [],
   "source": [
    "# HIDE CODE\n",
    "\n",
    "\n",
    "import os, sys\n",
    "from IPython.display import display\n",
    "\n",
    "# tmp & extras dir\n",
    "git_dir = os.path.join(os.environ['HOME'], 'Dropbox/git')\n",
    "extras_dir = os.path.join(git_dir, 'jb-vae/_extras')\n",
    "fig_base_dir = os.path.join(git_dir, 'jb-vae/figs')\n",
    "tmp_dir = os.path.join(git_dir, 'jb-vae/tmp')\n",
    "\n",
    "# GitHub\n",
    "sys.path.insert(0, os.path.join(git_dir, '_PoissonVAE'))\n",
    "from analysis.eval import sparse_score\n",
    "from figures.fighelper import *\n",
    "from vae.train_vae import *\n",
    "\n",
    "# warnings, tqdm, & style\n",
    "warnings.filterwarnings('ignore', category=DeprecationWarning)\n",
    "warnings.filterwarnings('ignore', category=FutureWarning)\n",
    "warnings.filterwarnings('ignore', category=UserWarning)\n",
    "from rich.jupyter import print\n",
    "%matplotlib inline\n",
    "set_style()"
   ]
  },
  {
   "cell_type": "markdown",
   "id": "b53a8ee9-7fa2-4903-925a-12fb15c60166",
   "metadata": {},
   "source": [
    "## Device"
   ]
  },
  {
   "cell_type": "code",
   "execution_count": 2,
   "id": "d7b94732-ef0f-4cf3-ba3a-241743b56306",
   "metadata": {},
   "outputs": [],
   "source": [
    "device_idx = 1\n",
    "device = f'cuda:{device_idx}'\n",
    "\n",
    "from analysis.final import sort_fits, analyze_fits, add_nelbo_diff\n",
    "from figures.table import table_entry_active\n",
    "from analysis.stats import ttest"
   ]
  },
  {
   "cell_type": "markdown",
   "id": "181b665c-d6d5-4a1b-84d3-ad8bd8037a75",
   "metadata": {},
   "source": [
    "## Load dfs"
   ]
  },
  {
   "cell_type": "code",
   "execution_count": 3,
   "id": "7729d560-816f-4ad8-8623-e2f19a8af6a1",
   "metadata": {},
   "outputs": [
    {
     "data": {
      "text/plain": [
       "(90, 17)"
      ]
     },
     "execution_count": 3,
     "metadata": {},
     "output_type": "execute_result"
    }
   ],
   "source": [
    "df_main = pd.read_pickle(pjoin(tmp_dir, 'df_main.df'))\n",
    "\n",
    "selected_models = [\n",
    "    'poisson',\n",
    "    'gaussian',\n",
    "    'laplace',\n",
    "]\n",
    "df = df_main.loc[\n",
    "    (df_main['method'] == 'mc') &\n",
    "    (df_main['type'].isin(selected_models))\n",
    "]\n",
    "\n",
    "df.shape"
   ]
  },
  {
   "cell_type": "code",
   "execution_count": null,
   "id": "db0e5c6f-e873-49f8-a7bb-18867a0e71a4",
   "metadata": {},
   "outputs": [],
   "source": []
  },
  {
   "cell_type": "code",
   "execution_count": 4,
   "id": "f2b74fd2-78ce-4f39-bfcd-2f8ec1cf644a",
   "metadata": {},
   "outputs": [
    {
     "data": {
      "text/html": [
       "<div>\n",
       "<style scoped>\n",
       "    .dataframe tbody tr th:only-of-type {\n",
       "        vertical-align: middle;\n",
       "    }\n",
       "\n",
       "    .dataframe tbody tr th {\n",
       "        vertical-align: top;\n",
       "    }\n",
       "\n",
       "    .dataframe thead tr th {\n",
       "        text-align: left;\n",
       "    }\n",
       "\n",
       "    .dataframe thead tr:last-of-type th {\n",
       "        text-align: right;\n",
       "    }\n",
       "</style>\n",
       "<table border=\"1\" class=\"dataframe\">\n",
       "  <thead>\n",
       "    <tr>\n",
       "      <th>dataset</th>\n",
       "      <th colspan=\"2\" halign=\"left\">CIFAR10-PATCHES</th>\n",
       "      <th colspan=\"2\" halign=\"left\">DOVES</th>\n",
       "      <th colspan=\"2\" halign=\"left\">MNIST</th>\n",
       "    </tr>\n",
       "    <tr>\n",
       "      <th>enc_type</th>\n",
       "      <th>conv</th>\n",
       "      <th>lin</th>\n",
       "      <th>conv</th>\n",
       "      <th>lin</th>\n",
       "      <th>conv</th>\n",
       "      <th>lin</th>\n",
       "    </tr>\n",
       "    <tr>\n",
       "      <th>type</th>\n",
       "      <th></th>\n",
       "      <th></th>\n",
       "      <th></th>\n",
       "      <th></th>\n",
       "      <th></th>\n",
       "      <th></th>\n",
       "    </tr>\n",
       "  </thead>\n",
       "  <tbody>\n",
       "    <tr>\n",
       "      <th>gaussian</th>\n",
       "      <td>0.246094</td>\n",
       "      <td>0.105469</td>\n",
       "      <td>0.246094</td>\n",
       "      <td>0.217578</td>\n",
       "      <td>0.031250</td>\n",
       "      <td>0.027344</td>\n",
       "    </tr>\n",
       "    <tr>\n",
       "      <th>laplace</th>\n",
       "      <td>0.230469</td>\n",
       "      <td>0.192969</td>\n",
       "      <td>0.221875</td>\n",
       "      <td>0.187500</td>\n",
       "      <td>0.033984</td>\n",
       "      <td>0.027344</td>\n",
       "    </tr>\n",
       "    <tr>\n",
       "      <th>poisson</th>\n",
       "      <td>0.928125</td>\n",
       "      <td>0.999219</td>\n",
       "      <td>0.819141</td>\n",
       "      <td>0.983984</td>\n",
       "      <td>0.426172</td>\n",
       "      <td>0.536719</td>\n",
       "    </tr>\n",
       "  </tbody>\n",
       "</table>\n",
       "</div>"
      ],
      "text/plain": [
       "dataset  CIFAR10-PATCHES               DOVES               MNIST          \n",
       "enc_type            conv       lin      conv       lin      conv       lin\n",
       "type                                                                      \n",
       "gaussian        0.246094  0.105469  0.246094  0.217578  0.031250  0.027344\n",
       "laplace         0.230469  0.192969  0.221875  0.187500  0.033984  0.027344\n",
       "poisson         0.928125  0.999219  0.819141  0.983984  0.426172  0.536719"
      ]
     },
     "execution_count": 4,
     "metadata": {},
     "output_type": "execute_result"
    }
   ],
   "source": [
    "df.pivot_table(\n",
    "    values='active',\n",
    "    index='type',\n",
    "    columns=['dataset', 'enc_type'],\n",
    ")"
   ]
  },
  {
   "cell_type": "code",
   "execution_count": null,
   "id": "f0257784-25a9-4a29-9255-d39fa7bdfa78",
   "metadata": {},
   "outputs": [],
   "source": []
  },
  {
   "cell_type": "markdown",
   "id": "3f97fbd3-efff-493f-b11b-d75cfc628f17",
   "metadata": {},
   "source": [
    "### ttest"
   ]
  },
  {
   "cell_type": "code",
   "execution_count": 5,
   "id": "1314a60d-a4da-49d4-8e7c-66b4ab7ee678",
   "metadata": {},
   "outputs": [],
   "source": [
    "df_agg, df_ttest = ttest(\n",
    "    df=df,\n",
    "    value='active',\n",
    "    by=['dataset', 'enc_type', 'type'],\n",
    "    test_conds=[\n",
    "        ('poisson', m) for m in\n",
    "        df['type'].unique()\n",
    "        if m != 'poisson'],\n",
    "    method='fdr_bh',\n",
    "    alpha=0.01,\n",
    ")"
   ]
  },
  {
   "cell_type": "code",
   "execution_count": 6,
   "id": "48a00cc7-5ff5-468e-922b-82937eb96200",
   "metadata": {},
   "outputs": [
    {
     "data": {
      "text/html": [
       "<div>\n",
       "<style scoped>\n",
       "    .dataframe tbody tr th:only-of-type {\n",
       "        vertical-align: middle;\n",
       "    }\n",
       "\n",
       "    .dataframe tbody tr th {\n",
       "        vertical-align: top;\n",
       "    }\n",
       "\n",
       "    .dataframe thead th {\n",
       "        text-align: right;\n",
       "    }\n",
       "</style>\n",
       "<table border=\"1\" class=\"dataframe\">\n",
       "  <thead>\n",
       "    <tr style=\"text-align: right;\">\n",
       "      <th></th>\n",
       "      <th>dataset</th>\n",
       "      <th>enc_type</th>\n",
       "      <th>cond1</th>\n",
       "      <th>cond2</th>\n",
       "      <th>t</th>\n",
       "      <th>pvals</th>\n",
       "      <th>pvals_fdr_bh</th>\n",
       "      <th>reject</th>\n",
       "    </tr>\n",
       "  </thead>\n",
       "  <tbody>\n",
       "    <tr>\n",
       "      <th>0</th>\n",
       "      <td>CIFAR10-PATCHES</td>\n",
       "      <td>conv</td>\n",
       "      <td>poisson</td>\n",
       "      <td>gaussian</td>\n",
       "      <td>61.982740</td>\n",
       "      <td>4.058027e-07</td>\n",
       "      <td>4.869632e-07</td>\n",
       "      <td>True</td>\n",
       "    </tr>\n",
       "    <tr>\n",
       "      <th>1</th>\n",
       "      <td>CIFAR10-PATCHES</td>\n",
       "      <td>conv</td>\n",
       "      <td>poisson</td>\n",
       "      <td>laplace</td>\n",
       "      <td>63.402735</td>\n",
       "      <td>3.706802e-07</td>\n",
       "      <td>4.869632e-07</td>\n",
       "      <td>True</td>\n",
       "    </tr>\n",
       "    <tr>\n",
       "      <th>2</th>\n",
       "      <td>CIFAR10-PATCHES</td>\n",
       "      <td>lin</td>\n",
       "      <td>poisson</td>\n",
       "      <td>gaussian</td>\n",
       "      <td>407.662481</td>\n",
       "      <td>2.172355e-10</td>\n",
       "      <td>1.303413e-09</td>\n",
       "      <td>True</td>\n",
       "    </tr>\n",
       "    <tr>\n",
       "      <th>3</th>\n",
       "      <td>CIFAR10-PATCHES</td>\n",
       "      <td>lin</td>\n",
       "      <td>poisson</td>\n",
       "      <td>laplace</td>\n",
       "      <td>842.624472</td>\n",
       "      <td>1.190175e-11</td>\n",
       "      <td>1.428210e-10</td>\n",
       "      <td>True</td>\n",
       "    </tr>\n",
       "    <tr>\n",
       "      <th>4</th>\n",
       "      <td>DOVES</td>\n",
       "      <td>conv</td>\n",
       "      <td>poisson</td>\n",
       "      <td>gaussian</td>\n",
       "      <td>58.147482</td>\n",
       "      <td>5.238076e-07</td>\n",
       "      <td>5.714265e-07</td>\n",
       "      <td>True</td>\n",
       "    </tr>\n",
       "    <tr>\n",
       "      <th>5</th>\n",
       "      <td>DOVES</td>\n",
       "      <td>conv</td>\n",
       "      <td>poisson</td>\n",
       "      <td>laplace</td>\n",
       "      <td>56.552108</td>\n",
       "      <td>5.853981e-07</td>\n",
       "      <td>5.853981e-07</td>\n",
       "      <td>True</td>\n",
       "    </tr>\n",
       "    <tr>\n",
       "      <th>6</th>\n",
       "      <td>DOVES</td>\n",
       "      <td>lin</td>\n",
       "      <td>poisson</td>\n",
       "      <td>gaussian</td>\n",
       "      <td>255.430643</td>\n",
       "      <td>1.409337e-09</td>\n",
       "      <td>2.818674e-09</td>\n",
       "      <td>True</td>\n",
       "    </tr>\n",
       "    <tr>\n",
       "      <th>7</th>\n",
       "      <td>DOVES</td>\n",
       "      <td>lin</td>\n",
       "      <td>poisson</td>\n",
       "      <td>laplace</td>\n",
       "      <td>300.634149</td>\n",
       "      <td>7.344563e-10</td>\n",
       "      <td>2.818674e-09</td>\n",
       "      <td>True</td>\n",
       "    </tr>\n",
       "    <tr>\n",
       "      <th>8</th>\n",
       "      <td>MNIST</td>\n",
       "      <td>conv</td>\n",
       "      <td>poisson</td>\n",
       "      <td>gaussian</td>\n",
       "      <td>141.568316</td>\n",
       "      <td>1.493284e-08</td>\n",
       "      <td>2.559916e-08</td>\n",
       "      <td>True</td>\n",
       "    </tr>\n",
       "    <tr>\n",
       "      <th>9</th>\n",
       "      <td>MNIST</td>\n",
       "      <td>conv</td>\n",
       "      <td>poisson</td>\n",
       "      <td>laplace</td>\n",
       "      <td>134.165143</td>\n",
       "      <td>1.851107e-08</td>\n",
       "      <td>2.776661e-08</td>\n",
       "      <td>True</td>\n",
       "    </tr>\n",
       "    <tr>\n",
       "      <th>10</th>\n",
       "      <td>MNIST</td>\n",
       "      <td>lin</td>\n",
       "      <td>poisson</td>\n",
       "      <td>gaussian</td>\n",
       "      <td>255.735440</td>\n",
       "      <td>1.402631e-09</td>\n",
       "      <td>2.818674e-09</td>\n",
       "      <td>True</td>\n",
       "    </tr>\n",
       "    <tr>\n",
       "      <th>11</th>\n",
       "      <td>MNIST</td>\n",
       "      <td>lin</td>\n",
       "      <td>poisson</td>\n",
       "      <td>laplace</td>\n",
       "      <td>255.735440</td>\n",
       "      <td>1.402631e-09</td>\n",
       "      <td>2.818674e-09</td>\n",
       "      <td>True</td>\n",
       "    </tr>\n",
       "  </tbody>\n",
       "</table>\n",
       "</div>"
      ],
      "text/plain": [
       "            dataset enc_type    cond1     cond2           t         pvals  \\\n",
       "0   CIFAR10-PATCHES     conv  poisson  gaussian   61.982740  4.058027e-07   \n",
       "1   CIFAR10-PATCHES     conv  poisson   laplace   63.402735  3.706802e-07   \n",
       "2   CIFAR10-PATCHES      lin  poisson  gaussian  407.662481  2.172355e-10   \n",
       "3   CIFAR10-PATCHES      lin  poisson   laplace  842.624472  1.190175e-11   \n",
       "4             DOVES     conv  poisson  gaussian   58.147482  5.238076e-07   \n",
       "5             DOVES     conv  poisson   laplace   56.552108  5.853981e-07   \n",
       "6             DOVES      lin  poisson  gaussian  255.430643  1.409337e-09   \n",
       "7             DOVES      lin  poisson   laplace  300.634149  7.344563e-10   \n",
       "8             MNIST     conv  poisson  gaussian  141.568316  1.493284e-08   \n",
       "9             MNIST     conv  poisson   laplace  134.165143  1.851107e-08   \n",
       "10            MNIST      lin  poisson  gaussian  255.735440  1.402631e-09   \n",
       "11            MNIST      lin  poisson   laplace  255.735440  1.402631e-09   \n",
       "\n",
       "    pvals_fdr_bh  reject  \n",
       "0   4.869632e-07    True  \n",
       "1   4.869632e-07    True  \n",
       "2   1.303413e-09    True  \n",
       "3   1.428210e-10    True  \n",
       "4   5.714265e-07    True  \n",
       "5   5.853981e-07    True  \n",
       "6   2.818674e-09    True  \n",
       "7   2.818674e-09    True  \n",
       "8   2.559916e-08    True  \n",
       "9   2.776661e-08    True  \n",
       "10  2.818674e-09    True  \n",
       "11  2.818674e-09    True  "
      ]
     },
     "execution_count": 6,
     "metadata": {},
     "output_type": "execute_result"
    }
   ],
   "source": [
    "df_ttest"
   ]
  },
  {
   "cell_type": "code",
   "execution_count": null,
   "id": "df6d5f86-5b59-4689-9377-0f77733de228",
   "metadata": {},
   "outputs": [],
   "source": []
  },
  {
   "cell_type": "code",
   "execution_count": 7,
   "id": "d0430447-f9df-4b6e-ad17-c9b176b9197c",
   "metadata": {},
   "outputs": [
    {
     "data": {
      "text/html": [
       "<div>\n",
       "<style scoped>\n",
       "    .dataframe tbody tr th:only-of-type {\n",
       "        vertical-align: middle;\n",
       "    }\n",
       "\n",
       "    .dataframe tbody tr th {\n",
       "        vertical-align: top;\n",
       "    }\n",
       "\n",
       "    .dataframe thead tr th {\n",
       "        text-align: left;\n",
       "    }\n",
       "\n",
       "    .dataframe thead tr:last-of-type th {\n",
       "        text-align: right;\n",
       "    }\n",
       "</style>\n",
       "<table border=\"1\" class=\"dataframe\">\n",
       "  <thead>\n",
       "    <tr>\n",
       "      <th>dataset</th>\n",
       "      <th colspan=\"2\" halign=\"left\">CIFAR10-PATCHES</th>\n",
       "      <th colspan=\"2\" halign=\"left\">DOVES</th>\n",
       "      <th colspan=\"2\" halign=\"left\">MNIST</th>\n",
       "    </tr>\n",
       "    <tr>\n",
       "      <th>enc_type</th>\n",
       "      <th>conv</th>\n",
       "      <th>lin</th>\n",
       "      <th>conv</th>\n",
       "      <th>lin</th>\n",
       "      <th>conv</th>\n",
       "      <th>lin</th>\n",
       "    </tr>\n",
       "    <tr>\n",
       "      <th>cond2</th>\n",
       "      <th></th>\n",
       "      <th></th>\n",
       "      <th></th>\n",
       "      <th></th>\n",
       "      <th></th>\n",
       "      <th></th>\n",
       "    </tr>\n",
       "  </thead>\n",
       "  <tbody>\n",
       "    <tr>\n",
       "      <th>gaussian</th>\n",
       "      <td>True</td>\n",
       "      <td>True</td>\n",
       "      <td>True</td>\n",
       "      <td>True</td>\n",
       "      <td>True</td>\n",
       "      <td>True</td>\n",
       "    </tr>\n",
       "    <tr>\n",
       "      <th>laplace</th>\n",
       "      <td>True</td>\n",
       "      <td>True</td>\n",
       "      <td>True</td>\n",
       "      <td>True</td>\n",
       "      <td>True</td>\n",
       "      <td>True</td>\n",
       "    </tr>\n",
       "  </tbody>\n",
       "</table>\n",
       "</div>"
      ],
      "text/plain": [
       "dataset  CIFAR10-PATCHES       DOVES       MNIST      \n",
       "enc_type            conv   lin  conv   lin  conv   lin\n",
       "cond2                                                 \n",
       "gaussian            True  True  True  True  True  True\n",
       "laplace             True  True  True  True  True  True"
      ]
     },
     "execution_count": 7,
     "metadata": {},
     "output_type": "execute_result"
    }
   ],
   "source": [
    "df_ttest.pivot(index='cond2', columns=['dataset', 'enc_type'], values='reject')"
   ]
  },
  {
   "cell_type": "code",
   "execution_count": null,
   "id": "32b375d4-5046-47d2-8cd9-d75ef2c98f18",
   "metadata": {},
   "outputs": [],
   "source": []
  },
  {
   "cell_type": "code",
   "execution_count": 8,
   "id": "83c29eda-d8cf-4398-b2b1-d6e7e61868d0",
   "metadata": {},
   "outputs": [
    {
     "data": {
      "text/html": [
       "<pre style=\"white-space:pre;overflow-x:auto;line-height:normal;font-family:Menlo,'DejaVu Sans Mono',consolas,'Courier New',monospace\"><span style=\"font-weight: bold\">(</span><span style=\"color: #008000; text-decoration-color: #008000\">'CIFAR10-PATCHES'</span>, <span style=\"color: #008000; text-decoration-color: #008000\">'conv'</span>, <span style=\"color: #008000; text-decoration-color: #008000\">'gaussian'</span><span style=\"font-weight: bold\">)</span>\n",
       "<span style=\"color: #008080; text-decoration-color: #008080; font-weight: bold\">5</span>\n",
       "</pre>\n"
      ],
      "text/plain": [
       "\u001b[1m(\u001b[0m\u001b[32m'CIFAR10-PATCHES'\u001b[0m, \u001b[32m'conv'\u001b[0m, \u001b[32m'gaussian'\u001b[0m\u001b[1m)\u001b[0m\n",
       "\u001b[1;36m5\u001b[0m\n"
      ]
     },
     "metadata": {},
     "output_type": "display_data"
    }
   ],
   "source": [
    "for index, values in df_agg.items():\n",
    "    print(index, len(values))\n",
    "    break"
   ]
  },
  {
   "cell_type": "code",
   "execution_count": null,
   "id": "9411bf60-255a-4e75-953a-72437c55697f",
   "metadata": {},
   "outputs": [],
   "source": []
  },
  {
   "cell_type": "markdown",
   "id": "18024166-aede-450f-a03f-b8e0349f00d5",
   "metadata": {},
   "source": [
    "### ci"
   ]
  },
  {
   "cell_type": "code",
   "execution_count": 11,
   "id": "ae92d647-45ed-488a-87b3-c78ce950a2ea",
   "metadata": {},
   "outputs": [
    {
     "data": {
      "text/html": [
       "<pre style=\"white-space:pre;overflow-x:auto;line-height:normal;font-family:Menlo,'DejaVu Sans Mono',consolas,'Courier New',monospace\">——— dataset: DOVES ———\n",
       "\n",
       "</pre>\n"
      ],
      "text/plain": [
       "——— dataset: DOVES ———\n",
       "\n"
      ]
     },
     "metadata": {},
     "output_type": "display_data"
    },
    {
     "data": {
      "text/html": [
       "<pre style=\"white-space:pre;overflow-x:auto;line-height:normal;font-family:Menlo,'DejaVu Sans Mono',consolas,'Courier New',monospace\">\\begin<span style=\"font-weight: bold\">{</span>tabularx<span style=\"font-weight: bold\">}{</span>34mm<span style=\"font-weight: bold\">}{</span>CC<span style=\"font-weight: bold\">}</span>\n",
       "    \\entry<span style=\"font-weight: bold\">{</span><span style=\"color: #008080; text-decoration-color: #008080; font-weight: bold\">0.984</span><span style=\"font-weight: bold\">}{</span>.<span style=\"color: #008080; text-decoration-color: #008080; font-weight: bold\">011</span><span style=\"font-weight: bold\">}</span> &amp; \\entry<span style=\"font-weight: bold\">{</span><span style=\"color: #008080; text-decoration-color: #008080; font-weight: bold\">0.819</span><span style=\"font-weight: bold\">}{</span>.<span style=\"color: #008080; text-decoration-color: #008080; font-weight: bold\">041</span><span style=\"font-weight: bold\">}</span> \\\\ \n",
       "    \\entry<span style=\"font-weight: bold\">{</span><span style=\"color: #008080; text-decoration-color: #008080; font-weight: bold\">0.188</span><span style=\"font-weight: bold\">}{</span>.<span style=\"color: #008080; text-decoration-color: #008080; font-weight: bold\">000</span><span style=\"font-weight: bold\">}</span> &amp; \\entry<span style=\"font-weight: bold\">{</span><span style=\"color: #008080; text-decoration-color: #008080; font-weight: bold\">0.222</span><span style=\"font-weight: bold\">}{</span>.<span style=\"color: #008080; text-decoration-color: #008080; font-weight: bold\">003</span><span style=\"font-weight: bold\">}</span> \\\\ \n",
       "    \\entry<span style=\"font-weight: bold\">{</span><span style=\"color: #008080; text-decoration-color: #008080; font-weight: bold\">0.218</span><span style=\"font-weight: bold\">}{</span>.<span style=\"color: #008080; text-decoration-color: #008080; font-weight: bold\">003</span><span style=\"font-weight: bold\">}</span> &amp; \\entry<span style=\"font-weight: bold\">{</span><span style=\"color: #008080; text-decoration-color: #008080; font-weight: bold\">0.246</span><span style=\"font-weight: bold\">}{</span>.<span style=\"color: #008080; text-decoration-color: #008080; font-weight: bold\">000</span><span style=\"font-weight: bold\">}</span>\n",
       "\\end<span style=\"font-weight: bold\">{</span>tabularx<span style=\"font-weight: bold\">}</span>\n",
       "</pre>\n"
      ],
      "text/plain": [
       "\\begin\u001b[1m{\u001b[0mtabularx\u001b[1m}\u001b[0m\u001b[1m{\u001b[0m34mm\u001b[1m}\u001b[0m\u001b[1m{\u001b[0mCC\u001b[1m}\u001b[0m\n",
       "    \\entry\u001b[1m{\u001b[0m\u001b[1;36m0.984\u001b[0m\u001b[1m}\u001b[0m\u001b[1m{\u001b[0m.\u001b[1;36m011\u001b[0m\u001b[1m}\u001b[0m & \\entry\u001b[1m{\u001b[0m\u001b[1;36m0.819\u001b[0m\u001b[1m}\u001b[0m\u001b[1m{\u001b[0m.\u001b[1;36m041\u001b[0m\u001b[1m}\u001b[0m \\\\ \n",
       "    \\entry\u001b[1m{\u001b[0m\u001b[1;36m0.188\u001b[0m\u001b[1m}\u001b[0m\u001b[1m{\u001b[0m.\u001b[1;36m000\u001b[0m\u001b[1m}\u001b[0m & \\entry\u001b[1m{\u001b[0m\u001b[1;36m0.222\u001b[0m\u001b[1m}\u001b[0m\u001b[1m{\u001b[0m.\u001b[1;36m003\u001b[0m\u001b[1m}\u001b[0m \\\\ \n",
       "    \\entry\u001b[1m{\u001b[0m\u001b[1;36m0.218\u001b[0m\u001b[1m}\u001b[0m\u001b[1m{\u001b[0m.\u001b[1;36m003\u001b[0m\u001b[1m}\u001b[0m & \\entry\u001b[1m{\u001b[0m\u001b[1;36m0.246\u001b[0m\u001b[1m}\u001b[0m\u001b[1m{\u001b[0m.\u001b[1;36m000\u001b[0m\u001b[1m}\u001b[0m\n",
       "\\end\u001b[1m{\u001b[0mtabularx\u001b[1m}\u001b[0m\n"
      ]
     },
     "metadata": {},
     "output_type": "display_data"
    },
    {
     "data": {
      "text/html": [
       "<pre style=\"white-space:pre;overflow-x:auto;line-height:normal;font-family:Menlo,'DejaVu Sans Mono',consolas,'Courier New',monospace\">\n",
       "\n",
       "\n",
       "\n",
       "</pre>\n"
      ],
      "text/plain": [
       "\n",
       "\n",
       "\n",
       "\n"
      ]
     },
     "metadata": {},
     "output_type": "display_data"
    },
    {
     "data": {
      "text/html": [
       "<pre style=\"white-space:pre;overflow-x:auto;line-height:normal;font-family:Menlo,'DejaVu Sans Mono',consolas,'Courier New',monospace\">——— dataset: CIFAR10-PATCHES ———\n",
       "\n",
       "</pre>\n"
      ],
      "text/plain": [
       "——— dataset: CIFAR10-PATCHES ———\n",
       "\n"
      ]
     },
     "metadata": {},
     "output_type": "display_data"
    },
    {
     "data": {
      "text/html": [
       "<pre style=\"white-space:pre;overflow-x:auto;line-height:normal;font-family:Menlo,'DejaVu Sans Mono',consolas,'Courier New',monospace\">\\begin<span style=\"font-weight: bold\">{</span>tabularx<span style=\"font-weight: bold\">}{</span>34mm<span style=\"font-weight: bold\">}{</span>CC<span style=\"font-weight: bold\">}</span>\n",
       "    \\entry<span style=\"font-weight: bold\">{</span><span style=\"color: #008080; text-decoration-color: #008080; font-weight: bold\">0.999</span><span style=\"font-weight: bold\">}{</span>.<span style=\"color: #008080; text-decoration-color: #008080; font-weight: bold\">002</span><span style=\"font-weight: bold\">}</span> &amp; \\entry<span style=\"font-weight: bold\">{</span><span style=\"color: #008080; text-decoration-color: #008080; font-weight: bold\">0.928</span><span style=\"font-weight: bold\">}{</span>.<span style=\"color: #008080; text-decoration-color: #008080; font-weight: bold\">045</span><span style=\"font-weight: bold\">}</span> \\\\ \n",
       "    \\entry<span style=\"font-weight: bold\">{</span><span style=\"color: #008080; text-decoration-color: #008080; font-weight: bold\">0.193</span><span style=\"font-weight: bold\">}{</span>.<span style=\"color: #008080; text-decoration-color: #008080; font-weight: bold\">003</span><span style=\"font-weight: bold\">}</span> &amp; \\entry<span style=\"font-weight: bold\">{</span><span style=\"color: #008080; text-decoration-color: #008080; font-weight: bold\">0.230</span><span style=\"font-weight: bold\">}{</span>.<span style=\"color: #008080; text-decoration-color: #008080; font-weight: bold\">000</span><span style=\"font-weight: bold\">}</span> \\\\ \n",
       "    \\entry<span style=\"font-weight: bold\">{</span><span style=\"color: #008080; text-decoration-color: #008080; font-weight: bold\">0.105</span><span style=\"font-weight: bold\">}{</span>.<span style=\"color: #008080; text-decoration-color: #008080; font-weight: bold\">008</span><span style=\"font-weight: bold\">}</span> &amp; \\entry<span style=\"font-weight: bold\">{</span><span style=\"color: #008080; text-decoration-color: #008080; font-weight: bold\">0.246</span><span style=\"font-weight: bold\">}{</span>.<span style=\"color: #008080; text-decoration-color: #008080; font-weight: bold\">000</span><span style=\"font-weight: bold\">}</span>\n",
       "\\end<span style=\"font-weight: bold\">{</span>tabularx<span style=\"font-weight: bold\">}</span>\n",
       "</pre>\n"
      ],
      "text/plain": [
       "\\begin\u001b[1m{\u001b[0mtabularx\u001b[1m}\u001b[0m\u001b[1m{\u001b[0m34mm\u001b[1m}\u001b[0m\u001b[1m{\u001b[0mCC\u001b[1m}\u001b[0m\n",
       "    \\entry\u001b[1m{\u001b[0m\u001b[1;36m0.999\u001b[0m\u001b[1m}\u001b[0m\u001b[1m{\u001b[0m.\u001b[1;36m002\u001b[0m\u001b[1m}\u001b[0m & \\entry\u001b[1m{\u001b[0m\u001b[1;36m0.928\u001b[0m\u001b[1m}\u001b[0m\u001b[1m{\u001b[0m.\u001b[1;36m045\u001b[0m\u001b[1m}\u001b[0m \\\\ \n",
       "    \\entry\u001b[1m{\u001b[0m\u001b[1;36m0.193\u001b[0m\u001b[1m}\u001b[0m\u001b[1m{\u001b[0m.\u001b[1;36m003\u001b[0m\u001b[1m}\u001b[0m & \\entry\u001b[1m{\u001b[0m\u001b[1;36m0.230\u001b[0m\u001b[1m}\u001b[0m\u001b[1m{\u001b[0m.\u001b[1;36m000\u001b[0m\u001b[1m}\u001b[0m \\\\ \n",
       "    \\entry\u001b[1m{\u001b[0m\u001b[1;36m0.105\u001b[0m\u001b[1m}\u001b[0m\u001b[1m{\u001b[0m.\u001b[1;36m008\u001b[0m\u001b[1m}\u001b[0m & \\entry\u001b[1m{\u001b[0m\u001b[1;36m0.246\u001b[0m\u001b[1m}\u001b[0m\u001b[1m{\u001b[0m.\u001b[1;36m000\u001b[0m\u001b[1m}\u001b[0m\n",
       "\\end\u001b[1m{\u001b[0mtabularx\u001b[1m}\u001b[0m\n"
      ]
     },
     "metadata": {},
     "output_type": "display_data"
    },
    {
     "data": {
      "text/html": [
       "<pre style=\"white-space:pre;overflow-x:auto;line-height:normal;font-family:Menlo,'DejaVu Sans Mono',consolas,'Courier New',monospace\">\n",
       "\n",
       "\n",
       "\n",
       "</pre>\n"
      ],
      "text/plain": [
       "\n",
       "\n",
       "\n",
       "\n"
      ]
     },
     "metadata": {},
     "output_type": "display_data"
    },
    {
     "data": {
      "text/html": [
       "<pre style=\"white-space:pre;overflow-x:auto;line-height:normal;font-family:Menlo,'DejaVu Sans Mono',consolas,'Courier New',monospace\">——— dataset: MNIST ———\n",
       "\n",
       "</pre>\n"
      ],
      "text/plain": [
       "——— dataset: MNIST ———\n",
       "\n"
      ]
     },
     "metadata": {},
     "output_type": "display_data"
    },
    {
     "data": {
      "text/html": [
       "<pre style=\"white-space:pre;overflow-x:auto;line-height:normal;font-family:Menlo,'DejaVu Sans Mono',consolas,'Courier New',monospace\">\\begin<span style=\"font-weight: bold\">{</span>tabularx<span style=\"font-weight: bold\">}{</span>34mm<span style=\"font-weight: bold\">}{</span>CC<span style=\"font-weight: bold\">}</span>\n",
       "    \\entry<span style=\"font-weight: bold\">{</span><span style=\"color: #008080; text-decoration-color: #008080; font-weight: bold\">0.537</span><span style=\"font-weight: bold\">}{</span>.<span style=\"color: #008080; text-decoration-color: #008080; font-weight: bold\">008</span><span style=\"font-weight: bold\">}</span> &amp; \\entry<span style=\"font-weight: bold\">{</span><span style=\"color: #008080; text-decoration-color: #008080; font-weight: bold\">0.426</span><span style=\"font-weight: bold\">}{</span>.<span style=\"color: #008080; text-decoration-color: #008080; font-weight: bold\">011</span><span style=\"font-weight: bold\">}</span> \\\\ \n",
       "    \\entry<span style=\"font-weight: bold\">{</span><span style=\"color: #008080; text-decoration-color: #008080; font-weight: bold\">0.027</span><span style=\"font-weight: bold\">}{</span>.<span style=\"color: #008080; text-decoration-color: #008080; font-weight: bold\">000</span><span style=\"font-weight: bold\">}</span> &amp; \\entry<span style=\"font-weight: bold\">{</span><span style=\"color: #008080; text-decoration-color: #008080; font-weight: bold\">0.034</span><span style=\"font-weight: bold\">}{</span>.<span style=\"color: #008080; text-decoration-color: #008080; font-weight: bold\">002</span><span style=\"font-weight: bold\">}</span> \\\\ \n",
       "    \\entry<span style=\"font-weight: bold\">{</span><span style=\"color: #008080; text-decoration-color: #008080; font-weight: bold\">0.027</span><span style=\"font-weight: bold\">}{</span>.<span style=\"color: #008080; text-decoration-color: #008080; font-weight: bold\">000</span><span style=\"font-weight: bold\">}</span> &amp; \\entry<span style=\"font-weight: bold\">{</span><span style=\"color: #008080; text-decoration-color: #008080; font-weight: bold\">0.031</span><span style=\"font-weight: bold\">}{</span>.<span style=\"color: #008080; text-decoration-color: #008080; font-weight: bold\">000</span><span style=\"font-weight: bold\">}</span>\n",
       "\\end<span style=\"font-weight: bold\">{</span>tabularx<span style=\"font-weight: bold\">}</span>\n",
       "</pre>\n"
      ],
      "text/plain": [
       "\\begin\u001b[1m{\u001b[0mtabularx\u001b[1m}\u001b[0m\u001b[1m{\u001b[0m34mm\u001b[1m}\u001b[0m\u001b[1m{\u001b[0mCC\u001b[1m}\u001b[0m\n",
       "    \\entry\u001b[1m{\u001b[0m\u001b[1;36m0.537\u001b[0m\u001b[1m}\u001b[0m\u001b[1m{\u001b[0m.\u001b[1;36m008\u001b[0m\u001b[1m}\u001b[0m & \\entry\u001b[1m{\u001b[0m\u001b[1;36m0.426\u001b[0m\u001b[1m}\u001b[0m\u001b[1m{\u001b[0m.\u001b[1;36m011\u001b[0m\u001b[1m}\u001b[0m \\\\ \n",
       "    \\entry\u001b[1m{\u001b[0m\u001b[1;36m0.027\u001b[0m\u001b[1m}\u001b[0m\u001b[1m{\u001b[0m.\u001b[1;36m000\u001b[0m\u001b[1m}\u001b[0m & \\entry\u001b[1m{\u001b[0m\u001b[1;36m0.034\u001b[0m\u001b[1m}\u001b[0m\u001b[1m{\u001b[0m.\u001b[1;36m002\u001b[0m\u001b[1m}\u001b[0m \\\\ \n",
       "    \\entry\u001b[1m{\u001b[0m\u001b[1;36m0.027\u001b[0m\u001b[1m}\u001b[0m\u001b[1m{\u001b[0m.\u001b[1;36m000\u001b[0m\u001b[1m}\u001b[0m & \\entry\u001b[1m{\u001b[0m\u001b[1;36m0.031\u001b[0m\u001b[1m}\u001b[0m\u001b[1m{\u001b[0m.\u001b[1;36m000\u001b[0m\u001b[1m}\u001b[0m\n",
       "\\end\u001b[1m{\u001b[0mtabularx\u001b[1m}\u001b[0m\n"
      ]
     },
     "metadata": {},
     "output_type": "display_data"
    },
    {
     "data": {
      "text/html": [
       "<pre style=\"white-space:pre;overflow-x:auto;line-height:normal;font-family:Menlo,'DejaVu Sans Mono',consolas,'Courier New',monospace\">\n",
       "\n",
       "\n",
       "\n",
       "</pre>\n"
      ],
      "text/plain": [
       "\n",
       "\n",
       "\n",
       "\n"
      ]
     },
     "metadata": {},
     "output_type": "display_data"
    },
    {
     "name": "stdout",
     "output_type": "stream",
     "text": [
      "CPU times: user 2.18 s, sys: 441 ms, total: 2.62 s\n",
      "Wall time: 2.62 s\n"
     ]
    }
   ],
   "source": [
    "%%time\n",
    "\n",
    "for ds in ['DOVES', 'CIFAR10-PATCHES', 'MNIST']:\n",
    "    table = table_entry_active(ds, df_agg, fmt='0.3f')\n",
    "    print(f\"——— dataset: {ds} ———\\n\")\n",
    "    print(table)\n",
    "    print('\\n\\n\\n')"
   ]
  },
  {
   "cell_type": "code",
   "execution_count": null,
   "id": "b0b10617-071a-4717-b6a0-fbf59ae9edd5",
   "metadata": {},
   "outputs": [],
   "source": []
  },
  {
   "cell_type": "code",
   "execution_count": null,
   "id": "b5837ab2-080b-4412-a98f-f81102410085",
   "metadata": {},
   "outputs": [],
   "source": []
  },
  {
   "cell_type": "code",
   "execution_count": null,
   "id": "72bd8dd3-f3bf-4082-85d2-57a4b8c660d1",
   "metadata": {},
   "outputs": [],
   "source": []
  },
  {
   "cell_type": "code",
   "execution_count": null,
   "id": "6612399d-afdd-4bf9-9cb4-af487ecccd9f",
   "metadata": {},
   "outputs": [],
   "source": []
  },
  {
   "cell_type": "code",
   "execution_count": null,
   "id": "d4a23a16-1cef-4097-8a4a-d3afa2b1ebf4",
   "metadata": {},
   "outputs": [],
   "source": []
  },
  {
   "cell_type": "code",
   "execution_count": null,
   "id": "b4862ea6-e0f1-4183-aec6-3de1c04f2943",
   "metadata": {},
   "outputs": [],
   "source": []
  }
 ],
 "metadata": {
  "kernelspec": {
   "display_name": "Python 3 (ipykernel)",
   "language": "python",
   "name": "python3"
  },
  "language_info": {
   "codemirror_mode": {
    "name": "ipython",
    "version": 3
   },
   "file_extension": ".py",
   "mimetype": "text/x-python",
   "name": "python",
   "nbconvert_exporter": "python",
   "pygments_lexer": "ipython3",
   "version": "3.11.7"
  }
 },
 "nbformat": 4,
 "nbformat_minor": 5
}
