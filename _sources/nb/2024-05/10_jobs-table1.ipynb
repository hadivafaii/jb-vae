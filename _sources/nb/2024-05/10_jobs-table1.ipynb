{
 "cells": [
  {
   "cell_type": "markdown",
   "id": "48f55a35-d5b5-468f-b574-730df61e9609",
   "metadata": {},
   "source": [
    "# (10) Jobs: main table\n",
    "\n",
    "**Motivation**: Make table1 (```mc``` vs. ```exact```) job runnsers as txt file. <br>"
   ]
  },
  {
   "cell_type": "code",
   "execution_count": 1,
   "id": "f823b1e9-05f2-49a0-8296-4a1819c12e81",
   "metadata": {
    "tags": [
     "hide-input"
    ]
   },
   "outputs": [],
   "source": [
    "# HIDE CODE\n",
    "\n",
    "\n",
    "import os, sys\n",
    "from IPython.display import display\n",
    "\n",
    "# tmp & extras dir\n",
    "git_dir = os.path.join(os.environ['HOME'], 'Dropbox/git')\n",
    "extras_dir = os.path.join(git_dir, 'jb-vae/_extras')\n",
    "fig_base_dir = os.path.join(git_dir, 'jb-vae/figs')\n",
    "tmp_dir = os.path.join(git_dir, 'jb-vae/tmp')\n",
    "\n",
    "# GitHub\n",
    "sys.path.insert(0, os.path.join(git_dir, '_PoissonVAE'))\n",
    "from analysis.eval import sparse_score\n",
    "from figures.fighelper import *\n",
    "from vae.train_vae import *\n",
    "\n",
    "# warnings, tqdm, & style\n",
    "warnings.filterwarnings('ignore', category=DeprecationWarning)\n",
    "warnings.filterwarnings('ignore', category=FutureWarning)\n",
    "from rich.jupyter import print\n",
    "%matplotlib inline\n",
    "set_style()"
   ]
  },
  {
   "cell_type": "markdown",
   "id": "c7256efb-c916-4111-9d10-8d923cdc0233",
   "metadata": {},
   "source": [
    "## Setup"
   ]
  },
  {
   "cell_type": "code",
   "execution_count": 2,
   "id": "c98a020f-ded3-4634-9068-722cac61089b",
   "metadata": {},
   "outputs": [],
   "source": [
    "from analysis.helper import job_runner_script\n",
    "\n",
    "\n",
    "def _cleanup(path, host=None):\n",
    "    for f in os.listdir(path):\n",
    "        cond = f.endswith('.txt')\n",
    "        if host is not None:\n",
    "            cond = cond and host in f\n",
    "        if cond:\n",
    "            os.remove(pjoin(path, f))\n",
    "\n",
    "\n",
    "def _name(host, gpu_i, fit_i):\n",
    "    return f\"{host}-cuda{gpu_i}-fit{fit_i}\"\n",
    "\n",
    "\n",
    "def divide_list(lst, n):\n",
    "    k, m = divmod(len(lst), n)\n",
    "    return [lst[i * k + min(i, m):(i + 1) * k + min(i + 1, m)] for i in range(n)]"
   ]
  },
  {
   "cell_type": "code",
   "execution_count": 3,
   "id": "50e3bee9-0d4d-4006-a11d-751a74071467",
   "metadata": {},
   "outputs": [
    {
     "data": {
      "text/html": [
       "<pre style=\"white-space:pre;overflow-x:auto;line-height:normal;font-family:Menlo,'DejaVu Sans Mono',consolas,'Courier New',monospace\"><span style=\"font-weight: bold\">[</span><span style=\"color: #008000; text-decoration-color: #008000\">'fit_vae.sh'</span>, <span style=\"color: #008000; text-decoration-color: #008000\">'run_sessions.sh'</span>, <span style=\"color: #008000; text-decoration-color: #008000\">'test_tqdm.py'</span>, <span style=\"color: #008000; text-decoration-color: #008000\">'test_tqdm.sh'</span><span style=\"font-weight: bold\">]</span>\n",
       "</pre>\n"
      ],
      "text/plain": [
       "\u001b[1m[\u001b[0m\u001b[32m'fit_vae.sh'\u001b[0m, \u001b[32m'run_sessions.sh'\u001b[0m, \u001b[32m'test_tqdm.py'\u001b[0m, \u001b[32m'test_tqdm.sh'\u001b[0m\u001b[1m]\u001b[0m\n"
      ]
     },
     "metadata": {},
     "output_type": "display_data"
    }
   ],
   "source": [
    "save_dir = 'Dropbox/git/_PoissonVAE/scripts'\n",
    "save_dir = pjoin(os.environ['HOME'], save_dir)\n",
    "os.makedirs(save_dir, exist_ok=True)\n",
    "\n",
    "# delete existing job runners?\n",
    "_cleanup(save_dir, None)\n",
    "\n",
    "print(sorted(os.listdir(save_dir)))"
   ]
  },
  {
   "cell_type": "markdown",
   "id": "8d0536be-7e31-4bdb-97aa-d4171504f99d",
   "metadata": {},
   "source": [
    "## Table 1 (mach)\n",
    "\n",
    "All non-conv models"
   ]
  },
  {
   "cell_type": "code",
   "execution_count": 4,
   "id": "d19bc5e6-c8a9-44be-8659-5b9049138a0b",
   "metadata": {},
   "outputs": [],
   "source": [
    "host = 'mach'\n",
    "_cleanup(save_dir, host)\n",
    "\n",
    "scripts_mach = collections.defaultdict(list)\n",
    "tot = 0"
   ]
  },
  {
   "cell_type": "markdown",
   "id": "e6e48077-e85b-4418-8847-639f5b218dba",
   "metadata": {},
   "source": [
    "### Part 1: mc vs. exact (main)"
   ]
  },
  {
   "cell_type": "code",
   "execution_count": 5,
   "id": "bb15205b-c050-4da7-912d-e4945ec34340",
   "metadata": {},
   "outputs": [],
   "source": [
    "n_seeds = 5\n",
    "seeds = range(1, n_seeds + 1)\n",
    "args = ['--method mc', '--method exact']\n",
    "datasets = ['DOVES', 'CIFAR10-PATCHES', 'MNIST']\n",
    "model_types = ['poisson', 'categorical', 'gaussian', 'laplace']\n",
    "archi_mach = ['lin|lin', 'mlp+b|lin']"
   ]
  },
  {
   "cell_type": "code",
   "execution_count": 6,
   "id": "e601367a-857d-4d1f-b2f2-f08f9c74320b",
   "metadata": {},
   "outputs": [],
   "source": [
    "combos_outer = itertools.product(\n",
    "    enumerate(model_types), datasets)\n",
    "for (gpu_i, m), d in combos_outer:\n",
    "    combos_inner = itertools.product(\n",
    "        seeds, archi_mach, args)\n",
    "    for s, a, arg in combos_inner:\n",
    "        kws = dict(\n",
    "            device=gpu_i,\n",
    "            dataset=d,\n",
    "            model=m,\n",
    "            archi=a,\n",
    "            seed=s,\n",
    "            args=arg,\n",
    "        )\n",
    "        scripts_mach[gpu_i].append(job_runner_script(**kws))\n",
    "        tot += 1"
   ]
  },
  {
   "cell_type": "code",
   "execution_count": 7,
   "id": "3a1d82d3-8bfd-4e21-8571-35065ba01a21",
   "metadata": {},
   "outputs": [
    {
     "data": {
      "text/html": [
       "<pre style=\"white-space:pre;overflow-x:auto;line-height:normal;font-family:Menlo,'DejaVu Sans Mono',consolas,'Courier New',monospace\"><span style=\"color: #008080; text-decoration-color: #008080; font-weight: bold\">240</span>\n",
       "</pre>\n"
      ],
      "text/plain": [
       "\u001b[1;36m240\u001b[0m\n"
      ]
     },
     "metadata": {},
     "output_type": "display_data"
    }
   ],
   "source": [
    "print(tot)"
   ]
  },
  {
   "cell_type": "markdown",
   "id": "e69dc5f0-16e2-4ad7-9ffb-bf7585442a09",
   "metadata": {},
   "source": [
    "### Part 2: gaussian + act fn"
   ]
  },
  {
   "cell_type": "code",
   "execution_count": 8,
   "id": "101bce04-ac1e-4cf1-97ef-67de4082ce22",
   "metadata": {},
   "outputs": [],
   "source": [
    "activations = ['relu', 'softplus', 'square', 'exp']"
   ]
  },
  {
   "cell_type": "code",
   "execution_count": 9,
   "id": "0948a823-3a9d-4e28-818b-699dfd0aac74",
   "metadata": {},
   "outputs": [],
   "source": [
    "combos_outer = itertools.product(\n",
    "    enumerate(activations), datasets)\n",
    "for (gpu_i, fn), d in combos_outer:\n",
    "    # arg\n",
    "    arg = f\"--latent_act {fn} --comment {fn}\"\n",
    "    if fn == 'exp':\n",
    "        arg = f\"{arg} --init_scale 0.0001\"\n",
    "\n",
    "    combos_inner = itertools.product(\n",
    "        seeds, archi_mach)\n",
    "    for s, a in combos_inner:\n",
    "        kws = dict(\n",
    "            device=gpu_i,\n",
    "            dataset=d,\n",
    "            archi=a,\n",
    "            seed=s,\n",
    "            args=arg,\n",
    "            model='gaussian',\n",
    "        )\n",
    "        scripts_mach[gpu_i].append(job_runner_script(**kws))\n",
    "        tot += 1"
   ]
  },
  {
   "cell_type": "code",
   "execution_count": 10,
   "id": "4453d3db-e2e1-4e8d-b1cf-593f10f2d8c7",
   "metadata": {},
   "outputs": [
    {
     "data": {
      "text/html": [
       "<pre style=\"white-space:pre;overflow-x:auto;line-height:normal;font-family:Menlo,'DejaVu Sans Mono',consolas,'Courier New',monospace\"><span style=\"color: #008080; text-decoration-color: #008080; font-weight: bold\">360</span>\n",
       "</pre>\n"
      ],
      "text/plain": [
       "\u001b[1;36m360\u001b[0m\n"
      ]
     },
     "metadata": {},
     "output_type": "display_data"
    }
   ],
   "source": [
    "print(tot)"
   ]
  },
  {
   "cell_type": "code",
   "execution_count": null,
   "id": "a2fe52f4-2de8-4f35-a972-ee175e47b0d9",
   "metadata": {},
   "outputs": [],
   "source": []
  },
  {
   "cell_type": "code",
   "execution_count": 11,
   "id": "1c5dbd15-a2fc-46f6-be0c-07bdf6ecac22",
   "metadata": {},
   "outputs": [
    {
     "data": {
      "text/html": [
       "<pre style=\"white-space:pre;overflow-x:auto;line-height:normal;font-family:Menlo,'DejaVu Sans Mono',consolas,'Courier New',monospace\"><span style=\"font-weight: bold\">{</span><span style=\"color: #008080; text-decoration-color: #008080; font-weight: bold\">0</span>: <span style=\"color: #008080; text-decoration-color: #008080; font-weight: bold\">90</span>, <span style=\"color: #008080; text-decoration-color: #008080; font-weight: bold\">1</span>: <span style=\"color: #008080; text-decoration-color: #008080; font-weight: bold\">90</span>, <span style=\"color: #008080; text-decoration-color: #008080; font-weight: bold\">2</span>: <span style=\"color: #008080; text-decoration-color: #008080; font-weight: bold\">90</span>, <span style=\"color: #008080; text-decoration-color: #008080; font-weight: bold\">3</span>: <span style=\"color: #008080; text-decoration-color: #008080; font-weight: bold\">90</span><span style=\"font-weight: bold\">}</span>\n",
       "</pre>\n"
      ],
      "text/plain": [
       "\u001b[1m{\u001b[0m\u001b[1;36m0\u001b[0m: \u001b[1;36m90\u001b[0m, \u001b[1;36m1\u001b[0m: \u001b[1;36m90\u001b[0m, \u001b[1;36m2\u001b[0m: \u001b[1;36m90\u001b[0m, \u001b[1;36m3\u001b[0m: \u001b[1;36m90\u001b[0m\u001b[1m}\u001b[0m\n"
      ]
     },
     "metadata": {},
     "output_type": "display_data"
    }
   ],
   "source": [
    "scripts_mach = dict(scripts_mach)\n",
    "print({k: len(v) for k, v in scripts_mach.items()})"
   ]
  },
  {
   "cell_type": "code",
   "execution_count": null,
   "id": "ee739811-ee24-4b57-b400-9dce89302800",
   "metadata": {},
   "outputs": [],
   "source": []
  },
  {
   "cell_type": "markdown",
   "id": "315e0980-f63a-4c43-86eb-3a453323227d",
   "metadata": {},
   "source": [
    "### Save"
   ]
  },
  {
   "cell_type": "code",
   "execution_count": 12,
   "id": "4918ab82-072b-4fa5-b7a7-f28447eb601b",
   "metadata": {},
   "outputs": [
    {
     "data": {
      "text/html": [
       "<pre style=\"white-space:pre;overflow-x:auto;line-height:normal;font-family:Menlo,'DejaVu Sans Mono',consolas,'Courier New',monospace\"><span style=\"font-weight: bold\">[</span>PROGRESS<span style=\"font-weight: bold\">]</span> <span style=\"color: #008000; text-decoration-color: #008000\">'mach-cuda0-fit0.txt'</span> saved at\n",
       "<span style=\"color: #800080; text-decoration-color: #800080\">/home/hadi/Dropbox/git/_PoissonVAE/</span><span style=\"color: #ff00ff; text-decoration-color: #ff00ff\">scripts</span>\n",
       "</pre>\n"
      ],
      "text/plain": [
       "\u001b[1m[\u001b[0mPROGRESS\u001b[1m]\u001b[0m \u001b[32m'mach-cuda0-fit0.txt'\u001b[0m saved at\n",
       "\u001b[35m/home/hadi/Dropbox/git/_PoissonVAE/\u001b[0m\u001b[95mscripts\u001b[0m\n"
      ]
     },
     "metadata": {},
     "output_type": "display_data"
    },
    {
     "data": {
      "text/html": [
       "<pre style=\"white-space:pre;overflow-x:auto;line-height:normal;font-family:Menlo,'DejaVu Sans Mono',consolas,'Courier New',monospace\"><span style=\"font-weight: bold\">[</span>PROGRESS<span style=\"font-weight: bold\">]</span> <span style=\"color: #008000; text-decoration-color: #008000\">'mach-cuda0-fit1.txt'</span> saved at\n",
       "<span style=\"color: #800080; text-decoration-color: #800080\">/home/hadi/Dropbox/git/_PoissonVAE/</span><span style=\"color: #ff00ff; text-decoration-color: #ff00ff\">scripts</span>\n",
       "</pre>\n"
      ],
      "text/plain": [
       "\u001b[1m[\u001b[0mPROGRESS\u001b[1m]\u001b[0m \u001b[32m'mach-cuda0-fit1.txt'\u001b[0m saved at\n",
       "\u001b[35m/home/hadi/Dropbox/git/_PoissonVAE/\u001b[0m\u001b[95mscripts\u001b[0m\n"
      ]
     },
     "metadata": {},
     "output_type": "display_data"
    },
    {
     "data": {
      "text/html": [
       "<pre style=\"white-space:pre;overflow-x:auto;line-height:normal;font-family:Menlo,'DejaVu Sans Mono',consolas,'Courier New',monospace\"><span style=\"font-weight: bold\">[</span>PROGRESS<span style=\"font-weight: bold\">]</span> <span style=\"color: #008000; text-decoration-color: #008000\">'mach-cuda0-fit2.txt'</span> saved at\n",
       "<span style=\"color: #800080; text-decoration-color: #800080\">/home/hadi/Dropbox/git/_PoissonVAE/</span><span style=\"color: #ff00ff; text-decoration-color: #ff00ff\">scripts</span>\n",
       "</pre>\n"
      ],
      "text/plain": [
       "\u001b[1m[\u001b[0mPROGRESS\u001b[1m]\u001b[0m \u001b[32m'mach-cuda0-fit2.txt'\u001b[0m saved at\n",
       "\u001b[35m/home/hadi/Dropbox/git/_PoissonVAE/\u001b[0m\u001b[95mscripts\u001b[0m\n"
      ]
     },
     "metadata": {},
     "output_type": "display_data"
    },
    {
     "data": {
      "text/html": [
       "<pre style=\"white-space:pre;overflow-x:auto;line-height:normal;font-family:Menlo,'DejaVu Sans Mono',consolas,'Courier New',monospace\"><span style=\"font-weight: bold\">[</span>PROGRESS<span style=\"font-weight: bold\">]</span> <span style=\"color: #008000; text-decoration-color: #008000\">'mach-cuda0-fit3.txt'</span> saved at\n",
       "<span style=\"color: #800080; text-decoration-color: #800080\">/home/hadi/Dropbox/git/_PoissonVAE/</span><span style=\"color: #ff00ff; text-decoration-color: #ff00ff\">scripts</span>\n",
       "</pre>\n"
      ],
      "text/plain": [
       "\u001b[1m[\u001b[0mPROGRESS\u001b[1m]\u001b[0m \u001b[32m'mach-cuda0-fit3.txt'\u001b[0m saved at\n",
       "\u001b[35m/home/hadi/Dropbox/git/_PoissonVAE/\u001b[0m\u001b[95mscripts\u001b[0m\n"
      ]
     },
     "metadata": {},
     "output_type": "display_data"
    },
    {
     "data": {
      "text/html": [
       "<pre style=\"white-space:pre;overflow-x:auto;line-height:normal;font-family:Menlo,'DejaVu Sans Mono',consolas,'Courier New',monospace\"><span style=\"font-weight: bold\">[</span>PROGRESS<span style=\"font-weight: bold\">]</span> <span style=\"color: #008000; text-decoration-color: #008000\">'mach-cuda0-fit4.txt'</span> saved at\n",
       "<span style=\"color: #800080; text-decoration-color: #800080\">/home/hadi/Dropbox/git/_PoissonVAE/</span><span style=\"color: #ff00ff; text-decoration-color: #ff00ff\">scripts</span>\n",
       "</pre>\n"
      ],
      "text/plain": [
       "\u001b[1m[\u001b[0mPROGRESS\u001b[1m]\u001b[0m \u001b[32m'mach-cuda0-fit4.txt'\u001b[0m saved at\n",
       "\u001b[35m/home/hadi/Dropbox/git/_PoissonVAE/\u001b[0m\u001b[95mscripts\u001b[0m\n"
      ]
     },
     "metadata": {},
     "output_type": "display_data"
    },
    {
     "data": {
      "text/html": [
       "<pre style=\"white-space:pre;overflow-x:auto;line-height:normal;font-family:Menlo,'DejaVu Sans Mono',consolas,'Courier New',monospace\"><span style=\"font-weight: bold\">[</span>PROGRESS<span style=\"font-weight: bold\">]</span> <span style=\"color: #008000; text-decoration-color: #008000\">'mach-cuda0-fit5.txt'</span> saved at\n",
       "<span style=\"color: #800080; text-decoration-color: #800080\">/home/hadi/Dropbox/git/_PoissonVAE/</span><span style=\"color: #ff00ff; text-decoration-color: #ff00ff\">scripts</span>\n",
       "</pre>\n"
      ],
      "text/plain": [
       "\u001b[1m[\u001b[0mPROGRESS\u001b[1m]\u001b[0m \u001b[32m'mach-cuda0-fit5.txt'\u001b[0m saved at\n",
       "\u001b[35m/home/hadi/Dropbox/git/_PoissonVAE/\u001b[0m\u001b[95mscripts\u001b[0m\n"
      ]
     },
     "metadata": {},
     "output_type": "display_data"
    },
    {
     "data": {
      "text/html": [
       "<pre style=\"white-space:pre;overflow-x:auto;line-height:normal;font-family:Menlo,'DejaVu Sans Mono',consolas,'Courier New',monospace\"><span style=\"font-weight: bold\">[</span>PROGRESS<span style=\"font-weight: bold\">]</span> <span style=\"color: #008000; text-decoration-color: #008000\">'mach-cuda1-fit0.txt'</span> saved at\n",
       "<span style=\"color: #800080; text-decoration-color: #800080\">/home/hadi/Dropbox/git/_PoissonVAE/</span><span style=\"color: #ff00ff; text-decoration-color: #ff00ff\">scripts</span>\n",
       "</pre>\n"
      ],
      "text/plain": [
       "\u001b[1m[\u001b[0mPROGRESS\u001b[1m]\u001b[0m \u001b[32m'mach-cuda1-fit0.txt'\u001b[0m saved at\n",
       "\u001b[35m/home/hadi/Dropbox/git/_PoissonVAE/\u001b[0m\u001b[95mscripts\u001b[0m\n"
      ]
     },
     "metadata": {},
     "output_type": "display_data"
    },
    {
     "data": {
      "text/html": [
       "<pre style=\"white-space:pre;overflow-x:auto;line-height:normal;font-family:Menlo,'DejaVu Sans Mono',consolas,'Courier New',monospace\"><span style=\"font-weight: bold\">[</span>PROGRESS<span style=\"font-weight: bold\">]</span> <span style=\"color: #008000; text-decoration-color: #008000\">'mach-cuda1-fit1.txt'</span> saved at\n",
       "<span style=\"color: #800080; text-decoration-color: #800080\">/home/hadi/Dropbox/git/_PoissonVAE/</span><span style=\"color: #ff00ff; text-decoration-color: #ff00ff\">scripts</span>\n",
       "</pre>\n"
      ],
      "text/plain": [
       "\u001b[1m[\u001b[0mPROGRESS\u001b[1m]\u001b[0m \u001b[32m'mach-cuda1-fit1.txt'\u001b[0m saved at\n",
       "\u001b[35m/home/hadi/Dropbox/git/_PoissonVAE/\u001b[0m\u001b[95mscripts\u001b[0m\n"
      ]
     },
     "metadata": {},
     "output_type": "display_data"
    },
    {
     "data": {
      "text/html": [
       "<pre style=\"white-space:pre;overflow-x:auto;line-height:normal;font-family:Menlo,'DejaVu Sans Mono',consolas,'Courier New',monospace\"><span style=\"font-weight: bold\">[</span>PROGRESS<span style=\"font-weight: bold\">]</span> <span style=\"color: #008000; text-decoration-color: #008000\">'mach-cuda1-fit2.txt'</span> saved at\n",
       "<span style=\"color: #800080; text-decoration-color: #800080\">/home/hadi/Dropbox/git/_PoissonVAE/</span><span style=\"color: #ff00ff; text-decoration-color: #ff00ff\">scripts</span>\n",
       "</pre>\n"
      ],
      "text/plain": [
       "\u001b[1m[\u001b[0mPROGRESS\u001b[1m]\u001b[0m \u001b[32m'mach-cuda1-fit2.txt'\u001b[0m saved at\n",
       "\u001b[35m/home/hadi/Dropbox/git/_PoissonVAE/\u001b[0m\u001b[95mscripts\u001b[0m\n"
      ]
     },
     "metadata": {},
     "output_type": "display_data"
    },
    {
     "data": {
      "text/html": [
       "<pre style=\"white-space:pre;overflow-x:auto;line-height:normal;font-family:Menlo,'DejaVu Sans Mono',consolas,'Courier New',monospace\"><span style=\"font-weight: bold\">[</span>PROGRESS<span style=\"font-weight: bold\">]</span> <span style=\"color: #008000; text-decoration-color: #008000\">'mach-cuda1-fit3.txt'</span> saved at\n",
       "<span style=\"color: #800080; text-decoration-color: #800080\">/home/hadi/Dropbox/git/_PoissonVAE/</span><span style=\"color: #ff00ff; text-decoration-color: #ff00ff\">scripts</span>\n",
       "</pre>\n"
      ],
      "text/plain": [
       "\u001b[1m[\u001b[0mPROGRESS\u001b[1m]\u001b[0m \u001b[32m'mach-cuda1-fit3.txt'\u001b[0m saved at\n",
       "\u001b[35m/home/hadi/Dropbox/git/_PoissonVAE/\u001b[0m\u001b[95mscripts\u001b[0m\n"
      ]
     },
     "metadata": {},
     "output_type": "display_data"
    },
    {
     "data": {
      "text/html": [
       "<pre style=\"white-space:pre;overflow-x:auto;line-height:normal;font-family:Menlo,'DejaVu Sans Mono',consolas,'Courier New',monospace\"><span style=\"font-weight: bold\">[</span>PROGRESS<span style=\"font-weight: bold\">]</span> <span style=\"color: #008000; text-decoration-color: #008000\">'mach-cuda1-fit4.txt'</span> saved at\n",
       "<span style=\"color: #800080; text-decoration-color: #800080\">/home/hadi/Dropbox/git/_PoissonVAE/</span><span style=\"color: #ff00ff; text-decoration-color: #ff00ff\">scripts</span>\n",
       "</pre>\n"
      ],
      "text/plain": [
       "\u001b[1m[\u001b[0mPROGRESS\u001b[1m]\u001b[0m \u001b[32m'mach-cuda1-fit4.txt'\u001b[0m saved at\n",
       "\u001b[35m/home/hadi/Dropbox/git/_PoissonVAE/\u001b[0m\u001b[95mscripts\u001b[0m\n"
      ]
     },
     "metadata": {},
     "output_type": "display_data"
    },
    {
     "data": {
      "text/html": [
       "<pre style=\"white-space:pre;overflow-x:auto;line-height:normal;font-family:Menlo,'DejaVu Sans Mono',consolas,'Courier New',monospace\"><span style=\"font-weight: bold\">[</span>PROGRESS<span style=\"font-weight: bold\">]</span> <span style=\"color: #008000; text-decoration-color: #008000\">'mach-cuda1-fit5.txt'</span> saved at\n",
       "<span style=\"color: #800080; text-decoration-color: #800080\">/home/hadi/Dropbox/git/_PoissonVAE/</span><span style=\"color: #ff00ff; text-decoration-color: #ff00ff\">scripts</span>\n",
       "</pre>\n"
      ],
      "text/plain": [
       "\u001b[1m[\u001b[0mPROGRESS\u001b[1m]\u001b[0m \u001b[32m'mach-cuda1-fit5.txt'\u001b[0m saved at\n",
       "\u001b[35m/home/hadi/Dropbox/git/_PoissonVAE/\u001b[0m\u001b[95mscripts\u001b[0m\n"
      ]
     },
     "metadata": {},
     "output_type": "display_data"
    },
    {
     "data": {
      "text/html": [
       "<pre style=\"white-space:pre;overflow-x:auto;line-height:normal;font-family:Menlo,'DejaVu Sans Mono',consolas,'Courier New',monospace\"><span style=\"font-weight: bold\">[</span>PROGRESS<span style=\"font-weight: bold\">]</span> <span style=\"color: #008000; text-decoration-color: #008000\">'mach-cuda2-fit0.txt'</span> saved at\n",
       "<span style=\"color: #800080; text-decoration-color: #800080\">/home/hadi/Dropbox/git/_PoissonVAE/</span><span style=\"color: #ff00ff; text-decoration-color: #ff00ff\">scripts</span>\n",
       "</pre>\n"
      ],
      "text/plain": [
       "\u001b[1m[\u001b[0mPROGRESS\u001b[1m]\u001b[0m \u001b[32m'mach-cuda2-fit0.txt'\u001b[0m saved at\n",
       "\u001b[35m/home/hadi/Dropbox/git/_PoissonVAE/\u001b[0m\u001b[95mscripts\u001b[0m\n"
      ]
     },
     "metadata": {},
     "output_type": "display_data"
    },
    {
     "data": {
      "text/html": [
       "<pre style=\"white-space:pre;overflow-x:auto;line-height:normal;font-family:Menlo,'DejaVu Sans Mono',consolas,'Courier New',monospace\"><span style=\"font-weight: bold\">[</span>PROGRESS<span style=\"font-weight: bold\">]</span> <span style=\"color: #008000; text-decoration-color: #008000\">'mach-cuda2-fit1.txt'</span> saved at\n",
       "<span style=\"color: #800080; text-decoration-color: #800080\">/home/hadi/Dropbox/git/_PoissonVAE/</span><span style=\"color: #ff00ff; text-decoration-color: #ff00ff\">scripts</span>\n",
       "</pre>\n"
      ],
      "text/plain": [
       "\u001b[1m[\u001b[0mPROGRESS\u001b[1m]\u001b[0m \u001b[32m'mach-cuda2-fit1.txt'\u001b[0m saved at\n",
       "\u001b[35m/home/hadi/Dropbox/git/_PoissonVAE/\u001b[0m\u001b[95mscripts\u001b[0m\n"
      ]
     },
     "metadata": {},
     "output_type": "display_data"
    },
    {
     "data": {
      "text/html": [
       "<pre style=\"white-space:pre;overflow-x:auto;line-height:normal;font-family:Menlo,'DejaVu Sans Mono',consolas,'Courier New',monospace\"><span style=\"font-weight: bold\">[</span>PROGRESS<span style=\"font-weight: bold\">]</span> <span style=\"color: #008000; text-decoration-color: #008000\">'mach-cuda2-fit2.txt'</span> saved at\n",
       "<span style=\"color: #800080; text-decoration-color: #800080\">/home/hadi/Dropbox/git/_PoissonVAE/</span><span style=\"color: #ff00ff; text-decoration-color: #ff00ff\">scripts</span>\n",
       "</pre>\n"
      ],
      "text/plain": [
       "\u001b[1m[\u001b[0mPROGRESS\u001b[1m]\u001b[0m \u001b[32m'mach-cuda2-fit2.txt'\u001b[0m saved at\n",
       "\u001b[35m/home/hadi/Dropbox/git/_PoissonVAE/\u001b[0m\u001b[95mscripts\u001b[0m\n"
      ]
     },
     "metadata": {},
     "output_type": "display_data"
    },
    {
     "data": {
      "text/html": [
       "<pre style=\"white-space:pre;overflow-x:auto;line-height:normal;font-family:Menlo,'DejaVu Sans Mono',consolas,'Courier New',monospace\"><span style=\"font-weight: bold\">[</span>PROGRESS<span style=\"font-weight: bold\">]</span> <span style=\"color: #008000; text-decoration-color: #008000\">'mach-cuda2-fit3.txt'</span> saved at\n",
       "<span style=\"color: #800080; text-decoration-color: #800080\">/home/hadi/Dropbox/git/_PoissonVAE/</span><span style=\"color: #ff00ff; text-decoration-color: #ff00ff\">scripts</span>\n",
       "</pre>\n"
      ],
      "text/plain": [
       "\u001b[1m[\u001b[0mPROGRESS\u001b[1m]\u001b[0m \u001b[32m'mach-cuda2-fit3.txt'\u001b[0m saved at\n",
       "\u001b[35m/home/hadi/Dropbox/git/_PoissonVAE/\u001b[0m\u001b[95mscripts\u001b[0m\n"
      ]
     },
     "metadata": {},
     "output_type": "display_data"
    },
    {
     "data": {
      "text/html": [
       "<pre style=\"white-space:pre;overflow-x:auto;line-height:normal;font-family:Menlo,'DejaVu Sans Mono',consolas,'Courier New',monospace\"><span style=\"font-weight: bold\">[</span>PROGRESS<span style=\"font-weight: bold\">]</span> <span style=\"color: #008000; text-decoration-color: #008000\">'mach-cuda2-fit4.txt'</span> saved at\n",
       "<span style=\"color: #800080; text-decoration-color: #800080\">/home/hadi/Dropbox/git/_PoissonVAE/</span><span style=\"color: #ff00ff; text-decoration-color: #ff00ff\">scripts</span>\n",
       "</pre>\n"
      ],
      "text/plain": [
       "\u001b[1m[\u001b[0mPROGRESS\u001b[1m]\u001b[0m \u001b[32m'mach-cuda2-fit4.txt'\u001b[0m saved at\n",
       "\u001b[35m/home/hadi/Dropbox/git/_PoissonVAE/\u001b[0m\u001b[95mscripts\u001b[0m\n"
      ]
     },
     "metadata": {},
     "output_type": "display_data"
    },
    {
     "data": {
      "text/html": [
       "<pre style=\"white-space:pre;overflow-x:auto;line-height:normal;font-family:Menlo,'DejaVu Sans Mono',consolas,'Courier New',monospace\"><span style=\"font-weight: bold\">[</span>PROGRESS<span style=\"font-weight: bold\">]</span> <span style=\"color: #008000; text-decoration-color: #008000\">'mach-cuda2-fit5.txt'</span> saved at\n",
       "<span style=\"color: #800080; text-decoration-color: #800080\">/home/hadi/Dropbox/git/_PoissonVAE/</span><span style=\"color: #ff00ff; text-decoration-color: #ff00ff\">scripts</span>\n",
       "</pre>\n"
      ],
      "text/plain": [
       "\u001b[1m[\u001b[0mPROGRESS\u001b[1m]\u001b[0m \u001b[32m'mach-cuda2-fit5.txt'\u001b[0m saved at\n",
       "\u001b[35m/home/hadi/Dropbox/git/_PoissonVAE/\u001b[0m\u001b[95mscripts\u001b[0m\n"
      ]
     },
     "metadata": {},
     "output_type": "display_data"
    },
    {
     "data": {
      "text/html": [
       "<pre style=\"white-space:pre;overflow-x:auto;line-height:normal;font-family:Menlo,'DejaVu Sans Mono',consolas,'Courier New',monospace\"><span style=\"font-weight: bold\">[</span>PROGRESS<span style=\"font-weight: bold\">]</span> <span style=\"color: #008000; text-decoration-color: #008000\">'mach-cuda3-fit0.txt'</span> saved at\n",
       "<span style=\"color: #800080; text-decoration-color: #800080\">/home/hadi/Dropbox/git/_PoissonVAE/</span><span style=\"color: #ff00ff; text-decoration-color: #ff00ff\">scripts</span>\n",
       "</pre>\n"
      ],
      "text/plain": [
       "\u001b[1m[\u001b[0mPROGRESS\u001b[1m]\u001b[0m \u001b[32m'mach-cuda3-fit0.txt'\u001b[0m saved at\n",
       "\u001b[35m/home/hadi/Dropbox/git/_PoissonVAE/\u001b[0m\u001b[95mscripts\u001b[0m\n"
      ]
     },
     "metadata": {},
     "output_type": "display_data"
    },
    {
     "data": {
      "text/html": [
       "<pre style=\"white-space:pre;overflow-x:auto;line-height:normal;font-family:Menlo,'DejaVu Sans Mono',consolas,'Courier New',monospace\"><span style=\"font-weight: bold\">[</span>PROGRESS<span style=\"font-weight: bold\">]</span> <span style=\"color: #008000; text-decoration-color: #008000\">'mach-cuda3-fit1.txt'</span> saved at\n",
       "<span style=\"color: #800080; text-decoration-color: #800080\">/home/hadi/Dropbox/git/_PoissonVAE/</span><span style=\"color: #ff00ff; text-decoration-color: #ff00ff\">scripts</span>\n",
       "</pre>\n"
      ],
      "text/plain": [
       "\u001b[1m[\u001b[0mPROGRESS\u001b[1m]\u001b[0m \u001b[32m'mach-cuda3-fit1.txt'\u001b[0m saved at\n",
       "\u001b[35m/home/hadi/Dropbox/git/_PoissonVAE/\u001b[0m\u001b[95mscripts\u001b[0m\n"
      ]
     },
     "metadata": {},
     "output_type": "display_data"
    },
    {
     "data": {
      "text/html": [
       "<pre style=\"white-space:pre;overflow-x:auto;line-height:normal;font-family:Menlo,'DejaVu Sans Mono',consolas,'Courier New',monospace\"><span style=\"font-weight: bold\">[</span>PROGRESS<span style=\"font-weight: bold\">]</span> <span style=\"color: #008000; text-decoration-color: #008000\">'mach-cuda3-fit2.txt'</span> saved at\n",
       "<span style=\"color: #800080; text-decoration-color: #800080\">/home/hadi/Dropbox/git/_PoissonVAE/</span><span style=\"color: #ff00ff; text-decoration-color: #ff00ff\">scripts</span>\n",
       "</pre>\n"
      ],
      "text/plain": [
       "\u001b[1m[\u001b[0mPROGRESS\u001b[1m]\u001b[0m \u001b[32m'mach-cuda3-fit2.txt'\u001b[0m saved at\n",
       "\u001b[35m/home/hadi/Dropbox/git/_PoissonVAE/\u001b[0m\u001b[95mscripts\u001b[0m\n"
      ]
     },
     "metadata": {},
     "output_type": "display_data"
    },
    {
     "data": {
      "text/html": [
       "<pre style=\"white-space:pre;overflow-x:auto;line-height:normal;font-family:Menlo,'DejaVu Sans Mono',consolas,'Courier New',monospace\"><span style=\"font-weight: bold\">[</span>PROGRESS<span style=\"font-weight: bold\">]</span> <span style=\"color: #008000; text-decoration-color: #008000\">'mach-cuda3-fit3.txt'</span> saved at\n",
       "<span style=\"color: #800080; text-decoration-color: #800080\">/home/hadi/Dropbox/git/_PoissonVAE/</span><span style=\"color: #ff00ff; text-decoration-color: #ff00ff\">scripts</span>\n",
       "</pre>\n"
      ],
      "text/plain": [
       "\u001b[1m[\u001b[0mPROGRESS\u001b[1m]\u001b[0m \u001b[32m'mach-cuda3-fit3.txt'\u001b[0m saved at\n",
       "\u001b[35m/home/hadi/Dropbox/git/_PoissonVAE/\u001b[0m\u001b[95mscripts\u001b[0m\n"
      ]
     },
     "metadata": {},
     "output_type": "display_data"
    },
    {
     "data": {
      "text/html": [
       "<pre style=\"white-space:pre;overflow-x:auto;line-height:normal;font-family:Menlo,'DejaVu Sans Mono',consolas,'Courier New',monospace\"><span style=\"font-weight: bold\">[</span>PROGRESS<span style=\"font-weight: bold\">]</span> <span style=\"color: #008000; text-decoration-color: #008000\">'mach-cuda3-fit4.txt'</span> saved at\n",
       "<span style=\"color: #800080; text-decoration-color: #800080\">/home/hadi/Dropbox/git/_PoissonVAE/</span><span style=\"color: #ff00ff; text-decoration-color: #ff00ff\">scripts</span>\n",
       "</pre>\n"
      ],
      "text/plain": [
       "\u001b[1m[\u001b[0mPROGRESS\u001b[1m]\u001b[0m \u001b[32m'mach-cuda3-fit4.txt'\u001b[0m saved at\n",
       "\u001b[35m/home/hadi/Dropbox/git/_PoissonVAE/\u001b[0m\u001b[95mscripts\u001b[0m\n"
      ]
     },
     "metadata": {},
     "output_type": "display_data"
    },
    {
     "data": {
      "text/html": [
       "<pre style=\"white-space:pre;overflow-x:auto;line-height:normal;font-family:Menlo,'DejaVu Sans Mono',consolas,'Courier New',monospace\"><span style=\"font-weight: bold\">[</span>PROGRESS<span style=\"font-weight: bold\">]</span> <span style=\"color: #008000; text-decoration-color: #008000\">'mach-cuda3-fit5.txt'</span> saved at\n",
       "<span style=\"color: #800080; text-decoration-color: #800080\">/home/hadi/Dropbox/git/_PoissonVAE/</span><span style=\"color: #ff00ff; text-decoration-color: #ff00ff\">scripts</span>\n",
       "</pre>\n"
      ],
      "text/plain": [
       "\u001b[1m[\u001b[0mPROGRESS\u001b[1m]\u001b[0m \u001b[32m'mach-cuda3-fit5.txt'\u001b[0m saved at\n",
       "\u001b[35m/home/hadi/Dropbox/git/_PoissonVAE/\u001b[0m\u001b[95mscripts\u001b[0m\n"
      ]
     },
     "metadata": {},
     "output_type": "display_data"
    }
   ],
   "source": [
    "n_fits = 6\n",
    "\n",
    "for gpu_i, scripts in scripts_mach.items():\n",
    "    scripts_divided = divide_list(scripts, n_fits)\n",
    "    for fit_i, s in enumerate(scripts_divided):\n",
    "        combined = ' && '.join(s)\n",
    "        save_obj(\n",
    "            obj=combined,\n",
    "            file_name=_name(host, gpu_i, fit_i),\n",
    "            save_dir=save_dir,\n",
    "            mode='txt',\n",
    "        )"
   ]
  },
  {
   "cell_type": "code",
   "execution_count": null,
   "id": "3f60ba8e-5e23-49b6-86d2-825be718a391",
   "metadata": {},
   "outputs": [],
   "source": []
  },
  {
   "cell_type": "markdown",
   "id": "8f315c07-4e59-4ea4-bf70-41ed67898efc",
   "metadata": {},
   "source": [
    "### Print one to check"
   ]
  },
  {
   "cell_type": "code",
   "execution_count": 13,
   "id": "413587ca-d5bf-4d1d-91fe-76fd25cb7701",
   "metadata": {},
   "outputs": [
    {
     "data": {
      "text/html": [
       "<pre style=\"white-space:pre;overflow-x:auto;line-height:normal;font-family:Menlo,'DejaVu Sans Mono',consolas,'Courier New',monospace\">.<span style=\"color: #800080; text-decoration-color: #800080\">/</span><span style=\"color: #ff00ff; text-decoration-color: #ff00ff\">fit_vae.sh</span> <span style=\"color: #008000; text-decoration-color: #008000\">'3'</span> <span style=\"color: #008000; text-decoration-color: #008000\">'CIFAR10-PATCHES'</span> <span style=\"color: #008000; text-decoration-color: #008000\">'gaussian'</span> <span style=\"color: #008000; text-decoration-color: #008000\">'mlp+b|lin'</span> --seed <span style=\"color: #008080; text-decoration-color: #008080; font-weight: bold\">3</span> --latent_act exp --comment exp --init_scale \n",
       "<span style=\"color: #008080; text-decoration-color: #008080; font-weight: bold\">0.0001</span> &amp;&amp; \n",
       ".<span style=\"color: #800080; text-decoration-color: #800080\">/</span><span style=\"color: #ff00ff; text-decoration-color: #ff00ff\">fit_vae.sh</span> <span style=\"color: #008000; text-decoration-color: #008000\">'3'</span> <span style=\"color: #008000; text-decoration-color: #008000\">'CIFAR10-PATCHES'</span> <span style=\"color: #008000; text-decoration-color: #008000\">'gaussian'</span> <span style=\"color: #008000; text-decoration-color: #008000\">'lin|lin'</span> --seed <span style=\"color: #008080; text-decoration-color: #008080; font-weight: bold\">4</span> --latent_act exp --comment exp --init_scale <span style=\"color: #008080; text-decoration-color: #008080; font-weight: bold\">0.0001</span>\n",
       "&amp;&amp; \n",
       ".<span style=\"color: #800080; text-decoration-color: #800080\">/</span><span style=\"color: #ff00ff; text-decoration-color: #ff00ff\">fit_vae.sh</span> <span style=\"color: #008000; text-decoration-color: #008000\">'3'</span> <span style=\"color: #008000; text-decoration-color: #008000\">'CIFAR10-PATCHES'</span> <span style=\"color: #008000; text-decoration-color: #008000\">'gaussian'</span> <span style=\"color: #008000; text-decoration-color: #008000\">'mlp+b|lin'</span> --seed <span style=\"color: #008080; text-decoration-color: #008080; font-weight: bold\">4</span> --latent_act exp --comment exp --init_scale \n",
       "<span style=\"color: #008080; text-decoration-color: #008080; font-weight: bold\">0.0001</span> &amp;&amp; \n",
       ".<span style=\"color: #800080; text-decoration-color: #800080\">/</span><span style=\"color: #ff00ff; text-decoration-color: #ff00ff\">fit_vae.sh</span> <span style=\"color: #008000; text-decoration-color: #008000\">'3'</span> <span style=\"color: #008000; text-decoration-color: #008000\">'CIFAR10-PATCHES'</span> <span style=\"color: #008000; text-decoration-color: #008000\">'gaussian'</span> <span style=\"color: #008000; text-decoration-color: #008000\">'lin|lin'</span> --seed <span style=\"color: #008080; text-decoration-color: #008080; font-weight: bold\">5</span> --latent_act exp --comment exp --init_scale <span style=\"color: #008080; text-decoration-color: #008080; font-weight: bold\">0.0001</span>\n",
       "&amp;&amp; \n",
       ".<span style=\"color: #800080; text-decoration-color: #800080\">/</span><span style=\"color: #ff00ff; text-decoration-color: #ff00ff\">fit_vae.sh</span> <span style=\"color: #008000; text-decoration-color: #008000\">'3'</span> <span style=\"color: #008000; text-decoration-color: #008000\">'CIFAR10-PATCHES'</span> <span style=\"color: #008000; text-decoration-color: #008000\">'gaussian'</span> <span style=\"color: #008000; text-decoration-color: #008000\">'mlp+b|lin'</span> --seed <span style=\"color: #008080; text-decoration-color: #008080; font-weight: bold\">5</span> --latent_act exp --comment exp --init_scale \n",
       "<span style=\"color: #008080; text-decoration-color: #008080; font-weight: bold\">0.0001</span> &amp;&amp; \n",
       ".<span style=\"color: #800080; text-decoration-color: #800080\">/</span><span style=\"color: #ff00ff; text-decoration-color: #ff00ff\">fit_vae.sh</span> <span style=\"color: #008000; text-decoration-color: #008000\">'3'</span> <span style=\"color: #008000; text-decoration-color: #008000\">'MNIST'</span> <span style=\"color: #008000; text-decoration-color: #008000\">'gaussian'</span> <span style=\"color: #008000; text-decoration-color: #008000\">'lin|lin'</span> --seed <span style=\"color: #008080; text-decoration-color: #008080; font-weight: bold\">1</span> --latent_act exp --comment exp --init_scale <span style=\"color: #008080; text-decoration-color: #008080; font-weight: bold\">0.0001</span> &amp;&amp; \n",
       ".<span style=\"color: #800080; text-decoration-color: #800080\">/</span><span style=\"color: #ff00ff; text-decoration-color: #ff00ff\">fit_vae.sh</span> <span style=\"color: #008000; text-decoration-color: #008000\">'3'</span> <span style=\"color: #008000; text-decoration-color: #008000\">'MNIST'</span> <span style=\"color: #008000; text-decoration-color: #008000\">'gaussian'</span> <span style=\"color: #008000; text-decoration-color: #008000\">'mlp+b|lin'</span> --seed <span style=\"color: #008080; text-decoration-color: #008080; font-weight: bold\">1</span> --latent_act exp --comment exp --init_scale <span style=\"color: #008080; text-decoration-color: #008080; font-weight: bold\">0.0001</span> &amp;&amp; \n",
       ".<span style=\"color: #800080; text-decoration-color: #800080\">/</span><span style=\"color: #ff00ff; text-decoration-color: #ff00ff\">fit_vae.sh</span> <span style=\"color: #008000; text-decoration-color: #008000\">'3'</span> <span style=\"color: #008000; text-decoration-color: #008000\">'MNIST'</span> <span style=\"color: #008000; text-decoration-color: #008000\">'gaussian'</span> <span style=\"color: #008000; text-decoration-color: #008000\">'lin|lin'</span> --seed <span style=\"color: #008080; text-decoration-color: #008080; font-weight: bold\">2</span> --latent_act exp --comment exp --init_scale <span style=\"color: #008080; text-decoration-color: #008080; font-weight: bold\">0.0001</span> &amp;&amp; \n",
       ".<span style=\"color: #800080; text-decoration-color: #800080\">/</span><span style=\"color: #ff00ff; text-decoration-color: #ff00ff\">fit_vae.sh</span> <span style=\"color: #008000; text-decoration-color: #008000\">'3'</span> <span style=\"color: #008000; text-decoration-color: #008000\">'MNIST'</span> <span style=\"color: #008000; text-decoration-color: #008000\">'gaussian'</span> <span style=\"color: #008000; text-decoration-color: #008000\">'mlp+b|lin'</span> --seed <span style=\"color: #008080; text-decoration-color: #008080; font-weight: bold\">2</span> --latent_act exp --comment exp --init_scale <span style=\"color: #008080; text-decoration-color: #008080; font-weight: bold\">0.0001</span> &amp;&amp; \n",
       ".<span style=\"color: #800080; text-decoration-color: #800080\">/</span><span style=\"color: #ff00ff; text-decoration-color: #ff00ff\">fit_vae.sh</span> <span style=\"color: #008000; text-decoration-color: #008000\">'3'</span> <span style=\"color: #008000; text-decoration-color: #008000\">'MNIST'</span> <span style=\"color: #008000; text-decoration-color: #008000\">'gaussian'</span> <span style=\"color: #008000; text-decoration-color: #008000\">'lin|lin'</span> --seed <span style=\"color: #008080; text-decoration-color: #008080; font-weight: bold\">3</span> --latent_act exp --comment exp --init_scale <span style=\"color: #008080; text-decoration-color: #008080; font-weight: bold\">0.0001</span> &amp;&amp; \n",
       ".<span style=\"color: #800080; text-decoration-color: #800080\">/</span><span style=\"color: #ff00ff; text-decoration-color: #ff00ff\">fit_vae.sh</span> <span style=\"color: #008000; text-decoration-color: #008000\">'3'</span> <span style=\"color: #008000; text-decoration-color: #008000\">'MNIST'</span> <span style=\"color: #008000; text-decoration-color: #008000\">'gaussian'</span> <span style=\"color: #008000; text-decoration-color: #008000\">'mlp+b|lin'</span> --seed <span style=\"color: #008080; text-decoration-color: #008080; font-weight: bold\">3</span> --latent_act exp --comment exp --init_scale <span style=\"color: #008080; text-decoration-color: #008080; font-weight: bold\">0.0001</span> &amp;&amp; \n",
       ".<span style=\"color: #800080; text-decoration-color: #800080\">/</span><span style=\"color: #ff00ff; text-decoration-color: #ff00ff\">fit_vae.sh</span> <span style=\"color: #008000; text-decoration-color: #008000\">'3'</span> <span style=\"color: #008000; text-decoration-color: #008000\">'MNIST'</span> <span style=\"color: #008000; text-decoration-color: #008000\">'gaussian'</span> <span style=\"color: #008000; text-decoration-color: #008000\">'lin|lin'</span> --seed <span style=\"color: #008080; text-decoration-color: #008080; font-weight: bold\">4</span> --latent_act exp --comment exp --init_scale <span style=\"color: #008080; text-decoration-color: #008080; font-weight: bold\">0.0001</span> &amp;&amp; \n",
       ".<span style=\"color: #800080; text-decoration-color: #800080\">/</span><span style=\"color: #ff00ff; text-decoration-color: #ff00ff\">fit_vae.sh</span> <span style=\"color: #008000; text-decoration-color: #008000\">'3'</span> <span style=\"color: #008000; text-decoration-color: #008000\">'MNIST'</span> <span style=\"color: #008000; text-decoration-color: #008000\">'gaussian'</span> <span style=\"color: #008000; text-decoration-color: #008000\">'mlp+b|lin'</span> --seed <span style=\"color: #008080; text-decoration-color: #008080; font-weight: bold\">4</span> --latent_act exp --comment exp --init_scale <span style=\"color: #008080; text-decoration-color: #008080; font-weight: bold\">0.0001</span> &amp;&amp; \n",
       ".<span style=\"color: #800080; text-decoration-color: #800080\">/</span><span style=\"color: #ff00ff; text-decoration-color: #ff00ff\">fit_vae.sh</span> <span style=\"color: #008000; text-decoration-color: #008000\">'3'</span> <span style=\"color: #008000; text-decoration-color: #008000\">'MNIST'</span> <span style=\"color: #008000; text-decoration-color: #008000\">'gaussian'</span> <span style=\"color: #008000; text-decoration-color: #008000\">'lin|lin'</span> --seed <span style=\"color: #008080; text-decoration-color: #008080; font-weight: bold\">5</span> --latent_act exp --comment exp --init_scale <span style=\"color: #008080; text-decoration-color: #008080; font-weight: bold\">0.0001</span> &amp;&amp; \n",
       ".<span style=\"color: #800080; text-decoration-color: #800080\">/</span><span style=\"color: #ff00ff; text-decoration-color: #ff00ff\">fit_vae.sh</span> <span style=\"color: #008000; text-decoration-color: #008000\">'3'</span> <span style=\"color: #008000; text-decoration-color: #008000\">'MNIST'</span> <span style=\"color: #008000; text-decoration-color: #008000\">'gaussian'</span> <span style=\"color: #008000; text-decoration-color: #008000\">'mlp+b|lin'</span> --seed <span style=\"color: #008080; text-decoration-color: #008080; font-weight: bold\">5</span> --latent_act exp --comment exp --init_scale <span style=\"color: #008080; text-decoration-color: #008080; font-weight: bold\">0.0001</span>\n",
       "</pre>\n"
      ],
      "text/plain": [
       ".\u001b[35m/\u001b[0m\u001b[95mfit_vae.sh\u001b[0m \u001b[32m'3'\u001b[0m \u001b[32m'CIFAR10-PATCHES'\u001b[0m \u001b[32m'gaussian'\u001b[0m \u001b[32m'mlp+b|lin'\u001b[0m --seed \u001b[1;36m3\u001b[0m --latent_act exp --comment exp --init_scale \n",
       "\u001b[1;36m0.0001\u001b[0m && \n",
       ".\u001b[35m/\u001b[0m\u001b[95mfit_vae.sh\u001b[0m \u001b[32m'3'\u001b[0m \u001b[32m'CIFAR10-PATCHES'\u001b[0m \u001b[32m'gaussian'\u001b[0m \u001b[32m'lin|lin'\u001b[0m --seed \u001b[1;36m4\u001b[0m --latent_act exp --comment exp --init_scale \u001b[1;36m0.0001\u001b[0m\n",
       "&& \n",
       ".\u001b[35m/\u001b[0m\u001b[95mfit_vae.sh\u001b[0m \u001b[32m'3'\u001b[0m \u001b[32m'CIFAR10-PATCHES'\u001b[0m \u001b[32m'gaussian'\u001b[0m \u001b[32m'mlp+b|lin'\u001b[0m --seed \u001b[1;36m4\u001b[0m --latent_act exp --comment exp --init_scale \n",
       "\u001b[1;36m0.0001\u001b[0m && \n",
       ".\u001b[35m/\u001b[0m\u001b[95mfit_vae.sh\u001b[0m \u001b[32m'3'\u001b[0m \u001b[32m'CIFAR10-PATCHES'\u001b[0m \u001b[32m'gaussian'\u001b[0m \u001b[32m'lin|lin'\u001b[0m --seed \u001b[1;36m5\u001b[0m --latent_act exp --comment exp --init_scale \u001b[1;36m0.0001\u001b[0m\n",
       "&& \n",
       ".\u001b[35m/\u001b[0m\u001b[95mfit_vae.sh\u001b[0m \u001b[32m'3'\u001b[0m \u001b[32m'CIFAR10-PATCHES'\u001b[0m \u001b[32m'gaussian'\u001b[0m \u001b[32m'mlp+b|lin'\u001b[0m --seed \u001b[1;36m5\u001b[0m --latent_act exp --comment exp --init_scale \n",
       "\u001b[1;36m0.0001\u001b[0m && \n",
       ".\u001b[35m/\u001b[0m\u001b[95mfit_vae.sh\u001b[0m \u001b[32m'3'\u001b[0m \u001b[32m'MNIST'\u001b[0m \u001b[32m'gaussian'\u001b[0m \u001b[32m'lin|lin'\u001b[0m --seed \u001b[1;36m1\u001b[0m --latent_act exp --comment exp --init_scale \u001b[1;36m0.0001\u001b[0m && \n",
       ".\u001b[35m/\u001b[0m\u001b[95mfit_vae.sh\u001b[0m \u001b[32m'3'\u001b[0m \u001b[32m'MNIST'\u001b[0m \u001b[32m'gaussian'\u001b[0m \u001b[32m'mlp+b|lin'\u001b[0m --seed \u001b[1;36m1\u001b[0m --latent_act exp --comment exp --init_scale \u001b[1;36m0.0001\u001b[0m && \n",
       ".\u001b[35m/\u001b[0m\u001b[95mfit_vae.sh\u001b[0m \u001b[32m'3'\u001b[0m \u001b[32m'MNIST'\u001b[0m \u001b[32m'gaussian'\u001b[0m \u001b[32m'lin|lin'\u001b[0m --seed \u001b[1;36m2\u001b[0m --latent_act exp --comment exp --init_scale \u001b[1;36m0.0001\u001b[0m && \n",
       ".\u001b[35m/\u001b[0m\u001b[95mfit_vae.sh\u001b[0m \u001b[32m'3'\u001b[0m \u001b[32m'MNIST'\u001b[0m \u001b[32m'gaussian'\u001b[0m \u001b[32m'mlp+b|lin'\u001b[0m --seed \u001b[1;36m2\u001b[0m --latent_act exp --comment exp --init_scale \u001b[1;36m0.0001\u001b[0m && \n",
       ".\u001b[35m/\u001b[0m\u001b[95mfit_vae.sh\u001b[0m \u001b[32m'3'\u001b[0m \u001b[32m'MNIST'\u001b[0m \u001b[32m'gaussian'\u001b[0m \u001b[32m'lin|lin'\u001b[0m --seed \u001b[1;36m3\u001b[0m --latent_act exp --comment exp --init_scale \u001b[1;36m0.0001\u001b[0m && \n",
       ".\u001b[35m/\u001b[0m\u001b[95mfit_vae.sh\u001b[0m \u001b[32m'3'\u001b[0m \u001b[32m'MNIST'\u001b[0m \u001b[32m'gaussian'\u001b[0m \u001b[32m'mlp+b|lin'\u001b[0m --seed \u001b[1;36m3\u001b[0m --latent_act exp --comment exp --init_scale \u001b[1;36m0.0001\u001b[0m && \n",
       ".\u001b[35m/\u001b[0m\u001b[95mfit_vae.sh\u001b[0m \u001b[32m'3'\u001b[0m \u001b[32m'MNIST'\u001b[0m \u001b[32m'gaussian'\u001b[0m \u001b[32m'lin|lin'\u001b[0m --seed \u001b[1;36m4\u001b[0m --latent_act exp --comment exp --init_scale \u001b[1;36m0.0001\u001b[0m && \n",
       ".\u001b[35m/\u001b[0m\u001b[95mfit_vae.sh\u001b[0m \u001b[32m'3'\u001b[0m \u001b[32m'MNIST'\u001b[0m \u001b[32m'gaussian'\u001b[0m \u001b[32m'mlp+b|lin'\u001b[0m --seed \u001b[1;36m4\u001b[0m --latent_act exp --comment exp --init_scale \u001b[1;36m0.0001\u001b[0m && \n",
       ".\u001b[35m/\u001b[0m\u001b[95mfit_vae.sh\u001b[0m \u001b[32m'3'\u001b[0m \u001b[32m'MNIST'\u001b[0m \u001b[32m'gaussian'\u001b[0m \u001b[32m'lin|lin'\u001b[0m --seed \u001b[1;36m5\u001b[0m --latent_act exp --comment exp --init_scale \u001b[1;36m0.0001\u001b[0m && \n",
       ".\u001b[35m/\u001b[0m\u001b[95mfit_vae.sh\u001b[0m \u001b[32m'3'\u001b[0m \u001b[32m'MNIST'\u001b[0m \u001b[32m'gaussian'\u001b[0m \u001b[32m'mlp+b|lin'\u001b[0m --seed \u001b[1;36m5\u001b[0m --latent_act exp --comment exp --init_scale \u001b[1;36m0.0001\u001b[0m\n"
      ]
     },
     "metadata": {},
     "output_type": "display_data"
    }
   ],
   "source": [
    "print(combined.replace('&& ', '&& \\n'))"
   ]
  },
  {
   "cell_type": "code",
   "execution_count": null,
   "id": "41f88d8a-c971-42d4-b9f3-43f182c06b9e",
   "metadata": {},
   "outputs": [],
   "source": []
  },
  {
   "cell_type": "code",
   "execution_count": 14,
   "id": "b302fa96-e45d-42d0-b0cb-6664b76a47cc",
   "metadata": {},
   "outputs": [
    {
     "data": {
      "text/html": [
       "<pre style=\"white-space:pre;overflow-x:auto;line-height:normal;font-family:Menlo,'DejaVu Sans Mono',consolas,'Courier New',monospace\"><span style=\"font-weight: bold\">{</span>\n",
       "    <span style=\"color: #008080; text-decoration-color: #008080; font-weight: bold\">0</span>: <span style=\"font-weight: bold\">[</span>\n",
       "        <span style=\"color: #008000; text-decoration-color: #008000\">\"./fit_vae.sh '0' 'DOVES' 'poisson' 'lin|lin' --seed 1 --method mc\"</span>,\n",
       "        <span style=\"color: #008000; text-decoration-color: #008000\">\"./fit_vae.sh '0' 'DOVES' 'poisson' 'lin|lin' --seed 1 --method exact\"</span>,\n",
       "        <span style=\"color: #008000; text-decoration-color: #008000\">\"./fit_vae.sh '0' 'DOVES' 'poisson' 'mlp+b|lin' --seed 1 --method mc\"</span>,\n",
       "        <span style=\"color: #008000; text-decoration-color: #008000\">\"./fit_vae.sh '0' 'DOVES' 'poisson' 'mlp+b|lin' --seed 1 --method exact\"</span>,\n",
       "        <span style=\"color: #008000; text-decoration-color: #008000\">\"./fit_vae.sh '0' 'DOVES' 'poisson' 'lin|lin' --seed 2 --method mc\"</span>,\n",
       "        <span style=\"color: #008000; text-decoration-color: #008000\">\"./fit_vae.sh '0' 'DOVES' 'poisson' 'lin|lin' --seed 2 --method exact\"</span>,\n",
       "        <span style=\"color: #008000; text-decoration-color: #008000\">\"./fit_vae.sh '0' 'DOVES' 'poisson' 'mlp+b|lin' --seed 2 --method mc\"</span>,\n",
       "        <span style=\"color: #008000; text-decoration-color: #008000\">\"./fit_vae.sh '0' 'DOVES' 'poisson' 'mlp+b|lin' --seed 2 --method exact\"</span>,\n",
       "        <span style=\"color: #008000; text-decoration-color: #008000\">\"./fit_vae.sh '0' 'DOVES' 'poisson' 'lin|lin' --seed 3 --method mc\"</span>,\n",
       "        <span style=\"color: #008000; text-decoration-color: #008000\">\"./fit_vae.sh '0' 'DOVES' 'poisson' 'lin|lin' --seed 3 --method exact\"</span>,\n",
       "        <span style=\"color: #008000; text-decoration-color: #008000\">\"./fit_vae.sh '0' 'DOVES' 'poisson' 'mlp+b|lin' --seed 3 --method mc\"</span>,\n",
       "        <span style=\"color: #008000; text-decoration-color: #008000\">\"./fit_vae.sh '0' 'DOVES' 'poisson' 'mlp+b|lin' --seed 3 --method exact\"</span>,\n",
       "        <span style=\"color: #008000; text-decoration-color: #008000\">\"./fit_vae.sh '0' 'DOVES' 'poisson' 'lin|lin' --seed 4 --method mc\"</span>,\n",
       "        <span style=\"color: #008000; text-decoration-color: #008000\">\"./fit_vae.sh '0' 'DOVES' 'poisson' 'lin|lin' --seed 4 --method exact\"</span>,\n",
       "        <span style=\"color: #008000; text-decoration-color: #008000\">\"./fit_vae.sh '0' 'DOVES' 'poisson' 'mlp+b|lin' --seed 4 --method mc\"</span>,\n",
       "        <span style=\"color: #008000; text-decoration-color: #008000\">\"./fit_vae.sh '0' 'DOVES' 'poisson' 'mlp+b|lin' --seed 4 --method exact\"</span>,\n",
       "        <span style=\"color: #008000; text-decoration-color: #008000\">\"./fit_vae.sh '0' 'DOVES' 'poisson' 'lin|lin' --seed 5 --method mc\"</span>,\n",
       "        <span style=\"color: #008000; text-decoration-color: #008000\">\"./fit_vae.sh '0' 'DOVES' 'poisson' 'lin|lin' --seed 5 --method exact\"</span>,\n",
       "        <span style=\"color: #008000; text-decoration-color: #008000\">\"./fit_vae.sh '0' 'DOVES' 'poisson' 'mlp+b|lin' --seed 5 --method mc\"</span>,\n",
       "        <span style=\"color: #008000; text-decoration-color: #008000\">\"./fit_vae.sh '0' 'DOVES' 'poisson' 'mlp+b|lin' --seed 5 --method exact\"</span>,\n",
       "        <span style=\"color: #008000; text-decoration-color: #008000\">\"./fit_vae.sh '0' 'CIFAR10-PATCHES' 'poisson' 'lin|lin' --seed 1 --method mc\"</span>,\n",
       "        <span style=\"color: #008000; text-decoration-color: #008000\">\"./fit_vae.sh '0' 'CIFAR10-PATCHES' 'poisson' 'lin|lin' --seed 1 --method exact\"</span>,\n",
       "        <span style=\"color: #008000; text-decoration-color: #008000\">\"./fit_vae.sh '0' 'CIFAR10-PATCHES' 'poisson' 'mlp+b|lin' --seed 1 --method mc\"</span>,\n",
       "        <span style=\"color: #008000; text-decoration-color: #008000\">\"./fit_vae.sh '0' 'CIFAR10-PATCHES' 'poisson' 'mlp+b|lin' --seed 1 --method exact\"</span>,\n",
       "        <span style=\"color: #008000; text-decoration-color: #008000\">\"./fit_vae.sh '0' 'CIFAR10-PATCHES' 'poisson' 'lin|lin' --seed 2 --method mc\"</span>,\n",
       "        <span style=\"color: #008000; text-decoration-color: #008000\">\"./fit_vae.sh '0' 'CIFAR10-PATCHES' 'poisson' 'lin|lin' --seed 2 --method exact\"</span>,\n",
       "        <span style=\"color: #008000; text-decoration-color: #008000\">\"./fit_vae.sh '0' 'CIFAR10-PATCHES' 'poisson' 'mlp+b|lin' --seed 2 --method mc\"</span>,\n",
       "        <span style=\"color: #008000; text-decoration-color: #008000\">\"./fit_vae.sh '0' 'CIFAR10-PATCHES' 'poisson' 'mlp+b|lin' --seed 2 --method exact\"</span>,\n",
       "        <span style=\"color: #008000; text-decoration-color: #008000\">\"./fit_vae.sh '0' 'CIFAR10-PATCHES' 'poisson' 'lin|lin' --seed 3 --method mc\"</span>,\n",
       "        <span style=\"color: #008000; text-decoration-color: #008000\">\"./fit_vae.sh '0' 'CIFAR10-PATCHES' 'poisson' 'lin|lin' --seed 3 --method exact\"</span>,\n",
       "        <span style=\"color: #008000; text-decoration-color: #008000\">\"./fit_vae.sh '0' 'CIFAR10-PATCHES' 'poisson' 'mlp+b|lin' --seed 3 --method mc\"</span>,\n",
       "        <span style=\"color: #008000; text-decoration-color: #008000\">\"./fit_vae.sh '0' 'CIFAR10-PATCHES' 'poisson' 'mlp+b|lin' --seed 3 --method exact\"</span>,\n",
       "        <span style=\"color: #008000; text-decoration-color: #008000\">\"./fit_vae.sh '0' 'CIFAR10-PATCHES' 'poisson' 'lin|lin' --seed 4 --method mc\"</span>,\n",
       "        <span style=\"color: #008000; text-decoration-color: #008000\">\"./fit_vae.sh '0' 'CIFAR10-PATCHES' 'poisson' 'lin|lin' --seed 4 --method exact\"</span>,\n",
       "        <span style=\"color: #008000; text-decoration-color: #008000\">\"./fit_vae.sh '0' 'CIFAR10-PATCHES' 'poisson' 'mlp+b|lin' --seed 4 --method mc\"</span>,\n",
       "        <span style=\"color: #008000; text-decoration-color: #008000\">\"./fit_vae.sh '0' 'CIFAR10-PATCHES' 'poisson' 'mlp+b|lin' --seed 4 --method exact\"</span>,\n",
       "        <span style=\"color: #008000; text-decoration-color: #008000\">\"./fit_vae.sh '0' 'CIFAR10-PATCHES' 'poisson' 'lin|lin' --seed 5 --method mc\"</span>,\n",
       "        <span style=\"color: #008000; text-decoration-color: #008000\">\"./fit_vae.sh '0' 'CIFAR10-PATCHES' 'poisson' 'lin|lin' --seed 5 --method exact\"</span>,\n",
       "        <span style=\"color: #008000; text-decoration-color: #008000\">\"./fit_vae.sh '0' 'CIFAR10-PATCHES' 'poisson' 'mlp+b|lin' --seed 5 --method mc\"</span>,\n",
       "        <span style=\"color: #008000; text-decoration-color: #008000\">\"./fit_vae.sh '0' 'CIFAR10-PATCHES' 'poisson' 'mlp+b|lin' --seed 5 --method exact\"</span>,\n",
       "        <span style=\"color: #008000; text-decoration-color: #008000\">\"./fit_vae.sh '0' 'MNIST' 'poisson' 'lin|lin' --seed 1 --method mc\"</span>,\n",
       "        <span style=\"color: #008000; text-decoration-color: #008000\">\"./fit_vae.sh '0' 'MNIST' 'poisson' 'lin|lin' --seed 1 --method exact\"</span>,\n",
       "        <span style=\"color: #008000; text-decoration-color: #008000\">\"./fit_vae.sh '0' 'MNIST' 'poisson' 'mlp+b|lin' --seed 1 --method mc\"</span>,\n",
       "        <span style=\"color: #008000; text-decoration-color: #008000\">\"./fit_vae.sh '0' 'MNIST' 'poisson' 'mlp+b|lin' --seed 1 --method exact\"</span>,\n",
       "        <span style=\"color: #008000; text-decoration-color: #008000\">\"./fit_vae.sh '0' 'MNIST' 'poisson' 'lin|lin' --seed 2 --method mc\"</span>,\n",
       "        <span style=\"color: #008000; text-decoration-color: #008000\">\"./fit_vae.sh '0' 'MNIST' 'poisson' 'lin|lin' --seed 2 --method exact\"</span>,\n",
       "        <span style=\"color: #008000; text-decoration-color: #008000\">\"./fit_vae.sh '0' 'MNIST' 'poisson' 'mlp+b|lin' --seed 2 --method mc\"</span>,\n",
       "        <span style=\"color: #008000; text-decoration-color: #008000\">\"./fit_vae.sh '0' 'MNIST' 'poisson' 'mlp+b|lin' --seed 2 --method exact\"</span>,\n",
       "        <span style=\"color: #008000; text-decoration-color: #008000\">\"./fit_vae.sh '0' 'MNIST' 'poisson' 'lin|lin' --seed 3 --method mc\"</span>,\n",
       "        <span style=\"color: #008000; text-decoration-color: #008000\">\"./fit_vae.sh '0' 'MNIST' 'poisson' 'lin|lin' --seed 3 --method exact\"</span>,\n",
       "        <span style=\"color: #008000; text-decoration-color: #008000\">\"./fit_vae.sh '0' 'MNIST' 'poisson' 'mlp+b|lin' --seed 3 --method mc\"</span>,\n",
       "        <span style=\"color: #008000; text-decoration-color: #008000\">\"./fit_vae.sh '0' 'MNIST' 'poisson' 'mlp+b|lin' --seed 3 --method exact\"</span>,\n",
       "        <span style=\"color: #008000; text-decoration-color: #008000\">\"./fit_vae.sh '0' 'MNIST' 'poisson' 'lin|lin' --seed 4 --method mc\"</span>,\n",
       "        <span style=\"color: #008000; text-decoration-color: #008000\">\"./fit_vae.sh '0' 'MNIST' 'poisson' 'lin|lin' --seed 4 --method exact\"</span>,\n",
       "        <span style=\"color: #008000; text-decoration-color: #008000\">\"./fit_vae.sh '0' 'MNIST' 'poisson' 'mlp+b|lin' --seed 4 --method mc\"</span>,\n",
       "        <span style=\"color: #008000; text-decoration-color: #008000\">\"./fit_vae.sh '0' 'MNIST' 'poisson' 'mlp+b|lin' --seed 4 --method exact\"</span>,\n",
       "        <span style=\"color: #008000; text-decoration-color: #008000\">\"./fit_vae.sh '0' 'MNIST' 'poisson' 'lin|lin' --seed 5 --method mc\"</span>,\n",
       "        <span style=\"color: #008000; text-decoration-color: #008000\">\"./fit_vae.sh '0' 'MNIST' 'poisson' 'lin|lin' --seed 5 --method exact\"</span>,\n",
       "        <span style=\"color: #008000; text-decoration-color: #008000\">\"./fit_vae.sh '0' 'MNIST' 'poisson' 'mlp+b|lin' --seed 5 --method mc\"</span>,\n",
       "        <span style=\"color: #008000; text-decoration-color: #008000\">\"./fit_vae.sh '0' 'MNIST' 'poisson' 'mlp+b|lin' --seed 5 --method exact\"</span>,\n",
       "        <span style=\"color: #008000; text-decoration-color: #008000\">\"./fit_vae.sh '0' 'DOVES' 'gaussian' 'lin|lin' --seed 1 --latent_act relu --comment relu\"</span>,\n",
       "        <span style=\"color: #008000; text-decoration-color: #008000\">\"./fit_vae.sh '0' 'DOVES' 'gaussian' 'mlp+b|lin' --seed 1 --latent_act relu --comment relu\"</span>,\n",
       "        <span style=\"color: #008000; text-decoration-color: #008000\">\"./fit_vae.sh '0' 'DOVES' 'gaussian' 'lin|lin' --seed 2 --latent_act relu --comment relu\"</span>,\n",
       "        <span style=\"color: #008000; text-decoration-color: #008000\">\"./fit_vae.sh '0' 'DOVES' 'gaussian' 'mlp+b|lin' --seed 2 --latent_act relu --comment relu\"</span>,\n",
       "        <span style=\"color: #008000; text-decoration-color: #008000\">\"./fit_vae.sh '0' 'DOVES' 'gaussian' 'lin|lin' --seed 3 --latent_act relu --comment relu\"</span>,\n",
       "        <span style=\"color: #008000; text-decoration-color: #008000\">\"./fit_vae.sh '0' 'DOVES' 'gaussian' 'mlp+b|lin' --seed 3 --latent_act relu --comment relu\"</span>,\n",
       "        <span style=\"color: #008000; text-decoration-color: #008000\">\"./fit_vae.sh '0' 'DOVES' 'gaussian' 'lin|lin' --seed 4 --latent_act relu --comment relu\"</span>,\n",
       "        <span style=\"color: #008000; text-decoration-color: #008000\">\"./fit_vae.sh '0' 'DOVES' 'gaussian' 'mlp+b|lin' --seed 4 --latent_act relu --comment relu\"</span>,\n",
       "        <span style=\"color: #008000; text-decoration-color: #008000\">\"./fit_vae.sh '0' 'DOVES' 'gaussian' 'lin|lin' --seed 5 --latent_act relu --comment relu\"</span>,\n",
       "        <span style=\"color: #008000; text-decoration-color: #008000\">\"./fit_vae.sh '0' 'DOVES' 'gaussian' 'mlp+b|lin' --seed 5 --latent_act relu --comment relu\"</span>,\n",
       "        <span style=\"color: #008000; text-decoration-color: #008000\">\"./fit_vae.sh '0' 'CIFAR10-PATCHES' 'gaussian' 'lin|lin' --seed 1 --latent_act relu --comment relu\"</span>,\n",
       "        <span style=\"color: #008000; text-decoration-color: #008000\">\"./fit_vae.sh '0' 'CIFAR10-PATCHES' 'gaussian' 'mlp+b|lin' --seed 1 --latent_act relu --comment relu\"</span>,\n",
       "        <span style=\"color: #008000; text-decoration-color: #008000\">\"./fit_vae.sh '0' 'CIFAR10-PATCHES' 'gaussian' 'lin|lin' --seed 2 --latent_act relu --comment relu\"</span>,\n",
       "        <span style=\"color: #008000; text-decoration-color: #008000\">\"./fit_vae.sh '0' 'CIFAR10-PATCHES' 'gaussian' 'mlp+b|lin' --seed 2 --latent_act relu --comment relu\"</span>,\n",
       "        <span style=\"color: #008000; text-decoration-color: #008000\">\"./fit_vae.sh '0' 'CIFAR10-PATCHES' 'gaussian' 'lin|lin' --seed 3 --latent_act relu --comment relu\"</span>,\n",
       "        <span style=\"color: #008000; text-decoration-color: #008000\">\"./fit_vae.sh '0' 'CIFAR10-PATCHES' 'gaussian' 'mlp+b|lin' --seed 3 --latent_act relu --comment relu\"</span>,\n",
       "        <span style=\"color: #008000; text-decoration-color: #008000\">\"./fit_vae.sh '0' 'CIFAR10-PATCHES' 'gaussian' 'lin|lin' --seed 4 --latent_act relu --comment relu\"</span>,\n",
       "        <span style=\"color: #008000; text-decoration-color: #008000\">\"./fit_vae.sh '0' 'CIFAR10-PATCHES' 'gaussian' 'mlp+b|lin' --seed 4 --latent_act relu --comment relu\"</span>,\n",
       "        <span style=\"color: #008000; text-decoration-color: #008000\">\"./fit_vae.sh '0' 'CIFAR10-PATCHES' 'gaussian' 'lin|lin' --seed 5 --latent_act relu --comment relu\"</span>,\n",
       "        <span style=\"color: #008000; text-decoration-color: #008000\">\"./fit_vae.sh '0' 'CIFAR10-PATCHES' 'gaussian' 'mlp+b|lin' --seed 5 --latent_act relu --comment relu\"</span>,\n",
       "        <span style=\"color: #008000; text-decoration-color: #008000\">\"./fit_vae.sh '0' 'MNIST' 'gaussian' 'lin|lin' --seed 1 --latent_act relu --comment relu\"</span>,\n",
       "        <span style=\"color: #008000; text-decoration-color: #008000\">\"./fit_vae.sh '0' 'MNIST' 'gaussian' 'mlp+b|lin' --seed 1 --latent_act relu --comment relu\"</span>,\n",
       "        <span style=\"color: #008000; text-decoration-color: #008000\">\"./fit_vae.sh '0' 'MNIST' 'gaussian' 'lin|lin' --seed 2 --latent_act relu --comment relu\"</span>,\n",
       "        <span style=\"color: #008000; text-decoration-color: #008000\">\"./fit_vae.sh '0' 'MNIST' 'gaussian' 'mlp+b|lin' --seed 2 --latent_act relu --comment relu\"</span>,\n",
       "        <span style=\"color: #008000; text-decoration-color: #008000\">\"./fit_vae.sh '0' 'MNIST' 'gaussian' 'lin|lin' --seed 3 --latent_act relu --comment relu\"</span>,\n",
       "        <span style=\"color: #008000; text-decoration-color: #008000\">\"./fit_vae.sh '0' 'MNIST' 'gaussian' 'mlp+b|lin' --seed 3 --latent_act relu --comment relu\"</span>,\n",
       "        <span style=\"color: #008000; text-decoration-color: #008000\">\"./fit_vae.sh '0' 'MNIST' 'gaussian' 'lin|lin' --seed 4 --latent_act relu --comment relu\"</span>,\n",
       "        <span style=\"color: #008000; text-decoration-color: #008000\">\"./fit_vae.sh '0' 'MNIST' 'gaussian' 'mlp+b|lin' --seed 4 --latent_act relu --comment relu\"</span>,\n",
       "        <span style=\"color: #008000; text-decoration-color: #008000\">\"./fit_vae.sh '0' 'MNIST' 'gaussian' 'lin|lin' --seed 5 --latent_act relu --comment relu\"</span>,\n",
       "        <span style=\"color: #008000; text-decoration-color: #008000\">\"./fit_vae.sh '0' 'MNIST' 'gaussian' 'mlp+b|lin' --seed 5 --latent_act relu --comment relu\"</span>\n",
       "    <span style=\"font-weight: bold\">]</span>,\n",
       "    <span style=\"color: #008080; text-decoration-color: #008080; font-weight: bold\">1</span>: <span style=\"font-weight: bold\">[</span>\n",
       "        <span style=\"color: #008000; text-decoration-color: #008000\">\"./fit_vae.sh '1' 'DOVES' 'categorical' 'lin|lin' --seed 1 --method mc\"</span>,\n",
       "        <span style=\"color: #008000; text-decoration-color: #008000\">\"./fit_vae.sh '1' 'DOVES' 'categorical' 'lin|lin' --seed 1 --method exact\"</span>,\n",
       "        <span style=\"color: #008000; text-decoration-color: #008000\">\"./fit_vae.sh '1' 'DOVES' 'categorical' 'mlp+b|lin' --seed 1 --method mc\"</span>,\n",
       "        <span style=\"color: #008000; text-decoration-color: #008000\">\"./fit_vae.sh '1' 'DOVES' 'categorical' 'mlp+b|lin' --seed 1 --method exact\"</span>,\n",
       "        <span style=\"color: #008000; text-decoration-color: #008000\">\"./fit_vae.sh '1' 'DOVES' 'categorical' 'lin|lin' --seed 2 --method mc\"</span>,\n",
       "        <span style=\"color: #008000; text-decoration-color: #008000\">\"./fit_vae.sh '1' 'DOVES' 'categorical' 'lin|lin' --seed 2 --method exact\"</span>,\n",
       "        <span style=\"color: #008000; text-decoration-color: #008000\">\"./fit_vae.sh '1' 'DOVES' 'categorical' 'mlp+b|lin' --seed 2 --method mc\"</span>,\n",
       "        <span style=\"color: #008000; text-decoration-color: #008000\">\"./fit_vae.sh '1' 'DOVES' 'categorical' 'mlp+b|lin' --seed 2 --method exact\"</span>,\n",
       "        <span style=\"color: #008000; text-decoration-color: #008000\">\"./fit_vae.sh '1' 'DOVES' 'categorical' 'lin|lin' --seed 3 --method mc\"</span>,\n",
       "        <span style=\"color: #008000; text-decoration-color: #008000\">\"./fit_vae.sh '1' 'DOVES' 'categorical' 'lin|lin' --seed 3 --method exact\"</span>,\n",
       "        <span style=\"color: #008000; text-decoration-color: #008000\">\"./fit_vae.sh '1' 'DOVES' 'categorical' 'mlp+b|lin' --seed 3 --method mc\"</span>,\n",
       "        <span style=\"color: #008000; text-decoration-color: #008000\">\"./fit_vae.sh '1' 'DOVES' 'categorical' 'mlp+b|lin' --seed 3 --method exact\"</span>,\n",
       "        <span style=\"color: #008000; text-decoration-color: #008000\">\"./fit_vae.sh '1' 'DOVES' 'categorical' 'lin|lin' --seed 4 --method mc\"</span>,\n",
       "        <span style=\"color: #008000; text-decoration-color: #008000\">\"./fit_vae.sh '1' 'DOVES' 'categorical' 'lin|lin' --seed 4 --method exact\"</span>,\n",
       "        <span style=\"color: #008000; text-decoration-color: #008000\">\"./fit_vae.sh '1' 'DOVES' 'categorical' 'mlp+b|lin' --seed 4 --method mc\"</span>,\n",
       "        <span style=\"color: #008000; text-decoration-color: #008000\">\"./fit_vae.sh '1' 'DOVES' 'categorical' 'mlp+b|lin' --seed 4 --method exact\"</span>,\n",
       "        <span style=\"color: #008000; text-decoration-color: #008000\">\"./fit_vae.sh '1' 'DOVES' 'categorical' 'lin|lin' --seed 5 --method mc\"</span>,\n",
       "        <span style=\"color: #008000; text-decoration-color: #008000\">\"./fit_vae.sh '1' 'DOVES' 'categorical' 'lin|lin' --seed 5 --method exact\"</span>,\n",
       "        <span style=\"color: #008000; text-decoration-color: #008000\">\"./fit_vae.sh '1' 'DOVES' 'categorical' 'mlp+b|lin' --seed 5 --method mc\"</span>,\n",
       "        <span style=\"color: #008000; text-decoration-color: #008000\">\"./fit_vae.sh '1' 'DOVES' 'categorical' 'mlp+b|lin' --seed 5 --method exact\"</span>,\n",
       "        <span style=\"color: #008000; text-decoration-color: #008000\">\"./fit_vae.sh '1' 'CIFAR10-PATCHES' 'categorical' 'lin|lin' --seed 1 --method mc\"</span>,\n",
       "        <span style=\"color: #008000; text-decoration-color: #008000\">\"./fit_vae.sh '1' 'CIFAR10-PATCHES' 'categorical' 'lin|lin' --seed 1 --method exact\"</span>,\n",
       "        <span style=\"color: #008000; text-decoration-color: #008000\">\"./fit_vae.sh '1' 'CIFAR10-PATCHES' 'categorical' 'mlp+b|lin' --seed 1 --method mc\"</span>,\n",
       "        <span style=\"color: #008000; text-decoration-color: #008000\">\"./fit_vae.sh '1' 'CIFAR10-PATCHES' 'categorical' 'mlp+b|lin' --seed 1 --method exact\"</span>,\n",
       "        <span style=\"color: #008000; text-decoration-color: #008000\">\"./fit_vae.sh '1' 'CIFAR10-PATCHES' 'categorical' 'lin|lin' --seed 2 --method mc\"</span>,\n",
       "        <span style=\"color: #008000; text-decoration-color: #008000\">\"./fit_vae.sh '1' 'CIFAR10-PATCHES' 'categorical' 'lin|lin' --seed 2 --method exact\"</span>,\n",
       "        <span style=\"color: #008000; text-decoration-color: #008000\">\"./fit_vae.sh '1' 'CIFAR10-PATCHES' 'categorical' 'mlp+b|lin' --seed 2 --method mc\"</span>,\n",
       "        <span style=\"color: #008000; text-decoration-color: #008000\">\"./fit_vae.sh '1' 'CIFAR10-PATCHES' 'categorical' 'mlp+b|lin' --seed 2 --method exact\"</span>,\n",
       "        <span style=\"color: #008000; text-decoration-color: #008000\">\"./fit_vae.sh '1' 'CIFAR10-PATCHES' 'categorical' 'lin|lin' --seed 3 --method mc\"</span>,\n",
       "        <span style=\"color: #008000; text-decoration-color: #008000\">\"./fit_vae.sh '1' 'CIFAR10-PATCHES' 'categorical' 'lin|lin' --seed 3 --method exact\"</span>,\n",
       "        <span style=\"color: #008000; text-decoration-color: #008000\">\"./fit_vae.sh '1' 'CIFAR10-PATCHES' 'categorical' 'mlp+b|lin' --seed 3 --method mc\"</span>,\n",
       "        <span style=\"color: #008000; text-decoration-color: #008000\">\"./fit_vae.sh '1' 'CIFAR10-PATCHES' 'categorical' 'mlp+b|lin' --seed 3 --method exact\"</span>,\n",
       "        <span style=\"color: #008000; text-decoration-color: #008000\">\"./fit_vae.sh '1' 'CIFAR10-PATCHES' 'categorical' 'lin|lin' --seed 4 --method mc\"</span>,\n",
       "        <span style=\"color: #008000; text-decoration-color: #008000\">\"./fit_vae.sh '1' 'CIFAR10-PATCHES' 'categorical' 'lin|lin' --seed 4 --method exact\"</span>,\n",
       "        <span style=\"color: #008000; text-decoration-color: #008000\">\"./fit_vae.sh '1' 'CIFAR10-PATCHES' 'categorical' 'mlp+b|lin' --seed 4 --method mc\"</span>,\n",
       "        <span style=\"color: #008000; text-decoration-color: #008000\">\"./fit_vae.sh '1' 'CIFAR10-PATCHES' 'categorical' 'mlp+b|lin' --seed 4 --method exact\"</span>,\n",
       "        <span style=\"color: #008000; text-decoration-color: #008000\">\"./fit_vae.sh '1' 'CIFAR10-PATCHES' 'categorical' 'lin|lin' --seed 5 --method mc\"</span>,\n",
       "        <span style=\"color: #008000; text-decoration-color: #008000\">\"./fit_vae.sh '1' 'CIFAR10-PATCHES' 'categorical' 'lin|lin' --seed 5 --method exact\"</span>,\n",
       "        <span style=\"color: #008000; text-decoration-color: #008000\">\"./fit_vae.sh '1' 'CIFAR10-PATCHES' 'categorical' 'mlp+b|lin' --seed 5 --method mc\"</span>,\n",
       "        <span style=\"color: #008000; text-decoration-color: #008000\">\"./fit_vae.sh '1' 'CIFAR10-PATCHES' 'categorical' 'mlp+b|lin' --seed 5 --method exact\"</span>,\n",
       "        <span style=\"color: #008000; text-decoration-color: #008000\">\"./fit_vae.sh '1' 'MNIST' 'categorical' 'lin|lin' --seed 1 --method mc\"</span>,\n",
       "        <span style=\"color: #008000; text-decoration-color: #008000\">\"./fit_vae.sh '1' 'MNIST' 'categorical' 'lin|lin' --seed 1 --method exact\"</span>,\n",
       "        <span style=\"color: #008000; text-decoration-color: #008000\">\"./fit_vae.sh '1' 'MNIST' 'categorical' 'mlp+b|lin' --seed 1 --method mc\"</span>,\n",
       "        <span style=\"color: #008000; text-decoration-color: #008000\">\"./fit_vae.sh '1' 'MNIST' 'categorical' 'mlp+b|lin' --seed 1 --method exact\"</span>,\n",
       "        <span style=\"color: #008000; text-decoration-color: #008000\">\"./fit_vae.sh '1' 'MNIST' 'categorical' 'lin|lin' --seed 2 --method mc\"</span>,\n",
       "        <span style=\"color: #008000; text-decoration-color: #008000\">\"./fit_vae.sh '1' 'MNIST' 'categorical' 'lin|lin' --seed 2 --method exact\"</span>,\n",
       "        <span style=\"color: #008000; text-decoration-color: #008000\">\"./fit_vae.sh '1' 'MNIST' 'categorical' 'mlp+b|lin' --seed 2 --method mc\"</span>,\n",
       "        <span style=\"color: #008000; text-decoration-color: #008000\">\"./fit_vae.sh '1' 'MNIST' 'categorical' 'mlp+b|lin' --seed 2 --method exact\"</span>,\n",
       "        <span style=\"color: #008000; text-decoration-color: #008000\">\"./fit_vae.sh '1' 'MNIST' 'categorical' 'lin|lin' --seed 3 --method mc\"</span>,\n",
       "        <span style=\"color: #008000; text-decoration-color: #008000\">\"./fit_vae.sh '1' 'MNIST' 'categorical' 'lin|lin' --seed 3 --method exact\"</span>,\n",
       "        <span style=\"color: #008000; text-decoration-color: #008000\">\"./fit_vae.sh '1' 'MNIST' 'categorical' 'mlp+b|lin' --seed 3 --method mc\"</span>,\n",
       "        <span style=\"color: #008000; text-decoration-color: #008000\">\"./fit_vae.sh '1' 'MNIST' 'categorical' 'mlp+b|lin' --seed 3 --method exact\"</span>,\n",
       "        <span style=\"color: #008000; text-decoration-color: #008000\">\"./fit_vae.sh '1' 'MNIST' 'categorical' 'lin|lin' --seed 4 --method mc\"</span>,\n",
       "        <span style=\"color: #008000; text-decoration-color: #008000\">\"./fit_vae.sh '1' 'MNIST' 'categorical' 'lin|lin' --seed 4 --method exact\"</span>,\n",
       "        <span style=\"color: #008000; text-decoration-color: #008000\">\"./fit_vae.sh '1' 'MNIST' 'categorical' 'mlp+b|lin' --seed 4 --method mc\"</span>,\n",
       "        <span style=\"color: #008000; text-decoration-color: #008000\">\"./fit_vae.sh '1' 'MNIST' 'categorical' 'mlp+b|lin' --seed 4 --method exact\"</span>,\n",
       "        <span style=\"color: #008000; text-decoration-color: #008000\">\"./fit_vae.sh '1' 'MNIST' 'categorical' 'lin|lin' --seed 5 --method mc\"</span>,\n",
       "        <span style=\"color: #008000; text-decoration-color: #008000\">\"./fit_vae.sh '1' 'MNIST' 'categorical' 'lin|lin' --seed 5 --method exact\"</span>,\n",
       "        <span style=\"color: #008000; text-decoration-color: #008000\">\"./fit_vae.sh '1' 'MNIST' 'categorical' 'mlp+b|lin' --seed 5 --method mc\"</span>,\n",
       "        <span style=\"color: #008000; text-decoration-color: #008000\">\"./fit_vae.sh '1' 'MNIST' 'categorical' 'mlp+b|lin' --seed 5 --method exact\"</span>,\n",
       "        <span style=\"color: #008000; text-decoration-color: #008000\">\"./fit_vae.sh '1' 'DOVES' 'gaussian' 'lin|lin' --seed 1 --latent_act softplus --comment softplus\"</span>,\n",
       "        <span style=\"color: #008000; text-decoration-color: #008000\">\"./fit_vae.sh '1' 'DOVES' 'gaussian' 'mlp+b|lin' --seed 1 --latent_act softplus --comment softplus\"</span>,\n",
       "        <span style=\"color: #008000; text-decoration-color: #008000\">\"./fit_vae.sh '1' 'DOVES' 'gaussian' 'lin|lin' --seed 2 --latent_act softplus --comment softplus\"</span>,\n",
       "        <span style=\"color: #008000; text-decoration-color: #008000\">\"./fit_vae.sh '1' 'DOVES' 'gaussian' 'mlp+b|lin' --seed 2 --latent_act softplus --comment softplus\"</span>,\n",
       "        <span style=\"color: #008000; text-decoration-color: #008000\">\"./fit_vae.sh '1' 'DOVES' 'gaussian' 'lin|lin' --seed 3 --latent_act softplus --comment softplus\"</span>,\n",
       "        <span style=\"color: #008000; text-decoration-color: #008000\">\"./fit_vae.sh '1' 'DOVES' 'gaussian' 'mlp+b|lin' --seed 3 --latent_act softplus --comment softplus\"</span>,\n",
       "        <span style=\"color: #008000; text-decoration-color: #008000\">\"./fit_vae.sh '1' 'DOVES' 'gaussian' 'lin|lin' --seed 4 --latent_act softplus --comment softplus\"</span>,\n",
       "        <span style=\"color: #008000; text-decoration-color: #008000\">\"./fit_vae.sh '1' 'DOVES' 'gaussian' 'mlp+b|lin' --seed 4 --latent_act softplus --comment softplus\"</span>,\n",
       "        <span style=\"color: #008000; text-decoration-color: #008000\">\"./fit_vae.sh '1' 'DOVES' 'gaussian' 'lin|lin' --seed 5 --latent_act softplus --comment softplus\"</span>,\n",
       "        <span style=\"color: #008000; text-decoration-color: #008000\">\"./fit_vae.sh '1' 'DOVES' 'gaussian' 'mlp+b|lin' --seed 5 --latent_act softplus --comment softplus\"</span>,\n",
       "        <span style=\"color: #008000; text-decoration-color: #008000\">\"./fit_vae.sh '1' 'CIFAR10-PATCHES' 'gaussian' 'lin|lin' --seed 1 --latent_act softplus --comment </span>\n",
       "<span style=\"color: #008000; text-decoration-color: #008000\">softplus\"</span>,\n",
       "        <span style=\"color: #008000; text-decoration-color: #008000\">\"./fit_vae.sh '1' 'CIFAR10-PATCHES' 'gaussian' 'mlp+b|lin' --seed 1 --latent_act softplus --comment </span>\n",
       "<span style=\"color: #008000; text-decoration-color: #008000\">softplus\"</span>,\n",
       "        <span style=\"color: #008000; text-decoration-color: #008000\">\"./fit_vae.sh '1' 'CIFAR10-PATCHES' 'gaussian' 'lin|lin' --seed 2 --latent_act softplus --comment </span>\n",
       "<span style=\"color: #008000; text-decoration-color: #008000\">softplus\"</span>,\n",
       "        <span style=\"color: #008000; text-decoration-color: #008000\">\"./fit_vae.sh '1' 'CIFAR10-PATCHES' 'gaussian' 'mlp+b|lin' --seed 2 --latent_act softplus --comment </span>\n",
       "<span style=\"color: #008000; text-decoration-color: #008000\">softplus\"</span>,\n",
       "        <span style=\"color: #008000; text-decoration-color: #008000\">\"./fit_vae.sh '1' 'CIFAR10-PATCHES' 'gaussian' 'lin|lin' --seed 3 --latent_act softplus --comment </span>\n",
       "<span style=\"color: #008000; text-decoration-color: #008000\">softplus\"</span>,\n",
       "        <span style=\"color: #008000; text-decoration-color: #008000\">\"./fit_vae.sh '1' 'CIFAR10-PATCHES' 'gaussian' 'mlp+b|lin' --seed 3 --latent_act softplus --comment </span>\n",
       "<span style=\"color: #008000; text-decoration-color: #008000\">softplus\"</span>,\n",
       "        <span style=\"color: #008000; text-decoration-color: #008000\">\"./fit_vae.sh '1' 'CIFAR10-PATCHES' 'gaussian' 'lin|lin' --seed 4 --latent_act softplus --comment </span>\n",
       "<span style=\"color: #008000; text-decoration-color: #008000\">softplus\"</span>,\n",
       "        <span style=\"color: #008000; text-decoration-color: #008000\">\"./fit_vae.sh '1' 'CIFAR10-PATCHES' 'gaussian' 'mlp+b|lin' --seed 4 --latent_act softplus --comment </span>\n",
       "<span style=\"color: #008000; text-decoration-color: #008000\">softplus\"</span>,\n",
       "        <span style=\"color: #008000; text-decoration-color: #008000\">\"./fit_vae.sh '1' 'CIFAR10-PATCHES' 'gaussian' 'lin|lin' --seed 5 --latent_act softplus --comment </span>\n",
       "<span style=\"color: #008000; text-decoration-color: #008000\">softplus\"</span>,\n",
       "        <span style=\"color: #008000; text-decoration-color: #008000\">\"./fit_vae.sh '1' 'CIFAR10-PATCHES' 'gaussian' 'mlp+b|lin' --seed 5 --latent_act softplus --comment </span>\n",
       "<span style=\"color: #008000; text-decoration-color: #008000\">softplus\"</span>,\n",
       "        <span style=\"color: #008000; text-decoration-color: #008000\">\"./fit_vae.sh '1' 'MNIST' 'gaussian' 'lin|lin' --seed 1 --latent_act softplus --comment softplus\"</span>,\n",
       "        <span style=\"color: #008000; text-decoration-color: #008000\">\"./fit_vae.sh '1' 'MNIST' 'gaussian' 'mlp+b|lin' --seed 1 --latent_act softplus --comment softplus\"</span>,\n",
       "        <span style=\"color: #008000; text-decoration-color: #008000\">\"./fit_vae.sh '1' 'MNIST' 'gaussian' 'lin|lin' --seed 2 --latent_act softplus --comment softplus\"</span>,\n",
       "        <span style=\"color: #008000; text-decoration-color: #008000\">\"./fit_vae.sh '1' 'MNIST' 'gaussian' 'mlp+b|lin' --seed 2 --latent_act softplus --comment softplus\"</span>,\n",
       "        <span style=\"color: #008000; text-decoration-color: #008000\">\"./fit_vae.sh '1' 'MNIST' 'gaussian' 'lin|lin' --seed 3 --latent_act softplus --comment softplus\"</span>,\n",
       "        <span style=\"color: #008000; text-decoration-color: #008000\">\"./fit_vae.sh '1' 'MNIST' 'gaussian' 'mlp+b|lin' --seed 3 --latent_act softplus --comment softplus\"</span>,\n",
       "        <span style=\"color: #008000; text-decoration-color: #008000\">\"./fit_vae.sh '1' 'MNIST' 'gaussian' 'lin|lin' --seed 4 --latent_act softplus --comment softplus\"</span>,\n",
       "        <span style=\"color: #008000; text-decoration-color: #008000\">\"./fit_vae.sh '1' 'MNIST' 'gaussian' 'mlp+b|lin' --seed 4 --latent_act softplus --comment softplus\"</span>,\n",
       "        <span style=\"color: #008000; text-decoration-color: #008000\">\"./fit_vae.sh '1' 'MNIST' 'gaussian' 'lin|lin' --seed 5 --latent_act softplus --comment softplus\"</span>,\n",
       "        <span style=\"color: #008000; text-decoration-color: #008000\">\"./fit_vae.sh '1' 'MNIST' 'gaussian' 'mlp+b|lin' --seed 5 --latent_act softplus --comment softplus\"</span>\n",
       "    <span style=\"font-weight: bold\">]</span>,\n",
       "    <span style=\"color: #008080; text-decoration-color: #008080; font-weight: bold\">2</span>: <span style=\"font-weight: bold\">[</span>\n",
       "        <span style=\"color: #008000; text-decoration-color: #008000\">\"./fit_vae.sh '2' 'DOVES' 'gaussian' 'lin|lin' --seed 1 --method mc\"</span>,\n",
       "        <span style=\"color: #008000; text-decoration-color: #008000\">\"./fit_vae.sh '2' 'DOVES' 'gaussian' 'lin|lin' --seed 1 --method exact\"</span>,\n",
       "        <span style=\"color: #008000; text-decoration-color: #008000\">\"./fit_vae.sh '2' 'DOVES' 'gaussian' 'mlp+b|lin' --seed 1 --method mc\"</span>,\n",
       "        <span style=\"color: #008000; text-decoration-color: #008000\">\"./fit_vae.sh '2' 'DOVES' 'gaussian' 'mlp+b|lin' --seed 1 --method exact\"</span>,\n",
       "        <span style=\"color: #008000; text-decoration-color: #008000\">\"./fit_vae.sh '2' 'DOVES' 'gaussian' 'lin|lin' --seed 2 --method mc\"</span>,\n",
       "        <span style=\"color: #008000; text-decoration-color: #008000\">\"./fit_vae.sh '2' 'DOVES' 'gaussian' 'lin|lin' --seed 2 --method exact\"</span>,\n",
       "        <span style=\"color: #008000; text-decoration-color: #008000\">\"./fit_vae.sh '2' 'DOVES' 'gaussian' 'mlp+b|lin' --seed 2 --method mc\"</span>,\n",
       "        <span style=\"color: #008000; text-decoration-color: #008000\">\"./fit_vae.sh '2' 'DOVES' 'gaussian' 'mlp+b|lin' --seed 2 --method exact\"</span>,\n",
       "        <span style=\"color: #008000; text-decoration-color: #008000\">\"./fit_vae.sh '2' 'DOVES' 'gaussian' 'lin|lin' --seed 3 --method mc\"</span>,\n",
       "        <span style=\"color: #008000; text-decoration-color: #008000\">\"./fit_vae.sh '2' 'DOVES' 'gaussian' 'lin|lin' --seed 3 --method exact\"</span>,\n",
       "        <span style=\"color: #008000; text-decoration-color: #008000\">\"./fit_vae.sh '2' 'DOVES' 'gaussian' 'mlp+b|lin' --seed 3 --method mc\"</span>,\n",
       "        <span style=\"color: #008000; text-decoration-color: #008000\">\"./fit_vae.sh '2' 'DOVES' 'gaussian' 'mlp+b|lin' --seed 3 --method exact\"</span>,\n",
       "        <span style=\"color: #008000; text-decoration-color: #008000\">\"./fit_vae.sh '2' 'DOVES' 'gaussian' 'lin|lin' --seed 4 --method mc\"</span>,\n",
       "        <span style=\"color: #008000; text-decoration-color: #008000\">\"./fit_vae.sh '2' 'DOVES' 'gaussian' 'lin|lin' --seed 4 --method exact\"</span>,\n",
       "        <span style=\"color: #008000; text-decoration-color: #008000\">\"./fit_vae.sh '2' 'DOVES' 'gaussian' 'mlp+b|lin' --seed 4 --method mc\"</span>,\n",
       "        <span style=\"color: #008000; text-decoration-color: #008000\">\"./fit_vae.sh '2' 'DOVES' 'gaussian' 'mlp+b|lin' --seed 4 --method exact\"</span>,\n",
       "        <span style=\"color: #008000; text-decoration-color: #008000\">\"./fit_vae.sh '2' 'DOVES' 'gaussian' 'lin|lin' --seed 5 --method mc\"</span>,\n",
       "        <span style=\"color: #008000; text-decoration-color: #008000\">\"./fit_vae.sh '2' 'DOVES' 'gaussian' 'lin|lin' --seed 5 --method exact\"</span>,\n",
       "        <span style=\"color: #008000; text-decoration-color: #008000\">\"./fit_vae.sh '2' 'DOVES' 'gaussian' 'mlp+b|lin' --seed 5 --method mc\"</span>,\n",
       "        <span style=\"color: #008000; text-decoration-color: #008000\">\"./fit_vae.sh '2' 'DOVES' 'gaussian' 'mlp+b|lin' --seed 5 --method exact\"</span>,\n",
       "        <span style=\"color: #008000; text-decoration-color: #008000\">\"./fit_vae.sh '2' 'CIFAR10-PATCHES' 'gaussian' 'lin|lin' --seed 1 --method mc\"</span>,\n",
       "        <span style=\"color: #008000; text-decoration-color: #008000\">\"./fit_vae.sh '2' 'CIFAR10-PATCHES' 'gaussian' 'lin|lin' --seed 1 --method exact\"</span>,\n",
       "        <span style=\"color: #008000; text-decoration-color: #008000\">\"./fit_vae.sh '2' 'CIFAR10-PATCHES' 'gaussian' 'mlp+b|lin' --seed 1 --method mc\"</span>,\n",
       "        <span style=\"color: #008000; text-decoration-color: #008000\">\"./fit_vae.sh '2' 'CIFAR10-PATCHES' 'gaussian' 'mlp+b|lin' --seed 1 --method exact\"</span>,\n",
       "        <span style=\"color: #008000; text-decoration-color: #008000\">\"./fit_vae.sh '2' 'CIFAR10-PATCHES' 'gaussian' 'lin|lin' --seed 2 --method mc\"</span>,\n",
       "        <span style=\"color: #008000; text-decoration-color: #008000\">\"./fit_vae.sh '2' 'CIFAR10-PATCHES' 'gaussian' 'lin|lin' --seed 2 --method exact\"</span>,\n",
       "        <span style=\"color: #008000; text-decoration-color: #008000\">\"./fit_vae.sh '2' 'CIFAR10-PATCHES' 'gaussian' 'mlp+b|lin' --seed 2 --method mc\"</span>,\n",
       "        <span style=\"color: #008000; text-decoration-color: #008000\">\"./fit_vae.sh '2' 'CIFAR10-PATCHES' 'gaussian' 'mlp+b|lin' --seed 2 --method exact\"</span>,\n",
       "        <span style=\"color: #008000; text-decoration-color: #008000\">\"./fit_vae.sh '2' 'CIFAR10-PATCHES' 'gaussian' 'lin|lin' --seed 3 --method mc\"</span>,\n",
       "        <span style=\"color: #008000; text-decoration-color: #008000\">\"./fit_vae.sh '2' 'CIFAR10-PATCHES' 'gaussian' 'lin|lin' --seed 3 --method exact\"</span>,\n",
       "        <span style=\"color: #008000; text-decoration-color: #008000\">\"./fit_vae.sh '2' 'CIFAR10-PATCHES' 'gaussian' 'mlp+b|lin' --seed 3 --method mc\"</span>,\n",
       "        <span style=\"color: #008000; text-decoration-color: #008000\">\"./fit_vae.sh '2' 'CIFAR10-PATCHES' 'gaussian' 'mlp+b|lin' --seed 3 --method exact\"</span>,\n",
       "        <span style=\"color: #008000; text-decoration-color: #008000\">\"./fit_vae.sh '2' 'CIFAR10-PATCHES' 'gaussian' 'lin|lin' --seed 4 --method mc\"</span>,\n",
       "        <span style=\"color: #008000; text-decoration-color: #008000\">\"./fit_vae.sh '2' 'CIFAR10-PATCHES' 'gaussian' 'lin|lin' --seed 4 --method exact\"</span>,\n",
       "        <span style=\"color: #008000; text-decoration-color: #008000\">\"./fit_vae.sh '2' 'CIFAR10-PATCHES' 'gaussian' 'mlp+b|lin' --seed 4 --method mc\"</span>,\n",
       "        <span style=\"color: #008000; text-decoration-color: #008000\">\"./fit_vae.sh '2' 'CIFAR10-PATCHES' 'gaussian' 'mlp+b|lin' --seed 4 --method exact\"</span>,\n",
       "        <span style=\"color: #008000; text-decoration-color: #008000\">\"./fit_vae.sh '2' 'CIFAR10-PATCHES' 'gaussian' 'lin|lin' --seed 5 --method mc\"</span>,\n",
       "        <span style=\"color: #008000; text-decoration-color: #008000\">\"./fit_vae.sh '2' 'CIFAR10-PATCHES' 'gaussian' 'lin|lin' --seed 5 --method exact\"</span>,\n",
       "        <span style=\"color: #008000; text-decoration-color: #008000\">\"./fit_vae.sh '2' 'CIFAR10-PATCHES' 'gaussian' 'mlp+b|lin' --seed 5 --method mc\"</span>,\n",
       "        <span style=\"color: #008000; text-decoration-color: #008000\">\"./fit_vae.sh '2' 'CIFAR10-PATCHES' 'gaussian' 'mlp+b|lin' --seed 5 --method exact\"</span>,\n",
       "        <span style=\"color: #008000; text-decoration-color: #008000\">\"./fit_vae.sh '2' 'MNIST' 'gaussian' 'lin|lin' --seed 1 --method mc\"</span>,\n",
       "        <span style=\"color: #008000; text-decoration-color: #008000\">\"./fit_vae.sh '2' 'MNIST' 'gaussian' 'lin|lin' --seed 1 --method exact\"</span>,\n",
       "        <span style=\"color: #008000; text-decoration-color: #008000\">\"./fit_vae.sh '2' 'MNIST' 'gaussian' 'mlp+b|lin' --seed 1 --method mc\"</span>,\n",
       "        <span style=\"color: #008000; text-decoration-color: #008000\">\"./fit_vae.sh '2' 'MNIST' 'gaussian' 'mlp+b|lin' --seed 1 --method exact\"</span>,\n",
       "        <span style=\"color: #008000; text-decoration-color: #008000\">\"./fit_vae.sh '2' 'MNIST' 'gaussian' 'lin|lin' --seed 2 --method mc\"</span>,\n",
       "        <span style=\"color: #008000; text-decoration-color: #008000\">\"./fit_vae.sh '2' 'MNIST' 'gaussian' 'lin|lin' --seed 2 --method exact\"</span>,\n",
       "        <span style=\"color: #008000; text-decoration-color: #008000\">\"./fit_vae.sh '2' 'MNIST' 'gaussian' 'mlp+b|lin' --seed 2 --method mc\"</span>,\n",
       "        <span style=\"color: #008000; text-decoration-color: #008000\">\"./fit_vae.sh '2' 'MNIST' 'gaussian' 'mlp+b|lin' --seed 2 --method exact\"</span>,\n",
       "        <span style=\"color: #008000; text-decoration-color: #008000\">\"./fit_vae.sh '2' 'MNIST' 'gaussian' 'lin|lin' --seed 3 --method mc\"</span>,\n",
       "        <span style=\"color: #008000; text-decoration-color: #008000\">\"./fit_vae.sh '2' 'MNIST' 'gaussian' 'lin|lin' --seed 3 --method exact\"</span>,\n",
       "        <span style=\"color: #008000; text-decoration-color: #008000\">\"./fit_vae.sh '2' 'MNIST' 'gaussian' 'mlp+b|lin' --seed 3 --method mc\"</span>,\n",
       "        <span style=\"color: #008000; text-decoration-color: #008000\">\"./fit_vae.sh '2' 'MNIST' 'gaussian' 'mlp+b|lin' --seed 3 --method exact\"</span>,\n",
       "        <span style=\"color: #008000; text-decoration-color: #008000\">\"./fit_vae.sh '2' 'MNIST' 'gaussian' 'lin|lin' --seed 4 --method mc\"</span>,\n",
       "        <span style=\"color: #008000; text-decoration-color: #008000\">\"./fit_vae.sh '2' 'MNIST' 'gaussian' 'lin|lin' --seed 4 --method exact\"</span>,\n",
       "        <span style=\"color: #008000; text-decoration-color: #008000\">\"./fit_vae.sh '2' 'MNIST' 'gaussian' 'mlp+b|lin' --seed 4 --method mc\"</span>,\n",
       "        <span style=\"color: #008000; text-decoration-color: #008000\">\"./fit_vae.sh '2' 'MNIST' 'gaussian' 'mlp+b|lin' --seed 4 --method exact\"</span>,\n",
       "        <span style=\"color: #008000; text-decoration-color: #008000\">\"./fit_vae.sh '2' 'MNIST' 'gaussian' 'lin|lin' --seed 5 --method mc\"</span>,\n",
       "        <span style=\"color: #008000; text-decoration-color: #008000\">\"./fit_vae.sh '2' 'MNIST' 'gaussian' 'lin|lin' --seed 5 --method exact\"</span>,\n",
       "        <span style=\"color: #008000; text-decoration-color: #008000\">\"./fit_vae.sh '2' 'MNIST' 'gaussian' 'mlp+b|lin' --seed 5 --method mc\"</span>,\n",
       "        <span style=\"color: #008000; text-decoration-color: #008000\">\"./fit_vae.sh '2' 'MNIST' 'gaussian' 'mlp+b|lin' --seed 5 --method exact\"</span>,\n",
       "        <span style=\"color: #008000; text-decoration-color: #008000\">\"./fit_vae.sh '2' 'DOVES' 'gaussian' 'lin|lin' --seed 1 --latent_act square --comment square\"</span>,\n",
       "        <span style=\"color: #008000; text-decoration-color: #008000\">\"./fit_vae.sh '2' 'DOVES' 'gaussian' 'mlp+b|lin' --seed 1 --latent_act square --comment square\"</span>,\n",
       "        <span style=\"color: #008000; text-decoration-color: #008000\">\"./fit_vae.sh '2' 'DOVES' 'gaussian' 'lin|lin' --seed 2 --latent_act square --comment square\"</span>,\n",
       "        <span style=\"color: #008000; text-decoration-color: #008000\">\"./fit_vae.sh '2' 'DOVES' 'gaussian' 'mlp+b|lin' --seed 2 --latent_act square --comment square\"</span>,\n",
       "        <span style=\"color: #008000; text-decoration-color: #008000\">\"./fit_vae.sh '2' 'DOVES' 'gaussian' 'lin|lin' --seed 3 --latent_act square --comment square\"</span>,\n",
       "        <span style=\"color: #008000; text-decoration-color: #008000\">\"./fit_vae.sh '2' 'DOVES' 'gaussian' 'mlp+b|lin' --seed 3 --latent_act square --comment square\"</span>,\n",
       "        <span style=\"color: #008000; text-decoration-color: #008000\">\"./fit_vae.sh '2' 'DOVES' 'gaussian' 'lin|lin' --seed 4 --latent_act square --comment square\"</span>,\n",
       "        <span style=\"color: #008000; text-decoration-color: #008000\">\"./fit_vae.sh '2' 'DOVES' 'gaussian' 'mlp+b|lin' --seed 4 --latent_act square --comment square\"</span>,\n",
       "        <span style=\"color: #008000; text-decoration-color: #008000\">\"./fit_vae.sh '2' 'DOVES' 'gaussian' 'lin|lin' --seed 5 --latent_act square --comment square\"</span>,\n",
       "        <span style=\"color: #008000; text-decoration-color: #008000\">\"./fit_vae.sh '2' 'DOVES' 'gaussian' 'mlp+b|lin' --seed 5 --latent_act square --comment square\"</span>,\n",
       "        <span style=\"color: #008000; text-decoration-color: #008000\">\"./fit_vae.sh '2' 'CIFAR10-PATCHES' 'gaussian' 'lin|lin' --seed 1 --latent_act square --comment square\"</span>,\n",
       "        <span style=\"color: #008000; text-decoration-color: #008000\">\"./fit_vae.sh '2' 'CIFAR10-PATCHES' 'gaussian' 'mlp+b|lin' --seed 1 --latent_act square --comment square\"</span>,\n",
       "        <span style=\"color: #008000; text-decoration-color: #008000\">\"./fit_vae.sh '2' 'CIFAR10-PATCHES' 'gaussian' 'lin|lin' --seed 2 --latent_act square --comment square\"</span>,\n",
       "        <span style=\"color: #008000; text-decoration-color: #008000\">\"./fit_vae.sh '2' 'CIFAR10-PATCHES' 'gaussian' 'mlp+b|lin' --seed 2 --latent_act square --comment square\"</span>,\n",
       "        <span style=\"color: #008000; text-decoration-color: #008000\">\"./fit_vae.sh '2' 'CIFAR10-PATCHES' 'gaussian' 'lin|lin' --seed 3 --latent_act square --comment square\"</span>,\n",
       "        <span style=\"color: #008000; text-decoration-color: #008000\">\"./fit_vae.sh '2' 'CIFAR10-PATCHES' 'gaussian' 'mlp+b|lin' --seed 3 --latent_act square --comment square\"</span>,\n",
       "        <span style=\"color: #008000; text-decoration-color: #008000\">\"./fit_vae.sh '2' 'CIFAR10-PATCHES' 'gaussian' 'lin|lin' --seed 4 --latent_act square --comment square\"</span>,\n",
       "        <span style=\"color: #008000; text-decoration-color: #008000\">\"./fit_vae.sh '2' 'CIFAR10-PATCHES' 'gaussian' 'mlp+b|lin' --seed 4 --latent_act square --comment square\"</span>,\n",
       "        <span style=\"color: #008000; text-decoration-color: #008000\">\"./fit_vae.sh '2' 'CIFAR10-PATCHES' 'gaussian' 'lin|lin' --seed 5 --latent_act square --comment square\"</span>,\n",
       "        <span style=\"color: #008000; text-decoration-color: #008000\">\"./fit_vae.sh '2' 'CIFAR10-PATCHES' 'gaussian' 'mlp+b|lin' --seed 5 --latent_act square --comment square\"</span>,\n",
       "        <span style=\"color: #008000; text-decoration-color: #008000\">\"./fit_vae.sh '2' 'MNIST' 'gaussian' 'lin|lin' --seed 1 --latent_act square --comment square\"</span>,\n",
       "        <span style=\"color: #008000; text-decoration-color: #008000\">\"./fit_vae.sh '2' 'MNIST' 'gaussian' 'mlp+b|lin' --seed 1 --latent_act square --comment square\"</span>,\n",
       "        <span style=\"color: #008000; text-decoration-color: #008000\">\"./fit_vae.sh '2' 'MNIST' 'gaussian' 'lin|lin' --seed 2 --latent_act square --comment square\"</span>,\n",
       "        <span style=\"color: #008000; text-decoration-color: #008000\">\"./fit_vae.sh '2' 'MNIST' 'gaussian' 'mlp+b|lin' --seed 2 --latent_act square --comment square\"</span>,\n",
       "        <span style=\"color: #008000; text-decoration-color: #008000\">\"./fit_vae.sh '2' 'MNIST' 'gaussian' 'lin|lin' --seed 3 --latent_act square --comment square\"</span>,\n",
       "        <span style=\"color: #008000; text-decoration-color: #008000\">\"./fit_vae.sh '2' 'MNIST' 'gaussian' 'mlp+b|lin' --seed 3 --latent_act square --comment square\"</span>,\n",
       "        <span style=\"color: #008000; text-decoration-color: #008000\">\"./fit_vae.sh '2' 'MNIST' 'gaussian' 'lin|lin' --seed 4 --latent_act square --comment square\"</span>,\n",
       "        <span style=\"color: #008000; text-decoration-color: #008000\">\"./fit_vae.sh '2' 'MNIST' 'gaussian' 'mlp+b|lin' --seed 4 --latent_act square --comment square\"</span>,\n",
       "        <span style=\"color: #008000; text-decoration-color: #008000\">\"./fit_vae.sh '2' 'MNIST' 'gaussian' 'lin|lin' --seed 5 --latent_act square --comment square\"</span>,\n",
       "        <span style=\"color: #008000; text-decoration-color: #008000\">\"./fit_vae.sh '2' 'MNIST' 'gaussian' 'mlp+b|lin' --seed 5 --latent_act square --comment square\"</span>\n",
       "    <span style=\"font-weight: bold\">]</span>,\n",
       "    <span style=\"color: #008080; text-decoration-color: #008080; font-weight: bold\">3</span>: <span style=\"font-weight: bold\">[</span>\n",
       "        <span style=\"color: #008000; text-decoration-color: #008000\">\"./fit_vae.sh '3' 'DOVES' 'laplace' 'lin|lin' --seed 1 --method mc\"</span>,\n",
       "        <span style=\"color: #008000; text-decoration-color: #008000\">\"./fit_vae.sh '3' 'DOVES' 'laplace' 'lin|lin' --seed 1 --method exact\"</span>,\n",
       "        <span style=\"color: #008000; text-decoration-color: #008000\">\"./fit_vae.sh '3' 'DOVES' 'laplace' 'mlp+b|lin' --seed 1 --method mc\"</span>,\n",
       "        <span style=\"color: #008000; text-decoration-color: #008000\">\"./fit_vae.sh '3' 'DOVES' 'laplace' 'mlp+b|lin' --seed 1 --method exact\"</span>,\n",
       "        <span style=\"color: #008000; text-decoration-color: #008000\">\"./fit_vae.sh '3' 'DOVES' 'laplace' 'lin|lin' --seed 2 --method mc\"</span>,\n",
       "        <span style=\"color: #008000; text-decoration-color: #008000\">\"./fit_vae.sh '3' 'DOVES' 'laplace' 'lin|lin' --seed 2 --method exact\"</span>,\n",
       "        <span style=\"color: #008000; text-decoration-color: #008000\">\"./fit_vae.sh '3' 'DOVES' 'laplace' 'mlp+b|lin' --seed 2 --method mc\"</span>,\n",
       "        <span style=\"color: #008000; text-decoration-color: #008000\">\"./fit_vae.sh '3' 'DOVES' 'laplace' 'mlp+b|lin' --seed 2 --method exact\"</span>,\n",
       "        <span style=\"color: #008000; text-decoration-color: #008000\">\"./fit_vae.sh '3' 'DOVES' 'laplace' 'lin|lin' --seed 3 --method mc\"</span>,\n",
       "        <span style=\"color: #008000; text-decoration-color: #008000\">\"./fit_vae.sh '3' 'DOVES' 'laplace' 'lin|lin' --seed 3 --method exact\"</span>,\n",
       "        <span style=\"color: #008000; text-decoration-color: #008000\">\"./fit_vae.sh '3' 'DOVES' 'laplace' 'mlp+b|lin' --seed 3 --method mc\"</span>,\n",
       "        <span style=\"color: #008000; text-decoration-color: #008000\">\"./fit_vae.sh '3' 'DOVES' 'laplace' 'mlp+b|lin' --seed 3 --method exact\"</span>,\n",
       "        <span style=\"color: #008000; text-decoration-color: #008000\">\"./fit_vae.sh '3' 'DOVES' 'laplace' 'lin|lin' --seed 4 --method mc\"</span>,\n",
       "        <span style=\"color: #008000; text-decoration-color: #008000\">\"./fit_vae.sh '3' 'DOVES' 'laplace' 'lin|lin' --seed 4 --method exact\"</span>,\n",
       "        <span style=\"color: #008000; text-decoration-color: #008000\">\"./fit_vae.sh '3' 'DOVES' 'laplace' 'mlp+b|lin' --seed 4 --method mc\"</span>,\n",
       "        <span style=\"color: #008000; text-decoration-color: #008000\">\"./fit_vae.sh '3' 'DOVES' 'laplace' 'mlp+b|lin' --seed 4 --method exact\"</span>,\n",
       "        <span style=\"color: #008000; text-decoration-color: #008000\">\"./fit_vae.sh '3' 'DOVES' 'laplace' 'lin|lin' --seed 5 --method mc\"</span>,\n",
       "        <span style=\"color: #008000; text-decoration-color: #008000\">\"./fit_vae.sh '3' 'DOVES' 'laplace' 'lin|lin' --seed 5 --method exact\"</span>,\n",
       "        <span style=\"color: #008000; text-decoration-color: #008000\">\"./fit_vae.sh '3' 'DOVES' 'laplace' 'mlp+b|lin' --seed 5 --method mc\"</span>,\n",
       "        <span style=\"color: #008000; text-decoration-color: #008000\">\"./fit_vae.sh '3' 'DOVES' 'laplace' 'mlp+b|lin' --seed 5 --method exact\"</span>,\n",
       "        <span style=\"color: #008000; text-decoration-color: #008000\">\"./fit_vae.sh '3' 'CIFAR10-PATCHES' 'laplace' 'lin|lin' --seed 1 --method mc\"</span>,\n",
       "        <span style=\"color: #008000; text-decoration-color: #008000\">\"./fit_vae.sh '3' 'CIFAR10-PATCHES' 'laplace' 'lin|lin' --seed 1 --method exact\"</span>,\n",
       "        <span style=\"color: #008000; text-decoration-color: #008000\">\"./fit_vae.sh '3' 'CIFAR10-PATCHES' 'laplace' 'mlp+b|lin' --seed 1 --method mc\"</span>,\n",
       "        <span style=\"color: #008000; text-decoration-color: #008000\">\"./fit_vae.sh '3' 'CIFAR10-PATCHES' 'laplace' 'mlp+b|lin' --seed 1 --method exact\"</span>,\n",
       "        <span style=\"color: #008000; text-decoration-color: #008000\">\"./fit_vae.sh '3' 'CIFAR10-PATCHES' 'laplace' 'lin|lin' --seed 2 --method mc\"</span>,\n",
       "        <span style=\"color: #008000; text-decoration-color: #008000\">\"./fit_vae.sh '3' 'CIFAR10-PATCHES' 'laplace' 'lin|lin' --seed 2 --method exact\"</span>,\n",
       "        <span style=\"color: #008000; text-decoration-color: #008000\">\"./fit_vae.sh '3' 'CIFAR10-PATCHES' 'laplace' 'mlp+b|lin' --seed 2 --method mc\"</span>,\n",
       "        <span style=\"color: #008000; text-decoration-color: #008000\">\"./fit_vae.sh '3' 'CIFAR10-PATCHES' 'laplace' 'mlp+b|lin' --seed 2 --method exact\"</span>,\n",
       "        <span style=\"color: #008000; text-decoration-color: #008000\">\"./fit_vae.sh '3' 'CIFAR10-PATCHES' 'laplace' 'lin|lin' --seed 3 --method mc\"</span>,\n",
       "        <span style=\"color: #008000; text-decoration-color: #008000\">\"./fit_vae.sh '3' 'CIFAR10-PATCHES' 'laplace' 'lin|lin' --seed 3 --method exact\"</span>,\n",
       "        <span style=\"color: #008000; text-decoration-color: #008000\">\"./fit_vae.sh '3' 'CIFAR10-PATCHES' 'laplace' 'mlp+b|lin' --seed 3 --method mc\"</span>,\n",
       "        <span style=\"color: #008000; text-decoration-color: #008000\">\"./fit_vae.sh '3' 'CIFAR10-PATCHES' 'laplace' 'mlp+b|lin' --seed 3 --method exact\"</span>,\n",
       "        <span style=\"color: #008000; text-decoration-color: #008000\">\"./fit_vae.sh '3' 'CIFAR10-PATCHES' 'laplace' 'lin|lin' --seed 4 --method mc\"</span>,\n",
       "        <span style=\"color: #008000; text-decoration-color: #008000\">\"./fit_vae.sh '3' 'CIFAR10-PATCHES' 'laplace' 'lin|lin' --seed 4 --method exact\"</span>,\n",
       "        <span style=\"color: #008000; text-decoration-color: #008000\">\"./fit_vae.sh '3' 'CIFAR10-PATCHES' 'laplace' 'mlp+b|lin' --seed 4 --method mc\"</span>,\n",
       "        <span style=\"color: #008000; text-decoration-color: #008000\">\"./fit_vae.sh '3' 'CIFAR10-PATCHES' 'laplace' 'mlp+b|lin' --seed 4 --method exact\"</span>,\n",
       "        <span style=\"color: #008000; text-decoration-color: #008000\">\"./fit_vae.sh '3' 'CIFAR10-PATCHES' 'laplace' 'lin|lin' --seed 5 --method mc\"</span>,\n",
       "        <span style=\"color: #008000; text-decoration-color: #008000\">\"./fit_vae.sh '3' 'CIFAR10-PATCHES' 'laplace' 'lin|lin' --seed 5 --method exact\"</span>,\n",
       "        <span style=\"color: #008000; text-decoration-color: #008000\">\"./fit_vae.sh '3' 'CIFAR10-PATCHES' 'laplace' 'mlp+b|lin' --seed 5 --method mc\"</span>,\n",
       "        <span style=\"color: #008000; text-decoration-color: #008000\">\"./fit_vae.sh '3' 'CIFAR10-PATCHES' 'laplace' 'mlp+b|lin' --seed 5 --method exact\"</span>,\n",
       "        <span style=\"color: #008000; text-decoration-color: #008000\">\"./fit_vae.sh '3' 'MNIST' 'laplace' 'lin|lin' --seed 1 --method mc\"</span>,\n",
       "        <span style=\"color: #008000; text-decoration-color: #008000\">\"./fit_vae.sh '3' 'MNIST' 'laplace' 'lin|lin' --seed 1 --method exact\"</span>,\n",
       "        <span style=\"color: #008000; text-decoration-color: #008000\">\"./fit_vae.sh '3' 'MNIST' 'laplace' 'mlp+b|lin' --seed 1 --method mc\"</span>,\n",
       "        <span style=\"color: #008000; text-decoration-color: #008000\">\"./fit_vae.sh '3' 'MNIST' 'laplace' 'mlp+b|lin' --seed 1 --method exact\"</span>,\n",
       "        <span style=\"color: #008000; text-decoration-color: #008000\">\"./fit_vae.sh '3' 'MNIST' 'laplace' 'lin|lin' --seed 2 --method mc\"</span>,\n",
       "        <span style=\"color: #008000; text-decoration-color: #008000\">\"./fit_vae.sh '3' 'MNIST' 'laplace' 'lin|lin' --seed 2 --method exact\"</span>,\n",
       "        <span style=\"color: #008000; text-decoration-color: #008000\">\"./fit_vae.sh '3' 'MNIST' 'laplace' 'mlp+b|lin' --seed 2 --method mc\"</span>,\n",
       "        <span style=\"color: #008000; text-decoration-color: #008000\">\"./fit_vae.sh '3' 'MNIST' 'laplace' 'mlp+b|lin' --seed 2 --method exact\"</span>,\n",
       "        <span style=\"color: #008000; text-decoration-color: #008000\">\"./fit_vae.sh '3' 'MNIST' 'laplace' 'lin|lin' --seed 3 --method mc\"</span>,\n",
       "        <span style=\"color: #008000; text-decoration-color: #008000\">\"./fit_vae.sh '3' 'MNIST' 'laplace' 'lin|lin' --seed 3 --method exact\"</span>,\n",
       "        <span style=\"color: #008000; text-decoration-color: #008000\">\"./fit_vae.sh '3' 'MNIST' 'laplace' 'mlp+b|lin' --seed 3 --method mc\"</span>,\n",
       "        <span style=\"color: #008000; text-decoration-color: #008000\">\"./fit_vae.sh '3' 'MNIST' 'laplace' 'mlp+b|lin' --seed 3 --method exact\"</span>,\n",
       "        <span style=\"color: #008000; text-decoration-color: #008000\">\"./fit_vae.sh '3' 'MNIST' 'laplace' 'lin|lin' --seed 4 --method mc\"</span>,\n",
       "        <span style=\"color: #008000; text-decoration-color: #008000\">\"./fit_vae.sh '3' 'MNIST' 'laplace' 'lin|lin' --seed 4 --method exact\"</span>,\n",
       "        <span style=\"color: #008000; text-decoration-color: #008000\">\"./fit_vae.sh '3' 'MNIST' 'laplace' 'mlp+b|lin' --seed 4 --method mc\"</span>,\n",
       "        <span style=\"color: #008000; text-decoration-color: #008000\">\"./fit_vae.sh '3' 'MNIST' 'laplace' 'mlp+b|lin' --seed 4 --method exact\"</span>,\n",
       "        <span style=\"color: #008000; text-decoration-color: #008000\">\"./fit_vae.sh '3' 'MNIST' 'laplace' 'lin|lin' --seed 5 --method mc\"</span>,\n",
       "        <span style=\"color: #008000; text-decoration-color: #008000\">\"./fit_vae.sh '3' 'MNIST' 'laplace' 'lin|lin' --seed 5 --method exact\"</span>,\n",
       "        <span style=\"color: #008000; text-decoration-color: #008000\">\"./fit_vae.sh '3' 'MNIST' 'laplace' 'mlp+b|lin' --seed 5 --method mc\"</span>,\n",
       "        <span style=\"color: #008000; text-decoration-color: #008000\">\"./fit_vae.sh '3' 'MNIST' 'laplace' 'mlp+b|lin' --seed 5 --method exact\"</span>,\n",
       "        <span style=\"color: #008000; text-decoration-color: #008000\">\"./fit_vae.sh '3' 'DOVES' 'gaussian' 'lin|lin' --seed 1 --latent_act exp --comment exp --init_scale </span>\n",
       "<span style=\"color: #008000; text-decoration-color: #008000\">0.0001\"</span>,\n",
       "        <span style=\"color: #008000; text-decoration-color: #008000\">\"./fit_vae.sh '3' 'DOVES' 'gaussian' 'mlp+b|lin' --seed 1 --latent_act exp --comment exp --init_scale </span>\n",
       "<span style=\"color: #008000; text-decoration-color: #008000\">0.0001\"</span>,\n",
       "        <span style=\"color: #008000; text-decoration-color: #008000\">\"./fit_vae.sh '3' 'DOVES' 'gaussian' 'lin|lin' --seed 2 --latent_act exp --comment exp --init_scale </span>\n",
       "<span style=\"color: #008000; text-decoration-color: #008000\">0.0001\"</span>,\n",
       "        <span style=\"color: #008000; text-decoration-color: #008000\">\"./fit_vae.sh '3' 'DOVES' 'gaussian' 'mlp+b|lin' --seed 2 --latent_act exp --comment exp --init_scale </span>\n",
       "<span style=\"color: #008000; text-decoration-color: #008000\">0.0001\"</span>,\n",
       "        <span style=\"color: #008000; text-decoration-color: #008000\">\"./fit_vae.sh '3' 'DOVES' 'gaussian' 'lin|lin' --seed 3 --latent_act exp --comment exp --init_scale </span>\n",
       "<span style=\"color: #008000; text-decoration-color: #008000\">0.0001\"</span>,\n",
       "        <span style=\"color: #008000; text-decoration-color: #008000\">\"./fit_vae.sh '3' 'DOVES' 'gaussian' 'mlp+b|lin' --seed 3 --latent_act exp --comment exp --init_scale </span>\n",
       "<span style=\"color: #008000; text-decoration-color: #008000\">0.0001\"</span>,\n",
       "        <span style=\"color: #008000; text-decoration-color: #008000\">\"./fit_vae.sh '3' 'DOVES' 'gaussian' 'lin|lin' --seed 4 --latent_act exp --comment exp --init_scale </span>\n",
       "<span style=\"color: #008000; text-decoration-color: #008000\">0.0001\"</span>,\n",
       "        <span style=\"color: #008000; text-decoration-color: #008000\">\"./fit_vae.sh '3' 'DOVES' 'gaussian' 'mlp+b|lin' --seed 4 --latent_act exp --comment exp --init_scale </span>\n",
       "<span style=\"color: #008000; text-decoration-color: #008000\">0.0001\"</span>,\n",
       "        <span style=\"color: #008000; text-decoration-color: #008000\">\"./fit_vae.sh '3' 'DOVES' 'gaussian' 'lin|lin' --seed 5 --latent_act exp --comment exp --init_scale </span>\n",
       "<span style=\"color: #008000; text-decoration-color: #008000\">0.0001\"</span>,\n",
       "        <span style=\"color: #008000; text-decoration-color: #008000\">\"./fit_vae.sh '3' 'DOVES' 'gaussian' 'mlp+b|lin' --seed 5 --latent_act exp --comment exp --init_scale </span>\n",
       "<span style=\"color: #008000; text-decoration-color: #008000\">0.0001\"</span>,\n",
       "        <span style=\"color: #008000; text-decoration-color: #008000\">\"./fit_vae.sh '3' 'CIFAR10-PATCHES' 'gaussian' 'lin|lin' --seed 1 --latent_act exp --comment exp </span>\n",
       "<span style=\"color: #008000; text-decoration-color: #008000\">--init_scale 0.0001\"</span>,\n",
       "        <span style=\"color: #008000; text-decoration-color: #008000\">\"./fit_vae.sh '3' 'CIFAR10-PATCHES' 'gaussian' 'mlp+b|lin' --seed 1 --latent_act exp --comment exp </span>\n",
       "<span style=\"color: #008000; text-decoration-color: #008000\">--init_scale 0.0001\"</span>,\n",
       "        <span style=\"color: #008000; text-decoration-color: #008000\">\"./fit_vae.sh '3' 'CIFAR10-PATCHES' 'gaussian' 'lin|lin' --seed 2 --latent_act exp --comment exp </span>\n",
       "<span style=\"color: #008000; text-decoration-color: #008000\">--init_scale 0.0001\"</span>,\n",
       "        <span style=\"color: #008000; text-decoration-color: #008000\">\"./fit_vae.sh '3' 'CIFAR10-PATCHES' 'gaussian' 'mlp+b|lin' --seed 2 --latent_act exp --comment exp </span>\n",
       "<span style=\"color: #008000; text-decoration-color: #008000\">--init_scale 0.0001\"</span>,\n",
       "        <span style=\"color: #008000; text-decoration-color: #008000\">\"./fit_vae.sh '3' 'CIFAR10-PATCHES' 'gaussian' 'lin|lin' --seed 3 --latent_act exp --comment exp </span>\n",
       "<span style=\"color: #008000; text-decoration-color: #008000\">--init_scale 0.0001\"</span>,\n",
       "        <span style=\"color: #008000; text-decoration-color: #008000\">\"./fit_vae.sh '3' 'CIFAR10-PATCHES' 'gaussian' 'mlp+b|lin' --seed 3 --latent_act exp --comment exp </span>\n",
       "<span style=\"color: #008000; text-decoration-color: #008000\">--init_scale 0.0001\"</span>,\n",
       "        <span style=\"color: #008000; text-decoration-color: #008000\">\"./fit_vae.sh '3' 'CIFAR10-PATCHES' 'gaussian' 'lin|lin' --seed 4 --latent_act exp --comment exp </span>\n",
       "<span style=\"color: #008000; text-decoration-color: #008000\">--init_scale 0.0001\"</span>,\n",
       "        <span style=\"color: #008000; text-decoration-color: #008000\">\"./fit_vae.sh '3' 'CIFAR10-PATCHES' 'gaussian' 'mlp+b|lin' --seed 4 --latent_act exp --comment exp </span>\n",
       "<span style=\"color: #008000; text-decoration-color: #008000\">--init_scale 0.0001\"</span>,\n",
       "        <span style=\"color: #008000; text-decoration-color: #008000\">\"./fit_vae.sh '3' 'CIFAR10-PATCHES' 'gaussian' 'lin|lin' --seed 5 --latent_act exp --comment exp </span>\n",
       "<span style=\"color: #008000; text-decoration-color: #008000\">--init_scale 0.0001\"</span>,\n",
       "        <span style=\"color: #008000; text-decoration-color: #008000\">\"./fit_vae.sh '3' 'CIFAR10-PATCHES' 'gaussian' 'mlp+b|lin' --seed 5 --latent_act exp --comment exp </span>\n",
       "<span style=\"color: #008000; text-decoration-color: #008000\">--init_scale 0.0001\"</span>,\n",
       "        <span style=\"color: #008000; text-decoration-color: #008000\">\"./fit_vae.sh '3' 'MNIST' 'gaussian' 'lin|lin' --seed 1 --latent_act exp --comment exp --init_scale </span>\n",
       "<span style=\"color: #008000; text-decoration-color: #008000\">0.0001\"</span>,\n",
       "        <span style=\"color: #008000; text-decoration-color: #008000\">\"./fit_vae.sh '3' 'MNIST' 'gaussian' 'mlp+b|lin' --seed 1 --latent_act exp --comment exp --init_scale </span>\n",
       "<span style=\"color: #008000; text-decoration-color: #008000\">0.0001\"</span>,\n",
       "        <span style=\"color: #008000; text-decoration-color: #008000\">\"./fit_vae.sh '3' 'MNIST' 'gaussian' 'lin|lin' --seed 2 --latent_act exp --comment exp --init_scale </span>\n",
       "<span style=\"color: #008000; text-decoration-color: #008000\">0.0001\"</span>,\n",
       "        <span style=\"color: #008000; text-decoration-color: #008000\">\"./fit_vae.sh '3' 'MNIST' 'gaussian' 'mlp+b|lin' --seed 2 --latent_act exp --comment exp --init_scale </span>\n",
       "<span style=\"color: #008000; text-decoration-color: #008000\">0.0001\"</span>,\n",
       "        <span style=\"color: #008000; text-decoration-color: #008000\">\"./fit_vae.sh '3' 'MNIST' 'gaussian' 'lin|lin' --seed 3 --latent_act exp --comment exp --init_scale </span>\n",
       "<span style=\"color: #008000; text-decoration-color: #008000\">0.0001\"</span>,\n",
       "        <span style=\"color: #008000; text-decoration-color: #008000\">\"./fit_vae.sh '3' 'MNIST' 'gaussian' 'mlp+b|lin' --seed 3 --latent_act exp --comment exp --init_scale </span>\n",
       "<span style=\"color: #008000; text-decoration-color: #008000\">0.0001\"</span>,\n",
       "        <span style=\"color: #008000; text-decoration-color: #008000\">\"./fit_vae.sh '3' 'MNIST' 'gaussian' 'lin|lin' --seed 4 --latent_act exp --comment exp --init_scale </span>\n",
       "<span style=\"color: #008000; text-decoration-color: #008000\">0.0001\"</span>,\n",
       "        <span style=\"color: #008000; text-decoration-color: #008000\">\"./fit_vae.sh '3' 'MNIST' 'gaussian' 'mlp+b|lin' --seed 4 --latent_act exp --comment exp --init_scale </span>\n",
       "<span style=\"color: #008000; text-decoration-color: #008000\">0.0001\"</span>,\n",
       "        <span style=\"color: #008000; text-decoration-color: #008000\">\"./fit_vae.sh '3' 'MNIST' 'gaussian' 'lin|lin' --seed 5 --latent_act exp --comment exp --init_scale </span>\n",
       "<span style=\"color: #008000; text-decoration-color: #008000\">0.0001\"</span>,\n",
       "        <span style=\"color: #008000; text-decoration-color: #008000\">\"./fit_vae.sh '3' 'MNIST' 'gaussian' 'mlp+b|lin' --seed 5 --latent_act exp --comment exp --init_scale </span>\n",
       "<span style=\"color: #008000; text-decoration-color: #008000\">0.0001\"</span>\n",
       "    <span style=\"font-weight: bold\">]</span>\n",
       "<span style=\"font-weight: bold\">}</span>\n",
       "</pre>\n"
      ],
      "text/plain": [
       "\u001b[1m{\u001b[0m\n",
       "    \u001b[1;36m0\u001b[0m: \u001b[1m[\u001b[0m\n",
       "        \u001b[32m\"./fit_vae.sh '0' 'DOVES' 'poisson' 'lin|lin' --seed 1 --method mc\"\u001b[0m,\n",
       "        \u001b[32m\"./fit_vae.sh '0' 'DOVES' 'poisson' 'lin|lin' --seed 1 --method exact\"\u001b[0m,\n",
       "        \u001b[32m\"./fit_vae.sh '0' 'DOVES' 'poisson' 'mlp+b|lin' --seed 1 --method mc\"\u001b[0m,\n",
       "        \u001b[32m\"./fit_vae.sh '0' 'DOVES' 'poisson' 'mlp+b|lin' --seed 1 --method exact\"\u001b[0m,\n",
       "        \u001b[32m\"./fit_vae.sh '0' 'DOVES' 'poisson' 'lin|lin' --seed 2 --method mc\"\u001b[0m,\n",
       "        \u001b[32m\"./fit_vae.sh '0' 'DOVES' 'poisson' 'lin|lin' --seed 2 --method exact\"\u001b[0m,\n",
       "        \u001b[32m\"./fit_vae.sh '0' 'DOVES' 'poisson' 'mlp+b|lin' --seed 2 --method mc\"\u001b[0m,\n",
       "        \u001b[32m\"./fit_vae.sh '0' 'DOVES' 'poisson' 'mlp+b|lin' --seed 2 --method exact\"\u001b[0m,\n",
       "        \u001b[32m\"./fit_vae.sh '0' 'DOVES' 'poisson' 'lin|lin' --seed 3 --method mc\"\u001b[0m,\n",
       "        \u001b[32m\"./fit_vae.sh '0' 'DOVES' 'poisson' 'lin|lin' --seed 3 --method exact\"\u001b[0m,\n",
       "        \u001b[32m\"./fit_vae.sh '0' 'DOVES' 'poisson' 'mlp+b|lin' --seed 3 --method mc\"\u001b[0m,\n",
       "        \u001b[32m\"./fit_vae.sh '0' 'DOVES' 'poisson' 'mlp+b|lin' --seed 3 --method exact\"\u001b[0m,\n",
       "        \u001b[32m\"./fit_vae.sh '0' 'DOVES' 'poisson' 'lin|lin' --seed 4 --method mc\"\u001b[0m,\n",
       "        \u001b[32m\"./fit_vae.sh '0' 'DOVES' 'poisson' 'lin|lin' --seed 4 --method exact\"\u001b[0m,\n",
       "        \u001b[32m\"./fit_vae.sh '0' 'DOVES' 'poisson' 'mlp+b|lin' --seed 4 --method mc\"\u001b[0m,\n",
       "        \u001b[32m\"./fit_vae.sh '0' 'DOVES' 'poisson' 'mlp+b|lin' --seed 4 --method exact\"\u001b[0m,\n",
       "        \u001b[32m\"./fit_vae.sh '0' 'DOVES' 'poisson' 'lin|lin' --seed 5 --method mc\"\u001b[0m,\n",
       "        \u001b[32m\"./fit_vae.sh '0' 'DOVES' 'poisson' 'lin|lin' --seed 5 --method exact\"\u001b[0m,\n",
       "        \u001b[32m\"./fit_vae.sh '0' 'DOVES' 'poisson' 'mlp+b|lin' --seed 5 --method mc\"\u001b[0m,\n",
       "        \u001b[32m\"./fit_vae.sh '0' 'DOVES' 'poisson' 'mlp+b|lin' --seed 5 --method exact\"\u001b[0m,\n",
       "        \u001b[32m\"./fit_vae.sh '0' 'CIFAR10-PATCHES' 'poisson' 'lin|lin' --seed 1 --method mc\"\u001b[0m,\n",
       "        \u001b[32m\"./fit_vae.sh '0' 'CIFAR10-PATCHES' 'poisson' 'lin|lin' --seed 1 --method exact\"\u001b[0m,\n",
       "        \u001b[32m\"./fit_vae.sh '0' 'CIFAR10-PATCHES' 'poisson' 'mlp+b|lin' --seed 1 --method mc\"\u001b[0m,\n",
       "        \u001b[32m\"./fit_vae.sh '0' 'CIFAR10-PATCHES' 'poisson' 'mlp+b|lin' --seed 1 --method exact\"\u001b[0m,\n",
       "        \u001b[32m\"./fit_vae.sh '0' 'CIFAR10-PATCHES' 'poisson' 'lin|lin' --seed 2 --method mc\"\u001b[0m,\n",
       "        \u001b[32m\"./fit_vae.sh '0' 'CIFAR10-PATCHES' 'poisson' 'lin|lin' --seed 2 --method exact\"\u001b[0m,\n",
       "        \u001b[32m\"./fit_vae.sh '0' 'CIFAR10-PATCHES' 'poisson' 'mlp+b|lin' --seed 2 --method mc\"\u001b[0m,\n",
       "        \u001b[32m\"./fit_vae.sh '0' 'CIFAR10-PATCHES' 'poisson' 'mlp+b|lin' --seed 2 --method exact\"\u001b[0m,\n",
       "        \u001b[32m\"./fit_vae.sh '0' 'CIFAR10-PATCHES' 'poisson' 'lin|lin' --seed 3 --method mc\"\u001b[0m,\n",
       "        \u001b[32m\"./fit_vae.sh '0' 'CIFAR10-PATCHES' 'poisson' 'lin|lin' --seed 3 --method exact\"\u001b[0m,\n",
       "        \u001b[32m\"./fit_vae.sh '0' 'CIFAR10-PATCHES' 'poisson' 'mlp+b|lin' --seed 3 --method mc\"\u001b[0m,\n",
       "        \u001b[32m\"./fit_vae.sh '0' 'CIFAR10-PATCHES' 'poisson' 'mlp+b|lin' --seed 3 --method exact\"\u001b[0m,\n",
       "        \u001b[32m\"./fit_vae.sh '0' 'CIFAR10-PATCHES' 'poisson' 'lin|lin' --seed 4 --method mc\"\u001b[0m,\n",
       "        \u001b[32m\"./fit_vae.sh '0' 'CIFAR10-PATCHES' 'poisson' 'lin|lin' --seed 4 --method exact\"\u001b[0m,\n",
       "        \u001b[32m\"./fit_vae.sh '0' 'CIFAR10-PATCHES' 'poisson' 'mlp+b|lin' --seed 4 --method mc\"\u001b[0m,\n",
       "        \u001b[32m\"./fit_vae.sh '0' 'CIFAR10-PATCHES' 'poisson' 'mlp+b|lin' --seed 4 --method exact\"\u001b[0m,\n",
       "        \u001b[32m\"./fit_vae.sh '0' 'CIFAR10-PATCHES' 'poisson' 'lin|lin' --seed 5 --method mc\"\u001b[0m,\n",
       "        \u001b[32m\"./fit_vae.sh '0' 'CIFAR10-PATCHES' 'poisson' 'lin|lin' --seed 5 --method exact\"\u001b[0m,\n",
       "        \u001b[32m\"./fit_vae.sh '0' 'CIFAR10-PATCHES' 'poisson' 'mlp+b|lin' --seed 5 --method mc\"\u001b[0m,\n",
       "        \u001b[32m\"./fit_vae.sh '0' 'CIFAR10-PATCHES' 'poisson' 'mlp+b|lin' --seed 5 --method exact\"\u001b[0m,\n",
       "        \u001b[32m\"./fit_vae.sh '0' 'MNIST' 'poisson' 'lin|lin' --seed 1 --method mc\"\u001b[0m,\n",
       "        \u001b[32m\"./fit_vae.sh '0' 'MNIST' 'poisson' 'lin|lin' --seed 1 --method exact\"\u001b[0m,\n",
       "        \u001b[32m\"./fit_vae.sh '0' 'MNIST' 'poisson' 'mlp+b|lin' --seed 1 --method mc\"\u001b[0m,\n",
       "        \u001b[32m\"./fit_vae.sh '0' 'MNIST' 'poisson' 'mlp+b|lin' --seed 1 --method exact\"\u001b[0m,\n",
       "        \u001b[32m\"./fit_vae.sh '0' 'MNIST' 'poisson' 'lin|lin' --seed 2 --method mc\"\u001b[0m,\n",
       "        \u001b[32m\"./fit_vae.sh '0' 'MNIST' 'poisson' 'lin|lin' --seed 2 --method exact\"\u001b[0m,\n",
       "        \u001b[32m\"./fit_vae.sh '0' 'MNIST' 'poisson' 'mlp+b|lin' --seed 2 --method mc\"\u001b[0m,\n",
       "        \u001b[32m\"./fit_vae.sh '0' 'MNIST' 'poisson' 'mlp+b|lin' --seed 2 --method exact\"\u001b[0m,\n",
       "        \u001b[32m\"./fit_vae.sh '0' 'MNIST' 'poisson' 'lin|lin' --seed 3 --method mc\"\u001b[0m,\n",
       "        \u001b[32m\"./fit_vae.sh '0' 'MNIST' 'poisson' 'lin|lin' --seed 3 --method exact\"\u001b[0m,\n",
       "        \u001b[32m\"./fit_vae.sh '0' 'MNIST' 'poisson' 'mlp+b|lin' --seed 3 --method mc\"\u001b[0m,\n",
       "        \u001b[32m\"./fit_vae.sh '0' 'MNIST' 'poisson' 'mlp+b|lin' --seed 3 --method exact\"\u001b[0m,\n",
       "        \u001b[32m\"./fit_vae.sh '0' 'MNIST' 'poisson' 'lin|lin' --seed 4 --method mc\"\u001b[0m,\n",
       "        \u001b[32m\"./fit_vae.sh '0' 'MNIST' 'poisson' 'lin|lin' --seed 4 --method exact\"\u001b[0m,\n",
       "        \u001b[32m\"./fit_vae.sh '0' 'MNIST' 'poisson' 'mlp+b|lin' --seed 4 --method mc\"\u001b[0m,\n",
       "        \u001b[32m\"./fit_vae.sh '0' 'MNIST' 'poisson' 'mlp+b|lin' --seed 4 --method exact\"\u001b[0m,\n",
       "        \u001b[32m\"./fit_vae.sh '0' 'MNIST' 'poisson' 'lin|lin' --seed 5 --method mc\"\u001b[0m,\n",
       "        \u001b[32m\"./fit_vae.sh '0' 'MNIST' 'poisson' 'lin|lin' --seed 5 --method exact\"\u001b[0m,\n",
       "        \u001b[32m\"./fit_vae.sh '0' 'MNIST' 'poisson' 'mlp+b|lin' --seed 5 --method mc\"\u001b[0m,\n",
       "        \u001b[32m\"./fit_vae.sh '0' 'MNIST' 'poisson' 'mlp+b|lin' --seed 5 --method exact\"\u001b[0m,\n",
       "        \u001b[32m\"./fit_vae.sh '0' 'DOVES' 'gaussian' 'lin|lin' --seed 1 --latent_act relu --comment relu\"\u001b[0m,\n",
       "        \u001b[32m\"./fit_vae.sh '0' 'DOVES' 'gaussian' 'mlp+b|lin' --seed 1 --latent_act relu --comment relu\"\u001b[0m,\n",
       "        \u001b[32m\"./fit_vae.sh '0' 'DOVES' 'gaussian' 'lin|lin' --seed 2 --latent_act relu --comment relu\"\u001b[0m,\n",
       "        \u001b[32m\"./fit_vae.sh '0' 'DOVES' 'gaussian' 'mlp+b|lin' --seed 2 --latent_act relu --comment relu\"\u001b[0m,\n",
       "        \u001b[32m\"./fit_vae.sh '0' 'DOVES' 'gaussian' 'lin|lin' --seed 3 --latent_act relu --comment relu\"\u001b[0m,\n",
       "        \u001b[32m\"./fit_vae.sh '0' 'DOVES' 'gaussian' 'mlp+b|lin' --seed 3 --latent_act relu --comment relu\"\u001b[0m,\n",
       "        \u001b[32m\"./fit_vae.sh '0' 'DOVES' 'gaussian' 'lin|lin' --seed 4 --latent_act relu --comment relu\"\u001b[0m,\n",
       "        \u001b[32m\"./fit_vae.sh '0' 'DOVES' 'gaussian' 'mlp+b|lin' --seed 4 --latent_act relu --comment relu\"\u001b[0m,\n",
       "        \u001b[32m\"./fit_vae.sh '0' 'DOVES' 'gaussian' 'lin|lin' --seed 5 --latent_act relu --comment relu\"\u001b[0m,\n",
       "        \u001b[32m\"./fit_vae.sh '0' 'DOVES' 'gaussian' 'mlp+b|lin' --seed 5 --latent_act relu --comment relu\"\u001b[0m,\n",
       "        \u001b[32m\"./fit_vae.sh '0' 'CIFAR10-PATCHES' 'gaussian' 'lin|lin' --seed 1 --latent_act relu --comment relu\"\u001b[0m,\n",
       "        \u001b[32m\"./fit_vae.sh '0' 'CIFAR10-PATCHES' 'gaussian' 'mlp+b|lin' --seed 1 --latent_act relu --comment relu\"\u001b[0m,\n",
       "        \u001b[32m\"./fit_vae.sh '0' 'CIFAR10-PATCHES' 'gaussian' 'lin|lin' --seed 2 --latent_act relu --comment relu\"\u001b[0m,\n",
       "        \u001b[32m\"./fit_vae.sh '0' 'CIFAR10-PATCHES' 'gaussian' 'mlp+b|lin' --seed 2 --latent_act relu --comment relu\"\u001b[0m,\n",
       "        \u001b[32m\"./fit_vae.sh '0' 'CIFAR10-PATCHES' 'gaussian' 'lin|lin' --seed 3 --latent_act relu --comment relu\"\u001b[0m,\n",
       "        \u001b[32m\"./fit_vae.sh '0' 'CIFAR10-PATCHES' 'gaussian' 'mlp+b|lin' --seed 3 --latent_act relu --comment relu\"\u001b[0m,\n",
       "        \u001b[32m\"./fit_vae.sh '0' 'CIFAR10-PATCHES' 'gaussian' 'lin|lin' --seed 4 --latent_act relu --comment relu\"\u001b[0m,\n",
       "        \u001b[32m\"./fit_vae.sh '0' 'CIFAR10-PATCHES' 'gaussian' 'mlp+b|lin' --seed 4 --latent_act relu --comment relu\"\u001b[0m,\n",
       "        \u001b[32m\"./fit_vae.sh '0' 'CIFAR10-PATCHES' 'gaussian' 'lin|lin' --seed 5 --latent_act relu --comment relu\"\u001b[0m,\n",
       "        \u001b[32m\"./fit_vae.sh '0' 'CIFAR10-PATCHES' 'gaussian' 'mlp+b|lin' --seed 5 --latent_act relu --comment relu\"\u001b[0m,\n",
       "        \u001b[32m\"./fit_vae.sh '0' 'MNIST' 'gaussian' 'lin|lin' --seed 1 --latent_act relu --comment relu\"\u001b[0m,\n",
       "        \u001b[32m\"./fit_vae.sh '0' 'MNIST' 'gaussian' 'mlp+b|lin' --seed 1 --latent_act relu --comment relu\"\u001b[0m,\n",
       "        \u001b[32m\"./fit_vae.sh '0' 'MNIST' 'gaussian' 'lin|lin' --seed 2 --latent_act relu --comment relu\"\u001b[0m,\n",
       "        \u001b[32m\"./fit_vae.sh '0' 'MNIST' 'gaussian' 'mlp+b|lin' --seed 2 --latent_act relu --comment relu\"\u001b[0m,\n",
       "        \u001b[32m\"./fit_vae.sh '0' 'MNIST' 'gaussian' 'lin|lin' --seed 3 --latent_act relu --comment relu\"\u001b[0m,\n",
       "        \u001b[32m\"./fit_vae.sh '0' 'MNIST' 'gaussian' 'mlp+b|lin' --seed 3 --latent_act relu --comment relu\"\u001b[0m,\n",
       "        \u001b[32m\"./fit_vae.sh '0' 'MNIST' 'gaussian' 'lin|lin' --seed 4 --latent_act relu --comment relu\"\u001b[0m,\n",
       "        \u001b[32m\"./fit_vae.sh '0' 'MNIST' 'gaussian' 'mlp+b|lin' --seed 4 --latent_act relu --comment relu\"\u001b[0m,\n",
       "        \u001b[32m\"./fit_vae.sh '0' 'MNIST' 'gaussian' 'lin|lin' --seed 5 --latent_act relu --comment relu\"\u001b[0m,\n",
       "        \u001b[32m\"./fit_vae.sh '0' 'MNIST' 'gaussian' 'mlp+b|lin' --seed 5 --latent_act relu --comment relu\"\u001b[0m\n",
       "    \u001b[1m]\u001b[0m,\n",
       "    \u001b[1;36m1\u001b[0m: \u001b[1m[\u001b[0m\n",
       "        \u001b[32m\"./fit_vae.sh '1' 'DOVES' 'categorical' 'lin|lin' --seed 1 --method mc\"\u001b[0m,\n",
       "        \u001b[32m\"./fit_vae.sh '1' 'DOVES' 'categorical' 'lin|lin' --seed 1 --method exact\"\u001b[0m,\n",
       "        \u001b[32m\"./fit_vae.sh '1' 'DOVES' 'categorical' 'mlp+b|lin' --seed 1 --method mc\"\u001b[0m,\n",
       "        \u001b[32m\"./fit_vae.sh '1' 'DOVES' 'categorical' 'mlp+b|lin' --seed 1 --method exact\"\u001b[0m,\n",
       "        \u001b[32m\"./fit_vae.sh '1' 'DOVES' 'categorical' 'lin|lin' --seed 2 --method mc\"\u001b[0m,\n",
       "        \u001b[32m\"./fit_vae.sh '1' 'DOVES' 'categorical' 'lin|lin' --seed 2 --method exact\"\u001b[0m,\n",
       "        \u001b[32m\"./fit_vae.sh '1' 'DOVES' 'categorical' 'mlp+b|lin' --seed 2 --method mc\"\u001b[0m,\n",
       "        \u001b[32m\"./fit_vae.sh '1' 'DOVES' 'categorical' 'mlp+b|lin' --seed 2 --method exact\"\u001b[0m,\n",
       "        \u001b[32m\"./fit_vae.sh '1' 'DOVES' 'categorical' 'lin|lin' --seed 3 --method mc\"\u001b[0m,\n",
       "        \u001b[32m\"./fit_vae.sh '1' 'DOVES' 'categorical' 'lin|lin' --seed 3 --method exact\"\u001b[0m,\n",
       "        \u001b[32m\"./fit_vae.sh '1' 'DOVES' 'categorical' 'mlp+b|lin' --seed 3 --method mc\"\u001b[0m,\n",
       "        \u001b[32m\"./fit_vae.sh '1' 'DOVES' 'categorical' 'mlp+b|lin' --seed 3 --method exact\"\u001b[0m,\n",
       "        \u001b[32m\"./fit_vae.sh '1' 'DOVES' 'categorical' 'lin|lin' --seed 4 --method mc\"\u001b[0m,\n",
       "        \u001b[32m\"./fit_vae.sh '1' 'DOVES' 'categorical' 'lin|lin' --seed 4 --method exact\"\u001b[0m,\n",
       "        \u001b[32m\"./fit_vae.sh '1' 'DOVES' 'categorical' 'mlp+b|lin' --seed 4 --method mc\"\u001b[0m,\n",
       "        \u001b[32m\"./fit_vae.sh '1' 'DOVES' 'categorical' 'mlp+b|lin' --seed 4 --method exact\"\u001b[0m,\n",
       "        \u001b[32m\"./fit_vae.sh '1' 'DOVES' 'categorical' 'lin|lin' --seed 5 --method mc\"\u001b[0m,\n",
       "        \u001b[32m\"./fit_vae.sh '1' 'DOVES' 'categorical' 'lin|lin' --seed 5 --method exact\"\u001b[0m,\n",
       "        \u001b[32m\"./fit_vae.sh '1' 'DOVES' 'categorical' 'mlp+b|lin' --seed 5 --method mc\"\u001b[0m,\n",
       "        \u001b[32m\"./fit_vae.sh '1' 'DOVES' 'categorical' 'mlp+b|lin' --seed 5 --method exact\"\u001b[0m,\n",
       "        \u001b[32m\"./fit_vae.sh '1' 'CIFAR10-PATCHES' 'categorical' 'lin|lin' --seed 1 --method mc\"\u001b[0m,\n",
       "        \u001b[32m\"./fit_vae.sh '1' 'CIFAR10-PATCHES' 'categorical' 'lin|lin' --seed 1 --method exact\"\u001b[0m,\n",
       "        \u001b[32m\"./fit_vae.sh '1' 'CIFAR10-PATCHES' 'categorical' 'mlp+b|lin' --seed 1 --method mc\"\u001b[0m,\n",
       "        \u001b[32m\"./fit_vae.sh '1' 'CIFAR10-PATCHES' 'categorical' 'mlp+b|lin' --seed 1 --method exact\"\u001b[0m,\n",
       "        \u001b[32m\"./fit_vae.sh '1' 'CIFAR10-PATCHES' 'categorical' 'lin|lin' --seed 2 --method mc\"\u001b[0m,\n",
       "        \u001b[32m\"./fit_vae.sh '1' 'CIFAR10-PATCHES' 'categorical' 'lin|lin' --seed 2 --method exact\"\u001b[0m,\n",
       "        \u001b[32m\"./fit_vae.sh '1' 'CIFAR10-PATCHES' 'categorical' 'mlp+b|lin' --seed 2 --method mc\"\u001b[0m,\n",
       "        \u001b[32m\"./fit_vae.sh '1' 'CIFAR10-PATCHES' 'categorical' 'mlp+b|lin' --seed 2 --method exact\"\u001b[0m,\n",
       "        \u001b[32m\"./fit_vae.sh '1' 'CIFAR10-PATCHES' 'categorical' 'lin|lin' --seed 3 --method mc\"\u001b[0m,\n",
       "        \u001b[32m\"./fit_vae.sh '1' 'CIFAR10-PATCHES' 'categorical' 'lin|lin' --seed 3 --method exact\"\u001b[0m,\n",
       "        \u001b[32m\"./fit_vae.sh '1' 'CIFAR10-PATCHES' 'categorical' 'mlp+b|lin' --seed 3 --method mc\"\u001b[0m,\n",
       "        \u001b[32m\"./fit_vae.sh '1' 'CIFAR10-PATCHES' 'categorical' 'mlp+b|lin' --seed 3 --method exact\"\u001b[0m,\n",
       "        \u001b[32m\"./fit_vae.sh '1' 'CIFAR10-PATCHES' 'categorical' 'lin|lin' --seed 4 --method mc\"\u001b[0m,\n",
       "        \u001b[32m\"./fit_vae.sh '1' 'CIFAR10-PATCHES' 'categorical' 'lin|lin' --seed 4 --method exact\"\u001b[0m,\n",
       "        \u001b[32m\"./fit_vae.sh '1' 'CIFAR10-PATCHES' 'categorical' 'mlp+b|lin' --seed 4 --method mc\"\u001b[0m,\n",
       "        \u001b[32m\"./fit_vae.sh '1' 'CIFAR10-PATCHES' 'categorical' 'mlp+b|lin' --seed 4 --method exact\"\u001b[0m,\n",
       "        \u001b[32m\"./fit_vae.sh '1' 'CIFAR10-PATCHES' 'categorical' 'lin|lin' --seed 5 --method mc\"\u001b[0m,\n",
       "        \u001b[32m\"./fit_vae.sh '1' 'CIFAR10-PATCHES' 'categorical' 'lin|lin' --seed 5 --method exact\"\u001b[0m,\n",
       "        \u001b[32m\"./fit_vae.sh '1' 'CIFAR10-PATCHES' 'categorical' 'mlp+b|lin' --seed 5 --method mc\"\u001b[0m,\n",
       "        \u001b[32m\"./fit_vae.sh '1' 'CIFAR10-PATCHES' 'categorical' 'mlp+b|lin' --seed 5 --method exact\"\u001b[0m,\n",
       "        \u001b[32m\"./fit_vae.sh '1' 'MNIST' 'categorical' 'lin|lin' --seed 1 --method mc\"\u001b[0m,\n",
       "        \u001b[32m\"./fit_vae.sh '1' 'MNIST' 'categorical' 'lin|lin' --seed 1 --method exact\"\u001b[0m,\n",
       "        \u001b[32m\"./fit_vae.sh '1' 'MNIST' 'categorical' 'mlp+b|lin' --seed 1 --method mc\"\u001b[0m,\n",
       "        \u001b[32m\"./fit_vae.sh '1' 'MNIST' 'categorical' 'mlp+b|lin' --seed 1 --method exact\"\u001b[0m,\n",
       "        \u001b[32m\"./fit_vae.sh '1' 'MNIST' 'categorical' 'lin|lin' --seed 2 --method mc\"\u001b[0m,\n",
       "        \u001b[32m\"./fit_vae.sh '1' 'MNIST' 'categorical' 'lin|lin' --seed 2 --method exact\"\u001b[0m,\n",
       "        \u001b[32m\"./fit_vae.sh '1' 'MNIST' 'categorical' 'mlp+b|lin' --seed 2 --method mc\"\u001b[0m,\n",
       "        \u001b[32m\"./fit_vae.sh '1' 'MNIST' 'categorical' 'mlp+b|lin' --seed 2 --method exact\"\u001b[0m,\n",
       "        \u001b[32m\"./fit_vae.sh '1' 'MNIST' 'categorical' 'lin|lin' --seed 3 --method mc\"\u001b[0m,\n",
       "        \u001b[32m\"./fit_vae.sh '1' 'MNIST' 'categorical' 'lin|lin' --seed 3 --method exact\"\u001b[0m,\n",
       "        \u001b[32m\"./fit_vae.sh '1' 'MNIST' 'categorical' 'mlp+b|lin' --seed 3 --method mc\"\u001b[0m,\n",
       "        \u001b[32m\"./fit_vae.sh '1' 'MNIST' 'categorical' 'mlp+b|lin' --seed 3 --method exact\"\u001b[0m,\n",
       "        \u001b[32m\"./fit_vae.sh '1' 'MNIST' 'categorical' 'lin|lin' --seed 4 --method mc\"\u001b[0m,\n",
       "        \u001b[32m\"./fit_vae.sh '1' 'MNIST' 'categorical' 'lin|lin' --seed 4 --method exact\"\u001b[0m,\n",
       "        \u001b[32m\"./fit_vae.sh '1' 'MNIST' 'categorical' 'mlp+b|lin' --seed 4 --method mc\"\u001b[0m,\n",
       "        \u001b[32m\"./fit_vae.sh '1' 'MNIST' 'categorical' 'mlp+b|lin' --seed 4 --method exact\"\u001b[0m,\n",
       "        \u001b[32m\"./fit_vae.sh '1' 'MNIST' 'categorical' 'lin|lin' --seed 5 --method mc\"\u001b[0m,\n",
       "        \u001b[32m\"./fit_vae.sh '1' 'MNIST' 'categorical' 'lin|lin' --seed 5 --method exact\"\u001b[0m,\n",
       "        \u001b[32m\"./fit_vae.sh '1' 'MNIST' 'categorical' 'mlp+b|lin' --seed 5 --method mc\"\u001b[0m,\n",
       "        \u001b[32m\"./fit_vae.sh '1' 'MNIST' 'categorical' 'mlp+b|lin' --seed 5 --method exact\"\u001b[0m,\n",
       "        \u001b[32m\"./fit_vae.sh '1' 'DOVES' 'gaussian' 'lin|lin' --seed 1 --latent_act softplus --comment softplus\"\u001b[0m,\n",
       "        \u001b[32m\"./fit_vae.sh '1' 'DOVES' 'gaussian' 'mlp+b|lin' --seed 1 --latent_act softplus --comment softplus\"\u001b[0m,\n",
       "        \u001b[32m\"./fit_vae.sh '1' 'DOVES' 'gaussian' 'lin|lin' --seed 2 --latent_act softplus --comment softplus\"\u001b[0m,\n",
       "        \u001b[32m\"./fit_vae.sh '1' 'DOVES' 'gaussian' 'mlp+b|lin' --seed 2 --latent_act softplus --comment softplus\"\u001b[0m,\n",
       "        \u001b[32m\"./fit_vae.sh '1' 'DOVES' 'gaussian' 'lin|lin' --seed 3 --latent_act softplus --comment softplus\"\u001b[0m,\n",
       "        \u001b[32m\"./fit_vae.sh '1' 'DOVES' 'gaussian' 'mlp+b|lin' --seed 3 --latent_act softplus --comment softplus\"\u001b[0m,\n",
       "        \u001b[32m\"./fit_vae.sh '1' 'DOVES' 'gaussian' 'lin|lin' --seed 4 --latent_act softplus --comment softplus\"\u001b[0m,\n",
       "        \u001b[32m\"./fit_vae.sh '1' 'DOVES' 'gaussian' 'mlp+b|lin' --seed 4 --latent_act softplus --comment softplus\"\u001b[0m,\n",
       "        \u001b[32m\"./fit_vae.sh '1' 'DOVES' 'gaussian' 'lin|lin' --seed 5 --latent_act softplus --comment softplus\"\u001b[0m,\n",
       "        \u001b[32m\"./fit_vae.sh '1' 'DOVES' 'gaussian' 'mlp+b|lin' --seed 5 --latent_act softplus --comment softplus\"\u001b[0m,\n",
       "        \u001b[32m\"./fit_vae.sh '1' 'CIFAR10-PATCHES' 'gaussian' 'lin|lin' --seed 1 --latent_act softplus --comment \u001b[0m\n",
       "\u001b[32msoftplus\"\u001b[0m,\n",
       "        \u001b[32m\"./fit_vae.sh '1' 'CIFAR10-PATCHES' 'gaussian' 'mlp+b|lin' --seed 1 --latent_act softplus --comment \u001b[0m\n",
       "\u001b[32msoftplus\"\u001b[0m,\n",
       "        \u001b[32m\"./fit_vae.sh '1' 'CIFAR10-PATCHES' 'gaussian' 'lin|lin' --seed 2 --latent_act softplus --comment \u001b[0m\n",
       "\u001b[32msoftplus\"\u001b[0m,\n",
       "        \u001b[32m\"./fit_vae.sh '1' 'CIFAR10-PATCHES' 'gaussian' 'mlp+b|lin' --seed 2 --latent_act softplus --comment \u001b[0m\n",
       "\u001b[32msoftplus\"\u001b[0m,\n",
       "        \u001b[32m\"./fit_vae.sh '1' 'CIFAR10-PATCHES' 'gaussian' 'lin|lin' --seed 3 --latent_act softplus --comment \u001b[0m\n",
       "\u001b[32msoftplus\"\u001b[0m,\n",
       "        \u001b[32m\"./fit_vae.sh '1' 'CIFAR10-PATCHES' 'gaussian' 'mlp+b|lin' --seed 3 --latent_act softplus --comment \u001b[0m\n",
       "\u001b[32msoftplus\"\u001b[0m,\n",
       "        \u001b[32m\"./fit_vae.sh '1' 'CIFAR10-PATCHES' 'gaussian' 'lin|lin' --seed 4 --latent_act softplus --comment \u001b[0m\n",
       "\u001b[32msoftplus\"\u001b[0m,\n",
       "        \u001b[32m\"./fit_vae.sh '1' 'CIFAR10-PATCHES' 'gaussian' 'mlp+b|lin' --seed 4 --latent_act softplus --comment \u001b[0m\n",
       "\u001b[32msoftplus\"\u001b[0m,\n",
       "        \u001b[32m\"./fit_vae.sh '1' 'CIFAR10-PATCHES' 'gaussian' 'lin|lin' --seed 5 --latent_act softplus --comment \u001b[0m\n",
       "\u001b[32msoftplus\"\u001b[0m,\n",
       "        \u001b[32m\"./fit_vae.sh '1' 'CIFAR10-PATCHES' 'gaussian' 'mlp+b|lin' --seed 5 --latent_act softplus --comment \u001b[0m\n",
       "\u001b[32msoftplus\"\u001b[0m,\n",
       "        \u001b[32m\"./fit_vae.sh '1' 'MNIST' 'gaussian' 'lin|lin' --seed 1 --latent_act softplus --comment softplus\"\u001b[0m,\n",
       "        \u001b[32m\"./fit_vae.sh '1' 'MNIST' 'gaussian' 'mlp+b|lin' --seed 1 --latent_act softplus --comment softplus\"\u001b[0m,\n",
       "        \u001b[32m\"./fit_vae.sh '1' 'MNIST' 'gaussian' 'lin|lin' --seed 2 --latent_act softplus --comment softplus\"\u001b[0m,\n",
       "        \u001b[32m\"./fit_vae.sh '1' 'MNIST' 'gaussian' 'mlp+b|lin' --seed 2 --latent_act softplus --comment softplus\"\u001b[0m,\n",
       "        \u001b[32m\"./fit_vae.sh '1' 'MNIST' 'gaussian' 'lin|lin' --seed 3 --latent_act softplus --comment softplus\"\u001b[0m,\n",
       "        \u001b[32m\"./fit_vae.sh '1' 'MNIST' 'gaussian' 'mlp+b|lin' --seed 3 --latent_act softplus --comment softplus\"\u001b[0m,\n",
       "        \u001b[32m\"./fit_vae.sh '1' 'MNIST' 'gaussian' 'lin|lin' --seed 4 --latent_act softplus --comment softplus\"\u001b[0m,\n",
       "        \u001b[32m\"./fit_vae.sh '1' 'MNIST' 'gaussian' 'mlp+b|lin' --seed 4 --latent_act softplus --comment softplus\"\u001b[0m,\n",
       "        \u001b[32m\"./fit_vae.sh '1' 'MNIST' 'gaussian' 'lin|lin' --seed 5 --latent_act softplus --comment softplus\"\u001b[0m,\n",
       "        \u001b[32m\"./fit_vae.sh '1' 'MNIST' 'gaussian' 'mlp+b|lin' --seed 5 --latent_act softplus --comment softplus\"\u001b[0m\n",
       "    \u001b[1m]\u001b[0m,\n",
       "    \u001b[1;36m2\u001b[0m: \u001b[1m[\u001b[0m\n",
       "        \u001b[32m\"./fit_vae.sh '2' 'DOVES' 'gaussian' 'lin|lin' --seed 1 --method mc\"\u001b[0m,\n",
       "        \u001b[32m\"./fit_vae.sh '2' 'DOVES' 'gaussian' 'lin|lin' --seed 1 --method exact\"\u001b[0m,\n",
       "        \u001b[32m\"./fit_vae.sh '2' 'DOVES' 'gaussian' 'mlp+b|lin' --seed 1 --method mc\"\u001b[0m,\n",
       "        \u001b[32m\"./fit_vae.sh '2' 'DOVES' 'gaussian' 'mlp+b|lin' --seed 1 --method exact\"\u001b[0m,\n",
       "        \u001b[32m\"./fit_vae.sh '2' 'DOVES' 'gaussian' 'lin|lin' --seed 2 --method mc\"\u001b[0m,\n",
       "        \u001b[32m\"./fit_vae.sh '2' 'DOVES' 'gaussian' 'lin|lin' --seed 2 --method exact\"\u001b[0m,\n",
       "        \u001b[32m\"./fit_vae.sh '2' 'DOVES' 'gaussian' 'mlp+b|lin' --seed 2 --method mc\"\u001b[0m,\n",
       "        \u001b[32m\"./fit_vae.sh '2' 'DOVES' 'gaussian' 'mlp+b|lin' --seed 2 --method exact\"\u001b[0m,\n",
       "        \u001b[32m\"./fit_vae.sh '2' 'DOVES' 'gaussian' 'lin|lin' --seed 3 --method mc\"\u001b[0m,\n",
       "        \u001b[32m\"./fit_vae.sh '2' 'DOVES' 'gaussian' 'lin|lin' --seed 3 --method exact\"\u001b[0m,\n",
       "        \u001b[32m\"./fit_vae.sh '2' 'DOVES' 'gaussian' 'mlp+b|lin' --seed 3 --method mc\"\u001b[0m,\n",
       "        \u001b[32m\"./fit_vae.sh '2' 'DOVES' 'gaussian' 'mlp+b|lin' --seed 3 --method exact\"\u001b[0m,\n",
       "        \u001b[32m\"./fit_vae.sh '2' 'DOVES' 'gaussian' 'lin|lin' --seed 4 --method mc\"\u001b[0m,\n",
       "        \u001b[32m\"./fit_vae.sh '2' 'DOVES' 'gaussian' 'lin|lin' --seed 4 --method exact\"\u001b[0m,\n",
       "        \u001b[32m\"./fit_vae.sh '2' 'DOVES' 'gaussian' 'mlp+b|lin' --seed 4 --method mc\"\u001b[0m,\n",
       "        \u001b[32m\"./fit_vae.sh '2' 'DOVES' 'gaussian' 'mlp+b|lin' --seed 4 --method exact\"\u001b[0m,\n",
       "        \u001b[32m\"./fit_vae.sh '2' 'DOVES' 'gaussian' 'lin|lin' --seed 5 --method mc\"\u001b[0m,\n",
       "        \u001b[32m\"./fit_vae.sh '2' 'DOVES' 'gaussian' 'lin|lin' --seed 5 --method exact\"\u001b[0m,\n",
       "        \u001b[32m\"./fit_vae.sh '2' 'DOVES' 'gaussian' 'mlp+b|lin' --seed 5 --method mc\"\u001b[0m,\n",
       "        \u001b[32m\"./fit_vae.sh '2' 'DOVES' 'gaussian' 'mlp+b|lin' --seed 5 --method exact\"\u001b[0m,\n",
       "        \u001b[32m\"./fit_vae.sh '2' 'CIFAR10-PATCHES' 'gaussian' 'lin|lin' --seed 1 --method mc\"\u001b[0m,\n",
       "        \u001b[32m\"./fit_vae.sh '2' 'CIFAR10-PATCHES' 'gaussian' 'lin|lin' --seed 1 --method exact\"\u001b[0m,\n",
       "        \u001b[32m\"./fit_vae.sh '2' 'CIFAR10-PATCHES' 'gaussian' 'mlp+b|lin' --seed 1 --method mc\"\u001b[0m,\n",
       "        \u001b[32m\"./fit_vae.sh '2' 'CIFAR10-PATCHES' 'gaussian' 'mlp+b|lin' --seed 1 --method exact\"\u001b[0m,\n",
       "        \u001b[32m\"./fit_vae.sh '2' 'CIFAR10-PATCHES' 'gaussian' 'lin|lin' --seed 2 --method mc\"\u001b[0m,\n",
       "        \u001b[32m\"./fit_vae.sh '2' 'CIFAR10-PATCHES' 'gaussian' 'lin|lin' --seed 2 --method exact\"\u001b[0m,\n",
       "        \u001b[32m\"./fit_vae.sh '2' 'CIFAR10-PATCHES' 'gaussian' 'mlp+b|lin' --seed 2 --method mc\"\u001b[0m,\n",
       "        \u001b[32m\"./fit_vae.sh '2' 'CIFAR10-PATCHES' 'gaussian' 'mlp+b|lin' --seed 2 --method exact\"\u001b[0m,\n",
       "        \u001b[32m\"./fit_vae.sh '2' 'CIFAR10-PATCHES' 'gaussian' 'lin|lin' --seed 3 --method mc\"\u001b[0m,\n",
       "        \u001b[32m\"./fit_vae.sh '2' 'CIFAR10-PATCHES' 'gaussian' 'lin|lin' --seed 3 --method exact\"\u001b[0m,\n",
       "        \u001b[32m\"./fit_vae.sh '2' 'CIFAR10-PATCHES' 'gaussian' 'mlp+b|lin' --seed 3 --method mc\"\u001b[0m,\n",
       "        \u001b[32m\"./fit_vae.sh '2' 'CIFAR10-PATCHES' 'gaussian' 'mlp+b|lin' --seed 3 --method exact\"\u001b[0m,\n",
       "        \u001b[32m\"./fit_vae.sh '2' 'CIFAR10-PATCHES' 'gaussian' 'lin|lin' --seed 4 --method mc\"\u001b[0m,\n",
       "        \u001b[32m\"./fit_vae.sh '2' 'CIFAR10-PATCHES' 'gaussian' 'lin|lin' --seed 4 --method exact\"\u001b[0m,\n",
       "        \u001b[32m\"./fit_vae.sh '2' 'CIFAR10-PATCHES' 'gaussian' 'mlp+b|lin' --seed 4 --method mc\"\u001b[0m,\n",
       "        \u001b[32m\"./fit_vae.sh '2' 'CIFAR10-PATCHES' 'gaussian' 'mlp+b|lin' --seed 4 --method exact\"\u001b[0m,\n",
       "        \u001b[32m\"./fit_vae.sh '2' 'CIFAR10-PATCHES' 'gaussian' 'lin|lin' --seed 5 --method mc\"\u001b[0m,\n",
       "        \u001b[32m\"./fit_vae.sh '2' 'CIFAR10-PATCHES' 'gaussian' 'lin|lin' --seed 5 --method exact\"\u001b[0m,\n",
       "        \u001b[32m\"./fit_vae.sh '2' 'CIFAR10-PATCHES' 'gaussian' 'mlp+b|lin' --seed 5 --method mc\"\u001b[0m,\n",
       "        \u001b[32m\"./fit_vae.sh '2' 'CIFAR10-PATCHES' 'gaussian' 'mlp+b|lin' --seed 5 --method exact\"\u001b[0m,\n",
       "        \u001b[32m\"./fit_vae.sh '2' 'MNIST' 'gaussian' 'lin|lin' --seed 1 --method mc\"\u001b[0m,\n",
       "        \u001b[32m\"./fit_vae.sh '2' 'MNIST' 'gaussian' 'lin|lin' --seed 1 --method exact\"\u001b[0m,\n",
       "        \u001b[32m\"./fit_vae.sh '2' 'MNIST' 'gaussian' 'mlp+b|lin' --seed 1 --method mc\"\u001b[0m,\n",
       "        \u001b[32m\"./fit_vae.sh '2' 'MNIST' 'gaussian' 'mlp+b|lin' --seed 1 --method exact\"\u001b[0m,\n",
       "        \u001b[32m\"./fit_vae.sh '2' 'MNIST' 'gaussian' 'lin|lin' --seed 2 --method mc\"\u001b[0m,\n",
       "        \u001b[32m\"./fit_vae.sh '2' 'MNIST' 'gaussian' 'lin|lin' --seed 2 --method exact\"\u001b[0m,\n",
       "        \u001b[32m\"./fit_vae.sh '2' 'MNIST' 'gaussian' 'mlp+b|lin' --seed 2 --method mc\"\u001b[0m,\n",
       "        \u001b[32m\"./fit_vae.sh '2' 'MNIST' 'gaussian' 'mlp+b|lin' --seed 2 --method exact\"\u001b[0m,\n",
       "        \u001b[32m\"./fit_vae.sh '2' 'MNIST' 'gaussian' 'lin|lin' --seed 3 --method mc\"\u001b[0m,\n",
       "        \u001b[32m\"./fit_vae.sh '2' 'MNIST' 'gaussian' 'lin|lin' --seed 3 --method exact\"\u001b[0m,\n",
       "        \u001b[32m\"./fit_vae.sh '2' 'MNIST' 'gaussian' 'mlp+b|lin' --seed 3 --method mc\"\u001b[0m,\n",
       "        \u001b[32m\"./fit_vae.sh '2' 'MNIST' 'gaussian' 'mlp+b|lin' --seed 3 --method exact\"\u001b[0m,\n",
       "        \u001b[32m\"./fit_vae.sh '2' 'MNIST' 'gaussian' 'lin|lin' --seed 4 --method mc\"\u001b[0m,\n",
       "        \u001b[32m\"./fit_vae.sh '2' 'MNIST' 'gaussian' 'lin|lin' --seed 4 --method exact\"\u001b[0m,\n",
       "        \u001b[32m\"./fit_vae.sh '2' 'MNIST' 'gaussian' 'mlp+b|lin' --seed 4 --method mc\"\u001b[0m,\n",
       "        \u001b[32m\"./fit_vae.sh '2' 'MNIST' 'gaussian' 'mlp+b|lin' --seed 4 --method exact\"\u001b[0m,\n",
       "        \u001b[32m\"./fit_vae.sh '2' 'MNIST' 'gaussian' 'lin|lin' --seed 5 --method mc\"\u001b[0m,\n",
       "        \u001b[32m\"./fit_vae.sh '2' 'MNIST' 'gaussian' 'lin|lin' --seed 5 --method exact\"\u001b[0m,\n",
       "        \u001b[32m\"./fit_vae.sh '2' 'MNIST' 'gaussian' 'mlp+b|lin' --seed 5 --method mc\"\u001b[0m,\n",
       "        \u001b[32m\"./fit_vae.sh '2' 'MNIST' 'gaussian' 'mlp+b|lin' --seed 5 --method exact\"\u001b[0m,\n",
       "        \u001b[32m\"./fit_vae.sh '2' 'DOVES' 'gaussian' 'lin|lin' --seed 1 --latent_act square --comment square\"\u001b[0m,\n",
       "        \u001b[32m\"./fit_vae.sh '2' 'DOVES' 'gaussian' 'mlp+b|lin' --seed 1 --latent_act square --comment square\"\u001b[0m,\n",
       "        \u001b[32m\"./fit_vae.sh '2' 'DOVES' 'gaussian' 'lin|lin' --seed 2 --latent_act square --comment square\"\u001b[0m,\n",
       "        \u001b[32m\"./fit_vae.sh '2' 'DOVES' 'gaussian' 'mlp+b|lin' --seed 2 --latent_act square --comment square\"\u001b[0m,\n",
       "        \u001b[32m\"./fit_vae.sh '2' 'DOVES' 'gaussian' 'lin|lin' --seed 3 --latent_act square --comment square\"\u001b[0m,\n",
       "        \u001b[32m\"./fit_vae.sh '2' 'DOVES' 'gaussian' 'mlp+b|lin' --seed 3 --latent_act square --comment square\"\u001b[0m,\n",
       "        \u001b[32m\"./fit_vae.sh '2' 'DOVES' 'gaussian' 'lin|lin' --seed 4 --latent_act square --comment square\"\u001b[0m,\n",
       "        \u001b[32m\"./fit_vae.sh '2' 'DOVES' 'gaussian' 'mlp+b|lin' --seed 4 --latent_act square --comment square\"\u001b[0m,\n",
       "        \u001b[32m\"./fit_vae.sh '2' 'DOVES' 'gaussian' 'lin|lin' --seed 5 --latent_act square --comment square\"\u001b[0m,\n",
       "        \u001b[32m\"./fit_vae.sh '2' 'DOVES' 'gaussian' 'mlp+b|lin' --seed 5 --latent_act square --comment square\"\u001b[0m,\n",
       "        \u001b[32m\"./fit_vae.sh '2' 'CIFAR10-PATCHES' 'gaussian' 'lin|lin' --seed 1 --latent_act square --comment square\"\u001b[0m,\n",
       "        \u001b[32m\"./fit_vae.sh '2' 'CIFAR10-PATCHES' 'gaussian' 'mlp+b|lin' --seed 1 --latent_act square --comment square\"\u001b[0m,\n",
       "        \u001b[32m\"./fit_vae.sh '2' 'CIFAR10-PATCHES' 'gaussian' 'lin|lin' --seed 2 --latent_act square --comment square\"\u001b[0m,\n",
       "        \u001b[32m\"./fit_vae.sh '2' 'CIFAR10-PATCHES' 'gaussian' 'mlp+b|lin' --seed 2 --latent_act square --comment square\"\u001b[0m,\n",
       "        \u001b[32m\"./fit_vae.sh '2' 'CIFAR10-PATCHES' 'gaussian' 'lin|lin' --seed 3 --latent_act square --comment square\"\u001b[0m,\n",
       "        \u001b[32m\"./fit_vae.sh '2' 'CIFAR10-PATCHES' 'gaussian' 'mlp+b|lin' --seed 3 --latent_act square --comment square\"\u001b[0m,\n",
       "        \u001b[32m\"./fit_vae.sh '2' 'CIFAR10-PATCHES' 'gaussian' 'lin|lin' --seed 4 --latent_act square --comment square\"\u001b[0m,\n",
       "        \u001b[32m\"./fit_vae.sh '2' 'CIFAR10-PATCHES' 'gaussian' 'mlp+b|lin' --seed 4 --latent_act square --comment square\"\u001b[0m,\n",
       "        \u001b[32m\"./fit_vae.sh '2' 'CIFAR10-PATCHES' 'gaussian' 'lin|lin' --seed 5 --latent_act square --comment square\"\u001b[0m,\n",
       "        \u001b[32m\"./fit_vae.sh '2' 'CIFAR10-PATCHES' 'gaussian' 'mlp+b|lin' --seed 5 --latent_act square --comment square\"\u001b[0m,\n",
       "        \u001b[32m\"./fit_vae.sh '2' 'MNIST' 'gaussian' 'lin|lin' --seed 1 --latent_act square --comment square\"\u001b[0m,\n",
       "        \u001b[32m\"./fit_vae.sh '2' 'MNIST' 'gaussian' 'mlp+b|lin' --seed 1 --latent_act square --comment square\"\u001b[0m,\n",
       "        \u001b[32m\"./fit_vae.sh '2' 'MNIST' 'gaussian' 'lin|lin' --seed 2 --latent_act square --comment square\"\u001b[0m,\n",
       "        \u001b[32m\"./fit_vae.sh '2' 'MNIST' 'gaussian' 'mlp+b|lin' --seed 2 --latent_act square --comment square\"\u001b[0m,\n",
       "        \u001b[32m\"./fit_vae.sh '2' 'MNIST' 'gaussian' 'lin|lin' --seed 3 --latent_act square --comment square\"\u001b[0m,\n",
       "        \u001b[32m\"./fit_vae.sh '2' 'MNIST' 'gaussian' 'mlp+b|lin' --seed 3 --latent_act square --comment square\"\u001b[0m,\n",
       "        \u001b[32m\"./fit_vae.sh '2' 'MNIST' 'gaussian' 'lin|lin' --seed 4 --latent_act square --comment square\"\u001b[0m,\n",
       "        \u001b[32m\"./fit_vae.sh '2' 'MNIST' 'gaussian' 'mlp+b|lin' --seed 4 --latent_act square --comment square\"\u001b[0m,\n",
       "        \u001b[32m\"./fit_vae.sh '2' 'MNIST' 'gaussian' 'lin|lin' --seed 5 --latent_act square --comment square\"\u001b[0m,\n",
       "        \u001b[32m\"./fit_vae.sh '2' 'MNIST' 'gaussian' 'mlp+b|lin' --seed 5 --latent_act square --comment square\"\u001b[0m\n",
       "    \u001b[1m]\u001b[0m,\n",
       "    \u001b[1;36m3\u001b[0m: \u001b[1m[\u001b[0m\n",
       "        \u001b[32m\"./fit_vae.sh '3' 'DOVES' 'laplace' 'lin|lin' --seed 1 --method mc\"\u001b[0m,\n",
       "        \u001b[32m\"./fit_vae.sh '3' 'DOVES' 'laplace' 'lin|lin' --seed 1 --method exact\"\u001b[0m,\n",
       "        \u001b[32m\"./fit_vae.sh '3' 'DOVES' 'laplace' 'mlp+b|lin' --seed 1 --method mc\"\u001b[0m,\n",
       "        \u001b[32m\"./fit_vae.sh '3' 'DOVES' 'laplace' 'mlp+b|lin' --seed 1 --method exact\"\u001b[0m,\n",
       "        \u001b[32m\"./fit_vae.sh '3' 'DOVES' 'laplace' 'lin|lin' --seed 2 --method mc\"\u001b[0m,\n",
       "        \u001b[32m\"./fit_vae.sh '3' 'DOVES' 'laplace' 'lin|lin' --seed 2 --method exact\"\u001b[0m,\n",
       "        \u001b[32m\"./fit_vae.sh '3' 'DOVES' 'laplace' 'mlp+b|lin' --seed 2 --method mc\"\u001b[0m,\n",
       "        \u001b[32m\"./fit_vae.sh '3' 'DOVES' 'laplace' 'mlp+b|lin' --seed 2 --method exact\"\u001b[0m,\n",
       "        \u001b[32m\"./fit_vae.sh '3' 'DOVES' 'laplace' 'lin|lin' --seed 3 --method mc\"\u001b[0m,\n",
       "        \u001b[32m\"./fit_vae.sh '3' 'DOVES' 'laplace' 'lin|lin' --seed 3 --method exact\"\u001b[0m,\n",
       "        \u001b[32m\"./fit_vae.sh '3' 'DOVES' 'laplace' 'mlp+b|lin' --seed 3 --method mc\"\u001b[0m,\n",
       "        \u001b[32m\"./fit_vae.sh '3' 'DOVES' 'laplace' 'mlp+b|lin' --seed 3 --method exact\"\u001b[0m,\n",
       "        \u001b[32m\"./fit_vae.sh '3' 'DOVES' 'laplace' 'lin|lin' --seed 4 --method mc\"\u001b[0m,\n",
       "        \u001b[32m\"./fit_vae.sh '3' 'DOVES' 'laplace' 'lin|lin' --seed 4 --method exact\"\u001b[0m,\n",
       "        \u001b[32m\"./fit_vae.sh '3' 'DOVES' 'laplace' 'mlp+b|lin' --seed 4 --method mc\"\u001b[0m,\n",
       "        \u001b[32m\"./fit_vae.sh '3' 'DOVES' 'laplace' 'mlp+b|lin' --seed 4 --method exact\"\u001b[0m,\n",
       "        \u001b[32m\"./fit_vae.sh '3' 'DOVES' 'laplace' 'lin|lin' --seed 5 --method mc\"\u001b[0m,\n",
       "        \u001b[32m\"./fit_vae.sh '3' 'DOVES' 'laplace' 'lin|lin' --seed 5 --method exact\"\u001b[0m,\n",
       "        \u001b[32m\"./fit_vae.sh '3' 'DOVES' 'laplace' 'mlp+b|lin' --seed 5 --method mc\"\u001b[0m,\n",
       "        \u001b[32m\"./fit_vae.sh '3' 'DOVES' 'laplace' 'mlp+b|lin' --seed 5 --method exact\"\u001b[0m,\n",
       "        \u001b[32m\"./fit_vae.sh '3' 'CIFAR10-PATCHES' 'laplace' 'lin|lin' --seed 1 --method mc\"\u001b[0m,\n",
       "        \u001b[32m\"./fit_vae.sh '3' 'CIFAR10-PATCHES' 'laplace' 'lin|lin' --seed 1 --method exact\"\u001b[0m,\n",
       "        \u001b[32m\"./fit_vae.sh '3' 'CIFAR10-PATCHES' 'laplace' 'mlp+b|lin' --seed 1 --method mc\"\u001b[0m,\n",
       "        \u001b[32m\"./fit_vae.sh '3' 'CIFAR10-PATCHES' 'laplace' 'mlp+b|lin' --seed 1 --method exact\"\u001b[0m,\n",
       "        \u001b[32m\"./fit_vae.sh '3' 'CIFAR10-PATCHES' 'laplace' 'lin|lin' --seed 2 --method mc\"\u001b[0m,\n",
       "        \u001b[32m\"./fit_vae.sh '3' 'CIFAR10-PATCHES' 'laplace' 'lin|lin' --seed 2 --method exact\"\u001b[0m,\n",
       "        \u001b[32m\"./fit_vae.sh '3' 'CIFAR10-PATCHES' 'laplace' 'mlp+b|lin' --seed 2 --method mc\"\u001b[0m,\n",
       "        \u001b[32m\"./fit_vae.sh '3' 'CIFAR10-PATCHES' 'laplace' 'mlp+b|lin' --seed 2 --method exact\"\u001b[0m,\n",
       "        \u001b[32m\"./fit_vae.sh '3' 'CIFAR10-PATCHES' 'laplace' 'lin|lin' --seed 3 --method mc\"\u001b[0m,\n",
       "        \u001b[32m\"./fit_vae.sh '3' 'CIFAR10-PATCHES' 'laplace' 'lin|lin' --seed 3 --method exact\"\u001b[0m,\n",
       "        \u001b[32m\"./fit_vae.sh '3' 'CIFAR10-PATCHES' 'laplace' 'mlp+b|lin' --seed 3 --method mc\"\u001b[0m,\n",
       "        \u001b[32m\"./fit_vae.sh '3' 'CIFAR10-PATCHES' 'laplace' 'mlp+b|lin' --seed 3 --method exact\"\u001b[0m,\n",
       "        \u001b[32m\"./fit_vae.sh '3' 'CIFAR10-PATCHES' 'laplace' 'lin|lin' --seed 4 --method mc\"\u001b[0m,\n",
       "        \u001b[32m\"./fit_vae.sh '3' 'CIFAR10-PATCHES' 'laplace' 'lin|lin' --seed 4 --method exact\"\u001b[0m,\n",
       "        \u001b[32m\"./fit_vae.sh '3' 'CIFAR10-PATCHES' 'laplace' 'mlp+b|lin' --seed 4 --method mc\"\u001b[0m,\n",
       "        \u001b[32m\"./fit_vae.sh '3' 'CIFAR10-PATCHES' 'laplace' 'mlp+b|lin' --seed 4 --method exact\"\u001b[0m,\n",
       "        \u001b[32m\"./fit_vae.sh '3' 'CIFAR10-PATCHES' 'laplace' 'lin|lin' --seed 5 --method mc\"\u001b[0m,\n",
       "        \u001b[32m\"./fit_vae.sh '3' 'CIFAR10-PATCHES' 'laplace' 'lin|lin' --seed 5 --method exact\"\u001b[0m,\n",
       "        \u001b[32m\"./fit_vae.sh '3' 'CIFAR10-PATCHES' 'laplace' 'mlp+b|lin' --seed 5 --method mc\"\u001b[0m,\n",
       "        \u001b[32m\"./fit_vae.sh '3' 'CIFAR10-PATCHES' 'laplace' 'mlp+b|lin' --seed 5 --method exact\"\u001b[0m,\n",
       "        \u001b[32m\"./fit_vae.sh '3' 'MNIST' 'laplace' 'lin|lin' --seed 1 --method mc\"\u001b[0m,\n",
       "        \u001b[32m\"./fit_vae.sh '3' 'MNIST' 'laplace' 'lin|lin' --seed 1 --method exact\"\u001b[0m,\n",
       "        \u001b[32m\"./fit_vae.sh '3' 'MNIST' 'laplace' 'mlp+b|lin' --seed 1 --method mc\"\u001b[0m,\n",
       "        \u001b[32m\"./fit_vae.sh '3' 'MNIST' 'laplace' 'mlp+b|lin' --seed 1 --method exact\"\u001b[0m,\n",
       "        \u001b[32m\"./fit_vae.sh '3' 'MNIST' 'laplace' 'lin|lin' --seed 2 --method mc\"\u001b[0m,\n",
       "        \u001b[32m\"./fit_vae.sh '3' 'MNIST' 'laplace' 'lin|lin' --seed 2 --method exact\"\u001b[0m,\n",
       "        \u001b[32m\"./fit_vae.sh '3' 'MNIST' 'laplace' 'mlp+b|lin' --seed 2 --method mc\"\u001b[0m,\n",
       "        \u001b[32m\"./fit_vae.sh '3' 'MNIST' 'laplace' 'mlp+b|lin' --seed 2 --method exact\"\u001b[0m,\n",
       "        \u001b[32m\"./fit_vae.sh '3' 'MNIST' 'laplace' 'lin|lin' --seed 3 --method mc\"\u001b[0m,\n",
       "        \u001b[32m\"./fit_vae.sh '3' 'MNIST' 'laplace' 'lin|lin' --seed 3 --method exact\"\u001b[0m,\n",
       "        \u001b[32m\"./fit_vae.sh '3' 'MNIST' 'laplace' 'mlp+b|lin' --seed 3 --method mc\"\u001b[0m,\n",
       "        \u001b[32m\"./fit_vae.sh '3' 'MNIST' 'laplace' 'mlp+b|lin' --seed 3 --method exact\"\u001b[0m,\n",
       "        \u001b[32m\"./fit_vae.sh '3' 'MNIST' 'laplace' 'lin|lin' --seed 4 --method mc\"\u001b[0m,\n",
       "        \u001b[32m\"./fit_vae.sh '3' 'MNIST' 'laplace' 'lin|lin' --seed 4 --method exact\"\u001b[0m,\n",
       "        \u001b[32m\"./fit_vae.sh '3' 'MNIST' 'laplace' 'mlp+b|lin' --seed 4 --method mc\"\u001b[0m,\n",
       "        \u001b[32m\"./fit_vae.sh '3' 'MNIST' 'laplace' 'mlp+b|lin' --seed 4 --method exact\"\u001b[0m,\n",
       "        \u001b[32m\"./fit_vae.sh '3' 'MNIST' 'laplace' 'lin|lin' --seed 5 --method mc\"\u001b[0m,\n",
       "        \u001b[32m\"./fit_vae.sh '3' 'MNIST' 'laplace' 'lin|lin' --seed 5 --method exact\"\u001b[0m,\n",
       "        \u001b[32m\"./fit_vae.sh '3' 'MNIST' 'laplace' 'mlp+b|lin' --seed 5 --method mc\"\u001b[0m,\n",
       "        \u001b[32m\"./fit_vae.sh '3' 'MNIST' 'laplace' 'mlp+b|lin' --seed 5 --method exact\"\u001b[0m,\n",
       "        \u001b[32m\"./fit_vae.sh '3' 'DOVES' 'gaussian' 'lin|lin' --seed 1 --latent_act exp --comment exp --init_scale \u001b[0m\n",
       "\u001b[32m0.0001\"\u001b[0m,\n",
       "        \u001b[32m\"./fit_vae.sh '3' 'DOVES' 'gaussian' 'mlp+b|lin' --seed 1 --latent_act exp --comment exp --init_scale \u001b[0m\n",
       "\u001b[32m0.0001\"\u001b[0m,\n",
       "        \u001b[32m\"./fit_vae.sh '3' 'DOVES' 'gaussian' 'lin|lin' --seed 2 --latent_act exp --comment exp --init_scale \u001b[0m\n",
       "\u001b[32m0.0001\"\u001b[0m,\n",
       "        \u001b[32m\"./fit_vae.sh '3' 'DOVES' 'gaussian' 'mlp+b|lin' --seed 2 --latent_act exp --comment exp --init_scale \u001b[0m\n",
       "\u001b[32m0.0001\"\u001b[0m,\n",
       "        \u001b[32m\"./fit_vae.sh '3' 'DOVES' 'gaussian' 'lin|lin' --seed 3 --latent_act exp --comment exp --init_scale \u001b[0m\n",
       "\u001b[32m0.0001\"\u001b[0m,\n",
       "        \u001b[32m\"./fit_vae.sh '3' 'DOVES' 'gaussian' 'mlp+b|lin' --seed 3 --latent_act exp --comment exp --init_scale \u001b[0m\n",
       "\u001b[32m0.0001\"\u001b[0m,\n",
       "        \u001b[32m\"./fit_vae.sh '3' 'DOVES' 'gaussian' 'lin|lin' --seed 4 --latent_act exp --comment exp --init_scale \u001b[0m\n",
       "\u001b[32m0.0001\"\u001b[0m,\n",
       "        \u001b[32m\"./fit_vae.sh '3' 'DOVES' 'gaussian' 'mlp+b|lin' --seed 4 --latent_act exp --comment exp --init_scale \u001b[0m\n",
       "\u001b[32m0.0001\"\u001b[0m,\n",
       "        \u001b[32m\"./fit_vae.sh '3' 'DOVES' 'gaussian' 'lin|lin' --seed 5 --latent_act exp --comment exp --init_scale \u001b[0m\n",
       "\u001b[32m0.0001\"\u001b[0m,\n",
       "        \u001b[32m\"./fit_vae.sh '3' 'DOVES' 'gaussian' 'mlp+b|lin' --seed 5 --latent_act exp --comment exp --init_scale \u001b[0m\n",
       "\u001b[32m0.0001\"\u001b[0m,\n",
       "        \u001b[32m\"./fit_vae.sh '3' 'CIFAR10-PATCHES' 'gaussian' 'lin|lin' --seed 1 --latent_act exp --comment exp \u001b[0m\n",
       "\u001b[32m--init_scale 0.0001\"\u001b[0m,\n",
       "        \u001b[32m\"./fit_vae.sh '3' 'CIFAR10-PATCHES' 'gaussian' 'mlp+b|lin' --seed 1 --latent_act exp --comment exp \u001b[0m\n",
       "\u001b[32m--init_scale 0.0001\"\u001b[0m,\n",
       "        \u001b[32m\"./fit_vae.sh '3' 'CIFAR10-PATCHES' 'gaussian' 'lin|lin' --seed 2 --latent_act exp --comment exp \u001b[0m\n",
       "\u001b[32m--init_scale 0.0001\"\u001b[0m,\n",
       "        \u001b[32m\"./fit_vae.sh '3' 'CIFAR10-PATCHES' 'gaussian' 'mlp+b|lin' --seed 2 --latent_act exp --comment exp \u001b[0m\n",
       "\u001b[32m--init_scale 0.0001\"\u001b[0m,\n",
       "        \u001b[32m\"./fit_vae.sh '3' 'CIFAR10-PATCHES' 'gaussian' 'lin|lin' --seed 3 --latent_act exp --comment exp \u001b[0m\n",
       "\u001b[32m--init_scale 0.0001\"\u001b[0m,\n",
       "        \u001b[32m\"./fit_vae.sh '3' 'CIFAR10-PATCHES' 'gaussian' 'mlp+b|lin' --seed 3 --latent_act exp --comment exp \u001b[0m\n",
       "\u001b[32m--init_scale 0.0001\"\u001b[0m,\n",
       "        \u001b[32m\"./fit_vae.sh '3' 'CIFAR10-PATCHES' 'gaussian' 'lin|lin' --seed 4 --latent_act exp --comment exp \u001b[0m\n",
       "\u001b[32m--init_scale 0.0001\"\u001b[0m,\n",
       "        \u001b[32m\"./fit_vae.sh '3' 'CIFAR10-PATCHES' 'gaussian' 'mlp+b|lin' --seed 4 --latent_act exp --comment exp \u001b[0m\n",
       "\u001b[32m--init_scale 0.0001\"\u001b[0m,\n",
       "        \u001b[32m\"./fit_vae.sh '3' 'CIFAR10-PATCHES' 'gaussian' 'lin|lin' --seed 5 --latent_act exp --comment exp \u001b[0m\n",
       "\u001b[32m--init_scale 0.0001\"\u001b[0m,\n",
       "        \u001b[32m\"./fit_vae.sh '3' 'CIFAR10-PATCHES' 'gaussian' 'mlp+b|lin' --seed 5 --latent_act exp --comment exp \u001b[0m\n",
       "\u001b[32m--init_scale 0.0001\"\u001b[0m,\n",
       "        \u001b[32m\"./fit_vae.sh '3' 'MNIST' 'gaussian' 'lin|lin' --seed 1 --latent_act exp --comment exp --init_scale \u001b[0m\n",
       "\u001b[32m0.0001\"\u001b[0m,\n",
       "        \u001b[32m\"./fit_vae.sh '3' 'MNIST' 'gaussian' 'mlp+b|lin' --seed 1 --latent_act exp --comment exp --init_scale \u001b[0m\n",
       "\u001b[32m0.0001\"\u001b[0m,\n",
       "        \u001b[32m\"./fit_vae.sh '3' 'MNIST' 'gaussian' 'lin|lin' --seed 2 --latent_act exp --comment exp --init_scale \u001b[0m\n",
       "\u001b[32m0.0001\"\u001b[0m,\n",
       "        \u001b[32m\"./fit_vae.sh '3' 'MNIST' 'gaussian' 'mlp+b|lin' --seed 2 --latent_act exp --comment exp --init_scale \u001b[0m\n",
       "\u001b[32m0.0001\"\u001b[0m,\n",
       "        \u001b[32m\"./fit_vae.sh '3' 'MNIST' 'gaussian' 'lin|lin' --seed 3 --latent_act exp --comment exp --init_scale \u001b[0m\n",
       "\u001b[32m0.0001\"\u001b[0m,\n",
       "        \u001b[32m\"./fit_vae.sh '3' 'MNIST' 'gaussian' 'mlp+b|lin' --seed 3 --latent_act exp --comment exp --init_scale \u001b[0m\n",
       "\u001b[32m0.0001\"\u001b[0m,\n",
       "        \u001b[32m\"./fit_vae.sh '3' 'MNIST' 'gaussian' 'lin|lin' --seed 4 --latent_act exp --comment exp --init_scale \u001b[0m\n",
       "\u001b[32m0.0001\"\u001b[0m,\n",
       "        \u001b[32m\"./fit_vae.sh '3' 'MNIST' 'gaussian' 'mlp+b|lin' --seed 4 --latent_act exp --comment exp --init_scale \u001b[0m\n",
       "\u001b[32m0.0001\"\u001b[0m,\n",
       "        \u001b[32m\"./fit_vae.sh '3' 'MNIST' 'gaussian' 'lin|lin' --seed 5 --latent_act exp --comment exp --init_scale \u001b[0m\n",
       "\u001b[32m0.0001\"\u001b[0m,\n",
       "        \u001b[32m\"./fit_vae.sh '3' 'MNIST' 'gaussian' 'mlp+b|lin' --seed 5 --latent_act exp --comment exp --init_scale \u001b[0m\n",
       "\u001b[32m0.0001\"\u001b[0m\n",
       "    \u001b[1m]\u001b[0m\n",
       "\u001b[1m}\u001b[0m\n"
      ]
     },
     "metadata": {},
     "output_type": "display_data"
    }
   ],
   "source": [
    "print(scripts_mach)"
   ]
  },
  {
   "cell_type": "code",
   "execution_count": null,
   "id": "d603c4e7-e654-489a-a4d6-fc5963e0a847",
   "metadata": {},
   "outputs": [],
   "source": []
  },
  {
   "cell_type": "code",
   "execution_count": null,
   "id": "2e597c84-b848-4871-9e4d-3a4a4dcaedd1",
   "metadata": {},
   "outputs": [],
   "source": []
  },
  {
   "cell_type": "code",
   "execution_count": 15,
   "id": "40821d16-9de7-4fbd-9db3-98fe7b429479",
   "metadata": {},
   "outputs": [
    {
     "data": {
      "text/html": [
       "<pre style=\"white-space:pre;overflow-x:auto;line-height:normal;font-family:Menlo,'DejaVu Sans Mono',consolas,'Courier New',monospace\"><span style=\"font-weight: bold\">[</span>\n",
       "    <span style=\"font-weight: bold\">[</span>\n",
       "        <span style=\"color: #008000; text-decoration-color: #008000\">\"./fit_vae.sh '3' 'DOVES' 'laplace' 'lin|lin' --seed 1 --method mc\"</span>,\n",
       "        <span style=\"color: #008000; text-decoration-color: #008000\">\"./fit_vae.sh '3' 'DOVES' 'laplace' 'lin|lin' --seed 1 --method exact\"</span>,\n",
       "        <span style=\"color: #008000; text-decoration-color: #008000\">\"./fit_vae.sh '3' 'DOVES' 'laplace' 'mlp+b|lin' --seed 1 --method mc\"</span>,\n",
       "        <span style=\"color: #008000; text-decoration-color: #008000\">\"./fit_vae.sh '3' 'DOVES' 'laplace' 'mlp+b|lin' --seed 1 --method exact\"</span>,\n",
       "        <span style=\"color: #008000; text-decoration-color: #008000\">\"./fit_vae.sh '3' 'DOVES' 'laplace' 'lin|lin' --seed 2 --method mc\"</span>,\n",
       "        <span style=\"color: #008000; text-decoration-color: #008000\">\"./fit_vae.sh '3' 'DOVES' 'laplace' 'lin|lin' --seed 2 --method exact\"</span>,\n",
       "        <span style=\"color: #008000; text-decoration-color: #008000\">\"./fit_vae.sh '3' 'DOVES' 'laplace' 'mlp+b|lin' --seed 2 --method mc\"</span>,\n",
       "        <span style=\"color: #008000; text-decoration-color: #008000\">\"./fit_vae.sh '3' 'DOVES' 'laplace' 'mlp+b|lin' --seed 2 --method exact\"</span>,\n",
       "        <span style=\"color: #008000; text-decoration-color: #008000\">\"./fit_vae.sh '3' 'DOVES' 'laplace' 'lin|lin' --seed 3 --method mc\"</span>,\n",
       "        <span style=\"color: #008000; text-decoration-color: #008000\">\"./fit_vae.sh '3' 'DOVES' 'laplace' 'lin|lin' --seed 3 --method exact\"</span>,\n",
       "        <span style=\"color: #008000; text-decoration-color: #008000\">\"./fit_vae.sh '3' 'DOVES' 'laplace' 'mlp+b|lin' --seed 3 --method mc\"</span>,\n",
       "        <span style=\"color: #008000; text-decoration-color: #008000\">\"./fit_vae.sh '3' 'DOVES' 'laplace' 'mlp+b|lin' --seed 3 --method exact\"</span>,\n",
       "        <span style=\"color: #008000; text-decoration-color: #008000\">\"./fit_vae.sh '3' 'DOVES' 'laplace' 'lin|lin' --seed 4 --method mc\"</span>,\n",
       "        <span style=\"color: #008000; text-decoration-color: #008000\">\"./fit_vae.sh '3' 'DOVES' 'laplace' 'lin|lin' --seed 4 --method exact\"</span>,\n",
       "        <span style=\"color: #008000; text-decoration-color: #008000\">\"./fit_vae.sh '3' 'DOVES' 'laplace' 'mlp+b|lin' --seed 4 --method mc\"</span>\n",
       "    <span style=\"font-weight: bold\">]</span>,\n",
       "    <span style=\"font-weight: bold\">[</span>\n",
       "        <span style=\"color: #008000; text-decoration-color: #008000\">\"./fit_vae.sh '3' 'DOVES' 'laplace' 'mlp+b|lin' --seed 4 --method exact\"</span>,\n",
       "        <span style=\"color: #008000; text-decoration-color: #008000\">\"./fit_vae.sh '3' 'DOVES' 'laplace' 'lin|lin' --seed 5 --method mc\"</span>,\n",
       "        <span style=\"color: #008000; text-decoration-color: #008000\">\"./fit_vae.sh '3' 'DOVES' 'laplace' 'lin|lin' --seed 5 --method exact\"</span>,\n",
       "        <span style=\"color: #008000; text-decoration-color: #008000\">\"./fit_vae.sh '3' 'DOVES' 'laplace' 'mlp+b|lin' --seed 5 --method mc\"</span>,\n",
       "        <span style=\"color: #008000; text-decoration-color: #008000\">\"./fit_vae.sh '3' 'DOVES' 'laplace' 'mlp+b|lin' --seed 5 --method exact\"</span>,\n",
       "        <span style=\"color: #008000; text-decoration-color: #008000\">\"./fit_vae.sh '3' 'CIFAR10-PATCHES' 'laplace' 'lin|lin' --seed 1 --method mc\"</span>,\n",
       "        <span style=\"color: #008000; text-decoration-color: #008000\">\"./fit_vae.sh '3' 'CIFAR10-PATCHES' 'laplace' 'lin|lin' --seed 1 --method exact\"</span>,\n",
       "        <span style=\"color: #008000; text-decoration-color: #008000\">\"./fit_vae.sh '3' 'CIFAR10-PATCHES' 'laplace' 'mlp+b|lin' --seed 1 --method mc\"</span>,\n",
       "        <span style=\"color: #008000; text-decoration-color: #008000\">\"./fit_vae.sh '3' 'CIFAR10-PATCHES' 'laplace' 'mlp+b|lin' --seed 1 --method exact\"</span>,\n",
       "        <span style=\"color: #008000; text-decoration-color: #008000\">\"./fit_vae.sh '3' 'CIFAR10-PATCHES' 'laplace' 'lin|lin' --seed 2 --method mc\"</span>,\n",
       "        <span style=\"color: #008000; text-decoration-color: #008000\">\"./fit_vae.sh '3' 'CIFAR10-PATCHES' 'laplace' 'lin|lin' --seed 2 --method exact\"</span>,\n",
       "        <span style=\"color: #008000; text-decoration-color: #008000\">\"./fit_vae.sh '3' 'CIFAR10-PATCHES' 'laplace' 'mlp+b|lin' --seed 2 --method mc\"</span>,\n",
       "        <span style=\"color: #008000; text-decoration-color: #008000\">\"./fit_vae.sh '3' 'CIFAR10-PATCHES' 'laplace' 'mlp+b|lin' --seed 2 --method exact\"</span>,\n",
       "        <span style=\"color: #008000; text-decoration-color: #008000\">\"./fit_vae.sh '3' 'CIFAR10-PATCHES' 'laplace' 'lin|lin' --seed 3 --method mc\"</span>,\n",
       "        <span style=\"color: #008000; text-decoration-color: #008000\">\"./fit_vae.sh '3' 'CIFAR10-PATCHES' 'laplace' 'lin|lin' --seed 3 --method exact\"</span>\n",
       "    <span style=\"font-weight: bold\">]</span>,\n",
       "    <span style=\"font-weight: bold\">[</span>\n",
       "        <span style=\"color: #008000; text-decoration-color: #008000\">\"./fit_vae.sh '3' 'CIFAR10-PATCHES' 'laplace' 'mlp+b|lin' --seed 3 --method mc\"</span>,\n",
       "        <span style=\"color: #008000; text-decoration-color: #008000\">\"./fit_vae.sh '3' 'CIFAR10-PATCHES' 'laplace' 'mlp+b|lin' --seed 3 --method exact\"</span>,\n",
       "        <span style=\"color: #008000; text-decoration-color: #008000\">\"./fit_vae.sh '3' 'CIFAR10-PATCHES' 'laplace' 'lin|lin' --seed 4 --method mc\"</span>,\n",
       "        <span style=\"color: #008000; text-decoration-color: #008000\">\"./fit_vae.sh '3' 'CIFAR10-PATCHES' 'laplace' 'lin|lin' --seed 4 --method exact\"</span>,\n",
       "        <span style=\"color: #008000; text-decoration-color: #008000\">\"./fit_vae.sh '3' 'CIFAR10-PATCHES' 'laplace' 'mlp+b|lin' --seed 4 --method mc\"</span>,\n",
       "        <span style=\"color: #008000; text-decoration-color: #008000\">\"./fit_vae.sh '3' 'CIFAR10-PATCHES' 'laplace' 'mlp+b|lin' --seed 4 --method exact\"</span>,\n",
       "        <span style=\"color: #008000; text-decoration-color: #008000\">\"./fit_vae.sh '3' 'CIFAR10-PATCHES' 'laplace' 'lin|lin' --seed 5 --method mc\"</span>,\n",
       "        <span style=\"color: #008000; text-decoration-color: #008000\">\"./fit_vae.sh '3' 'CIFAR10-PATCHES' 'laplace' 'lin|lin' --seed 5 --method exact\"</span>,\n",
       "        <span style=\"color: #008000; text-decoration-color: #008000\">\"./fit_vae.sh '3' 'CIFAR10-PATCHES' 'laplace' 'mlp+b|lin' --seed 5 --method mc\"</span>,\n",
       "        <span style=\"color: #008000; text-decoration-color: #008000\">\"./fit_vae.sh '3' 'CIFAR10-PATCHES' 'laplace' 'mlp+b|lin' --seed 5 --method exact\"</span>,\n",
       "        <span style=\"color: #008000; text-decoration-color: #008000\">\"./fit_vae.sh '3' 'MNIST' 'laplace' 'lin|lin' --seed 1 --method mc\"</span>,\n",
       "        <span style=\"color: #008000; text-decoration-color: #008000\">\"./fit_vae.sh '3' 'MNIST' 'laplace' 'lin|lin' --seed 1 --method exact\"</span>,\n",
       "        <span style=\"color: #008000; text-decoration-color: #008000\">\"./fit_vae.sh '3' 'MNIST' 'laplace' 'mlp+b|lin' --seed 1 --method mc\"</span>,\n",
       "        <span style=\"color: #008000; text-decoration-color: #008000\">\"./fit_vae.sh '3' 'MNIST' 'laplace' 'mlp+b|lin' --seed 1 --method exact\"</span>,\n",
       "        <span style=\"color: #008000; text-decoration-color: #008000\">\"./fit_vae.sh '3' 'MNIST' 'laplace' 'lin|lin' --seed 2 --method mc\"</span>\n",
       "    <span style=\"font-weight: bold\">]</span>,\n",
       "    <span style=\"font-weight: bold\">[</span>\n",
       "        <span style=\"color: #008000; text-decoration-color: #008000\">\"./fit_vae.sh '3' 'MNIST' 'laplace' 'lin|lin' --seed 2 --method exact\"</span>,\n",
       "        <span style=\"color: #008000; text-decoration-color: #008000\">\"./fit_vae.sh '3' 'MNIST' 'laplace' 'mlp+b|lin' --seed 2 --method mc\"</span>,\n",
       "        <span style=\"color: #008000; text-decoration-color: #008000\">\"./fit_vae.sh '3' 'MNIST' 'laplace' 'mlp+b|lin' --seed 2 --method exact\"</span>,\n",
       "        <span style=\"color: #008000; text-decoration-color: #008000\">\"./fit_vae.sh '3' 'MNIST' 'laplace' 'lin|lin' --seed 3 --method mc\"</span>,\n",
       "        <span style=\"color: #008000; text-decoration-color: #008000\">\"./fit_vae.sh '3' 'MNIST' 'laplace' 'lin|lin' --seed 3 --method exact\"</span>,\n",
       "        <span style=\"color: #008000; text-decoration-color: #008000\">\"./fit_vae.sh '3' 'MNIST' 'laplace' 'mlp+b|lin' --seed 3 --method mc\"</span>,\n",
       "        <span style=\"color: #008000; text-decoration-color: #008000\">\"./fit_vae.sh '3' 'MNIST' 'laplace' 'mlp+b|lin' --seed 3 --method exact\"</span>,\n",
       "        <span style=\"color: #008000; text-decoration-color: #008000\">\"./fit_vae.sh '3' 'MNIST' 'laplace' 'lin|lin' --seed 4 --method mc\"</span>,\n",
       "        <span style=\"color: #008000; text-decoration-color: #008000\">\"./fit_vae.sh '3' 'MNIST' 'laplace' 'lin|lin' --seed 4 --method exact\"</span>,\n",
       "        <span style=\"color: #008000; text-decoration-color: #008000\">\"./fit_vae.sh '3' 'MNIST' 'laplace' 'mlp+b|lin' --seed 4 --method mc\"</span>,\n",
       "        <span style=\"color: #008000; text-decoration-color: #008000\">\"./fit_vae.sh '3' 'MNIST' 'laplace' 'mlp+b|lin' --seed 4 --method exact\"</span>,\n",
       "        <span style=\"color: #008000; text-decoration-color: #008000\">\"./fit_vae.sh '3' 'MNIST' 'laplace' 'lin|lin' --seed 5 --method mc\"</span>,\n",
       "        <span style=\"color: #008000; text-decoration-color: #008000\">\"./fit_vae.sh '3' 'MNIST' 'laplace' 'lin|lin' --seed 5 --method exact\"</span>,\n",
       "        <span style=\"color: #008000; text-decoration-color: #008000\">\"./fit_vae.sh '3' 'MNIST' 'laplace' 'mlp+b|lin' --seed 5 --method mc\"</span>,\n",
       "        <span style=\"color: #008000; text-decoration-color: #008000\">\"./fit_vae.sh '3' 'MNIST' 'laplace' 'mlp+b|lin' --seed 5 --method exact\"</span>\n",
       "    <span style=\"font-weight: bold\">]</span>,\n",
       "    <span style=\"font-weight: bold\">[</span>\n",
       "        <span style=\"color: #008000; text-decoration-color: #008000\">\"./fit_vae.sh '3' 'DOVES' 'gaussian' 'lin|lin' --seed 1 --latent_act exp --comment exp --init_scale </span>\n",
       "<span style=\"color: #008000; text-decoration-color: #008000\">0.0001\"</span>,\n",
       "        <span style=\"color: #008000; text-decoration-color: #008000\">\"./fit_vae.sh '3' 'DOVES' 'gaussian' 'mlp+b|lin' --seed 1 --latent_act exp --comment exp --init_scale </span>\n",
       "<span style=\"color: #008000; text-decoration-color: #008000\">0.0001\"</span>,\n",
       "        <span style=\"color: #008000; text-decoration-color: #008000\">\"./fit_vae.sh '3' 'DOVES' 'gaussian' 'lin|lin' --seed 2 --latent_act exp --comment exp --init_scale </span>\n",
       "<span style=\"color: #008000; text-decoration-color: #008000\">0.0001\"</span>,\n",
       "        <span style=\"color: #008000; text-decoration-color: #008000\">\"./fit_vae.sh '3' 'DOVES' 'gaussian' 'mlp+b|lin' --seed 2 --latent_act exp --comment exp --init_scale </span>\n",
       "<span style=\"color: #008000; text-decoration-color: #008000\">0.0001\"</span>,\n",
       "        <span style=\"color: #008000; text-decoration-color: #008000\">\"./fit_vae.sh '3' 'DOVES' 'gaussian' 'lin|lin' --seed 3 --latent_act exp --comment exp --init_scale </span>\n",
       "<span style=\"color: #008000; text-decoration-color: #008000\">0.0001\"</span>,\n",
       "        <span style=\"color: #008000; text-decoration-color: #008000\">\"./fit_vae.sh '3' 'DOVES' 'gaussian' 'mlp+b|lin' --seed 3 --latent_act exp --comment exp --init_scale </span>\n",
       "<span style=\"color: #008000; text-decoration-color: #008000\">0.0001\"</span>,\n",
       "        <span style=\"color: #008000; text-decoration-color: #008000\">\"./fit_vae.sh '3' 'DOVES' 'gaussian' 'lin|lin' --seed 4 --latent_act exp --comment exp --init_scale </span>\n",
       "<span style=\"color: #008000; text-decoration-color: #008000\">0.0001\"</span>,\n",
       "        <span style=\"color: #008000; text-decoration-color: #008000\">\"./fit_vae.sh '3' 'DOVES' 'gaussian' 'mlp+b|lin' --seed 4 --latent_act exp --comment exp --init_scale </span>\n",
       "<span style=\"color: #008000; text-decoration-color: #008000\">0.0001\"</span>,\n",
       "        <span style=\"color: #008000; text-decoration-color: #008000\">\"./fit_vae.sh '3' 'DOVES' 'gaussian' 'lin|lin' --seed 5 --latent_act exp --comment exp --init_scale </span>\n",
       "<span style=\"color: #008000; text-decoration-color: #008000\">0.0001\"</span>,\n",
       "        <span style=\"color: #008000; text-decoration-color: #008000\">\"./fit_vae.sh '3' 'DOVES' 'gaussian' 'mlp+b|lin' --seed 5 --latent_act exp --comment exp --init_scale </span>\n",
       "<span style=\"color: #008000; text-decoration-color: #008000\">0.0001\"</span>,\n",
       "        <span style=\"color: #008000; text-decoration-color: #008000\">\"./fit_vae.sh '3' 'CIFAR10-PATCHES' 'gaussian' 'lin|lin' --seed 1 --latent_act exp --comment exp </span>\n",
       "<span style=\"color: #008000; text-decoration-color: #008000\">--init_scale 0.0001\"</span>,\n",
       "        <span style=\"color: #008000; text-decoration-color: #008000\">\"./fit_vae.sh '3' 'CIFAR10-PATCHES' 'gaussian' 'mlp+b|lin' --seed 1 --latent_act exp --comment exp </span>\n",
       "<span style=\"color: #008000; text-decoration-color: #008000\">--init_scale 0.0001\"</span>,\n",
       "        <span style=\"color: #008000; text-decoration-color: #008000\">\"./fit_vae.sh '3' 'CIFAR10-PATCHES' 'gaussian' 'lin|lin' --seed 2 --latent_act exp --comment exp </span>\n",
       "<span style=\"color: #008000; text-decoration-color: #008000\">--init_scale 0.0001\"</span>,\n",
       "        <span style=\"color: #008000; text-decoration-color: #008000\">\"./fit_vae.sh '3' 'CIFAR10-PATCHES' 'gaussian' 'mlp+b|lin' --seed 2 --latent_act exp --comment exp </span>\n",
       "<span style=\"color: #008000; text-decoration-color: #008000\">--init_scale 0.0001\"</span>,\n",
       "        <span style=\"color: #008000; text-decoration-color: #008000\">\"./fit_vae.sh '3' 'CIFAR10-PATCHES' 'gaussian' 'lin|lin' --seed 3 --latent_act exp --comment exp </span>\n",
       "<span style=\"color: #008000; text-decoration-color: #008000\">--init_scale 0.0001\"</span>\n",
       "    <span style=\"font-weight: bold\">]</span>,\n",
       "    <span style=\"font-weight: bold\">[</span>\n",
       "        <span style=\"color: #008000; text-decoration-color: #008000\">\"./fit_vae.sh '3' 'CIFAR10-PATCHES' 'gaussian' 'mlp+b|lin' --seed 3 --latent_act exp --comment exp </span>\n",
       "<span style=\"color: #008000; text-decoration-color: #008000\">--init_scale 0.0001\"</span>,\n",
       "        <span style=\"color: #008000; text-decoration-color: #008000\">\"./fit_vae.sh '3' 'CIFAR10-PATCHES' 'gaussian' 'lin|lin' --seed 4 --latent_act exp --comment exp </span>\n",
       "<span style=\"color: #008000; text-decoration-color: #008000\">--init_scale 0.0001\"</span>,\n",
       "        <span style=\"color: #008000; text-decoration-color: #008000\">\"./fit_vae.sh '3' 'CIFAR10-PATCHES' 'gaussian' 'mlp+b|lin' --seed 4 --latent_act exp --comment exp </span>\n",
       "<span style=\"color: #008000; text-decoration-color: #008000\">--init_scale 0.0001\"</span>,\n",
       "        <span style=\"color: #008000; text-decoration-color: #008000\">\"./fit_vae.sh '3' 'CIFAR10-PATCHES' 'gaussian' 'lin|lin' --seed 5 --latent_act exp --comment exp </span>\n",
       "<span style=\"color: #008000; text-decoration-color: #008000\">--init_scale 0.0001\"</span>,\n",
       "        <span style=\"color: #008000; text-decoration-color: #008000\">\"./fit_vae.sh '3' 'CIFAR10-PATCHES' 'gaussian' 'mlp+b|lin' --seed 5 --latent_act exp --comment exp </span>\n",
       "<span style=\"color: #008000; text-decoration-color: #008000\">--init_scale 0.0001\"</span>,\n",
       "        <span style=\"color: #008000; text-decoration-color: #008000\">\"./fit_vae.sh '3' 'MNIST' 'gaussian' 'lin|lin' --seed 1 --latent_act exp --comment exp --init_scale </span>\n",
       "<span style=\"color: #008000; text-decoration-color: #008000\">0.0001\"</span>,\n",
       "        <span style=\"color: #008000; text-decoration-color: #008000\">\"./fit_vae.sh '3' 'MNIST' 'gaussian' 'mlp+b|lin' --seed 1 --latent_act exp --comment exp --init_scale </span>\n",
       "<span style=\"color: #008000; text-decoration-color: #008000\">0.0001\"</span>,\n",
       "        <span style=\"color: #008000; text-decoration-color: #008000\">\"./fit_vae.sh '3' 'MNIST' 'gaussian' 'lin|lin' --seed 2 --latent_act exp --comment exp --init_scale </span>\n",
       "<span style=\"color: #008000; text-decoration-color: #008000\">0.0001\"</span>,\n",
       "        <span style=\"color: #008000; text-decoration-color: #008000\">\"./fit_vae.sh '3' 'MNIST' 'gaussian' 'mlp+b|lin' --seed 2 --latent_act exp --comment exp --init_scale </span>\n",
       "<span style=\"color: #008000; text-decoration-color: #008000\">0.0001\"</span>,\n",
       "        <span style=\"color: #008000; text-decoration-color: #008000\">\"./fit_vae.sh '3' 'MNIST' 'gaussian' 'lin|lin' --seed 3 --latent_act exp --comment exp --init_scale </span>\n",
       "<span style=\"color: #008000; text-decoration-color: #008000\">0.0001\"</span>,\n",
       "        <span style=\"color: #008000; text-decoration-color: #008000\">\"./fit_vae.sh '3' 'MNIST' 'gaussian' 'mlp+b|lin' --seed 3 --latent_act exp --comment exp --init_scale </span>\n",
       "<span style=\"color: #008000; text-decoration-color: #008000\">0.0001\"</span>,\n",
       "        <span style=\"color: #008000; text-decoration-color: #008000\">\"./fit_vae.sh '3' 'MNIST' 'gaussian' 'lin|lin' --seed 4 --latent_act exp --comment exp --init_scale </span>\n",
       "<span style=\"color: #008000; text-decoration-color: #008000\">0.0001\"</span>,\n",
       "        <span style=\"color: #008000; text-decoration-color: #008000\">\"./fit_vae.sh '3' 'MNIST' 'gaussian' 'mlp+b|lin' --seed 4 --latent_act exp --comment exp --init_scale </span>\n",
       "<span style=\"color: #008000; text-decoration-color: #008000\">0.0001\"</span>,\n",
       "        <span style=\"color: #008000; text-decoration-color: #008000\">\"./fit_vae.sh '3' 'MNIST' 'gaussian' 'lin|lin' --seed 5 --latent_act exp --comment exp --init_scale </span>\n",
       "<span style=\"color: #008000; text-decoration-color: #008000\">0.0001\"</span>,\n",
       "        <span style=\"color: #008000; text-decoration-color: #008000\">\"./fit_vae.sh '3' 'MNIST' 'gaussian' 'mlp+b|lin' --seed 5 --latent_act exp --comment exp --init_scale </span>\n",
       "<span style=\"color: #008000; text-decoration-color: #008000\">0.0001\"</span>\n",
       "    <span style=\"font-weight: bold\">]</span>\n",
       "<span style=\"font-weight: bold\">]</span>\n",
       "</pre>\n"
      ],
      "text/plain": [
       "\u001b[1m[\u001b[0m\n",
       "    \u001b[1m[\u001b[0m\n",
       "        \u001b[32m\"./fit_vae.sh '3' 'DOVES' 'laplace' 'lin|lin' --seed 1 --method mc\"\u001b[0m,\n",
       "        \u001b[32m\"./fit_vae.sh '3' 'DOVES' 'laplace' 'lin|lin' --seed 1 --method exact\"\u001b[0m,\n",
       "        \u001b[32m\"./fit_vae.sh '3' 'DOVES' 'laplace' 'mlp+b|lin' --seed 1 --method mc\"\u001b[0m,\n",
       "        \u001b[32m\"./fit_vae.sh '3' 'DOVES' 'laplace' 'mlp+b|lin' --seed 1 --method exact\"\u001b[0m,\n",
       "        \u001b[32m\"./fit_vae.sh '3' 'DOVES' 'laplace' 'lin|lin' --seed 2 --method mc\"\u001b[0m,\n",
       "        \u001b[32m\"./fit_vae.sh '3' 'DOVES' 'laplace' 'lin|lin' --seed 2 --method exact\"\u001b[0m,\n",
       "        \u001b[32m\"./fit_vae.sh '3' 'DOVES' 'laplace' 'mlp+b|lin' --seed 2 --method mc\"\u001b[0m,\n",
       "        \u001b[32m\"./fit_vae.sh '3' 'DOVES' 'laplace' 'mlp+b|lin' --seed 2 --method exact\"\u001b[0m,\n",
       "        \u001b[32m\"./fit_vae.sh '3' 'DOVES' 'laplace' 'lin|lin' --seed 3 --method mc\"\u001b[0m,\n",
       "        \u001b[32m\"./fit_vae.sh '3' 'DOVES' 'laplace' 'lin|lin' --seed 3 --method exact\"\u001b[0m,\n",
       "        \u001b[32m\"./fit_vae.sh '3' 'DOVES' 'laplace' 'mlp+b|lin' --seed 3 --method mc\"\u001b[0m,\n",
       "        \u001b[32m\"./fit_vae.sh '3' 'DOVES' 'laplace' 'mlp+b|lin' --seed 3 --method exact\"\u001b[0m,\n",
       "        \u001b[32m\"./fit_vae.sh '3' 'DOVES' 'laplace' 'lin|lin' --seed 4 --method mc\"\u001b[0m,\n",
       "        \u001b[32m\"./fit_vae.sh '3' 'DOVES' 'laplace' 'lin|lin' --seed 4 --method exact\"\u001b[0m,\n",
       "        \u001b[32m\"./fit_vae.sh '3' 'DOVES' 'laplace' 'mlp+b|lin' --seed 4 --method mc\"\u001b[0m\n",
       "    \u001b[1m]\u001b[0m,\n",
       "    \u001b[1m[\u001b[0m\n",
       "        \u001b[32m\"./fit_vae.sh '3' 'DOVES' 'laplace' 'mlp+b|lin' --seed 4 --method exact\"\u001b[0m,\n",
       "        \u001b[32m\"./fit_vae.sh '3' 'DOVES' 'laplace' 'lin|lin' --seed 5 --method mc\"\u001b[0m,\n",
       "        \u001b[32m\"./fit_vae.sh '3' 'DOVES' 'laplace' 'lin|lin' --seed 5 --method exact\"\u001b[0m,\n",
       "        \u001b[32m\"./fit_vae.sh '3' 'DOVES' 'laplace' 'mlp+b|lin' --seed 5 --method mc\"\u001b[0m,\n",
       "        \u001b[32m\"./fit_vae.sh '3' 'DOVES' 'laplace' 'mlp+b|lin' --seed 5 --method exact\"\u001b[0m,\n",
       "        \u001b[32m\"./fit_vae.sh '3' 'CIFAR10-PATCHES' 'laplace' 'lin|lin' --seed 1 --method mc\"\u001b[0m,\n",
       "        \u001b[32m\"./fit_vae.sh '3' 'CIFAR10-PATCHES' 'laplace' 'lin|lin' --seed 1 --method exact\"\u001b[0m,\n",
       "        \u001b[32m\"./fit_vae.sh '3' 'CIFAR10-PATCHES' 'laplace' 'mlp+b|lin' --seed 1 --method mc\"\u001b[0m,\n",
       "        \u001b[32m\"./fit_vae.sh '3' 'CIFAR10-PATCHES' 'laplace' 'mlp+b|lin' --seed 1 --method exact\"\u001b[0m,\n",
       "        \u001b[32m\"./fit_vae.sh '3' 'CIFAR10-PATCHES' 'laplace' 'lin|lin' --seed 2 --method mc\"\u001b[0m,\n",
       "        \u001b[32m\"./fit_vae.sh '3' 'CIFAR10-PATCHES' 'laplace' 'lin|lin' --seed 2 --method exact\"\u001b[0m,\n",
       "        \u001b[32m\"./fit_vae.sh '3' 'CIFAR10-PATCHES' 'laplace' 'mlp+b|lin' --seed 2 --method mc\"\u001b[0m,\n",
       "        \u001b[32m\"./fit_vae.sh '3' 'CIFAR10-PATCHES' 'laplace' 'mlp+b|lin' --seed 2 --method exact\"\u001b[0m,\n",
       "        \u001b[32m\"./fit_vae.sh '3' 'CIFAR10-PATCHES' 'laplace' 'lin|lin' --seed 3 --method mc\"\u001b[0m,\n",
       "        \u001b[32m\"./fit_vae.sh '3' 'CIFAR10-PATCHES' 'laplace' 'lin|lin' --seed 3 --method exact\"\u001b[0m\n",
       "    \u001b[1m]\u001b[0m,\n",
       "    \u001b[1m[\u001b[0m\n",
       "        \u001b[32m\"./fit_vae.sh '3' 'CIFAR10-PATCHES' 'laplace' 'mlp+b|lin' --seed 3 --method mc\"\u001b[0m,\n",
       "        \u001b[32m\"./fit_vae.sh '3' 'CIFAR10-PATCHES' 'laplace' 'mlp+b|lin' --seed 3 --method exact\"\u001b[0m,\n",
       "        \u001b[32m\"./fit_vae.sh '3' 'CIFAR10-PATCHES' 'laplace' 'lin|lin' --seed 4 --method mc\"\u001b[0m,\n",
       "        \u001b[32m\"./fit_vae.sh '3' 'CIFAR10-PATCHES' 'laplace' 'lin|lin' --seed 4 --method exact\"\u001b[0m,\n",
       "        \u001b[32m\"./fit_vae.sh '3' 'CIFAR10-PATCHES' 'laplace' 'mlp+b|lin' --seed 4 --method mc\"\u001b[0m,\n",
       "        \u001b[32m\"./fit_vae.sh '3' 'CIFAR10-PATCHES' 'laplace' 'mlp+b|lin' --seed 4 --method exact\"\u001b[0m,\n",
       "        \u001b[32m\"./fit_vae.sh '3' 'CIFAR10-PATCHES' 'laplace' 'lin|lin' --seed 5 --method mc\"\u001b[0m,\n",
       "        \u001b[32m\"./fit_vae.sh '3' 'CIFAR10-PATCHES' 'laplace' 'lin|lin' --seed 5 --method exact\"\u001b[0m,\n",
       "        \u001b[32m\"./fit_vae.sh '3' 'CIFAR10-PATCHES' 'laplace' 'mlp+b|lin' --seed 5 --method mc\"\u001b[0m,\n",
       "        \u001b[32m\"./fit_vae.sh '3' 'CIFAR10-PATCHES' 'laplace' 'mlp+b|lin' --seed 5 --method exact\"\u001b[0m,\n",
       "        \u001b[32m\"./fit_vae.sh '3' 'MNIST' 'laplace' 'lin|lin' --seed 1 --method mc\"\u001b[0m,\n",
       "        \u001b[32m\"./fit_vae.sh '3' 'MNIST' 'laplace' 'lin|lin' --seed 1 --method exact\"\u001b[0m,\n",
       "        \u001b[32m\"./fit_vae.sh '3' 'MNIST' 'laplace' 'mlp+b|lin' --seed 1 --method mc\"\u001b[0m,\n",
       "        \u001b[32m\"./fit_vae.sh '3' 'MNIST' 'laplace' 'mlp+b|lin' --seed 1 --method exact\"\u001b[0m,\n",
       "        \u001b[32m\"./fit_vae.sh '3' 'MNIST' 'laplace' 'lin|lin' --seed 2 --method mc\"\u001b[0m\n",
       "    \u001b[1m]\u001b[0m,\n",
       "    \u001b[1m[\u001b[0m\n",
       "        \u001b[32m\"./fit_vae.sh '3' 'MNIST' 'laplace' 'lin|lin' --seed 2 --method exact\"\u001b[0m,\n",
       "        \u001b[32m\"./fit_vae.sh '3' 'MNIST' 'laplace' 'mlp+b|lin' --seed 2 --method mc\"\u001b[0m,\n",
       "        \u001b[32m\"./fit_vae.sh '3' 'MNIST' 'laplace' 'mlp+b|lin' --seed 2 --method exact\"\u001b[0m,\n",
       "        \u001b[32m\"./fit_vae.sh '3' 'MNIST' 'laplace' 'lin|lin' --seed 3 --method mc\"\u001b[0m,\n",
       "        \u001b[32m\"./fit_vae.sh '3' 'MNIST' 'laplace' 'lin|lin' --seed 3 --method exact\"\u001b[0m,\n",
       "        \u001b[32m\"./fit_vae.sh '3' 'MNIST' 'laplace' 'mlp+b|lin' --seed 3 --method mc\"\u001b[0m,\n",
       "        \u001b[32m\"./fit_vae.sh '3' 'MNIST' 'laplace' 'mlp+b|lin' --seed 3 --method exact\"\u001b[0m,\n",
       "        \u001b[32m\"./fit_vae.sh '3' 'MNIST' 'laplace' 'lin|lin' --seed 4 --method mc\"\u001b[0m,\n",
       "        \u001b[32m\"./fit_vae.sh '3' 'MNIST' 'laplace' 'lin|lin' --seed 4 --method exact\"\u001b[0m,\n",
       "        \u001b[32m\"./fit_vae.sh '3' 'MNIST' 'laplace' 'mlp+b|lin' --seed 4 --method mc\"\u001b[0m,\n",
       "        \u001b[32m\"./fit_vae.sh '3' 'MNIST' 'laplace' 'mlp+b|lin' --seed 4 --method exact\"\u001b[0m,\n",
       "        \u001b[32m\"./fit_vae.sh '3' 'MNIST' 'laplace' 'lin|lin' --seed 5 --method mc\"\u001b[0m,\n",
       "        \u001b[32m\"./fit_vae.sh '3' 'MNIST' 'laplace' 'lin|lin' --seed 5 --method exact\"\u001b[0m,\n",
       "        \u001b[32m\"./fit_vae.sh '3' 'MNIST' 'laplace' 'mlp+b|lin' --seed 5 --method mc\"\u001b[0m,\n",
       "        \u001b[32m\"./fit_vae.sh '3' 'MNIST' 'laplace' 'mlp+b|lin' --seed 5 --method exact\"\u001b[0m\n",
       "    \u001b[1m]\u001b[0m,\n",
       "    \u001b[1m[\u001b[0m\n",
       "        \u001b[32m\"./fit_vae.sh '3' 'DOVES' 'gaussian' 'lin|lin' --seed 1 --latent_act exp --comment exp --init_scale \u001b[0m\n",
       "\u001b[32m0.0001\"\u001b[0m,\n",
       "        \u001b[32m\"./fit_vae.sh '3' 'DOVES' 'gaussian' 'mlp+b|lin' --seed 1 --latent_act exp --comment exp --init_scale \u001b[0m\n",
       "\u001b[32m0.0001\"\u001b[0m,\n",
       "        \u001b[32m\"./fit_vae.sh '3' 'DOVES' 'gaussian' 'lin|lin' --seed 2 --latent_act exp --comment exp --init_scale \u001b[0m\n",
       "\u001b[32m0.0001\"\u001b[0m,\n",
       "        \u001b[32m\"./fit_vae.sh '3' 'DOVES' 'gaussian' 'mlp+b|lin' --seed 2 --latent_act exp --comment exp --init_scale \u001b[0m\n",
       "\u001b[32m0.0001\"\u001b[0m,\n",
       "        \u001b[32m\"./fit_vae.sh '3' 'DOVES' 'gaussian' 'lin|lin' --seed 3 --latent_act exp --comment exp --init_scale \u001b[0m\n",
       "\u001b[32m0.0001\"\u001b[0m,\n",
       "        \u001b[32m\"./fit_vae.sh '3' 'DOVES' 'gaussian' 'mlp+b|lin' --seed 3 --latent_act exp --comment exp --init_scale \u001b[0m\n",
       "\u001b[32m0.0001\"\u001b[0m,\n",
       "        \u001b[32m\"./fit_vae.sh '3' 'DOVES' 'gaussian' 'lin|lin' --seed 4 --latent_act exp --comment exp --init_scale \u001b[0m\n",
       "\u001b[32m0.0001\"\u001b[0m,\n",
       "        \u001b[32m\"./fit_vae.sh '3' 'DOVES' 'gaussian' 'mlp+b|lin' --seed 4 --latent_act exp --comment exp --init_scale \u001b[0m\n",
       "\u001b[32m0.0001\"\u001b[0m,\n",
       "        \u001b[32m\"./fit_vae.sh '3' 'DOVES' 'gaussian' 'lin|lin' --seed 5 --latent_act exp --comment exp --init_scale \u001b[0m\n",
       "\u001b[32m0.0001\"\u001b[0m,\n",
       "        \u001b[32m\"./fit_vae.sh '3' 'DOVES' 'gaussian' 'mlp+b|lin' --seed 5 --latent_act exp --comment exp --init_scale \u001b[0m\n",
       "\u001b[32m0.0001\"\u001b[0m,\n",
       "        \u001b[32m\"./fit_vae.sh '3' 'CIFAR10-PATCHES' 'gaussian' 'lin|lin' --seed 1 --latent_act exp --comment exp \u001b[0m\n",
       "\u001b[32m--init_scale 0.0001\"\u001b[0m,\n",
       "        \u001b[32m\"./fit_vae.sh '3' 'CIFAR10-PATCHES' 'gaussian' 'mlp+b|lin' --seed 1 --latent_act exp --comment exp \u001b[0m\n",
       "\u001b[32m--init_scale 0.0001\"\u001b[0m,\n",
       "        \u001b[32m\"./fit_vae.sh '3' 'CIFAR10-PATCHES' 'gaussian' 'lin|lin' --seed 2 --latent_act exp --comment exp \u001b[0m\n",
       "\u001b[32m--init_scale 0.0001\"\u001b[0m,\n",
       "        \u001b[32m\"./fit_vae.sh '3' 'CIFAR10-PATCHES' 'gaussian' 'mlp+b|lin' --seed 2 --latent_act exp --comment exp \u001b[0m\n",
       "\u001b[32m--init_scale 0.0001\"\u001b[0m,\n",
       "        \u001b[32m\"./fit_vae.sh '3' 'CIFAR10-PATCHES' 'gaussian' 'lin|lin' --seed 3 --latent_act exp --comment exp \u001b[0m\n",
       "\u001b[32m--init_scale 0.0001\"\u001b[0m\n",
       "    \u001b[1m]\u001b[0m,\n",
       "    \u001b[1m[\u001b[0m\n",
       "        \u001b[32m\"./fit_vae.sh '3' 'CIFAR10-PATCHES' 'gaussian' 'mlp+b|lin' --seed 3 --latent_act exp --comment exp \u001b[0m\n",
       "\u001b[32m--init_scale 0.0001\"\u001b[0m,\n",
       "        \u001b[32m\"./fit_vae.sh '3' 'CIFAR10-PATCHES' 'gaussian' 'lin|lin' --seed 4 --latent_act exp --comment exp \u001b[0m\n",
       "\u001b[32m--init_scale 0.0001\"\u001b[0m,\n",
       "        \u001b[32m\"./fit_vae.sh '3' 'CIFAR10-PATCHES' 'gaussian' 'mlp+b|lin' --seed 4 --latent_act exp --comment exp \u001b[0m\n",
       "\u001b[32m--init_scale 0.0001\"\u001b[0m,\n",
       "        \u001b[32m\"./fit_vae.sh '3' 'CIFAR10-PATCHES' 'gaussian' 'lin|lin' --seed 5 --latent_act exp --comment exp \u001b[0m\n",
       "\u001b[32m--init_scale 0.0001\"\u001b[0m,\n",
       "        \u001b[32m\"./fit_vae.sh '3' 'CIFAR10-PATCHES' 'gaussian' 'mlp+b|lin' --seed 5 --latent_act exp --comment exp \u001b[0m\n",
       "\u001b[32m--init_scale 0.0001\"\u001b[0m,\n",
       "        \u001b[32m\"./fit_vae.sh '3' 'MNIST' 'gaussian' 'lin|lin' --seed 1 --latent_act exp --comment exp --init_scale \u001b[0m\n",
       "\u001b[32m0.0001\"\u001b[0m,\n",
       "        \u001b[32m\"./fit_vae.sh '3' 'MNIST' 'gaussian' 'mlp+b|lin' --seed 1 --latent_act exp --comment exp --init_scale \u001b[0m\n",
       "\u001b[32m0.0001\"\u001b[0m,\n",
       "        \u001b[32m\"./fit_vae.sh '3' 'MNIST' 'gaussian' 'lin|lin' --seed 2 --latent_act exp --comment exp --init_scale \u001b[0m\n",
       "\u001b[32m0.0001\"\u001b[0m,\n",
       "        \u001b[32m\"./fit_vae.sh '3' 'MNIST' 'gaussian' 'mlp+b|lin' --seed 2 --latent_act exp --comment exp --init_scale \u001b[0m\n",
       "\u001b[32m0.0001\"\u001b[0m,\n",
       "        \u001b[32m\"./fit_vae.sh '3' 'MNIST' 'gaussian' 'lin|lin' --seed 3 --latent_act exp --comment exp --init_scale \u001b[0m\n",
       "\u001b[32m0.0001\"\u001b[0m,\n",
       "        \u001b[32m\"./fit_vae.sh '3' 'MNIST' 'gaussian' 'mlp+b|lin' --seed 3 --latent_act exp --comment exp --init_scale \u001b[0m\n",
       "\u001b[32m0.0001\"\u001b[0m,\n",
       "        \u001b[32m\"./fit_vae.sh '3' 'MNIST' 'gaussian' 'lin|lin' --seed 4 --latent_act exp --comment exp --init_scale \u001b[0m\n",
       "\u001b[32m0.0001\"\u001b[0m,\n",
       "        \u001b[32m\"./fit_vae.sh '3' 'MNIST' 'gaussian' 'mlp+b|lin' --seed 4 --latent_act exp --comment exp --init_scale \u001b[0m\n",
       "\u001b[32m0.0001\"\u001b[0m,\n",
       "        \u001b[32m\"./fit_vae.sh '3' 'MNIST' 'gaussian' 'lin|lin' --seed 5 --latent_act exp --comment exp --init_scale \u001b[0m\n",
       "\u001b[32m0.0001\"\u001b[0m,\n",
       "        \u001b[32m\"./fit_vae.sh '3' 'MNIST' 'gaussian' 'mlp+b|lin' --seed 5 --latent_act exp --comment exp --init_scale \u001b[0m\n",
       "\u001b[32m0.0001\"\u001b[0m\n",
       "    \u001b[1m]\u001b[0m\n",
       "\u001b[1m]\u001b[0m\n"
      ]
     },
     "metadata": {},
     "output_type": "display_data"
    }
   ],
   "source": [
    "print(scripts_divided)"
   ]
  },
  {
   "cell_type": "code",
   "execution_count": null,
   "id": "fbef4866-fd40-4472-86d1-3d1301dab631",
   "metadata": {},
   "outputs": [],
   "source": []
  },
  {
   "cell_type": "code",
   "execution_count": null,
   "id": "87bfb756-96d3-40de-9d92-9ce67f127ae1",
   "metadata": {},
   "outputs": [],
   "source": []
  },
  {
   "cell_type": "markdown",
   "id": "5e553659-7843-4307-a6ac-a4eb3ecba6d1",
   "metadata": {},
   "source": [
    "## Table 1 (solo)\n",
    "\n",
    "All conv models"
   ]
  },
  {
   "cell_type": "code",
   "execution_count": 16,
   "id": "e43a74be-4e02-4b0b-a5bd-2d84f62dbc6e",
   "metadata": {},
   "outputs": [],
   "source": [
    "host = 'solo'\n",
    "_cleanup(save_dir, host)\n",
    "\n",
    "scripts_solo = collections.defaultdict(list)\n",
    "tot = 0\n",
    "\n",
    "gpu_mapping = {\n",
    "    0: 0,\n",
    "    1: 0,\n",
    "    2: 1,\n",
    "    3: 1,\n",
    "}"
   ]
  },
  {
   "cell_type": "markdown",
   "id": "4c3814e3-89a6-48e2-8638-43c4562f8522",
   "metadata": {},
   "source": [
    "### Part 1: mc vs. exact (main)"
   ]
  },
  {
   "cell_type": "code",
   "execution_count": 17,
   "id": "4df5fed7-b172-4663-b301-7f9b54138e58",
   "metadata": {},
   "outputs": [],
   "source": [
    "n_seeds = 5\n",
    "seeds = range(1, n_seeds + 1)\n",
    "args = ['--method mc', '--method exact']\n",
    "datasets = ['DOVES', 'CIFAR10-PATCHES', 'MNIST']\n",
    "model_types = ['poisson', 'categorical', 'gaussian', 'laplace']\n",
    "archi_solo = ['conv+b|lin']"
   ]
  },
  {
   "cell_type": "code",
   "execution_count": 18,
   "id": "d99606aa-1c7a-4d64-9377-e074b38cc2fb",
   "metadata": {},
   "outputs": [],
   "source": [
    "combos_outer = itertools.product(\n",
    "    enumerate(model_types), datasets)\n",
    "for (gpu_i, m), d in combos_outer:\n",
    "    combos_inner = itertools.product(\n",
    "        seeds, archi_solo, args)\n",
    "    for s, a, arg in combos_inner:\n",
    "        kws = dict(\n",
    "            device=gpu_mapping[gpu_i],\n",
    "            dataset=d,\n",
    "            model=m,\n",
    "            archi=a,\n",
    "            seed=s,\n",
    "            args=arg,\n",
    "        )\n",
    "        scripts_solo[gpu_mapping[gpu_i]].append(job_runner_script(**kws))\n",
    "        tot += 1"
   ]
  },
  {
   "cell_type": "code",
   "execution_count": 19,
   "id": "1692163e-d234-4fe3-9a66-9ebb42212b5e",
   "metadata": {},
   "outputs": [
    {
     "data": {
      "text/html": [
       "<pre style=\"white-space:pre;overflow-x:auto;line-height:normal;font-family:Menlo,'DejaVu Sans Mono',consolas,'Courier New',monospace\"><span style=\"color: #008080; text-decoration-color: #008080; font-weight: bold\">120</span>\n",
       "</pre>\n"
      ],
      "text/plain": [
       "\u001b[1;36m120\u001b[0m\n"
      ]
     },
     "metadata": {},
     "output_type": "display_data"
    }
   ],
   "source": [
    "print(tot)"
   ]
  },
  {
   "cell_type": "markdown",
   "id": "2c7e86c9-6649-4525-9222-a24f797f512e",
   "metadata": {},
   "source": [
    "### Part 2: gaussian + act fn"
   ]
  },
  {
   "cell_type": "code",
   "execution_count": 20,
   "id": "9407ce85-989f-4e6c-a849-81cd82c46b4e",
   "metadata": {},
   "outputs": [],
   "source": [
    "activations = ['relu', 'softplus', 'square', 'exp']"
   ]
  },
  {
   "cell_type": "code",
   "execution_count": 21,
   "id": "ffb62eaf-bb6a-4894-bca6-44b72801401b",
   "metadata": {},
   "outputs": [],
   "source": [
    "combos_outer = itertools.product(\n",
    "    enumerate(activations), datasets)\n",
    "for (gpu_i, fn), d in combos_outer:\n",
    "    # arg\n",
    "    arg = f\"--latent_act {fn} --comment {fn}\"\n",
    "    if fn == 'exp':\n",
    "        arg = f\"{arg} --init_scale 0.0001\"\n",
    "\n",
    "    combos_inner = itertools.product(\n",
    "        seeds, archi_solo)\n",
    "    for s, a in combos_inner:\n",
    "        kws = dict(\n",
    "            device=gpu_mapping[gpu_i],\n",
    "            dataset=d,\n",
    "            archi=a,\n",
    "            seed=s,\n",
    "            args=arg,\n",
    "            model='gaussian',\n",
    "        )\n",
    "        scripts_solo[gpu_mapping[gpu_i]].append(job_runner_script(**kws))\n",
    "        tot += 1"
   ]
  },
  {
   "cell_type": "code",
   "execution_count": 22,
   "id": "ca845593-e74c-4dc8-92aa-48e5087d4aa1",
   "metadata": {},
   "outputs": [
    {
     "data": {
      "text/html": [
       "<pre style=\"white-space:pre;overflow-x:auto;line-height:normal;font-family:Menlo,'DejaVu Sans Mono',consolas,'Courier New',monospace\"><span style=\"color: #008080; text-decoration-color: #008080; font-weight: bold\">180</span>\n",
       "</pre>\n"
      ],
      "text/plain": [
       "\u001b[1;36m180\u001b[0m\n"
      ]
     },
     "metadata": {},
     "output_type": "display_data"
    }
   ],
   "source": [
    "print(tot)"
   ]
  },
  {
   "cell_type": "code",
   "execution_count": null,
   "id": "5db36097-9e59-4fe7-b4ab-2f1e4c896e0c",
   "metadata": {},
   "outputs": [],
   "source": []
  },
  {
   "cell_type": "code",
   "execution_count": 23,
   "id": "b317b1cf-08ef-4911-9e4e-56cb030a95ba",
   "metadata": {},
   "outputs": [
    {
     "data": {
      "text/html": [
       "<pre style=\"white-space:pre;overflow-x:auto;line-height:normal;font-family:Menlo,'DejaVu Sans Mono',consolas,'Courier New',monospace\"><span style=\"font-weight: bold\">{</span><span style=\"color: #008080; text-decoration-color: #008080; font-weight: bold\">0</span>: <span style=\"color: #008080; text-decoration-color: #008080; font-weight: bold\">90</span>, <span style=\"color: #008080; text-decoration-color: #008080; font-weight: bold\">1</span>: <span style=\"color: #008080; text-decoration-color: #008080; font-weight: bold\">90</span><span style=\"font-weight: bold\">}</span>\n",
       "</pre>\n"
      ],
      "text/plain": [
       "\u001b[1m{\u001b[0m\u001b[1;36m0\u001b[0m: \u001b[1;36m90\u001b[0m, \u001b[1;36m1\u001b[0m: \u001b[1;36m90\u001b[0m\u001b[1m}\u001b[0m\n"
      ]
     },
     "metadata": {},
     "output_type": "display_data"
    }
   ],
   "source": [
    "scripts_solo = dict(scripts_solo)\n",
    "print({k: len(v) for k, v in scripts_solo.items()})"
   ]
  },
  {
   "cell_type": "code",
   "execution_count": null,
   "id": "423fe26d-14a4-4348-8753-fb24fdf61b1c",
   "metadata": {},
   "outputs": [],
   "source": []
  },
  {
   "cell_type": "markdown",
   "id": "9b21f685-65d7-48b4-9a26-2a380cd8bf60",
   "metadata": {},
   "source": [
    "### Save"
   ]
  },
  {
   "cell_type": "code",
   "execution_count": 24,
   "id": "8848885d-ec6a-47a7-aa20-19dcb124d885",
   "metadata": {},
   "outputs": [
    {
     "data": {
      "text/html": [
       "<pre style=\"white-space:pre;overflow-x:auto;line-height:normal;font-family:Menlo,'DejaVu Sans Mono',consolas,'Courier New',monospace\"><span style=\"font-weight: bold\">[</span>PROGRESS<span style=\"font-weight: bold\">]</span> <span style=\"color: #008000; text-decoration-color: #008000\">'solo-cuda0-fit0.txt'</span> saved at\n",
       "<span style=\"color: #800080; text-decoration-color: #800080\">/home/hadi/Dropbox/git/_PoissonVAE/</span><span style=\"color: #ff00ff; text-decoration-color: #ff00ff\">scripts</span>\n",
       "</pre>\n"
      ],
      "text/plain": [
       "\u001b[1m[\u001b[0mPROGRESS\u001b[1m]\u001b[0m \u001b[32m'solo-cuda0-fit0.txt'\u001b[0m saved at\n",
       "\u001b[35m/home/hadi/Dropbox/git/_PoissonVAE/\u001b[0m\u001b[95mscripts\u001b[0m\n"
      ]
     },
     "metadata": {},
     "output_type": "display_data"
    },
    {
     "data": {
      "text/html": [
       "<pre style=\"white-space:pre;overflow-x:auto;line-height:normal;font-family:Menlo,'DejaVu Sans Mono',consolas,'Courier New',monospace\"><span style=\"font-weight: bold\">[</span>PROGRESS<span style=\"font-weight: bold\">]</span> <span style=\"color: #008000; text-decoration-color: #008000\">'solo-cuda0-fit1.txt'</span> saved at\n",
       "<span style=\"color: #800080; text-decoration-color: #800080\">/home/hadi/Dropbox/git/_PoissonVAE/</span><span style=\"color: #ff00ff; text-decoration-color: #ff00ff\">scripts</span>\n",
       "</pre>\n"
      ],
      "text/plain": [
       "\u001b[1m[\u001b[0mPROGRESS\u001b[1m]\u001b[0m \u001b[32m'solo-cuda0-fit1.txt'\u001b[0m saved at\n",
       "\u001b[35m/home/hadi/Dropbox/git/_PoissonVAE/\u001b[0m\u001b[95mscripts\u001b[0m\n"
      ]
     },
     "metadata": {},
     "output_type": "display_data"
    },
    {
     "data": {
      "text/html": [
       "<pre style=\"white-space:pre;overflow-x:auto;line-height:normal;font-family:Menlo,'DejaVu Sans Mono',consolas,'Courier New',monospace\"><span style=\"font-weight: bold\">[</span>PROGRESS<span style=\"font-weight: bold\">]</span> <span style=\"color: #008000; text-decoration-color: #008000\">'solo-cuda0-fit2.txt'</span> saved at\n",
       "<span style=\"color: #800080; text-decoration-color: #800080\">/home/hadi/Dropbox/git/_PoissonVAE/</span><span style=\"color: #ff00ff; text-decoration-color: #ff00ff\">scripts</span>\n",
       "</pre>\n"
      ],
      "text/plain": [
       "\u001b[1m[\u001b[0mPROGRESS\u001b[1m]\u001b[0m \u001b[32m'solo-cuda0-fit2.txt'\u001b[0m saved at\n",
       "\u001b[35m/home/hadi/Dropbox/git/_PoissonVAE/\u001b[0m\u001b[95mscripts\u001b[0m\n"
      ]
     },
     "metadata": {},
     "output_type": "display_data"
    },
    {
     "data": {
      "text/html": [
       "<pre style=\"white-space:pre;overflow-x:auto;line-height:normal;font-family:Menlo,'DejaVu Sans Mono',consolas,'Courier New',monospace\"><span style=\"font-weight: bold\">[</span>PROGRESS<span style=\"font-weight: bold\">]</span> <span style=\"color: #008000; text-decoration-color: #008000\">'solo-cuda0-fit3.txt'</span> saved at\n",
       "<span style=\"color: #800080; text-decoration-color: #800080\">/home/hadi/Dropbox/git/_PoissonVAE/</span><span style=\"color: #ff00ff; text-decoration-color: #ff00ff\">scripts</span>\n",
       "</pre>\n"
      ],
      "text/plain": [
       "\u001b[1m[\u001b[0mPROGRESS\u001b[1m]\u001b[0m \u001b[32m'solo-cuda0-fit3.txt'\u001b[0m saved at\n",
       "\u001b[35m/home/hadi/Dropbox/git/_PoissonVAE/\u001b[0m\u001b[95mscripts\u001b[0m\n"
      ]
     },
     "metadata": {},
     "output_type": "display_data"
    },
    {
     "data": {
      "text/html": [
       "<pre style=\"white-space:pre;overflow-x:auto;line-height:normal;font-family:Menlo,'DejaVu Sans Mono',consolas,'Courier New',monospace\"><span style=\"font-weight: bold\">[</span>PROGRESS<span style=\"font-weight: bold\">]</span> <span style=\"color: #008000; text-decoration-color: #008000\">'solo-cuda0-fit4.txt'</span> saved at\n",
       "<span style=\"color: #800080; text-decoration-color: #800080\">/home/hadi/Dropbox/git/_PoissonVAE/</span><span style=\"color: #ff00ff; text-decoration-color: #ff00ff\">scripts</span>\n",
       "</pre>\n"
      ],
      "text/plain": [
       "\u001b[1m[\u001b[0mPROGRESS\u001b[1m]\u001b[0m \u001b[32m'solo-cuda0-fit4.txt'\u001b[0m saved at\n",
       "\u001b[35m/home/hadi/Dropbox/git/_PoissonVAE/\u001b[0m\u001b[95mscripts\u001b[0m\n"
      ]
     },
     "metadata": {},
     "output_type": "display_data"
    },
    {
     "data": {
      "text/html": [
       "<pre style=\"white-space:pre;overflow-x:auto;line-height:normal;font-family:Menlo,'DejaVu Sans Mono',consolas,'Courier New',monospace\"><span style=\"font-weight: bold\">[</span>PROGRESS<span style=\"font-weight: bold\">]</span> <span style=\"color: #008000; text-decoration-color: #008000\">'solo-cuda1-fit0.txt'</span> saved at\n",
       "<span style=\"color: #800080; text-decoration-color: #800080\">/home/hadi/Dropbox/git/_PoissonVAE/</span><span style=\"color: #ff00ff; text-decoration-color: #ff00ff\">scripts</span>\n",
       "</pre>\n"
      ],
      "text/plain": [
       "\u001b[1m[\u001b[0mPROGRESS\u001b[1m]\u001b[0m \u001b[32m'solo-cuda1-fit0.txt'\u001b[0m saved at\n",
       "\u001b[35m/home/hadi/Dropbox/git/_PoissonVAE/\u001b[0m\u001b[95mscripts\u001b[0m\n"
      ]
     },
     "metadata": {},
     "output_type": "display_data"
    },
    {
     "data": {
      "text/html": [
       "<pre style=\"white-space:pre;overflow-x:auto;line-height:normal;font-family:Menlo,'DejaVu Sans Mono',consolas,'Courier New',monospace\"><span style=\"font-weight: bold\">[</span>PROGRESS<span style=\"font-weight: bold\">]</span> <span style=\"color: #008000; text-decoration-color: #008000\">'solo-cuda1-fit1.txt'</span> saved at\n",
       "<span style=\"color: #800080; text-decoration-color: #800080\">/home/hadi/Dropbox/git/_PoissonVAE/</span><span style=\"color: #ff00ff; text-decoration-color: #ff00ff\">scripts</span>\n",
       "</pre>\n"
      ],
      "text/plain": [
       "\u001b[1m[\u001b[0mPROGRESS\u001b[1m]\u001b[0m \u001b[32m'solo-cuda1-fit1.txt'\u001b[0m saved at\n",
       "\u001b[35m/home/hadi/Dropbox/git/_PoissonVAE/\u001b[0m\u001b[95mscripts\u001b[0m\n"
      ]
     },
     "metadata": {},
     "output_type": "display_data"
    },
    {
     "data": {
      "text/html": [
       "<pre style=\"white-space:pre;overflow-x:auto;line-height:normal;font-family:Menlo,'DejaVu Sans Mono',consolas,'Courier New',monospace\"><span style=\"font-weight: bold\">[</span>PROGRESS<span style=\"font-weight: bold\">]</span> <span style=\"color: #008000; text-decoration-color: #008000\">'solo-cuda1-fit2.txt'</span> saved at\n",
       "<span style=\"color: #800080; text-decoration-color: #800080\">/home/hadi/Dropbox/git/_PoissonVAE/</span><span style=\"color: #ff00ff; text-decoration-color: #ff00ff\">scripts</span>\n",
       "</pre>\n"
      ],
      "text/plain": [
       "\u001b[1m[\u001b[0mPROGRESS\u001b[1m]\u001b[0m \u001b[32m'solo-cuda1-fit2.txt'\u001b[0m saved at\n",
       "\u001b[35m/home/hadi/Dropbox/git/_PoissonVAE/\u001b[0m\u001b[95mscripts\u001b[0m\n"
      ]
     },
     "metadata": {},
     "output_type": "display_data"
    },
    {
     "data": {
      "text/html": [
       "<pre style=\"white-space:pre;overflow-x:auto;line-height:normal;font-family:Menlo,'DejaVu Sans Mono',consolas,'Courier New',monospace\"><span style=\"font-weight: bold\">[</span>PROGRESS<span style=\"font-weight: bold\">]</span> <span style=\"color: #008000; text-decoration-color: #008000\">'solo-cuda1-fit3.txt'</span> saved at\n",
       "<span style=\"color: #800080; text-decoration-color: #800080\">/home/hadi/Dropbox/git/_PoissonVAE/</span><span style=\"color: #ff00ff; text-decoration-color: #ff00ff\">scripts</span>\n",
       "</pre>\n"
      ],
      "text/plain": [
       "\u001b[1m[\u001b[0mPROGRESS\u001b[1m]\u001b[0m \u001b[32m'solo-cuda1-fit3.txt'\u001b[0m saved at\n",
       "\u001b[35m/home/hadi/Dropbox/git/_PoissonVAE/\u001b[0m\u001b[95mscripts\u001b[0m\n"
      ]
     },
     "metadata": {},
     "output_type": "display_data"
    },
    {
     "data": {
      "text/html": [
       "<pre style=\"white-space:pre;overflow-x:auto;line-height:normal;font-family:Menlo,'DejaVu Sans Mono',consolas,'Courier New',monospace\"><span style=\"font-weight: bold\">[</span>PROGRESS<span style=\"font-weight: bold\">]</span> <span style=\"color: #008000; text-decoration-color: #008000\">'solo-cuda1-fit4.txt'</span> saved at\n",
       "<span style=\"color: #800080; text-decoration-color: #800080\">/home/hadi/Dropbox/git/_PoissonVAE/</span><span style=\"color: #ff00ff; text-decoration-color: #ff00ff\">scripts</span>\n",
       "</pre>\n"
      ],
      "text/plain": [
       "\u001b[1m[\u001b[0mPROGRESS\u001b[1m]\u001b[0m \u001b[32m'solo-cuda1-fit4.txt'\u001b[0m saved at\n",
       "\u001b[35m/home/hadi/Dropbox/git/_PoissonVAE/\u001b[0m\u001b[95mscripts\u001b[0m\n"
      ]
     },
     "metadata": {},
     "output_type": "display_data"
    }
   ],
   "source": [
    "n_fits = 5\n",
    "\n",
    "for gpu_i, scripts in scripts_solo.items():\n",
    "    scripts_divided = divide_list(scripts, n_fits)\n",
    "    for fit_i, s in enumerate(scripts_divided):\n",
    "        combined = ' && '.join(s)\n",
    "        save_obj(\n",
    "            obj=combined,\n",
    "            file_name=_name(host, gpu_i, fit_i),\n",
    "            save_dir=save_dir,\n",
    "            mode='txt',\n",
    "        )"
   ]
  },
  {
   "cell_type": "code",
   "execution_count": null,
   "id": "f698a475-10f0-4b2b-9d2c-f988b42b6611",
   "metadata": {},
   "outputs": [],
   "source": []
  },
  {
   "cell_type": "markdown",
   "id": "610cb2ad-97cc-4d80-ad53-38762fe7e75d",
   "metadata": {},
   "source": [
    "### Print one to check"
   ]
  },
  {
   "cell_type": "code",
   "execution_count": 25,
   "id": "de3d8303-d26e-44bb-9f08-0452dda37e4a",
   "metadata": {},
   "outputs": [
    {
     "data": {
      "text/html": [
       "<pre style=\"white-space:pre;overflow-x:auto;line-height:normal;font-family:Menlo,'DejaVu Sans Mono',consolas,'Courier New',monospace\">.<span style=\"color: #800080; text-decoration-color: #800080\">/</span><span style=\"color: #ff00ff; text-decoration-color: #ff00ff\">fit_vae.sh</span> <span style=\"color: #008000; text-decoration-color: #008000\">'1'</span> <span style=\"color: #008000; text-decoration-color: #008000\">'MNIST'</span> <span style=\"color: #008000; text-decoration-color: #008000\">'gaussian'</span> <span style=\"color: #008000; text-decoration-color: #008000\">'conv+b|lin'</span> --seed <span style=\"color: #008080; text-decoration-color: #008080; font-weight: bold\">3</span> --latent_act square --comment square &amp;&amp; \n",
       ".<span style=\"color: #800080; text-decoration-color: #800080\">/</span><span style=\"color: #ff00ff; text-decoration-color: #ff00ff\">fit_vae.sh</span> <span style=\"color: #008000; text-decoration-color: #008000\">'1'</span> <span style=\"color: #008000; text-decoration-color: #008000\">'MNIST'</span> <span style=\"color: #008000; text-decoration-color: #008000\">'gaussian'</span> <span style=\"color: #008000; text-decoration-color: #008000\">'conv+b|lin'</span> --seed <span style=\"color: #008080; text-decoration-color: #008080; font-weight: bold\">4</span> --latent_act square --comment square &amp;&amp; \n",
       ".<span style=\"color: #800080; text-decoration-color: #800080\">/</span><span style=\"color: #ff00ff; text-decoration-color: #ff00ff\">fit_vae.sh</span> <span style=\"color: #008000; text-decoration-color: #008000\">'1'</span> <span style=\"color: #008000; text-decoration-color: #008000\">'MNIST'</span> <span style=\"color: #008000; text-decoration-color: #008000\">'gaussian'</span> <span style=\"color: #008000; text-decoration-color: #008000\">'conv+b|lin'</span> --seed <span style=\"color: #008080; text-decoration-color: #008080; font-weight: bold\">5</span> --latent_act square --comment square &amp;&amp; \n",
       ".<span style=\"color: #800080; text-decoration-color: #800080\">/</span><span style=\"color: #ff00ff; text-decoration-color: #ff00ff\">fit_vae.sh</span> <span style=\"color: #008000; text-decoration-color: #008000\">'1'</span> <span style=\"color: #008000; text-decoration-color: #008000\">'DOVES'</span> <span style=\"color: #008000; text-decoration-color: #008000\">'gaussian'</span> <span style=\"color: #008000; text-decoration-color: #008000\">'conv+b|lin'</span> --seed <span style=\"color: #008080; text-decoration-color: #008080; font-weight: bold\">1</span> --latent_act exp --comment exp --init_scale <span style=\"color: #008080; text-decoration-color: #008080; font-weight: bold\">0.0001</span> &amp;&amp; \n",
       ".<span style=\"color: #800080; text-decoration-color: #800080\">/</span><span style=\"color: #ff00ff; text-decoration-color: #ff00ff\">fit_vae.sh</span> <span style=\"color: #008000; text-decoration-color: #008000\">'1'</span> <span style=\"color: #008000; text-decoration-color: #008000\">'DOVES'</span> <span style=\"color: #008000; text-decoration-color: #008000\">'gaussian'</span> <span style=\"color: #008000; text-decoration-color: #008000\">'conv+b|lin'</span> --seed <span style=\"color: #008080; text-decoration-color: #008080; font-weight: bold\">2</span> --latent_act exp --comment exp --init_scale <span style=\"color: #008080; text-decoration-color: #008080; font-weight: bold\">0.0001</span> &amp;&amp; \n",
       ".<span style=\"color: #800080; text-decoration-color: #800080\">/</span><span style=\"color: #ff00ff; text-decoration-color: #ff00ff\">fit_vae.sh</span> <span style=\"color: #008000; text-decoration-color: #008000\">'1'</span> <span style=\"color: #008000; text-decoration-color: #008000\">'DOVES'</span> <span style=\"color: #008000; text-decoration-color: #008000\">'gaussian'</span> <span style=\"color: #008000; text-decoration-color: #008000\">'conv+b|lin'</span> --seed <span style=\"color: #008080; text-decoration-color: #008080; font-weight: bold\">3</span> --latent_act exp --comment exp --init_scale <span style=\"color: #008080; text-decoration-color: #008080; font-weight: bold\">0.0001</span> &amp;&amp; \n",
       ".<span style=\"color: #800080; text-decoration-color: #800080\">/</span><span style=\"color: #ff00ff; text-decoration-color: #ff00ff\">fit_vae.sh</span> <span style=\"color: #008000; text-decoration-color: #008000\">'1'</span> <span style=\"color: #008000; text-decoration-color: #008000\">'DOVES'</span> <span style=\"color: #008000; text-decoration-color: #008000\">'gaussian'</span> <span style=\"color: #008000; text-decoration-color: #008000\">'conv+b|lin'</span> --seed <span style=\"color: #008080; text-decoration-color: #008080; font-weight: bold\">4</span> --latent_act exp --comment exp --init_scale <span style=\"color: #008080; text-decoration-color: #008080; font-weight: bold\">0.0001</span> &amp;&amp; \n",
       ".<span style=\"color: #800080; text-decoration-color: #800080\">/</span><span style=\"color: #ff00ff; text-decoration-color: #ff00ff\">fit_vae.sh</span> <span style=\"color: #008000; text-decoration-color: #008000\">'1'</span> <span style=\"color: #008000; text-decoration-color: #008000\">'DOVES'</span> <span style=\"color: #008000; text-decoration-color: #008000\">'gaussian'</span> <span style=\"color: #008000; text-decoration-color: #008000\">'conv+b|lin'</span> --seed <span style=\"color: #008080; text-decoration-color: #008080; font-weight: bold\">5</span> --latent_act exp --comment exp --init_scale <span style=\"color: #008080; text-decoration-color: #008080; font-weight: bold\">0.0001</span> &amp;&amp; \n",
       ".<span style=\"color: #800080; text-decoration-color: #800080\">/</span><span style=\"color: #ff00ff; text-decoration-color: #ff00ff\">fit_vae.sh</span> <span style=\"color: #008000; text-decoration-color: #008000\">'1'</span> <span style=\"color: #008000; text-decoration-color: #008000\">'CIFAR10-PATCHES'</span> <span style=\"color: #008000; text-decoration-color: #008000\">'gaussian'</span> <span style=\"color: #008000; text-decoration-color: #008000\">'conv+b|lin'</span> --seed <span style=\"color: #008080; text-decoration-color: #008080; font-weight: bold\">1</span> --latent_act exp --comment exp --init_scale \n",
       "<span style=\"color: #008080; text-decoration-color: #008080; font-weight: bold\">0.0001</span> &amp;&amp; \n",
       ".<span style=\"color: #800080; text-decoration-color: #800080\">/</span><span style=\"color: #ff00ff; text-decoration-color: #ff00ff\">fit_vae.sh</span> <span style=\"color: #008000; text-decoration-color: #008000\">'1'</span> <span style=\"color: #008000; text-decoration-color: #008000\">'CIFAR10-PATCHES'</span> <span style=\"color: #008000; text-decoration-color: #008000\">'gaussian'</span> <span style=\"color: #008000; text-decoration-color: #008000\">'conv+b|lin'</span> --seed <span style=\"color: #008080; text-decoration-color: #008080; font-weight: bold\">2</span> --latent_act exp --comment exp --init_scale \n",
       "<span style=\"color: #008080; text-decoration-color: #008080; font-weight: bold\">0.0001</span> &amp;&amp; \n",
       ".<span style=\"color: #800080; text-decoration-color: #800080\">/</span><span style=\"color: #ff00ff; text-decoration-color: #ff00ff\">fit_vae.sh</span> <span style=\"color: #008000; text-decoration-color: #008000\">'1'</span> <span style=\"color: #008000; text-decoration-color: #008000\">'CIFAR10-PATCHES'</span> <span style=\"color: #008000; text-decoration-color: #008000\">'gaussian'</span> <span style=\"color: #008000; text-decoration-color: #008000\">'conv+b|lin'</span> --seed <span style=\"color: #008080; text-decoration-color: #008080; font-weight: bold\">3</span> --latent_act exp --comment exp --init_scale \n",
       "<span style=\"color: #008080; text-decoration-color: #008080; font-weight: bold\">0.0001</span> &amp;&amp; \n",
       ".<span style=\"color: #800080; text-decoration-color: #800080\">/</span><span style=\"color: #ff00ff; text-decoration-color: #ff00ff\">fit_vae.sh</span> <span style=\"color: #008000; text-decoration-color: #008000\">'1'</span> <span style=\"color: #008000; text-decoration-color: #008000\">'CIFAR10-PATCHES'</span> <span style=\"color: #008000; text-decoration-color: #008000\">'gaussian'</span> <span style=\"color: #008000; text-decoration-color: #008000\">'conv+b|lin'</span> --seed <span style=\"color: #008080; text-decoration-color: #008080; font-weight: bold\">4</span> --latent_act exp --comment exp --init_scale \n",
       "<span style=\"color: #008080; text-decoration-color: #008080; font-weight: bold\">0.0001</span> &amp;&amp; \n",
       ".<span style=\"color: #800080; text-decoration-color: #800080\">/</span><span style=\"color: #ff00ff; text-decoration-color: #ff00ff\">fit_vae.sh</span> <span style=\"color: #008000; text-decoration-color: #008000\">'1'</span> <span style=\"color: #008000; text-decoration-color: #008000\">'CIFAR10-PATCHES'</span> <span style=\"color: #008000; text-decoration-color: #008000\">'gaussian'</span> <span style=\"color: #008000; text-decoration-color: #008000\">'conv+b|lin'</span> --seed <span style=\"color: #008080; text-decoration-color: #008080; font-weight: bold\">5</span> --latent_act exp --comment exp --init_scale \n",
       "<span style=\"color: #008080; text-decoration-color: #008080; font-weight: bold\">0.0001</span> &amp;&amp; \n",
       ".<span style=\"color: #800080; text-decoration-color: #800080\">/</span><span style=\"color: #ff00ff; text-decoration-color: #ff00ff\">fit_vae.sh</span> <span style=\"color: #008000; text-decoration-color: #008000\">'1'</span> <span style=\"color: #008000; text-decoration-color: #008000\">'MNIST'</span> <span style=\"color: #008000; text-decoration-color: #008000\">'gaussian'</span> <span style=\"color: #008000; text-decoration-color: #008000\">'conv+b|lin'</span> --seed <span style=\"color: #008080; text-decoration-color: #008080; font-weight: bold\">1</span> --latent_act exp --comment exp --init_scale <span style=\"color: #008080; text-decoration-color: #008080; font-weight: bold\">0.0001</span> &amp;&amp; \n",
       ".<span style=\"color: #800080; text-decoration-color: #800080\">/</span><span style=\"color: #ff00ff; text-decoration-color: #ff00ff\">fit_vae.sh</span> <span style=\"color: #008000; text-decoration-color: #008000\">'1'</span> <span style=\"color: #008000; text-decoration-color: #008000\">'MNIST'</span> <span style=\"color: #008000; text-decoration-color: #008000\">'gaussian'</span> <span style=\"color: #008000; text-decoration-color: #008000\">'conv+b|lin'</span> --seed <span style=\"color: #008080; text-decoration-color: #008080; font-weight: bold\">2</span> --latent_act exp --comment exp --init_scale <span style=\"color: #008080; text-decoration-color: #008080; font-weight: bold\">0.0001</span> &amp;&amp; \n",
       ".<span style=\"color: #800080; text-decoration-color: #800080\">/</span><span style=\"color: #ff00ff; text-decoration-color: #ff00ff\">fit_vae.sh</span> <span style=\"color: #008000; text-decoration-color: #008000\">'1'</span> <span style=\"color: #008000; text-decoration-color: #008000\">'MNIST'</span> <span style=\"color: #008000; text-decoration-color: #008000\">'gaussian'</span> <span style=\"color: #008000; text-decoration-color: #008000\">'conv+b|lin'</span> --seed <span style=\"color: #008080; text-decoration-color: #008080; font-weight: bold\">3</span> --latent_act exp --comment exp --init_scale <span style=\"color: #008080; text-decoration-color: #008080; font-weight: bold\">0.0001</span> &amp;&amp; \n",
       ".<span style=\"color: #800080; text-decoration-color: #800080\">/</span><span style=\"color: #ff00ff; text-decoration-color: #ff00ff\">fit_vae.sh</span> <span style=\"color: #008000; text-decoration-color: #008000\">'1'</span> <span style=\"color: #008000; text-decoration-color: #008000\">'MNIST'</span> <span style=\"color: #008000; text-decoration-color: #008000\">'gaussian'</span> <span style=\"color: #008000; text-decoration-color: #008000\">'conv+b|lin'</span> --seed <span style=\"color: #008080; text-decoration-color: #008080; font-weight: bold\">4</span> --latent_act exp --comment exp --init_scale <span style=\"color: #008080; text-decoration-color: #008080; font-weight: bold\">0.0001</span> &amp;&amp; \n",
       ".<span style=\"color: #800080; text-decoration-color: #800080\">/</span><span style=\"color: #ff00ff; text-decoration-color: #ff00ff\">fit_vae.sh</span> <span style=\"color: #008000; text-decoration-color: #008000\">'1'</span> <span style=\"color: #008000; text-decoration-color: #008000\">'MNIST'</span> <span style=\"color: #008000; text-decoration-color: #008000\">'gaussian'</span> <span style=\"color: #008000; text-decoration-color: #008000\">'conv+b|lin'</span> --seed <span style=\"color: #008080; text-decoration-color: #008080; font-weight: bold\">5</span> --latent_act exp --comment exp --init_scale <span style=\"color: #008080; text-decoration-color: #008080; font-weight: bold\">0.0001</span>\n",
       "</pre>\n"
      ],
      "text/plain": [
       ".\u001b[35m/\u001b[0m\u001b[95mfit_vae.sh\u001b[0m \u001b[32m'1'\u001b[0m \u001b[32m'MNIST'\u001b[0m \u001b[32m'gaussian'\u001b[0m \u001b[32m'conv+b|lin'\u001b[0m --seed \u001b[1;36m3\u001b[0m --latent_act square --comment square && \n",
       ".\u001b[35m/\u001b[0m\u001b[95mfit_vae.sh\u001b[0m \u001b[32m'1'\u001b[0m \u001b[32m'MNIST'\u001b[0m \u001b[32m'gaussian'\u001b[0m \u001b[32m'conv+b|lin'\u001b[0m --seed \u001b[1;36m4\u001b[0m --latent_act square --comment square && \n",
       ".\u001b[35m/\u001b[0m\u001b[95mfit_vae.sh\u001b[0m \u001b[32m'1'\u001b[0m \u001b[32m'MNIST'\u001b[0m \u001b[32m'gaussian'\u001b[0m \u001b[32m'conv+b|lin'\u001b[0m --seed \u001b[1;36m5\u001b[0m --latent_act square --comment square && \n",
       ".\u001b[35m/\u001b[0m\u001b[95mfit_vae.sh\u001b[0m \u001b[32m'1'\u001b[0m \u001b[32m'DOVES'\u001b[0m \u001b[32m'gaussian'\u001b[0m \u001b[32m'conv+b|lin'\u001b[0m --seed \u001b[1;36m1\u001b[0m --latent_act exp --comment exp --init_scale \u001b[1;36m0.0001\u001b[0m && \n",
       ".\u001b[35m/\u001b[0m\u001b[95mfit_vae.sh\u001b[0m \u001b[32m'1'\u001b[0m \u001b[32m'DOVES'\u001b[0m \u001b[32m'gaussian'\u001b[0m \u001b[32m'conv+b|lin'\u001b[0m --seed \u001b[1;36m2\u001b[0m --latent_act exp --comment exp --init_scale \u001b[1;36m0.0001\u001b[0m && \n",
       ".\u001b[35m/\u001b[0m\u001b[95mfit_vae.sh\u001b[0m \u001b[32m'1'\u001b[0m \u001b[32m'DOVES'\u001b[0m \u001b[32m'gaussian'\u001b[0m \u001b[32m'conv+b|lin'\u001b[0m --seed \u001b[1;36m3\u001b[0m --latent_act exp --comment exp --init_scale \u001b[1;36m0.0001\u001b[0m && \n",
       ".\u001b[35m/\u001b[0m\u001b[95mfit_vae.sh\u001b[0m \u001b[32m'1'\u001b[0m \u001b[32m'DOVES'\u001b[0m \u001b[32m'gaussian'\u001b[0m \u001b[32m'conv+b|lin'\u001b[0m --seed \u001b[1;36m4\u001b[0m --latent_act exp --comment exp --init_scale \u001b[1;36m0.0001\u001b[0m && \n",
       ".\u001b[35m/\u001b[0m\u001b[95mfit_vae.sh\u001b[0m \u001b[32m'1'\u001b[0m \u001b[32m'DOVES'\u001b[0m \u001b[32m'gaussian'\u001b[0m \u001b[32m'conv+b|lin'\u001b[0m --seed \u001b[1;36m5\u001b[0m --latent_act exp --comment exp --init_scale \u001b[1;36m0.0001\u001b[0m && \n",
       ".\u001b[35m/\u001b[0m\u001b[95mfit_vae.sh\u001b[0m \u001b[32m'1'\u001b[0m \u001b[32m'CIFAR10-PATCHES'\u001b[0m \u001b[32m'gaussian'\u001b[0m \u001b[32m'conv+b|lin'\u001b[0m --seed \u001b[1;36m1\u001b[0m --latent_act exp --comment exp --init_scale \n",
       "\u001b[1;36m0.0001\u001b[0m && \n",
       ".\u001b[35m/\u001b[0m\u001b[95mfit_vae.sh\u001b[0m \u001b[32m'1'\u001b[0m \u001b[32m'CIFAR10-PATCHES'\u001b[0m \u001b[32m'gaussian'\u001b[0m \u001b[32m'conv+b|lin'\u001b[0m --seed \u001b[1;36m2\u001b[0m --latent_act exp --comment exp --init_scale \n",
       "\u001b[1;36m0.0001\u001b[0m && \n",
       ".\u001b[35m/\u001b[0m\u001b[95mfit_vae.sh\u001b[0m \u001b[32m'1'\u001b[0m \u001b[32m'CIFAR10-PATCHES'\u001b[0m \u001b[32m'gaussian'\u001b[0m \u001b[32m'conv+b|lin'\u001b[0m --seed \u001b[1;36m3\u001b[0m --latent_act exp --comment exp --init_scale \n",
       "\u001b[1;36m0.0001\u001b[0m && \n",
       ".\u001b[35m/\u001b[0m\u001b[95mfit_vae.sh\u001b[0m \u001b[32m'1'\u001b[0m \u001b[32m'CIFAR10-PATCHES'\u001b[0m \u001b[32m'gaussian'\u001b[0m \u001b[32m'conv+b|lin'\u001b[0m --seed \u001b[1;36m4\u001b[0m --latent_act exp --comment exp --init_scale \n",
       "\u001b[1;36m0.0001\u001b[0m && \n",
       ".\u001b[35m/\u001b[0m\u001b[95mfit_vae.sh\u001b[0m \u001b[32m'1'\u001b[0m \u001b[32m'CIFAR10-PATCHES'\u001b[0m \u001b[32m'gaussian'\u001b[0m \u001b[32m'conv+b|lin'\u001b[0m --seed \u001b[1;36m5\u001b[0m --latent_act exp --comment exp --init_scale \n",
       "\u001b[1;36m0.0001\u001b[0m && \n",
       ".\u001b[35m/\u001b[0m\u001b[95mfit_vae.sh\u001b[0m \u001b[32m'1'\u001b[0m \u001b[32m'MNIST'\u001b[0m \u001b[32m'gaussian'\u001b[0m \u001b[32m'conv+b|lin'\u001b[0m --seed \u001b[1;36m1\u001b[0m --latent_act exp --comment exp --init_scale \u001b[1;36m0.0001\u001b[0m && \n",
       ".\u001b[35m/\u001b[0m\u001b[95mfit_vae.sh\u001b[0m \u001b[32m'1'\u001b[0m \u001b[32m'MNIST'\u001b[0m \u001b[32m'gaussian'\u001b[0m \u001b[32m'conv+b|lin'\u001b[0m --seed \u001b[1;36m2\u001b[0m --latent_act exp --comment exp --init_scale \u001b[1;36m0.0001\u001b[0m && \n",
       ".\u001b[35m/\u001b[0m\u001b[95mfit_vae.sh\u001b[0m \u001b[32m'1'\u001b[0m \u001b[32m'MNIST'\u001b[0m \u001b[32m'gaussian'\u001b[0m \u001b[32m'conv+b|lin'\u001b[0m --seed \u001b[1;36m3\u001b[0m --latent_act exp --comment exp --init_scale \u001b[1;36m0.0001\u001b[0m && \n",
       ".\u001b[35m/\u001b[0m\u001b[95mfit_vae.sh\u001b[0m \u001b[32m'1'\u001b[0m \u001b[32m'MNIST'\u001b[0m \u001b[32m'gaussian'\u001b[0m \u001b[32m'conv+b|lin'\u001b[0m --seed \u001b[1;36m4\u001b[0m --latent_act exp --comment exp --init_scale \u001b[1;36m0.0001\u001b[0m && \n",
       ".\u001b[35m/\u001b[0m\u001b[95mfit_vae.sh\u001b[0m \u001b[32m'1'\u001b[0m \u001b[32m'MNIST'\u001b[0m \u001b[32m'gaussian'\u001b[0m \u001b[32m'conv+b|lin'\u001b[0m --seed \u001b[1;36m5\u001b[0m --latent_act exp --comment exp --init_scale \u001b[1;36m0.0001\u001b[0m\n"
      ]
     },
     "metadata": {},
     "output_type": "display_data"
    }
   ],
   "source": [
    "print(combined.replace('&& ', '&& \\n'))"
   ]
  },
  {
   "cell_type": "code",
   "execution_count": null,
   "id": "218d4999-e9be-4116-a481-f3cc25ff21f5",
   "metadata": {},
   "outputs": [],
   "source": []
  },
  {
   "cell_type": "code",
   "execution_count": 26,
   "id": "17529aa2-e528-4a74-a899-14cc10f22e24",
   "metadata": {},
   "outputs": [
    {
     "data": {
      "text/html": [
       "<pre style=\"white-space:pre;overflow-x:auto;line-height:normal;font-family:Menlo,'DejaVu Sans Mono',consolas,'Courier New',monospace\"><span style=\"font-weight: bold\">{</span>\n",
       "    <span style=\"color: #008080; text-decoration-color: #008080; font-weight: bold\">0</span>: <span style=\"font-weight: bold\">[</span>\n",
       "        <span style=\"color: #008000; text-decoration-color: #008000\">\"./fit_vae.sh '0' 'DOVES' 'poisson' 'conv+b|lin' --seed 1 --method mc\"</span>,\n",
       "        <span style=\"color: #008000; text-decoration-color: #008000\">\"./fit_vae.sh '0' 'DOVES' 'poisson' 'conv+b|lin' --seed 1 --method exact\"</span>,\n",
       "        <span style=\"color: #008000; text-decoration-color: #008000\">\"./fit_vae.sh '0' 'DOVES' 'poisson' 'conv+b|lin' --seed 2 --method mc\"</span>,\n",
       "        <span style=\"color: #008000; text-decoration-color: #008000\">\"./fit_vae.sh '0' 'DOVES' 'poisson' 'conv+b|lin' --seed 2 --method exact\"</span>,\n",
       "        <span style=\"color: #008000; text-decoration-color: #008000\">\"./fit_vae.sh '0' 'DOVES' 'poisson' 'conv+b|lin' --seed 3 --method mc\"</span>,\n",
       "        <span style=\"color: #008000; text-decoration-color: #008000\">\"./fit_vae.sh '0' 'DOVES' 'poisson' 'conv+b|lin' --seed 3 --method exact\"</span>,\n",
       "        <span style=\"color: #008000; text-decoration-color: #008000\">\"./fit_vae.sh '0' 'DOVES' 'poisson' 'conv+b|lin' --seed 4 --method mc\"</span>,\n",
       "        <span style=\"color: #008000; text-decoration-color: #008000\">\"./fit_vae.sh '0' 'DOVES' 'poisson' 'conv+b|lin' --seed 4 --method exact\"</span>,\n",
       "        <span style=\"color: #008000; text-decoration-color: #008000\">\"./fit_vae.sh '0' 'DOVES' 'poisson' 'conv+b|lin' --seed 5 --method mc\"</span>,\n",
       "        <span style=\"color: #008000; text-decoration-color: #008000\">\"./fit_vae.sh '0' 'DOVES' 'poisson' 'conv+b|lin' --seed 5 --method exact\"</span>,\n",
       "        <span style=\"color: #008000; text-decoration-color: #008000\">\"./fit_vae.sh '0' 'CIFAR10-PATCHES' 'poisson' 'conv+b|lin' --seed 1 --method mc\"</span>,\n",
       "        <span style=\"color: #008000; text-decoration-color: #008000\">\"./fit_vae.sh '0' 'CIFAR10-PATCHES' 'poisson' 'conv+b|lin' --seed 1 --method exact\"</span>,\n",
       "        <span style=\"color: #008000; text-decoration-color: #008000\">\"./fit_vae.sh '0' 'CIFAR10-PATCHES' 'poisson' 'conv+b|lin' --seed 2 --method mc\"</span>,\n",
       "        <span style=\"color: #008000; text-decoration-color: #008000\">\"./fit_vae.sh '0' 'CIFAR10-PATCHES' 'poisson' 'conv+b|lin' --seed 2 --method exact\"</span>,\n",
       "        <span style=\"color: #008000; text-decoration-color: #008000\">\"./fit_vae.sh '0' 'CIFAR10-PATCHES' 'poisson' 'conv+b|lin' --seed 3 --method mc\"</span>,\n",
       "        <span style=\"color: #008000; text-decoration-color: #008000\">\"./fit_vae.sh '0' 'CIFAR10-PATCHES' 'poisson' 'conv+b|lin' --seed 3 --method exact\"</span>,\n",
       "        <span style=\"color: #008000; text-decoration-color: #008000\">\"./fit_vae.sh '0' 'CIFAR10-PATCHES' 'poisson' 'conv+b|lin' --seed 4 --method mc\"</span>,\n",
       "        <span style=\"color: #008000; text-decoration-color: #008000\">\"./fit_vae.sh '0' 'CIFAR10-PATCHES' 'poisson' 'conv+b|lin' --seed 4 --method exact\"</span>,\n",
       "        <span style=\"color: #008000; text-decoration-color: #008000\">\"./fit_vae.sh '0' 'CIFAR10-PATCHES' 'poisson' 'conv+b|lin' --seed 5 --method mc\"</span>,\n",
       "        <span style=\"color: #008000; text-decoration-color: #008000\">\"./fit_vae.sh '0' 'CIFAR10-PATCHES' 'poisson' 'conv+b|lin' --seed 5 --method exact\"</span>,\n",
       "        <span style=\"color: #008000; text-decoration-color: #008000\">\"./fit_vae.sh '0' 'MNIST' 'poisson' 'conv+b|lin' --seed 1 --method mc\"</span>,\n",
       "        <span style=\"color: #008000; text-decoration-color: #008000\">\"./fit_vae.sh '0' 'MNIST' 'poisson' 'conv+b|lin' --seed 1 --method exact\"</span>,\n",
       "        <span style=\"color: #008000; text-decoration-color: #008000\">\"./fit_vae.sh '0' 'MNIST' 'poisson' 'conv+b|lin' --seed 2 --method mc\"</span>,\n",
       "        <span style=\"color: #008000; text-decoration-color: #008000\">\"./fit_vae.sh '0' 'MNIST' 'poisson' 'conv+b|lin' --seed 2 --method exact\"</span>,\n",
       "        <span style=\"color: #008000; text-decoration-color: #008000\">\"./fit_vae.sh '0' 'MNIST' 'poisson' 'conv+b|lin' --seed 3 --method mc\"</span>,\n",
       "        <span style=\"color: #008000; text-decoration-color: #008000\">\"./fit_vae.sh '0' 'MNIST' 'poisson' 'conv+b|lin' --seed 3 --method exact\"</span>,\n",
       "        <span style=\"color: #008000; text-decoration-color: #008000\">\"./fit_vae.sh '0' 'MNIST' 'poisson' 'conv+b|lin' --seed 4 --method mc\"</span>,\n",
       "        <span style=\"color: #008000; text-decoration-color: #008000\">\"./fit_vae.sh '0' 'MNIST' 'poisson' 'conv+b|lin' --seed 4 --method exact\"</span>,\n",
       "        <span style=\"color: #008000; text-decoration-color: #008000\">\"./fit_vae.sh '0' 'MNIST' 'poisson' 'conv+b|lin' --seed 5 --method mc\"</span>,\n",
       "        <span style=\"color: #008000; text-decoration-color: #008000\">\"./fit_vae.sh '0' 'MNIST' 'poisson' 'conv+b|lin' --seed 5 --method exact\"</span>,\n",
       "        <span style=\"color: #008000; text-decoration-color: #008000\">\"./fit_vae.sh '0' 'DOVES' 'categorical' 'conv+b|lin' --seed 1 --method mc\"</span>,\n",
       "        <span style=\"color: #008000; text-decoration-color: #008000\">\"./fit_vae.sh '0' 'DOVES' 'categorical' 'conv+b|lin' --seed 1 --method exact\"</span>,\n",
       "        <span style=\"color: #008000; text-decoration-color: #008000\">\"./fit_vae.sh '0' 'DOVES' 'categorical' 'conv+b|lin' --seed 2 --method mc\"</span>,\n",
       "        <span style=\"color: #008000; text-decoration-color: #008000\">\"./fit_vae.sh '0' 'DOVES' 'categorical' 'conv+b|lin' --seed 2 --method exact\"</span>,\n",
       "        <span style=\"color: #008000; text-decoration-color: #008000\">\"./fit_vae.sh '0' 'DOVES' 'categorical' 'conv+b|lin' --seed 3 --method mc\"</span>,\n",
       "        <span style=\"color: #008000; text-decoration-color: #008000\">\"./fit_vae.sh '0' 'DOVES' 'categorical' 'conv+b|lin' --seed 3 --method exact\"</span>,\n",
       "        <span style=\"color: #008000; text-decoration-color: #008000\">\"./fit_vae.sh '0' 'DOVES' 'categorical' 'conv+b|lin' --seed 4 --method mc\"</span>,\n",
       "        <span style=\"color: #008000; text-decoration-color: #008000\">\"./fit_vae.sh '0' 'DOVES' 'categorical' 'conv+b|lin' --seed 4 --method exact\"</span>,\n",
       "        <span style=\"color: #008000; text-decoration-color: #008000\">\"./fit_vae.sh '0' 'DOVES' 'categorical' 'conv+b|lin' --seed 5 --method mc\"</span>,\n",
       "        <span style=\"color: #008000; text-decoration-color: #008000\">\"./fit_vae.sh '0' 'DOVES' 'categorical' 'conv+b|lin' --seed 5 --method exact\"</span>,\n",
       "        <span style=\"color: #008000; text-decoration-color: #008000\">\"./fit_vae.sh '0' 'CIFAR10-PATCHES' 'categorical' 'conv+b|lin' --seed 1 --method mc\"</span>,\n",
       "        <span style=\"color: #008000; text-decoration-color: #008000\">\"./fit_vae.sh '0' 'CIFAR10-PATCHES' 'categorical' 'conv+b|lin' --seed 1 --method exact\"</span>,\n",
       "        <span style=\"color: #008000; text-decoration-color: #008000\">\"./fit_vae.sh '0' 'CIFAR10-PATCHES' 'categorical' 'conv+b|lin' --seed 2 --method mc\"</span>,\n",
       "        <span style=\"color: #008000; text-decoration-color: #008000\">\"./fit_vae.sh '0' 'CIFAR10-PATCHES' 'categorical' 'conv+b|lin' --seed 2 --method exact\"</span>,\n",
       "        <span style=\"color: #008000; text-decoration-color: #008000\">\"./fit_vae.sh '0' 'CIFAR10-PATCHES' 'categorical' 'conv+b|lin' --seed 3 --method mc\"</span>,\n",
       "        <span style=\"color: #008000; text-decoration-color: #008000\">\"./fit_vae.sh '0' 'CIFAR10-PATCHES' 'categorical' 'conv+b|lin' --seed 3 --method exact\"</span>,\n",
       "        <span style=\"color: #008000; text-decoration-color: #008000\">\"./fit_vae.sh '0' 'CIFAR10-PATCHES' 'categorical' 'conv+b|lin' --seed 4 --method mc\"</span>,\n",
       "        <span style=\"color: #008000; text-decoration-color: #008000\">\"./fit_vae.sh '0' 'CIFAR10-PATCHES' 'categorical' 'conv+b|lin' --seed 4 --method exact\"</span>,\n",
       "        <span style=\"color: #008000; text-decoration-color: #008000\">\"./fit_vae.sh '0' 'CIFAR10-PATCHES' 'categorical' 'conv+b|lin' --seed 5 --method mc\"</span>,\n",
       "        <span style=\"color: #008000; text-decoration-color: #008000\">\"./fit_vae.sh '0' 'CIFAR10-PATCHES' 'categorical' 'conv+b|lin' --seed 5 --method exact\"</span>,\n",
       "        <span style=\"color: #008000; text-decoration-color: #008000\">\"./fit_vae.sh '0' 'MNIST' 'categorical' 'conv+b|lin' --seed 1 --method mc\"</span>,\n",
       "        <span style=\"color: #008000; text-decoration-color: #008000\">\"./fit_vae.sh '0' 'MNIST' 'categorical' 'conv+b|lin' --seed 1 --method exact\"</span>,\n",
       "        <span style=\"color: #008000; text-decoration-color: #008000\">\"./fit_vae.sh '0' 'MNIST' 'categorical' 'conv+b|lin' --seed 2 --method mc\"</span>,\n",
       "        <span style=\"color: #008000; text-decoration-color: #008000\">\"./fit_vae.sh '0' 'MNIST' 'categorical' 'conv+b|lin' --seed 2 --method exact\"</span>,\n",
       "        <span style=\"color: #008000; text-decoration-color: #008000\">\"./fit_vae.sh '0' 'MNIST' 'categorical' 'conv+b|lin' --seed 3 --method mc\"</span>,\n",
       "        <span style=\"color: #008000; text-decoration-color: #008000\">\"./fit_vae.sh '0' 'MNIST' 'categorical' 'conv+b|lin' --seed 3 --method exact\"</span>,\n",
       "        <span style=\"color: #008000; text-decoration-color: #008000\">\"./fit_vae.sh '0' 'MNIST' 'categorical' 'conv+b|lin' --seed 4 --method mc\"</span>,\n",
       "        <span style=\"color: #008000; text-decoration-color: #008000\">\"./fit_vae.sh '0' 'MNIST' 'categorical' 'conv+b|lin' --seed 4 --method exact\"</span>,\n",
       "        <span style=\"color: #008000; text-decoration-color: #008000\">\"./fit_vae.sh '0' 'MNIST' 'categorical' 'conv+b|lin' --seed 5 --method mc\"</span>,\n",
       "        <span style=\"color: #008000; text-decoration-color: #008000\">\"./fit_vae.sh '0' 'MNIST' 'categorical' 'conv+b|lin' --seed 5 --method exact\"</span>,\n",
       "        <span style=\"color: #008000; text-decoration-color: #008000\">\"./fit_vae.sh '0' 'DOVES' 'gaussian' 'conv+b|lin' --seed 1 --latent_act relu --comment relu\"</span>,\n",
       "        <span style=\"color: #008000; text-decoration-color: #008000\">\"./fit_vae.sh '0' 'DOVES' 'gaussian' 'conv+b|lin' --seed 2 --latent_act relu --comment relu\"</span>,\n",
       "        <span style=\"color: #008000; text-decoration-color: #008000\">\"./fit_vae.sh '0' 'DOVES' 'gaussian' 'conv+b|lin' --seed 3 --latent_act relu --comment relu\"</span>,\n",
       "        <span style=\"color: #008000; text-decoration-color: #008000\">\"./fit_vae.sh '0' 'DOVES' 'gaussian' 'conv+b|lin' --seed 4 --latent_act relu --comment relu\"</span>,\n",
       "        <span style=\"color: #008000; text-decoration-color: #008000\">\"./fit_vae.sh '0' 'DOVES' 'gaussian' 'conv+b|lin' --seed 5 --latent_act relu --comment relu\"</span>,\n",
       "        <span style=\"color: #008000; text-decoration-color: #008000\">\"./fit_vae.sh '0' 'CIFAR10-PATCHES' 'gaussian' 'conv+b|lin' --seed 1 --latent_act relu --comment relu\"</span>,\n",
       "        <span style=\"color: #008000; text-decoration-color: #008000\">\"./fit_vae.sh '0' 'CIFAR10-PATCHES' 'gaussian' 'conv+b|lin' --seed 2 --latent_act relu --comment relu\"</span>,\n",
       "        <span style=\"color: #008000; text-decoration-color: #008000\">\"./fit_vae.sh '0' 'CIFAR10-PATCHES' 'gaussian' 'conv+b|lin' --seed 3 --latent_act relu --comment relu\"</span>,\n",
       "        <span style=\"color: #008000; text-decoration-color: #008000\">\"./fit_vae.sh '0' 'CIFAR10-PATCHES' 'gaussian' 'conv+b|lin' --seed 4 --latent_act relu --comment relu\"</span>,\n",
       "        <span style=\"color: #008000; text-decoration-color: #008000\">\"./fit_vae.sh '0' 'CIFAR10-PATCHES' 'gaussian' 'conv+b|lin' --seed 5 --latent_act relu --comment relu\"</span>,\n",
       "        <span style=\"color: #008000; text-decoration-color: #008000\">\"./fit_vae.sh '0' 'MNIST' 'gaussian' 'conv+b|lin' --seed 1 --latent_act relu --comment relu\"</span>,\n",
       "        <span style=\"color: #008000; text-decoration-color: #008000\">\"./fit_vae.sh '0' 'MNIST' 'gaussian' 'conv+b|lin' --seed 2 --latent_act relu --comment relu\"</span>,\n",
       "        <span style=\"color: #008000; text-decoration-color: #008000\">\"./fit_vae.sh '0' 'MNIST' 'gaussian' 'conv+b|lin' --seed 3 --latent_act relu --comment relu\"</span>,\n",
       "        <span style=\"color: #008000; text-decoration-color: #008000\">\"./fit_vae.sh '0' 'MNIST' 'gaussian' 'conv+b|lin' --seed 4 --latent_act relu --comment relu\"</span>,\n",
       "        <span style=\"color: #008000; text-decoration-color: #008000\">\"./fit_vae.sh '0' 'MNIST' 'gaussian' 'conv+b|lin' --seed 5 --latent_act relu --comment relu\"</span>,\n",
       "        <span style=\"color: #008000; text-decoration-color: #008000\">\"./fit_vae.sh '0' 'DOVES' 'gaussian' 'conv+b|lin' --seed 1 --latent_act softplus --comment softplus\"</span>,\n",
       "        <span style=\"color: #008000; text-decoration-color: #008000\">\"./fit_vae.sh '0' 'DOVES' 'gaussian' 'conv+b|lin' --seed 2 --latent_act softplus --comment softplus\"</span>,\n",
       "        <span style=\"color: #008000; text-decoration-color: #008000\">\"./fit_vae.sh '0' 'DOVES' 'gaussian' 'conv+b|lin' --seed 3 --latent_act softplus --comment softplus\"</span>,\n",
       "        <span style=\"color: #008000; text-decoration-color: #008000\">\"./fit_vae.sh '0' 'DOVES' 'gaussian' 'conv+b|lin' --seed 4 --latent_act softplus --comment softplus\"</span>,\n",
       "        <span style=\"color: #008000; text-decoration-color: #008000\">\"./fit_vae.sh '0' 'DOVES' 'gaussian' 'conv+b|lin' --seed 5 --latent_act softplus --comment softplus\"</span>,\n",
       "        <span style=\"color: #008000; text-decoration-color: #008000\">\"./fit_vae.sh '0' 'CIFAR10-PATCHES' 'gaussian' 'conv+b|lin' --seed 1 --latent_act softplus --comment </span>\n",
       "<span style=\"color: #008000; text-decoration-color: #008000\">softplus\"</span>,\n",
       "        <span style=\"color: #008000; text-decoration-color: #008000\">\"./fit_vae.sh '0' 'CIFAR10-PATCHES' 'gaussian' 'conv+b|lin' --seed 2 --latent_act softplus --comment </span>\n",
       "<span style=\"color: #008000; text-decoration-color: #008000\">softplus\"</span>,\n",
       "        <span style=\"color: #008000; text-decoration-color: #008000\">\"./fit_vae.sh '0' 'CIFAR10-PATCHES' 'gaussian' 'conv+b|lin' --seed 3 --latent_act softplus --comment </span>\n",
       "<span style=\"color: #008000; text-decoration-color: #008000\">softplus\"</span>,\n",
       "        <span style=\"color: #008000; text-decoration-color: #008000\">\"./fit_vae.sh '0' 'CIFAR10-PATCHES' 'gaussian' 'conv+b|lin' --seed 4 --latent_act softplus --comment </span>\n",
       "<span style=\"color: #008000; text-decoration-color: #008000\">softplus\"</span>,\n",
       "        <span style=\"color: #008000; text-decoration-color: #008000\">\"./fit_vae.sh '0' 'CIFAR10-PATCHES' 'gaussian' 'conv+b|lin' --seed 5 --latent_act softplus --comment </span>\n",
       "<span style=\"color: #008000; text-decoration-color: #008000\">softplus\"</span>,\n",
       "        <span style=\"color: #008000; text-decoration-color: #008000\">\"./fit_vae.sh '0' 'MNIST' 'gaussian' 'conv+b|lin' --seed 1 --latent_act softplus --comment softplus\"</span>,\n",
       "        <span style=\"color: #008000; text-decoration-color: #008000\">\"./fit_vae.sh '0' 'MNIST' 'gaussian' 'conv+b|lin' --seed 2 --latent_act softplus --comment softplus\"</span>,\n",
       "        <span style=\"color: #008000; text-decoration-color: #008000\">\"./fit_vae.sh '0' 'MNIST' 'gaussian' 'conv+b|lin' --seed 3 --latent_act softplus --comment softplus\"</span>,\n",
       "        <span style=\"color: #008000; text-decoration-color: #008000\">\"./fit_vae.sh '0' 'MNIST' 'gaussian' 'conv+b|lin' --seed 4 --latent_act softplus --comment softplus\"</span>,\n",
       "        <span style=\"color: #008000; text-decoration-color: #008000\">\"./fit_vae.sh '0' 'MNIST' 'gaussian' 'conv+b|lin' --seed 5 --latent_act softplus --comment softplus\"</span>\n",
       "    <span style=\"font-weight: bold\">]</span>,\n",
       "    <span style=\"color: #008080; text-decoration-color: #008080; font-weight: bold\">1</span>: <span style=\"font-weight: bold\">[</span>\n",
       "        <span style=\"color: #008000; text-decoration-color: #008000\">\"./fit_vae.sh '1' 'DOVES' 'gaussian' 'conv+b|lin' --seed 1 --method mc\"</span>,\n",
       "        <span style=\"color: #008000; text-decoration-color: #008000\">\"./fit_vae.sh '1' 'DOVES' 'gaussian' 'conv+b|lin' --seed 1 --method exact\"</span>,\n",
       "        <span style=\"color: #008000; text-decoration-color: #008000\">\"./fit_vae.sh '1' 'DOVES' 'gaussian' 'conv+b|lin' --seed 2 --method mc\"</span>,\n",
       "        <span style=\"color: #008000; text-decoration-color: #008000\">\"./fit_vae.sh '1' 'DOVES' 'gaussian' 'conv+b|lin' --seed 2 --method exact\"</span>,\n",
       "        <span style=\"color: #008000; text-decoration-color: #008000\">\"./fit_vae.sh '1' 'DOVES' 'gaussian' 'conv+b|lin' --seed 3 --method mc\"</span>,\n",
       "        <span style=\"color: #008000; text-decoration-color: #008000\">\"./fit_vae.sh '1' 'DOVES' 'gaussian' 'conv+b|lin' --seed 3 --method exact\"</span>,\n",
       "        <span style=\"color: #008000; text-decoration-color: #008000\">\"./fit_vae.sh '1' 'DOVES' 'gaussian' 'conv+b|lin' --seed 4 --method mc\"</span>,\n",
       "        <span style=\"color: #008000; text-decoration-color: #008000\">\"./fit_vae.sh '1' 'DOVES' 'gaussian' 'conv+b|lin' --seed 4 --method exact\"</span>,\n",
       "        <span style=\"color: #008000; text-decoration-color: #008000\">\"./fit_vae.sh '1' 'DOVES' 'gaussian' 'conv+b|lin' --seed 5 --method mc\"</span>,\n",
       "        <span style=\"color: #008000; text-decoration-color: #008000\">\"./fit_vae.sh '1' 'DOVES' 'gaussian' 'conv+b|lin' --seed 5 --method exact\"</span>,\n",
       "        <span style=\"color: #008000; text-decoration-color: #008000\">\"./fit_vae.sh '1' 'CIFAR10-PATCHES' 'gaussian' 'conv+b|lin' --seed 1 --method mc\"</span>,\n",
       "        <span style=\"color: #008000; text-decoration-color: #008000\">\"./fit_vae.sh '1' 'CIFAR10-PATCHES' 'gaussian' 'conv+b|lin' --seed 1 --method exact\"</span>,\n",
       "        <span style=\"color: #008000; text-decoration-color: #008000\">\"./fit_vae.sh '1' 'CIFAR10-PATCHES' 'gaussian' 'conv+b|lin' --seed 2 --method mc\"</span>,\n",
       "        <span style=\"color: #008000; text-decoration-color: #008000\">\"./fit_vae.sh '1' 'CIFAR10-PATCHES' 'gaussian' 'conv+b|lin' --seed 2 --method exact\"</span>,\n",
       "        <span style=\"color: #008000; text-decoration-color: #008000\">\"./fit_vae.sh '1' 'CIFAR10-PATCHES' 'gaussian' 'conv+b|lin' --seed 3 --method mc\"</span>,\n",
       "        <span style=\"color: #008000; text-decoration-color: #008000\">\"./fit_vae.sh '1' 'CIFAR10-PATCHES' 'gaussian' 'conv+b|lin' --seed 3 --method exact\"</span>,\n",
       "        <span style=\"color: #008000; text-decoration-color: #008000\">\"./fit_vae.sh '1' 'CIFAR10-PATCHES' 'gaussian' 'conv+b|lin' --seed 4 --method mc\"</span>,\n",
       "        <span style=\"color: #008000; text-decoration-color: #008000\">\"./fit_vae.sh '1' 'CIFAR10-PATCHES' 'gaussian' 'conv+b|lin' --seed 4 --method exact\"</span>,\n",
       "        <span style=\"color: #008000; text-decoration-color: #008000\">\"./fit_vae.sh '1' 'CIFAR10-PATCHES' 'gaussian' 'conv+b|lin' --seed 5 --method mc\"</span>,\n",
       "        <span style=\"color: #008000; text-decoration-color: #008000\">\"./fit_vae.sh '1' 'CIFAR10-PATCHES' 'gaussian' 'conv+b|lin' --seed 5 --method exact\"</span>,\n",
       "        <span style=\"color: #008000; text-decoration-color: #008000\">\"./fit_vae.sh '1' 'MNIST' 'gaussian' 'conv+b|lin' --seed 1 --method mc\"</span>,\n",
       "        <span style=\"color: #008000; text-decoration-color: #008000\">\"./fit_vae.sh '1' 'MNIST' 'gaussian' 'conv+b|lin' --seed 1 --method exact\"</span>,\n",
       "        <span style=\"color: #008000; text-decoration-color: #008000\">\"./fit_vae.sh '1' 'MNIST' 'gaussian' 'conv+b|lin' --seed 2 --method mc\"</span>,\n",
       "        <span style=\"color: #008000; text-decoration-color: #008000\">\"./fit_vae.sh '1' 'MNIST' 'gaussian' 'conv+b|lin' --seed 2 --method exact\"</span>,\n",
       "        <span style=\"color: #008000; text-decoration-color: #008000\">\"./fit_vae.sh '1' 'MNIST' 'gaussian' 'conv+b|lin' --seed 3 --method mc\"</span>,\n",
       "        <span style=\"color: #008000; text-decoration-color: #008000\">\"./fit_vae.sh '1' 'MNIST' 'gaussian' 'conv+b|lin' --seed 3 --method exact\"</span>,\n",
       "        <span style=\"color: #008000; text-decoration-color: #008000\">\"./fit_vae.sh '1' 'MNIST' 'gaussian' 'conv+b|lin' --seed 4 --method mc\"</span>,\n",
       "        <span style=\"color: #008000; text-decoration-color: #008000\">\"./fit_vae.sh '1' 'MNIST' 'gaussian' 'conv+b|lin' --seed 4 --method exact\"</span>,\n",
       "        <span style=\"color: #008000; text-decoration-color: #008000\">\"./fit_vae.sh '1' 'MNIST' 'gaussian' 'conv+b|lin' --seed 5 --method mc\"</span>,\n",
       "        <span style=\"color: #008000; text-decoration-color: #008000\">\"./fit_vae.sh '1' 'MNIST' 'gaussian' 'conv+b|lin' --seed 5 --method exact\"</span>,\n",
       "        <span style=\"color: #008000; text-decoration-color: #008000\">\"./fit_vae.sh '1' 'DOVES' 'laplace' 'conv+b|lin' --seed 1 --method mc\"</span>,\n",
       "        <span style=\"color: #008000; text-decoration-color: #008000\">\"./fit_vae.sh '1' 'DOVES' 'laplace' 'conv+b|lin' --seed 1 --method exact\"</span>,\n",
       "        <span style=\"color: #008000; text-decoration-color: #008000\">\"./fit_vae.sh '1' 'DOVES' 'laplace' 'conv+b|lin' --seed 2 --method mc\"</span>,\n",
       "        <span style=\"color: #008000; text-decoration-color: #008000\">\"./fit_vae.sh '1' 'DOVES' 'laplace' 'conv+b|lin' --seed 2 --method exact\"</span>,\n",
       "        <span style=\"color: #008000; text-decoration-color: #008000\">\"./fit_vae.sh '1' 'DOVES' 'laplace' 'conv+b|lin' --seed 3 --method mc\"</span>,\n",
       "        <span style=\"color: #008000; text-decoration-color: #008000\">\"./fit_vae.sh '1' 'DOVES' 'laplace' 'conv+b|lin' --seed 3 --method exact\"</span>,\n",
       "        <span style=\"color: #008000; text-decoration-color: #008000\">\"./fit_vae.sh '1' 'DOVES' 'laplace' 'conv+b|lin' --seed 4 --method mc\"</span>,\n",
       "        <span style=\"color: #008000; text-decoration-color: #008000\">\"./fit_vae.sh '1' 'DOVES' 'laplace' 'conv+b|lin' --seed 4 --method exact\"</span>,\n",
       "        <span style=\"color: #008000; text-decoration-color: #008000\">\"./fit_vae.sh '1' 'DOVES' 'laplace' 'conv+b|lin' --seed 5 --method mc\"</span>,\n",
       "        <span style=\"color: #008000; text-decoration-color: #008000\">\"./fit_vae.sh '1' 'DOVES' 'laplace' 'conv+b|lin' --seed 5 --method exact\"</span>,\n",
       "        <span style=\"color: #008000; text-decoration-color: #008000\">\"./fit_vae.sh '1' 'CIFAR10-PATCHES' 'laplace' 'conv+b|lin' --seed 1 --method mc\"</span>,\n",
       "        <span style=\"color: #008000; text-decoration-color: #008000\">\"./fit_vae.sh '1' 'CIFAR10-PATCHES' 'laplace' 'conv+b|lin' --seed 1 --method exact\"</span>,\n",
       "        <span style=\"color: #008000; text-decoration-color: #008000\">\"./fit_vae.sh '1' 'CIFAR10-PATCHES' 'laplace' 'conv+b|lin' --seed 2 --method mc\"</span>,\n",
       "        <span style=\"color: #008000; text-decoration-color: #008000\">\"./fit_vae.sh '1' 'CIFAR10-PATCHES' 'laplace' 'conv+b|lin' --seed 2 --method exact\"</span>,\n",
       "        <span style=\"color: #008000; text-decoration-color: #008000\">\"./fit_vae.sh '1' 'CIFAR10-PATCHES' 'laplace' 'conv+b|lin' --seed 3 --method mc\"</span>,\n",
       "        <span style=\"color: #008000; text-decoration-color: #008000\">\"./fit_vae.sh '1' 'CIFAR10-PATCHES' 'laplace' 'conv+b|lin' --seed 3 --method exact\"</span>,\n",
       "        <span style=\"color: #008000; text-decoration-color: #008000\">\"./fit_vae.sh '1' 'CIFAR10-PATCHES' 'laplace' 'conv+b|lin' --seed 4 --method mc\"</span>,\n",
       "        <span style=\"color: #008000; text-decoration-color: #008000\">\"./fit_vae.sh '1' 'CIFAR10-PATCHES' 'laplace' 'conv+b|lin' --seed 4 --method exact\"</span>,\n",
       "        <span style=\"color: #008000; text-decoration-color: #008000\">\"./fit_vae.sh '1' 'CIFAR10-PATCHES' 'laplace' 'conv+b|lin' --seed 5 --method mc\"</span>,\n",
       "        <span style=\"color: #008000; text-decoration-color: #008000\">\"./fit_vae.sh '1' 'CIFAR10-PATCHES' 'laplace' 'conv+b|lin' --seed 5 --method exact\"</span>,\n",
       "        <span style=\"color: #008000; text-decoration-color: #008000\">\"./fit_vae.sh '1' 'MNIST' 'laplace' 'conv+b|lin' --seed 1 --method mc\"</span>,\n",
       "        <span style=\"color: #008000; text-decoration-color: #008000\">\"./fit_vae.sh '1' 'MNIST' 'laplace' 'conv+b|lin' --seed 1 --method exact\"</span>,\n",
       "        <span style=\"color: #008000; text-decoration-color: #008000\">\"./fit_vae.sh '1' 'MNIST' 'laplace' 'conv+b|lin' --seed 2 --method mc\"</span>,\n",
       "        <span style=\"color: #008000; text-decoration-color: #008000\">\"./fit_vae.sh '1' 'MNIST' 'laplace' 'conv+b|lin' --seed 2 --method exact\"</span>,\n",
       "        <span style=\"color: #008000; text-decoration-color: #008000\">\"./fit_vae.sh '1' 'MNIST' 'laplace' 'conv+b|lin' --seed 3 --method mc\"</span>,\n",
       "        <span style=\"color: #008000; text-decoration-color: #008000\">\"./fit_vae.sh '1' 'MNIST' 'laplace' 'conv+b|lin' --seed 3 --method exact\"</span>,\n",
       "        <span style=\"color: #008000; text-decoration-color: #008000\">\"./fit_vae.sh '1' 'MNIST' 'laplace' 'conv+b|lin' --seed 4 --method mc\"</span>,\n",
       "        <span style=\"color: #008000; text-decoration-color: #008000\">\"./fit_vae.sh '1' 'MNIST' 'laplace' 'conv+b|lin' --seed 4 --method exact\"</span>,\n",
       "        <span style=\"color: #008000; text-decoration-color: #008000\">\"./fit_vae.sh '1' 'MNIST' 'laplace' 'conv+b|lin' --seed 5 --method mc\"</span>,\n",
       "        <span style=\"color: #008000; text-decoration-color: #008000\">\"./fit_vae.sh '1' 'MNIST' 'laplace' 'conv+b|lin' --seed 5 --method exact\"</span>,\n",
       "        <span style=\"color: #008000; text-decoration-color: #008000\">\"./fit_vae.sh '1' 'DOVES' 'gaussian' 'conv+b|lin' --seed 1 --latent_act square --comment square\"</span>,\n",
       "        <span style=\"color: #008000; text-decoration-color: #008000\">\"./fit_vae.sh '1' 'DOVES' 'gaussian' 'conv+b|lin' --seed 2 --latent_act square --comment square\"</span>,\n",
       "        <span style=\"color: #008000; text-decoration-color: #008000\">\"./fit_vae.sh '1' 'DOVES' 'gaussian' 'conv+b|lin' --seed 3 --latent_act square --comment square\"</span>,\n",
       "        <span style=\"color: #008000; text-decoration-color: #008000\">\"./fit_vae.sh '1' 'DOVES' 'gaussian' 'conv+b|lin' --seed 4 --latent_act square --comment square\"</span>,\n",
       "        <span style=\"color: #008000; text-decoration-color: #008000\">\"./fit_vae.sh '1' 'DOVES' 'gaussian' 'conv+b|lin' --seed 5 --latent_act square --comment square\"</span>,\n",
       "        <span style=\"color: #008000; text-decoration-color: #008000\">\"./fit_vae.sh '1' 'CIFAR10-PATCHES' 'gaussian' 'conv+b|lin' --seed 1 --latent_act square --comment square\"</span>,\n",
       "        <span style=\"color: #008000; text-decoration-color: #008000\">\"./fit_vae.sh '1' 'CIFAR10-PATCHES' 'gaussian' 'conv+b|lin' --seed 2 --latent_act square --comment square\"</span>,\n",
       "        <span style=\"color: #008000; text-decoration-color: #008000\">\"./fit_vae.sh '1' 'CIFAR10-PATCHES' 'gaussian' 'conv+b|lin' --seed 3 --latent_act square --comment square\"</span>,\n",
       "        <span style=\"color: #008000; text-decoration-color: #008000\">\"./fit_vae.sh '1' 'CIFAR10-PATCHES' 'gaussian' 'conv+b|lin' --seed 4 --latent_act square --comment square\"</span>,\n",
       "        <span style=\"color: #008000; text-decoration-color: #008000\">\"./fit_vae.sh '1' 'CIFAR10-PATCHES' 'gaussian' 'conv+b|lin' --seed 5 --latent_act square --comment square\"</span>,\n",
       "        <span style=\"color: #008000; text-decoration-color: #008000\">\"./fit_vae.sh '1' 'MNIST' 'gaussian' 'conv+b|lin' --seed 1 --latent_act square --comment square\"</span>,\n",
       "        <span style=\"color: #008000; text-decoration-color: #008000\">\"./fit_vae.sh '1' 'MNIST' 'gaussian' 'conv+b|lin' --seed 2 --latent_act square --comment square\"</span>,\n",
       "        <span style=\"color: #008000; text-decoration-color: #008000\">\"./fit_vae.sh '1' 'MNIST' 'gaussian' 'conv+b|lin' --seed 3 --latent_act square --comment square\"</span>,\n",
       "        <span style=\"color: #008000; text-decoration-color: #008000\">\"./fit_vae.sh '1' 'MNIST' 'gaussian' 'conv+b|lin' --seed 4 --latent_act square --comment square\"</span>,\n",
       "        <span style=\"color: #008000; text-decoration-color: #008000\">\"./fit_vae.sh '1' 'MNIST' 'gaussian' 'conv+b|lin' --seed 5 --latent_act square --comment square\"</span>,\n",
       "        <span style=\"color: #008000; text-decoration-color: #008000\">\"./fit_vae.sh '1' 'DOVES' 'gaussian' 'conv+b|lin' --seed 1 --latent_act exp --comment exp --init_scale </span>\n",
       "<span style=\"color: #008000; text-decoration-color: #008000\">0.0001\"</span>,\n",
       "        <span style=\"color: #008000; text-decoration-color: #008000\">\"./fit_vae.sh '1' 'DOVES' 'gaussian' 'conv+b|lin' --seed 2 --latent_act exp --comment exp --init_scale </span>\n",
       "<span style=\"color: #008000; text-decoration-color: #008000\">0.0001\"</span>,\n",
       "        <span style=\"color: #008000; text-decoration-color: #008000\">\"./fit_vae.sh '1' 'DOVES' 'gaussian' 'conv+b|lin' --seed 3 --latent_act exp --comment exp --init_scale </span>\n",
       "<span style=\"color: #008000; text-decoration-color: #008000\">0.0001\"</span>,\n",
       "        <span style=\"color: #008000; text-decoration-color: #008000\">\"./fit_vae.sh '1' 'DOVES' 'gaussian' 'conv+b|lin' --seed 4 --latent_act exp --comment exp --init_scale </span>\n",
       "<span style=\"color: #008000; text-decoration-color: #008000\">0.0001\"</span>,\n",
       "        <span style=\"color: #008000; text-decoration-color: #008000\">\"./fit_vae.sh '1' 'DOVES' 'gaussian' 'conv+b|lin' --seed 5 --latent_act exp --comment exp --init_scale </span>\n",
       "<span style=\"color: #008000; text-decoration-color: #008000\">0.0001\"</span>,\n",
       "        <span style=\"color: #008000; text-decoration-color: #008000\">\"./fit_vae.sh '1' 'CIFAR10-PATCHES' 'gaussian' 'conv+b|lin' --seed 1 --latent_act exp --comment exp </span>\n",
       "<span style=\"color: #008000; text-decoration-color: #008000\">--init_scale 0.0001\"</span>,\n",
       "        <span style=\"color: #008000; text-decoration-color: #008000\">\"./fit_vae.sh '1' 'CIFAR10-PATCHES' 'gaussian' 'conv+b|lin' --seed 2 --latent_act exp --comment exp </span>\n",
       "<span style=\"color: #008000; text-decoration-color: #008000\">--init_scale 0.0001\"</span>,\n",
       "        <span style=\"color: #008000; text-decoration-color: #008000\">\"./fit_vae.sh '1' 'CIFAR10-PATCHES' 'gaussian' 'conv+b|lin' --seed 3 --latent_act exp --comment exp </span>\n",
       "<span style=\"color: #008000; text-decoration-color: #008000\">--init_scale 0.0001\"</span>,\n",
       "        <span style=\"color: #008000; text-decoration-color: #008000\">\"./fit_vae.sh '1' 'CIFAR10-PATCHES' 'gaussian' 'conv+b|lin' --seed 4 --latent_act exp --comment exp </span>\n",
       "<span style=\"color: #008000; text-decoration-color: #008000\">--init_scale 0.0001\"</span>,\n",
       "        <span style=\"color: #008000; text-decoration-color: #008000\">\"./fit_vae.sh '1' 'CIFAR10-PATCHES' 'gaussian' 'conv+b|lin' --seed 5 --latent_act exp --comment exp </span>\n",
       "<span style=\"color: #008000; text-decoration-color: #008000\">--init_scale 0.0001\"</span>,\n",
       "        <span style=\"color: #008000; text-decoration-color: #008000\">\"./fit_vae.sh '1' 'MNIST' 'gaussian' 'conv+b|lin' --seed 1 --latent_act exp --comment exp --init_scale </span>\n",
       "<span style=\"color: #008000; text-decoration-color: #008000\">0.0001\"</span>,\n",
       "        <span style=\"color: #008000; text-decoration-color: #008000\">\"./fit_vae.sh '1' 'MNIST' 'gaussian' 'conv+b|lin' --seed 2 --latent_act exp --comment exp --init_scale </span>\n",
       "<span style=\"color: #008000; text-decoration-color: #008000\">0.0001\"</span>,\n",
       "        <span style=\"color: #008000; text-decoration-color: #008000\">\"./fit_vae.sh '1' 'MNIST' 'gaussian' 'conv+b|lin' --seed 3 --latent_act exp --comment exp --init_scale </span>\n",
       "<span style=\"color: #008000; text-decoration-color: #008000\">0.0001\"</span>,\n",
       "        <span style=\"color: #008000; text-decoration-color: #008000\">\"./fit_vae.sh '1' 'MNIST' 'gaussian' 'conv+b|lin' --seed 4 --latent_act exp --comment exp --init_scale </span>\n",
       "<span style=\"color: #008000; text-decoration-color: #008000\">0.0001\"</span>,\n",
       "        <span style=\"color: #008000; text-decoration-color: #008000\">\"./fit_vae.sh '1' 'MNIST' 'gaussian' 'conv+b|lin' --seed 5 --latent_act exp --comment exp --init_scale </span>\n",
       "<span style=\"color: #008000; text-decoration-color: #008000\">0.0001\"</span>\n",
       "    <span style=\"font-weight: bold\">]</span>\n",
       "<span style=\"font-weight: bold\">}</span>\n",
       "</pre>\n"
      ],
      "text/plain": [
       "\u001b[1m{\u001b[0m\n",
       "    \u001b[1;36m0\u001b[0m: \u001b[1m[\u001b[0m\n",
       "        \u001b[32m\"./fit_vae.sh '0' 'DOVES' 'poisson' 'conv+b|lin' --seed 1 --method mc\"\u001b[0m,\n",
       "        \u001b[32m\"./fit_vae.sh '0' 'DOVES' 'poisson' 'conv+b|lin' --seed 1 --method exact\"\u001b[0m,\n",
       "        \u001b[32m\"./fit_vae.sh '0' 'DOVES' 'poisson' 'conv+b|lin' --seed 2 --method mc\"\u001b[0m,\n",
       "        \u001b[32m\"./fit_vae.sh '0' 'DOVES' 'poisson' 'conv+b|lin' --seed 2 --method exact\"\u001b[0m,\n",
       "        \u001b[32m\"./fit_vae.sh '0' 'DOVES' 'poisson' 'conv+b|lin' --seed 3 --method mc\"\u001b[0m,\n",
       "        \u001b[32m\"./fit_vae.sh '0' 'DOVES' 'poisson' 'conv+b|lin' --seed 3 --method exact\"\u001b[0m,\n",
       "        \u001b[32m\"./fit_vae.sh '0' 'DOVES' 'poisson' 'conv+b|lin' --seed 4 --method mc\"\u001b[0m,\n",
       "        \u001b[32m\"./fit_vae.sh '0' 'DOVES' 'poisson' 'conv+b|lin' --seed 4 --method exact\"\u001b[0m,\n",
       "        \u001b[32m\"./fit_vae.sh '0' 'DOVES' 'poisson' 'conv+b|lin' --seed 5 --method mc\"\u001b[0m,\n",
       "        \u001b[32m\"./fit_vae.sh '0' 'DOVES' 'poisson' 'conv+b|lin' --seed 5 --method exact\"\u001b[0m,\n",
       "        \u001b[32m\"./fit_vae.sh '0' 'CIFAR10-PATCHES' 'poisson' 'conv+b|lin' --seed 1 --method mc\"\u001b[0m,\n",
       "        \u001b[32m\"./fit_vae.sh '0' 'CIFAR10-PATCHES' 'poisson' 'conv+b|lin' --seed 1 --method exact\"\u001b[0m,\n",
       "        \u001b[32m\"./fit_vae.sh '0' 'CIFAR10-PATCHES' 'poisson' 'conv+b|lin' --seed 2 --method mc\"\u001b[0m,\n",
       "        \u001b[32m\"./fit_vae.sh '0' 'CIFAR10-PATCHES' 'poisson' 'conv+b|lin' --seed 2 --method exact\"\u001b[0m,\n",
       "        \u001b[32m\"./fit_vae.sh '0' 'CIFAR10-PATCHES' 'poisson' 'conv+b|lin' --seed 3 --method mc\"\u001b[0m,\n",
       "        \u001b[32m\"./fit_vae.sh '0' 'CIFAR10-PATCHES' 'poisson' 'conv+b|lin' --seed 3 --method exact\"\u001b[0m,\n",
       "        \u001b[32m\"./fit_vae.sh '0' 'CIFAR10-PATCHES' 'poisson' 'conv+b|lin' --seed 4 --method mc\"\u001b[0m,\n",
       "        \u001b[32m\"./fit_vae.sh '0' 'CIFAR10-PATCHES' 'poisson' 'conv+b|lin' --seed 4 --method exact\"\u001b[0m,\n",
       "        \u001b[32m\"./fit_vae.sh '0' 'CIFAR10-PATCHES' 'poisson' 'conv+b|lin' --seed 5 --method mc\"\u001b[0m,\n",
       "        \u001b[32m\"./fit_vae.sh '0' 'CIFAR10-PATCHES' 'poisson' 'conv+b|lin' --seed 5 --method exact\"\u001b[0m,\n",
       "        \u001b[32m\"./fit_vae.sh '0' 'MNIST' 'poisson' 'conv+b|lin' --seed 1 --method mc\"\u001b[0m,\n",
       "        \u001b[32m\"./fit_vae.sh '0' 'MNIST' 'poisson' 'conv+b|lin' --seed 1 --method exact\"\u001b[0m,\n",
       "        \u001b[32m\"./fit_vae.sh '0' 'MNIST' 'poisson' 'conv+b|lin' --seed 2 --method mc\"\u001b[0m,\n",
       "        \u001b[32m\"./fit_vae.sh '0' 'MNIST' 'poisson' 'conv+b|lin' --seed 2 --method exact\"\u001b[0m,\n",
       "        \u001b[32m\"./fit_vae.sh '0' 'MNIST' 'poisson' 'conv+b|lin' --seed 3 --method mc\"\u001b[0m,\n",
       "        \u001b[32m\"./fit_vae.sh '0' 'MNIST' 'poisson' 'conv+b|lin' --seed 3 --method exact\"\u001b[0m,\n",
       "        \u001b[32m\"./fit_vae.sh '0' 'MNIST' 'poisson' 'conv+b|lin' --seed 4 --method mc\"\u001b[0m,\n",
       "        \u001b[32m\"./fit_vae.sh '0' 'MNIST' 'poisson' 'conv+b|lin' --seed 4 --method exact\"\u001b[0m,\n",
       "        \u001b[32m\"./fit_vae.sh '0' 'MNIST' 'poisson' 'conv+b|lin' --seed 5 --method mc\"\u001b[0m,\n",
       "        \u001b[32m\"./fit_vae.sh '0' 'MNIST' 'poisson' 'conv+b|lin' --seed 5 --method exact\"\u001b[0m,\n",
       "        \u001b[32m\"./fit_vae.sh '0' 'DOVES' 'categorical' 'conv+b|lin' --seed 1 --method mc\"\u001b[0m,\n",
       "        \u001b[32m\"./fit_vae.sh '0' 'DOVES' 'categorical' 'conv+b|lin' --seed 1 --method exact\"\u001b[0m,\n",
       "        \u001b[32m\"./fit_vae.sh '0' 'DOVES' 'categorical' 'conv+b|lin' --seed 2 --method mc\"\u001b[0m,\n",
       "        \u001b[32m\"./fit_vae.sh '0' 'DOVES' 'categorical' 'conv+b|lin' --seed 2 --method exact\"\u001b[0m,\n",
       "        \u001b[32m\"./fit_vae.sh '0' 'DOVES' 'categorical' 'conv+b|lin' --seed 3 --method mc\"\u001b[0m,\n",
       "        \u001b[32m\"./fit_vae.sh '0' 'DOVES' 'categorical' 'conv+b|lin' --seed 3 --method exact\"\u001b[0m,\n",
       "        \u001b[32m\"./fit_vae.sh '0' 'DOVES' 'categorical' 'conv+b|lin' --seed 4 --method mc\"\u001b[0m,\n",
       "        \u001b[32m\"./fit_vae.sh '0' 'DOVES' 'categorical' 'conv+b|lin' --seed 4 --method exact\"\u001b[0m,\n",
       "        \u001b[32m\"./fit_vae.sh '0' 'DOVES' 'categorical' 'conv+b|lin' --seed 5 --method mc\"\u001b[0m,\n",
       "        \u001b[32m\"./fit_vae.sh '0' 'DOVES' 'categorical' 'conv+b|lin' --seed 5 --method exact\"\u001b[0m,\n",
       "        \u001b[32m\"./fit_vae.sh '0' 'CIFAR10-PATCHES' 'categorical' 'conv+b|lin' --seed 1 --method mc\"\u001b[0m,\n",
       "        \u001b[32m\"./fit_vae.sh '0' 'CIFAR10-PATCHES' 'categorical' 'conv+b|lin' --seed 1 --method exact\"\u001b[0m,\n",
       "        \u001b[32m\"./fit_vae.sh '0' 'CIFAR10-PATCHES' 'categorical' 'conv+b|lin' --seed 2 --method mc\"\u001b[0m,\n",
       "        \u001b[32m\"./fit_vae.sh '0' 'CIFAR10-PATCHES' 'categorical' 'conv+b|lin' --seed 2 --method exact\"\u001b[0m,\n",
       "        \u001b[32m\"./fit_vae.sh '0' 'CIFAR10-PATCHES' 'categorical' 'conv+b|lin' --seed 3 --method mc\"\u001b[0m,\n",
       "        \u001b[32m\"./fit_vae.sh '0' 'CIFAR10-PATCHES' 'categorical' 'conv+b|lin' --seed 3 --method exact\"\u001b[0m,\n",
       "        \u001b[32m\"./fit_vae.sh '0' 'CIFAR10-PATCHES' 'categorical' 'conv+b|lin' --seed 4 --method mc\"\u001b[0m,\n",
       "        \u001b[32m\"./fit_vae.sh '0' 'CIFAR10-PATCHES' 'categorical' 'conv+b|lin' --seed 4 --method exact\"\u001b[0m,\n",
       "        \u001b[32m\"./fit_vae.sh '0' 'CIFAR10-PATCHES' 'categorical' 'conv+b|lin' --seed 5 --method mc\"\u001b[0m,\n",
       "        \u001b[32m\"./fit_vae.sh '0' 'CIFAR10-PATCHES' 'categorical' 'conv+b|lin' --seed 5 --method exact\"\u001b[0m,\n",
       "        \u001b[32m\"./fit_vae.sh '0' 'MNIST' 'categorical' 'conv+b|lin' --seed 1 --method mc\"\u001b[0m,\n",
       "        \u001b[32m\"./fit_vae.sh '0' 'MNIST' 'categorical' 'conv+b|lin' --seed 1 --method exact\"\u001b[0m,\n",
       "        \u001b[32m\"./fit_vae.sh '0' 'MNIST' 'categorical' 'conv+b|lin' --seed 2 --method mc\"\u001b[0m,\n",
       "        \u001b[32m\"./fit_vae.sh '0' 'MNIST' 'categorical' 'conv+b|lin' --seed 2 --method exact\"\u001b[0m,\n",
       "        \u001b[32m\"./fit_vae.sh '0' 'MNIST' 'categorical' 'conv+b|lin' --seed 3 --method mc\"\u001b[0m,\n",
       "        \u001b[32m\"./fit_vae.sh '0' 'MNIST' 'categorical' 'conv+b|lin' --seed 3 --method exact\"\u001b[0m,\n",
       "        \u001b[32m\"./fit_vae.sh '0' 'MNIST' 'categorical' 'conv+b|lin' --seed 4 --method mc\"\u001b[0m,\n",
       "        \u001b[32m\"./fit_vae.sh '0' 'MNIST' 'categorical' 'conv+b|lin' --seed 4 --method exact\"\u001b[0m,\n",
       "        \u001b[32m\"./fit_vae.sh '0' 'MNIST' 'categorical' 'conv+b|lin' --seed 5 --method mc\"\u001b[0m,\n",
       "        \u001b[32m\"./fit_vae.sh '0' 'MNIST' 'categorical' 'conv+b|lin' --seed 5 --method exact\"\u001b[0m,\n",
       "        \u001b[32m\"./fit_vae.sh '0' 'DOVES' 'gaussian' 'conv+b|lin' --seed 1 --latent_act relu --comment relu\"\u001b[0m,\n",
       "        \u001b[32m\"./fit_vae.sh '0' 'DOVES' 'gaussian' 'conv+b|lin' --seed 2 --latent_act relu --comment relu\"\u001b[0m,\n",
       "        \u001b[32m\"./fit_vae.sh '0' 'DOVES' 'gaussian' 'conv+b|lin' --seed 3 --latent_act relu --comment relu\"\u001b[0m,\n",
       "        \u001b[32m\"./fit_vae.sh '0' 'DOVES' 'gaussian' 'conv+b|lin' --seed 4 --latent_act relu --comment relu\"\u001b[0m,\n",
       "        \u001b[32m\"./fit_vae.sh '0' 'DOVES' 'gaussian' 'conv+b|lin' --seed 5 --latent_act relu --comment relu\"\u001b[0m,\n",
       "        \u001b[32m\"./fit_vae.sh '0' 'CIFAR10-PATCHES' 'gaussian' 'conv+b|lin' --seed 1 --latent_act relu --comment relu\"\u001b[0m,\n",
       "        \u001b[32m\"./fit_vae.sh '0' 'CIFAR10-PATCHES' 'gaussian' 'conv+b|lin' --seed 2 --latent_act relu --comment relu\"\u001b[0m,\n",
       "        \u001b[32m\"./fit_vae.sh '0' 'CIFAR10-PATCHES' 'gaussian' 'conv+b|lin' --seed 3 --latent_act relu --comment relu\"\u001b[0m,\n",
       "        \u001b[32m\"./fit_vae.sh '0' 'CIFAR10-PATCHES' 'gaussian' 'conv+b|lin' --seed 4 --latent_act relu --comment relu\"\u001b[0m,\n",
       "        \u001b[32m\"./fit_vae.sh '0' 'CIFAR10-PATCHES' 'gaussian' 'conv+b|lin' --seed 5 --latent_act relu --comment relu\"\u001b[0m,\n",
       "        \u001b[32m\"./fit_vae.sh '0' 'MNIST' 'gaussian' 'conv+b|lin' --seed 1 --latent_act relu --comment relu\"\u001b[0m,\n",
       "        \u001b[32m\"./fit_vae.sh '0' 'MNIST' 'gaussian' 'conv+b|lin' --seed 2 --latent_act relu --comment relu\"\u001b[0m,\n",
       "        \u001b[32m\"./fit_vae.sh '0' 'MNIST' 'gaussian' 'conv+b|lin' --seed 3 --latent_act relu --comment relu\"\u001b[0m,\n",
       "        \u001b[32m\"./fit_vae.sh '0' 'MNIST' 'gaussian' 'conv+b|lin' --seed 4 --latent_act relu --comment relu\"\u001b[0m,\n",
       "        \u001b[32m\"./fit_vae.sh '0' 'MNIST' 'gaussian' 'conv+b|lin' --seed 5 --latent_act relu --comment relu\"\u001b[0m,\n",
       "        \u001b[32m\"./fit_vae.sh '0' 'DOVES' 'gaussian' 'conv+b|lin' --seed 1 --latent_act softplus --comment softplus\"\u001b[0m,\n",
       "        \u001b[32m\"./fit_vae.sh '0' 'DOVES' 'gaussian' 'conv+b|lin' --seed 2 --latent_act softplus --comment softplus\"\u001b[0m,\n",
       "        \u001b[32m\"./fit_vae.sh '0' 'DOVES' 'gaussian' 'conv+b|lin' --seed 3 --latent_act softplus --comment softplus\"\u001b[0m,\n",
       "        \u001b[32m\"./fit_vae.sh '0' 'DOVES' 'gaussian' 'conv+b|lin' --seed 4 --latent_act softplus --comment softplus\"\u001b[0m,\n",
       "        \u001b[32m\"./fit_vae.sh '0' 'DOVES' 'gaussian' 'conv+b|lin' --seed 5 --latent_act softplus --comment softplus\"\u001b[0m,\n",
       "        \u001b[32m\"./fit_vae.sh '0' 'CIFAR10-PATCHES' 'gaussian' 'conv+b|lin' --seed 1 --latent_act softplus --comment \u001b[0m\n",
       "\u001b[32msoftplus\"\u001b[0m,\n",
       "        \u001b[32m\"./fit_vae.sh '0' 'CIFAR10-PATCHES' 'gaussian' 'conv+b|lin' --seed 2 --latent_act softplus --comment \u001b[0m\n",
       "\u001b[32msoftplus\"\u001b[0m,\n",
       "        \u001b[32m\"./fit_vae.sh '0' 'CIFAR10-PATCHES' 'gaussian' 'conv+b|lin' --seed 3 --latent_act softplus --comment \u001b[0m\n",
       "\u001b[32msoftplus\"\u001b[0m,\n",
       "        \u001b[32m\"./fit_vae.sh '0' 'CIFAR10-PATCHES' 'gaussian' 'conv+b|lin' --seed 4 --latent_act softplus --comment \u001b[0m\n",
       "\u001b[32msoftplus\"\u001b[0m,\n",
       "        \u001b[32m\"./fit_vae.sh '0' 'CIFAR10-PATCHES' 'gaussian' 'conv+b|lin' --seed 5 --latent_act softplus --comment \u001b[0m\n",
       "\u001b[32msoftplus\"\u001b[0m,\n",
       "        \u001b[32m\"./fit_vae.sh '0' 'MNIST' 'gaussian' 'conv+b|lin' --seed 1 --latent_act softplus --comment softplus\"\u001b[0m,\n",
       "        \u001b[32m\"./fit_vae.sh '0' 'MNIST' 'gaussian' 'conv+b|lin' --seed 2 --latent_act softplus --comment softplus\"\u001b[0m,\n",
       "        \u001b[32m\"./fit_vae.sh '0' 'MNIST' 'gaussian' 'conv+b|lin' --seed 3 --latent_act softplus --comment softplus\"\u001b[0m,\n",
       "        \u001b[32m\"./fit_vae.sh '0' 'MNIST' 'gaussian' 'conv+b|lin' --seed 4 --latent_act softplus --comment softplus\"\u001b[0m,\n",
       "        \u001b[32m\"./fit_vae.sh '0' 'MNIST' 'gaussian' 'conv+b|lin' --seed 5 --latent_act softplus --comment softplus\"\u001b[0m\n",
       "    \u001b[1m]\u001b[0m,\n",
       "    \u001b[1;36m1\u001b[0m: \u001b[1m[\u001b[0m\n",
       "        \u001b[32m\"./fit_vae.sh '1' 'DOVES' 'gaussian' 'conv+b|lin' --seed 1 --method mc\"\u001b[0m,\n",
       "        \u001b[32m\"./fit_vae.sh '1' 'DOVES' 'gaussian' 'conv+b|lin' --seed 1 --method exact\"\u001b[0m,\n",
       "        \u001b[32m\"./fit_vae.sh '1' 'DOVES' 'gaussian' 'conv+b|lin' --seed 2 --method mc\"\u001b[0m,\n",
       "        \u001b[32m\"./fit_vae.sh '1' 'DOVES' 'gaussian' 'conv+b|lin' --seed 2 --method exact\"\u001b[0m,\n",
       "        \u001b[32m\"./fit_vae.sh '1' 'DOVES' 'gaussian' 'conv+b|lin' --seed 3 --method mc\"\u001b[0m,\n",
       "        \u001b[32m\"./fit_vae.sh '1' 'DOVES' 'gaussian' 'conv+b|lin' --seed 3 --method exact\"\u001b[0m,\n",
       "        \u001b[32m\"./fit_vae.sh '1' 'DOVES' 'gaussian' 'conv+b|lin' --seed 4 --method mc\"\u001b[0m,\n",
       "        \u001b[32m\"./fit_vae.sh '1' 'DOVES' 'gaussian' 'conv+b|lin' --seed 4 --method exact\"\u001b[0m,\n",
       "        \u001b[32m\"./fit_vae.sh '1' 'DOVES' 'gaussian' 'conv+b|lin' --seed 5 --method mc\"\u001b[0m,\n",
       "        \u001b[32m\"./fit_vae.sh '1' 'DOVES' 'gaussian' 'conv+b|lin' --seed 5 --method exact\"\u001b[0m,\n",
       "        \u001b[32m\"./fit_vae.sh '1' 'CIFAR10-PATCHES' 'gaussian' 'conv+b|lin' --seed 1 --method mc\"\u001b[0m,\n",
       "        \u001b[32m\"./fit_vae.sh '1' 'CIFAR10-PATCHES' 'gaussian' 'conv+b|lin' --seed 1 --method exact\"\u001b[0m,\n",
       "        \u001b[32m\"./fit_vae.sh '1' 'CIFAR10-PATCHES' 'gaussian' 'conv+b|lin' --seed 2 --method mc\"\u001b[0m,\n",
       "        \u001b[32m\"./fit_vae.sh '1' 'CIFAR10-PATCHES' 'gaussian' 'conv+b|lin' --seed 2 --method exact\"\u001b[0m,\n",
       "        \u001b[32m\"./fit_vae.sh '1' 'CIFAR10-PATCHES' 'gaussian' 'conv+b|lin' --seed 3 --method mc\"\u001b[0m,\n",
       "        \u001b[32m\"./fit_vae.sh '1' 'CIFAR10-PATCHES' 'gaussian' 'conv+b|lin' --seed 3 --method exact\"\u001b[0m,\n",
       "        \u001b[32m\"./fit_vae.sh '1' 'CIFAR10-PATCHES' 'gaussian' 'conv+b|lin' --seed 4 --method mc\"\u001b[0m,\n",
       "        \u001b[32m\"./fit_vae.sh '1' 'CIFAR10-PATCHES' 'gaussian' 'conv+b|lin' --seed 4 --method exact\"\u001b[0m,\n",
       "        \u001b[32m\"./fit_vae.sh '1' 'CIFAR10-PATCHES' 'gaussian' 'conv+b|lin' --seed 5 --method mc\"\u001b[0m,\n",
       "        \u001b[32m\"./fit_vae.sh '1' 'CIFAR10-PATCHES' 'gaussian' 'conv+b|lin' --seed 5 --method exact\"\u001b[0m,\n",
       "        \u001b[32m\"./fit_vae.sh '1' 'MNIST' 'gaussian' 'conv+b|lin' --seed 1 --method mc\"\u001b[0m,\n",
       "        \u001b[32m\"./fit_vae.sh '1' 'MNIST' 'gaussian' 'conv+b|lin' --seed 1 --method exact\"\u001b[0m,\n",
       "        \u001b[32m\"./fit_vae.sh '1' 'MNIST' 'gaussian' 'conv+b|lin' --seed 2 --method mc\"\u001b[0m,\n",
       "        \u001b[32m\"./fit_vae.sh '1' 'MNIST' 'gaussian' 'conv+b|lin' --seed 2 --method exact\"\u001b[0m,\n",
       "        \u001b[32m\"./fit_vae.sh '1' 'MNIST' 'gaussian' 'conv+b|lin' --seed 3 --method mc\"\u001b[0m,\n",
       "        \u001b[32m\"./fit_vae.sh '1' 'MNIST' 'gaussian' 'conv+b|lin' --seed 3 --method exact\"\u001b[0m,\n",
       "        \u001b[32m\"./fit_vae.sh '1' 'MNIST' 'gaussian' 'conv+b|lin' --seed 4 --method mc\"\u001b[0m,\n",
       "        \u001b[32m\"./fit_vae.sh '1' 'MNIST' 'gaussian' 'conv+b|lin' --seed 4 --method exact\"\u001b[0m,\n",
       "        \u001b[32m\"./fit_vae.sh '1' 'MNIST' 'gaussian' 'conv+b|lin' --seed 5 --method mc\"\u001b[0m,\n",
       "        \u001b[32m\"./fit_vae.sh '1' 'MNIST' 'gaussian' 'conv+b|lin' --seed 5 --method exact\"\u001b[0m,\n",
       "        \u001b[32m\"./fit_vae.sh '1' 'DOVES' 'laplace' 'conv+b|lin' --seed 1 --method mc\"\u001b[0m,\n",
       "        \u001b[32m\"./fit_vae.sh '1' 'DOVES' 'laplace' 'conv+b|lin' --seed 1 --method exact\"\u001b[0m,\n",
       "        \u001b[32m\"./fit_vae.sh '1' 'DOVES' 'laplace' 'conv+b|lin' --seed 2 --method mc\"\u001b[0m,\n",
       "        \u001b[32m\"./fit_vae.sh '1' 'DOVES' 'laplace' 'conv+b|lin' --seed 2 --method exact\"\u001b[0m,\n",
       "        \u001b[32m\"./fit_vae.sh '1' 'DOVES' 'laplace' 'conv+b|lin' --seed 3 --method mc\"\u001b[0m,\n",
       "        \u001b[32m\"./fit_vae.sh '1' 'DOVES' 'laplace' 'conv+b|lin' --seed 3 --method exact\"\u001b[0m,\n",
       "        \u001b[32m\"./fit_vae.sh '1' 'DOVES' 'laplace' 'conv+b|lin' --seed 4 --method mc\"\u001b[0m,\n",
       "        \u001b[32m\"./fit_vae.sh '1' 'DOVES' 'laplace' 'conv+b|lin' --seed 4 --method exact\"\u001b[0m,\n",
       "        \u001b[32m\"./fit_vae.sh '1' 'DOVES' 'laplace' 'conv+b|lin' --seed 5 --method mc\"\u001b[0m,\n",
       "        \u001b[32m\"./fit_vae.sh '1' 'DOVES' 'laplace' 'conv+b|lin' --seed 5 --method exact\"\u001b[0m,\n",
       "        \u001b[32m\"./fit_vae.sh '1' 'CIFAR10-PATCHES' 'laplace' 'conv+b|lin' --seed 1 --method mc\"\u001b[0m,\n",
       "        \u001b[32m\"./fit_vae.sh '1' 'CIFAR10-PATCHES' 'laplace' 'conv+b|lin' --seed 1 --method exact\"\u001b[0m,\n",
       "        \u001b[32m\"./fit_vae.sh '1' 'CIFAR10-PATCHES' 'laplace' 'conv+b|lin' --seed 2 --method mc\"\u001b[0m,\n",
       "        \u001b[32m\"./fit_vae.sh '1' 'CIFAR10-PATCHES' 'laplace' 'conv+b|lin' --seed 2 --method exact\"\u001b[0m,\n",
       "        \u001b[32m\"./fit_vae.sh '1' 'CIFAR10-PATCHES' 'laplace' 'conv+b|lin' --seed 3 --method mc\"\u001b[0m,\n",
       "        \u001b[32m\"./fit_vae.sh '1' 'CIFAR10-PATCHES' 'laplace' 'conv+b|lin' --seed 3 --method exact\"\u001b[0m,\n",
       "        \u001b[32m\"./fit_vae.sh '1' 'CIFAR10-PATCHES' 'laplace' 'conv+b|lin' --seed 4 --method mc\"\u001b[0m,\n",
       "        \u001b[32m\"./fit_vae.sh '1' 'CIFAR10-PATCHES' 'laplace' 'conv+b|lin' --seed 4 --method exact\"\u001b[0m,\n",
       "        \u001b[32m\"./fit_vae.sh '1' 'CIFAR10-PATCHES' 'laplace' 'conv+b|lin' --seed 5 --method mc\"\u001b[0m,\n",
       "        \u001b[32m\"./fit_vae.sh '1' 'CIFAR10-PATCHES' 'laplace' 'conv+b|lin' --seed 5 --method exact\"\u001b[0m,\n",
       "        \u001b[32m\"./fit_vae.sh '1' 'MNIST' 'laplace' 'conv+b|lin' --seed 1 --method mc\"\u001b[0m,\n",
       "        \u001b[32m\"./fit_vae.sh '1' 'MNIST' 'laplace' 'conv+b|lin' --seed 1 --method exact\"\u001b[0m,\n",
       "        \u001b[32m\"./fit_vae.sh '1' 'MNIST' 'laplace' 'conv+b|lin' --seed 2 --method mc\"\u001b[0m,\n",
       "        \u001b[32m\"./fit_vae.sh '1' 'MNIST' 'laplace' 'conv+b|lin' --seed 2 --method exact\"\u001b[0m,\n",
       "        \u001b[32m\"./fit_vae.sh '1' 'MNIST' 'laplace' 'conv+b|lin' --seed 3 --method mc\"\u001b[0m,\n",
       "        \u001b[32m\"./fit_vae.sh '1' 'MNIST' 'laplace' 'conv+b|lin' --seed 3 --method exact\"\u001b[0m,\n",
       "        \u001b[32m\"./fit_vae.sh '1' 'MNIST' 'laplace' 'conv+b|lin' --seed 4 --method mc\"\u001b[0m,\n",
       "        \u001b[32m\"./fit_vae.sh '1' 'MNIST' 'laplace' 'conv+b|lin' --seed 4 --method exact\"\u001b[0m,\n",
       "        \u001b[32m\"./fit_vae.sh '1' 'MNIST' 'laplace' 'conv+b|lin' --seed 5 --method mc\"\u001b[0m,\n",
       "        \u001b[32m\"./fit_vae.sh '1' 'MNIST' 'laplace' 'conv+b|lin' --seed 5 --method exact\"\u001b[0m,\n",
       "        \u001b[32m\"./fit_vae.sh '1' 'DOVES' 'gaussian' 'conv+b|lin' --seed 1 --latent_act square --comment square\"\u001b[0m,\n",
       "        \u001b[32m\"./fit_vae.sh '1' 'DOVES' 'gaussian' 'conv+b|lin' --seed 2 --latent_act square --comment square\"\u001b[0m,\n",
       "        \u001b[32m\"./fit_vae.sh '1' 'DOVES' 'gaussian' 'conv+b|lin' --seed 3 --latent_act square --comment square\"\u001b[0m,\n",
       "        \u001b[32m\"./fit_vae.sh '1' 'DOVES' 'gaussian' 'conv+b|lin' --seed 4 --latent_act square --comment square\"\u001b[0m,\n",
       "        \u001b[32m\"./fit_vae.sh '1' 'DOVES' 'gaussian' 'conv+b|lin' --seed 5 --latent_act square --comment square\"\u001b[0m,\n",
       "        \u001b[32m\"./fit_vae.sh '1' 'CIFAR10-PATCHES' 'gaussian' 'conv+b|lin' --seed 1 --latent_act square --comment square\"\u001b[0m,\n",
       "        \u001b[32m\"./fit_vae.sh '1' 'CIFAR10-PATCHES' 'gaussian' 'conv+b|lin' --seed 2 --latent_act square --comment square\"\u001b[0m,\n",
       "        \u001b[32m\"./fit_vae.sh '1' 'CIFAR10-PATCHES' 'gaussian' 'conv+b|lin' --seed 3 --latent_act square --comment square\"\u001b[0m,\n",
       "        \u001b[32m\"./fit_vae.sh '1' 'CIFAR10-PATCHES' 'gaussian' 'conv+b|lin' --seed 4 --latent_act square --comment square\"\u001b[0m,\n",
       "        \u001b[32m\"./fit_vae.sh '1' 'CIFAR10-PATCHES' 'gaussian' 'conv+b|lin' --seed 5 --latent_act square --comment square\"\u001b[0m,\n",
       "        \u001b[32m\"./fit_vae.sh '1' 'MNIST' 'gaussian' 'conv+b|lin' --seed 1 --latent_act square --comment square\"\u001b[0m,\n",
       "        \u001b[32m\"./fit_vae.sh '1' 'MNIST' 'gaussian' 'conv+b|lin' --seed 2 --latent_act square --comment square\"\u001b[0m,\n",
       "        \u001b[32m\"./fit_vae.sh '1' 'MNIST' 'gaussian' 'conv+b|lin' --seed 3 --latent_act square --comment square\"\u001b[0m,\n",
       "        \u001b[32m\"./fit_vae.sh '1' 'MNIST' 'gaussian' 'conv+b|lin' --seed 4 --latent_act square --comment square\"\u001b[0m,\n",
       "        \u001b[32m\"./fit_vae.sh '1' 'MNIST' 'gaussian' 'conv+b|lin' --seed 5 --latent_act square --comment square\"\u001b[0m,\n",
       "        \u001b[32m\"./fit_vae.sh '1' 'DOVES' 'gaussian' 'conv+b|lin' --seed 1 --latent_act exp --comment exp --init_scale \u001b[0m\n",
       "\u001b[32m0.0001\"\u001b[0m,\n",
       "        \u001b[32m\"./fit_vae.sh '1' 'DOVES' 'gaussian' 'conv+b|lin' --seed 2 --latent_act exp --comment exp --init_scale \u001b[0m\n",
       "\u001b[32m0.0001\"\u001b[0m,\n",
       "        \u001b[32m\"./fit_vae.sh '1' 'DOVES' 'gaussian' 'conv+b|lin' --seed 3 --latent_act exp --comment exp --init_scale \u001b[0m\n",
       "\u001b[32m0.0001\"\u001b[0m,\n",
       "        \u001b[32m\"./fit_vae.sh '1' 'DOVES' 'gaussian' 'conv+b|lin' --seed 4 --latent_act exp --comment exp --init_scale \u001b[0m\n",
       "\u001b[32m0.0001\"\u001b[0m,\n",
       "        \u001b[32m\"./fit_vae.sh '1' 'DOVES' 'gaussian' 'conv+b|lin' --seed 5 --latent_act exp --comment exp --init_scale \u001b[0m\n",
       "\u001b[32m0.0001\"\u001b[0m,\n",
       "        \u001b[32m\"./fit_vae.sh '1' 'CIFAR10-PATCHES' 'gaussian' 'conv+b|lin' --seed 1 --latent_act exp --comment exp \u001b[0m\n",
       "\u001b[32m--init_scale 0.0001\"\u001b[0m,\n",
       "        \u001b[32m\"./fit_vae.sh '1' 'CIFAR10-PATCHES' 'gaussian' 'conv+b|lin' --seed 2 --latent_act exp --comment exp \u001b[0m\n",
       "\u001b[32m--init_scale 0.0001\"\u001b[0m,\n",
       "        \u001b[32m\"./fit_vae.sh '1' 'CIFAR10-PATCHES' 'gaussian' 'conv+b|lin' --seed 3 --latent_act exp --comment exp \u001b[0m\n",
       "\u001b[32m--init_scale 0.0001\"\u001b[0m,\n",
       "        \u001b[32m\"./fit_vae.sh '1' 'CIFAR10-PATCHES' 'gaussian' 'conv+b|lin' --seed 4 --latent_act exp --comment exp \u001b[0m\n",
       "\u001b[32m--init_scale 0.0001\"\u001b[0m,\n",
       "        \u001b[32m\"./fit_vae.sh '1' 'CIFAR10-PATCHES' 'gaussian' 'conv+b|lin' --seed 5 --latent_act exp --comment exp \u001b[0m\n",
       "\u001b[32m--init_scale 0.0001\"\u001b[0m,\n",
       "        \u001b[32m\"./fit_vae.sh '1' 'MNIST' 'gaussian' 'conv+b|lin' --seed 1 --latent_act exp --comment exp --init_scale \u001b[0m\n",
       "\u001b[32m0.0001\"\u001b[0m,\n",
       "        \u001b[32m\"./fit_vae.sh '1' 'MNIST' 'gaussian' 'conv+b|lin' --seed 2 --latent_act exp --comment exp --init_scale \u001b[0m\n",
       "\u001b[32m0.0001\"\u001b[0m,\n",
       "        \u001b[32m\"./fit_vae.sh '1' 'MNIST' 'gaussian' 'conv+b|lin' --seed 3 --latent_act exp --comment exp --init_scale \u001b[0m\n",
       "\u001b[32m0.0001\"\u001b[0m,\n",
       "        \u001b[32m\"./fit_vae.sh '1' 'MNIST' 'gaussian' 'conv+b|lin' --seed 4 --latent_act exp --comment exp --init_scale \u001b[0m\n",
       "\u001b[32m0.0001\"\u001b[0m,\n",
       "        \u001b[32m\"./fit_vae.sh '1' 'MNIST' 'gaussian' 'conv+b|lin' --seed 5 --latent_act exp --comment exp --init_scale \u001b[0m\n",
       "\u001b[32m0.0001\"\u001b[0m\n",
       "    \u001b[1m]\u001b[0m\n",
       "\u001b[1m}\u001b[0m\n"
      ]
     },
     "metadata": {},
     "output_type": "display_data"
    }
   ],
   "source": [
    "print(scripts_solo)"
   ]
  },
  {
   "cell_type": "code",
   "execution_count": null,
   "id": "722cd826-3763-440f-86a0-4c357c9160a0",
   "metadata": {},
   "outputs": [],
   "source": []
  },
  {
   "cell_type": "code",
   "execution_count": 27,
   "id": "e0fc42d9-dfa7-41a2-b476-0ee46f28b36d",
   "metadata": {},
   "outputs": [
    {
     "data": {
      "text/html": [
       "<pre style=\"white-space:pre;overflow-x:auto;line-height:normal;font-family:Menlo,'DejaVu Sans Mono',consolas,'Courier New',monospace\"><span style=\"font-weight: bold\">[</span>\n",
       "    <span style=\"font-weight: bold\">[</span>\n",
       "        <span style=\"color: #008000; text-decoration-color: #008000\">\"./fit_vae.sh '1' 'DOVES' 'gaussian' 'conv+b|lin' --seed 1 --method mc\"</span>,\n",
       "        <span style=\"color: #008000; text-decoration-color: #008000\">\"./fit_vae.sh '1' 'DOVES' 'gaussian' 'conv+b|lin' --seed 1 --method exact\"</span>,\n",
       "        <span style=\"color: #008000; text-decoration-color: #008000\">\"./fit_vae.sh '1' 'DOVES' 'gaussian' 'conv+b|lin' --seed 2 --method mc\"</span>,\n",
       "        <span style=\"color: #008000; text-decoration-color: #008000\">\"./fit_vae.sh '1' 'DOVES' 'gaussian' 'conv+b|lin' --seed 2 --method exact\"</span>,\n",
       "        <span style=\"color: #008000; text-decoration-color: #008000\">\"./fit_vae.sh '1' 'DOVES' 'gaussian' 'conv+b|lin' --seed 3 --method mc\"</span>,\n",
       "        <span style=\"color: #008000; text-decoration-color: #008000\">\"./fit_vae.sh '1' 'DOVES' 'gaussian' 'conv+b|lin' --seed 3 --method exact\"</span>,\n",
       "        <span style=\"color: #008000; text-decoration-color: #008000\">\"./fit_vae.sh '1' 'DOVES' 'gaussian' 'conv+b|lin' --seed 4 --method mc\"</span>,\n",
       "        <span style=\"color: #008000; text-decoration-color: #008000\">\"./fit_vae.sh '1' 'DOVES' 'gaussian' 'conv+b|lin' --seed 4 --method exact\"</span>,\n",
       "        <span style=\"color: #008000; text-decoration-color: #008000\">\"./fit_vae.sh '1' 'DOVES' 'gaussian' 'conv+b|lin' --seed 5 --method mc\"</span>,\n",
       "        <span style=\"color: #008000; text-decoration-color: #008000\">\"./fit_vae.sh '1' 'DOVES' 'gaussian' 'conv+b|lin' --seed 5 --method exact\"</span>,\n",
       "        <span style=\"color: #008000; text-decoration-color: #008000\">\"./fit_vae.sh '1' 'CIFAR10-PATCHES' 'gaussian' 'conv+b|lin' --seed 1 --method mc\"</span>,\n",
       "        <span style=\"color: #008000; text-decoration-color: #008000\">\"./fit_vae.sh '1' 'CIFAR10-PATCHES' 'gaussian' 'conv+b|lin' --seed 1 --method exact\"</span>,\n",
       "        <span style=\"color: #008000; text-decoration-color: #008000\">\"./fit_vae.sh '1' 'CIFAR10-PATCHES' 'gaussian' 'conv+b|lin' --seed 2 --method mc\"</span>,\n",
       "        <span style=\"color: #008000; text-decoration-color: #008000\">\"./fit_vae.sh '1' 'CIFAR10-PATCHES' 'gaussian' 'conv+b|lin' --seed 2 --method exact\"</span>,\n",
       "        <span style=\"color: #008000; text-decoration-color: #008000\">\"./fit_vae.sh '1' 'CIFAR10-PATCHES' 'gaussian' 'conv+b|lin' --seed 3 --method mc\"</span>,\n",
       "        <span style=\"color: #008000; text-decoration-color: #008000\">\"./fit_vae.sh '1' 'CIFAR10-PATCHES' 'gaussian' 'conv+b|lin' --seed 3 --method exact\"</span>,\n",
       "        <span style=\"color: #008000; text-decoration-color: #008000\">\"./fit_vae.sh '1' 'CIFAR10-PATCHES' 'gaussian' 'conv+b|lin' --seed 4 --method mc\"</span>,\n",
       "        <span style=\"color: #008000; text-decoration-color: #008000\">\"./fit_vae.sh '1' 'CIFAR10-PATCHES' 'gaussian' 'conv+b|lin' --seed 4 --method exact\"</span>\n",
       "    <span style=\"font-weight: bold\">]</span>,\n",
       "    <span style=\"font-weight: bold\">[</span>\n",
       "        <span style=\"color: #008000; text-decoration-color: #008000\">\"./fit_vae.sh '1' 'CIFAR10-PATCHES' 'gaussian' 'conv+b|lin' --seed 5 --method mc\"</span>,\n",
       "        <span style=\"color: #008000; text-decoration-color: #008000\">\"./fit_vae.sh '1' 'CIFAR10-PATCHES' 'gaussian' 'conv+b|lin' --seed 5 --method exact\"</span>,\n",
       "        <span style=\"color: #008000; text-decoration-color: #008000\">\"./fit_vae.sh '1' 'MNIST' 'gaussian' 'conv+b|lin' --seed 1 --method mc\"</span>,\n",
       "        <span style=\"color: #008000; text-decoration-color: #008000\">\"./fit_vae.sh '1' 'MNIST' 'gaussian' 'conv+b|lin' --seed 1 --method exact\"</span>,\n",
       "        <span style=\"color: #008000; text-decoration-color: #008000\">\"./fit_vae.sh '1' 'MNIST' 'gaussian' 'conv+b|lin' --seed 2 --method mc\"</span>,\n",
       "        <span style=\"color: #008000; text-decoration-color: #008000\">\"./fit_vae.sh '1' 'MNIST' 'gaussian' 'conv+b|lin' --seed 2 --method exact\"</span>,\n",
       "        <span style=\"color: #008000; text-decoration-color: #008000\">\"./fit_vae.sh '1' 'MNIST' 'gaussian' 'conv+b|lin' --seed 3 --method mc\"</span>,\n",
       "        <span style=\"color: #008000; text-decoration-color: #008000\">\"./fit_vae.sh '1' 'MNIST' 'gaussian' 'conv+b|lin' --seed 3 --method exact\"</span>,\n",
       "        <span style=\"color: #008000; text-decoration-color: #008000\">\"./fit_vae.sh '1' 'MNIST' 'gaussian' 'conv+b|lin' --seed 4 --method mc\"</span>,\n",
       "        <span style=\"color: #008000; text-decoration-color: #008000\">\"./fit_vae.sh '1' 'MNIST' 'gaussian' 'conv+b|lin' --seed 4 --method exact\"</span>,\n",
       "        <span style=\"color: #008000; text-decoration-color: #008000\">\"./fit_vae.sh '1' 'MNIST' 'gaussian' 'conv+b|lin' --seed 5 --method mc\"</span>,\n",
       "        <span style=\"color: #008000; text-decoration-color: #008000\">\"./fit_vae.sh '1' 'MNIST' 'gaussian' 'conv+b|lin' --seed 5 --method exact\"</span>,\n",
       "        <span style=\"color: #008000; text-decoration-color: #008000\">\"./fit_vae.sh '1' 'DOVES' 'laplace' 'conv+b|lin' --seed 1 --method mc\"</span>,\n",
       "        <span style=\"color: #008000; text-decoration-color: #008000\">\"./fit_vae.sh '1' 'DOVES' 'laplace' 'conv+b|lin' --seed 1 --method exact\"</span>,\n",
       "        <span style=\"color: #008000; text-decoration-color: #008000\">\"./fit_vae.sh '1' 'DOVES' 'laplace' 'conv+b|lin' --seed 2 --method mc\"</span>,\n",
       "        <span style=\"color: #008000; text-decoration-color: #008000\">\"./fit_vae.sh '1' 'DOVES' 'laplace' 'conv+b|lin' --seed 2 --method exact\"</span>,\n",
       "        <span style=\"color: #008000; text-decoration-color: #008000\">\"./fit_vae.sh '1' 'DOVES' 'laplace' 'conv+b|lin' --seed 3 --method mc\"</span>,\n",
       "        <span style=\"color: #008000; text-decoration-color: #008000\">\"./fit_vae.sh '1' 'DOVES' 'laplace' 'conv+b|lin' --seed 3 --method exact\"</span>\n",
       "    <span style=\"font-weight: bold\">]</span>,\n",
       "    <span style=\"font-weight: bold\">[</span>\n",
       "        <span style=\"color: #008000; text-decoration-color: #008000\">\"./fit_vae.sh '1' 'DOVES' 'laplace' 'conv+b|lin' --seed 4 --method mc\"</span>,\n",
       "        <span style=\"color: #008000; text-decoration-color: #008000\">\"./fit_vae.sh '1' 'DOVES' 'laplace' 'conv+b|lin' --seed 4 --method exact\"</span>,\n",
       "        <span style=\"color: #008000; text-decoration-color: #008000\">\"./fit_vae.sh '1' 'DOVES' 'laplace' 'conv+b|lin' --seed 5 --method mc\"</span>,\n",
       "        <span style=\"color: #008000; text-decoration-color: #008000\">\"./fit_vae.sh '1' 'DOVES' 'laplace' 'conv+b|lin' --seed 5 --method exact\"</span>,\n",
       "        <span style=\"color: #008000; text-decoration-color: #008000\">\"./fit_vae.sh '1' 'CIFAR10-PATCHES' 'laplace' 'conv+b|lin' --seed 1 --method mc\"</span>,\n",
       "        <span style=\"color: #008000; text-decoration-color: #008000\">\"./fit_vae.sh '1' 'CIFAR10-PATCHES' 'laplace' 'conv+b|lin' --seed 1 --method exact\"</span>,\n",
       "        <span style=\"color: #008000; text-decoration-color: #008000\">\"./fit_vae.sh '1' 'CIFAR10-PATCHES' 'laplace' 'conv+b|lin' --seed 2 --method mc\"</span>,\n",
       "        <span style=\"color: #008000; text-decoration-color: #008000\">\"./fit_vae.sh '1' 'CIFAR10-PATCHES' 'laplace' 'conv+b|lin' --seed 2 --method exact\"</span>,\n",
       "        <span style=\"color: #008000; text-decoration-color: #008000\">\"./fit_vae.sh '1' 'CIFAR10-PATCHES' 'laplace' 'conv+b|lin' --seed 3 --method mc\"</span>,\n",
       "        <span style=\"color: #008000; text-decoration-color: #008000\">\"./fit_vae.sh '1' 'CIFAR10-PATCHES' 'laplace' 'conv+b|lin' --seed 3 --method exact\"</span>,\n",
       "        <span style=\"color: #008000; text-decoration-color: #008000\">\"./fit_vae.sh '1' 'CIFAR10-PATCHES' 'laplace' 'conv+b|lin' --seed 4 --method mc\"</span>,\n",
       "        <span style=\"color: #008000; text-decoration-color: #008000\">\"./fit_vae.sh '1' 'CIFAR10-PATCHES' 'laplace' 'conv+b|lin' --seed 4 --method exact\"</span>,\n",
       "        <span style=\"color: #008000; text-decoration-color: #008000\">\"./fit_vae.sh '1' 'CIFAR10-PATCHES' 'laplace' 'conv+b|lin' --seed 5 --method mc\"</span>,\n",
       "        <span style=\"color: #008000; text-decoration-color: #008000\">\"./fit_vae.sh '1' 'CIFAR10-PATCHES' 'laplace' 'conv+b|lin' --seed 5 --method exact\"</span>,\n",
       "        <span style=\"color: #008000; text-decoration-color: #008000\">\"./fit_vae.sh '1' 'MNIST' 'laplace' 'conv+b|lin' --seed 1 --method mc\"</span>,\n",
       "        <span style=\"color: #008000; text-decoration-color: #008000\">\"./fit_vae.sh '1' 'MNIST' 'laplace' 'conv+b|lin' --seed 1 --method exact\"</span>,\n",
       "        <span style=\"color: #008000; text-decoration-color: #008000\">\"./fit_vae.sh '1' 'MNIST' 'laplace' 'conv+b|lin' --seed 2 --method mc\"</span>,\n",
       "        <span style=\"color: #008000; text-decoration-color: #008000\">\"./fit_vae.sh '1' 'MNIST' 'laplace' 'conv+b|lin' --seed 2 --method exact\"</span>\n",
       "    <span style=\"font-weight: bold\">]</span>,\n",
       "    <span style=\"font-weight: bold\">[</span>\n",
       "        <span style=\"color: #008000; text-decoration-color: #008000\">\"./fit_vae.sh '1' 'MNIST' 'laplace' 'conv+b|lin' --seed 3 --method mc\"</span>,\n",
       "        <span style=\"color: #008000; text-decoration-color: #008000\">\"./fit_vae.sh '1' 'MNIST' 'laplace' 'conv+b|lin' --seed 3 --method exact\"</span>,\n",
       "        <span style=\"color: #008000; text-decoration-color: #008000\">\"./fit_vae.sh '1' 'MNIST' 'laplace' 'conv+b|lin' --seed 4 --method mc\"</span>,\n",
       "        <span style=\"color: #008000; text-decoration-color: #008000\">\"./fit_vae.sh '1' 'MNIST' 'laplace' 'conv+b|lin' --seed 4 --method exact\"</span>,\n",
       "        <span style=\"color: #008000; text-decoration-color: #008000\">\"./fit_vae.sh '1' 'MNIST' 'laplace' 'conv+b|lin' --seed 5 --method mc\"</span>,\n",
       "        <span style=\"color: #008000; text-decoration-color: #008000\">\"./fit_vae.sh '1' 'MNIST' 'laplace' 'conv+b|lin' --seed 5 --method exact\"</span>,\n",
       "        <span style=\"color: #008000; text-decoration-color: #008000\">\"./fit_vae.sh '1' 'DOVES' 'gaussian' 'conv+b|lin' --seed 1 --latent_act square --comment square\"</span>,\n",
       "        <span style=\"color: #008000; text-decoration-color: #008000\">\"./fit_vae.sh '1' 'DOVES' 'gaussian' 'conv+b|lin' --seed 2 --latent_act square --comment square\"</span>,\n",
       "        <span style=\"color: #008000; text-decoration-color: #008000\">\"./fit_vae.sh '1' 'DOVES' 'gaussian' 'conv+b|lin' --seed 3 --latent_act square --comment square\"</span>,\n",
       "        <span style=\"color: #008000; text-decoration-color: #008000\">\"./fit_vae.sh '1' 'DOVES' 'gaussian' 'conv+b|lin' --seed 4 --latent_act square --comment square\"</span>,\n",
       "        <span style=\"color: #008000; text-decoration-color: #008000\">\"./fit_vae.sh '1' 'DOVES' 'gaussian' 'conv+b|lin' --seed 5 --latent_act square --comment square\"</span>,\n",
       "        <span style=\"color: #008000; text-decoration-color: #008000\">\"./fit_vae.sh '1' 'CIFAR10-PATCHES' 'gaussian' 'conv+b|lin' --seed 1 --latent_act square --comment square\"</span>,\n",
       "        <span style=\"color: #008000; text-decoration-color: #008000\">\"./fit_vae.sh '1' 'CIFAR10-PATCHES' 'gaussian' 'conv+b|lin' --seed 2 --latent_act square --comment square\"</span>,\n",
       "        <span style=\"color: #008000; text-decoration-color: #008000\">\"./fit_vae.sh '1' 'CIFAR10-PATCHES' 'gaussian' 'conv+b|lin' --seed 3 --latent_act square --comment square\"</span>,\n",
       "        <span style=\"color: #008000; text-decoration-color: #008000\">\"./fit_vae.sh '1' 'CIFAR10-PATCHES' 'gaussian' 'conv+b|lin' --seed 4 --latent_act square --comment square\"</span>,\n",
       "        <span style=\"color: #008000; text-decoration-color: #008000\">\"./fit_vae.sh '1' 'CIFAR10-PATCHES' 'gaussian' 'conv+b|lin' --seed 5 --latent_act square --comment square\"</span>,\n",
       "        <span style=\"color: #008000; text-decoration-color: #008000\">\"./fit_vae.sh '1' 'MNIST' 'gaussian' 'conv+b|lin' --seed 1 --latent_act square --comment square\"</span>,\n",
       "        <span style=\"color: #008000; text-decoration-color: #008000\">\"./fit_vae.sh '1' 'MNIST' 'gaussian' 'conv+b|lin' --seed 2 --latent_act square --comment square\"</span>\n",
       "    <span style=\"font-weight: bold\">]</span>,\n",
       "    <span style=\"font-weight: bold\">[</span>\n",
       "        <span style=\"color: #008000; text-decoration-color: #008000\">\"./fit_vae.sh '1' 'MNIST' 'gaussian' 'conv+b|lin' --seed 3 --latent_act square --comment square\"</span>,\n",
       "        <span style=\"color: #008000; text-decoration-color: #008000\">\"./fit_vae.sh '1' 'MNIST' 'gaussian' 'conv+b|lin' --seed 4 --latent_act square --comment square\"</span>,\n",
       "        <span style=\"color: #008000; text-decoration-color: #008000\">\"./fit_vae.sh '1' 'MNIST' 'gaussian' 'conv+b|lin' --seed 5 --latent_act square --comment square\"</span>,\n",
       "        <span style=\"color: #008000; text-decoration-color: #008000\">\"./fit_vae.sh '1' 'DOVES' 'gaussian' 'conv+b|lin' --seed 1 --latent_act exp --comment exp --init_scale </span>\n",
       "<span style=\"color: #008000; text-decoration-color: #008000\">0.0001\"</span>,\n",
       "        <span style=\"color: #008000; text-decoration-color: #008000\">\"./fit_vae.sh '1' 'DOVES' 'gaussian' 'conv+b|lin' --seed 2 --latent_act exp --comment exp --init_scale </span>\n",
       "<span style=\"color: #008000; text-decoration-color: #008000\">0.0001\"</span>,\n",
       "        <span style=\"color: #008000; text-decoration-color: #008000\">\"./fit_vae.sh '1' 'DOVES' 'gaussian' 'conv+b|lin' --seed 3 --latent_act exp --comment exp --init_scale </span>\n",
       "<span style=\"color: #008000; text-decoration-color: #008000\">0.0001\"</span>,\n",
       "        <span style=\"color: #008000; text-decoration-color: #008000\">\"./fit_vae.sh '1' 'DOVES' 'gaussian' 'conv+b|lin' --seed 4 --latent_act exp --comment exp --init_scale </span>\n",
       "<span style=\"color: #008000; text-decoration-color: #008000\">0.0001\"</span>,\n",
       "        <span style=\"color: #008000; text-decoration-color: #008000\">\"./fit_vae.sh '1' 'DOVES' 'gaussian' 'conv+b|lin' --seed 5 --latent_act exp --comment exp --init_scale </span>\n",
       "<span style=\"color: #008000; text-decoration-color: #008000\">0.0001\"</span>,\n",
       "        <span style=\"color: #008000; text-decoration-color: #008000\">\"./fit_vae.sh '1' 'CIFAR10-PATCHES' 'gaussian' 'conv+b|lin' --seed 1 --latent_act exp --comment exp </span>\n",
       "<span style=\"color: #008000; text-decoration-color: #008000\">--init_scale 0.0001\"</span>,\n",
       "        <span style=\"color: #008000; text-decoration-color: #008000\">\"./fit_vae.sh '1' 'CIFAR10-PATCHES' 'gaussian' 'conv+b|lin' --seed 2 --latent_act exp --comment exp </span>\n",
       "<span style=\"color: #008000; text-decoration-color: #008000\">--init_scale 0.0001\"</span>,\n",
       "        <span style=\"color: #008000; text-decoration-color: #008000\">\"./fit_vae.sh '1' 'CIFAR10-PATCHES' 'gaussian' 'conv+b|lin' --seed 3 --latent_act exp --comment exp </span>\n",
       "<span style=\"color: #008000; text-decoration-color: #008000\">--init_scale 0.0001\"</span>,\n",
       "        <span style=\"color: #008000; text-decoration-color: #008000\">\"./fit_vae.sh '1' 'CIFAR10-PATCHES' 'gaussian' 'conv+b|lin' --seed 4 --latent_act exp --comment exp </span>\n",
       "<span style=\"color: #008000; text-decoration-color: #008000\">--init_scale 0.0001\"</span>,\n",
       "        <span style=\"color: #008000; text-decoration-color: #008000\">\"./fit_vae.sh '1' 'CIFAR10-PATCHES' 'gaussian' 'conv+b|lin' --seed 5 --latent_act exp --comment exp </span>\n",
       "<span style=\"color: #008000; text-decoration-color: #008000\">--init_scale 0.0001\"</span>,\n",
       "        <span style=\"color: #008000; text-decoration-color: #008000\">\"./fit_vae.sh '1' 'MNIST' 'gaussian' 'conv+b|lin' --seed 1 --latent_act exp --comment exp --init_scale </span>\n",
       "<span style=\"color: #008000; text-decoration-color: #008000\">0.0001\"</span>,\n",
       "        <span style=\"color: #008000; text-decoration-color: #008000\">\"./fit_vae.sh '1' 'MNIST' 'gaussian' 'conv+b|lin' --seed 2 --latent_act exp --comment exp --init_scale </span>\n",
       "<span style=\"color: #008000; text-decoration-color: #008000\">0.0001\"</span>,\n",
       "        <span style=\"color: #008000; text-decoration-color: #008000\">\"./fit_vae.sh '1' 'MNIST' 'gaussian' 'conv+b|lin' --seed 3 --latent_act exp --comment exp --init_scale </span>\n",
       "<span style=\"color: #008000; text-decoration-color: #008000\">0.0001\"</span>,\n",
       "        <span style=\"color: #008000; text-decoration-color: #008000\">\"./fit_vae.sh '1' 'MNIST' 'gaussian' 'conv+b|lin' --seed 4 --latent_act exp --comment exp --init_scale </span>\n",
       "<span style=\"color: #008000; text-decoration-color: #008000\">0.0001\"</span>,\n",
       "        <span style=\"color: #008000; text-decoration-color: #008000\">\"./fit_vae.sh '1' 'MNIST' 'gaussian' 'conv+b|lin' --seed 5 --latent_act exp --comment exp --init_scale </span>\n",
       "<span style=\"color: #008000; text-decoration-color: #008000\">0.0001\"</span>\n",
       "    <span style=\"font-weight: bold\">]</span>\n",
       "<span style=\"font-weight: bold\">]</span>\n",
       "</pre>\n"
      ],
      "text/plain": [
       "\u001b[1m[\u001b[0m\n",
       "    \u001b[1m[\u001b[0m\n",
       "        \u001b[32m\"./fit_vae.sh '1' 'DOVES' 'gaussian' 'conv+b|lin' --seed 1 --method mc\"\u001b[0m,\n",
       "        \u001b[32m\"./fit_vae.sh '1' 'DOVES' 'gaussian' 'conv+b|lin' --seed 1 --method exact\"\u001b[0m,\n",
       "        \u001b[32m\"./fit_vae.sh '1' 'DOVES' 'gaussian' 'conv+b|lin' --seed 2 --method mc\"\u001b[0m,\n",
       "        \u001b[32m\"./fit_vae.sh '1' 'DOVES' 'gaussian' 'conv+b|lin' --seed 2 --method exact\"\u001b[0m,\n",
       "        \u001b[32m\"./fit_vae.sh '1' 'DOVES' 'gaussian' 'conv+b|lin' --seed 3 --method mc\"\u001b[0m,\n",
       "        \u001b[32m\"./fit_vae.sh '1' 'DOVES' 'gaussian' 'conv+b|lin' --seed 3 --method exact\"\u001b[0m,\n",
       "        \u001b[32m\"./fit_vae.sh '1' 'DOVES' 'gaussian' 'conv+b|lin' --seed 4 --method mc\"\u001b[0m,\n",
       "        \u001b[32m\"./fit_vae.sh '1' 'DOVES' 'gaussian' 'conv+b|lin' --seed 4 --method exact\"\u001b[0m,\n",
       "        \u001b[32m\"./fit_vae.sh '1' 'DOVES' 'gaussian' 'conv+b|lin' --seed 5 --method mc\"\u001b[0m,\n",
       "        \u001b[32m\"./fit_vae.sh '1' 'DOVES' 'gaussian' 'conv+b|lin' --seed 5 --method exact\"\u001b[0m,\n",
       "        \u001b[32m\"./fit_vae.sh '1' 'CIFAR10-PATCHES' 'gaussian' 'conv+b|lin' --seed 1 --method mc\"\u001b[0m,\n",
       "        \u001b[32m\"./fit_vae.sh '1' 'CIFAR10-PATCHES' 'gaussian' 'conv+b|lin' --seed 1 --method exact\"\u001b[0m,\n",
       "        \u001b[32m\"./fit_vae.sh '1' 'CIFAR10-PATCHES' 'gaussian' 'conv+b|lin' --seed 2 --method mc\"\u001b[0m,\n",
       "        \u001b[32m\"./fit_vae.sh '1' 'CIFAR10-PATCHES' 'gaussian' 'conv+b|lin' --seed 2 --method exact\"\u001b[0m,\n",
       "        \u001b[32m\"./fit_vae.sh '1' 'CIFAR10-PATCHES' 'gaussian' 'conv+b|lin' --seed 3 --method mc\"\u001b[0m,\n",
       "        \u001b[32m\"./fit_vae.sh '1' 'CIFAR10-PATCHES' 'gaussian' 'conv+b|lin' --seed 3 --method exact\"\u001b[0m,\n",
       "        \u001b[32m\"./fit_vae.sh '1' 'CIFAR10-PATCHES' 'gaussian' 'conv+b|lin' --seed 4 --method mc\"\u001b[0m,\n",
       "        \u001b[32m\"./fit_vae.sh '1' 'CIFAR10-PATCHES' 'gaussian' 'conv+b|lin' --seed 4 --method exact\"\u001b[0m\n",
       "    \u001b[1m]\u001b[0m,\n",
       "    \u001b[1m[\u001b[0m\n",
       "        \u001b[32m\"./fit_vae.sh '1' 'CIFAR10-PATCHES' 'gaussian' 'conv+b|lin' --seed 5 --method mc\"\u001b[0m,\n",
       "        \u001b[32m\"./fit_vae.sh '1' 'CIFAR10-PATCHES' 'gaussian' 'conv+b|lin' --seed 5 --method exact\"\u001b[0m,\n",
       "        \u001b[32m\"./fit_vae.sh '1' 'MNIST' 'gaussian' 'conv+b|lin' --seed 1 --method mc\"\u001b[0m,\n",
       "        \u001b[32m\"./fit_vae.sh '1' 'MNIST' 'gaussian' 'conv+b|lin' --seed 1 --method exact\"\u001b[0m,\n",
       "        \u001b[32m\"./fit_vae.sh '1' 'MNIST' 'gaussian' 'conv+b|lin' --seed 2 --method mc\"\u001b[0m,\n",
       "        \u001b[32m\"./fit_vae.sh '1' 'MNIST' 'gaussian' 'conv+b|lin' --seed 2 --method exact\"\u001b[0m,\n",
       "        \u001b[32m\"./fit_vae.sh '1' 'MNIST' 'gaussian' 'conv+b|lin' --seed 3 --method mc\"\u001b[0m,\n",
       "        \u001b[32m\"./fit_vae.sh '1' 'MNIST' 'gaussian' 'conv+b|lin' --seed 3 --method exact\"\u001b[0m,\n",
       "        \u001b[32m\"./fit_vae.sh '1' 'MNIST' 'gaussian' 'conv+b|lin' --seed 4 --method mc\"\u001b[0m,\n",
       "        \u001b[32m\"./fit_vae.sh '1' 'MNIST' 'gaussian' 'conv+b|lin' --seed 4 --method exact\"\u001b[0m,\n",
       "        \u001b[32m\"./fit_vae.sh '1' 'MNIST' 'gaussian' 'conv+b|lin' --seed 5 --method mc\"\u001b[0m,\n",
       "        \u001b[32m\"./fit_vae.sh '1' 'MNIST' 'gaussian' 'conv+b|lin' --seed 5 --method exact\"\u001b[0m,\n",
       "        \u001b[32m\"./fit_vae.sh '1' 'DOVES' 'laplace' 'conv+b|lin' --seed 1 --method mc\"\u001b[0m,\n",
       "        \u001b[32m\"./fit_vae.sh '1' 'DOVES' 'laplace' 'conv+b|lin' --seed 1 --method exact\"\u001b[0m,\n",
       "        \u001b[32m\"./fit_vae.sh '1' 'DOVES' 'laplace' 'conv+b|lin' --seed 2 --method mc\"\u001b[0m,\n",
       "        \u001b[32m\"./fit_vae.sh '1' 'DOVES' 'laplace' 'conv+b|lin' --seed 2 --method exact\"\u001b[0m,\n",
       "        \u001b[32m\"./fit_vae.sh '1' 'DOVES' 'laplace' 'conv+b|lin' --seed 3 --method mc\"\u001b[0m,\n",
       "        \u001b[32m\"./fit_vae.sh '1' 'DOVES' 'laplace' 'conv+b|lin' --seed 3 --method exact\"\u001b[0m\n",
       "    \u001b[1m]\u001b[0m,\n",
       "    \u001b[1m[\u001b[0m\n",
       "        \u001b[32m\"./fit_vae.sh '1' 'DOVES' 'laplace' 'conv+b|lin' --seed 4 --method mc\"\u001b[0m,\n",
       "        \u001b[32m\"./fit_vae.sh '1' 'DOVES' 'laplace' 'conv+b|lin' --seed 4 --method exact\"\u001b[0m,\n",
       "        \u001b[32m\"./fit_vae.sh '1' 'DOVES' 'laplace' 'conv+b|lin' --seed 5 --method mc\"\u001b[0m,\n",
       "        \u001b[32m\"./fit_vae.sh '1' 'DOVES' 'laplace' 'conv+b|lin' --seed 5 --method exact\"\u001b[0m,\n",
       "        \u001b[32m\"./fit_vae.sh '1' 'CIFAR10-PATCHES' 'laplace' 'conv+b|lin' --seed 1 --method mc\"\u001b[0m,\n",
       "        \u001b[32m\"./fit_vae.sh '1' 'CIFAR10-PATCHES' 'laplace' 'conv+b|lin' --seed 1 --method exact\"\u001b[0m,\n",
       "        \u001b[32m\"./fit_vae.sh '1' 'CIFAR10-PATCHES' 'laplace' 'conv+b|lin' --seed 2 --method mc\"\u001b[0m,\n",
       "        \u001b[32m\"./fit_vae.sh '1' 'CIFAR10-PATCHES' 'laplace' 'conv+b|lin' --seed 2 --method exact\"\u001b[0m,\n",
       "        \u001b[32m\"./fit_vae.sh '1' 'CIFAR10-PATCHES' 'laplace' 'conv+b|lin' --seed 3 --method mc\"\u001b[0m,\n",
       "        \u001b[32m\"./fit_vae.sh '1' 'CIFAR10-PATCHES' 'laplace' 'conv+b|lin' --seed 3 --method exact\"\u001b[0m,\n",
       "        \u001b[32m\"./fit_vae.sh '1' 'CIFAR10-PATCHES' 'laplace' 'conv+b|lin' --seed 4 --method mc\"\u001b[0m,\n",
       "        \u001b[32m\"./fit_vae.sh '1' 'CIFAR10-PATCHES' 'laplace' 'conv+b|lin' --seed 4 --method exact\"\u001b[0m,\n",
       "        \u001b[32m\"./fit_vae.sh '1' 'CIFAR10-PATCHES' 'laplace' 'conv+b|lin' --seed 5 --method mc\"\u001b[0m,\n",
       "        \u001b[32m\"./fit_vae.sh '1' 'CIFAR10-PATCHES' 'laplace' 'conv+b|lin' --seed 5 --method exact\"\u001b[0m,\n",
       "        \u001b[32m\"./fit_vae.sh '1' 'MNIST' 'laplace' 'conv+b|lin' --seed 1 --method mc\"\u001b[0m,\n",
       "        \u001b[32m\"./fit_vae.sh '1' 'MNIST' 'laplace' 'conv+b|lin' --seed 1 --method exact\"\u001b[0m,\n",
       "        \u001b[32m\"./fit_vae.sh '1' 'MNIST' 'laplace' 'conv+b|lin' --seed 2 --method mc\"\u001b[0m,\n",
       "        \u001b[32m\"./fit_vae.sh '1' 'MNIST' 'laplace' 'conv+b|lin' --seed 2 --method exact\"\u001b[0m\n",
       "    \u001b[1m]\u001b[0m,\n",
       "    \u001b[1m[\u001b[0m\n",
       "        \u001b[32m\"./fit_vae.sh '1' 'MNIST' 'laplace' 'conv+b|lin' --seed 3 --method mc\"\u001b[0m,\n",
       "        \u001b[32m\"./fit_vae.sh '1' 'MNIST' 'laplace' 'conv+b|lin' --seed 3 --method exact\"\u001b[0m,\n",
       "        \u001b[32m\"./fit_vae.sh '1' 'MNIST' 'laplace' 'conv+b|lin' --seed 4 --method mc\"\u001b[0m,\n",
       "        \u001b[32m\"./fit_vae.sh '1' 'MNIST' 'laplace' 'conv+b|lin' --seed 4 --method exact\"\u001b[0m,\n",
       "        \u001b[32m\"./fit_vae.sh '1' 'MNIST' 'laplace' 'conv+b|lin' --seed 5 --method mc\"\u001b[0m,\n",
       "        \u001b[32m\"./fit_vae.sh '1' 'MNIST' 'laplace' 'conv+b|lin' --seed 5 --method exact\"\u001b[0m,\n",
       "        \u001b[32m\"./fit_vae.sh '1' 'DOVES' 'gaussian' 'conv+b|lin' --seed 1 --latent_act square --comment square\"\u001b[0m,\n",
       "        \u001b[32m\"./fit_vae.sh '1' 'DOVES' 'gaussian' 'conv+b|lin' --seed 2 --latent_act square --comment square\"\u001b[0m,\n",
       "        \u001b[32m\"./fit_vae.sh '1' 'DOVES' 'gaussian' 'conv+b|lin' --seed 3 --latent_act square --comment square\"\u001b[0m,\n",
       "        \u001b[32m\"./fit_vae.sh '1' 'DOVES' 'gaussian' 'conv+b|lin' --seed 4 --latent_act square --comment square\"\u001b[0m,\n",
       "        \u001b[32m\"./fit_vae.sh '1' 'DOVES' 'gaussian' 'conv+b|lin' --seed 5 --latent_act square --comment square\"\u001b[0m,\n",
       "        \u001b[32m\"./fit_vae.sh '1' 'CIFAR10-PATCHES' 'gaussian' 'conv+b|lin' --seed 1 --latent_act square --comment square\"\u001b[0m,\n",
       "        \u001b[32m\"./fit_vae.sh '1' 'CIFAR10-PATCHES' 'gaussian' 'conv+b|lin' --seed 2 --latent_act square --comment square\"\u001b[0m,\n",
       "        \u001b[32m\"./fit_vae.sh '1' 'CIFAR10-PATCHES' 'gaussian' 'conv+b|lin' --seed 3 --latent_act square --comment square\"\u001b[0m,\n",
       "        \u001b[32m\"./fit_vae.sh '1' 'CIFAR10-PATCHES' 'gaussian' 'conv+b|lin' --seed 4 --latent_act square --comment square\"\u001b[0m,\n",
       "        \u001b[32m\"./fit_vae.sh '1' 'CIFAR10-PATCHES' 'gaussian' 'conv+b|lin' --seed 5 --latent_act square --comment square\"\u001b[0m,\n",
       "        \u001b[32m\"./fit_vae.sh '1' 'MNIST' 'gaussian' 'conv+b|lin' --seed 1 --latent_act square --comment square\"\u001b[0m,\n",
       "        \u001b[32m\"./fit_vae.sh '1' 'MNIST' 'gaussian' 'conv+b|lin' --seed 2 --latent_act square --comment square\"\u001b[0m\n",
       "    \u001b[1m]\u001b[0m,\n",
       "    \u001b[1m[\u001b[0m\n",
       "        \u001b[32m\"./fit_vae.sh '1' 'MNIST' 'gaussian' 'conv+b|lin' --seed 3 --latent_act square --comment square\"\u001b[0m,\n",
       "        \u001b[32m\"./fit_vae.sh '1' 'MNIST' 'gaussian' 'conv+b|lin' --seed 4 --latent_act square --comment square\"\u001b[0m,\n",
       "        \u001b[32m\"./fit_vae.sh '1' 'MNIST' 'gaussian' 'conv+b|lin' --seed 5 --latent_act square --comment square\"\u001b[0m,\n",
       "        \u001b[32m\"./fit_vae.sh '1' 'DOVES' 'gaussian' 'conv+b|lin' --seed 1 --latent_act exp --comment exp --init_scale \u001b[0m\n",
       "\u001b[32m0.0001\"\u001b[0m,\n",
       "        \u001b[32m\"./fit_vae.sh '1' 'DOVES' 'gaussian' 'conv+b|lin' --seed 2 --latent_act exp --comment exp --init_scale \u001b[0m\n",
       "\u001b[32m0.0001\"\u001b[0m,\n",
       "        \u001b[32m\"./fit_vae.sh '1' 'DOVES' 'gaussian' 'conv+b|lin' --seed 3 --latent_act exp --comment exp --init_scale \u001b[0m\n",
       "\u001b[32m0.0001\"\u001b[0m,\n",
       "        \u001b[32m\"./fit_vae.sh '1' 'DOVES' 'gaussian' 'conv+b|lin' --seed 4 --latent_act exp --comment exp --init_scale \u001b[0m\n",
       "\u001b[32m0.0001\"\u001b[0m,\n",
       "        \u001b[32m\"./fit_vae.sh '1' 'DOVES' 'gaussian' 'conv+b|lin' --seed 5 --latent_act exp --comment exp --init_scale \u001b[0m\n",
       "\u001b[32m0.0001\"\u001b[0m,\n",
       "        \u001b[32m\"./fit_vae.sh '1' 'CIFAR10-PATCHES' 'gaussian' 'conv+b|lin' --seed 1 --latent_act exp --comment exp \u001b[0m\n",
       "\u001b[32m--init_scale 0.0001\"\u001b[0m,\n",
       "        \u001b[32m\"./fit_vae.sh '1' 'CIFAR10-PATCHES' 'gaussian' 'conv+b|lin' --seed 2 --latent_act exp --comment exp \u001b[0m\n",
       "\u001b[32m--init_scale 0.0001\"\u001b[0m,\n",
       "        \u001b[32m\"./fit_vae.sh '1' 'CIFAR10-PATCHES' 'gaussian' 'conv+b|lin' --seed 3 --latent_act exp --comment exp \u001b[0m\n",
       "\u001b[32m--init_scale 0.0001\"\u001b[0m,\n",
       "        \u001b[32m\"./fit_vae.sh '1' 'CIFAR10-PATCHES' 'gaussian' 'conv+b|lin' --seed 4 --latent_act exp --comment exp \u001b[0m\n",
       "\u001b[32m--init_scale 0.0001\"\u001b[0m,\n",
       "        \u001b[32m\"./fit_vae.sh '1' 'CIFAR10-PATCHES' 'gaussian' 'conv+b|lin' --seed 5 --latent_act exp --comment exp \u001b[0m\n",
       "\u001b[32m--init_scale 0.0001\"\u001b[0m,\n",
       "        \u001b[32m\"./fit_vae.sh '1' 'MNIST' 'gaussian' 'conv+b|lin' --seed 1 --latent_act exp --comment exp --init_scale \u001b[0m\n",
       "\u001b[32m0.0001\"\u001b[0m,\n",
       "        \u001b[32m\"./fit_vae.sh '1' 'MNIST' 'gaussian' 'conv+b|lin' --seed 2 --latent_act exp --comment exp --init_scale \u001b[0m\n",
       "\u001b[32m0.0001\"\u001b[0m,\n",
       "        \u001b[32m\"./fit_vae.sh '1' 'MNIST' 'gaussian' 'conv+b|lin' --seed 3 --latent_act exp --comment exp --init_scale \u001b[0m\n",
       "\u001b[32m0.0001\"\u001b[0m,\n",
       "        \u001b[32m\"./fit_vae.sh '1' 'MNIST' 'gaussian' 'conv+b|lin' --seed 4 --latent_act exp --comment exp --init_scale \u001b[0m\n",
       "\u001b[32m0.0001\"\u001b[0m,\n",
       "        \u001b[32m\"./fit_vae.sh '1' 'MNIST' 'gaussian' 'conv+b|lin' --seed 5 --latent_act exp --comment exp --init_scale \u001b[0m\n",
       "\u001b[32m0.0001\"\u001b[0m\n",
       "    \u001b[1m]\u001b[0m\n",
       "\u001b[1m]\u001b[0m\n"
      ]
     },
     "metadata": {},
     "output_type": "display_data"
    }
   ],
   "source": [
    "print(scripts_divided)"
   ]
  },
  {
   "cell_type": "code",
   "execution_count": null,
   "id": "43fe8b17-4b38-4190-a200-89a61b7aa577",
   "metadata": {},
   "outputs": [],
   "source": []
  },
  {
   "cell_type": "code",
   "execution_count": null,
   "id": "3863d332-83a5-49aa-bc04-83d9e9c4c0e5",
   "metadata": {},
   "outputs": [],
   "source": []
  },
  {
   "cell_type": "markdown",
   "id": "033d2571-0d0f-414c-97c6-142cf2665203",
   "metadata": {
    "jp-MarkdownHeadingCollapsed": true
   },
   "source": [
    "## Machine: ```chewie```\n",
    "\n",
    "Task: st (prepared for Dekel)"
   ]
  },
  {
   "cell_type": "code",
   "execution_count": 5,
   "id": "ab050f5e-9cf7-4c4b-9f2b-e0d6819a0675",
   "metadata": {},
   "outputs": [],
   "source": [
    "host = 'chewie'\n",
    "\n",
    "args = ['--comment st']\n",
    "model_types = ['poisson', 'categorical']\n",
    "archi = ['lin|lin', 'mlp+b|lin', 'conv+b|lin']"
   ]
  },
  {
   "cell_type": "code",
   "execution_count": 6,
   "id": "d2f3e0a4-9bc8-4771-892b-843b2db013de",
   "metadata": {},
   "outputs": [
    {
     "data": {
      "text/html": [
       "<pre style=\"white-space:pre;overflow-x:auto;line-height:normal;font-family:Menlo,'DejaVu Sans Mono',consolas,'Courier New',monospace\"><span style=\"font-weight: bold\">[</span>PROGRESS<span style=\"font-weight: bold\">]</span> <span style=\"color: #008000; text-decoration-color: #008000\">'chewie-cuda0-fit0.txt'</span> saved at\n",
       "<span style=\"color: #800080; text-decoration-color: #800080\">/home/hadi/Dropbox/git/_PoissonVAE/</span><span style=\"color: #ff00ff; text-decoration-color: #ff00ff\">scripts</span>\n",
       "</pre>\n"
      ],
      "text/plain": [
       "\u001b[1m[\u001b[0mPROGRESS\u001b[1m]\u001b[0m \u001b[32m'chewie-cuda0-fit0.txt'\u001b[0m saved at\n",
       "\u001b[35m/home/hadi/Dropbox/git/_PoissonVAE/\u001b[0m\u001b[95mscripts\u001b[0m\n"
      ]
     },
     "metadata": {},
     "output_type": "display_data"
    },
    {
     "data": {
      "text/html": [
       "<pre style=\"white-space:pre;overflow-x:auto;line-height:normal;font-family:Menlo,'DejaVu Sans Mono',consolas,'Courier New',monospace\"><span style=\"font-weight: bold\">[</span>PROGRESS<span style=\"font-weight: bold\">]</span> <span style=\"color: #008000; text-decoration-color: #008000\">'chewie-cuda0-fit1.txt'</span> saved at\n",
       "<span style=\"color: #800080; text-decoration-color: #800080\">/home/hadi/Dropbox/git/_PoissonVAE/</span><span style=\"color: #ff00ff; text-decoration-color: #ff00ff\">scripts</span>\n",
       "</pre>\n"
      ],
      "text/plain": [
       "\u001b[1m[\u001b[0mPROGRESS\u001b[1m]\u001b[0m \u001b[32m'chewie-cuda0-fit1.txt'\u001b[0m saved at\n",
       "\u001b[35m/home/hadi/Dropbox/git/_PoissonVAE/\u001b[0m\u001b[95mscripts\u001b[0m\n"
      ]
     },
     "metadata": {},
     "output_type": "display_data"
    },
    {
     "data": {
      "text/html": [
       "<pre style=\"white-space:pre;overflow-x:auto;line-height:normal;font-family:Menlo,'DejaVu Sans Mono',consolas,'Courier New',monospace\"><span style=\"font-weight: bold\">[</span>PROGRESS<span style=\"font-weight: bold\">]</span> <span style=\"color: #008000; text-decoration-color: #008000\">'chewie-cuda0-fit2.txt'</span> saved at\n",
       "<span style=\"color: #800080; text-decoration-color: #800080\">/home/hadi/Dropbox/git/_PoissonVAE/</span><span style=\"color: #ff00ff; text-decoration-color: #ff00ff\">scripts</span>\n",
       "</pre>\n"
      ],
      "text/plain": [
       "\u001b[1m[\u001b[0mPROGRESS\u001b[1m]\u001b[0m \u001b[32m'chewie-cuda0-fit2.txt'\u001b[0m saved at\n",
       "\u001b[35m/home/hadi/Dropbox/git/_PoissonVAE/\u001b[0m\u001b[95mscripts\u001b[0m\n"
      ]
     },
     "metadata": {},
     "output_type": "display_data"
    },
    {
     "data": {
      "text/html": [
       "<pre style=\"white-space:pre;overflow-x:auto;line-height:normal;font-family:Menlo,'DejaVu Sans Mono',consolas,'Courier New',monospace\"><span style=\"font-weight: bold\">[</span>PROGRESS<span style=\"font-weight: bold\">]</span> <span style=\"color: #008000; text-decoration-color: #008000\">'chewie-cuda1-fit0.txt'</span> saved at\n",
       "<span style=\"color: #800080; text-decoration-color: #800080\">/home/hadi/Dropbox/git/_PoissonVAE/</span><span style=\"color: #ff00ff; text-decoration-color: #ff00ff\">scripts</span>\n",
       "</pre>\n"
      ],
      "text/plain": [
       "\u001b[1m[\u001b[0mPROGRESS\u001b[1m]\u001b[0m \u001b[32m'chewie-cuda1-fit0.txt'\u001b[0m saved at\n",
       "\u001b[35m/home/hadi/Dropbox/git/_PoissonVAE/\u001b[0m\u001b[95mscripts\u001b[0m\n"
      ]
     },
     "metadata": {},
     "output_type": "display_data"
    },
    {
     "data": {
      "text/html": [
       "<pre style=\"white-space:pre;overflow-x:auto;line-height:normal;font-family:Menlo,'DejaVu Sans Mono',consolas,'Courier New',monospace\"><span style=\"font-weight: bold\">[</span>PROGRESS<span style=\"font-weight: bold\">]</span> <span style=\"color: #008000; text-decoration-color: #008000\">'chewie-cuda1-fit1.txt'</span> saved at\n",
       "<span style=\"color: #800080; text-decoration-color: #800080\">/home/hadi/Dropbox/git/_PoissonVAE/</span><span style=\"color: #ff00ff; text-decoration-color: #ff00ff\">scripts</span>\n",
       "</pre>\n"
      ],
      "text/plain": [
       "\u001b[1m[\u001b[0mPROGRESS\u001b[1m]\u001b[0m \u001b[32m'chewie-cuda1-fit1.txt'\u001b[0m saved at\n",
       "\u001b[35m/home/hadi/Dropbox/git/_PoissonVAE/\u001b[0m\u001b[95mscripts\u001b[0m\n"
      ]
     },
     "metadata": {},
     "output_type": "display_data"
    },
    {
     "data": {
      "text/html": [
       "<pre style=\"white-space:pre;overflow-x:auto;line-height:normal;font-family:Menlo,'DejaVu Sans Mono',consolas,'Courier New',monospace\"><span style=\"font-weight: bold\">[</span>PROGRESS<span style=\"font-weight: bold\">]</span> <span style=\"color: #008000; text-decoration-color: #008000\">'chewie-cuda1-fit2.txt'</span> saved at\n",
       "<span style=\"color: #800080; text-decoration-color: #800080\">/home/hadi/Dropbox/git/_PoissonVAE/</span><span style=\"color: #ff00ff; text-decoration-color: #ff00ff\">scripts</span>\n",
       "</pre>\n"
      ],
      "text/plain": [
       "\u001b[1m[\u001b[0mPROGRESS\u001b[1m]\u001b[0m \u001b[32m'chewie-cuda1-fit2.txt'\u001b[0m saved at\n",
       "\u001b[35m/home/hadi/Dropbox/git/_PoissonVAE/\u001b[0m\u001b[95mscripts\u001b[0m\n"
      ]
     },
     "metadata": {},
     "output_type": "display_data"
    }
   ],
   "source": [
    "tot = 0\n",
    "\n",
    "combos_outer = itertools.product(\n",
    "    enumerate(model_types),\n",
    "    enumerate(datasets),\n",
    ")\n",
    "for (gpu_i, m), (fit_i, d) in combos_outer:\n",
    "    combos_inner = itertools.product(\n",
    "        range(1, n_seeds + 1),\n",
    "        archi,\n",
    "        args,\n",
    "    )\n",
    "    script = []\n",
    "    for s, a, arg in combos_inner:\n",
    "        script.append(job_runner_script(\n",
    "            device=gpu_i,\n",
    "            dataset=d,\n",
    "            model=m,\n",
    "            archi=a,\n",
    "            seed=s,\n",
    "            args=arg,\n",
    "        ))\n",
    "    tot += len(script)\n",
    "    script = ' && '.join(script)\n",
    "    # save\n",
    "    save_obj(\n",
    "        obj=script,\n",
    "        file_name=_name(host, gpu_i, fit_i),\n",
    "        save_dir=save_dir,\n",
    "        mode='txt',\n",
    "    )"
   ]
  },
  {
   "cell_type": "code",
   "execution_count": null,
   "id": "d7f28c99-9fa5-44d6-adc8-2c1e6426cbd9",
   "metadata": {},
   "outputs": [],
   "source": []
  },
  {
   "cell_type": "code",
   "execution_count": 7,
   "id": "d3b68b42-3ea2-4b44-aa0e-f767e33d4e96",
   "metadata": {},
   "outputs": [
    {
     "data": {
      "text/html": [
       "<pre style=\"white-space:pre;overflow-x:auto;line-height:normal;font-family:Menlo,'DejaVu Sans Mono',consolas,'Courier New',monospace\">tot #fits: <span style=\"color: #008080; text-decoration-color: #008080; font-weight: bold\">90</span>\n",
       "</pre>\n"
      ],
      "text/plain": [
       "tot #fits: \u001b[1;36m90\u001b[0m\n"
      ]
     },
     "metadata": {},
     "output_type": "display_data"
    }
   ],
   "source": [
    "print(f\"tot #fits: {tot}\")"
   ]
  },
  {
   "cell_type": "code",
   "execution_count": null,
   "id": "a74535d9-aa32-4853-8332-c3e33af6e584",
   "metadata": {},
   "outputs": [],
   "source": []
  },
  {
   "cell_type": "code",
   "execution_count": 8,
   "id": "adbbb126-3174-49df-affd-6bb474e6b20b",
   "metadata": {},
   "outputs": [
    {
     "data": {
      "text/html": [
       "<pre style=\"white-space:pre;overflow-x:auto;line-height:normal;font-family:Menlo,'DejaVu Sans Mono',consolas,'Courier New',monospace\">.<span style=\"color: #800080; text-decoration-color: #800080\">/</span><span style=\"color: #ff00ff; text-decoration-color: #ff00ff\">fit_vae.sh</span> <span style=\"color: #008000; text-decoration-color: #008000\">'1'</span> <span style=\"color: #008000; text-decoration-color: #008000\">'MNIST'</span> <span style=\"color: #008000; text-decoration-color: #008000\">'categorical'</span> <span style=\"color: #008000; text-decoration-color: #008000\">'lin|lin'</span> --seed <span style=\"color: #008080; text-decoration-color: #008080; font-weight: bold\">1</span> --comment st &amp;&amp; \n",
       ".<span style=\"color: #800080; text-decoration-color: #800080\">/</span><span style=\"color: #ff00ff; text-decoration-color: #ff00ff\">fit_vae.sh</span> <span style=\"color: #008000; text-decoration-color: #008000\">'1'</span> <span style=\"color: #008000; text-decoration-color: #008000\">'MNIST'</span> <span style=\"color: #008000; text-decoration-color: #008000\">'categorical'</span> <span style=\"color: #008000; text-decoration-color: #008000\">'mlp+b|lin'</span> --seed <span style=\"color: #008080; text-decoration-color: #008080; font-weight: bold\">1</span> --comment st &amp;&amp; \n",
       ".<span style=\"color: #800080; text-decoration-color: #800080\">/</span><span style=\"color: #ff00ff; text-decoration-color: #ff00ff\">fit_vae.sh</span> <span style=\"color: #008000; text-decoration-color: #008000\">'1'</span> <span style=\"color: #008000; text-decoration-color: #008000\">'MNIST'</span> <span style=\"color: #008000; text-decoration-color: #008000\">'categorical'</span> <span style=\"color: #008000; text-decoration-color: #008000\">'conv+b|lin'</span> --seed <span style=\"color: #008080; text-decoration-color: #008080; font-weight: bold\">1</span> --comment st &amp;&amp; \n",
       ".<span style=\"color: #800080; text-decoration-color: #800080\">/</span><span style=\"color: #ff00ff; text-decoration-color: #ff00ff\">fit_vae.sh</span> <span style=\"color: #008000; text-decoration-color: #008000\">'1'</span> <span style=\"color: #008000; text-decoration-color: #008000\">'MNIST'</span> <span style=\"color: #008000; text-decoration-color: #008000\">'categorical'</span> <span style=\"color: #008000; text-decoration-color: #008000\">'lin|lin'</span> --seed <span style=\"color: #008080; text-decoration-color: #008080; font-weight: bold\">2</span> --comment st &amp;&amp; \n",
       ".<span style=\"color: #800080; text-decoration-color: #800080\">/</span><span style=\"color: #ff00ff; text-decoration-color: #ff00ff\">fit_vae.sh</span> <span style=\"color: #008000; text-decoration-color: #008000\">'1'</span> <span style=\"color: #008000; text-decoration-color: #008000\">'MNIST'</span> <span style=\"color: #008000; text-decoration-color: #008000\">'categorical'</span> <span style=\"color: #008000; text-decoration-color: #008000\">'mlp+b|lin'</span> --seed <span style=\"color: #008080; text-decoration-color: #008080; font-weight: bold\">2</span> --comment st &amp;&amp; \n",
       ".<span style=\"color: #800080; text-decoration-color: #800080\">/</span><span style=\"color: #ff00ff; text-decoration-color: #ff00ff\">fit_vae.sh</span> <span style=\"color: #008000; text-decoration-color: #008000\">'1'</span> <span style=\"color: #008000; text-decoration-color: #008000\">'MNIST'</span> <span style=\"color: #008000; text-decoration-color: #008000\">'categorical'</span> <span style=\"color: #008000; text-decoration-color: #008000\">'conv+b|lin'</span> --seed <span style=\"color: #008080; text-decoration-color: #008080; font-weight: bold\">2</span> --comment st &amp;&amp; \n",
       ".<span style=\"color: #800080; text-decoration-color: #800080\">/</span><span style=\"color: #ff00ff; text-decoration-color: #ff00ff\">fit_vae.sh</span> <span style=\"color: #008000; text-decoration-color: #008000\">'1'</span> <span style=\"color: #008000; text-decoration-color: #008000\">'MNIST'</span> <span style=\"color: #008000; text-decoration-color: #008000\">'categorical'</span> <span style=\"color: #008000; text-decoration-color: #008000\">'lin|lin'</span> --seed <span style=\"color: #008080; text-decoration-color: #008080; font-weight: bold\">3</span> --comment st &amp;&amp; \n",
       ".<span style=\"color: #800080; text-decoration-color: #800080\">/</span><span style=\"color: #ff00ff; text-decoration-color: #ff00ff\">fit_vae.sh</span> <span style=\"color: #008000; text-decoration-color: #008000\">'1'</span> <span style=\"color: #008000; text-decoration-color: #008000\">'MNIST'</span> <span style=\"color: #008000; text-decoration-color: #008000\">'categorical'</span> <span style=\"color: #008000; text-decoration-color: #008000\">'mlp+b|lin'</span> --seed <span style=\"color: #008080; text-decoration-color: #008080; font-weight: bold\">3</span> --comment st &amp;&amp; \n",
       ".<span style=\"color: #800080; text-decoration-color: #800080\">/</span><span style=\"color: #ff00ff; text-decoration-color: #ff00ff\">fit_vae.sh</span> <span style=\"color: #008000; text-decoration-color: #008000\">'1'</span> <span style=\"color: #008000; text-decoration-color: #008000\">'MNIST'</span> <span style=\"color: #008000; text-decoration-color: #008000\">'categorical'</span> <span style=\"color: #008000; text-decoration-color: #008000\">'conv+b|lin'</span> --seed <span style=\"color: #008080; text-decoration-color: #008080; font-weight: bold\">3</span> --comment st &amp;&amp; \n",
       ".<span style=\"color: #800080; text-decoration-color: #800080\">/</span><span style=\"color: #ff00ff; text-decoration-color: #ff00ff\">fit_vae.sh</span> <span style=\"color: #008000; text-decoration-color: #008000\">'1'</span> <span style=\"color: #008000; text-decoration-color: #008000\">'MNIST'</span> <span style=\"color: #008000; text-decoration-color: #008000\">'categorical'</span> <span style=\"color: #008000; text-decoration-color: #008000\">'lin|lin'</span> --seed <span style=\"color: #008080; text-decoration-color: #008080; font-weight: bold\">4</span> --comment st &amp;&amp; \n",
       ".<span style=\"color: #800080; text-decoration-color: #800080\">/</span><span style=\"color: #ff00ff; text-decoration-color: #ff00ff\">fit_vae.sh</span> <span style=\"color: #008000; text-decoration-color: #008000\">'1'</span> <span style=\"color: #008000; text-decoration-color: #008000\">'MNIST'</span> <span style=\"color: #008000; text-decoration-color: #008000\">'categorical'</span> <span style=\"color: #008000; text-decoration-color: #008000\">'mlp+b|lin'</span> --seed <span style=\"color: #008080; text-decoration-color: #008080; font-weight: bold\">4</span> --comment st &amp;&amp; \n",
       ".<span style=\"color: #800080; text-decoration-color: #800080\">/</span><span style=\"color: #ff00ff; text-decoration-color: #ff00ff\">fit_vae.sh</span> <span style=\"color: #008000; text-decoration-color: #008000\">'1'</span> <span style=\"color: #008000; text-decoration-color: #008000\">'MNIST'</span> <span style=\"color: #008000; text-decoration-color: #008000\">'categorical'</span> <span style=\"color: #008000; text-decoration-color: #008000\">'conv+b|lin'</span> --seed <span style=\"color: #008080; text-decoration-color: #008080; font-weight: bold\">4</span> --comment st &amp;&amp; \n",
       ".<span style=\"color: #800080; text-decoration-color: #800080\">/</span><span style=\"color: #ff00ff; text-decoration-color: #ff00ff\">fit_vae.sh</span> <span style=\"color: #008000; text-decoration-color: #008000\">'1'</span> <span style=\"color: #008000; text-decoration-color: #008000\">'MNIST'</span> <span style=\"color: #008000; text-decoration-color: #008000\">'categorical'</span> <span style=\"color: #008000; text-decoration-color: #008000\">'lin|lin'</span> --seed <span style=\"color: #008080; text-decoration-color: #008080; font-weight: bold\">5</span> --comment st &amp;&amp; \n",
       ".<span style=\"color: #800080; text-decoration-color: #800080\">/</span><span style=\"color: #ff00ff; text-decoration-color: #ff00ff\">fit_vae.sh</span> <span style=\"color: #008000; text-decoration-color: #008000\">'1'</span> <span style=\"color: #008000; text-decoration-color: #008000\">'MNIST'</span> <span style=\"color: #008000; text-decoration-color: #008000\">'categorical'</span> <span style=\"color: #008000; text-decoration-color: #008000\">'mlp+b|lin'</span> --seed <span style=\"color: #008080; text-decoration-color: #008080; font-weight: bold\">5</span> --comment st &amp;&amp; \n",
       ".<span style=\"color: #800080; text-decoration-color: #800080\">/</span><span style=\"color: #ff00ff; text-decoration-color: #ff00ff\">fit_vae.sh</span> <span style=\"color: #008000; text-decoration-color: #008000\">'1'</span> <span style=\"color: #008000; text-decoration-color: #008000\">'MNIST'</span> <span style=\"color: #008000; text-decoration-color: #008000\">'categorical'</span> <span style=\"color: #008000; text-decoration-color: #008000\">'conv+b|lin'</span> --seed <span style=\"color: #008080; text-decoration-color: #008080; font-weight: bold\">5</span> --comment st\n",
       "</pre>\n"
      ],
      "text/plain": [
       ".\u001b[35m/\u001b[0m\u001b[95mfit_vae.sh\u001b[0m \u001b[32m'1'\u001b[0m \u001b[32m'MNIST'\u001b[0m \u001b[32m'categorical'\u001b[0m \u001b[32m'lin|lin'\u001b[0m --seed \u001b[1;36m1\u001b[0m --comment st && \n",
       ".\u001b[35m/\u001b[0m\u001b[95mfit_vae.sh\u001b[0m \u001b[32m'1'\u001b[0m \u001b[32m'MNIST'\u001b[0m \u001b[32m'categorical'\u001b[0m \u001b[32m'mlp+b|lin'\u001b[0m --seed \u001b[1;36m1\u001b[0m --comment st && \n",
       ".\u001b[35m/\u001b[0m\u001b[95mfit_vae.sh\u001b[0m \u001b[32m'1'\u001b[0m \u001b[32m'MNIST'\u001b[0m \u001b[32m'categorical'\u001b[0m \u001b[32m'conv+b|lin'\u001b[0m --seed \u001b[1;36m1\u001b[0m --comment st && \n",
       ".\u001b[35m/\u001b[0m\u001b[95mfit_vae.sh\u001b[0m \u001b[32m'1'\u001b[0m \u001b[32m'MNIST'\u001b[0m \u001b[32m'categorical'\u001b[0m \u001b[32m'lin|lin'\u001b[0m --seed \u001b[1;36m2\u001b[0m --comment st && \n",
       ".\u001b[35m/\u001b[0m\u001b[95mfit_vae.sh\u001b[0m \u001b[32m'1'\u001b[0m \u001b[32m'MNIST'\u001b[0m \u001b[32m'categorical'\u001b[0m \u001b[32m'mlp+b|lin'\u001b[0m --seed \u001b[1;36m2\u001b[0m --comment st && \n",
       ".\u001b[35m/\u001b[0m\u001b[95mfit_vae.sh\u001b[0m \u001b[32m'1'\u001b[0m \u001b[32m'MNIST'\u001b[0m \u001b[32m'categorical'\u001b[0m \u001b[32m'conv+b|lin'\u001b[0m --seed \u001b[1;36m2\u001b[0m --comment st && \n",
       ".\u001b[35m/\u001b[0m\u001b[95mfit_vae.sh\u001b[0m \u001b[32m'1'\u001b[0m \u001b[32m'MNIST'\u001b[0m \u001b[32m'categorical'\u001b[0m \u001b[32m'lin|lin'\u001b[0m --seed \u001b[1;36m3\u001b[0m --comment st && \n",
       ".\u001b[35m/\u001b[0m\u001b[95mfit_vae.sh\u001b[0m \u001b[32m'1'\u001b[0m \u001b[32m'MNIST'\u001b[0m \u001b[32m'categorical'\u001b[0m \u001b[32m'mlp+b|lin'\u001b[0m --seed \u001b[1;36m3\u001b[0m --comment st && \n",
       ".\u001b[35m/\u001b[0m\u001b[95mfit_vae.sh\u001b[0m \u001b[32m'1'\u001b[0m \u001b[32m'MNIST'\u001b[0m \u001b[32m'categorical'\u001b[0m \u001b[32m'conv+b|lin'\u001b[0m --seed \u001b[1;36m3\u001b[0m --comment st && \n",
       ".\u001b[35m/\u001b[0m\u001b[95mfit_vae.sh\u001b[0m \u001b[32m'1'\u001b[0m \u001b[32m'MNIST'\u001b[0m \u001b[32m'categorical'\u001b[0m \u001b[32m'lin|lin'\u001b[0m --seed \u001b[1;36m4\u001b[0m --comment st && \n",
       ".\u001b[35m/\u001b[0m\u001b[95mfit_vae.sh\u001b[0m \u001b[32m'1'\u001b[0m \u001b[32m'MNIST'\u001b[0m \u001b[32m'categorical'\u001b[0m \u001b[32m'mlp+b|lin'\u001b[0m --seed \u001b[1;36m4\u001b[0m --comment st && \n",
       ".\u001b[35m/\u001b[0m\u001b[95mfit_vae.sh\u001b[0m \u001b[32m'1'\u001b[0m \u001b[32m'MNIST'\u001b[0m \u001b[32m'categorical'\u001b[0m \u001b[32m'conv+b|lin'\u001b[0m --seed \u001b[1;36m4\u001b[0m --comment st && \n",
       ".\u001b[35m/\u001b[0m\u001b[95mfit_vae.sh\u001b[0m \u001b[32m'1'\u001b[0m \u001b[32m'MNIST'\u001b[0m \u001b[32m'categorical'\u001b[0m \u001b[32m'lin|lin'\u001b[0m --seed \u001b[1;36m5\u001b[0m --comment st && \n",
       ".\u001b[35m/\u001b[0m\u001b[95mfit_vae.sh\u001b[0m \u001b[32m'1'\u001b[0m \u001b[32m'MNIST'\u001b[0m \u001b[32m'categorical'\u001b[0m \u001b[32m'mlp+b|lin'\u001b[0m --seed \u001b[1;36m5\u001b[0m --comment st && \n",
       ".\u001b[35m/\u001b[0m\u001b[95mfit_vae.sh\u001b[0m \u001b[32m'1'\u001b[0m \u001b[32m'MNIST'\u001b[0m \u001b[32m'categorical'\u001b[0m \u001b[32m'conv+b|lin'\u001b[0m --seed \u001b[1;36m5\u001b[0m --comment st\n"
      ]
     },
     "metadata": {},
     "output_type": "display_data"
    }
   ],
   "source": [
    "print(script.replace('&& ', '&& \\n'))"
   ]
  },
  {
   "cell_type": "code",
   "execution_count": null,
   "id": "3b9b07a9-7149-4867-9ae6-e15b22a07c64",
   "metadata": {},
   "outputs": [],
   "source": []
  },
  {
   "cell_type": "code",
   "execution_count": null,
   "id": "0a43560c-6b4a-47c5-8099-d9c86749ccdb",
   "metadata": {},
   "outputs": [],
   "source": []
  },
  {
   "cell_type": "code",
   "execution_count": null,
   "id": "e17eb5f9-e89d-48f4-9f51-45670bf3364d",
   "metadata": {},
   "outputs": [],
   "source": []
  }
 ],
 "metadata": {
  "kernelspec": {
   "display_name": "Python 3 (ipykernel)",
   "language": "python",
   "name": "python3"
  },
  "language_info": {
   "codemirror_mode": {
    "name": "ipython",
    "version": 3
   },
   "file_extension": ".py",
   "mimetype": "text/x-python",
   "name": "python",
   "nbconvert_exporter": "python",
   "pygments_lexer": "ipython3",
   "version": "3.11.7"
  }
 },
 "nbformat": 4,
 "nbformat_minor": 5
}
