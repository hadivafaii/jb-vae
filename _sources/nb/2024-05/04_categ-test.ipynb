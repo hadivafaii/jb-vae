{
 "cells": [
  {
   "cell_type": "markdown",
   "id": "48f55a35-d5b5-468f-b574-730df61e9609",
   "metadata": {},
   "source": [
    "# (04) CategoricalVAE\n",
    "\n",
    "**Motivation**: Test rsample. Does it really work? <br>"
   ]
  },
  {
   "cell_type": "code",
   "execution_count": 1,
   "id": "f823b1e9-05f2-49a0-8296-4a1819c12e81",
   "metadata": {
    "tags": [
     "hide-input"
    ]
   },
   "outputs": [],
   "source": [
    "# HIDE CODE\n",
    "\n",
    "\n",
    "import os, sys\n",
    "from IPython.display import display\n",
    "\n",
    "# tmp & extras dir\n",
    "git_dir = os.path.join(os.environ['HOME'], 'Dropbox/git')\n",
    "extras_dir = os.path.join(git_dir, 'jb-vase/_extras')\n",
    "fig_base_dir = os.path.join(git_dir, 'jb-vae/figs')\n",
    "tmp_dir = os.path.join(git_dir, 'jb-vae/tmp')\n",
    "\n",
    "# GitHub\n",
    "sys.path.insert(0, os.path.join(git_dir, '_PoissonVAE'))\n",
    "from analysis.eval import sparse_score\n",
    "from figures.fighelper import *\n",
    "from vae.train_vae import *\n",
    "\n",
    "# warnings, tqdm, & style\n",
    "warnings.filterwarnings('ignore', category=DeprecationWarning)\n",
    "from rich.jupyter import print\n",
    "%matplotlib inline\n",
    "set_style()"
   ]
  },
  {
   "cell_type": "code",
   "execution_count": 2,
   "id": "a7707534-819e-4d66-b7cf-d3634dfdebf5",
   "metadata": {},
   "outputs": [],
   "source": [
    "device_idx = 0\n",
    "device = f'cuda:{device_idx}'\n",
    "\n",
    "model_type = 'categorical'\n",
    "from base.distributions import dists, Categorical"
   ]
  },
  {
   "cell_type": "code",
   "execution_count": 3,
   "id": "76d985d9-3d45-4878-bad8-a39c69e19e35",
   "metadata": {},
   "outputs": [
    {
     "data": {
      "text/html": [
       "<pre style=\"white-space:pre;overflow-x:auto;line-height:normal;font-family:Menlo,'DejaVu Sans Mono',consolas,'Courier New',monospace\">VAE:\n",
       "<span style=\"font-weight: bold\">{</span><span style=\"color: #008000; text-decoration-color: #008000\">'dataset'</span>: <span style=\"color: #008000; text-decoration-color: #008000\">'MNIST'</span>, <span style=\"color: #008000; text-decoration-color: #008000\">'n_ch'</span>: <span style=\"color: #008080; text-decoration-color: #008080; font-weight: bold\">32</span>, <span style=\"color: #008000; text-decoration-color: #008000\">'n_latents'</span>: <span style=\"color: #008080; text-decoration-color: #008080; font-weight: bold\">10</span>, <span style=\"color: #008000; text-decoration-color: #008000\">'n_categories'</span>: <span style=\"color: #008080; text-decoration-color: #008080; font-weight: bold\">10</span>, <span style=\"color: #008000; text-decoration-color: #008000\">'enc_type'</span>: <span style=\"color: #008000; text-decoration-color: #008000\">'conv'</span>, <span style=\"color: #008000; text-decoration-color: #008000\">'dec_type'</span>: <span style=\"color: #008000; text-decoration-color: #008000\">'conv'</span>, \n",
       "<span style=\"color: #008000; text-decoration-color: #008000\">'enc_bias'</span>: <span style=\"color: #00ff00; text-decoration-color: #00ff00; font-style: italic\">True</span>, <span style=\"color: #008000; text-decoration-color: #008000\">'dec_bias'</span>: <span style=\"color: #00ff00; text-decoration-color: #00ff00; font-style: italic\">True</span><span style=\"font-weight: bold\">}</span>\n",
       "\n",
       "Trainer:\n",
       "<span style=\"font-weight: bold\">{</span><span style=\"color: #008000; text-decoration-color: #008000\">'temp_anneal_portion'</span>: <span style=\"color: #008080; text-decoration-color: #008080; font-weight: bold\">0.5</span>, <span style=\"color: #008000; text-decoration-color: #008000\">'temp_anneal_type'</span>: <span style=\"color: #008000; text-decoration-color: #008000\">'lin'</span>, <span style=\"color: #008000; text-decoration-color: #008000\">'temp_start'</span>: <span style=\"color: #008080; text-decoration-color: #008080; font-weight: bold\">1.0</span>, <span style=\"color: #008000; text-decoration-color: #008000\">'temp_stop'</span>: <span style=\"color: #008080; text-decoration-color: #008080; font-weight: bold\">0.1</span>, <span style=\"color: #008000; text-decoration-color: #008000\">'lr'</span>: <span style=\"color: #008080; text-decoration-color: #008080; font-weight: bold\">0.002</span>, <span style=\"color: #008000; text-decoration-color: #008000\">'epochs'</span>:\n",
       "<span style=\"color: #008080; text-decoration-color: #008080; font-weight: bold\">1000</span>, <span style=\"color: #008000; text-decoration-color: #008000\">'batch_size'</span>: <span style=\"color: #008080; text-decoration-color: #008080; font-weight: bold\">200</span>, <span style=\"color: #008000; text-decoration-color: #008000\">'warm_restart'</span>: <span style=\"color: #008080; text-decoration-color: #008080; font-weight: bold\">2</span>, <span style=\"color: #008000; text-decoration-color: #008000\">'optimizer_kws'</span>: <span style=\"font-weight: bold\">{</span><span style=\"color: #008000; text-decoration-color: #008000\">'weight_decay'</span>: <span style=\"color: #008080; text-decoration-color: #008080; font-weight: bold\">0.0003</span><span style=\"font-weight: bold\">}</span>, <span style=\"color: #008000; text-decoration-color: #008000\">'grad_clip'</span>: <span style=\"color: #008080; text-decoration-color: #008080; font-weight: bold\">1000</span><span style=\"font-weight: bold\">}</span>\n",
       "</pre>\n"
      ],
      "text/plain": [
       "VAE:\n",
       "\u001b[1m{\u001b[0m\u001b[32m'dataset'\u001b[0m: \u001b[32m'MNIST'\u001b[0m, \u001b[32m'n_ch'\u001b[0m: \u001b[1;36m32\u001b[0m, \u001b[32m'n_latents'\u001b[0m: \u001b[1;36m10\u001b[0m, \u001b[32m'n_categories'\u001b[0m: \u001b[1;36m10\u001b[0m, \u001b[32m'enc_type'\u001b[0m: \u001b[32m'conv'\u001b[0m, \u001b[32m'dec_type'\u001b[0m: \u001b[32m'conv'\u001b[0m, \n",
       "\u001b[32m'enc_bias'\u001b[0m: \u001b[3;92mTrue\u001b[0m, \u001b[32m'dec_bias'\u001b[0m: \u001b[3;92mTrue\u001b[0m\u001b[1m}\u001b[0m\n",
       "\n",
       "Trainer:\n",
       "\u001b[1m{\u001b[0m\u001b[32m'temp_anneal_portion'\u001b[0m: \u001b[1;36m0.5\u001b[0m, \u001b[32m'temp_anneal_type'\u001b[0m: \u001b[32m'lin'\u001b[0m, \u001b[32m'temp_start'\u001b[0m: \u001b[1;36m1.0\u001b[0m, \u001b[32m'temp_stop'\u001b[0m: \u001b[1;36m0.1\u001b[0m, \u001b[32m'lr'\u001b[0m: \u001b[1;36m0.002\u001b[0m, \u001b[32m'epochs'\u001b[0m:\n",
       "\u001b[1;36m1000\u001b[0m, \u001b[32m'batch_size'\u001b[0m: \u001b[1;36m200\u001b[0m, \u001b[32m'warm_restart'\u001b[0m: \u001b[1;36m2\u001b[0m, \u001b[32m'optimizer_kws'\u001b[0m: \u001b[1m{\u001b[0m\u001b[32m'weight_decay'\u001b[0m: \u001b[1;36m0.0003\u001b[0m\u001b[1m}\u001b[0m, \u001b[32m'grad_clip'\u001b[0m: \u001b[1;36m1000\u001b[0m\u001b[1m}\u001b[0m\n"
      ]
     },
     "metadata": {},
     "output_type": "display_data"
    }
   ],
   "source": [
    "cfg_vae, cfg_tr = default_configs('MNIST', model_type, 'conv+b|conv+b')\n",
    "\n",
    "print(f\"VAE:\\n{cfg_vae}\\n\\nTrainer:\\n{cfg_tr}\")"
   ]
  },
  {
   "cell_type": "code",
   "execution_count": null,
   "id": "7ef7a4d0-7d37-4d30-9ef6-fc5e85acbca7",
   "metadata": {},
   "outputs": [],
   "source": []
  },
  {
   "cell_type": "code",
   "execution_count": 4,
   "id": "97c939b7-3075-4087-8c8f-7721475198d1",
   "metadata": {},
   "outputs": [
    {
     "data": {
      "text/html": [
       "<pre style=\"white-space:pre;overflow-x:auto;line-height:normal;font-family:Menlo,'DejaVu Sans Mono',consolas,'Courier New',monospace\">+----------------+------------+\n",
       "|  Module Name   | Num Params |\n",
       "+----------------+------------+\n",
       "| CategoricalVAE |  <span style=\"color: #008080; text-decoration-color: #008080; font-weight: bold\">6.3</span> Mil   |\n",
       "|      ---       |    ---     |\n",
       "|      stem      |    <span style=\"color: #008080; text-decoration-color: #008080; font-weight: bold\">352</span>     |\n",
       "|      enc       |  <span style=\"color: #008080; text-decoration-color: #008080; font-weight: bold\">4.9</span> Mil   |\n",
       "|     fc_enc     |   <span style=\"color: #008080; text-decoration-color: #008080; font-weight: bold\">25.7</span> K   |\n",
       "|     fc_dec     |  <span style=\"color: #008080; text-decoration-color: #008080; font-weight: bold\">103.4</span> K   |\n",
       "|      dec       |  <span style=\"color: #008080; text-decoration-color: #008080; font-weight: bold\">1.2</span> Mil   |\n",
       "+----------------+------------+ \n",
       "\n",
       "</pre>\n"
      ],
      "text/plain": [
       "+----------------+------------+\n",
       "|  Module Name   | Num Params |\n",
       "+----------------+------------+\n",
       "| CategoricalVAE |  \u001b[1;36m6.3\u001b[0m Mil   |\n",
       "|      ---       |    ---     |\n",
       "|      stem      |    \u001b[1;36m352\u001b[0m     |\n",
       "|      enc       |  \u001b[1;36m4.9\u001b[0m Mil   |\n",
       "|     fc_enc     |   \u001b[1;36m25.7\u001b[0m K   |\n",
       "|     fc_dec     |  \u001b[1;36m103.4\u001b[0m K   |\n",
       "|      dec       |  \u001b[1;36m1.2\u001b[0m Mil   |\n",
       "+----------------+------------+ \n",
       "\n"
      ]
     },
     "metadata": {},
     "output_type": "display_data"
    },
    {
     "data": {
      "text/html": [
       "<pre style=\"white-space:pre;overflow-x:auto;line-height:normal;font-family:Menlo,'DejaVu Sans Mono',consolas,'Courier New',monospace\">categorical_c-10_MNIST_z-10_k-32_<span style=\"font-weight: bold\">&lt;</span><span style=\"color: #ff00ff; text-decoration-color: #ff00ff; font-weight: bold\">conv</span><span style=\"color: #000000; text-decoration-color: #000000\">+b|conv+b</span><span style=\"font-weight: bold\">&gt;</span>\n",
       "mc_b200-ep1000-<span style=\"color: #800080; text-decoration-color: #800080; font-weight: bold\">lr</span><span style=\"font-weight: bold\">(</span><span style=\"color: #008080; text-decoration-color: #008080; font-weight: bold\">0.002</span><span style=\"font-weight: bold\">)</span><span style=\"color: #800080; text-decoration-color: #800080; font-weight: bold\">_beta</span><span style=\"font-weight: bold\">(</span><span style=\"color: #00ff00; text-decoration-color: #00ff00; font-weight: bold\">1:0</span>x0.<span style=\"color: #008080; text-decoration-color: #008080; font-weight: bold\">5</span><span style=\"font-weight: bold\">)</span><span style=\"color: #800080; text-decoration-color: #800080; font-weight: bold\">_temp</span><span style=\"font-weight: bold\">(</span><span style=\"color: #008080; text-decoration-color: #008080; font-weight: bold\">0.1</span>:lin-<span style=\"color: #008080; text-decoration-color: #008080; font-weight: bold\">0.5</span><span style=\"font-weight: bold\">)</span><span style=\"color: #800080; text-decoration-color: #800080; font-weight: bold\">_gr</span><span style=\"font-weight: bold\">(</span><span style=\"color: #008080; text-decoration-color: #008080; font-weight: bold\">1000</span><span style=\"font-weight: bold\">)</span><span style=\"color: #800080; text-decoration-color: #800080; font-weight: bold\">_</span><span style=\"font-weight: bold\">(</span>2024_05_05,<span style=\"color: #00ff00; text-decoration-color: #00ff00; font-weight: bold\">15:13</span><span style=\"font-weight: bold\">)</span>\n",
       "\n",
       "</pre>\n"
      ],
      "text/plain": [
       "categorical_c-10_MNIST_z-10_k-32_\u001b[1m<\u001b[0m\u001b[1;95mconv\u001b[0m\u001b[39m+b|conv+b\u001b[0m\u001b[1m>\u001b[0m\n",
       "mc_b200-ep1000-\u001b[1;35mlr\u001b[0m\u001b[1m(\u001b[0m\u001b[1;36m0.002\u001b[0m\u001b[1m)\u001b[0m\u001b[1;35m_beta\u001b[0m\u001b[1m(\u001b[0m\u001b[1;92m1:0\u001b[0mx0.\u001b[1;36m5\u001b[0m\u001b[1m)\u001b[0m\u001b[1;35m_temp\u001b[0m\u001b[1m(\u001b[0m\u001b[1;36m0.1\u001b[0m:lin-\u001b[1;36m0.5\u001b[0m\u001b[1m)\u001b[0m\u001b[1;35m_gr\u001b[0m\u001b[1m(\u001b[0m\u001b[1;36m1000\u001b[0m\u001b[1m)\u001b[0m\u001b[1;35m_\u001b[0m\u001b[1m(\u001b[0m2024_05_05,\u001b[1;92m15:13\u001b[0m\u001b[1m)\u001b[0m\n",
       "\n"
      ]
     },
     "metadata": {},
     "output_type": "display_data"
    },
    {
     "data": {
      "image/png": "[encoded data removed]",
      "text/plain": [
       "<Figure size 650x160 with 3 Axes>"
      ]
     },
     "metadata": {},
     "output_type": "display_data"
    }
   ],
   "source": [
    "vae = MODEL_CLASSES[model_type](CFG_CLASSES[model_type](**cfg_vae))\n",
    "tr = TrainerVAE(vae, ConfigTrainVAE(**cfg_tr), device=device)\n",
    "\n",
    "vae.print()\n",
    "print(f\"{vae.cfg.name()}\\n{tr.cfg.name()}_({vae.timestamp})\\n\")\n",
    "tr.show_schedules()"
   ]
  },
  {
   "cell_type": "code",
   "execution_count": null,
   "id": "a1b31add-6dbc-4013-b843-d6f71db22296",
   "metadata": {},
   "outputs": [],
   "source": []
  },
  {
   "cell_type": "code",
   "execution_count": 5,
   "id": "c8ff3215-b8e8-46cb-8f2f-e81fa0ad1807",
   "metadata": {},
   "outputs": [
    {
     "data": {
      "text/plain": [
       "'categorical_c-10_MNIST_z-10_k-32_<conv+b|conv+b>'"
      ]
     },
     "execution_count": 5,
     "metadata": {},
     "output_type": "execute_result"
    }
   ],
   "source": [
    "vae.cfg.name()"
   ]
  },
  {
   "cell_type": "code",
   "execution_count": 6,
   "id": "5f640480-ab7d-4a49-b612-94203870e203",
   "metadata": {},
   "outputs": [
    {
     "data": {
      "text/plain": [
       "'/home/hadi/Projects/PoissonVAE/runs/categorical_c-10_MNIST_z-10_k-32_<conv+b|conv+b>'"
      ]
     },
     "execution_count": 6,
     "metadata": {},
     "output_type": "execute_result"
    }
   ],
   "source": [
    "vae.cfg.runs_dir"
   ]
  },
  {
   "cell_type": "code",
   "execution_count": null,
   "id": "425e1aed-7e10-444d-96d0-c74b37997577",
   "metadata": {},
   "outputs": [],
   "source": []
  },
  {
   "cell_type": "code",
   "execution_count": 7,
   "id": "d5418699-553d-4522-b09e-a2db9c414f8e",
   "metadata": {},
   "outputs": [
    {
     "data": {
      "text/plain": [
       "tensor([[[0.1000, 0.1000, 0.1000, 0.1000, 0.1000, 0.1000, 0.1000, 0.1000,\n",
       "          0.1000, 0.1000],\n",
       "         [0.1000, 0.1000, 0.1000, 0.1000, 0.1000, 0.1000, 0.1000, 0.1000,\n",
       "          0.1000, 0.1000],\n",
       "         [0.1000, 0.1000, 0.1000, 0.1000, 0.1000, 0.1000, 0.1000, 0.1000,\n",
       "          0.1000, 0.1000],\n",
       "         [0.1000, 0.1000, 0.1000, 0.1000, 0.1000, 0.1000, 0.1000, 0.1000,\n",
       "          0.1000, 0.1000],\n",
       "         [0.1000, 0.1000, 0.1000, 0.1000, 0.1000, 0.1000, 0.1000, 0.1000,\n",
       "          0.1000, 0.1000],\n",
       "         [0.1000, 0.1000, 0.1000, 0.1000, 0.1000, 0.1000, 0.1000, 0.1000,\n",
       "          0.1000, 0.1000],\n",
       "         [0.1000, 0.1000, 0.1000, 0.1000, 0.1000, 0.1000, 0.1000, 0.1000,\n",
       "          0.1000, 0.1000],\n",
       "         [0.1000, 0.1000, 0.1000, 0.1000, 0.1000, 0.1000, 0.1000, 0.1000,\n",
       "          0.1000, 0.1000],\n",
       "         [0.1000, 0.1000, 0.1000, 0.1000, 0.1000, 0.1000, 0.1000, 0.1000,\n",
       "          0.1000, 0.1000],\n",
       "         [0.1000, 0.1000, 0.1000, 0.1000, 0.1000, 0.1000, 0.1000, 0.1000,\n",
       "          0.1000, 0.1000]]], device='cuda:0')"
      ]
     },
     "execution_count": 7,
     "metadata": {},
     "output_type": "execute_result"
    }
   ],
   "source": [
    "torch.sigmoid(vae.logits)"
   ]
  },
  {
   "cell_type": "code",
   "execution_count": 8,
   "id": "ce566357-c3c2-47ac-81e1-6e1327f2d2dd",
   "metadata": {},
   "outputs": [
    {
     "data": {
      "text/plain": [
       "tensor([[1., 1., 1., 1., 1., 1., 1., 1., 1., 1.]], device='cuda:0')"
      ]
     },
     "execution_count": 8,
     "metadata": {},
     "output_type": "execute_result"
    }
   ],
   "source": [
    "torch.sigmoid(vae.logits).sum(-1)"
   ]
  },
  {
   "cell_type": "code",
   "execution_count": null,
   "id": "61eb5c15-e9ea-4fe1-a57f-7b411e8168f1",
   "metadata": {},
   "outputs": [],
   "source": []
  },
  {
   "cell_type": "code",
   "execution_count": 9,
   "id": "9c82f34b-317c-4912-88c9-7b384adf97a0",
   "metadata": {},
   "outputs": [
    {
     "data": {
      "text/plain": [
       "torch.Size([200, 1, 28, 28])"
      ]
     },
     "execution_count": 9,
     "metadata": {},
     "output_type": "execute_result"
    }
   ],
   "source": [
    "x, *_ = next(iter(tr.dl_vld))\n",
    "x.shape"
   ]
  },
  {
   "cell_type": "code",
   "execution_count": 10,
   "id": "7b504376-44b9-4745-82d5-4b177b991efe",
   "metadata": {},
   "outputs": [],
   "source": [
    "# with torch.inference_mode():\n",
    "dist, z, y = vae(x)"
   ]
  },
  {
   "cell_type": "code",
   "execution_count": 11,
   "id": "76261d23-d473-4059-8960-8a1171af5482",
   "metadata": {},
   "outputs": [
    {
     "data": {
      "text/plain": [
       "<Axes: ylabel='Count'>"
      ]
     },
     "execution_count": 11,
     "metadata": {},
     "output_type": "execute_result"
    },
    {
     "data": {
      "image/png": "[encoded data removed]",
      "text/plain": [
       "<Figure size 500x320 with 1 Axes>"
      ]
     },
     "metadata": {},
     "output_type": "display_data"
    }
   ],
   "source": [
    "x2p = tonp(dist.probs.ravel())\n",
    "sns.histplot(x2p[x2p > 0.01], bins=np.linspace(0, 1, 101))"
   ]
  },
  {
   "cell_type": "code",
   "execution_count": null,
   "id": "5dce8cf1-0537-4327-a84a-3772401044ce",
   "metadata": {},
   "outputs": [],
   "source": []
  },
  {
   "cell_type": "code",
   "execution_count": 12,
   "id": "74a6a3d0-ca40-4d72-bbe5-e2d6d15737a2",
   "metadata": {},
   "outputs": [],
   "source": [
    "loss = torch.sum((dist.rsample() - 1).pow(2))\n",
    "loss.backward()"
   ]
  },
  {
   "cell_type": "code",
   "execution_count": null,
   "id": "f81ad082-8bf5-4d23-8965-b1c9dc46be18",
   "metadata": {},
   "outputs": [],
   "source": []
  },
  {
   "cell_type": "code",
   "execution_count": 13,
   "id": "00e75c9b-410b-4e7d-84d8-0485a3396614",
   "metadata": {},
   "outputs": [
    {
     "data": {
      "text/plain": [
       "tensor([-29.6515, -46.2480,   5.2437,  21.2658, 113.2567, -13.7855,  19.9296,\n",
       "         -4.7984,  22.5497,  46.7027,  15.3849,   6.8394, -26.7323, 162.3295,\n",
       "        -58.8134,  13.6335,  58.8092,  30.2605, -12.6746, -15.3472, -38.8823,\n",
       "         41.3092,  -0.3783, -48.2880,  20.0336, -40.6113,  -3.5663, 119.4552,\n",
       "        -33.1864, -52.2635, -40.2610,  60.0013], device='cuda:0')"
      ]
     },
     "execution_count": 13,
     "metadata": {},
     "output_type": "execute_result"
    }
   ],
   "source": [
    "vae.stem.bias.grad"
   ]
  },
  {
   "cell_type": "code",
   "execution_count": null,
   "id": "61d624d4-8164-4891-90f5-cde9a85865af",
   "metadata": {},
   "outputs": [],
   "source": []
  },
  {
   "cell_type": "code",
   "execution_count": 26,
   "id": "507f5b4c-41c7-4990-8f94-4c52bb6504db",
   "metadata": {},
   "outputs": [
    {
     "data": {
      "text/plain": [
       "tensor([[1., 1., 1., 1., 1., 1., 1., 1., 1., 1.]], device='cuda:0')"
      ]
     },
     "execution_count": 26,
     "metadata": {},
     "output_type": "execute_result"
    }
   ],
   "source": [
    "vae.probs.sum(-1)"
   ]
  },
  {
   "cell_type": "code",
   "execution_count": null,
   "id": "127fe80a-ce6e-42d7-8940-c224415ec2a6",
   "metadata": {},
   "outputs": [],
   "source": []
  },
  {
   "cell_type": "code",
   "execution_count": null,
   "id": "97d5dee7-f949-4608-9de9-c49f61d658c5",
   "metadata": {},
   "outputs": [],
   "source": []
  },
  {
   "cell_type": "code",
   "execution_count": null,
   "id": "8df047a5-7200-4db5-8c5c-2ed029dd43bc",
   "metadata": {},
   "outputs": [],
   "source": []
  },
  {
   "cell_type": "code",
   "execution_count": 9,
   "id": "02cd94c4-14e1-4bc6-99e1-8b7e6cc4bdab",
   "metadata": {},
   "outputs": [],
   "source": [
    "probs = torch.tensor([[0, 0, 0, 1, 0]], dtype=torch.float32)\n",
    "c = Categorical(probs=probs, temp=0.8)"
   ]
  },
  {
   "cell_type": "code",
   "execution_count": 10,
   "id": "022213eb-979f-43f8-bd25-d3cfdaf705b9",
   "metadata": {},
   "outputs": [
    {
     "data": {
      "text/plain": [
       "tensor([[0., 0., 0., 1., 0.]])"
      ]
     },
     "execution_count": 10,
     "metadata": {},
     "output_type": "execute_result"
    }
   ],
   "source": [
    "c.probs"
   ]
  },
  {
   "cell_type": "code",
   "execution_count": 11,
   "id": "9c6096a3-b8e8-4de3-8190-63898e1e094a",
   "metadata": {},
   "outputs": [],
   "source": [
    "from torch.distributions.utils import broadcast_all, clamp_probs"
   ]
  },
  {
   "cell_type": "code",
   "execution_count": 12,
   "id": "91692c88-c7be-4c46-b297-7e63d9af166b",
   "metadata": {},
   "outputs": [
    {
     "data": {
      "text/plain": [
       "tensor([[1.1921e-07, 1.1921e-07, 1.1921e-07, 1.0000e+00, 1.1921e-07]])"
      ]
     },
     "execution_count": 12,
     "metadata": {},
     "output_type": "execute_result"
    }
   ],
   "source": [
    "dists.utils.clamp_probs(probs)"
   ]
  },
  {
   "cell_type": "code",
   "execution_count": null,
   "id": "03a8ac10-313d-44bd-822d-3ba4915d7f4e",
   "metadata": {},
   "outputs": [],
   "source": []
  },
  {
   "cell_type": "code",
   "execution_count": null,
   "id": "80005260-0082-432d-8b2d-b5e9a245c3d0",
   "metadata": {},
   "outputs": [],
   "source": []
  },
  {
   "cell_type": "code",
   "execution_count": 5,
   "id": "da5c6f58-2c54-437d-9355-0bf6b096de5d",
   "metadata": {},
   "outputs": [
    {
     "data": {
      "text/plain": [
       "tensor([[-15.9420, -15.9420, -15.9420,  -0.0000, -15.9420]])"
      ]
     },
     "execution_count": 5,
     "metadata": {},
     "output_type": "execute_result"
    }
   ],
   "source": [
    "torch.round(c.logits, decimals=3)"
   ]
  },
  {
   "cell_type": "code",
   "execution_count": 6,
   "id": "d8289ae2-8b2a-4262-806d-1038a612fa1d",
   "metadata": {},
   "outputs": [
    {
     "data": {
      "text/plain": [
       "tensor([[-15.9420, -15.9420, -15.9420,  15.9420, -15.9420]])"
      ]
     },
     "execution_count": 6,
     "metadata": {},
     "output_type": "execute_result"
    }
   ],
   "source": [
    "eps = torch.finfo(torch.float).eps\n",
    "logits_eps = torch.logit(torch.clamp(c.probs, eps, 1-eps))\n",
    "\n",
    "torch.round(logits_eps, decimals=3)"
   ]
  },
  {
   "cell_type": "code",
   "execution_count": 7,
   "id": "254a023c-3487-49ff-9cc2-3cb25116a230",
   "metadata": {},
   "outputs": [
    {
     "data": {
      "text/plain": [
       "tensor([[1.1921e-07, 1.1921e-07, 1.1921e-07, 1.0000e+00, 1.1921e-07]])"
      ]
     },
     "execution_count": 7,
     "metadata": {},
     "output_type": "execute_result"
    }
   ],
   "source": [
    "torch.sigmoid(logits_eps)"
   ]
  },
  {
   "cell_type": "code",
   "execution_count": null,
   "id": "ea98ca9c-7130-4f6a-aad3-46974ef28485",
   "metadata": {},
   "outputs": [],
   "source": []
  },
  {
   "cell_type": "code",
   "execution_count": 8,
   "id": "ba32f3dd-8a4d-43fb-ab6a-7377dbea7c5d",
   "metadata": {},
   "outputs": [
    {
     "data": {
      "text/plain": [
       "0.8"
      ]
     },
     "execution_count": 8,
     "metadata": {},
     "output_type": "execute_result"
    }
   ],
   "source": [
    "logits = torch.randn(123, 20, 10) * 0.1\n",
    "# c = dists.RelaxedOneHotCategorical(temperature=1e-9, logits=logits)\n",
    "c = Categorical(logits=logits, temp=0.8)\n",
    "c.t"
   ]
  },
  {
   "cell_type": "code",
   "execution_count": 9,
   "id": "ca48fecb-1b87-45ea-aa95-846e71465abc",
   "metadata": {},
   "outputs": [
    {
     "data": {
      "text/plain": [
       "<Axes: ylabel='Count'>"
      ]
     },
     "execution_count": 9,
     "metadata": {},
     "output_type": "execute_result"
    },
    {
     "data": {
      "image/png": "[encoded data removed]",
      "text/plain": [
       "<Figure size 500x320 with 1 Axes>"
      ]
     },
     "metadata": {},
     "output_type": "display_data"
    }
   ],
   "source": [
    "sns.histplot(tonp(c.logits.ravel()))"
   ]
  },
  {
   "cell_type": "code",
   "execution_count": 10,
   "id": "257ecb7f-c7c9-4e6a-9dc7-818103b8ef2c",
   "metadata": {},
   "outputs": [
    {
     "data": {
      "text/plain": [
       "<Axes: ylabel='Count'>"
      ]
     },
     "execution_count": 10,
     "metadata": {},
     "output_type": "execute_result"
    },
    {
     "data": {
      "image/png": "[encoded data removed]",
      "text/plain": [
       "<Figure size 500x320 with 1 Axes>"
      ]
     },
     "metadata": {},
     "output_type": "display_data"
    }
   ],
   "source": [
    "sns.histplot(tonp(logits.ravel()))"
   ]
  },
  {
   "cell_type": "code",
   "execution_count": null,
   "id": "7e1054f6-1d57-4b5f-b88c-4187975400b2",
   "metadata": {},
   "outputs": [],
   "source": []
  },
  {
   "cell_type": "code",
   "execution_count": 11,
   "id": "290f9a0b-5d3d-4398-b579-3df593e3354b",
   "metadata": {},
   "outputs": [
    {
     "data": {
      "text/plain": [
       "tensor([0.0864, 0.0930, 0.1122, 0.1057, 0.1070, 0.1274, 0.1006, 0.0899, 0.0853,\n",
       "        0.0925])"
      ]
     },
     "execution_count": 11,
     "metadata": {},
     "output_type": "execute_result"
    }
   ],
   "source": [
    "c.probs[0, 1]"
   ]
  },
  {
   "cell_type": "code",
   "execution_count": 12,
   "id": "97d3ac89-85db-427a-bde3-5c9a669ee98a",
   "metadata": {},
   "outputs": [
    {
     "data": {
      "text/plain": [
       "tensor([-2.3588, -2.2770, -2.0686, -2.1349, -2.1215, -1.9243, -2.1905, -2.3151,\n",
       "        -2.3730, -2.2834])"
      ]
     },
     "execution_count": 12,
     "metadata": {},
     "output_type": "execute_result"
    }
   ],
   "source": [
    "torch.logit(c.probs)[0, 1]"
   ]
  },
  {
   "cell_type": "code",
   "execution_count": 13,
   "id": "0cdbb0df-becc-4152-a2ba-fcaa5de04a16",
   "metadata": {},
   "outputs": [
    {
     "data": {
      "image/png": "[encoded data removed]",
      "text/plain": [
       "<Figure size 500x320 with 1 Axes>"
      ]
     },
     "metadata": {},
     "output_type": "display_data"
    }
   ],
   "source": [
    "plt.plot(tonp(c.logits[0, 1]));\n",
    "plt.plot(tonp(torch.logit(c.probs[0, 1])) * 1.04);"
   ]
  },
  {
   "cell_type": "code",
   "execution_count": null,
   "id": "feb3994f-869d-472f-8836-b007d883f15e",
   "metadata": {},
   "outputs": [],
   "source": []
  },
  {
   "cell_type": "code",
   "execution_count": 17,
   "id": "e8ccc81b-d528-4c48-8849-71b542d37404",
   "metadata": {},
   "outputs": [],
   "source": [
    "logits = torch.randn(123, 20, 10) * 0.1\n",
    "c = Categorical(logits=logits, temp=0.8)\n",
    "\n",
    "probs = torch.sigmoid(logits)\n",
    "\n",
    "eps = torch.finfo(torch.float).eps\n",
    "probs_eps = torch.clamp(probs, eps, 1-eps)\n",
    "\n",
    "logits_eps = torch.logit(probs_eps)"
   ]
  },
  {
   "cell_type": "code",
   "execution_count": 21,
   "id": "7b7693ed-f9f3-480a-914e-d5ff16c7fe26",
   "metadata": {},
   "outputs": [
    {
     "data": {
      "image/png": "[encoded data removed]",
      "text/plain": [
       "<Figure size 500x320 with 1 Axes>"
      ]
     },
     "metadata": {},
     "output_type": "display_data"
    }
   ],
   "source": [
    "plt.plot(tonp(c.logits[0, 1]));\n",
    "plt.plot(tonp(logits_eps[0, 1]));"
   ]
  },
  {
   "cell_type": "code",
   "execution_count": 24,
   "id": "2ee891bb-59c6-45f4-a70f-78a5b079a564",
   "metadata": {},
   "outputs": [
    {
     "data": {
      "text/plain": [
       "tensor([[[0., 0., 0.,  ..., 0., 0., 0.],\n",
       "         [0., 0., 0.,  ..., 0., 0., 0.],\n",
       "         [0., 0., 0.,  ..., 0., 0., 0.],\n",
       "         ...,\n",
       "         [0., 0., 0.,  ..., 0., 0., 0.],\n",
       "         [0., 0., 0.,  ..., 0., 0., 0.],\n",
       "         [0., 0., 0.,  ..., 0., 0., 0.]],\n",
       "\n",
       "        [[0., 0., 0.,  ..., 0., 0., 0.],\n",
       "         [0., 0., 0.,  ..., 0., 0., 0.],\n",
       "         [0., 0., 0.,  ..., 0., 0., 0.],\n",
       "         ...,\n",
       "         [0., 0., 0.,  ..., 0., 0., 0.],\n",
       "         [0., 0., 0.,  ..., 0., 0., 0.],\n",
       "         [0., 0., 0.,  ..., 0., 0., 0.]],\n",
       "\n",
       "        [[0., 0., 0.,  ..., 0., 0., 0.],\n",
       "         [0., 0., 0.,  ..., 0., 0., 0.],\n",
       "         [0., 0., 0.,  ..., 0., 0., 0.],\n",
       "         ...,\n",
       "         [0., 0., 0.,  ..., 0., 0., 0.],\n",
       "         [0., 0., 0.,  ..., 0., 0., 0.],\n",
       "         [0., 0., 0.,  ..., 0., 0., 0.]],\n",
       "\n",
       "        ...,\n",
       "\n",
       "        [[0., 0., 0.,  ..., 0., 0., 0.],\n",
       "         [0., 0., 0.,  ..., 0., 0., 0.],\n",
       "         [0., 0., 0.,  ..., 0., 0., 0.],\n",
       "         ...,\n",
       "         [0., 0., 0.,  ..., 0., 0., 0.],\n",
       "         [0., 0., 0.,  ..., 0., 0., 0.],\n",
       "         [0., 0., 0.,  ..., 0., 0., 0.]],\n",
       "\n",
       "        [[0., 0., 0.,  ..., 0., 0., 0.],\n",
       "         [0., 0., 0.,  ..., 0., 0., 0.],\n",
       "         [0., 0., 0.,  ..., 0., 0., 0.],\n",
       "         ...,\n",
       "         [0., 0., 0.,  ..., 0., 0., 0.],\n",
       "         [0., 0., 0.,  ..., 0., 0., 0.],\n",
       "         [0., 0., 0.,  ..., 0., 0., 0.]],\n",
       "\n",
       "        [[0., 0., 0.,  ..., 0., 0., 0.],\n",
       "         [0., 0., 0.,  ..., 0., 0., 0.],\n",
       "         [0., 0., 0.,  ..., 0., 0., 0.],\n",
       "         ...,\n",
       "         [0., 0., 0.,  ..., 0., 0., 0.],\n",
       "         [0., 0., 0.,  ..., 0., 0., 0.],\n",
       "         [0., 0., 0.,  ..., 0., 0., 0.]]])"
      ]
     },
     "execution_count": 24,
     "metadata": {},
     "output_type": "execute_result"
    }
   ],
   "source": [
    "c.logits - (logits - logits.logsumexp(dim=-1, keepdim=True))"
   ]
  },
  {
   "cell_type": "code",
   "execution_count": null,
   "id": "e6b302c8-fccb-4116-b44d-2122b73172ba",
   "metadata": {},
   "outputs": [],
   "source": []
  },
  {
   "cell_type": "code",
   "execution_count": null,
   "id": "15b12601-b55b-47ec-ad6f-fe1b4eaf6fdc",
   "metadata": {},
   "outputs": [],
   "source": []
  },
  {
   "cell_type": "code",
   "execution_count": null,
   "id": "bbbe91c9-78b9-489b-80dc-afcb98e08267",
   "metadata": {},
   "outputs": [],
   "source": []
  },
  {
   "cell_type": "code",
   "execution_count": 7,
   "id": "e30df62f-e6b5-4303-8faf-871f7c4a47ab",
   "metadata": {},
   "outputs": [
    {
     "data": {
      "text/plain": [
       "torch.Size([123, 20, 10])"
      ]
     },
     "execution_count": 7,
     "metadata": {},
     "output_type": "execute_result"
    }
   ],
   "source": [
    "samples = c.rsample()\n",
    "samples.shape"
   ]
  },
  {
   "cell_type": "code",
   "execution_count": 8,
   "id": "3ee610f3-b925-496a-899b-3ec69fffa435",
   "metadata": {},
   "outputs": [
    {
     "data": {
      "text/plain": [
       "<StemContainer object of 3 artists>"
      ]
     },
     "execution_count": 8,
     "metadata": {},
     "output_type": "execute_result"
    },
    {
     "data": {
      "image/png": "[encoded data removed]",
      "text/plain": [
       "<Figure size 500x320 with 1 Axes>"
      ]
     },
     "metadata": {},
     "output_type": "display_data"
    }
   ],
   "source": [
    "plt.stem(samples[3, 0])"
   ]
  },
  {
   "cell_type": "code",
   "execution_count": 9,
   "id": "bb3d3f3f-3b35-484c-b5be-68fe0749d0ac",
   "metadata": {},
   "outputs": [
    {
     "data": {
      "text/plain": [
       "tensor(9)"
      ]
     },
     "execution_count": 9,
     "metadata": {},
     "output_type": "execute_result"
    }
   ],
   "source": [
    "torch.argmax(c.logits[3, 0])"
   ]
  },
  {
   "cell_type": "code",
   "execution_count": 10,
   "id": "51f78706-9973-44f8-807a-6f17fd254fc6",
   "metadata": {},
   "outputs": [
    {
     "data": {
      "image/png": "[encoded data removed]",
      "text/plain": [
       "<Figure size 500x320 with 1 Axes>"
      ]
     },
     "metadata": {},
     "output_type": "display_data"
    }
   ],
   "source": [
    "plt.stem(c.logits[3, 0]);"
   ]
  },
  {
   "cell_type": "code",
   "execution_count": 11,
   "id": "a4b43532-fde1-4e6d-b5a1-103e5fe4ce7d",
   "metadata": {},
   "outputs": [
    {
     "data": {
      "text/plain": [
       "array([0.005, 0.002, 0.   , 0.   , 0.113, 0.035, 0.004, 0.   , 0.   ,\n",
       "       0.841])"
      ]
     },
     "execution_count": 11,
     "metadata": {},
     "output_type": "execute_result"
    }
   ],
   "source": [
    "np.round(tonp(c.probs[3, 0]).astype(float), 3)"
   ]
  },
  {
   "cell_type": "code",
   "execution_count": 12,
   "id": "f4475ca6-a971-4275-9309-76f643fc5bff",
   "metadata": {},
   "outputs": [
    {
     "data": {
      "text/plain": [
       "Counter({0.0: 5877,\n",
       "         1e-07: 1008,\n",
       "         2e-07: 510,\n",
       "         3e-07: 308,\n",
       "         4e-07: 284,\n",
       "         5e-07: 232,\n",
       "         6e-07: 183,\n",
       "         7e-07: 138,\n",
       "         9e-07: 124,\n",
       "         8e-07: 120,\n",
       "         1e-06: 108,\n",
       "         1.1e-06: 101,\n",
       "         1.4e-06: 97,\n",
       "         1.2e-06: 93,\n",
       "         1.5e-06: 71,\n",
       "         1.6e-06: 68,\n",
       "         1.3e-06: 66,\n",
       "         1.7e-06: 64,\n",
       "         1.9e-06: 62,\n",
       "         2.1e-06: 59,\n",
       "         1.8e-06: 59,\n",
       "         2e-06: 56,\n",
       "         2.3e-06: 55,\n",
       "         2.5e-06: 55,\n",
       "         2.2e-06: 54,\n",
       "         2.7e-06: 49,\n",
       "         4e-06: 47,\n",
       "         3.1e-06: 47,\n",
       "         2.9e-06: 44,\n",
       "         3e-06: 43,\n",
       "         3.3e-06: 41,\n",
       "         2.8e-06: 40,\n",
       "         4.1e-06: 40,\n",
       "         3.2e-06: 40,\n",
       "         2.6e-06: 39,\n",
       "         2.4e-06: 35,\n",
       "         3.8e-06: 33,\n",
       "         3.6e-06: 32,\n",
       "         4.2e-06: 31,\n",
       "         4.3e-06: 29,\n",
       "         4.6e-06: 28,\n",
       "         3.4e-06: 28,\n",
       "         5e-06: 28,\n",
       "         4.9e-06: 27,\n",
       "         3.9e-06: 27,\n",
       "         7.6e-06: 27,\n",
       "         3.7e-06: 27,\n",
       "         5.2e-06: 27,\n",
       "         4.5e-06: 26,\n",
       "         6.7e-06: 26,\n",
       "         4.4e-06: 25,\n",
       "         5.4e-06: 24,\n",
       "         3.5e-06: 24,\n",
       "         5.9e-06: 24,\n",
       "         5.1e-06: 24,\n",
       "         7.3e-06: 23,\n",
       "         9.5e-06: 22,\n",
       "         4.7e-06: 22,\n",
       "         5.6e-06: 21,\n",
       "         4.8e-06: 21,\n",
       "         6e-06: 20,\n",
       "         6.9e-06: 20,\n",
       "         1.06e-05: 19,\n",
       "         8.5e-06: 19,\n",
       "         7.5e-06: 19,\n",
       "         8.4e-06: 19,\n",
       "         6.1e-06: 18,\n",
       "         7.1e-06: 18,\n",
       "         5.7e-06: 18,\n",
       "         7.2e-06: 18,\n",
       "         7.9e-06: 17,\n",
       "         6.2e-06: 17,\n",
       "         5.8e-06: 17,\n",
       "         5.3e-06: 17,\n",
       "         1.37e-05: 16,\n",
       "         1.12e-05: 16,\n",
       "         9.7e-06: 16,\n",
       "         5.5e-06: 16,\n",
       "         9.8e-06: 15,\n",
       "         7.4e-06: 15,\n",
       "         6.5e-06: 15,\n",
       "         9e-06: 15,\n",
       "         7e-06: 15,\n",
       "         1e-05: 14,\n",
       "         6.6e-06: 14,\n",
       "         6.3e-06: 14,\n",
       "         1.1e-05: 14,\n",
       "         7.7e-06: 14,\n",
       "         1.04e-05: 14,\n",
       "         1.07e-05: 14,\n",
       "         8e-06: 14,\n",
       "         7.8e-06: 13,\n",
       "         1.02e-05: 13,\n",
       "         8.2e-06: 13,\n",
       "         1.01e-05: 13,\n",
       "         8.8e-06: 13,\n",
       "         1.65e-05: 13,\n",
       "         1.0: 12,\n",
       "         1.42e-05: 12,\n",
       "         9.2e-06: 12,\n",
       "         8.1e-06: 12,\n",
       "         9.9e-06: 12,\n",
       "         8.3e-06: 12,\n",
       "         6.4e-06: 12,\n",
       "         8.6e-06: 12,\n",
       "         1.44e-05: 12,\n",
       "         9.4e-06: 12,\n",
       "         1.4e-05: 12,\n",
       "         1.19e-05: 12,\n",
       "         1.79e-05: 12,\n",
       "         3.13e-05: 11,\n",
       "         1.27e-05: 11,\n",
       "         1.18e-05: 11,\n",
       "         1.08e-05: 11,\n",
       "         1.21e-05: 11,\n",
       "         1.73e-05: 11,\n",
       "         6.8e-06: 11,\n",
       "         1.6e-05: 10,\n",
       "         9.3e-06: 10,\n",
       "         1.25e-05: 10,\n",
       "         1.16e-05: 10,\n",
       "         1.34e-05: 10,\n",
       "         1.76e-05: 10,\n",
       "         8.7e-06: 10,\n",
       "         8.9e-06: 10,\n",
       "         1.14e-05: 10,\n",
       "         1.13e-05: 10,\n",
       "         2.16e-05: 10,\n",
       "         1.61e-05: 10,\n",
       "         1.47e-05: 10,\n",
       "         1.53e-05: 9,\n",
       "         1.64e-05: 9,\n",
       "         2.44e-05: 9,\n",
       "         1.24e-05: 9,\n",
       "         1.15e-05: 9,\n",
       "         1.77e-05: 9,\n",
       "         2.18e-05: 9,\n",
       "         3.91e-05: 9,\n",
       "         1.49e-05: 9,\n",
       "         2.07e-05: 9,\n",
       "         1.2e-05: 9,\n",
       "         5.22e-05: 9,\n",
       "         1.38e-05: 9,\n",
       "         2.34e-05: 9,\n",
       "         1.23e-05: 9,\n",
       "         1.48e-05: 9,\n",
       "         1.52e-05: 9,\n",
       "         1.54e-05: 9,\n",
       "         1.11e-05: 9,\n",
       "         9.6e-06: 9,\n",
       "         1.39e-05: 9,\n",
       "         1.03e-05: 8,\n",
       "         1.97e-05: 8,\n",
       "         2.31e-05: 8,\n",
       "         1.66e-05: 8,\n",
       "         1.26e-05: 8,\n",
       "         1.45e-05: 8,\n",
       "         1.57e-05: 8,\n",
       "         2.43e-05: 8,\n",
       "         3.14e-05: 8,\n",
       "         2.84e-05: 8,\n",
       "         3.02e-05: 8,\n",
       "         3.89e-05: 8,\n",
       "         2.83e-05: 8,\n",
       "         2.38e-05: 8,\n",
       "         2.66e-05: 8,\n",
       "         1.93e-05: 8,\n",
       "         4.53e-05: 8,\n",
       "         9.1e-06: 8,\n",
       "         1.22e-05: 8,\n",
       "         2.22e-05: 8,\n",
       "         2.02e-05: 8,\n",
       "         1.3e-05: 8,\n",
       "         1.89e-05: 8,\n",
       "         1.28e-05: 8,\n",
       "         1.98e-05: 8,\n",
       "         2.97e-05: 8,\n",
       "         1.17e-05: 8,\n",
       "         1.5e-05: 8,\n",
       "         2.85e-05: 8,\n",
       "         1.81e-05: 7,\n",
       "         1.71e-05: 7,\n",
       "         3.24e-05: 7,\n",
       "         1.99e-05: 7,\n",
       "         3.04e-05: 7,\n",
       "         2.35e-05: 7,\n",
       "         2.28e-05: 7,\n",
       "         1.69e-05: 7,\n",
       "         1.09e-05: 7,\n",
       "         1.68e-05: 7,\n",
       "         1.94e-05: 7,\n",
       "         3.3e-05: 7,\n",
       "         2.52e-05: 7,\n",
       "         1.56e-05: 7,\n",
       "         3.46e-05: 7,\n",
       "         1.72e-05: 7,\n",
       "         1.51e-05: 7,\n",
       "         1.7e-05: 7,\n",
       "         2.61e-05: 7,\n",
       "         1.43e-05: 7,\n",
       "         2.96e-05: 7,\n",
       "         3.12e-05: 7,\n",
       "         1.32e-05: 7,\n",
       "         2.75e-05: 7,\n",
       "         3.47e-05: 7,\n",
       "         1.33e-05: 7,\n",
       "         1.78e-05: 6,\n",
       "         1.29e-05: 6,\n",
       "         0.0001044: 6,\n",
       "         1.75e-05: 6,\n",
       "         3.81e-05: 6,\n",
       "         3.21e-05: 6,\n",
       "         3.4e-05: 6,\n",
       "         4.38e-05: 6,\n",
       "         8.93e-05: 6,\n",
       "         3.95e-05: 6,\n",
       "         1.55e-05: 6,\n",
       "         3.05e-05: 6,\n",
       "         3.25e-05: 6,\n",
       "         2.36e-05: 6,\n",
       "         1.59e-05: 6,\n",
       "         3.07e-05: 6,\n",
       "         1.88e-05: 6,\n",
       "         4.99e-05: 6,\n",
       "         3.7e-05: 6,\n",
       "         2e-05: 6,\n",
       "         3.51e-05: 6,\n",
       "         1.74e-05: 6,\n",
       "         3.03e-05: 6,\n",
       "         2.98e-05: 6,\n",
       "         4.13e-05: 6,\n",
       "         2.46e-05: 6,\n",
       "         2.71e-05: 6,\n",
       "         5.87e-05: 6,\n",
       "         2.08e-05: 6,\n",
       "         3.62e-05: 6,\n",
       "         2.49e-05: 6,\n",
       "         2.54e-05: 6,\n",
       "         9.27e-05: 6,\n",
       "         2.23e-05: 5,\n",
       "         1.8e-05: 5,\n",
       "         3.53e-05: 5,\n",
       "         8.6e-05: 5,\n",
       "         5.15e-05: 5,\n",
       "         2.15e-05: 5,\n",
       "         2.03e-05: 5,\n",
       "         3.06e-05: 5,\n",
       "         6.09e-05: 5,\n",
       "         3.01e-05: 5,\n",
       "         2.88e-05: 5,\n",
       "         6.6e-05: 5,\n",
       "         6.75e-05: 5,\n",
       "         6.73e-05: 5,\n",
       "         2.09e-05: 5,\n",
       "         1.82e-05: 5,\n",
       "         6.57e-05: 5,\n",
       "         1.86e-05: 5,\n",
       "         4.68e-05: 5,\n",
       "         2.19e-05: 5,\n",
       "         2.56e-05: 5,\n",
       "         5.21e-05: 5,\n",
       "         4.63e-05: 5,\n",
       "         3.44e-05: 5,\n",
       "         4.03e-05: 5,\n",
       "         2.99e-05: 5,\n",
       "         2.93e-05: 5,\n",
       "         1.9e-05: 5,\n",
       "         0.0002883: 5,\n",
       "         1.84e-05: 5,\n",
       "         7.3e-05: 5,\n",
       "         4.02e-05: 5,\n",
       "         4.94e-05: 5,\n",
       "         1.31e-05: 5,\n",
       "         8.79e-05: 5,\n",
       "         3.8e-05: 5,\n",
       "         5.07e-05: 5,\n",
       "         2.45e-05: 5,\n",
       "         3.79e-05: 5,\n",
       "         3.97e-05: 5,\n",
       "         7.47e-05: 5,\n",
       "         2.33e-05: 5,\n",
       "         4.84e-05: 5,\n",
       "         2.05e-05: 5,\n",
       "         4.16e-05: 5,\n",
       "         3.33e-05: 5,\n",
       "         2.95e-05: 5,\n",
       "         2.86e-05: 5,\n",
       "         2.1e-05: 5,\n",
       "         3.56e-05: 5,\n",
       "         2.78e-05: 5,\n",
       "         1.05e-05: 5,\n",
       "         1.41e-05: 5,\n",
       "         2.01e-05: 5,\n",
       "         2.41e-05: 5,\n",
       "         3.28e-05: 5,\n",
       "         2.53e-05: 5,\n",
       "         4.18e-05: 5,\n",
       "         2.13e-05: 5,\n",
       "         2.4e-05: 5,\n",
       "         2.37e-05: 5,\n",
       "         6.37e-05: 5,\n",
       "         2.77e-05: 5,\n",
       "         5.14e-05: 5,\n",
       "         3.45e-05: 5,\n",
       "         8.03e-05: 5,\n",
       "         3.08e-05: 5,\n",
       "         3.96e-05: 5,\n",
       "         7.99e-05: 4,\n",
       "         3.86e-05: 4,\n",
       "         4.4e-05: 4,\n",
       "         3e-05: 4,\n",
       "         1.83e-05: 4,\n",
       "         0.0001183: 4,\n",
       "         4.28e-05: 4,\n",
       "         6.56e-05: 4,\n",
       "         5.9e-05: 4,\n",
       "         3.77e-05: 4,\n",
       "         6.06e-05: 4,\n",
       "         2.48e-05: 4,\n",
       "         1.91e-05: 4,\n",
       "         2.39e-05: 4,\n",
       "         4.33e-05: 4,\n",
       "         4.24e-05: 4,\n",
       "         0.0002052: 4,\n",
       "         8.56e-05: 4,\n",
       "         7.61e-05: 4,\n",
       "         3.29e-05: 4,\n",
       "         5.24e-05: 4,\n",
       "         3.52e-05: 4,\n",
       "         1.62e-05: 4,\n",
       "         5.99e-05: 4,\n",
       "         5.69e-05: 4,\n",
       "         5.08e-05: 4,\n",
       "         1.35e-05: 4,\n",
       "         7.46e-05: 4,\n",
       "         4.6e-05: 4,\n",
       "         5.12e-05: 4,\n",
       "         1.95e-05: 4,\n",
       "         4.19e-05: 4,\n",
       "         2.04e-05: 4,\n",
       "         2.12e-05: 4,\n",
       "         6.65e-05: 4,\n",
       "         4.98e-05: 4,\n",
       "         4.42e-05: 4,\n",
       "         3.19e-05: 4,\n",
       "         2.25e-05: 4,\n",
       "         5.06e-05: 4,\n",
       "         0.9999995: 4,\n",
       "         6.12e-05: 4,\n",
       "         2.74e-05: 4,\n",
       "         2.14e-05: 4,\n",
       "         7.66e-05: 4,\n",
       "         2.26e-05: 4,\n",
       "         3.83e-05: 4,\n",
       "         0.9999998: 4,\n",
       "         6.89e-05: 4,\n",
       "         2.76e-05: 4,\n",
       "         7.07e-05: 4,\n",
       "         4.8e-05: 4,\n",
       "         0.0001064: 4,\n",
       "         5.61e-05: 4,\n",
       "         3.78e-05: 4,\n",
       "         8.01e-05: 4,\n",
       "         0.000127: 4,\n",
       "         2.51e-05: 4,\n",
       "         0.0002813: 4,\n",
       "         4.93e-05: 4,\n",
       "         8.19e-05: 4,\n",
       "         2.47e-05: 4,\n",
       "         9.87e-05: 4,\n",
       "         2.89e-05: 4,\n",
       "         2.73e-05: 4,\n",
       "         4.56e-05: 4,\n",
       "         8.11e-05: 4,\n",
       "         0.999999: 4,\n",
       "         5.98e-05: 4,\n",
       "         3.61e-05: 4,\n",
       "         6.33e-05: 4,\n",
       "         7.02e-05: 4,\n",
       "         5.16e-05: 4,\n",
       "         1.67e-05: 4,\n",
       "         6.49e-05: 4,\n",
       "         0.0001234: 4,\n",
       "         3.48e-05: 4,\n",
       "         5.83e-05: 4,\n",
       "         0.0001231: 4,\n",
       "         3.26e-05: 4,\n",
       "         7.35e-05: 4,\n",
       "         1.92e-05: 4,\n",
       "         8.14e-05: 4,\n",
       "         8.23e-05: 4,\n",
       "         1.58e-05: 4,\n",
       "         2.72e-05: 4,\n",
       "         4.77e-05: 4,\n",
       "         2.63e-05: 4,\n",
       "         2.17e-05: 4,\n",
       "         3.59e-05: 4,\n",
       "         4.81e-05: 4,\n",
       "         2.64e-05: 4,\n",
       "         3.16e-05: 4,\n",
       "         3.15e-05: 4,\n",
       "         3.54e-05: 4,\n",
       "         2.06e-05: 4,\n",
       "         0.9999985: 4,\n",
       "         0.0002613: 4,\n",
       "         3.11e-05: 4,\n",
       "         6.02e-05: 3,\n",
       "         6.74e-05: 3,\n",
       "         7.1e-05: 3,\n",
       "         4.71e-05: 3,\n",
       "         9.02e-05: 3,\n",
       "         1.36e-05: 3,\n",
       "         6.1e-05: 3,\n",
       "         0.0001004: 3,\n",
       "         0.0001808: 3,\n",
       "         3.2e-05: 3,\n",
       "         7.51e-05: 3,\n",
       "         9.38e-05: 3,\n",
       "         5.79e-05: 3,\n",
       "         8.77e-05: 3,\n",
       "         0.0001264: 3,\n",
       "         5.1e-05: 3,\n",
       "         3.72e-05: 3,\n",
       "         0.9999971: 3,\n",
       "         5.37e-05: 3,\n",
       "         0.9999989: 3,\n",
       "         0.0002105: 3,\n",
       "         0.0002532: 3,\n",
       "         0.0003605: 3,\n",
       "         3.64e-05: 3,\n",
       "         7.03e-05: 3,\n",
       "         3.9e-05: 3,\n",
       "         0.000159: 3,\n",
       "         0.0002074: 3,\n",
       "         0.0001013: 3,\n",
       "         4.61e-05: 3,\n",
       "         5.68e-05: 3,\n",
       "         0.0001313: 3,\n",
       "         3.6e-05: 3,\n",
       "         0.0002249: 3,\n",
       "         0.0006942: 3,\n",
       "         4.5e-05: 3,\n",
       "         6.88e-05: 3,\n",
       "         6.17e-05: 3,\n",
       "         0.0002162: 3,\n",
       "         1.87e-05: 3,\n",
       "         3.38e-05: 3,\n",
       "         6.91e-05: 3,\n",
       "         5.5e-05: 3,\n",
       "         5.42e-05: 3,\n",
       "         7.86e-05: 3,\n",
       "         5.49e-05: 3,\n",
       "         3.18e-05: 3,\n",
       "         8.38e-05: 3,\n",
       "         7.55e-05: 3,\n",
       "         0.0001156: 3,\n",
       "         0.0004598: 3,\n",
       "         3.42e-05: 3,\n",
       "         0.0001331: 3,\n",
       "         5.82e-05: 3,\n",
       "         8.21e-05: 3,\n",
       "         0.0001825: 3,\n",
       "         0.0001469: 3,\n",
       "         7.21e-05: 3,\n",
       "         0.0002005: 3,\n",
       "         4.73e-05: 3,\n",
       "         0.0001704: 3,\n",
       "         2.9e-05: 3,\n",
       "         5.33e-05: 3,\n",
       "         5.84e-05: 3,\n",
       "         0.0001366: 3,\n",
       "         0.0001676: 3,\n",
       "         3.58e-05: 3,\n",
       "         2.42e-05: 3,\n",
       "         5.81e-05: 3,\n",
       "         0.0002663: 3,\n",
       "         4.36e-05: 3,\n",
       "         0.0001081: 3,\n",
       "         2.8e-05: 3,\n",
       "         3.22e-05: 3,\n",
       "         0.000153: 3,\n",
       "         0.000207: 3,\n",
       "         8.48e-05: 3,\n",
       "         7.29e-05: 3,\n",
       "         2.7e-05: 3,\n",
       "         5.77e-05: 3,\n",
       "         6.34e-05: 3,\n",
       "         5.19e-05: 3,\n",
       "         5.95e-05: 3,\n",
       "         5.54e-05: 3,\n",
       "         1.85e-05: 3,\n",
       "         2.21e-05: 3,\n",
       "         3.27e-05: 3,\n",
       "         6.07e-05: 3,\n",
       "         0.0001296: 3,\n",
       "         5.03e-05: 3,\n",
       "         0.0001991: 3,\n",
       "         2.92e-05: 3,\n",
       "         0.0001818: 3,\n",
       "         1.96e-05: 3,\n",
       "         0.000133: 3,\n",
       "         7.95e-05: 3,\n",
       "         7.69e-05: 3,\n",
       "         5.74e-05: 3,\n",
       "         4.26e-05: 3,\n",
       "         9.75e-05: 3,\n",
       "         0.0001361: 3,\n",
       "         4.41e-05: 3,\n",
       "         8.18e-05: 3,\n",
       "         8.87e-05: 3,\n",
       "         2.55e-05: 3,\n",
       "         0.0001667: 3,\n",
       "         7.39e-05: 3,\n",
       "         9.65e-05: 3,\n",
       "         8.2e-05: 3,\n",
       "         7.12e-05: 3,\n",
       "         7.71e-05: 3,\n",
       "         0.0001846: 3,\n",
       "         2.94e-05: 3,\n",
       "         5.65e-05: 3,\n",
       "         0.0001625: 3,\n",
       "         0.0002909: 3,\n",
       "         5.53e-05: 3,\n",
       "         0.0001109: 3,\n",
       "         0.0001084: 3,\n",
       "         7.58e-05: 3,\n",
       "         0.0002023: 3,\n",
       "         4.9e-05: 3,\n",
       "         8.35e-05: 3,\n",
       "         9.21e-05: 3,\n",
       "         0.0001591: 3,\n",
       "         3.98e-05: 3,\n",
       "         6.63e-05: 3,\n",
       "         4.1e-05: 3,\n",
       "         0.0001052: 3,\n",
       "         1.46e-05: 3,\n",
       "         3.09e-05: 3,\n",
       "         4.78e-05: 3,\n",
       "         0.0001026: 3,\n",
       "         0.000233: 3,\n",
       "         8.02e-05: 3,\n",
       "         0.000128: 3,\n",
       "         0.9999928: 3,\n",
       "         4.82e-05: 3,\n",
       "         6.64e-05: 3,\n",
       "         0.0002785: 3,\n",
       "         3.35e-05: 3,\n",
       "         0.0001228: 3,\n",
       "         9.78e-05: 3,\n",
       "         0.0001439: 3,\n",
       "         2.81e-05: 3,\n",
       "         7.33e-05: 3,\n",
       "         0.0003273: 3,\n",
       "         0.9999905: 3,\n",
       "         3.57e-05: 3,\n",
       "         7.36e-05: 3,\n",
       "         3.88e-05: 3,\n",
       "         7.88e-05: 3,\n",
       "         0.0001277: 3,\n",
       "         5.26e-05: 3,\n",
       "         0.0001544: 3,\n",
       "         5.04e-05: 3,\n",
       "         2.27e-05: 3,\n",
       "         2.24e-05: 3,\n",
       "         4e-05: 3,\n",
       "         2.2e-05: 3,\n",
       "         0.000164: 3,\n",
       "         0.0001281: 3,\n",
       "         3.71e-05: 3,\n",
       "         7.34e-05: 3,\n",
       "         0.0001681: 3,\n",
       "         4.57e-05: 3,\n",
       "         6.71e-05: 3,\n",
       "         0.0001015: 3,\n",
       "         7.05e-05: 3,\n",
       "         0.0001077: 3,\n",
       "         4.64e-05: 3,\n",
       "         5.55e-05: 3,\n",
       "         5.73e-05: 3,\n",
       "         0.0001124: 3,\n",
       "         5.34e-05: 3,\n",
       "         3.5e-05: 3,\n",
       "         0.9999994: 3,\n",
       "         0.0001606: 3,\n",
       "         2.5e-05: 3,\n",
       "         4.52e-05: 3,\n",
       "         5.09e-05: 3,\n",
       "         4.14e-05: 3,\n",
       "         5.76e-05: 3,\n",
       "         4.7e-05: 3,\n",
       "         0.000102: 3,\n",
       "         0.0013493: 3,\n",
       "         0.0003139: 3,\n",
       "         7.48e-05: 3,\n",
       "         0.0001014: 3,\n",
       "         4.37e-05: 3,\n",
       "         6.44e-05: 3,\n",
       "         0.0001176: 3,\n",
       "         0.0001557: 3,\n",
       "         7.7e-05: 3,\n",
       "         0.0004261: 2,\n",
       "         0.0003794: 2,\n",
       "         0.0008613: 2,\n",
       "         0.0018336: 2,\n",
       "         8.71e-05: 2,\n",
       "         0.0005874: 2,\n",
       "         7.81e-05: 2,\n",
       "         0.0010216: 2,\n",
       "         0.0003038: 2,\n",
       "         0.0001016: 2,\n",
       "         5.51e-05: 2,\n",
       "         0.0002413: 2,\n",
       "         3.65e-05: 2,\n",
       "         6.16e-05: 2,\n",
       "         5.86e-05: 2,\n",
       "         9.41e-05: 2,\n",
       "         0.000243: 2,\n",
       "         0.0005075: 2,\n",
       "         4.09e-05: 2,\n",
       "         0.9999771: 2,\n",
       "         8.58e-05: 2,\n",
       "         0.0002101: 2,\n",
       "         0.0003048: 2,\n",
       "         0.0001355: 2,\n",
       "         7.77e-05: 2,\n",
       "         0.0001337: 2,\n",
       "         0.0001783: 2,\n",
       "         0.0002507: 2,\n",
       "         0.0002286: 2,\n",
       "         2.11e-05: 2,\n",
       "         0.0002069: 2,\n",
       "         9.12e-05: 2,\n",
       "         8.27e-05: 2,\n",
       "         0.0002914: 2,\n",
       "         4.51e-05: 2,\n",
       "         0.0006058: 2,\n",
       "         5.25e-05: 2,\n",
       "         0.0014629: 2,\n",
       "         4.31e-05: 2,\n",
       "         0.0001181: 2,\n",
       "         0.0002578: 2,\n",
       "         0.0009203: 2,\n",
       "         0.0001842: 2,\n",
       "         5.17e-05: 2,\n",
       "         0.0001447: 2,\n",
       "         0.0001365: 2,\n",
       "         0.0002148: 2,\n",
       "         0.0001387: 2,\n",
       "         0.000441: 2,\n",
       "         0.0006316: 2,\n",
       "         0.0001947: 2,\n",
       "         0.0002887: 2,\n",
       "         6.77e-05: 2,\n",
       "         0.0001304: 2,\n",
       "         9.4e-05: 2,\n",
       "         0.0002193: 2,\n",
       "         0.0001613: 2,\n",
       "         7.43e-05: 2,\n",
       "         0.999972: 2,\n",
       "         4.66e-05: 2,\n",
       "         0.9999952: 2,\n",
       "         0.0001063: 2,\n",
       "         2.62e-05: 2,\n",
       "         0.0001074: 2,\n",
       "         5.64e-05: 2,\n",
       "         0.0001755: 2,\n",
       "         0.0001984: 2,\n",
       "         0.0004839: 2,\n",
       "         0.0001002: 2,\n",
       "         0.0001624: 2,\n",
       "         0.0001843: 2,\n",
       "         0.0001204: 2,\n",
       "         0.0001751: 2,\n",
       "         0.0002287: 2,\n",
       "         0.0001075: 2,\n",
       "         0.0011207: 2,\n",
       "         0.0002339: 2,\n",
       "         0.0039906: 2,\n",
       "         0.0010208: 2,\n",
       "         7.63e-05: 2,\n",
       "         0.0004203: 2,\n",
       "         0.0004794: 2,\n",
       "         0.0005151: 2,\n",
       "         0.000183: 2,\n",
       "         0.0003262: 2,\n",
       "         0.0004012: 2,\n",
       "         0.0018554: 2,\n",
       "         4.15e-05: 2,\n",
       "         2.82e-05: 2,\n",
       "         6.13e-05: 2,\n",
       "         5.85e-05: 2,\n",
       "         0.0002901: 2,\n",
       "         0.0001011: 2,\n",
       "         0.0001395: 2,\n",
       "         0.0006849: 2,\n",
       "         0.0003873: 2,\n",
       "         0.0004103: 2,\n",
       "         4.87e-05: 2,\n",
       "         0.001979: 2,\n",
       "         6.41e-05: 2,\n",
       "         0.0013946: 2,\n",
       "         0.0008144: 2,\n",
       "         0.0003841: 2,\n",
       "         0.0001242: 2,\n",
       "         0.0002163: 2,\n",
       "         8.49e-05: 2,\n",
       "         0.0001669: 2,\n",
       "         3.93e-05: 2,\n",
       "         4.75e-05: 2,\n",
       "         0.000819: 2,\n",
       "         0.0001446: 2,\n",
       "         0.0001033: 2,\n",
       "         0.0004337: 2,\n",
       "         0.0001086: 2,\n",
       "         0.0001936: 2,\n",
       "         0.0046002: 2,\n",
       "         0.0001305: 2,\n",
       "         0.0003006: 2,\n",
       "         9e-05: 2,\n",
       "         0.0033005: 2,\n",
       "         0.0002297: 2,\n",
       "         7.09e-05: 2,\n",
       "         0.0004472: 2,\n",
       "         0.0001607: 2,\n",
       "         0.00029: 2,\n",
       "         0.0001083: 2,\n",
       "         0.0002879: 2,\n",
       "         0.000103: 2,\n",
       "         0.0002166: 2,\n",
       "         0.0004657: 2,\n",
       "         0.0001789: 2,\n",
       "         0.0001738: 2,\n",
       "         0.0022555: 2,\n",
       "         0.0177787: 2,\n",
       "         0.9999976: 2,\n",
       "         9.28e-05: 2,\n",
       "         6.81e-05: 2,\n",
       "         0.0001473: 2,\n",
       "         0.001125: 2,\n",
       "         0.0002725: 2,\n",
       "         0.0001677: 2,\n",
       "         0.0008256: 2,\n",
       "         2.29e-05: 2,\n",
       "         6.84e-05: 2,\n",
       "         8.12e-05: 2,\n",
       "         0.0007821: 2,\n",
       "         0.0007601: 2,\n",
       "         4.45e-05: 2,\n",
       "         9.95e-05: 2,\n",
       "         1e-04: 2,\n",
       "         0.9999986: 2,\n",
       "         8.98e-05: 2,\n",
       "         0.0001505: 2,\n",
       "         0.0019611: 2,\n",
       "         0.0002029: 2,\n",
       "         0.0004119: 2,\n",
       "         2.91e-05: 2,\n",
       "         0.0014493: 2,\n",
       "         0.0002467: 2,\n",
       "         0.0006486: 2,\n",
       "         0.000129: 2,\n",
       "         0.0011059: 2,\n",
       "         0.0017724: 2,\n",
       "         0.0004788: 2,\n",
       "         0.0001129: 2,\n",
       "         0.000534: 2,\n",
       "         0.000332: 2,\n",
       "         0.0001757: 2,\n",
       "         4.32e-05: 2,\n",
       "         0.0007241: 2,\n",
       "         0.0001041: 2,\n",
       "         0.0004958: 2,\n",
       "         0.000144: 2,\n",
       "         6.42e-05: 2,\n",
       "         0.0001776: 2,\n",
       "         0.0003939: 2,\n",
       "         0.0003164: 2,\n",
       "         0.0004624: 2,\n",
       "         0.0005657: 2,\n",
       "         0.001942: 2,\n",
       "         9.04e-05: 2,\n",
       "         0.0001568: 2,\n",
       "         0.0005385: 2,\n",
       "         0.0001882: 2,\n",
       "         0.0001143: 2,\n",
       "         0.000143: 2,\n",
       "         7.28e-05: 2,\n",
       "         0.00084: 2,\n",
       "         4.59e-05: 2,\n",
       "         0.0001184: 2,\n",
       "         7.75e-05: 2,\n",
       "         3.76e-05: 2,\n",
       "         0.0003904: 2,\n",
       "         0.0001865: 2,\n",
       "         0.0001774: 2,\n",
       "         0.0015674: 2,\n",
       "         0.0001189: 2,\n",
       "         0.0001618: 2,\n",
       "         7.72e-05: 2,\n",
       "         0.0001057: 2,\n",
       "         6.38e-05: 2,\n",
       "         0.000105: 2,\n",
       "         0.0033271: 2,\n",
       "         0.0001262: 2,\n",
       "         0.0018767: 2,\n",
       "         5.13e-05: 2,\n",
       "         5.28e-05: 2,\n",
       "         0.0005044: 2,\n",
       "         0.000139: 2,\n",
       "         0.0002438: 2,\n",
       "         5.23e-05: 2,\n",
       "         9.23e-05: 2,\n",
       "         0.0002956: 2,\n",
       "         8.62e-05: 2,\n",
       "         9.46e-05: 2,\n",
       "         0.9993455: 2,\n",
       "         0.0001131: 2,\n",
       "         7.6e-05: 2,\n",
       "         0.0016153: 2,\n",
       "         8.15e-05: 2,\n",
       "         2.58e-05: 2,\n",
       "         0.0001766: 2,\n",
       "         0.0005648: 2,\n",
       "         9.86e-05: 2,\n",
       "         0.0002143: 2,\n",
       "         0.000136: 2,\n",
       "         0.000319: 2,\n",
       "         0.000149: 2,\n",
       "         6.8e-05: 2,\n",
       "         0.0001631: 2,\n",
       "         0.0001637: 2,\n",
       "         0.0001916: 2,\n",
       "         9.72e-05: 2,\n",
       "         0.0002721: 2,\n",
       "         0.0001148: 2,\n",
       "         6.76e-05: 2,\n",
       "         0.0002041: 2,\n",
       "         0.0003665: 2,\n",
       "         0.0001484: 2,\n",
       "         0.0002014: 2,\n",
       "         9.8e-05: 2,\n",
       "         3.75e-05: 2,\n",
       "         9.42e-05: 2,\n",
       "         0.0003596: 2,\n",
       "         0.0001922: 2,\n",
       "         0.0004647: 2,\n",
       "         0.0001318: 2,\n",
       "         0.0002727: 2,\n",
       "         0.0001752: 2,\n",
       "         0.0005081: 2,\n",
       "         0.0001881: 2,\n",
       "         0.000768: 2,\n",
       "         0.0005295: 2,\n",
       "         0.0002861: 2,\n",
       "         0.0002117: 2,\n",
       "         0.0001957: 2,\n",
       "         0.0011995: 2,\n",
       "         0.0001504: 2,\n",
       "         0.0001908: 2,\n",
       "         0.0037136: 2,\n",
       "         6.46e-05: 2,\n",
       "         0.0007617: 2,\n",
       "         4.95e-05: 2,\n",
       "         6.94e-05: 2,\n",
       "         0.000683: 2,\n",
       "         0.0001191: 2,\n",
       "         7.2e-05: 2,\n",
       "         0.9999938: 2,\n",
       "         9.93e-05: 2,\n",
       "         0.0008372: 2,\n",
       "         4.69e-05: 2,\n",
       "         0.0003281: 2,\n",
       "         0.000232: 2,\n",
       "         3.66e-05: 2,\n",
       "         9.03e-05: 2,\n",
       "         0.0001023: 2,\n",
       "         0.0001556: 2,\n",
       "         0.000131: 2,\n",
       "         7.25e-05: 2,\n",
       "         0.0004842: 2,\n",
       "         0.0006391: 2,\n",
       "         0.0001561: 2,\n",
       "         0.001321: 2,\n",
       "         6.36e-05: 2,\n",
       "         0.000799: 2,\n",
       "         0.0012829: 2,\n",
       "         0.0007091: 2,\n",
       "         0.0005131: 2,\n",
       "         0.0067475: 2,\n",
       "         0.0001996: 2,\n",
       "         0.0004763: 2,\n",
       "         0.0050666: 2,\n",
       "         0.0007113: 2,\n",
       "         0.0003951: 2,\n",
       "         4.83e-05: 2,\n",
       "         3.34e-05: 2,\n",
       "         0.0001401: 2,\n",
       "         0.0021043: 2,\n",
       "         7.31e-05: 2,\n",
       "         7.84e-05: 2,\n",
       "         8.83e-05: 2,\n",
       "         0.000162: 2,\n",
       "         5.92e-05: 2,\n",
       "         0.0001146: 2,\n",
       "         0.0086736: 2,\n",
       "         0.0019698: 2,\n",
       "         0.001761: 2,\n",
       "         0.0001235: 2,\n",
       "         5.66e-05: 2,\n",
       "         8.78e-05: 2,\n",
       "         0.0001508: 2,\n",
       "         0.0020138: 2,\n",
       "         0.000124: 2,\n",
       "         0.0011774: 2,\n",
       "         0.9988029: 2,\n",
       "         0.9999729: 2,\n",
       "         0.0013103: 2,\n",
       "         8.22e-05: 2,\n",
       "         0.0001207: 2,\n",
       "         3.32e-05: 2,\n",
       "         0.000175: 2,\n",
       "         0.0002173: 2,\n",
       "         0.00032: 2,\n",
       "         0.0003676: 2,\n",
       "         5.97e-05: 2,\n",
       "         5.7e-05: 2,\n",
       "         9.85e-05: 2,\n",
       "         7.13e-05: 2,\n",
       "         0.0003565: 2,\n",
       "         7.42e-05: 2,\n",
       "         0.0002428: 2,\n",
       "         0.0001479: 2,\n",
       "         7.67e-05: 2,\n",
       "         3.94e-05: 2,\n",
       "         7.87e-05: 2,\n",
       "         0.0002159: 2,\n",
       "         0.0003454: 2,\n",
       "         2.57e-05: 2,\n",
       "         0.0002773: 2,\n",
       "         5.91e-05: 2,\n",
       "         0.0001203: 2,\n",
       "         0.0001441: 2,\n",
       "         0.0008945: 2,\n",
       "         5.41e-05: 2,\n",
       "         0.0002625: 2,\n",
       "         2.68e-05: 2,\n",
       "         0.0004373: 2,\n",
       "         0.0018575: 2,\n",
       "         0.0001166: 2,\n",
       "         5.72e-05: 2,\n",
       "         0.000805: 2,\n",
       "         0.0013682: 2,\n",
       "         0.0008731: 2,\n",
       "         2.65e-05: 2,\n",
       "         0.0001035: 2,\n",
       "         5e-05: 2,\n",
       "         0.0009531: 2,\n",
       "         5.88e-05: 2,\n",
       "         9.67e-05: 2,\n",
       "         0.0008608: 2,\n",
       "         4.3e-05: 2,\n",
       "         0.000146: 2,\n",
       "         9.74e-05: 2,\n",
       "         6.78e-05: 2,\n",
       "         5.96e-05: 2,\n",
       "         4.48e-05: 2,\n",
       "         4.34e-05: 2,\n",
       "         6.08e-05: 2,\n",
       "         0.0003427: 2,\n",
       "         0.0001155: 2,\n",
       "         5.47e-05: 2,\n",
       "         0.0010035: 2,\n",
       "         0.0001197: 2,\n",
       "         7.32e-05: 2,\n",
       "         6.14e-05: 2,\n",
       "         0.0001316: 2,\n",
       "         0.0001538: 2,\n",
       "         0.0007795: 2,\n",
       "         9.68e-05: 2,\n",
       "         0.0003844: 2,\n",
       "         0.0001608: 2,\n",
       "         0.0001536: 2,\n",
       "         0.0033978: 2,\n",
       "         0.0011388: 2,\n",
       "         0.0001733: 2,\n",
       "         0.9999602: 2,\n",
       "         0.0001001: 2,\n",
       "         0.0005129: 2,\n",
       "         0.0003757: 2,\n",
       "         0.00071: 2,\n",
       "         9.92e-05: 2,\n",
       "         0.9999065: 2,\n",
       "         8.84e-05: 2,\n",
       "         8.37e-05: 2,\n",
       "         8.07e-05: 2,\n",
       "         3.74e-05: 2,\n",
       "         0.0007385: 2,\n",
       "         0.9999852: 2,\n",
       "         0.0005255: 2,\n",
       "         8.76e-05: 2,\n",
       "         ...})"
      ]
     },
     "execution_count": 12,
     "metadata": {},
     "output_type": "execute_result"
    }
   ],
   "source": [
    "collections.Counter(np.round(tonp(samples.ravel()), 7))"
   ]
  },
  {
   "cell_type": "code",
   "execution_count": 13,
   "id": "9a562bc5-53e1-47c7-981d-095239fe9141",
   "metadata": {},
   "outputs": [
    {
     "data": {
      "text/plain": [
       "2460"
      ]
     },
     "execution_count": 13,
     "metadata": {},
     "output_type": "execute_result"
    }
   ],
   "source": [
    "123 * 20"
   ]
  },
  {
   "cell_type": "code",
   "execution_count": null,
   "id": "f7ff3720-7670-4b5d-8d29-602ed913cb38",
   "metadata": {},
   "outputs": [],
   "source": []
  },
  {
   "cell_type": "code",
   "execution_count": 14,
   "id": "d30abec6-3d3e-4475-9c0f-ec20c2de3ffe",
   "metadata": {},
   "outputs": [],
   "source": [
    "kl1 = c.kl()"
   ]
  },
  {
   "cell_type": "code",
   "execution_count": 15,
   "id": "7a842436-828e-4513-ad83-5ffa8de44267",
   "metadata": {},
   "outputs": [],
   "source": [
    "n_categories = 10\n",
    "size = (1, 20, n_categories)\n",
    "probs = nn.Parameter(\n",
    "    data=torch.full(size, 1 / n_categories), # torch.ones(size) / 10,\n",
    "    requires_grad=False,\n",
    ")\n",
    "p = dists.Categorical(probs.expand(123, -1, -1))\n",
    "q = dists.Categorical(c.probs)"
   ]
  },
  {
   "cell_type": "code",
   "execution_count": 16,
   "id": "01406dde-c579-4db9-a2a7-1d761506e9d9",
   "metadata": {},
   "outputs": [],
   "source": [
    "kl2 = dists.kl.kl_divergence(q, p)"
   ]
  },
  {
   "cell_type": "code",
   "execution_count": null,
   "id": "087f42dc-3eb6-4079-a0e5-3559d4cb1d92",
   "metadata": {},
   "outputs": [],
   "source": []
  },
  {
   "cell_type": "code",
   "execution_count": 17,
   "id": "5140206f-66f1-40d0-aec5-7d471d7602c4",
   "metadata": {},
   "outputs": [
    {
     "data": {
      "text/plain": [
       "tensor([[0., 0., 0.,  ..., 0., 0., 0.],\n",
       "        [0., 0., 0.,  ..., 0., 0., 0.],\n",
       "        [0., 0., 0.,  ..., 0., 0., 0.],\n",
       "        ...,\n",
       "        [0., 0., 0.,  ..., 0., 0., 0.],\n",
       "        [0., 0., 0.,  ..., 0., 0., 0.],\n",
       "        [0., 0., 0.,  ..., 0., 0., 0.]])"
      ]
     },
     "execution_count": 17,
     "metadata": {},
     "output_type": "execute_result"
    }
   ],
   "source": [
    "kl1 - kl2"
   ]
  },
  {
   "cell_type": "code",
   "execution_count": null,
   "id": "7fedd5e2-7c76-4f51-aad8-8b8019643a12",
   "metadata": {},
   "outputs": [],
   "source": []
  },
  {
   "cell_type": "code",
   "execution_count": 18,
   "id": "4df0c9e0-7000-4a54-87b1-5a08d321a3d5",
   "metadata": {},
   "outputs": [
    {
     "data": {
      "text/plain": [
       "torch.Size([123, 20, 10])"
      ]
     },
     "execution_count": 18,
     "metadata": {},
     "output_type": "execute_result"
    }
   ],
   "source": [
    "samples.shape"
   ]
  },
  {
   "cell_type": "code",
   "execution_count": null,
   "id": "67a1a93b-2ee9-4101-bc72-d5596dbab1dc",
   "metadata": {},
   "outputs": [],
   "source": []
  },
  {
   "cell_type": "code",
   "execution_count": 71,
   "id": "b80fd700-53d9-4edf-84bf-860ca054e7c2",
   "metadata": {},
   "outputs": [],
   "source": [
    "n_categories = 10\n",
    "size = (1, 20, n_categories)\n",
    "probs = nn.Parameter(\n",
    "    data=torch.full(size, 1 / n_categories), # torch.ones(size) / 10,\n",
    "    requires_grad=False,\n",
    ")"
   ]
  },
  {
   "cell_type": "code",
   "execution_count": 81,
   "id": "a3df05ac-0cf3-4fc1-926c-d5b6f22e91c7",
   "metadata": {},
   "outputs": [],
   "source": [
    "p = dists.Categorical(probs.expand(123, -1, -1))\n",
    "q = dists.Categorical(c.probs)"
   ]
  },
  {
   "cell_type": "code",
   "execution_count": 82,
   "id": "107c1587-1341-48ce-9539-c875a1d6fba4",
   "metadata": {},
   "outputs": [
    {
     "data": {
      "text/plain": [
       "torch.Size([123, 20])"
      ]
     },
     "execution_count": 82,
     "metadata": {},
     "output_type": "execute_result"
    }
   ],
   "source": [
    "kl = dists.kl.kl_divergence(q, p)\n",
    "kl.shape"
   ]
  },
  {
   "cell_type": "code",
   "execution_count": 83,
   "id": "572793d2-2ea8-4d40-8791-95ecb41fa945",
   "metadata": {},
   "outputs": [
    {
     "data": {
      "text/plain": [
       "torch.Size([123, 20, 10])"
      ]
     },
     "execution_count": 83,
     "metadata": {},
     "output_type": "execute_result"
    }
   ],
   "source": [
    "q.probs.shape"
   ]
  },
  {
   "cell_type": "code",
   "execution_count": 93,
   "id": "56f01f0d-ed6e-49fd-908c-1a1c38572aea",
   "metadata": {},
   "outputs": [
    {
     "data": {
      "text/plain": [
       "(-1, 10)"
      ]
     },
     "execution_count": 93,
     "metadata": {},
     "output_type": "execute_result"
    }
   ],
   "source": [
    "(-1, *c.event_shape)"
   ]
  },
  {
   "cell_type": "code",
   "execution_count": 102,
   "id": "742ff85f-ab13-47f3-8c78-4c192a862b10",
   "metadata": {},
   "outputs": [
    {
     "data": {
      "text/plain": [
       "torch.Size([123, 20, 10])"
      ]
     },
     "execution_count": 102,
     "metadata": {},
     "output_type": "execute_result"
    }
   ],
   "source": [
    "torch.full(c.probs.size(),  1/10).shape"
   ]
  },
  {
   "cell_type": "code",
   "execution_count": 104,
   "id": "3e9cb874-c600-42e0-a5d5-c8a568e96114",
   "metadata": {},
   "outputs": [
    {
     "ename": "TypeError",
     "evalue": "unsupported operand type(s) for /: 'int' and 'builtin_function_or_method'",
     "output_type": "error",
     "traceback": [
      "\u001b[0;31m---------------------------------------------------------------------------\u001b[0m",
      "\u001b[0;31mTypeError\u001b[0m                                 Traceback (most recent call last)",
      "Cell \u001b[0;32mIn[104], line 1\u001b[0m\n\u001b[0;32m----> 1\u001b[0m \u001b[38;5;241m1\u001b[39m \u001b[38;5;241m/\u001b[39m c\u001b[38;5;241m.\u001b[39mevent_shape\u001b[38;5;241m.\u001b[39mindex\n",
      "\u001b[0;31mTypeError\u001b[0m: unsupported operand type(s) for /: 'int' and 'builtin_function_or_method'"
     ]
    }
   ],
   "source": [
    "1 / c.event_shape"
   ]
  },
  {
   "cell_type": "code",
   "execution_count": 112,
   "id": "362b7307-c1cb-449e-9116-18c2fe259f2b",
   "metadata": {},
   "outputs": [
    {
     "ename": "AttributeError",
     "evalue": "'RelaxedOneHotCategorical' object has no attribute 'param_shape'",
     "output_type": "error",
     "traceback": [
      "\u001b[0;31m---------------------------------------------------------------------------\u001b[0m",
      "\u001b[0;31mAttributeError\u001b[0m                            Traceback (most recent call last)",
      "Cell \u001b[0;32mIn[112], line 1\u001b[0m\n\u001b[0;32m----> 1\u001b[0m c\u001b[38;5;241m.\u001b[39mparam_shape\n",
      "\u001b[0;31mAttributeError\u001b[0m: 'RelaxedOneHotCategorical' object has no attribute 'param_shape'"
     ]
    }
   ],
   "source": [
    "c.param_shape"
   ]
  },
  {
   "cell_type": "code",
   "execution_count": 113,
   "id": "968ce480-f5fb-4328-ae3e-ff12be59daa7",
   "metadata": {},
   "outputs": [
    {
     "data": {
      "text/plain": [
       "torch.Size([123, 20, 10])"
      ]
     },
     "execution_count": 113,
     "metadata": {},
     "output_type": "execute_result"
    }
   ],
   "source": [
    "q.param_shape"
   ]
  },
  {
   "cell_type": "code",
   "execution_count": 115,
   "id": "3fb96fa6-b826-4b41-a2d1-f96032916e43",
   "metadata": {},
   "outputs": [
    {
     "data": {
      "text/plain": [
       "10"
      ]
     },
     "execution_count": 115,
     "metadata": {},
     "output_type": "execute_result"
    }
   ],
   "source": [
    "c.probs.size(-1)"
   ]
  },
  {
   "cell_type": "code",
   "execution_count": 30,
   "id": "3a12fc3f-7674-4c09-8719-faf41305e92f",
   "metadata": {},
   "outputs": [
    {
     "data": {
      "text/plain": [
       "12"
      ]
     },
     "execution_count": 30,
     "metadata": {},
     "output_type": "execute_result"
    }
   ],
   "source": [
    "np.prod((1, 3, 4))"
   ]
  },
  {
   "cell_type": "code",
   "execution_count": 31,
   "id": "f35f3e4e-f06e-4923-b408-5a8ddde5cb09",
   "metadata": {},
   "outputs": [
    {
     "data": {
      "text/plain": [
       "torch.Size([123, 20, 10])"
      ]
     },
     "execution_count": 31,
     "metadata": {},
     "output_type": "execute_result"
    }
   ],
   "source": [
    "samples.shape"
   ]
  },
  {
   "cell_type": "code",
   "execution_count": 34,
   "id": "f88421a8-5c3b-478c-b2f2-bd034ad37f94",
   "metadata": {},
   "outputs": [
    {
     "data": {
      "text/plain": [
       "torch.Size([123, 200])"
      ]
     },
     "execution_count": 34,
     "metadata": {},
     "output_type": "execute_result"
    }
   ],
   "source": [
    "samples.flatten(start_dim=1).shape"
   ]
  },
  {
   "cell_type": "code",
   "execution_count": null,
   "id": "0fde79f6-206f-41a4-bec8-9c7788913772",
   "metadata": {},
   "outputs": [],
   "source": [
    "torch.flatten()"
   ]
  },
  {
   "cell_type": "code",
   "execution_count": 28,
   "id": "4993331c-9d5b-4cce-86f8-afd0d7ff9588",
   "metadata": {},
   "outputs": [
    {
     "data": {
      "text/plain": [
       "(20, 10)"
      ]
     },
     "execution_count": 28,
     "metadata": {},
     "output_type": "execute_result"
    }
   ],
   "source": [
    "s = (\n",
    "    20,\n",
    "\t10,\n",
    ")\n",
    "s"
   ]
  },
  {
   "cell_type": "code",
   "execution_count": 40,
   "id": "fe62297f-ca06-4174-bb02-801caf87775b",
   "metadata": {},
   "outputs": [
    {
     "data": {
      "text/plain": [
       "200"
      ]
     },
     "execution_count": 40,
     "metadata": {},
     "output_type": "execute_result"
    }
   ],
   "source": [
    "np.prod(s)"
   ]
  },
  {
   "cell_type": "code",
   "execution_count": 21,
   "id": "ff2f9bad-8381-4936-b119-c499a2b917d8",
   "metadata": {
    "scrolled": true
   },
   "outputs": [
    {
     "data": {
      "text/plain": [
       "tensor([[[2.0343e-08, 1.6731e-02, 9.3222e-04,  ..., 5.1121e-07,\n",
       "          3.5668e-06, 9.7658e-01],\n",
       "         [8.7147e-03, 1.9185e-09, 4.4628e-01,  ..., 4.0765e-03,\n",
       "          2.6350e-04, 1.4894e-03],\n",
       "         [2.2575e-12, 1.0000e+00, 4.0989e-11,  ..., 5.4019e-12,\n",
       "          2.5910e-18, 2.8957e-09],\n",
       "         ...,\n",
       "         [2.6499e-06, 4.6758e-10, 9.7590e-09,  ..., 6.7215e-10,\n",
       "          1.7269e-11, 7.7847e-12],\n",
       "         [4.6269e-01, 1.0878e-05, 1.7513e-05,  ..., 1.8178e-03,\n",
       "          2.5622e-07, 5.3485e-01],\n",
       "         [6.8516e-03, 7.5416e-07, 3.4506e-04,  ..., 2.0248e-05,\n",
       "          8.8802e-04, 2.1402e-04]],\n",
       "\n",
       "        [[8.2235e-05, 7.7732e-06, 1.8785e-05,  ..., 9.9985e-01,\n",
       "          2.3180e-05, 1.8540e-05],\n",
       "         [7.7721e-06, 2.4302e-08, 4.8627e-04,  ..., 7.5737e-05,\n",
       "          2.3589e-05, 9.7820e-01],\n",
       "         [2.3479e-06, 2.9716e-09, 1.8253e-02,  ..., 1.9738e-01,\n",
       "          2.0779e-06, 8.0593e-09],\n",
       "         ...,\n",
       "         [4.0129e-08, 2.6942e-03, 8.4930e-07,  ..., 4.5331e-06,\n",
       "          8.3626e-01, 7.3129e-05],\n",
       "         [1.3037e-08, 1.3359e-03, 1.4855e-10,  ..., 4.2412e-05,\n",
       "          1.5797e-01, 1.6192e-05],\n",
       "         [9.9958e-01, 7.0438e-11, 8.9124e-07,  ..., 8.3230e-08,\n",
       "          4.8573e-07, 2.2770e-04]],\n",
       "\n",
       "        [[1.2132e-07, 1.9919e-03, 3.7958e-05,  ..., 2.0990e-10,\n",
       "          9.0520e-05, 3.1303e-13],\n",
       "         [1.1967e-06, 4.3312e-07, 1.1327e-06,  ..., 2.5999e-01,\n",
       "          1.7469e-04, 3.4535e-07],\n",
       "         [4.9347e-03, 7.0632e-11, 4.9491e-10,  ..., 1.8026e-08,\n",
       "          2.3176e-04, 1.8446e-13],\n",
       "         ...,\n",
       "         [2.1406e-01, 2.6688e-09, 1.3547e-12,  ..., 2.8587e-04,\n",
       "          7.4425e-01, 9.4920e-06],\n",
       "         [1.5907e-04, 1.6918e-05, 1.5886e-03,  ..., 4.1756e-02,\n",
       "          1.6742e-04, 4.6745e-03],\n",
       "         [4.8316e-13, 1.2827e-10, 1.3936e-14,  ..., 6.8701e-05,\n",
       "          1.5068e-10, 9.4621e-12]],\n",
       "\n",
       "        ...,\n",
       "\n",
       "        [[3.2995e-03, 9.9418e-01, 1.0861e-03,  ..., 2.1473e-05,\n",
       "          1.3347e-03, 7.9438e-05],\n",
       "         [5.2820e-08, 2.5735e-02, 2.0138e-08,  ..., 8.0525e-01,\n",
       "          3.4468e-09, 2.5845e-09],\n",
       "         [3.7987e-02, 3.1618e-01, 2.6137e-06,  ..., 2.8852e-02,\n",
       "          3.0458e-06, 3.6806e-03],\n",
       "         ...,\n",
       "         [2.1167e-07, 8.1967e-10, 1.2231e-09,  ..., 2.8809e-10,\n",
       "          9.5982e-01, 9.4250e-09],\n",
       "         [2.1623e-07, 3.9783e-03, 4.4431e-02,  ..., 9.4209e-01,\n",
       "          9.6180e-04, 6.5314e-06],\n",
       "         [3.2226e-01, 2.3301e-07, 4.6876e-03,  ..., 6.7159e-01,\n",
       "          1.0400e-04, 6.4439e-05]],\n",
       "\n",
       "        [[4.1222e-08, 2.7861e-07, 6.5092e-07,  ..., 4.5308e-08,\n",
       "          1.2880e-06, 1.0000e+00],\n",
       "         [1.3514e-05, 4.4903e-04, 8.2464e-07,  ..., 3.6480e-01,\n",
       "          4.5311e-02, 1.4434e-09],\n",
       "         [1.2642e-04, 1.1194e-07, 8.2617e-07,  ..., 2.5074e-09,\n",
       "          9.5350e-18, 3.4105e-02],\n",
       "         ...,\n",
       "         [3.0649e-03, 1.3208e-02, 3.7278e-07,  ..., 2.0802e-02,\n",
       "          9.6292e-01, 2.1728e-11],\n",
       "         [6.3965e-07, 6.6662e-03, 9.3680e-01,  ..., 1.1959e-02,\n",
       "          1.8010e-03, 1.7094e-08],\n",
       "         [1.1742e-04, 9.7822e-01, 1.6255e-02,  ..., 3.6522e-05,\n",
       "          2.2216e-04, 8.5369e-04]],\n",
       "\n",
       "        [[2.0934e-01, 7.7476e-08, 3.9963e-06,  ..., 3.3248e-02,\n",
       "          7.2889e-06, 2.2670e-05],\n",
       "         [1.7434e-04, 8.1407e-06, 5.0974e-04,  ..., 7.0754e-01,\n",
       "          4.2204e-08, 1.2653e-01],\n",
       "         [1.0208e-05, 2.2054e-06, 5.2039e-10,  ..., 3.4010e-03,\n",
       "          4.2683e-08, 4.8894e-04],\n",
       "         ...,\n",
       "         [1.2420e-04, 4.5885e-05, 9.1923e-01,  ..., 1.0034e-07,\n",
       "          6.2599e-08, 4.4906e-08],\n",
       "         [7.7939e-04, 2.0605e-02, 1.1315e-03,  ..., 2.8994e-05,\n",
       "          3.3212e-05, 8.4019e-03],\n",
       "         [4.4663e-01, 4.5607e-03, 3.6162e-05,  ..., 8.7825e-03,\n",
       "          4.4723e-09, 1.6454e-05]]])"
      ]
     },
     "execution_count": 21,
     "metadata": {},
     "output_type": "execute_result"
    }
   ],
   "source": [
    "c.sample()"
   ]
  },
  {
   "cell_type": "code",
   "execution_count": 22,
   "id": "906b8ccf-3ca6-4e7d-a4fa-602222a1e2bb",
   "metadata": {
    "scrolled": true
   },
   "outputs": [
    {
     "data": {
      "text/plain": [
       "tensor([[[3.5777e-08, 4.8138e-03, 5.7727e-04,  ..., 2.7965e-07,\n",
       "          9.6432e-06, 9.9358e-01],\n",
       "         [8.6567e-04, 5.7138e-11, 5.8050e-02,  ..., 2.3321e-04,\n",
       "          1.4182e-05, 1.6902e-03],\n",
       "         [1.4158e-10, 1.0000e+00, 2.9084e-09,  ..., 5.2576e-10,\n",
       "          4.0218e-17, 1.2068e-07],\n",
       "         ...,\n",
       "         [7.0375e-06, 6.7239e-10, 3.3706e-09,  ..., 6.0250e-09,\n",
       "          4.2770e-11, 1.2207e-11],\n",
       "         [9.8590e-01, 3.6454e-05, 4.1891e-05,  ..., 7.7844e-03,\n",
       "          9.3244e-09, 5.6628e-03],\n",
       "         [3.1902e-01, 4.4852e-06, 1.6881e-03,  ..., 2.2527e-05,\n",
       "          1.4267e-03, 1.8543e-02]],\n",
       "\n",
       "        [[2.0085e-02, 9.8565e-04, 1.0404e-03,  ..., 9.7720e-01,\n",
       "          7.1245e-05, 6.1249e-04],\n",
       "         [4.2363e-05, 1.6385e-08, 1.0887e-03,  ..., 2.5213e-04,\n",
       "          7.9673e-06, 9.6497e-01],\n",
       "         [7.3741e-06, 2.8955e-07, 6.7648e-03,  ..., 9.9028e-01,\n",
       "          6.2019e-06, 8.4911e-08],\n",
       "         ...,\n",
       "         [8.2201e-08, 3.6230e-04, 1.5276e-07,  ..., 6.0347e-06,\n",
       "          8.4899e-02, 3.3607e-05],\n",
       "         [3.9976e-08, 1.8882e-03, 8.7332e-11,  ..., 7.4100e-04,\n",
       "          5.9879e-02, 3.8668e-05],\n",
       "         [9.9711e-01, 1.9196e-11, 2.0243e-07,  ..., 1.1590e-08,\n",
       "          2.4260e-07, 1.2423e-06]],\n",
       "\n",
       "        [[6.9759e-06, 1.0655e-02, 3.8480e-02,  ..., 1.8574e-08,\n",
       "          4.1781e-02, 4.1802e-10],\n",
       "         [4.8442e-10, 6.4527e-08, 2.3921e-09,  ..., 3.9450e-06,\n",
       "          4.1540e-08, 2.0611e-11],\n",
       "         [1.7589e-06, 4.8702e-17, 2.0451e-15,  ..., 3.7751e-14,\n",
       "          1.3686e-08, 7.6710e-16],\n",
       "         ...,\n",
       "         [1.1692e-02, 8.5684e-09, 4.0359e-11,  ..., 3.8579e-04,\n",
       "          9.8697e-01, 3.7068e-08],\n",
       "         [2.4962e-07, 8.1024e-08, 1.0468e-06,  ..., 2.9436e-04,\n",
       "          2.7945e-04, 1.1772e-03],\n",
       "         [2.1944e-11, 2.1837e-10, 4.2101e-14,  ..., 1.1434e-05,\n",
       "          3.8852e-10, 4.5853e-11]],\n",
       "\n",
       "        ...,\n",
       "\n",
       "        [[1.3151e-03, 9.9559e-01, 2.4683e-03,  ..., 6.2129e-07,\n",
       "          1.7648e-04, 4.0965e-04],\n",
       "         [2.9663e-09, 3.5737e-03, 7.8816e-06,  ..., 1.9021e-01,\n",
       "          5.2616e-09, 3.9748e-10],\n",
       "         [1.3954e-02, 3.7525e-01, 1.9111e-05,  ..., 8.9261e-03,\n",
       "          9.4641e-06, 5.7383e-05],\n",
       "         ...,\n",
       "         [1.3329e-06, 2.2589e-08, 5.5077e-09,  ..., 3.7430e-09,\n",
       "          4.2022e-01, 3.1361e-07],\n",
       "         [9.3071e-07, 6.2943e-02, 4.1792e-04,  ..., 9.3551e-01,\n",
       "          6.2421e-04, 3.4653e-06],\n",
       "         [2.9119e-04, 1.8031e-09, 8.7877e-03,  ..., 9.8836e-01,\n",
       "          2.2342e-03, 3.7397e-06]],\n",
       "\n",
       "        [[3.2321e-10, 3.2671e-06, 3.8826e-07,  ..., 2.2151e-08,\n",
       "          1.9083e-06, 9.9999e-01],\n",
       "         [2.4432e-04, 8.6723e-03, 3.6475e-07,  ..., 1.3282e-02,\n",
       "          4.2968e-03, 3.2505e-09],\n",
       "         [7.3375e-03, 3.3895e-06, 1.3008e-05,  ..., 2.9887e-08,\n",
       "          2.3626e-14, 2.0569e-02],\n",
       "         ...,\n",
       "         [4.1868e-08, 1.8547e-08, 1.0008e-12,  ..., 5.6513e-05,\n",
       "          9.9994e-01, 1.2741e-14],\n",
       "         [4.7751e-06, 9.4257e-03, 9.6824e-01,  ..., 1.0160e-02,\n",
       "          1.5094e-04, 1.2717e-08],\n",
       "         [1.2416e-05, 9.9799e-01, 1.3922e-03,  ..., 8.5418e-06,\n",
       "          2.8199e-05, 5.6667e-04]],\n",
       "\n",
       "        [[8.1074e-01, 8.6765e-10, 1.0128e-06,  ..., 3.1528e-03,\n",
       "          1.4700e-06, 2.9108e-06],\n",
       "         [1.2252e-04, 2.2767e-08, 1.4118e-05,  ..., 2.3327e-01,\n",
       "          1.4845e-08, 7.4130e-01],\n",
       "         [1.3072e-04, 1.8488e-05, 3.4390e-10,  ..., 3.8852e-03,\n",
       "          4.1070e-09, 2.4991e-04],\n",
       "         ...,\n",
       "         [4.3698e-03, 6.2884e-04, 5.0250e-01,  ..., 4.4214e-08,\n",
       "          8.0837e-06, 1.4975e-07],\n",
       "         [3.8019e-04, 1.5746e-03, 5.3219e-05,  ..., 1.1627e-04,\n",
       "          8.3154e-07, 9.1604e-01],\n",
       "         [6.1918e-01, 4.5193e-04, 6.4219e-05,  ..., 1.6015e-03,\n",
       "          1.1868e-07, 4.3434e-05]]])"
      ]
     },
     "execution_count": 22,
     "metadata": {},
     "output_type": "execute_result"
    }
   ],
   "source": [
    "c.rsample()"
   ]
  },
  {
   "cell_type": "code",
   "execution_count": 31,
   "id": "06c3c375-c1bc-409c-9805-f170563912b6",
   "metadata": {},
   "outputs": [
    {
     "data": {
      "text/plain": [
       "(torch.Size([125, 200]), torch.Size([125, 20, 10]))"
      ]
     },
     "execution_count": 31,
     "metadata": {},
     "output_type": "execute_result"
    }
   ],
   "source": [
    "x = torch.randn(125, 200)\n",
    "x.shape, x.view(-1, *s).shape"
   ]
  },
  {
   "cell_type": "code",
   "execution_count": null,
   "id": "9262a00f-6452-4cc9-85cc-40841fe59f3f",
   "metadata": {},
   "outputs": [],
   "source": []
  },
  {
   "cell_type": "code",
   "execution_count": 46,
   "id": "04e7e9f4-0bf9-41d3-ae73-178f7a3e17f8",
   "metadata": {},
   "outputs": [
    {
     "data": {
      "text/plain": [
       "torch.Size([123, 10])"
      ]
     },
     "execution_count": 46,
     "metadata": {},
     "output_type": "execute_result"
    }
   ],
   "source": [
    "samples = gumbel_softmax(c.logits, 0.01)\n",
    "samples.shape"
   ]
  },
  {
   "cell_type": "code",
   "execution_count": null,
   "id": "40aa6888-9aa6-48ae-9e0b-d0ffc754e0f5",
   "metadata": {},
   "outputs": [],
   "source": []
  },
  {
   "cell_type": "code",
   "execution_count": 47,
   "id": "739742ad-df7b-408a-90bb-c2636f9923ce",
   "metadata": {},
   "outputs": [
    {
     "data": {
      "text/plain": [
       "<StemContainer object of 3 artists>"
      ]
     },
     "execution_count": 47,
     "metadata": {},
     "output_type": "execute_result"
    },
    {
     "data": {
      "image/png": "[encoded data removed]",
      "text/plain": [
       "<Figure size 500x320 with 1 Axes>"
      ]
     },
     "metadata": {},
     "output_type": "display_data"
    }
   ],
   "source": [
    "plt.stem(samples[2])"
   ]
  },
  {
   "cell_type": "code",
   "execution_count": 48,
   "id": "acb2ef88-d8b4-4411-b335-95512aebd6b9",
   "metadata": {},
   "outputs": [
    {
     "data": {
      "text/plain": [
       "tensor([0., 0., 1., 0., 0., 0., 0., 0., 0., 0.])"
      ]
     },
     "execution_count": 48,
     "metadata": {},
     "output_type": "execute_result"
    }
   ],
   "source": [
    "samples[2]"
   ]
  },
  {
   "cell_type": "code",
   "execution_count": null,
   "id": "b6634c72-9e72-4baf-8fc6-b5b57cb68714",
   "metadata": {},
   "outputs": [],
   "source": []
  },
  {
   "cell_type": "code",
   "execution_count": null,
   "id": "b4dcae59-7379-4c4a-8b19-d44529e145a1",
   "metadata": {},
   "outputs": [],
   "source": []
  },
  {
   "cell_type": "code",
   "execution_count": null,
   "id": "75dbb0f5-b198-48b2-93af-cda6ddab926d",
   "metadata": {},
   "outputs": [],
   "source": []
  },
  {
   "cell_type": "code",
   "execution_count": null,
   "id": "8444543c-ecd7-40a1-bd03-ad2f76f5db53",
   "metadata": {},
   "outputs": [],
   "source": []
  },
  {
   "cell_type": "code",
   "execution_count": 38,
   "id": "1ac5185d-c492-47e5-9522-06175e376fb9",
   "metadata": {},
   "outputs": [],
   "source": [
    "def gumbel_distribution_sample(shape: torch.Size, eps=1e-20) -> torch.Tensor:\n",
    "    \"\"\"Samples from the Gumbel distribution given a tensor shape and value of epsilon.\n",
    "    \n",
    "    note: the \\eps here is just for numerical stability. The code is basically just doing\n",
    "            > -log(-log(rand(shape)))\n",
    "    where rand generates random numbers on U(0, 1). \n",
    "    \"\"\"\n",
    "    U = torch.rand(shape)\n",
    "    return -torch.log(-torch.log(U + eps) + eps)\n",
    "\n",
    "def gumbel_softmax_distribution_sample(logits: torch.Tensor, temperature: float) -> torch.Tensor:\n",
    "    \"\"\"Adds Gumbel noise to `logits` and applies softmax along the last dimension.\n",
    "    \n",
    "    Softmax is applied wrt a given temperature value. A higher temperature will make the softmax\n",
    "    softer (less spiky). Lower temperature will make softmax more spiky and less soft. As\n",
    "    temperature -> 0, this distribution approaches a categorical distribution.\n",
    "    \"\"\"\n",
    "    assert len(logits.shape) == 2 # (should be of shape (b, n_classes))\n",
    "    y = logits + gumbel_distribution_sample(logits.shape)\n",
    "    return torch.nn.functional.softmax(y / temperature, dim=-1)\n",
    "\n",
    "def gumbel_softmax(logits: torch.Tensor, temperature: float, batch=False) -> torch.Tensor:\n",
    "    \"\"\"\n",
    "    Gumbel-softmax.\n",
    "    input: [*, n_classes] (or [b, *, n_classes] for batch)\n",
    "    return: flatten --> [*, n_class] a one-hot vector (or b, *, n_classes for batch)\n",
    "    \"\"\"\n",
    "    input_shape = logits.shape\n",
    "    if batch:\n",
    "        assert len(logits.shape) == 3\n",
    "        b, n, k = input_shape\n",
    "        logits = logits.view(b*n, k)\n",
    "    assert len(logits.shape) == 2\n",
    "    y = gumbel_softmax_distribution_sample(logits, temperature)    \n",
    "    n_classes = input_shape[-1]\n",
    "    return y.view(input_shape)"
   ]
  },
  {
   "cell_type": "code",
   "execution_count": null,
   "id": "72fdce49-1213-4b8f-9c97-0bf7c329787f",
   "metadata": {},
   "outputs": [],
   "source": []
  },
  {
   "cell_type": "code",
   "execution_count": 4,
   "id": "b27fdf0a-91ff-4632-9488-206766b24530",
   "metadata": {},
   "outputs": [
    {
     "data": {
      "text/plain": [
       "torch.Size([123, 10, 14])"
      ]
     },
     "execution_count": 4,
     "metadata": {},
     "output_type": "execute_result"
    }
   ],
   "source": [
    "logits = torch.randn(123, 10, 14)\n",
    "samples = gumbel_softmax(logits, temperature=0.1, batch=True)\n",
    "samples.shape"
   ]
  },
  {
   "cell_type": "code",
   "execution_count": null,
   "id": "e1d594d8-86e6-4e35-96ab-51cefe4f27b3",
   "metadata": {},
   "outputs": [],
   "source": []
  },
  {
   "cell_type": "code",
   "execution_count": 5,
   "id": "9f64b195-b125-48b0-b015-80f2c66395bb",
   "metadata": {},
   "outputs": [
    {
     "data": {
      "image/png": "[encoded data removed]",
      "text/plain": [
       "<Figure size 500x320 with 1 Axes>"
      ]
     },
     "metadata": {},
     "output_type": "display_data"
    }
   ],
   "source": [
    "plt.stem(tonp(samples[0, 8]))\n",
    "plt.grid()"
   ]
  },
  {
   "cell_type": "code",
   "execution_count": null,
   "id": "f4d4b368-d2b7-4973-9b21-badf7d09c281",
   "metadata": {},
   "outputs": [],
   "source": []
  },
  {
   "cell_type": "code",
   "execution_count": 6,
   "id": "7b2b8631-0720-476d-8b40-b48e9ef5fbe2",
   "metadata": {},
   "outputs": [
    {
     "data": {
      "text/html": [
       "<pre style=\"white-space:pre;overflow-x:auto;line-height:normal;font-family:Menlo,'DejaVu Sans Mono',consolas,'Courier New',monospace\">VAE:\n",
       "<span style=\"font-weight: bold\">{</span><span style=\"color: #008000; text-decoration-color: #008000\">'dataset'</span>: <span style=\"color: #008000; text-decoration-color: #008000\">'MNIST'</span>, <span style=\"color: #008000; text-decoration-color: #008000\">'n_ch'</span>: <span style=\"color: #008080; text-decoration-color: #008080; font-weight: bold\">32</span>, <span style=\"color: #008000; text-decoration-color: #008000\">'n_latents'</span>: <span style=\"color: #008080; text-decoration-color: #008080; font-weight: bold\">10</span>, <span style=\"color: #008000; text-decoration-color: #008000\">'n_categories'</span>: <span style=\"color: #008080; text-decoration-color: #008080; font-weight: bold\">10</span>, <span style=\"color: #008000; text-decoration-color: #008000\">'enc_type'</span>: <span style=\"color: #008000; text-decoration-color: #008000\">'conv'</span>, <span style=\"color: #008000; text-decoration-color: #008000\">'dec_type'</span>: <span style=\"color: #008000; text-decoration-color: #008000\">'conv'</span>, \n",
       "<span style=\"color: #008000; text-decoration-color: #008000\">'enc_bias'</span>: <span style=\"color: #00ff00; text-decoration-color: #00ff00; font-style: italic\">True</span>, <span style=\"color: #008000; text-decoration-color: #008000\">'dec_bias'</span>: <span style=\"color: #00ff00; text-decoration-color: #00ff00; font-style: italic\">True</span><span style=\"font-weight: bold\">}</span>\n",
       "\n",
       "Trainer:\n",
       "<span style=\"font-weight: bold\">{</span><span style=\"color: #008000; text-decoration-color: #008000\">'temp_anneal_portion'</span>: <span style=\"color: #008080; text-decoration-color: #008080; font-weight: bold\">0.5</span>, <span style=\"color: #008000; text-decoration-color: #008000\">'temp_anneal_type'</span>: <span style=\"color: #008000; text-decoration-color: #008000\">'lin'</span>, <span style=\"color: #008000; text-decoration-color: #008000\">'temp_start'</span>: <span style=\"color: #008080; text-decoration-color: #008080; font-weight: bold\">1.0</span>, <span style=\"color: #008000; text-decoration-color: #008000\">'temp_stop'</span>: <span style=\"color: #008080; text-decoration-color: #008080; font-weight: bold\">0.1</span>, <span style=\"color: #008000; text-decoration-color: #008000\">'lr'</span>: <span style=\"color: #008080; text-decoration-color: #008080; font-weight: bold\">0.002</span>, <span style=\"color: #008000; text-decoration-color: #008000\">'epochs'</span>:\n",
       "<span style=\"color: #008080; text-decoration-color: #008080; font-weight: bold\">1200</span>, <span style=\"color: #008000; text-decoration-color: #008000\">'batch_size'</span>: <span style=\"color: #008080; text-decoration-color: #008080; font-weight: bold\">200</span>, <span style=\"color: #008000; text-decoration-color: #008000\">'warm_restart'</span>: <span style=\"color: #008080; text-decoration-color: #008080; font-weight: bold\">2</span>, <span style=\"color: #008000; text-decoration-color: #008000\">'optimizer_kws'</span>: <span style=\"font-weight: bold\">{</span><span style=\"color: #008000; text-decoration-color: #008000\">'weight_decay'</span>: <span style=\"color: #008080; text-decoration-color: #008080; font-weight: bold\">0.0003</span><span style=\"font-weight: bold\">}</span>, <span style=\"color: #008000; text-decoration-color: #008000\">'grad_clip'</span>: <span style=\"color: #008080; text-decoration-color: #008080; font-weight: bold\">1000</span><span style=\"font-weight: bold\">}</span>\n",
       "</pre>\n"
      ],
      "text/plain": [
       "VAE:\n",
       "\u001b[1m{\u001b[0m\u001b[32m'dataset'\u001b[0m: \u001b[32m'MNIST'\u001b[0m, \u001b[32m'n_ch'\u001b[0m: \u001b[1;36m32\u001b[0m, \u001b[32m'n_latents'\u001b[0m: \u001b[1;36m10\u001b[0m, \u001b[32m'n_categories'\u001b[0m: \u001b[1;36m10\u001b[0m, \u001b[32m'enc_type'\u001b[0m: \u001b[32m'conv'\u001b[0m, \u001b[32m'dec_type'\u001b[0m: \u001b[32m'conv'\u001b[0m, \n",
       "\u001b[32m'enc_bias'\u001b[0m: \u001b[3;92mTrue\u001b[0m, \u001b[32m'dec_bias'\u001b[0m: \u001b[3;92mTrue\u001b[0m\u001b[1m}\u001b[0m\n",
       "\n",
       "Trainer:\n",
       "\u001b[1m{\u001b[0m\u001b[32m'temp_anneal_portion'\u001b[0m: \u001b[1;36m0.5\u001b[0m, \u001b[32m'temp_anneal_type'\u001b[0m: \u001b[32m'lin'\u001b[0m, \u001b[32m'temp_start'\u001b[0m: \u001b[1;36m1.0\u001b[0m, \u001b[32m'temp_stop'\u001b[0m: \u001b[1;36m0.1\u001b[0m, \u001b[32m'lr'\u001b[0m: \u001b[1;36m0.002\u001b[0m, \u001b[32m'epochs'\u001b[0m:\n",
       "\u001b[1;36m1200\u001b[0m, \u001b[32m'batch_size'\u001b[0m: \u001b[1;36m200\u001b[0m, \u001b[32m'warm_restart'\u001b[0m: \u001b[1;36m2\u001b[0m, \u001b[32m'optimizer_kws'\u001b[0m: \u001b[1m{\u001b[0m\u001b[32m'weight_decay'\u001b[0m: \u001b[1;36m0.0003\u001b[0m\u001b[1m}\u001b[0m, \u001b[32m'grad_clip'\u001b[0m: \u001b[1;36m1000\u001b[0m\u001b[1m}\u001b[0m\n"
      ]
     },
     "metadata": {},
     "output_type": "display_data"
    }
   ],
   "source": [
    "cfg_vae, cfg_tr = default_configs('MNIST', model_type, 'conv+b|conv+b')\n",
    "print(f\"VAE:\\n{cfg_vae}\\n\\nTrainer:\\n{cfg_tr}\")"
   ]
  },
  {
   "cell_type": "code",
   "execution_count": 7,
   "id": "c3f51ce1-520c-407b-8394-106ef7e8e0e4",
   "metadata": {},
   "outputs": [
    {
     "data": {
      "text/html": [
       "<pre style=\"white-space:pre;overflow-x:auto;line-height:normal;font-family:Menlo,'DejaVu Sans Mono',consolas,'Courier New',monospace\">categorical_c-10_MNIST_z-10_k-32_<span style=\"font-weight: bold\">&lt;</span><span style=\"color: #ff00ff; text-decoration-color: #ff00ff; font-weight: bold\">conv</span><span style=\"color: #000000; text-decoration-color: #000000\">+b|conv+b</span><span style=\"font-weight: bold\">&gt;</span>\n",
       "</pre>\n"
      ],
      "text/plain": [
       "categorical_c-10_MNIST_z-10_k-32_\u001b[1m<\u001b[0m\u001b[1;95mconv\u001b[0m\u001b[39m+b|conv+b\u001b[0m\u001b[1m>\u001b[0m\n"
      ]
     },
     "metadata": {},
     "output_type": "display_data"
    }
   ],
   "source": [
    "vae = MODEL_CLASSES[model_type](CFG_CLASSES[model_type](**cfg_vae))\n",
    "print(vae.cfg.name())"
   ]
  },
  {
   "cell_type": "code",
   "execution_count": null,
   "id": "801270d3-6c07-45a9-af5d-29c68bca3cdc",
   "metadata": {},
   "outputs": [],
   "source": []
  },
  {
   "cell_type": "code",
   "execution_count": 10,
   "id": "6edf8907-c077-4bf0-ab32-cb237a3d18b3",
   "metadata": {},
   "outputs": [
    {
     "data": {
      "text/plain": [
       "Linear(in_features=10, out_features=1024, bias=True)"
      ]
     },
     "execution_count": 10,
     "metadata": {},
     "output_type": "execute_result"
    }
   ],
   "source": [
    "vae.fc_dec"
   ]
  },
  {
   "cell_type": "code",
   "execution_count": null,
   "id": "8412d983-c64b-42bb-bdcf-2f845b668cc5",
   "metadata": {},
   "outputs": [],
   "source": []
  },
  {
   "cell_type": "code",
   "execution_count": 2,
   "id": "3860b4ea-695c-4ac1-ba10-f8cbbbdbc074",
   "metadata": {},
   "outputs": [],
   "source": [
    "from base.distributions import dists"
   ]
  },
  {
   "cell_type": "code",
   "execution_count": 3,
   "id": "59422069-736e-4de2-b854-6f6c37115806",
   "metadata": {
    "scrolled": true
   },
   "outputs": [
    {
     "name": "stderr",
     "output_type": "stream",
     "text": [
      "/home/hadi/anaconda3/lib/python3.11/site-packages/torch/distributions/distribution.py:53: UserWarning: <class 'torch.distributions.distribution.Distribution'> does not define `arg_constraints`. Please set `arg_constraints = {}` or initialize the distribution with `validate_args=False` to turn off validation.\n",
      "  warnings.warn(\n"
     ]
    },
    {
     "data": {
      "text/html": [
       "<pre style=\"white-space:pre;overflow-x:auto;line-height:normal;font-family:Menlo,'DejaVu Sans Mono',consolas,'Courier New',monospace\"></pre>\n"
      ],
      "text/plain": []
     },
     "metadata": {},
     "output_type": "display_data"
    },
    {
     "ename": "NotImplementedError",
     "evalue": "",
     "output_type": "error",
     "traceback": [
      "\u001b[0;31m---------------------------------------------------------------------------\u001b[0m",
      "\u001b[0;31mNotImplementedError\u001b[0m                       Traceback (most recent call last)",
      "Cell \u001b[0;32mIn[3], line 13\u001b[0m\n\u001b[1;32m     10\u001b[0m obj \u001b[38;5;241m=\u001b[39m MyClass()\n\u001b[1;32m     12\u001b[0m \u001b[38;5;66;03m# Access self.Dist\u001b[39;00m\n\u001b[0;32m---> 13\u001b[0m \u001b[38;5;28mprint\u001b[39m(obj\u001b[38;5;241m.\u001b[39mDist)\n",
      "File \u001b[0;32m~/anaconda3/lib/python3.11/site-packages/rich/jupyter.py:101\u001b[0m, in \u001b[0;36mprint\u001b[0;34m(*args, **kwargs)\u001b[0m\n\u001b[1;32m     99\u001b[0m \u001b[38;5;250m\u001b[39m\u001b[38;5;124;03m\"\"\"Proxy for Console print.\"\"\"\u001b[39;00m\n\u001b[1;32m    100\u001b[0m console \u001b[38;5;241m=\u001b[39m get_console()\n\u001b[0;32m--> 101\u001b[0m \u001b[38;5;28;01mreturn\u001b[39;00m console\u001b[38;5;241m.\u001b[39mprint(\u001b[38;5;241m*\u001b[39margs, \u001b[38;5;241m*\u001b[39m\u001b[38;5;241m*\u001b[39mkwargs)\n",
      "File \u001b[0;32m~/anaconda3/lib/python3.11/site-packages/rich/console.py:1674\u001b[0m, in \u001b[0;36mConsole.print\u001b[0;34m(self, sep, end, style, justify, overflow, no_wrap, emoji, markup, highlight, width, height, crop, soft_wrap, new_line_start, *objects)\u001b[0m\n\u001b[1;32m   1672\u001b[0m render_hooks \u001b[38;5;241m=\u001b[39m \u001b[38;5;28mself\u001b[39m\u001b[38;5;241m.\u001b[39m_render_hooks[:]\n\u001b[1;32m   1673\u001b[0m \u001b[38;5;28;01mwith\u001b[39;00m \u001b[38;5;28mself\u001b[39m:\n\u001b[0;32m-> 1674\u001b[0m     renderables \u001b[38;5;241m=\u001b[39m \u001b[38;5;28mself\u001b[39m\u001b[38;5;241m.\u001b[39m_collect_renderables(\n\u001b[1;32m   1675\u001b[0m         objects,\n\u001b[1;32m   1676\u001b[0m         sep,\n\u001b[1;32m   1677\u001b[0m         end,\n\u001b[1;32m   1678\u001b[0m         justify\u001b[38;5;241m=\u001b[39mjustify,\n\u001b[1;32m   1679\u001b[0m         emoji\u001b[38;5;241m=\u001b[39memoji,\n\u001b[1;32m   1680\u001b[0m         markup\u001b[38;5;241m=\u001b[39mmarkup,\n\u001b[1;32m   1681\u001b[0m         highlight\u001b[38;5;241m=\u001b[39mhighlight,\n\u001b[1;32m   1682\u001b[0m     )\n\u001b[1;32m   1683\u001b[0m     \u001b[38;5;28;01mfor\u001b[39;00m hook \u001b[38;5;129;01min\u001b[39;00m render_hooks:\n\u001b[1;32m   1684\u001b[0m         renderables \u001b[38;5;241m=\u001b[39m hook\u001b[38;5;241m.\u001b[39mprocess_renderables(renderables)\n",
      "File \u001b[0;32m~/anaconda3/lib/python3.11/site-packages/rich/console.py:1551\u001b[0m, in \u001b[0;36mConsole._collect_renderables\u001b[0;34m(self, objects, sep, end, justify, emoji, markup, highlight)\u001b[0m\n\u001b[1;32m   1549\u001b[0m         append(Pretty(renderable, highlighter\u001b[38;5;241m=\u001b[39m_highlighter))\n\u001b[1;32m   1550\u001b[0m     \u001b[38;5;28;01melse\u001b[39;00m:\n\u001b[0;32m-> 1551\u001b[0m         append_text(_highlighter(\u001b[38;5;28mstr\u001b[39m(renderable)))\n\u001b[1;32m   1553\u001b[0m check_text()\n\u001b[1;32m   1555\u001b[0m \u001b[38;5;28;01mif\u001b[39;00m \u001b[38;5;28mself\u001b[39m\u001b[38;5;241m.\u001b[39mstyle \u001b[38;5;129;01mis\u001b[39;00m \u001b[38;5;129;01mnot\u001b[39;00m \u001b[38;5;28;01mNone\u001b[39;00m:\n",
      "File \u001b[0;32m~/anaconda3/lib/python3.11/site-packages/torch/distributions/distribution.py:329\u001b[0m, in \u001b[0;36mDistribution.__repr__\u001b[0;34m(self)\u001b[0m\n\u001b[1;32m    328\u001b[0m \u001b[38;5;28;01mdef\u001b[39;00m \u001b[38;5;21m__repr__\u001b[39m(\u001b[38;5;28mself\u001b[39m) \u001b[38;5;241m-\u001b[39m\u001b[38;5;241m>\u001b[39m \u001b[38;5;28mstr\u001b[39m:\n\u001b[0;32m--> 329\u001b[0m     param_names \u001b[38;5;241m=\u001b[39m [k \u001b[38;5;28;01mfor\u001b[39;00m k, _ \u001b[38;5;129;01min\u001b[39;00m \u001b[38;5;28mself\u001b[39m\u001b[38;5;241m.\u001b[39marg_constraints\u001b[38;5;241m.\u001b[39mitems() \u001b[38;5;28;01mif\u001b[39;00m k \u001b[38;5;129;01min\u001b[39;00m \u001b[38;5;28mself\u001b[39m\u001b[38;5;241m.\u001b[39m\u001b[38;5;18m__dict__\u001b[39m]\n\u001b[1;32m    330\u001b[0m     args_string \u001b[38;5;241m=\u001b[39m \u001b[38;5;124m\"\u001b[39m\u001b[38;5;124m, \u001b[39m\u001b[38;5;124m\"\u001b[39m\u001b[38;5;241m.\u001b[39mjoin(\n\u001b[1;32m    331\u001b[0m         [\n\u001b[1;32m    332\u001b[0m             \u001b[38;5;124mf\u001b[39m\u001b[38;5;124m\"\u001b[39m\u001b[38;5;132;01m{\u001b[39;00mp\u001b[38;5;132;01m}\u001b[39;00m\u001b[38;5;124m: \u001b[39m\u001b[38;5;132;01m{\u001b[39;00m\u001b[38;5;28mself\u001b[39m\u001b[38;5;241m.\u001b[39m\u001b[38;5;18m__dict__\u001b[39m[p]\u001b[38;5;250m \u001b[39m\u001b[38;5;28;01mif\u001b[39;00m\u001b[38;5;250m \u001b[39m\u001b[38;5;28mself\u001b[39m\u001b[38;5;241m.\u001b[39m\u001b[38;5;18m__dict__\u001b[39m[p]\u001b[38;5;241m.\u001b[39mnumel()\u001b[38;5;250m \u001b[39m\u001b[38;5;241m==\u001b[39m\u001b[38;5;250m \u001b[39m\u001b[38;5;241m1\u001b[39m\u001b[38;5;250m \u001b[39m\u001b[38;5;28;01melse\u001b[39;00m\u001b[38;5;250m \u001b[39m\u001b[38;5;28mself\u001b[39m\u001b[38;5;241m.\u001b[39m\u001b[38;5;18m__dict__\u001b[39m[p]\u001b[38;5;241m.\u001b[39msize()\u001b[38;5;132;01m}\u001b[39;00m\u001b[38;5;124m\"\u001b[39m\n\u001b[1;32m    333\u001b[0m             \u001b[38;5;28;01mfor\u001b[39;00m p \u001b[38;5;129;01min\u001b[39;00m param_names\n\u001b[1;32m    334\u001b[0m         ]\n\u001b[1;32m    335\u001b[0m     )\n\u001b[1;32m    336\u001b[0m     \u001b[38;5;28;01mreturn\u001b[39;00m \u001b[38;5;28mself\u001b[39m\u001b[38;5;241m.\u001b[39m\u001b[38;5;18m__class__\u001b[39m\u001b[38;5;241m.\u001b[39m\u001b[38;5;18m__name__\u001b[39m \u001b[38;5;241m+\u001b[39m \u001b[38;5;124m\"\u001b[39m\u001b[38;5;124m(\u001b[39m\u001b[38;5;124m\"\u001b[39m \u001b[38;5;241m+\u001b[39m args_string \u001b[38;5;241m+\u001b[39m \u001b[38;5;124m\"\u001b[39m\u001b[38;5;124m)\u001b[39m\u001b[38;5;124m\"\u001b[39m\n",
      "File \u001b[0;32m~/anaconda3/lib/python3.11/site-packages/torch/distributions/distribution.py:120\u001b[0m, in \u001b[0;36mDistribution.arg_constraints\u001b[0;34m(self)\u001b[0m\n\u001b[1;32m    112\u001b[0m \u001b[38;5;129m@property\u001b[39m\n\u001b[1;32m    113\u001b[0m \u001b[38;5;28;01mdef\u001b[39;00m \u001b[38;5;21marg_constraints\u001b[39m(\u001b[38;5;28mself\u001b[39m) \u001b[38;5;241m-\u001b[39m\u001b[38;5;241m>\u001b[39m Dict[\u001b[38;5;28mstr\u001b[39m, constraints\u001b[38;5;241m.\u001b[39mConstraint]:\n\u001b[1;32m    114\u001b[0m \u001b[38;5;250m    \u001b[39m\u001b[38;5;124;03m\"\"\"\u001b[39;00m\n\u001b[1;32m    115\u001b[0m \u001b[38;5;124;03m    Returns a dictionary from argument names to\u001b[39;00m\n\u001b[1;32m    116\u001b[0m \u001b[38;5;124;03m    :class:`~torch.distributions.constraints.Constraint` objects that\u001b[39;00m\n\u001b[1;32m    117\u001b[0m \u001b[38;5;124;03m    should be satisfied by each argument of this distribution. Args that\u001b[39;00m\n\u001b[1;32m    118\u001b[0m \u001b[38;5;124;03m    are not tensors need not appear in this dict.\u001b[39;00m\n\u001b[1;32m    119\u001b[0m \u001b[38;5;124;03m    \"\"\"\u001b[39;00m\n\u001b[0;32m--> 120\u001b[0m     \u001b[38;5;28;01mraise\u001b[39;00m \u001b[38;5;167;01mNotImplementedError\u001b[39;00m\n",
      "\u001b[0;31mNotImplementedError\u001b[0m: "
     ]
    }
   ],
   "source": [
    "class MyClass:\n",
    "    def __init__(self):\n",
    "        self.Dist = dists.Distribution()  # Initialization here\n",
    "\n",
    "    def some_method(self):\n",
    "        # Now you can use self.Dist\n",
    "        pass\n",
    "\n",
    "# Create an instance of MyClass\n",
    "obj = MyClass()\n",
    "\n",
    "# Access self.Dist\n",
    "print(obj.Dist)"
   ]
  },
  {
   "cell_type": "code",
   "execution_count": null,
   "id": "8aa9198c-19dd-40fc-bed2-8fb8097a21af",
   "metadata": {},
   "outputs": [],
   "source": []
  },
  {
   "cell_type": "code",
   "execution_count": 9,
   "id": "ca3aee9a-296d-4e7a-91b7-c682919901cd",
   "metadata": {},
   "outputs": [],
   "source": [
    "a = obj.Dist"
   ]
  },
  {
   "cell_type": "code",
   "execution_count": 7,
   "id": "90977b0b-2f4f-4481-9690-b9fdfa50a931",
   "metadata": {},
   "outputs": [
    {
     "data": {
      "text/plain": [
       "\u001b[0;31mType:\u001b[0m      Distribution\n",
       "\u001b[0;31mFile:\u001b[0m      ~/anaconda3/lib/python3.11/site-packages/torch/distributions/distribution.py\n",
       "\u001b[0;31mDocstring:\u001b[0m Distribution is the abstract base class for probability distributions."
      ]
     },
     "metadata": {},
     "output_type": "display_data"
    }
   ],
   "source": [
    "a?"
   ]
  },
  {
   "cell_type": "code",
   "execution_count": 8,
   "id": "a5198996-fbcf-44f2-bb6e-70ce2d3c9c45",
   "metadata": {},
   "outputs": [
    {
     "ename": "TypeError",
     "evalue": "'Distribution' object is not callable",
     "output_type": "error",
     "traceback": [
      "\u001b[0;31m---------------------------------------------------------------------------\u001b[0m",
      "\u001b[0;31mTypeError\u001b[0m                                 Traceback (most recent call last)",
      "Cell \u001b[0;32mIn[8], line 1\u001b[0m\n\u001b[0;32m----> 1\u001b[0m obj\u001b[38;5;241m.\u001b[39mDist()\n",
      "\u001b[0;31mTypeError\u001b[0m: 'Distribution' object is not callable"
     ]
    }
   ],
   "source": []
  },
  {
   "cell_type": "code",
   "execution_count": null,
   "id": "f142abff-685b-4142-b5ed-50d54b602bb0",
   "metadata": {},
   "outputs": [],
   "source": []
  },
  {
   "cell_type": "code",
   "execution_count": null,
   "id": "8ef184b7-f82c-4b29-9210-91ad0ae451c9",
   "metadata": {},
   "outputs": [],
   "source": []
  },
  {
   "cell_type": "code",
   "execution_count": null,
   "id": "c2a7f91d-145e-44cc-9e42-e596971ca17d",
   "metadata": {},
   "outputs": [],
   "source": []
  },
  {
   "cell_type": "code",
   "execution_count": null,
   "id": "bc6da45e-b694-4bff-a95a-21a7c3eaaef3",
   "metadata": {},
   "outputs": [],
   "source": []
  }
 ],
 "metadata": {
  "kernelspec": {
   "display_name": "Python 3 (ipykernel)",
   "language": "python",
   "name": "python3"
  },
  "language_info": {
   "codemirror_mode": {
    "name": "ipython",
    "version": 3
   },
   "file_extension": ".py",
   "mimetype": "text/x-python",
   "name": "python",
   "nbconvert_exporter": "python",
   "pygments_lexer": "ipython3",
   "version": "3.11.8"
  }
 },
 "nbformat": 4,
 "nbformat_minor": 5
}
