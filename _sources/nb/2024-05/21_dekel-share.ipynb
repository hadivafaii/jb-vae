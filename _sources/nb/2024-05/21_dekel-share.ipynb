{
 "cells": [
  {
   "cell_type": "markdown",
   "id": "68c49500-d331-4529-a189-66955134371a",
   "metadata": {},
   "source": [
    "# (21) Dekel Sharing Stuff\n",
    "\n",
    "**Motivation**: Device = ```cuda:1``` <br>"
   ]
  },
  {
   "cell_type": "code",
   "execution_count": 1,
   "id": "721412ee-9fe2-4e48-910d-37a7304ed31d",
   "metadata": {
    "tags": [
     "hide-input"
    ]
   },
   "outputs": [],
   "source": [
    "# HIDE CODE\n",
    "\n",
    "\n",
    "import os, sys\n",
    "from IPython.display import display\n",
    "\n",
    "# tmp & extras dir\n",
    "git_dir = os.path.join(os.environ['HOME'], 'Dropbox/git')\n",
    "extras_dir = os.path.join(git_dir, 'jb-vae/_extras')\n",
    "fig_base_dir = os.path.join(git_dir, 'jb-vae/figs')\n",
    "tmp_dir = os.path.join(git_dir, 'jb-vae/tmp')\n",
    "\n",
    "# GitHub\n",
    "sys.path.insert(0, os.path.join(git_dir, '_PoissonVAE'))\n",
    "from analysis.eval import sparse_score\n",
    "from figures.fighelper import *\n",
    "from vae.train_vae import *\n",
    "\n",
    "# warnings, tqdm, & style\n",
    "warnings.filterwarnings('ignore', category=DeprecationWarning)\n",
    "warnings.filterwarnings('ignore', category=FutureWarning)\n",
    "warnings.filterwarnings('ignore', category=UserWarning)\n",
    "from rich.jupyter import print\n",
    "%matplotlib inline\n",
    "set_style()"
   ]
  },
  {
   "cell_type": "markdown",
   "id": "b53a8ee9-7fa2-4903-925a-12fb15c60166",
   "metadata": {},
   "source": [
    "## Device"
   ]
  },
  {
   "cell_type": "code",
   "execution_count": 2,
   "id": "d7b94732-ef0f-4cf3-ba3a-241743b56306",
   "metadata": {},
   "outputs": [],
   "source": [
    "device_idx = 1\n",
    "device = f'cuda:{device_idx}'\n",
    "\n",
    "from analysis.final import sort_fits, analyze_fits, add_nelbo_diff\n",
    "from figures.table import table_entry_loss\n",
    "from figures.point import nelbo_point\n",
    "from analysis.stats import ttest"
   ]
  },
  {
   "cell_type": "markdown",
   "id": "181b665c-d6d5-4a1b-84d3-ad8bd8037a75",
   "metadata": {},
   "source": [
    "## Load, make df"
   ]
  },
  {
   "cell_type": "markdown",
   "id": "8c2f0da6-427f-472e-b19a-8d1d5ddc084c",
   "metadata": {},
   "source": [
    "### Fit names"
   ]
  },
  {
   "cell_type": "code",
   "execution_count": 3,
   "id": "e49efe22-08b9-4c5e-9661-63fa2b911444",
   "metadata": {},
   "outputs": [
    {
     "data": {
      "text/plain": [
       "(460, 90, 527)"
      ]
     },
     "execution_count": 3,
     "metadata": {},
     "output_type": "execute_result"
    }
   ],
   "source": [
    "root = add_home('Dropbox/chkpts/PoissonVAE')\n",
    "\n",
    "fits, fits_st, fits_etc = sort_fits()\n",
    "len(fits), len(fits_st), len(fits_etc)"
   ]
  },
  {
   "cell_type": "code",
   "execution_count": 4,
   "id": "8abf7360-86a3-4d0b-89b7-b62182b629e9",
   "metadata": {},
   "outputs": [
    {
     "data": {
      "text/html": [
       "<pre style=\"white-space:pre;overflow-x:auto;line-height:normal;font-family:Menlo,'DejaVu Sans Mono',consolas,'Courier New',monospace\"># fits: <span style=\"color: #008080; text-decoration-color: #008080; font-weight: bold\">240</span> ——— # fits_st: <span style=\"color: #008080; text-decoration-color: #008080; font-weight: bold\">60</span> ——— # fits_etc: <span style=\"color: #008080; text-decoration-color: #008080; font-weight: bold\">60</span>\n",
       "</pre>\n"
      ],
      "text/plain": [
       "# fits: \u001b[1;36m240\u001b[0m ——— # fits_st: \u001b[1;36m60\u001b[0m ——— # fits_etc: \u001b[1;36m60\u001b[0m\n"
      ]
     },
     "metadata": {},
     "output_type": "display_data"
    }
   ],
   "source": [
    "def accept_fn(name):\n",
    "    archi = name.split('-')[1]\n",
    "    accept = (\n",
    "        archi in ['<lin|lin>', '<conv+b|lin>']\n",
    "        and '-b' not in name\n",
    "    )\n",
    "    return accept\n",
    "\n",
    "\n",
    "def accept_fn_etc(name):\n",
    "    archi = name.split('-')[1]\n",
    "    accept = (\n",
    "        archi in ['<lin|lin>', '<conv+b|lin>']\n",
    "        and any(fn in name for fn in ['relu', 'exp'])\n",
    "        and 'gaussian' in name\n",
    "        and '-b' not in name\n",
    "    )\n",
    "    return accept\n",
    "\n",
    "\n",
    "fits, fits_st, fits_etc = sort_fits()\n",
    "\n",
    "fits = sorted(filter(accept_fn, fits))\n",
    "fits_st = sorted(filter(accept_fn, fits_st))\n",
    "fits_etc = sorted(filter(accept_fn_etc, fits_etc))\n",
    "\n",
    "msg = ' ——— '.join([\n",
    "    f\"# fits: {len(fits)}\",\n",
    "    f\"# fits_st: {len(fits_st)}\",\n",
    "    f\"# fits_etc: {len(fits_etc)}\",\n",
    "])\n",
    "print(msg)"
   ]
  },
  {
   "cell_type": "code",
   "execution_count": null,
   "id": "d6d4e109-106c-4758-a54c-d7645c45847b",
   "metadata": {},
   "outputs": [],
   "source": []
  },
  {
   "cell_type": "code",
   "execution_count": 5,
   "id": "6b1852ea-c69c-441a-a9ea-80b4fcb566c7",
   "metadata": {},
   "outputs": [
    {
     "data": {
      "text/html": [
       "<pre style=\"white-space:pre;overflow-x:auto;line-height:normal;font-family:Menlo,'DejaVu Sans Mono',consolas,'Courier New',monospace\"># fits_dekel <span style=\"color: #008080; text-decoration-color: #008080; font-weight: bold\">30</span>\n",
       "</pre>\n"
      ],
      "text/plain": [
       "# fits_dekel \u001b[1;36m30\u001b[0m\n"
      ]
     },
     "metadata": {},
     "output_type": "display_data"
    }
   ],
   "source": [
    "def accept_fn_dekel(name):\n",
    "    archi = name.split('-')[1]\n",
    "    accept = (\n",
    "        archi == '<conv+b|lin>'\n",
    "        and '-exact_' not in name\n",
    "        and 'DOVES' in name\n",
    "    )\n",
    "    return accept\n",
    "\n",
    "fits_dekel = sorted(filter(accept_fn_dekel, fits + fits_etc))\n",
    "print(f\"# fits_dekel {len(fits_dekel)}\")"
   ]
  },
  {
   "cell_type": "code",
   "execution_count": null,
   "id": "e22ca5b5-84b9-483e-b1fe-f4ce19ea3eed",
   "metadata": {},
   "outputs": [],
   "source": []
  },
  {
   "cell_type": "code",
   "execution_count": 12,
   "id": "fd32746e-4944-44ba-8853-b42aa5387b48",
   "metadata": {},
   "outputs": [
    {
     "data": {
      "text/html": [
       "<pre style=\"white-space:pre;overflow-x:auto;line-height:normal;font-family:Menlo,'DejaVu Sans Mono',consolas,'Courier New',monospace\">name: categorical-<span style=\"font-weight: bold\">&lt;</span><span style=\"color: #ff00ff; text-decoration-color: #ff00ff; font-weight: bold\">conv</span><span style=\"color: #000000; text-decoration-color: #000000\">+b|lin</span><span style=\"font-weight: bold\">&gt;</span>-DOVES-mc_solo-<span style=\"color: #800080; text-decoration-color: #800080; font-weight: bold\">1_</span><span style=\"font-weight: bold\">(</span>2024_05_16,<span style=\"color: #00ff00; text-decoration-color: #00ff00; font-weight: bold\">21:55</span><span style=\"font-weight: bold\">)</span> ——— # dead: <span style=\"color: #008080; text-decoration-color: #008080; font-weight: bold\">2</span>\n",
       "</pre>\n"
      ],
      "text/plain": [
       "name: categorical-\u001b[1m<\u001b[0m\u001b[1;95mconv\u001b[0m\u001b[39m+b|lin\u001b[0m\u001b[1m>\u001b[0m-DOVES-mc_solo-\u001b[1;35m1_\u001b[0m\u001b[1m(\u001b[0m2024_05_16,\u001b[1;92m21:55\u001b[0m\u001b[1m)\u001b[0m ——— # dead: \u001b[1;36m2\u001b[0m\n"
      ]
     },
     "metadata": {},
     "output_type": "display_data"
    },
    {
     "data": {
      "text/html": [
       "<pre style=\"white-space:pre;overflow-x:auto;line-height:normal;font-family:Menlo,'DejaVu Sans Mono',consolas,'Courier New',monospace\">name: categorical-<span style=\"font-weight: bold\">&lt;</span><span style=\"color: #ff00ff; text-decoration-color: #ff00ff; font-weight: bold\">conv</span><span style=\"color: #000000; text-decoration-color: #000000\">+b|lin</span><span style=\"font-weight: bold\">&gt;</span>-DOVES-mc_solo-<span style=\"color: #800080; text-decoration-color: #800080; font-weight: bold\">2_</span><span style=\"font-weight: bold\">(</span>2024_05_17,<span style=\"color: #00ff00; text-decoration-color: #00ff00; font-weight: bold\">08:12</span><span style=\"font-weight: bold\">)</span> ——— # dead: <span style=\"color: #008080; text-decoration-color: #008080; font-weight: bold\">2</span>\n",
       "</pre>\n"
      ],
      "text/plain": [
       "name: categorical-\u001b[1m<\u001b[0m\u001b[1;95mconv\u001b[0m\u001b[39m+b|lin\u001b[0m\u001b[1m>\u001b[0m-DOVES-mc_solo-\u001b[1;35m2_\u001b[0m\u001b[1m(\u001b[0m2024_05_17,\u001b[1;92m08:12\u001b[0m\u001b[1m)\u001b[0m ——— # dead: \u001b[1;36m2\u001b[0m\n"
      ]
     },
     "metadata": {},
     "output_type": "display_data"
    },
    {
     "data": {
      "text/html": [
       "<pre style=\"white-space:pre;overflow-x:auto;line-height:normal;font-family:Menlo,'DejaVu Sans Mono',consolas,'Courier New',monospace\">name: categorical-<span style=\"font-weight: bold\">&lt;</span><span style=\"color: #ff00ff; text-decoration-color: #ff00ff; font-weight: bold\">conv</span><span style=\"color: #000000; text-decoration-color: #000000\">+b|lin</span><span style=\"font-weight: bold\">&gt;</span>-DOVES-mc_solo-<span style=\"color: #800080; text-decoration-color: #800080; font-weight: bold\">3_</span><span style=\"font-weight: bold\">(</span>2024_05_17,<span style=\"color: #00ff00; text-decoration-color: #00ff00; font-weight: bold\">17:26</span><span style=\"font-weight: bold\">)</span> ——— # dead: <span style=\"color: #008080; text-decoration-color: #008080; font-weight: bold\">2</span>\n",
       "</pre>\n"
      ],
      "text/plain": [
       "name: categorical-\u001b[1m<\u001b[0m\u001b[1;95mconv\u001b[0m\u001b[39m+b|lin\u001b[0m\u001b[1m>\u001b[0m-DOVES-mc_solo-\u001b[1;35m3_\u001b[0m\u001b[1m(\u001b[0m2024_05_17,\u001b[1;92m17:26\u001b[0m\u001b[1m)\u001b[0m ——— # dead: \u001b[1;36m2\u001b[0m\n"
      ]
     },
     "metadata": {},
     "output_type": "display_data"
    },
    {
     "data": {
      "text/html": [
       "<pre style=\"white-space:pre;overflow-x:auto;line-height:normal;font-family:Menlo,'DejaVu Sans Mono',consolas,'Courier New',monospace\">name: categorical-<span style=\"font-weight: bold\">&lt;</span><span style=\"color: #ff00ff; text-decoration-color: #ff00ff; font-weight: bold\">conv</span><span style=\"color: #000000; text-decoration-color: #000000\">+b|lin</span><span style=\"font-weight: bold\">&gt;</span>-DOVES-mc_solo-<span style=\"color: #800080; text-decoration-color: #800080; font-weight: bold\">4_</span><span style=\"font-weight: bold\">(</span>2024_05_14,<span style=\"color: #00ff00; text-decoration-color: #00ff00; font-weight: bold\">06:07</span><span style=\"font-weight: bold\">)</span> ——— # dead: <span style=\"color: #008080; text-decoration-color: #008080; font-weight: bold\">2</span>\n",
       "</pre>\n"
      ],
      "text/plain": [
       "name: categorical-\u001b[1m<\u001b[0m\u001b[1;95mconv\u001b[0m\u001b[39m+b|lin\u001b[0m\u001b[1m>\u001b[0m-DOVES-mc_solo-\u001b[1;35m4_\u001b[0m\u001b[1m(\u001b[0m2024_05_14,\u001b[1;92m06:07\u001b[0m\u001b[1m)\u001b[0m ——— # dead: \u001b[1;36m2\u001b[0m\n"
      ]
     },
     "metadata": {},
     "output_type": "display_data"
    },
    {
     "data": {
      "text/html": [
       "<pre style=\"white-space:pre;overflow-x:auto;line-height:normal;font-family:Menlo,'DejaVu Sans Mono',consolas,'Courier New',monospace\">name: categorical-<span style=\"font-weight: bold\">&lt;</span><span style=\"color: #ff00ff; text-decoration-color: #ff00ff; font-weight: bold\">conv</span><span style=\"color: #000000; text-decoration-color: #000000\">+b|lin</span><span style=\"font-weight: bold\">&gt;</span>-DOVES-mc_solo-<span style=\"color: #800080; text-decoration-color: #800080; font-weight: bold\">5_</span><span style=\"font-weight: bold\">(</span>2024_05_14,<span style=\"color: #00ff00; text-decoration-color: #00ff00; font-weight: bold\">15:47</span><span style=\"font-weight: bold\">)</span> ——— # dead: <span style=\"color: #008080; text-decoration-color: #008080; font-weight: bold\">2</span>\n",
       "</pre>\n"
      ],
      "text/plain": [
       "name: categorical-\u001b[1m<\u001b[0m\u001b[1;95mconv\u001b[0m\u001b[39m+b|lin\u001b[0m\u001b[1m>\u001b[0m-DOVES-mc_solo-\u001b[1;35m5_\u001b[0m\u001b[1m(\u001b[0m2024_05_14,\u001b[1;92m15:47\u001b[0m\u001b[1m)\u001b[0m ——— # dead: \u001b[1;36m2\u001b[0m\n"
      ]
     },
     "metadata": {},
     "output_type": "display_data"
    },
    {
     "data": {
      "text/html": [
       "<pre style=\"white-space:pre;overflow-x:auto;line-height:normal;font-family:Menlo,'DejaVu Sans Mono',consolas,'Courier New',monospace\">name: gaussian-<span style=\"font-weight: bold\">&lt;</span><span style=\"color: #ff00ff; text-decoration-color: #ff00ff; font-weight: bold\">conv</span><span style=\"color: #000000; text-decoration-color: #000000\">+b|lin</span><span style=\"font-weight: bold\">&gt;</span>-DOVES-mc-exp_solo-<span style=\"color: #800080; text-decoration-color: #800080; font-weight: bold\">1_</span><span style=\"font-weight: bold\">(</span>2024_05_14,<span style=\"color: #00ff00; text-decoration-color: #00ff00; font-weight: bold\">21:49</span><span style=\"font-weight: bold\">)</span> ——— # dead: <span style=\"color: #008080; text-decoration-color: #008080; font-weight: bold\">400</span>\n",
       "</pre>\n"
      ],
      "text/plain": [
       "name: gaussian-\u001b[1m<\u001b[0m\u001b[1;95mconv\u001b[0m\u001b[39m+b|lin\u001b[0m\u001b[1m>\u001b[0m-DOVES-mc-exp_solo-\u001b[1;35m1_\u001b[0m\u001b[1m(\u001b[0m2024_05_14,\u001b[1;92m21:49\u001b[0m\u001b[1m)\u001b[0m ——— # dead: \u001b[1;36m400\u001b[0m\n"
      ]
     },
     "metadata": {},
     "output_type": "display_data"
    },
    {
     "data": {
      "text/html": [
       "<pre style=\"white-space:pre;overflow-x:auto;line-height:normal;font-family:Menlo,'DejaVu Sans Mono',consolas,'Courier New',monospace\">name: gaussian-<span style=\"font-weight: bold\">&lt;</span><span style=\"color: #ff00ff; text-decoration-color: #ff00ff; font-weight: bold\">conv</span><span style=\"color: #000000; text-decoration-color: #000000\">+b|lin</span><span style=\"font-weight: bold\">&gt;</span>-DOVES-mc-exp_solo-<span style=\"color: #800080; text-decoration-color: #800080; font-weight: bold\">2_</span><span style=\"font-weight: bold\">(</span>2024_05_15,<span style=\"color: #00ff00; text-decoration-color: #00ff00; font-weight: bold\">02:50</span><span style=\"font-weight: bold\">)</span> ——— # dead: <span style=\"color: #008080; text-decoration-color: #008080; font-weight: bold\">0</span>\n",
       "</pre>\n"
      ],
      "text/plain": [
       "name: gaussian-\u001b[1m<\u001b[0m\u001b[1;95mconv\u001b[0m\u001b[39m+b|lin\u001b[0m\u001b[1m>\u001b[0m-DOVES-mc-exp_solo-\u001b[1;35m2_\u001b[0m\u001b[1m(\u001b[0m2024_05_15,\u001b[1;92m02:50\u001b[0m\u001b[1m)\u001b[0m ——— # dead: \u001b[1;36m0\u001b[0m\n"
      ]
     },
     "metadata": {},
     "output_type": "display_data"
    },
    {
     "data": {
      "text/html": [
       "<pre style=\"white-space:pre;overflow-x:auto;line-height:normal;font-family:Menlo,'DejaVu Sans Mono',consolas,'Courier New',monospace\">name: gaussian-<span style=\"font-weight: bold\">&lt;</span><span style=\"color: #ff00ff; text-decoration-color: #ff00ff; font-weight: bold\">conv</span><span style=\"color: #000000; text-decoration-color: #000000\">+b|lin</span><span style=\"font-weight: bold\">&gt;</span>-DOVES-mc-exp_solo-<span style=\"color: #800080; text-decoration-color: #800080; font-weight: bold\">3_</span><span style=\"font-weight: bold\">(</span>2024_05_15,<span style=\"color: #00ff00; text-decoration-color: #00ff00; font-weight: bold\">07:55</span><span style=\"font-weight: bold\">)</span> ——— # dead: <span style=\"color: #008080; text-decoration-color: #008080; font-weight: bold\">399</span>\n",
       "</pre>\n"
      ],
      "text/plain": [
       "name: gaussian-\u001b[1m<\u001b[0m\u001b[1;95mconv\u001b[0m\u001b[39m+b|lin\u001b[0m\u001b[1m>\u001b[0m-DOVES-mc-exp_solo-\u001b[1;35m3_\u001b[0m\u001b[1m(\u001b[0m2024_05_15,\u001b[1;92m07:55\u001b[0m\u001b[1m)\u001b[0m ——— # dead: \u001b[1;36m399\u001b[0m\n"
      ]
     },
     "metadata": {},
     "output_type": "display_data"
    },
    {
     "data": {
      "text/html": [
       "<pre style=\"white-space:pre;overflow-x:auto;line-height:normal;font-family:Menlo,'DejaVu Sans Mono',consolas,'Courier New',monospace\">name: gaussian-<span style=\"font-weight: bold\">&lt;</span><span style=\"color: #ff00ff; text-decoration-color: #ff00ff; font-weight: bold\">conv</span><span style=\"color: #000000; text-decoration-color: #000000\">+b|lin</span><span style=\"font-weight: bold\">&gt;</span>-DOVES-mc-exp_solo-<span style=\"color: #800080; text-decoration-color: #800080; font-weight: bold\">4_</span><span style=\"font-weight: bold\">(</span>2024_05_15,<span style=\"color: #00ff00; text-decoration-color: #00ff00; font-weight: bold\">13:14</span><span style=\"font-weight: bold\">)</span> ——— # dead: <span style=\"color: #008080; text-decoration-color: #008080; font-weight: bold\">0</span>\n",
       "</pre>\n"
      ],
      "text/plain": [
       "name: gaussian-\u001b[1m<\u001b[0m\u001b[1;95mconv\u001b[0m\u001b[39m+b|lin\u001b[0m\u001b[1m>\u001b[0m-DOVES-mc-exp_solo-\u001b[1;35m4_\u001b[0m\u001b[1m(\u001b[0m2024_05_15,\u001b[1;92m13:14\u001b[0m\u001b[1m)\u001b[0m ——— # dead: \u001b[1;36m0\u001b[0m\n"
      ]
     },
     "metadata": {},
     "output_type": "display_data"
    },
    {
     "data": {
      "text/html": [
       "<pre style=\"white-space:pre;overflow-x:auto;line-height:normal;font-family:Menlo,'DejaVu Sans Mono',consolas,'Courier New',monospace\">name: gaussian-<span style=\"font-weight: bold\">&lt;</span><span style=\"color: #ff00ff; text-decoration-color: #ff00ff; font-weight: bold\">conv</span><span style=\"color: #000000; text-decoration-color: #000000\">+b|lin</span><span style=\"font-weight: bold\">&gt;</span>-DOVES-mc-exp_solo-<span style=\"color: #800080; text-decoration-color: #800080; font-weight: bold\">5_</span><span style=\"font-weight: bold\">(</span>2024_05_15,<span style=\"color: #00ff00; text-decoration-color: #00ff00; font-weight: bold\">18:39</span><span style=\"font-weight: bold\">)</span> ——— # dead: <span style=\"color: #008080; text-decoration-color: #008080; font-weight: bold\">400</span>\n",
       "</pre>\n"
      ],
      "text/plain": [
       "name: gaussian-\u001b[1m<\u001b[0m\u001b[1;95mconv\u001b[0m\u001b[39m+b|lin\u001b[0m\u001b[1m>\u001b[0m-DOVES-mc-exp_solo-\u001b[1;35m5_\u001b[0m\u001b[1m(\u001b[0m2024_05_15,\u001b[1;92m18:39\u001b[0m\u001b[1m)\u001b[0m ——— # dead: \u001b[1;36m400\u001b[0m\n"
      ]
     },
     "metadata": {},
     "output_type": "display_data"
    },
    {
     "data": {
      "text/html": [
       "<pre style=\"white-space:pre;overflow-x:auto;line-height:normal;font-family:Menlo,'DejaVu Sans Mono',consolas,'Courier New',monospace\">name: gaussian-<span style=\"font-weight: bold\">&lt;</span><span style=\"color: #ff00ff; text-decoration-color: #ff00ff; font-weight: bold\">conv</span><span style=\"color: #000000; text-decoration-color: #000000\">+b|lin</span><span style=\"font-weight: bold\">&gt;</span>-DOVES-mc-relu_solo-<span style=\"color: #800080; text-decoration-color: #800080; font-weight: bold\">1_</span><span style=\"font-weight: bold\">(</span>2024_05_15,<span style=\"color: #00ff00; text-decoration-color: #00ff00; font-weight: bold\">10:04</span><span style=\"font-weight: bold\">)</span> ——— # dead: <span style=\"color: #008080; text-decoration-color: #008080; font-weight: bold\">390</span>\n",
       "</pre>\n"
      ],
      "text/plain": [
       "name: gaussian-\u001b[1m<\u001b[0m\u001b[1;95mconv\u001b[0m\u001b[39m+b|lin\u001b[0m\u001b[1m>\u001b[0m-DOVES-mc-relu_solo-\u001b[1;35m1_\u001b[0m\u001b[1m(\u001b[0m2024_05_15,\u001b[1;92m10:04\u001b[0m\u001b[1m)\u001b[0m ——— # dead: \u001b[1;36m390\u001b[0m\n"
      ]
     },
     "metadata": {},
     "output_type": "display_data"
    },
    {
     "data": {
      "text/html": [
       "<pre style=\"white-space:pre;overflow-x:auto;line-height:normal;font-family:Menlo,'DejaVu Sans Mono',consolas,'Courier New',monospace\">name: gaussian-<span style=\"font-weight: bold\">&lt;</span><span style=\"color: #ff00ff; text-decoration-color: #ff00ff; font-weight: bold\">conv</span><span style=\"color: #000000; text-decoration-color: #000000\">+b|lin</span><span style=\"font-weight: bold\">&gt;</span>-DOVES-mc-relu_solo-<span style=\"color: #800080; text-decoration-color: #800080; font-weight: bold\">2_</span><span style=\"font-weight: bold\">(</span>2024_05_15,<span style=\"color: #00ff00; text-decoration-color: #00ff00; font-weight: bold\">15:56</span><span style=\"font-weight: bold\">)</span> ——— # dead: <span style=\"color: #008080; text-decoration-color: #008080; font-weight: bold\">393</span>\n",
       "</pre>\n"
      ],
      "text/plain": [
       "name: gaussian-\u001b[1m<\u001b[0m\u001b[1;95mconv\u001b[0m\u001b[39m+b|lin\u001b[0m\u001b[1m>\u001b[0m-DOVES-mc-relu_solo-\u001b[1;35m2_\u001b[0m\u001b[1m(\u001b[0m2024_05_15,\u001b[1;92m15:56\u001b[0m\u001b[1m)\u001b[0m ——— # dead: \u001b[1;36m393\u001b[0m\n"
      ]
     },
     "metadata": {},
     "output_type": "display_data"
    },
    {
     "data": {
      "text/html": [
       "<pre style=\"white-space:pre;overflow-x:auto;line-height:normal;font-family:Menlo,'DejaVu Sans Mono',consolas,'Courier New',monospace\">name: gaussian-<span style=\"font-weight: bold\">&lt;</span><span style=\"color: #ff00ff; text-decoration-color: #ff00ff; font-weight: bold\">conv</span><span style=\"color: #000000; text-decoration-color: #000000\">+b|lin</span><span style=\"font-weight: bold\">&gt;</span>-DOVES-mc-relu_solo-<span style=\"color: #800080; text-decoration-color: #800080; font-weight: bold\">3_</span><span style=\"font-weight: bold\">(</span>2024_05_15,<span style=\"color: #00ff00; text-decoration-color: #00ff00; font-weight: bold\">21:50</span><span style=\"font-weight: bold\">)</span> ——— # dead: <span style=\"color: #008080; text-decoration-color: #008080; font-weight: bold\">390</span>\n",
       "</pre>\n"
      ],
      "text/plain": [
       "name: gaussian-\u001b[1m<\u001b[0m\u001b[1;95mconv\u001b[0m\u001b[39m+b|lin\u001b[0m\u001b[1m>\u001b[0m-DOVES-mc-relu_solo-\u001b[1;35m3_\u001b[0m\u001b[1m(\u001b[0m2024_05_15,\u001b[1;92m21:50\u001b[0m\u001b[1m)\u001b[0m ——— # dead: \u001b[1;36m390\u001b[0m\n"
      ]
     },
     "metadata": {},
     "output_type": "display_data"
    },
    {
     "data": {
      "text/html": [
       "<pre style=\"white-space:pre;overflow-x:auto;line-height:normal;font-family:Menlo,'DejaVu Sans Mono',consolas,'Courier New',monospace\">name: gaussian-<span style=\"font-weight: bold\">&lt;</span><span style=\"color: #ff00ff; text-decoration-color: #ff00ff; font-weight: bold\">conv</span><span style=\"color: #000000; text-decoration-color: #000000\">+b|lin</span><span style=\"font-weight: bold\">&gt;</span>-DOVES-mc-relu_solo-<span style=\"color: #800080; text-decoration-color: #800080; font-weight: bold\">4_</span><span style=\"font-weight: bold\">(</span>2024_05_16,<span style=\"color: #00ff00; text-decoration-color: #00ff00; font-weight: bold\">03:43</span><span style=\"font-weight: bold\">)</span> ——— # dead: <span style=\"color: #008080; text-decoration-color: #008080; font-weight: bold\">392</span>\n",
       "</pre>\n"
      ],
      "text/plain": [
       "name: gaussian-\u001b[1m<\u001b[0m\u001b[1;95mconv\u001b[0m\u001b[39m+b|lin\u001b[0m\u001b[1m>\u001b[0m-DOVES-mc-relu_solo-\u001b[1;35m4_\u001b[0m\u001b[1m(\u001b[0m2024_05_16,\u001b[1;92m03:43\u001b[0m\u001b[1m)\u001b[0m ——— # dead: \u001b[1;36m392\u001b[0m\n"
      ]
     },
     "metadata": {},
     "output_type": "display_data"
    },
    {
     "data": {
      "text/html": [
       "<pre style=\"white-space:pre;overflow-x:auto;line-height:normal;font-family:Menlo,'DejaVu Sans Mono',consolas,'Courier New',monospace\">name: gaussian-<span style=\"font-weight: bold\">&lt;</span><span style=\"color: #ff00ff; text-decoration-color: #ff00ff; font-weight: bold\">conv</span><span style=\"color: #000000; text-decoration-color: #000000\">+b|lin</span><span style=\"font-weight: bold\">&gt;</span>-DOVES-mc-relu_solo-<span style=\"color: #800080; text-decoration-color: #800080; font-weight: bold\">5_</span><span style=\"font-weight: bold\">(</span>2024_05_16,<span style=\"color: #00ff00; text-decoration-color: #00ff00; font-weight: bold\">09:37</span><span style=\"font-weight: bold\">)</span> ——— # dead: <span style=\"color: #008080; text-decoration-color: #008080; font-weight: bold\">395</span>\n",
       "</pre>\n"
      ],
      "text/plain": [
       "name: gaussian-\u001b[1m<\u001b[0m\u001b[1;95mconv\u001b[0m\u001b[39m+b|lin\u001b[0m\u001b[1m>\u001b[0m-DOVES-mc-relu_solo-\u001b[1;35m5_\u001b[0m\u001b[1m(\u001b[0m2024_05_16,\u001b[1;92m09:37\u001b[0m\u001b[1m)\u001b[0m ——— # dead: \u001b[1;36m395\u001b[0m\n"
      ]
     },
     "metadata": {},
     "output_type": "display_data"
    },
    {
     "data": {
      "text/html": [
       "<pre style=\"white-space:pre;overflow-x:auto;line-height:normal;font-family:Menlo,'DejaVu Sans Mono',consolas,'Courier New',monospace\">name: gaussian-<span style=\"font-weight: bold\">&lt;</span><span style=\"color: #ff00ff; text-decoration-color: #ff00ff; font-weight: bold\">conv</span><span style=\"color: #000000; text-decoration-color: #000000\">+b|lin</span><span style=\"font-weight: bold\">&gt;</span>-DOVES-mc_solo-<span style=\"color: #800080; text-decoration-color: #800080; font-weight: bold\">1_</span><span style=\"font-weight: bold\">(</span>2024_05_14,<span style=\"color: #00ff00; text-decoration-color: #00ff00; font-weight: bold\">06:04</span><span style=\"font-weight: bold\">)</span> ——— # dead: <span style=\"color: #008080; text-decoration-color: #008080; font-weight: bold\">386</span>\n",
       "</pre>\n"
      ],
      "text/plain": [
       "name: gaussian-\u001b[1m<\u001b[0m\u001b[1;95mconv\u001b[0m\u001b[39m+b|lin\u001b[0m\u001b[1m>\u001b[0m-DOVES-mc_solo-\u001b[1;35m1_\u001b[0m\u001b[1m(\u001b[0m2024_05_14,\u001b[1;92m06:04\u001b[0m\u001b[1m)\u001b[0m ——— # dead: \u001b[1;36m386\u001b[0m\n"
      ]
     },
     "metadata": {},
     "output_type": "display_data"
    },
    {
     "data": {
      "text/html": [
       "<pre style=\"white-space:pre;overflow-x:auto;line-height:normal;font-family:Menlo,'DejaVu Sans Mono',consolas,'Courier New',monospace\">name: gaussian-<span style=\"font-weight: bold\">&lt;</span><span style=\"color: #ff00ff; text-decoration-color: #ff00ff; font-weight: bold\">conv</span><span style=\"color: #000000; text-decoration-color: #000000\">+b|lin</span><span style=\"font-weight: bold\">&gt;</span>-DOVES-mc_solo-<span style=\"color: #800080; text-decoration-color: #800080; font-weight: bold\">2_</span><span style=\"font-weight: bold\">(</span>2024_05_14,<span style=\"color: #00ff00; text-decoration-color: #00ff00; font-weight: bold\">15:55</span><span style=\"font-weight: bold\">)</span> ——— # dead: <span style=\"color: #008080; text-decoration-color: #008080; font-weight: bold\">386</span>\n",
       "</pre>\n"
      ],
      "text/plain": [
       "name: gaussian-\u001b[1m<\u001b[0m\u001b[1;95mconv\u001b[0m\u001b[39m+b|lin\u001b[0m\u001b[1m>\u001b[0m-DOVES-mc_solo-\u001b[1;35m2_\u001b[0m\u001b[1m(\u001b[0m2024_05_14,\u001b[1;92m15:55\u001b[0m\u001b[1m)\u001b[0m ——— # dead: \u001b[1;36m386\u001b[0m\n"
      ]
     },
     "metadata": {},
     "output_type": "display_data"
    },
    {
     "data": {
      "text/html": [
       "<pre style=\"white-space:pre;overflow-x:auto;line-height:normal;font-family:Menlo,'DejaVu Sans Mono',consolas,'Courier New',monospace\">name: gaussian-<span style=\"font-weight: bold\">&lt;</span><span style=\"color: #ff00ff; text-decoration-color: #ff00ff; font-weight: bold\">conv</span><span style=\"color: #000000; text-decoration-color: #000000\">+b|lin</span><span style=\"font-weight: bold\">&gt;</span>-DOVES-mc_solo-<span style=\"color: #800080; text-decoration-color: #800080; font-weight: bold\">3_</span><span style=\"font-weight: bold\">(</span>2024_05_15,<span style=\"color: #00ff00; text-decoration-color: #00ff00; font-weight: bold\">02:07</span><span style=\"font-weight: bold\">)</span> ——— # dead: <span style=\"color: #008080; text-decoration-color: #008080; font-weight: bold\">386</span>\n",
       "</pre>\n"
      ],
      "text/plain": [
       "name: gaussian-\u001b[1m<\u001b[0m\u001b[1;95mconv\u001b[0m\u001b[39m+b|lin\u001b[0m\u001b[1m>\u001b[0m-DOVES-mc_solo-\u001b[1;35m3_\u001b[0m\u001b[1m(\u001b[0m2024_05_15,\u001b[1;92m02:07\u001b[0m\u001b[1m)\u001b[0m ——— # dead: \u001b[1;36m386\u001b[0m\n"
      ]
     },
     "metadata": {},
     "output_type": "display_data"
    },
    {
     "data": {
      "text/html": [
       "<pre style=\"white-space:pre;overflow-x:auto;line-height:normal;font-family:Menlo,'DejaVu Sans Mono',consolas,'Courier New',monospace\">name: gaussian-<span style=\"font-weight: bold\">&lt;</span><span style=\"color: #ff00ff; text-decoration-color: #ff00ff; font-weight: bold\">conv</span><span style=\"color: #000000; text-decoration-color: #000000\">+b|lin</span><span style=\"font-weight: bold\">&gt;</span>-DOVES-mc_solo-<span style=\"color: #800080; text-decoration-color: #800080; font-weight: bold\">4_</span><span style=\"font-weight: bold\">(</span>2024_05_15,<span style=\"color: #00ff00; text-decoration-color: #00ff00; font-weight: bold\">12:29</span><span style=\"font-weight: bold\">)</span> ——— # dead: <span style=\"color: #008080; text-decoration-color: #008080; font-weight: bold\">386</span>\n",
       "</pre>\n"
      ],
      "text/plain": [
       "name: gaussian-\u001b[1m<\u001b[0m\u001b[1;95mconv\u001b[0m\u001b[39m+b|lin\u001b[0m\u001b[1m>\u001b[0m-DOVES-mc_solo-\u001b[1;35m4_\u001b[0m\u001b[1m(\u001b[0m2024_05_15,\u001b[1;92m12:29\u001b[0m\u001b[1m)\u001b[0m ——— # dead: \u001b[1;36m386\u001b[0m\n"
      ]
     },
     "metadata": {},
     "output_type": "display_data"
    },
    {
     "data": {
      "text/html": [
       "<pre style=\"white-space:pre;overflow-x:auto;line-height:normal;font-family:Menlo,'DejaVu Sans Mono',consolas,'Courier New',monospace\">name: gaussian-<span style=\"font-weight: bold\">&lt;</span><span style=\"color: #ff00ff; text-decoration-color: #ff00ff; font-weight: bold\">conv</span><span style=\"color: #000000; text-decoration-color: #000000\">+b|lin</span><span style=\"font-weight: bold\">&gt;</span>-DOVES-mc_solo-<span style=\"color: #800080; text-decoration-color: #800080; font-weight: bold\">5_</span><span style=\"font-weight: bold\">(</span>2024_05_15,<span style=\"color: #00ff00; text-decoration-color: #00ff00; font-weight: bold\">23:19</span><span style=\"font-weight: bold\">)</span> ——— # dead: <span style=\"color: #008080; text-decoration-color: #008080; font-weight: bold\">386</span>\n",
       "</pre>\n"
      ],
      "text/plain": [
       "name: gaussian-\u001b[1m<\u001b[0m\u001b[1;95mconv\u001b[0m\u001b[39m+b|lin\u001b[0m\u001b[1m>\u001b[0m-DOVES-mc_solo-\u001b[1;35m5_\u001b[0m\u001b[1m(\u001b[0m2024_05_15,\u001b[1;92m23:19\u001b[0m\u001b[1m)\u001b[0m ——— # dead: \u001b[1;36m386\u001b[0m\n"
      ]
     },
     "metadata": {},
     "output_type": "display_data"
    },
    {
     "data": {
      "text/html": [
       "<pre style=\"white-space:pre;overflow-x:auto;line-height:normal;font-family:Menlo,'DejaVu Sans Mono',consolas,'Courier New',monospace\">name: laplace-<span style=\"font-weight: bold\">&lt;</span><span style=\"color: #ff00ff; text-decoration-color: #ff00ff; font-weight: bold\">conv</span><span style=\"color: #000000; text-decoration-color: #000000\">+b|lin</span><span style=\"font-weight: bold\">&gt;</span>-DOVES-mc_solo-<span style=\"color: #800080; text-decoration-color: #800080; font-weight: bold\">1_</span><span style=\"font-weight: bold\">(</span>2024_05_17,<span style=\"color: #00ff00; text-decoration-color: #00ff00; font-weight: bold\">00:00</span><span style=\"font-weight: bold\">)</span> ——— # dead: <span style=\"color: #008080; text-decoration-color: #008080; font-weight: bold\">399</span>\n",
       "</pre>\n"
      ],
      "text/plain": [
       "name: laplace-\u001b[1m<\u001b[0m\u001b[1;95mconv\u001b[0m\u001b[39m+b|lin\u001b[0m\u001b[1m>\u001b[0m-DOVES-mc_solo-\u001b[1;35m1_\u001b[0m\u001b[1m(\u001b[0m2024_05_17,\u001b[1;92m00:00\u001b[0m\u001b[1m)\u001b[0m ——— # dead: \u001b[1;36m399\u001b[0m\n"
      ]
     },
     "metadata": {},
     "output_type": "display_data"
    },
    {
     "data": {
      "text/html": [
       "<pre style=\"white-space:pre;overflow-x:auto;line-height:normal;font-family:Menlo,'DejaVu Sans Mono',consolas,'Courier New',monospace\">name: laplace-<span style=\"font-weight: bold\">&lt;</span><span style=\"color: #ff00ff; text-decoration-color: #ff00ff; font-weight: bold\">conv</span><span style=\"color: #000000; text-decoration-color: #000000\">+b|lin</span><span style=\"font-weight: bold\">&gt;</span>-DOVES-mc_solo-<span style=\"color: #800080; text-decoration-color: #800080; font-weight: bold\">2_</span><span style=\"font-weight: bold\">(</span>2024_05_17,<span style=\"color: #00ff00; text-decoration-color: #00ff00; font-weight: bold\">10:11</span><span style=\"font-weight: bold\">)</span> ——— # dead: <span style=\"color: #008080; text-decoration-color: #008080; font-weight: bold\">397</span>\n",
       "</pre>\n"
      ],
      "text/plain": [
       "name: laplace-\u001b[1m<\u001b[0m\u001b[1;95mconv\u001b[0m\u001b[39m+b|lin\u001b[0m\u001b[1m>\u001b[0m-DOVES-mc_solo-\u001b[1;35m2_\u001b[0m\u001b[1m(\u001b[0m2024_05_17,\u001b[1;92m10:11\u001b[0m\u001b[1m)\u001b[0m ——— # dead: \u001b[1;36m397\u001b[0m\n"
      ]
     },
     "metadata": {},
     "output_type": "display_data"
    },
    {
     "data": {
      "text/html": [
       "<pre style=\"white-space:pre;overflow-x:auto;line-height:normal;font-family:Menlo,'DejaVu Sans Mono',consolas,'Courier New',monospace\">name: laplace-<span style=\"font-weight: bold\">&lt;</span><span style=\"color: #ff00ff; text-decoration-color: #ff00ff; font-weight: bold\">conv</span><span style=\"color: #000000; text-decoration-color: #000000\">+b|lin</span><span style=\"font-weight: bold\">&gt;</span>-DOVES-mc_solo-<span style=\"color: #800080; text-decoration-color: #800080; font-weight: bold\">3_</span><span style=\"font-weight: bold\">(</span>2024_05_17,<span style=\"color: #00ff00; text-decoration-color: #00ff00; font-weight: bold\">19:47</span><span style=\"font-weight: bold\">)</span> ——— # dead: <span style=\"color: #008080; text-decoration-color: #008080; font-weight: bold\">399</span>\n",
       "</pre>\n"
      ],
      "text/plain": [
       "name: laplace-\u001b[1m<\u001b[0m\u001b[1;95mconv\u001b[0m\u001b[39m+b|lin\u001b[0m\u001b[1m>\u001b[0m-DOVES-mc_solo-\u001b[1;35m3_\u001b[0m\u001b[1m(\u001b[0m2024_05_17,\u001b[1;92m19:47\u001b[0m\u001b[1m)\u001b[0m ——— # dead: \u001b[1;36m399\u001b[0m\n"
      ]
     },
     "metadata": {},
     "output_type": "display_data"
    },
    {
     "data": {
      "text/html": [
       "<pre style=\"white-space:pre;overflow-x:auto;line-height:normal;font-family:Menlo,'DejaVu Sans Mono',consolas,'Courier New',monospace\">name: laplace-<span style=\"font-weight: bold\">&lt;</span><span style=\"color: #ff00ff; text-decoration-color: #ff00ff; font-weight: bold\">conv</span><span style=\"color: #000000; text-decoration-color: #000000\">+b|lin</span><span style=\"font-weight: bold\">&gt;</span>-DOVES-mc_solo-<span style=\"color: #800080; text-decoration-color: #800080; font-weight: bold\">4_</span><span style=\"font-weight: bold\">(</span>2024_05_14,<span style=\"color: #00ff00; text-decoration-color: #00ff00; font-weight: bold\">06:04</span><span style=\"font-weight: bold\">)</span> ——— # dead: <span style=\"color: #008080; text-decoration-color: #008080; font-weight: bold\">399</span>\n",
       "</pre>\n"
      ],
      "text/plain": [
       "name: laplace-\u001b[1m<\u001b[0m\u001b[1;95mconv\u001b[0m\u001b[39m+b|lin\u001b[0m\u001b[1m>\u001b[0m-DOVES-mc_solo-\u001b[1;35m4_\u001b[0m\u001b[1m(\u001b[0m2024_05_14,\u001b[1;92m06:04\u001b[0m\u001b[1m)\u001b[0m ——— # dead: \u001b[1;36m399\u001b[0m\n"
      ]
     },
     "metadata": {},
     "output_type": "display_data"
    },
    {
     "data": {
      "text/html": [
       "<pre style=\"white-space:pre;overflow-x:auto;line-height:normal;font-family:Menlo,'DejaVu Sans Mono',consolas,'Courier New',monospace\">name: laplace-<span style=\"font-weight: bold\">&lt;</span><span style=\"color: #ff00ff; text-decoration-color: #ff00ff; font-weight: bold\">conv</span><span style=\"color: #000000; text-decoration-color: #000000\">+b|lin</span><span style=\"font-weight: bold\">&gt;</span>-DOVES-mc_solo-<span style=\"color: #800080; text-decoration-color: #800080; font-weight: bold\">5_</span><span style=\"font-weight: bold\">(</span>2024_05_14,<span style=\"color: #00ff00; text-decoration-color: #00ff00; font-weight: bold\">15:55</span><span style=\"font-weight: bold\">)</span> ——— # dead: <span style=\"color: #008080; text-decoration-color: #008080; font-weight: bold\">398</span>\n",
       "</pre>\n"
      ],
      "text/plain": [
       "name: laplace-\u001b[1m<\u001b[0m\u001b[1;95mconv\u001b[0m\u001b[39m+b|lin\u001b[0m\u001b[1m>\u001b[0m-DOVES-mc_solo-\u001b[1;35m5_\u001b[0m\u001b[1m(\u001b[0m2024_05_14,\u001b[1;92m15:55\u001b[0m\u001b[1m)\u001b[0m ——— # dead: \u001b[1;36m398\u001b[0m\n"
      ]
     },
     "metadata": {},
     "output_type": "display_data"
    },
    {
     "data": {
      "text/html": [
       "<pre style=\"white-space:pre;overflow-x:auto;line-height:normal;font-family:Menlo,'DejaVu Sans Mono',consolas,'Courier New',monospace\">name: poisson-<span style=\"font-weight: bold\">&lt;</span><span style=\"color: #ff00ff; text-decoration-color: #ff00ff; font-weight: bold\">conv</span><span style=\"color: #000000; text-decoration-color: #000000\">+b|lin</span><span style=\"font-weight: bold\">&gt;</span>-DOVES-mc_solo-<span style=\"color: #800080; text-decoration-color: #800080; font-weight: bold\">1_</span><span style=\"font-weight: bold\">(</span>2024_05_14,<span style=\"color: #00ff00; text-decoration-color: #00ff00; font-weight: bold\">07:13</span><span style=\"font-weight: bold\">)</span> ——— # dead: <span style=\"color: #008080; text-decoration-color: #008080; font-weight: bold\">79</span>\n",
       "</pre>\n"
      ],
      "text/plain": [
       "name: poisson-\u001b[1m<\u001b[0m\u001b[1;95mconv\u001b[0m\u001b[39m+b|lin\u001b[0m\u001b[1m>\u001b[0m-DOVES-mc_solo-\u001b[1;35m1_\u001b[0m\u001b[1m(\u001b[0m2024_05_14,\u001b[1;92m07:13\u001b[0m\u001b[1m)\u001b[0m ——— # dead: \u001b[1;36m79\u001b[0m\n"
      ]
     },
     "metadata": {},
     "output_type": "display_data"
    },
    {
     "data": {
      "text/html": [
       "<pre style=\"white-space:pre;overflow-x:auto;line-height:normal;font-family:Menlo,'DejaVu Sans Mono',consolas,'Courier New',monospace\">name: poisson-<span style=\"font-weight: bold\">&lt;</span><span style=\"color: #ff00ff; text-decoration-color: #ff00ff; font-weight: bold\">conv</span><span style=\"color: #000000; text-decoration-color: #000000\">+b|lin</span><span style=\"font-weight: bold\">&gt;</span>-DOVES-mc_solo-<span style=\"color: #800080; text-decoration-color: #800080; font-weight: bold\">2_</span><span style=\"font-weight: bold\">(</span>2024_05_14,<span style=\"color: #00ff00; text-decoration-color: #00ff00; font-weight: bold\">19:37</span><span style=\"font-weight: bold\">)</span> ——— # dead: <span style=\"color: #008080; text-decoration-color: #008080; font-weight: bold\">108</span>\n",
       "</pre>\n"
      ],
      "text/plain": [
       "name: poisson-\u001b[1m<\u001b[0m\u001b[1;95mconv\u001b[0m\u001b[39m+b|lin\u001b[0m\u001b[1m>\u001b[0m-DOVES-mc_solo-\u001b[1;35m2_\u001b[0m\u001b[1m(\u001b[0m2024_05_14,\u001b[1;92m19:37\u001b[0m\u001b[1m)\u001b[0m ——— # dead: \u001b[1;36m108\u001b[0m\n"
      ]
     },
     "metadata": {},
     "output_type": "display_data"
    },
    {
     "data": {
      "text/html": [
       "<pre style=\"white-space:pre;overflow-x:auto;line-height:normal;font-family:Menlo,'DejaVu Sans Mono',consolas,'Courier New',monospace\">name: poisson-<span style=\"font-weight: bold\">&lt;</span><span style=\"color: #ff00ff; text-decoration-color: #ff00ff; font-weight: bold\">conv</span><span style=\"color: #000000; text-decoration-color: #000000\">+b|lin</span><span style=\"font-weight: bold\">&gt;</span>-DOVES-mc_solo-<span style=\"color: #800080; text-decoration-color: #800080; font-weight: bold\">3_</span><span style=\"font-weight: bold\">(</span>2024_05_15,<span style=\"color: #00ff00; text-decoration-color: #00ff00; font-weight: bold\">06:56</span><span style=\"font-weight: bold\">)</span> ——— # dead: <span style=\"color: #008080; text-decoration-color: #008080; font-weight: bold\">93</span>\n",
       "</pre>\n"
      ],
      "text/plain": [
       "name: poisson-\u001b[1m<\u001b[0m\u001b[1;95mconv\u001b[0m\u001b[39m+b|lin\u001b[0m\u001b[1m>\u001b[0m-DOVES-mc_solo-\u001b[1;35m3_\u001b[0m\u001b[1m(\u001b[0m2024_05_15,\u001b[1;92m06:56\u001b[0m\u001b[1m)\u001b[0m ——— # dead: \u001b[1;36m93\u001b[0m\n"
      ]
     },
     "metadata": {},
     "output_type": "display_data"
    },
    {
     "data": {
      "text/html": [
       "<pre style=\"white-space:pre;overflow-x:auto;line-height:normal;font-family:Menlo,'DejaVu Sans Mono',consolas,'Courier New',monospace\">name: poisson-<span style=\"font-weight: bold\">&lt;</span><span style=\"color: #ff00ff; text-decoration-color: #ff00ff; font-weight: bold\">conv</span><span style=\"color: #000000; text-decoration-color: #000000\">+b|lin</span><span style=\"font-weight: bold\">&gt;</span>-DOVES-mc_solo-<span style=\"color: #800080; text-decoration-color: #800080; font-weight: bold\">4_</span><span style=\"font-weight: bold\">(</span>2024_05_15,<span style=\"color: #00ff00; text-decoration-color: #00ff00; font-weight: bold\">18:21</span><span style=\"font-weight: bold\">)</span> ——— # dead: <span style=\"color: #008080; text-decoration-color: #008080; font-weight: bold\">85</span>\n",
       "</pre>\n"
      ],
      "text/plain": [
       "name: poisson-\u001b[1m<\u001b[0m\u001b[1;95mconv\u001b[0m\u001b[39m+b|lin\u001b[0m\u001b[1m>\u001b[0m-DOVES-mc_solo-\u001b[1;35m4_\u001b[0m\u001b[1m(\u001b[0m2024_05_15,\u001b[1;92m18:21\u001b[0m\u001b[1m)\u001b[0m ——— # dead: \u001b[1;36m85\u001b[0m\n"
      ]
     },
     "metadata": {},
     "output_type": "display_data"
    },
    {
     "data": {
      "text/html": [
       "<pre style=\"white-space:pre;overflow-x:auto;line-height:normal;font-family:Menlo,'DejaVu Sans Mono',consolas,'Courier New',monospace\">name: poisson-<span style=\"font-weight: bold\">&lt;</span><span style=\"color: #ff00ff; text-decoration-color: #ff00ff; font-weight: bold\">conv</span><span style=\"color: #000000; text-decoration-color: #000000\">+b|lin</span><span style=\"font-weight: bold\">&gt;</span>-DOVES-mc_solo-<span style=\"color: #800080; text-decoration-color: #800080; font-weight: bold\">5_</span><span style=\"font-weight: bold\">(</span>2024_05_16,<span style=\"color: #00ff00; text-decoration-color: #00ff00; font-weight: bold\">05:45</span><span style=\"font-weight: bold\">)</span> ——— # dead: <span style=\"color: #008080; text-decoration-color: #008080; font-weight: bold\">98</span>\n",
       "</pre>\n"
      ],
      "text/plain": [
       "name: poisson-\u001b[1m<\u001b[0m\u001b[1;95mconv\u001b[0m\u001b[39m+b|lin\u001b[0m\u001b[1m>\u001b[0m-DOVES-mc_solo-\u001b[1;35m5_\u001b[0m\u001b[1m(\u001b[0m2024_05_16,\u001b[1;92m05:45\u001b[0m\u001b[1m)\u001b[0m ——— # dead: \u001b[1;36m98\u001b[0m\n"
      ]
     },
     "metadata": {},
     "output_type": "display_data"
    }
   ],
   "source": [
    "results = collections.defaultdict(dict)\n",
    "for name in fits_dekel:\n",
    "    tr, meta = load_quick(\n",
    "        pjoin(root, name),\n",
    "        device=device,\n",
    "        verbose=False,\n",
    "        lite=True,\n",
    "    )\n",
    "    phi = tonp(tr.model.fc_dec.weight)\n",
    "    dead = tr.find_dead_neurons()\n",
    "    results['phi'][name] = phi\n",
    "    results['dead'][name] = dead\n",
    "    print(f\"name: {name} ——— # dead: {dead.sum()}\")"
   ]
  },
  {
   "cell_type": "code",
   "execution_count": 13,
   "id": "a4463e6e-2521-4fcf-b077-3878f72f68fa",
   "metadata": {},
   "outputs": [
    {
     "data": {
      "text/html": [
       "<pre style=\"white-space:pre;overflow-x:auto;line-height:normal;font-family:Menlo,'DejaVu Sans Mono',consolas,'Courier New',monospace\"><span style=\"font-weight: bold\">[</span>PROGRESS<span style=\"font-weight: bold\">]</span> <span style=\"color: #008000; text-decoration-color: #008000\">'phi_nonlin.npy'</span> saved at\n",
       "<span style=\"color: #800080; text-decoration-color: #800080\">/home/hadi/Dropbox/git/jb-vae/</span><span style=\"color: #ff00ff; text-decoration-color: #ff00ff\">tmp</span>\n",
       "</pre>\n"
      ],
      "text/plain": [
       "\u001b[1m[\u001b[0mPROGRESS\u001b[1m]\u001b[0m \u001b[32m'phi_nonlin.npy'\u001b[0m saved at\n",
       "\u001b[35m/home/hadi/Dropbox/git/jb-vae/\u001b[0m\u001b[95mtmp\u001b[0m\n"
      ]
     },
     "metadata": {},
     "output_type": "display_data"
    }
   ],
   "source": [
    "save_obj(\n",
    "    obj=dict(results),\n",
    "    file_name='phi_nonlin',\n",
    "    save_dir=tmp_dir,\n",
    "    mode='npy',\n",
    ")"
   ]
  },
  {
   "cell_type": "code",
   "execution_count": null,
   "id": "241c8434-c355-45e5-ab3a-21de6b106b23",
   "metadata": {},
   "outputs": [],
   "source": []
  },
  {
   "cell_type": "code",
   "execution_count": null,
   "id": "9fb78e3f-b081-4c99-8ba7-5cf769bd813e",
   "metadata": {},
   "outputs": [],
   "source": []
  },
  {
   "cell_type": "code",
   "execution_count": null,
   "id": "dd888cb8-94f2-4bbe-9c0d-19445bb4cc4f",
   "metadata": {},
   "outputs": [],
   "source": []
  },
  {
   "cell_type": "code",
   "execution_count": null,
   "id": "a44e7279-0f20-41fe-80f9-2d4c873d3e9d",
   "metadata": {},
   "outputs": [],
   "source": []
  }
 ],
 "metadata": {
  "kernelspec": {
   "display_name": "Python 3 (ipykernel)",
   "language": "python",
   "name": "python3"
  },
  "language_info": {
   "codemirror_mode": {
    "name": "ipython",
    "version": 3
   },
   "file_extension": ".py",
   "mimetype": "text/x-python",
   "name": "python",
   "nbconvert_exporter": "python",
   "pygments_lexer": "ipython3",
   "version": "3.11.7"
  }
 },
 "nbformat": 4,
 "nbformat_minor": 5
}
