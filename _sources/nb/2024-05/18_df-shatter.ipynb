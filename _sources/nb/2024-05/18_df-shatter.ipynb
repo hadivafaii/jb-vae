{
 "cells": [
  {
   "cell_type": "markdown",
   "id": "68c49500-d331-4529-a189-66955134371a",
   "metadata": {},
   "source": [
    "# (18) df: shatter\n",
    "\n",
    "**Motivation**: Device = ```cuda:0``` <br>"
   ]
  },
  {
   "cell_type": "code",
   "execution_count": 1,
   "id": "721412ee-9fe2-4e48-910d-37a7304ed31d",
   "metadata": {
    "tags": [
     "hide-input"
    ]
   },
   "outputs": [],
   "source": [
    "# HIDE CODE\n",
    "\n",
    "\n",
    "import os, sys\n",
    "from IPython.display import display\n",
    "\n",
    "# tmp & extras dir\n",
    "git_dir = os.path.join(os.environ['HOME'], 'Dropbox/git')\n",
    "extras_dir = os.path.join(git_dir, 'jb-vae/_extras')\n",
    "fig_base_dir = os.path.join(git_dir, 'jb-vae/figs')\n",
    "tmp_dir = os.path.join(git_dir, 'jb-vae/tmp')\n",
    "\n",
    "# GitHub\n",
    "sys.path.insert(0, os.path.join(git_dir, '_PoissonVAE'))\n",
    "from analysis.eval import sparse_score\n",
    "from figures.fighelper import *\n",
    "from vae.train_vae import *\n",
    "\n",
    "# warnings, tqdm, & style\n",
    "warnings.filterwarnings('ignore', category=DeprecationWarning)\n",
    "warnings.filterwarnings('ignore', category=FutureWarning)\n",
    "warnings.filterwarnings('ignore', category=UserWarning)\n",
    "from rich.jupyter import print\n",
    "%matplotlib inline\n",
    "set_style()"
   ]
  },
  {
   "cell_type": "markdown",
   "id": "99e09ef0-cc65-4c1a-b9b3-5ba329d431ce",
   "metadata": {},
   "source": [
    "## Fig save dir"
   ]
  },
  {
   "cell_type": "code",
   "execution_count": 2,
   "id": "66fa614d-daa7-4a95-8c9c-09c2f4e44139",
   "metadata": {},
   "outputs": [
    {
     "data": {
      "text/html": [
       "<pre style=\"white-space:pre;overflow-x:auto;line-height:normal;font-family:Menlo,'DejaVu Sans Mono',consolas,'Courier New',monospace\"><span style=\"font-weight: bold\">[</span><span style=\"color: #008000; text-decoration-color: #008000\">'nelbo_point.pdf'</span><span style=\"font-weight: bold\">]</span>\n",
       "</pre>\n"
      ],
      "text/plain": [
       "\u001b[1m[\u001b[0m\u001b[32m'nelbo_point.pdf'\u001b[0m\u001b[1m]\u001b[0m\n"
      ]
     },
     "metadata": {},
     "output_type": "display_data"
    }
   ],
   "source": [
    "from figures.imgs import plot_weights\n",
    "\n",
    "fig_dir = pjoin(fig_base_dir, 'nips_may22')\n",
    "os.makedirs(fig_dir, exist_ok=True)\n",
    "print(os.listdir(fig_dir))\n",
    "\n",
    "kws_fig = {\n",
    "    'transparent': True,\n",
    "    'bbox_inches': 'tight',\n",
    "    'dpi': 600,\n",
    "}"
   ]
  },
  {
   "cell_type": "markdown",
   "id": "b53a8ee9-7fa2-4903-925a-12fb15c60166",
   "metadata": {},
   "source": [
    "## Device"
   ]
  },
  {
   "cell_type": "code",
   "execution_count": 3,
   "id": "d7b94732-ef0f-4cf3-ba3a-241743b56306",
   "metadata": {},
   "outputs": [],
   "source": [
    "device_idx = 0\n",
    "device = f'cuda:{device_idx}'\n",
    "\n",
    "from analysis.final import sort_fits, analyze_fits"
   ]
  },
  {
   "cell_type": "markdown",
   "id": "181b665c-d6d5-4a1b-84d3-ad8bd8037a75",
   "metadata": {},
   "source": [
    "## Load, make df"
   ]
  },
  {
   "cell_type": "markdown",
   "id": "b3465c34-8de2-4421-9979-dc825d32d5ef",
   "metadata": {},
   "source": [
    "### Fit names"
   ]
  },
  {
   "cell_type": "code",
   "execution_count": 4,
   "id": "1c84f8fa-7e45-4561-83f3-f3407e31dc21",
   "metadata": {},
   "outputs": [
    {
     "data": {
      "text/plain": [
       "(460, 90, 527)"
      ]
     },
     "execution_count": 4,
     "metadata": {},
     "output_type": "execute_result"
    }
   ],
   "source": [
    "fits, fits_st, fits_etc = sort_fits()\n",
    "len(fits), len(fits_st), len(fits_etc)"
   ]
  },
  {
   "cell_type": "markdown",
   "id": "48d3e4d0-101f-43e5-8be3-61a1565c8c7d",
   "metadata": {},
   "source": [
    "### df"
   ]
  },
  {
   "cell_type": "code",
   "execution_count": 5,
   "id": "d068a1b6-efc7-4efa-a4b8-e1310267224e",
   "metadata": {},
   "outputs": [
    {
     "data": {
      "text/html": [
       "<pre style=\"white-space:pre;overflow-x:auto;line-height:normal;font-family:Menlo,'DejaVu Sans Mono',consolas,'Courier New',monospace\"># fits: <span style=\"color: #008080; text-decoration-color: #008080; font-weight: bold\">100</span>,  # fits_etc: <span style=\"color: #008080; text-decoration-color: #008080; font-weight: bold\">90</span>\n",
       "</pre>\n"
      ],
      "text/plain": [
       "# fits: \u001b[1;36m100\u001b[0m,  # fits_etc: \u001b[1;36m90\u001b[0m\n"
      ]
     },
     "metadata": {},
     "output_type": "display_data"
    }
   ],
   "source": [
    "def accept_fn(name):\n",
    "    archi = name.split('-')[1]\n",
    "    accept = (\n",
    "        'MNIST' in name and\n",
    "        archi == '<conv+b|conv+b>'\n",
    "    )\n",
    "    return accept\n",
    "\n",
    "\n",
    "fits = sorted(filter(accept_fn, fits))\n",
    "fits_etc = sorted(filter(accept_fn, fits_etc))\n",
    "\n",
    "print(f\"# fits: {len(fits)},  # fits_etc: {len(fits_etc)}\")"
   ]
  },
  {
   "cell_type": "code",
   "execution_count": 6,
   "id": "0fe539c2-a72f-4ab7-9d6e-02036dc41631",
   "metadata": {},
   "outputs": [
    {
     "name": "stderr",
     "output_type": "stream",
     "text": [
      "100%|█████████████████████████████████████████| 100/100 [30:10<00:00, 18.11s/it]\n",
      "100%|███████████████████████████████████████████| 90/90 [20:49<00:00, 13.89s/it]\n"
     ]
    },
    {
     "data": {
      "text/html": [
       "<pre style=\"white-space:pre;overflow-x:auto;line-height:normal;font-family:Menlo,'DejaVu Sans Mono',consolas,'Courier New',monospace\"><span style=\"font-weight: bold\">[</span>PROGRESS<span style=\"font-weight: bold\">]</span> <span style=\"color: #008000; text-decoration-color: #008000\">'df_shatter.df'</span> saved at\n",
       "<span style=\"color: #800080; text-decoration-color: #800080\">/home/hadi/Dropbox/git/jb-vae/</span><span style=\"color: #ff00ff; text-decoration-color: #ff00ff\">tmp</span>\n",
       "</pre>\n"
      ],
      "text/plain": [
       "\u001b[1m[\u001b[0mPROGRESS\u001b[1m]\u001b[0m \u001b[32m'df_shatter.df'\u001b[0m saved at\n",
       "\u001b[35m/home/hadi/Dropbox/git/jb-vae/\u001b[0m\u001b[95mtmp\u001b[0m\n"
      ]
     },
     "metadata": {},
     "output_type": "display_data"
    },
    {
     "name": "stdout",
     "output_type": "stream",
     "text": [
      "CPU times: user 18h 48min 5s, sys: 1h 37min 18s, total: 20h 25min 23s\n",
      "Wall time: 51min\n"
     ]
    }
   ],
   "source": [
    "%%time\n",
    "\n",
    "kws = dict(device=device, analysis_mode='shatter', shatter_clf='logreg')\n",
    "df = pd.concat([analyze_fits(fits, **kws), analyze_fits(fits_etc, **kws)])\n",
    "\n",
    "df = df.sort_values(by=['type', 'seed', 'n_dims'])\n",
    "df = df.reset_index(drop=True)\n",
    "\n",
    "save_obj(\n",
    "    obj=df,\n",
    "    file_name='df_shatter',\n",
    "    save_dir=tmp_dir,\n",
    "    verbose=True,\n",
    "    mode='df',\n",
    ")"
   ]
  },
  {
   "cell_type": "code",
   "execution_count": null,
   "id": "b2d6f85d-8b81-4b5d-95dc-48d6ed069ba2",
   "metadata": {},
   "outputs": [],
   "source": []
  },
  {
   "cell_type": "code",
   "execution_count": 8,
   "id": "f4d1f9ae-6d16-4dd9-867a-5a5dcc0a5515",
   "metadata": {},
   "outputs": [
    {
     "data": {
      "text/plain": [
       "type\n",
       "categorical          6300\n",
       "gaussian             6300\n",
       "poisson              6300\n",
       "laplace              6300\n",
       "gaussian-relu        3780\n",
       "gaussian-exp         3780\n",
       "gaussian-square      2520\n",
       "gaussian-softplus    2520\n",
       "laplace-exp          2520\n",
       "laplace-relu         2520\n",
       "laplace-softplus     2520\n",
       "laplace-square       2520\n",
       "Name: count, dtype: int64"
      ]
     },
     "execution_count": 8,
     "metadata": {},
     "output_type": "execute_result"
    }
   ],
   "source": [
    "df['type'].value_counts()"
   ]
  },
  {
   "cell_type": "code",
   "execution_count": null,
   "id": "dfb3ed65-cb0a-4b03-9344-6dec435b8d32",
   "metadata": {},
   "outputs": [],
   "source": []
  },
  {
   "cell_type": "code",
   "execution_count": 10,
   "id": "67ed14fe-7fe4-477b-8eb3-fa4c6fecab47",
   "metadata": {},
   "outputs": [
    {
     "data": {
      "text/html": [
       "<div>\n",
       "<style scoped>\n",
       "    .dataframe tbody tr th:only-of-type {\n",
       "        vertical-align: middle;\n",
       "    }\n",
       "\n",
       "    .dataframe tbody tr th {\n",
       "        vertical-align: top;\n",
       "    }\n",
       "\n",
       "    .dataframe thead th {\n",
       "        text-align: right;\n",
       "    }\n",
       "</style>\n",
       "<table border=\"1\" class=\"dataframe\">\n",
       "  <thead>\n",
       "    <tr style=\"text-align: right;\">\n",
       "      <th>n_dims</th>\n",
       "      <th>5</th>\n",
       "      <th>10</th>\n",
       "      <th>20</th>\n",
       "      <th>50</th>\n",
       "      <th>100</th>\n",
       "    </tr>\n",
       "    <tr>\n",
       "      <th>type</th>\n",
       "      <th></th>\n",
       "      <th></th>\n",
       "      <th></th>\n",
       "      <th></th>\n",
       "      <th></th>\n",
       "    </tr>\n",
       "  </thead>\n",
       "  <tbody>\n",
       "    <tr>\n",
       "      <th>categorical</th>\n",
       "      <td>0.729934</td>\n",
       "      <td>0.795400</td>\n",
       "      <td>0.869850</td>\n",
       "      <td>0.898817</td>\n",
       "      <td>0.883566</td>\n",
       "    </tr>\n",
       "    <tr>\n",
       "      <th>gaussian</th>\n",
       "      <td>0.734849</td>\n",
       "      <td>0.757773</td>\n",
       "      <td>0.742540</td>\n",
       "      <td>0.743305</td>\n",
       "      <td>0.763185</td>\n",
       "    </tr>\n",
       "    <tr>\n",
       "      <th>gaussian-exp</th>\n",
       "      <td>NaN</td>\n",
       "      <td>0.736986</td>\n",
       "      <td>NaN</td>\n",
       "      <td>0.761785</td>\n",
       "      <td>0.793041</td>\n",
       "    </tr>\n",
       "    <tr>\n",
       "      <th>gaussian-relu</th>\n",
       "      <td>NaN</td>\n",
       "      <td>0.762299</td>\n",
       "      <td>NaN</td>\n",
       "      <td>0.786000</td>\n",
       "      <td>0.817990</td>\n",
       "    </tr>\n",
       "    <tr>\n",
       "      <th>gaussian-softplus</th>\n",
       "      <td>NaN</td>\n",
       "      <td>0.751143</td>\n",
       "      <td>NaN</td>\n",
       "      <td>0.761620</td>\n",
       "      <td>NaN</td>\n",
       "    </tr>\n",
       "    <tr>\n",
       "      <th>gaussian-square</th>\n",
       "      <td>NaN</td>\n",
       "      <td>0.793973</td>\n",
       "      <td>NaN</td>\n",
       "      <td>0.808752</td>\n",
       "      <td>NaN</td>\n",
       "    </tr>\n",
       "    <tr>\n",
       "      <th>laplace</th>\n",
       "      <td>0.731724</td>\n",
       "      <td>0.751364</td>\n",
       "      <td>0.753212</td>\n",
       "      <td>0.770346</td>\n",
       "      <td>0.767038</td>\n",
       "    </tr>\n",
       "    <tr>\n",
       "      <th>laplace-exp</th>\n",
       "      <td>NaN</td>\n",
       "      <td>0.716556</td>\n",
       "      <td>NaN</td>\n",
       "      <td>0.741154</td>\n",
       "      <td>NaN</td>\n",
       "    </tr>\n",
       "    <tr>\n",
       "      <th>laplace-relu</th>\n",
       "      <td>NaN</td>\n",
       "      <td>0.770200</td>\n",
       "      <td>NaN</td>\n",
       "      <td>0.811704</td>\n",
       "      <td>NaN</td>\n",
       "    </tr>\n",
       "    <tr>\n",
       "      <th>laplace-softplus</th>\n",
       "      <td>NaN</td>\n",
       "      <td>0.764809</td>\n",
       "      <td>NaN</td>\n",
       "      <td>0.775936</td>\n",
       "      <td>NaN</td>\n",
       "    </tr>\n",
       "    <tr>\n",
       "      <th>laplace-square</th>\n",
       "      <td>NaN</td>\n",
       "      <td>0.812319</td>\n",
       "      <td>NaN</td>\n",
       "      <td>0.846595</td>\n",
       "      <td>NaN</td>\n",
       "    </tr>\n",
       "    <tr>\n",
       "      <th>poisson</th>\n",
       "      <td>0.752802</td>\n",
       "      <td>0.796705</td>\n",
       "      <td>0.857657</td>\n",
       "      <td>0.934678</td>\n",
       "      <td>0.948516</td>\n",
       "    </tr>\n",
       "  </tbody>\n",
       "</table>\n",
       "</div>"
      ],
      "text/plain": [
       "n_dims                  5         10        20        50        100\n",
       "type                                                               \n",
       "categorical        0.729934  0.795400  0.869850  0.898817  0.883566\n",
       "gaussian           0.734849  0.757773  0.742540  0.743305  0.763185\n",
       "gaussian-exp            NaN  0.736986       NaN  0.761785  0.793041\n",
       "gaussian-relu           NaN  0.762299       NaN  0.786000  0.817990\n",
       "gaussian-softplus       NaN  0.751143       NaN  0.761620       NaN\n",
       "gaussian-square         NaN  0.793973       NaN  0.808752       NaN\n",
       "laplace            0.731724  0.751364  0.753212  0.770346  0.767038\n",
       "laplace-exp             NaN  0.716556       NaN  0.741154       NaN\n",
       "laplace-relu            NaN  0.770200       NaN  0.811704       NaN\n",
       "laplace-softplus        NaN  0.764809       NaN  0.775936       NaN\n",
       "laplace-square          NaN  0.812319       NaN  0.846595       NaN\n",
       "poisson            0.752802  0.796705  0.857657  0.934678  0.948516"
      ]
     },
     "execution_count": 10,
     "metadata": {},
     "output_type": "execute_result"
    }
   ],
   "source": [
    "df.pivot_table(\n",
    "    values='accuracy',\n",
    "    index=['type'],\n",
    "    columns=['n_dims'],\n",
    "    aggfunc=np.mean,\n",
    ")"
   ]
  },
  {
   "cell_type": "code",
   "execution_count": null,
   "id": "830cf3fb-7c7a-4562-84a3-d57cc90bc88b",
   "metadata": {},
   "outputs": [],
   "source": []
  },
  {
   "cell_type": "code",
   "execution_count": null,
   "id": "4248e2f2-b2b6-4313-a5fb-d13763573e4e",
   "metadata": {},
   "outputs": [],
   "source": []
  },
  {
   "cell_type": "code",
   "execution_count": null,
   "id": "a44e7279-0f20-41fe-80f9-2d4c873d3e9d",
   "metadata": {},
   "outputs": [],
   "source": []
  }
 ],
 "metadata": {
  "kernelspec": {
   "display_name": "Python 3 (ipykernel)",
   "language": "python",
   "name": "python3"
  },
  "language_info": {
   "codemirror_mode": {
    "name": "ipython",
    "version": 3
   },
   "file_extension": ".py",
   "mimetype": "text/x-python",
   "name": "python",
   "nbconvert_exporter": "python",
   "pygments_lexer": "ipython3",
   "version": "3.11.7"
  }
 },
 "nbformat": 4,
 "nbformat_minor": 5
}
