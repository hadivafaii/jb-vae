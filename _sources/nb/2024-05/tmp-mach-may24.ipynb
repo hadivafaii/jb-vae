{
 "cells": [
  {
   "cell_type": "markdown",
   "id": "6c0cb91c",
   "metadata": {},
   "source": [
    "# tmp — may24\n",
    "\n",
    "**Motivation**: scratch notebook <br>"
   ]
  },
  {
   "cell_type": "code",
   "execution_count": 1,
   "id": "b12d2b0a",
   "metadata": {
    "tags": [
     "hide-input"
    ]
   },
   "outputs": [],
   "source": [
    "# HIDE CODE\n",
    "\n",
    "\n",
    "import os, sys\n",
    "from IPython.display import display\n",
    "\n",
    "# tmp & extras dir\n",
    "git_dir = os.path.join(os.environ['HOME'], 'Dropbox/git')\n",
    "extras_dir = os.path.join(git_dir, 'jb-vae/_extras')\n",
    "fig_base_dir = os.path.join(git_dir, 'jb-vae/figs')\n",
    "tmp_dir = os.path.join(git_dir, 'jb-vae/tmp')\n",
    "\n",
    "# GitHub\n",
    "sys.path.insert(0, os.path.join(git_dir, '_PoissonVAE'))\n",
    "from figures.fighelper import *\n",
    "from vae.train_vae import *\n",
    "\n",
    "# warnings, tqdm, & style\n",
    "warnings.filterwarnings('ignore', category=DeprecationWarning)\n",
    "warnings.filterwarnings('ignore', category=FutureWarning)\n",
    "from rich.jupyter import print\n",
    "%matplotlib inline\n",
    "set_style()"
   ]
  },
  {
   "cell_type": "code",
   "execution_count": 2,
   "id": "1a79ea57-03e6-41b2-b116-33b2868bda0c",
   "metadata": {},
   "outputs": [],
   "source": [
    "device_idx = 3\n",
    "device = f'cuda:{device_idx}'"
   ]
  },
  {
   "cell_type": "code",
   "execution_count": 3,
   "id": "d03e054b-53e5-4345-9ffd-14187ddc7f96",
   "metadata": {},
   "outputs": [],
   "source": [
    "root = add_home('Dropbox/chkpts/PoissonVAE')\n",
    "\n",
    "models2load = {\n",
    "    'poisson': 'poisson-<lin|lin>-DOVES-mc_mach-5_(2024_05_14,04:46)',\n",
    "    'categorical': 'categorical-<lin|lin>-DOVES-mc_mach-5_(2024_05_14,04:04)',\n",
    "    'gaussian': 'gaussian-<lin|lin>-DOVES-mc_mach-5_(2024_05_14,04:09)',\n",
    "    'laplace': 'laplace-<lin|lin>-DOVES-mc_mach-5_(2024_05_14,04:12)',\n",
    "}\n",
    "models2load = {k: v.replace('/', ':') for k, v in models2load.items()}"
   ]
  },
  {
   "cell_type": "code",
   "execution_count": 4,
   "id": "a814513e-8e72-4f17-b859-1f70629c1848",
   "metadata": {},
   "outputs": [
    {
     "data": {
      "text/html": [
       "<pre style=\"white-space:pre;overflow-x:auto;line-height:normal;font-family:Menlo,'DejaVu Sans Mono',consolas,'Courier New',monospace\">\n",
       "# params: <span style=\"color: #008080; text-decoration-color: #008080; font-weight: bold\">262.7</span> K\n",
       "</pre>\n"
      ],
      "text/plain": [
       "\n",
       "# params: \u001b[1;36m262.7\u001b[0m K\n"
      ]
     },
     "metadata": {},
     "output_type": "display_data"
    },
    {
     "data": {
      "text/html": [
       "<pre style=\"white-space:pre;overflow-x:auto;line-height:normal;font-family:Menlo,'DejaVu Sans Mono',consolas,'Courier New',monospace\">\n",
       "# params: <span style=\"color: #008080; text-decoration-color: #008080; font-weight: bold\">262.7</span> K\n",
       "</pre>\n"
      ],
      "text/plain": [
       "\n",
       "# params: \u001b[1;36m262.7\u001b[0m K\n"
      ]
     },
     "metadata": {},
     "output_type": "display_data"
    },
    {
     "data": {
      "text/html": [
       "<pre style=\"white-space:pre;overflow-x:auto;line-height:normal;font-family:Menlo,'DejaVu Sans Mono',consolas,'Courier New',monospace\">\n",
       "# params: <span style=\"color: #008080; text-decoration-color: #008080; font-weight: bold\">394.2</span> K\n",
       "</pre>\n"
      ],
      "text/plain": [
       "\n",
       "# params: \u001b[1;36m394.2\u001b[0m K\n"
      ]
     },
     "metadata": {},
     "output_type": "display_data"
    },
    {
     "data": {
      "text/html": [
       "<pre style=\"white-space:pre;overflow-x:auto;line-height:normal;font-family:Menlo,'DejaVu Sans Mono',consolas,'Courier New',monospace\">\n",
       "# params: <span style=\"color: #008080; text-decoration-color: #008080; font-weight: bold\">394.2</span> K\n",
       "</pre>\n"
      ],
      "text/plain": [
       "\n",
       "# params: \u001b[1;36m394.2\u001b[0m K\n"
      ]
     },
     "metadata": {},
     "output_type": "display_data"
    }
   ],
   "source": [
    "trainers = {}\n",
    "for name, load_path in models2load.items():\n",
    "    try:\n",
    "        trainers[name], _ = load_quick(\n",
    "            pjoin(root, load_path),\n",
    "            lite=True,\n",
    "            device=device,\n",
    "            verbose=True,\n",
    "        )\n",
    "    except FileNotFoundError:\n",
    "        continue"
   ]
  },
  {
   "cell_type": "code",
   "execution_count": null,
   "id": "6bb112d3-31a5-4dc8-8199-a82e074141f4",
   "metadata": {},
   "outputs": [],
   "source": []
  },
  {
   "cell_type": "code",
   "execution_count": 8,
   "id": "ae025dee-f2fd-4efd-9e04-ebd4888e08c1",
   "metadata": {},
   "outputs": [],
   "source": [
    "tr = trainers['poisson']\n",
    "data, loss, etc = tr.validate()\n",
    "\n",
    "order = np.argsort(loss['kl_diag'])"
   ]
  },
  {
   "cell_type": "code",
   "execution_count": null,
   "id": "94d130aa-c36b-4453-a455-3d6ac7dd0d4c",
   "metadata": {},
   "outputs": [],
   "source": [
    "mse = []"
   ]
  },
  {
   "cell_type": "code",
   "execution_count": null,
   "id": "c991b41a-54d0-4c69-b55d-1dbfce3896b5",
   "metadata": {},
   "outputs": [],
   "source": []
  },
  {
   "cell_type": "code",
   "execution_count": null,
   "id": "7df55858-a3eb-431a-9332-0279295ab06b",
   "metadata": {},
   "outputs": [],
   "source": []
  },
  {
   "cell_type": "code",
   "execution_count": null,
   "id": "0441deb3-195a-408f-9b82-4265ef7abc9d",
   "metadata": {},
   "outputs": [],
   "source": []
  },
  {
   "cell_type": "code",
   "execution_count": null,
   "id": "926e1b7e-14f4-4464-9f94-0cafa243df87",
   "metadata": {},
   "outputs": [],
   "source": []
  },
  {
   "cell_type": "code",
   "execution_count": null,
   "id": "90e7b8fa-2260-40ff-aa8f-124b6ed45f85",
   "metadata": {},
   "outputs": [],
   "source": [
    "def forward_modified(\n",
    "        self,\n",
    "        dl_name: str,\n",
    "        temp: float = None,\n",
    "        use_ema: bool = False,\n",
    "        knock_out: Sequence[int] = None,\n",
    "        knock_out_val: float = 0.0,\n",
    "        full_data: bool = False, ):\n",
    "    assert dl_name in ['trn', 'vld', 'tst']\n",
    "    dl = getattr(self, f\"dl_{dl_name}\")\n",
    "    if dl is None:\n",
    "        return\n",
    "    model = self.select_model(use_ema)\n",
    "    if temp is None:\n",
    "        temp = model.temp\n",
    "\n",
    "    mse, kl, kl_diag = [], [], []\n",
    "    x_all, y_all, z_all, g_all = [], [], [], []\n",
    "    etc = collections.defaultdict(list)\n",
    "\n",
    "    for x in iter(dl):\n",
    "        if len(x) == 2:\n",
    "            x, g = x\n",
    "        else:\n",
    "            g = None\n",
    "        if isinstance(x, (tuple, list)):\n",
    "            x = x[0]\n",
    "        if x.device != self.device:\n",
    "            x = self.to(x)\n",
    "        if self.model.cfg.type == 'poisson':\n",
    "            dist, log_dr, z, y = model.xtract_ftr(x, temp)\n",
    "            _kl = model.loss_kl(log_dr)\n",
    "            etc['log_dr'].append(tonp(log_dr))\n",
    "            etc['r*dr'].append(tonp(dist.rate))\n",
    "        elif self.model.cfg.type in [\n",
    "                'gaussian', 'laplace', 'categorical']:\n",
    "            dist, z, y = model.xtract_ftr(x, temp)\n",
    "            _kl = model.loss_kl(dist)\n",
    "            if self.model.cfg.type == 'categorical':\n",
    "                etc['logits'].append(tonp(dist.logits))\n",
    "            else:\n",
    "                etc['loc'].append(tonp(dist.loc))\n",
    "                etc['scale'].append(tonp(dist.scale))\n",
    "        else:\n",
    "            raise ValueError(self.model.cfg.type)\n",
    "        # data\n",
    "        if full_data or dl_name == 'trn':\n",
    "            x_all.append(tonp(x))\n",
    "            y_all.append(tonp(y))\n",
    "            if g is not None:\n",
    "                g_all.append(tonp(g))\n",
    "        z_all.append(tonp(z))\n",
    "        # loss\n",
    "        mse.append(tonp(model.loss_recon(y, x)))\n",
    "        kl.append(tonp(torch.sum(_kl, dim=1)))\n",
    "        kl_diag.append(tonp(torch.mean(\n",
    "            _kl, dim=0, keepdim=True)))\n",
    "\n",
    "    x, y, z, g, mse, kl, kl_diag = cat_map(\n",
    "        [x_all, y_all, z_all, g_all, mse, kl, kl_diag])\n",
    "    data = {'x': x, 'y': y, 'z': z, 'g': g}\n",
    "    loss = {'mse': mse, 'kl': kl, 'kl_diag': kl_diag.mean(0)}\n",
    "    etc = {k: np.concatenate(v) for k, v in etc.items()}\n",
    "    return data, loss, etc"
   ]
  },
  {
   "cell_type": "code",
   "execution_count": null,
   "id": "1b91e023-4393-43e0-8c90-40b446b905e4",
   "metadata": {},
   "outputs": [],
   "source": []
  },
  {
   "cell_type": "code",
   "execution_count": null,
   "id": "0760bc3b-cb09-4fae-9db8-e8f4a495da93",
   "metadata": {},
   "outputs": [],
   "source": []
  },
  {
   "cell_type": "code",
   "execution_count": null,
   "id": "f44f1fe2-17b4-4132-9f51-c42d82e6e264",
   "metadata": {},
   "outputs": [],
   "source": []
  },
  {
   "cell_type": "code",
   "execution_count": null,
   "id": "2aea0623-789c-4cdd-9164-64eedbe141b6",
   "metadata": {},
   "outputs": [],
   "source": []
  },
  {
   "cell_type": "code",
   "execution_count": null,
   "id": "cabe6cfd-4c77-4ab3-bad3-9fe9c80577a7",
   "metadata": {},
   "outputs": [],
   "source": []
  },
  {
   "cell_type": "code",
   "execution_count": 3,
   "id": "e76a260b-c78a-4603-9404-67c156e148ed",
   "metadata": {},
   "outputs": [],
   "source": [
    "cfg_vae, cfg_tr = default_configs('MNIST', model_type, 'lin|lin')\n",
    "cfg_tr['method'] = 'exact'\n",
    "cfg_vae['seed'] = 2990\n",
    "\n",
    "vae = MODEL_CLASSES[model_type](CFG_CLASSES[model_type](**cfg_vae))\n",
    "tr = TrainerVAE(vae, ConfigTrainVAE(**cfg_tr), device=device)"
   ]
  },
  {
   "cell_type": "code",
   "execution_count": null,
   "id": "8d1ada25-34bd-4dec-aa2b-1ccb02b71e69",
   "metadata": {},
   "outputs": [],
   "source": []
  },
  {
   "cell_type": "code",
   "execution_count": 4,
   "id": "f6e17401-cab4-4f4a-87d8-cfe364b8102d",
   "metadata": {},
   "outputs": [],
   "source": [
    "x, *_ = next(iter(tr.dl_trn))"
   ]
  },
  {
   "cell_type": "code",
   "execution_count": 5,
   "id": "f96d4626-12ca-4d99-b9c4-42fbcf4c0c66",
   "metadata": {},
   "outputs": [],
   "source": [
    "mse, dist, _ = vae.loss_recon_exact(x)"
   ]
  },
  {
   "cell_type": "code",
   "execution_count": 6,
   "id": "c52b2057-f03f-4aff-b867-80679287ccea",
   "metadata": {},
   "outputs": [
    {
     "data": {
      "text/plain": [
       "torch.Size([200])"
      ]
     },
     "execution_count": 6,
     "metadata": {},
     "output_type": "execute_result"
    }
   ],
   "source": [
    "mse.shape"
   ]
  },
  {
   "cell_type": "code",
   "execution_count": null,
   "id": "1d8d970e-c4fe-4219-a13c-0bca02f06d99",
   "metadata": {},
   "outputs": [],
   "source": []
  },
  {
   "cell_type": "code",
   "execution_count": null,
   "id": "07857360-d3af-4ef4-ab2c-05bc3e407d62",
   "metadata": {},
   "outputs": [],
   "source": []
  },
  {
   "cell_type": "code",
   "execution_count": 5,
   "id": "5ad706d4-3e22-4ed8-8862-fca77ec1da39",
   "metadata": {},
   "outputs": [],
   "source": [
    "dist = vae.infer(x[:3], t=1e-8)"
   ]
  },
  {
   "cell_type": "code",
   "execution_count": null,
   "id": "5f5b36c0-5531-4d56-8ebc-854446981459",
   "metadata": {},
   "outputs": [],
   "source": []
  },
  {
   "cell_type": "code",
   "execution_count": 6,
   "id": "3841d75e-6f5f-407a-88f1-949628e2c769",
   "metadata": {},
   "outputs": [],
   "source": [
    "from base.distributions import Categorical\n",
    "\n",
    "rng = get_rng()\n",
    "probs = rng.gamma(2, 1, size=(200, 10))\n",
    "probs = probs / probs.max()\n",
    "probs /= probs.sum(-1, keepdims=True)\n",
    "dist = Categorical(logits=torch.logit(torch.tensor(probs)), temp=0)"
   ]
  },
  {
   "cell_type": "code",
   "execution_count": 7,
   "id": "d536e8fd-f756-4c10-877c-9f49ac8f7b96",
   "metadata": {},
   "outputs": [
    {
     "data": {
      "image/png": "[encoded data removed]",
      "text/plain": [
       "<Figure size 300x200 with 1 Axes>"
      ]
     },
     "metadata": {},
     "output_type": "display_data"
    }
   ],
   "source": [
    "sns.histplot(tonp(dist.probs.ravel()))\n",
    "plt.show()"
   ]
  },
  {
   "cell_type": "code",
   "execution_count": null,
   "id": "e786e949-f928-428c-ab37-cc5527de304d",
   "metadata": {},
   "outputs": [],
   "source": []
  },
  {
   "cell_type": "code",
   "execution_count": 8,
   "id": "794ca477-3e68-4c41-9391-6b622a86556b",
   "metadata": {},
   "outputs": [],
   "source": [
    "samples = dist.sample((100000,))"
   ]
  },
  {
   "cell_type": "code",
   "execution_count": 9,
   "id": "dec736bf-e3e3-41c8-af88-278115436619",
   "metadata": {},
   "outputs": [],
   "source": [
    "mu, var = samples.mean(0), samples.var(0)"
   ]
  },
  {
   "cell_type": "code",
   "execution_count": 13,
   "id": "d64e044e-2edb-4a64-b77f-61740189031a",
   "metadata": {},
   "outputs": [
    {
     "data": {
      "text/plain": [
       "tensor([[0., 0., -0.,  ..., 0., -0., 0.],\n",
       "        [-0., 0., 0.,  ..., 0., 0., 0.],\n",
       "        [0., 0., -0.,  ..., 0., -0., 0.],\n",
       "        ...,\n",
       "        [-0., 0., 0.,  ..., -0., 0., -0.],\n",
       "        [-0., 0., -0.,  ..., -0., -0., -0.],\n",
       "        [0., -0., 0.,  ..., -0., -0., 0.]], dtype=torch.float64)"
      ]
     },
     "execution_count": 13,
     "metadata": {},
     "output_type": "execute_result"
    }
   ],
   "source": [
    "torch.round(mu - dist.mean, decimals=2)"
   ]
  },
  {
   "cell_type": "code",
   "execution_count": 12,
   "id": "7a721c41-c9c7-455a-913a-3df12ae1cc98",
   "metadata": {},
   "outputs": [
    {
     "data": {
      "text/plain": [
       "tensor([[0., 0., -0.,  ..., 0., -0., 0.],\n",
       "        [-0., 0., 0.,  ..., 0., 0., 0.],\n",
       "        [0., 0., -0.,  ..., 0., -0., 0.],\n",
       "        ...,\n",
       "        [-0., 0., 0.,  ..., -0., 0., -0.],\n",
       "        [-0., 0., -0.,  ..., -0., -0., -0.],\n",
       "        [0., -0., 0.,  ..., -0., -0., 0.]], dtype=torch.float64)"
      ]
     },
     "execution_count": 12,
     "metadata": {},
     "output_type": "execute_result"
    }
   ],
   "source": [
    "torch.round(var - dist.variance, decimals=2)"
   ]
  },
  {
   "cell_type": "code",
   "execution_count": null,
   "id": "e9bc017e-ab23-4fde-90a0-f9335c886987",
   "metadata": {},
   "outputs": [],
   "source": []
  },
  {
   "cell_type": "code",
   "execution_count": null,
   "id": "93f7fa02-2921-46fb-8b3d-6343dd230e3f",
   "metadata": {},
   "outputs": [],
   "source": []
  },
  {
   "cell_type": "code",
   "execution_count": null,
   "id": "26f659be-8fd8-45fb-aa9e-b40b7d94f1e0",
   "metadata": {},
   "outputs": [],
   "source": []
  },
  {
   "cell_type": "code",
   "execution_count": 11,
   "id": "925d68a2-9c96-468c-b752-621d7b21b763",
   "metadata": {},
   "outputs": [
    {
     "data": {
      "text/plain": [
       "(tensor(0.0021, device='cuda:3'),\n",
       " tensor(0.0021, device='cuda:3', grad_fn=<SelectBackward0>))"
      ]
     },
     "execution_count": 11,
     "metadata": {},
     "output_type": "execute_result"
    }
   ],
   "source": [
    "var[b, 0, c], variance[b, 0, c]"
   ]
  },
  {
   "cell_type": "code",
   "execution_count": 15,
   "id": "9f76e429-cb33-4e20-811b-cc3f9c45f429",
   "metadata": {},
   "outputs": [
    {
     "data": {
      "text/plain": [
       "tensor([[[-0., 0., -0.,  ..., -0., -0., 0.]],\n",
       "\n",
       "        [[0., -0., 0.,  ..., -0., -0., 0.]],\n",
       "\n",
       "        [[0., 0., -0.,  ..., -0., 0., -0.]]], device='cuda:3',\n",
       "       grad_fn=<RoundBackward1>)"
      ]
     },
     "execution_count": 15,
     "metadata": {},
     "output_type": "execute_result"
    }
   ],
   "source": [
    "torch.round(var - variance, decimals=3)"
   ]
  },
  {
   "cell_type": "code",
   "execution_count": null,
   "id": "6d875044-7b78-434d-9f38-e2569bef0fdb",
   "metadata": {},
   "outputs": [],
   "source": []
  },
  {
   "cell_type": "code",
   "execution_count": null,
   "id": "0eec0773-bb52-4660-8edf-c279f788abd9",
   "metadata": {},
   "outputs": [],
   "source": []
  },
  {
   "cell_type": "code",
   "execution_count": 5,
   "id": "2dc57baf-10cc-4662-9c76-c55aac0b7e8c",
   "metadata": {},
   "outputs": [
    {
     "ename": "NotImplementedError",
     "evalue": "",
     "output_type": "error",
     "traceback": [
      "\u001b[0;31m---------------------------------------------------------------------------\u001b[0m",
      "\u001b[0;31mNotImplementedError\u001b[0m                       Traceback (most recent call last)",
      "Cell \u001b[0;32mIn[5], line 1\u001b[0m\n\u001b[0;32m----> 1\u001b[0m mse, dist, _ \u001b[38;5;241m=\u001b[39m vae\u001b[38;5;241m.\u001b[39mloss_recon_exact(x)\n",
      "File \u001b[0;32m~/Dropbox/git/_PoissonVAE/vae/vae.py:101\u001b[0m, in \u001b[0;36mBaseVAE.loss_recon_exact\u001b[0;34m(self, x)\u001b[0m\n\u001b[1;32m     99\u001b[0m eq3 \u001b[38;5;241m=\u001b[39m \u001b[38;5;124m'\u001b[39m\u001b[38;5;124msi, ij, js -> s\u001b[39m\u001b[38;5;124m'\u001b[39m\n\u001b[1;32m    100\u001b[0m eq4 \u001b[38;5;241m=\u001b[39m \u001b[38;5;124m'\u001b[39m\u001b[38;5;124msi, is -> s\u001b[39m\u001b[38;5;124m'\u001b[39m\n\u001b[0;32m--> 101\u001b[0m term1 \u001b[38;5;241m=\u001b[39m torch\u001b[38;5;241m.\u001b[39meinsum(eq1, dist\u001b[38;5;241m.\u001b[39mmean, a, dist\u001b[38;5;241m.\u001b[39mmean\u001b[38;5;241m.\u001b[39mT)\n\u001b[1;32m    102\u001b[0m term2 \u001b[38;5;241m=\u001b[39m torch\u001b[38;5;241m.\u001b[39meinsum(eq2, dist\u001b[38;5;241m.\u001b[39mvariance, a)\n\u001b[1;32m    103\u001b[0m term3 \u001b[38;5;241m=\u001b[39m torch\u001b[38;5;241m.\u001b[39meinsum(eq3, x, phi, dist\u001b[38;5;241m.\u001b[39mmean\u001b[38;5;241m.\u001b[39mT)\u001b[38;5;241m.\u001b[39mmul(\u001b[38;5;241m-\u001b[39m\u001b[38;5;241m2\u001b[39m)\n",
      "File \u001b[0;32m~/anaconda3/lib/python3.11/site-packages/torch/distributions/distribution.py:135\u001b[0m, in \u001b[0;36mDistribution.mean\u001b[0;34m(self)\u001b[0m\n\u001b[1;32m    130\u001b[0m \u001b[38;5;129m@property\u001b[39m\n\u001b[1;32m    131\u001b[0m \u001b[38;5;28;01mdef\u001b[39;00m \u001b[38;5;21mmean\u001b[39m(\u001b[38;5;28mself\u001b[39m) \u001b[38;5;241m-\u001b[39m\u001b[38;5;241m>\u001b[39m torch\u001b[38;5;241m.\u001b[39mTensor:\n\u001b[1;32m    132\u001b[0m \u001b[38;5;250m    \u001b[39m\u001b[38;5;124;03m\"\"\"\u001b[39;00m\n\u001b[1;32m    133\u001b[0m \u001b[38;5;124;03m    Returns the mean of the distribution.\u001b[39;00m\n\u001b[1;32m    134\u001b[0m \u001b[38;5;124;03m    \"\"\"\u001b[39;00m\n\u001b[0;32m--> 135\u001b[0m     \u001b[38;5;28;01mraise\u001b[39;00m \u001b[38;5;167;01mNotImplementedError\u001b[39;00m\n",
      "\u001b[0;31mNotImplementedError\u001b[0m: "
     ]
    }
   ],
   "source": [
    "mse, dist, _ = vae.loss_recon_exact(x)"
   ]
  },
  {
   "cell_type": "code",
   "execution_count": 6,
   "id": "81040487-d4a5-41fd-8186-2abc1e373d50",
   "metadata": {},
   "outputs": [],
   "source": []
  },
  {
   "cell_type": "code",
   "execution_count": 9,
   "id": "84d484fe-9f55-43ef-909e-d26d82121834",
   "metadata": {},
   "outputs": [
    {
     "ename": "NotImplementedError",
     "evalue": "",
     "output_type": "error",
     "traceback": [
      "\u001b[0;31m---------------------------------------------------------------------------\u001b[0m",
      "\u001b[0;31mNotImplementedError\u001b[0m                       Traceback (most recent call last)",
      "Cell \u001b[0;32mIn[9], line 1\u001b[0m\n\u001b[0;32m----> 1\u001b[0m dist\u001b[38;5;241m.\u001b[39mmean\n",
      "File \u001b[0;32m~/anaconda3/lib/python3.11/site-packages/torch/distributions/distribution.py:135\u001b[0m, in \u001b[0;36mDistribution.mean\u001b[0;34m(self)\u001b[0m\n\u001b[1;32m    130\u001b[0m \u001b[38;5;129m@property\u001b[39m\n\u001b[1;32m    131\u001b[0m \u001b[38;5;28;01mdef\u001b[39;00m \u001b[38;5;21mmean\u001b[39m(\u001b[38;5;28mself\u001b[39m) \u001b[38;5;241m-\u001b[39m\u001b[38;5;241m>\u001b[39m torch\u001b[38;5;241m.\u001b[39mTensor:\n\u001b[1;32m    132\u001b[0m \u001b[38;5;250m    \u001b[39m\u001b[38;5;124;03m\"\"\"\u001b[39;00m\n\u001b[1;32m    133\u001b[0m \u001b[38;5;124;03m    Returns the mean of the distribution.\u001b[39;00m\n\u001b[1;32m    134\u001b[0m \u001b[38;5;124;03m    \"\"\"\u001b[39;00m\n\u001b[0;32m--> 135\u001b[0m     \u001b[38;5;28;01mraise\u001b[39;00m \u001b[38;5;167;01mNotImplementedError\u001b[39;00m\n",
      "\u001b[0;31mNotImplementedError\u001b[0m: "
     ]
    }
   ],
   "source": [
    "dist.mean"
   ]
  },
  {
   "cell_type": "code",
   "execution_count": null,
   "id": "2aeda8cd-5e1c-48f8-8dc7-362939f12bb8",
   "metadata": {},
   "outputs": [],
   "source": []
  },
  {
   "cell_type": "code",
   "execution_count": 10,
   "id": "16d9b653-3daf-4dd2-95aa-96a18fe1c253",
   "metadata": {},
   "outputs": [
    {
     "data": {
      "text/plain": [
       "torch.Size([200, 1, 512])"
      ]
     },
     "execution_count": 10,
     "metadata": {},
     "output_type": "execute_result"
    }
   ],
   "source": [
    "dist.probs.shape"
   ]
  },
  {
   "cell_type": "code",
   "execution_count": 12,
   "id": "0c443657-12d7-490f-9ade-3d9f688556c9",
   "metadata": {},
   "outputs": [
    {
     "data": {
      "text/plain": [
       "torch.Size([10000, 200, 1, 512])"
      ]
     },
     "execution_count": 12,
     "metadata": {},
     "output_type": "execute_result"
    }
   ],
   "source": [
    "samples = dist.sample((10000, ))\n",
    "samples.shape"
   ]
  },
  {
   "cell_type": "code",
   "execution_count": null,
   "id": "8b60a596-2615-4fa2-87cf-06d2847014d4",
   "metadata": {},
   "outputs": [],
   "source": []
  },
  {
   "cell_type": "code",
   "execution_count": 13,
   "id": "4e4afe3e-e036-4d8a-bae4-41ecae9154a5",
   "metadata": {},
   "outputs": [
    {
     "name": "stderr",
     "output_type": "stream",
     "text": [
      "/home/hadi/anaconda3/lib/python3.11/site-packages/seaborn/_oldcore.py:1119: FutureWarning: use_inf_as_na option is deprecated and will be removed in a future version. Convert inf values to NaN before operating instead.\n",
      "  with pd.option_context('mode.use_inf_as_na', True):\n"
     ]
    },
    {
     "data": {
      "text/plain": [
       "<Axes: ylabel='Count'>"
      ]
     },
     "execution_count": 13,
     "metadata": {},
     "output_type": "execute_result"
    },
    {
     "data": {
      "image/png": "[encoded data removed]",
      "text/plain": [
       "<Figure size 300x200 with 1 Axes>"
      ]
     },
     "metadata": {},
     "output_type": "display_data"
    }
   ],
   "source": [
    "\n",
    "\n",
    "sns.histplot(tonp(samples[:, b, 0, c]))"
   ]
  },
  {
   "cell_type": "code",
   "execution_count": null,
   "id": "c7fe57de-fa72-4b89-9bf3-da21b9f0c443",
   "metadata": {},
   "outputs": [],
   "source": []
  },
  {
   "cell_type": "code",
   "execution_count": 14,
   "id": "2130f324-ff8a-4302-8b00-796ad5b1ccfc",
   "metadata": {},
   "outputs": [],
   "source": [
    "mu, sd = samples.mean(0), samples.std(0)"
   ]
  },
  {
   "cell_type": "code",
   "execution_count": 16,
   "id": "f7b34c4b-bffe-4752-9cb7-f442100a374f",
   "metadata": {},
   "outputs": [
    {
     "data": {
      "text/plain": [
       "(tensor(0.0018, device='cuda:3'),\n",
       " tensor(0.0017, device='cuda:3', grad_fn=<SelectBackward0>))"
      ]
     },
     "execution_count": 16,
     "metadata": {},
     "output_type": "execute_result"
    }
   ],
   "source": [
    "mu[b, 0, c], dist.probs[b, 0, c]"
   ]
  },
  {
   "cell_type": "code",
   "execution_count": null,
   "id": "32dc5d52-ac8f-4f2d-96b1-82aa187ce55d",
   "metadata": {},
   "outputs": [],
   "source": []
  },
  {
   "cell_type": "code",
   "execution_count": null,
   "id": "4e38b364-edc1-473b-985e-1818ee3f4375",
   "metadata": {},
   "outputs": [],
   "source": []
  },
  {
   "cell_type": "code",
   "execution_count": null,
   "id": "86f27414-8842-49cd-8c57-ae0424ceaaba",
   "metadata": {},
   "outputs": [],
   "source": []
  },
  {
   "cell_type": "code",
   "execution_count": null,
   "id": "3d4a13d3-0b6c-4686-9cde-dc4971e34e1d",
   "metadata": {},
   "outputs": [],
   "source": []
  },
  {
   "cell_type": "code",
   "execution_count": null,
   "id": "99f23f7e-6a50-4cbb-af46-4410fd45bb25",
   "metadata": {},
   "outputs": [
    {
     "name": "stderr",
     "output_type": "stream",
     "text": [
      "epoch # 74, avg loss: 76.134607:   6%|▍       | 74/1200 [04:15<56:44,  3.02s/it]"
     ]
    }
   ],
   "source": [
    "tr.train()"
   ]
  },
  {
   "cell_type": "code",
   "execution_count": null,
   "id": "26b386d9-0dfa-46a2-a800-ee32ad14053b",
   "metadata": {},
   "outputs": [],
   "source": []
  },
  {
   "cell_type": "code",
   "execution_count": null,
   "id": "d5590800-4e3a-4542-9e21-8569a3e18b7a",
   "metadata": {},
   "outputs": [],
   "source": []
  },
  {
   "cell_type": "code",
   "execution_count": null,
   "id": "ad5947cd-71b0-4b5b-bc16-07ce55e417b8",
   "metadata": {},
   "outputs": [],
   "source": []
  },
  {
   "cell_type": "code",
   "execution_count": null,
   "id": "07280338-2f4f-458f-950f-64e3b8870f6a",
   "metadata": {},
   "outputs": [],
   "source": []
  },
  {
   "cell_type": "code",
   "execution_count": 3,
   "id": "6fb5b6ee-891b-48d8-8d4a-02ee1b285d2e",
   "metadata": {},
   "outputs": [
    {
     "data": {
      "text/html": [
       "<pre style=\"white-space:pre;overflow-x:auto;line-height:normal;font-family:Menlo,'DejaVu Sans Mono',consolas,'Courier New',monospace\"><span style=\"color: #00ff00; text-decoration-color: #00ff00; font-style: italic\">True</span>\n",
       "</pre>\n"
      ],
      "text/plain": [
       "\u001b[3;92mTrue\u001b[0m\n"
      ]
     },
     "metadata": {},
     "output_type": "display_data"
    },
    {
     "data": {
      "text/html": [
       "<pre style=\"white-space:pre;overflow-x:auto;line-height:normal;font-family:Menlo,'DejaVu Sans Mono',consolas,'Courier New',monospace\">torch: <span style=\"color: #008080; text-decoration-color: #008080; font-weight: bold\">2.3</span>.<span style=\"color: #008080; text-decoration-color: #008080; font-weight: bold\">0</span>    cuda: <span style=\"color: #008080; text-decoration-color: #008080; font-weight: bold\">12.1</span>      cudnn: <span style=\"color: #008080; text-decoration-color: #008080; font-weight: bold\">8902</span>\n",
       "</pre>\n"
      ],
      "text/plain": [
       "torch: \u001b[1;36m2.3\u001b[0m.\u001b[1;36m0\u001b[0m    cuda: \u001b[1;36m12.1\u001b[0m      cudnn: \u001b[1;36m8902\u001b[0m\n"
      ]
     },
     "metadata": {},
     "output_type": "display_data"
    },
    {
     "data": {
      "text/html": [
       "<pre style=\"white-space:pre;overflow-x:auto;line-height:normal;font-family:Menlo,'DejaVu Sans Mono',consolas,'Courier New',monospace\">\n",
       "</pre>\n"
      ],
      "text/plain": [
       "\n"
      ]
     },
     "metadata": {},
     "output_type": "display_data"
    }
   ],
   "source": [
    "print(torch.cuda.is_available())\n",
    "print(f\"torch: {torch.__version__}\\tcuda: {torch.version.cuda}\\tcudnn: {torch.backends.cudnn.version()}\")\n",
    "print()"
   ]
  },
  {
   "cell_type": "code",
   "execution_count": null,
   "id": "f4d4a8e8-c98e-4d1f-9e66-1a1b55c55f08",
   "metadata": {},
   "outputs": [],
   "source": []
  },
  {
   "cell_type": "code",
   "execution_count": 4,
   "id": "50f11b7b-5bd4-4e4b-9f46-f83e86b44f56",
   "metadata": {},
   "outputs": [],
   "source": [
    "torch.backends.cudnn.benchmark = True"
   ]
  },
  {
   "cell_type": "code",
   "execution_count": null,
   "id": "161b3baa-5c38-4e9f-b24d-67f0d9925285",
   "metadata": {},
   "outputs": [],
   "source": []
  },
  {
   "cell_type": "code",
   "execution_count": 5,
   "id": "a32641cd-2bb7-4267-9e35-a7f9576585b0",
   "metadata": {},
   "outputs": [],
   "source": [
    "import torch\n",
    "from torch import nn\n",
    "x = nn.Parameter(torch.randn(123, 16, 64, 64), requires_grad=True).cuda()\n",
    "conv = nn.Conv2d(16, 32, 3, 1).cuda()\n",
    "y = conv(x)\n",
    "loss = (y - 1).pow(2).sum()\n",
    "loss.backward()"
   ]
  },
  {
   "cell_type": "code",
   "execution_count": null,
   "id": "729014e6-45bc-4cb9-aacb-0bc5f9173365",
   "metadata": {},
   "outputs": [],
   "source": []
  },
  {
   "cell_type": "code",
   "execution_count": null,
   "id": "1e77fc47-1fbb-4805-8b5d-300eed3a1ce6",
   "metadata": {},
   "outputs": [],
   "source": []
  },
  {
   "cell_type": "code",
   "execution_count": null,
   "id": "3d999521-0296-42e2-b8c1-85077f27a5cc",
   "metadata": {},
   "outputs": [],
   "source": [
    "# torch.backends.cudnn.deterministic = True"
   ]
  },
  {
   "cell_type": "code",
   "execution_count": 5,
   "id": "6b595eb4-04ca-45ee-a058-311d9f4c7e7c",
   "metadata": {},
   "outputs": [],
   "source": [
    "cfg_vae, cfg_tr = default_configs('MNIST', model_type, 'conv+b|lin')\n",
    "vae = MODEL_CLASSES[model_type](CFG_CLASSES[model_type](**cfg_vae))\n",
    "tr = TrainerVAE(vae, ConfigTrainVAE(**cfg_tr), device=device)"
   ]
  },
  {
   "cell_type": "code",
   "execution_count": null,
   "id": "ffde55d2-2f39-4adc-a6a3-d586e6883ee1",
   "metadata": {},
   "outputs": [
    {
     "name": "stderr",
     "output_type": "stream",
     "text": [
      "epoch # 956, avg loss: 40.660207:  80%|█████████████████▌    | 956/1200 [4:21:21<1:03:34, 15.63s/it]"
     ]
    }
   ],
   "source": [
    "tr.train()"
   ]
  },
  {
   "cell_type": "code",
   "execution_count": null,
   "id": "3951c294-7980-44c4-9d93-ce1faea3de33",
   "metadata": {},
   "outputs": [],
   "source": []
  },
  {
   "cell_type": "code",
   "execution_count": null,
   "id": "3f040979-3195-4f78-b1bb-e9960973980c",
   "metadata": {},
   "outputs": [
    {
     "name": "stderr",
     "output_type": "stream",
     "text": [
      "epoch # 20, avg loss: 129.306015:   2%|▍                        | 20/1200 [03:30<3:51:05, 11.75s/it]"
     ]
    }
   ],
   "source": []
  },
  {
   "cell_type": "code",
   "execution_count": null,
   "id": "0558278d-73c0-4959-af36-25b98f611e1e",
   "metadata": {},
   "outputs": [],
   "source": []
  },
  {
   "cell_type": "code",
   "execution_count": 5,
   "id": "10a1f27f-c301-494d-ac32-12d087f45a8b",
   "metadata": {},
   "outputs": [
    {
     "name": "stderr",
     "output_type": "stream",
     "text": [
      "  0%|                                                                      | 0/1200 [00:00<?, ?it/s]/home/hadi/Dropbox/git/_PoissonVAE/base/common.py:353: UserWarning: Plan failed with a cudnnException: CUDNN_BACKEND_EXECUTION_PLAN_DESCRIPTOR: cudnnFinalize Descriptor Failed cudnn_status: CUDNN_STATUS_NOT_SUPPORTED (Triggered internally at /opt/conda/conda-bld/pytorch_1712608853085/work/aten/src/ATen/native/cudnn/Conv_v8.cpp:919.)\n",
      "  return F.conv2d(\n",
      "/home/hadi/anaconda3/lib/python3.11/site-packages/torch/autograd/graph.py:744: UserWarning: Plan failed with a cudnnException: CUDNN_BACKEND_EXECUTION_PLAN_DESCRIPTOR: cudnnFinalize Descriptor Failed cudnn_status: CUDNN_STATUS_NOT_SUPPORTED (Triggered internally at /opt/conda/conda-bld/pytorch_1712608853085/work/aten/src/ATen/native/cudnn/Conv_v8.cpp:919.)\n",
      "  return Variable._execution_engine.run_backward(  # Calls into the C++ engine to run the backward pass\n",
      "epoch # 4, avg loss: 53.324352:   0%|                            | 4/1200 [01:19<6:35:05, 19.82s/it]\n"
     ]
    },
    {
     "ename": "KeyboardInterrupt",
     "evalue": "",
     "output_type": "error",
     "traceback": [
      "\u001b[0;31m---------------------------------------------------------------------------\u001b[0m",
      "\u001b[0;31mKeyboardInterrupt\u001b[0m                         Traceback (most recent call last)",
      "Cell \u001b[0;32mIn[5], line 1\u001b[0m\n\u001b[0;32m----> 1\u001b[0m tr\u001b[38;5;241m.\u001b[39mtrain()\n",
      "File \u001b[0;32m~/Dropbox/git/_PoissonVAE/base/train_base.py:87\u001b[0m, in \u001b[0;36mBaseTrainer.train\u001b[0;34m(self, comment, epochs, fresh_fit, save)\u001b[0m\n\u001b[1;32m     80\u001b[0m \u001b[38;5;28mself\u001b[39m\u001b[38;5;241m.\u001b[39mpbar \u001b[38;5;241m=\u001b[39m tqdm(\n\u001b[1;32m     81\u001b[0m \tepochs,\n\u001b[1;32m     82\u001b[0m \tncols\u001b[38;5;241m=\u001b[39m\u001b[38;5;241m100\u001b[39m,\n\u001b[1;32m     83\u001b[0m \tposition\u001b[38;5;241m=\u001b[39m\u001b[38;5;241m0\u001b[39m,\n\u001b[1;32m     84\u001b[0m \tleave\u001b[38;5;241m=\u001b[39m\u001b[38;5;28;01mTrue\u001b[39;00m,\n\u001b[1;32m     85\u001b[0m )\n\u001b[1;32m     86\u001b[0m \u001b[38;5;28;01mfor\u001b[39;00m epoch \u001b[38;5;129;01min\u001b[39;00m \u001b[38;5;28mself\u001b[39m\u001b[38;5;241m.\u001b[39mpbar:\n\u001b[0;32m---> 87\u001b[0m \tavg_loss \u001b[38;5;241m=\u001b[39m \u001b[38;5;28mself\u001b[39m\u001b[38;5;241m.\u001b[39miteration(epoch)\n\u001b[1;32m     88\u001b[0m \tmsg \u001b[38;5;241m=\u001b[39m \u001b[38;5;124m'\u001b[39m\u001b[38;5;124m, \u001b[39m\u001b[38;5;124m'\u001b[39m\u001b[38;5;241m.\u001b[39mjoin([\n\u001b[1;32m     89\u001b[0m \t\t\u001b[38;5;124mf\u001b[39m\u001b[38;5;124m\"\u001b[39m\u001b[38;5;124mepoch # \u001b[39m\u001b[38;5;132;01m{\u001b[39;00mepoch\u001b[38;5;250m \u001b[39m\u001b[38;5;241m+\u001b[39m\u001b[38;5;250m \u001b[39m\u001b[38;5;241m1\u001b[39m\u001b[38;5;132;01m:\u001b[39;00m\u001b[38;5;124md\u001b[39m\u001b[38;5;132;01m}\u001b[39;00m\u001b[38;5;124m\"\u001b[39m,\n\u001b[1;32m     90\u001b[0m \t\t\u001b[38;5;124mf\u001b[39m\u001b[38;5;124m\"\u001b[39m\u001b[38;5;124mavg loss: \u001b[39m\u001b[38;5;132;01m{\u001b[39;00mavg_loss\u001b[38;5;132;01m:\u001b[39;00m\u001b[38;5;124m3f\u001b[39m\u001b[38;5;132;01m}\u001b[39;00m\u001b[38;5;124m\"\u001b[39m,\n\u001b[1;32m     91\u001b[0m \t])\n\u001b[1;32m     92\u001b[0m \t\u001b[38;5;28mself\u001b[39m\u001b[38;5;241m.\u001b[39mpbar\u001b[38;5;241m.\u001b[39mset_description(msg)\n",
      "File \u001b[0;32m~/Dropbox/git/_PoissonVAE/vae/train_vae.py:288\u001b[0m, in \u001b[0;36mTrainerVAE.iteration\u001b[0;34m(self, epoch)\u001b[0m\n\u001b[1;32m    286\u001b[0m \u001b[38;5;28;01mwith\u001b[39;00m torch\u001b[38;5;241m.\u001b[39mcuda\u001b[38;5;241m.\u001b[39mamp\u001b[38;5;241m.\u001b[39mautocast(enabled\u001b[38;5;241m=\u001b[39m\u001b[38;5;28mself\u001b[39m\u001b[38;5;241m.\u001b[39mcfg\u001b[38;5;241m.\u001b[39muse_amp):\n\u001b[1;32m    287\u001b[0m \t\u001b[38;5;28mself\u001b[39m\u001b[38;5;241m.\u001b[39mmodel\u001b[38;5;241m.\u001b[39mupdate_t(\u001b[38;5;28mself\u001b[39m\u001b[38;5;241m.\u001b[39mtemperatures[gstep])\n\u001b[0;32m--> 288\u001b[0m \tmse_batch, kl, dist \u001b[38;5;241m=\u001b[39m \u001b[38;5;28mself\u001b[39m\u001b[38;5;241m.\u001b[39m_fun(x)\n\u001b[1;32m    289\u001b[0m \tkl_batch \u001b[38;5;241m=\u001b[39m torch\u001b[38;5;241m.\u001b[39msum(kl, dim\u001b[38;5;241m=\u001b[39m\u001b[38;5;241m1\u001b[39m)\n\u001b[1;32m    290\u001b[0m \tkl_diag \u001b[38;5;241m=\u001b[39m torch\u001b[38;5;241m.\u001b[39mmean(kl, dim\u001b[38;5;241m=\u001b[39m\u001b[38;5;241m0\u001b[39m)\n",
      "File \u001b[0;32m~/Dropbox/git/_PoissonVAE/vae/train_vae.py:625\u001b[0m, in \u001b[0;36mTrainerVAE._init_fun.<locals>._fun\u001b[0;34m(x)\u001b[0m\n\u001b[1;32m    623\u001b[0m \u001b[38;5;28;01mif\u001b[39;00m \u001b[38;5;28mself\u001b[39m\u001b[38;5;241m.\u001b[39mmodel\u001b[38;5;241m.\u001b[39mcfg\u001b[38;5;241m.\u001b[39mtype \u001b[38;5;241m==\u001b[39m \u001b[38;5;124m'\u001b[39m\u001b[38;5;124mpoisson\u001b[39m\u001b[38;5;124m'\u001b[39m:\n\u001b[1;32m    624\u001b[0m \t\u001b[38;5;28;01mif\u001b[39;00m \u001b[38;5;28mself\u001b[39m\u001b[38;5;241m.\u001b[39mcfg\u001b[38;5;241m.\u001b[39mmethod \u001b[38;5;241m==\u001b[39m \u001b[38;5;124m'\u001b[39m\u001b[38;5;124mmc\u001b[39m\u001b[38;5;124m'\u001b[39m:\n\u001b[0;32m--> 625\u001b[0m \t\tdist, log_dr, z, y \u001b[38;5;241m=\u001b[39m \u001b[38;5;28mself\u001b[39m\u001b[38;5;241m.\u001b[39mmodel(x)\n\u001b[1;32m    626\u001b[0m \t\tmse_batch \u001b[38;5;241m=\u001b[39m \u001b[38;5;28mself\u001b[39m\u001b[38;5;241m.\u001b[39mmodel\u001b[38;5;241m.\u001b[39mloss_recon(y, x)\n\u001b[1;32m    627\u001b[0m \t\u001b[38;5;28;01melif\u001b[39;00m \u001b[38;5;28mself\u001b[39m\u001b[38;5;241m.\u001b[39mcfg\u001b[38;5;241m.\u001b[39mmethod \u001b[38;5;241m==\u001b[39m \u001b[38;5;124m'\u001b[39m\u001b[38;5;124mexact\u001b[39m\u001b[38;5;124m'\u001b[39m:\n",
      "File \u001b[0;32m~/anaconda3/lib/python3.11/site-packages/torch/nn/modules/module.py:1532\u001b[0m, in \u001b[0;36mModule._wrapped_call_impl\u001b[0;34m(self, *args, **kwargs)\u001b[0m\n\u001b[1;32m   1530\u001b[0m     \u001b[38;5;28;01mreturn\u001b[39;00m \u001b[38;5;28mself\u001b[39m\u001b[38;5;241m.\u001b[39m_compiled_call_impl(\u001b[38;5;241m*\u001b[39margs, \u001b[38;5;241m*\u001b[39m\u001b[38;5;241m*\u001b[39mkwargs)  \u001b[38;5;66;03m# type: ignore[misc]\u001b[39;00m\n\u001b[1;32m   1531\u001b[0m \u001b[38;5;28;01melse\u001b[39;00m:\n\u001b[0;32m-> 1532\u001b[0m     \u001b[38;5;28;01mreturn\u001b[39;00m \u001b[38;5;28mself\u001b[39m\u001b[38;5;241m.\u001b[39m_call_impl(\u001b[38;5;241m*\u001b[39margs, \u001b[38;5;241m*\u001b[39m\u001b[38;5;241m*\u001b[39mkwargs)\n",
      "File \u001b[0;32m~/anaconda3/lib/python3.11/site-packages/torch/nn/modules/module.py:1541\u001b[0m, in \u001b[0;36mModule._call_impl\u001b[0;34m(self, *args, **kwargs)\u001b[0m\n\u001b[1;32m   1536\u001b[0m \u001b[38;5;66;03m# If we don't have any hooks, we want to skip the rest of the logic in\u001b[39;00m\n\u001b[1;32m   1537\u001b[0m \u001b[38;5;66;03m# this function, and just call forward.\u001b[39;00m\n\u001b[1;32m   1538\u001b[0m \u001b[38;5;28;01mif\u001b[39;00m \u001b[38;5;129;01mnot\u001b[39;00m (\u001b[38;5;28mself\u001b[39m\u001b[38;5;241m.\u001b[39m_backward_hooks \u001b[38;5;129;01mor\u001b[39;00m \u001b[38;5;28mself\u001b[39m\u001b[38;5;241m.\u001b[39m_backward_pre_hooks \u001b[38;5;129;01mor\u001b[39;00m \u001b[38;5;28mself\u001b[39m\u001b[38;5;241m.\u001b[39m_forward_hooks \u001b[38;5;129;01mor\u001b[39;00m \u001b[38;5;28mself\u001b[39m\u001b[38;5;241m.\u001b[39m_forward_pre_hooks\n\u001b[1;32m   1539\u001b[0m         \u001b[38;5;129;01mor\u001b[39;00m _global_backward_pre_hooks \u001b[38;5;129;01mor\u001b[39;00m _global_backward_hooks\n\u001b[1;32m   1540\u001b[0m         \u001b[38;5;129;01mor\u001b[39;00m _global_forward_hooks \u001b[38;5;129;01mor\u001b[39;00m _global_forward_pre_hooks):\n\u001b[0;32m-> 1541\u001b[0m     \u001b[38;5;28;01mreturn\u001b[39;00m forward_call(\u001b[38;5;241m*\u001b[39margs, \u001b[38;5;241m*\u001b[39m\u001b[38;5;241m*\u001b[39mkwargs)\n\u001b[1;32m   1543\u001b[0m \u001b[38;5;28;01mtry\u001b[39;00m:\n\u001b[1;32m   1544\u001b[0m     result \u001b[38;5;241m=\u001b[39m \u001b[38;5;28;01mNone\u001b[39;00m\n",
      "File \u001b[0;32m~/Dropbox/git/_PoissonVAE/vae/vae.py:353\u001b[0m, in \u001b[0;36mPoissonVAE.forward\u001b[0;34m(self, x)\u001b[0m\n\u001b[1;32m    351\u001b[0m spks \u001b[38;5;241m=\u001b[39m dist\u001b[38;5;241m.\u001b[39mrsample()\n\u001b[1;32m    352\u001b[0m \u001b[38;5;66;03m# decode\u001b[39;00m\n\u001b[0;32m--> 353\u001b[0m y \u001b[38;5;241m=\u001b[39m \u001b[38;5;28mself\u001b[39m\u001b[38;5;241m.\u001b[39mdecode(spks)\n\u001b[1;32m    354\u001b[0m \u001b[38;5;28;01mreturn\u001b[39;00m dist, log_dr, spks, y\n",
      "File \u001b[0;32m~/Dropbox/git/_PoissonVAE/vae/vae.py:67\u001b[0m, in \u001b[0;36mBaseVAE.decode\u001b[0;34m(self, z)\u001b[0m\n\u001b[1;32m     65\u001b[0m \th \u001b[38;5;241m=\u001b[39m \u001b[38;5;28mself\u001b[39m\u001b[38;5;241m.\u001b[39mfc_dec(z)\n\u001b[1;32m     66\u001b[0m \th \u001b[38;5;241m=\u001b[39m h\u001b[38;5;241m.\u001b[39mview(\u001b[38;5;241m*\u001b[39m\u001b[38;5;28mself\u001b[39m\u001b[38;5;241m.\u001b[39mshape)\n\u001b[0;32m---> 67\u001b[0m \tx_recon \u001b[38;5;241m=\u001b[39m \u001b[38;5;28mself\u001b[39m\u001b[38;5;241m.\u001b[39mdec(h)\n\u001b[1;32m     68\u001b[0m \u001b[38;5;28;01melif\u001b[39;00m \u001b[38;5;28mself\u001b[39m\u001b[38;5;241m.\u001b[39mcfg\u001b[38;5;241m.\u001b[39mdec_type \u001b[38;5;241m==\u001b[39m \u001b[38;5;124m'\u001b[39m\u001b[38;5;124mlin\u001b[39m\u001b[38;5;124m'\u001b[39m:\n\u001b[1;32m     69\u001b[0m \tx_recon \u001b[38;5;241m=\u001b[39m \u001b[38;5;28mself\u001b[39m\u001b[38;5;241m.\u001b[39mfc_dec(z)\u001b[38;5;241m.\u001b[39mview(\u001b[38;5;241m*\u001b[39m\u001b[38;5;28mself\u001b[39m\u001b[38;5;241m.\u001b[39mshape)\n",
      "File \u001b[0;32m~/anaconda3/lib/python3.11/site-packages/torch/nn/modules/module.py:1532\u001b[0m, in \u001b[0;36mModule._wrapped_call_impl\u001b[0;34m(self, *args, **kwargs)\u001b[0m\n\u001b[1;32m   1530\u001b[0m     \u001b[38;5;28;01mreturn\u001b[39;00m \u001b[38;5;28mself\u001b[39m\u001b[38;5;241m.\u001b[39m_compiled_call_impl(\u001b[38;5;241m*\u001b[39margs, \u001b[38;5;241m*\u001b[39m\u001b[38;5;241m*\u001b[39mkwargs)  \u001b[38;5;66;03m# type: ignore[misc]\u001b[39;00m\n\u001b[1;32m   1531\u001b[0m \u001b[38;5;28;01melse\u001b[39;00m:\n\u001b[0;32m-> 1532\u001b[0m     \u001b[38;5;28;01mreturn\u001b[39;00m \u001b[38;5;28mself\u001b[39m\u001b[38;5;241m.\u001b[39m_call_impl(\u001b[38;5;241m*\u001b[39margs, \u001b[38;5;241m*\u001b[39m\u001b[38;5;241m*\u001b[39mkwargs)\n",
      "File \u001b[0;32m~/anaconda3/lib/python3.11/site-packages/torch/nn/modules/module.py:1541\u001b[0m, in \u001b[0;36mModule._call_impl\u001b[0;34m(self, *args, **kwargs)\u001b[0m\n\u001b[1;32m   1536\u001b[0m \u001b[38;5;66;03m# If we don't have any hooks, we want to skip the rest of the logic in\u001b[39;00m\n\u001b[1;32m   1537\u001b[0m \u001b[38;5;66;03m# this function, and just call forward.\u001b[39;00m\n\u001b[1;32m   1538\u001b[0m \u001b[38;5;28;01mif\u001b[39;00m \u001b[38;5;129;01mnot\u001b[39;00m (\u001b[38;5;28mself\u001b[39m\u001b[38;5;241m.\u001b[39m_backward_hooks \u001b[38;5;129;01mor\u001b[39;00m \u001b[38;5;28mself\u001b[39m\u001b[38;5;241m.\u001b[39m_backward_pre_hooks \u001b[38;5;129;01mor\u001b[39;00m \u001b[38;5;28mself\u001b[39m\u001b[38;5;241m.\u001b[39m_forward_hooks \u001b[38;5;129;01mor\u001b[39;00m \u001b[38;5;28mself\u001b[39m\u001b[38;5;241m.\u001b[39m_forward_pre_hooks\n\u001b[1;32m   1539\u001b[0m         \u001b[38;5;129;01mor\u001b[39;00m _global_backward_pre_hooks \u001b[38;5;129;01mor\u001b[39;00m _global_backward_hooks\n\u001b[1;32m   1540\u001b[0m         \u001b[38;5;129;01mor\u001b[39;00m _global_forward_hooks \u001b[38;5;129;01mor\u001b[39;00m _global_forward_pre_hooks):\n\u001b[0;32m-> 1541\u001b[0m     \u001b[38;5;28;01mreturn\u001b[39;00m forward_call(\u001b[38;5;241m*\u001b[39margs, \u001b[38;5;241m*\u001b[39m\u001b[38;5;241m*\u001b[39mkwargs)\n\u001b[1;32m   1543\u001b[0m \u001b[38;5;28;01mtry\u001b[39;00m:\n\u001b[1;32m   1544\u001b[0m     result \u001b[38;5;241m=\u001b[39m \u001b[38;5;28;01mNone\u001b[39;00m\n",
      "File \u001b[0;32m~/anaconda3/lib/python3.11/site-packages/torch/nn/modules/container.py:217\u001b[0m, in \u001b[0;36mSequential.forward\u001b[0;34m(self, input)\u001b[0m\n\u001b[1;32m    215\u001b[0m \u001b[38;5;28;01mdef\u001b[39;00m \u001b[38;5;21mforward\u001b[39m(\u001b[38;5;28mself\u001b[39m, \u001b[38;5;28minput\u001b[39m):\n\u001b[1;32m    216\u001b[0m     \u001b[38;5;28;01mfor\u001b[39;00m module \u001b[38;5;129;01min\u001b[39;00m \u001b[38;5;28mself\u001b[39m:\n\u001b[0;32m--> 217\u001b[0m         \u001b[38;5;28minput\u001b[39m \u001b[38;5;241m=\u001b[39m module(\u001b[38;5;28minput\u001b[39m)\n\u001b[1;32m    218\u001b[0m     \u001b[38;5;28;01mreturn\u001b[39;00m \u001b[38;5;28minput\u001b[39m\n",
      "File \u001b[0;32m~/anaconda3/lib/python3.11/site-packages/torch/nn/modules/module.py:1532\u001b[0m, in \u001b[0;36mModule._wrapped_call_impl\u001b[0;34m(self, *args, **kwargs)\u001b[0m\n\u001b[1;32m   1530\u001b[0m     \u001b[38;5;28;01mreturn\u001b[39;00m \u001b[38;5;28mself\u001b[39m\u001b[38;5;241m.\u001b[39m_compiled_call_impl(\u001b[38;5;241m*\u001b[39margs, \u001b[38;5;241m*\u001b[39m\u001b[38;5;241m*\u001b[39mkwargs)  \u001b[38;5;66;03m# type: ignore[misc]\u001b[39;00m\n\u001b[1;32m   1531\u001b[0m \u001b[38;5;28;01melse\u001b[39;00m:\n\u001b[0;32m-> 1532\u001b[0m     \u001b[38;5;28;01mreturn\u001b[39;00m \u001b[38;5;28mself\u001b[39m\u001b[38;5;241m.\u001b[39m_call_impl(\u001b[38;5;241m*\u001b[39margs, \u001b[38;5;241m*\u001b[39m\u001b[38;5;241m*\u001b[39mkwargs)\n",
      "File \u001b[0;32m~/anaconda3/lib/python3.11/site-packages/torch/nn/modules/module.py:1541\u001b[0m, in \u001b[0;36mModule._call_impl\u001b[0;34m(self, *args, **kwargs)\u001b[0m\n\u001b[1;32m   1536\u001b[0m \u001b[38;5;66;03m# If we don't have any hooks, we want to skip the rest of the logic in\u001b[39;00m\n\u001b[1;32m   1537\u001b[0m \u001b[38;5;66;03m# this function, and just call forward.\u001b[39;00m\n\u001b[1;32m   1538\u001b[0m \u001b[38;5;28;01mif\u001b[39;00m \u001b[38;5;129;01mnot\u001b[39;00m (\u001b[38;5;28mself\u001b[39m\u001b[38;5;241m.\u001b[39m_backward_hooks \u001b[38;5;129;01mor\u001b[39;00m \u001b[38;5;28mself\u001b[39m\u001b[38;5;241m.\u001b[39m_backward_pre_hooks \u001b[38;5;129;01mor\u001b[39;00m \u001b[38;5;28mself\u001b[39m\u001b[38;5;241m.\u001b[39m_forward_hooks \u001b[38;5;129;01mor\u001b[39;00m \u001b[38;5;28mself\u001b[39m\u001b[38;5;241m.\u001b[39m_forward_pre_hooks\n\u001b[1;32m   1539\u001b[0m         \u001b[38;5;129;01mor\u001b[39;00m _global_backward_pre_hooks \u001b[38;5;129;01mor\u001b[39;00m _global_backward_hooks\n\u001b[1;32m   1540\u001b[0m         \u001b[38;5;129;01mor\u001b[39;00m _global_forward_hooks \u001b[38;5;129;01mor\u001b[39;00m _global_forward_pre_hooks):\n\u001b[0;32m-> 1541\u001b[0m     \u001b[38;5;28;01mreturn\u001b[39;00m forward_call(\u001b[38;5;241m*\u001b[39margs, \u001b[38;5;241m*\u001b[39m\u001b[38;5;241m*\u001b[39mkwargs)\n\u001b[1;32m   1543\u001b[0m \u001b[38;5;28;01mtry\u001b[39;00m:\n\u001b[1;32m   1544\u001b[0m     result \u001b[38;5;241m=\u001b[39m \u001b[38;5;28;01mNone\u001b[39;00m\n",
      "File \u001b[0;32m~/Dropbox/git/_PoissonVAE/base/common.py:352\u001b[0m, in \u001b[0;36mConv2D.forward\u001b[0;34m(self, x)\u001b[0m\n\u001b[1;32m    351\u001b[0m \u001b[38;5;28;01mdef\u001b[39;00m \u001b[38;5;21mforward\u001b[39m(\u001b[38;5;28mself\u001b[39m, x):\n\u001b[0;32m--> 352\u001b[0m \t\u001b[38;5;28mself\u001b[39m\u001b[38;5;241m.\u001b[39m_normalize_weight()\n\u001b[1;32m    353\u001b[0m \t\u001b[38;5;28;01mreturn\u001b[39;00m F\u001b[38;5;241m.\u001b[39mconv2d(\n\u001b[1;32m    354\u001b[0m \t\t\u001b[38;5;28minput\u001b[39m\u001b[38;5;241m=\u001b[39mx,\n\u001b[1;32m    355\u001b[0m \t\tweight\u001b[38;5;241m=\u001b[39m\u001b[38;5;28mself\u001b[39m\u001b[38;5;241m.\u001b[39mw,\n\u001b[0;32m   (...)\u001b[0m\n\u001b[1;32m    360\u001b[0m \t\tgroups\u001b[38;5;241m=\u001b[39m\u001b[38;5;28mself\u001b[39m\u001b[38;5;241m.\u001b[39mgroups,\n\u001b[1;32m    361\u001b[0m \t)\n",
      "File \u001b[0;32m~/Dropbox/git/_PoissonVAE/base/common.py:364\u001b[0m, in \u001b[0;36mConv2D._normalize_weight\u001b[0;34m(self)\u001b[0m\n\u001b[1;32m    363\u001b[0m \u001b[38;5;28;01mdef\u001b[39;00m \u001b[38;5;21m_normalize_weight\u001b[39m(\u001b[38;5;28mself\u001b[39m):\n\u001b[0;32m--> 364\u001b[0m \t\u001b[38;5;28mself\u001b[39m\u001b[38;5;241m.\u001b[39mw \u001b[38;5;241m=\u001b[39m _normalize(\n\u001b[1;32m    365\u001b[0m \t\tlognorm\u001b[38;5;241m=\u001b[39m\u001b[38;5;28mself\u001b[39m\u001b[38;5;241m.\u001b[39mlognorm,\n\u001b[1;32m    366\u001b[0m \t\tweight\u001b[38;5;241m=\u001b[39m\u001b[38;5;28mself\u001b[39m\u001b[38;5;241m.\u001b[39mweight,\n\u001b[1;32m    367\u001b[0m \t\tshape\u001b[38;5;241m=\u001b[39m\u001b[38;5;28mself\u001b[39m\u001b[38;5;241m.\u001b[39mshape,\n\u001b[1;32m    368\u001b[0m \t\tdims\u001b[38;5;241m=\u001b[39m\u001b[38;5;28mself\u001b[39m\u001b[38;5;241m.\u001b[39mdims,\n\u001b[1;32m    369\u001b[0m \t)\n",
      "File \u001b[0;32m~/Dropbox/git/_PoissonVAE/base/common.py:584\u001b[0m, in \u001b[0;36m_normalize\u001b[0;34m(lognorm, weight, shape, dims)\u001b[0m\n\u001b[1;32m    582\u001b[0m \u001b[38;5;28;01mdef\u001b[39;00m \u001b[38;5;21m_normalize\u001b[39m(lognorm, weight, shape, dims):\n\u001b[1;32m    583\u001b[0m \tn \u001b[38;5;241m=\u001b[39m torch\u001b[38;5;241m.\u001b[39mexp(lognorm)\u001b[38;5;241m.\u001b[39mview(shape)\n\u001b[0;32m--> 584\u001b[0m \twn \u001b[38;5;241m=\u001b[39m torch\u001b[38;5;241m.\u001b[39mlinalg\u001b[38;5;241m.\u001b[39mvector_norm(\n\u001b[1;32m    585\u001b[0m \t\tx\u001b[38;5;241m=\u001b[39mweight, dim\u001b[38;5;241m=\u001b[39mdims, keepdim\u001b[38;5;241m=\u001b[39m\u001b[38;5;28;01mTrue\u001b[39;00m)\n\u001b[1;32m    586\u001b[0m \teps \u001b[38;5;241m=\u001b[39m torch\u001b[38;5;241m.\u001b[39mfinfo(torch\u001b[38;5;241m.\u001b[39mfloat32)\u001b[38;5;241m.\u001b[39meps\n\u001b[1;32m    587\u001b[0m \t\u001b[38;5;28;01mreturn\u001b[39;00m n \u001b[38;5;241m*\u001b[39m weight \u001b[38;5;241m/\u001b[39m (wn \u001b[38;5;241m+\u001b[39m eps)\n",
      "\u001b[0;31mKeyboardInterrupt\u001b[0m: "
     ]
    }
   ],
   "source": [
    "### Was: mach"
   ]
  },
  {
   "cell_type": "code",
   "execution_count": null,
   "id": "13a91f2d-cebf-4481-a9e0-3ea5129af793",
   "metadata": {},
   "outputs": [],
   "source": []
  },
  {
   "cell_type": "code",
   "execution_count": 5,
   "id": "55b78700-0fd5-4203-870d-b9c5dec8c9e5",
   "metadata": {
    "scrolled": true
   },
   "outputs": [
    {
     "name": "stderr",
     "output_type": "stream",
     "text": [
      "epoch # 5, avg loss: 53.524626:   0%|                            | 5/1200 [01:02<4:07:08, 12.41s/it]\n"
     ]
    },
    {
     "ename": "KeyboardInterrupt",
     "evalue": "",
     "output_type": "error",
     "traceback": [
      "\u001b[0;31m---------------------------------------------------------------------------\u001b[0m",
      "\u001b[0;31mKeyboardInterrupt\u001b[0m                         Traceback (most recent call last)",
      "Cell \u001b[0;32mIn[5], line 1\u001b[0m\n\u001b[0;32m----> 1\u001b[0m tr\u001b[38;5;241m.\u001b[39mtrain()\n",
      "File \u001b[0;32m~/Dropbox/git/_PoissonVAE/base/train_base.py:87\u001b[0m, in \u001b[0;36mBaseTrainer.train\u001b[0;34m(self, comment, epochs, fresh_fit, save)\u001b[0m\n\u001b[1;32m     80\u001b[0m \u001b[38;5;28mself\u001b[39m\u001b[38;5;241m.\u001b[39mpbar \u001b[38;5;241m=\u001b[39m tqdm(\n\u001b[1;32m     81\u001b[0m \tepochs,\n\u001b[1;32m     82\u001b[0m \tncols\u001b[38;5;241m=\u001b[39m\u001b[38;5;241m100\u001b[39m,\n\u001b[1;32m     83\u001b[0m \tposition\u001b[38;5;241m=\u001b[39m\u001b[38;5;241m0\u001b[39m,\n\u001b[1;32m     84\u001b[0m \tleave\u001b[38;5;241m=\u001b[39m\u001b[38;5;28;01mTrue\u001b[39;00m,\n\u001b[1;32m     85\u001b[0m )\n\u001b[1;32m     86\u001b[0m \u001b[38;5;28;01mfor\u001b[39;00m epoch \u001b[38;5;129;01min\u001b[39;00m \u001b[38;5;28mself\u001b[39m\u001b[38;5;241m.\u001b[39mpbar:\n\u001b[0;32m---> 87\u001b[0m \tavg_loss \u001b[38;5;241m=\u001b[39m \u001b[38;5;28mself\u001b[39m\u001b[38;5;241m.\u001b[39miteration(epoch)\n\u001b[1;32m     88\u001b[0m \tmsg \u001b[38;5;241m=\u001b[39m \u001b[38;5;124m'\u001b[39m\u001b[38;5;124m, \u001b[39m\u001b[38;5;124m'\u001b[39m\u001b[38;5;241m.\u001b[39mjoin([\n\u001b[1;32m     89\u001b[0m \t\t\u001b[38;5;124mf\u001b[39m\u001b[38;5;124m\"\u001b[39m\u001b[38;5;124mepoch # \u001b[39m\u001b[38;5;132;01m{\u001b[39;00mepoch\u001b[38;5;250m \u001b[39m\u001b[38;5;241m+\u001b[39m\u001b[38;5;250m \u001b[39m\u001b[38;5;241m1\u001b[39m\u001b[38;5;132;01m:\u001b[39;00m\u001b[38;5;124md\u001b[39m\u001b[38;5;132;01m}\u001b[39;00m\u001b[38;5;124m\"\u001b[39m,\n\u001b[1;32m     90\u001b[0m \t\t\u001b[38;5;124mf\u001b[39m\u001b[38;5;124m\"\u001b[39m\u001b[38;5;124mavg loss: \u001b[39m\u001b[38;5;132;01m{\u001b[39;00mavg_loss\u001b[38;5;132;01m:\u001b[39;00m\u001b[38;5;124m3f\u001b[39m\u001b[38;5;132;01m}\u001b[39;00m\u001b[38;5;124m\"\u001b[39m,\n\u001b[1;32m     91\u001b[0m \t])\n\u001b[1;32m     92\u001b[0m \t\u001b[38;5;28mself\u001b[39m\u001b[38;5;241m.\u001b[39mpbar\u001b[38;5;241m.\u001b[39mset_description(msg)\n",
      "File \u001b[0;32m~/Dropbox/git/_PoissonVAE/vae/train_vae.py:288\u001b[0m, in \u001b[0;36mTrainerVAE.iteration\u001b[0;34m(self, epoch)\u001b[0m\n\u001b[1;32m    286\u001b[0m \u001b[38;5;28;01mwith\u001b[39;00m torch\u001b[38;5;241m.\u001b[39mcuda\u001b[38;5;241m.\u001b[39mamp\u001b[38;5;241m.\u001b[39mautocast(enabled\u001b[38;5;241m=\u001b[39m\u001b[38;5;28mself\u001b[39m\u001b[38;5;241m.\u001b[39mcfg\u001b[38;5;241m.\u001b[39muse_amp):\n\u001b[1;32m    287\u001b[0m \t\u001b[38;5;28mself\u001b[39m\u001b[38;5;241m.\u001b[39mmodel\u001b[38;5;241m.\u001b[39mupdate_t(\u001b[38;5;28mself\u001b[39m\u001b[38;5;241m.\u001b[39mtemperatures[gstep])\n\u001b[0;32m--> 288\u001b[0m \tmse_batch, kl, dist \u001b[38;5;241m=\u001b[39m \u001b[38;5;28mself\u001b[39m\u001b[38;5;241m.\u001b[39m_fun(x)\n\u001b[1;32m    289\u001b[0m \tkl_batch \u001b[38;5;241m=\u001b[39m torch\u001b[38;5;241m.\u001b[39msum(kl, dim\u001b[38;5;241m=\u001b[39m\u001b[38;5;241m1\u001b[39m)\n\u001b[1;32m    290\u001b[0m \tkl_diag \u001b[38;5;241m=\u001b[39m torch\u001b[38;5;241m.\u001b[39mmean(kl, dim\u001b[38;5;241m=\u001b[39m\u001b[38;5;241m0\u001b[39m)\n",
      "File \u001b[0;32m~/Dropbox/git/_PoissonVAE/vae/train_vae.py:632\u001b[0m, in \u001b[0;36mTrainerVAE._init_fun.<locals>._fun\u001b[0;34m(x)\u001b[0m\n\u001b[1;32m    630\u001b[0m \t\u001b[38;5;28;01melse\u001b[39;00m:\n\u001b[1;32m    631\u001b[0m \t\t\u001b[38;5;28;01mraise\u001b[39;00m \u001b[38;5;167;01mValueError\u001b[39;00m(\u001b[38;5;28mself\u001b[39m\u001b[38;5;241m.\u001b[39mcfg\u001b[38;5;241m.\u001b[39mmethod)\n\u001b[0;32m--> 632\u001b[0m \tkl \u001b[38;5;241m=\u001b[39m \u001b[38;5;28mself\u001b[39m\u001b[38;5;241m.\u001b[39mmodel\u001b[38;5;241m.\u001b[39mloss_kl(log_dr)\n\u001b[1;32m    634\u001b[0m \u001b[38;5;28;01melif\u001b[39;00m \u001b[38;5;28mself\u001b[39m\u001b[38;5;241m.\u001b[39mmodel\u001b[38;5;241m.\u001b[39mcfg\u001b[38;5;241m.\u001b[39mtype \u001b[38;5;129;01min\u001b[39;00m [\n\u001b[1;32m    635\u001b[0m \t\t\u001b[38;5;124m'\u001b[39m\u001b[38;5;124mgaussian\u001b[39m\u001b[38;5;124m'\u001b[39m, \u001b[38;5;124m'\u001b[39m\u001b[38;5;124mlaplace\u001b[39m\u001b[38;5;124m'\u001b[39m, \u001b[38;5;124m'\u001b[39m\u001b[38;5;124mcategorical\u001b[39m\u001b[38;5;124m'\u001b[39m]:\n\u001b[1;32m    636\u001b[0m \t\u001b[38;5;28;01mif\u001b[39;00m \u001b[38;5;28mself\u001b[39m\u001b[38;5;241m.\u001b[39mcfg\u001b[38;5;241m.\u001b[39mmethod \u001b[38;5;241m==\u001b[39m \u001b[38;5;124m'\u001b[39m\u001b[38;5;124mmc\u001b[39m\u001b[38;5;124m'\u001b[39m:\n",
      "File \u001b[0;32m~/Dropbox/git/_PoissonVAE/vae/vae.py:391\u001b[0m, in \u001b[0;36mPoissonVAE.loss_kl\u001b[0;34m(self, log_dr)\u001b[0m\n\u001b[1;32m    389\u001b[0m \u001b[38;5;28;01mdef\u001b[39;00m \u001b[38;5;21mloss_kl\u001b[39m(\u001b[38;5;28mself\u001b[39m, log_dr):\n\u001b[1;32m    390\u001b[0m \tlog_r \u001b[38;5;241m=\u001b[39m \u001b[38;5;28mself\u001b[39m\u001b[38;5;241m.\u001b[39mlog_rate\u001b[38;5;241m.\u001b[39mexpand(\u001b[38;5;28mlen\u001b[39m(log_dr), \u001b[38;5;241m-\u001b[39m\u001b[38;5;241m1\u001b[39m)\n\u001b[0;32m--> 391\u001b[0m \tdr \u001b[38;5;241m=\u001b[39m torch\u001b[38;5;241m.\u001b[39mexp(softclamp_upper(log_dr, \u001b[38;5;241m10.0\u001b[39m))\n\u001b[1;32m    392\u001b[0m \tf \u001b[38;5;241m=\u001b[39m \u001b[38;5;241m1\u001b[39m \u001b[38;5;241m+\u001b[39m dr \u001b[38;5;241m*\u001b[39m (log_dr \u001b[38;5;241m-\u001b[39m \u001b[38;5;241m1\u001b[39m)\n\u001b[1;32m    393\u001b[0m \tkl \u001b[38;5;241m=\u001b[39m torch\u001b[38;5;241m.\u001b[39mexp(log_r) \u001b[38;5;241m*\u001b[39m f\n",
      "File \u001b[0;32m~/Dropbox/git/_PoissonVAE/base/distributions.py:281\u001b[0m, in \u001b[0;36msoftclamp_upper\u001b[0;34m(x, c)\u001b[0m\n\u001b[1;32m    280\u001b[0m \u001b[38;5;28;01mdef\u001b[39;00m \u001b[38;5;21msoftclamp_upper\u001b[39m(x: torch\u001b[38;5;241m.\u001b[39mTensor, c: \u001b[38;5;28mfloat\u001b[39m):\n\u001b[0;32m--> 281\u001b[0m \t\u001b[38;5;28;01mreturn\u001b[39;00m c \u001b[38;5;241m-\u001b[39m F\u001b[38;5;241m.\u001b[39msoftplus(c \u001b[38;5;241m-\u001b[39m x)\n",
      "\u001b[0;31mKeyboardInterrupt\u001b[0m: "
     ]
    }
   ],
   "source": [
    "### Was: solo"
   ]
  },
  {
   "cell_type": "code",
   "execution_count": null,
   "id": "61547988-35c4-49ea-8460-9b931453815f",
   "metadata": {},
   "outputs": [],
   "source": []
  },
  {
   "cell_type": "code",
   "execution_count": null,
   "id": "70d8b9d2-f95b-4fda-9830-9147f485657c",
   "metadata": {},
   "outputs": [],
   "source": []
  },
  {
   "cell_type": "code",
   "execution_count": null,
   "id": "aa62b5c2-5392-4378-8d80-b3e6bf21a2df",
   "metadata": {},
   "outputs": [],
   "source": []
  },
  {
   "cell_type": "code",
   "execution_count": null,
   "id": "1cc29119-d23b-46c9-acce-9d88ce6da8b0",
   "metadata": {},
   "outputs": [],
   "source": []
  },
  {
   "cell_type": "code",
   "execution_count": 3,
   "id": "744d4055-7ca0-4455-98bb-e7295ae0ff80",
   "metadata": {},
   "outputs": [],
   "source": [
    "conv_no_warn = nn.Conv2d(8, 3, kernel_size=3, stride=1, padding=0).eval().cuda()\n",
    "conv_warn = nn.Conv2d(8, 1, kernel_size=3, stride=1, padding=0).eval().cuda()\n",
    "x = torch.rand((1, 8, 546, 392)).cuda()\n",
    "\n",
    "with torch.inference_mode(), torch.autocast(device_type=\"cuda\"):\n",
    "    # No warning\n",
    "    conv_no_warn(x)\n",
    "    # UserWarning: Plan failed with a cudnnException: CUDNN_BACKEND_EXECUTION_PLAN_DESCRIPTOR: cudnnFinalize Descriptor Failed cudnn_status: CUDNN_STATUS_NOT_SUPPORTED\n",
    "    conv_warn(x)"
   ]
  },
  {
   "cell_type": "code",
   "execution_count": null,
   "id": "8c5f0ad0-2541-4eb2-b1aa-f3f27021cdc9",
   "metadata": {},
   "outputs": [],
   "source": []
  },
  {
   "cell_type": "code",
   "execution_count": null,
   "id": "e052e292-e980-4ebc-bbb1-d30c0168ee63",
   "metadata": {},
   "outputs": [],
   "source": []
  },
  {
   "cell_type": "code",
   "execution_count": 4,
   "id": "6b3fc5c5-df34-4cab-8db1-40b5c681480b",
   "metadata": {},
   "outputs": [
    {
     "data": {
      "text/html": [
       "<pre style=\"white-space:pre;overflow-x:auto;line-height:normal;font-family:Menlo,'DejaVu Sans Mono',consolas,'Courier New',monospace\"><span style=\"color: #00ff00; text-decoration-color: #00ff00; font-style: italic\">True</span>\n",
       "</pre>\n"
      ],
      "text/plain": [
       "\u001b[3;92mTrue\u001b[0m\n"
      ]
     },
     "metadata": {},
     "output_type": "display_data"
    },
    {
     "data": {
      "text/html": [
       "<pre style=\"white-space:pre;overflow-x:auto;line-height:normal;font-family:Menlo,'DejaVu Sans Mono',consolas,'Courier New',monospace\">torch: <span style=\"color: #008080; text-decoration-color: #008080; font-weight: bold\">2.3</span>.<span style=\"color: #008080; text-decoration-color: #008080; font-weight: bold\">0</span>    cuda: <span style=\"color: #008080; text-decoration-color: #008080; font-weight: bold\">11.8</span>      cudnn: <span style=\"color: #008080; text-decoration-color: #008080; font-weight: bold\">8700</span>\n",
       "</pre>\n"
      ],
      "text/plain": [
       "torch: \u001b[1;36m2.3\u001b[0m.\u001b[1;36m0\u001b[0m    cuda: \u001b[1;36m11.8\u001b[0m      cudnn: \u001b[1;36m8700\u001b[0m\n"
      ]
     },
     "metadata": {},
     "output_type": "display_data"
    },
    {
     "data": {
      "text/html": [
       "<pre style=\"white-space:pre;overflow-x:auto;line-height:normal;font-family:Menlo,'DejaVu Sans Mono',consolas,'Courier New',monospace\">\n",
       "</pre>\n"
      ],
      "text/plain": [
       "\n"
      ]
     },
     "metadata": {},
     "output_type": "display_data"
    }
   ],
   "source": [
    "print(torch.cuda.is_available())\n",
    "print(f\"torch: {torch.__version__}\\tcuda: {torch.version.cuda}\\tcudnn: {torch.backends.cudnn.version()}\")\n",
    "print()"
   ]
  },
  {
   "cell_type": "code",
   "execution_count": null,
   "id": "96bee8cc-0eee-4977-947d-a8845de8af9f",
   "metadata": {},
   "outputs": [],
   "source": []
  },
  {
   "cell_type": "code",
   "execution_count": 5,
   "id": "428c142c-f5c1-4a2e-9252-f3c281091a29",
   "metadata": {},
   "outputs": [
    {
     "data": {
      "text/plain": [
       "True"
      ]
     },
     "execution_count": 5,
     "metadata": {},
     "output_type": "execute_result"
    }
   ],
   "source": [
    "torch.backends.cudnn.enabled = True\n",
    "torch.backends.cudnn.enabled"
   ]
  },
  {
   "cell_type": "code",
   "execution_count": null,
   "id": "2e050143-7bf6-4c6f-aa18-f6f7f16471cd",
   "metadata": {},
   "outputs": [],
   "source": []
  },
  {
   "cell_type": "code",
   "execution_count": 6,
   "id": "632a3845-1c8a-440a-a808-d53a7121aa25",
   "metadata": {},
   "outputs": [],
   "source": [
    "import torch\n",
    "from torch import nn\n",
    "x = nn.Parameter(torch.randn(123, 16, 64, 64), requires_grad=True).cuda()\n",
    "conv = nn.Conv2d(16, 32, 3, 1).cuda()\n",
    "y = conv(x)\n",
    "loss = (y - 1).pow(2).sum()\n",
    "loss.backward()"
   ]
  },
  {
   "cell_type": "code",
   "execution_count": null,
   "id": "7ff4435b-8b73-4c3b-87cc-818e3d7d4370",
   "metadata": {},
   "outputs": [],
   "source": []
  },
  {
   "cell_type": "code",
   "execution_count": null,
   "id": "3b9c68e2-9fd0-4513-8861-bd1e4e419b45",
   "metadata": {},
   "outputs": [],
   "source": []
  },
  {
   "cell_type": "code",
   "execution_count": 7,
   "id": "a9c63ef0-8b8d-4ab8-b75d-06fda0612e81",
   "metadata": {},
   "outputs": [
    {
     "data": {
      "text/html": [
       "<pre style=\"white-space:pre;overflow-x:auto;line-height:normal;font-family:Menlo,'DejaVu Sans Mono',consolas,'Courier New',monospace\">VAE:\n",
       "<span style=\"font-weight: bold\">{</span><span style=\"color: #008000; text-decoration-color: #008000\">'dataset'</span>: <span style=\"color: #008000; text-decoration-color: #008000\">'MNIST'</span>, <span style=\"color: #008000; text-decoration-color: #008000\">'n_ch'</span>: <span style=\"color: #008080; text-decoration-color: #008080; font-weight: bold\">32</span>, <span style=\"color: #008000; text-decoration-color: #008000\">'n_latents'</span>: <span style=\"color: #008080; text-decoration-color: #008080; font-weight: bold\">10</span>, <span style=\"color: #008000; text-decoration-color: #008000\">'prior_clamp'</span>: <span style=\"color: #008080; text-decoration-color: #008080; font-weight: bold\">-2</span>, <span style=\"color: #008000; text-decoration-color: #008000\">'fit_prior'</span>: <span style=\"color: #00ff00; text-decoration-color: #00ff00; font-style: italic\">True</span>, <span style=\"color: #008000; text-decoration-color: #008000\">'enc_type'</span>: <span style=\"color: #008000; text-decoration-color: #008000\">'conv'</span>, \n",
       "<span style=\"color: #008000; text-decoration-color: #008000\">'dec_type'</span>: <span style=\"color: #008000; text-decoration-color: #008000\">'conv'</span>, <span style=\"color: #008000; text-decoration-color: #008000\">'enc_bias'</span>: <span style=\"color: #00ff00; text-decoration-color: #00ff00; font-style: italic\">True</span>, <span style=\"color: #008000; text-decoration-color: #008000\">'dec_bias'</span>: <span style=\"color: #00ff00; text-decoration-color: #00ff00; font-style: italic\">True</span>, <span style=\"color: #008000; text-decoration-color: #008000\">'init_dist'</span>: <span style=\"color: #008000; text-decoration-color: #008000\">'StudentT'</span>, <span style=\"color: #008000; text-decoration-color: #008000\">'init_scale'</span>: <span style=\"color: #008080; text-decoration-color: #008080; font-weight: bold\">0.1</span><span style=\"font-weight: bold\">}</span>\n",
       "\n",
       "Trainer:\n",
       "<span style=\"font-weight: bold\">{</span><span style=\"color: #008000; text-decoration-color: #008000\">'lr'</span>: <span style=\"color: #008080; text-decoration-color: #008080; font-weight: bold\">0.002</span>, <span style=\"color: #008000; text-decoration-color: #008000\">'epochs'</span>: <span style=\"color: #008080; text-decoration-color: #008080; font-weight: bold\">1200</span>, <span style=\"color: #008000; text-decoration-color: #008000\">'batch_size'</span>: <span style=\"color: #008080; text-decoration-color: #008080; font-weight: bold\">200</span>, <span style=\"color: #008000; text-decoration-color: #008000\">'warm_restart'</span>: <span style=\"color: #008080; text-decoration-color: #008080; font-weight: bold\">2</span>, <span style=\"color: #008000; text-decoration-color: #008000\">'optimizer_kws'</span>: <span style=\"font-weight: bold\">{</span><span style=\"color: #008000; text-decoration-color: #008000\">'weight_decay'</span>: <span style=\"color: #008080; text-decoration-color: #008080; font-weight: bold\">0.0003</span><span style=\"font-weight: bold\">}</span>, \n",
       "<span style=\"color: #008000; text-decoration-color: #008000\">'grad_clip'</span>: <span style=\"color: #008080; text-decoration-color: #008080; font-weight: bold\">1000</span>, <span style=\"color: #008000; text-decoration-color: #008000\">'kl_const_portion'</span>: <span style=\"color: #008080; text-decoration-color: #008080; font-weight: bold\">0.01</span><span style=\"font-weight: bold\">}</span>\n",
       "</pre>\n"
      ],
      "text/plain": [
       "VAE:\n",
       "\u001b[1m{\u001b[0m\u001b[32m'dataset'\u001b[0m: \u001b[32m'MNIST'\u001b[0m, \u001b[32m'n_ch'\u001b[0m: \u001b[1;36m32\u001b[0m, \u001b[32m'n_latents'\u001b[0m: \u001b[1;36m10\u001b[0m, \u001b[32m'prior_clamp'\u001b[0m: \u001b[1;36m-2\u001b[0m, \u001b[32m'fit_prior'\u001b[0m: \u001b[3;92mTrue\u001b[0m, \u001b[32m'enc_type'\u001b[0m: \u001b[32m'conv'\u001b[0m, \n",
       "\u001b[32m'dec_type'\u001b[0m: \u001b[32m'conv'\u001b[0m, \u001b[32m'enc_bias'\u001b[0m: \u001b[3;92mTrue\u001b[0m, \u001b[32m'dec_bias'\u001b[0m: \u001b[3;92mTrue\u001b[0m, \u001b[32m'init_dist'\u001b[0m: \u001b[32m'StudentT'\u001b[0m, \u001b[32m'init_scale'\u001b[0m: \u001b[1;36m0.1\u001b[0m\u001b[1m}\u001b[0m\n",
       "\n",
       "Trainer:\n",
       "\u001b[1m{\u001b[0m\u001b[32m'lr'\u001b[0m: \u001b[1;36m0.002\u001b[0m, \u001b[32m'epochs'\u001b[0m: \u001b[1;36m1200\u001b[0m, \u001b[32m'batch_size'\u001b[0m: \u001b[1;36m200\u001b[0m, \u001b[32m'warm_restart'\u001b[0m: \u001b[1;36m2\u001b[0m, \u001b[32m'optimizer_kws'\u001b[0m: \u001b[1m{\u001b[0m\u001b[32m'weight_decay'\u001b[0m: \u001b[1;36m0.0003\u001b[0m\u001b[1m}\u001b[0m, \n",
       "\u001b[32m'grad_clip'\u001b[0m: \u001b[1;36m1000\u001b[0m, \u001b[32m'kl_const_portion'\u001b[0m: \u001b[1;36m0.01\u001b[0m\u001b[1m}\u001b[0m\n"
      ]
     },
     "metadata": {},
     "output_type": "display_data"
    }
   ],
   "source": [
    "cfg_vae, cfg_tr = default_configs('MNIST', model_type, 'conv+b|conv+b')\n",
    "print(f\"VAE:\\n{cfg_vae}\\n\\nTrainer:\\n{cfg_tr}\")"
   ]
  },
  {
   "cell_type": "code",
   "execution_count": 8,
   "id": "682d1d6d-a75f-442b-b28c-d05dd5bf88da",
   "metadata": {},
   "outputs": [
    {
     "data": {
      "text/html": [
       "<pre style=\"white-space:pre;overflow-x:auto;line-height:normal;font-family:Menlo,'DejaVu Sans Mono',consolas,'Courier New',monospace\">+-------------+------------+\n",
       "| Module Name | Num Params |\n",
       "+-------------+------------+\n",
       "|  PoissonVAE |  <span style=\"color: #008080; text-decoration-color: #008080; font-weight: bold\">6.2</span> Mil   |\n",
       "|     ---     |    ---     |\n",
       "|     stem    |    <span style=\"color: #008080; text-decoration-color: #008080; font-weight: bold\">352</span>     |\n",
       "|     enc     |  <span style=\"color: #008080; text-decoration-color: #008080; font-weight: bold\">4.9</span> Mil   |\n",
       "|    fc_enc   |   <span style=\"color: #008080; text-decoration-color: #008080; font-weight: bold\">2.6</span> K    |\n",
       "|    fc_dec   |   <span style=\"color: #008080; text-decoration-color: #008080; font-weight: bold\">11.3</span> K   |\n",
       "|     dec     |  <span style=\"color: #008080; text-decoration-color: #008080; font-weight: bold\">1.2</span> Mil   |\n",
       "+-------------+------------+ \n",
       "\n",
       "</pre>\n"
      ],
      "text/plain": [
       "+-------------+------------+\n",
       "| Module Name | Num Params |\n",
       "+-------------+------------+\n",
       "|  PoissonVAE |  \u001b[1;36m6.2\u001b[0m Mil   |\n",
       "|     ---     |    ---     |\n",
       "|     stem    |    \u001b[1;36m352\u001b[0m     |\n",
       "|     enc     |  \u001b[1;36m4.9\u001b[0m Mil   |\n",
       "|    fc_enc   |   \u001b[1;36m2.6\u001b[0m K    |\n",
       "|    fc_dec   |   \u001b[1;36m11.3\u001b[0m K   |\n",
       "|     dec     |  \u001b[1;36m1.2\u001b[0m Mil   |\n",
       "+-------------+------------+ \n",
       "\n"
      ]
     },
     "metadata": {},
     "output_type": "display_data"
    },
    {
     "data": {
      "text/html": [
       "<pre style=\"white-space:pre;overflow-x:auto;line-height:normal;font-family:Menlo,'DejaVu Sans Mono',consolas,'Courier New',monospace\"><span style=\"color: #800080; text-decoration-color: #800080; font-weight: bold\">poisson_uniform_c</span><span style=\"font-weight: bold\">(</span><span style=\"color: #008080; text-decoration-color: #008080; font-weight: bold\">-2</span><span style=\"font-weight: bold\">)</span>_MNIST_z-10_k-32_fp_<span style=\"font-weight: bold\">&lt;</span><span style=\"color: #ff00ff; text-decoration-color: #ff00ff; font-weight: bold\">conv</span><span style=\"color: #000000; text-decoration-color: #000000\">+b|conv+b</span><span style=\"font-weight: bold\">&gt;</span>\n",
       "mc_b200-ep1200-<span style=\"color: #800080; text-decoration-color: #800080; font-weight: bold\">lr</span><span style=\"font-weight: bold\">(</span><span style=\"color: #008080; text-decoration-color: #008080; font-weight: bold\">0.002</span><span style=\"font-weight: bold\">)</span><span style=\"color: #800080; text-decoration-color: #800080; font-weight: bold\">_beta</span><span style=\"font-weight: bold\">(</span><span style=\"color: #00ff00; text-decoration-color: #00ff00; font-weight: bold\">1:0</span>x0.<span style=\"color: #008080; text-decoration-color: #008080; font-weight: bold\">5</span><span style=\"font-weight: bold\">)</span><span style=\"color: #800080; text-decoration-color: #800080; font-weight: bold\">_temp</span><span style=\"font-weight: bold\">(</span><span style=\"color: #008080; text-decoration-color: #008080; font-weight: bold\">0.05</span>:lin-<span style=\"color: #008080; text-decoration-color: #008080; font-weight: bold\">0.5</span><span style=\"font-weight: bold\">)</span><span style=\"color: #800080; text-decoration-color: #800080; font-weight: bold\">_gr</span><span style=\"font-weight: bold\">(</span><span style=\"color: #008080; text-decoration-color: #008080; font-weight: bold\">1000</span><span style=\"font-weight: bold\">)</span><span style=\"color: #800080; text-decoration-color: #800080; font-weight: bold\">_</span><span style=\"font-weight: bold\">(</span>2024_05_09,<span style=\"color: #00ff00; text-decoration-color: #00ff00; font-weight: bold\">03:23</span><span style=\"font-weight: bold\">)</span>\n",
       "\n",
       "</pre>\n"
      ],
      "text/plain": [
       "\u001b[1;35mpoisson_uniform_c\u001b[0m\u001b[1m(\u001b[0m\u001b[1;36m-2\u001b[0m\u001b[1m)\u001b[0m_MNIST_z-10_k-32_fp_\u001b[1m<\u001b[0m\u001b[1;95mconv\u001b[0m\u001b[39m+b|conv+b\u001b[0m\u001b[1m>\u001b[0m\n",
       "mc_b200-ep1200-\u001b[1;35mlr\u001b[0m\u001b[1m(\u001b[0m\u001b[1;36m0.002\u001b[0m\u001b[1m)\u001b[0m\u001b[1;35m_beta\u001b[0m\u001b[1m(\u001b[0m\u001b[1;92m1:0\u001b[0mx0.\u001b[1;36m5\u001b[0m\u001b[1m)\u001b[0m\u001b[1;35m_temp\u001b[0m\u001b[1m(\u001b[0m\u001b[1;36m0.05\u001b[0m:lin-\u001b[1;36m0.5\u001b[0m\u001b[1m)\u001b[0m\u001b[1;35m_gr\u001b[0m\u001b[1m(\u001b[0m\u001b[1;36m1000\u001b[0m\u001b[1m)\u001b[0m\u001b[1;35m_\u001b[0m\u001b[1m(\u001b[0m2024_05_09,\u001b[1;92m03:23\u001b[0m\u001b[1m)\u001b[0m\n",
       "\n"
      ]
     },
     "metadata": {},
     "output_type": "display_data"
    },
    {
     "data": {
      "image/png": "[encoded data removed]",
      "text/plain": [
       "<Figure size 650x160 with 3 Axes>"
      ]
     },
     "metadata": {},
     "output_type": "display_data"
    }
   ],
   "source": [
    "vae = MODEL_CLASSES[model_type](CFG_CLASSES[model_type](**cfg_vae))\n",
    "tr = TrainerVAE(vae, ConfigTrainVAE(**cfg_tr), device=device)\n",
    "\n",
    "vae.print()\n",
    "print(f\"{vae.cfg.name()}\\n{tr.cfg.name()}_({vae.timestamp})\\n\")\n",
    "tr.show_schedules()"
   ]
  },
  {
   "cell_type": "code",
   "execution_count": null,
   "id": "58dfd970-285e-43d1-b477-cefcb2ee443d",
   "metadata": {},
   "outputs": [],
   "source": []
  },
  {
   "cell_type": "code",
   "execution_count": 9,
   "id": "9620935b-b600-46f8-a30a-a1c7bdf12c71",
   "metadata": {},
   "outputs": [
    {
     "data": {
      "image/png": "[encoded data removed]",
      "text/plain": [
       "<Figure size 600x200 with 2 Axes>"
      ]
     },
     "metadata": {},
     "output_type": "display_data"
    }
   ],
   "source": [
    "fig, axes = create_figure(1, 2)\n",
    "sns.kdeplot(tonp(vae.fc_enc.weight.data.ravel()), label='enc', color='C0', ax=axes[0])\n",
    "sns.kdeplot(tonp(vae.fc_dec.weight.data.ravel()), label='dec', color='C1', ax=axes[1])\n",
    "axes[1].set_ylabel('')\n",
    "add_legend(axes)\n",
    "plt.show()"
   ]
  },
  {
   "cell_type": "code",
   "execution_count": null,
   "id": "7f6a06f5-174a-432f-a81b-0adb3e2a888f",
   "metadata": {},
   "outputs": [],
   "source": []
  },
  {
   "cell_type": "code",
   "execution_count": null,
   "id": "a561ecca-b4bb-4ff7-a261-3d4899535849",
   "metadata": {},
   "outputs": [
    {
     "name": "stderr",
     "output_type": "stream",
     "text": [
      "epoch # 36, avg loss: 85.353015:   3%|▊                         | 36/1200 [11:33<6:00:35, 18.59s/it]"
     ]
    }
   ],
   "source": [
    "comment = f\"testing_{tr.cfg.name()}\"\n",
    "# comment = tr.cfg.name()\n",
    "tr.train(comment=comment)"
   ]
  },
  {
   "cell_type": "code",
   "execution_count": null,
   "id": "84828f87-d9ab-40d3-a6ea-e3e022240f62",
   "metadata": {},
   "outputs": [],
   "source": []
  },
  {
   "cell_type": "code",
   "execution_count": null,
   "id": "9bc27044-6d0a-4266-a3d0-1ab00a69fec0",
   "metadata": {},
   "outputs": [],
   "source": [
    "tr.show_recon(0.0), tr.show_samples(0.0);"
   ]
  },
  {
   "cell_type": "code",
   "execution_count": null,
   "id": "1c3b728d-ccb2-4919-b375-f97fa28ce7b4",
   "metadata": {},
   "outputs": [],
   "source": []
  },
  {
   "cell_type": "code",
   "execution_count": 12,
   "id": "dd35d3bd-3bd8-4372-97f6-dc2e867f1c07",
   "metadata": {},
   "outputs": [
    {
     "data": {
      "text/plain": [
       "(tensor([[[[0., 0., 0.,  ..., 0., 0., 0.],\n",
       "           [0., 0., 0.,  ..., 0., 0., 0.],\n",
       "           [0., 0., 0.,  ..., 0., 0., 0.],\n",
       "           ...,\n",
       "           [0., 0., 0.,  ..., 0., 0., 0.],\n",
       "           [0., 0., 0.,  ..., 0., 0., 0.],\n",
       "           [0., 0., 0.,  ..., 0., 0., 0.]]],\n",
       " \n",
       " \n",
       "         [[[0., 0., 0.,  ..., 0., 0., 0.],\n",
       "           [0., 0., 0.,  ..., 0., 0., 0.],\n",
       "           [0., 0., 0.,  ..., 0., 0., 0.],\n",
       "           ...,\n",
       "           [0., 0., 0.,  ..., 0., 0., 0.],\n",
       "           [0., 0., 0.,  ..., 0., 0., 0.],\n",
       "           [0., 0., 0.,  ..., 0., 0., 0.]]],\n",
       " \n",
       " \n",
       "         [[[0., 0., 0.,  ..., 0., 0., 0.],\n",
       "           [0., 0., 0.,  ..., 0., 0., 0.],\n",
       "           [0., 0., 0.,  ..., 0., 0., 0.],\n",
       "           ...,\n",
       "           [0., 0., 0.,  ..., 0., 0., 0.],\n",
       "           [0., 0., 0.,  ..., 0., 0., 0.],\n",
       "           [0., 0., 0.,  ..., 0., 0., 0.]]],\n",
       " \n",
       " \n",
       "         ...,\n",
       " \n",
       " \n",
       "         [[[0., 0., 0.,  ..., 0., 0., 0.],\n",
       "           [0., 0., 0.,  ..., 0., 0., 0.],\n",
       "           [0., 0., 0.,  ..., 0., 0., 0.],\n",
       "           ...,\n",
       "           [0., 0., 0.,  ..., 0., 0., 0.],\n",
       "           [0., 0., 0.,  ..., 0., 0., 0.],\n",
       "           [0., 0., 0.,  ..., 0., 0., 0.]]],\n",
       " \n",
       " \n",
       "         [[[0., 0., 0.,  ..., 0., 0., 0.],\n",
       "           [0., 0., 0.,  ..., 0., 0., 0.],\n",
       "           [0., 0., 0.,  ..., 0., 0., 0.],\n",
       "           ...,\n",
       "           [0., 0., 0.,  ..., 0., 0., 0.],\n",
       "           [0., 0., 0.,  ..., 0., 0., 0.],\n",
       "           [0., 0., 0.,  ..., 0., 0., 0.]]],\n",
       " \n",
       " \n",
       "         [[[0., 0., 0.,  ..., 0., 0., 0.],\n",
       "           [0., 0., 0.,  ..., 0., 0., 0.],\n",
       "           [0., 0., 0.,  ..., 0., 0., 0.],\n",
       "           ...,\n",
       "           [0., 0., 0.,  ..., 0., 0., 0.],\n",
       "           [0., 0., 0.,  ..., 0., 0., 0.],\n",
       "           [0., 0., 0.,  ..., 0., 0., 0.]]]], device='cuda:1'),\n",
       " tensor([7., 2., 1.,  ..., 4., 5., 6.], device='cuda:1'))"
      ]
     },
     "execution_count": 12,
     "metadata": {},
     "output_type": "execute_result"
    }
   ],
   "source": [
    "tr.dl_vld.dataset.tensors"
   ]
  },
  {
   "cell_type": "code",
   "execution_count": null,
   "id": "ccab29f5-de63-45c1-bc1f-57926e441c03",
   "metadata": {},
   "outputs": [],
   "source": []
  },
  {
   "cell_type": "code",
   "execution_count": null,
   "id": "49d3d946-b995-471f-81d9-9d465bb4a313",
   "metadata": {},
   "outputs": [],
   "source": []
  },
  {
   "cell_type": "code",
   "execution_count": 13,
   "id": "d1d3d6c1-5511-4473-8c60-ab854f3931d6",
   "metadata": {},
   "outputs": [
    {
     "data": {
      "text/html": [
       "<pre style=\"white-space:pre;overflow-x:auto;line-height:normal;font-family:Menlo,'DejaVu Sans Mono',consolas,'Courier New',monospace\"><span style=\"font-weight: bold\">{</span><span style=\"color: #008000; text-decoration-color: #008000\">'mse'</span>: <span style=\"color: #008080; text-decoration-color: #008080; font-weight: bold\">31.922916</span>, <span style=\"color: #008000; text-decoration-color: #008000\">'kl'</span>: <span style=\"color: #008080; text-decoration-color: #008080; font-weight: bold\">65.528015</span>, <span style=\"color: #008000; text-decoration-color: #008000\">'kl_diag'</span>: <span style=\"color: #008080; text-decoration-color: #008080; font-weight: bold\">6.5528016</span>, <span style=\"color: #008000; text-decoration-color: #008000\">'tot'</span>: <span style=\"color: #008080; text-decoration-color: #008080; font-weight: bold\">97.45093</span><span style=\"font-weight: bold\">}</span>\n",
       "</pre>\n"
      ],
      "text/plain": [
       "\u001b[1m{\u001b[0m\u001b[32m'mse'\u001b[0m: \u001b[1;36m31.922916\u001b[0m, \u001b[32m'kl'\u001b[0m: \u001b[1;36m65.528015\u001b[0m, \u001b[32m'kl_diag'\u001b[0m: \u001b[1;36m6.5528016\u001b[0m, \u001b[32m'tot'\u001b[0m: \u001b[1;36m97.45093\u001b[0m\u001b[1m}\u001b[0m\n"
      ]
     },
     "metadata": {},
     "output_type": "display_data"
    }
   ],
   "source": [
    "data, loss, etc = tr.validate()\n",
    "\n",
    "_loss = {k: v.mean() for k, v in loss.items()}\n",
    "_loss['tot'] = _loss['mse'] + _loss['kl']\n",
    "print(_loss)"
   ]
  },
  {
   "cell_type": "code",
   "execution_count": null,
   "id": "6e78a182-d69a-440e-a3e4-362db54ca342",
   "metadata": {},
   "outputs": [],
   "source": []
  },
  {
   "cell_type": "code",
   "execution_count": null,
   "id": "8209edc5-8f22-40f8-b909-5a03e1cb275e",
   "metadata": {},
   "outputs": [],
   "source": [
    "df, df_summary = knn_analysis(\n",
    "    x=etc['log_dr'],\n",
    "    y=tonp(tr.dl_vld.dataset.tensors[1]),\n",
    "    n_iter=100,\n",
    "    verbose=True,\n",
    ")"
   ]
  },
  {
   "cell_type": "code",
   "execution_count": null,
   "id": "078292e8-b118-427d-a4c9-7ddc22c94d05",
   "metadata": {},
   "outputs": [],
   "source": [
    "df_summary"
   ]
  },
  {
   "cell_type": "code",
   "execution_count": null,
   "id": "0b604089-c0bd-498a-8c9a-58f5f589f895",
   "metadata": {},
   "outputs": [],
   "source": []
  },
  {
   "cell_type": "code",
   "execution_count": null,
   "id": "33e24e68-d612-4cf4-b930-e477ba182e99",
   "metadata": {},
   "outputs": [],
   "source": []
  },
  {
   "cell_type": "code",
   "execution_count": null,
   "id": "f451e854-2da7-41ad-9ed5-f779cb0e458c",
   "metadata": {},
   "outputs": [],
   "source": []
  }
 ],
 "metadata": {
  "kernelspec": {
   "display_name": "Python 3 (ipykernel)",
   "language": "python",
   "name": "python3"
  },
  "language_info": {
   "codemirror_mode": {
    "name": "ipython",
    "version": 3
   },
   "file_extension": ".py",
   "mimetype": "text/x-python",
   "name": "python",
   "nbconvert_exporter": "python",
   "pygments_lexer": "ipython3",
   "version": "3.11.7"
  }
 },
 "nbformat": 4,
 "nbformat_minor": 5
}
