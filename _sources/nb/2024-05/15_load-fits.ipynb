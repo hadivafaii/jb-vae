{
 "cells": [
  {
   "cell_type": "markdown",
   "id": "68c49500-d331-4529-a189-66955134371a",
   "metadata": {},
   "source": [
    "# (15) Load fits\n",
    "\n",
    "**Motivation**: Device = ```cuda:1``` <br>"
   ]
  },
  {
   "cell_type": "code",
   "execution_count": 1,
   "id": "721412ee-9fe2-4e48-910d-37a7304ed31d",
   "metadata": {
    "tags": [
     "hide-input"
    ]
   },
   "outputs": [],
   "source": [
    "# HIDE CODE\n",
    "\n",
    "\n",
    "import os, sys\n",
    "from IPython.display import display\n",
    "\n",
    "# tmp & extras dir\n",
    "git_dir = os.path.join(os.environ['HOME'], 'Dropbox/git')\n",
    "extras_dir = os.path.join(git_dir, 'jb-vae/_extras')\n",
    "fig_base_dir = os.path.join(git_dir, 'jb-vae/figs')\n",
    "tmp_dir = os.path.join(git_dir, 'jb-vae/tmp')\n",
    "\n",
    "# GitHub\n",
    "sys.path.insert(0, os.path.join(git_dir, '_PoissonVAE'))\n",
    "from analysis.eval import sparse_score\n",
    "from figures.fighelper import *\n",
    "from vae.train_vae import *\n",
    "\n",
    "# warnings, tqdm, & style\n",
    "warnings.filterwarnings('ignore', category=DeprecationWarning)\n",
    "warnings.filterwarnings('ignore', category=FutureWarning)\n",
    "warnings.filterwarnings('ignore', category=UserWarning)\n",
    "from rich.jupyter import print\n",
    "%matplotlib inline\n",
    "set_style()"
   ]
  },
  {
   "cell_type": "markdown",
   "id": "b53a8ee9-7fa2-4903-925a-12fb15c60166",
   "metadata": {},
   "source": [
    "## Device"
   ]
  },
  {
   "cell_type": "code",
   "execution_count": 2,
   "id": "d7b94732-ef0f-4cf3-ba3a-241743b56306",
   "metadata": {},
   "outputs": [],
   "source": [
    "device_idx = 1\n",
    "device = f'cuda:{device_idx}'\n",
    "\n",
    "from analysis.final import sort_fits, analyze_fits"
   ]
  },
  {
   "cell_type": "markdown",
   "id": "181b665c-d6d5-4a1b-84d3-ad8bd8037a75",
   "metadata": {},
   "source": [
    "## Load, make df"
   ]
  },
  {
   "cell_type": "code",
   "execution_count": 3,
   "id": "7bf4a653-f810-46e6-9024-1b075044ffb9",
   "metadata": {},
   "outputs": [
    {
     "data": {
      "text/plain": [
       "(460, 90, 515)"
      ]
     },
     "execution_count": 3,
     "metadata": {},
     "output_type": "execute_result"
    }
   ],
   "source": [
    "fits, fits_st, fits_etc = sort_fits()\n",
    "len(fits), len(fits_st), len(fits_etc)"
   ]
  },
  {
   "cell_type": "code",
   "execution_count": 4,
   "id": "6468c270-25e7-4127-b858-934868e4390e",
   "metadata": {},
   "outputs": [
    {
     "name": "stderr",
     "output_type": "stream",
     "text": [
      "100%|█████████████████████████████████████████| 240/240 [02:29<00:00,  1.60it/s]\n"
     ]
    },
    {
     "data": {
      "text/html": [
       "<pre style=\"white-space:pre;overflow-x:auto;line-height:normal;font-family:Menlo,'DejaVu Sans Mono',consolas,'Courier New',monospace\"><span style=\"color: #800080; text-decoration-color: #800080; font-weight: bold\">Counter</span><span style=\"font-weight: bold\">({</span><span style=\"color: #008080; text-decoration-color: #008080; font-weight: bold\">1500</span>: <span style=\"color: #008080; text-decoration-color: #008080; font-weight: bold\">80</span>, <span style=\"color: #008080; text-decoration-color: #008080; font-weight: bold\">3000</span>: <span style=\"color: #008080; text-decoration-color: #008080; font-weight: bold\">80</span>, <span style=\"color: #008080; text-decoration-color: #008080; font-weight: bold\">1200</span>: <span style=\"color: #008080; text-decoration-color: #008080; font-weight: bold\">80</span><span style=\"font-weight: bold\">})</span>\n",
       "</pre>\n"
      ],
      "text/plain": [
       "\u001b[1;35mCounter\u001b[0m\u001b[1m(\u001b[0m\u001b[1m{\u001b[0m\u001b[1;36m1500\u001b[0m: \u001b[1;36m80\u001b[0m, \u001b[1;36m3000\u001b[0m: \u001b[1;36m80\u001b[0m, \u001b[1;36m1200\u001b[0m: \u001b[1;36m80\u001b[0m\u001b[1m}\u001b[0m\u001b[1m)\u001b[0m\n"
      ]
     },
     "metadata": {},
     "output_type": "display_data"
    }
   ],
   "source": [
    "def accept_fn(name):\n",
    "    archi = name.split('-')[1]\n",
    "    accept = archi in ['<lin|lin>', '<conv+b|lin>']\n",
    "    accept = accept and '-b' not in name\n",
    "    return accept\n",
    "\n",
    "\n",
    "df = analyze_fits(sorted(filter(accept_fn, fits)), device, 'loss')\n",
    "print(collections.Counter(df['checkpoint']))"
   ]
  },
  {
   "cell_type": "code",
   "execution_count": null,
   "id": "10f1f003-e547-4976-8166-0c0ea29d7a8e",
   "metadata": {},
   "outputs": [],
   "source": []
  },
  {
   "cell_type": "code",
   "execution_count": 5,
   "id": "d032cdb5-e48e-4aed-b5ec-3d211f84a40f",
   "metadata": {},
   "outputs": [
    {
     "data": {
      "text/html": [
       "<pre style=\"white-space:pre;overflow-x:auto;line-height:normal;font-family:Menlo,'DejaVu Sans Mono',consolas,'Courier New',monospace\"><span style=\"color: #800080; text-decoration-color: #800080; font-weight: bold\">Counter</span><span style=\"font-weight: bold\">({</span><span style=\"color: #008080; text-decoration-color: #008080; font-weight: bold\">1</span>: <span style=\"color: #008080; text-decoration-color: #008080; font-weight: bold\">48</span>, <span style=\"color: #008080; text-decoration-color: #008080; font-weight: bold\">2</span>: <span style=\"color: #008080; text-decoration-color: #008080; font-weight: bold\">48</span>, <span style=\"color: #008080; text-decoration-color: #008080; font-weight: bold\">3</span>: <span style=\"color: #008080; text-decoration-color: #008080; font-weight: bold\">48</span>, <span style=\"color: #008080; text-decoration-color: #008080; font-weight: bold\">4</span>: <span style=\"color: #008080; text-decoration-color: #008080; font-weight: bold\">48</span>, <span style=\"color: #008080; text-decoration-color: #008080; font-weight: bold\">5</span>: <span style=\"color: #008080; text-decoration-color: #008080; font-weight: bold\">48</span><span style=\"font-weight: bold\">})</span>\n",
       "</pre>\n"
      ],
      "text/plain": [
       "\u001b[1;35mCounter\u001b[0m\u001b[1m(\u001b[0m\u001b[1m{\u001b[0m\u001b[1;36m1\u001b[0m: \u001b[1;36m48\u001b[0m, \u001b[1;36m2\u001b[0m: \u001b[1;36m48\u001b[0m, \u001b[1;36m3\u001b[0m: \u001b[1;36m48\u001b[0m, \u001b[1;36m4\u001b[0m: \u001b[1;36m48\u001b[0m, \u001b[1;36m5\u001b[0m: \u001b[1;36m48\u001b[0m\u001b[1m}\u001b[0m\u001b[1m)\u001b[0m\n"
      ]
     },
     "metadata": {},
     "output_type": "display_data"
    }
   ],
   "source": [
    "print(collections.Counter(df['seed']))"
   ]
  },
  {
   "cell_type": "code",
   "execution_count": 6,
   "id": "999cb2bb-162f-402c-bdcd-2728bf46c32c",
   "metadata": {},
   "outputs": [
    {
     "data": {
      "text/html": [
       "<pre style=\"white-space:pre;overflow-x:auto;line-height:normal;font-family:Menlo,'DejaVu Sans Mono',consolas,'Courier New',monospace\"><span style=\"color: #800080; text-decoration-color: #800080; font-weight: bold\">Counter</span><span style=\"font-weight: bold\">({</span><span style=\"color: #008000; text-decoration-color: #008000\">'exact'</span>: <span style=\"color: #008080; text-decoration-color: #008080; font-weight: bold\">120</span>, <span style=\"color: #008000; text-decoration-color: #008000\">'mc'</span>: <span style=\"color: #008080; text-decoration-color: #008080; font-weight: bold\">120</span><span style=\"font-weight: bold\">})</span>\n",
       "</pre>\n"
      ],
      "text/plain": [
       "\u001b[1;35mCounter\u001b[0m\u001b[1m(\u001b[0m\u001b[1m{\u001b[0m\u001b[32m'exact'\u001b[0m: \u001b[1;36m120\u001b[0m, \u001b[32m'mc'\u001b[0m: \u001b[1;36m120\u001b[0m\u001b[1m}\u001b[0m\u001b[1m)\u001b[0m\n"
      ]
     },
     "metadata": {},
     "output_type": "display_data"
    }
   ],
   "source": [
    "print(collections.Counter(df['method']))"
   ]
  },
  {
   "cell_type": "code",
   "execution_count": null,
   "id": "9704c280-90c8-4a8f-8bcf-5847d99a7b12",
   "metadata": {},
   "outputs": [],
   "source": []
  },
  {
   "cell_type": "code",
   "execution_count": 7,
   "id": "c960f79b-c26c-46f6-b176-fee50ead194d",
   "metadata": {},
   "outputs": [
    {
     "data": {
      "text/plain": [
       "type\n",
       "categorical    60\n",
       "gaussian       60\n",
       "laplace        60\n",
       "poisson        60\n",
       "Name: count, dtype: int64"
      ]
     },
     "execution_count": 7,
     "metadata": {},
     "output_type": "execute_result"
    }
   ],
   "source": [
    "df['type'].value_counts()"
   ]
  },
  {
   "cell_type": "code",
   "execution_count": null,
   "id": "f6f75f18-be07-4c61-b81a-335465708d0c",
   "metadata": {},
   "outputs": [],
   "source": []
  },
  {
   "cell_type": "code",
   "execution_count": 8,
   "id": "b93f37a2-1c5b-43f1-9daa-5867d7646a2d",
   "metadata": {},
   "outputs": [
    {
     "data": {
      "text/html": [
       "<div>\n",
       "<style scoped>\n",
       "    .dataframe tbody tr th:only-of-type {\n",
       "        vertical-align: middle;\n",
       "    }\n",
       "\n",
       "    .dataframe tbody tr th {\n",
       "        vertical-align: top;\n",
       "    }\n",
       "\n",
       "    .dataframe thead th {\n",
       "        text-align: right;\n",
       "    }\n",
       "</style>\n",
       "<table border=\"1\" class=\"dataframe\">\n",
       "  <thead>\n",
       "    <tr style=\"text-align: right;\">\n",
       "      <th></th>\n",
       "      <th>checkpoint</th>\n",
       "      <th>timestamp</th>\n",
       "      <th>dataset</th>\n",
       "      <th>type</th>\n",
       "      <th>enc_type</th>\n",
       "      <th>dec_type</th>\n",
       "      <th>latent_act</th>\n",
       "      <th>n_latents</th>\n",
       "      <th>n_categories</th>\n",
       "      <th>seed</th>\n",
       "      <th>kl_beta</th>\n",
       "      <th>n_params</th>\n",
       "      <th>method</th>\n",
       "      <th>mse</th>\n",
       "      <th>kl</th>\n",
       "      <th>kl_diag</th>\n",
       "      <th>nelbo</th>\n",
       "    </tr>\n",
       "  </thead>\n",
       "  <tbody>\n",
       "    <tr>\n",
       "      <th>0</th>\n",
       "      <td>1500</td>\n",
       "      <td>2024_05_15,02:05</td>\n",
       "      <td>CIFAR10-PATCHES</td>\n",
       "      <td>categorical</td>\n",
       "      <td>conv</td>\n",
       "      <td>lin</td>\n",
       "      <td>None</td>\n",
       "      <td>1</td>\n",
       "      <td>512.0</td>\n",
       "      <td>1</td>\n",
       "      <td>1.0</td>\n",
       "      <td>1405084</td>\n",
       "      <td>exact</td>\n",
       "      <td>174.093353</td>\n",
       "      <td>6.044831</td>\n",
       "      <td>6.044831</td>\n",
       "      <td>180.138184</td>\n",
       "    </tr>\n",
       "    <tr>\n",
       "      <th>1</th>\n",
       "      <td>1500</td>\n",
       "      <td>2024_05_15,11:37</td>\n",
       "      <td>CIFAR10-PATCHES</td>\n",
       "      <td>categorical</td>\n",
       "      <td>conv</td>\n",
       "      <td>lin</td>\n",
       "      <td>None</td>\n",
       "      <td>1</td>\n",
       "      <td>512.0</td>\n",
       "      <td>2</td>\n",
       "      <td>1.0</td>\n",
       "      <td>1405084</td>\n",
       "      <td>exact</td>\n",
       "      <td>174.858093</td>\n",
       "      <td>6.034148</td>\n",
       "      <td>6.034148</td>\n",
       "      <td>180.892242</td>\n",
       "    </tr>\n",
       "    <tr>\n",
       "      <th>2</th>\n",
       "      <td>1500</td>\n",
       "      <td>2024_05_15,21:14</td>\n",
       "      <td>CIFAR10-PATCHES</td>\n",
       "      <td>categorical</td>\n",
       "      <td>conv</td>\n",
       "      <td>lin</td>\n",
       "      <td>None</td>\n",
       "      <td>1</td>\n",
       "      <td>512.0</td>\n",
       "      <td>3</td>\n",
       "      <td>1.0</td>\n",
       "      <td>1405084</td>\n",
       "      <td>exact</td>\n",
       "      <td>174.635742</td>\n",
       "      <td>6.034076</td>\n",
       "      <td>6.034076</td>\n",
       "      <td>180.669815</td>\n",
       "    </tr>\n",
       "    <tr>\n",
       "      <th>3</th>\n",
       "      <td>1500</td>\n",
       "      <td>2024_05_16,06:50</td>\n",
       "      <td>CIFAR10-PATCHES</td>\n",
       "      <td>categorical</td>\n",
       "      <td>conv</td>\n",
       "      <td>lin</td>\n",
       "      <td>None</td>\n",
       "      <td>1</td>\n",
       "      <td>512.0</td>\n",
       "      <td>4</td>\n",
       "      <td>1.0</td>\n",
       "      <td>1405084</td>\n",
       "      <td>exact</td>\n",
       "      <td>174.558258</td>\n",
       "      <td>6.044322</td>\n",
       "      <td>6.044322</td>\n",
       "      <td>180.602585</td>\n",
       "    </tr>\n",
       "    <tr>\n",
       "      <th>4</th>\n",
       "      <td>1500</td>\n",
       "      <td>2024_05_16,16:27</td>\n",
       "      <td>CIFAR10-PATCHES</td>\n",
       "      <td>categorical</td>\n",
       "      <td>conv</td>\n",
       "      <td>lin</td>\n",
       "      <td>None</td>\n",
       "      <td>1</td>\n",
       "      <td>512.0</td>\n",
       "      <td>5</td>\n",
       "      <td>1.0</td>\n",
       "      <td>1405084</td>\n",
       "      <td>exact</td>\n",
       "      <td>174.533600</td>\n",
       "      <td>6.042276</td>\n",
       "      <td>6.042276</td>\n",
       "      <td>180.575882</td>\n",
       "    </tr>\n",
       "    <tr>\n",
       "      <th>...</th>\n",
       "      <td>...</td>\n",
       "      <td>...</td>\n",
       "      <td>...</td>\n",
       "      <td>...</td>\n",
       "      <td>...</td>\n",
       "      <td>...</td>\n",
       "      <td>...</td>\n",
       "      <td>...</td>\n",
       "      <td>...</td>\n",
       "      <td>...</td>\n",
       "      <td>...</td>\n",
       "      <td>...</td>\n",
       "      <td>...</td>\n",
       "      <td>...</td>\n",
       "      <td>...</td>\n",
       "      <td>...</td>\n",
       "      <td>...</td>\n",
       "    </tr>\n",
       "    <tr>\n",
       "      <th>235</th>\n",
       "      <td>1200</td>\n",
       "      <td>2024_05_14,15:02</td>\n",
       "      <td>MNIST</td>\n",
       "      <td>poisson</td>\n",
       "      <td>lin</td>\n",
       "      <td>lin</td>\n",
       "      <td>None</td>\n",
       "      <td>512</td>\n",
       "      <td>NaN</td>\n",
       "      <td>1</td>\n",
       "      <td>1.0</td>\n",
       "      <td>803328</td>\n",
       "      <td>mc</td>\n",
       "      <td>33.282413</td>\n",
       "      <td>8.503514</td>\n",
       "      <td>0.016608</td>\n",
       "      <td>41.785927</td>\n",
       "    </tr>\n",
       "    <tr>\n",
       "      <th>236</th>\n",
       "      <td>1200</td>\n",
       "      <td>2024_05_14,22:15</td>\n",
       "      <td>MNIST</td>\n",
       "      <td>poisson</td>\n",
       "      <td>lin</td>\n",
       "      <td>lin</td>\n",
       "      <td>None</td>\n",
       "      <td>512</td>\n",
       "      <td>NaN</td>\n",
       "      <td>2</td>\n",
       "      <td>1.0</td>\n",
       "      <td>803328</td>\n",
       "      <td>mc</td>\n",
       "      <td>33.214127</td>\n",
       "      <td>8.516159</td>\n",
       "      <td>0.016633</td>\n",
       "      <td>41.730286</td>\n",
       "    </tr>\n",
       "    <tr>\n",
       "      <th>237</th>\n",
       "      <td>1200</td>\n",
       "      <td>2024_05_14,06:13</td>\n",
       "      <td>MNIST</td>\n",
       "      <td>poisson</td>\n",
       "      <td>lin</td>\n",
       "      <td>lin</td>\n",
       "      <td>None</td>\n",
       "      <td>512</td>\n",
       "      <td>NaN</td>\n",
       "      <td>3</td>\n",
       "      <td>1.0</td>\n",
       "      <td>803328</td>\n",
       "      <td>mc</td>\n",
       "      <td>33.092651</td>\n",
       "      <td>8.510839</td>\n",
       "      <td>0.016623</td>\n",
       "      <td>41.603493</td>\n",
       "    </tr>\n",
       "    <tr>\n",
       "      <th>238</th>\n",
       "      <td>1200</td>\n",
       "      <td>2024_05_14,12:59</td>\n",
       "      <td>MNIST</td>\n",
       "      <td>poisson</td>\n",
       "      <td>lin</td>\n",
       "      <td>lin</td>\n",
       "      <td>None</td>\n",
       "      <td>512</td>\n",
       "      <td>NaN</td>\n",
       "      <td>4</td>\n",
       "      <td>1.0</td>\n",
       "      <td>803328</td>\n",
       "      <td>mc</td>\n",
       "      <td>33.156258</td>\n",
       "      <td>8.499963</td>\n",
       "      <td>0.016601</td>\n",
       "      <td>41.656219</td>\n",
       "    </tr>\n",
       "    <tr>\n",
       "      <th>239</th>\n",
       "      <td>1200</td>\n",
       "      <td>2024_05_14,19:59</td>\n",
       "      <td>MNIST</td>\n",
       "      <td>poisson</td>\n",
       "      <td>lin</td>\n",
       "      <td>lin</td>\n",
       "      <td>None</td>\n",
       "      <td>512</td>\n",
       "      <td>NaN</td>\n",
       "      <td>5</td>\n",
       "      <td>1.0</td>\n",
       "      <td>803328</td>\n",
       "      <td>mc</td>\n",
       "      <td>33.295475</td>\n",
       "      <td>8.509435</td>\n",
       "      <td>0.016620</td>\n",
       "      <td>41.804909</td>\n",
       "    </tr>\n",
       "  </tbody>\n",
       "</table>\n",
       "<p>240 rows × 17 columns</p>\n",
       "</div>"
      ],
      "text/plain": [
       "     checkpoint         timestamp          dataset         type enc_type  \\\n",
       "0          1500  2024_05_15,02:05  CIFAR10-PATCHES  categorical     conv   \n",
       "1          1500  2024_05_15,11:37  CIFAR10-PATCHES  categorical     conv   \n",
       "2          1500  2024_05_15,21:14  CIFAR10-PATCHES  categorical     conv   \n",
       "3          1500  2024_05_16,06:50  CIFAR10-PATCHES  categorical     conv   \n",
       "4          1500  2024_05_16,16:27  CIFAR10-PATCHES  categorical     conv   \n",
       "..          ...               ...              ...          ...      ...   \n",
       "235        1200  2024_05_14,15:02            MNIST      poisson      lin   \n",
       "236        1200  2024_05_14,22:15            MNIST      poisson      lin   \n",
       "237        1200  2024_05_14,06:13            MNIST      poisson      lin   \n",
       "238        1200  2024_05_14,12:59            MNIST      poisson      lin   \n",
       "239        1200  2024_05_14,19:59            MNIST      poisson      lin   \n",
       "\n",
       "    dec_type latent_act  n_latents  n_categories  seed  kl_beta  n_params  \\\n",
       "0        lin       None          1         512.0     1      1.0   1405084   \n",
       "1        lin       None          1         512.0     2      1.0   1405084   \n",
       "2        lin       None          1         512.0     3      1.0   1405084   \n",
       "3        lin       None          1         512.0     4      1.0   1405084   \n",
       "4        lin       None          1         512.0     5      1.0   1405084   \n",
       "..       ...        ...        ...           ...   ...      ...       ...   \n",
       "235      lin       None        512           NaN     1      1.0    803328   \n",
       "236      lin       None        512           NaN     2      1.0    803328   \n",
       "237      lin       None        512           NaN     3      1.0    803328   \n",
       "238      lin       None        512           NaN     4      1.0    803328   \n",
       "239      lin       None        512           NaN     5      1.0    803328   \n",
       "\n",
       "    method         mse        kl   kl_diag       nelbo  \n",
       "0    exact  174.093353  6.044831  6.044831  180.138184  \n",
       "1    exact  174.858093  6.034148  6.034148  180.892242  \n",
       "2    exact  174.635742  6.034076  6.034076  180.669815  \n",
       "3    exact  174.558258  6.044322  6.044322  180.602585  \n",
       "4    exact  174.533600  6.042276  6.042276  180.575882  \n",
       "..     ...         ...       ...       ...         ...  \n",
       "235     mc   33.282413  8.503514  0.016608   41.785927  \n",
       "236     mc   33.214127  8.516159  0.016633   41.730286  \n",
       "237     mc   33.092651  8.510839  0.016623   41.603493  \n",
       "238     mc   33.156258  8.499963  0.016601   41.656219  \n",
       "239     mc   33.295475  8.509435  0.016620   41.804909  \n",
       "\n",
       "[240 rows x 17 columns]"
      ]
     },
     "execution_count": 8,
     "metadata": {},
     "output_type": "execute_result"
    }
   ],
   "source": [
    "df"
   ]
  },
  {
   "cell_type": "code",
   "execution_count": null,
   "id": "de3406fe-25e9-4d24-bc4d-5c976a98d77d",
   "metadata": {},
   "outputs": [],
   "source": []
  },
  {
   "cell_type": "code",
   "execution_count": 9,
   "id": "fdffddd4-4047-46fe-a269-640adb6ac29b",
   "metadata": {
    "scrolled": true
   },
   "outputs": [
    {
     "ename": "NameError",
     "evalue": "name 'df_selected' is not defined",
     "output_type": "error",
     "traceback": [
      "\u001b[0;31m---------------------------------------------------------------------------\u001b[0m",
      "\u001b[0;31mNameError\u001b[0m                                 Traceback (most recent call last)",
      "Cell \u001b[0;32mIn[9], line 2\u001b[0m\n\u001b[1;32m      1\u001b[0m group_cols \u001b[38;5;241m=\u001b[39m [\u001b[38;5;124m'\u001b[39m\u001b[38;5;124mdataset\u001b[39m\u001b[38;5;124m'\u001b[39m, \u001b[38;5;124m'\u001b[39m\u001b[38;5;124mtype\u001b[39m\u001b[38;5;124m'\u001b[39m, \u001b[38;5;124m'\u001b[39m\u001b[38;5;124menc_type\u001b[39m\u001b[38;5;124m'\u001b[39m, \u001b[38;5;124m'\u001b[39m\u001b[38;5;124mmethod\u001b[39m\u001b[38;5;124m'\u001b[39m]\n\u001b[0;32m----> 2\u001b[0m df_avg \u001b[38;5;241m=\u001b[39m df_selected\u001b[38;5;241m.\u001b[39mgroupby(by\u001b[38;5;241m=\u001b[39mgroup_cols)\u001b[38;5;241m.\u001b[39mmean(numeric_only\u001b[38;5;241m=\u001b[39m\u001b[38;5;28;01mTrue\u001b[39;00m)\n\u001b[1;32m      3\u001b[0m df_avg\n",
      "\u001b[0;31mNameError\u001b[0m: name 'df_selected' is not defined"
     ]
    }
   ],
   "source": [
    "group_cols = ['dataset', 'type', 'enc_type', 'method']\n",
    "df_avg = df_selected.groupby(by=group_cols).mean(numeric_only=True)\n",
    "df_avg"
   ]
  },
  {
   "cell_type": "code",
   "execution_count": null,
   "id": "95fab195-4b7b-49fc-99a3-694bbcc88672",
   "metadata": {},
   "outputs": [],
   "source": []
  },
  {
   "cell_type": "code",
   "execution_count": null,
   "id": "bdf45f59-5d56-44d7-bc44-c307ab7b135e",
   "metadata": {},
   "outputs": [],
   "source": [
    "df_agg = df_selected.groupby(by=group_cols)['nelbo'].agg(list)"
   ]
  },
  {
   "cell_type": "code",
   "execution_count": null,
   "id": "314acf66-6be7-40cc-a06d-751e71234550",
   "metadata": {},
   "outputs": [],
   "source": [
    "for index, value in df_agg.items():\n",
    "    print(\"Index:\", index, \"Value:\", value)"
   ]
  },
  {
   "cell_type": "code",
   "execution_count": null,
   "id": "1cffa520-fefc-4dc0-9a04-d37beba98a08",
   "metadata": {},
   "outputs": [],
   "source": []
  },
  {
   "cell_type": "code",
   "execution_count": null,
   "id": "798549e0-287e-437e-b61d-b0685f482d8a",
   "metadata": {},
   "outputs": [],
   "source": [
    "data = df_agg[('DOVES', 'poisson', 'conv', 'exact')]\n",
    "\n",
    "boot = sp_stats.bootstrap(\n",
    "    data=(data,),\n",
    "    n_resamples=1000000,\n",
    "    statistic=np.mean,\n",
    "    paired=True,\n",
    ")\n",
    "print(boot)"
   ]
  },
  {
   "cell_type": "code",
   "execution_count": null,
   "id": "f9d131a8-067e-4e4d-9aab-5a70dfa5c5b6",
   "metadata": {},
   "outputs": [],
   "source": []
  },
  {
   "cell_type": "code",
   "execution_count": null,
   "id": "a09b57f8-4b35-47ad-8d97-d8a1384f4d02",
   "metadata": {},
   "outputs": [],
   "source": [
    "e = boot.standard_error * get_tval(4, 0.95)\n",
    "(np.mean(data) - e, np.mean(data) + e)"
   ]
  },
  {
   "cell_type": "code",
   "execution_count": null,
   "id": "1af320c8-aacd-42be-bf8a-873bcb3cbd23",
   "metadata": {},
   "outputs": [],
   "source": []
  },
  {
   "cell_type": "code",
   "execution_count": null,
   "id": "cb504df4-940c-4fd3-a79a-53011ab44607",
   "metadata": {},
   "outputs": [],
   "source": [
    "test = sp_stats.ttest_rel(\n",
    "    a=df_agg[('DOVES', 'poisson', 'conv', 'exact')],\n",
    "    b=df_agg[('DOVES', 'poisson', 'conv', 'mc')],\n",
    ")\n",
    "test.statistic, test.pvalue"
   ]
  },
  {
   "cell_type": "code",
   "execution_count": null,
   "id": "c6f536b9-199b-4981-a491-df260814578a",
   "metadata": {},
   "outputs": [],
   "source": [
    "test = sp_stats.ttest_rel(\n",
    "    a=df_agg[('CIFAR10-PATCHES', 'poisson', 'lin', 'exact')],\n",
    "    b=df_agg[('CIFAR10-PATCHES', 'poisson', 'lin', 'mc')],\n",
    ")\n",
    "test.statistic, test.pvalue"
   ]
  },
  {
   "cell_type": "code",
   "execution_count": null,
   "id": "99990726-f36a-4418-bfb5-5b5e8b16be41",
   "metadata": {},
   "outputs": [],
   "source": []
  },
  {
   "cell_type": "code",
   "execution_count": null,
   "id": "f4db5797-ca05-42ff-a873-0e8d3aad7b1d",
   "metadata": {},
   "outputs": [],
   "source": []
  },
  {
   "cell_type": "code",
   "execution_count": null,
   "id": "7792c266-1056-46b7-a24e-5eba282aa7d6",
   "metadata": {},
   "outputs": [],
   "source": []
  },
  {
   "cell_type": "code",
   "execution_count": null,
   "id": "dc3ea1a2-c357-4485-8ce1-aa0bb9727d86",
   "metadata": {},
   "outputs": [],
   "source": []
  }
 ],
 "metadata": {
  "kernelspec": {
   "display_name": "Python 3 (ipykernel)",
   "language": "python",
   "name": "python3"
  },
  "language_info": {
   "codemirror_mode": {
    "name": "ipython",
    "version": 3
   },
   "file_extension": ".py",
   "mimetype": "text/x-python",
   "name": "python",
   "nbconvert_exporter": "python",
   "pygments_lexer": "ipython3",
   "version": "3.11.7"
  }
 },
 "nbformat": 4,
 "nbformat_minor": 5
}
