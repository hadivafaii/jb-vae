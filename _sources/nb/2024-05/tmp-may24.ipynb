{
 "cells": [
  {
   "cell_type": "markdown",
   "id": "6c0cb91c",
   "metadata": {},
   "source": [
    "# tmp — may24\n",
    "\n",
    "**Motivation**: scratch notebook <br>"
   ]
  },
  {
   "cell_type": "code",
   "execution_count": 1,
   "id": "b12d2b0a",
   "metadata": {
    "tags": [
     "hide-input"
    ]
   },
   "outputs": [],
   "source": [
    "# HIDE CODE\n",
    "\n",
    "\n",
    "import os, sys\n",
    "from IPython.display import display\n",
    "\n",
    "# tmp & extras dir\n",
    "git_dir = os.path.join(os.environ['HOME'], 'Dropbox/git')\n",
    "extras_dir = os.path.join(git_dir, 'jb-vae/_extras')\n",
    "fig_base_dir = os.path.join(git_dir, 'jb-vae/figs')\n",
    "tmp_dir = os.path.join(git_dir, 'jb-vae/tmp')\n",
    "\n",
    "# GitHub\n",
    "sys.path.insert(0, os.path.join(git_dir, '_PoissonVAE'))\n",
    "from figures.fighelper import *\n",
    "from vae.train_vae import *\n",
    "\n",
    "# warnings, tqdm, & style\n",
    "warnings.filterwarnings('ignore', category=DeprecationWarning)\n",
    "from rich.jupyter import print\n",
    "%matplotlib inline\n",
    "set_style()"
   ]
  },
  {
   "cell_type": "code",
   "execution_count": 2,
   "id": "1a79ea57-03e6-41b2-b116-33b2868bda0c",
   "metadata": {},
   "outputs": [],
   "source": [
    "device_idx = 1\n",
    "device = f'cuda:{device_idx}'\n",
    "\n",
    "model_type = 'poisson'"
   ]
  },
  {
   "cell_type": "code",
   "execution_count": null,
   "id": "b3e7be9d-09bd-4366-82f4-27f89df0e5c6",
   "metadata": {},
   "outputs": [],
   "source": []
  },
  {
   "cell_type": "code",
   "execution_count": 3,
   "id": "f51d52cd-ce71-4510-a223-d08d731bc636",
   "metadata": {},
   "outputs": [],
   "source": [
    "tr, meta = load_model(\n",
    "    'poisson_uniform_c(-2)_rmax(1)_MNIST_z-10_k-32_<conv+b|conv+b>',\n",
    "    'klconst0.001_gradx3-scale0.05_mc_b200-ep1200-lr(0.002)_beta(1:0x0.5)_temp(0.05:lin-0.5)_gr(1000)_(2024_05_06,15:38)',\n",
    "    device=device,\n",
    ")"
   ]
  },
  {
   "cell_type": "code",
   "execution_count": null,
   "id": "dfd3f727-792a-4506-bce0-525b5901312e",
   "metadata": {},
   "outputs": [],
   "source": []
  },
  {
   "cell_type": "code",
   "execution_count": 6,
   "id": "b6079627-8b13-4f77-98ae-0b402f8b0f1e",
   "metadata": {},
   "outputs": [
    {
     "data": {
      "image/png": "[encoded data removed]",
      "text/plain": [
       "<Figure size 800x200 with 2 Axes>"
      ]
     },
     "metadata": {},
     "output_type": "display_data"
    }
   ],
   "source": [
    "w_enc = tonp(tr.model.fc_enc.weight)\n",
    "w_dec = tonp(tr.model.fc_dec.weight)\n",
    "\n",
    "fig, axes = create_figure(1, 2, (8, 2))\n",
    "sns.histplot(w_enc.ravel(), ax=axes[0], bins=100)\n",
    "sns.histplot(w_dec.ravel(), ax=axes[1], bins=100, color='k')\n",
    "axes[0].set(yscale='log')\n",
    "axes[1].set(yscale='log')\n",
    "plt.show()"
   ]
  },
  {
   "cell_type": "code",
   "execution_count": null,
   "id": "cf2d80d8-6910-4990-b8e1-7adc325d2f6a",
   "metadata": {},
   "outputs": [],
   "source": []
  },
  {
   "cell_type": "code",
   "execution_count": null,
   "id": "f542bd55-d5ab-42e4-8421-cb51c8eb4d52",
   "metadata": {},
   "outputs": [],
   "source": []
  },
  {
   "cell_type": "code",
   "execution_count": null,
   "id": "78c5b461-af28-4d72-b506-d7c41316d769",
   "metadata": {},
   "outputs": [],
   "source": []
  },
  {
   "cell_type": "code",
   "execution_count": 3,
   "id": "a9c63ef0-8b8d-4ab8-b75d-06fda0612e81",
   "metadata": {},
   "outputs": [
    {
     "data": {
      "text/html": [
       "<pre style=\"white-space:pre;overflow-x:auto;line-height:normal;font-family:Menlo,'DejaVu Sans Mono',consolas,'Courier New',monospace\">VAE:\n",
       "<span style=\"font-weight: bold\">{</span><span style=\"color: #008000; text-decoration-color: #008000\">'dataset'</span>: <span style=\"color: #008000; text-decoration-color: #008000\">'MNIST'</span>, <span style=\"color: #008000; text-decoration-color: #008000\">'n_ch'</span>: <span style=\"color: #008080; text-decoration-color: #008080; font-weight: bold\">32</span>, <span style=\"color: #008000; text-decoration-color: #008000\">'n_latents'</span>: <span style=\"color: #008080; text-decoration-color: #008080; font-weight: bold\">10</span>, <span style=\"color: #008000; text-decoration-color: #008000\">'prior_clamp'</span>: <span style=\"color: #008080; text-decoration-color: #008080; font-weight: bold\">-2.0</span>, <span style=\"color: #008000; text-decoration-color: #008000\">'prior_log_dist'</span>: <span style=\"color: #008000; text-decoration-color: #008000\">'uniform'</span>, <span style=\"color: #008000; text-decoration-color: #008000\">'rmax_q'</span>: <span style=\"color: #008080; text-decoration-color: #008080; font-weight: bold\">1.0</span>, \n",
       "<span style=\"color: #008000; text-decoration-color: #008000\">'fit_prior'</span>: <span style=\"color: #00ff00; text-decoration-color: #00ff00; font-style: italic\">True</span>, <span style=\"color: #008000; text-decoration-color: #008000\">'enc_type'</span>: <span style=\"color: #008000; text-decoration-color: #008000\">'conv'</span>, <span style=\"color: #008000; text-decoration-color: #008000\">'dec_type'</span>: <span style=\"color: #008000; text-decoration-color: #008000\">'conv'</span>, <span style=\"color: #008000; text-decoration-color: #008000\">'enc_bias'</span>: <span style=\"color: #00ff00; text-decoration-color: #00ff00; font-style: italic\">True</span>, <span style=\"color: #008000; text-decoration-color: #008000\">'dec_bias'</span>: <span style=\"color: #00ff00; text-decoration-color: #00ff00; font-style: italic\">True</span>, <span style=\"color: #008000; text-decoration-color: #008000\">'init_dist'</span>: \n",
       "<span style=\"color: #008000; text-decoration-color: #008000\">'StudentT'</span>, <span style=\"color: #008000; text-decoration-color: #008000\">'init_scale'</span>: <span style=\"color: #008080; text-decoration-color: #008080; font-weight: bold\">0.1</span><span style=\"font-weight: bold\">}</span>\n",
       "\n",
       "Trainer:\n",
       "<span style=\"font-weight: bold\">{</span><span style=\"color: #008000; text-decoration-color: #008000\">'lr'</span>: <span style=\"color: #008080; text-decoration-color: #008080; font-weight: bold\">0.002</span>, <span style=\"color: #008000; text-decoration-color: #008000\">'epochs'</span>: <span style=\"color: #008080; text-decoration-color: #008080; font-weight: bold\">1200</span>, <span style=\"color: #008000; text-decoration-color: #008000\">'batch_size'</span>: <span style=\"color: #008080; text-decoration-color: #008080; font-weight: bold\">200</span>, <span style=\"color: #008000; text-decoration-color: #008000\">'warm_restart'</span>: <span style=\"color: #008080; text-decoration-color: #008080; font-weight: bold\">2</span>, <span style=\"color: #008000; text-decoration-color: #008000\">'optimizer_kws'</span>: <span style=\"font-weight: bold\">{</span><span style=\"color: #008000; text-decoration-color: #008000\">'weight_decay'</span>: <span style=\"color: #008080; text-decoration-color: #008080; font-weight: bold\">0.0003</span><span style=\"font-weight: bold\">}</span>, \n",
       "<span style=\"color: #008000; text-decoration-color: #008000\">'grad_clip'</span>: <span style=\"color: #008080; text-decoration-color: #008080; font-weight: bold\">1000</span><span style=\"font-weight: bold\">}</span>\n",
       "</pre>\n"
      ],
      "text/plain": [
       "VAE:\n",
       "\u001b[1m{\u001b[0m\u001b[32m'dataset'\u001b[0m: \u001b[32m'MNIST'\u001b[0m, \u001b[32m'n_ch'\u001b[0m: \u001b[1;36m32\u001b[0m, \u001b[32m'n_latents'\u001b[0m: \u001b[1;36m10\u001b[0m, \u001b[32m'prior_clamp'\u001b[0m: \u001b[1;36m-2.0\u001b[0m, \u001b[32m'prior_log_dist'\u001b[0m: \u001b[32m'uniform'\u001b[0m, \u001b[32m'rmax_q'\u001b[0m: \u001b[1;36m1.0\u001b[0m, \n",
       "\u001b[32m'fit_prior'\u001b[0m: \u001b[3;92mTrue\u001b[0m, \u001b[32m'enc_type'\u001b[0m: \u001b[32m'conv'\u001b[0m, \u001b[32m'dec_type'\u001b[0m: \u001b[32m'conv'\u001b[0m, \u001b[32m'enc_bias'\u001b[0m: \u001b[3;92mTrue\u001b[0m, \u001b[32m'dec_bias'\u001b[0m: \u001b[3;92mTrue\u001b[0m, \u001b[32m'init_dist'\u001b[0m: \n",
       "\u001b[32m'StudentT'\u001b[0m, \u001b[32m'init_scale'\u001b[0m: \u001b[1;36m0.1\u001b[0m\u001b[1m}\u001b[0m\n",
       "\n",
       "Trainer:\n",
       "\u001b[1m{\u001b[0m\u001b[32m'lr'\u001b[0m: \u001b[1;36m0.002\u001b[0m, \u001b[32m'epochs'\u001b[0m: \u001b[1;36m1200\u001b[0m, \u001b[32m'batch_size'\u001b[0m: \u001b[1;36m200\u001b[0m, \u001b[32m'warm_restart'\u001b[0m: \u001b[1;36m2\u001b[0m, \u001b[32m'optimizer_kws'\u001b[0m: \u001b[1m{\u001b[0m\u001b[32m'weight_decay'\u001b[0m: \u001b[1;36m0.0003\u001b[0m\u001b[1m}\u001b[0m, \n",
       "\u001b[32m'grad_clip'\u001b[0m: \u001b[1;36m1000\u001b[0m\u001b[1m}\u001b[0m\n"
      ]
     },
     "metadata": {},
     "output_type": "display_data"
    }
   ],
   "source": [
    "cfg_vae, cfg_tr = default_configs('MNIST', model_type, 'conv+b|conv+b')\n",
    "cfg_vae['init_dist'] = 'StudentT'\n",
    "cfg_vae['init_scale'] = 0.1\n",
    "\n",
    "print(f\"VAE:\\n{cfg_vae}\\n\\nTrainer:\\n{cfg_tr}\")"
   ]
  },
  {
   "cell_type": "code",
   "execution_count": 4,
   "id": "682d1d6d-a75f-442b-b28c-d05dd5bf88da",
   "metadata": {},
   "outputs": [
    {
     "data": {
      "text/html": [
       "<pre style=\"white-space:pre;overflow-x:auto;line-height:normal;font-family:Menlo,'DejaVu Sans Mono',consolas,'Courier New',monospace\">+-------------+------------+\n",
       "| Module Name | Num Params |\n",
       "+-------------+------------+\n",
       "|  PoissonVAE |  <span style=\"color: #008080; text-decoration-color: #008080; font-weight: bold\">6.2</span> Mil   |\n",
       "|     ---     |    ---     |\n",
       "|     stem    |    <span style=\"color: #008080; text-decoration-color: #008080; font-weight: bold\">352</span>     |\n",
       "|     enc     |  <span style=\"color: #008080; text-decoration-color: #008080; font-weight: bold\">4.9</span> Mil   |\n",
       "|    fc_enc   |   <span style=\"color: #008080; text-decoration-color: #008080; font-weight: bold\">2.6</span> K    |\n",
       "|    fc_dec   |   <span style=\"color: #008080; text-decoration-color: #008080; font-weight: bold\">11.3</span> K   |\n",
       "|     dec     |  <span style=\"color: #008080; text-decoration-color: #008080; font-weight: bold\">1.2</span> Mil   |\n",
       "+-------------+------------+ \n",
       "\n",
       "</pre>\n"
      ],
      "text/plain": [
       "+-------------+------------+\n",
       "| Module Name | Num Params |\n",
       "+-------------+------------+\n",
       "|  PoissonVAE |  \u001b[1;36m6.2\u001b[0m Mil   |\n",
       "|     ---     |    ---     |\n",
       "|     stem    |    \u001b[1;36m352\u001b[0m     |\n",
       "|     enc     |  \u001b[1;36m4.9\u001b[0m Mil   |\n",
       "|    fc_enc   |   \u001b[1;36m2.6\u001b[0m K    |\n",
       "|    fc_dec   |   \u001b[1;36m11.3\u001b[0m K   |\n",
       "|     dec     |  \u001b[1;36m1.2\u001b[0m Mil   |\n",
       "+-------------+------------+ \n",
       "\n"
      ]
     },
     "metadata": {},
     "output_type": "display_data"
    },
    {
     "data": {
      "text/html": [
       "<pre style=\"white-space:pre;overflow-x:auto;line-height:normal;font-family:Menlo,'DejaVu Sans Mono',consolas,'Courier New',monospace\"><span style=\"color: #800080; text-decoration-color: #800080; font-weight: bold\">poisson_uniform_c</span><span style=\"font-weight: bold\">(</span><span style=\"color: #008080; text-decoration-color: #008080; font-weight: bold\">-2</span><span style=\"font-weight: bold\">)</span>_MNIST_z-10_k-32_fp_<span style=\"font-weight: bold\">&lt;</span><span style=\"color: #ff00ff; text-decoration-color: #ff00ff; font-weight: bold\">conv</span><span style=\"color: #000000; text-decoration-color: #000000\">+b|conv+b</span><span style=\"font-weight: bold\">&gt;</span>\n",
       "mc_b200-ep1200-<span style=\"color: #800080; text-decoration-color: #800080; font-weight: bold\">lr</span><span style=\"font-weight: bold\">(</span><span style=\"color: #008080; text-decoration-color: #008080; font-weight: bold\">0.002</span><span style=\"font-weight: bold\">)</span><span style=\"color: #800080; text-decoration-color: #800080; font-weight: bold\">_beta</span><span style=\"font-weight: bold\">(</span><span style=\"color: #00ff00; text-decoration-color: #00ff00; font-weight: bold\">1:0</span>x0.<span style=\"color: #008080; text-decoration-color: #008080; font-weight: bold\">5</span><span style=\"font-weight: bold\">)</span><span style=\"color: #800080; text-decoration-color: #800080; font-weight: bold\">_temp</span><span style=\"font-weight: bold\">(</span><span style=\"color: #008080; text-decoration-color: #008080; font-weight: bold\">0.05</span>:lin-<span style=\"color: #008080; text-decoration-color: #008080; font-weight: bold\">0.5</span><span style=\"font-weight: bold\">)</span><span style=\"color: #800080; text-decoration-color: #800080; font-weight: bold\">_gr</span><span style=\"font-weight: bold\">(</span><span style=\"color: #008080; text-decoration-color: #008080; font-weight: bold\">1000</span><span style=\"font-weight: bold\">)</span><span style=\"color: #800080; text-decoration-color: #800080; font-weight: bold\">_</span><span style=\"font-weight: bold\">(</span>2024_05_07,<span style=\"color: #00ff00; text-decoration-color: #00ff00; font-weight: bold\">05:46</span><span style=\"font-weight: bold\">)</span>\n",
       "\n",
       "</pre>\n"
      ],
      "text/plain": [
       "\u001b[1;35mpoisson_uniform_c\u001b[0m\u001b[1m(\u001b[0m\u001b[1;36m-2\u001b[0m\u001b[1m)\u001b[0m_MNIST_z-10_k-32_fp_\u001b[1m<\u001b[0m\u001b[1;95mconv\u001b[0m\u001b[39m+b|conv+b\u001b[0m\u001b[1m>\u001b[0m\n",
       "mc_b200-ep1200-\u001b[1;35mlr\u001b[0m\u001b[1m(\u001b[0m\u001b[1;36m0.002\u001b[0m\u001b[1m)\u001b[0m\u001b[1;35m_beta\u001b[0m\u001b[1m(\u001b[0m\u001b[1;92m1:0\u001b[0mx0.\u001b[1;36m5\u001b[0m\u001b[1m)\u001b[0m\u001b[1;35m_temp\u001b[0m\u001b[1m(\u001b[0m\u001b[1;36m0.05\u001b[0m:lin-\u001b[1;36m0.5\u001b[0m\u001b[1m)\u001b[0m\u001b[1;35m_gr\u001b[0m\u001b[1m(\u001b[0m\u001b[1;36m1000\u001b[0m\u001b[1m)\u001b[0m\u001b[1;35m_\u001b[0m\u001b[1m(\u001b[0m2024_05_07,\u001b[1;92m05:46\u001b[0m\u001b[1m)\u001b[0m\n",
       "\n"
      ]
     },
     "metadata": {},
     "output_type": "display_data"
    },
    {
     "data": {
      "image/png": "[encoded data removed]",
      "text/plain": [
       "<Figure size 650x160 with 3 Axes>"
      ]
     },
     "metadata": {},
     "output_type": "display_data"
    }
   ],
   "source": [
    "vae = MODEL_CLASSES[model_type](CFG_CLASSES[model_type](**cfg_vae))\n",
    "tr = TrainerVAE(vae, ConfigTrainVAE(**cfg_tr), device=device)\n",
    "\n",
    "vae.print()\n",
    "print(f\"{vae.cfg.name()}\\n{tr.cfg.name()}_({vae.timestamp})\\n\")\n",
    "tr.show_schedules()"
   ]
  },
  {
   "cell_type": "code",
   "execution_count": null,
   "id": "58dfd970-285e-43d1-b477-cefcb2ee443d",
   "metadata": {},
   "outputs": [],
   "source": []
  },
  {
   "cell_type": "code",
   "execution_count": 5,
   "id": "9620935b-b600-46f8-a30a-a1c7bdf12c71",
   "metadata": {},
   "outputs": [
    {
     "data": {
      "image/png": "[encoded data removed]",
      "text/plain": [
       "<Figure size 500x320 with 1 Axes>"
      ]
     },
     "metadata": {},
     "output_type": "display_data"
    }
   ],
   "source": [
    "sns.kdeplot(tonp(vae.fc_enc.weight.data.ravel()));"
   ]
  },
  {
   "cell_type": "code",
   "execution_count": null,
   "id": "e5eeb5da-ac33-430c-9bb0-87b55c47282b",
   "metadata": {},
   "outputs": [],
   "source": []
  },
  {
   "cell_type": "code",
   "execution_count": null,
   "id": "dae53d3d-96dd-4767-b1b9-9549603ff01f",
   "metadata": {},
   "outputs": [
    {
     "name": "stderr",
     "output_type": "stream",
     "text": [
      "epoch # 960, avg loss: 34.986939:  80%|███████████████████▏    | 959/1200 [2:49:25<41:36, 10.36s/it]"
     ]
    }
   ],
   "source": [
    "comment = f\"klconst{tr.cfg.kl_const_portion}_gradx3-{vae.cfg.init_dist}Scale{vae.cfg.init_scale}_{tr.cfg.name()}\"\n",
    "# comment = tr.cfg.name()\n",
    "tr.train(comment=comment)"
   ]
  },
  {
   "cell_type": "code",
   "execution_count": null,
   "id": "84828f87-d9ab-40d3-a6ea-e3e022240f62",
   "metadata": {},
   "outputs": [],
   "source": []
  },
  {
   "cell_type": "code",
   "execution_count": null,
   "id": "9bc27044-6d0a-4266-a3d0-1ab00a69fec0",
   "metadata": {},
   "outputs": [],
   "source": [
    "tr.show_recon(0.0), tr.show_samples(0.0);"
   ]
  },
  {
   "cell_type": "code",
   "execution_count": null,
   "id": "49d3d946-b995-471f-81d9-9d465bb4a313",
   "metadata": {},
   "outputs": [],
   "source": []
  },
  {
   "cell_type": "code",
   "execution_count": null,
   "id": "d1d3d6c1-5511-4473-8c60-ab854f3931d6",
   "metadata": {},
   "outputs": [],
   "source": [
    "data, loss, etc = tr.validate()\n",
    "\n",
    "_loss = {k: v.mean() for k, v in loss.items()}\n",
    "_loss['tot'] = _loss['mse'] + _loss['kl']\n",
    "print(_loss)"
   ]
  },
  {
   "cell_type": "code",
   "execution_count": null,
   "id": "6e78a182-d69a-440e-a3e4-362db54ca342",
   "metadata": {},
   "outputs": [],
   "source": []
  },
  {
   "cell_type": "code",
   "execution_count": null,
   "id": "8209edc5-8f22-40f8-b909-5a03e1cb275e",
   "metadata": {},
   "outputs": [],
   "source": [
    "df, df_summary = knn_analysis(\n",
    "    x=etc['log_dr'],\n",
    "    y=tonp(tr.dl_vld.dataset.tensors[1]),\n",
    "    n_iter=100,\n",
    "    verbose=True,\n",
    ")"
   ]
  },
  {
   "cell_type": "code",
   "execution_count": null,
   "id": "078292e8-b118-427d-a4c9-7ddc22c94d05",
   "metadata": {},
   "outputs": [],
   "source": [
    "df_summary"
   ]
  },
  {
   "cell_type": "code",
   "execution_count": null,
   "id": "0b604089-c0bd-498a-8c9a-58f5f589f895",
   "metadata": {},
   "outputs": [],
   "source": []
  },
  {
   "cell_type": "code",
   "execution_count": null,
   "id": "33e24e68-d612-4cf4-b930-e477ba182e99",
   "metadata": {},
   "outputs": [],
   "source": []
  },
  {
   "cell_type": "code",
   "execution_count": null,
   "id": "f451e854-2da7-41ad-9ed5-f779cb0e458c",
   "metadata": {},
   "outputs": [],
   "source": []
  }
 ],
 "metadata": {
  "kernelspec": {
   "display_name": "Python 3 (ipykernel)",
   "language": "python",
   "name": "python3"
  },
  "language_info": {
   "codemirror_mode": {
    "name": "ipython",
    "version": 3
   },
   "file_extension": ".py",
   "mimetype": "text/x-python",
   "name": "python",
   "nbconvert_exporter": "python",
   "pygments_lexer": "ipython3",
   "version": "3.11.8"
  }
 },
 "nbformat": 4,
 "nbformat_minor": 5
}
