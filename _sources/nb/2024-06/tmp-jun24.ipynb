{
 "cells": [
  {
   "cell_type": "markdown",
   "id": "6c0cb91c",
   "metadata": {},
   "source": [
    "# tmp — jun24\n",
    "\n",
    "**Motivation**: scratch notebook <br>"
   ]
  },
  {
   "cell_type": "code",
   "execution_count": 1,
   "id": "b12d2b0a",
   "metadata": {
    "tags": [
     "hide-input"
    ]
   },
   "outputs": [],
   "source": [
    "# HIDE CODE\n",
    "\n",
    "\n",
    "import os, sys\n",
    "from IPython.display import display\n",
    "\n",
    "# tmp & extras dir\n",
    "git_dir = os.path.join(os.environ['HOME'], 'Dropbox/git')\n",
    "extras_dir = os.path.join(git_dir, 'jb-vae/_extras')\n",
    "fig_base_dir = os.path.join(git_dir, 'jb-vae/figs')\n",
    "tmp_dir = os.path.join(git_dir, 'jb-vae/tmp')\n",
    "\n",
    "# GitHub\n",
    "sys.path.insert(0, os.path.join(git_dir, '_PoissonVAE'))\n",
    "from figures.fighelper import *\n",
    "from vae.train_vae import *\n",
    "\n",
    "# warnings, tqdm, & style\n",
    "warnings.filterwarnings('ignore', category=DeprecationWarning)\n",
    "from rich.jupyter import print\n",
    "%matplotlib inline\n",
    "set_style()"
   ]
  },
  {
   "cell_type": "code",
   "execution_count": 2,
   "id": "1a79ea57-03e6-41b2-b116-33b2868bda0c",
   "metadata": {},
   "outputs": [],
   "source": [
    "device_idx = 0\n",
    "device = f'cuda:{device_idx}'"
   ]
  },
  {
   "cell_type": "code",
   "execution_count": null,
   "id": "dabffb98-22c7-4c9a-892c-599f68212714",
   "metadata": {},
   "outputs": [],
   "source": []
  },
  {
   "cell_type": "code",
   "execution_count": 33,
   "id": "41dda600-b466-4a05-a1d6-30672a689187",
   "metadata": {},
   "outputs": [
    {
     "data": {
      "image/png": "[encoded data removed]",
      "text/plain": [
       "<Figure size 300x200 with 1 Axes>"
      ]
     },
     "metadata": {},
     "output_type": "display_data"
    }
   ],
   "source": [
    "p = 2.5\n",
    "u = np.linspace(-2, 5, 10000)\n",
    "\n",
    "for p in [2, 2.5, 3, 3.5]:\n",
    "    r = np.power(np.maximum(u, 0), p)\n",
    "    plt.plot(u, r, label=f'p = {p}')\n",
    "\n",
    "plt.plot(u, np.exp(u), color='k', label=f'exp')\n",
    "plt.legend()\n",
    "plt.show()"
   ]
  },
  {
   "cell_type": "code",
   "execution_count": null,
   "id": "1c2d46fb-fc2a-4140-8a1d-f65977531c00",
   "metadata": {},
   "outputs": [],
   "source": []
  },
  {
   "cell_type": "code",
   "execution_count": null,
   "id": "ecb62615-9760-45c2-8c6c-8ab74c2bb993",
   "metadata": {},
   "outputs": [],
   "source": []
  },
  {
   "cell_type": "code",
   "execution_count": 13,
   "id": "fd023ce0-70ff-4d90-a928-9a6b0665b213",
   "metadata": {},
   "outputs": [
    {
     "data": {
      "text/plain": [
       "array([[ 1.4,  2. , -inf, -inf],\n",
       "       [ 2. ,  1.4,  2. , -inf],\n",
       "       [-inf,  2. ,  1.4,  2. ],\n",
       "       [-inf, -inf,  2. ,  1.4]])"
      ]
     },
     "execution_count": 13,
     "metadata": {},
     "output_type": "execute_result"
    }
   ],
   "source": [
    "# a, b, c, d = 1.4, 2, -5, 14\n",
    "a, b, c, d = 1.4, 2, -np.inf, -np.inf\n",
    "\n",
    "mat = np.array([\n",
    "    [a, b, c, d],\n",
    "    [b, a, b, c],\n",
    "    [c, b, a, b],\n",
    "    [d, c, b, a],\n",
    "])\n",
    "mat"
   ]
  },
  {
   "cell_type": "code",
   "execution_count": 14,
   "id": "a64eed27-20e9-4693-b87a-74eb18d623a1",
   "metadata": {},
   "outputs": [
    {
     "data": {
      "text/plain": [
       "array([[4.05519997, 7.3890561 , 0.        , 0.        ],\n",
       "       [7.3890561 , 4.05519997, 7.3890561 , 0.        ],\n",
       "       [0.        , 7.3890561 , 4.05519997, 7.3890561 ],\n",
       "       [0.        , 0.        , 7.3890561 , 4.05519997]])"
      ]
     },
     "execution_count": 14,
     "metadata": {},
     "output_type": "execute_result"
    }
   ],
   "source": [
    "np.exp(mat)"
   ]
  },
  {
   "cell_type": "code",
   "execution_count": null,
   "id": "d8240a60-d1b8-420f-a227-37661df3bba2",
   "metadata": {},
   "outputs": [],
   "source": []
  },
  {
   "cell_type": "code",
   "execution_count": 24,
   "id": "3615acbd-d53c-428d-9b49-d5537ad9d10d",
   "metadata": {},
   "outputs": [],
   "source": [
    "n = 100\n",
    "b = 0.7\n",
    "vec = [b ** i for i in range(n)]"
   ]
  },
  {
   "cell_type": "code",
   "execution_count": 26,
   "id": "51779b7f-55b7-4703-9f01-06305f779ccf",
   "metadata": {},
   "outputs": [
    {
     "data": {
      "image/png": "[encoded data removed]",
      "text/plain": [
       "<Figure size 300x200 with 1 Axes>"
      ]
     },
     "metadata": {},
     "output_type": "display_data"
    }
   ],
   "source": [
    "plt.plot(vec);"
   ]
  },
  {
   "cell_type": "code",
   "execution_count": null,
   "id": "03443989-90ab-43dc-865b-ef5e6f8ae238",
   "metadata": {},
   "outputs": [],
   "source": []
  },
  {
   "cell_type": "code",
   "execution_count": 4,
   "id": "589b230b-29cb-447b-8b37-7d42f447c037",
   "metadata": {},
   "outputs": [],
   "source": [
    "def build_toeplitz_matrix(row: np.ndarray, beta: float):\n",
    "    if not isinstance(row, np.ndarray):\n",
    "        row = np.array(row)\n",
    "    n = len(row)\n",
    "\n",
    "    magnitude = np.array([\n",
    "        beta ** i for\n",
    "        i in range(n)\n",
    "    ])\n",
    "    row *= magnitude\n",
    "\n",
    "    mat = np.zeros((n, n))\n",
    "    looper = itertools.product(\n",
    "        range(n), range(n))\n",
    "    for i, j in looper:\n",
    "        mat[i, j] = row[abs(i - j)]\n",
    "    return mat"
   ]
  },
  {
   "cell_type": "code",
   "execution_count": 15,
   "id": "61294918-9c46-4f1e-8a98-1e2d9eea6690",
   "metadata": {},
   "outputs": [],
   "source": [
    "rng = get_rng()\n",
    "row = rng.normal(size=100)\n",
    "mat = build_toeplitz_matrix(row, 0.8)\n",
    "\n",
    "alpha = 1\n",
    "a = -alpha * mat"
   ]
  },
  {
   "cell_type": "code",
   "execution_count": null,
   "id": "a23e3823-3c2d-4b88-a93c-c57582b649f8",
   "metadata": {},
   "outputs": [],
   "source": []
  },
  {
   "cell_type": "code",
   "execution_count": 16,
   "id": "706dfd9b-06c4-4b52-9b9f-4158f99f5cbb",
   "metadata": {},
   "outputs": [
    {
     "data": {
      "image/png": "[encoded data removed]",
      "text/plain": [
       "<Figure size 300x200 with 2 Axes>"
      ]
     },
     "metadata": {},
     "output_type": "display_data"
    }
   ],
   "source": [
    "plt.imshow(a, cmap='nipy_spectral')\n",
    "plt.colorbar();"
   ]
  },
  {
   "cell_type": "code",
   "execution_count": null,
   "id": "195667be-d49a-41b8-b0db-521db3a3555a",
   "metadata": {},
   "outputs": [],
   "source": []
  },
  {
   "cell_type": "code",
   "execution_count": 17,
   "id": "5105bd30-dcb0-4a20-acff-211509738d9d",
   "metadata": {},
   "outputs": [],
   "source": [
    "eigvals, eigvecs = np.linalg.eig(a)"
   ]
  },
  {
   "cell_type": "code",
   "execution_count": 18,
   "id": "c83da8b1-c3f0-4026-ae4f-d4c8f7a6ac50",
   "metadata": {},
   "outputs": [
    {
     "data": {
      "image/png": "[encoded data removed]",
      "text/plain": [
       "<Figure size 300x200 with 1 Axes>"
      ]
     },
     "metadata": {},
     "output_type": "display_data"
    }
   ],
   "source": [
    "fig, ax = create_figure()\n",
    "ax.plot(eigvals)\n",
    "# ax.set_ylim(top=0)\n",
    "plt.show()"
   ]
  },
  {
   "cell_type": "code",
   "execution_count": null,
   "id": "0c84a197-241f-41cf-a814-e89241259864",
   "metadata": {},
   "outputs": [],
   "source": []
  },
  {
   "cell_type": "code",
   "execution_count": null,
   "id": "9b256a36-cb00-4c11-b35c-45e6957b5d79",
   "metadata": {},
   "outputs": [],
   "source": []
  },
  {
   "cell_type": "code",
   "execution_count": null,
   "id": "fb333b76-11bd-484a-8c89-0c3a6d0b28a9",
   "metadata": {},
   "outputs": [],
   "source": []
  },
  {
   "cell_type": "code",
   "execution_count": null,
   "id": "e0a89e81-0e37-4283-a4a3-3fb14e7df930",
   "metadata": {},
   "outputs": [],
   "source": []
  },
  {
   "cell_type": "code",
   "execution_count": null,
   "id": "f9dd13ba-2b5e-42fd-9fee-8f5a47da01c1",
   "metadata": {},
   "outputs": [],
   "source": []
  },
  {
   "cell_type": "code",
   "execution_count": null,
   "id": "fabe21a7-f2b8-4e71-810d-b86a6f5c5ebb",
   "metadata": {},
   "outputs": [],
   "source": []
  },
  {
   "cell_type": "code",
   "execution_count": null,
   "id": "33e24e68-d612-4cf4-b930-e477ba182e99",
   "metadata": {},
   "outputs": [],
   "source": []
  },
  {
   "cell_type": "code",
   "execution_count": null,
   "id": "f451e854-2da7-41ad-9ed5-f779cb0e458c",
   "metadata": {},
   "outputs": [],
   "source": []
  }
 ],
 "metadata": {
  "kernelspec": {
   "display_name": "Python 3 (ipykernel)",
   "language": "python",
   "name": "python3"
  },
  "language_info": {
   "codemirror_mode": {
    "name": "ipython",
    "version": 3
   },
   "file_extension": ".py",
   "mimetype": "text/x-python",
   "name": "python",
   "nbconvert_exporter": "python",
   "pygments_lexer": "ipython3",
   "version": "3.11.7"
  }
 },
 "nbformat": 4,
 "nbformat_minor": 5
}
