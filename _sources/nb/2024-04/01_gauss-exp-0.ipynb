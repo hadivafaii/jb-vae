{
 "cells": [
  {
   "cell_type": "markdown",
   "id": "375a4a59-35fc-4ff1-a44d-b6ea680cfe1f",
   "metadata": {},
   "source": [
    "# (01) Gauss—Exp—0\n",
    "\n",
    "**Motivation**: Gaussian fit with ```exp``` nonlinearity. Device = ```cuda:0``` <br>"
   ]
  },
  {
   "cell_type": "code",
   "execution_count": null,
   "id": "6babf8ad-c8b8-4d29-9852-7c036d7a9292",
   "metadata": {},
   "outputs": [],
   "source": [
    "# HIDE CODE\n",
    "\n",
    "\n",
    "import os, sys\n",
    "from IPython.display import display\n",
    "\n",
    "# tmp & extras dir\n",
    "git_dir = os.path.join(os.environ['HOME'], 'Dropbox/git')\n",
    "extras_dir = os.path.join(git_dir, 'jb-vae/_extras')\n",
    "fig_base_dir = os.path.join(git_dir, 'jb-vae/figs')\n",
    "tmp_dir = os.path.join(git_dir, 'jb-vae/tmp')\n",
    "\n",
    "# GitHub\n",
    "sys.path.insert(0, os.path.join(git_dir, '_PoissonVAE'))\n",
    "from figures.fighelper import *\n",
    "from vae.vae import GaussianVAE, ConfigGausVAE\n",
    "from vae.train_vae import TrainerVAE, ConfigTrainVAE\n",
    "\n",
    "# warnings, tqdm, & style\n",
    "warnings.filterwarnings('ignore', category=DeprecationWarning)\n",
    "from rich.jupyter import print\n",
    "%matplotlib inline\n",
    "set_style()"
   ]
  },
  {
   "cell_type": "code",
   "execution_count": null,
   "id": "e55d4298-c777-44cb-823f-d683a0f6bc70",
   "metadata": {},
   "outputs": [],
   "source": [
    "device_idx = 0\n",
    "device = f'cuda:{device_idx}'"
   ]
  },
  {
   "cell_type": "markdown",
   "id": "0cf72991-6205-4a5e-9a99-bb086f805440",
   "metadata": {},
   "source": [
    "## Build model + trainer"
   ]
  },
  {
   "cell_type": "code",
   "execution_count": null,
   "id": "0ee42993-a202-4e34-8a55-f0de978fabe1",
   "metadata": {},
   "outputs": [],
   "source": [
    "kws_vae = dict()\n",
    "kws_tr = dict()\n",
    "\n",
    "vae = GaussianVAE(ConfigPoisVAE(**kws_vae))\n",
    "tr = TrainerVAE(vae, ConfigTrainVAE(**kws_tr), device=device)"
   ]
  },
  {
   "cell_type": "code",
   "execution_count": null,
   "id": "5738756b-bea7-483c-9002-7adcaa7d7aab",
   "metadata": {},
   "outputs": [],
   "source": []
  },
  {
   "cell_type": "code",
   "execution_count": null,
   "id": "3741b4a6-ec17-4caa-9bf1-e06bb66b9c57",
   "metadata": {},
   "outputs": [],
   "source": [
    "tr.cfg.optimizer_kws"
   ]
  },
  {
   "cell_type": "code",
   "execution_count": null,
   "id": "11fa5b35-6293-4a19-b5f6-0058234824d5",
   "metadata": {},
   "outputs": [],
   "source": []
  },
  {
   "cell_type": "code",
   "execution_count": null,
   "id": "c6a94bf8-767a-47f4-8f75-042a8afde64b",
   "metadata": {},
   "outputs": [],
   "source": [
    "vae.print()\n",
    "print(f\"{vae.cfg.name()}\\n{tr.cfg.name()}\")"
   ]
  },
  {
   "cell_type": "code",
   "execution_count": null,
   "id": "cbeda55b-d342-4d4b-910e-ce96378156a5",
   "metadata": {},
   "outputs": [],
   "source": [
    "vae.log_rates.detach().exp().min(), vae.log_rates.detach().exp().max()"
   ]
  },
  {
   "cell_type": "code",
   "execution_count": null,
   "id": "5666582b-a35e-4c4b-a74c-923bd4d93c3c",
   "metadata": {},
   "outputs": [],
   "source": [
    "vae.fc_dec.bias, vae.fc_enc.bias #.shape"
   ]
  },
  {
   "cell_type": "code",
   "execution_count": null,
   "id": "1b2029ff-3331-46e9-a9a1-5fb07d8361b4",
   "metadata": {},
   "outputs": [],
   "source": [
    "fig, ax = create_figure(1, 1, (2.4, 1.6))\n",
    "ax.plot(tr.temperatures, color='k', lw=3)\n",
    "ax.axhline(tr.cfg.temp_start, color='g', ls='--', label=f\"t0 = {tr.cfg.temp_start:0.2g}\")\n",
    "ax.axhline(tr.cfg.temp_stop, color='r', ls='--', label=f\"t1 = {tr.cfg.temp_stop:0.2g}\")\n",
    "ax.legend()\n",
    "plt.show()"
   ]
  },
  {
   "cell_type": "markdown",
   "id": "4eab36f1-b388-4ed3-ae8a-42f406f6a604",
   "metadata": {},
   "source": [
    "## Train"
   ]
  },
  {
   "cell_type": "code",
   "execution_count": null,
   "id": "7e23e577-5ea6-4a3c-86a1-88c3088ebb32",
   "metadata": {},
   "outputs": [],
   "source": [
    "comment = f\"wd-0_{tr.cfg.name()}\"\n",
    "tr.train(comment=comment)"
   ]
  },
  {
   "cell_type": "markdown",
   "id": "40cecfa9-f6e4-4885-b927-3f1ff19df2a4",
   "metadata": {},
   "source": [
    "## Eval"
   ]
  },
  {
   "cell_type": "markdown",
   "id": "b0638740-ff52-49e6-81d7-2bab412f7eb4",
   "metadata": {},
   "source": [
    "### Loss vld (freeze)"
   ]
  },
  {
   "cell_type": "code",
   "execution_count": null,
   "id": "724b2536-abd9-4fe6-a21e-f3c5115e41a9",
   "metadata": {},
   "outputs": [],
   "source": [
    "data, loss, rates = tr.validate(temp=0.0)\n",
    "\n",
    "_loss = {k: v.mean() for k, v in loss.items()}\n",
    "_loss['tot'] = _loss['mse'] + _loss['kl']\n",
    "print(_loss)"
   ]
  },
  {
   "cell_type": "markdown",
   "id": "4cfbee41-1973-4876-b94b-5e3c134c9ebf",
   "metadata": {},
   "source": [
    "### Identify dead neurons"
   ]
  },
  {
   "cell_type": "code",
   "execution_count": null,
   "id": "3bba7f16-7642-4610-b528-c1145d83b85e",
   "metadata": {},
   "outputs": [],
   "source": [
    "dead_thres = 0.003\n",
    "dead = loss['kl_diag'] < dead_thres\n",
    "dead.sum()"
   ]
  },
  {
   "cell_type": "code",
   "execution_count": null,
   "id": "9b0354da-8555-4c39-8f37-f74dd5fe4815",
   "metadata": {},
   "outputs": [],
   "source": [
    "ax = sns.histplot(loss['kl_diag'] * 1000, bins=np.linspace(0, 100, 101))\n",
    "ax.locator_params(axis='x', nbins=15)\n",
    "ax.axvline(dead_thres * 1000, color='r', ls='--', alpha=0.6)\n",
    "plt.show()"
   ]
  },
  {
   "cell_type": "markdown",
   "id": "58219019-e588-4f6b-9215-6a63cf8d1d8f",
   "metadata": {},
   "source": [
    "### Spike counts"
   ]
  },
  {
   "cell_type": "code",
   "execution_count": null,
   "id": "8872c18c-f4f2-4ab4-9e16-de331ce9e838",
   "metadata": {},
   "outputs": [],
   "source": [
    "tot = np.prod(data['z'].shape)\n",
    "portions = data['z'][:, ~dead].ravel().astype(int)\n",
    "portions = collections.Counter(portions)\n",
    "portions = {\n",
    "    k: v / tot for k, v in\n",
    "    portions.most_common()\n",
    "}\n",
    "portions = {\n",
    "    k: np.round(v * 100, 1) for\n",
    "    k, v in portions.items()\n",
    "    if v > 0.005\n",
    "}"
   ]
  },
  {
   "cell_type": "code",
   "execution_count": null,
   "id": "338fadf7-548a-4645-9050-a7bf4a839e09",
   "metadata": {},
   "outputs": [],
   "source": [
    "portions"
   ]
  },
  {
   "cell_type": "code",
   "execution_count": null,
   "id": "cc721141-42f9-48cb-96e9-24618a9fbd2e",
   "metadata": {},
   "outputs": [],
   "source": []
  },
  {
   "cell_type": "code",
   "execution_count": null,
   "id": "159e7adb-4911-40a5-b6a7-ca167ed25a43",
   "metadata": {},
   "outputs": [],
   "source": [
    "fig, ax = create_figure(1, 1, (3.7, 2.8))\n",
    "\n",
    "ax.set(\n",
    "    xlabel='Spike count',\n",
    "    ylabel='Portion [%]',\n",
    "    ylim=(0, (np.ceil(portions[0] / 10) + 1) * 10),\n",
    ")\n",
    "\n",
    "colors = ['tomato' if lbl == 0 else 'dimgrey' for lbl in portions]\n",
    "bars = ax.bar(portions.keys(), portions.values(), color=colors)\n",
    "\n",
    "for bar in bars:\n",
    "    y = bar.get_height()\n",
    "    x = bar.get_x() + 1.3 * bar.get_width() / 2\n",
    "    plt.text(x, y + 1, f'{y:0.1f}%', ha='center', va='bottom')\n",
    "\n",
    "ax.locator_params(axis='x', nbins=len(portions) + 1)\n",
    "ax.locator_params(axis='y', nbins=5)\n",
    "\n",
    "ax.grid()\n",
    "plt.show()"
   ]
  },
  {
   "cell_type": "code",
   "execution_count": null,
   "id": "ab7a1416-70f2-48e6-aacb-30cebe652827",
   "metadata": {},
   "outputs": [],
   "source": []
  },
  {
   "cell_type": "markdown",
   "id": "5ae32ae2-c434-4135-bd5f-960cd3a5abd8",
   "metadata": {},
   "source": [
    "### Cosine sim enc/dec"
   ]
  },
  {
   "cell_type": "code",
   "execution_count": null,
   "id": "ef7569cf-8ed8-4906-8b99-f71926cd808e",
   "metadata": {},
   "outputs": [],
   "source": [
    "with torch.inference_mode():\n",
    "    w_dec = tr.model.fc_dec.weight.detach().data\n",
    "    w_enc = tr.model.fc_enc.weight.detach().data\n",
    "\n",
    "    w_dec = w_dec[:, ~dead]\n",
    "    w_enc = w_enc[~dead]\n",
    "\n",
    "    cos_sim = F.cosine_similarity(w_dec.T, w_enc)\n",
    "    slope = torch.einsum('ic, ci -> c', w_dec, w_enc)\n",
    "    slope /= torch.norm(w_enc, dim=1).pow(2)"
   ]
  },
  {
   "cell_type": "code",
   "execution_count": null,
   "id": "00c3be1c-c0dd-43d0-947e-e11517a4e392",
   "metadata": {},
   "outputs": [],
   "source": [
    "fig, axes = create_figure(1, 2, (7, 2), layout='constrained')\n",
    "\n",
    "sns.histplot(to_np(cos_sim), label='cosine sim', ax=axes[0])\n",
    "sns.histplot(to_np(slope), label='slope', ax=axes[1])\n",
    "\n",
    "_avg = cos_sim.mean().item()\n",
    "axes[0].axvline(_avg, color='r', ls='--', label=f'avg = {_avg:0.3g}')\n",
    "_avg = slope.mean().item()\n",
    "axes[1].axvline(_avg, color='r', ls='--', label=f'avg = {_avg:0.3g}')\n",
    "\n",
    "for ax in axes.flat:\n",
    "    ax.legend()\n",
    "axes[1].set_ylabel('')\n",
    "plt.show()"
   ]
  },
  {
   "cell_type": "markdown",
   "id": "e34b1b18-3a96-41b7-8498-ae17a06dfde9",
   "metadata": {},
   "source": [
    "### Plot enc/dec weights"
   ]
  },
  {
   "cell_type": "code",
   "execution_count": null,
   "id": "ffecf2fa-3924-42f3-8e8a-c797454f058b",
   "metadata": {},
   "outputs": [],
   "source": [
    "w_dec = tr.model.fc_dec.weight.T.reshape(tr.model.shape)\n",
    "w_enc = tr.model.fc_enc.weight.reshape(tr.model.shape)\n",
    "\n",
    "w_dec, w_enc = map(to_np, [w_dec, w_enc])\n",
    "w_dec[dead] = np.nan\n",
    "w_enc[dead] = np.nan\n",
    "\n",
    "r8s = rates['r*dr'].mean(0)\n",
    "w_dec = w_dec[np.argsort(r8s)]\n",
    "w_enc = w_enc[np.argsort(r8s)]\n",
    "\n",
    "grid_dec = make_grid(w_dec, (16, 32))\n",
    "grid_enc = make_grid(w_enc, (16, 32))\n",
    "\n",
    "w_dec.shape, grid_dec.shape"
   ]
  },
  {
   "cell_type": "code",
   "execution_count": null,
   "id": "ea333997-e06e-4634-8a8e-83870771ba33",
   "metadata": {},
   "outputs": [],
   "source": [
    "kws = dict(\n",
    "    vmin=0,\n",
    "    vmax=1,\n",
    "    cmap='Greys_r',\n",
    ")"
   ]
  },
  {
   "cell_type": "code",
   "execution_count": null,
   "id": "192981f5-71c4-4d51-8f06-ac880307229d",
   "metadata": {},
   "outputs": [],
   "source": []
  },
  {
   "cell_type": "code",
   "execution_count": null,
   "id": "8a738621-63af-4d9a-9108-05d4c6fca880",
   "metadata": {},
   "outputs": [],
   "source": [
    "fig, axes = create_figure(1, 2, (11, 3.3), 'all', 'all', layout='constrained')\n",
    "\n",
    "axes[0].imshow(grid_dec, **kws)\n",
    "axes[1].imshow(grid_enc, **kws)\n",
    "axes[0].set_title('Decoder', fontsize=13, y=1.01)\n",
    "axes[1].set_title('Encoder', fontsize=13, y=1.01)\n",
    "remove_ticks(axes)\n",
    "plt.show()"
   ]
  },
  {
   "cell_type": "code",
   "execution_count": null,
   "id": "a4a408c7-4e0f-45c6-8e3d-5abe33a7eefd",
   "metadata": {},
   "outputs": [],
   "source": []
  },
  {
   "cell_type": "code",
   "execution_count": null,
   "id": "f556a3fd-43c0-4254-8631-19726d8fb5bf",
   "metadata": {},
   "outputs": [],
   "source": [
    "fig, ax = create_figure(1, 1, (50, 26), dpi=200)\n",
    "ax.imshow(grid_dec, **kws)\n",
    "ax.set_title('Decoder', fontsize=50, y=1.04)\n",
    "remove_ticks(ax)\n",
    "plt.show()"
   ]
  },
  {
   "cell_type": "code",
   "execution_count": null,
   "id": "84cdd9c3-91f1-4f7e-9828-36d2fed61643",
   "metadata": {},
   "outputs": [],
   "source": []
  },
  {
   "cell_type": "markdown",
   "id": "1329efdf-9ea8-4e58-a3d5-bcccb5d0d990",
   "metadata": {},
   "source": [
    "### make cmap"
   ]
  },
  {
   "cell_type": "code",
   "execution_count": null,
   "id": "7c8a200f-79eb-48fe-a554-6c9690a99ac9",
   "metadata": {},
   "outputs": [],
   "source": [
    "grid_dec = make_grid(w_dec, (16, 32), method='abs-max')\n",
    "grid_enc = make_grid(w_enc, (16, 32), method='abs-max')"
   ]
  },
  {
   "cell_type": "code",
   "execution_count": null,
   "id": "cbb8effe-5ed7-4433-98e4-567d4ee1391d",
   "metadata": {},
   "outputs": [],
   "source": []
  },
  {
   "cell_type": "code",
   "execution_count": null,
   "id": "6bdf0791-f99c-4e64-9fed-f1838af33aff",
   "metadata": {},
   "outputs": [],
   "source": [
    "cmap = make_cmap(\n",
    "    ['#ed3800', '#ff6100', '#ffc8a7',\n",
    "     '#FFFFFF',\n",
    "     '#94d6ff', '#009EFF', '#0762df'],\n",
    "    name='RdOrBu',\n",
    "    n_colors=512,\n",
    ")"
   ]
  },
  {
   "cell_type": "code",
   "execution_count": null,
   "id": "776e510c-3006-4315-957d-340f1af2bea4",
   "metadata": {},
   "outputs": [],
   "source": []
  },
  {
   "cell_type": "code",
   "execution_count": null,
   "id": "76e83627-36e0-4fb3-9e71-0f91b88a54b6",
   "metadata": {},
   "outputs": [],
   "source": [
    "kws = dict(\n",
    "    vmin=-1,\n",
    "    vmax=1,\n",
    "    cmap=cmap, # 'RdBu',\n",
    ")"
   ]
  },
  {
   "cell_type": "code",
   "execution_count": null,
   "id": "2025c7d2-f2f1-41ef-ab33-2960b1f95b93",
   "metadata": {},
   "outputs": [],
   "source": [
    "fig, axes = create_figure(1, 2, (33, 10), 'all', 'all', layout='constrained', dpi=90)\n",
    "\n",
    "axes[0].imshow(grid_dec, **kws)\n",
    "axes[1].imshow(grid_enc, **kws)\n",
    "axes[0].set_title('Decoder', fontsize=20, y=1.02)\n",
    "axes[1].set_title('Encoder', fontsize=20, y=1.02)\n",
    "remove_ticks(axes, False)\n",
    "plt.show()"
   ]
  },
  {
   "cell_type": "code",
   "execution_count": null,
   "id": "101a819b-9621-4237-b5ed-e7814286367e",
   "metadata": {},
   "outputs": [],
   "source": [
    "fig, ax = create_figure(1, 1, (50, 26), dpi=200)\n",
    "ax.imshow(grid_dec, **kws)\n",
    "ax.set_title('Decoder', fontsize=50, y=1.03)\n",
    "remove_ticks(ax, False)\n",
    "plt.show()"
   ]
  },
  {
   "cell_type": "code",
   "execution_count": null,
   "id": "7d96b8ef-8567-4614-a439-a7a28fa7b0c9",
   "metadata": {},
   "outputs": [],
   "source": []
  },
  {
   "cell_type": "markdown",
   "id": "8ea44ee8-6324-44e1-bbb8-84698a732001",
   "metadata": {},
   "source": [
    "### Some more distributions"
   ]
  },
  {
   "cell_type": "code",
   "execution_count": null,
   "id": "e75c6836-298f-4ca8-b811-c98d42816fb3",
   "metadata": {},
   "outputs": [],
   "source": [
    "tr.model.temp, tr.cfg.kl_beta"
   ]
  },
  {
   "cell_type": "code",
   "execution_count": null,
   "id": "dae419f0-624c-4935-a9a1-eb3822676228",
   "metadata": {},
   "outputs": [],
   "source": [
    "r8s = rates['r*dr'].mean(0)\n",
    "\n",
    "fig, axes = create_figure(1, 2, (4, 1.2), sharey='all', layout='constrained')\n",
    "sns.histplot(r8s[~dead], bins=50, ax=axes[0])\n",
    "sns.histplot(r8s[~dead], bins=np.linspace(0, 1, 101), kde=True, ax=axes[1])\n",
    "for ax in axes.flat:\n",
    "    ax.set_ylabel('')\n",
    "plt.show()"
   ]
  },
  {
   "cell_type": "code",
   "execution_count": null,
   "id": "2414d34b-a7cb-47e1-ace8-96585e627167",
   "metadata": {},
   "outputs": [],
   "source": []
  },
  {
   "cell_type": "code",
   "execution_count": null,
   "id": "7fe7cd5b-fac4-49df-9b84-d0d77cd638d3",
   "metadata": {},
   "outputs": [],
   "source": [
    "x2p = rates['r*dr'][:, ~dead].ravel()\n",
    "\n",
    "fig, axes = create_figure(1, 2, (8, 2.5), layout='constrained')\n",
    "sns.histplot(x2p, stat='percent', ax=axes[0])\n",
    "sns.histplot(np.log(x2p), stat='percent', ax=axes[1])\n",
    "axes[1].set_yscale('log')"
   ]
  },
  {
   "cell_type": "code",
   "execution_count": null,
   "id": "9486bf69-423f-430f-83c7-ccb621a57352",
   "metadata": {},
   "outputs": [],
   "source": []
  },
  {
   "cell_type": "code",
   "execution_count": null,
   "id": "56ac86e7-930b-44a8-a57c-f9ab475b4e90",
   "metadata": {},
   "outputs": [],
   "source": []
  },
  {
   "cell_type": "code",
   "execution_count": null,
   "id": "ad066aaa-949f-49c1-952b-2bc9a14d3dbe",
   "metadata": {},
   "outputs": [],
   "source": [
    "data['z'].shape"
   ]
  },
  {
   "cell_type": "code",
   "execution_count": null,
   "id": "1f79188a-0478-4339-ab4d-8e4dc95c6902",
   "metadata": {},
   "outputs": [],
   "source": [
    "plt.plot(data['z'][:100, 2])"
   ]
  },
  {
   "cell_type": "code",
   "execution_count": null,
   "id": "523ed06d-4d42-4abd-8db5-c9d85b55aa10",
   "metadata": {},
   "outputs": [],
   "source": []
  },
  {
   "cell_type": "code",
   "execution_count": null,
   "id": "9b67f744-54af-4ebe-947f-533ac8375299",
   "metadata": {},
   "outputs": [],
   "source": [
    "## TODO: poplation / lifelong sparsity"
   ]
  },
  {
   "cell_type": "code",
   "execution_count": null,
   "id": "ee878ff4-a923-4da5-8498-15b50daf59c5",
   "metadata": {},
   "outputs": [],
   "source": []
  },
  {
   "cell_type": "code",
   "execution_count": null,
   "id": "071324fc-b768-4410-8d0f-dfaeec16f68c",
   "metadata": {},
   "outputs": [],
   "source": []
  },
  {
   "cell_type": "code",
   "execution_count": null,
   "id": "6014b7e0-f3ab-4947-a028-9605dbd34bcc",
   "metadata": {},
   "outputs": [],
   "source": []
  }
 ],
 "metadata": {
  "kernelspec": {
   "display_name": "Python 3 (ipykernel)",
   "language": "python",
   "name": "python3"
  },
  "language_info": {
   "codemirror_mode": {
    "name": "ipython",
    "version": 3
   },
   "file_extension": ".py",
   "mimetype": "text/x-python",
   "name": "python",
   "nbconvert_exporter": "python",
   "pygments_lexer": "ipython3",
   "version": "3.11.7"
  }
 },
 "nbformat": 4,
 "nbformat_minor": 5
}
