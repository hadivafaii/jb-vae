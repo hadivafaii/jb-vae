{
 "cells": [
  {
   "cell_type": "markdown",
   "id": "48f55a35-d5b5-468f-b574-730df61e9609",
   "metadata": {},
   "source": [
    "# (29) Balls dataset\n",
    "\n",
    "**Motivation**: Make balls dataset work (from additive decoder paper). Status: DONE! Saved at ```~/Datasets/BALLS/``` <br>"
   ]
  },
  {
   "cell_type": "code",
   "execution_count": 1,
   "id": "f823b1e9-05f2-49a0-8296-4a1819c12e81",
   "metadata": {
    "tags": [
     "hide-input"
    ]
   },
   "outputs": [],
   "source": [
    "# HIDE CODE\n",
    "\n",
    "\n",
    "import os, sys\n",
    "from IPython.display import display\n",
    "\n",
    "# tmp & extras dir\n",
    "git_dir = os.path.join(os.environ['HOME'], 'Dropbox/git')\n",
    "extras_dir = os.path.join(git_dir, 'jb-vae/_extras')\n",
    "fig_base_dir = os.path.join(git_dir, 'jb-vae/figs')\n",
    "tmp_dir = os.path.join(git_dir, 'jb-vae/tmp')\n",
    "\n",
    "# GitHub\n",
    "sys.path.insert(0, os.path.join(git_dir, '_PoissonVAE'))\n",
    "from analysis.eval import sparse_score\n",
    "from figures.fighelper import *\n",
    "from vae.train_vae import *\n",
    "\n",
    "sys.path.insert(0, os.path.join(git_dir, '[git-cloned]/additive_decoder_extrapolation'))\n",
    "\n",
    "# warnings, tqdm, & style\n",
    "warnings.filterwarnings('ignore', category=DeprecationWarning)\n",
    "from rich.jupyter import print\n",
    "%matplotlib inline\n",
    "set_style()"
   ]
  },
  {
   "cell_type": "code",
   "execution_count": 2,
   "id": "c9ec871a-9ac9-47bc-9bf2-8d4a450dafe5",
   "metadata": {},
   "outputs": [],
   "source": [
    "from base.balls import balls_save_dataset"
   ]
  },
  {
   "cell_type": "markdown",
   "id": "8635d040-369a-4448-bca4-186dbe8e4777",
   "metadata": {},
   "source": [
    "## Save\n",
    "\n",
    "npix = [16, 32, 64]"
   ]
  },
  {
   "cell_type": "code",
   "execution_count": 4,
   "id": "0f9b9b80-50a8-46b3-b5ef-eb64141de821",
   "metadata": {},
   "outputs": [],
   "source": [
    "root = '/home/hadi/Datasets/BALLS'"
   ]
  },
  {
   "cell_type": "code",
   "execution_count": 5,
   "id": "1a063736-24da-497a-a51c-43d42a24811e",
   "metadata": {},
   "outputs": [
    {
     "data": {
      "text/html": [
       "<pre style=\"white-space:pre;overflow-x:auto;line-height:normal;font-family:Menlo,'DejaVu Sans Mono',consolas,'Courier New',monospace\"><span style=\"font-weight: bold\">[</span>PROGRESS<span style=\"font-weight: bold\">]</span> <span style=\"color: #008000; text-decoration-color: #008000\">'z.npy'</span> saved at\n",
       "<span style=\"color: #800080; text-decoration-color: #800080\">/home/hadi/Datasets/BALLS/</span><span style=\"color: #ff00ff; text-decoration-color: #ff00ff\">npix-16</span>\n",
       "</pre>\n"
      ],
      "text/plain": [
       "\u001b[1m[\u001b[0mPROGRESS\u001b[1m]\u001b[0m \u001b[32m'z.npy'\u001b[0m saved at\n",
       "\u001b[35m/home/hadi/Datasets/BALLS/\u001b[0m\u001b[95mnpix-16\u001b[0m\n"
      ]
     },
     "metadata": {},
     "output_type": "display_data"
    },
    {
     "data": {
      "text/html": [
       "<pre style=\"white-space:pre;overflow-x:auto;line-height:normal;font-family:Menlo,'DejaVu Sans Mono',consolas,'Courier New',monospace\"><span style=\"font-weight: bold\">[</span>PROGRESS<span style=\"font-weight: bold\">]</span> <span style=\"color: #008000; text-decoration-color: #008000\">'x.npy'</span> saved at\n",
       "<span style=\"color: #800080; text-decoration-color: #800080\">/home/hadi/Datasets/BALLS/</span><span style=\"color: #ff00ff; text-decoration-color: #ff00ff\">npix-16</span>\n",
       "</pre>\n"
      ],
      "text/plain": [
       "\u001b[1m[\u001b[0mPROGRESS\u001b[1m]\u001b[0m \u001b[32m'x.npy'\u001b[0m saved at\n",
       "\u001b[35m/home/hadi/Datasets/BALLS/\u001b[0m\u001b[95mnpix-16\u001b[0m\n"
      ]
     },
     "metadata": {},
     "output_type": "display_data"
    },
    {
     "data": {
      "text/html": [
       "<pre style=\"white-space:pre;overflow-x:auto;line-height:normal;font-family:Menlo,'DejaVu Sans Mono',consolas,'Courier New',monospace\"><span style=\"font-weight: bold\">[</span>PROGRESS<span style=\"font-weight: bold\">]</span> <span style=\"color: #008000; text-decoration-color: #008000\">'z_tst.npy'</span> saved at\n",
       "<span style=\"color: #800080; text-decoration-color: #800080\">/home/hadi/Datasets/BALLS/</span><span style=\"color: #ff00ff; text-decoration-color: #ff00ff\">npix-16</span>\n",
       "</pre>\n"
      ],
      "text/plain": [
       "\u001b[1m[\u001b[0mPROGRESS\u001b[1m]\u001b[0m \u001b[32m'z_tst.npy'\u001b[0m saved at\n",
       "\u001b[35m/home/hadi/Datasets/BALLS/\u001b[0m\u001b[95mnpix-16\u001b[0m\n"
      ]
     },
     "metadata": {},
     "output_type": "display_data"
    },
    {
     "data": {
      "text/html": [
       "<pre style=\"white-space:pre;overflow-x:auto;line-height:normal;font-family:Menlo,'DejaVu Sans Mono',consolas,'Courier New',monospace\"><span style=\"font-weight: bold\">[</span>PROGRESS<span style=\"font-weight: bold\">]</span> <span style=\"color: #008000; text-decoration-color: #008000\">'x_tst.npy'</span> saved at\n",
       "<span style=\"color: #800080; text-decoration-color: #800080\">/home/hadi/Datasets/BALLS/</span><span style=\"color: #ff00ff; text-decoration-color: #ff00ff\">npix-16</span>\n",
       "</pre>\n"
      ],
      "text/plain": [
       "\u001b[1m[\u001b[0mPROGRESS\u001b[1m]\u001b[0m \u001b[32m'x_tst.npy'\u001b[0m saved at\n",
       "\u001b[35m/home/hadi/Datasets/BALLS/\u001b[0m\u001b[95mnpix-16\u001b[0m\n"
      ]
     },
     "metadata": {},
     "output_type": "display_data"
    },
    {
     "data": {
      "text/html": [
       "<pre style=\"white-space:pre;overflow-x:auto;line-height:normal;font-family:Menlo,'DejaVu Sans Mono',consolas,'Courier New',monospace\"><span style=\"font-weight: bold\">[</span>PROGRESS<span style=\"font-weight: bold\">]</span> <span style=\"color: #008000; text-decoration-color: #008000\">'z.npy'</span> saved at\n",
       "<span style=\"color: #800080; text-decoration-color: #800080\">/home/hadi/Datasets/BALLS/</span><span style=\"color: #ff00ff; text-decoration-color: #ff00ff\">npix-32</span>\n",
       "</pre>\n"
      ],
      "text/plain": [
       "\u001b[1m[\u001b[0mPROGRESS\u001b[1m]\u001b[0m \u001b[32m'z.npy'\u001b[0m saved at\n",
       "\u001b[35m/home/hadi/Datasets/BALLS/\u001b[0m\u001b[95mnpix-32\u001b[0m\n"
      ]
     },
     "metadata": {},
     "output_type": "display_data"
    },
    {
     "data": {
      "text/html": [
       "<pre style=\"white-space:pre;overflow-x:auto;line-height:normal;font-family:Menlo,'DejaVu Sans Mono',consolas,'Courier New',monospace\"><span style=\"font-weight: bold\">[</span>PROGRESS<span style=\"font-weight: bold\">]</span> <span style=\"color: #008000; text-decoration-color: #008000\">'x.npy'</span> saved at\n",
       "<span style=\"color: #800080; text-decoration-color: #800080\">/home/hadi/Datasets/BALLS/</span><span style=\"color: #ff00ff; text-decoration-color: #ff00ff\">npix-32</span>\n",
       "</pre>\n"
      ],
      "text/plain": [
       "\u001b[1m[\u001b[0mPROGRESS\u001b[1m]\u001b[0m \u001b[32m'x.npy'\u001b[0m saved at\n",
       "\u001b[35m/home/hadi/Datasets/BALLS/\u001b[0m\u001b[95mnpix-32\u001b[0m\n"
      ]
     },
     "metadata": {},
     "output_type": "display_data"
    },
    {
     "data": {
      "text/html": [
       "<pre style=\"white-space:pre;overflow-x:auto;line-height:normal;font-family:Menlo,'DejaVu Sans Mono',consolas,'Courier New',monospace\"><span style=\"font-weight: bold\">[</span>PROGRESS<span style=\"font-weight: bold\">]</span> <span style=\"color: #008000; text-decoration-color: #008000\">'z_tst.npy'</span> saved at\n",
       "<span style=\"color: #800080; text-decoration-color: #800080\">/home/hadi/Datasets/BALLS/</span><span style=\"color: #ff00ff; text-decoration-color: #ff00ff\">npix-32</span>\n",
       "</pre>\n"
      ],
      "text/plain": [
       "\u001b[1m[\u001b[0mPROGRESS\u001b[1m]\u001b[0m \u001b[32m'z_tst.npy'\u001b[0m saved at\n",
       "\u001b[35m/home/hadi/Datasets/BALLS/\u001b[0m\u001b[95mnpix-32\u001b[0m\n"
      ]
     },
     "metadata": {},
     "output_type": "display_data"
    },
    {
     "data": {
      "text/html": [
       "<pre style=\"white-space:pre;overflow-x:auto;line-height:normal;font-family:Menlo,'DejaVu Sans Mono',consolas,'Courier New',monospace\"><span style=\"font-weight: bold\">[</span>PROGRESS<span style=\"font-weight: bold\">]</span> <span style=\"color: #008000; text-decoration-color: #008000\">'x_tst.npy'</span> saved at\n",
       "<span style=\"color: #800080; text-decoration-color: #800080\">/home/hadi/Datasets/BALLS/</span><span style=\"color: #ff00ff; text-decoration-color: #ff00ff\">npix-32</span>\n",
       "</pre>\n"
      ],
      "text/plain": [
       "\u001b[1m[\u001b[0mPROGRESS\u001b[1m]\u001b[0m \u001b[32m'x_tst.npy'\u001b[0m saved at\n",
       "\u001b[35m/home/hadi/Datasets/BALLS/\u001b[0m\u001b[95mnpix-32\u001b[0m\n"
      ]
     },
     "metadata": {},
     "output_type": "display_data"
    },
    {
     "data": {
      "text/html": [
       "<pre style=\"white-space:pre;overflow-x:auto;line-height:normal;font-family:Menlo,'DejaVu Sans Mono',consolas,'Courier New',monospace\"><span style=\"font-weight: bold\">[</span>PROGRESS<span style=\"font-weight: bold\">]</span> <span style=\"color: #008000; text-decoration-color: #008000\">'z.npy'</span> saved at\n",
       "<span style=\"color: #800080; text-decoration-color: #800080\">/home/hadi/Datasets/BALLS/</span><span style=\"color: #ff00ff; text-decoration-color: #ff00ff\">npix-64</span>\n",
       "</pre>\n"
      ],
      "text/plain": [
       "\u001b[1m[\u001b[0mPROGRESS\u001b[1m]\u001b[0m \u001b[32m'z.npy'\u001b[0m saved at\n",
       "\u001b[35m/home/hadi/Datasets/BALLS/\u001b[0m\u001b[95mnpix-64\u001b[0m\n"
      ]
     },
     "metadata": {},
     "output_type": "display_data"
    },
    {
     "data": {
      "text/html": [
       "<pre style=\"white-space:pre;overflow-x:auto;line-height:normal;font-family:Menlo,'DejaVu Sans Mono',consolas,'Courier New',monospace\"><span style=\"font-weight: bold\">[</span>PROGRESS<span style=\"font-weight: bold\">]</span> <span style=\"color: #008000; text-decoration-color: #008000\">'x.npy'</span> saved at\n",
       "<span style=\"color: #800080; text-decoration-color: #800080\">/home/hadi/Datasets/BALLS/</span><span style=\"color: #ff00ff; text-decoration-color: #ff00ff\">npix-64</span>\n",
       "</pre>\n"
      ],
      "text/plain": [
       "\u001b[1m[\u001b[0mPROGRESS\u001b[1m]\u001b[0m \u001b[32m'x.npy'\u001b[0m saved at\n",
       "\u001b[35m/home/hadi/Datasets/BALLS/\u001b[0m\u001b[95mnpix-64\u001b[0m\n"
      ]
     },
     "metadata": {},
     "output_type": "display_data"
    },
    {
     "data": {
      "text/html": [
       "<pre style=\"white-space:pre;overflow-x:auto;line-height:normal;font-family:Menlo,'DejaVu Sans Mono',consolas,'Courier New',monospace\"><span style=\"font-weight: bold\">[</span>PROGRESS<span style=\"font-weight: bold\">]</span> <span style=\"color: #008000; text-decoration-color: #008000\">'z_tst.npy'</span> saved at\n",
       "<span style=\"color: #800080; text-decoration-color: #800080\">/home/hadi/Datasets/BALLS/</span><span style=\"color: #ff00ff; text-decoration-color: #ff00ff\">npix-64</span>\n",
       "</pre>\n"
      ],
      "text/plain": [
       "\u001b[1m[\u001b[0mPROGRESS\u001b[1m]\u001b[0m \u001b[32m'z_tst.npy'\u001b[0m saved at\n",
       "\u001b[35m/home/hadi/Datasets/BALLS/\u001b[0m\u001b[95mnpix-64\u001b[0m\n"
      ]
     },
     "metadata": {},
     "output_type": "display_data"
    },
    {
     "data": {
      "text/html": [
       "<pre style=\"white-space:pre;overflow-x:auto;line-height:normal;font-family:Menlo,'DejaVu Sans Mono',consolas,'Courier New',monospace\"><span style=\"font-weight: bold\">[</span>PROGRESS<span style=\"font-weight: bold\">]</span> <span style=\"color: #008000; text-decoration-color: #008000\">'x_tst.npy'</span> saved at\n",
       "<span style=\"color: #800080; text-decoration-color: #800080\">/home/hadi/Datasets/BALLS/</span><span style=\"color: #ff00ff; text-decoration-color: #ff00ff\">npix-64</span>\n",
       "</pre>\n"
      ],
      "text/plain": [
       "\u001b[1m[\u001b[0mPROGRESS\u001b[1m]\u001b[0m \u001b[32m'x_tst.npy'\u001b[0m saved at\n",
       "\u001b[35m/home/hadi/Datasets/BALLS/\u001b[0m\u001b[95mnpix-64\u001b[0m\n"
      ]
     },
     "metadata": {},
     "output_type": "display_data"
    },
    {
     "name": "stdout",
     "output_type": "stream",
     "text": [
      "CPU times: user 30.4 s, sys: 8.03 s, total: 38.4 s\n",
      "Wall time: 38.5 s\n"
     ]
    }
   ],
   "source": [
    "%%time\n",
    "\n",
    "for npix in [16, 32, 64]:\n",
    "    balls_save_dataset(root, npix=npix)"
   ]
  },
  {
   "cell_type": "code",
   "execution_count": null,
   "id": "2d8ad7e3-0bb8-42b4-a598-6d0a6d780304",
   "metadata": {},
   "outputs": [],
   "source": []
  },
  {
   "cell_type": "markdown",
   "id": "df05f909-6819-46f0-b884-f754fb5721bf",
   "metadata": {},
   "source": [
    "## Stuff"
   ]
  },
  {
   "cell_type": "code",
   "execution_count": 73,
   "id": "25d4733a-4f94-40ac-8fe6-4ca8f45631b4",
   "metadata": {},
   "outputs": [],
   "source": [
    "from base.balls import balls_sample_latents, render_imgs"
   ]
  },
  {
   "cell_type": "code",
   "execution_count": 75,
   "id": "ca3efbc7-9acd-423a-a61e-73f4316dc759",
   "metadata": {},
   "outputs": [],
   "source": [
    "npix = 16\n",
    "bounds = (0, 5)\n",
    "trn_size, tst_size = 8000, 5000\n",
    "\n",
    "z, z_tst = balls_sample_latents(trn_size, tst_size, bounds)"
   ]
  },
  {
   "cell_type": "code",
   "execution_count": 76,
   "id": "eb6d87b9-7bc2-4d07-8adc-741ec7a0affc",
   "metadata": {},
   "outputs": [],
   "source": [
    "x_tst = render_imgs(z_tst, npix, bounds)"
   ]
  },
  {
   "cell_type": "code",
   "execution_count": 78,
   "id": "da3d3d6d-f152-41b1-9d26-e123ae08f3ac",
   "metadata": {},
   "outputs": [
    {
     "data": {
      "text/plain": [
       "<matplotlib.image.AxesImage at 0x7f9bae856450>"
      ]
     },
     "execution_count": 78,
     "metadata": {},
     "output_type": "execute_result"
    },
    {
     "data": {
      "image/png": "[encoded data removed]",
      "text/plain": [
       "<Figure size 500x320 with 1 Axes>"
      ]
     },
     "metadata": {},
     "output_type": "display_data"
    }
   ],
   "source": [
    "plt.imshow(x_tst[8])"
   ]
  },
  {
   "cell_type": "code",
   "execution_count": null,
   "id": "9347a56f-442d-43db-833c-9997a52f9f93",
   "metadata": {},
   "outputs": [],
   "source": []
  },
  {
   "cell_type": "code",
   "execution_count": null,
   "id": "7af08078-5a79-4df5-8f47-cad86ed862fd",
   "metadata": {},
   "outputs": [],
   "source": []
  },
  {
   "cell_type": "code",
   "execution_count": 56,
   "id": "32a85c44-b1bf-44f6-b1ce-3c643f411256",
   "metadata": {},
   "outputs": [],
   "source": [
    "\n",
    "def render_imgs(\n",
    "\t\tz: np.ndarray,\n",
    "\t\tnpix: int = 64,\n",
    "\t\tbounds: Tuple[float, float] = (0, 5), t: float = 1.0):\n",
    "\txx, yy = np.meshgrid(\n",
    "\t\tnp.linspace(*bounds, npix),\n",
    "\t\tnp.linspace(*bounds, npix),\n",
    "\t)\n",
    "\tx1, y1, x2, y2 = z.T\n",
    "\tb1 = bump2d(x1, y1, xx, yy, t=t)\n",
    "\tb2 = bump2d(x2, y2, xx, yy, t=t)\n",
    "\treturn b1 + b2\n",
    "\n",
    "\n",
    "def bump2d(x, y, xx, yy, t=1):\n",
    "\tx = np.reshape(x, (-1, 1, 1))\n",
    "\ty = np.reshape(y, (-1, 1, 1))\n",
    "\n",
    "\tr2 = (x - xx) ** 2 + (y - yy) ** 2\n",
    "\tr2 = np.clip(r2, None, 0.999)\n",
    "\n",
    "\tcond = np.sqrt(r2) < 1\n",
    "\tval = np.exp(t - t / (1 - r2))\n",
    "\n",
    "\treturn np.where(cond, val, 0)"
   ]
  },
  {
   "cell_type": "code",
   "execution_count": null,
   "id": "ba7bf13b-0914-4a8b-9f59-69e826b455ce",
   "metadata": {},
   "outputs": [],
   "source": []
  },
  {
   "cell_type": "code",
   "execution_count": 57,
   "id": "735ed368-739c-4cb5-be90-de479f93058c",
   "metadata": {},
   "outputs": [],
   "source": [
    "# x_tst = render_imgs(z_tst, npix, bounds)\n",
    "\n",
    "temp = 1\n",
    "\n",
    ", t=temp)"
   ]
  },
  {
   "cell_type": "code",
   "execution_count": 72,
   "id": "c7d0962a-bc2c-4eb1-a5d3-68dfa650b921",
   "metadata": {},
   "outputs": [
    {
     "data": {
      "image/png": "[encoded data removed]",
      "text/plain": [
       "<Figure size 500x320 with 2 Axes>"
      ]
     },
     "metadata": {},
     "output_type": "display_data"
    }
   ],
   "source": [
    "fig, ax = create_figure()\n",
    "im = ax.imshow(x_tst[18])\n",
    "plt.colorbar(im, ax=ax)\n",
    "plt.show()"
   ]
  },
  {
   "cell_type": "code",
   "execution_count": null,
   "id": "27470920-3f47-4a94-84b7-ce99f144fdc8",
   "metadata": {},
   "outputs": [],
   "source": []
  },
  {
   "cell_type": "code",
   "execution_count": null,
   "id": "8bf99733-32dc-48f0-a036-80005dcac620",
   "metadata": {},
   "outputs": [],
   "source": []
  },
  {
   "cell_type": "code",
   "execution_count": null,
   "id": "c36f8302-2242-4e0e-bb03-c1e0965c1234",
   "metadata": {},
   "outputs": [],
   "source": []
  },
  {
   "cell_type": "code",
   "execution_count": null,
   "id": "141ae22f-6a34-488c-b626-2378224fbf50",
   "metadata": {},
   "outputs": [],
   "source": []
  },
  {
   "cell_type": "code",
   "execution_count": null,
   "id": "0adff303-fcba-492d-97e5-2610a498369d",
   "metadata": {},
   "outputs": [],
   "source": []
  },
  {
   "cell_type": "markdown",
   "id": "df8701f6-1fd6-4450-bda2-006fa78047ff",
   "metadata": {},
   "source": [
    "## npix = 64"
   ]
  },
  {
   "cell_type": "code",
   "execution_count": 2,
   "id": "5190e04c-aa58-401f-a18c-baaf441d2baa",
   "metadata": {},
   "outputs": [],
   "source": [
    "from base.balls import balls_save_dataset"
   ]
  },
  {
   "cell_type": "code",
   "execution_count": 3,
   "id": "e7c83dbe-d9d5-4e3c-809f-38e174267209",
   "metadata": {},
   "outputs": [
    {
     "data": {
      "text/plain": [
       "[]"
      ]
     },
     "execution_count": 3,
     "metadata": {},
     "output_type": "execute_result"
    }
   ],
   "source": [
    "save_dir = '/home/hadi/Datasets/BALLS'\n",
    "os.listdir(save_dir)"
   ]
  },
  {
   "cell_type": "code",
   "execution_count": 4,
   "id": "ca014e47-a4d0-4455-a88c-c414789465d8",
   "metadata": {},
   "outputs": [
    {
     "data": {
      "text/html": [
       "<pre style=\"white-space:pre;overflow-x:auto;line-height:normal;font-family:Menlo,'DejaVu Sans Mono',consolas,'Courier New',monospace\"><span style=\"font-weight: bold\">[</span>PROGRESS<span style=\"font-weight: bold\">]</span> <span style=\"color: #008000; text-decoration-color: #008000\">'z.npy'</span> saved at\n",
       "<span style=\"color: #800080; text-decoration-color: #800080\">/home/hadi/Datasets/</span><span style=\"color: #ff00ff; text-decoration-color: #ff00ff\">BALLS</span>\n",
       "</pre>\n"
      ],
      "text/plain": [
       "\u001b[1m[\u001b[0mPROGRESS\u001b[1m]\u001b[0m \u001b[32m'z.npy'\u001b[0m saved at\n",
       "\u001b[35m/home/hadi/Datasets/\u001b[0m\u001b[95mBALLS\u001b[0m\n"
      ]
     },
     "metadata": {},
     "output_type": "display_data"
    },
    {
     "data": {
      "text/html": [
       "<pre style=\"white-space:pre;overflow-x:auto;line-height:normal;font-family:Menlo,'DejaVu Sans Mono',consolas,'Courier New',monospace\"><span style=\"font-weight: bold\">[</span>PROGRESS<span style=\"font-weight: bold\">]</span> <span style=\"color: #008000; text-decoration-color: #008000\">'x.npy'</span> saved at\n",
       "<span style=\"color: #800080; text-decoration-color: #800080\">/home/hadi/Datasets/</span><span style=\"color: #ff00ff; text-decoration-color: #ff00ff\">BALLS</span>\n",
       "</pre>\n"
      ],
      "text/plain": [
       "\u001b[1m[\u001b[0mPROGRESS\u001b[1m]\u001b[0m \u001b[32m'x.npy'\u001b[0m saved at\n",
       "\u001b[35m/home/hadi/Datasets/\u001b[0m\u001b[95mBALLS\u001b[0m\n"
      ]
     },
     "metadata": {},
     "output_type": "display_data"
    },
    {
     "data": {
      "text/html": [
       "<pre style=\"white-space:pre;overflow-x:auto;line-height:normal;font-family:Menlo,'DejaVu Sans Mono',consolas,'Courier New',monospace\"><span style=\"font-weight: bold\">[</span>PROGRESS<span style=\"font-weight: bold\">]</span> <span style=\"color: #008000; text-decoration-color: #008000\">'z_tst.npy'</span> saved at\n",
       "<span style=\"color: #800080; text-decoration-color: #800080\">/home/hadi/Datasets/</span><span style=\"color: #ff00ff; text-decoration-color: #ff00ff\">BALLS</span>\n",
       "</pre>\n"
      ],
      "text/plain": [
       "\u001b[1m[\u001b[0mPROGRESS\u001b[1m]\u001b[0m \u001b[32m'z_tst.npy'\u001b[0m saved at\n",
       "\u001b[35m/home/hadi/Datasets/\u001b[0m\u001b[95mBALLS\u001b[0m\n"
      ]
     },
     "metadata": {},
     "output_type": "display_data"
    },
    {
     "data": {
      "text/html": [
       "<pre style=\"white-space:pre;overflow-x:auto;line-height:normal;font-family:Menlo,'DejaVu Sans Mono',consolas,'Courier New',monospace\"><span style=\"font-weight: bold\">[</span>PROGRESS<span style=\"font-weight: bold\">]</span> <span style=\"color: #008000; text-decoration-color: #008000\">'x_tst.npy'</span> saved at\n",
       "<span style=\"color: #800080; text-decoration-color: #800080\">/home/hadi/Datasets/</span><span style=\"color: #ff00ff; text-decoration-color: #ff00ff\">BALLS</span>\n",
       "</pre>\n"
      ],
      "text/plain": [
       "\u001b[1m[\u001b[0mPROGRESS\u001b[1m]\u001b[0m \u001b[32m'x_tst.npy'\u001b[0m saved at\n",
       "\u001b[35m/home/hadi/Datasets/\u001b[0m\u001b[95mBALLS\u001b[0m\n"
      ]
     },
     "metadata": {},
     "output_type": "display_data"
    },
    {
     "name": "stdout",
     "output_type": "stream",
     "text": [
      "CPU times: user 22.2 s, sys: 5.86 s, total: 28 s\n",
      "Wall time: 28.1 s\n"
     ]
    }
   ],
   "source": [
    "%%time\n",
    "\n",
    "balls_save_dataset(save_dir)"
   ]
  },
  {
   "cell_type": "code",
   "execution_count": null,
   "id": "5d65c347-a01d-49ce-a0fa-c6df8f2c9911",
   "metadata": {},
   "outputs": [],
   "source": []
  },
  {
   "cell_type": "code",
   "execution_count": 5,
   "id": "a1e64df0-97b0-48d5-9bdb-e52339c66cf1",
   "metadata": {},
   "outputs": [],
   "source": [
    "from base.dataset import make_dataset"
   ]
  },
  {
   "cell_type": "code",
   "execution_count": 7,
   "id": "8e61cc79-271e-4ad2-856b-44953f8d6ee6",
   "metadata": {},
   "outputs": [],
   "source": [
    "trn, vld, tst = make_dataset('BALLS', '/home/hadi/Datasets', device=torch.device('cuda:1'))"
   ]
  },
  {
   "cell_type": "code",
   "execution_count": 12,
   "id": "7dad4f89-4db0-4a96-8021-a74c2e35929c",
   "metadata": {},
   "outputs": [
    {
     "data": {
      "text/plain": [
       "(torch.Size([60000, 64, 64]), torch.Size([60000, 4]))"
      ]
     },
     "execution_count": 12,
     "metadata": {},
     "output_type": "execute_result"
    }
   ],
   "source": [
    "trn.tensors[0].shape, trn.tensors[1].shape"
   ]
  },
  {
   "cell_type": "code",
   "execution_count": 13,
   "id": "2d6f8820-5fd1-402c-bb8b-01d35b68380c",
   "metadata": {},
   "outputs": [
    {
     "data": {
      "text/plain": [
       "(torch.Size([20000, 64, 64]), torch.Size([20000, 4]))"
      ]
     },
     "execution_count": 13,
     "metadata": {},
     "output_type": "execute_result"
    }
   ],
   "source": [
    "vld.tensors[0].shape, vld.tensors[1].shape"
   ]
  },
  {
   "cell_type": "code",
   "execution_count": 14,
   "id": "8b530c26-e3c4-47f4-9524-5ef42e922402",
   "metadata": {},
   "outputs": [
    {
     "data": {
      "text/plain": [
       "(torch.Size([50000, 64, 64]), torch.Size([50000, 4]))"
      ]
     },
     "execution_count": 14,
     "metadata": {},
     "output_type": "execute_result"
    }
   ],
   "source": [
    "tst.tensors[0].shape, tst.tensors[1].shape"
   ]
  },
  {
   "cell_type": "code",
   "execution_count": null,
   "id": "62f7b41b-639e-4356-a5bb-561e82951a78",
   "metadata": {},
   "outputs": [],
   "source": []
  },
  {
   "cell_type": "code",
   "execution_count": 15,
   "id": "f81cc1c2-7543-4a65-a8e6-0d98d2a3fb71",
   "metadata": {},
   "outputs": [
    {
     "data": {
      "image/png": "[encoded data removed]",
      "text/plain": [
       "<Figure size 500x320 with 1 Axes>"
      ]
     },
     "metadata": {},
     "output_type": "display_data"
    }
   ],
   "source": [
    "plt.imshow(to_np(tst.tensors[0][16]), cmap='Greys');"
   ]
  },
  {
   "cell_type": "code",
   "execution_count": 16,
   "id": "ac7069eb-a666-42fc-943f-3d31c80af6db",
   "metadata": {},
   "outputs": [
    {
     "data": {
      "text/plain": [
       "tensor([1.2500, 4.6579, 3.7500, 3.4557], device='cuda:1')"
      ]
     },
     "execution_count": 16,
     "metadata": {},
     "output_type": "execute_result"
    }
   ],
   "source": [
    "tst.tensors[1][16]"
   ]
  },
  {
   "cell_type": "code",
   "execution_count": null,
   "id": "95ede4a1-c97e-4294-ad45-2d8f301f2970",
   "metadata": {},
   "outputs": [],
   "source": []
  },
  {
   "cell_type": "code",
   "execution_count": null,
   "id": "2ca92130-b02a-4a72-b20b-e180445691d9",
   "metadata": {},
   "outputs": [],
   "source": []
  },
  {
   "cell_type": "code",
   "execution_count": 5,
   "id": "80ebf350-d357-4dec-92fb-0e73ce0ac2b8",
   "metadata": {},
   "outputs": [],
   "source": [
    "from base.balls import balls_sample_latents, render_imgs, bump2d"
   ]
  },
  {
   "cell_type": "code",
   "execution_count": 7,
   "id": "9153c661-729e-4d28-98ed-d2cbb0cd7767",
   "metadata": {},
   "outputs": [
    {
     "data": {
      "text/plain": [
       "(50000, 4)"
      ]
     },
     "execution_count": 7,
     "metadata": {},
     "output_type": "execute_result"
    }
   ],
   "source": [
    "z_trn, z_tst = balls_sample_latents()\n",
    "z_tst.shape"
   ]
  },
  {
   "cell_type": "code",
   "execution_count": 8,
   "id": "66313b6c-3806-4dc0-97b2-bf160eba3b6d",
   "metadata": {},
   "outputs": [
    {
     "data": {
      "text/plain": [
       "(50000, 64, 64)"
      ]
     },
     "execution_count": 8,
     "metadata": {},
     "output_type": "execute_result"
    }
   ],
   "source": [
    "imgs = render_imgs(z_tst)\n",
    "imgs.shape"
   ]
  },
  {
   "cell_type": "code",
   "execution_count": 9,
   "id": "863eb17a-6616-4300-ab64-8a8ddd0e0356",
   "metadata": {},
   "outputs": [
    {
     "data": {
      "image/png": "[encoded data removed]",
      "text/plain": [
       "<Figure size 500x320 with 1 Axes>"
      ]
     },
     "metadata": {},
     "output_type": "display_data"
    }
   ],
   "source": [
    "plt.imshow(imgs[16], cmap='Greys');"
   ]
  },
  {
   "cell_type": "code",
   "execution_count": null,
   "id": "17a9ed04-d911-409b-b768-cb26f01eb65a",
   "metadata": {},
   "outputs": [],
   "source": []
  },
  {
   "cell_type": "code",
   "execution_count": 11,
   "id": "1adce96f-685c-4012-834c-c0119f0f1031",
   "metadata": {},
   "outputs": [
    {
     "data": {
      "text/plain": [
       "(80000, 4)"
      ]
     },
     "execution_count": 11,
     "metadata": {},
     "output_type": "execute_result"
    }
   ],
   "source": [
    "z_trn.shape"
   ]
  },
  {
   "cell_type": "code",
   "execution_count": 12,
   "id": "90a082bd-933d-413b-91fd-929eb0e88b82",
   "metadata": {},
   "outputs": [
    {
     "data": {
      "image/png": "[encoded data removed]",
      "text/plain": [
       "<Figure size 500x320 with 1 Axes>"
      ]
     },
     "metadata": {},
     "output_type": "display_data"
    }
   ],
   "source": [
    "sns.histplot(z_trn[:, 1]);"
   ]
  },
  {
   "cell_type": "code",
   "execution_count": 15,
   "id": "30f03a51-4f56-40fd-a509-6dbb9b592192",
   "metadata": {},
   "outputs": [
    {
     "data": {
      "image/png": "[encoded data removed]",
      "text/plain": [
       "<Figure size 500x320 with 1 Axes>"
      ]
     },
     "metadata": {},
     "output_type": "display_data"
    }
   ],
   "source": [
    "sns.histplot(z_trn[:, 1][:60000]);"
   ]
  },
  {
   "cell_type": "code",
   "execution_count": 16,
   "id": "0e4aa0d6-1bdb-4f59-a271-0c12de54f737",
   "metadata": {},
   "outputs": [
    {
     "data": {
      "image/png": "[encoded data removed]",
      "text/plain": [
       "<Figure size 500x320 with 1 Axes>"
      ]
     },
     "metadata": {},
     "output_type": "display_data"
    }
   ],
   "source": [
    "sns.histplot(z_trn[:, 1][60000:]);"
   ]
  },
  {
   "cell_type": "code",
   "execution_count": null,
   "id": "ecb555b2-eff0-44f8-880d-f6a23c1ca810",
   "metadata": {},
   "outputs": [],
   "source": []
  },
  {
   "cell_type": "code",
   "execution_count": 17,
   "id": "c5715795-2616-4549-a913-f3bfba03c47e",
   "metadata": {},
   "outputs": [
    {
     "data": {
      "text/plain": [
       "(80000, 4)"
      ]
     },
     "execution_count": 17,
     "metadata": {},
     "output_type": "execute_result"
    }
   ],
   "source": [
    "z_trn.shape"
   ]
  },
  {
   "cell_type": "code",
   "execution_count": 33,
   "id": "02503e2a-f913-4391-bddb-56b148b672bb",
   "metadata": {},
   "outputs": [],
   "source": [
    "dl = torch.utils.data.DataLoader(None)"
   ]
  },
  {
   "cell_type": "code",
   "execution_count": null,
   "id": "005bafa6-9b32-443f-8c83-1d3eed1a2d88",
   "metadata": {},
   "outputs": [],
   "source": []
  },
  {
   "cell_type": "code",
   "execution_count": null,
   "id": "cb854782-6463-4aaf-a077-03228546da37",
   "metadata": {},
   "outputs": [],
   "source": []
  },
  {
   "cell_type": "code",
   "execution_count": null,
   "id": "c51297b1-7ed8-458c-bf6a-597367529afb",
   "metadata": {},
   "outputs": [],
   "source": []
  },
  {
   "cell_type": "code",
   "execution_count": null,
   "id": "1390b29d-719e-4da3-8a12-18d76b2211c6",
   "metadata": {},
   "outputs": [],
   "source": []
  },
  {
   "cell_type": "code",
   "execution_count": 13,
   "id": "c6b86a13-aa3b-4d52-ba2c-c273a4b9eabe",
   "metadata": {},
   "outputs": [
    {
     "data": {
      "text/plain": [
       "(0.0, 0.9996062465097197)"
      ]
     },
     "execution_count": 13,
     "metadata": {},
     "output_type": "execute_result"
    }
   ],
   "source": [
    "np.min(imgs), np.max(imgs)"
   ]
  },
  {
   "cell_type": "code",
   "execution_count": 14,
   "id": "58596ef0-380b-4207-b910-c95805f32d7d",
   "metadata": {},
   "outputs": [
    {
     "data": {
      "image/png": "[encoded data removed]",
      "text/plain": [
       "<Figure size 500x320 with 1 Axes>"
      ]
     },
     "metadata": {},
     "output_type": "display_data"
    }
   ],
   "source": [
    "sns.histplot(imgs[imgs.nonzero()], bins=np.linspace(0, 1, 101), stat='percent');"
   ]
  },
  {
   "cell_type": "code",
   "execution_count": null,
   "id": "e2bd35cf-6fa1-4769-b81b-e70a1d4df0a2",
   "metadata": {},
   "outputs": [],
   "source": []
  },
  {
   "cell_type": "code",
   "execution_count": 249,
   "id": "289cc825-3055-4978-9682-4dae93ba4ad8",
   "metadata": {},
   "outputs": [],
   "source": [
    "def sample_L_distribution():\n",
    "    x1 = 5 * 0.25\n",
    "    x2 = 5 * 0.75\n",
    "\n",
    "    # rejection sampling\n",
    "    while True:\n",
    "        y1 = RNG.uniform(0, 5)\n",
    "        y2 = RNG.uniform(0, 5)\n",
    "\n",
    "        if y1 <= 2.5 or y2 <= 2.5:\n",
    "            img = render_img(x1, 5 - y1, x2, 5 - y2)\n",
    "            z = np.array([x1, y1, x2, y2])\n",
    "            return img, z"
   ]
  },
  {
   "cell_type": "code",
   "execution_count": 250,
   "id": "02ee32c0-6a34-4205-bf47-63f3271b65d0",
   "metadata": {},
   "outputs": [
    {
     "data": {
      "image/png": "[encoded data removed]",
      "text/plain": [
       "<Figure size 500x320 with 1 Axes>"
      ]
     },
     "metadata": {},
     "output_type": "display_data"
    }
   ],
   "source": [
    "img, z = sample_L_distribution()\n",
    "\n",
    "fig, ax = create_figure()\n",
    "ax.imshow(img)\n",
    "ax.invert_yaxis()\n",
    "plt.show()"
   ]
  },
  {
   "cell_type": "code",
   "execution_count": 251,
   "id": "86edf673-e5a2-4ef4-9599-8f8ce476e13d",
   "metadata": {},
   "outputs": [
    {
     "data": {
      "text/plain": [
       "(64, 64, 3)"
      ]
     },
     "execution_count": 251,
     "metadata": {},
     "output_type": "execute_result"
    }
   ],
   "source": [
    "img.shape"
   ]
  },
  {
   "cell_type": "code",
   "execution_count": null,
   "id": "05dea49c-eb45-4c10-8f24-5fd545018526",
   "metadata": {},
   "outputs": [],
   "source": []
  },
  {
   "cell_type": "code",
   "execution_count": 252,
   "id": "f2d888a6-5489-4540-8cd7-58e3e3371ced",
   "metadata": {},
   "outputs": [],
   "source": [
    "img_all, z_all = [], []\n",
    "for _ in range(1000):\n",
    "    img, z = sample_L_distribution()\n",
    "    img_all.append(img)\n",
    "    z_all.append(z)\n",
    "\n",
    "img_all = np.stack(img_all)\n",
    "z_all = np.stack(z_all)"
   ]
  },
  {
   "cell_type": "code",
   "execution_count": 253,
   "id": "05c79ca1-ed45-4f37-bf4e-6f52a57a7fb2",
   "metadata": {},
   "outputs": [
    {
     "data": {
      "text/plain": [
       "(1000, 64, 64, 3)"
      ]
     },
     "execution_count": 253,
     "metadata": {},
     "output_type": "execute_result"
    }
   ],
   "source": [
    "img_all.shape"
   ]
  },
  {
   "cell_type": "code",
   "execution_count": 254,
   "id": "70bdeb40-5935-4241-85c0-3f0bea97b2f9",
   "metadata": {},
   "outputs": [],
   "source": [
    "img_avg = np.linalg.norm(img_all, axis=(0, -1))\n",
    "img_avg /= img_avg.std()"
   ]
  },
  {
   "cell_type": "code",
   "execution_count": 255,
   "id": "fe5bedbb-2c46-4474-af5c-1bf833fc41e6",
   "metadata": {},
   "outputs": [
    {
     "data": {
      "text/plain": [
       "<matplotlib.image.AxesImage at 0x7f3a38d8b450>"
      ]
     },
     "execution_count": 255,
     "metadata": {},
     "output_type": "execute_result"
    },
    {
     "data": {
      "image/png": "[encoded data removed]",
      "text/plain": [
       "<Figure size 500x320 with 1 Axes>"
      ]
     },
     "metadata": {},
     "output_type": "display_data"
    }
   ],
   "source": [
    "plt.imshow(img_avg)"
   ]
  },
  {
   "cell_type": "code",
   "execution_count": null,
   "id": "dd2247dc-957d-4567-93a1-3bff77178f5b",
   "metadata": {},
   "outputs": [],
   "source": []
  },
  {
   "cell_type": "code",
   "execution_count": null,
   "id": "86a162c2-83d0-42d9-bb4b-187dc647fae1",
   "metadata": {},
   "outputs": [],
   "source": []
  },
  {
   "cell_type": "code",
   "execution_count": 230,
   "id": "ee807924-c494-436b-bfd7-a483418d59a5",
   "metadata": {},
   "outputs": [
    {
     "data": {
      "text/plain": [
       "<Axes: ylabel='Count'>"
      ]
     },
     "execution_count": 230,
     "metadata": {},
     "output_type": "execute_result"
    },
    {
     "data": {
      "image/png": "[encoded data removed]",
      "text/plain": [
       "<Figure size 500x320 with 1 Axes>"
      ]
     },
     "metadata": {},
     "output_type": "display_data"
    }
   ],
   "source": [
    "sns.histplot(z_all[:, 3])"
   ]
  },
  {
   "cell_type": "code",
   "execution_count": 231,
   "id": "b1e611d0-06ce-4b68-99f4-7f2251b67ff4",
   "metadata": {},
   "outputs": [
    {
     "data": {
      "text/plain": [
       "<Axes: ylabel='Count'>"
      ]
     },
     "execution_count": 231,
     "metadata": {},
     "output_type": "execute_result"
    },
    {
     "data": {
      "image/png": "[encoded data removed]",
      "text/plain": [
       "<Figure size 500x320 with 1 Axes>"
      ]
     },
     "metadata": {},
     "output_type": "display_data"
    }
   ],
   "source": [
    "sns.histplot(z_all[:, 1])"
   ]
  },
  {
   "cell_type": "code",
   "execution_count": null,
   "id": "c56f167c-16d9-432a-8b29-b2ade37374bf",
   "metadata": {},
   "outputs": [],
   "source": []
  },
  {
   "cell_type": "code",
   "execution_count": null,
   "id": "2c02db77-ef8c-4814-8d91-57445d233b5b",
   "metadata": {},
   "outputs": [],
   "source": []
  },
  {
   "cell_type": "code",
   "execution_count": 125,
   "id": "3004e266-f399-499a-b2c8-8eb03edf1d22",
   "metadata": {},
   "outputs": [
    {
     "data": {
      "image/png": "[encoded data removed]",
      "text/plain": [
       "<Figure size 500x320 with 1 Axes>"
      ]
     },
     "metadata": {},
     "output_type": "display_data"
    }
   ],
   "source": []
  },
  {
   "cell_type": "code",
   "execution_count": 114,
   "id": "33be2912-2907-48d0-83b4-ee480a4125ee",
   "metadata": {},
   "outputs": [
    {
     "data": {
      "image/png": "[encoded data removed]",
      "text/plain": [
       "<Figure size 500x320 with 1 Axes>"
      ]
     },
     "metadata": {},
     "output_type": "display_data"
    }
   ],
   "source": [
    "sns.histplot(img.ravel());"
   ]
  },
  {
   "cell_type": "code",
   "execution_count": null,
   "id": "fdbfc798-9f44-459f-a131-218d1505e388",
   "metadata": {},
   "outputs": [],
   "source": []
  },
  {
   "cell_type": "code",
   "execution_count": null,
   "id": "7dfc7564-270d-47af-a160-06535c8fdf76",
   "metadata": {},
   "outputs": [],
   "source": []
  },
  {
   "cell_type": "markdown",
   "id": "22c44579-5476-4c7c-83c9-b2f117ca49a9",
   "metadata": {},
   "source": [
    "## Why correlated?"
   ]
  },
  {
   "cell_type": "code",
   "execution_count": 7,
   "id": "e1a79245-64e6-4ede-bfbe-68aec88086d0",
   "metadata": {},
   "outputs": [],
   "source": [
    "rng = get_rng(0)\n",
    "\n",
    "def sample_L_distribution():\n",
    "    # rejection sampling\n",
    "    while True:\n",
    "        y1 = rng.uniform(0, 5)\n",
    "        y2 = rng.uniform(0, 5)\n",
    "        x1= 5*0.25\n",
    "        x2= 5*0.75\n",
    "        if y1 <= 2.5 or y2 <= 2.5:\n",
    "            return y1, y2"
   ]
  },
  {
   "cell_type": "code",
   "execution_count": 8,
   "id": "16b81f19-ff03-4be4-b798-365e6bd2ada3",
   "metadata": {},
   "outputs": [],
   "source": [
    "y1_all, y2_all = [], []\n",
    "for _ in range(50000):\n",
    "    y1, y2 = sample_L_distribution()\n",
    "    y1_all.append(y1)\n",
    "    y2_all.append(y2)"
   ]
  },
  {
   "cell_type": "code",
   "execution_count": 9,
   "id": "a00987bd-9672-4fb6-b0c5-31654ba39cbf",
   "metadata": {},
   "outputs": [
    {
     "data": {
      "text/plain": [
       "PearsonRResult(statistic=-0.36057968317610867, pvalue=0.0)"
      ]
     },
     "execution_count": 9,
     "metadata": {},
     "output_type": "execute_result"
    }
   ],
   "source": [
    "sp_stats.pearsonr(y1_all, y2_all)"
   ]
  },
  {
   "cell_type": "code",
   "execution_count": null,
   "id": "435c6376-6385-4afd-9e57-7126f6dd4746",
   "metadata": {},
   "outputs": [],
   "source": []
  },
  {
   "cell_type": "code",
   "execution_count": null,
   "id": "1301a091-51a3-4521-84b4-2ab343b64e2e",
   "metadata": {},
   "outputs": [],
   "source": []
  },
  {
   "cell_type": "code",
   "execution_count": null,
   "id": "c9838129-25a8-4d3e-bed6-2f183e23e488",
   "metadata": {},
   "outputs": [],
   "source": []
  }
 ],
 "metadata": {
  "kernelspec": {
   "display_name": "Python 3 (ipykernel)",
   "language": "python",
   "name": "python3"
  },
  "language_info": {
   "codemirror_mode": {
    "name": "ipython",
    "version": 3
   },
   "file_extension": ".py",
   "mimetype": "text/x-python",
   "name": "python",
   "nbconvert_exporter": "python",
   "pygments_lexer": "ipython3",
   "version": "3.11.8"
  }
 },
 "nbformat": 4,
 "nbformat_minor": 5
}
