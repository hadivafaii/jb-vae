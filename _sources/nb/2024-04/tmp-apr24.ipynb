{
 "cells": [
  {
   "cell_type": "markdown",
   "id": "6c0cb91c",
   "metadata": {},
   "source": [
    "# tmp — apr24\n",
    "\n",
    "**Motivation**: scratch notebook <br>"
   ]
  },
  {
   "cell_type": "code",
   "execution_count": 1,
   "id": "b12d2b0a",
   "metadata": {},
   "outputs": [],
   "source": [
    "# HIDE CODE\n",
    "\n",
    "\n",
    "import os, sys\n",
    "from IPython.display import display\n",
    "\n",
    "# tmp & extras dir\n",
    "git_dir = os.path.join(os.environ['HOME'], 'Dropbox/git')\n",
    "extras_dir = os.path.join(git_dir, 'jb-vae/_extras')\n",
    "fig_base_dir = os.path.join(git_dir, 'jb-vae/figs')\n",
    "tmp_dir = os.path.join(git_dir, 'jb-vae/tmp')\n",
    "\n",
    "# GitHub\n",
    "sys.path.insert(0, os.path.join(git_dir, '_PoissonVAE'))\n",
    "from figures.fighelper import *\n",
    "from vae.train_vae import *\n",
    "\n",
    "# warnings, tqdm, & style\n",
    "warnings.filterwarnings('ignore', category=DeprecationWarning)\n",
    "from rich.jupyter import print\n",
    "%matplotlib inline\n",
    "set_style()"
   ]
  },
  {
   "cell_type": "code",
   "execution_count": null,
   "id": "cbf76175-ed26-4618-af19-3249b0c788fd",
   "metadata": {},
   "outputs": [],
   "source": []
  },
  {
   "cell_type": "code",
   "execution_count": 2,
   "id": "67a2c94e-6eec-4d1e-b22d-4d659aebb0a9",
   "metadata": {},
   "outputs": [
    {
     "data": {
      "text/html": [
       "<pre style=\"white-space:pre;overflow-x:auto;line-height:normal;font-family:Menlo,'DejaVu Sans Mono',consolas,'Courier New',monospace\"><span style=\"font-weight: bold\">{</span>\n",
       "    <span style=\"color: #008000; text-decoration-color: #008000\">'checkpoint'</span>: <span style=\"color: #008080; text-decoration-color: #008080; font-weight: bold\">3600</span>,\n",
       "    <span style=\"color: #008000; text-decoration-color: #008000\">'global_step'</span>: <span style=\"color: #008080; text-decoration-color: #008080; font-weight: bold\">385200</span>,\n",
       "    <span style=\"color: #008000; text-decoration-color: #008000\">'file'</span>: <span style=\"color: #008000; text-decoration-color: #008000\">'GaussianVAE+TrainerVAE-3600_(2024_04_15,13:42).pt'</span>,\n",
       "    <span style=\"color: #008000; text-decoration-color: #008000\">'path'</span>: \n",
       "<span style=\"color: #008000; text-decoration-color: #008000\">'/home/hadi/Projects/PoissonVAE/models/gaussian_exp_DOVES_z-512_&lt;lin|lin&gt;/mc_ep3600-b1000-lr(0.005)_beta(1:0x0.5)_g</span>\n",
       "<span style=\"color: #008000; text-decoration-color: #008000\">r(500)_(2024_04_15,13:15)'</span>\n",
       "<span style=\"font-weight: bold\">}</span>\n",
       "</pre>\n"
      ],
      "text/plain": [
       "\u001b[1m{\u001b[0m\n",
       "    \u001b[32m'checkpoint'\u001b[0m: \u001b[1;36m3600\u001b[0m,\n",
       "    \u001b[32m'global_step'\u001b[0m: \u001b[1;36m385200\u001b[0m,\n",
       "    \u001b[32m'file'\u001b[0m: \u001b[32m'GaussianVAE+TrainerVAE-3600_\u001b[0m\u001b[32m(\u001b[0m\u001b[32m2024_04_15,13:42\u001b[0m\u001b[32m)\u001b[0m\u001b[32m.pt'\u001b[0m,\n",
       "    \u001b[32m'path'\u001b[0m: \n",
       "\u001b[32m'/home/hadi/Projects/PoissonVAE/models/gaussian_exp_DOVES_z-512_\u001b[0m\u001b[32m<\u001b[0m\u001b[32mlin|lin\u001b[0m\u001b[32m>\u001b[0m\u001b[32m/mc_ep3600-b1000-lr\u001b[0m\u001b[32m(\u001b[0m\u001b[32m0.005\u001b[0m\u001b[32m)\u001b[0m\u001b[32m_beta\u001b[0m\u001b[32m(\u001b[0m\u001b[32m1:0x0.5\u001b[0m\u001b[32m)\u001b[0m\u001b[32m_g\u001b[0m\n",
       "\u001b[32mr\u001b[0m\u001b[32m(\u001b[0m\u001b[32m500\u001b[0m\u001b[32m)\u001b[0m\u001b[32m_\u001b[0m\u001b[32m(\u001b[0m\u001b[32m2024_04_15,13:15\u001b[0m\u001b[32m)\u001b[0m\u001b[32m'\u001b[0m\n",
       "\u001b[1m}\u001b[0m\n"
      ]
     },
     "metadata": {},
     "output_type": "display_data"
    }
   ],
   "source": [
    "name = 'gaussian_exp_DOVES_z-512_<lin|lin>/mc_ep3600-b1000-lr(0.005)_beta(1:0x0.5)_gr(500)_(2024_04_15,13:15)'\n",
    "tr, meta = load_quick(name, lite=False)\n",
    "\n",
    "print(meta)"
   ]
  },
  {
   "cell_type": "code",
   "execution_count": 3,
   "id": "e8068e6f-d0c6-4470-a706-54e9b6e1f3e9",
   "metadata": {},
   "outputs": [
    {
     "data": {
      "text/html": [
       "<pre style=\"white-space:pre;overflow-x:auto;line-height:normal;font-family:Menlo,'DejaVu Sans Mono',consolas,'Courier New',monospace\"><span style=\"font-weight: bold\">{</span>\n",
       "    <span style=\"color: #008000; text-decoration-color: #008000\">'checkpoint'</span>: <span style=\"color: #008080; text-decoration-color: #008080; font-weight: bold\">3600</span>,\n",
       "    <span style=\"color: #008000; text-decoration-color: #008000\">'global_step'</span>: <span style=\"color: #008080; text-decoration-color: #008080; font-weight: bold\">385200</span>,\n",
       "    <span style=\"color: #008000; text-decoration-color: #008000\">'file'</span>: <span style=\"color: #008000; text-decoration-color: #008000\">'PoissonVAE+TrainerVAE-3600_(2024_04_11,15:33).pt'</span>,\n",
       "    <span style=\"color: #008000; text-decoration-color: #008000\">'path'</span>: <span style=\"color: #008000; text-decoration-color: #008000\">'/home/hadi/Dropbox/git/jb-vae/tmp/Dekel/pois-lin'</span>\n",
       "<span style=\"font-weight: bold\">}</span>\n",
       "</pre>\n"
      ],
      "text/plain": [
       "\u001b[1m{\u001b[0m\n",
       "    \u001b[32m'checkpoint'\u001b[0m: \u001b[1;36m3600\u001b[0m,\n",
       "    \u001b[32m'global_step'\u001b[0m: \u001b[1;36m385200\u001b[0m,\n",
       "    \u001b[32m'file'\u001b[0m: \u001b[32m'PoissonVAE+TrainerVAE-3600_\u001b[0m\u001b[32m(\u001b[0m\u001b[32m2024_04_11,15:33\u001b[0m\u001b[32m)\u001b[0m\u001b[32m.pt'\u001b[0m,\n",
       "    \u001b[32m'path'\u001b[0m: \u001b[32m'/home/hadi/Dropbox/git/jb-vae/tmp/Dekel/pois-lin'\u001b[0m\n",
       "\u001b[1m}\u001b[0m\n"
      ]
     },
     "metadata": {},
     "output_type": "display_data"
    }
   ],
   "source": [
    "name = pjoin(tmp_dir, 'Dekel', 'pois-lin')\n",
    "tr, meta = load_quick(name, lite=True)\n",
    "\n",
    "print(meta)"
   ]
  },
  {
   "cell_type": "code",
   "execution_count": null,
   "id": "40449877-2181-432d-ab40-5f335ad2f69d",
   "metadata": {},
   "outputs": [],
   "source": []
  },
  {
   "cell_type": "code",
   "execution_count": null,
   "id": "8ba69451-97b8-446d-b987-5ab8bb62a45d",
   "metadata": {},
   "outputs": [],
   "source": []
  },
  {
   "cell_type": "code",
   "execution_count": null,
   "id": "013ebe3b-9ee6-466c-b9ae-64eba18fd026",
   "metadata": {},
   "outputs": [],
   "source": []
  },
  {
   "cell_type": "code",
   "execution_count": null,
   "id": "33e24e68-d612-4cf4-b930-e477ba182e99",
   "metadata": {},
   "outputs": [],
   "source": []
  }
 ],
 "metadata": {
  "kernelspec": {
   "display_name": "Python 3 (ipykernel)",
   "language": "python",
   "name": "python3"
  },
  "language_info": {
   "codemirror_mode": {
    "name": "ipython",
    "version": 3
   },
   "file_extension": ".py",
   "mimetype": "text/x-python",
   "name": "python",
   "nbconvert_exporter": "python",
   "pygments_lexer": "ipython3",
   "version": "3.11.7"
  }
 },
 "nbformat": 4,
 "nbformat_minor": 5
}
