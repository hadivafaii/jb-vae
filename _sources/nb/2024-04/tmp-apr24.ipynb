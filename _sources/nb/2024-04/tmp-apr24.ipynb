{
 "cells": [
  {
   "cell_type": "markdown",
   "id": "6c0cb91c",
   "metadata": {},
   "source": [
    "# tmp — apr24\n",
    "\n",
    "**Motivation**: scratch notebook <br>"
   ]
  },
  {
   "cell_type": "code",
   "execution_count": 1,
   "id": "b12d2b0a",
   "metadata": {},
   "outputs": [],
   "source": [
    "# HIDE CODE\n",
    "\n",
    "\n",
    "import os, sys\n",
    "from IPython.display import display\n",
    "\n",
    "# tmp & extras dir\n",
    "git_dir = os.path.join(os.environ['HOME'], 'Dropbox/git')\n",
    "extras_dir = os.path.join(git_dir, 'jb-vae/_extras')\n",
    "fig_base_dir = os.path.join(git_dir, 'jb-vae/figs')\n",
    "tmp_dir = os.path.join(git_dir, 'jb-vae/tmp')\n",
    "\n",
    "# GitHub\n",
    "sys.path.insert(0, os.path.join(git_dir, '_PoissonVAE'))\n",
    "from figures.fighelper import *\n",
    "from vae.train_vae import *\n",
    "\n",
    "# warnings, tqdm, & style\n",
    "warnings.filterwarnings('ignore', category=DeprecationWarning)\n",
    "from rich.jupyter import print\n",
    "%matplotlib inline\n",
    "set_style()"
   ]
  },
  {
   "cell_type": "code",
   "execution_count": null,
   "id": "cbf76175-ed26-4618-af19-3249b0c788fd",
   "metadata": {},
   "outputs": [],
   "source": []
  },
  {
   "cell_type": "code",
   "execution_count": null,
   "id": "67a2c94e-6eec-4d1e-b22d-4d659aebb0a9",
   "metadata": {},
   "outputs": [],
   "source": []
  },
  {
   "cell_type": "code",
   "execution_count": null,
   "id": "e8068e6f-d0c6-4470-a706-54e9b6e1f3e9",
   "metadata": {},
   "outputs": [],
   "source": []
  },
  {
   "cell_type": "code",
   "execution_count": null,
   "id": "40449877-2181-432d-ab40-5f335ad2f69d",
   "metadata": {},
   "outputs": [],
   "source": []
  },
  {
   "cell_type": "code",
   "execution_count": null,
   "id": "8ba69451-97b8-446d-b987-5ab8bb62a45d",
   "metadata": {},
   "outputs": [],
   "source": []
  },
  {
   "cell_type": "code",
   "execution_count": null,
   "id": "013ebe3b-9ee6-466c-b9ae-64eba18fd026",
   "metadata": {},
   "outputs": [],
   "source": []
  },
  {
   "cell_type": "code",
   "execution_count": null,
   "id": "33e24e68-d612-4cf4-b930-e477ba182e99",
   "metadata": {},
   "outputs": [],
   "source": []
  }
 ],
 "metadata": {
  "kernelspec": {
   "display_name": "Python 3 (ipykernel)",
   "language": "python",
   "name": "python3"
  },
  "language_info": {
   "codemirror_mode": {
    "name": "ipython",
    "version": 3
   },
   "file_extension": ".py",
   "mimetype": "text/x-python",
   "name": "python",
   "nbconvert_exporter": "python",
   "pygments_lexer": "ipython3",
   "version": "3.11.7"
  }
 },
 "nbformat": 4,
 "nbformat_minor": 5
}
