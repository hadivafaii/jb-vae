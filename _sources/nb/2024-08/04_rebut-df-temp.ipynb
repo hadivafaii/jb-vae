{
 "cells": [
  {
   "cell_type": "markdown",
   "id": "94c0c518-f8d0-4ac5-b61f-23ee9d4aa10c",
   "metadata": {},
   "source": [
    "# (04) rebuttal df: temp\n",
    "\n",
    "**Motivation**: Effect of temperature (```T_stop```, ```hard_fwd```, ```anneal_type```) on ELBO? <br>"
   ]
  },
  {
   "cell_type": "code",
   "execution_count": 1,
   "id": "7c5466fd-4f65-4020-b6b4-17b3c210abc0",
   "metadata": {
    "tags": [
     "hide-input"
    ]
   },
   "outputs": [],
   "source": [
    "# HIDE CODE\n",
    "\n",
    "\n",
    "import os, sys\n",
    "from IPython.display import display\n",
    "\n",
    "# tmp & extras dir\n",
    "git_dir = os.path.join(os.environ['HOME'], 'Dropbox/git')\n",
    "extras_dir = os.path.join(git_dir, 'jb-vae/_extras')\n",
    "fig_base_dir = os.path.join(git_dir, 'jb-vae/figs')\n",
    "tmp_dir = os.path.join(git_dir, 'jb-vae/tmp')\n",
    "\n",
    "# GitHub\n",
    "sys.path.insert(0, os.path.join(git_dir, '_PoissonVAE'))\n",
    "# sys.path.insert(0, os.path.join(git_dir, '_IterativeVAE'))\n",
    "# sys.path.insert(0, '/home/hadi/Dropbox/chkpts/pvae-source-code')\n",
    "from figures.fighelper import *\n",
    "from vae.train_vae import *\n",
    "\n",
    "# warnings, tqdm, & style\n",
    "warnings.filterwarnings('ignore', category=DeprecationWarning)\n",
    "warnings.filterwarnings('ignore', category=FutureWarning)\n",
    "warnings.filterwarnings('ignore', category=UserWarning)\n",
    "from rich.jupyter import print\n",
    "%matplotlib inline\n",
    "set_style()"
   ]
  },
  {
   "cell_type": "code",
   "execution_count": 2,
   "id": "45564d20-4665-4519-bb7b-f8f704bb1384",
   "metadata": {},
   "outputs": [],
   "source": [
    "device_idx = 1\n",
    "device = f'cuda:{device_idx}'\n",
    "\n",
    "from analysis.final import sort_fits, analyze_fits"
   ]
  },
  {
   "cell_type": "code",
   "execution_count": 3,
   "id": "a614a5c1-b31d-4d89-8772-3682ccaa2e7d",
   "metadata": {},
   "outputs": [
    {
     "data": {
      "text/plain": [
       "(240, 0, 0)"
      ]
     },
     "execution_count": 3,
     "metadata": {},
     "output_type": "execute_result"
    }
   ],
   "source": [
    "root = 'Dropbox/chkpts/PoissonVAE'\n",
    "fits, fits_st, fits_etc = sort_fits(root=root)\n",
    "len(fits), len(fits_st), len(fits_etc)"
   ]
  },
  {
   "cell_type": "code",
   "execution_count": 4,
   "id": "2a5e8fa6-5e26-4ff6-88c5-6ec189793314",
   "metadata": {},
   "outputs": [
    {
     "data": {
      "text/html": [
       "<pre style=\"white-space:pre;overflow-x:auto;line-height:normal;font-family:Menlo,'DejaVu Sans Mono',consolas,'Courier New',monospace\"># fits: <span style=\"color: #008080; text-decoration-color: #008080; font-weight: bold\">168</span>,  # fits_etc: <span style=\"color: #008080; text-decoration-color: #008080; font-weight: bold\">0</span>\n",
       "</pre>\n"
      ],
      "text/plain": [
       "# fits: \u001b[1;36m168\u001b[0m,  # fits_etc: \u001b[1;36m0\u001b[0m\n"
      ]
     },
     "metadata": {},
     "output_type": "display_data"
    }
   ],
   "source": [
    "def accept_fn(name):\n",
    "    accept = 'mach' in name\n",
    "    return accept\n",
    "\n",
    "\n",
    "fits = sorted(filter(accept_fn, fits))\n",
    "fits_etc = sorted(filter(accept_fn, fits_etc))\n",
    "\n",
    "print(f\"# fits: {len(fits)},  # fits_etc: {len(fits_etc)}\")"
   ]
  },
  {
   "cell_type": "code",
   "execution_count": null,
   "id": "31c0c9f3-ae7f-4a3a-b441-86d03b19d562",
   "metadata": {},
   "outputs": [],
   "source": []
  },
  {
   "cell_type": "code",
   "execution_count": 5,
   "id": "db44abdf-2ab6-40f2-971a-6766f98baa29",
   "metadata": {},
   "outputs": [
    {
     "name": "stderr",
     "output_type": "stream",
     "text": [
      "100%|█████████████████████████████████████████| 168/168 [03:07<00:00,  1.11s/it]\n"
     ]
    },
    {
     "data": {
      "text/html": [
       "<pre style=\"white-space:pre;overflow-x:auto;line-height:normal;font-family:Menlo,'DejaVu Sans Mono',consolas,'Courier New',monospace\"><span style=\"font-weight: bold\">[</span>PROGRESS<span style=\"font-weight: bold\">]</span> <span style=\"color: #008000; text-decoration-color: #008000\">'df_temp.df'</span> saved at\n",
       "<span style=\"color: #800080; text-decoration-color: #800080\">/home/hadi/Dropbox/git/jb-vae/</span><span style=\"color: #ff00ff; text-decoration-color: #ff00ff\">tmp</span>\n",
       "</pre>\n"
      ],
      "text/plain": [
       "\u001b[1m[\u001b[0mPROGRESS\u001b[1m]\u001b[0m \u001b[32m'df_temp.df'\u001b[0m saved at\n",
       "\u001b[35m/home/hadi/Dropbox/git/jb-vae/\u001b[0m\u001b[95mtmp\u001b[0m\n"
      ]
     },
     "metadata": {},
     "output_type": "display_data"
    },
    {
     "name": "stdout",
     "output_type": "stream",
     "text": [
      "CPU times: user 35min 19s, sys: 56.6 s, total: 36min 15s\n",
      "Wall time: 3min 7s\n"
     ]
    }
   ],
   "source": [
    "%%time\n",
    "\n",
    "kws = dict(device=device, analysis_mode='main', root=root)\n",
    "df = analyze_fits(fits, **kws)\n",
    "df = df.sort_values(by=['type', 'seed', 'n_dims'])\n",
    "df = df.reset_index(drop=True)\n",
    "\n",
    "save_obj(\n",
    "    obj=df,\n",
    "    file_name='df_temp',\n",
    "    save_dir=tmp_dir,\n",
    "    verbose=True,\n",
    "    mode='df',\n",
    ")"
   ]
  },
  {
   "cell_type": "code",
   "execution_count": null,
   "id": "702b600d-0419-42d3-8d54-7937cfd297de",
   "metadata": {},
   "outputs": [],
   "source": []
  },
  {
   "cell_type": "code",
   "execution_count": 6,
   "id": "b732ae00-7ce4-46dc-b546-42efb80fa65c",
   "metadata": {},
   "outputs": [
    {
     "data": {
      "text/html": [
       "<div>\n",
       "<style scoped>\n",
       "    .dataframe tbody tr th:only-of-type {\n",
       "        vertical-align: middle;\n",
       "    }\n",
       "\n",
       "    .dataframe tbody tr th {\n",
       "        vertical-align: top;\n",
       "    }\n",
       "\n",
       "    .dataframe thead th {\n",
       "        text-align: right;\n",
       "    }\n",
       "</style>\n",
       "<table border=\"1\" class=\"dataframe\">\n",
       "  <thead>\n",
       "    <tr style=\"text-align: right;\">\n",
       "      <th></th>\n",
       "      <th>checkpoint</th>\n",
       "      <th>timestamp</th>\n",
       "      <th>dataset</th>\n",
       "      <th>type</th>\n",
       "      <th>enc_type</th>\n",
       "      <th>dec_type</th>\n",
       "      <th>n_dims</th>\n",
       "      <th>seed</th>\n",
       "      <th>kl_beta</th>\n",
       "      <th>n_params</th>\n",
       "      <th>...</th>\n",
       "      <th>active</th>\n",
       "      <th>mse</th>\n",
       "      <th>kl</th>\n",
       "      <th>kl_diag</th>\n",
       "      <th>mse_map</th>\n",
       "      <th>nelbo</th>\n",
       "      <th>temp_anneal</th>\n",
       "      <th>temp_start</th>\n",
       "      <th>temp_stop</th>\n",
       "      <th>hard_fwd</th>\n",
       "    </tr>\n",
       "  </thead>\n",
       "  <tbody>\n",
       "    <tr>\n",
       "      <th>0</th>\n",
       "      <td>3000</td>\n",
       "      <td>2024_08_01,00:59</td>\n",
       "      <td>vH16</td>\n",
       "      <td>poisson</td>\n",
       "      <td>conv</td>\n",
       "      <td>lin</td>\n",
       "      <td>512</td>\n",
       "      <td>1</td>\n",
       "      <td>1.0</td>\n",
       "      <td>1405596</td>\n",
       "      <td>...</td>\n",
       "      <td>0.871094</td>\n",
       "      <td>133.173660</td>\n",
       "      <td>31.708101</td>\n",
       "      <td>0.061928</td>\n",
       "      <td>101.352089</td>\n",
       "      <td>164.881760</td>\n",
       "      <td>exp</td>\n",
       "      <td>1.0</td>\n",
       "      <td>0.01</td>\n",
       "      <td>True</td>\n",
       "    </tr>\n",
       "    <tr>\n",
       "      <th>1</th>\n",
       "      <td>3000</td>\n",
       "      <td>2024_08_01,13:16</td>\n",
       "      <td>vH16</td>\n",
       "      <td>poisson</td>\n",
       "      <td>conv</td>\n",
       "      <td>lin</td>\n",
       "      <td>512</td>\n",
       "      <td>1</td>\n",
       "      <td>1.0</td>\n",
       "      <td>1405596</td>\n",
       "      <td>...</td>\n",
       "      <td>0.863281</td>\n",
       "      <td>132.231888</td>\n",
       "      <td>33.646900</td>\n",
       "      <td>0.065716</td>\n",
       "      <td>99.123833</td>\n",
       "      <td>165.878784</td>\n",
       "      <td>exp</td>\n",
       "      <td>1.0</td>\n",
       "      <td>0.05</td>\n",
       "      <td>True</td>\n",
       "    </tr>\n",
       "    <tr>\n",
       "      <th>2</th>\n",
       "      <td>3000</td>\n",
       "      <td>2024_08_02,01:52</td>\n",
       "      <td>vH16</td>\n",
       "      <td>poisson</td>\n",
       "      <td>conv</td>\n",
       "      <td>lin</td>\n",
       "      <td>512</td>\n",
       "      <td>1</td>\n",
       "      <td>1.0</td>\n",
       "      <td>1405596</td>\n",
       "      <td>...</td>\n",
       "      <td>0.869141</td>\n",
       "      <td>137.335327</td>\n",
       "      <td>32.383301</td>\n",
       "      <td>0.063249</td>\n",
       "      <td>104.854393</td>\n",
       "      <td>169.718628</td>\n",
       "      <td>exp</td>\n",
       "      <td>1.0</td>\n",
       "      <td>0.10</td>\n",
       "      <td>True</td>\n",
       "    </tr>\n",
       "    <tr>\n",
       "      <th>3</th>\n",
       "      <td>3000</td>\n",
       "      <td>2024_08_04,11:35</td>\n",
       "      <td>vH16</td>\n",
       "      <td>poisson</td>\n",
       "      <td>conv</td>\n",
       "      <td>lin</td>\n",
       "      <td>512</td>\n",
       "      <td>1</td>\n",
       "      <td>1.0</td>\n",
       "      <td>1405596</td>\n",
       "      <td>...</td>\n",
       "      <td>0.861328</td>\n",
       "      <td>142.392090</td>\n",
       "      <td>30.576696</td>\n",
       "      <td>0.059720</td>\n",
       "      <td>111.747513</td>\n",
       "      <td>172.968781</td>\n",
       "      <td>exp</td>\n",
       "      <td>1.0</td>\n",
       "      <td>0.20</td>\n",
       "      <td>True</td>\n",
       "    </tr>\n",
       "    <tr>\n",
       "      <th>4</th>\n",
       "      <td>3000</td>\n",
       "      <td>2024_08_01,00:19</td>\n",
       "      <td>vH16</td>\n",
       "      <td>poisson</td>\n",
       "      <td>conv</td>\n",
       "      <td>lin</td>\n",
       "      <td>512</td>\n",
       "      <td>1</td>\n",
       "      <td>1.0</td>\n",
       "      <td>1405596</td>\n",
       "      <td>...</td>\n",
       "      <td>0.855469</td>\n",
       "      <td>145.878998</td>\n",
       "      <td>29.263475</td>\n",
       "      <td>0.057156</td>\n",
       "      <td>116.659630</td>\n",
       "      <td>175.142471</td>\n",
       "      <td>exp</td>\n",
       "      <td>1.0</td>\n",
       "      <td>0.30</td>\n",
       "      <td>True</td>\n",
       "    </tr>\n",
       "    <tr>\n",
       "      <th>...</th>\n",
       "      <td>...</td>\n",
       "      <td>...</td>\n",
       "      <td>...</td>\n",
       "      <td>...</td>\n",
       "      <td>...</td>\n",
       "      <td>...</td>\n",
       "      <td>...</td>\n",
       "      <td>...</td>\n",
       "      <td>...</td>\n",
       "      <td>...</td>\n",
       "      <td>...</td>\n",
       "      <td>...</td>\n",
       "      <td>...</td>\n",
       "      <td>...</td>\n",
       "      <td>...</td>\n",
       "      <td>...</td>\n",
       "      <td>...</td>\n",
       "      <td>...</td>\n",
       "      <td>...</td>\n",
       "      <td>...</td>\n",
       "      <td>...</td>\n",
       "    </tr>\n",
       "    <tr>\n",
       "      <th>163</th>\n",
       "      <td>3000</td>\n",
       "      <td>2024_08_01,22:31</td>\n",
       "      <td>vH16</td>\n",
       "      <td>poisson</td>\n",
       "      <td>lin</td>\n",
       "      <td>lin</td>\n",
       "      <td>512</td>\n",
       "      <td>3</td>\n",
       "      <td>1.0</td>\n",
       "      <td>262656</td>\n",
       "      <td>...</td>\n",
       "      <td>0.990234</td>\n",
       "      <td>135.736328</td>\n",
       "      <td>32.581371</td>\n",
       "      <td>0.063632</td>\n",
       "      <td>98.454872</td>\n",
       "      <td>168.317703</td>\n",
       "      <td>lin</td>\n",
       "      <td>1.0</td>\n",
       "      <td>0.10</td>\n",
       "      <td>False</td>\n",
       "    </tr>\n",
       "    <tr>\n",
       "      <th>164</th>\n",
       "      <td>3000</td>\n",
       "      <td>2024_08_02,11:28</td>\n",
       "      <td>vH16</td>\n",
       "      <td>poisson</td>\n",
       "      <td>lin</td>\n",
       "      <td>lin</td>\n",
       "      <td>512</td>\n",
       "      <td>3</td>\n",
       "      <td>1.0</td>\n",
       "      <td>262656</td>\n",
       "      <td>...</td>\n",
       "      <td>0.984375</td>\n",
       "      <td>134.755478</td>\n",
       "      <td>34.408092</td>\n",
       "      <td>0.067205</td>\n",
       "      <td>90.495003</td>\n",
       "      <td>169.163574</td>\n",
       "      <td>lin</td>\n",
       "      <td>1.0</td>\n",
       "      <td>0.20</td>\n",
       "      <td>False</td>\n",
       "    </tr>\n",
       "    <tr>\n",
       "      <th>165</th>\n",
       "      <td>3000</td>\n",
       "      <td>2024_07_31,20:26</td>\n",
       "      <td>vH16</td>\n",
       "      <td>poisson</td>\n",
       "      <td>lin</td>\n",
       "      <td>lin</td>\n",
       "      <td>512</td>\n",
       "      <td>3</td>\n",
       "      <td>1.0</td>\n",
       "      <td>262656</td>\n",
       "      <td>...</td>\n",
       "      <td>0.986328</td>\n",
       "      <td>135.306686</td>\n",
       "      <td>36.072254</td>\n",
       "      <td>0.070454</td>\n",
       "      <td>83.521164</td>\n",
       "      <td>171.378937</td>\n",
       "      <td>lin</td>\n",
       "      <td>1.0</td>\n",
       "      <td>0.30</td>\n",
       "      <td>False</td>\n",
       "    </tr>\n",
       "    <tr>\n",
       "      <th>166</th>\n",
       "      <td>3000</td>\n",
       "      <td>2024_08_01,10:10</td>\n",
       "      <td>vH16</td>\n",
       "      <td>poisson</td>\n",
       "      <td>lin</td>\n",
       "      <td>lin</td>\n",
       "      <td>512</td>\n",
       "      <td>3</td>\n",
       "      <td>1.0</td>\n",
       "      <td>262656</td>\n",
       "      <td>...</td>\n",
       "      <td>0.980469</td>\n",
       "      <td>137.384842</td>\n",
       "      <td>37.401817</td>\n",
       "      <td>0.073050</td>\n",
       "      <td>78.771820</td>\n",
       "      <td>174.786652</td>\n",
       "      <td>lin</td>\n",
       "      <td>1.0</td>\n",
       "      <td>0.40</td>\n",
       "      <td>False</td>\n",
       "    </tr>\n",
       "    <tr>\n",
       "      <th>167</th>\n",
       "      <td>3000</td>\n",
       "      <td>2024_08_01,23:48</td>\n",
       "      <td>vH16</td>\n",
       "      <td>poisson</td>\n",
       "      <td>lin</td>\n",
       "      <td>lin</td>\n",
       "      <td>512</td>\n",
       "      <td>3</td>\n",
       "      <td>1.0</td>\n",
       "      <td>262656</td>\n",
       "      <td>...</td>\n",
       "      <td>0.998047</td>\n",
       "      <td>143.490707</td>\n",
       "      <td>38.444210</td>\n",
       "      <td>0.075085</td>\n",
       "      <td>79.105049</td>\n",
       "      <td>181.934921</td>\n",
       "      <td>lin</td>\n",
       "      <td>1.0</td>\n",
       "      <td>0.50</td>\n",
       "      <td>False</td>\n",
       "    </tr>\n",
       "  </tbody>\n",
       "</table>\n",
       "<p>168 rows × 21 columns</p>\n",
       "</div>"
      ],
      "text/plain": [
       "     checkpoint         timestamp dataset     type enc_type dec_type  n_dims  \\\n",
       "0          3000  2024_08_01,00:59    vH16  poisson     conv      lin     512   \n",
       "1          3000  2024_08_01,13:16    vH16  poisson     conv      lin     512   \n",
       "2          3000  2024_08_02,01:52    vH16  poisson     conv      lin     512   \n",
       "3          3000  2024_08_04,11:35    vH16  poisson     conv      lin     512   \n",
       "4          3000  2024_08_01,00:19    vH16  poisson     conv      lin     512   \n",
       "..          ...               ...     ...      ...      ...      ...     ...   \n",
       "163        3000  2024_08_01,22:31    vH16  poisson      lin      lin     512   \n",
       "164        3000  2024_08_02,11:28    vH16  poisson      lin      lin     512   \n",
       "165        3000  2024_07_31,20:26    vH16  poisson      lin      lin     512   \n",
       "166        3000  2024_08_01,10:10    vH16  poisson      lin      lin     512   \n",
       "167        3000  2024_08_01,23:48    vH16  poisson      lin      lin     512   \n",
       "\n",
       "     seed  kl_beta  n_params  ...    active         mse         kl   kl_diag  \\\n",
       "0       1      1.0   1405596  ...  0.871094  133.173660  31.708101  0.061928   \n",
       "1       1      1.0   1405596  ...  0.863281  132.231888  33.646900  0.065716   \n",
       "2       1      1.0   1405596  ...  0.869141  137.335327  32.383301  0.063249   \n",
       "3       1      1.0   1405596  ...  0.861328  142.392090  30.576696  0.059720   \n",
       "4       1      1.0   1405596  ...  0.855469  145.878998  29.263475  0.057156   \n",
       "..    ...      ...       ...  ...       ...         ...        ...       ...   \n",
       "163     3      1.0    262656  ...  0.990234  135.736328  32.581371  0.063632   \n",
       "164     3      1.0    262656  ...  0.984375  134.755478  34.408092  0.067205   \n",
       "165     3      1.0    262656  ...  0.986328  135.306686  36.072254  0.070454   \n",
       "166     3      1.0    262656  ...  0.980469  137.384842  37.401817  0.073050   \n",
       "167     3      1.0    262656  ...  0.998047  143.490707  38.444210  0.075085   \n",
       "\n",
       "        mse_map       nelbo  temp_anneal temp_start  temp_stop  hard_fwd  \n",
       "0    101.352089  164.881760          exp        1.0       0.01      True  \n",
       "1     99.123833  165.878784          exp        1.0       0.05      True  \n",
       "2    104.854393  169.718628          exp        1.0       0.10      True  \n",
       "3    111.747513  172.968781          exp        1.0       0.20      True  \n",
       "4    116.659630  175.142471          exp        1.0       0.30      True  \n",
       "..          ...         ...          ...        ...        ...       ...  \n",
       "163   98.454872  168.317703          lin        1.0       0.10     False  \n",
       "164   90.495003  169.163574          lin        1.0       0.20     False  \n",
       "165   83.521164  171.378937          lin        1.0       0.30     False  \n",
       "166   78.771820  174.786652          lin        1.0       0.40     False  \n",
       "167   79.105049  181.934921          lin        1.0       0.50     False  \n",
       "\n",
       "[168 rows x 21 columns]"
      ]
     },
     "execution_count": 6,
     "metadata": {},
     "output_type": "execute_result"
    }
   ],
   "source": [
    "df"
   ]
  },
  {
   "cell_type": "code",
   "execution_count": null,
   "id": "d282d677-3b2b-462d-9b2a-e14544589d57",
   "metadata": {},
   "outputs": [],
   "source": []
  },
  {
   "cell_type": "code",
   "execution_count": 7,
   "id": "f5213a19-a06c-4d30-907e-e8d94e970ce3",
   "metadata": {},
   "outputs": [
    {
     "data": {
      "text/plain": [
       "temp_stop\n",
       "0.01    24\n",
       "0.05    24\n",
       "0.10    24\n",
       "0.20    24\n",
       "0.30    24\n",
       "0.40    24\n",
       "0.50    24\n",
       "Name: count, dtype: int64"
      ]
     },
     "execution_count": 7,
     "metadata": {},
     "output_type": "execute_result"
    }
   ],
   "source": [
    "df['temp_stop'].value_counts()"
   ]
  },
  {
   "cell_type": "code",
   "execution_count": 8,
   "id": "010e9623-d053-4b15-8cca-0dee25fb776b",
   "metadata": {},
   "outputs": [
    {
     "data": {
      "text/plain": [
       "temp_anneal\n",
       "exp    84\n",
       "lin    84\n",
       "Name: count, dtype: int64"
      ]
     },
     "execution_count": 8,
     "metadata": {},
     "output_type": "execute_result"
    }
   ],
   "source": [
    "df['temp_anneal'].value_counts()"
   ]
  },
  {
   "cell_type": "code",
   "execution_count": 9,
   "id": "c92eeba1-c0d3-4036-8fbc-f667efac9c9a",
   "metadata": {},
   "outputs": [
    {
     "data": {
      "text/plain": [
       "hard_fwd\n",
       "True     84\n",
       "False    84\n",
       "Name: count, dtype: int64"
      ]
     },
     "execution_count": 9,
     "metadata": {},
     "output_type": "execute_result"
    }
   ],
   "source": [
    "df['hard_fwd'].value_counts()"
   ]
  },
  {
   "cell_type": "code",
   "execution_count": null,
   "id": "91d96435-ba0f-4caa-bcd3-da66e7b9b567",
   "metadata": {},
   "outputs": [],
   "source": []
  },
  {
   "cell_type": "code",
   "execution_count": 10,
   "id": "f436299a-d0f4-4ea3-8fc2-fac7edf19b45",
   "metadata": {},
   "outputs": [
    {
     "data": {
      "text/plain": [
       "n_dims\n",
       "512    168\n",
       "Name: count, dtype: int64"
      ]
     },
     "execution_count": 10,
     "metadata": {},
     "output_type": "execute_result"
    }
   ],
   "source": [
    "df['n_dims'].value_counts()"
   ]
  },
  {
   "cell_type": "code",
   "execution_count": 11,
   "id": "a0c11691-b69f-45ac-a6fb-20b86315eada",
   "metadata": {},
   "outputs": [
    {
     "data": {
      "text/plain": [
       "dataset\n",
       "vH16    168\n",
       "Name: count, dtype: int64"
      ]
     },
     "execution_count": 11,
     "metadata": {},
     "output_type": "execute_result"
    }
   ],
   "source": [
    "df['dataset'].value_counts()"
   ]
  },
  {
   "cell_type": "code",
   "execution_count": 12,
   "id": "18a64974-6b45-479f-9c9f-fad7dacf2f42",
   "metadata": {},
   "outputs": [
    {
     "data": {
      "text/plain": [
       "enc_type\n",
       "conv    84\n",
       "lin     84\n",
       "Name: count, dtype: int64"
      ]
     },
     "execution_count": 12,
     "metadata": {},
     "output_type": "execute_result"
    }
   ],
   "source": [
    "df['enc_type'].value_counts()"
   ]
  },
  {
   "cell_type": "code",
   "execution_count": null,
   "id": "7cf3cbc4-edd3-49c2-94e1-26211a219cd2",
   "metadata": {},
   "outputs": [],
   "source": []
  },
  {
   "cell_type": "code",
   "execution_count": null,
   "id": "6f7096c3-aff8-4a3b-9b63-a7eaba88f54c",
   "metadata": {},
   "outputs": [],
   "source": []
  },
  {
   "cell_type": "code",
   "execution_count": null,
   "id": "9af23b53-1b4b-4896-ac23-43e773458fe0",
   "metadata": {},
   "outputs": [],
   "source": []
  }
 ],
 "metadata": {
  "kernelspec": {
   "display_name": "Python 3 (ipykernel)",
   "language": "python",
   "name": "python3"
  },
  "language_info": {
   "codemirror_mode": {
    "name": "ipython",
    "version": 3
   },
   "file_extension": ".py",
   "mimetype": "text/x-python",
   "name": "python",
   "nbconvert_exporter": "python",
   "pygments_lexer": "ipython3",
   "version": "3.11.7"
  }
 },
 "nbformat": 4,
 "nbformat_minor": 5
}
