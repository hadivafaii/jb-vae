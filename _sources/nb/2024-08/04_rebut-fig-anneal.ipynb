{
 "cells": [
  {
   "cell_type": "markdown",
   "id": "94c0c518-f8d0-4ac5-b61f-23ee9d4aa10c",
   "metadata": {},
   "source": [
    "# (04) rebuttal fig: temp anneal\n",
    "\n",
    "**Motivation**: <br>"
   ]
  },
  {
   "cell_type": "code",
   "execution_count": 1,
   "id": "7c5466fd-4f65-4020-b6b4-17b3c210abc0",
   "metadata": {},
   "outputs": [],
   "source": [
    "# HIDE CODE\n",
    "\n",
    "\n",
    "import os, sys\n",
    "from IPython.display import display\n",
    "\n",
    "# tmp & extras dir\n",
    "git_dir = os.path.join(os.environ['HOME'], 'Dropbox/git')\n",
    "extras_dir = os.path.join(git_dir, 'jb-vae/_extras')\n",
    "fig_base_dir = os.path.join(git_dir, 'jb-vae/figs')\n",
    "tmp_dir = os.path.join(git_dir, 'jb-vae/tmp')\n",
    "\n",
    "# GitHub\n",
    "sys.path.insert(0, os.path.join(git_dir, '_PoissonVAE'))\n",
    "# sys.path.insert(0, os.path.join(git_dir, '_IterativeVAE'))\n",
    "# sys.path.insert(0, '/home/hadi/Dropbox/chkpts/pvae-source-code')\n",
    "from figures.fighelper import *\n",
    "from vae.train_vae import *\n",
    "\n",
    "# warnings, tqdm, & style\n",
    "warnings.filterwarnings('ignore', category=DeprecationWarning)\n",
    "warnings.filterwarnings('ignore', category=FutureWarning)\n",
    "warnings.filterwarnings('ignore', category=UserWarning)\n",
    "from rich.jupyter import print\n",
    "%matplotlib inline\n",
    "set_style()"
   ]
  },
  {
   "cell_type": "code",
   "execution_count": 2,
   "id": "45564d20-4665-4519-bb7b-f8f704bb1384",
   "metadata": {},
   "outputs": [],
   "source": [
    "device_idx = 1\n",
    "device = f'cuda:{device_idx}'"
   ]
  },
  {
   "cell_type": "code",
   "execution_count": 3,
   "id": "7e37c27d-f0dd-4f53-918e-75877443a45a",
   "metadata": {},
   "outputs": [
    {
     "data": {
      "text/html": [
       "<pre style=\"white-space:pre;overflow-x:auto;line-height:normal;font-family:Menlo,'DejaVu Sans Mono',consolas,'Courier New',monospace\"><span style=\"font-weight: bold\">[</span><span style=\"color: #008000; text-decoration-color: #008000\">'temp.pdf'</span>, <span style=\"color: #008000; text-decoration-color: #008000\">'logreg.pdf'</span>, <span style=\"color: #008000; text-decoration-color: #008000\">'dim.pdf'</span>, <span style=\"color: #008000; text-decoration-color: #008000\">'samples_hist.pdf'</span><span style=\"font-weight: bold\">]</span>\n",
       "</pre>\n"
      ],
      "text/plain": [
       "\u001b[1m[\u001b[0m\u001b[32m'temp.pdf'\u001b[0m, \u001b[32m'logreg.pdf'\u001b[0m, \u001b[32m'dim.pdf'\u001b[0m, \u001b[32m'samples_hist.pdf'\u001b[0m\u001b[1m]\u001b[0m\n"
      ]
     },
     "metadata": {},
     "output_type": "display_data"
    }
   ],
   "source": [
    "fig_dir = pjoin(fig_base_dir, 'rebuttal_aug')\n",
    "os.makedirs(fig_dir, exist_ok=True)\n",
    "print(os.listdir(fig_dir))\n",
    "\n",
    "kws_fig = {\n",
    "    'transparent': True,\n",
    "    'bbox_inches': 'tight',\n",
    "    'dpi': 600,\n",
    "}"
   ]
  },
  {
   "cell_type": "markdown",
   "id": "87b74516-e11d-45b4-a45f-816b39183942",
   "metadata": {},
   "source": [
    "## Anneal fig"
   ]
  },
  {
   "cell_type": "code",
   "execution_count": 4,
   "id": "0b7df677-40f5-46be-9aaa-eeb2772c8291",
   "metadata": {},
   "outputs": [],
   "source": [
    "n_iters = 1000000\n",
    "kws = dict(\n",
    "    n_iters=n_iters,\n",
    "    portion=0.5,\n",
    "    t0=1,\n",
    "    t1=0.05,\n",
    ")\n",
    "schedule = {\n",
    "    'lin': temp_anneal_linear(**kws),\n",
    "    'exp': temp_anneal_exp(**kws),\n",
    "}"
   ]
  },
  {
   "cell_type": "code",
   "execution_count": 13,
   "id": "f26fd633-e082-4c1f-a988-1671eb5f667a",
   "metadata": {},
   "outputs": [
    {
     "data": {
      "image/png": "[encoded data removed]",
      "text/plain": [
       "<Figure size 180x160 with 1 Axes>"
      ]
     },
     "metadata": {},
     "output_type": "display_data"
    },
    {
     "data": {
      "image/png": "[encoded data removed]",
      "text/plain": [
       "<Figure size 180x160 with 1 Axes>"
      ]
     },
     "metadata": {},
     "output_type": "display_data"
    }
   ],
   "source": [
    "for k, v in schedule.items():\n",
    "    fig, ax = create_figure(1, 1, (1.8, 1.6))\n",
    "    ax.plot(np.linspace(0, 1, n_iters), v, lw=5, label=k)\n",
    "    ax.set(\n",
    "        xticks=(0, 0.5, 1.0),\n",
    "        yticks=(max(v), min(v)),\n",
    "        yticklabels=[],\n",
    "    )\n",
    "    plt.axvspan(0, 0.5, color='violet', alpha=0.1)\n",
    "    ax.legend()\n",
    "    \n",
    "    plt.show()"
   ]
  },
  {
   "cell_type": "code",
   "execution_count": null,
   "id": "461ac470-1f47-4373-a76d-5d4f82c6ae18",
   "metadata": {},
   "outputs": [],
   "source": []
  },
  {
   "cell_type": "code",
   "execution_count": 27,
   "id": "c317e734-2092-4063-9d99-feb139a1a4eb",
   "metadata": {},
   "outputs": [
    {
     "data": {
      "image/png": "[encoded data removed]",
      "text/plain": [
       "<Figure size 180x160 with 1 Axes>"
      ]
     },
     "metadata": {},
     "output_type": "display_data"
    },
    {
     "data": {
      "image/png": "[encoded data removed]",
      "text/plain": [
       "<Figure size 180x160 with 1 Axes>"
      ]
     },
     "metadata": {},
     "output_type": "display_data"
    }
   ],
   "source": [
    "for k, v in schedule.items():\n",
    "    fig, ax = create_figure(1, 1, (1.8, 1.6))\n",
    "    ax.plot(np.linspace(0, 1, n_iters), v, lw=5, label=k)\n",
    "    ax.set(\n",
    "        xticks=(0, 0.5, 1.0),\n",
    "        yticks=(max(v), min(v)),\n",
    "        yticklabels=[],\n",
    "    )\n",
    "    plt.axvspan(0, 0.5, color='dimgrey', alpha=0.07)\n",
    "    ax.legend()\n",
    "    fig.savefig(pjoin(fig_dir, f\"anneal_{k}.pdf\"), **kws_fig)\n",
    "    plt.show()"
   ]
  },
  {
   "cell_type": "code",
   "execution_count": null,
   "id": "bd4da18d-1626-4bf5-b739-a72b246f4515",
   "metadata": {},
   "outputs": [],
   "source": []
  },
  {
   "cell_type": "code",
   "execution_count": 33,
   "id": "c9ef65ac-34a2-495d-ae7e-864cef00f749",
   "metadata": {},
   "outputs": [
    {
     "data": {
      "image/png": "[encoded data removed]",
      "text/plain": [
       "<Figure size 220x200 with 1 Axes>"
      ]
     },
     "metadata": {},
     "output_type": "display_data"
    }
   ],
   "source": [
    "fig, ax = create_figure(1, 1, (2.2, 2.0))\n",
    "for k, v in schedule.items():\n",
    "    ax.plot(\n",
    "        np.linspace(0, 1, n_iters),\n",
    "        v,\n",
    "        lw=3,\n",
    "        ls='-' if k == 'lin' else '--',\n",
    "        label=k,\n",
    "    )\n",
    "ax.set(\n",
    "    xticks=(0, 0.5, 1.0),\n",
    "    yticks=(max(v), min(v)),\n",
    "    yticklabels=[],\n",
    ")\n",
    "plt.axvspan(0, 0.5, color='dimgrey', alpha=0.05)\n",
    "ax.legend()\n",
    "plt.tick_params(axis='both', which='both', length=10, width=3)\n",
    "fig.savefig(pjoin(fig_dir, 'anneal.pdf'), **kws_fig)\n",
    "plt.show()"
   ]
  },
  {
   "cell_type": "code",
   "execution_count": null,
   "id": "aa672377-a91f-42b2-8772-94d607c4deff",
   "metadata": {},
   "outputs": [],
   "source": []
  },
  {
   "cell_type": "code",
   "execution_count": null,
   "id": "6a56c800-f5dd-4260-af71-88f45239cc2c",
   "metadata": {},
   "outputs": [],
   "source": []
  },
  {
   "cell_type": "code",
   "execution_count": null,
   "id": "51305d54-525d-4b45-b69d-7081f51aa689",
   "metadata": {},
   "outputs": [],
   "source": []
  },
  {
   "cell_type": "code",
   "execution_count": null,
   "id": "6b06c41f-0533-457c-8431-83af1346f6e1",
   "metadata": {},
   "outputs": [],
   "source": []
  },
  {
   "cell_type": "code",
   "execution_count": null,
   "id": "a42aff99-feb6-4ed6-b90e-d50bd9b1a585",
   "metadata": {},
   "outputs": [],
   "source": []
  }
 ],
 "metadata": {
  "kernelspec": {
   "display_name": "Python 3 (ipykernel)",
   "language": "python",
   "name": "python3"
  },
  "language_info": {
   "codemirror_mode": {
    "name": "ipython",
    "version": 3
   },
   "file_extension": ".py",
   "mimetype": "text/x-python",
   "name": "python",
   "nbconvert_exporter": "python",
   "pygments_lexer": "ipython3",
   "version": "3.11.7"
  }
 },
 "nbformat": 4,
 "nbformat_minor": 5
}
