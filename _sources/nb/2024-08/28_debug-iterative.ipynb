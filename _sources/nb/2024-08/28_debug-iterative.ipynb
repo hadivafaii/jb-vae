{
 "cells": [
  {
   "cell_type": "markdown",
   "id": "48f55a35-d5b5-468f-b574-730df61e9609",
   "metadata": {},
   "source": [
    "# (28) debug — why different from pvae?\n",
    "\n",
    "**Motivation**: host = ```mach```, device = ```cuda:1``` <br>"
   ]
  },
  {
   "cell_type": "code",
   "execution_count": 1,
   "id": "f823b1e9-05f2-49a0-8296-4a1819c12e81",
   "metadata": {
    "tags": [
     "hide-input"
    ]
   },
   "outputs": [],
   "source": [
    "# HIDE CODE\n",
    "\n",
    "\n",
    "import os, sys\n",
    "from IPython.display import display\n",
    "\n",
    "# tmp & extras dir\n",
    "git_dir = os.path.join(os.environ['HOME'], 'Dropbox/git')\n",
    "extras_dir = os.path.join(git_dir, 'jb-vae/_extras')\n",
    "fig_base_dir = os.path.join(git_dir, 'jb-vae/figs')\n",
    "tmp_dir = os.path.join(git_dir, 'jb-vae/tmp')\n",
    "\n",
    "# GitHub\n",
    "sys.path.insert(0, os.path.join(git_dir, '_IterativeVAE'))\n",
    "from figures.fighelper import *\n",
    "from vae.train_vae import *\n",
    "\n",
    "# warnings, tqdm, & style\n",
    "warnings.filterwarnings('ignore', category=DeprecationWarning)\n",
    "warnings.filterwarnings('ignore', category=FutureWarning)\n",
    "warnings.filterwarnings('ignore', category=UserWarning)\n",
    "from rich.jupyter import print\n",
    "%matplotlib inline\n",
    "set_style()"
   ]
  },
  {
   "cell_type": "code",
   "execution_count": 2,
   "id": "45357127-b675-4e68-ba95-938ea8612cad",
   "metadata": {},
   "outputs": [],
   "source": [
    "from base.utils_model import load_quick\n",
    "\n",
    "device_idx = 1\n",
    "device = f'cuda:{device_idx}'"
   ]
  },
  {
   "cell_type": "markdown",
   "id": "9ea30cc1-a624-468f-8042-1aa1066fbaf7",
   "metadata": {},
   "source": [
    "## Init Iterative PVAE"
   ]
  },
  {
   "cell_type": "markdown",
   "id": "073e8ec9-5ae0-4413-ab6e-062b2b655c0e",
   "metadata": {},
   "source": [
    "### Get configs"
   ]
  },
  {
   "cell_type": "code",
   "execution_count": 3,
   "id": "b349adf5-d0b6-45cd-86dd-1854720edcb9",
   "metadata": {},
   "outputs": [
    {
     "data": {
      "text/html": [
       "<pre style=\"white-space:pre;overflow-x:auto;line-height:normal;font-family:Menlo,'DejaVu Sans Mono',consolas,'Courier New',monospace\">VAE:\n",
       "<span style=\"font-weight: bold\">{</span><span style=\"color: #008000; text-decoration-color: #008000\">'dataset'</span>: <span style=\"color: #008000; text-decoration-color: #008000\">'vH16'</span>, <span style=\"color: #008000; text-decoration-color: #008000\">'n_latents'</span>: <span style=\"color: #008080; text-decoration-color: #008080; font-weight: bold\">512</span>, <span style=\"color: #008000; text-decoration-color: #008000\">'prior_clamp'</span>: <span style=\"color: #008080; text-decoration-color: #008080; font-weight: bold\">-4</span>, <span style=\"color: #008000; text-decoration-color: #008000\">'enc_type'</span>: <span style=\"color: #008000; text-decoration-color: #008000\">'lin'</span>, <span style=\"color: #008000; text-decoration-color: #008000\">'dec_type'</span>: <span style=\"color: #008000; text-decoration-color: #008000\">'lin'</span>, <span style=\"color: #008000; text-decoration-color: #008000\">'enc_bias'</span>: <span style=\"color: #ff0000; text-decoration-color: #ff0000; font-style: italic\">False</span>, \n",
       "<span style=\"color: #008000; text-decoration-color: #008000\">'dec_bias'</span>: <span style=\"color: #ff0000; text-decoration-color: #ff0000; font-style: italic\">False</span>, <span style=\"color: #008000; text-decoration-color: #008000\">'init_dist'</span>: <span style=\"color: #008000; text-decoration-color: #008000\">'normal'</span>, <span style=\"color: #008000; text-decoration-color: #008000\">'init_scale'</span>: <span style=\"color: #008080; text-decoration-color: #008080; font-weight: bold\">0.01</span>, <span style=\"color: #008000; text-decoration-color: #008000\">'seq_len'</span>: <span style=\"color: #008080; text-decoration-color: #008080; font-weight: bold\">1</span><span style=\"font-weight: bold\">}</span>\n",
       "\n",
       "Trainer:\n",
       "<span style=\"font-weight: bold\">{</span><span style=\"color: #008000; text-decoration-color: #008000\">'batch_size'</span>: <span style=\"color: #008080; text-decoration-color: #008080; font-weight: bold\">1000</span>, <span style=\"color: #008000; text-decoration-color: #008000\">'epochs'</span>: <span style=\"color: #008080; text-decoration-color: #008080; font-weight: bold\">3000</span>, <span style=\"color: #008000; text-decoration-color: #008000\">'optimizer_kws'</span>: <span style=\"font-weight: bold\">{</span><span style=\"color: #008000; text-decoration-color: #008000\">'weight_decay'</span>: <span style=\"color: #008080; text-decoration-color: #008080; font-weight: bold\">0.0</span><span style=\"font-weight: bold\">}</span>, <span style=\"color: #008000; text-decoration-color: #008000\">'grad_clip'</span>: <span style=\"color: #008080; text-decoration-color: #008080; font-weight: bold\">500</span>, <span style=\"color: #008000; text-decoration-color: #008000\">'kl_const_portion'</span>: \n",
       "<span style=\"color: #008080; text-decoration-color: #008080; font-weight: bold\">0.0</span>, <span style=\"color: #008000; text-decoration-color: #008000\">'lr'</span>: <span style=\"color: #008080; text-decoration-color: #008080; font-weight: bold\">0.002</span>, <span style=\"color: #008000; text-decoration-color: #008000\">'kl_beta'</span>: <span style=\"color: #008080; text-decoration-color: #008080; font-weight: bold\">1.0</span><span style=\"font-weight: bold\">}</span>\n",
       "</pre>\n"
      ],
      "text/plain": [
       "VAE:\n",
       "\u001b[1m{\u001b[0m\u001b[32m'dataset'\u001b[0m: \u001b[32m'vH16'\u001b[0m, \u001b[32m'n_latents'\u001b[0m: \u001b[1;36m512\u001b[0m, \u001b[32m'prior_clamp'\u001b[0m: \u001b[1;36m-4\u001b[0m, \u001b[32m'enc_type'\u001b[0m: \u001b[32m'lin'\u001b[0m, \u001b[32m'dec_type'\u001b[0m: \u001b[32m'lin'\u001b[0m, \u001b[32m'enc_bias'\u001b[0m: \u001b[3;91mFalse\u001b[0m, \n",
       "\u001b[32m'dec_bias'\u001b[0m: \u001b[3;91mFalse\u001b[0m, \u001b[32m'init_dist'\u001b[0m: \u001b[32m'normal'\u001b[0m, \u001b[32m'init_scale'\u001b[0m: \u001b[1;36m0.01\u001b[0m, \u001b[32m'seq_len'\u001b[0m: \u001b[1;36m1\u001b[0m\u001b[1m}\u001b[0m\n",
       "\n",
       "Trainer:\n",
       "\u001b[1m{\u001b[0m\u001b[32m'batch_size'\u001b[0m: \u001b[1;36m1000\u001b[0m, \u001b[32m'epochs'\u001b[0m: \u001b[1;36m3000\u001b[0m, \u001b[32m'optimizer_kws'\u001b[0m: \u001b[1m{\u001b[0m\u001b[32m'weight_decay'\u001b[0m: \u001b[1;36m0.0\u001b[0m\u001b[1m}\u001b[0m, \u001b[32m'grad_clip'\u001b[0m: \u001b[1;36m500\u001b[0m, \u001b[32m'kl_const_portion'\u001b[0m: \n",
       "\u001b[1;36m0.0\u001b[0m, \u001b[32m'lr'\u001b[0m: \u001b[1;36m0.002\u001b[0m, \u001b[32m'kl_beta'\u001b[0m: \u001b[1;36m1.0\u001b[0m\u001b[1m}\u001b[0m\n"
      ]
     },
     "metadata": {},
     "output_type": "display_data"
    }
   ],
   "source": [
    "model_type = 'poisson'\n",
    "cfg_vae, cfg_tr = default_configs('vH16', model_type, 'lin|lin')\n",
    "\n",
    "cfg_vae['init_scale'] = 1e-2\n",
    "cfg_vae['seq_len'] = 1\n",
    "\n",
    "cfg_tr['lr'] = 2e-3\n",
    "cfg_tr['epochs'] = 3000\n",
    "cfg_tr['batch_size'] = 1000\n",
    "cfg_tr['kl_beta'] = 1.0\n",
    "\n",
    "print(f\"VAE:\\n{cfg_vae}\\n\\nTrainer:\\n{cfg_tr}\")"
   ]
  },
  {
   "cell_type": "markdown",
   "id": "80b5106a-4614-4496-a3cc-f5207123ce08",
   "metadata": {},
   "source": [
    "### Make model + trainer"
   ]
  },
  {
   "cell_type": "code",
   "execution_count": 4,
   "id": "d072c109-3132-4d42-b616-88b264d53d96",
   "metadata": {},
   "outputs": [],
   "source": [
    "tr_ipvae = TrainerVAE(\n",
    "    HIPVAE(CFG_CLASSES[model_type](**cfg_vae)),\n",
    "    ConfigTrainVAE(**cfg_tr),\n",
    "    device=device,\n",
    ")"
   ]
  },
  {
   "cell_type": "code",
   "execution_count": 5,
   "id": "d178c349-424d-4212-a1bc-8732841ff7e6",
   "metadata": {},
   "outputs": [
    {
     "data": {
      "text/html": [
       "<pre style=\"white-space:pre;overflow-x:auto;line-height:normal;font-family:Menlo,'DejaVu Sans Mono',consolas,'Courier New',monospace\">+-------------+------------+\n",
       "| Module Name | Num Params |\n",
       "+-------------+------------+\n",
       "|    HIPVAE   |  <span style=\"color: #008080; text-decoration-color: #008080; font-weight: bold\">262.7</span> K   |\n",
       "|     ———     |    ———     |\n",
       "|  layers.L_0 |  <span style=\"color: #008080; text-decoration-color: #008080; font-weight: bold\">262.7</span> K   |\n",
       "+-------------+------------+ \n",
       "\n",
       "</pre>\n"
      ],
      "text/plain": [
       "+-------------+------------+\n",
       "| Module Name | Num Params |\n",
       "+-------------+------------+\n",
       "|    HIPVAE   |  \u001b[1;36m262.7\u001b[0m K   |\n",
       "|     ———     |    ———     |\n",
       "|  layers.L_0 |  \u001b[1;36m262.7\u001b[0m K   |\n",
       "+-------------+------------+ \n",
       "\n"
      ]
     },
     "metadata": {},
     "output_type": "display_data"
    },
    {
     "data": {
      "text/html": [
       "<pre style=\"white-space:pre;overflow-x:auto;line-height:normal;font-family:Menlo,'DejaVu Sans Mono',consolas,'Courier New',monospace\"><span style=\"color: #800080; text-decoration-color: #800080; font-weight: bold\">poisson_uniform_c</span><span style=\"font-weight: bold\">(</span><span style=\"color: #008080; text-decoration-color: #008080; font-weight: bold\">-4</span><span style=\"font-weight: bold\">)</span>_vH16_t-1_z-<span style=\"font-weight: bold\">[</span><span style=\"color: #008080; text-decoration-color: #008080; font-weight: bold\">512</span><span style=\"font-weight: bold\">]</span>_<span style=\"font-weight: bold\">&lt;</span><span style=\"color: #ff00ff; text-decoration-color: #ff00ff; font-weight: bold\">lin|lin</span><span style=\"font-weight: bold\">&gt;</span>\n",
       "mc_b1000-ep3000-<span style=\"color: #800080; text-decoration-color: #800080; font-weight: bold\">lr</span><span style=\"font-weight: bold\">(</span><span style=\"color: #008080; text-decoration-color: #008080; font-weight: bold\">0.002</span><span style=\"font-weight: bold\">)</span><span style=\"color: #800080; text-decoration-color: #800080; font-weight: bold\">_beta</span><span style=\"font-weight: bold\">(</span><span style=\"color: #00ff00; text-decoration-color: #00ff00; font-weight: bold\">1:0</span>x0.<span style=\"color: #008080; text-decoration-color: #008080; font-weight: bold\">5</span><span style=\"font-weight: bold\">)</span><span style=\"color: #800080; text-decoration-color: #800080; font-weight: bold\">_temp</span><span style=\"font-weight: bold\">(</span><span style=\"color: #008080; text-decoration-color: #008080; font-weight: bold\">0.05</span>:lin-<span style=\"color: #008080; text-decoration-color: #008080; font-weight: bold\">0.5</span><span style=\"font-weight: bold\">)</span><span style=\"color: #800080; text-decoration-color: #800080; font-weight: bold\">_gr</span><span style=\"font-weight: bold\">(</span><span style=\"color: #008080; text-decoration-color: #008080; font-weight: bold\">500</span><span style=\"font-weight: bold\">)</span><span style=\"color: #800080; text-decoration-color: #800080; font-weight: bold\">_</span><span style=\"font-weight: bold\">(</span>2024_08_28,<span style=\"color: #00ff00; text-decoration-color: #00ff00; font-weight: bold\">12:43</span><span style=\"font-weight: bold\">)</span>\n",
       "\n",
       "</pre>\n"
      ],
      "text/plain": [
       "\u001b[1;35mpoisson_uniform_c\u001b[0m\u001b[1m(\u001b[0m\u001b[1;36m-4\u001b[0m\u001b[1m)\u001b[0m_vH16_t-1_z-\u001b[1m[\u001b[0m\u001b[1;36m512\u001b[0m\u001b[1m]\u001b[0m_\u001b[1m<\u001b[0m\u001b[1;95mlin|lin\u001b[0m\u001b[1m>\u001b[0m\n",
       "mc_b1000-ep3000-\u001b[1;35mlr\u001b[0m\u001b[1m(\u001b[0m\u001b[1;36m0.002\u001b[0m\u001b[1m)\u001b[0m\u001b[1;35m_beta\u001b[0m\u001b[1m(\u001b[0m\u001b[1;92m1:0\u001b[0mx0.\u001b[1;36m5\u001b[0m\u001b[1m)\u001b[0m\u001b[1;35m_temp\u001b[0m\u001b[1m(\u001b[0m\u001b[1;36m0.05\u001b[0m:lin-\u001b[1;36m0.5\u001b[0m\u001b[1m)\u001b[0m\u001b[1;35m_gr\u001b[0m\u001b[1m(\u001b[0m\u001b[1;36m500\u001b[0m\u001b[1m)\u001b[0m\u001b[1;35m_\u001b[0m\u001b[1m(\u001b[0m2024_08_28,\u001b[1;92m12:43\u001b[0m\u001b[1m)\u001b[0m\n",
       "\n"
      ]
     },
     "metadata": {},
     "output_type": "display_data"
    },
    {
     "data": {
      "image/png": "[encoded data removed]",
      "text/plain": [
       "<Figure size 650x160 with 3 Axes>"
      ]
     },
     "metadata": {},
     "output_type": "display_data"
    }
   ],
   "source": [
    "tr_ipvae.model.print()\n",
    "print(f\"{tr_ipvae.model.cfg.name()}\\n{tr_ipvae.cfg.name()}_({tr_ipvae.model.timestamp})\\n\")\n",
    "tr_ipvae.show_schedules()"
   ]
  },
  {
   "cell_type": "code",
   "execution_count": null,
   "id": "3530f4e2-c15b-4536-8b1d-ff666fca0a2f",
   "metadata": {},
   "outputs": [],
   "source": []
  },
  {
   "cell_type": "code",
   "execution_count": 6,
   "id": "d240d7b0-def1-4f84-adc2-f23ab965fdf0",
   "metadata": {},
   "outputs": [
    {
     "data": {
      "text/html": [
       "<pre style=\"white-space:pre;overflow-x:auto;line-height:normal;font-family:Menlo,'DejaVu Sans Mono',consolas,'Courier New',monospace\"><span style=\"font-weight: bold\">{</span>\n",
       "    <span style=\"color: #008000; text-decoration-color: #008000\">'prior_log_dist'</span>: <span style=\"color: #008000; text-decoration-color: #008000\">'uniform'</span>,\n",
       "    <span style=\"color: #008000; text-decoration-color: #008000\">'prior_clamp'</span>: <span style=\"color: #008080; text-decoration-color: #008080; font-weight: bold\">-4</span>,\n",
       "    <span style=\"color: #008000; text-decoration-color: #008000\">'hard_fwd'</span>: <span style=\"color: #ff0000; text-decoration-color: #ff0000; font-style: italic\">False</span>,\n",
       "    <span style=\"color: #008000; text-decoration-color: #008000\">'exc_only'</span>: <span style=\"color: #ff0000; text-decoration-color: #ff0000; font-style: italic\">False</span>,\n",
       "    <span style=\"color: #008000; text-decoration-color: #008000\">'type'</span>: <span style=\"color: #008000; text-decoration-color: #008000\">'poisson'</span>,\n",
       "    <span style=\"color: #008000; text-decoration-color: #008000\">'n_ch'</span>: <span style=\"color: #008080; text-decoration-color: #008080; font-weight: bold\">32</span>,\n",
       "    <span style=\"color: #008000; text-decoration-color: #008000\">'seq_len'</span>: <span style=\"color: #008080; text-decoration-color: #008080; font-weight: bold\">1</span>,\n",
       "    <span style=\"color: #008000; text-decoration-color: #008000\">'n_latents'</span>: <span style=\"font-weight: bold\">[</span><span style=\"color: #008080; text-decoration-color: #008080; font-weight: bold\">512</span><span style=\"font-weight: bold\">]</span>,\n",
       "    <span style=\"color: #008000; text-decoration-color: #008000\">'lateral_ker_sz'</span>: <span style=\"font-weight: bold\">[</span><span style=\"color: #800080; text-decoration-color: #800080; font-style: italic\">None</span><span style=\"font-weight: bold\">]</span>,\n",
       "    <span style=\"color: #008000; text-decoration-color: #008000\">'enc_type'</span>: <span style=\"color: #008000; text-decoration-color: #008000\">'lin'</span>,\n",
       "    <span style=\"color: #008000; text-decoration-color: #008000\">'dec_type'</span>: <span style=\"color: #008000; text-decoration-color: #008000\">'lin'</span>,\n",
       "    <span style=\"color: #008000; text-decoration-color: #008000\">'enc_bias'</span>: <span style=\"color: #ff0000; text-decoration-color: #ff0000; font-style: italic\">False</span>,\n",
       "    <span style=\"color: #008000; text-decoration-color: #008000\">'dec_bias'</span>: <span style=\"color: #ff0000; text-decoration-color: #ff0000; font-style: italic\">False</span>,\n",
       "    <span style=\"color: #008000; text-decoration-color: #008000\">'enc_norm'</span>: <span style=\"color: #ff0000; text-decoration-color: #ff0000; font-style: italic\">False</span>,\n",
       "    <span style=\"color: #008000; text-decoration-color: #008000\">'dec_norm'</span>: <span style=\"color: #ff0000; text-decoration-color: #ff0000; font-style: italic\">False</span>,\n",
       "    <span style=\"color: #008000; text-decoration-color: #008000\">'dataset'</span>: <span style=\"color: #008000; text-decoration-color: #008000\">'vH16'</span>,\n",
       "    <span style=\"color: #008000; text-decoration-color: #008000\">'input_sz'</span>: <span style=\"color: #008080; text-decoration-color: #008080; font-weight: bold\">16</span>,\n",
       "    <span style=\"color: #008000; text-decoration-color: #008000\">'fit_prior'</span>: <span style=\"color: #00ff00; text-decoration-color: #00ff00; font-style: italic\">True</span>,\n",
       "    <span style=\"color: #008000; text-decoration-color: #008000\">'use_bn'</span>: <span style=\"color: #ff0000; text-decoration-color: #ff0000; font-style: italic\">False</span>,\n",
       "    <span style=\"color: #008000; text-decoration-color: #008000\">'use_se'</span>: <span style=\"color: #00ff00; text-decoration-color: #00ff00; font-style: italic\">True</span>,\n",
       "    <span style=\"color: #008000; text-decoration-color: #008000\">'res_eps'</span>: <span style=\"color: #008080; text-decoration-color: #008080; font-weight: bold\">1.0</span>,\n",
       "    <span style=\"color: #008000; text-decoration-color: #008000\">'init_dist'</span>: <span style=\"color: #008000; text-decoration-color: #008000\">'normal'</span>,\n",
       "    <span style=\"color: #008000; text-decoration-color: #008000\">'init_scale'</span>: <span style=\"color: #008080; text-decoration-color: #008080; font-weight: bold\">0.01</span>,\n",
       "    <span style=\"color: #008000; text-decoration-color: #008000\">'activation_fn'</span>: <span style=\"color: #008000; text-decoration-color: #008000\">'swish'</span>,\n",
       "    <span style=\"color: #008000; text-decoration-color: #008000\">'seed'</span>: <span style=\"color: #008080; text-decoration-color: #008080; font-weight: bold\">0</span>,\n",
       "    <span style=\"color: #008000; text-decoration-color: #008000\">'base_dir'</span>: <span style=\"color: #008000; text-decoration-color: #008000\">'/home/hadi/Projects/PoissonVAE'</span>,\n",
       "    <span style=\"color: #008000; text-decoration-color: #008000\">'data_dir'</span>: <span style=\"color: #008000; text-decoration-color: #008000\">'/home/hadi/Datasets'</span>,\n",
       "    <span style=\"color: #008000; text-decoration-color: #008000\">'runs_dir'</span>: <span style=\"color: #008000; text-decoration-color: #008000\">'/home/hadi/Projects/PoissonVAE/runs/poisson_uniform_c(-4)_vH16_t-1_z-[512]_&lt;lin|lin&gt;'</span><span style=\"color: #000000; text-decoration-color: #000000\">,</span>\n",
       "<span style=\"color: #000000; text-decoration-color: #000000\">    </span><span style=\"color: #008000; text-decoration-color: #008000\">'mods_dir'</span><span style=\"color: #000000; text-decoration-color: #000000\">: </span><span style=\"color: #008000; text-decoration-color: #008000\">'/home/hadi/Projects/PoissonVAE/models/poisson_uniform_c(-4)_vH16_t-1_z-[512]_&lt;lin|lin&gt;'</span>,\n",
       "    <span style=\"color: #008000; text-decoration-color: #008000\">'results_dir'</span>: <span style=\"color: #008000; text-decoration-color: #008000\">'/home/hadi/Projects/PoissonVAE/results'</span>\n",
       "<span style=\"font-weight: bold\">}</span>\n",
       "</pre>\n"
      ],
      "text/plain": [
       "\u001b[1m{\u001b[0m\n",
       "    \u001b[32m'prior_log_dist'\u001b[0m: \u001b[32m'uniform'\u001b[0m,\n",
       "    \u001b[32m'prior_clamp'\u001b[0m: \u001b[1;36m-4\u001b[0m,\n",
       "    \u001b[32m'hard_fwd'\u001b[0m: \u001b[3;91mFalse\u001b[0m,\n",
       "    \u001b[32m'exc_only'\u001b[0m: \u001b[3;91mFalse\u001b[0m,\n",
       "    \u001b[32m'type'\u001b[0m: \u001b[32m'poisson'\u001b[0m,\n",
       "    \u001b[32m'n_ch'\u001b[0m: \u001b[1;36m32\u001b[0m,\n",
       "    \u001b[32m'seq_len'\u001b[0m: \u001b[1;36m1\u001b[0m,\n",
       "    \u001b[32m'n_latents'\u001b[0m: \u001b[1m[\u001b[0m\u001b[1;36m512\u001b[0m\u001b[1m]\u001b[0m,\n",
       "    \u001b[32m'lateral_ker_sz'\u001b[0m: \u001b[1m[\u001b[0m\u001b[3;35mNone\u001b[0m\u001b[1m]\u001b[0m,\n",
       "    \u001b[32m'enc_type'\u001b[0m: \u001b[32m'lin'\u001b[0m,\n",
       "    \u001b[32m'dec_type'\u001b[0m: \u001b[32m'lin'\u001b[0m,\n",
       "    \u001b[32m'enc_bias'\u001b[0m: \u001b[3;91mFalse\u001b[0m,\n",
       "    \u001b[32m'dec_bias'\u001b[0m: \u001b[3;91mFalse\u001b[0m,\n",
       "    \u001b[32m'enc_norm'\u001b[0m: \u001b[3;91mFalse\u001b[0m,\n",
       "    \u001b[32m'dec_norm'\u001b[0m: \u001b[3;91mFalse\u001b[0m,\n",
       "    \u001b[32m'dataset'\u001b[0m: \u001b[32m'vH16'\u001b[0m,\n",
       "    \u001b[32m'input_sz'\u001b[0m: \u001b[1;36m16\u001b[0m,\n",
       "    \u001b[32m'fit_prior'\u001b[0m: \u001b[3;92mTrue\u001b[0m,\n",
       "    \u001b[32m'use_bn'\u001b[0m: \u001b[3;91mFalse\u001b[0m,\n",
       "    \u001b[32m'use_se'\u001b[0m: \u001b[3;92mTrue\u001b[0m,\n",
       "    \u001b[32m'res_eps'\u001b[0m: \u001b[1;36m1.0\u001b[0m,\n",
       "    \u001b[32m'init_dist'\u001b[0m: \u001b[32m'normal'\u001b[0m,\n",
       "    \u001b[32m'init_scale'\u001b[0m: \u001b[1;36m0.01\u001b[0m,\n",
       "    \u001b[32m'activation_fn'\u001b[0m: \u001b[32m'swish'\u001b[0m,\n",
       "    \u001b[32m'seed'\u001b[0m: \u001b[1;36m0\u001b[0m,\n",
       "    \u001b[32m'base_dir'\u001b[0m: \u001b[32m'/home/hadi/Projects/PoissonVAE'\u001b[0m,\n",
       "    \u001b[32m'data_dir'\u001b[0m: \u001b[32m'/home/hadi/Datasets'\u001b[0m,\n",
       "    \u001b[32m'runs_dir'\u001b[0m: \u001b[32m'/home/hadi/Projects/PoissonVAE/runs/poisson_uniform_c\u001b[0m\u001b[32m(\u001b[0m\u001b[32m-4\u001b[0m\u001b[32m)\u001b[0m\u001b[32m_vH16_t-1_z-\u001b[0m\u001b[32m[\u001b[0m\u001b[32m512\u001b[0m\u001b[32m]\u001b[0m\u001b[32m_\u001b[0m\u001b[32m<\u001b[0m\u001b[32mlin|lin\u001b[0m\u001b[32m>'\u001b[0m\u001b[39m,\u001b[0m\n",
       "\u001b[39m    \u001b[0m\u001b[32m'mods_dir'\u001b[0m\u001b[39m: \u001b[0m\u001b[32m'/home/hadi/Projects/PoissonVAE/models/poisson_uniform_c\u001b[0m\u001b[32m(\u001b[0m\u001b[32m-4\u001b[0m\u001b[32m)\u001b[0m\u001b[32m_vH16_t-1_z-\u001b[0m\u001b[32m[\u001b[0m\u001b[32m512\u001b[0m\u001b[32m]\u001b[0m\u001b[32m_<lin|lin\u001b[0m\u001b[32m>\u001b[0m\u001b[32m'\u001b[0m,\n",
       "    \u001b[32m'results_dir'\u001b[0m: \u001b[32m'/home/hadi/Projects/PoissonVAE/results'\u001b[0m\n",
       "\u001b[1m}\u001b[0m\n"
      ]
     },
     "metadata": {},
     "output_type": "display_data"
    }
   ],
   "source": [
    "print(vars(tr_ipvae.model.cfg))"
   ]
  },
  {
   "cell_type": "code",
   "execution_count": 7,
   "id": "101a2060-05de-4f36-97fd-1bcaec0d6669",
   "metadata": {},
   "outputs": [
    {
     "data": {
      "text/html": [
       "<pre style=\"white-space:pre;overflow-x:auto;line-height:normal;font-family:Menlo,'DejaVu Sans Mono',consolas,'Courier New',monospace\"><span style=\"font-weight: bold\">{</span>\n",
       "    <span style=\"color: #008000; text-decoration-color: #008000\">'lr'</span>: <span style=\"color: #008080; text-decoration-color: #008080; font-weight: bold\">0.002</span>,\n",
       "    <span style=\"color: #008000; text-decoration-color: #008000\">'epochs'</span>: <span style=\"color: #008080; text-decoration-color: #008080; font-weight: bold\">3000</span>,\n",
       "    <span style=\"color: #008000; text-decoration-color: #008000\">'batch_size'</span>: <span style=\"color: #008080; text-decoration-color: #008080; font-weight: bold\">1000</span>,\n",
       "    <span style=\"color: #008000; text-decoration-color: #008000\">'file_name'</span>: <span style=\"color: #800080; text-decoration-color: #800080; font-style: italic\">None</span>,\n",
       "    <span style=\"color: #008000; text-decoration-color: #008000\">'warm_restart'</span>: <span style=\"color: #008080; text-decoration-color: #008080; font-weight: bold\">0</span>,\n",
       "    <span style=\"color: #008000; text-decoration-color: #008000\">'warmup_epochs'</span>: <span style=\"color: #008080; text-decoration-color: #008080; font-weight: bold\">5</span>,\n",
       "    <span style=\"color: #008000; text-decoration-color: #008000\">'optimizer'</span>: <span style=\"color: #008000; text-decoration-color: #008000\">'adamax_fast'</span>,\n",
       "    <span style=\"color: #008000; text-decoration-color: #008000\">'optimizer_kws'</span>: <span style=\"font-weight: bold\">{</span><span style=\"color: #008000; text-decoration-color: #008000\">'weight_decay'</span>: <span style=\"color: #008080; text-decoration-color: #008080; font-weight: bold\">0.0</span>, <span style=\"color: #008000; text-decoration-color: #008000\">'betas'</span>: <span style=\"font-weight: bold\">(</span><span style=\"color: #008080; text-decoration-color: #008080; font-weight: bold\">0.9</span>, <span style=\"color: #008080; text-decoration-color: #008080; font-weight: bold\">0.999</span><span style=\"font-weight: bold\">)</span>, <span style=\"color: #008000; text-decoration-color: #008000\">'eps'</span>: <span style=\"color: #008080; text-decoration-color: #008080; font-weight: bold\">1e-08</span><span style=\"font-weight: bold\">}</span>,\n",
       "    <span style=\"color: #008000; text-decoration-color: #008000\">'scheduler_type'</span>: <span style=\"color: #008000; text-decoration-color: #008000\">'cosine'</span>,\n",
       "    <span style=\"color: #008000; text-decoration-color: #008000\">'scheduler_kws'</span>: <span style=\"font-weight: bold\">{</span><span style=\"color: #008000; text-decoration-color: #008000\">'T_max'</span>: <span style=\"color: #008080; text-decoration-color: #008080; font-weight: bold\">2995.0</span>, <span style=\"color: #008000; text-decoration-color: #008000\">'eta_min'</span>: <span style=\"color: #008080; text-decoration-color: #008080; font-weight: bold\">1e-05</span><span style=\"font-weight: bold\">}</span>,\n",
       "    <span style=\"color: #008000; text-decoration-color: #008000\">'ema_rate'</span>: <span style=\"color: #800080; text-decoration-color: #800080; font-style: italic\">None</span>,\n",
       "    <span style=\"color: #008000; text-decoration-color: #008000\">'grad_clip'</span>: <span style=\"color: #008080; text-decoration-color: #008080; font-weight: bold\">500</span>,\n",
       "    <span style=\"color: #008000; text-decoration-color: #008000\">'chkpt_freq'</span>: <span style=\"color: #008080; text-decoration-color: #008080; font-weight: bold\">50</span>,\n",
       "    <span style=\"color: #008000; text-decoration-color: #008000\">'eval_freq'</span>: <span style=\"color: #008080; text-decoration-color: #008080; font-weight: bold\">20</span>,\n",
       "    <span style=\"color: #008000; text-decoration-color: #008000\">'log_freq'</span>: <span style=\"color: #008080; text-decoration-color: #008080; font-weight: bold\">10</span>,\n",
       "    <span style=\"color: #008000; text-decoration-color: #008000\">'use_amp'</span>: <span style=\"color: #ff0000; text-decoration-color: #ff0000; font-style: italic\">False</span>,\n",
       "    <span style=\"color: #008000; text-decoration-color: #008000\">'method'</span>: <span style=\"color: #008000; text-decoration-color: #008000\">'mc'</span>,\n",
       "    <span style=\"color: #008000; text-decoration-color: #008000\">'kl_beta'</span>: <span style=\"color: #008080; text-decoration-color: #008080; font-weight: bold\">1.0</span>,\n",
       "    <span style=\"color: #008000; text-decoration-color: #008000\">'kl_beta_min'</span>: <span style=\"color: #008080; text-decoration-color: #008080; font-weight: bold\">0.0001</span>,\n",
       "    <span style=\"color: #008000; text-decoration-color: #008000\">'kl_balancer'</span>: <span style=\"color: #800080; text-decoration-color: #800080; font-style: italic\">None</span>,\n",
       "    <span style=\"color: #008000; text-decoration-color: #008000\">'kl_anneal_cycles'</span>: <span style=\"color: #008080; text-decoration-color: #008080; font-weight: bold\">0</span>,\n",
       "    <span style=\"color: #008000; text-decoration-color: #008000\">'kl_anneal_portion'</span>: <span style=\"color: #008080; text-decoration-color: #008080; font-weight: bold\">0.5</span>,\n",
       "    <span style=\"color: #008000; text-decoration-color: #008000\">'kl_const_portion'</span>: <span style=\"color: #008080; text-decoration-color: #008080; font-weight: bold\">0.0</span>,\n",
       "    <span style=\"color: #008000; text-decoration-color: #008000\">'lambda_anneal'</span>: <span style=\"color: #ff0000; text-decoration-color: #ff0000; font-style: italic\">False</span>,\n",
       "    <span style=\"color: #008000; text-decoration-color: #008000\">'lambda_init'</span>: <span style=\"color: #008080; text-decoration-color: #008080; font-weight: bold\">0.0</span>,\n",
       "    <span style=\"color: #008000; text-decoration-color: #008000\">'lambda_norm'</span>: <span style=\"color: #008080; text-decoration-color: #008080; font-weight: bold\">0.0</span>,\n",
       "    <span style=\"color: #008000; text-decoration-color: #008000\">'temp_anneal_portion'</span>: <span style=\"color: #008080; text-decoration-color: #008080; font-weight: bold\">0.5</span>,\n",
       "    <span style=\"color: #008000; text-decoration-color: #008000\">'temp_anneal_type'</span>: <span style=\"color: #008000; text-decoration-color: #008000\">'lin'</span>,\n",
       "    <span style=\"color: #008000; text-decoration-color: #008000\">'temp_start'</span>: <span style=\"color: #008080; text-decoration-color: #008080; font-weight: bold\">1.0</span>,\n",
       "    <span style=\"color: #008000; text-decoration-color: #008000\">'temp_stop'</span>: <span style=\"color: #008080; text-decoration-color: #008080; font-weight: bold\">0.05</span>\n",
       "<span style=\"font-weight: bold\">}</span>\n",
       "</pre>\n"
      ],
      "text/plain": [
       "\u001b[1m{\u001b[0m\n",
       "    \u001b[32m'lr'\u001b[0m: \u001b[1;36m0.002\u001b[0m,\n",
       "    \u001b[32m'epochs'\u001b[0m: \u001b[1;36m3000\u001b[0m,\n",
       "    \u001b[32m'batch_size'\u001b[0m: \u001b[1;36m1000\u001b[0m,\n",
       "    \u001b[32m'file_name'\u001b[0m: \u001b[3;35mNone\u001b[0m,\n",
       "    \u001b[32m'warm_restart'\u001b[0m: \u001b[1;36m0\u001b[0m,\n",
       "    \u001b[32m'warmup_epochs'\u001b[0m: \u001b[1;36m5\u001b[0m,\n",
       "    \u001b[32m'optimizer'\u001b[0m: \u001b[32m'adamax_fast'\u001b[0m,\n",
       "    \u001b[32m'optimizer_kws'\u001b[0m: \u001b[1m{\u001b[0m\u001b[32m'weight_decay'\u001b[0m: \u001b[1;36m0.0\u001b[0m, \u001b[32m'betas'\u001b[0m: \u001b[1m(\u001b[0m\u001b[1;36m0.9\u001b[0m, \u001b[1;36m0.999\u001b[0m\u001b[1m)\u001b[0m, \u001b[32m'eps'\u001b[0m: \u001b[1;36m1e-08\u001b[0m\u001b[1m}\u001b[0m,\n",
       "    \u001b[32m'scheduler_type'\u001b[0m: \u001b[32m'cosine'\u001b[0m,\n",
       "    \u001b[32m'scheduler_kws'\u001b[0m: \u001b[1m{\u001b[0m\u001b[32m'T_max'\u001b[0m: \u001b[1;36m2995.0\u001b[0m, \u001b[32m'eta_min'\u001b[0m: \u001b[1;36m1e-05\u001b[0m\u001b[1m}\u001b[0m,\n",
       "    \u001b[32m'ema_rate'\u001b[0m: \u001b[3;35mNone\u001b[0m,\n",
       "    \u001b[32m'grad_clip'\u001b[0m: \u001b[1;36m500\u001b[0m,\n",
       "    \u001b[32m'chkpt_freq'\u001b[0m: \u001b[1;36m50\u001b[0m,\n",
       "    \u001b[32m'eval_freq'\u001b[0m: \u001b[1;36m20\u001b[0m,\n",
       "    \u001b[32m'log_freq'\u001b[0m: \u001b[1;36m10\u001b[0m,\n",
       "    \u001b[32m'use_amp'\u001b[0m: \u001b[3;91mFalse\u001b[0m,\n",
       "    \u001b[32m'method'\u001b[0m: \u001b[32m'mc'\u001b[0m,\n",
       "    \u001b[32m'kl_beta'\u001b[0m: \u001b[1;36m1.0\u001b[0m,\n",
       "    \u001b[32m'kl_beta_min'\u001b[0m: \u001b[1;36m0.0001\u001b[0m,\n",
       "    \u001b[32m'kl_balancer'\u001b[0m: \u001b[3;35mNone\u001b[0m,\n",
       "    \u001b[32m'kl_anneal_cycles'\u001b[0m: \u001b[1;36m0\u001b[0m,\n",
       "    \u001b[32m'kl_anneal_portion'\u001b[0m: \u001b[1;36m0.5\u001b[0m,\n",
       "    \u001b[32m'kl_const_portion'\u001b[0m: \u001b[1;36m0.0\u001b[0m,\n",
       "    \u001b[32m'lambda_anneal'\u001b[0m: \u001b[3;91mFalse\u001b[0m,\n",
       "    \u001b[32m'lambda_init'\u001b[0m: \u001b[1;36m0.0\u001b[0m,\n",
       "    \u001b[32m'lambda_norm'\u001b[0m: \u001b[1;36m0.0\u001b[0m,\n",
       "    \u001b[32m'temp_anneal_portion'\u001b[0m: \u001b[1;36m0.5\u001b[0m,\n",
       "    \u001b[32m'temp_anneal_type'\u001b[0m: \u001b[32m'lin'\u001b[0m,\n",
       "    \u001b[32m'temp_start'\u001b[0m: \u001b[1;36m1.0\u001b[0m,\n",
       "    \u001b[32m'temp_stop'\u001b[0m: \u001b[1;36m0.05\u001b[0m\n",
       "\u001b[1m}\u001b[0m\n"
      ]
     },
     "metadata": {},
     "output_type": "display_data"
    }
   ],
   "source": [
    "print(vars(tr_ipvae.cfg))"
   ]
  },
  {
   "cell_type": "code",
   "execution_count": null,
   "id": "5d32ae7f-c705-4bb1-8455-52324d3bd4d0",
   "metadata": {},
   "outputs": [],
   "source": []
  },
  {
   "cell_type": "code",
   "execution_count": null,
   "id": "0f400fc2-0802-4df8-b3d5-b1f985ceda1c",
   "metadata": {},
   "outputs": [],
   "source": []
  },
  {
   "cell_type": "code",
   "execution_count": 8,
   "id": "9fee6fbb-5621-4d1c-9602-5297e08e5c7a",
   "metadata": {},
   "outputs": [
    {
     "data": {
      "text/plain": [
       "(torch.Size([1000, 1, 512]), torch.Size([1000, 1]))"
      ]
     },
     "execution_count": 8,
     "metadata": {},
     "output_type": "execute_result"
    }
   ],
   "source": [
    "self = tr_ipvae\n",
    "x = next(iter(self.dl_vld))[0]\n",
    "\n",
    "dist, kl, recon_batch = self._fun(x)\n",
    "kl.shape, recon_batch.shape"
   ]
  },
  {
   "cell_type": "code",
   "execution_count": 9,
   "id": "7bb54ef8-b420-4723-b94a-8af20e7daa9a",
   "metadata": {},
   "outputs": [
    {
     "data": {
      "text/plain": [
       "(torch.Size([1000, 1]), torch.Size([1000]))"
      ]
     },
     "execution_count": 9,
     "metadata": {},
     "output_type": "execute_result"
    }
   ],
   "source": [
    "kl_batch = torch.sum(kl, dim=2)\n",
    "kl_balanced = torch.mean(kl_batch, dim=1)\n",
    "\n",
    "kl_batch.shape, kl_balanced.shape"
   ]
  },
  {
   "cell_type": "code",
   "execution_count": null,
   "id": "08b87a36-7a34-4c7a-ad09-4fdedc6f8b59",
   "metadata": {},
   "outputs": [],
   "source": []
  },
  {
   "cell_type": "code",
   "execution_count": 10,
   "id": "756d7a39-65da-4855-ac68-e4114ebf87c0",
   "metadata": {},
   "outputs": [
    {
     "data": {
      "text/plain": [
       "tensor(0., device='cuda:1', grad_fn=<SumBackward0>)"
      ]
     },
     "execution_count": 10,
     "metadata": {},
     "output_type": "execute_result"
    }
   ],
   "source": [
    "(kl_batch.ravel() - kl_balanced).abs().sum()"
   ]
  },
  {
   "cell_type": "code",
   "execution_count": 11,
   "id": "b9cd0a26-4fd0-490d-99f1-1a7762b15fe5",
   "metadata": {},
   "outputs": [
    {
     "data": {
      "text/plain": [
       "tensor(0., device='cuda:1', grad_fn=<SumBackward0>)"
      ]
     },
     "execution_count": 11,
     "metadata": {},
     "output_type": "execute_result"
    }
   ],
   "source": [
    "(recon_batch.ravel() - torch.mean(recon_batch, dim=1)).abs().sum()"
   ]
  },
  {
   "cell_type": "code",
   "execution_count": null,
   "id": "accd6f74-dfc5-4fc5-824e-9c71cbf41bb0",
   "metadata": {},
   "outputs": [],
   "source": []
  },
  {
   "cell_type": "code",
   "execution_count": 12,
   "id": "68063066-166a-440f-a36c-529dde86541e",
   "metadata": {},
   "outputs": [
    {
     "data": {
      "text/plain": [
       "(tensor(195.9985, device='cuda:1', grad_fn=<MeanBackward0>),\n",
       " tensor(0.0428, device='cuda:1', grad_fn=<MeanBackward0>))"
      ]
     },
     "execution_count": 12,
     "metadata": {},
     "output_type": "execute_result"
    }
   ],
   "source": [
    "recon_batch.mean(), kl_batch.mean()"
   ]
  },
  {
   "cell_type": "code",
   "execution_count": null,
   "id": "32de71d3-0099-4122-b3f7-c887289769dc",
   "metadata": {},
   "outputs": [],
   "source": []
  },
  {
   "cell_type": "code",
   "execution_count": 13,
   "id": "7e5bab8d-0d07-41fa-8b0f-562a6e764fa3",
   "metadata": {},
   "outputs": [],
   "source": [
    "loss_batch = (\n",
    "    torch.mean(recon_batch, dim=1) +\n",
    "    kl_balanced.mul(1.0)\n",
    ")"
   ]
  },
  {
   "cell_type": "code",
   "execution_count": 14,
   "id": "2fee5914-061b-4aae-8637-d1438bfe9716",
   "metadata": {},
   "outputs": [
    {
     "data": {
      "text/plain": [
       "tensor(196.0414, device='cuda:1', grad_fn=<MeanBackward0>)"
      ]
     },
     "execution_count": 14,
     "metadata": {},
     "output_type": "execute_result"
    }
   ],
   "source": [
    "loss = torch.mean(loss_batch)\n",
    "loss"
   ]
  },
  {
   "cell_type": "code",
   "execution_count": null,
   "id": "9362d181-abb5-4925-a613-adf70a92be39",
   "metadata": {},
   "outputs": [],
   "source": []
  },
  {
   "cell_type": "code",
   "execution_count": 15,
   "id": "127546a2-a9ef-4917-a87b-10507299f96a",
   "metadata": {},
   "outputs": [
    {
     "data": {
      "image/png": "[encoded data removed]",
      "text/plain": [
       "<Figure size 300x200 with 1 Axes>"
      ]
     },
     "metadata": {},
     "output_type": "display_data"
    }
   ],
   "source": [
    "sns.histplot(tonp(self.model.input_layer.fc_dec.weight.data).ravel(), element='step', color='b')\n",
    "sns.histplot(tonp(self.model.input_layer.fc_enc.weight.data).ravel(), element='step', fill=False, color='r');"
   ]
  },
  {
   "cell_type": "code",
   "execution_count": null,
   "id": "946eb0dd-4a0e-4a19-98fe-f724604150b5",
   "metadata": {},
   "outputs": [],
   "source": []
  },
  {
   "cell_type": "code",
   "execution_count": 16,
   "id": "e2b7f665-6cd3-4c51-995f-13bafde8a47c",
   "metadata": {},
   "outputs": [
    {
     "data": {
      "text/plain": [
       "PoissonLayer(dim=512, input_dim=16, temp=1, eps=0, n_exp=263)"
      ]
     },
     "execution_count": 16,
     "metadata": {},
     "output_type": "execute_result"
    }
   ],
   "source": [
    "self.model.input_layer"
   ]
  },
  {
   "cell_type": "code",
   "execution_count": 17,
   "id": "347591cd-bb4d-4ab3-8827-1b88e142c327",
   "metadata": {},
   "outputs": [
    {
     "data": {
      "text/plain": [
       "tensor(1., device='cuda:1')"
      ]
     },
     "execution_count": 17,
     "metadata": {},
     "output_type": "execute_result"
    }
   ],
   "source": [
    "self.model.input_layer.temp"
   ]
  },
  {
   "cell_type": "code",
   "execution_count": null,
   "id": "caccf535-de68-4532-827f-e30caaad6765",
   "metadata": {},
   "outputs": [],
   "source": []
  },
  {
   "cell_type": "code",
   "execution_count": 18,
   "id": "19b0d8f5-a226-413a-b4b2-ebd8780e3206",
   "metadata": {},
   "outputs": [
    {
     "data": {
      "image/png": "[encoded data removed]",
      "text/plain": [
       "<Figure size 300x200 with 1 Axes>"
      ]
     },
     "metadata": {},
     "output_type": "display_data"
    }
   ],
   "source": [
    "sns.histplot(tonp(self.model.input_layer.log_rate.ravel()), color='dimgrey');"
   ]
  },
  {
   "cell_type": "code",
   "execution_count": null,
   "id": "fa135b59-744d-4ee3-bc0f-ff11bc0ad701",
   "metadata": {},
   "outputs": [],
   "source": []
  },
  {
   "cell_type": "code",
   "execution_count": 19,
   "id": "4a5d52fd-5397-4ded-9d7e-c1c0b51bd783",
   "metadata": {},
   "outputs": [
    {
     "data": {
      "text/plain": [
       "['recon', 'dist', 'spks', 'ff', 'fb', 'loss_kl', 'loss_recon']"
      ]
     },
     "execution_count": 19,
     "metadata": {},
     "output_type": "execute_result"
    }
   ],
   "source": [
    "x = next(iter(self.dl_vld))[0]\n",
    "\n",
    "with torch.inference_mode():\n",
    "    output = self.model(x)\n",
    "    output = output.stack()\n",
    "\n",
    "list(output)"
   ]
  },
  {
   "cell_type": "code",
   "execution_count": 41,
   "id": "1c80ebe3-8fe6-4933-a410-74846907737c",
   "metadata": {},
   "outputs": [
    {
     "data": {
      "text/plain": [
       "tensor([[0.0090, 0.0052, 0.0022,  ..., 0.0206, 0.0093, 0.0073],\n",
       "        [0.0070, 0.0033, 0.0024,  ..., 0.0174, 0.0062, 0.0061],\n",
       "        [0.0097, 0.0049, 0.0027,  ..., 0.0212, 0.0081, 0.0072],\n",
       "        ...,\n",
       "        [0.0093, 0.0034, 0.0030,  ..., 0.0139, 0.0090, 0.0073],\n",
       "        [0.0076, 0.0044, 0.0022,  ..., 0.0119, 0.0081, 0.0066],\n",
       "        [0.0084, 0.0051, 0.0024,  ..., 0.0140, 0.0090, 0.0046]],\n",
       "       device='cuda:1')"
      ]
     },
     "execution_count": 41,
     "metadata": {},
     "output_type": "execute_result"
    }
   ],
   "source": [
    "dist = output['dist']['T_0']['L_0']\n",
    "dist.rate"
   ]
  },
  {
   "cell_type": "code",
   "execution_count": null,
   "id": "8a41ee69-7c9e-4328-9d09-0f718dbe2aa4",
   "metadata": {},
   "outputs": [],
   "source": []
  },
  {
   "cell_type": "code",
   "execution_count": 51,
   "id": "ac8a1e47-2200-4565-86b1-144c31b6fc47",
   "metadata": {
    "scrolled": true
   },
   "outputs": [
    {
     "data": {
      "text/plain": [
       "tensor([0.0083, 0.0046, 0.0026, 0.0027, 0.0136, 0.0145, 0.0071, 0.0125, 0.0064,\n",
       "        0.0127, 0.0105, 0.0030, 0.0140, 0.0027, 0.0147, 0.0030, 0.0149, 0.0088,\n",
       "        0.0056, 0.0056, 0.0022, 0.0028, 0.0098, 0.0097, 0.0058, 0.0056, 0.0148,\n",
       "        0.0148, 0.0096, 0.0075, 0.0093, 0.0052, 0.0035, 0.0083, 0.0065, 0.0055,\n",
       "        0.0078, 0.0116, 0.0198, 0.0060, 0.0074, 0.0050, 0.0082, 0.0042, 0.0069,\n",
       "        0.0139, 0.0039, 0.0076, 0.0037, 0.0108, 0.0087, 0.0050, 0.0120, 0.0027,\n",
       "        0.0052, 0.0041, 0.0048, 0.0137, 0.0039, 0.0025, 0.0050, 0.0041, 0.0035,\n",
       "        0.0068, 0.0053, 0.0103, 0.0042, 0.0160, 0.0056, 0.0028, 0.0079, 0.0142,\n",
       "        0.0061, 0.0174, 0.0094, 0.0051, 0.0091, 0.0148, 0.0184, 0.0050, 0.0102,\n",
       "        0.0078, 0.0062, 0.0105, 0.0067, 0.0103, 0.0107, 0.0139, 0.0031, 0.0104,\n",
       "        0.0145, 0.0226, 0.0026, 0.0114, 0.0165, 0.0162, 0.0040, 0.0147, 0.0165,\n",
       "        0.0124, 0.0060, 0.0042, 0.0150, 0.0130, 0.0044, 0.0068, 0.0072, 0.0109,\n",
       "        0.0028, 0.0130, 0.0071, 0.0032, 0.0103, 0.0031, 0.0144, 0.0056, 0.0200,\n",
       "        0.0024, 0.0132, 0.0026, 0.0048, 0.0054, 0.0166, 0.0084, 0.0044, 0.0042,\n",
       "        0.0125, 0.0037, 0.0040, 0.0042, 0.0065, 0.0109, 0.0121, 0.0092, 0.0045,\n",
       "        0.0056, 0.0110, 0.0107, 0.0163, 0.0051, 0.0110, 0.0080, 0.0127, 0.0034,\n",
       "        0.0054, 0.0151, 0.0027, 0.0147, 0.0049, 0.0154, 0.0024, 0.0053, 0.0036,\n",
       "        0.0084, 0.0045, 0.0101, 0.0166, 0.0039, 0.0151, 0.0023, 0.0050, 0.0057,\n",
       "        0.0046, 0.0197, 0.0111, 0.0045, 0.0038, 0.0139, 0.0126, 0.0066, 0.0050,\n",
       "        0.0196, 0.0055, 0.0040, 0.0108, 0.0133, 0.0124, 0.0184, 0.0165, 0.0151,\n",
       "        0.0198, 0.0036, 0.0031, 0.0092, 0.0081, 0.0030, 0.0054, 0.0137, 0.0075,\n",
       "        0.0063, 0.0052, 0.0074, 0.0055, 0.0030, 0.0166, 0.0093, 0.0030, 0.0115,\n",
       "        0.0164, 0.0117, 0.0044, 0.0042, 0.0091, 0.0036, 0.0074, 0.0102, 0.0180,\n",
       "        0.0032, 0.0067, 0.0117, 0.0043, 0.0052, 0.0029, 0.0095, 0.0034, 0.0060,\n",
       "        0.0170, 0.0055, 0.0168, 0.0111, 0.0130, 0.0050, 0.0029, 0.0029, 0.0153,\n",
       "        0.0079, 0.0062, 0.0035, 0.0102, 0.0044, 0.0076, 0.0071, 0.0062, 0.0091,\n",
       "        0.0039, 0.0066, 0.0034, 0.0168, 0.0061, 0.0132, 0.0034, 0.0152, 0.0135,\n",
       "        0.0061, 0.0116, 0.0093, 0.0095, 0.0168, 0.0028, 0.0141, 0.0064, 0.0048,\n",
       "        0.0202, 0.0094, 0.0063, 0.0053, 0.0145, 0.0031, 0.0127, 0.0116, 0.0113,\n",
       "        0.0038, 0.0125, 0.0040, 0.0049, 0.0069, 0.0082, 0.0032, 0.0076, 0.0025,\n",
       "        0.0084, 0.0120, 0.0037, 0.0125, 0.0147, 0.0190, 0.0114, 0.0058, 0.0116,\n",
       "        0.0144, 0.0062, 0.0082, 0.0161, 0.0069, 0.0170, 0.0108, 0.0052, 0.0152,\n",
       "        0.0097, 0.0036, 0.0085, 0.0029, 0.0056, 0.0055, 0.0040, 0.0078, 0.0032,\n",
       "        0.0174, 0.0085, 0.0120, 0.0143, 0.0089, 0.0033, 0.0097, 0.0076, 0.0119,\n",
       "        0.0066, 0.0109, 0.0175, 0.0058, 0.0034, 0.0053, 0.0094, 0.0060, 0.0098,\n",
       "        0.0040, 0.0082, 0.0045, 0.0050, 0.0138, 0.0084, 0.0070, 0.0153, 0.0029,\n",
       "        0.0112, 0.0050, 0.0028, 0.0096, 0.0059, 0.0041, 0.0157, 0.0037, 0.0066,\n",
       "        0.0024, 0.0046, 0.0136, 0.0126, 0.0070, 0.0043, 0.0068, 0.0024, 0.0115,\n",
       "        0.0104, 0.0089, 0.0097, 0.0030, 0.0043, 0.0079, 0.0041, 0.0228, 0.0203,\n",
       "        0.0048, 0.0066, 0.0081, 0.0034, 0.0041, 0.0109, 0.0136, 0.0043, 0.0044,\n",
       "        0.0125, 0.0067, 0.0086, 0.0042, 0.0028, 0.0021, 0.0069, 0.0039, 0.0168,\n",
       "        0.0027, 0.0064, 0.0053, 0.0040, 0.0109, 0.0084, 0.0119, 0.0026, 0.0051,\n",
       "        0.0062, 0.0072, 0.0038, 0.0033, 0.0135, 0.0036, 0.0134, 0.0162, 0.0060,\n",
       "        0.0050, 0.0139, 0.0108, 0.0131, 0.0119, 0.0082, 0.0179, 0.0145, 0.0032,\n",
       "        0.0146, 0.0035, 0.0065, 0.0062, 0.0040, 0.0156, 0.0027, 0.0028, 0.0063,\n",
       "        0.0141, 0.0039, 0.0140, 0.0034, 0.0079, 0.0164, 0.0107, 0.0154, 0.0068,\n",
       "        0.0167, 0.0110, 0.0145, 0.0149, 0.0082, 0.0048, 0.0063, 0.0028, 0.0092,\n",
       "        0.0038, 0.0077, 0.0075, 0.0092, 0.0110, 0.0032, 0.0076, 0.0057, 0.0085,\n",
       "        0.0097, 0.0090, 0.0106, 0.0069, 0.0058, 0.0051, 0.0050, 0.0117, 0.0116,\n",
       "        0.0041, 0.0167, 0.0088, 0.0073, 0.0126, 0.0085, 0.0073, 0.0047, 0.0043,\n",
       "        0.0116, 0.0113, 0.0152, 0.0054, 0.0071, 0.0056, 0.0148, 0.0054, 0.0034,\n",
       "        0.0191, 0.0164, 0.0026, 0.0035, 0.0076, 0.0144, 0.0087, 0.0038, 0.0032,\n",
       "        0.0095, 0.0100, 0.0042, 0.0028, 0.0060, 0.0033, 0.0037, 0.0091, 0.0117,\n",
       "        0.0068, 0.0035, 0.0044, 0.0047, 0.0075, 0.0066, 0.0046, 0.0086, 0.0078,\n",
       "        0.0065, 0.0078, 0.0103, 0.0122, 0.0055, 0.0042, 0.0078, 0.0068, 0.0146,\n",
       "        0.0072, 0.0103, 0.0171, 0.0065, 0.0151, 0.0038, 0.0156, 0.0181, 0.0035,\n",
       "        0.0018, 0.0088, 0.0024, 0.0271, 0.0130, 0.0225, 0.0063, 0.0090],\n",
       "       device='cuda:1')"
      ]
     },
     "execution_count": 51,
     "metadata": {},
     "output_type": "execute_result"
    }
   ],
   "source": [
    "dist.rate[123]"
   ]
  },
  {
   "cell_type": "code",
   "execution_count": null,
   "id": "fbeeacd1-7469-4b36-ab97-e6d534a3ec40",
   "metadata": {},
   "outputs": [],
   "source": []
  },
  {
   "cell_type": "code",
   "execution_count": 48,
   "id": "9ae359b9-3aaa-46ee-bb90-87f7ca81cc60",
   "metadata": {},
   "outputs": [
    {
     "data": {
      "text/plain": [
       "(False, None)"
      ]
     },
     "execution_count": 48,
     "metadata": {},
     "output_type": "execute_result"
    }
   ],
   "source": [
    "self.model.input_layer.fc_enc.normalize, self.model.input_layer.fc_enc.lognorm"
   ]
  },
  {
   "cell_type": "code",
   "execution_count": 49,
   "id": "66072219-13a6-4ec8-b647-d2705fa1d733",
   "metadata": {},
   "outputs": [
    {
     "data": {
      "text/plain": [
       "(False, None)"
      ]
     },
     "execution_count": 49,
     "metadata": {},
     "output_type": "execute_result"
    }
   ],
   "source": [
    "self.model.input_layer.fc_dec.normalize, self.model.input_layer.fc_dec.lognorm"
   ]
  },
  {
   "cell_type": "code",
   "execution_count": null,
   "id": "3d1c60d7-5b15-4e3a-ab47-5e91471db27b",
   "metadata": {},
   "outputs": [],
   "source": []
  },
  {
   "cell_type": "code",
   "execution_count": 52,
   "id": "5c17c7d9-1af3-4713-a31f-f286d3143e69",
   "metadata": {},
   "outputs": [
    {
     "data": {
      "text/plain": [
       "<Axes: ylabel='Count'>"
      ]
     },
     "execution_count": 52,
     "metadata": {},
     "output_type": "execute_result"
    },
    {
     "data": {
      "image/png": "[encoded data removed]",
      "text/plain": [
       "<Figure size 300x200 with 1 Axes>"
      ]
     },
     "metadata": {},
     "output_type": "display_data"
    }
   ],
   "source": [
    "sns.histplot(tonp(output['recon']).ravel())"
   ]
  },
  {
   "cell_type": "code",
   "execution_count": 53,
   "id": "d66a4605-1a23-4840-9946-d0c6269a48a5",
   "metadata": {},
   "outputs": [
    {
     "data": {
      "text/plain": [
       "tensor(16062.4199, device='cuda:1')"
      ]
     },
     "execution_count": 53,
     "metadata": {},
     "output_type": "execute_result"
    }
   ],
   "source": [
    "torch.linalg.norm(x - output['recon'])"
   ]
  },
  {
   "cell_type": "code",
   "execution_count": null,
   "id": "7b01979d-46d7-41e1-921e-6646ee4b7886",
   "metadata": {},
   "outputs": [],
   "source": []
  },
  {
   "cell_type": "code",
   "execution_count": 57,
   "id": "63a3f33b-95db-4b06-b861-980450d832bf",
   "metadata": {},
   "outputs": [
    {
     "data": {
      "text/plain": [
       "tensor([16.1712, 17.8204, 17.1546, 17.4887, 15.2351, 13.8046, 14.4861, 15.8304,\n",
       "        16.8706, 15.9119, 16.0337, 17.5957, 15.5436, 15.5501, 17.2524, 13.9267,\n",
       "        15.9448, 14.6113, 13.9136, 15.0035, 16.1887, 16.0327, 15.6600, 16.2003,\n",
       "        13.5863, 16.0639, 16.3836, 17.4057, 16.6376, 15.4988, 15.7717, 18.1003,\n",
       "        18.8305, 16.6373, 15.0859, 17.5090, 16.7667, 15.4574, 15.6380, 16.4670,\n",
       "        12.9509, 15.8223, 16.5232, 18.2716, 19.5390, 17.7261, 16.3506, 17.1064,\n",
       "        14.1249, 18.9495, 13.9955, 15.7458, 17.0579, 15.1183, 18.2510, 18.6029,\n",
       "        15.4826, 16.4364, 17.6743, 15.5011, 17.6431, 18.0018, 15.5249, 16.6046,\n",
       "        16.3705, 16.6085, 16.4423, 13.8570, 12.0226, 16.4765, 16.4173, 14.6010,\n",
       "        17.2740, 14.8450, 16.5869, 10.1422, 15.0012, 16.5645, 15.3784, 16.3686,\n",
       "        16.3181, 16.5328, 13.5699, 16.5193, 16.5986, 15.9727, 15.9985, 15.1858,\n",
       "        17.3116, 11.9593, 16.0082, 13.5866, 15.1921, 15.3370, 13.0377, 16.6533,\n",
       "        20.3516, 15.7366, 17.1255, 16.4992, 15.8536, 14.6542, 15.8846, 17.9726,\n",
       "        17.7909, 17.2809, 17.6399, 17.2150, 17.8541, 13.5272, 15.3760, 16.1389,\n",
       "        17.5858, 17.3427, 15.9424, 17.9248, 14.5923,  8.0161, 16.0302, 15.6111,\n",
       "        15.2867, 15.2508, 16.8509, 16.3748, 15.0234, 15.1073, 15.8791, 15.1684,\n",
       "        16.9657, 17.2977, 15.3198,  8.8181, 17.1306, 18.0120, 16.9083, 14.4794,\n",
       "        15.2462, 16.2163, 17.1962, 14.5240, 17.8406, 16.6154, 14.7255, 15.3244,\n",
       "        17.5884, 13.7927, 18.5609, 15.8712, 17.8071, 15.6245, 16.9012, 15.5117,\n",
       "        15.7702, 14.4379, 16.8307, 15.5182, 15.9775, 17.0006, 16.5188, 14.6884,\n",
       "        14.2488, 15.0078, 15.1919, 15.3706, 17.1599, 15.5768, 10.5725, 15.9988,\n",
       "        17.4330, 12.3106, 16.0637, 16.6172, 16.1070,  6.9834, 17.0346, 16.9308,\n",
       "        16.6994, 17.8814, 18.2642, 15.0245, 17.8255, 18.3560, 14.1917, 15.1088,\n",
       "        15.4697, 13.4258, 14.7817, 17.4934, 17.1541, 13.4324, 15.3659, 16.3062,\n",
       "        15.1887, 15.7123, 15.4592, 16.3950, 17.3352, 14.8897, 16.6213, 15.5383,\n",
       "        15.8579, 17.4087, 14.3649, 14.1374, 10.1568, 15.9942, 19.7097, 15.7995,\n",
       "        18.5636, 15.8800, 16.6246, 15.9745, 17.8339, 16.7809,  9.8280, 16.5709,\n",
       "        15.6400, 16.0475, 16.4759, 15.3519, 14.0763, 15.5314, 17.2868, 16.2952,\n",
       "        15.5888, 16.2765, 16.0621, 16.1787, 18.1419, 16.2638, 13.7756, 15.6016,\n",
       "        13.9840, 18.8920, 17.1261, 16.5939, 16.9202, 16.9586, 17.1985, 16.3387,\n",
       "        16.1613, 16.8881, 15.4578, 16.4643, 15.8498, 12.1448, 12.8837, 17.6412,\n",
       "        15.7074, 14.3372, 15.2684, 12.2737, 17.3069, 16.9290, 15.0515, 16.1928,\n",
       "        16.3828, 16.7143, 14.7678, 14.9349, 14.1799, 15.9627, 14.9644, 16.3079,\n",
       "        15.6029, 18.1951, 13.1549, 18.2897, 17.1562, 18.8435, 16.7021, 14.6841,\n",
       "        14.4502, 15.8731, 16.7998, 16.9391, 13.0020, 17.6277, 16.3858, 16.3295,\n",
       "        18.0559, 17.4569, 16.4411, 17.4690, 16.8752, 18.0739, 13.7914, 16.5690,\n",
       "        15.4538, 16.2655, 16.7004, 16.9849, 15.7224, 13.7779, 15.4939, 11.0425,\n",
       "        15.6143, 17.5852, 16.2779, 15.9996, 17.1203, 15.2699, 16.4754, 14.6267,\n",
       "        11.2195, 16.4681, 17.0661, 17.2054, 16.8570, 11.3405, 15.9507, 15.8330,\n",
       "        17.6569, 14.4603, 15.7181, 12.7861, 16.0059, 16.3409, 16.6540, 17.5122,\n",
       "        17.4034, 16.0646, 17.5341, 17.7598, 14.7279, 17.0299, 16.5704, 18.3008,\n",
       "        16.9735, 16.7288, 16.7391, 15.2659, 16.0672, 15.5661, 16.2347, 16.3782,\n",
       "        16.0524, 14.8974, 15.8696, 17.2494, 15.3341, 16.4864, 15.8343, 17.0917,\n",
       "        18.1305, 15.9365, 15.8928, 17.5477, 18.0920, 15.5620, 16.3901, 19.2600,\n",
       "        18.5118, 13.9730, 16.4112, 16.0881, 15.3912, 13.7551, 18.3088, 16.1301,\n",
       "        14.9405, 15.7194, 14.6980, 16.6322, 15.4230, 16.1156, 16.4687, 17.3957,\n",
       "        14.8781, 14.4332, 15.3233, 15.1291, 13.6934, 16.1179, 16.2159, 18.3021,\n",
       "        19.5417, 14.7509, 17.4216, 14.2678, 16.7450, 17.4420, 17.5003, 16.9563,\n",
       "        16.5844, 18.5191, 17.0302, 17.4949, 14.0846, 14.3971, 16.9194, 17.7556,\n",
       "        16.3200, 13.1306, 14.2409, 17.8418, 11.6389, 18.2807, 18.1895, 16.3171,\n",
       "        13.5660, 17.3890, 16.0753, 16.3745, 15.9946, 18.7799, 17.8171, 15.9155,\n",
       "        15.7374, 18.2902, 18.1967, 11.7229, 15.5406, 14.3931, 17.5071, 16.3478,\n",
       "        13.5702, 14.3061, 17.3379, 16.6388, 18.3426, 16.8591, 16.3994, 17.4968,\n",
       "        17.0339, 15.1881, 17.6853, 13.9168, 15.8459, 16.8882, 18.3696, 17.0270,\n",
       "        17.0843,  8.1922, 16.7547, 16.2361, 16.2436, 15.3277, 17.1992, 11.8824,\n",
       "        18.4169, 16.5109, 17.4661, 16.0112, 13.3383, 14.7577, 13.7798, 15.2474,\n",
       "        11.8596, 16.3347, 15.4072,  9.7304, 15.5729, 15.8557, 17.6530, 15.7869,\n",
       "        15.6599, 13.5822, 16.9497, 16.5872, 17.6675, 17.0517, 15.6797, 16.9159,\n",
       "        15.3830, 15.5731, 17.4090, 15.2572, 16.2305, 16.4242, 15.6058, 14.9886,\n",
       "        18.0013, 13.4680, 14.1124, 16.2852, 15.3147, 16.0074, 11.8849, 14.6412,\n",
       "        17.5799, 13.7214, 16.9612,  6.9752, 16.7300, 10.9232, 17.2138, 14.9976,\n",
       "        18.4171, 16.8374, 16.6773, 14.7232, 13.6275, 15.9770, 16.1899, 16.0200,\n",
       "        17.9654, 15.1993, 17.8561, 14.4054, 18.8016, 17.1405, 15.3050, 14.8246,\n",
       "        17.4396, 16.4425, 16.4631, 14.8436, 16.6444, 19.7597, 10.2950, 17.3867,\n",
       "        16.9294, 14.7581, 17.5462, 14.6978, 13.4261, 16.3433, 13.6801, 17.6437,\n",
       "        15.9382, 16.0294, 15.1550, 17.4390, 16.1568, 17.0017, 17.1126, 15.7966,\n",
       "        16.7726, 16.9675, 17.5846, 15.2326, 13.6893, 15.9868, 15.2113, 18.7358,\n",
       "        15.7150, 15.9471, 10.5800, 16.3548, 17.8402, 15.6663, 17.7735, 15.1133,\n",
       "        16.8410, 17.4056, 15.3538, 13.3965, 17.3759, 19.6432, 17.3598, 15.7497,\n",
       "        12.5955, 17.8345, 17.1300, 15.6788, 17.2691, 15.9222, 17.0427, 15.4521,\n",
       "        15.3568, 15.0742, 18.1101, 18.0418, 18.1402, 16.8870, 15.7020, 16.5208,\n",
       "        17.4146, 15.3965, 17.8909, 17.8756, 18.8827, 15.4390, 17.0983, 16.6804,\n",
       "        15.8106, 14.7326, 16.3557, 16.3793, 11.6432, 20.3465, 14.8390, 15.9533,\n",
       "        17.5628, 14.2145, 17.6876, 17.0751, 15.7722, 15.3462, 13.4989, 16.7906,\n",
       "        16.5413, 15.0008, 16.8189, 16.7352, 16.8853, 17.0099, 15.5180, 15.5631,\n",
       "        14.3767, 16.6693, 15.2372, 13.3556, 18.7617, 17.4482, 15.3170, 17.2159,\n",
       "        16.5280, 14.3143, 15.8990, 16.9895, 13.2850, 15.5875, 17.2095, 15.9961,\n",
       "         8.6396, 14.7252, 14.0024, 17.1765, 16.5602, 17.9050, 15.7472, 16.1222,\n",
       "        14.8443, 15.3496, 15.5015, 14.0554, 14.9475, 17.9907, 16.2022, 17.0313,\n",
       "        17.7828, 17.1481, 17.2231, 14.4148, 18.2299, 16.4720, 14.0225, 16.2152,\n",
       "        15.3092, 16.2506, 18.3777, 13.2320, 15.8006, 16.5126, 17.3276, 16.9498,\n",
       "        17.6935, 14.6039, 15.1320, 13.9898, 15.6881, 17.4109, 15.5134, 16.0839,\n",
       "        14.6731, 15.9618, 14.4616, 16.3393, 18.2165, 15.6766, 17.2266, 18.1594,\n",
       "        16.0901, 17.4506, 11.9834, 16.3174, 16.0740, 15.9787, 14.6435, 14.7861,\n",
       "        17.4741, 17.6867, 16.5469, 16.5985, 18.8153, 13.4007, 18.0650, 14.0042,\n",
       "        15.7490, 18.6366, 16.2528, 14.3134, 14.3791, 15.3893, 15.9627, 17.3356,\n",
       "        15.9185, 16.3343, 17.0208, 16.7453, 17.0364, 12.4732, 18.4056,  9.0909,\n",
       "        15.5672, 13.3290, 15.2601, 18.1034, 16.4951, 16.1539, 18.1764, 16.8300,\n",
       "        19.6357, 15.0097, 14.6606, 16.1303, 15.7212, 16.2001, 16.6308, 15.9297,\n",
       "        18.4824, 16.7398, 12.1521, 15.7385, 16.7514, 16.0527, 14.9006, 16.7662,\n",
       "        16.1069, 15.6869, 17.3237, 16.5803, 16.3568, 16.5306, 14.6417, 16.2170,\n",
       "        14.7039, 14.1256, 16.8360, 17.3405, 12.5810, 13.5461, 16.4700, 16.2598,\n",
       "        17.1898, 16.3989, 15.9667, 17.6200, 17.9434, 15.1427, 17.6945, 15.4574,\n",
       "        10.8233, 15.3218, 15.3375, 16.3294, 18.5292, 17.4298, 17.2582, 17.4863,\n",
       "        16.3470, 16.2335, 15.7439, 13.7519, 15.5983, 16.8172, 16.0806, 17.6854,\n",
       "        17.2082, 15.1036, 16.1508, 14.6065, 14.3903, 17.8145, 15.7977, 16.9369,\n",
       "        14.8189, 17.9794, 15.8219, 14.6023, 13.7989, 16.3539, 15.3847, 16.4436,\n",
       "        15.9828, 15.4019, 14.7235, 14.4011, 13.9951, 15.2998, 15.2216, 15.5734,\n",
       "        18.2754, 15.4020, 15.8615, 18.2679, 17.8332, 16.1228, 16.9020, 15.6396,\n",
       "        15.0981, 17.3702, 16.2460, 16.4054, 17.2970, 17.6461, 18.2211, 11.2098,\n",
       "        16.4532, 15.1954, 13.9103, 17.0833, 17.0818, 16.5209, 14.6781, 15.5716,\n",
       "        11.1801, 16.5166, 17.6908, 15.4865, 14.1382, 16.3496, 17.8408, 17.6627,\n",
       "        16.2033, 13.9774, 14.1319, 14.9620, 15.5690, 14.9496, 14.5489, 16.9573,\n",
       "        14.4420, 17.6686, 16.8057, 16.2223, 13.8552, 16.8243, 10.4727, 16.0753,\n",
       "        15.8105, 16.7047, 18.5155, 13.4798, 17.2879, 17.3467, 16.3526, 13.1591,\n",
       "        16.9646, 16.2228, 17.3148, 16.6243, 16.4616, 15.1494, 15.5339, 13.6825,\n",
       "        17.9364, 17.2722, 15.3348, 14.9893, 12.9880, 15.8483, 15.5190, 16.5022,\n",
       "        18.5680, 15.2266, 13.7574, 18.4104, 16.9827, 16.2885, 17.4322, 15.4140,\n",
       "        12.0343, 15.9794, 17.6423, 13.5497, 17.2581, 18.2313, 16.0854, 13.7948,\n",
       "        15.0233, 18.3181, 15.1447, 17.3108, 16.7524, 16.3601, 17.7514, 16.0173,\n",
       "        17.5457, 17.3926, 13.8470, 16.0952, 14.7130, 16.7220, 17.1323, 14.7844,\n",
       "        15.7399, 17.7299, 17.5768, 13.0760, 16.3413, 16.1580, 15.5358, 16.0696,\n",
       "        18.2269, 18.5507, 17.0937, 16.7020, 15.5915, 17.1180, 15.6333, 16.7033,\n",
       "        16.8229, 14.3704, 17.3237, 18.1636, 15.9632, 16.5197, 16.5691, 16.9238,\n",
       "        17.1038, 16.2376, 16.5102, 12.9029, 16.5475, 18.6735, 16.3652, 16.6523,\n",
       "        15.0262, 15.5514, 15.2144, 17.0263, 12.4123, 16.2644, 16.4045,  8.0215,\n",
       "        17.8108, 17.3001, 16.4960, 15.8957, 15.9032, 15.8965, 14.7934, 17.3839,\n",
       "        17.6014, 19.0429, 14.8777, 17.9291, 14.2932, 17.9183, 17.7459, 15.8292,\n",
       "        13.2875, 14.6823, 16.8994, 16.1731, 15.1746, 16.0518, 17.3092, 14.5206,\n",
       "        16.2007, 12.4728, 15.8332, 10.7389, 17.6978, 15.9459, 17.9387, 15.6450,\n",
       "        18.5969, 16.3129, 12.1411, 17.6880, 13.0356, 15.0307, 15.7301, 15.6339,\n",
       "        15.9187, 16.2604, 17.7433, 17.0257, 17.7478, 11.0351, 12.9808, 17.6122,\n",
       "        15.2642, 16.0499, 10.6449, 16.4029, 16.9698, 17.5012, 17.0614, 17.1049,\n",
       "        16.4210, 17.7635, 16.4536, 17.0800, 15.3883, 15.1559, 17.4822, 18.1911,\n",
       "        15.0343, 14.9980, 15.2522, 17.5545, 13.7767, 13.5280, 17.0919, 15.3502],\n",
       "       device='cuda:1')"
      ]
     },
     "execution_count": 57,
     "metadata": {},
     "output_type": "execute_result"
    }
   ],
   "source": [
    "torch.linalg.vector_norm(x, dim=(1, 2, 3))"
   ]
  },
  {
   "cell_type": "code",
   "execution_count": null,
   "id": "f4ed4a43-e4aa-4bf5-bdb9-238feab501b4",
   "metadata": {},
   "outputs": [],
   "source": []
  },
  {
   "cell_type": "code",
   "execution_count": null,
   "id": "5c0a8c7f-5ae3-4d68-b884-57c75fdbbbd5",
   "metadata": {},
   "outputs": [],
   "source": []
  },
  {
   "cell_type": "code",
   "execution_count": null,
   "id": "c3620a19-4d6d-4753-81ae-22f2c84df4fe",
   "metadata": {},
   "outputs": [],
   "source": []
  }
 ],
 "metadata": {
  "kernelspec": {
   "display_name": "Python 3 (ipykernel)",
   "language": "python",
   "name": "python3"
  },
  "language_info": {
   "codemirror_mode": {
    "name": "ipython",
    "version": 3
   },
   "file_extension": ".py",
   "mimetype": "text/x-python",
   "name": "python",
   "nbconvert_exporter": "python",
   "pygments_lexer": "ipython3",
   "version": "3.11.7"
  }
 },
 "nbformat": 4,
 "nbformat_minor": 5
}
