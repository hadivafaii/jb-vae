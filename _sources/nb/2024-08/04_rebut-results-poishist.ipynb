{
 "cells": [
  {
   "cell_type": "markdown",
   "id": "94c0c518-f8d0-4ac5-b61f-23ee9d4aa10c",
   "metadata": {},
   "source": [
    "# (04) rebuttal results: poisson sample hist\n",
    "\n",
    "**Motivation**: Sample from Poisson for different temperatures and lambdas. Host: ```chewie```. <br>"
   ]
  },
  {
   "cell_type": "code",
   "execution_count": 1,
   "id": "7c5466fd-4f65-4020-b6b4-17b3c210abc0",
   "metadata": {
    "tags": [
     "hide-input"
    ]
   },
   "outputs": [],
   "source": [
    "# HIDE CODE\n",
    "\n",
    "\n",
    "import os, sys\n",
    "from IPython.display import display\n",
    "\n",
    "# tmp & extras dir\n",
    "git_dir = os.path.join(os.environ['HOME'], 'Dropbox/git')\n",
    "extras_dir = os.path.join(git_dir, 'jb-vae/_extras')\n",
    "fig_base_dir = os.path.join(git_dir, 'jb-vae/figs')\n",
    "tmp_dir = os.path.join(git_dir, 'jb-vae/tmp')\n",
    "\n",
    "# GitHub\n",
    "# sys.path.insert(0, os.path.join(git_dir, '_PoissonVAE'))\n",
    "# sys.path.insert(0, os.path.join(git_dir, '_IterativeVAE'))\n",
    "sys.path.insert(0, '/home/hadi/Dropbox/chkpts/pvae-source-code')\n",
    "from figures.fighelper import *\n",
    "from vae.train_vae import *\n",
    "\n",
    "# warnings, tqdm, & style\n",
    "warnings.filterwarnings('ignore', category=DeprecationWarning)\n",
    "warnings.filterwarnings('ignore', category=FutureWarning)\n",
    "warnings.filterwarnings('ignore', category=UserWarning)\n",
    "from rich.jupyter import print\n",
    "%matplotlib inline\n",
    "set_style()"
   ]
  },
  {
   "cell_type": "code",
   "execution_count": 2,
   "id": "45564d20-4665-4519-bb7b-f8f704bb1384",
   "metadata": {},
   "outputs": [],
   "source": [
    "device_idx = 1\n",
    "device = f'cuda:{device_idx}'"
   ]
  },
  {
   "cell_type": "code",
   "execution_count": 3,
   "id": "675af3da-2469-4a99-8958-0bf91d14c92f",
   "metadata": {},
   "outputs": [
    {
     "data": {
      "text/html": [
       "<pre style=\"white-space:pre;overflow-x:auto;line-height:normal;font-family:Menlo,'DejaVu Sans Mono',consolas,'Courier New',monospace\"><span style=\"font-weight: bold\">[</span><span style=\"color: #008000; text-decoration-color: #008000\">'temp.pdf'</span>, <span style=\"color: #008000; text-decoration-color: #008000\">'anneal_lin.pdf'</span>, <span style=\"color: #008000; text-decoration-color: #008000\">'samples_hist.pdf'</span>, <span style=\"color: #008000; text-decoration-color: #008000\">'logreg.pdf'</span>, <span style=\"color: #008000; text-decoration-color: #008000\">'dim.pdf'</span>, <span style=\"color: #008000; text-decoration-color: #008000\">'anneal_exp.pdf'</span>, <span style=\"color: #008000; text-decoration-color: #008000\">'anneal.pdf'</span><span style=\"font-weight: bold\">]</span>\n",
       "</pre>\n"
      ],
      "text/plain": [
       "\u001b[1m[\u001b[0m\u001b[32m'temp.pdf'\u001b[0m, \u001b[32m'anneal_lin.pdf'\u001b[0m, \u001b[32m'samples_hist.pdf'\u001b[0m, \u001b[32m'logreg.pdf'\u001b[0m, \u001b[32m'dim.pdf'\u001b[0m, \u001b[32m'anneal_exp.pdf'\u001b[0m, \u001b[32m'anneal.pdf'\u001b[0m\u001b[1m]\u001b[0m\n"
      ]
     },
     "metadata": {},
     "output_type": "display_data"
    }
   ],
   "source": [
    "fig_dir = pjoin(fig_base_dir, 'rebuttal_aug')\n",
    "os.makedirs(fig_dir, exist_ok=True)\n",
    "print(os.listdir(fig_dir))\n",
    "\n",
    "kws_fig = {\n",
    "    'transparent': True,\n",
    "    'bbox_inches': 'tight',\n",
    "    'dpi': 600,\n",
    "}"
   ]
  },
  {
   "cell_type": "markdown",
   "id": "0edb22ba-0fda-4c0b-92d6-9c724a9a5cc7",
   "metadata": {},
   "source": [
    "## Generate samples"
   ]
  },
  {
   "cell_type": "code",
   "execution_count": 4,
   "id": "9b237472-9f94-4ecf-9243-ce9c0016d418",
   "metadata": {},
   "outputs": [],
   "source": [
    "from base.distributions import Poisson"
   ]
  },
  {
   "cell_type": "code",
   "execution_count": 5,
   "id": "37cdb858-2f51-4129-8698-cfe0a40e5c58",
   "metadata": {},
   "outputs": [],
   "source": [
    "lamb = torch.tensor([0.5, 1, 2, 8])\n",
    "temperatures = [\n",
    "    0.0, 0.01, 0.05, 0.1, 0.2, 0.3,\n",
    "    0.4, 0.5, 0.6, 0.7, 0.8, 0.9, 1.0,\n",
    "]\n",
    "kws = dict(\n",
    "    log_rate=torch.log(lamb),\n",
    "    clamp=None,\n",
    "    n_exp=1000,\n",
    ")\n",
    "dists = {\n",
    "    t: Poisson(temp=t, **kws)\n",
    "    for t in temperatures\n",
    "}"
   ]
  },
  {
   "cell_type": "code",
   "execution_count": null,
   "id": "5acccdc7-de3a-4b7b-b965-596172ecc46b",
   "metadata": {},
   "outputs": [],
   "source": []
  },
  {
   "cell_type": "code",
   "execution_count": 6,
   "id": "f34e0121-f4e8-43ae-9e27-ea8fcffb1506",
   "metadata": {},
   "outputs": [
    {
     "name": "stderr",
     "output_type": "stream",
     "text": [
      "100%|█████████████████████████████████| 100000/100000 [01:18<00:00, 1278.15it/s]\n"
     ]
    }
   ],
   "source": [
    "n_samples = int(1e5)\n",
    "samples = collections.defaultdict(list)\n",
    "for _ in tqdm(range(n_samples)):\n",
    "    for t, dist in dists.items():\n",
    "        samples[t].append(dist.rsample())\n",
    "samples = {\n",
    "    t: tonp(torch.stack(s).T)\n",
    "    for t, s in samples.items()\n",
    "}"
   ]
  },
  {
   "cell_type": "code",
   "execution_count": null,
   "id": "77cf1fd9-815b-4fd4-af72-3e0b7ce4ea86",
   "metadata": {},
   "outputs": [],
   "source": []
  },
  {
   "cell_type": "code",
   "execution_count": 7,
   "id": "ffc8e49c-ba87-45b2-848a-f79c53729204",
   "metadata": {},
   "outputs": [
    {
     "data": {
      "text/plain": [
       "1.0"
      ]
     },
     "execution_count": 7,
     "metadata": {},
     "output_type": "execute_result"
    }
   ],
   "source": [
    "df = []\n",
    "for t, samp in samples.items():\n",
    "    for i, s in enumerate(samp):\n",
    "        df.append({\n",
    "            'Temperature': [t] * len(s),\n",
    "            'lamb': [tonp(lamb)[i]] * len(s),\n",
    "            'index': np.arange(len(s)),\n",
    "            'sample': s,\n",
    "        })\n",
    "df = pd.DataFrame(merge_dicts(df))\n",
    "len(df) / n_samples / len(lamb) / len(temperatures)"
   ]
  },
  {
   "cell_type": "code",
   "execution_count": 8,
   "id": "c4ca3c83-480b-4827-a9ee-22f4dae5e394",
   "metadata": {},
   "outputs": [
    {
     "data": {
      "text/html": [
       "<div>\n",
       "<style scoped>\n",
       "    .dataframe tbody tr th:only-of-type {\n",
       "        vertical-align: middle;\n",
       "    }\n",
       "\n",
       "    .dataframe tbody tr th {\n",
       "        vertical-align: top;\n",
       "    }\n",
       "\n",
       "    .dataframe thead th {\n",
       "        text-align: right;\n",
       "    }\n",
       "</style>\n",
       "<table border=\"1\" class=\"dataframe\">\n",
       "  <thead>\n",
       "    <tr style=\"text-align: right;\">\n",
       "      <th></th>\n",
       "      <th>Temperature</th>\n",
       "      <th>lamb</th>\n",
       "      <th>index</th>\n",
       "      <th>sample</th>\n",
       "    </tr>\n",
       "  </thead>\n",
       "  <tbody>\n",
       "    <tr>\n",
       "      <th>0</th>\n",
       "      <td>0.0</td>\n",
       "      <td>0.5</td>\n",
       "      <td>0</td>\n",
       "      <td>1.000000</td>\n",
       "    </tr>\n",
       "    <tr>\n",
       "      <th>1</th>\n",
       "      <td>0.0</td>\n",
       "      <td>0.5</td>\n",
       "      <td>1</td>\n",
       "      <td>0.000000</td>\n",
       "    </tr>\n",
       "    <tr>\n",
       "      <th>2</th>\n",
       "      <td>0.0</td>\n",
       "      <td>0.5</td>\n",
       "      <td>2</td>\n",
       "      <td>1.000000</td>\n",
       "    </tr>\n",
       "    <tr>\n",
       "      <th>3</th>\n",
       "      <td>0.0</td>\n",
       "      <td>0.5</td>\n",
       "      <td>3</td>\n",
       "      <td>0.000000</td>\n",
       "    </tr>\n",
       "    <tr>\n",
       "      <th>4</th>\n",
       "      <td>0.0</td>\n",
       "      <td>0.5</td>\n",
       "      <td>4</td>\n",
       "      <td>0.000000</td>\n",
       "    </tr>\n",
       "    <tr>\n",
       "      <th>...</th>\n",
       "      <td>...</td>\n",
       "      <td>...</td>\n",
       "      <td>...</td>\n",
       "      <td>...</td>\n",
       "    </tr>\n",
       "    <tr>\n",
       "      <th>5199995</th>\n",
       "      <td>1.0</td>\n",
       "      <td>8.0</td>\n",
       "      <td>99995</td>\n",
       "      <td>13.908824</td>\n",
       "    </tr>\n",
       "    <tr>\n",
       "      <th>5199996</th>\n",
       "      <td>1.0</td>\n",
       "      <td>8.0</td>\n",
       "      <td>99996</td>\n",
       "      <td>12.642017</td>\n",
       "    </tr>\n",
       "    <tr>\n",
       "      <th>5199997</th>\n",
       "      <td>1.0</td>\n",
       "      <td>8.0</td>\n",
       "      <td>99997</td>\n",
       "      <td>9.736068</td>\n",
       "    </tr>\n",
       "    <tr>\n",
       "      <th>5199998</th>\n",
       "      <td>1.0</td>\n",
       "      <td>8.0</td>\n",
       "      <td>99998</td>\n",
       "      <td>11.641313</td>\n",
       "    </tr>\n",
       "    <tr>\n",
       "      <th>5199999</th>\n",
       "      <td>1.0</td>\n",
       "      <td>8.0</td>\n",
       "      <td>99999</td>\n",
       "      <td>7.749492</td>\n",
       "    </tr>\n",
       "  </tbody>\n",
       "</table>\n",
       "<p>5200000 rows × 4 columns</p>\n",
       "</div>"
      ],
      "text/plain": [
       "         Temperature  lamb  index     sample\n",
       "0                0.0   0.5      0   1.000000\n",
       "1                0.0   0.5      1   0.000000\n",
       "2                0.0   0.5      2   1.000000\n",
       "3                0.0   0.5      3   0.000000\n",
       "4                0.0   0.5      4   0.000000\n",
       "...              ...   ...    ...        ...\n",
       "5199995          1.0   8.0  99995  13.908824\n",
       "5199996          1.0   8.0  99996  12.642017\n",
       "5199997          1.0   8.0  99997   9.736068\n",
       "5199998          1.0   8.0  99998  11.641313\n",
       "5199999          1.0   8.0  99999   7.749492\n",
       "\n",
       "[5200000 rows x 4 columns]"
      ]
     },
     "execution_count": 8,
     "metadata": {},
     "output_type": "execute_result"
    }
   ],
   "source": [
    "df"
   ]
  },
  {
   "cell_type": "code",
   "execution_count": null,
   "id": "1bdc4ae1-b806-45b6-96d1-f7448afe9b83",
   "metadata": {},
   "outputs": [],
   "source": []
  },
  {
   "cell_type": "markdown",
   "id": "2857f8e6-cb23-4020-bb86-bdcb6e6f28c1",
   "metadata": {},
   "source": [
    "## Make fig"
   ]
  },
  {
   "cell_type": "code",
   "execution_count": 9,
   "id": "b0449639-1060-4d66-af60-b306d9a88bad",
   "metadata": {},
   "outputs": [],
   "source": [
    "upper = 5\n",
    "n_bins = 50\n",
    "width = upper / n_bins\n",
    "bins = np.linspace(0, upper + width, n_bins + 2)\n",
    "bins -= width / 2"
   ]
  },
  {
   "cell_type": "code",
   "execution_count": 23,
   "id": "064d3a6c-15ca-4aa7-9bd5-7cd5aa2ddb41",
   "metadata": {},
   "outputs": [
    {
     "data": {
      "text/html": [
       "<svg  width=\"550\" height=\"55\"><rect x=\"0\" y=\"0\" width=\"55\" height=\"55\" style=\"fill:#4878d0;stroke-width:2;stroke:rgb(255,255,255)\"/><rect x=\"55\" y=\"0\" width=\"55\" height=\"55\" style=\"fill:#ee854a;stroke-width:2;stroke:rgb(255,255,255)\"/><rect x=\"110\" y=\"0\" width=\"55\" height=\"55\" style=\"fill:#6acc64;stroke-width:2;stroke:rgb(255,255,255)\"/><rect x=\"165\" y=\"0\" width=\"55\" height=\"55\" style=\"fill:#d65f5f;stroke-width:2;stroke:rgb(255,255,255)\"/><rect x=\"220\" y=\"0\" width=\"55\" height=\"55\" style=\"fill:#956cb4;stroke-width:2;stroke:rgb(255,255,255)\"/><rect x=\"275\" y=\"0\" width=\"55\" height=\"55\" style=\"fill:#8c613c;stroke-width:2;stroke:rgb(255,255,255)\"/><rect x=\"330\" y=\"0\" width=\"55\" height=\"55\" style=\"fill:#dc7ec0;stroke-width:2;stroke:rgb(255,255,255)\"/><rect x=\"385\" y=\"0\" width=\"55\" height=\"55\" style=\"fill:#797979;stroke-width:2;stroke:rgb(255,255,255)\"/><rect x=\"440\" y=\"0\" width=\"55\" height=\"55\" style=\"fill:#d5bb67;stroke-width:2;stroke:rgb(255,255,255)\"/><rect x=\"495\" y=\"0\" width=\"55\" height=\"55\" style=\"fill:#82c6e2;stroke-width:2;stroke:rgb(255,255,255)\"/></svg>"
      ],
      "text/plain": [
       "[(0.2823529411764706, 0.47058823529411764, 0.8156862745098039),\n",
       " (0.9333333333333333, 0.5215686274509804, 0.2901960784313726),\n",
       " (0.41568627450980394, 0.8, 0.39215686274509803),\n",
       " (0.8392156862745098, 0.37254901960784315, 0.37254901960784315),\n",
       " (0.5843137254901961, 0.4235294117647059, 0.7058823529411765),\n",
       " (0.5490196078431373, 0.3803921568627451, 0.23529411764705882),\n",
       " (0.8627450980392157, 0.49411764705882355, 0.7529411764705882),\n",
       " (0.4745098039215686, 0.4745098039215686, 0.4745098039215686),\n",
       " (0.8352941176470589, 0.7333333333333333, 0.403921568627451),\n",
       " (0.5098039215686274, 0.7764705882352941, 0.8862745098039215)]"
      ]
     },
     "execution_count": 23,
     "metadata": {},
     "output_type": "execute_result"
    }
   ],
   "source": [
    "muted"
   ]
  },
  {
   "cell_type": "code",
   "execution_count": 10,
   "id": "998f91bb-4851-4f81-a9ec-a98e55f5d9a9",
   "metadata": {},
   "outputs": [],
   "source": [
    "muted = sns.color_palette('muted')\n",
    "\n",
    "pal_temp = {\n",
    "    0.0: 'k', \n",
    "    0.01: muted[3],\n",
    "    0.1: muted[2],\n",
    "    1.0: muted[7],\n",
    "}"
   ]
  },
  {
   "cell_type": "code",
   "execution_count": 11,
   "id": "38e9081f-2480-4cd0-89ce-5e263be6e298",
   "metadata": {},
   "outputs": [
    {
     "data": {
      "image/png": "[encoded data removed]",
      "text/plain": [
       "<Figure size 310x220 with 1 Axes>"
      ]
     },
     "metadata": {},
     "output_type": "display_data"
    }
   ],
   "source": [
    "fig, ax = create_figure(1, 1, (3.1, 2.2))\n",
    "\n",
    "d2p = df.loc[\n",
    "    (df['lamb'] == 1.0) &\n",
    "    (df['Temperature'].isin(pal_temp))\n",
    "]\n",
    "\n",
    "sns.histplot(\n",
    "    d2p,\n",
    "    x='sample',\n",
    "    hue='Temperature',\n",
    "    bins=bins,\n",
    "    palette=pal_temp,\n",
    "    alpha=0.8,\n",
    "    stat='percent',\n",
    "    hue_order=[0.1, 0.01, 0.0],\n",
    "    ax=ax,\n",
    ")\n",
    "ax.set(xlabel='', ylabel='')\n",
    "\n",
    "fig.savefig(pjoin(fig_dir, 'samples_hist.pdf'), **kws_fig)\n",
    "plt.show()"
   ]
  },
  {
   "cell_type": "code",
   "execution_count": null,
   "id": "c933246b-fb4a-4481-af24-d857151293a7",
   "metadata": {},
   "outputs": [],
   "source": []
  },
  {
   "cell_type": "markdown",
   "id": "05d4960e-d819-4109-a11f-ff8b635573ea",
   "metadata": {},
   "source": [
    "## Final fig"
   ]
  },
  {
   "cell_type": "code",
   "execution_count": 29,
   "id": "fcc2ebe6-d984-40bc-8d6f-becb054faeb0",
   "metadata": {},
   "outputs": [],
   "source": [
    "upper = 5\n",
    "n_bins = 50\n",
    "width = upper / n_bins\n",
    "bins = np.linspace(0 - width, upper + width, n_bins + 3)\n",
    "bins -= width / 2"
   ]
  },
  {
   "cell_type": "code",
   "execution_count": 30,
   "id": "c2e975a7-d1df-4452-b277-6bea63c2ff84",
   "metadata": {},
   "outputs": [],
   "source": [
    "pal_temp = {\n",
    "    0.0: 'k', \n",
    "    0.01: muted[2],\n",
    "    0.1: muted[3],\n",
    "    1.0: muted[0],\n",
    "}"
   ]
  },
  {
   "cell_type": "code",
   "execution_count": 31,
   "id": "7a597a72-9be3-403c-a309-98f7fdcde345",
   "metadata": {},
   "outputs": [
    {
     "data": {
      "image/png": "[encoded data removed]",
      "text/plain": [
       "<Figure size 330x220 with 1 Axes>"
      ]
     },
     "metadata": {},
     "output_type": "display_data"
    }
   ],
   "source": [
    "fig, ax = create_figure(1, 1, (3.3, 2.2))\n",
    "\n",
    "d2p = df.loc[\n",
    "    (df['lamb'] == 1.0) &\n",
    "    (df['Temperature'].isin(pal_temp))\n",
    "]\n",
    "\n",
    "sns.histplot(\n",
    "    d2p,\n",
    "    x='sample',\n",
    "    hue='Temperature',\n",
    "    bins=bins,\n",
    "    palette=pal_temp,\n",
    "    alpha=0.9,\n",
    "    stat='percent',\n",
    "    element='step',\n",
    "    fill=False,\n",
    "    hue_order=[1.0, 0.1, 0.01, 0.0],\n",
    "    ax=ax,\n",
    ")\n",
    "ax.set(xlabel='', ylabel='')\n",
    "\n",
    "legend = ax.get_legend()\n",
    "for text in legend.get_texts():\n",
    "    text.set_text(f\"T = {text.get_text()}\")\n",
    "\n",
    "fig.savefig(pjoin(fig_dir, 'samples_hist.pdf'), **kws_fig)\n",
    "plt.show()"
   ]
  },
  {
   "cell_type": "code",
   "execution_count": null,
   "id": "3fdfa4b1-75f9-4216-8ba4-7ade3e0e07f3",
   "metadata": {},
   "outputs": [],
   "source": []
  },
  {
   "cell_type": "code",
   "execution_count": null,
   "id": "cd9a9453-226b-426f-8a56-f5975b988071",
   "metadata": {},
   "outputs": [],
   "source": []
  },
  {
   "cell_type": "code",
   "execution_count": null,
   "id": "e8c74c7d-a056-4fd3-90a4-ca32cd75ea17",
   "metadata": {},
   "outputs": [],
   "source": []
  },
  {
   "cell_type": "code",
   "execution_count": 82,
   "id": "ed716b69-ce2d-4224-a172-e4040b704a79",
   "metadata": {},
   "outputs": [],
   "source": [
    "muted = sns.color_palette('muted')"
   ]
  },
  {
   "cell_type": "code",
   "execution_count": 83,
   "id": "7e4e6765-efdd-47a6-ba07-a3b27094a4e4",
   "metadata": {},
   "outputs": [
    {
     "data": {
      "text/html": [
       "<svg  width=\"550\" height=\"55\"><rect x=\"0\" y=\"0\" width=\"55\" height=\"55\" style=\"fill:#4878d0;stroke-width:2;stroke:rgb(255,255,255)\"/><rect x=\"55\" y=\"0\" width=\"55\" height=\"55\" style=\"fill:#ee854a;stroke-width:2;stroke:rgb(255,255,255)\"/><rect x=\"110\" y=\"0\" width=\"55\" height=\"55\" style=\"fill:#6acc64;stroke-width:2;stroke:rgb(255,255,255)\"/><rect x=\"165\" y=\"0\" width=\"55\" height=\"55\" style=\"fill:#d65f5f;stroke-width:2;stroke:rgb(255,255,255)\"/><rect x=\"220\" y=\"0\" width=\"55\" height=\"55\" style=\"fill:#956cb4;stroke-width:2;stroke:rgb(255,255,255)\"/><rect x=\"275\" y=\"0\" width=\"55\" height=\"55\" style=\"fill:#8c613c;stroke-width:2;stroke:rgb(255,255,255)\"/><rect x=\"330\" y=\"0\" width=\"55\" height=\"55\" style=\"fill:#dc7ec0;stroke-width:2;stroke:rgb(255,255,255)\"/><rect x=\"385\" y=\"0\" width=\"55\" height=\"55\" style=\"fill:#797979;stroke-width:2;stroke:rgb(255,255,255)\"/><rect x=\"440\" y=\"0\" width=\"55\" height=\"55\" style=\"fill:#d5bb67;stroke-width:2;stroke:rgb(255,255,255)\"/><rect x=\"495\" y=\"0\" width=\"55\" height=\"55\" style=\"fill:#82c6e2;stroke-width:2;stroke:rgb(255,255,255)\"/></svg>"
      ],
      "text/plain": [
       "[(0.2823529411764706, 0.47058823529411764, 0.8156862745098039),\n",
       " (0.9333333333333333, 0.5215686274509804, 0.2901960784313726),\n",
       " (0.41568627450980394, 0.8, 0.39215686274509803),\n",
       " (0.8392156862745098, 0.37254901960784315, 0.37254901960784315),\n",
       " (0.5843137254901961, 0.4235294117647059, 0.7058823529411765),\n",
       " (0.5490196078431373, 0.3803921568627451, 0.23529411764705882),\n",
       " (0.8627450980392157, 0.49411764705882355, 0.7529411764705882),\n",
       " (0.4745098039215686, 0.4745098039215686, 0.4745098039215686),\n",
       " (0.8352941176470589, 0.7333333333333333, 0.403921568627451),\n",
       " (0.5098039215686274, 0.7764705882352941, 0.8862745098039215)]"
      ]
     },
     "execution_count": 83,
     "metadata": {},
     "output_type": "execute_result"
    }
   ],
   "source": [
    "muted"
   ]
  },
  {
   "cell_type": "code",
   "execution_count": null,
   "id": "773653fc-2866-48f4-8e6a-190476e7ceb8",
   "metadata": {},
   "outputs": [],
   "source": []
  },
  {
   "cell_type": "code",
   "execution_count": 84,
   "id": "e9b055d7-96bf-452a-80ec-b371421768ef",
   "metadata": {},
   "outputs": [],
   "source": []
  },
  {
   "cell_type": "code",
   "execution_count": 91,
   "id": "00ba733b-8fd8-4a5c-80ee-025857eb6998",
   "metadata": {},
   "outputs": [
    {
     "data": {
      "image/png": "[encoded data removed]",
      "text/plain": [
       "<Figure size 330x220 with 1 Axes>"
      ]
     },
     "metadata": {},
     "output_type": "display_data"
    }
   ],
   "source": []
  },
  {
   "cell_type": "code",
   "execution_count": null,
   "id": "ddf10af8-f3a5-4728-bab5-cfb626841b8f",
   "metadata": {},
   "outputs": [],
   "source": []
  },
  {
   "cell_type": "code",
   "execution_count": 86,
   "id": "8e7058b8-739b-4a15-babf-9e49c1861f5a",
   "metadata": {},
   "outputs": [],
   "source": [
    "muted = sns.color_palette('muted')\n",
    "\n",
    "pal_temp = {\n",
    "    0.0: 'k', \n",
    "    0.01: muted[3],\n",
    "    0.05: muted[4],\n",
    "    0.1: muted[2],\n",
    "}"
   ]
  },
  {
   "cell_type": "code",
   "execution_count": 88,
   "id": "b830f8c0-baf4-468d-b51b-ba23b1fe2cc8",
   "metadata": {},
   "outputs": [
    {
     "data": {
      "image/png": "[encoded data removed]",
      "text/plain": [
       "<Figure size 900x700 with 1 Axes>"
      ]
     },
     "metadata": {},
     "output_type": "display_data"
    }
   ],
   "source": [
    "fig, ax = create_figure(1, 1, (9, 7))\n",
    "\n",
    "d2p = df.loc[\n",
    "    (df['lamb'] == 1.0) &\n",
    "    (df['Temperature'].isin(pal_temp))\n",
    "]\n",
    "\n",
    "sns.histplot(\n",
    "    d2p,\n",
    "    x='sample',\n",
    "    hue='Temperature',\n",
    "    bins=bins,\n",
    "    palette=pal_temp,\n",
    "    alpha=0.8,\n",
    "    stat='percent',\n",
    "    hue_order=[0.1, 0.05, 0.01, 0.0],\n",
    "    ax=ax,\n",
    ")\n",
    "plt.show()"
   ]
  },
  {
   "cell_type": "code",
   "execution_count": null,
   "id": "0d23fc8f-38ca-4422-b1ab-31291e262d12",
   "metadata": {},
   "outputs": [],
   "source": []
  },
  {
   "cell_type": "code",
   "execution_count": null,
   "id": "836d9b11-9c02-4105-b104-d2e1a8db396d",
   "metadata": {},
   "outputs": [],
   "source": []
  },
  {
   "cell_type": "code",
   "execution_count": null,
   "id": "a92003e0-4c5c-4660-8e75-a92edabdb1a3",
   "metadata": {},
   "outputs": [],
   "source": []
  },
  {
   "cell_type": "markdown",
   "id": "49f88c7b-09ee-4714-aab9-2d53d6ec7d28",
   "metadata": {},
   "source": [
    "## Thinner bins"
   ]
  },
  {
   "cell_type": "code",
   "execution_count": 78,
   "id": "1fdbddf1-a380-4c3c-b051-64e0a160797d",
   "metadata": {},
   "outputs": [],
   "source": [
    "upper = 5\n",
    "n_bins = 100\n",
    "width = upper / n_bins\n",
    "bins = np.linspace(0, upper + width, n_bins + 2)\n",
    "bins -= width / 2"
   ]
  },
  {
   "cell_type": "code",
   "execution_count": null,
   "id": "e1a0f67f-47a4-44f8-8478-88a2b7ec24b3",
   "metadata": {},
   "outputs": [],
   "source": []
  },
  {
   "cell_type": "code",
   "execution_count": 79,
   "id": "b4786aa5-ac39-4953-991e-b95745398154",
   "metadata": {},
   "outputs": [],
   "source": [
    "muted = sns.color_palette('muted')\n",
    "\n",
    "pal_temp = {\n",
    "    0.0: 'k', \n",
    "    0.01: muted[3],\n",
    "    0.1: muted[2],\n",
    "    1.0: muted[7],\n",
    "}"
   ]
  },
  {
   "cell_type": "code",
   "execution_count": 80,
   "id": "24ee9318-5a15-49ad-9b84-1fed14a218d9",
   "metadata": {},
   "outputs": [
    {
     "data": {
      "image/png": "[encoded data removed]",
      "text/plain": [
       "<Figure size 300x210 with 1 Axes>"
      ]
     },
     "metadata": {},
     "output_type": "display_data"
    }
   ],
   "source": [
    "fig, ax = create_figure(1, 1, (3.0, 2.1))\n",
    "\n",
    "d2p = df.loc[\n",
    "    (df['lamb'] == 1.0) &\n",
    "    (df['Temperature'].isin(pal_temp))\n",
    "]\n",
    "\n",
    "sns.histplot(\n",
    "    d2p,\n",
    "    x='sample',\n",
    "    hue='Temperature',\n",
    "    bins=bins,\n",
    "    palette=pal_temp,\n",
    "    alpha=0.8,\n",
    "    stat='percent',\n",
    "    hue_order=[0.1, 0.01, 0.0],\n",
    "    ax=ax,\n",
    ")\n",
    "plt.show()"
   ]
  },
  {
   "cell_type": "code",
   "execution_count": null,
   "id": "a4fb10e2-a8ad-43ee-8796-dbb6a427d19c",
   "metadata": {},
   "outputs": [],
   "source": []
  },
  {
   "cell_type": "code",
   "execution_count": 73,
   "id": "6da3adbe-56fb-4089-9a98-d9ff51a12692",
   "metadata": {},
   "outputs": [],
   "source": [
    "muted = sns.color_palette('muted')\n",
    "\n",
    "pal_temp = {\n",
    "    0.0: 'k', \n",
    "    0.01: muted[3],\n",
    "    0.05: muted[4],\n",
    "    0.1: muted[2],\n",
    "}"
   ]
  },
  {
   "cell_type": "code",
   "execution_count": 76,
   "id": "2725b610-2526-41ab-943b-eab55a7615cc",
   "metadata": {},
   "outputs": [
    {
     "data": {
      "image/png": "[encoded data removed]",
      "text/plain": [
       "<Figure size 900x700 with 1 Axes>"
      ]
     },
     "metadata": {},
     "output_type": "display_data"
    }
   ],
   "source": [
    "fig, ax = create_figure(1, 1, (9, 7))\n",
    "\n",
    "d2p = df.loc[\n",
    "    (df['lamb'] == 1.0) &\n",
    "    (df['Temperature'].isin(pal_temp))\n",
    "]\n",
    "\n",
    "sns.histplot(\n",
    "    d2p,\n",
    "    x='sample',\n",
    "    hue='Temperature',\n",
    "    bins=bins,\n",
    "    palette=pal_temp,\n",
    "    alpha=0.8,\n",
    "    stat='percent',\n",
    "    hue_order=[0.1, 0.05, 0.01, 0.0],\n",
    "    ax=ax,\n",
    ")\n",
    "plt.show()"
   ]
  },
  {
   "cell_type": "code",
   "execution_count": null,
   "id": "493b9a1b-2f6b-49ce-a409-9243f4105309",
   "metadata": {},
   "outputs": [],
   "source": []
  },
  {
   "cell_type": "code",
   "execution_count": null,
   "id": "fd754db7-8e22-4b13-986a-2c585ff80746",
   "metadata": {},
   "outputs": [],
   "source": []
  },
  {
   "cell_type": "code",
   "execution_count": null,
   "id": "183a8a3b-4247-48ed-8894-5722dfaec3b2",
   "metadata": {},
   "outputs": [],
   "source": []
  },
  {
   "cell_type": "code",
   "execution_count": null,
   "id": "06fd4370-0298-4665-80a1-5158b603d5fa",
   "metadata": {},
   "outputs": [],
   "source": []
  },
  {
   "cell_type": "code",
   "execution_count": null,
   "id": "452e44ba-a9f8-43a7-a850-e44bcd825388",
   "metadata": {},
   "outputs": [],
   "source": []
  }
 ],
 "metadata": {
  "kernelspec": {
   "display_name": "Python 3 (ipykernel)",
   "language": "python",
   "name": "python3"
  },
  "language_info": {
   "codemirror_mode": {
    "name": "ipython",
    "version": 3
   },
   "file_extension": ".py",
   "mimetype": "text/x-python",
   "name": "python",
   "nbconvert_exporter": "python",
   "pygments_lexer": "ipython3",
   "version": "3.11.7"
  }
 },
 "nbformat": 4,
 "nbformat_minor": 5
}
