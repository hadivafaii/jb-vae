{
 "cells": [
  {
   "cell_type": "markdown",
   "id": "94c0c518-f8d0-4ac5-b61f-23ee9d4aa10c",
   "metadata": {},
   "source": [
    "# (04) rebuttal df: dim\n",
    "\n",
    "**Motivation**: Effect of ```n_latents``` on ELBO? <br>"
   ]
  },
  {
   "cell_type": "code",
   "execution_count": 1,
   "id": "7c5466fd-4f65-4020-b6b4-17b3c210abc0",
   "metadata": {},
   "outputs": [],
   "source": [
    "# HIDE CODE\n",
    "\n",
    "\n",
    "import os, sys\n",
    "from IPython.display import display\n",
    "\n",
    "# tmp & extras dir\n",
    "git_dir = os.path.join(os.environ['HOME'], 'Dropbox/git')\n",
    "extras_dir = os.path.join(git_dir, 'jb-vae/_extras')\n",
    "fig_base_dir = os.path.join(git_dir, 'jb-vae/figs')\n",
    "tmp_dir = os.path.join(git_dir, 'jb-vae/tmp')\n",
    "\n",
    "# GitHub\n",
    "sys.path.insert(0, os.path.join(git_dir, '_PoissonVAE'))\n",
    "# sys.path.insert(0, os.path.join(git_dir, '_IterativeVAE'))\n",
    "# sys.path.insert(0, '/home/hadi/Dropbox/chkpts/pvae-source-code')\n",
    "from figures.fighelper import *\n",
    "from vae.train_vae import *\n",
    "\n",
    "# warnings, tqdm, & style\n",
    "warnings.filterwarnings('ignore', category=DeprecationWarning)\n",
    "warnings.filterwarnings('ignore', category=FutureWarning)\n",
    "warnings.filterwarnings('ignore', category=UserWarning)\n",
    "from rich.jupyter import print\n",
    "%matplotlib inline\n",
    "set_style()"
   ]
  },
  {
   "cell_type": "code",
   "execution_count": 2,
   "id": "45564d20-4665-4519-bb7b-f8f704bb1384",
   "metadata": {},
   "outputs": [],
   "source": [
    "device_idx = 0\n",
    "device = f'cuda:{device_idx}'\n",
    "\n",
    "from analysis.final import sort_fits, analyze_fits"
   ]
  },
  {
   "cell_type": "code",
   "execution_count": 3,
   "id": "a614a5c1-b31d-4d89-8772-3682ccaa2e7d",
   "metadata": {},
   "outputs": [
    {
     "data": {
      "text/plain": [
       "(312, 0, 0)"
      ]
     },
     "execution_count": 3,
     "metadata": {},
     "output_type": "execute_result"
    }
   ],
   "source": [
    "root = 'Dropbox/chkpts/PoissonVAE'\n",
    "fits, fits_st, fits_etc = sort_fits(root=root)\n",
    "len(fits), len(fits_st), len(fits_etc)"
   ]
  },
  {
   "cell_type": "code",
   "execution_count": 4,
   "id": "2a5e8fa6-5e26-4ff6-88c5-6ec189793314",
   "metadata": {},
   "outputs": [
    {
     "data": {
      "text/html": [
       "<pre style=\"white-space:pre;overflow-x:auto;line-height:normal;font-family:Menlo,'DejaVu Sans Mono',consolas,'Courier New',monospace\"># fits: <span style=\"color: #008080; text-decoration-color: #008080; font-weight: bold\">72</span>,  # fits_etc: <span style=\"color: #008080; text-decoration-color: #008080; font-weight: bold\">0</span>\n",
       "</pre>\n"
      ],
      "text/plain": [
       "# fits: \u001b[1;36m72\u001b[0m,  # fits_etc: \u001b[1;36m0\u001b[0m\n"
      ]
     },
     "metadata": {},
     "output_type": "display_data"
    }
   ],
   "source": [
    "def accept_fn(name):\n",
    "    accept = (\n",
    "        't0.05' in name and\n",
    "        'chewie' in name\n",
    "    )\n",
    "    return accept\n",
    "\n",
    "\n",
    "fits = sorted(filter(accept_fn, fits))\n",
    "fits_etc = sorted(filter(accept_fn, fits_etc))\n",
    "\n",
    "print(f\"# fits: {len(fits)},  # fits_etc: {len(fits_etc)}\")"
   ]
  },
  {
   "cell_type": "code",
   "execution_count": null,
   "id": "31c0c9f3-ae7f-4a3a-b441-86d03b19d562",
   "metadata": {},
   "outputs": [],
   "source": []
  },
  {
   "cell_type": "code",
   "execution_count": 5,
   "id": "db44abdf-2ab6-40f2-971a-6766f98baa29",
   "metadata": {},
   "outputs": [
    {
     "name": "stderr",
     "output_type": "stream",
     "text": [
      "100%|███████████████████████████████████████████| 72/72 [00:42<00:00,  1.68it/s]\n"
     ]
    },
    {
     "data": {
      "text/html": [
       "<pre style=\"white-space:pre;overflow-x:auto;line-height:normal;font-family:Menlo,'DejaVu Sans Mono',consolas,'Courier New',monospace\"><span style=\"font-weight: bold\">[</span>PROGRESS<span style=\"font-weight: bold\">]</span> <span style=\"color: #008000; text-decoration-color: #008000\">'df_dim.df'</span> saved at\n",
       "<span style=\"color: #800080; text-decoration-color: #800080\">/home/hadi/Dropbox/git/jb-vae/</span><span style=\"color: #ff00ff; text-decoration-color: #ff00ff\">tmp</span>\n",
       "</pre>\n"
      ],
      "text/plain": [
       "\u001b[1m[\u001b[0mPROGRESS\u001b[1m]\u001b[0m \u001b[32m'df_dim.df'\u001b[0m saved at\n",
       "\u001b[35m/home/hadi/Dropbox/git/jb-vae/\u001b[0m\u001b[95mtmp\u001b[0m\n"
      ]
     },
     "metadata": {},
     "output_type": "display_data"
    },
    {
     "name": "stdout",
     "output_type": "stream",
     "text": [
      "CPU times: user 13min 40s, sys: 17.9 s, total: 13min 58s\n",
      "Wall time: 42.8 s\n"
     ]
    }
   ],
   "source": [
    "%%time\n",
    "\n",
    "kws = dict(device=device, analysis_mode='main', root=root)\n",
    "df = analyze_fits(fits, **kws)\n",
    "df = df.sort_values(by=['type', 'seed', 'n_dims'])\n",
    "df = df.reset_index(drop=True)\n",
    "\n",
    "save_obj(\n",
    "    obj=df,\n",
    "    file_name='df_dim',\n",
    "    save_dir=tmp_dir,\n",
    "    verbose=True,\n",
    "    mode='df',\n",
    ")"
   ]
  },
  {
   "cell_type": "code",
   "execution_count": null,
   "id": "702b600d-0419-42d3-8d54-7937cfd297de",
   "metadata": {},
   "outputs": [],
   "source": []
  },
  {
   "cell_type": "code",
   "execution_count": 6,
   "id": "468e8bed-cb47-4c2b-a3ce-428eecaeadfd",
   "metadata": {},
   "outputs": [
    {
     "data": {
      "text/html": [
       "<div>\n",
       "<style scoped>\n",
       "    .dataframe tbody tr th:only-of-type {\n",
       "        vertical-align: middle;\n",
       "    }\n",
       "\n",
       "    .dataframe tbody tr th {\n",
       "        vertical-align: top;\n",
       "    }\n",
       "\n",
       "    .dataframe thead th {\n",
       "        text-align: right;\n",
       "    }\n",
       "</style>\n",
       "<table border=\"1\" class=\"dataframe\">\n",
       "  <thead>\n",
       "    <tr style=\"text-align: right;\">\n",
       "      <th></th>\n",
       "      <th>checkpoint</th>\n",
       "      <th>timestamp</th>\n",
       "      <th>dataset</th>\n",
       "      <th>type</th>\n",
       "      <th>enc_type</th>\n",
       "      <th>dec_type</th>\n",
       "      <th>n_dims</th>\n",
       "      <th>seed</th>\n",
       "      <th>kl_beta</th>\n",
       "      <th>n_params</th>\n",
       "      <th>...</th>\n",
       "      <th>active</th>\n",
       "      <th>mse</th>\n",
       "      <th>kl</th>\n",
       "      <th>kl_diag</th>\n",
       "      <th>mse_map</th>\n",
       "      <th>nelbo</th>\n",
       "      <th>temp_anneal</th>\n",
       "      <th>temp_start</th>\n",
       "      <th>temp_stop</th>\n",
       "      <th>hard_fwd</th>\n",
       "    </tr>\n",
       "  </thead>\n",
       "  <tbody>\n",
       "    <tr>\n",
       "      <th>0</th>\n",
       "      <td>1500</td>\n",
       "      <td>2024_08_04,15:05</td>\n",
       "      <td>CIFAR16</td>\n",
       "      <td>poisson</td>\n",
       "      <td>conv</td>\n",
       "      <td>lin</td>\n",
       "      <td>128</td>\n",
       "      <td>1</td>\n",
       "      <td>1.0</td>\n",
       "      <td>1257372</td>\n",
       "      <td>...</td>\n",
       "      <td>0.968750</td>\n",
       "      <td>136.830399</td>\n",
       "      <td>31.436794</td>\n",
       "      <td>0.245600</td>\n",
       "      <td>102.168587</td>\n",
       "      <td>168.267197</td>\n",
       "      <td>lin</td>\n",
       "      <td>1.0</td>\n",
       "      <td>0.05</td>\n",
       "      <td>False</td>\n",
       "    </tr>\n",
       "    <tr>\n",
       "      <th>1</th>\n",
       "      <td>3000</td>\n",
       "      <td>2024_08_04,15:05</td>\n",
       "      <td>vH16</td>\n",
       "      <td>poisson</td>\n",
       "      <td>conv</td>\n",
       "      <td>lin</td>\n",
       "      <td>128</td>\n",
       "      <td>1</td>\n",
       "      <td>1.0</td>\n",
       "      <td>1257372</td>\n",
       "      <td>...</td>\n",
       "      <td>0.976562</td>\n",
       "      <td>138.071915</td>\n",
       "      <td>30.357105</td>\n",
       "      <td>0.237167</td>\n",
       "      <td>105.085968</td>\n",
       "      <td>168.429016</td>\n",
       "      <td>lin</td>\n",
       "      <td>1.0</td>\n",
       "      <td>0.05</td>\n",
       "      <td>False</td>\n",
       "    </tr>\n",
       "    <tr>\n",
       "      <th>2</th>\n",
       "      <td>1500</td>\n",
       "      <td>2024_08_04,15:05</td>\n",
       "      <td>CIFAR16</td>\n",
       "      <td>poisson</td>\n",
       "      <td>lin</td>\n",
       "      <td>lin</td>\n",
       "      <td>128</td>\n",
       "      <td>1</td>\n",
       "      <td>1.0</td>\n",
       "      <td>65664</td>\n",
       "      <td>...</td>\n",
       "      <td>0.953125</td>\n",
       "      <td>140.340347</td>\n",
       "      <td>29.660616</td>\n",
       "      <td>0.231724</td>\n",
       "      <td>106.782204</td>\n",
       "      <td>170.000961</td>\n",
       "      <td>lin</td>\n",
       "      <td>1.0</td>\n",
       "      <td>0.05</td>\n",
       "      <td>False</td>\n",
       "    </tr>\n",
       "    <tr>\n",
       "      <th>3</th>\n",
       "      <td>3000</td>\n",
       "      <td>2024_08_04,15:05</td>\n",
       "      <td>vH16</td>\n",
       "      <td>poisson</td>\n",
       "      <td>lin</td>\n",
       "      <td>lin</td>\n",
       "      <td>128</td>\n",
       "      <td>1</td>\n",
       "      <td>1.0</td>\n",
       "      <td>65664</td>\n",
       "      <td>...</td>\n",
       "      <td>1.000000</td>\n",
       "      <td>142.182922</td>\n",
       "      <td>28.232412</td>\n",
       "      <td>0.220569</td>\n",
       "      <td>110.627022</td>\n",
       "      <td>170.415329</td>\n",
       "      <td>lin</td>\n",
       "      <td>1.0</td>\n",
       "      <td>0.05</td>\n",
       "      <td>False</td>\n",
       "    </tr>\n",
       "    <tr>\n",
       "      <th>4</th>\n",
       "      <td>1500</td>\n",
       "      <td>2024_08_04,19:52</td>\n",
       "      <td>CIFAR16</td>\n",
       "      <td>poisson</td>\n",
       "      <td>conv</td>\n",
       "      <td>lin</td>\n",
       "      <td>256</td>\n",
       "      <td>1</td>\n",
       "      <td>1.0</td>\n",
       "      <td>1306780</td>\n",
       "      <td>...</td>\n",
       "      <td>0.980469</td>\n",
       "      <td>129.856232</td>\n",
       "      <td>34.338444</td>\n",
       "      <td>0.134135</td>\n",
       "      <td>93.357323</td>\n",
       "      <td>164.194672</td>\n",
       "      <td>lin</td>\n",
       "      <td>1.0</td>\n",
       "      <td>0.05</td>\n",
       "      <td>False</td>\n",
       "    </tr>\n",
       "    <tr>\n",
       "      <th>...</th>\n",
       "      <td>...</td>\n",
       "      <td>...</td>\n",
       "      <td>...</td>\n",
       "      <td>...</td>\n",
       "      <td>...</td>\n",
       "      <td>...</td>\n",
       "      <td>...</td>\n",
       "      <td>...</td>\n",
       "      <td>...</td>\n",
       "      <td>...</td>\n",
       "      <td>...</td>\n",
       "      <td>...</td>\n",
       "      <td>...</td>\n",
       "      <td>...</td>\n",
       "      <td>...</td>\n",
       "      <td>...</td>\n",
       "      <td>...</td>\n",
       "      <td>...</td>\n",
       "      <td>...</td>\n",
       "      <td>...</td>\n",
       "      <td>...</td>\n",
       "    </tr>\n",
       "    <tr>\n",
       "      <th>67</th>\n",
       "      <td>3000</td>\n",
       "      <td>2024_08_05,05:10</td>\n",
       "      <td>vH16</td>\n",
       "      <td>poisson</td>\n",
       "      <td>lin</td>\n",
       "      <td>lin</td>\n",
       "      <td>768</td>\n",
       "      <td>3</td>\n",
       "      <td>1.0</td>\n",
       "      <td>393984</td>\n",
       "      <td>...</td>\n",
       "      <td>0.993490</td>\n",
       "      <td>137.937347</td>\n",
       "      <td>31.950546</td>\n",
       "      <td>0.041599</td>\n",
       "      <td>103.286446</td>\n",
       "      <td>169.887894</td>\n",
       "      <td>lin</td>\n",
       "      <td>1.0</td>\n",
       "      <td>0.05</td>\n",
       "      <td>False</td>\n",
       "    </tr>\n",
       "    <tr>\n",
       "      <th>68</th>\n",
       "      <td>1500</td>\n",
       "      <td>2024_08_05,17:38</td>\n",
       "      <td>CIFAR16</td>\n",
       "      <td>poisson</td>\n",
       "      <td>conv</td>\n",
       "      <td>lin</td>\n",
       "      <td>1024</td>\n",
       "      <td>3</td>\n",
       "      <td>1.0</td>\n",
       "      <td>1603228</td>\n",
       "      <td>...</td>\n",
       "      <td>0.997070</td>\n",
       "      <td>126.436600</td>\n",
       "      <td>34.939571</td>\n",
       "      <td>0.034121</td>\n",
       "      <td>89.471954</td>\n",
       "      <td>161.376175</td>\n",
       "      <td>lin</td>\n",
       "      <td>1.0</td>\n",
       "      <td>0.05</td>\n",
       "      <td>False</td>\n",
       "    </tr>\n",
       "    <tr>\n",
       "      <th>69</th>\n",
       "      <td>3000</td>\n",
       "      <td>2024_08_05,21:39</td>\n",
       "      <td>vH16</td>\n",
       "      <td>poisson</td>\n",
       "      <td>conv</td>\n",
       "      <td>lin</td>\n",
       "      <td>1024</td>\n",
       "      <td>3</td>\n",
       "      <td>1.0</td>\n",
       "      <td>1603228</td>\n",
       "      <td>...</td>\n",
       "      <td>0.829102</td>\n",
       "      <td>132.322357</td>\n",
       "      <td>31.741152</td>\n",
       "      <td>0.030998</td>\n",
       "      <td>98.533394</td>\n",
       "      <td>164.063507</td>\n",
       "      <td>lin</td>\n",
       "      <td>1.0</td>\n",
       "      <td>0.05</td>\n",
       "      <td>False</td>\n",
       "    </tr>\n",
       "    <tr>\n",
       "      <th>70</th>\n",
       "      <td>1500</td>\n",
       "      <td>2024_08_05,07:00</td>\n",
       "      <td>CIFAR16</td>\n",
       "      <td>poisson</td>\n",
       "      <td>lin</td>\n",
       "      <td>lin</td>\n",
       "      <td>1024</td>\n",
       "      <td>3</td>\n",
       "      <td>1.0</td>\n",
       "      <td>525312</td>\n",
       "      <td>...</td>\n",
       "      <td>0.992188</td>\n",
       "      <td>132.819626</td>\n",
       "      <td>34.496033</td>\n",
       "      <td>0.033688</td>\n",
       "      <td>95.336273</td>\n",
       "      <td>167.315659</td>\n",
       "      <td>lin</td>\n",
       "      <td>1.0</td>\n",
       "      <td>0.05</td>\n",
       "      <td>False</td>\n",
       "    </tr>\n",
       "    <tr>\n",
       "      <th>71</th>\n",
       "      <td>3000</td>\n",
       "      <td>2024_08_05,10:17</td>\n",
       "      <td>vH16</td>\n",
       "      <td>poisson</td>\n",
       "      <td>lin</td>\n",
       "      <td>lin</td>\n",
       "      <td>1024</td>\n",
       "      <td>3</td>\n",
       "      <td>1.0</td>\n",
       "      <td>525312</td>\n",
       "      <td>...</td>\n",
       "      <td>1.000000</td>\n",
       "      <td>137.979431</td>\n",
       "      <td>32.028538</td>\n",
       "      <td>0.031274</td>\n",
       "      <td>103.467216</td>\n",
       "      <td>170.007965</td>\n",
       "      <td>lin</td>\n",
       "      <td>1.0</td>\n",
       "      <td>0.05</td>\n",
       "      <td>False</td>\n",
       "    </tr>\n",
       "  </tbody>\n",
       "</table>\n",
       "<p>72 rows × 21 columns</p>\n",
       "</div>"
      ],
      "text/plain": [
       "    checkpoint         timestamp  dataset     type enc_type dec_type  n_dims  \\\n",
       "0         1500  2024_08_04,15:05  CIFAR16  poisson     conv      lin     128   \n",
       "1         3000  2024_08_04,15:05     vH16  poisson     conv      lin     128   \n",
       "2         1500  2024_08_04,15:05  CIFAR16  poisson      lin      lin     128   \n",
       "3         3000  2024_08_04,15:05     vH16  poisson      lin      lin     128   \n",
       "4         1500  2024_08_04,19:52  CIFAR16  poisson     conv      lin     256   \n",
       "..         ...               ...      ...      ...      ...      ...     ...   \n",
       "67        3000  2024_08_05,05:10     vH16  poisson      lin      lin     768   \n",
       "68        1500  2024_08_05,17:38  CIFAR16  poisson     conv      lin    1024   \n",
       "69        3000  2024_08_05,21:39     vH16  poisson     conv      lin    1024   \n",
       "70        1500  2024_08_05,07:00  CIFAR16  poisson      lin      lin    1024   \n",
       "71        3000  2024_08_05,10:17     vH16  poisson      lin      lin    1024   \n",
       "\n",
       "    seed  kl_beta  n_params  ...    active         mse         kl   kl_diag  \\\n",
       "0      1      1.0   1257372  ...  0.968750  136.830399  31.436794  0.245600   \n",
       "1      1      1.0   1257372  ...  0.976562  138.071915  30.357105  0.237167   \n",
       "2      1      1.0     65664  ...  0.953125  140.340347  29.660616  0.231724   \n",
       "3      1      1.0     65664  ...  1.000000  142.182922  28.232412  0.220569   \n",
       "4      1      1.0   1306780  ...  0.980469  129.856232  34.338444  0.134135   \n",
       "..   ...      ...       ...  ...       ...         ...        ...       ...   \n",
       "67     3      1.0    393984  ...  0.993490  137.937347  31.950546  0.041599   \n",
       "68     3      1.0   1603228  ...  0.997070  126.436600  34.939571  0.034121   \n",
       "69     3      1.0   1603228  ...  0.829102  132.322357  31.741152  0.030998   \n",
       "70     3      1.0    525312  ...  0.992188  132.819626  34.496033  0.033688   \n",
       "71     3      1.0    525312  ...  1.000000  137.979431  32.028538  0.031274   \n",
       "\n",
       "       mse_map       nelbo  temp_anneal temp_start  temp_stop  hard_fwd  \n",
       "0   102.168587  168.267197          lin        1.0       0.05     False  \n",
       "1   105.085968  168.429016          lin        1.0       0.05     False  \n",
       "2   106.782204  170.000961          lin        1.0       0.05     False  \n",
       "3   110.627022  170.415329          lin        1.0       0.05     False  \n",
       "4    93.357323  164.194672          lin        1.0       0.05     False  \n",
       "..         ...         ...          ...        ...        ...       ...  \n",
       "67  103.286446  169.887894          lin        1.0       0.05     False  \n",
       "68   89.471954  161.376175          lin        1.0       0.05     False  \n",
       "69   98.533394  164.063507          lin        1.0       0.05     False  \n",
       "70   95.336273  167.315659          lin        1.0       0.05     False  \n",
       "71  103.467216  170.007965          lin        1.0       0.05     False  \n",
       "\n",
       "[72 rows x 21 columns]"
      ]
     },
     "execution_count": 6,
     "metadata": {},
     "output_type": "execute_result"
    }
   ],
   "source": [
    "df"
   ]
  },
  {
   "cell_type": "code",
   "execution_count": null,
   "id": "47035c04-e709-4f45-bcfc-826a10bc9713",
   "metadata": {},
   "outputs": [],
   "source": []
  },
  {
   "cell_type": "code",
   "execution_count": 7,
   "id": "f436299a-d0f4-4ea3-8fc2-fac7edf19b45",
   "metadata": {},
   "outputs": [
    {
     "data": {
      "text/plain": [
       "n_dims\n",
       "128     12\n",
       "256     12\n",
       "384     12\n",
       "512     12\n",
       "768     12\n",
       "1024    12\n",
       "Name: count, dtype: int64"
      ]
     },
     "execution_count": 7,
     "metadata": {},
     "output_type": "execute_result"
    }
   ],
   "source": [
    "df['n_dims'].value_counts()"
   ]
  },
  {
   "cell_type": "code",
   "execution_count": 8,
   "id": "a0c11691-b69f-45ac-a6fb-20b86315eada",
   "metadata": {},
   "outputs": [
    {
     "data": {
      "text/plain": [
       "dataset\n",
       "CIFAR16    36\n",
       "vH16       36\n",
       "Name: count, dtype: int64"
      ]
     },
     "execution_count": 8,
     "metadata": {},
     "output_type": "execute_result"
    }
   ],
   "source": [
    "df['dataset'].value_counts()"
   ]
  },
  {
   "cell_type": "code",
   "execution_count": 9,
   "id": "18a64974-6b45-479f-9c9f-fad7dacf2f42",
   "metadata": {},
   "outputs": [
    {
     "data": {
      "text/plain": [
       "enc_type\n",
       "conv    36\n",
       "lin     36\n",
       "Name: count, dtype: int64"
      ]
     },
     "execution_count": 9,
     "metadata": {},
     "output_type": "execute_result"
    }
   ],
   "source": [
    "df['enc_type'].value_counts()"
   ]
  },
  {
   "cell_type": "code",
   "execution_count": 10,
   "id": "485e7488-8513-43f0-be79-92134c5478f6",
   "metadata": {},
   "outputs": [
    {
     "data": {
      "text/plain": [
       "temp_stop\n",
       "0.05    72\n",
       "Name: count, dtype: int64"
      ]
     },
     "execution_count": 10,
     "metadata": {},
     "output_type": "execute_result"
    }
   ],
   "source": [
    "df['temp_stop'].value_counts()"
   ]
  },
  {
   "cell_type": "code",
   "execution_count": null,
   "id": "fe1f752a-0ff3-4fb8-9113-75e241c4d630",
   "metadata": {},
   "outputs": [],
   "source": []
  },
  {
   "cell_type": "code",
   "execution_count": null,
   "id": "6f7096c3-aff8-4a3b-9b63-a7eaba88f54c",
   "metadata": {},
   "outputs": [],
   "source": []
  },
  {
   "cell_type": "code",
   "execution_count": null,
   "id": "9af23b53-1b4b-4896-ac23-43e773458fe0",
   "metadata": {},
   "outputs": [],
   "source": []
  }
 ],
 "metadata": {
  "kernelspec": {
   "display_name": "Python 3 (ipykernel)",
   "language": "python",
   "name": "python3"
  },
  "language_info": {
   "codemirror_mode": {
    "name": "ipython",
    "version": 3
   },
   "file_extension": ".py",
   "mimetype": "text/x-python",
   "name": "python",
   "nbconvert_exporter": "python",
   "pygments_lexer": "ipython3",
   "version": "3.11.7"
  }
 },
 "nbformat": 4,
 "nbformat_minor": 5
}
