{
 "cells": [
  {
   "cell_type": "markdown",
   "id": "48f55a35-d5b5-468f-b574-730df61e9609",
   "metadata": {},
   "source": [
    "# (29) jacobian — bench\n",
    "\n",
    "**Motivation**: host = ```mach```, device = ```cuda:2``` <br>"
   ]
  },
  {
   "cell_type": "code",
   "execution_count": 1,
   "id": "f823b1e9-05f2-49a0-8296-4a1819c12e81",
   "metadata": {
    "tags": [
     "hide-input"
    ]
   },
   "outputs": [],
   "source": [
    "# HIDE CODE\n",
    "\n",
    "\n",
    "import os, sys\n",
    "from IPython.display import display\n",
    "\n",
    "# tmp & extras dir\n",
    "git_dir = os.path.join(os.environ['HOME'], 'Dropbox/git')\n",
    "extras_dir = os.path.join(git_dir, 'jb-vae/_extras')\n",
    "fig_base_dir = os.path.join(git_dir, 'jb-vae/figs')\n",
    "tmp_dir = os.path.join(git_dir, 'jb-vae/tmp')\n",
    "\n",
    "# GitHub\n",
    "sys.path.insert(0, os.path.join(git_dir, '_IterativeVAE'))\n",
    "from figures.fighelper import *\n",
    "from vae.train_vae import *\n",
    "\n",
    "# warnings, tqdm, & style\n",
    "warnings.filterwarnings('ignore', category=DeprecationWarning)\n",
    "warnings.filterwarnings('ignore', category=FutureWarning)\n",
    "warnings.filterwarnings('ignore', category=UserWarning)\n",
    "from rich.jupyter import print\n",
    "%matplotlib inline\n",
    "set_style()"
   ]
  },
  {
   "cell_type": "code",
   "execution_count": 2,
   "id": "45357127-b675-4e68-ba95-938ea8612cad",
   "metadata": {},
   "outputs": [],
   "source": [
    "from base.utils_model import load_quick\n",
    "\n",
    "device_idx = 2\n",
    "device = f'cuda:{device_idx}'"
   ]
  },
  {
   "cell_type": "code",
   "execution_count": 3,
   "id": "0a91dc28-80cd-4b69-8cfa-25b91db3eda1",
   "metadata": {},
   "outputs": [],
   "source": [
    "def get_perf(first, first_descriptor, second, second_descriptor):\n",
    "    if first.times[0] < second.times[0]:\n",
    "        winner = first_descriptor\n",
    "        faster = first.times[0]\n",
    "        slower = second.times[0]\n",
    "    else:\n",
    "        winner = second_descriptor\n",
    "        faster = second.times[0]\n",
    "        slower = first.times[0]\n",
    "    \n",
    "    gain = 100 * (slower - faster) / slower\n",
    "    print(f\"Performance delta: {gain:.2f} percent improvement with '{winner}'\")"
   ]
  },
  {
   "cell_type": "code",
   "execution_count": null,
   "id": "613114d1-1531-48f0-8e1c-2b67634b6986",
   "metadata": {},
   "outputs": [],
   "source": []
  },
  {
   "cell_type": "code",
   "execution_count": null,
   "id": "56366b28-9b8a-482f-a904-bf9c7fe0b8e4",
   "metadata": {},
   "outputs": [],
   "source": []
  },
  {
   "cell_type": "markdown",
   "id": "d35600ae-0451-4d9b-90be-cfcba1328cc5",
   "metadata": {
    "jp-MarkdownHeadingCollapsed": true
   },
   "source": [
    "## jacrev and jacfwd"
   ]
  },
  {
   "cell_type": "code",
   "execution_count": 5,
   "id": "70ea1e86-a6a9-416d-90b2-ada23faf1552",
   "metadata": {},
   "outputs": [],
   "source": [
    "def predict(x):\n",
    "    return F.linear(x, weight, bias).tanh()"
   ]
  },
  {
   "cell_type": "code",
   "execution_count": 6,
   "id": "f9e510bf-70c4-4cd2-aa76-0be78514253e",
   "metadata": {},
   "outputs": [
    {
     "data": {
      "text/html": [
       "<pre style=\"white-space:pre;overflow-x:auto;line-height:normal;font-family:Menlo,'DejaVu Sans Mono',consolas,'Courier New',monospace\">weight shape = <span style=\"color: #800080; text-decoration-color: #800080; font-weight: bold\">torch.Size</span><span style=\"font-weight: bold\">([</span><span style=\"color: #008080; text-decoration-color: #008080; font-weight: bold\">256</span>, <span style=\"color: #008080; text-decoration-color: #008080; font-weight: bold\">16</span><span style=\"font-weight: bold\">])</span>\n",
       "</pre>\n"
      ],
      "text/plain": [
       "weight shape = \u001b[1;35mtorch.Size\u001b[0m\u001b[1m(\u001b[0m\u001b[1m[\u001b[0m\u001b[1;36m256\u001b[0m, \u001b[1;36m16\u001b[0m\u001b[1m]\u001b[0m\u001b[1m)\u001b[0m\n"
      ]
     },
     "metadata": {},
     "output_type": "display_data"
    }
   ],
   "source": [
    "batch_size = 123\n",
    "n_latents = 16\n",
    "n_pix = 256\n",
    "\n",
    "weight = torch.randn(n_pix, n_latents)\n",
    "print(f\"weight shape = {weight.shape}\")\n",
    "\n",
    "bias = torch.randn(n_pix)\n",
    "z = torch.randn(batch_size, n_latents)"
   ]
  },
  {
   "cell_type": "code",
   "execution_count": null,
   "id": "2e0ac9c6-8fc7-4f00-b1c0-f036b190f52b",
   "metadata": {},
   "outputs": [],
   "source": []
  },
  {
   "cell_type": "code",
   "execution_count": 7,
   "id": "955c2713-9904-42a0-a7f5-12c58290d690",
   "metadata": {},
   "outputs": [
    {
     "data": {
      "text/plain": [
       "torch.Size([123, 256, 16])"
      ]
     },
     "execution_count": 7,
     "metadata": {},
     "output_type": "execute_result"
    }
   ],
   "source": [
    "compute_batch_jacobian = torch.func.vmap(\n",
    "    func=torch.func.jacfwd(predict),\n",
    "    in_dims=0,\n",
    ")\n",
    "jacobian = compute_batch_jacobian(z)\n",
    "jacobian.shape"
   ]
  },
  {
   "cell_type": "code",
   "execution_count": null,
   "id": "e2a0ffcb-ea03-4c86-a24f-71fd20bbb934",
   "metadata": {},
   "outputs": [],
   "source": []
  },
  {
   "cell_type": "code",
   "execution_count": 9,
   "id": "7d9e211c-dc24-48ab-993f-4542a1b9b17c",
   "metadata": {},
   "outputs": [
    {
     "data": {
      "text/html": [
       "<pre style=\"white-space:pre;overflow-x:auto;line-height:normal;font-family:Menlo,'DejaVu Sans Mono',consolas,'Courier New',monospace\"><span style=\"font-weight: bold\">&lt;</span><span style=\"color: #ff00ff; text-decoration-color: #ff00ff; font-weight: bold\">torch.utils.benchmark.utils.common.Measurement</span><span style=\"color: #000000; text-decoration-color: #000000\"> object at </span><span style=\"color: #008080; text-decoration-color: #008080; font-weight: bold\">0x7db20e1a0610</span><span style=\"font-weight: bold\">&gt;</span>\n",
       "<span style=\"color: #800080; text-decoration-color: #800080; font-weight: bold\">torch.func.vmap</span><span style=\"font-weight: bold\">(</span><span style=\"color: #800080; text-decoration-color: #800080; font-weight: bold\">torch.func.jacfwd</span><span style=\"font-weight: bold\">(</span>predict, <span style=\"color: #808000; text-decoration-color: #808000\">argnums</span>=<span style=\"color: #008080; text-decoration-color: #008080; font-weight: bold\">0</span><span style=\"font-weight: bold\">)</span>, <span style=\"color: #808000; text-decoration-color: #808000\">in_dims</span>=<span style=\"color: #008080; text-decoration-color: #008080; font-weight: bold\">0</span><span style=\"font-weight: bold\">)(</span>z<span style=\"font-weight: bold\">)</span>\n",
       "  <span style=\"color: #008080; text-decoration-color: #008080; font-weight: bold\">1.93</span> ms\n",
       "  <span style=\"color: #008080; text-decoration-color: #008080; font-weight: bold\">1</span> measurement, <span style=\"color: #008080; text-decoration-color: #008080; font-weight: bold\">500</span> runs , <span style=\"color: #008080; text-decoration-color: #008080; font-weight: bold\">1</span> thread\n",
       "</pre>\n"
      ],
      "text/plain": [
       "\u001b[1m<\u001b[0m\u001b[1;95mtorch.utils.benchmark.utils.common.Measurement\u001b[0m\u001b[39m object at \u001b[0m\u001b[1;36m0x7db20e1a0610\u001b[0m\u001b[1m>\u001b[0m\n",
       "\u001b[1;35mtorch.func.vmap\u001b[0m\u001b[1m(\u001b[0m\u001b[1;35mtorch.func.jacfwd\u001b[0m\u001b[1m(\u001b[0mpredict, \u001b[33margnums\u001b[0m=\u001b[1;36m0\u001b[0m\u001b[1m)\u001b[0m, \u001b[33min_dims\u001b[0m=\u001b[1;36m0\u001b[0m\u001b[1m)\u001b[0m\u001b[1m(\u001b[0mz\u001b[1m)\u001b[0m\n",
       "  \u001b[1;36m1.93\u001b[0m ms\n",
       "  \u001b[1;36m1\u001b[0m measurement, \u001b[1;36m500\u001b[0m runs , \u001b[1;36m1\u001b[0m thread\n"
      ]
     },
     "metadata": {},
     "output_type": "display_data"
    },
    {
     "data": {
      "text/html": [
       "<pre style=\"white-space:pre;overflow-x:auto;line-height:normal;font-family:Menlo,'DejaVu Sans Mono',consolas,'Courier New',monospace\"><span style=\"font-weight: bold\">&lt;</span><span style=\"color: #ff00ff; text-decoration-color: #ff00ff; font-weight: bold\">torch.utils.benchmark.utils.common.Measurement</span><span style=\"color: #000000; text-decoration-color: #000000\"> object at </span><span style=\"color: #008080; text-decoration-color: #008080; font-weight: bold\">0x7db1046404d0</span><span style=\"font-weight: bold\">&gt;</span>\n",
       "<span style=\"color: #800080; text-decoration-color: #800080; font-weight: bold\">torch.func.vmap</span><span style=\"font-weight: bold\">(</span><span style=\"color: #800080; text-decoration-color: #800080; font-weight: bold\">torch.func.jacrev</span><span style=\"font-weight: bold\">(</span>predict, <span style=\"color: #808000; text-decoration-color: #808000\">argnums</span>=<span style=\"color: #008080; text-decoration-color: #008080; font-weight: bold\">0</span><span style=\"font-weight: bold\">)</span>, <span style=\"color: #808000; text-decoration-color: #808000\">in_dims</span>=<span style=\"color: #008080; text-decoration-color: #008080; font-weight: bold\">0</span><span style=\"font-weight: bold\">)(</span>z<span style=\"font-weight: bold\">)</span>\n",
       "  <span style=\"color: #008080; text-decoration-color: #008080; font-weight: bold\">17.99</span> ms\n",
       "  <span style=\"color: #008080; text-decoration-color: #008080; font-weight: bold\">1</span> measurement, <span style=\"color: #008080; text-decoration-color: #008080; font-weight: bold\">500</span> runs , <span style=\"color: #008080; text-decoration-color: #008080; font-weight: bold\">1</span> thread\n",
       "</pre>\n"
      ],
      "text/plain": [
       "\u001b[1m<\u001b[0m\u001b[1;95mtorch.utils.benchmark.utils.common.Measurement\u001b[0m\u001b[39m object at \u001b[0m\u001b[1;36m0x7db1046404d0\u001b[0m\u001b[1m>\u001b[0m\n",
       "\u001b[1;35mtorch.func.vmap\u001b[0m\u001b[1m(\u001b[0m\u001b[1;35mtorch.func.jacrev\u001b[0m\u001b[1m(\u001b[0mpredict, \u001b[33margnums\u001b[0m=\u001b[1;36m0\u001b[0m\u001b[1m)\u001b[0m, \u001b[33min_dims\u001b[0m=\u001b[1;36m0\u001b[0m\u001b[1m)\u001b[0m\u001b[1m(\u001b[0mz\u001b[1m)\u001b[0m\n",
       "  \u001b[1;36m17.99\u001b[0m ms\n",
       "  \u001b[1;36m1\u001b[0m measurement, \u001b[1;36m500\u001b[0m runs , \u001b[1;36m1\u001b[0m thread\n"
      ]
     },
     "metadata": {},
     "output_type": "display_data"
    }
   ],
   "source": [
    "from torch.utils.benchmark import Timer\n",
    "\n",
    "stmt_fwd = \"torch.func.vmap(torch.func.jacfwd(predict, argnums=0), in_dims=0)(z)\"\n",
    "stmt_rev = \"torch.func.vmap(torch.func.jacrev(predict, argnums=0), in_dims=0)(z)\"\n",
    "timer_fwd = Timer(stmt=stmt_fwd, globals=globals())\n",
    "timer_rev = Timer(stmt=stmt_rev, globals=globals())\n",
    "\n",
    "fwd_times = timer_fwd.timeit(500)\n",
    "rev_times = timer_rev.timeit(500)\n",
    "\n",
    "print(fwd_times)\n",
    "print(rev_times)"
   ]
  },
  {
   "cell_type": "code",
   "execution_count": null,
   "id": "536833a9-1ed4-42dc-bd45-e81e8f83f6cc",
   "metadata": {},
   "outputs": [],
   "source": []
  },
  {
   "cell_type": "code",
   "execution_count": 13,
   "id": "f05a34dc-6f0a-428a-9877-cb64352ff339",
   "metadata": {},
   "outputs": [
    {
     "data": {
      "text/html": [
       "<pre style=\"white-space:pre;overflow-x:auto;line-height:normal;font-family:Menlo,'DejaVu Sans Mono',consolas,'Courier New',monospace\">latent dim: <span style=\"color: #008080; text-decoration-color: #008080; font-weight: bold\">16</span>  ———  num pixels: <span style=\"color: #008080; text-decoration-color: #008080; font-weight: bold\">256</span>\n",
       "</pre>\n"
      ],
      "text/plain": [
       "latent dim: \u001b[1;36m16\u001b[0m  ———  num pixels: \u001b[1;36m256\u001b[0m\n"
      ]
     },
     "metadata": {},
     "output_type": "display_data"
    },
    {
     "data": {
      "text/html": [
       "<pre style=\"white-space:pre;overflow-x:auto;line-height:normal;font-family:Menlo,'DejaVu Sans Mono',consolas,'Courier New',monospace\">Performance delta: <span style=\"color: #008080; text-decoration-color: #008080; font-weight: bold\">89.27</span> percent improvement with <span style=\"color: #008000; text-decoration-color: #008000\">'jacfwd'</span>\n",
       "</pre>\n"
      ],
      "text/plain": [
       "Performance delta: \u001b[1;36m89.27\u001b[0m percent improvement with \u001b[32m'jacfwd'\u001b[0m\n"
      ]
     },
     "metadata": {},
     "output_type": "display_data"
    }
   ],
   "source": [
    "print(f\"latent dim: {n_latents}  ———  num pixels: {n_pix}\")\n",
    "get_perf(fwd_times, 'jacfwd', rev_times, 'jacrev')"
   ]
  },
  {
   "cell_type": "code",
   "execution_count": null,
   "id": "4566d111-0e70-4d2f-b1f1-cef8c267fba6",
   "metadata": {},
   "outputs": [],
   "source": []
  },
  {
   "cell_type": "code",
   "execution_count": null,
   "id": "be6d848a-85a2-4b8f-9553-19e5bfef54f5",
   "metadata": {},
   "outputs": [],
   "source": []
  },
  {
   "cell_type": "code",
   "execution_count": 15,
   "id": "b913346e-3d31-4859-bce7-03badf68f3fa",
   "metadata": {},
   "outputs": [],
   "source": [
    "batch_size = 123\n",
    "n_latents = 512\n",
    "n_pix = 256\n",
    "\n",
    "weight = torch.randn(n_pix, n_latents)\n",
    "bias = torch.randn(n_pix)\n",
    "z = torch.randn(batch_size, n_latents)"
   ]
  },
  {
   "cell_type": "code",
   "execution_count": null,
   "id": "671da355-71b1-4ae0-a47a-b5c068648b29",
   "metadata": {},
   "outputs": [],
   "source": []
  },
  {
   "cell_type": "code",
   "execution_count": 16,
   "id": "36974ba2-e1b0-4ec6-b600-55f363a884d5",
   "metadata": {},
   "outputs": [
    {
     "data": {
      "text/html": [
       "<pre style=\"white-space:pre;overflow-x:auto;line-height:normal;font-family:Menlo,'DejaVu Sans Mono',consolas,'Courier New',monospace\"><span style=\"font-weight: bold\">&lt;</span><span style=\"color: #ff00ff; text-decoration-color: #ff00ff; font-weight: bold\">torch.utils.benchmark.utils.common.Measurement</span><span style=\"color: #000000; text-decoration-color: #000000\"> object at </span><span style=\"color: #008080; text-decoration-color: #008080; font-weight: bold\">0x7db10290c990</span><span style=\"font-weight: bold\">&gt;</span>\n",
       "<span style=\"color: #800080; text-decoration-color: #800080; font-weight: bold\">torch.func.vmap</span><span style=\"font-weight: bold\">(</span><span style=\"color: #800080; text-decoration-color: #800080; font-weight: bold\">torch.func.jacfwd</span><span style=\"font-weight: bold\">(</span>predict, <span style=\"color: #808000; text-decoration-color: #808000\">argnums</span>=<span style=\"color: #008080; text-decoration-color: #008080; font-weight: bold\">0</span><span style=\"font-weight: bold\">)</span>, <span style=\"color: #808000; text-decoration-color: #808000\">in_dims</span>=<span style=\"color: #008080; text-decoration-color: #008080; font-weight: bold\">0</span><span style=\"font-weight: bold\">)(</span>z<span style=\"font-weight: bold\">)</span>\n",
       "  <span style=\"color: #008080; text-decoration-color: #008080; font-weight: bold\">238.01</span> ms\n",
       "  <span style=\"color: #008080; text-decoration-color: #008080; font-weight: bold\">1</span> measurement, <span style=\"color: #008080; text-decoration-color: #008080; font-weight: bold\">500</span> runs , <span style=\"color: #008080; text-decoration-color: #008080; font-weight: bold\">1</span> thread\n",
       "</pre>\n"
      ],
      "text/plain": [
       "\u001b[1m<\u001b[0m\u001b[1;95mtorch.utils.benchmark.utils.common.Measurement\u001b[0m\u001b[39m object at \u001b[0m\u001b[1;36m0x7db10290c990\u001b[0m\u001b[1m>\u001b[0m\n",
       "\u001b[1;35mtorch.func.vmap\u001b[0m\u001b[1m(\u001b[0m\u001b[1;35mtorch.func.jacfwd\u001b[0m\u001b[1m(\u001b[0mpredict, \u001b[33margnums\u001b[0m=\u001b[1;36m0\u001b[0m\u001b[1m)\u001b[0m, \u001b[33min_dims\u001b[0m=\u001b[1;36m0\u001b[0m\u001b[1m)\u001b[0m\u001b[1m(\u001b[0mz\u001b[1m)\u001b[0m\n",
       "  \u001b[1;36m238.01\u001b[0m ms\n",
       "  \u001b[1;36m1\u001b[0m measurement, \u001b[1;36m500\u001b[0m runs , \u001b[1;36m1\u001b[0m thread\n"
      ]
     },
     "metadata": {},
     "output_type": "display_data"
    },
    {
     "data": {
      "text/html": [
       "<pre style=\"white-space:pre;overflow-x:auto;line-height:normal;font-family:Menlo,'DejaVu Sans Mono',consolas,'Courier New',monospace\"><span style=\"font-weight: bold\">&lt;</span><span style=\"color: #ff00ff; text-decoration-color: #ff00ff; font-weight: bold\">torch.utils.benchmark.utils.common.Measurement</span><span style=\"color: #000000; text-decoration-color: #000000\"> object at </span><span style=\"color: #008080; text-decoration-color: #008080; font-weight: bold\">0x7db0e833f350</span><span style=\"font-weight: bold\">&gt;</span>\n",
       "<span style=\"color: #800080; text-decoration-color: #800080; font-weight: bold\">torch.func.vmap</span><span style=\"font-weight: bold\">(</span><span style=\"color: #800080; text-decoration-color: #800080; font-weight: bold\">torch.func.jacrev</span><span style=\"font-weight: bold\">(</span>predict, <span style=\"color: #808000; text-decoration-color: #808000\">argnums</span>=<span style=\"color: #008080; text-decoration-color: #008080; font-weight: bold\">0</span><span style=\"font-weight: bold\">)</span>, <span style=\"color: #808000; text-decoration-color: #808000\">in_dims</span>=<span style=\"color: #008080; text-decoration-color: #008080; font-weight: bold\">0</span><span style=\"font-weight: bold\">)(</span>z<span style=\"font-weight: bold\">)</span>\n",
       "  <span style=\"color: #008080; text-decoration-color: #008080; font-weight: bold\">81.40</span> ms\n",
       "  <span style=\"color: #008080; text-decoration-color: #008080; font-weight: bold\">1</span> measurement, <span style=\"color: #008080; text-decoration-color: #008080; font-weight: bold\">500</span> runs , <span style=\"color: #008080; text-decoration-color: #008080; font-weight: bold\">1</span> thread\n",
       "</pre>\n"
      ],
      "text/plain": [
       "\u001b[1m<\u001b[0m\u001b[1;95mtorch.utils.benchmark.utils.common.Measurement\u001b[0m\u001b[39m object at \u001b[0m\u001b[1;36m0x7db0e833f350\u001b[0m\u001b[1m>\u001b[0m\n",
       "\u001b[1;35mtorch.func.vmap\u001b[0m\u001b[1m(\u001b[0m\u001b[1;35mtorch.func.jacrev\u001b[0m\u001b[1m(\u001b[0mpredict, \u001b[33margnums\u001b[0m=\u001b[1;36m0\u001b[0m\u001b[1m)\u001b[0m, \u001b[33min_dims\u001b[0m=\u001b[1;36m0\u001b[0m\u001b[1m)\u001b[0m\u001b[1m(\u001b[0mz\u001b[1m)\u001b[0m\n",
       "  \u001b[1;36m81.40\u001b[0m ms\n",
       "  \u001b[1;36m1\u001b[0m measurement, \u001b[1;36m500\u001b[0m runs , \u001b[1;36m1\u001b[0m thread\n"
      ]
     },
     "metadata": {},
     "output_type": "display_data"
    }
   ],
   "source": [
    "from torch.utils.benchmark import Timer\n",
    "\n",
    "stmt_fwd = \"torch.func.vmap(torch.func.jacfwd(predict, argnums=0), in_dims=0)(z)\"\n",
    "stmt_rev = \"torch.func.vmap(torch.func.jacrev(predict, argnums=0), in_dims=0)(z)\"\n",
    "timer_fwd = Timer(stmt=stmt_fwd, globals=globals())\n",
    "timer_rev = Timer(stmt=stmt_rev, globals=globals())\n",
    "\n",
    "fwd_times = timer_fwd.timeit(500)\n",
    "rev_times = timer_rev.timeit(500)\n",
    "\n",
    "print(fwd_times)\n",
    "print(rev_times)"
   ]
  },
  {
   "cell_type": "code",
   "execution_count": 17,
   "id": "0fadb1e0-10f7-4d79-8d58-771a0307357e",
   "metadata": {},
   "outputs": [
    {
     "data": {
      "text/html": [
       "<pre style=\"white-space:pre;overflow-x:auto;line-height:normal;font-family:Menlo,'DejaVu Sans Mono',consolas,'Courier New',monospace\">latent dim: <span style=\"color: #008080; text-decoration-color: #008080; font-weight: bold\">512</span>  ———  num pixels: <span style=\"color: #008080; text-decoration-color: #008080; font-weight: bold\">256</span>\n",
       "</pre>\n"
      ],
      "text/plain": [
       "latent dim: \u001b[1;36m512\u001b[0m  ———  num pixels: \u001b[1;36m256\u001b[0m\n"
      ]
     },
     "metadata": {},
     "output_type": "display_data"
    },
    {
     "data": {
      "text/html": [
       "<pre style=\"white-space:pre;overflow-x:auto;line-height:normal;font-family:Menlo,'DejaVu Sans Mono',consolas,'Courier New',monospace\">Performance delta: <span style=\"color: #008080; text-decoration-color: #008080; font-weight: bold\">65.80</span> percent improvement with <span style=\"color: #008000; text-decoration-color: #008000\">'jacrev'</span>\n",
       "</pre>\n"
      ],
      "text/plain": [
       "Performance delta: \u001b[1;36m65.80\u001b[0m percent improvement with \u001b[32m'jacrev'\u001b[0m\n"
      ]
     },
     "metadata": {},
     "output_type": "display_data"
    }
   ],
   "source": [
    "print(f\"latent dim: {n_latents}  ———  num pixels: {n_pix}\")\n",
    "get_perf(fwd_times, 'jacfwd', rev_times, 'jacrev')"
   ]
  },
  {
   "cell_type": "code",
   "execution_count": null,
   "id": "bd8d2d96-a366-42df-b5fe-d70a3c024c0f",
   "metadata": {},
   "outputs": [],
   "source": []
  },
  {
   "cell_type": "code",
   "execution_count": null,
   "id": "2b0b0b3a-e515-4078-abd9-035e48486d10",
   "metadata": {},
   "outputs": [],
   "source": []
  },
  {
   "cell_type": "markdown",
   "id": "6c003a71-0172-4ed4-b1e9-6713fd37a0e6",
   "metadata": {},
   "source": [
    "## Explore with real IP-VAE"
   ]
  },
  {
   "cell_type": "markdown",
   "id": "0c95ed61-2aa2-4c44-881b-0d1167cc444b",
   "metadata": {},
   "source": [
    "### (option 1) latent_dim < n_pix"
   ]
  },
  {
   "cell_type": "code",
   "execution_count": 4,
   "id": "1d400ea5-1a13-4b13-b0fc-51d0e71d6e3c",
   "metadata": {},
   "outputs": [],
   "source": [
    "model_type = 'poisson'\n",
    "cfg_vae, cfg_tr = default_configs('vH16', model_type, 'jac|mlp')\n",
    "\n",
    "cfg_vae['n_latents'] = [100]\n",
    "cfg_vae['init_scale'] = 1e-2\n",
    "cfg_vae['seq_len'] = 20"
   ]
  },
  {
   "cell_type": "code",
   "execution_count": 5,
   "id": "6ef5bc6d-3d25-49d6-b086-26d12c90390e",
   "metadata": {},
   "outputs": [],
   "source": [
    "vae = HIPVAE(CFG_CLASSES[model_type](**cfg_vae))\n",
    "tr = TrainerVAE(vae, ConfigTrainVAE(**cfg_tr), device=device)"
   ]
  },
  {
   "cell_type": "code",
   "execution_count": null,
   "id": "2cd061cc-b0a2-4f5e-8d21-f6f09b79ede4",
   "metadata": {},
   "outputs": [],
   "source": []
  },
  {
   "cell_type": "code",
   "execution_count": 6,
   "id": "55baf9d2-cade-49d8-a2fc-7730d84d4aa7",
   "metadata": {},
   "outputs": [],
   "source": [
    "x = next(iter(tr.dl_vld))[0]\n",
    "x = x.flatten(start_dim=1)\n",
    "\n",
    "self = tr.model.input_layer\n",
    "self.reset_state(len(x))"
   ]
  },
  {
   "cell_type": "code",
   "execution_count": null,
   "id": "55aaed51-e48f-434d-aad3-828c02c11a05",
   "metadata": {},
   "outputs": [],
   "source": []
  },
  {
   "cell_type": "code",
   "execution_count": 7,
   "id": "4fe9f8cb-1f05-40d7-b4cb-e5bd9c84281f",
   "metadata": {},
   "outputs": [],
   "source": [
    "dist, spks, pred = self.generate(0.2, True)\n",
    "residual = x - pred"
   ]
  },
  {
   "cell_type": "code",
   "execution_count": null,
   "id": "46ca954e-0149-42c1-9d6b-6e5593f16684",
   "metadata": {},
   "outputs": [],
   "source": []
  },
  {
   "cell_type": "code",
   "execution_count": 8,
   "id": "3f733f78-3f8f-4a2c-979d-17cb98b671b3",
   "metadata": {},
   "outputs": [
    {
     "data": {
      "text/html": [
       "<pre style=\"white-space:pre;overflow-x:auto;line-height:normal;font-family:Menlo,'DejaVu Sans Mono',consolas,'Courier New',monospace\"><span style=\"color: #00ff00; text-decoration-color: #00ff00; font-style: italic\">True</span>\n",
       "</pre>\n"
      ],
      "text/plain": [
       "\u001b[3;92mTrue\u001b[0m\n"
      ]
     },
     "metadata": {},
     "output_type": "display_data"
    }
   ],
   "source": [
    "print(self.dim < self._cfg.input_sz ** 2)"
   ]
  },
  {
   "cell_type": "code",
   "execution_count": 9,
   "id": "dac06a9a-1e0d-4531-ade5-b7d760fc617d",
   "metadata": {},
   "outputs": [],
   "source": [
    "func = torch.func.jacrev(func=self.decode, argnums=0)\n",
    "jacobian = torch.func.vmap(func=func, in_dims=0, chunk_size=None)"
   ]
  },
  {
   "cell_type": "code",
   "execution_count": null,
   "id": "34952cd6-5d5e-4d64-909c-c0fb39a7cb4c",
   "metadata": {},
   "outputs": [],
   "source": []
  },
  {
   "cell_type": "code",
   "execution_count": 10,
   "id": "e414452c-1f6e-4ecd-b0e3-ca05005d48b9",
   "metadata": {},
   "outputs": [
    {
     "data": {
      "text/html": [
       "<pre style=\"white-space:pre;overflow-x:auto;line-height:normal;font-family:Menlo,'DejaVu Sans Mono',consolas,'Courier New',monospace\"><span style=\"font-weight: bold\">&lt;</span><span style=\"color: #ff00ff; text-decoration-color: #ff00ff; font-weight: bold\">torch.utils.benchmark.utils.common.Measurement</span><span style=\"color: #000000; text-decoration-color: #000000\"> object at </span><span style=\"color: #008080; text-decoration-color: #008080; font-weight: bold\">0x7c27b5f7ebd0</span><span style=\"font-weight: bold\">&gt;</span>\n",
       "<span style=\"color: #800080; text-decoration-color: #800080; font-weight: bold\">self.encode</span><span style=\"font-weight: bold\">(</span>residual, spks<span style=\"font-weight: bold\">)</span>\n",
       "  <span style=\"color: #008080; text-decoration-color: #008080; font-weight: bold\">2.09</span> ms\n",
       "  <span style=\"color: #008080; text-decoration-color: #008080; font-weight: bold\">1</span> measurement, <span style=\"color: #008080; text-decoration-color: #008080; font-weight: bold\">500</span> runs , <span style=\"color: #008080; text-decoration-color: #008080; font-weight: bold\">1</span> thread\n",
       "</pre>\n"
      ],
      "text/plain": [
       "\u001b[1m<\u001b[0m\u001b[1;95mtorch.utils.benchmark.utils.common.Measurement\u001b[0m\u001b[39m object at \u001b[0m\u001b[1;36m0x7c27b5f7ebd0\u001b[0m\u001b[1m>\u001b[0m\n",
       "\u001b[1;35mself.encode\u001b[0m\u001b[1m(\u001b[0mresidual, spks\u001b[1m)\u001b[0m\n",
       "  \u001b[1;36m2.09\u001b[0m ms\n",
       "  \u001b[1;36m1\u001b[0m measurement, \u001b[1;36m500\u001b[0m runs , \u001b[1;36m1\u001b[0m thread\n"
      ]
     },
     "metadata": {},
     "output_type": "display_data"
    },
    {
     "data": {
      "text/html": [
       "<pre style=\"white-space:pre;overflow-x:auto;line-height:normal;font-family:Menlo,'DejaVu Sans Mono',consolas,'Courier New',monospace\"><span style=\"font-weight: bold\">&lt;</span><span style=\"color: #ff00ff; text-decoration-color: #ff00ff; font-weight: bold\">torch.utils.benchmark.utils.common.Measurement</span><span style=\"color: #000000; text-decoration-color: #000000\"> object at </span><span style=\"color: #008080; text-decoration-color: #008080; font-weight: bold\">0x7c27c521c150</span><span style=\"color: #000000; text-decoration-color: #000000\">&gt;</span>\n",
       "<span style=\"color: #800080; text-decoration-color: #800080; font-weight: bold\">torch.einsum</span><span style=\"color: #000000; text-decoration-color: #000000; font-weight: bold\">(</span><span style=\"color: #008000; text-decoration-color: #008000\">'bmk, bm -&gt; bk'</span>, <span style=\"color: #800080; text-decoration-color: #800080; font-weight: bold\">jacobian</span><span style=\"font-weight: bold\">(</span>spks<span style=\"font-weight: bold\">)</span><span style=\"color: #800080; text-decoration-color: #800080; font-weight: bold\">.squeeze</span><span style=\"font-weight: bold\">()</span>, x<span style=\"font-weight: bold\">)</span>\n",
       "  <span style=\"color: #008080; text-decoration-color: #008080; font-weight: bold\">3.77</span> ms\n",
       "  <span style=\"color: #008080; text-decoration-color: #008080; font-weight: bold\">1</span> measurement, <span style=\"color: #008080; text-decoration-color: #008080; font-weight: bold\">500</span> runs , <span style=\"color: #008080; text-decoration-color: #008080; font-weight: bold\">1</span> thread\n",
       "</pre>\n"
      ],
      "text/plain": [
       "\u001b[1m<\u001b[0m\u001b[1;95mtorch.utils.benchmark.utils.common.Measurement\u001b[0m\u001b[39m object at \u001b[0m\u001b[1;36m0x7c27c521c150\u001b[0m\u001b[39m>\u001b[0m\n",
       "\u001b[1;35mtorch.einsum\u001b[0m\u001b[1;39m(\u001b[0m\u001b[32m'bmk, bm -\u001b[0m\u001b[32m>\u001b[0m\u001b[32m bk'\u001b[0m, \u001b[1;35mjacobian\u001b[0m\u001b[1m(\u001b[0mspks\u001b[1m)\u001b[0m\u001b[1;35m.squeeze\u001b[0m\u001b[1m(\u001b[0m\u001b[1m)\u001b[0m, x\u001b[1m)\u001b[0m\n",
       "  \u001b[1;36m3.77\u001b[0m ms\n",
       "  \u001b[1;36m1\u001b[0m measurement, \u001b[1;36m500\u001b[0m runs , \u001b[1;36m1\u001b[0m thread\n"
      ]
     },
     "metadata": {},
     "output_type": "display_data"
    }
   ],
   "source": [
    "from torch.utils.benchmark import Timer\n",
    "\n",
    "stmt_main = \"self.encode(residual, spks)\"\n",
    "stmt_alt = \"torch.einsum('bmk, bm -> bk', jacobian(spks).squeeze(), x)\"\n",
    "timer_main = Timer(stmt=stmt_main, globals=globals())\n",
    "timer_alt = Timer(stmt=stmt_alt, globals=globals())\n",
    "\n",
    "timer_main = timer_main.timeit(500)\n",
    "timer_alt = timer_alt.timeit(500)\n",
    "\n",
    "print(timer_main)\n",
    "print(timer_alt)"
   ]
  },
  {
   "cell_type": "code",
   "execution_count": null,
   "id": "f033fa30-0bb0-4b4f-918a-81bef6d4cce2",
   "metadata": {},
   "outputs": [],
   "source": []
  },
  {
   "cell_type": "code",
   "execution_count": 11,
   "id": "21bcc343-203f-4e28-99ae-668b11db50ba",
   "metadata": {},
   "outputs": [
    {
     "data": {
      "text/html": [
       "<pre style=\"white-space:pre;overflow-x:auto;line-height:normal;font-family:Menlo,'DejaVu Sans Mono',consolas,'Courier New',monospace\">Performance delta: <span style=\"color: #008080; text-decoration-color: #008080; font-weight: bold\">44.65</span> percent improvement with <span style=\"color: #008000; text-decoration-color: #008000\">'main'</span>\n",
       "</pre>\n"
      ],
      "text/plain": [
       "Performance delta: \u001b[1;36m44.65\u001b[0m percent improvement with \u001b[32m'main'\u001b[0m\n"
      ]
     },
     "metadata": {},
     "output_type": "display_data"
    }
   ],
   "source": [
    "get_perf(timer_main, 'main', timer_alt, 'alt')"
   ]
  },
  {
   "cell_type": "code",
   "execution_count": null,
   "id": "746cd0c6-74cd-4cc7-a284-831fce374484",
   "metadata": {},
   "outputs": [],
   "source": []
  },
  {
   "cell_type": "code",
   "execution_count": null,
   "id": "0232cc1c-42e6-4cc9-a1fa-bc1ec60f466c",
   "metadata": {},
   "outputs": [],
   "source": []
  },
  {
   "cell_type": "markdown",
   "id": "b480eb4e-6e0e-4fe8-b830-06499444f461",
   "metadata": {},
   "source": [
    "### (option 2) latent_dim > n_pix"
   ]
  },
  {
   "cell_type": "code",
   "execution_count": 12,
   "id": "ef19131d-a887-4893-bbd8-e405e64a7730",
   "metadata": {},
   "outputs": [],
   "source": [
    "model_type = 'poisson'\n",
    "cfg_vae, cfg_tr = default_configs('vH16', model_type, 'jac|mlp')\n",
    "\n",
    "cfg_vae['n_latents'] = [512]\n",
    "cfg_vae['init_scale'] = 1e-2\n",
    "cfg_vae['seq_len'] = 20"
   ]
  },
  {
   "cell_type": "code",
   "execution_count": 13,
   "id": "0d1c3c6d-1e33-4175-9b74-b1dba3d96284",
   "metadata": {},
   "outputs": [],
   "source": [
    "vae = HIPVAE(CFG_CLASSES[model_type](**cfg_vae))\n",
    "tr = TrainerVAE(vae, ConfigTrainVAE(**cfg_tr), device=device)"
   ]
  },
  {
   "cell_type": "code",
   "execution_count": null,
   "id": "7d580081-4a2d-4114-af8a-33d4395c8b40",
   "metadata": {},
   "outputs": [],
   "source": []
  },
  {
   "cell_type": "code",
   "execution_count": 14,
   "id": "e71de2bc-cb3c-4fc5-856b-70b8a10c22e1",
   "metadata": {},
   "outputs": [],
   "source": [
    "x = next(iter(tr.dl_vld))[0]\n",
    "x = x.flatten(start_dim=1)\n",
    "\n",
    "self = tr.model.input_layer\n",
    "self.reset_state(len(x))"
   ]
  },
  {
   "cell_type": "code",
   "execution_count": null,
   "id": "c77b6710-a3bb-4d77-8147-2cf7c9b9c9af",
   "metadata": {},
   "outputs": [],
   "source": []
  },
  {
   "cell_type": "code",
   "execution_count": 15,
   "id": "3de6b18e-725c-49fc-b634-00ff3d13158f",
   "metadata": {},
   "outputs": [],
   "source": [
    "dist, spks, pred = self.generate(0.2, True)\n",
    "residual = x - pred"
   ]
  },
  {
   "cell_type": "code",
   "execution_count": null,
   "id": "b8f3909d-6f96-460e-aa13-bea768feb696",
   "metadata": {},
   "outputs": [],
   "source": []
  },
  {
   "cell_type": "code",
   "execution_count": 16,
   "id": "f11ee0ec-1ea2-4575-a542-63e589519dc2",
   "metadata": {},
   "outputs": [
    {
     "data": {
      "text/html": [
       "<pre style=\"white-space:pre;overflow-x:auto;line-height:normal;font-family:Menlo,'DejaVu Sans Mono',consolas,'Courier New',monospace\"><span style=\"color: #ff0000; text-decoration-color: #ff0000; font-style: italic\">False</span>\n",
       "</pre>\n"
      ],
      "text/plain": [
       "\u001b[3;91mFalse\u001b[0m\n"
      ]
     },
     "metadata": {},
     "output_type": "display_data"
    }
   ],
   "source": [
    "print(self.dim < self._cfg.input_sz ** 2)"
   ]
  },
  {
   "cell_type": "code",
   "execution_count": 17,
   "id": "99280fdb-baef-430d-af27-b7e8ffb74539",
   "metadata": {},
   "outputs": [],
   "source": [
    "func = torch.func.jacfwd(func=self.decode, argnums=0)\n",
    "jacobian = torch.func.vmap(func=func, in_dims=0, chunk_size=None)"
   ]
  },
  {
   "cell_type": "code",
   "execution_count": null,
   "id": "d5a7e473-7407-4b5b-9d38-68a7c41c792b",
   "metadata": {},
   "outputs": [],
   "source": []
  },
  {
   "cell_type": "code",
   "execution_count": 18,
   "id": "15f0dcee-48d6-4c4b-b8ed-60196b6d26b2",
   "metadata": {},
   "outputs": [
    {
     "data": {
      "text/html": [
       "<pre style=\"white-space:pre;overflow-x:auto;line-height:normal;font-family:Menlo,'DejaVu Sans Mono',consolas,'Courier New',monospace\"><span style=\"font-weight: bold\">&lt;</span><span style=\"color: #ff00ff; text-decoration-color: #ff00ff; font-weight: bold\">torch.utils.benchmark.utils.common.Measurement</span><span style=\"color: #000000; text-decoration-color: #000000\"> object at </span><span style=\"color: #008080; text-decoration-color: #008080; font-weight: bold\">0x7c27c2fcd290</span><span style=\"font-weight: bold\">&gt;</span>\n",
       "<span style=\"color: #800080; text-decoration-color: #800080; font-weight: bold\">self.encode</span><span style=\"font-weight: bold\">(</span>residual, spks<span style=\"font-weight: bold\">)</span>\n",
       "  <span style=\"color: #008080; text-decoration-color: #008080; font-weight: bold\">11.23</span> ms\n",
       "  <span style=\"color: #008080; text-decoration-color: #008080; font-weight: bold\">1</span> measurement, <span style=\"color: #008080; text-decoration-color: #008080; font-weight: bold\">500</span> runs , <span style=\"color: #008080; text-decoration-color: #008080; font-weight: bold\">1</span> thread\n",
       "</pre>\n"
      ],
      "text/plain": [
       "\u001b[1m<\u001b[0m\u001b[1;95mtorch.utils.benchmark.utils.common.Measurement\u001b[0m\u001b[39m object at \u001b[0m\u001b[1;36m0x7c27c2fcd290\u001b[0m\u001b[1m>\u001b[0m\n",
       "\u001b[1;35mself.encode\u001b[0m\u001b[1m(\u001b[0mresidual, spks\u001b[1m)\u001b[0m\n",
       "  \u001b[1;36m11.23\u001b[0m ms\n",
       "  \u001b[1;36m1\u001b[0m measurement, \u001b[1;36m500\u001b[0m runs , \u001b[1;36m1\u001b[0m thread\n"
      ]
     },
     "metadata": {},
     "output_type": "display_data"
    },
    {
     "data": {
      "text/html": [
       "<pre style=\"white-space:pre;overflow-x:auto;line-height:normal;font-family:Menlo,'DejaVu Sans Mono',consolas,'Courier New',monospace\"><span style=\"font-weight: bold\">&lt;</span><span style=\"color: #ff00ff; text-decoration-color: #ff00ff; font-weight: bold\">torch.utils.benchmark.utils.common.Measurement</span><span style=\"color: #000000; text-decoration-color: #000000\"> object at </span><span style=\"color: #008080; text-decoration-color: #008080; font-weight: bold\">0x7c27c5b765d0</span><span style=\"color: #000000; text-decoration-color: #000000\">&gt;</span>\n",
       "<span style=\"color: #800080; text-decoration-color: #800080; font-weight: bold\">torch.einsum</span><span style=\"color: #000000; text-decoration-color: #000000; font-weight: bold\">(</span><span style=\"color: #008000; text-decoration-color: #008000\">'bmk, bm -&gt; bk'</span>, <span style=\"color: #800080; text-decoration-color: #800080; font-weight: bold\">jacobian</span><span style=\"font-weight: bold\">(</span>spks<span style=\"font-weight: bold\">)</span><span style=\"color: #800080; text-decoration-color: #800080; font-weight: bold\">.squeeze</span><span style=\"font-weight: bold\">()</span>, x<span style=\"font-weight: bold\">)</span>\n",
       "  <span style=\"color: #008080; text-decoration-color: #008080; font-weight: bold\">41.12</span> ms\n",
       "  <span style=\"color: #008080; text-decoration-color: #008080; font-weight: bold\">1</span> measurement, <span style=\"color: #008080; text-decoration-color: #008080; font-weight: bold\">500</span> runs , <span style=\"color: #008080; text-decoration-color: #008080; font-weight: bold\">1</span> thread\n",
       "</pre>\n"
      ],
      "text/plain": [
       "\u001b[1m<\u001b[0m\u001b[1;95mtorch.utils.benchmark.utils.common.Measurement\u001b[0m\u001b[39m object at \u001b[0m\u001b[1;36m0x7c27c5b765d0\u001b[0m\u001b[39m>\u001b[0m\n",
       "\u001b[1;35mtorch.einsum\u001b[0m\u001b[1;39m(\u001b[0m\u001b[32m'bmk, bm -\u001b[0m\u001b[32m>\u001b[0m\u001b[32m bk'\u001b[0m, \u001b[1;35mjacobian\u001b[0m\u001b[1m(\u001b[0mspks\u001b[1m)\u001b[0m\u001b[1;35m.squeeze\u001b[0m\u001b[1m(\u001b[0m\u001b[1m)\u001b[0m, x\u001b[1m)\u001b[0m\n",
       "  \u001b[1;36m41.12\u001b[0m ms\n",
       "  \u001b[1;36m1\u001b[0m measurement, \u001b[1;36m500\u001b[0m runs , \u001b[1;36m1\u001b[0m thread\n"
      ]
     },
     "metadata": {},
     "output_type": "display_data"
    }
   ],
   "source": [
    "from torch.utils.benchmark import Timer\n",
    "\n",
    "stmt_main = \"self.encode(residual, spks)\"\n",
    "stmt_alt = \"torch.einsum('bmk, bm -> bk', jacobian(spks).squeeze(), x)\"\n",
    "timer_main = Timer(stmt=stmt_main, globals=globals())\n",
    "timer_alt = Timer(stmt=stmt_alt, globals=globals())\n",
    "\n",
    "timer_main = timer_main.timeit(500)\n",
    "timer_alt = timer_alt.timeit(500)\n",
    "\n",
    "print(timer_main)\n",
    "print(timer_alt)"
   ]
  },
  {
   "cell_type": "code",
   "execution_count": null,
   "id": "6fa7c6ca-117e-47d9-bfc2-e22fada6d067",
   "metadata": {},
   "outputs": [],
   "source": []
  },
  {
   "cell_type": "code",
   "execution_count": 19,
   "id": "e493a2e6-2ba0-4308-800e-bc0b2cb4e257",
   "metadata": {},
   "outputs": [
    {
     "data": {
      "text/html": [
       "<pre style=\"white-space:pre;overflow-x:auto;line-height:normal;font-family:Menlo,'DejaVu Sans Mono',consolas,'Courier New',monospace\">Performance delta: <span style=\"color: #008080; text-decoration-color: #008080; font-weight: bold\">72.69</span> percent improvement with <span style=\"color: #008000; text-decoration-color: #008000\">'main'</span>\n",
       "</pre>\n"
      ],
      "text/plain": [
       "Performance delta: \u001b[1;36m72.69\u001b[0m percent improvement with \u001b[32m'main'\u001b[0m\n"
      ]
     },
     "metadata": {},
     "output_type": "display_data"
    }
   ],
   "source": [
    "get_perf(timer_main, 'main', timer_alt, 'alt')"
   ]
  },
  {
   "cell_type": "code",
   "execution_count": 11,
   "id": "b35c0501-e064-47ec-abc0-72c3ac0c5e4f",
   "metadata": {},
   "outputs": [
    {
     "data": {
      "text/html": [
       "<pre style=\"white-space:pre;overflow-x:auto;line-height:normal;font-family:Menlo,'DejaVu Sans Mono',consolas,'Courier New',monospace\">Performance delta: <span style=\"color: #008080; text-decoration-color: #008080; font-weight: bold\">44.65</span> percent improvement with <span style=\"color: #008000; text-decoration-color: #008000\">'main'</span>\n",
       "</pre>\n"
      ],
      "text/plain": [
       "Performance delta: \u001b[1;36m44.65\u001b[0m percent improvement with \u001b[32m'main'\u001b[0m\n"
      ]
     },
     "metadata": {},
     "output_type": "display_data"
    }
   ],
   "source": []
  },
  {
   "cell_type": "code",
   "execution_count": null,
   "id": "8fdd8903-eb8f-41f8-a27e-dd573bd993d3",
   "metadata": {},
   "outputs": [],
   "source": []
  },
  {
   "cell_type": "code",
   "execution_count": null,
   "id": "8af25080-01c9-45b0-8109-e669d964ae2f",
   "metadata": {},
   "outputs": [],
   "source": []
  },
  {
   "cell_type": "code",
   "execution_count": null,
   "id": "66a800b0-eb5c-42c0-a986-e864bca8e394",
   "metadata": {},
   "outputs": [],
   "source": []
  },
  {
   "cell_type": "markdown",
   "id": "3c4e6d13-56c3-4120-85f4-89ea35ca2090",
   "metadata": {},
   "source": [
    "## When implementinc mlp decoder"
   ]
  },
  {
   "cell_type": "code",
   "execution_count": 54,
   "id": "56f3d2a0-ecfc-416b-9492-b67d919ed2ba",
   "metadata": {},
   "outputs": [
    {
     "data": {
      "text/html": [
       "<pre style=\"white-space:pre;overflow-x:auto;line-height:normal;font-family:Menlo,'DejaVu Sans Mono',consolas,'Courier New',monospace\"><span style=\"color: #800080; text-decoration-color: #800080; font-weight: bold\">Sequential</span><span style=\"font-weight: bold\">(</span>\n",
       "  <span style=\"font-weight: bold\">(</span><span style=\"color: #008080; text-decoration-color: #008080; font-weight: bold\">0</span><span style=\"font-weight: bold\">)</span>: <span style=\"color: #800080; text-decoration-color: #800080; font-weight: bold\">Linear</span><span style=\"font-weight: bold\">(</span><span style=\"color: #808000; text-decoration-color: #808000\">in_features</span>=<span style=\"color: #008080; text-decoration-color: #008080; font-weight: bold\">100</span>, <span style=\"color: #808000; text-decoration-color: #808000\">out_features</span>=<span style=\"color: #008080; text-decoration-color: #008080; font-weight: bold\">784</span>, <span style=\"color: #808000; text-decoration-color: #808000\">bias</span>=<span style=\"color: #00ff00; text-decoration-color: #00ff00; font-style: italic\">True</span><span style=\"font-weight: bold\">)</span>\n",
       "<span style=\"font-weight: bold\">)</span>\n",
       "</pre>\n"
      ],
      "text/plain": [
       "\u001b[1;35mSequential\u001b[0m\u001b[1m(\u001b[0m\n",
       "  \u001b[1m(\u001b[0m\u001b[1;36m0\u001b[0m\u001b[1m)\u001b[0m: \u001b[1;35mLinear\u001b[0m\u001b[1m(\u001b[0m\u001b[33min_features\u001b[0m=\u001b[1;36m100\u001b[0m, \u001b[33mout_features\u001b[0m=\u001b[1;36m784\u001b[0m, \u001b[33mbias\u001b[0m=\u001b[3;92mTrue\u001b[0m\u001b[1m)\u001b[0m\n",
       "\u001b[1m)\u001b[0m\n"
      ]
     },
     "metadata": {},
     "output_type": "display_data"
    },
    {
     "data": {
      "text/html": [
       "<pre style=\"white-space:pre;overflow-x:auto;line-height:normal;font-family:Menlo,'DejaVu Sans Mono',consolas,'Courier New',monospace\"><span style=\"color: #800080; text-decoration-color: #800080; font-weight: bold\">Sequential</span><span style=\"font-weight: bold\">(</span>\n",
       "  <span style=\"font-weight: bold\">(</span><span style=\"color: #008080; text-decoration-color: #008080; font-weight: bold\">0</span><span style=\"font-weight: bold\">)</span>: <span style=\"color: #800080; text-decoration-color: #800080; font-weight: bold\">Linear</span><span style=\"font-weight: bold\">(</span><span style=\"color: #808000; text-decoration-color: #808000\">in_features</span>=<span style=\"color: #008080; text-decoration-color: #008080; font-weight: bold\">100</span>, <span style=\"color: #808000; text-decoration-color: #808000\">out_features</span>=<span style=\"color: #008080; text-decoration-color: #008080; font-weight: bold\">280</span>, <span style=\"color: #808000; text-decoration-color: #808000\">bias</span>=<span style=\"color: #00ff00; text-decoration-color: #00ff00; font-style: italic\">True</span><span style=\"font-weight: bold\">)</span>\n",
       "  <span style=\"font-weight: bold\">(</span><span style=\"color: #008080; text-decoration-color: #008080; font-weight: bold\">1</span><span style=\"font-weight: bold\">)</span>: <span style=\"color: #800080; text-decoration-color: #800080; font-weight: bold\">SiLU</span><span style=\"font-weight: bold\">(</span><span style=\"color: #808000; text-decoration-color: #808000\">inplace</span>=<span style=\"color: #00ff00; text-decoration-color: #00ff00; font-style: italic\">True</span><span style=\"font-weight: bold\">)</span>\n",
       "  <span style=\"font-weight: bold\">(</span><span style=\"color: #008080; text-decoration-color: #008080; font-weight: bold\">2</span><span style=\"font-weight: bold\">)</span>: <span style=\"color: #800080; text-decoration-color: #800080; font-weight: bold\">Linear</span><span style=\"font-weight: bold\">(</span><span style=\"color: #808000; text-decoration-color: #808000\">in_features</span>=<span style=\"color: #008080; text-decoration-color: #008080; font-weight: bold\">280</span>, <span style=\"color: #808000; text-decoration-color: #808000\">out_features</span>=<span style=\"color: #008080; text-decoration-color: #008080; font-weight: bold\">784</span>, <span style=\"color: #808000; text-decoration-color: #808000\">bias</span>=<span style=\"color: #00ff00; text-decoration-color: #00ff00; font-style: italic\">True</span><span style=\"font-weight: bold\">)</span>\n",
       "<span style=\"font-weight: bold\">)</span>\n",
       "</pre>\n"
      ],
      "text/plain": [
       "\u001b[1;35mSequential\u001b[0m\u001b[1m(\u001b[0m\n",
       "  \u001b[1m(\u001b[0m\u001b[1;36m0\u001b[0m\u001b[1m)\u001b[0m: \u001b[1;35mLinear\u001b[0m\u001b[1m(\u001b[0m\u001b[33min_features\u001b[0m=\u001b[1;36m100\u001b[0m, \u001b[33mout_features\u001b[0m=\u001b[1;36m280\u001b[0m, \u001b[33mbias\u001b[0m=\u001b[3;92mTrue\u001b[0m\u001b[1m)\u001b[0m\n",
       "  \u001b[1m(\u001b[0m\u001b[1;36m1\u001b[0m\u001b[1m)\u001b[0m: \u001b[1;35mSiLU\u001b[0m\u001b[1m(\u001b[0m\u001b[33minplace\u001b[0m=\u001b[3;92mTrue\u001b[0m\u001b[1m)\u001b[0m\n",
       "  \u001b[1m(\u001b[0m\u001b[1;36m2\u001b[0m\u001b[1m)\u001b[0m: \u001b[1;35mLinear\u001b[0m\u001b[1m(\u001b[0m\u001b[33min_features\u001b[0m=\u001b[1;36m280\u001b[0m, \u001b[33mout_features\u001b[0m=\u001b[1;36m784\u001b[0m, \u001b[33mbias\u001b[0m=\u001b[3;92mTrue\u001b[0m\u001b[1m)\u001b[0m\n",
       "\u001b[1m)\u001b[0m\n"
      ]
     },
     "metadata": {},
     "output_type": "display_data"
    },
    {
     "data": {
      "text/html": [
       "<pre style=\"white-space:pre;overflow-x:auto;line-height:normal;font-family:Menlo,'DejaVu Sans Mono',consolas,'Courier New',monospace\"><span style=\"color: #800080; text-decoration-color: #800080; font-weight: bold\">Sequential</span><span style=\"font-weight: bold\">(</span>\n",
       "  <span style=\"font-weight: bold\">(</span><span style=\"color: #008080; text-decoration-color: #008080; font-weight: bold\">0</span><span style=\"font-weight: bold\">)</span>: <span style=\"color: #800080; text-decoration-color: #800080; font-weight: bold\">Linear</span><span style=\"font-weight: bold\">(</span><span style=\"color: #808000; text-decoration-color: #808000\">in_features</span>=<span style=\"color: #008080; text-decoration-color: #008080; font-weight: bold\">100</span>, <span style=\"color: #808000; text-decoration-color: #808000\">out_features</span>=<span style=\"color: #008080; text-decoration-color: #008080; font-weight: bold\">198</span>, <span style=\"color: #808000; text-decoration-color: #808000\">bias</span>=<span style=\"color: #00ff00; text-decoration-color: #00ff00; font-style: italic\">True</span><span style=\"font-weight: bold\">)</span>\n",
       "  <span style=\"font-weight: bold\">(</span><span style=\"color: #008080; text-decoration-color: #008080; font-weight: bold\">1</span><span style=\"font-weight: bold\">)</span>: <span style=\"color: #800080; text-decoration-color: #800080; font-weight: bold\">SiLU</span><span style=\"font-weight: bold\">(</span><span style=\"color: #808000; text-decoration-color: #808000\">inplace</span>=<span style=\"color: #00ff00; text-decoration-color: #00ff00; font-style: italic\">True</span><span style=\"font-weight: bold\">)</span>\n",
       "  <span style=\"font-weight: bold\">(</span><span style=\"color: #008080; text-decoration-color: #008080; font-weight: bold\">2</span><span style=\"font-weight: bold\">)</span>: <span style=\"color: #800080; text-decoration-color: #800080; font-weight: bold\">Linear</span><span style=\"font-weight: bold\">(</span><span style=\"color: #808000; text-decoration-color: #808000\">in_features</span>=<span style=\"color: #008080; text-decoration-color: #008080; font-weight: bold\">198</span>, <span style=\"color: #808000; text-decoration-color: #808000\">out_features</span>=<span style=\"color: #008080; text-decoration-color: #008080; font-weight: bold\">393</span>, <span style=\"color: #808000; text-decoration-color: #808000\">bias</span>=<span style=\"color: #00ff00; text-decoration-color: #00ff00; font-style: italic\">True</span><span style=\"font-weight: bold\">)</span>\n",
       "  <span style=\"font-weight: bold\">(</span><span style=\"color: #008080; text-decoration-color: #008080; font-weight: bold\">3</span><span style=\"font-weight: bold\">)</span>: <span style=\"color: #800080; text-decoration-color: #800080; font-weight: bold\">SiLU</span><span style=\"font-weight: bold\">(</span><span style=\"color: #808000; text-decoration-color: #808000\">inplace</span>=<span style=\"color: #00ff00; text-decoration-color: #00ff00; font-style: italic\">True</span><span style=\"font-weight: bold\">)</span>\n",
       "  <span style=\"font-weight: bold\">(</span><span style=\"color: #008080; text-decoration-color: #008080; font-weight: bold\">4</span><span style=\"font-weight: bold\">)</span>: <span style=\"color: #800080; text-decoration-color: #800080; font-weight: bold\">Linear</span><span style=\"font-weight: bold\">(</span><span style=\"color: #808000; text-decoration-color: #808000\">in_features</span>=<span style=\"color: #008080; text-decoration-color: #008080; font-weight: bold\">393</span>, <span style=\"color: #808000; text-decoration-color: #808000\">out_features</span>=<span style=\"color: #008080; text-decoration-color: #008080; font-weight: bold\">784</span>, <span style=\"color: #808000; text-decoration-color: #808000\">bias</span>=<span style=\"color: #00ff00; text-decoration-color: #00ff00; font-style: italic\">True</span><span style=\"font-weight: bold\">)</span>\n",
       "<span style=\"font-weight: bold\">)</span>\n",
       "</pre>\n"
      ],
      "text/plain": [
       "\u001b[1;35mSequential\u001b[0m\u001b[1m(\u001b[0m\n",
       "  \u001b[1m(\u001b[0m\u001b[1;36m0\u001b[0m\u001b[1m)\u001b[0m: \u001b[1;35mLinear\u001b[0m\u001b[1m(\u001b[0m\u001b[33min_features\u001b[0m=\u001b[1;36m100\u001b[0m, \u001b[33mout_features\u001b[0m=\u001b[1;36m198\u001b[0m, \u001b[33mbias\u001b[0m=\u001b[3;92mTrue\u001b[0m\u001b[1m)\u001b[0m\n",
       "  \u001b[1m(\u001b[0m\u001b[1;36m1\u001b[0m\u001b[1m)\u001b[0m: \u001b[1;35mSiLU\u001b[0m\u001b[1m(\u001b[0m\u001b[33minplace\u001b[0m=\u001b[3;92mTrue\u001b[0m\u001b[1m)\u001b[0m\n",
       "  \u001b[1m(\u001b[0m\u001b[1;36m2\u001b[0m\u001b[1m)\u001b[0m: \u001b[1;35mLinear\u001b[0m\u001b[1m(\u001b[0m\u001b[33min_features\u001b[0m=\u001b[1;36m198\u001b[0m, \u001b[33mout_features\u001b[0m=\u001b[1;36m393\u001b[0m, \u001b[33mbias\u001b[0m=\u001b[3;92mTrue\u001b[0m\u001b[1m)\u001b[0m\n",
       "  \u001b[1m(\u001b[0m\u001b[1;36m3\u001b[0m\u001b[1m)\u001b[0m: \u001b[1;35mSiLU\u001b[0m\u001b[1m(\u001b[0m\u001b[33minplace\u001b[0m=\u001b[3;92mTrue\u001b[0m\u001b[1m)\u001b[0m\n",
       "  \u001b[1m(\u001b[0m\u001b[1;36m4\u001b[0m\u001b[1m)\u001b[0m: \u001b[1;35mLinear\u001b[0m\u001b[1m(\u001b[0m\u001b[33min_features\u001b[0m=\u001b[1;36m393\u001b[0m, \u001b[33mout_features\u001b[0m=\u001b[1;36m784\u001b[0m, \u001b[33mbias\u001b[0m=\u001b[3;92mTrue\u001b[0m\u001b[1m)\u001b[0m\n",
       "\u001b[1m)\u001b[0m\n"
      ]
     },
     "metadata": {},
     "output_type": "display_data"
    },
    {
     "data": {
      "text/html": [
       "<pre style=\"white-space:pre;overflow-x:auto;line-height:normal;font-family:Menlo,'DejaVu Sans Mono',consolas,'Courier New',monospace\"><span style=\"color: #800080; text-decoration-color: #800080; font-weight: bold\">Sequential</span><span style=\"font-weight: bold\">(</span>\n",
       "  <span style=\"font-weight: bold\">(</span><span style=\"color: #008080; text-decoration-color: #008080; font-weight: bold\">0</span><span style=\"font-weight: bold\">)</span>: <span style=\"color: #800080; text-decoration-color: #800080; font-weight: bold\">Linear</span><span style=\"font-weight: bold\">(</span><span style=\"color: #808000; text-decoration-color: #808000\">in_features</span>=<span style=\"color: #008080; text-decoration-color: #008080; font-weight: bold\">100</span>, <span style=\"color: #808000; text-decoration-color: #808000\">out_features</span>=<span style=\"color: #008080; text-decoration-color: #008080; font-weight: bold\">167</span>, <span style=\"color: #808000; text-decoration-color: #808000\">bias</span>=<span style=\"color: #00ff00; text-decoration-color: #00ff00; font-style: italic\">True</span><span style=\"font-weight: bold\">)</span>\n",
       "  <span style=\"font-weight: bold\">(</span><span style=\"color: #008080; text-decoration-color: #008080; font-weight: bold\">1</span><span style=\"font-weight: bold\">)</span>: <span style=\"color: #800080; text-decoration-color: #800080; font-weight: bold\">SiLU</span><span style=\"font-weight: bold\">(</span><span style=\"color: #808000; text-decoration-color: #808000\">inplace</span>=<span style=\"color: #00ff00; text-decoration-color: #00ff00; font-style: italic\">True</span><span style=\"font-weight: bold\">)</span>\n",
       "  <span style=\"font-weight: bold\">(</span><span style=\"color: #008080; text-decoration-color: #008080; font-weight: bold\">2</span><span style=\"font-weight: bold\">)</span>: <span style=\"color: #800080; text-decoration-color: #800080; font-weight: bold\">Linear</span><span style=\"font-weight: bold\">(</span><span style=\"color: #808000; text-decoration-color: #808000\">in_features</span>=<span style=\"color: #008080; text-decoration-color: #008080; font-weight: bold\">167</span>, <span style=\"color: #808000; text-decoration-color: #808000\">out_features</span>=<span style=\"color: #008080; text-decoration-color: #008080; font-weight: bold\">279</span>, <span style=\"color: #808000; text-decoration-color: #808000\">bias</span>=<span style=\"color: #00ff00; text-decoration-color: #00ff00; font-style: italic\">True</span><span style=\"font-weight: bold\">)</span>\n",
       "  <span style=\"font-weight: bold\">(</span><span style=\"color: #008080; text-decoration-color: #008080; font-weight: bold\">3</span><span style=\"font-weight: bold\">)</span>: <span style=\"color: #800080; text-decoration-color: #800080; font-weight: bold\">SiLU</span><span style=\"font-weight: bold\">(</span><span style=\"color: #808000; text-decoration-color: #808000\">inplace</span>=<span style=\"color: #00ff00; text-decoration-color: #00ff00; font-style: italic\">True</span><span style=\"font-weight: bold\">)</span>\n",
       "  <span style=\"font-weight: bold\">(</span><span style=\"color: #008080; text-decoration-color: #008080; font-weight: bold\">4</span><span style=\"font-weight: bold\">)</span>: <span style=\"color: #800080; text-decoration-color: #800080; font-weight: bold\">Linear</span><span style=\"font-weight: bold\">(</span><span style=\"color: #808000; text-decoration-color: #808000\">in_features</span>=<span style=\"color: #008080; text-decoration-color: #008080; font-weight: bold\">279</span>, <span style=\"color: #808000; text-decoration-color: #808000\">out_features</span>=<span style=\"color: #008080; text-decoration-color: #008080; font-weight: bold\">466</span>, <span style=\"color: #808000; text-decoration-color: #808000\">bias</span>=<span style=\"color: #00ff00; text-decoration-color: #00ff00; font-style: italic\">True</span><span style=\"font-weight: bold\">)</span>\n",
       "  <span style=\"font-weight: bold\">(</span><span style=\"color: #008080; text-decoration-color: #008080; font-weight: bold\">5</span><span style=\"font-weight: bold\">)</span>: <span style=\"color: #800080; text-decoration-color: #800080; font-weight: bold\">SiLU</span><span style=\"font-weight: bold\">(</span><span style=\"color: #808000; text-decoration-color: #808000\">inplace</span>=<span style=\"color: #00ff00; text-decoration-color: #00ff00; font-style: italic\">True</span><span style=\"font-weight: bold\">)</span>\n",
       "  <span style=\"font-weight: bold\">(</span><span style=\"color: #008080; text-decoration-color: #008080; font-weight: bold\">6</span><span style=\"font-weight: bold\">)</span>: <span style=\"color: #800080; text-decoration-color: #800080; font-weight: bold\">Linear</span><span style=\"font-weight: bold\">(</span><span style=\"color: #808000; text-decoration-color: #808000\">in_features</span>=<span style=\"color: #008080; text-decoration-color: #008080; font-weight: bold\">466</span>, <span style=\"color: #808000; text-decoration-color: #808000\">out_features</span>=<span style=\"color: #008080; text-decoration-color: #008080; font-weight: bold\">784</span>, <span style=\"color: #808000; text-decoration-color: #808000\">bias</span>=<span style=\"color: #00ff00; text-decoration-color: #00ff00; font-style: italic\">True</span><span style=\"font-weight: bold\">)</span>\n",
       "<span style=\"font-weight: bold\">)</span>\n",
       "</pre>\n"
      ],
      "text/plain": [
       "\u001b[1;35mSequential\u001b[0m\u001b[1m(\u001b[0m\n",
       "  \u001b[1m(\u001b[0m\u001b[1;36m0\u001b[0m\u001b[1m)\u001b[0m: \u001b[1;35mLinear\u001b[0m\u001b[1m(\u001b[0m\u001b[33min_features\u001b[0m=\u001b[1;36m100\u001b[0m, \u001b[33mout_features\u001b[0m=\u001b[1;36m167\u001b[0m, \u001b[33mbias\u001b[0m=\u001b[3;92mTrue\u001b[0m\u001b[1m)\u001b[0m\n",
       "  \u001b[1m(\u001b[0m\u001b[1;36m1\u001b[0m\u001b[1m)\u001b[0m: \u001b[1;35mSiLU\u001b[0m\u001b[1m(\u001b[0m\u001b[33minplace\u001b[0m=\u001b[3;92mTrue\u001b[0m\u001b[1m)\u001b[0m\n",
       "  \u001b[1m(\u001b[0m\u001b[1;36m2\u001b[0m\u001b[1m)\u001b[0m: \u001b[1;35mLinear\u001b[0m\u001b[1m(\u001b[0m\u001b[33min_features\u001b[0m=\u001b[1;36m167\u001b[0m, \u001b[33mout_features\u001b[0m=\u001b[1;36m279\u001b[0m, \u001b[33mbias\u001b[0m=\u001b[3;92mTrue\u001b[0m\u001b[1m)\u001b[0m\n",
       "  \u001b[1m(\u001b[0m\u001b[1;36m3\u001b[0m\u001b[1m)\u001b[0m: \u001b[1;35mSiLU\u001b[0m\u001b[1m(\u001b[0m\u001b[33minplace\u001b[0m=\u001b[3;92mTrue\u001b[0m\u001b[1m)\u001b[0m\n",
       "  \u001b[1m(\u001b[0m\u001b[1;36m4\u001b[0m\u001b[1m)\u001b[0m: \u001b[1;35mLinear\u001b[0m\u001b[1m(\u001b[0m\u001b[33min_features\u001b[0m=\u001b[1;36m279\u001b[0m, \u001b[33mout_features\u001b[0m=\u001b[1;36m466\u001b[0m, \u001b[33mbias\u001b[0m=\u001b[3;92mTrue\u001b[0m\u001b[1m)\u001b[0m\n",
       "  \u001b[1m(\u001b[0m\u001b[1;36m5\u001b[0m\u001b[1m)\u001b[0m: \u001b[1;35mSiLU\u001b[0m\u001b[1m(\u001b[0m\u001b[33minplace\u001b[0m=\u001b[3;92mTrue\u001b[0m\u001b[1m)\u001b[0m\n",
       "  \u001b[1m(\u001b[0m\u001b[1;36m6\u001b[0m\u001b[1m)\u001b[0m: \u001b[1;35mLinear\u001b[0m\u001b[1m(\u001b[0m\u001b[33min_features\u001b[0m=\u001b[1;36m466\u001b[0m, \u001b[33mout_features\u001b[0m=\u001b[1;36m784\u001b[0m, \u001b[33mbias\u001b[0m=\u001b[3;92mTrue\u001b[0m\u001b[1m)\u001b[0m\n",
       "\u001b[1m)\u001b[0m\n"
      ]
     },
     "metadata": {},
     "output_type": "display_data"
    },
    {
     "data": {
      "text/html": [
       "<pre style=\"white-space:pre;overflow-x:auto;line-height:normal;font-family:Menlo,'DejaVu Sans Mono',consolas,'Courier New',monospace\"><span style=\"color: #800080; text-decoration-color: #800080; font-weight: bold\">Sequential</span><span style=\"font-weight: bold\">(</span>\n",
       "  <span style=\"font-weight: bold\">(</span><span style=\"color: #008080; text-decoration-color: #008080; font-weight: bold\">0</span><span style=\"font-weight: bold\">)</span>: <span style=\"color: #800080; text-decoration-color: #800080; font-weight: bold\">Linear</span><span style=\"font-weight: bold\">(</span><span style=\"color: #808000; text-decoration-color: #808000\">in_features</span>=<span style=\"color: #008080; text-decoration-color: #008080; font-weight: bold\">100</span>, <span style=\"color: #808000; text-decoration-color: #808000\">out_features</span>=<span style=\"color: #008080; text-decoration-color: #008080; font-weight: bold\">150</span>, <span style=\"color: #808000; text-decoration-color: #808000\">bias</span>=<span style=\"color: #00ff00; text-decoration-color: #00ff00; font-style: italic\">True</span><span style=\"font-weight: bold\">)</span>\n",
       "  <span style=\"font-weight: bold\">(</span><span style=\"color: #008080; text-decoration-color: #008080; font-weight: bold\">1</span><span style=\"font-weight: bold\">)</span>: <span style=\"color: #800080; text-decoration-color: #800080; font-weight: bold\">SiLU</span><span style=\"font-weight: bold\">(</span><span style=\"color: #808000; text-decoration-color: #808000\">inplace</span>=<span style=\"color: #00ff00; text-decoration-color: #00ff00; font-style: italic\">True</span><span style=\"font-weight: bold\">)</span>\n",
       "  <span style=\"font-weight: bold\">(</span><span style=\"color: #008080; text-decoration-color: #008080; font-weight: bold\">2</span><span style=\"font-weight: bold\">)</span>: <span style=\"color: #800080; text-decoration-color: #800080; font-weight: bold\">Linear</span><span style=\"font-weight: bold\">(</span><span style=\"color: #808000; text-decoration-color: #808000\">in_features</span>=<span style=\"color: #008080; text-decoration-color: #008080; font-weight: bold\">150</span>, <span style=\"color: #808000; text-decoration-color: #808000\">out_features</span>=<span style=\"color: #008080; text-decoration-color: #008080; font-weight: bold\">226</span>, <span style=\"color: #808000; text-decoration-color: #808000\">bias</span>=<span style=\"color: #00ff00; text-decoration-color: #00ff00; font-style: italic\">True</span><span style=\"font-weight: bold\">)</span>\n",
       "  <span style=\"font-weight: bold\">(</span><span style=\"color: #008080; text-decoration-color: #008080; font-weight: bold\">3</span><span style=\"font-weight: bold\">)</span>: <span style=\"color: #800080; text-decoration-color: #800080; font-weight: bold\">SiLU</span><span style=\"font-weight: bold\">(</span><span style=\"color: #808000; text-decoration-color: #808000\">inplace</span>=<span style=\"color: #00ff00; text-decoration-color: #00ff00; font-style: italic\">True</span><span style=\"font-weight: bold\">)</span>\n",
       "  <span style=\"font-weight: bold\">(</span><span style=\"color: #008080; text-decoration-color: #008080; font-weight: bold\">4</span><span style=\"font-weight: bold\">)</span>: <span style=\"color: #800080; text-decoration-color: #800080; font-weight: bold\">Linear</span><span style=\"font-weight: bold\">(</span><span style=\"color: #808000; text-decoration-color: #808000\">in_features</span>=<span style=\"color: #008080; text-decoration-color: #008080; font-weight: bold\">226</span>, <span style=\"color: #808000; text-decoration-color: #808000\">out_features</span>=<span style=\"color: #008080; text-decoration-color: #008080; font-weight: bold\">341</span>, <span style=\"color: #808000; text-decoration-color: #808000\">bias</span>=<span style=\"color: #00ff00; text-decoration-color: #00ff00; font-style: italic\">True</span><span style=\"font-weight: bold\">)</span>\n",
       "  <span style=\"font-weight: bold\">(</span><span style=\"color: #008080; text-decoration-color: #008080; font-weight: bold\">5</span><span style=\"font-weight: bold\">)</span>: <span style=\"color: #800080; text-decoration-color: #800080; font-weight: bold\">SiLU</span><span style=\"font-weight: bold\">(</span><span style=\"color: #808000; text-decoration-color: #808000\">inplace</span>=<span style=\"color: #00ff00; text-decoration-color: #00ff00; font-style: italic\">True</span><span style=\"font-weight: bold\">)</span>\n",
       "  <span style=\"font-weight: bold\">(</span><span style=\"color: #008080; text-decoration-color: #008080; font-weight: bold\">6</span><span style=\"font-weight: bold\">)</span>: <span style=\"color: #800080; text-decoration-color: #800080; font-weight: bold\">Linear</span><span style=\"font-weight: bold\">(</span><span style=\"color: #808000; text-decoration-color: #808000\">in_features</span>=<span style=\"color: #008080; text-decoration-color: #008080; font-weight: bold\">341</span>, <span style=\"color: #808000; text-decoration-color: #808000\">out_features</span>=<span style=\"color: #008080; text-decoration-color: #008080; font-weight: bold\">514</span>, <span style=\"color: #808000; text-decoration-color: #808000\">bias</span>=<span style=\"color: #00ff00; text-decoration-color: #00ff00; font-style: italic\">True</span><span style=\"font-weight: bold\">)</span>\n",
       "  <span style=\"font-weight: bold\">(</span><span style=\"color: #008080; text-decoration-color: #008080; font-weight: bold\">7</span><span style=\"font-weight: bold\">)</span>: <span style=\"color: #800080; text-decoration-color: #800080; font-weight: bold\">SiLU</span><span style=\"font-weight: bold\">(</span><span style=\"color: #808000; text-decoration-color: #808000\">inplace</span>=<span style=\"color: #00ff00; text-decoration-color: #00ff00; font-style: italic\">True</span><span style=\"font-weight: bold\">)</span>\n",
       "  <span style=\"font-weight: bold\">(</span><span style=\"color: #008080; text-decoration-color: #008080; font-weight: bold\">8</span><span style=\"font-weight: bold\">)</span>: <span style=\"color: #800080; text-decoration-color: #800080; font-weight: bold\">Linear</span><span style=\"font-weight: bold\">(</span><span style=\"color: #808000; text-decoration-color: #808000\">in_features</span>=<span style=\"color: #008080; text-decoration-color: #008080; font-weight: bold\">514</span>, <span style=\"color: #808000; text-decoration-color: #808000\">out_features</span>=<span style=\"color: #008080; text-decoration-color: #008080; font-weight: bold\">784</span>, <span style=\"color: #808000; text-decoration-color: #808000\">bias</span>=<span style=\"color: #00ff00; text-decoration-color: #00ff00; font-style: italic\">True</span><span style=\"font-weight: bold\">)</span>\n",
       "<span style=\"font-weight: bold\">)</span>\n",
       "</pre>\n"
      ],
      "text/plain": [
       "\u001b[1;35mSequential\u001b[0m\u001b[1m(\u001b[0m\n",
       "  \u001b[1m(\u001b[0m\u001b[1;36m0\u001b[0m\u001b[1m)\u001b[0m: \u001b[1;35mLinear\u001b[0m\u001b[1m(\u001b[0m\u001b[33min_features\u001b[0m=\u001b[1;36m100\u001b[0m, \u001b[33mout_features\u001b[0m=\u001b[1;36m150\u001b[0m, \u001b[33mbias\u001b[0m=\u001b[3;92mTrue\u001b[0m\u001b[1m)\u001b[0m\n",
       "  \u001b[1m(\u001b[0m\u001b[1;36m1\u001b[0m\u001b[1m)\u001b[0m: \u001b[1;35mSiLU\u001b[0m\u001b[1m(\u001b[0m\u001b[33minplace\u001b[0m=\u001b[3;92mTrue\u001b[0m\u001b[1m)\u001b[0m\n",
       "  \u001b[1m(\u001b[0m\u001b[1;36m2\u001b[0m\u001b[1m)\u001b[0m: \u001b[1;35mLinear\u001b[0m\u001b[1m(\u001b[0m\u001b[33min_features\u001b[0m=\u001b[1;36m150\u001b[0m, \u001b[33mout_features\u001b[0m=\u001b[1;36m226\u001b[0m, \u001b[33mbias\u001b[0m=\u001b[3;92mTrue\u001b[0m\u001b[1m)\u001b[0m\n",
       "  \u001b[1m(\u001b[0m\u001b[1;36m3\u001b[0m\u001b[1m)\u001b[0m: \u001b[1;35mSiLU\u001b[0m\u001b[1m(\u001b[0m\u001b[33minplace\u001b[0m=\u001b[3;92mTrue\u001b[0m\u001b[1m)\u001b[0m\n",
       "  \u001b[1m(\u001b[0m\u001b[1;36m4\u001b[0m\u001b[1m)\u001b[0m: \u001b[1;35mLinear\u001b[0m\u001b[1m(\u001b[0m\u001b[33min_features\u001b[0m=\u001b[1;36m226\u001b[0m, \u001b[33mout_features\u001b[0m=\u001b[1;36m341\u001b[0m, \u001b[33mbias\u001b[0m=\u001b[3;92mTrue\u001b[0m\u001b[1m)\u001b[0m\n",
       "  \u001b[1m(\u001b[0m\u001b[1;36m5\u001b[0m\u001b[1m)\u001b[0m: \u001b[1;35mSiLU\u001b[0m\u001b[1m(\u001b[0m\u001b[33minplace\u001b[0m=\u001b[3;92mTrue\u001b[0m\u001b[1m)\u001b[0m\n",
       "  \u001b[1m(\u001b[0m\u001b[1;36m6\u001b[0m\u001b[1m)\u001b[0m: \u001b[1;35mLinear\u001b[0m\u001b[1m(\u001b[0m\u001b[33min_features\u001b[0m=\u001b[1;36m341\u001b[0m, \u001b[33mout_features\u001b[0m=\u001b[1;36m514\u001b[0m, \u001b[33mbias\u001b[0m=\u001b[3;92mTrue\u001b[0m\u001b[1m)\u001b[0m\n",
       "  \u001b[1m(\u001b[0m\u001b[1;36m7\u001b[0m\u001b[1m)\u001b[0m: \u001b[1;35mSiLU\u001b[0m\u001b[1m(\u001b[0m\u001b[33minplace\u001b[0m=\u001b[3;92mTrue\u001b[0m\u001b[1m)\u001b[0m\n",
       "  \u001b[1m(\u001b[0m\u001b[1;36m8\u001b[0m\u001b[1m)\u001b[0m: \u001b[1;35mLinear\u001b[0m\u001b[1m(\u001b[0m\u001b[33min_features\u001b[0m=\u001b[1;36m514\u001b[0m, \u001b[33mout_features\u001b[0m=\u001b[1;36m784\u001b[0m, \u001b[33mbias\u001b[0m=\u001b[3;92mTrue\u001b[0m\u001b[1m)\u001b[0m\n",
       "\u001b[1m)\u001b[0m\n"
      ]
     },
     "metadata": {},
     "output_type": "display_data"
    }
   ],
   "source": [
    "for i in range(5):\n",
    "    print(_build_mlp_dec(100, 784, 'swish', i))"
   ]
  },
  {
   "cell_type": "code",
   "execution_count": null,
   "id": "6c170e45-ffd8-4992-9f69-c6eb9bf1080d",
   "metadata": {},
   "outputs": [],
   "source": []
  },
  {
   "cell_type": "code",
   "execution_count": null,
   "id": "b362986d-928f-4f4c-a538-723fffcdad35",
   "metadata": {},
   "outputs": [],
   "source": []
  },
  {
   "cell_type": "code",
   "execution_count": null,
   "id": "c3620a19-4d6d-4753-81ae-22f2c84df4fe",
   "metadata": {},
   "outputs": [],
   "source": []
  }
 ],
 "metadata": {
  "kernelspec": {
   "display_name": "Python 3 (ipykernel)",
   "language": "python",
   "name": "python3"
  },
  "language_info": {
   "codemirror_mode": {
    "name": "ipython",
    "version": 3
   },
   "file_extension": ".py",
   "mimetype": "text/x-python",
   "name": "python",
   "nbconvert_exporter": "python",
   "pygments_lexer": "ipython3",
   "version": "3.11.7"
  }
 },
 "nbformat": 4,
 "nbformat_minor": 5
}
