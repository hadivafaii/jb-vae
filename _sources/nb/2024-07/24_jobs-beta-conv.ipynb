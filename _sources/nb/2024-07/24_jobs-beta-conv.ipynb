{
 "cells": [
  {
   "cell_type": "markdown",
   "id": "48f55a35-d5b5-468f-b574-730df61e9609",
   "metadata": {},
   "source": [
    "# (24) jobs: beta+conv\n",
    "\n",
    "**Motivation**: Fit conv models, while changing $\\beta$ using the ```vH16``` dataset. Host: ```mach```. <br>"
   ]
  },
  {
   "cell_type": "code",
   "execution_count": 1,
   "id": "f823b1e9-05f2-49a0-8296-4a1819c12e81",
   "metadata": {
    "tags": [
     "hide-input"
    ]
   },
   "outputs": [],
   "source": [
    "# HIDE CODE\n",
    "\n",
    "\n",
    "import os, sys\n",
    "from IPython.display import display\n",
    "\n",
    "# tmp & extras dir\n",
    "git_dir = os.path.join(os.environ['HOME'], 'Dropbox/git')\n",
    "extras_dir = os.path.join(git_dir, 'jb-vae/_extras')\n",
    "fig_base_dir = os.path.join(git_dir, 'jb-vae/figs')\n",
    "tmp_dir = os.path.join(git_dir, 'jb-vae/tmp')\n",
    "\n",
    "# GitHub\n",
    "sys.path.insert(0, os.path.join(git_dir, '_PoissonVAE'))\n",
    "from figures.fighelper import *\n",
    "\n",
    "# warnings, tqdm, & style\n",
    "warnings.filterwarnings('ignore', category=DeprecationWarning)\n",
    "warnings.filterwarnings('ignore', category=FutureWarning)\n",
    "warnings.filterwarnings('ignore', category=UserWarning)\n",
    "from rich.jupyter import print\n",
    "%matplotlib inline\n",
    "set_style()"
   ]
  },
  {
   "cell_type": "markdown",
   "id": "c7256efb-c916-4111-9d10-8d923cdc0233",
   "metadata": {},
   "source": [
    "## Setup"
   ]
  },
  {
   "cell_type": "code",
   "execution_count": 2,
   "id": "c98a020f-ded3-4634-9068-722cac61089b",
   "metadata": {},
   "outputs": [],
   "source": [
    "from analysis.helper import job_runner_script\n",
    "\n",
    "\n",
    "def _cleanup(path, host=None):\n",
    "    for f in os.listdir(path):\n",
    "        cond = f.endswith('.txt')\n",
    "        if host is not None:\n",
    "            cond = cond and host in f\n",
    "        if cond:\n",
    "            os.remove(pjoin(path, f))\n",
    "\n",
    "\n",
    "def _name(host, gpu_i, fit_i):\n",
    "    return f\"{host}-cuda{gpu_i}-fit{fit_i}\""
   ]
  },
  {
   "cell_type": "code",
   "execution_count": 3,
   "id": "50e3bee9-0d4d-4006-a11d-751a74071467",
   "metadata": {},
   "outputs": [
    {
     "data": {
      "text/html": [
       "<pre style=\"white-space:pre;overflow-x:auto;line-height:normal;font-family:Menlo,'DejaVu Sans Mono',consolas,'Courier New',monospace\"><span style=\"font-weight: bold\">[</span><span style=\"color: #008000; text-decoration-color: #008000\">'fit_vae.sh'</span>, <span style=\"color: #008000; text-decoration-color: #008000\">'kill_screens.sh'</span>, <span style=\"color: #008000; text-decoration-color: #008000\">'resume_fit.sh'</span>, <span style=\"color: #008000; text-decoration-color: #008000\">'run_sessions.sh'</span>, <span style=\"color: #008000; text-decoration-color: #008000\">'test_tqdm.py'</span>, <span style=\"color: #008000; text-decoration-color: #008000\">'test_tqdm.sh'</span><span style=\"font-weight: bold\">]</span>\n",
       "</pre>\n"
      ],
      "text/plain": [
       "\u001b[1m[\u001b[0m\u001b[32m'fit_vae.sh'\u001b[0m, \u001b[32m'kill_screens.sh'\u001b[0m, \u001b[32m'resume_fit.sh'\u001b[0m, \u001b[32m'run_sessions.sh'\u001b[0m, \u001b[32m'test_tqdm.py'\u001b[0m, \u001b[32m'test_tqdm.sh'\u001b[0m\u001b[1m]\u001b[0m\n"
      ]
     },
     "metadata": {},
     "output_type": "display_data"
    }
   ],
   "source": [
    "save_dir = 'Dropbox/git/_PoissonVAE/scripts'\n",
    "save_dir = pjoin(os.environ['HOME'], save_dir)\n",
    "os.makedirs(save_dir, exist_ok=True)\n",
    "\n",
    "# delete existing job runners?\n",
    "_cleanup(save_dir, None)\n",
    "\n",
    "print(sorted(os.listdir(save_dir)))"
   ]
  },
  {
   "cell_type": "markdown",
   "id": "8d0536be-7e31-4bdb-97aa-d4171504f99d",
   "metadata": {},
   "source": [
    "## Host: mach"
   ]
  },
  {
   "cell_type": "code",
   "execution_count": 4,
   "id": "d19bc5e6-c8a9-44be-8659-5b9049138a0b",
   "metadata": {},
   "outputs": [],
   "source": [
    "host = 'mach'\n",
    "_cleanup(save_dir, host)\n",
    "\n",
    "scripts_mach = collections.defaultdict(list)\n",
    "tot = 0"
   ]
  },
  {
   "cell_type": "markdown",
   "id": "e6e48077-e85b-4418-8847-639f5b218dba",
   "metadata": {},
   "source": [
    "### Create Fits"
   ]
  },
  {
   "cell_type": "code",
   "execution_count": 5,
   "id": "bb15205b-c050-4da7-912d-e4945ec34340",
   "metadata": {},
   "outputs": [],
   "source": [
    "n_seeds = 5\n",
    "seeds = range(1, n_seeds + 1)\n",
    "\n",
    "betas = [0.01, 0.2, 0.4, 0.6, 0.8, 1.0, 1.5, 4.0]\n",
    "archi = ['lin|lin', 'conv+b|lin']\n",
    "t_stop = [0.05, 0.1]"
   ]
  },
  {
   "cell_type": "code",
   "execution_count": 6,
   "id": "e601367a-857d-4d1f-b2f2-f08f9c74320b",
   "metadata": {},
   "outputs": [],
   "source": [
    "combos_outer = itertools.product(\n",
    "    archi, t_stop)\n",
    "\n",
    "for gpu_i, (a, temp) in enumerate(combos_outer):\n",
    "    combos_inner = itertools.product(\n",
    "        seeds, betas)\n",
    "    for s, beta in combos_inner:\n",
    "        # make arg\n",
    "        cm = f\"soft+t{temp:0.3g}+b{beta:0.2g}\"\n",
    "        arg = ' '.join([\n",
    "            f\"--kl_beta {beta}\",\n",
    "            f\"--temp_stop {temp}\",\n",
    "            f\"--comment {cm}\",\n",
    "        ])\n",
    "        kws = dict(\n",
    "            dataset='vH16',\n",
    "            model='poisson',\n",
    "            device=gpu_i,\n",
    "            archi=a,\n",
    "            seed=s,\n",
    "            args=arg,\n",
    "        )\n",
    "        scripts_mach[gpu_i].append(job_runner_script(**kws))\n",
    "        tot += 1"
   ]
  },
  {
   "cell_type": "code",
   "execution_count": 7,
   "id": "3a1d82d3-8bfd-4e21-8571-35065ba01a21",
   "metadata": {},
   "outputs": [
    {
     "data": {
      "text/html": [
       "<pre style=\"white-space:pre;overflow-x:auto;line-height:normal;font-family:Menlo,'DejaVu Sans Mono',consolas,'Courier New',monospace\"><span style=\"color: #008080; text-decoration-color: #008080; font-weight: bold\">160</span>\n",
       "</pre>\n"
      ],
      "text/plain": [
       "\u001b[1;36m160\u001b[0m\n"
      ]
     },
     "metadata": {},
     "output_type": "display_data"
    }
   ],
   "source": [
    "print(tot)"
   ]
  },
  {
   "cell_type": "code",
   "execution_count": 8,
   "id": "1c5dbd15-a2fc-46f6-be0c-07bdf6ecac22",
   "metadata": {},
   "outputs": [
    {
     "data": {
      "text/html": [
       "<pre style=\"white-space:pre;overflow-x:auto;line-height:normal;font-family:Menlo,'DejaVu Sans Mono',consolas,'Courier New',monospace\"><span style=\"font-weight: bold\">{</span><span style=\"color: #008080; text-decoration-color: #008080; font-weight: bold\">0</span>: <span style=\"color: #008080; text-decoration-color: #008080; font-weight: bold\">40</span>, <span style=\"color: #008080; text-decoration-color: #008080; font-weight: bold\">1</span>: <span style=\"color: #008080; text-decoration-color: #008080; font-weight: bold\">40</span>, <span style=\"color: #008080; text-decoration-color: #008080; font-weight: bold\">2</span>: <span style=\"color: #008080; text-decoration-color: #008080; font-weight: bold\">40</span>, <span style=\"color: #008080; text-decoration-color: #008080; font-weight: bold\">3</span>: <span style=\"color: #008080; text-decoration-color: #008080; font-weight: bold\">40</span><span style=\"font-weight: bold\">}</span>\n",
       "</pre>\n"
      ],
      "text/plain": [
       "\u001b[1m{\u001b[0m\u001b[1;36m0\u001b[0m: \u001b[1;36m40\u001b[0m, \u001b[1;36m1\u001b[0m: \u001b[1;36m40\u001b[0m, \u001b[1;36m2\u001b[0m: \u001b[1;36m40\u001b[0m, \u001b[1;36m3\u001b[0m: \u001b[1;36m40\u001b[0m\u001b[1m}\u001b[0m\n"
      ]
     },
     "metadata": {},
     "output_type": "display_data"
    }
   ],
   "source": [
    "scripts_mach = dict(scripts_mach)\n",
    "print({k: len(v) for k, v in scripts_mach.items()})"
   ]
  },
  {
   "cell_type": "code",
   "execution_count": null,
   "id": "ee739811-ee24-4b57-b400-9dce89302800",
   "metadata": {},
   "outputs": [],
   "source": []
  },
  {
   "cell_type": "markdown",
   "id": "315e0980-f63a-4c43-86eb-3a453323227d",
   "metadata": {},
   "source": [
    "### Save"
   ]
  },
  {
   "cell_type": "code",
   "execution_count": 9,
   "id": "4918ab82-072b-4fa5-b7a7-f28447eb601b",
   "metadata": {},
   "outputs": [
    {
     "data": {
      "text/html": [
       "<pre style=\"white-space:pre;overflow-x:auto;line-height:normal;font-family:Menlo,'DejaVu Sans Mono',consolas,'Courier New',monospace\"><span style=\"font-weight: bold\">[</span>PROGRESS<span style=\"font-weight: bold\">]</span> <span style=\"color: #008000; text-decoration-color: #008000\">'mach-cuda0-fit0.txt'</span> saved at\n",
       "<span style=\"color: #800080; text-decoration-color: #800080\">/home/hadi/Dropbox/git/_PoissonVAE/</span><span style=\"color: #ff00ff; text-decoration-color: #ff00ff\">scripts</span>\n",
       "</pre>\n"
      ],
      "text/plain": [
       "\u001b[1m[\u001b[0mPROGRESS\u001b[1m]\u001b[0m \u001b[32m'mach-cuda0-fit0.txt'\u001b[0m saved at\n",
       "\u001b[35m/home/hadi/Dropbox/git/_PoissonVAE/\u001b[0m\u001b[95mscripts\u001b[0m\n"
      ]
     },
     "metadata": {},
     "output_type": "display_data"
    },
    {
     "data": {
      "text/html": [
       "<pre style=\"white-space:pre;overflow-x:auto;line-height:normal;font-family:Menlo,'DejaVu Sans Mono',consolas,'Courier New',monospace\"><span style=\"font-weight: bold\">[</span>PROGRESS<span style=\"font-weight: bold\">]</span> <span style=\"color: #008000; text-decoration-color: #008000\">'mach-cuda0-fit1.txt'</span> saved at\n",
       "<span style=\"color: #800080; text-decoration-color: #800080\">/home/hadi/Dropbox/git/_PoissonVAE/</span><span style=\"color: #ff00ff; text-decoration-color: #ff00ff\">scripts</span>\n",
       "</pre>\n"
      ],
      "text/plain": [
       "\u001b[1m[\u001b[0mPROGRESS\u001b[1m]\u001b[0m \u001b[32m'mach-cuda0-fit1.txt'\u001b[0m saved at\n",
       "\u001b[35m/home/hadi/Dropbox/git/_PoissonVAE/\u001b[0m\u001b[95mscripts\u001b[0m\n"
      ]
     },
     "metadata": {},
     "output_type": "display_data"
    },
    {
     "data": {
      "text/html": [
       "<pre style=\"white-space:pre;overflow-x:auto;line-height:normal;font-family:Menlo,'DejaVu Sans Mono',consolas,'Courier New',monospace\"><span style=\"font-weight: bold\">[</span>PROGRESS<span style=\"font-weight: bold\">]</span> <span style=\"color: #008000; text-decoration-color: #008000\">'mach-cuda0-fit2.txt'</span> saved at\n",
       "<span style=\"color: #800080; text-decoration-color: #800080\">/home/hadi/Dropbox/git/_PoissonVAE/</span><span style=\"color: #ff00ff; text-decoration-color: #ff00ff\">scripts</span>\n",
       "</pre>\n"
      ],
      "text/plain": [
       "\u001b[1m[\u001b[0mPROGRESS\u001b[1m]\u001b[0m \u001b[32m'mach-cuda0-fit2.txt'\u001b[0m saved at\n",
       "\u001b[35m/home/hadi/Dropbox/git/_PoissonVAE/\u001b[0m\u001b[95mscripts\u001b[0m\n"
      ]
     },
     "metadata": {},
     "output_type": "display_data"
    },
    {
     "data": {
      "text/html": [
       "<pre style=\"white-space:pre;overflow-x:auto;line-height:normal;font-family:Menlo,'DejaVu Sans Mono',consolas,'Courier New',monospace\"><span style=\"font-weight: bold\">[</span>PROGRESS<span style=\"font-weight: bold\">]</span> <span style=\"color: #008000; text-decoration-color: #008000\">'mach-cuda0-fit3.txt'</span> saved at\n",
       "<span style=\"color: #800080; text-decoration-color: #800080\">/home/hadi/Dropbox/git/_PoissonVAE/</span><span style=\"color: #ff00ff; text-decoration-color: #ff00ff\">scripts</span>\n",
       "</pre>\n"
      ],
      "text/plain": [
       "\u001b[1m[\u001b[0mPROGRESS\u001b[1m]\u001b[0m \u001b[32m'mach-cuda0-fit3.txt'\u001b[0m saved at\n",
       "\u001b[35m/home/hadi/Dropbox/git/_PoissonVAE/\u001b[0m\u001b[95mscripts\u001b[0m\n"
      ]
     },
     "metadata": {},
     "output_type": "display_data"
    },
    {
     "data": {
      "text/html": [
       "<pre style=\"white-space:pre;overflow-x:auto;line-height:normal;font-family:Menlo,'DejaVu Sans Mono',consolas,'Courier New',monospace\"><span style=\"font-weight: bold\">[</span>PROGRESS<span style=\"font-weight: bold\">]</span> <span style=\"color: #008000; text-decoration-color: #008000\">'mach-cuda0-fit4.txt'</span> saved at\n",
       "<span style=\"color: #800080; text-decoration-color: #800080\">/home/hadi/Dropbox/git/_PoissonVAE/</span><span style=\"color: #ff00ff; text-decoration-color: #ff00ff\">scripts</span>\n",
       "</pre>\n"
      ],
      "text/plain": [
       "\u001b[1m[\u001b[0mPROGRESS\u001b[1m]\u001b[0m \u001b[32m'mach-cuda0-fit4.txt'\u001b[0m saved at\n",
       "\u001b[35m/home/hadi/Dropbox/git/_PoissonVAE/\u001b[0m\u001b[95mscripts\u001b[0m\n"
      ]
     },
     "metadata": {},
     "output_type": "display_data"
    },
    {
     "data": {
      "text/html": [
       "<pre style=\"white-space:pre;overflow-x:auto;line-height:normal;font-family:Menlo,'DejaVu Sans Mono',consolas,'Courier New',monospace\"><span style=\"font-weight: bold\">[</span>PROGRESS<span style=\"font-weight: bold\">]</span> <span style=\"color: #008000; text-decoration-color: #008000\">'mach-cuda0-fit5.txt'</span> saved at\n",
       "<span style=\"color: #800080; text-decoration-color: #800080\">/home/hadi/Dropbox/git/_PoissonVAE/</span><span style=\"color: #ff00ff; text-decoration-color: #ff00ff\">scripts</span>\n",
       "</pre>\n"
      ],
      "text/plain": [
       "\u001b[1m[\u001b[0mPROGRESS\u001b[1m]\u001b[0m \u001b[32m'mach-cuda0-fit5.txt'\u001b[0m saved at\n",
       "\u001b[35m/home/hadi/Dropbox/git/_PoissonVAE/\u001b[0m\u001b[95mscripts\u001b[0m\n"
      ]
     },
     "metadata": {},
     "output_type": "display_data"
    },
    {
     "data": {
      "text/html": [
       "<pre style=\"white-space:pre;overflow-x:auto;line-height:normal;font-family:Menlo,'DejaVu Sans Mono',consolas,'Courier New',monospace\"><span style=\"font-weight: bold\">[</span>PROGRESS<span style=\"font-weight: bold\">]</span> <span style=\"color: #008000; text-decoration-color: #008000\">'mach-cuda0-fit6.txt'</span> saved at\n",
       "<span style=\"color: #800080; text-decoration-color: #800080\">/home/hadi/Dropbox/git/_PoissonVAE/</span><span style=\"color: #ff00ff; text-decoration-color: #ff00ff\">scripts</span>\n",
       "</pre>\n"
      ],
      "text/plain": [
       "\u001b[1m[\u001b[0mPROGRESS\u001b[1m]\u001b[0m \u001b[32m'mach-cuda0-fit6.txt'\u001b[0m saved at\n",
       "\u001b[35m/home/hadi/Dropbox/git/_PoissonVAE/\u001b[0m\u001b[95mscripts\u001b[0m\n"
      ]
     },
     "metadata": {},
     "output_type": "display_data"
    },
    {
     "data": {
      "text/html": [
       "<pre style=\"white-space:pre;overflow-x:auto;line-height:normal;font-family:Menlo,'DejaVu Sans Mono',consolas,'Courier New',monospace\"><span style=\"font-weight: bold\">[</span>PROGRESS<span style=\"font-weight: bold\">]</span> <span style=\"color: #008000; text-decoration-color: #008000\">'mach-cuda0-fit7.txt'</span> saved at\n",
       "<span style=\"color: #800080; text-decoration-color: #800080\">/home/hadi/Dropbox/git/_PoissonVAE/</span><span style=\"color: #ff00ff; text-decoration-color: #ff00ff\">scripts</span>\n",
       "</pre>\n"
      ],
      "text/plain": [
       "\u001b[1m[\u001b[0mPROGRESS\u001b[1m]\u001b[0m \u001b[32m'mach-cuda0-fit7.txt'\u001b[0m saved at\n",
       "\u001b[35m/home/hadi/Dropbox/git/_PoissonVAE/\u001b[0m\u001b[95mscripts\u001b[0m\n"
      ]
     },
     "metadata": {},
     "output_type": "display_data"
    },
    {
     "data": {
      "text/html": [
       "<pre style=\"white-space:pre;overflow-x:auto;line-height:normal;font-family:Menlo,'DejaVu Sans Mono',consolas,'Courier New',monospace\"><span style=\"font-weight: bold\">[</span>PROGRESS<span style=\"font-weight: bold\">]</span> <span style=\"color: #008000; text-decoration-color: #008000\">'mach-cuda1-fit0.txt'</span> saved at\n",
       "<span style=\"color: #800080; text-decoration-color: #800080\">/home/hadi/Dropbox/git/_PoissonVAE/</span><span style=\"color: #ff00ff; text-decoration-color: #ff00ff\">scripts</span>\n",
       "</pre>\n"
      ],
      "text/plain": [
       "\u001b[1m[\u001b[0mPROGRESS\u001b[1m]\u001b[0m \u001b[32m'mach-cuda1-fit0.txt'\u001b[0m saved at\n",
       "\u001b[35m/home/hadi/Dropbox/git/_PoissonVAE/\u001b[0m\u001b[95mscripts\u001b[0m\n"
      ]
     },
     "metadata": {},
     "output_type": "display_data"
    },
    {
     "data": {
      "text/html": [
       "<pre style=\"white-space:pre;overflow-x:auto;line-height:normal;font-family:Menlo,'DejaVu Sans Mono',consolas,'Courier New',monospace\"><span style=\"font-weight: bold\">[</span>PROGRESS<span style=\"font-weight: bold\">]</span> <span style=\"color: #008000; text-decoration-color: #008000\">'mach-cuda1-fit1.txt'</span> saved at\n",
       "<span style=\"color: #800080; text-decoration-color: #800080\">/home/hadi/Dropbox/git/_PoissonVAE/</span><span style=\"color: #ff00ff; text-decoration-color: #ff00ff\">scripts</span>\n",
       "</pre>\n"
      ],
      "text/plain": [
       "\u001b[1m[\u001b[0mPROGRESS\u001b[1m]\u001b[0m \u001b[32m'mach-cuda1-fit1.txt'\u001b[0m saved at\n",
       "\u001b[35m/home/hadi/Dropbox/git/_PoissonVAE/\u001b[0m\u001b[95mscripts\u001b[0m\n"
      ]
     },
     "metadata": {},
     "output_type": "display_data"
    },
    {
     "data": {
      "text/html": [
       "<pre style=\"white-space:pre;overflow-x:auto;line-height:normal;font-family:Menlo,'DejaVu Sans Mono',consolas,'Courier New',monospace\"><span style=\"font-weight: bold\">[</span>PROGRESS<span style=\"font-weight: bold\">]</span> <span style=\"color: #008000; text-decoration-color: #008000\">'mach-cuda1-fit2.txt'</span> saved at\n",
       "<span style=\"color: #800080; text-decoration-color: #800080\">/home/hadi/Dropbox/git/_PoissonVAE/</span><span style=\"color: #ff00ff; text-decoration-color: #ff00ff\">scripts</span>\n",
       "</pre>\n"
      ],
      "text/plain": [
       "\u001b[1m[\u001b[0mPROGRESS\u001b[1m]\u001b[0m \u001b[32m'mach-cuda1-fit2.txt'\u001b[0m saved at\n",
       "\u001b[35m/home/hadi/Dropbox/git/_PoissonVAE/\u001b[0m\u001b[95mscripts\u001b[0m\n"
      ]
     },
     "metadata": {},
     "output_type": "display_data"
    },
    {
     "data": {
      "text/html": [
       "<pre style=\"white-space:pre;overflow-x:auto;line-height:normal;font-family:Menlo,'DejaVu Sans Mono',consolas,'Courier New',monospace\"><span style=\"font-weight: bold\">[</span>PROGRESS<span style=\"font-weight: bold\">]</span> <span style=\"color: #008000; text-decoration-color: #008000\">'mach-cuda1-fit3.txt'</span> saved at\n",
       "<span style=\"color: #800080; text-decoration-color: #800080\">/home/hadi/Dropbox/git/_PoissonVAE/</span><span style=\"color: #ff00ff; text-decoration-color: #ff00ff\">scripts</span>\n",
       "</pre>\n"
      ],
      "text/plain": [
       "\u001b[1m[\u001b[0mPROGRESS\u001b[1m]\u001b[0m \u001b[32m'mach-cuda1-fit3.txt'\u001b[0m saved at\n",
       "\u001b[35m/home/hadi/Dropbox/git/_PoissonVAE/\u001b[0m\u001b[95mscripts\u001b[0m\n"
      ]
     },
     "metadata": {},
     "output_type": "display_data"
    },
    {
     "data": {
      "text/html": [
       "<pre style=\"white-space:pre;overflow-x:auto;line-height:normal;font-family:Menlo,'DejaVu Sans Mono',consolas,'Courier New',monospace\"><span style=\"font-weight: bold\">[</span>PROGRESS<span style=\"font-weight: bold\">]</span> <span style=\"color: #008000; text-decoration-color: #008000\">'mach-cuda1-fit4.txt'</span> saved at\n",
       "<span style=\"color: #800080; text-decoration-color: #800080\">/home/hadi/Dropbox/git/_PoissonVAE/</span><span style=\"color: #ff00ff; text-decoration-color: #ff00ff\">scripts</span>\n",
       "</pre>\n"
      ],
      "text/plain": [
       "\u001b[1m[\u001b[0mPROGRESS\u001b[1m]\u001b[0m \u001b[32m'mach-cuda1-fit4.txt'\u001b[0m saved at\n",
       "\u001b[35m/home/hadi/Dropbox/git/_PoissonVAE/\u001b[0m\u001b[95mscripts\u001b[0m\n"
      ]
     },
     "metadata": {},
     "output_type": "display_data"
    },
    {
     "data": {
      "text/html": [
       "<pre style=\"white-space:pre;overflow-x:auto;line-height:normal;font-family:Menlo,'DejaVu Sans Mono',consolas,'Courier New',monospace\"><span style=\"font-weight: bold\">[</span>PROGRESS<span style=\"font-weight: bold\">]</span> <span style=\"color: #008000; text-decoration-color: #008000\">'mach-cuda1-fit5.txt'</span> saved at\n",
       "<span style=\"color: #800080; text-decoration-color: #800080\">/home/hadi/Dropbox/git/_PoissonVAE/</span><span style=\"color: #ff00ff; text-decoration-color: #ff00ff\">scripts</span>\n",
       "</pre>\n"
      ],
      "text/plain": [
       "\u001b[1m[\u001b[0mPROGRESS\u001b[1m]\u001b[0m \u001b[32m'mach-cuda1-fit5.txt'\u001b[0m saved at\n",
       "\u001b[35m/home/hadi/Dropbox/git/_PoissonVAE/\u001b[0m\u001b[95mscripts\u001b[0m\n"
      ]
     },
     "metadata": {},
     "output_type": "display_data"
    },
    {
     "data": {
      "text/html": [
       "<pre style=\"white-space:pre;overflow-x:auto;line-height:normal;font-family:Menlo,'DejaVu Sans Mono',consolas,'Courier New',monospace\"><span style=\"font-weight: bold\">[</span>PROGRESS<span style=\"font-weight: bold\">]</span> <span style=\"color: #008000; text-decoration-color: #008000\">'mach-cuda1-fit6.txt'</span> saved at\n",
       "<span style=\"color: #800080; text-decoration-color: #800080\">/home/hadi/Dropbox/git/_PoissonVAE/</span><span style=\"color: #ff00ff; text-decoration-color: #ff00ff\">scripts</span>\n",
       "</pre>\n"
      ],
      "text/plain": [
       "\u001b[1m[\u001b[0mPROGRESS\u001b[1m]\u001b[0m \u001b[32m'mach-cuda1-fit6.txt'\u001b[0m saved at\n",
       "\u001b[35m/home/hadi/Dropbox/git/_PoissonVAE/\u001b[0m\u001b[95mscripts\u001b[0m\n"
      ]
     },
     "metadata": {},
     "output_type": "display_data"
    },
    {
     "data": {
      "text/html": [
       "<pre style=\"white-space:pre;overflow-x:auto;line-height:normal;font-family:Menlo,'DejaVu Sans Mono',consolas,'Courier New',monospace\"><span style=\"font-weight: bold\">[</span>PROGRESS<span style=\"font-weight: bold\">]</span> <span style=\"color: #008000; text-decoration-color: #008000\">'mach-cuda1-fit7.txt'</span> saved at\n",
       "<span style=\"color: #800080; text-decoration-color: #800080\">/home/hadi/Dropbox/git/_PoissonVAE/</span><span style=\"color: #ff00ff; text-decoration-color: #ff00ff\">scripts</span>\n",
       "</pre>\n"
      ],
      "text/plain": [
       "\u001b[1m[\u001b[0mPROGRESS\u001b[1m]\u001b[0m \u001b[32m'mach-cuda1-fit7.txt'\u001b[0m saved at\n",
       "\u001b[35m/home/hadi/Dropbox/git/_PoissonVAE/\u001b[0m\u001b[95mscripts\u001b[0m\n"
      ]
     },
     "metadata": {},
     "output_type": "display_data"
    },
    {
     "data": {
      "text/html": [
       "<pre style=\"white-space:pre;overflow-x:auto;line-height:normal;font-family:Menlo,'DejaVu Sans Mono',consolas,'Courier New',monospace\"><span style=\"font-weight: bold\">[</span>PROGRESS<span style=\"font-weight: bold\">]</span> <span style=\"color: #008000; text-decoration-color: #008000\">'mach-cuda2-fit0.txt'</span> saved at\n",
       "<span style=\"color: #800080; text-decoration-color: #800080\">/home/hadi/Dropbox/git/_PoissonVAE/</span><span style=\"color: #ff00ff; text-decoration-color: #ff00ff\">scripts</span>\n",
       "</pre>\n"
      ],
      "text/plain": [
       "\u001b[1m[\u001b[0mPROGRESS\u001b[1m]\u001b[0m \u001b[32m'mach-cuda2-fit0.txt'\u001b[0m saved at\n",
       "\u001b[35m/home/hadi/Dropbox/git/_PoissonVAE/\u001b[0m\u001b[95mscripts\u001b[0m\n"
      ]
     },
     "metadata": {},
     "output_type": "display_data"
    },
    {
     "data": {
      "text/html": [
       "<pre style=\"white-space:pre;overflow-x:auto;line-height:normal;font-family:Menlo,'DejaVu Sans Mono',consolas,'Courier New',monospace\"><span style=\"font-weight: bold\">[</span>PROGRESS<span style=\"font-weight: bold\">]</span> <span style=\"color: #008000; text-decoration-color: #008000\">'mach-cuda2-fit1.txt'</span> saved at\n",
       "<span style=\"color: #800080; text-decoration-color: #800080\">/home/hadi/Dropbox/git/_PoissonVAE/</span><span style=\"color: #ff00ff; text-decoration-color: #ff00ff\">scripts</span>\n",
       "</pre>\n"
      ],
      "text/plain": [
       "\u001b[1m[\u001b[0mPROGRESS\u001b[1m]\u001b[0m \u001b[32m'mach-cuda2-fit1.txt'\u001b[0m saved at\n",
       "\u001b[35m/home/hadi/Dropbox/git/_PoissonVAE/\u001b[0m\u001b[95mscripts\u001b[0m\n"
      ]
     },
     "metadata": {},
     "output_type": "display_data"
    },
    {
     "data": {
      "text/html": [
       "<pre style=\"white-space:pre;overflow-x:auto;line-height:normal;font-family:Menlo,'DejaVu Sans Mono',consolas,'Courier New',monospace\"><span style=\"font-weight: bold\">[</span>PROGRESS<span style=\"font-weight: bold\">]</span> <span style=\"color: #008000; text-decoration-color: #008000\">'mach-cuda2-fit2.txt'</span> saved at\n",
       "<span style=\"color: #800080; text-decoration-color: #800080\">/home/hadi/Dropbox/git/_PoissonVAE/</span><span style=\"color: #ff00ff; text-decoration-color: #ff00ff\">scripts</span>\n",
       "</pre>\n"
      ],
      "text/plain": [
       "\u001b[1m[\u001b[0mPROGRESS\u001b[1m]\u001b[0m \u001b[32m'mach-cuda2-fit2.txt'\u001b[0m saved at\n",
       "\u001b[35m/home/hadi/Dropbox/git/_PoissonVAE/\u001b[0m\u001b[95mscripts\u001b[0m\n"
      ]
     },
     "metadata": {},
     "output_type": "display_data"
    },
    {
     "data": {
      "text/html": [
       "<pre style=\"white-space:pre;overflow-x:auto;line-height:normal;font-family:Menlo,'DejaVu Sans Mono',consolas,'Courier New',monospace\"><span style=\"font-weight: bold\">[</span>PROGRESS<span style=\"font-weight: bold\">]</span> <span style=\"color: #008000; text-decoration-color: #008000\">'mach-cuda2-fit3.txt'</span> saved at\n",
       "<span style=\"color: #800080; text-decoration-color: #800080\">/home/hadi/Dropbox/git/_PoissonVAE/</span><span style=\"color: #ff00ff; text-decoration-color: #ff00ff\">scripts</span>\n",
       "</pre>\n"
      ],
      "text/plain": [
       "\u001b[1m[\u001b[0mPROGRESS\u001b[1m]\u001b[0m \u001b[32m'mach-cuda2-fit3.txt'\u001b[0m saved at\n",
       "\u001b[35m/home/hadi/Dropbox/git/_PoissonVAE/\u001b[0m\u001b[95mscripts\u001b[0m\n"
      ]
     },
     "metadata": {},
     "output_type": "display_data"
    },
    {
     "data": {
      "text/html": [
       "<pre style=\"white-space:pre;overflow-x:auto;line-height:normal;font-family:Menlo,'DejaVu Sans Mono',consolas,'Courier New',monospace\"><span style=\"font-weight: bold\">[</span>PROGRESS<span style=\"font-weight: bold\">]</span> <span style=\"color: #008000; text-decoration-color: #008000\">'mach-cuda2-fit4.txt'</span> saved at\n",
       "<span style=\"color: #800080; text-decoration-color: #800080\">/home/hadi/Dropbox/git/_PoissonVAE/</span><span style=\"color: #ff00ff; text-decoration-color: #ff00ff\">scripts</span>\n",
       "</pre>\n"
      ],
      "text/plain": [
       "\u001b[1m[\u001b[0mPROGRESS\u001b[1m]\u001b[0m \u001b[32m'mach-cuda2-fit4.txt'\u001b[0m saved at\n",
       "\u001b[35m/home/hadi/Dropbox/git/_PoissonVAE/\u001b[0m\u001b[95mscripts\u001b[0m\n"
      ]
     },
     "metadata": {},
     "output_type": "display_data"
    },
    {
     "data": {
      "text/html": [
       "<pre style=\"white-space:pre;overflow-x:auto;line-height:normal;font-family:Menlo,'DejaVu Sans Mono',consolas,'Courier New',monospace\"><span style=\"font-weight: bold\">[</span>PROGRESS<span style=\"font-weight: bold\">]</span> <span style=\"color: #008000; text-decoration-color: #008000\">'mach-cuda2-fit5.txt'</span> saved at\n",
       "<span style=\"color: #800080; text-decoration-color: #800080\">/home/hadi/Dropbox/git/_PoissonVAE/</span><span style=\"color: #ff00ff; text-decoration-color: #ff00ff\">scripts</span>\n",
       "</pre>\n"
      ],
      "text/plain": [
       "\u001b[1m[\u001b[0mPROGRESS\u001b[1m]\u001b[0m \u001b[32m'mach-cuda2-fit5.txt'\u001b[0m saved at\n",
       "\u001b[35m/home/hadi/Dropbox/git/_PoissonVAE/\u001b[0m\u001b[95mscripts\u001b[0m\n"
      ]
     },
     "metadata": {},
     "output_type": "display_data"
    },
    {
     "data": {
      "text/html": [
       "<pre style=\"white-space:pre;overflow-x:auto;line-height:normal;font-family:Menlo,'DejaVu Sans Mono',consolas,'Courier New',monospace\"><span style=\"font-weight: bold\">[</span>PROGRESS<span style=\"font-weight: bold\">]</span> <span style=\"color: #008000; text-decoration-color: #008000\">'mach-cuda2-fit6.txt'</span> saved at\n",
       "<span style=\"color: #800080; text-decoration-color: #800080\">/home/hadi/Dropbox/git/_PoissonVAE/</span><span style=\"color: #ff00ff; text-decoration-color: #ff00ff\">scripts</span>\n",
       "</pre>\n"
      ],
      "text/plain": [
       "\u001b[1m[\u001b[0mPROGRESS\u001b[1m]\u001b[0m \u001b[32m'mach-cuda2-fit6.txt'\u001b[0m saved at\n",
       "\u001b[35m/home/hadi/Dropbox/git/_PoissonVAE/\u001b[0m\u001b[95mscripts\u001b[0m\n"
      ]
     },
     "metadata": {},
     "output_type": "display_data"
    },
    {
     "data": {
      "text/html": [
       "<pre style=\"white-space:pre;overflow-x:auto;line-height:normal;font-family:Menlo,'DejaVu Sans Mono',consolas,'Courier New',monospace\"><span style=\"font-weight: bold\">[</span>PROGRESS<span style=\"font-weight: bold\">]</span> <span style=\"color: #008000; text-decoration-color: #008000\">'mach-cuda2-fit7.txt'</span> saved at\n",
       "<span style=\"color: #800080; text-decoration-color: #800080\">/home/hadi/Dropbox/git/_PoissonVAE/</span><span style=\"color: #ff00ff; text-decoration-color: #ff00ff\">scripts</span>\n",
       "</pre>\n"
      ],
      "text/plain": [
       "\u001b[1m[\u001b[0mPROGRESS\u001b[1m]\u001b[0m \u001b[32m'mach-cuda2-fit7.txt'\u001b[0m saved at\n",
       "\u001b[35m/home/hadi/Dropbox/git/_PoissonVAE/\u001b[0m\u001b[95mscripts\u001b[0m\n"
      ]
     },
     "metadata": {},
     "output_type": "display_data"
    },
    {
     "data": {
      "text/html": [
       "<pre style=\"white-space:pre;overflow-x:auto;line-height:normal;font-family:Menlo,'DejaVu Sans Mono',consolas,'Courier New',monospace\"><span style=\"font-weight: bold\">[</span>PROGRESS<span style=\"font-weight: bold\">]</span> <span style=\"color: #008000; text-decoration-color: #008000\">'mach-cuda3-fit0.txt'</span> saved at\n",
       "<span style=\"color: #800080; text-decoration-color: #800080\">/home/hadi/Dropbox/git/_PoissonVAE/</span><span style=\"color: #ff00ff; text-decoration-color: #ff00ff\">scripts</span>\n",
       "</pre>\n"
      ],
      "text/plain": [
       "\u001b[1m[\u001b[0mPROGRESS\u001b[1m]\u001b[0m \u001b[32m'mach-cuda3-fit0.txt'\u001b[0m saved at\n",
       "\u001b[35m/home/hadi/Dropbox/git/_PoissonVAE/\u001b[0m\u001b[95mscripts\u001b[0m\n"
      ]
     },
     "metadata": {},
     "output_type": "display_data"
    },
    {
     "data": {
      "text/html": [
       "<pre style=\"white-space:pre;overflow-x:auto;line-height:normal;font-family:Menlo,'DejaVu Sans Mono',consolas,'Courier New',monospace\"><span style=\"font-weight: bold\">[</span>PROGRESS<span style=\"font-weight: bold\">]</span> <span style=\"color: #008000; text-decoration-color: #008000\">'mach-cuda3-fit1.txt'</span> saved at\n",
       "<span style=\"color: #800080; text-decoration-color: #800080\">/home/hadi/Dropbox/git/_PoissonVAE/</span><span style=\"color: #ff00ff; text-decoration-color: #ff00ff\">scripts</span>\n",
       "</pre>\n"
      ],
      "text/plain": [
       "\u001b[1m[\u001b[0mPROGRESS\u001b[1m]\u001b[0m \u001b[32m'mach-cuda3-fit1.txt'\u001b[0m saved at\n",
       "\u001b[35m/home/hadi/Dropbox/git/_PoissonVAE/\u001b[0m\u001b[95mscripts\u001b[0m\n"
      ]
     },
     "metadata": {},
     "output_type": "display_data"
    },
    {
     "data": {
      "text/html": [
       "<pre style=\"white-space:pre;overflow-x:auto;line-height:normal;font-family:Menlo,'DejaVu Sans Mono',consolas,'Courier New',monospace\"><span style=\"font-weight: bold\">[</span>PROGRESS<span style=\"font-weight: bold\">]</span> <span style=\"color: #008000; text-decoration-color: #008000\">'mach-cuda3-fit2.txt'</span> saved at\n",
       "<span style=\"color: #800080; text-decoration-color: #800080\">/home/hadi/Dropbox/git/_PoissonVAE/</span><span style=\"color: #ff00ff; text-decoration-color: #ff00ff\">scripts</span>\n",
       "</pre>\n"
      ],
      "text/plain": [
       "\u001b[1m[\u001b[0mPROGRESS\u001b[1m]\u001b[0m \u001b[32m'mach-cuda3-fit2.txt'\u001b[0m saved at\n",
       "\u001b[35m/home/hadi/Dropbox/git/_PoissonVAE/\u001b[0m\u001b[95mscripts\u001b[0m\n"
      ]
     },
     "metadata": {},
     "output_type": "display_data"
    },
    {
     "data": {
      "text/html": [
       "<pre style=\"white-space:pre;overflow-x:auto;line-height:normal;font-family:Menlo,'DejaVu Sans Mono',consolas,'Courier New',monospace\"><span style=\"font-weight: bold\">[</span>PROGRESS<span style=\"font-weight: bold\">]</span> <span style=\"color: #008000; text-decoration-color: #008000\">'mach-cuda3-fit3.txt'</span> saved at\n",
       "<span style=\"color: #800080; text-decoration-color: #800080\">/home/hadi/Dropbox/git/_PoissonVAE/</span><span style=\"color: #ff00ff; text-decoration-color: #ff00ff\">scripts</span>\n",
       "</pre>\n"
      ],
      "text/plain": [
       "\u001b[1m[\u001b[0mPROGRESS\u001b[1m]\u001b[0m \u001b[32m'mach-cuda3-fit3.txt'\u001b[0m saved at\n",
       "\u001b[35m/home/hadi/Dropbox/git/_PoissonVAE/\u001b[0m\u001b[95mscripts\u001b[0m\n"
      ]
     },
     "metadata": {},
     "output_type": "display_data"
    },
    {
     "data": {
      "text/html": [
       "<pre style=\"white-space:pre;overflow-x:auto;line-height:normal;font-family:Menlo,'DejaVu Sans Mono',consolas,'Courier New',monospace\"><span style=\"font-weight: bold\">[</span>PROGRESS<span style=\"font-weight: bold\">]</span> <span style=\"color: #008000; text-decoration-color: #008000\">'mach-cuda3-fit4.txt'</span> saved at\n",
       "<span style=\"color: #800080; text-decoration-color: #800080\">/home/hadi/Dropbox/git/_PoissonVAE/</span><span style=\"color: #ff00ff; text-decoration-color: #ff00ff\">scripts</span>\n",
       "</pre>\n"
      ],
      "text/plain": [
       "\u001b[1m[\u001b[0mPROGRESS\u001b[1m]\u001b[0m \u001b[32m'mach-cuda3-fit4.txt'\u001b[0m saved at\n",
       "\u001b[35m/home/hadi/Dropbox/git/_PoissonVAE/\u001b[0m\u001b[95mscripts\u001b[0m\n"
      ]
     },
     "metadata": {},
     "output_type": "display_data"
    },
    {
     "data": {
      "text/html": [
       "<pre style=\"white-space:pre;overflow-x:auto;line-height:normal;font-family:Menlo,'DejaVu Sans Mono',consolas,'Courier New',monospace\"><span style=\"font-weight: bold\">[</span>PROGRESS<span style=\"font-weight: bold\">]</span> <span style=\"color: #008000; text-decoration-color: #008000\">'mach-cuda3-fit5.txt'</span> saved at\n",
       "<span style=\"color: #800080; text-decoration-color: #800080\">/home/hadi/Dropbox/git/_PoissonVAE/</span><span style=\"color: #ff00ff; text-decoration-color: #ff00ff\">scripts</span>\n",
       "</pre>\n"
      ],
      "text/plain": [
       "\u001b[1m[\u001b[0mPROGRESS\u001b[1m]\u001b[0m \u001b[32m'mach-cuda3-fit5.txt'\u001b[0m saved at\n",
       "\u001b[35m/home/hadi/Dropbox/git/_PoissonVAE/\u001b[0m\u001b[95mscripts\u001b[0m\n"
      ]
     },
     "metadata": {},
     "output_type": "display_data"
    },
    {
     "data": {
      "text/html": [
       "<pre style=\"white-space:pre;overflow-x:auto;line-height:normal;font-family:Menlo,'DejaVu Sans Mono',consolas,'Courier New',monospace\"><span style=\"font-weight: bold\">[</span>PROGRESS<span style=\"font-weight: bold\">]</span> <span style=\"color: #008000; text-decoration-color: #008000\">'mach-cuda3-fit6.txt'</span> saved at\n",
       "<span style=\"color: #800080; text-decoration-color: #800080\">/home/hadi/Dropbox/git/_PoissonVAE/</span><span style=\"color: #ff00ff; text-decoration-color: #ff00ff\">scripts</span>\n",
       "</pre>\n"
      ],
      "text/plain": [
       "\u001b[1m[\u001b[0mPROGRESS\u001b[1m]\u001b[0m \u001b[32m'mach-cuda3-fit6.txt'\u001b[0m saved at\n",
       "\u001b[35m/home/hadi/Dropbox/git/_PoissonVAE/\u001b[0m\u001b[95mscripts\u001b[0m\n"
      ]
     },
     "metadata": {},
     "output_type": "display_data"
    },
    {
     "data": {
      "text/html": [
       "<pre style=\"white-space:pre;overflow-x:auto;line-height:normal;font-family:Menlo,'DejaVu Sans Mono',consolas,'Courier New',monospace\"><span style=\"font-weight: bold\">[</span>PROGRESS<span style=\"font-weight: bold\">]</span> <span style=\"color: #008000; text-decoration-color: #008000\">'mach-cuda3-fit7.txt'</span> saved at\n",
       "<span style=\"color: #800080; text-decoration-color: #800080\">/home/hadi/Dropbox/git/_PoissonVAE/</span><span style=\"color: #ff00ff; text-decoration-color: #ff00ff\">scripts</span>\n",
       "</pre>\n"
      ],
      "text/plain": [
       "\u001b[1m[\u001b[0mPROGRESS\u001b[1m]\u001b[0m \u001b[32m'mach-cuda3-fit7.txt'\u001b[0m saved at\n",
       "\u001b[35m/home/hadi/Dropbox/git/_PoissonVAE/\u001b[0m\u001b[95mscripts\u001b[0m\n"
      ]
     },
     "metadata": {},
     "output_type": "display_data"
    }
   ],
   "source": [
    "n_fits = 8\n",
    "\n",
    "for gpu_i, scripts in scripts_mach.items():\n",
    "    scripts_divided = divide_list(scripts, n_fits)\n",
    "    for fit_i, s in enumerate(scripts_divided):\n",
    "        combined = ' && '.join(s)\n",
    "        save_obj(\n",
    "            obj=combined,\n",
    "            file_name=_name(host, gpu_i, fit_i),\n",
    "            save_dir=save_dir,\n",
    "            mode='txt',\n",
    "        )"
   ]
  },
  {
   "cell_type": "code",
   "execution_count": null,
   "id": "3f60ba8e-5e23-49b6-86d2-825be718a391",
   "metadata": {},
   "outputs": [],
   "source": []
  },
  {
   "cell_type": "markdown",
   "id": "8f315c07-4e59-4ea4-bf70-41ed67898efc",
   "metadata": {},
   "source": [
    "### Print one to check"
   ]
  },
  {
   "cell_type": "code",
   "execution_count": 10,
   "id": "413587ca-d5bf-4d1d-91fe-76fd25cb7701",
   "metadata": {},
   "outputs": [
    {
     "data": {
      "text/html": [
       "<pre style=\"white-space:pre;overflow-x:auto;line-height:normal;font-family:Menlo,'DejaVu Sans Mono',consolas,'Courier New',monospace\">.<span style=\"color: #800080; text-decoration-color: #800080\">/</span><span style=\"color: #ff00ff; text-decoration-color: #ff00ff\">fit_vae.sh</span> <span style=\"color: #008000; text-decoration-color: #008000\">'3'</span> <span style=\"color: #008000; text-decoration-color: #008000\">'vH16'</span> <span style=\"color: #008000; text-decoration-color: #008000\">'poisson'</span> <span style=\"color: #008000; text-decoration-color: #008000\">'conv+b|lin'</span> --seed <span style=\"color: #008080; text-decoration-color: #008080; font-weight: bold\">5</span> --kl_beta <span style=\"color: #008080; text-decoration-color: #008080; font-weight: bold\">0.6</span> --temp_stop <span style=\"color: #008080; text-decoration-color: #008080; font-weight: bold\">0.1</span> --comment soft+t0.<span style=\"color: #008080; text-decoration-color: #008080; font-weight: bold\">1</span>+b0.<span style=\"color: #008080; text-decoration-color: #008080; font-weight: bold\">6</span> &amp;&amp; \n",
       ".<span style=\"color: #800080; text-decoration-color: #800080\">/</span><span style=\"color: #ff00ff; text-decoration-color: #ff00ff\">fit_vae.sh</span> <span style=\"color: #008000; text-decoration-color: #008000\">'3'</span> <span style=\"color: #008000; text-decoration-color: #008000\">'vH16'</span> <span style=\"color: #008000; text-decoration-color: #008000\">'poisson'</span> <span style=\"color: #008000; text-decoration-color: #008000\">'conv+b|lin'</span> --seed <span style=\"color: #008080; text-decoration-color: #008080; font-weight: bold\">5</span> --kl_beta <span style=\"color: #008080; text-decoration-color: #008080; font-weight: bold\">0.8</span> --temp_stop <span style=\"color: #008080; text-decoration-color: #008080; font-weight: bold\">0.1</span> --comment soft+t0.<span style=\"color: #008080; text-decoration-color: #008080; font-weight: bold\">1</span>+b0.<span style=\"color: #008080; text-decoration-color: #008080; font-weight: bold\">8</span> &amp;&amp; \n",
       ".<span style=\"color: #800080; text-decoration-color: #800080\">/</span><span style=\"color: #ff00ff; text-decoration-color: #ff00ff\">fit_vae.sh</span> <span style=\"color: #008000; text-decoration-color: #008000\">'3'</span> <span style=\"color: #008000; text-decoration-color: #008000\">'vH16'</span> <span style=\"color: #008000; text-decoration-color: #008000\">'poisson'</span> <span style=\"color: #008000; text-decoration-color: #008000\">'conv+b|lin'</span> --seed <span style=\"color: #008080; text-decoration-color: #008080; font-weight: bold\">5</span> --kl_beta <span style=\"color: #008080; text-decoration-color: #008080; font-weight: bold\">1.0</span> --temp_stop <span style=\"color: #008080; text-decoration-color: #008080; font-weight: bold\">0.1</span> --comment soft+t0.<span style=\"color: #008080; text-decoration-color: #008080; font-weight: bold\">1</span>+b1 &amp;&amp; \n",
       ".<span style=\"color: #800080; text-decoration-color: #800080\">/</span><span style=\"color: #ff00ff; text-decoration-color: #ff00ff\">fit_vae.sh</span> <span style=\"color: #008000; text-decoration-color: #008000\">'3'</span> <span style=\"color: #008000; text-decoration-color: #008000\">'vH16'</span> <span style=\"color: #008000; text-decoration-color: #008000\">'poisson'</span> <span style=\"color: #008000; text-decoration-color: #008000\">'conv+b|lin'</span> --seed <span style=\"color: #008080; text-decoration-color: #008080; font-weight: bold\">5</span> --kl_beta <span style=\"color: #008080; text-decoration-color: #008080; font-weight: bold\">1.5</span> --temp_stop <span style=\"color: #008080; text-decoration-color: #008080; font-weight: bold\">0.1</span> --comment soft+t0.<span style=\"color: #008080; text-decoration-color: #008080; font-weight: bold\">1</span>+b1.<span style=\"color: #008080; text-decoration-color: #008080; font-weight: bold\">5</span> &amp;&amp; \n",
       ".<span style=\"color: #800080; text-decoration-color: #800080\">/</span><span style=\"color: #ff00ff; text-decoration-color: #ff00ff\">fit_vae.sh</span> <span style=\"color: #008000; text-decoration-color: #008000\">'3'</span> <span style=\"color: #008000; text-decoration-color: #008000\">'vH16'</span> <span style=\"color: #008000; text-decoration-color: #008000\">'poisson'</span> <span style=\"color: #008000; text-decoration-color: #008000\">'conv+b|lin'</span> --seed <span style=\"color: #008080; text-decoration-color: #008080; font-weight: bold\">5</span> --kl_beta <span style=\"color: #008080; text-decoration-color: #008080; font-weight: bold\">4.0</span> --temp_stop <span style=\"color: #008080; text-decoration-color: #008080; font-weight: bold\">0.1</span> --comment soft+t0.<span style=\"color: #008080; text-decoration-color: #008080; font-weight: bold\">1</span>+b4\n",
       "</pre>\n"
      ],
      "text/plain": [
       ".\u001b[35m/\u001b[0m\u001b[95mfit_vae.sh\u001b[0m \u001b[32m'3'\u001b[0m \u001b[32m'vH16'\u001b[0m \u001b[32m'poisson'\u001b[0m \u001b[32m'conv+b|lin'\u001b[0m --seed \u001b[1;36m5\u001b[0m --kl_beta \u001b[1;36m0.6\u001b[0m --temp_stop \u001b[1;36m0.1\u001b[0m --comment soft+t0.\u001b[1;36m1\u001b[0m+b0.\u001b[1;36m6\u001b[0m && \n",
       ".\u001b[35m/\u001b[0m\u001b[95mfit_vae.sh\u001b[0m \u001b[32m'3'\u001b[0m \u001b[32m'vH16'\u001b[0m \u001b[32m'poisson'\u001b[0m \u001b[32m'conv+b|lin'\u001b[0m --seed \u001b[1;36m5\u001b[0m --kl_beta \u001b[1;36m0.8\u001b[0m --temp_stop \u001b[1;36m0.1\u001b[0m --comment soft+t0.\u001b[1;36m1\u001b[0m+b0.\u001b[1;36m8\u001b[0m && \n",
       ".\u001b[35m/\u001b[0m\u001b[95mfit_vae.sh\u001b[0m \u001b[32m'3'\u001b[0m \u001b[32m'vH16'\u001b[0m \u001b[32m'poisson'\u001b[0m \u001b[32m'conv+b|lin'\u001b[0m --seed \u001b[1;36m5\u001b[0m --kl_beta \u001b[1;36m1.0\u001b[0m --temp_stop \u001b[1;36m0.1\u001b[0m --comment soft+t0.\u001b[1;36m1\u001b[0m+b1 && \n",
       ".\u001b[35m/\u001b[0m\u001b[95mfit_vae.sh\u001b[0m \u001b[32m'3'\u001b[0m \u001b[32m'vH16'\u001b[0m \u001b[32m'poisson'\u001b[0m \u001b[32m'conv+b|lin'\u001b[0m --seed \u001b[1;36m5\u001b[0m --kl_beta \u001b[1;36m1.5\u001b[0m --temp_stop \u001b[1;36m0.1\u001b[0m --comment soft+t0.\u001b[1;36m1\u001b[0m+b1.\u001b[1;36m5\u001b[0m && \n",
       ".\u001b[35m/\u001b[0m\u001b[95mfit_vae.sh\u001b[0m \u001b[32m'3'\u001b[0m \u001b[32m'vH16'\u001b[0m \u001b[32m'poisson'\u001b[0m \u001b[32m'conv+b|lin'\u001b[0m --seed \u001b[1;36m5\u001b[0m --kl_beta \u001b[1;36m4.0\u001b[0m --temp_stop \u001b[1;36m0.1\u001b[0m --comment soft+t0.\u001b[1;36m1\u001b[0m+b4\n"
      ]
     },
     "metadata": {},
     "output_type": "display_data"
    }
   ],
   "source": [
    "print(combined.replace('&& ', '&& \\n'))"
   ]
  },
  {
   "cell_type": "code",
   "execution_count": null,
   "id": "41f88d8a-c971-42d4-b9f3-43f182c06b9e",
   "metadata": {},
   "outputs": [],
   "source": []
  },
  {
   "cell_type": "code",
   "execution_count": 11,
   "id": "b302fa96-e45d-42d0-b0cb-6664b76a47cc",
   "metadata": {},
   "outputs": [
    {
     "data": {
      "text/html": [
       "<pre style=\"white-space:pre;overflow-x:auto;line-height:normal;font-family:Menlo,'DejaVu Sans Mono',consolas,'Courier New',monospace\"><span style=\"font-weight: bold\">{</span>\n",
       "    <span style=\"color: #008080; text-decoration-color: #008080; font-weight: bold\">0</span>: <span style=\"font-weight: bold\">[</span>\n",
       "        <span style=\"color: #008000; text-decoration-color: #008000\">\"./fit_vae.sh '0' 'vH16' 'poisson' 'lin|lin' --seed 1 --kl_beta 0.01 --temp_stop 0.05 --comment </span>\n",
       "<span style=\"color: #008000; text-decoration-color: #008000\">soft+t0.05+b0.01\"</span>,\n",
       "        <span style=\"color: #008000; text-decoration-color: #008000\">\"./fit_vae.sh '0' 'vH16' 'poisson' 'lin|lin' --seed 1 --kl_beta 0.2 --temp_stop 0.05 --comment </span>\n",
       "<span style=\"color: #008000; text-decoration-color: #008000\">soft+t0.05+b0.2\"</span>,\n",
       "        <span style=\"color: #008000; text-decoration-color: #008000\">\"./fit_vae.sh '0' 'vH16' 'poisson' 'lin|lin' --seed 1 --kl_beta 0.4 --temp_stop 0.05 --comment </span>\n",
       "<span style=\"color: #008000; text-decoration-color: #008000\">soft+t0.05+b0.4\"</span>,\n",
       "        <span style=\"color: #008000; text-decoration-color: #008000\">\"./fit_vae.sh '0' 'vH16' 'poisson' 'lin|lin' --seed 1 --kl_beta 0.6 --temp_stop 0.05 --comment </span>\n",
       "<span style=\"color: #008000; text-decoration-color: #008000\">soft+t0.05+b0.6\"</span>,\n",
       "        <span style=\"color: #008000; text-decoration-color: #008000\">\"./fit_vae.sh '0' 'vH16' 'poisson' 'lin|lin' --seed 1 --kl_beta 0.8 --temp_stop 0.05 --comment </span>\n",
       "<span style=\"color: #008000; text-decoration-color: #008000\">soft+t0.05+b0.8\"</span>,\n",
       "        <span style=\"color: #008000; text-decoration-color: #008000\">\"./fit_vae.sh '0' 'vH16' 'poisson' 'lin|lin' --seed 1 --kl_beta 1.0 --temp_stop 0.05 --comment </span>\n",
       "<span style=\"color: #008000; text-decoration-color: #008000\">soft+t0.05+b1\"</span>,\n",
       "        <span style=\"color: #008000; text-decoration-color: #008000\">\"./fit_vae.sh '0' 'vH16' 'poisson' 'lin|lin' --seed 1 --kl_beta 1.5 --temp_stop 0.05 --comment </span>\n",
       "<span style=\"color: #008000; text-decoration-color: #008000\">soft+t0.05+b1.5\"</span>,\n",
       "        <span style=\"color: #008000; text-decoration-color: #008000\">\"./fit_vae.sh '0' 'vH16' 'poisson' 'lin|lin' --seed 1 --kl_beta 4.0 --temp_stop 0.05 --comment </span>\n",
       "<span style=\"color: #008000; text-decoration-color: #008000\">soft+t0.05+b4\"</span>,\n",
       "        <span style=\"color: #008000; text-decoration-color: #008000\">\"./fit_vae.sh '0' 'vH16' 'poisson' 'lin|lin' --seed 2 --kl_beta 0.01 --temp_stop 0.05 --comment </span>\n",
       "<span style=\"color: #008000; text-decoration-color: #008000\">soft+t0.05+b0.01\"</span>,\n",
       "        <span style=\"color: #008000; text-decoration-color: #008000\">\"./fit_vae.sh '0' 'vH16' 'poisson' 'lin|lin' --seed 2 --kl_beta 0.2 --temp_stop 0.05 --comment </span>\n",
       "<span style=\"color: #008000; text-decoration-color: #008000\">soft+t0.05+b0.2\"</span>,\n",
       "        <span style=\"color: #008000; text-decoration-color: #008000\">\"./fit_vae.sh '0' 'vH16' 'poisson' 'lin|lin' --seed 2 --kl_beta 0.4 --temp_stop 0.05 --comment </span>\n",
       "<span style=\"color: #008000; text-decoration-color: #008000\">soft+t0.05+b0.4\"</span>,\n",
       "        <span style=\"color: #008000; text-decoration-color: #008000\">\"./fit_vae.sh '0' 'vH16' 'poisson' 'lin|lin' --seed 2 --kl_beta 0.6 --temp_stop 0.05 --comment </span>\n",
       "<span style=\"color: #008000; text-decoration-color: #008000\">soft+t0.05+b0.6\"</span>,\n",
       "        <span style=\"color: #008000; text-decoration-color: #008000\">\"./fit_vae.sh '0' 'vH16' 'poisson' 'lin|lin' --seed 2 --kl_beta 0.8 --temp_stop 0.05 --comment </span>\n",
       "<span style=\"color: #008000; text-decoration-color: #008000\">soft+t0.05+b0.8\"</span>,\n",
       "        <span style=\"color: #008000; text-decoration-color: #008000\">\"./fit_vae.sh '0' 'vH16' 'poisson' 'lin|lin' --seed 2 --kl_beta 1.0 --temp_stop 0.05 --comment </span>\n",
       "<span style=\"color: #008000; text-decoration-color: #008000\">soft+t0.05+b1\"</span>,\n",
       "        <span style=\"color: #008000; text-decoration-color: #008000\">\"./fit_vae.sh '0' 'vH16' 'poisson' 'lin|lin' --seed 2 --kl_beta 1.5 --temp_stop 0.05 --comment </span>\n",
       "<span style=\"color: #008000; text-decoration-color: #008000\">soft+t0.05+b1.5\"</span>,\n",
       "        <span style=\"color: #008000; text-decoration-color: #008000\">\"./fit_vae.sh '0' 'vH16' 'poisson' 'lin|lin' --seed 2 --kl_beta 4.0 --temp_stop 0.05 --comment </span>\n",
       "<span style=\"color: #008000; text-decoration-color: #008000\">soft+t0.05+b4\"</span>,\n",
       "        <span style=\"color: #008000; text-decoration-color: #008000\">\"./fit_vae.sh '0' 'vH16' 'poisson' 'lin|lin' --seed 3 --kl_beta 0.01 --temp_stop 0.05 --comment </span>\n",
       "<span style=\"color: #008000; text-decoration-color: #008000\">soft+t0.05+b0.01\"</span>,\n",
       "        <span style=\"color: #008000; text-decoration-color: #008000\">\"./fit_vae.sh '0' 'vH16' 'poisson' 'lin|lin' --seed 3 --kl_beta 0.2 --temp_stop 0.05 --comment </span>\n",
       "<span style=\"color: #008000; text-decoration-color: #008000\">soft+t0.05+b0.2\"</span>,\n",
       "        <span style=\"color: #008000; text-decoration-color: #008000\">\"./fit_vae.sh '0' 'vH16' 'poisson' 'lin|lin' --seed 3 --kl_beta 0.4 --temp_stop 0.05 --comment </span>\n",
       "<span style=\"color: #008000; text-decoration-color: #008000\">soft+t0.05+b0.4\"</span>,\n",
       "        <span style=\"color: #008000; text-decoration-color: #008000\">\"./fit_vae.sh '0' 'vH16' 'poisson' 'lin|lin' --seed 3 --kl_beta 0.6 --temp_stop 0.05 --comment </span>\n",
       "<span style=\"color: #008000; text-decoration-color: #008000\">soft+t0.05+b0.6\"</span>,\n",
       "        <span style=\"color: #008000; text-decoration-color: #008000\">\"./fit_vae.sh '0' 'vH16' 'poisson' 'lin|lin' --seed 3 --kl_beta 0.8 --temp_stop 0.05 --comment </span>\n",
       "<span style=\"color: #008000; text-decoration-color: #008000\">soft+t0.05+b0.8\"</span>,\n",
       "        <span style=\"color: #008000; text-decoration-color: #008000\">\"./fit_vae.sh '0' 'vH16' 'poisson' 'lin|lin' --seed 3 --kl_beta 1.0 --temp_stop 0.05 --comment </span>\n",
       "<span style=\"color: #008000; text-decoration-color: #008000\">soft+t0.05+b1\"</span>,\n",
       "        <span style=\"color: #008000; text-decoration-color: #008000\">\"./fit_vae.sh '0' 'vH16' 'poisson' 'lin|lin' --seed 3 --kl_beta 1.5 --temp_stop 0.05 --comment </span>\n",
       "<span style=\"color: #008000; text-decoration-color: #008000\">soft+t0.05+b1.5\"</span>,\n",
       "        <span style=\"color: #008000; text-decoration-color: #008000\">\"./fit_vae.sh '0' 'vH16' 'poisson' 'lin|lin' --seed 3 --kl_beta 4.0 --temp_stop 0.05 --comment </span>\n",
       "<span style=\"color: #008000; text-decoration-color: #008000\">soft+t0.05+b4\"</span>,\n",
       "        <span style=\"color: #008000; text-decoration-color: #008000\">\"./fit_vae.sh '0' 'vH16' 'poisson' 'lin|lin' --seed 4 --kl_beta 0.01 --temp_stop 0.05 --comment </span>\n",
       "<span style=\"color: #008000; text-decoration-color: #008000\">soft+t0.05+b0.01\"</span>,\n",
       "        <span style=\"color: #008000; text-decoration-color: #008000\">\"./fit_vae.sh '0' 'vH16' 'poisson' 'lin|lin' --seed 4 --kl_beta 0.2 --temp_stop 0.05 --comment </span>\n",
       "<span style=\"color: #008000; text-decoration-color: #008000\">soft+t0.05+b0.2\"</span>,\n",
       "        <span style=\"color: #008000; text-decoration-color: #008000\">\"./fit_vae.sh '0' 'vH16' 'poisson' 'lin|lin' --seed 4 --kl_beta 0.4 --temp_stop 0.05 --comment </span>\n",
       "<span style=\"color: #008000; text-decoration-color: #008000\">soft+t0.05+b0.4\"</span>,\n",
       "        <span style=\"color: #008000; text-decoration-color: #008000\">\"./fit_vae.sh '0' 'vH16' 'poisson' 'lin|lin' --seed 4 --kl_beta 0.6 --temp_stop 0.05 --comment </span>\n",
       "<span style=\"color: #008000; text-decoration-color: #008000\">soft+t0.05+b0.6\"</span>,\n",
       "        <span style=\"color: #008000; text-decoration-color: #008000\">\"./fit_vae.sh '0' 'vH16' 'poisson' 'lin|lin' --seed 4 --kl_beta 0.8 --temp_stop 0.05 --comment </span>\n",
       "<span style=\"color: #008000; text-decoration-color: #008000\">soft+t0.05+b0.8\"</span>,\n",
       "        <span style=\"color: #008000; text-decoration-color: #008000\">\"./fit_vae.sh '0' 'vH16' 'poisson' 'lin|lin' --seed 4 --kl_beta 1.0 --temp_stop 0.05 --comment </span>\n",
       "<span style=\"color: #008000; text-decoration-color: #008000\">soft+t0.05+b1\"</span>,\n",
       "        <span style=\"color: #008000; text-decoration-color: #008000\">\"./fit_vae.sh '0' 'vH16' 'poisson' 'lin|lin' --seed 4 --kl_beta 1.5 --temp_stop 0.05 --comment </span>\n",
       "<span style=\"color: #008000; text-decoration-color: #008000\">soft+t0.05+b1.5\"</span>,\n",
       "        <span style=\"color: #008000; text-decoration-color: #008000\">\"./fit_vae.sh '0' 'vH16' 'poisson' 'lin|lin' --seed 4 --kl_beta 4.0 --temp_stop 0.05 --comment </span>\n",
       "<span style=\"color: #008000; text-decoration-color: #008000\">soft+t0.05+b4\"</span>,\n",
       "        <span style=\"color: #008000; text-decoration-color: #008000\">\"./fit_vae.sh '0' 'vH16' 'poisson' 'lin|lin' --seed 5 --kl_beta 0.01 --temp_stop 0.05 --comment </span>\n",
       "<span style=\"color: #008000; text-decoration-color: #008000\">soft+t0.05+b0.01\"</span>,\n",
       "        <span style=\"color: #008000; text-decoration-color: #008000\">\"./fit_vae.sh '0' 'vH16' 'poisson' 'lin|lin' --seed 5 --kl_beta 0.2 --temp_stop 0.05 --comment </span>\n",
       "<span style=\"color: #008000; text-decoration-color: #008000\">soft+t0.05+b0.2\"</span>,\n",
       "        <span style=\"color: #008000; text-decoration-color: #008000\">\"./fit_vae.sh '0' 'vH16' 'poisson' 'lin|lin' --seed 5 --kl_beta 0.4 --temp_stop 0.05 --comment </span>\n",
       "<span style=\"color: #008000; text-decoration-color: #008000\">soft+t0.05+b0.4\"</span>,\n",
       "        <span style=\"color: #008000; text-decoration-color: #008000\">\"./fit_vae.sh '0' 'vH16' 'poisson' 'lin|lin' --seed 5 --kl_beta 0.6 --temp_stop 0.05 --comment </span>\n",
       "<span style=\"color: #008000; text-decoration-color: #008000\">soft+t0.05+b0.6\"</span>,\n",
       "        <span style=\"color: #008000; text-decoration-color: #008000\">\"./fit_vae.sh '0' 'vH16' 'poisson' 'lin|lin' --seed 5 --kl_beta 0.8 --temp_stop 0.05 --comment </span>\n",
       "<span style=\"color: #008000; text-decoration-color: #008000\">soft+t0.05+b0.8\"</span>,\n",
       "        <span style=\"color: #008000; text-decoration-color: #008000\">\"./fit_vae.sh '0' 'vH16' 'poisson' 'lin|lin' --seed 5 --kl_beta 1.0 --temp_stop 0.05 --comment </span>\n",
       "<span style=\"color: #008000; text-decoration-color: #008000\">soft+t0.05+b1\"</span>,\n",
       "        <span style=\"color: #008000; text-decoration-color: #008000\">\"./fit_vae.sh '0' 'vH16' 'poisson' 'lin|lin' --seed 5 --kl_beta 1.5 --temp_stop 0.05 --comment </span>\n",
       "<span style=\"color: #008000; text-decoration-color: #008000\">soft+t0.05+b1.5\"</span>,\n",
       "        <span style=\"color: #008000; text-decoration-color: #008000\">\"./fit_vae.sh '0' 'vH16' 'poisson' 'lin|lin' --seed 5 --kl_beta 4.0 --temp_stop 0.05 --comment </span>\n",
       "<span style=\"color: #008000; text-decoration-color: #008000\">soft+t0.05+b4\"</span>\n",
       "    <span style=\"font-weight: bold\">]</span>,\n",
       "    <span style=\"color: #008080; text-decoration-color: #008080; font-weight: bold\">1</span>: <span style=\"font-weight: bold\">[</span>\n",
       "        <span style=\"color: #008000; text-decoration-color: #008000\">\"./fit_vae.sh '1' 'vH16' 'poisson' 'lin|lin' --seed 1 --kl_beta 0.01 --temp_stop 0.1 --comment </span>\n",
       "<span style=\"color: #008000; text-decoration-color: #008000\">soft+t0.1+b0.01\"</span>,\n",
       "        <span style=\"color: #008000; text-decoration-color: #008000\">\"./fit_vae.sh '1' 'vH16' 'poisson' 'lin|lin' --seed 1 --kl_beta 0.2 --temp_stop 0.1 --comment </span>\n",
       "<span style=\"color: #008000; text-decoration-color: #008000\">soft+t0.1+b0.2\"</span>,\n",
       "        <span style=\"color: #008000; text-decoration-color: #008000\">\"./fit_vae.sh '1' 'vH16' 'poisson' 'lin|lin' --seed 1 --kl_beta 0.4 --temp_stop 0.1 --comment </span>\n",
       "<span style=\"color: #008000; text-decoration-color: #008000\">soft+t0.1+b0.4\"</span>,\n",
       "        <span style=\"color: #008000; text-decoration-color: #008000\">\"./fit_vae.sh '1' 'vH16' 'poisson' 'lin|lin' --seed 1 --kl_beta 0.6 --temp_stop 0.1 --comment </span>\n",
       "<span style=\"color: #008000; text-decoration-color: #008000\">soft+t0.1+b0.6\"</span>,\n",
       "        <span style=\"color: #008000; text-decoration-color: #008000\">\"./fit_vae.sh '1' 'vH16' 'poisson' 'lin|lin' --seed 1 --kl_beta 0.8 --temp_stop 0.1 --comment </span>\n",
       "<span style=\"color: #008000; text-decoration-color: #008000\">soft+t0.1+b0.8\"</span>,\n",
       "        <span style=\"color: #008000; text-decoration-color: #008000\">\"./fit_vae.sh '1' 'vH16' 'poisson' 'lin|lin' --seed 1 --kl_beta 1.0 --temp_stop 0.1 --comment </span>\n",
       "<span style=\"color: #008000; text-decoration-color: #008000\">soft+t0.1+b1\"</span>,\n",
       "        <span style=\"color: #008000; text-decoration-color: #008000\">\"./fit_vae.sh '1' 'vH16' 'poisson' 'lin|lin' --seed 1 --kl_beta 1.5 --temp_stop 0.1 --comment </span>\n",
       "<span style=\"color: #008000; text-decoration-color: #008000\">soft+t0.1+b1.5\"</span>,\n",
       "        <span style=\"color: #008000; text-decoration-color: #008000\">\"./fit_vae.sh '1' 'vH16' 'poisson' 'lin|lin' --seed 1 --kl_beta 4.0 --temp_stop 0.1 --comment </span>\n",
       "<span style=\"color: #008000; text-decoration-color: #008000\">soft+t0.1+b4\"</span>,\n",
       "        <span style=\"color: #008000; text-decoration-color: #008000\">\"./fit_vae.sh '1' 'vH16' 'poisson' 'lin|lin' --seed 2 --kl_beta 0.01 --temp_stop 0.1 --comment </span>\n",
       "<span style=\"color: #008000; text-decoration-color: #008000\">soft+t0.1+b0.01\"</span>,\n",
       "        <span style=\"color: #008000; text-decoration-color: #008000\">\"./fit_vae.sh '1' 'vH16' 'poisson' 'lin|lin' --seed 2 --kl_beta 0.2 --temp_stop 0.1 --comment </span>\n",
       "<span style=\"color: #008000; text-decoration-color: #008000\">soft+t0.1+b0.2\"</span>,\n",
       "        <span style=\"color: #008000; text-decoration-color: #008000\">\"./fit_vae.sh '1' 'vH16' 'poisson' 'lin|lin' --seed 2 --kl_beta 0.4 --temp_stop 0.1 --comment </span>\n",
       "<span style=\"color: #008000; text-decoration-color: #008000\">soft+t0.1+b0.4\"</span>,\n",
       "        <span style=\"color: #008000; text-decoration-color: #008000\">\"./fit_vae.sh '1' 'vH16' 'poisson' 'lin|lin' --seed 2 --kl_beta 0.6 --temp_stop 0.1 --comment </span>\n",
       "<span style=\"color: #008000; text-decoration-color: #008000\">soft+t0.1+b0.6\"</span>,\n",
       "        <span style=\"color: #008000; text-decoration-color: #008000\">\"./fit_vae.sh '1' 'vH16' 'poisson' 'lin|lin' --seed 2 --kl_beta 0.8 --temp_stop 0.1 --comment </span>\n",
       "<span style=\"color: #008000; text-decoration-color: #008000\">soft+t0.1+b0.8\"</span>,\n",
       "        <span style=\"color: #008000; text-decoration-color: #008000\">\"./fit_vae.sh '1' 'vH16' 'poisson' 'lin|lin' --seed 2 --kl_beta 1.0 --temp_stop 0.1 --comment </span>\n",
       "<span style=\"color: #008000; text-decoration-color: #008000\">soft+t0.1+b1\"</span>,\n",
       "        <span style=\"color: #008000; text-decoration-color: #008000\">\"./fit_vae.sh '1' 'vH16' 'poisson' 'lin|lin' --seed 2 --kl_beta 1.5 --temp_stop 0.1 --comment </span>\n",
       "<span style=\"color: #008000; text-decoration-color: #008000\">soft+t0.1+b1.5\"</span>,\n",
       "        <span style=\"color: #008000; text-decoration-color: #008000\">\"./fit_vae.sh '1' 'vH16' 'poisson' 'lin|lin' --seed 2 --kl_beta 4.0 --temp_stop 0.1 --comment </span>\n",
       "<span style=\"color: #008000; text-decoration-color: #008000\">soft+t0.1+b4\"</span>,\n",
       "        <span style=\"color: #008000; text-decoration-color: #008000\">\"./fit_vae.sh '1' 'vH16' 'poisson' 'lin|lin' --seed 3 --kl_beta 0.01 --temp_stop 0.1 --comment </span>\n",
       "<span style=\"color: #008000; text-decoration-color: #008000\">soft+t0.1+b0.01\"</span>,\n",
       "        <span style=\"color: #008000; text-decoration-color: #008000\">\"./fit_vae.sh '1' 'vH16' 'poisson' 'lin|lin' --seed 3 --kl_beta 0.2 --temp_stop 0.1 --comment </span>\n",
       "<span style=\"color: #008000; text-decoration-color: #008000\">soft+t0.1+b0.2\"</span>,\n",
       "        <span style=\"color: #008000; text-decoration-color: #008000\">\"./fit_vae.sh '1' 'vH16' 'poisson' 'lin|lin' --seed 3 --kl_beta 0.4 --temp_stop 0.1 --comment </span>\n",
       "<span style=\"color: #008000; text-decoration-color: #008000\">soft+t0.1+b0.4\"</span>,\n",
       "        <span style=\"color: #008000; text-decoration-color: #008000\">\"./fit_vae.sh '1' 'vH16' 'poisson' 'lin|lin' --seed 3 --kl_beta 0.6 --temp_stop 0.1 --comment </span>\n",
       "<span style=\"color: #008000; text-decoration-color: #008000\">soft+t0.1+b0.6\"</span>,\n",
       "        <span style=\"color: #008000; text-decoration-color: #008000\">\"./fit_vae.sh '1' 'vH16' 'poisson' 'lin|lin' --seed 3 --kl_beta 0.8 --temp_stop 0.1 --comment </span>\n",
       "<span style=\"color: #008000; text-decoration-color: #008000\">soft+t0.1+b0.8\"</span>,\n",
       "        <span style=\"color: #008000; text-decoration-color: #008000\">\"./fit_vae.sh '1' 'vH16' 'poisson' 'lin|lin' --seed 3 --kl_beta 1.0 --temp_stop 0.1 --comment </span>\n",
       "<span style=\"color: #008000; text-decoration-color: #008000\">soft+t0.1+b1\"</span>,\n",
       "        <span style=\"color: #008000; text-decoration-color: #008000\">\"./fit_vae.sh '1' 'vH16' 'poisson' 'lin|lin' --seed 3 --kl_beta 1.5 --temp_stop 0.1 --comment </span>\n",
       "<span style=\"color: #008000; text-decoration-color: #008000\">soft+t0.1+b1.5\"</span>,\n",
       "        <span style=\"color: #008000; text-decoration-color: #008000\">\"./fit_vae.sh '1' 'vH16' 'poisson' 'lin|lin' --seed 3 --kl_beta 4.0 --temp_stop 0.1 --comment </span>\n",
       "<span style=\"color: #008000; text-decoration-color: #008000\">soft+t0.1+b4\"</span>,\n",
       "        <span style=\"color: #008000; text-decoration-color: #008000\">\"./fit_vae.sh '1' 'vH16' 'poisson' 'lin|lin' --seed 4 --kl_beta 0.01 --temp_stop 0.1 --comment </span>\n",
       "<span style=\"color: #008000; text-decoration-color: #008000\">soft+t0.1+b0.01\"</span>,\n",
       "        <span style=\"color: #008000; text-decoration-color: #008000\">\"./fit_vae.sh '1' 'vH16' 'poisson' 'lin|lin' --seed 4 --kl_beta 0.2 --temp_stop 0.1 --comment </span>\n",
       "<span style=\"color: #008000; text-decoration-color: #008000\">soft+t0.1+b0.2\"</span>,\n",
       "        <span style=\"color: #008000; text-decoration-color: #008000\">\"./fit_vae.sh '1' 'vH16' 'poisson' 'lin|lin' --seed 4 --kl_beta 0.4 --temp_stop 0.1 --comment </span>\n",
       "<span style=\"color: #008000; text-decoration-color: #008000\">soft+t0.1+b0.4\"</span>,\n",
       "        <span style=\"color: #008000; text-decoration-color: #008000\">\"./fit_vae.sh '1' 'vH16' 'poisson' 'lin|lin' --seed 4 --kl_beta 0.6 --temp_stop 0.1 --comment </span>\n",
       "<span style=\"color: #008000; text-decoration-color: #008000\">soft+t0.1+b0.6\"</span>,\n",
       "        <span style=\"color: #008000; text-decoration-color: #008000\">\"./fit_vae.sh '1' 'vH16' 'poisson' 'lin|lin' --seed 4 --kl_beta 0.8 --temp_stop 0.1 --comment </span>\n",
       "<span style=\"color: #008000; text-decoration-color: #008000\">soft+t0.1+b0.8\"</span>,\n",
       "        <span style=\"color: #008000; text-decoration-color: #008000\">\"./fit_vae.sh '1' 'vH16' 'poisson' 'lin|lin' --seed 4 --kl_beta 1.0 --temp_stop 0.1 --comment </span>\n",
       "<span style=\"color: #008000; text-decoration-color: #008000\">soft+t0.1+b1\"</span>,\n",
       "        <span style=\"color: #008000; text-decoration-color: #008000\">\"./fit_vae.sh '1' 'vH16' 'poisson' 'lin|lin' --seed 4 --kl_beta 1.5 --temp_stop 0.1 --comment </span>\n",
       "<span style=\"color: #008000; text-decoration-color: #008000\">soft+t0.1+b1.5\"</span>,\n",
       "        <span style=\"color: #008000; text-decoration-color: #008000\">\"./fit_vae.sh '1' 'vH16' 'poisson' 'lin|lin' --seed 4 --kl_beta 4.0 --temp_stop 0.1 --comment </span>\n",
       "<span style=\"color: #008000; text-decoration-color: #008000\">soft+t0.1+b4\"</span>,\n",
       "        <span style=\"color: #008000; text-decoration-color: #008000\">\"./fit_vae.sh '1' 'vH16' 'poisson' 'lin|lin' --seed 5 --kl_beta 0.01 --temp_stop 0.1 --comment </span>\n",
       "<span style=\"color: #008000; text-decoration-color: #008000\">soft+t0.1+b0.01\"</span>,\n",
       "        <span style=\"color: #008000; text-decoration-color: #008000\">\"./fit_vae.sh '1' 'vH16' 'poisson' 'lin|lin' --seed 5 --kl_beta 0.2 --temp_stop 0.1 --comment </span>\n",
       "<span style=\"color: #008000; text-decoration-color: #008000\">soft+t0.1+b0.2\"</span>,\n",
       "        <span style=\"color: #008000; text-decoration-color: #008000\">\"./fit_vae.sh '1' 'vH16' 'poisson' 'lin|lin' --seed 5 --kl_beta 0.4 --temp_stop 0.1 --comment </span>\n",
       "<span style=\"color: #008000; text-decoration-color: #008000\">soft+t0.1+b0.4\"</span>,\n",
       "        <span style=\"color: #008000; text-decoration-color: #008000\">\"./fit_vae.sh '1' 'vH16' 'poisson' 'lin|lin' --seed 5 --kl_beta 0.6 --temp_stop 0.1 --comment </span>\n",
       "<span style=\"color: #008000; text-decoration-color: #008000\">soft+t0.1+b0.6\"</span>,\n",
       "        <span style=\"color: #008000; text-decoration-color: #008000\">\"./fit_vae.sh '1' 'vH16' 'poisson' 'lin|lin' --seed 5 --kl_beta 0.8 --temp_stop 0.1 --comment </span>\n",
       "<span style=\"color: #008000; text-decoration-color: #008000\">soft+t0.1+b0.8\"</span>,\n",
       "        <span style=\"color: #008000; text-decoration-color: #008000\">\"./fit_vae.sh '1' 'vH16' 'poisson' 'lin|lin' --seed 5 --kl_beta 1.0 --temp_stop 0.1 --comment </span>\n",
       "<span style=\"color: #008000; text-decoration-color: #008000\">soft+t0.1+b1\"</span>,\n",
       "        <span style=\"color: #008000; text-decoration-color: #008000\">\"./fit_vae.sh '1' 'vH16' 'poisson' 'lin|lin' --seed 5 --kl_beta 1.5 --temp_stop 0.1 --comment </span>\n",
       "<span style=\"color: #008000; text-decoration-color: #008000\">soft+t0.1+b1.5\"</span>,\n",
       "        <span style=\"color: #008000; text-decoration-color: #008000\">\"./fit_vae.sh '1' 'vH16' 'poisson' 'lin|lin' --seed 5 --kl_beta 4.0 --temp_stop 0.1 --comment soft+t0.1+b4\"</span>\n",
       "    <span style=\"font-weight: bold\">]</span>,\n",
       "    <span style=\"color: #008080; text-decoration-color: #008080; font-weight: bold\">2</span>: <span style=\"font-weight: bold\">[</span>\n",
       "        <span style=\"color: #008000; text-decoration-color: #008000\">\"./fit_vae.sh '2' 'vH16' 'poisson' 'conv+b|lin' --seed 1 --kl_beta 0.01 --temp_stop 0.05 --comment </span>\n",
       "<span style=\"color: #008000; text-decoration-color: #008000\">soft+t0.05+b0.01\"</span>,\n",
       "        <span style=\"color: #008000; text-decoration-color: #008000\">\"./fit_vae.sh '2' 'vH16' 'poisson' 'conv+b|lin' --seed 1 --kl_beta 0.2 --temp_stop 0.05 --comment </span>\n",
       "<span style=\"color: #008000; text-decoration-color: #008000\">soft+t0.05+b0.2\"</span>,\n",
       "        <span style=\"color: #008000; text-decoration-color: #008000\">\"./fit_vae.sh '2' 'vH16' 'poisson' 'conv+b|lin' --seed 1 --kl_beta 0.4 --temp_stop 0.05 --comment </span>\n",
       "<span style=\"color: #008000; text-decoration-color: #008000\">soft+t0.05+b0.4\"</span>,\n",
       "        <span style=\"color: #008000; text-decoration-color: #008000\">\"./fit_vae.sh '2' 'vH16' 'poisson' 'conv+b|lin' --seed 1 --kl_beta 0.6 --temp_stop 0.05 --comment </span>\n",
       "<span style=\"color: #008000; text-decoration-color: #008000\">soft+t0.05+b0.6\"</span>,\n",
       "        <span style=\"color: #008000; text-decoration-color: #008000\">\"./fit_vae.sh '2' 'vH16' 'poisson' 'conv+b|lin' --seed 1 --kl_beta 0.8 --temp_stop 0.05 --comment </span>\n",
       "<span style=\"color: #008000; text-decoration-color: #008000\">soft+t0.05+b0.8\"</span>,\n",
       "        <span style=\"color: #008000; text-decoration-color: #008000\">\"./fit_vae.sh '2' 'vH16' 'poisson' 'conv+b|lin' --seed 1 --kl_beta 1.0 --temp_stop 0.05 --comment </span>\n",
       "<span style=\"color: #008000; text-decoration-color: #008000\">soft+t0.05+b1\"</span>,\n",
       "        <span style=\"color: #008000; text-decoration-color: #008000\">\"./fit_vae.sh '2' 'vH16' 'poisson' 'conv+b|lin' --seed 1 --kl_beta 1.5 --temp_stop 0.05 --comment </span>\n",
       "<span style=\"color: #008000; text-decoration-color: #008000\">soft+t0.05+b1.5\"</span>,\n",
       "        <span style=\"color: #008000; text-decoration-color: #008000\">\"./fit_vae.sh '2' 'vH16' 'poisson' 'conv+b|lin' --seed 1 --kl_beta 4.0 --temp_stop 0.05 --comment </span>\n",
       "<span style=\"color: #008000; text-decoration-color: #008000\">soft+t0.05+b4\"</span>,\n",
       "        <span style=\"color: #008000; text-decoration-color: #008000\">\"./fit_vae.sh '2' 'vH16' 'poisson' 'conv+b|lin' --seed 2 --kl_beta 0.01 --temp_stop 0.05 --comment </span>\n",
       "<span style=\"color: #008000; text-decoration-color: #008000\">soft+t0.05+b0.01\"</span>,\n",
       "        <span style=\"color: #008000; text-decoration-color: #008000\">\"./fit_vae.sh '2' 'vH16' 'poisson' 'conv+b|lin' --seed 2 --kl_beta 0.2 --temp_stop 0.05 --comment </span>\n",
       "<span style=\"color: #008000; text-decoration-color: #008000\">soft+t0.05+b0.2\"</span>,\n",
       "        <span style=\"color: #008000; text-decoration-color: #008000\">\"./fit_vae.sh '2' 'vH16' 'poisson' 'conv+b|lin' --seed 2 --kl_beta 0.4 --temp_stop 0.05 --comment </span>\n",
       "<span style=\"color: #008000; text-decoration-color: #008000\">soft+t0.05+b0.4\"</span>,\n",
       "        <span style=\"color: #008000; text-decoration-color: #008000\">\"./fit_vae.sh '2' 'vH16' 'poisson' 'conv+b|lin' --seed 2 --kl_beta 0.6 --temp_stop 0.05 --comment </span>\n",
       "<span style=\"color: #008000; text-decoration-color: #008000\">soft+t0.05+b0.6\"</span>,\n",
       "        <span style=\"color: #008000; text-decoration-color: #008000\">\"./fit_vae.sh '2' 'vH16' 'poisson' 'conv+b|lin' --seed 2 --kl_beta 0.8 --temp_stop 0.05 --comment </span>\n",
       "<span style=\"color: #008000; text-decoration-color: #008000\">soft+t0.05+b0.8\"</span>,\n",
       "        <span style=\"color: #008000; text-decoration-color: #008000\">\"./fit_vae.sh '2' 'vH16' 'poisson' 'conv+b|lin' --seed 2 --kl_beta 1.0 --temp_stop 0.05 --comment </span>\n",
       "<span style=\"color: #008000; text-decoration-color: #008000\">soft+t0.05+b1\"</span>,\n",
       "        <span style=\"color: #008000; text-decoration-color: #008000\">\"./fit_vae.sh '2' 'vH16' 'poisson' 'conv+b|lin' --seed 2 --kl_beta 1.5 --temp_stop 0.05 --comment </span>\n",
       "<span style=\"color: #008000; text-decoration-color: #008000\">soft+t0.05+b1.5\"</span>,\n",
       "        <span style=\"color: #008000; text-decoration-color: #008000\">\"./fit_vae.sh '2' 'vH16' 'poisson' 'conv+b|lin' --seed 2 --kl_beta 4.0 --temp_stop 0.05 --comment </span>\n",
       "<span style=\"color: #008000; text-decoration-color: #008000\">soft+t0.05+b4\"</span>,\n",
       "        <span style=\"color: #008000; text-decoration-color: #008000\">\"./fit_vae.sh '2' 'vH16' 'poisson' 'conv+b|lin' --seed 3 --kl_beta 0.01 --temp_stop 0.05 --comment </span>\n",
       "<span style=\"color: #008000; text-decoration-color: #008000\">soft+t0.05+b0.01\"</span>,\n",
       "        <span style=\"color: #008000; text-decoration-color: #008000\">\"./fit_vae.sh '2' 'vH16' 'poisson' 'conv+b|lin' --seed 3 --kl_beta 0.2 --temp_stop 0.05 --comment </span>\n",
       "<span style=\"color: #008000; text-decoration-color: #008000\">soft+t0.05+b0.2\"</span>,\n",
       "        <span style=\"color: #008000; text-decoration-color: #008000\">\"./fit_vae.sh '2' 'vH16' 'poisson' 'conv+b|lin' --seed 3 --kl_beta 0.4 --temp_stop 0.05 --comment </span>\n",
       "<span style=\"color: #008000; text-decoration-color: #008000\">soft+t0.05+b0.4\"</span>,\n",
       "        <span style=\"color: #008000; text-decoration-color: #008000\">\"./fit_vae.sh '2' 'vH16' 'poisson' 'conv+b|lin' --seed 3 --kl_beta 0.6 --temp_stop 0.05 --comment </span>\n",
       "<span style=\"color: #008000; text-decoration-color: #008000\">soft+t0.05+b0.6\"</span>,\n",
       "        <span style=\"color: #008000; text-decoration-color: #008000\">\"./fit_vae.sh '2' 'vH16' 'poisson' 'conv+b|lin' --seed 3 --kl_beta 0.8 --temp_stop 0.05 --comment </span>\n",
       "<span style=\"color: #008000; text-decoration-color: #008000\">soft+t0.05+b0.8\"</span>,\n",
       "        <span style=\"color: #008000; text-decoration-color: #008000\">\"./fit_vae.sh '2' 'vH16' 'poisson' 'conv+b|lin' --seed 3 --kl_beta 1.0 --temp_stop 0.05 --comment </span>\n",
       "<span style=\"color: #008000; text-decoration-color: #008000\">soft+t0.05+b1\"</span>,\n",
       "        <span style=\"color: #008000; text-decoration-color: #008000\">\"./fit_vae.sh '2' 'vH16' 'poisson' 'conv+b|lin' --seed 3 --kl_beta 1.5 --temp_stop 0.05 --comment </span>\n",
       "<span style=\"color: #008000; text-decoration-color: #008000\">soft+t0.05+b1.5\"</span>,\n",
       "        <span style=\"color: #008000; text-decoration-color: #008000\">\"./fit_vae.sh '2' 'vH16' 'poisson' 'conv+b|lin' --seed 3 --kl_beta 4.0 --temp_stop 0.05 --comment </span>\n",
       "<span style=\"color: #008000; text-decoration-color: #008000\">soft+t0.05+b4\"</span>,\n",
       "        <span style=\"color: #008000; text-decoration-color: #008000\">\"./fit_vae.sh '2' 'vH16' 'poisson' 'conv+b|lin' --seed 4 --kl_beta 0.01 --temp_stop 0.05 --comment </span>\n",
       "<span style=\"color: #008000; text-decoration-color: #008000\">soft+t0.05+b0.01\"</span>,\n",
       "        <span style=\"color: #008000; text-decoration-color: #008000\">\"./fit_vae.sh '2' 'vH16' 'poisson' 'conv+b|lin' --seed 4 --kl_beta 0.2 --temp_stop 0.05 --comment </span>\n",
       "<span style=\"color: #008000; text-decoration-color: #008000\">soft+t0.05+b0.2\"</span>,\n",
       "        <span style=\"color: #008000; text-decoration-color: #008000\">\"./fit_vae.sh '2' 'vH16' 'poisson' 'conv+b|lin' --seed 4 --kl_beta 0.4 --temp_stop 0.05 --comment </span>\n",
       "<span style=\"color: #008000; text-decoration-color: #008000\">soft+t0.05+b0.4\"</span>,\n",
       "        <span style=\"color: #008000; text-decoration-color: #008000\">\"./fit_vae.sh '2' 'vH16' 'poisson' 'conv+b|lin' --seed 4 --kl_beta 0.6 --temp_stop 0.05 --comment </span>\n",
       "<span style=\"color: #008000; text-decoration-color: #008000\">soft+t0.05+b0.6\"</span>,\n",
       "        <span style=\"color: #008000; text-decoration-color: #008000\">\"./fit_vae.sh '2' 'vH16' 'poisson' 'conv+b|lin' --seed 4 --kl_beta 0.8 --temp_stop 0.05 --comment </span>\n",
       "<span style=\"color: #008000; text-decoration-color: #008000\">soft+t0.05+b0.8\"</span>,\n",
       "        <span style=\"color: #008000; text-decoration-color: #008000\">\"./fit_vae.sh '2' 'vH16' 'poisson' 'conv+b|lin' --seed 4 --kl_beta 1.0 --temp_stop 0.05 --comment </span>\n",
       "<span style=\"color: #008000; text-decoration-color: #008000\">soft+t0.05+b1\"</span>,\n",
       "        <span style=\"color: #008000; text-decoration-color: #008000\">\"./fit_vae.sh '2' 'vH16' 'poisson' 'conv+b|lin' --seed 4 --kl_beta 1.5 --temp_stop 0.05 --comment </span>\n",
       "<span style=\"color: #008000; text-decoration-color: #008000\">soft+t0.05+b1.5\"</span>,\n",
       "        <span style=\"color: #008000; text-decoration-color: #008000\">\"./fit_vae.sh '2' 'vH16' 'poisson' 'conv+b|lin' --seed 4 --kl_beta 4.0 --temp_stop 0.05 --comment </span>\n",
       "<span style=\"color: #008000; text-decoration-color: #008000\">soft+t0.05+b4\"</span>,\n",
       "        <span style=\"color: #008000; text-decoration-color: #008000\">\"./fit_vae.sh '2' 'vH16' 'poisson' 'conv+b|lin' --seed 5 --kl_beta 0.01 --temp_stop 0.05 --comment </span>\n",
       "<span style=\"color: #008000; text-decoration-color: #008000\">soft+t0.05+b0.01\"</span>,\n",
       "        <span style=\"color: #008000; text-decoration-color: #008000\">\"./fit_vae.sh '2' 'vH16' 'poisson' 'conv+b|lin' --seed 5 --kl_beta 0.2 --temp_stop 0.05 --comment </span>\n",
       "<span style=\"color: #008000; text-decoration-color: #008000\">soft+t0.05+b0.2\"</span>,\n",
       "        <span style=\"color: #008000; text-decoration-color: #008000\">\"./fit_vae.sh '2' 'vH16' 'poisson' 'conv+b|lin' --seed 5 --kl_beta 0.4 --temp_stop 0.05 --comment </span>\n",
       "<span style=\"color: #008000; text-decoration-color: #008000\">soft+t0.05+b0.4\"</span>,\n",
       "        <span style=\"color: #008000; text-decoration-color: #008000\">\"./fit_vae.sh '2' 'vH16' 'poisson' 'conv+b|lin' --seed 5 --kl_beta 0.6 --temp_stop 0.05 --comment </span>\n",
       "<span style=\"color: #008000; text-decoration-color: #008000\">soft+t0.05+b0.6\"</span>,\n",
       "        <span style=\"color: #008000; text-decoration-color: #008000\">\"./fit_vae.sh '2' 'vH16' 'poisson' 'conv+b|lin' --seed 5 --kl_beta 0.8 --temp_stop 0.05 --comment </span>\n",
       "<span style=\"color: #008000; text-decoration-color: #008000\">soft+t0.05+b0.8\"</span>,\n",
       "        <span style=\"color: #008000; text-decoration-color: #008000\">\"./fit_vae.sh '2' 'vH16' 'poisson' 'conv+b|lin' --seed 5 --kl_beta 1.0 --temp_stop 0.05 --comment </span>\n",
       "<span style=\"color: #008000; text-decoration-color: #008000\">soft+t0.05+b1\"</span>,\n",
       "        <span style=\"color: #008000; text-decoration-color: #008000\">\"./fit_vae.sh '2' 'vH16' 'poisson' 'conv+b|lin' --seed 5 --kl_beta 1.5 --temp_stop 0.05 --comment </span>\n",
       "<span style=\"color: #008000; text-decoration-color: #008000\">soft+t0.05+b1.5\"</span>,\n",
       "        <span style=\"color: #008000; text-decoration-color: #008000\">\"./fit_vae.sh '2' 'vH16' 'poisson' 'conv+b|lin' --seed 5 --kl_beta 4.0 --temp_stop 0.05 --comment </span>\n",
       "<span style=\"color: #008000; text-decoration-color: #008000\">soft+t0.05+b4\"</span>\n",
       "    <span style=\"font-weight: bold\">]</span>,\n",
       "    <span style=\"color: #008080; text-decoration-color: #008080; font-weight: bold\">3</span>: <span style=\"font-weight: bold\">[</span>\n",
       "        <span style=\"color: #008000; text-decoration-color: #008000\">\"./fit_vae.sh '3' 'vH16' 'poisson' 'conv+b|lin' --seed 1 --kl_beta 0.01 --temp_stop 0.1 --comment </span>\n",
       "<span style=\"color: #008000; text-decoration-color: #008000\">soft+t0.1+b0.01\"</span>,\n",
       "        <span style=\"color: #008000; text-decoration-color: #008000\">\"./fit_vae.sh '3' 'vH16' 'poisson' 'conv+b|lin' --seed 1 --kl_beta 0.2 --temp_stop 0.1 --comment </span>\n",
       "<span style=\"color: #008000; text-decoration-color: #008000\">soft+t0.1+b0.2\"</span>,\n",
       "        <span style=\"color: #008000; text-decoration-color: #008000\">\"./fit_vae.sh '3' 'vH16' 'poisson' 'conv+b|lin' --seed 1 --kl_beta 0.4 --temp_stop 0.1 --comment </span>\n",
       "<span style=\"color: #008000; text-decoration-color: #008000\">soft+t0.1+b0.4\"</span>,\n",
       "        <span style=\"color: #008000; text-decoration-color: #008000\">\"./fit_vae.sh '3' 'vH16' 'poisson' 'conv+b|lin' --seed 1 --kl_beta 0.6 --temp_stop 0.1 --comment </span>\n",
       "<span style=\"color: #008000; text-decoration-color: #008000\">soft+t0.1+b0.6\"</span>,\n",
       "        <span style=\"color: #008000; text-decoration-color: #008000\">\"./fit_vae.sh '3' 'vH16' 'poisson' 'conv+b|lin' --seed 1 --kl_beta 0.8 --temp_stop 0.1 --comment </span>\n",
       "<span style=\"color: #008000; text-decoration-color: #008000\">soft+t0.1+b0.8\"</span>,\n",
       "        <span style=\"color: #008000; text-decoration-color: #008000\">\"./fit_vae.sh '3' 'vH16' 'poisson' 'conv+b|lin' --seed 1 --kl_beta 1.0 --temp_stop 0.1 --comment </span>\n",
       "<span style=\"color: #008000; text-decoration-color: #008000\">soft+t0.1+b1\"</span>,\n",
       "        <span style=\"color: #008000; text-decoration-color: #008000\">\"./fit_vae.sh '3' 'vH16' 'poisson' 'conv+b|lin' --seed 1 --kl_beta 1.5 --temp_stop 0.1 --comment </span>\n",
       "<span style=\"color: #008000; text-decoration-color: #008000\">soft+t0.1+b1.5\"</span>,\n",
       "        <span style=\"color: #008000; text-decoration-color: #008000\">\"./fit_vae.sh '3' 'vH16' 'poisson' 'conv+b|lin' --seed 1 --kl_beta 4.0 --temp_stop 0.1 --comment </span>\n",
       "<span style=\"color: #008000; text-decoration-color: #008000\">soft+t0.1+b4\"</span>,\n",
       "        <span style=\"color: #008000; text-decoration-color: #008000\">\"./fit_vae.sh '3' 'vH16' 'poisson' 'conv+b|lin' --seed 2 --kl_beta 0.01 --temp_stop 0.1 --comment </span>\n",
       "<span style=\"color: #008000; text-decoration-color: #008000\">soft+t0.1+b0.01\"</span>,\n",
       "        <span style=\"color: #008000; text-decoration-color: #008000\">\"./fit_vae.sh '3' 'vH16' 'poisson' 'conv+b|lin' --seed 2 --kl_beta 0.2 --temp_stop 0.1 --comment </span>\n",
       "<span style=\"color: #008000; text-decoration-color: #008000\">soft+t0.1+b0.2\"</span>,\n",
       "        <span style=\"color: #008000; text-decoration-color: #008000\">\"./fit_vae.sh '3' 'vH16' 'poisson' 'conv+b|lin' --seed 2 --kl_beta 0.4 --temp_stop 0.1 --comment </span>\n",
       "<span style=\"color: #008000; text-decoration-color: #008000\">soft+t0.1+b0.4\"</span>,\n",
       "        <span style=\"color: #008000; text-decoration-color: #008000\">\"./fit_vae.sh '3' 'vH16' 'poisson' 'conv+b|lin' --seed 2 --kl_beta 0.6 --temp_stop 0.1 --comment </span>\n",
       "<span style=\"color: #008000; text-decoration-color: #008000\">soft+t0.1+b0.6\"</span>,\n",
       "        <span style=\"color: #008000; text-decoration-color: #008000\">\"./fit_vae.sh '3' 'vH16' 'poisson' 'conv+b|lin' --seed 2 --kl_beta 0.8 --temp_stop 0.1 --comment </span>\n",
       "<span style=\"color: #008000; text-decoration-color: #008000\">soft+t0.1+b0.8\"</span>,\n",
       "        <span style=\"color: #008000; text-decoration-color: #008000\">\"./fit_vae.sh '3' 'vH16' 'poisson' 'conv+b|lin' --seed 2 --kl_beta 1.0 --temp_stop 0.1 --comment </span>\n",
       "<span style=\"color: #008000; text-decoration-color: #008000\">soft+t0.1+b1\"</span>,\n",
       "        <span style=\"color: #008000; text-decoration-color: #008000\">\"./fit_vae.sh '3' 'vH16' 'poisson' 'conv+b|lin' --seed 2 --kl_beta 1.5 --temp_stop 0.1 --comment </span>\n",
       "<span style=\"color: #008000; text-decoration-color: #008000\">soft+t0.1+b1.5\"</span>,\n",
       "        <span style=\"color: #008000; text-decoration-color: #008000\">\"./fit_vae.sh '3' 'vH16' 'poisson' 'conv+b|lin' --seed 2 --kl_beta 4.0 --temp_stop 0.1 --comment </span>\n",
       "<span style=\"color: #008000; text-decoration-color: #008000\">soft+t0.1+b4\"</span>,\n",
       "        <span style=\"color: #008000; text-decoration-color: #008000\">\"./fit_vae.sh '3' 'vH16' 'poisson' 'conv+b|lin' --seed 3 --kl_beta 0.01 --temp_stop 0.1 --comment </span>\n",
       "<span style=\"color: #008000; text-decoration-color: #008000\">soft+t0.1+b0.01\"</span>,\n",
       "        <span style=\"color: #008000; text-decoration-color: #008000\">\"./fit_vae.sh '3' 'vH16' 'poisson' 'conv+b|lin' --seed 3 --kl_beta 0.2 --temp_stop 0.1 --comment </span>\n",
       "<span style=\"color: #008000; text-decoration-color: #008000\">soft+t0.1+b0.2\"</span>,\n",
       "        <span style=\"color: #008000; text-decoration-color: #008000\">\"./fit_vae.sh '3' 'vH16' 'poisson' 'conv+b|lin' --seed 3 --kl_beta 0.4 --temp_stop 0.1 --comment </span>\n",
       "<span style=\"color: #008000; text-decoration-color: #008000\">soft+t0.1+b0.4\"</span>,\n",
       "        <span style=\"color: #008000; text-decoration-color: #008000\">\"./fit_vae.sh '3' 'vH16' 'poisson' 'conv+b|lin' --seed 3 --kl_beta 0.6 --temp_stop 0.1 --comment </span>\n",
       "<span style=\"color: #008000; text-decoration-color: #008000\">soft+t0.1+b0.6\"</span>,\n",
       "        <span style=\"color: #008000; text-decoration-color: #008000\">\"./fit_vae.sh '3' 'vH16' 'poisson' 'conv+b|lin' --seed 3 --kl_beta 0.8 --temp_stop 0.1 --comment </span>\n",
       "<span style=\"color: #008000; text-decoration-color: #008000\">soft+t0.1+b0.8\"</span>,\n",
       "        <span style=\"color: #008000; text-decoration-color: #008000\">\"./fit_vae.sh '3' 'vH16' 'poisson' 'conv+b|lin' --seed 3 --kl_beta 1.0 --temp_stop 0.1 --comment </span>\n",
       "<span style=\"color: #008000; text-decoration-color: #008000\">soft+t0.1+b1\"</span>,\n",
       "        <span style=\"color: #008000; text-decoration-color: #008000\">\"./fit_vae.sh '3' 'vH16' 'poisson' 'conv+b|lin' --seed 3 --kl_beta 1.5 --temp_stop 0.1 --comment </span>\n",
       "<span style=\"color: #008000; text-decoration-color: #008000\">soft+t0.1+b1.5\"</span>,\n",
       "        <span style=\"color: #008000; text-decoration-color: #008000\">\"./fit_vae.sh '3' 'vH16' 'poisson' 'conv+b|lin' --seed 3 --kl_beta 4.0 --temp_stop 0.1 --comment </span>\n",
       "<span style=\"color: #008000; text-decoration-color: #008000\">soft+t0.1+b4\"</span>,\n",
       "        <span style=\"color: #008000; text-decoration-color: #008000\">\"./fit_vae.sh '3' 'vH16' 'poisson' 'conv+b|lin' --seed 4 --kl_beta 0.01 --temp_stop 0.1 --comment </span>\n",
       "<span style=\"color: #008000; text-decoration-color: #008000\">soft+t0.1+b0.01\"</span>,\n",
       "        <span style=\"color: #008000; text-decoration-color: #008000\">\"./fit_vae.sh '3' 'vH16' 'poisson' 'conv+b|lin' --seed 4 --kl_beta 0.2 --temp_stop 0.1 --comment </span>\n",
       "<span style=\"color: #008000; text-decoration-color: #008000\">soft+t0.1+b0.2\"</span>,\n",
       "        <span style=\"color: #008000; text-decoration-color: #008000\">\"./fit_vae.sh '3' 'vH16' 'poisson' 'conv+b|lin' --seed 4 --kl_beta 0.4 --temp_stop 0.1 --comment </span>\n",
       "<span style=\"color: #008000; text-decoration-color: #008000\">soft+t0.1+b0.4\"</span>,\n",
       "        <span style=\"color: #008000; text-decoration-color: #008000\">\"./fit_vae.sh '3' 'vH16' 'poisson' 'conv+b|lin' --seed 4 --kl_beta 0.6 --temp_stop 0.1 --comment </span>\n",
       "<span style=\"color: #008000; text-decoration-color: #008000\">soft+t0.1+b0.6\"</span>,\n",
       "        <span style=\"color: #008000; text-decoration-color: #008000\">\"./fit_vae.sh '3' 'vH16' 'poisson' 'conv+b|lin' --seed 4 --kl_beta 0.8 --temp_stop 0.1 --comment </span>\n",
       "<span style=\"color: #008000; text-decoration-color: #008000\">soft+t0.1+b0.8\"</span>,\n",
       "        <span style=\"color: #008000; text-decoration-color: #008000\">\"./fit_vae.sh '3' 'vH16' 'poisson' 'conv+b|lin' --seed 4 --kl_beta 1.0 --temp_stop 0.1 --comment </span>\n",
       "<span style=\"color: #008000; text-decoration-color: #008000\">soft+t0.1+b1\"</span>,\n",
       "        <span style=\"color: #008000; text-decoration-color: #008000\">\"./fit_vae.sh '3' 'vH16' 'poisson' 'conv+b|lin' --seed 4 --kl_beta 1.5 --temp_stop 0.1 --comment </span>\n",
       "<span style=\"color: #008000; text-decoration-color: #008000\">soft+t0.1+b1.5\"</span>,\n",
       "        <span style=\"color: #008000; text-decoration-color: #008000\">\"./fit_vae.sh '3' 'vH16' 'poisson' 'conv+b|lin' --seed 4 --kl_beta 4.0 --temp_stop 0.1 --comment </span>\n",
       "<span style=\"color: #008000; text-decoration-color: #008000\">soft+t0.1+b4\"</span>,\n",
       "        <span style=\"color: #008000; text-decoration-color: #008000\">\"./fit_vae.sh '3' 'vH16' 'poisson' 'conv+b|lin' --seed 5 --kl_beta 0.01 --temp_stop 0.1 --comment </span>\n",
       "<span style=\"color: #008000; text-decoration-color: #008000\">soft+t0.1+b0.01\"</span>,\n",
       "        <span style=\"color: #008000; text-decoration-color: #008000\">\"./fit_vae.sh '3' 'vH16' 'poisson' 'conv+b|lin' --seed 5 --kl_beta 0.2 --temp_stop 0.1 --comment </span>\n",
       "<span style=\"color: #008000; text-decoration-color: #008000\">soft+t0.1+b0.2\"</span>,\n",
       "        <span style=\"color: #008000; text-decoration-color: #008000\">\"./fit_vae.sh '3' 'vH16' 'poisson' 'conv+b|lin' --seed 5 --kl_beta 0.4 --temp_stop 0.1 --comment </span>\n",
       "<span style=\"color: #008000; text-decoration-color: #008000\">soft+t0.1+b0.4\"</span>,\n",
       "        <span style=\"color: #008000; text-decoration-color: #008000\">\"./fit_vae.sh '3' 'vH16' 'poisson' 'conv+b|lin' --seed 5 --kl_beta 0.6 --temp_stop 0.1 --comment </span>\n",
       "<span style=\"color: #008000; text-decoration-color: #008000\">soft+t0.1+b0.6\"</span>,\n",
       "        <span style=\"color: #008000; text-decoration-color: #008000\">\"./fit_vae.sh '3' 'vH16' 'poisson' 'conv+b|lin' --seed 5 --kl_beta 0.8 --temp_stop 0.1 --comment </span>\n",
       "<span style=\"color: #008000; text-decoration-color: #008000\">soft+t0.1+b0.8\"</span>,\n",
       "        <span style=\"color: #008000; text-decoration-color: #008000\">\"./fit_vae.sh '3' 'vH16' 'poisson' 'conv+b|lin' --seed 5 --kl_beta 1.0 --temp_stop 0.1 --comment </span>\n",
       "<span style=\"color: #008000; text-decoration-color: #008000\">soft+t0.1+b1\"</span>,\n",
       "        <span style=\"color: #008000; text-decoration-color: #008000\">\"./fit_vae.sh '3' 'vH16' 'poisson' 'conv+b|lin' --seed 5 --kl_beta 1.5 --temp_stop 0.1 --comment </span>\n",
       "<span style=\"color: #008000; text-decoration-color: #008000\">soft+t0.1+b1.5\"</span>,\n",
       "        <span style=\"color: #008000; text-decoration-color: #008000\">\"./fit_vae.sh '3' 'vH16' 'poisson' 'conv+b|lin' --seed 5 --kl_beta 4.0 --temp_stop 0.1 --comment </span>\n",
       "<span style=\"color: #008000; text-decoration-color: #008000\">soft+t0.1+b4\"</span>\n",
       "    <span style=\"font-weight: bold\">]</span>\n",
       "<span style=\"font-weight: bold\">}</span>\n",
       "</pre>\n"
      ],
      "text/plain": [
       "\u001b[1m{\u001b[0m\n",
       "    \u001b[1;36m0\u001b[0m: \u001b[1m[\u001b[0m\n",
       "        \u001b[32m\"./fit_vae.sh '0' 'vH16' 'poisson' 'lin|lin' --seed 1 --kl_beta 0.01 --temp_stop 0.05 --comment \u001b[0m\n",
       "\u001b[32msoft+t0.05+b0.01\"\u001b[0m,\n",
       "        \u001b[32m\"./fit_vae.sh '0' 'vH16' 'poisson' 'lin|lin' --seed 1 --kl_beta 0.2 --temp_stop 0.05 --comment \u001b[0m\n",
       "\u001b[32msoft+t0.05+b0.2\"\u001b[0m,\n",
       "        \u001b[32m\"./fit_vae.sh '0' 'vH16' 'poisson' 'lin|lin' --seed 1 --kl_beta 0.4 --temp_stop 0.05 --comment \u001b[0m\n",
       "\u001b[32msoft+t0.05+b0.4\"\u001b[0m,\n",
       "        \u001b[32m\"./fit_vae.sh '0' 'vH16' 'poisson' 'lin|lin' --seed 1 --kl_beta 0.6 --temp_stop 0.05 --comment \u001b[0m\n",
       "\u001b[32msoft+t0.05+b0.6\"\u001b[0m,\n",
       "        \u001b[32m\"./fit_vae.sh '0' 'vH16' 'poisson' 'lin|lin' --seed 1 --kl_beta 0.8 --temp_stop 0.05 --comment \u001b[0m\n",
       "\u001b[32msoft+t0.05+b0.8\"\u001b[0m,\n",
       "        \u001b[32m\"./fit_vae.sh '0' 'vH16' 'poisson' 'lin|lin' --seed 1 --kl_beta 1.0 --temp_stop 0.05 --comment \u001b[0m\n",
       "\u001b[32msoft+t0.05+b1\"\u001b[0m,\n",
       "        \u001b[32m\"./fit_vae.sh '0' 'vH16' 'poisson' 'lin|lin' --seed 1 --kl_beta 1.5 --temp_stop 0.05 --comment \u001b[0m\n",
       "\u001b[32msoft+t0.05+b1.5\"\u001b[0m,\n",
       "        \u001b[32m\"./fit_vae.sh '0' 'vH16' 'poisson' 'lin|lin' --seed 1 --kl_beta 4.0 --temp_stop 0.05 --comment \u001b[0m\n",
       "\u001b[32msoft+t0.05+b4\"\u001b[0m,\n",
       "        \u001b[32m\"./fit_vae.sh '0' 'vH16' 'poisson' 'lin|lin' --seed 2 --kl_beta 0.01 --temp_stop 0.05 --comment \u001b[0m\n",
       "\u001b[32msoft+t0.05+b0.01\"\u001b[0m,\n",
       "        \u001b[32m\"./fit_vae.sh '0' 'vH16' 'poisson' 'lin|lin' --seed 2 --kl_beta 0.2 --temp_stop 0.05 --comment \u001b[0m\n",
       "\u001b[32msoft+t0.05+b0.2\"\u001b[0m,\n",
       "        \u001b[32m\"./fit_vae.sh '0' 'vH16' 'poisson' 'lin|lin' --seed 2 --kl_beta 0.4 --temp_stop 0.05 --comment \u001b[0m\n",
       "\u001b[32msoft+t0.05+b0.4\"\u001b[0m,\n",
       "        \u001b[32m\"./fit_vae.sh '0' 'vH16' 'poisson' 'lin|lin' --seed 2 --kl_beta 0.6 --temp_stop 0.05 --comment \u001b[0m\n",
       "\u001b[32msoft+t0.05+b0.6\"\u001b[0m,\n",
       "        \u001b[32m\"./fit_vae.sh '0' 'vH16' 'poisson' 'lin|lin' --seed 2 --kl_beta 0.8 --temp_stop 0.05 --comment \u001b[0m\n",
       "\u001b[32msoft+t0.05+b0.8\"\u001b[0m,\n",
       "        \u001b[32m\"./fit_vae.sh '0' 'vH16' 'poisson' 'lin|lin' --seed 2 --kl_beta 1.0 --temp_stop 0.05 --comment \u001b[0m\n",
       "\u001b[32msoft+t0.05+b1\"\u001b[0m,\n",
       "        \u001b[32m\"./fit_vae.sh '0' 'vH16' 'poisson' 'lin|lin' --seed 2 --kl_beta 1.5 --temp_stop 0.05 --comment \u001b[0m\n",
       "\u001b[32msoft+t0.05+b1.5\"\u001b[0m,\n",
       "        \u001b[32m\"./fit_vae.sh '0' 'vH16' 'poisson' 'lin|lin' --seed 2 --kl_beta 4.0 --temp_stop 0.05 --comment \u001b[0m\n",
       "\u001b[32msoft+t0.05+b4\"\u001b[0m,\n",
       "        \u001b[32m\"./fit_vae.sh '0' 'vH16' 'poisson' 'lin|lin' --seed 3 --kl_beta 0.01 --temp_stop 0.05 --comment \u001b[0m\n",
       "\u001b[32msoft+t0.05+b0.01\"\u001b[0m,\n",
       "        \u001b[32m\"./fit_vae.sh '0' 'vH16' 'poisson' 'lin|lin' --seed 3 --kl_beta 0.2 --temp_stop 0.05 --comment \u001b[0m\n",
       "\u001b[32msoft+t0.05+b0.2\"\u001b[0m,\n",
       "        \u001b[32m\"./fit_vae.sh '0' 'vH16' 'poisson' 'lin|lin' --seed 3 --kl_beta 0.4 --temp_stop 0.05 --comment \u001b[0m\n",
       "\u001b[32msoft+t0.05+b0.4\"\u001b[0m,\n",
       "        \u001b[32m\"./fit_vae.sh '0' 'vH16' 'poisson' 'lin|lin' --seed 3 --kl_beta 0.6 --temp_stop 0.05 --comment \u001b[0m\n",
       "\u001b[32msoft+t0.05+b0.6\"\u001b[0m,\n",
       "        \u001b[32m\"./fit_vae.sh '0' 'vH16' 'poisson' 'lin|lin' --seed 3 --kl_beta 0.8 --temp_stop 0.05 --comment \u001b[0m\n",
       "\u001b[32msoft+t0.05+b0.8\"\u001b[0m,\n",
       "        \u001b[32m\"./fit_vae.sh '0' 'vH16' 'poisson' 'lin|lin' --seed 3 --kl_beta 1.0 --temp_stop 0.05 --comment \u001b[0m\n",
       "\u001b[32msoft+t0.05+b1\"\u001b[0m,\n",
       "        \u001b[32m\"./fit_vae.sh '0' 'vH16' 'poisson' 'lin|lin' --seed 3 --kl_beta 1.5 --temp_stop 0.05 --comment \u001b[0m\n",
       "\u001b[32msoft+t0.05+b1.5\"\u001b[0m,\n",
       "        \u001b[32m\"./fit_vae.sh '0' 'vH16' 'poisson' 'lin|lin' --seed 3 --kl_beta 4.0 --temp_stop 0.05 --comment \u001b[0m\n",
       "\u001b[32msoft+t0.05+b4\"\u001b[0m,\n",
       "        \u001b[32m\"./fit_vae.sh '0' 'vH16' 'poisson' 'lin|lin' --seed 4 --kl_beta 0.01 --temp_stop 0.05 --comment \u001b[0m\n",
       "\u001b[32msoft+t0.05+b0.01\"\u001b[0m,\n",
       "        \u001b[32m\"./fit_vae.sh '0' 'vH16' 'poisson' 'lin|lin' --seed 4 --kl_beta 0.2 --temp_stop 0.05 --comment \u001b[0m\n",
       "\u001b[32msoft+t0.05+b0.2\"\u001b[0m,\n",
       "        \u001b[32m\"./fit_vae.sh '0' 'vH16' 'poisson' 'lin|lin' --seed 4 --kl_beta 0.4 --temp_stop 0.05 --comment \u001b[0m\n",
       "\u001b[32msoft+t0.05+b0.4\"\u001b[0m,\n",
       "        \u001b[32m\"./fit_vae.sh '0' 'vH16' 'poisson' 'lin|lin' --seed 4 --kl_beta 0.6 --temp_stop 0.05 --comment \u001b[0m\n",
       "\u001b[32msoft+t0.05+b0.6\"\u001b[0m,\n",
       "        \u001b[32m\"./fit_vae.sh '0' 'vH16' 'poisson' 'lin|lin' --seed 4 --kl_beta 0.8 --temp_stop 0.05 --comment \u001b[0m\n",
       "\u001b[32msoft+t0.05+b0.8\"\u001b[0m,\n",
       "        \u001b[32m\"./fit_vae.sh '0' 'vH16' 'poisson' 'lin|lin' --seed 4 --kl_beta 1.0 --temp_stop 0.05 --comment \u001b[0m\n",
       "\u001b[32msoft+t0.05+b1\"\u001b[0m,\n",
       "        \u001b[32m\"./fit_vae.sh '0' 'vH16' 'poisson' 'lin|lin' --seed 4 --kl_beta 1.5 --temp_stop 0.05 --comment \u001b[0m\n",
       "\u001b[32msoft+t0.05+b1.5\"\u001b[0m,\n",
       "        \u001b[32m\"./fit_vae.sh '0' 'vH16' 'poisson' 'lin|lin' --seed 4 --kl_beta 4.0 --temp_stop 0.05 --comment \u001b[0m\n",
       "\u001b[32msoft+t0.05+b4\"\u001b[0m,\n",
       "        \u001b[32m\"./fit_vae.sh '0' 'vH16' 'poisson' 'lin|lin' --seed 5 --kl_beta 0.01 --temp_stop 0.05 --comment \u001b[0m\n",
       "\u001b[32msoft+t0.05+b0.01\"\u001b[0m,\n",
       "        \u001b[32m\"./fit_vae.sh '0' 'vH16' 'poisson' 'lin|lin' --seed 5 --kl_beta 0.2 --temp_stop 0.05 --comment \u001b[0m\n",
       "\u001b[32msoft+t0.05+b0.2\"\u001b[0m,\n",
       "        \u001b[32m\"./fit_vae.sh '0' 'vH16' 'poisson' 'lin|lin' --seed 5 --kl_beta 0.4 --temp_stop 0.05 --comment \u001b[0m\n",
       "\u001b[32msoft+t0.05+b0.4\"\u001b[0m,\n",
       "        \u001b[32m\"./fit_vae.sh '0' 'vH16' 'poisson' 'lin|lin' --seed 5 --kl_beta 0.6 --temp_stop 0.05 --comment \u001b[0m\n",
       "\u001b[32msoft+t0.05+b0.6\"\u001b[0m,\n",
       "        \u001b[32m\"./fit_vae.sh '0' 'vH16' 'poisson' 'lin|lin' --seed 5 --kl_beta 0.8 --temp_stop 0.05 --comment \u001b[0m\n",
       "\u001b[32msoft+t0.05+b0.8\"\u001b[0m,\n",
       "        \u001b[32m\"./fit_vae.sh '0' 'vH16' 'poisson' 'lin|lin' --seed 5 --kl_beta 1.0 --temp_stop 0.05 --comment \u001b[0m\n",
       "\u001b[32msoft+t0.05+b1\"\u001b[0m,\n",
       "        \u001b[32m\"./fit_vae.sh '0' 'vH16' 'poisson' 'lin|lin' --seed 5 --kl_beta 1.5 --temp_stop 0.05 --comment \u001b[0m\n",
       "\u001b[32msoft+t0.05+b1.5\"\u001b[0m,\n",
       "        \u001b[32m\"./fit_vae.sh '0' 'vH16' 'poisson' 'lin|lin' --seed 5 --kl_beta 4.0 --temp_stop 0.05 --comment \u001b[0m\n",
       "\u001b[32msoft+t0.05+b4\"\u001b[0m\n",
       "    \u001b[1m]\u001b[0m,\n",
       "    \u001b[1;36m1\u001b[0m: \u001b[1m[\u001b[0m\n",
       "        \u001b[32m\"./fit_vae.sh '1' 'vH16' 'poisson' 'lin|lin' --seed 1 --kl_beta 0.01 --temp_stop 0.1 --comment \u001b[0m\n",
       "\u001b[32msoft+t0.1+b0.01\"\u001b[0m,\n",
       "        \u001b[32m\"./fit_vae.sh '1' 'vH16' 'poisson' 'lin|lin' --seed 1 --kl_beta 0.2 --temp_stop 0.1 --comment \u001b[0m\n",
       "\u001b[32msoft+t0.1+b0.2\"\u001b[0m,\n",
       "        \u001b[32m\"./fit_vae.sh '1' 'vH16' 'poisson' 'lin|lin' --seed 1 --kl_beta 0.4 --temp_stop 0.1 --comment \u001b[0m\n",
       "\u001b[32msoft+t0.1+b0.4\"\u001b[0m,\n",
       "        \u001b[32m\"./fit_vae.sh '1' 'vH16' 'poisson' 'lin|lin' --seed 1 --kl_beta 0.6 --temp_stop 0.1 --comment \u001b[0m\n",
       "\u001b[32msoft+t0.1+b0.6\"\u001b[0m,\n",
       "        \u001b[32m\"./fit_vae.sh '1' 'vH16' 'poisson' 'lin|lin' --seed 1 --kl_beta 0.8 --temp_stop 0.1 --comment \u001b[0m\n",
       "\u001b[32msoft+t0.1+b0.8\"\u001b[0m,\n",
       "        \u001b[32m\"./fit_vae.sh '1' 'vH16' 'poisson' 'lin|lin' --seed 1 --kl_beta 1.0 --temp_stop 0.1 --comment \u001b[0m\n",
       "\u001b[32msoft+t0.1+b1\"\u001b[0m,\n",
       "        \u001b[32m\"./fit_vae.sh '1' 'vH16' 'poisson' 'lin|lin' --seed 1 --kl_beta 1.5 --temp_stop 0.1 --comment \u001b[0m\n",
       "\u001b[32msoft+t0.1+b1.5\"\u001b[0m,\n",
       "        \u001b[32m\"./fit_vae.sh '1' 'vH16' 'poisson' 'lin|lin' --seed 1 --kl_beta 4.0 --temp_stop 0.1 --comment \u001b[0m\n",
       "\u001b[32msoft+t0.1+b4\"\u001b[0m,\n",
       "        \u001b[32m\"./fit_vae.sh '1' 'vH16' 'poisson' 'lin|lin' --seed 2 --kl_beta 0.01 --temp_stop 0.1 --comment \u001b[0m\n",
       "\u001b[32msoft+t0.1+b0.01\"\u001b[0m,\n",
       "        \u001b[32m\"./fit_vae.sh '1' 'vH16' 'poisson' 'lin|lin' --seed 2 --kl_beta 0.2 --temp_stop 0.1 --comment \u001b[0m\n",
       "\u001b[32msoft+t0.1+b0.2\"\u001b[0m,\n",
       "        \u001b[32m\"./fit_vae.sh '1' 'vH16' 'poisson' 'lin|lin' --seed 2 --kl_beta 0.4 --temp_stop 0.1 --comment \u001b[0m\n",
       "\u001b[32msoft+t0.1+b0.4\"\u001b[0m,\n",
       "        \u001b[32m\"./fit_vae.sh '1' 'vH16' 'poisson' 'lin|lin' --seed 2 --kl_beta 0.6 --temp_stop 0.1 --comment \u001b[0m\n",
       "\u001b[32msoft+t0.1+b0.6\"\u001b[0m,\n",
       "        \u001b[32m\"./fit_vae.sh '1' 'vH16' 'poisson' 'lin|lin' --seed 2 --kl_beta 0.8 --temp_stop 0.1 --comment \u001b[0m\n",
       "\u001b[32msoft+t0.1+b0.8\"\u001b[0m,\n",
       "        \u001b[32m\"./fit_vae.sh '1' 'vH16' 'poisson' 'lin|lin' --seed 2 --kl_beta 1.0 --temp_stop 0.1 --comment \u001b[0m\n",
       "\u001b[32msoft+t0.1+b1\"\u001b[0m,\n",
       "        \u001b[32m\"./fit_vae.sh '1' 'vH16' 'poisson' 'lin|lin' --seed 2 --kl_beta 1.5 --temp_stop 0.1 --comment \u001b[0m\n",
       "\u001b[32msoft+t0.1+b1.5\"\u001b[0m,\n",
       "        \u001b[32m\"./fit_vae.sh '1' 'vH16' 'poisson' 'lin|lin' --seed 2 --kl_beta 4.0 --temp_stop 0.1 --comment \u001b[0m\n",
       "\u001b[32msoft+t0.1+b4\"\u001b[0m,\n",
       "        \u001b[32m\"./fit_vae.sh '1' 'vH16' 'poisson' 'lin|lin' --seed 3 --kl_beta 0.01 --temp_stop 0.1 --comment \u001b[0m\n",
       "\u001b[32msoft+t0.1+b0.01\"\u001b[0m,\n",
       "        \u001b[32m\"./fit_vae.sh '1' 'vH16' 'poisson' 'lin|lin' --seed 3 --kl_beta 0.2 --temp_stop 0.1 --comment \u001b[0m\n",
       "\u001b[32msoft+t0.1+b0.2\"\u001b[0m,\n",
       "        \u001b[32m\"./fit_vae.sh '1' 'vH16' 'poisson' 'lin|lin' --seed 3 --kl_beta 0.4 --temp_stop 0.1 --comment \u001b[0m\n",
       "\u001b[32msoft+t0.1+b0.4\"\u001b[0m,\n",
       "        \u001b[32m\"./fit_vae.sh '1' 'vH16' 'poisson' 'lin|lin' --seed 3 --kl_beta 0.6 --temp_stop 0.1 --comment \u001b[0m\n",
       "\u001b[32msoft+t0.1+b0.6\"\u001b[0m,\n",
       "        \u001b[32m\"./fit_vae.sh '1' 'vH16' 'poisson' 'lin|lin' --seed 3 --kl_beta 0.8 --temp_stop 0.1 --comment \u001b[0m\n",
       "\u001b[32msoft+t0.1+b0.8\"\u001b[0m,\n",
       "        \u001b[32m\"./fit_vae.sh '1' 'vH16' 'poisson' 'lin|lin' --seed 3 --kl_beta 1.0 --temp_stop 0.1 --comment \u001b[0m\n",
       "\u001b[32msoft+t0.1+b1\"\u001b[0m,\n",
       "        \u001b[32m\"./fit_vae.sh '1' 'vH16' 'poisson' 'lin|lin' --seed 3 --kl_beta 1.5 --temp_stop 0.1 --comment \u001b[0m\n",
       "\u001b[32msoft+t0.1+b1.5\"\u001b[0m,\n",
       "        \u001b[32m\"./fit_vae.sh '1' 'vH16' 'poisson' 'lin|lin' --seed 3 --kl_beta 4.0 --temp_stop 0.1 --comment \u001b[0m\n",
       "\u001b[32msoft+t0.1+b4\"\u001b[0m,\n",
       "        \u001b[32m\"./fit_vae.sh '1' 'vH16' 'poisson' 'lin|lin' --seed 4 --kl_beta 0.01 --temp_stop 0.1 --comment \u001b[0m\n",
       "\u001b[32msoft+t0.1+b0.01\"\u001b[0m,\n",
       "        \u001b[32m\"./fit_vae.sh '1' 'vH16' 'poisson' 'lin|lin' --seed 4 --kl_beta 0.2 --temp_stop 0.1 --comment \u001b[0m\n",
       "\u001b[32msoft+t0.1+b0.2\"\u001b[0m,\n",
       "        \u001b[32m\"./fit_vae.sh '1' 'vH16' 'poisson' 'lin|lin' --seed 4 --kl_beta 0.4 --temp_stop 0.1 --comment \u001b[0m\n",
       "\u001b[32msoft+t0.1+b0.4\"\u001b[0m,\n",
       "        \u001b[32m\"./fit_vae.sh '1' 'vH16' 'poisson' 'lin|lin' --seed 4 --kl_beta 0.6 --temp_stop 0.1 --comment \u001b[0m\n",
       "\u001b[32msoft+t0.1+b0.6\"\u001b[0m,\n",
       "        \u001b[32m\"./fit_vae.sh '1' 'vH16' 'poisson' 'lin|lin' --seed 4 --kl_beta 0.8 --temp_stop 0.1 --comment \u001b[0m\n",
       "\u001b[32msoft+t0.1+b0.8\"\u001b[0m,\n",
       "        \u001b[32m\"./fit_vae.sh '1' 'vH16' 'poisson' 'lin|lin' --seed 4 --kl_beta 1.0 --temp_stop 0.1 --comment \u001b[0m\n",
       "\u001b[32msoft+t0.1+b1\"\u001b[0m,\n",
       "        \u001b[32m\"./fit_vae.sh '1' 'vH16' 'poisson' 'lin|lin' --seed 4 --kl_beta 1.5 --temp_stop 0.1 --comment \u001b[0m\n",
       "\u001b[32msoft+t0.1+b1.5\"\u001b[0m,\n",
       "        \u001b[32m\"./fit_vae.sh '1' 'vH16' 'poisson' 'lin|lin' --seed 4 --kl_beta 4.0 --temp_stop 0.1 --comment \u001b[0m\n",
       "\u001b[32msoft+t0.1+b4\"\u001b[0m,\n",
       "        \u001b[32m\"./fit_vae.sh '1' 'vH16' 'poisson' 'lin|lin' --seed 5 --kl_beta 0.01 --temp_stop 0.1 --comment \u001b[0m\n",
       "\u001b[32msoft+t0.1+b0.01\"\u001b[0m,\n",
       "        \u001b[32m\"./fit_vae.sh '1' 'vH16' 'poisson' 'lin|lin' --seed 5 --kl_beta 0.2 --temp_stop 0.1 --comment \u001b[0m\n",
       "\u001b[32msoft+t0.1+b0.2\"\u001b[0m,\n",
       "        \u001b[32m\"./fit_vae.sh '1' 'vH16' 'poisson' 'lin|lin' --seed 5 --kl_beta 0.4 --temp_stop 0.1 --comment \u001b[0m\n",
       "\u001b[32msoft+t0.1+b0.4\"\u001b[0m,\n",
       "        \u001b[32m\"./fit_vae.sh '1' 'vH16' 'poisson' 'lin|lin' --seed 5 --kl_beta 0.6 --temp_stop 0.1 --comment \u001b[0m\n",
       "\u001b[32msoft+t0.1+b0.6\"\u001b[0m,\n",
       "        \u001b[32m\"./fit_vae.sh '1' 'vH16' 'poisson' 'lin|lin' --seed 5 --kl_beta 0.8 --temp_stop 0.1 --comment \u001b[0m\n",
       "\u001b[32msoft+t0.1+b0.8\"\u001b[0m,\n",
       "        \u001b[32m\"./fit_vae.sh '1' 'vH16' 'poisson' 'lin|lin' --seed 5 --kl_beta 1.0 --temp_stop 0.1 --comment \u001b[0m\n",
       "\u001b[32msoft+t0.1+b1\"\u001b[0m,\n",
       "        \u001b[32m\"./fit_vae.sh '1' 'vH16' 'poisson' 'lin|lin' --seed 5 --kl_beta 1.5 --temp_stop 0.1 --comment \u001b[0m\n",
       "\u001b[32msoft+t0.1+b1.5\"\u001b[0m,\n",
       "        \u001b[32m\"./fit_vae.sh '1' 'vH16' 'poisson' 'lin|lin' --seed 5 --kl_beta 4.0 --temp_stop 0.1 --comment soft+t0.1+b4\"\u001b[0m\n",
       "    \u001b[1m]\u001b[0m,\n",
       "    \u001b[1;36m2\u001b[0m: \u001b[1m[\u001b[0m\n",
       "        \u001b[32m\"./fit_vae.sh '2' 'vH16' 'poisson' 'conv+b|lin' --seed 1 --kl_beta 0.01 --temp_stop 0.05 --comment \u001b[0m\n",
       "\u001b[32msoft+t0.05+b0.01\"\u001b[0m,\n",
       "        \u001b[32m\"./fit_vae.sh '2' 'vH16' 'poisson' 'conv+b|lin' --seed 1 --kl_beta 0.2 --temp_stop 0.05 --comment \u001b[0m\n",
       "\u001b[32msoft+t0.05+b0.2\"\u001b[0m,\n",
       "        \u001b[32m\"./fit_vae.sh '2' 'vH16' 'poisson' 'conv+b|lin' --seed 1 --kl_beta 0.4 --temp_stop 0.05 --comment \u001b[0m\n",
       "\u001b[32msoft+t0.05+b0.4\"\u001b[0m,\n",
       "        \u001b[32m\"./fit_vae.sh '2' 'vH16' 'poisson' 'conv+b|lin' --seed 1 --kl_beta 0.6 --temp_stop 0.05 --comment \u001b[0m\n",
       "\u001b[32msoft+t0.05+b0.6\"\u001b[0m,\n",
       "        \u001b[32m\"./fit_vae.sh '2' 'vH16' 'poisson' 'conv+b|lin' --seed 1 --kl_beta 0.8 --temp_stop 0.05 --comment \u001b[0m\n",
       "\u001b[32msoft+t0.05+b0.8\"\u001b[0m,\n",
       "        \u001b[32m\"./fit_vae.sh '2' 'vH16' 'poisson' 'conv+b|lin' --seed 1 --kl_beta 1.0 --temp_stop 0.05 --comment \u001b[0m\n",
       "\u001b[32msoft+t0.05+b1\"\u001b[0m,\n",
       "        \u001b[32m\"./fit_vae.sh '2' 'vH16' 'poisson' 'conv+b|lin' --seed 1 --kl_beta 1.5 --temp_stop 0.05 --comment \u001b[0m\n",
       "\u001b[32msoft+t0.05+b1.5\"\u001b[0m,\n",
       "        \u001b[32m\"./fit_vae.sh '2' 'vH16' 'poisson' 'conv+b|lin' --seed 1 --kl_beta 4.0 --temp_stop 0.05 --comment \u001b[0m\n",
       "\u001b[32msoft+t0.05+b4\"\u001b[0m,\n",
       "        \u001b[32m\"./fit_vae.sh '2' 'vH16' 'poisson' 'conv+b|lin' --seed 2 --kl_beta 0.01 --temp_stop 0.05 --comment \u001b[0m\n",
       "\u001b[32msoft+t0.05+b0.01\"\u001b[0m,\n",
       "        \u001b[32m\"./fit_vae.sh '2' 'vH16' 'poisson' 'conv+b|lin' --seed 2 --kl_beta 0.2 --temp_stop 0.05 --comment \u001b[0m\n",
       "\u001b[32msoft+t0.05+b0.2\"\u001b[0m,\n",
       "        \u001b[32m\"./fit_vae.sh '2' 'vH16' 'poisson' 'conv+b|lin' --seed 2 --kl_beta 0.4 --temp_stop 0.05 --comment \u001b[0m\n",
       "\u001b[32msoft+t0.05+b0.4\"\u001b[0m,\n",
       "        \u001b[32m\"./fit_vae.sh '2' 'vH16' 'poisson' 'conv+b|lin' --seed 2 --kl_beta 0.6 --temp_stop 0.05 --comment \u001b[0m\n",
       "\u001b[32msoft+t0.05+b0.6\"\u001b[0m,\n",
       "        \u001b[32m\"./fit_vae.sh '2' 'vH16' 'poisson' 'conv+b|lin' --seed 2 --kl_beta 0.8 --temp_stop 0.05 --comment \u001b[0m\n",
       "\u001b[32msoft+t0.05+b0.8\"\u001b[0m,\n",
       "        \u001b[32m\"./fit_vae.sh '2' 'vH16' 'poisson' 'conv+b|lin' --seed 2 --kl_beta 1.0 --temp_stop 0.05 --comment \u001b[0m\n",
       "\u001b[32msoft+t0.05+b1\"\u001b[0m,\n",
       "        \u001b[32m\"./fit_vae.sh '2' 'vH16' 'poisson' 'conv+b|lin' --seed 2 --kl_beta 1.5 --temp_stop 0.05 --comment \u001b[0m\n",
       "\u001b[32msoft+t0.05+b1.5\"\u001b[0m,\n",
       "        \u001b[32m\"./fit_vae.sh '2' 'vH16' 'poisson' 'conv+b|lin' --seed 2 --kl_beta 4.0 --temp_stop 0.05 --comment \u001b[0m\n",
       "\u001b[32msoft+t0.05+b4\"\u001b[0m,\n",
       "        \u001b[32m\"./fit_vae.sh '2' 'vH16' 'poisson' 'conv+b|lin' --seed 3 --kl_beta 0.01 --temp_stop 0.05 --comment \u001b[0m\n",
       "\u001b[32msoft+t0.05+b0.01\"\u001b[0m,\n",
       "        \u001b[32m\"./fit_vae.sh '2' 'vH16' 'poisson' 'conv+b|lin' --seed 3 --kl_beta 0.2 --temp_stop 0.05 --comment \u001b[0m\n",
       "\u001b[32msoft+t0.05+b0.2\"\u001b[0m,\n",
       "        \u001b[32m\"./fit_vae.sh '2' 'vH16' 'poisson' 'conv+b|lin' --seed 3 --kl_beta 0.4 --temp_stop 0.05 --comment \u001b[0m\n",
       "\u001b[32msoft+t0.05+b0.4\"\u001b[0m,\n",
       "        \u001b[32m\"./fit_vae.sh '2' 'vH16' 'poisson' 'conv+b|lin' --seed 3 --kl_beta 0.6 --temp_stop 0.05 --comment \u001b[0m\n",
       "\u001b[32msoft+t0.05+b0.6\"\u001b[0m,\n",
       "        \u001b[32m\"./fit_vae.sh '2' 'vH16' 'poisson' 'conv+b|lin' --seed 3 --kl_beta 0.8 --temp_stop 0.05 --comment \u001b[0m\n",
       "\u001b[32msoft+t0.05+b0.8\"\u001b[0m,\n",
       "        \u001b[32m\"./fit_vae.sh '2' 'vH16' 'poisson' 'conv+b|lin' --seed 3 --kl_beta 1.0 --temp_stop 0.05 --comment \u001b[0m\n",
       "\u001b[32msoft+t0.05+b1\"\u001b[0m,\n",
       "        \u001b[32m\"./fit_vae.sh '2' 'vH16' 'poisson' 'conv+b|lin' --seed 3 --kl_beta 1.5 --temp_stop 0.05 --comment \u001b[0m\n",
       "\u001b[32msoft+t0.05+b1.5\"\u001b[0m,\n",
       "        \u001b[32m\"./fit_vae.sh '2' 'vH16' 'poisson' 'conv+b|lin' --seed 3 --kl_beta 4.0 --temp_stop 0.05 --comment \u001b[0m\n",
       "\u001b[32msoft+t0.05+b4\"\u001b[0m,\n",
       "        \u001b[32m\"./fit_vae.sh '2' 'vH16' 'poisson' 'conv+b|lin' --seed 4 --kl_beta 0.01 --temp_stop 0.05 --comment \u001b[0m\n",
       "\u001b[32msoft+t0.05+b0.01\"\u001b[0m,\n",
       "        \u001b[32m\"./fit_vae.sh '2' 'vH16' 'poisson' 'conv+b|lin' --seed 4 --kl_beta 0.2 --temp_stop 0.05 --comment \u001b[0m\n",
       "\u001b[32msoft+t0.05+b0.2\"\u001b[0m,\n",
       "        \u001b[32m\"./fit_vae.sh '2' 'vH16' 'poisson' 'conv+b|lin' --seed 4 --kl_beta 0.4 --temp_stop 0.05 --comment \u001b[0m\n",
       "\u001b[32msoft+t0.05+b0.4\"\u001b[0m,\n",
       "        \u001b[32m\"./fit_vae.sh '2' 'vH16' 'poisson' 'conv+b|lin' --seed 4 --kl_beta 0.6 --temp_stop 0.05 --comment \u001b[0m\n",
       "\u001b[32msoft+t0.05+b0.6\"\u001b[0m,\n",
       "        \u001b[32m\"./fit_vae.sh '2' 'vH16' 'poisson' 'conv+b|lin' --seed 4 --kl_beta 0.8 --temp_stop 0.05 --comment \u001b[0m\n",
       "\u001b[32msoft+t0.05+b0.8\"\u001b[0m,\n",
       "        \u001b[32m\"./fit_vae.sh '2' 'vH16' 'poisson' 'conv+b|lin' --seed 4 --kl_beta 1.0 --temp_stop 0.05 --comment \u001b[0m\n",
       "\u001b[32msoft+t0.05+b1\"\u001b[0m,\n",
       "        \u001b[32m\"./fit_vae.sh '2' 'vH16' 'poisson' 'conv+b|lin' --seed 4 --kl_beta 1.5 --temp_stop 0.05 --comment \u001b[0m\n",
       "\u001b[32msoft+t0.05+b1.5\"\u001b[0m,\n",
       "        \u001b[32m\"./fit_vae.sh '2' 'vH16' 'poisson' 'conv+b|lin' --seed 4 --kl_beta 4.0 --temp_stop 0.05 --comment \u001b[0m\n",
       "\u001b[32msoft+t0.05+b4\"\u001b[0m,\n",
       "        \u001b[32m\"./fit_vae.sh '2' 'vH16' 'poisson' 'conv+b|lin' --seed 5 --kl_beta 0.01 --temp_stop 0.05 --comment \u001b[0m\n",
       "\u001b[32msoft+t0.05+b0.01\"\u001b[0m,\n",
       "        \u001b[32m\"./fit_vae.sh '2' 'vH16' 'poisson' 'conv+b|lin' --seed 5 --kl_beta 0.2 --temp_stop 0.05 --comment \u001b[0m\n",
       "\u001b[32msoft+t0.05+b0.2\"\u001b[0m,\n",
       "        \u001b[32m\"./fit_vae.sh '2' 'vH16' 'poisson' 'conv+b|lin' --seed 5 --kl_beta 0.4 --temp_stop 0.05 --comment \u001b[0m\n",
       "\u001b[32msoft+t0.05+b0.4\"\u001b[0m,\n",
       "        \u001b[32m\"./fit_vae.sh '2' 'vH16' 'poisson' 'conv+b|lin' --seed 5 --kl_beta 0.6 --temp_stop 0.05 --comment \u001b[0m\n",
       "\u001b[32msoft+t0.05+b0.6\"\u001b[0m,\n",
       "        \u001b[32m\"./fit_vae.sh '2' 'vH16' 'poisson' 'conv+b|lin' --seed 5 --kl_beta 0.8 --temp_stop 0.05 --comment \u001b[0m\n",
       "\u001b[32msoft+t0.05+b0.8\"\u001b[0m,\n",
       "        \u001b[32m\"./fit_vae.sh '2' 'vH16' 'poisson' 'conv+b|lin' --seed 5 --kl_beta 1.0 --temp_stop 0.05 --comment \u001b[0m\n",
       "\u001b[32msoft+t0.05+b1\"\u001b[0m,\n",
       "        \u001b[32m\"./fit_vae.sh '2' 'vH16' 'poisson' 'conv+b|lin' --seed 5 --kl_beta 1.5 --temp_stop 0.05 --comment \u001b[0m\n",
       "\u001b[32msoft+t0.05+b1.5\"\u001b[0m,\n",
       "        \u001b[32m\"./fit_vae.sh '2' 'vH16' 'poisson' 'conv+b|lin' --seed 5 --kl_beta 4.0 --temp_stop 0.05 --comment \u001b[0m\n",
       "\u001b[32msoft+t0.05+b4\"\u001b[0m\n",
       "    \u001b[1m]\u001b[0m,\n",
       "    \u001b[1;36m3\u001b[0m: \u001b[1m[\u001b[0m\n",
       "        \u001b[32m\"./fit_vae.sh '3' 'vH16' 'poisson' 'conv+b|lin' --seed 1 --kl_beta 0.01 --temp_stop 0.1 --comment \u001b[0m\n",
       "\u001b[32msoft+t0.1+b0.01\"\u001b[0m,\n",
       "        \u001b[32m\"./fit_vae.sh '3' 'vH16' 'poisson' 'conv+b|lin' --seed 1 --kl_beta 0.2 --temp_stop 0.1 --comment \u001b[0m\n",
       "\u001b[32msoft+t0.1+b0.2\"\u001b[0m,\n",
       "        \u001b[32m\"./fit_vae.sh '3' 'vH16' 'poisson' 'conv+b|lin' --seed 1 --kl_beta 0.4 --temp_stop 0.1 --comment \u001b[0m\n",
       "\u001b[32msoft+t0.1+b0.4\"\u001b[0m,\n",
       "        \u001b[32m\"./fit_vae.sh '3' 'vH16' 'poisson' 'conv+b|lin' --seed 1 --kl_beta 0.6 --temp_stop 0.1 --comment \u001b[0m\n",
       "\u001b[32msoft+t0.1+b0.6\"\u001b[0m,\n",
       "        \u001b[32m\"./fit_vae.sh '3' 'vH16' 'poisson' 'conv+b|lin' --seed 1 --kl_beta 0.8 --temp_stop 0.1 --comment \u001b[0m\n",
       "\u001b[32msoft+t0.1+b0.8\"\u001b[0m,\n",
       "        \u001b[32m\"./fit_vae.sh '3' 'vH16' 'poisson' 'conv+b|lin' --seed 1 --kl_beta 1.0 --temp_stop 0.1 --comment \u001b[0m\n",
       "\u001b[32msoft+t0.1+b1\"\u001b[0m,\n",
       "        \u001b[32m\"./fit_vae.sh '3' 'vH16' 'poisson' 'conv+b|lin' --seed 1 --kl_beta 1.5 --temp_stop 0.1 --comment \u001b[0m\n",
       "\u001b[32msoft+t0.1+b1.5\"\u001b[0m,\n",
       "        \u001b[32m\"./fit_vae.sh '3' 'vH16' 'poisson' 'conv+b|lin' --seed 1 --kl_beta 4.0 --temp_stop 0.1 --comment \u001b[0m\n",
       "\u001b[32msoft+t0.1+b4\"\u001b[0m,\n",
       "        \u001b[32m\"./fit_vae.sh '3' 'vH16' 'poisson' 'conv+b|lin' --seed 2 --kl_beta 0.01 --temp_stop 0.1 --comment \u001b[0m\n",
       "\u001b[32msoft+t0.1+b0.01\"\u001b[0m,\n",
       "        \u001b[32m\"./fit_vae.sh '3' 'vH16' 'poisson' 'conv+b|lin' --seed 2 --kl_beta 0.2 --temp_stop 0.1 --comment \u001b[0m\n",
       "\u001b[32msoft+t0.1+b0.2\"\u001b[0m,\n",
       "        \u001b[32m\"./fit_vae.sh '3' 'vH16' 'poisson' 'conv+b|lin' --seed 2 --kl_beta 0.4 --temp_stop 0.1 --comment \u001b[0m\n",
       "\u001b[32msoft+t0.1+b0.4\"\u001b[0m,\n",
       "        \u001b[32m\"./fit_vae.sh '3' 'vH16' 'poisson' 'conv+b|lin' --seed 2 --kl_beta 0.6 --temp_stop 0.1 --comment \u001b[0m\n",
       "\u001b[32msoft+t0.1+b0.6\"\u001b[0m,\n",
       "        \u001b[32m\"./fit_vae.sh '3' 'vH16' 'poisson' 'conv+b|lin' --seed 2 --kl_beta 0.8 --temp_stop 0.1 --comment \u001b[0m\n",
       "\u001b[32msoft+t0.1+b0.8\"\u001b[0m,\n",
       "        \u001b[32m\"./fit_vae.sh '3' 'vH16' 'poisson' 'conv+b|lin' --seed 2 --kl_beta 1.0 --temp_stop 0.1 --comment \u001b[0m\n",
       "\u001b[32msoft+t0.1+b1\"\u001b[0m,\n",
       "        \u001b[32m\"./fit_vae.sh '3' 'vH16' 'poisson' 'conv+b|lin' --seed 2 --kl_beta 1.5 --temp_stop 0.1 --comment \u001b[0m\n",
       "\u001b[32msoft+t0.1+b1.5\"\u001b[0m,\n",
       "        \u001b[32m\"./fit_vae.sh '3' 'vH16' 'poisson' 'conv+b|lin' --seed 2 --kl_beta 4.0 --temp_stop 0.1 --comment \u001b[0m\n",
       "\u001b[32msoft+t0.1+b4\"\u001b[0m,\n",
       "        \u001b[32m\"./fit_vae.sh '3' 'vH16' 'poisson' 'conv+b|lin' --seed 3 --kl_beta 0.01 --temp_stop 0.1 --comment \u001b[0m\n",
       "\u001b[32msoft+t0.1+b0.01\"\u001b[0m,\n",
       "        \u001b[32m\"./fit_vae.sh '3' 'vH16' 'poisson' 'conv+b|lin' --seed 3 --kl_beta 0.2 --temp_stop 0.1 --comment \u001b[0m\n",
       "\u001b[32msoft+t0.1+b0.2\"\u001b[0m,\n",
       "        \u001b[32m\"./fit_vae.sh '3' 'vH16' 'poisson' 'conv+b|lin' --seed 3 --kl_beta 0.4 --temp_stop 0.1 --comment \u001b[0m\n",
       "\u001b[32msoft+t0.1+b0.4\"\u001b[0m,\n",
       "        \u001b[32m\"./fit_vae.sh '3' 'vH16' 'poisson' 'conv+b|lin' --seed 3 --kl_beta 0.6 --temp_stop 0.1 --comment \u001b[0m\n",
       "\u001b[32msoft+t0.1+b0.6\"\u001b[0m,\n",
       "        \u001b[32m\"./fit_vae.sh '3' 'vH16' 'poisson' 'conv+b|lin' --seed 3 --kl_beta 0.8 --temp_stop 0.1 --comment \u001b[0m\n",
       "\u001b[32msoft+t0.1+b0.8\"\u001b[0m,\n",
       "        \u001b[32m\"./fit_vae.sh '3' 'vH16' 'poisson' 'conv+b|lin' --seed 3 --kl_beta 1.0 --temp_stop 0.1 --comment \u001b[0m\n",
       "\u001b[32msoft+t0.1+b1\"\u001b[0m,\n",
       "        \u001b[32m\"./fit_vae.sh '3' 'vH16' 'poisson' 'conv+b|lin' --seed 3 --kl_beta 1.5 --temp_stop 0.1 --comment \u001b[0m\n",
       "\u001b[32msoft+t0.1+b1.5\"\u001b[0m,\n",
       "        \u001b[32m\"./fit_vae.sh '3' 'vH16' 'poisson' 'conv+b|lin' --seed 3 --kl_beta 4.0 --temp_stop 0.1 --comment \u001b[0m\n",
       "\u001b[32msoft+t0.1+b4\"\u001b[0m,\n",
       "        \u001b[32m\"./fit_vae.sh '3' 'vH16' 'poisson' 'conv+b|lin' --seed 4 --kl_beta 0.01 --temp_stop 0.1 --comment \u001b[0m\n",
       "\u001b[32msoft+t0.1+b0.01\"\u001b[0m,\n",
       "        \u001b[32m\"./fit_vae.sh '3' 'vH16' 'poisson' 'conv+b|lin' --seed 4 --kl_beta 0.2 --temp_stop 0.1 --comment \u001b[0m\n",
       "\u001b[32msoft+t0.1+b0.2\"\u001b[0m,\n",
       "        \u001b[32m\"./fit_vae.sh '3' 'vH16' 'poisson' 'conv+b|lin' --seed 4 --kl_beta 0.4 --temp_stop 0.1 --comment \u001b[0m\n",
       "\u001b[32msoft+t0.1+b0.4\"\u001b[0m,\n",
       "        \u001b[32m\"./fit_vae.sh '3' 'vH16' 'poisson' 'conv+b|lin' --seed 4 --kl_beta 0.6 --temp_stop 0.1 --comment \u001b[0m\n",
       "\u001b[32msoft+t0.1+b0.6\"\u001b[0m,\n",
       "        \u001b[32m\"./fit_vae.sh '3' 'vH16' 'poisson' 'conv+b|lin' --seed 4 --kl_beta 0.8 --temp_stop 0.1 --comment \u001b[0m\n",
       "\u001b[32msoft+t0.1+b0.8\"\u001b[0m,\n",
       "        \u001b[32m\"./fit_vae.sh '3' 'vH16' 'poisson' 'conv+b|lin' --seed 4 --kl_beta 1.0 --temp_stop 0.1 --comment \u001b[0m\n",
       "\u001b[32msoft+t0.1+b1\"\u001b[0m,\n",
       "        \u001b[32m\"./fit_vae.sh '3' 'vH16' 'poisson' 'conv+b|lin' --seed 4 --kl_beta 1.5 --temp_stop 0.1 --comment \u001b[0m\n",
       "\u001b[32msoft+t0.1+b1.5\"\u001b[0m,\n",
       "        \u001b[32m\"./fit_vae.sh '3' 'vH16' 'poisson' 'conv+b|lin' --seed 4 --kl_beta 4.0 --temp_stop 0.1 --comment \u001b[0m\n",
       "\u001b[32msoft+t0.1+b4\"\u001b[0m,\n",
       "        \u001b[32m\"./fit_vae.sh '3' 'vH16' 'poisson' 'conv+b|lin' --seed 5 --kl_beta 0.01 --temp_stop 0.1 --comment \u001b[0m\n",
       "\u001b[32msoft+t0.1+b0.01\"\u001b[0m,\n",
       "        \u001b[32m\"./fit_vae.sh '3' 'vH16' 'poisson' 'conv+b|lin' --seed 5 --kl_beta 0.2 --temp_stop 0.1 --comment \u001b[0m\n",
       "\u001b[32msoft+t0.1+b0.2\"\u001b[0m,\n",
       "        \u001b[32m\"./fit_vae.sh '3' 'vH16' 'poisson' 'conv+b|lin' --seed 5 --kl_beta 0.4 --temp_stop 0.1 --comment \u001b[0m\n",
       "\u001b[32msoft+t0.1+b0.4\"\u001b[0m,\n",
       "        \u001b[32m\"./fit_vae.sh '3' 'vH16' 'poisson' 'conv+b|lin' --seed 5 --kl_beta 0.6 --temp_stop 0.1 --comment \u001b[0m\n",
       "\u001b[32msoft+t0.1+b0.6\"\u001b[0m,\n",
       "        \u001b[32m\"./fit_vae.sh '3' 'vH16' 'poisson' 'conv+b|lin' --seed 5 --kl_beta 0.8 --temp_stop 0.1 --comment \u001b[0m\n",
       "\u001b[32msoft+t0.1+b0.8\"\u001b[0m,\n",
       "        \u001b[32m\"./fit_vae.sh '3' 'vH16' 'poisson' 'conv+b|lin' --seed 5 --kl_beta 1.0 --temp_stop 0.1 --comment \u001b[0m\n",
       "\u001b[32msoft+t0.1+b1\"\u001b[0m,\n",
       "        \u001b[32m\"./fit_vae.sh '3' 'vH16' 'poisson' 'conv+b|lin' --seed 5 --kl_beta 1.5 --temp_stop 0.1 --comment \u001b[0m\n",
       "\u001b[32msoft+t0.1+b1.5\"\u001b[0m,\n",
       "        \u001b[32m\"./fit_vae.sh '3' 'vH16' 'poisson' 'conv+b|lin' --seed 5 --kl_beta 4.0 --temp_stop 0.1 --comment \u001b[0m\n",
       "\u001b[32msoft+t0.1+b4\"\u001b[0m\n",
       "    \u001b[1m]\u001b[0m\n",
       "\u001b[1m}\u001b[0m\n"
      ]
     },
     "metadata": {},
     "output_type": "display_data"
    }
   ],
   "source": [
    "print(scripts_mach)"
   ]
  },
  {
   "cell_type": "code",
   "execution_count": null,
   "id": "d603c4e7-e654-489a-a4d6-fc5963e0a847",
   "metadata": {},
   "outputs": [],
   "source": []
  },
  {
   "cell_type": "code",
   "execution_count": 12,
   "id": "40821d16-9de7-4fbd-9db3-98fe7b429479",
   "metadata": {},
   "outputs": [
    {
     "data": {
      "text/html": [
       "<pre style=\"white-space:pre;overflow-x:auto;line-height:normal;font-family:Menlo,'DejaVu Sans Mono',consolas,'Courier New',monospace\"><span style=\"font-weight: bold\">[</span>\n",
       "    <span style=\"font-weight: bold\">[</span>\n",
       "        <span style=\"color: #008000; text-decoration-color: #008000\">\"./fit_vae.sh '3' 'vH16' 'poisson' 'conv+b|lin' --seed 1 --kl_beta 0.01 --temp_stop 0.1 --comment </span>\n",
       "<span style=\"color: #008000; text-decoration-color: #008000\">soft+t0.1+b0.01\"</span>,\n",
       "        <span style=\"color: #008000; text-decoration-color: #008000\">\"./fit_vae.sh '3' 'vH16' 'poisson' 'conv+b|lin' --seed 1 --kl_beta 0.2 --temp_stop 0.1 --comment </span>\n",
       "<span style=\"color: #008000; text-decoration-color: #008000\">soft+t0.1+b0.2\"</span>,\n",
       "        <span style=\"color: #008000; text-decoration-color: #008000\">\"./fit_vae.sh '3' 'vH16' 'poisson' 'conv+b|lin' --seed 1 --kl_beta 0.4 --temp_stop 0.1 --comment </span>\n",
       "<span style=\"color: #008000; text-decoration-color: #008000\">soft+t0.1+b0.4\"</span>,\n",
       "        <span style=\"color: #008000; text-decoration-color: #008000\">\"./fit_vae.sh '3' 'vH16' 'poisson' 'conv+b|lin' --seed 1 --kl_beta 0.6 --temp_stop 0.1 --comment </span>\n",
       "<span style=\"color: #008000; text-decoration-color: #008000\">soft+t0.1+b0.6\"</span>,\n",
       "        <span style=\"color: #008000; text-decoration-color: #008000\">\"./fit_vae.sh '3' 'vH16' 'poisson' 'conv+b|lin' --seed 1 --kl_beta 0.8 --temp_stop 0.1 --comment </span>\n",
       "<span style=\"color: #008000; text-decoration-color: #008000\">soft+t0.1+b0.8\"</span>\n",
       "    <span style=\"font-weight: bold\">]</span>,\n",
       "    <span style=\"font-weight: bold\">[</span>\n",
       "        <span style=\"color: #008000; text-decoration-color: #008000\">\"./fit_vae.sh '3' 'vH16' 'poisson' 'conv+b|lin' --seed 1 --kl_beta 1.0 --temp_stop 0.1 --comment </span>\n",
       "<span style=\"color: #008000; text-decoration-color: #008000\">soft+t0.1+b1\"</span>,\n",
       "        <span style=\"color: #008000; text-decoration-color: #008000\">\"./fit_vae.sh '3' 'vH16' 'poisson' 'conv+b|lin' --seed 1 --kl_beta 1.5 --temp_stop 0.1 --comment </span>\n",
       "<span style=\"color: #008000; text-decoration-color: #008000\">soft+t0.1+b1.5\"</span>,\n",
       "        <span style=\"color: #008000; text-decoration-color: #008000\">\"./fit_vae.sh '3' 'vH16' 'poisson' 'conv+b|lin' --seed 1 --kl_beta 4.0 --temp_stop 0.1 --comment </span>\n",
       "<span style=\"color: #008000; text-decoration-color: #008000\">soft+t0.1+b4\"</span>,\n",
       "        <span style=\"color: #008000; text-decoration-color: #008000\">\"./fit_vae.sh '3' 'vH16' 'poisson' 'conv+b|lin' --seed 2 --kl_beta 0.01 --temp_stop 0.1 --comment </span>\n",
       "<span style=\"color: #008000; text-decoration-color: #008000\">soft+t0.1+b0.01\"</span>,\n",
       "        <span style=\"color: #008000; text-decoration-color: #008000\">\"./fit_vae.sh '3' 'vH16' 'poisson' 'conv+b|lin' --seed 2 --kl_beta 0.2 --temp_stop 0.1 --comment </span>\n",
       "<span style=\"color: #008000; text-decoration-color: #008000\">soft+t0.1+b0.2\"</span>\n",
       "    <span style=\"font-weight: bold\">]</span>,\n",
       "    <span style=\"font-weight: bold\">[</span>\n",
       "        <span style=\"color: #008000; text-decoration-color: #008000\">\"./fit_vae.sh '3' 'vH16' 'poisson' 'conv+b|lin' --seed 2 --kl_beta 0.4 --temp_stop 0.1 --comment </span>\n",
       "<span style=\"color: #008000; text-decoration-color: #008000\">soft+t0.1+b0.4\"</span>,\n",
       "        <span style=\"color: #008000; text-decoration-color: #008000\">\"./fit_vae.sh '3' 'vH16' 'poisson' 'conv+b|lin' --seed 2 --kl_beta 0.6 --temp_stop 0.1 --comment </span>\n",
       "<span style=\"color: #008000; text-decoration-color: #008000\">soft+t0.1+b0.6\"</span>,\n",
       "        <span style=\"color: #008000; text-decoration-color: #008000\">\"./fit_vae.sh '3' 'vH16' 'poisson' 'conv+b|lin' --seed 2 --kl_beta 0.8 --temp_stop 0.1 --comment </span>\n",
       "<span style=\"color: #008000; text-decoration-color: #008000\">soft+t0.1+b0.8\"</span>,\n",
       "        <span style=\"color: #008000; text-decoration-color: #008000\">\"./fit_vae.sh '3' 'vH16' 'poisson' 'conv+b|lin' --seed 2 --kl_beta 1.0 --temp_stop 0.1 --comment </span>\n",
       "<span style=\"color: #008000; text-decoration-color: #008000\">soft+t0.1+b1\"</span>,\n",
       "        <span style=\"color: #008000; text-decoration-color: #008000\">\"./fit_vae.sh '3' 'vH16' 'poisson' 'conv+b|lin' --seed 2 --kl_beta 1.5 --temp_stop 0.1 --comment </span>\n",
       "<span style=\"color: #008000; text-decoration-color: #008000\">soft+t0.1+b1.5\"</span>\n",
       "    <span style=\"font-weight: bold\">]</span>,\n",
       "    <span style=\"font-weight: bold\">[</span>\n",
       "        <span style=\"color: #008000; text-decoration-color: #008000\">\"./fit_vae.sh '3' 'vH16' 'poisson' 'conv+b|lin' --seed 2 --kl_beta 4.0 --temp_stop 0.1 --comment </span>\n",
       "<span style=\"color: #008000; text-decoration-color: #008000\">soft+t0.1+b4\"</span>,\n",
       "        <span style=\"color: #008000; text-decoration-color: #008000\">\"./fit_vae.sh '3' 'vH16' 'poisson' 'conv+b|lin' --seed 3 --kl_beta 0.01 --temp_stop 0.1 --comment </span>\n",
       "<span style=\"color: #008000; text-decoration-color: #008000\">soft+t0.1+b0.01\"</span>,\n",
       "        <span style=\"color: #008000; text-decoration-color: #008000\">\"./fit_vae.sh '3' 'vH16' 'poisson' 'conv+b|lin' --seed 3 --kl_beta 0.2 --temp_stop 0.1 --comment </span>\n",
       "<span style=\"color: #008000; text-decoration-color: #008000\">soft+t0.1+b0.2\"</span>,\n",
       "        <span style=\"color: #008000; text-decoration-color: #008000\">\"./fit_vae.sh '3' 'vH16' 'poisson' 'conv+b|lin' --seed 3 --kl_beta 0.4 --temp_stop 0.1 --comment </span>\n",
       "<span style=\"color: #008000; text-decoration-color: #008000\">soft+t0.1+b0.4\"</span>,\n",
       "        <span style=\"color: #008000; text-decoration-color: #008000\">\"./fit_vae.sh '3' 'vH16' 'poisson' 'conv+b|lin' --seed 3 --kl_beta 0.6 --temp_stop 0.1 --comment </span>\n",
       "<span style=\"color: #008000; text-decoration-color: #008000\">soft+t0.1+b0.6\"</span>\n",
       "    <span style=\"font-weight: bold\">]</span>,\n",
       "    <span style=\"font-weight: bold\">[</span>\n",
       "        <span style=\"color: #008000; text-decoration-color: #008000\">\"./fit_vae.sh '3' 'vH16' 'poisson' 'conv+b|lin' --seed 3 --kl_beta 0.8 --temp_stop 0.1 --comment </span>\n",
       "<span style=\"color: #008000; text-decoration-color: #008000\">soft+t0.1+b0.8\"</span>,\n",
       "        <span style=\"color: #008000; text-decoration-color: #008000\">\"./fit_vae.sh '3' 'vH16' 'poisson' 'conv+b|lin' --seed 3 --kl_beta 1.0 --temp_stop 0.1 --comment </span>\n",
       "<span style=\"color: #008000; text-decoration-color: #008000\">soft+t0.1+b1\"</span>,\n",
       "        <span style=\"color: #008000; text-decoration-color: #008000\">\"./fit_vae.sh '3' 'vH16' 'poisson' 'conv+b|lin' --seed 3 --kl_beta 1.5 --temp_stop 0.1 --comment </span>\n",
       "<span style=\"color: #008000; text-decoration-color: #008000\">soft+t0.1+b1.5\"</span>,\n",
       "        <span style=\"color: #008000; text-decoration-color: #008000\">\"./fit_vae.sh '3' 'vH16' 'poisson' 'conv+b|lin' --seed 3 --kl_beta 4.0 --temp_stop 0.1 --comment </span>\n",
       "<span style=\"color: #008000; text-decoration-color: #008000\">soft+t0.1+b4\"</span>,\n",
       "        <span style=\"color: #008000; text-decoration-color: #008000\">\"./fit_vae.sh '3' 'vH16' 'poisson' 'conv+b|lin' --seed 4 --kl_beta 0.01 --temp_stop 0.1 --comment </span>\n",
       "<span style=\"color: #008000; text-decoration-color: #008000\">soft+t0.1+b0.01\"</span>\n",
       "    <span style=\"font-weight: bold\">]</span>,\n",
       "    <span style=\"font-weight: bold\">[</span>\n",
       "        <span style=\"color: #008000; text-decoration-color: #008000\">\"./fit_vae.sh '3' 'vH16' 'poisson' 'conv+b|lin' --seed 4 --kl_beta 0.2 --temp_stop 0.1 --comment </span>\n",
       "<span style=\"color: #008000; text-decoration-color: #008000\">soft+t0.1+b0.2\"</span>,\n",
       "        <span style=\"color: #008000; text-decoration-color: #008000\">\"./fit_vae.sh '3' 'vH16' 'poisson' 'conv+b|lin' --seed 4 --kl_beta 0.4 --temp_stop 0.1 --comment </span>\n",
       "<span style=\"color: #008000; text-decoration-color: #008000\">soft+t0.1+b0.4\"</span>,\n",
       "        <span style=\"color: #008000; text-decoration-color: #008000\">\"./fit_vae.sh '3' 'vH16' 'poisson' 'conv+b|lin' --seed 4 --kl_beta 0.6 --temp_stop 0.1 --comment </span>\n",
       "<span style=\"color: #008000; text-decoration-color: #008000\">soft+t0.1+b0.6\"</span>,\n",
       "        <span style=\"color: #008000; text-decoration-color: #008000\">\"./fit_vae.sh '3' 'vH16' 'poisson' 'conv+b|lin' --seed 4 --kl_beta 0.8 --temp_stop 0.1 --comment </span>\n",
       "<span style=\"color: #008000; text-decoration-color: #008000\">soft+t0.1+b0.8\"</span>,\n",
       "        <span style=\"color: #008000; text-decoration-color: #008000\">\"./fit_vae.sh '3' 'vH16' 'poisson' 'conv+b|lin' --seed 4 --kl_beta 1.0 --temp_stop 0.1 --comment </span>\n",
       "<span style=\"color: #008000; text-decoration-color: #008000\">soft+t0.1+b1\"</span>\n",
       "    <span style=\"font-weight: bold\">]</span>,\n",
       "    <span style=\"font-weight: bold\">[</span>\n",
       "        <span style=\"color: #008000; text-decoration-color: #008000\">\"./fit_vae.sh '3' 'vH16' 'poisson' 'conv+b|lin' --seed 4 --kl_beta 1.5 --temp_stop 0.1 --comment </span>\n",
       "<span style=\"color: #008000; text-decoration-color: #008000\">soft+t0.1+b1.5\"</span>,\n",
       "        <span style=\"color: #008000; text-decoration-color: #008000\">\"./fit_vae.sh '3' 'vH16' 'poisson' 'conv+b|lin' --seed 4 --kl_beta 4.0 --temp_stop 0.1 --comment </span>\n",
       "<span style=\"color: #008000; text-decoration-color: #008000\">soft+t0.1+b4\"</span>,\n",
       "        <span style=\"color: #008000; text-decoration-color: #008000\">\"./fit_vae.sh '3' 'vH16' 'poisson' 'conv+b|lin' --seed 5 --kl_beta 0.01 --temp_stop 0.1 --comment </span>\n",
       "<span style=\"color: #008000; text-decoration-color: #008000\">soft+t0.1+b0.01\"</span>,\n",
       "        <span style=\"color: #008000; text-decoration-color: #008000\">\"./fit_vae.sh '3' 'vH16' 'poisson' 'conv+b|lin' --seed 5 --kl_beta 0.2 --temp_stop 0.1 --comment </span>\n",
       "<span style=\"color: #008000; text-decoration-color: #008000\">soft+t0.1+b0.2\"</span>,\n",
       "        <span style=\"color: #008000; text-decoration-color: #008000\">\"./fit_vae.sh '3' 'vH16' 'poisson' 'conv+b|lin' --seed 5 --kl_beta 0.4 --temp_stop 0.1 --comment </span>\n",
       "<span style=\"color: #008000; text-decoration-color: #008000\">soft+t0.1+b0.4\"</span>\n",
       "    <span style=\"font-weight: bold\">]</span>,\n",
       "    <span style=\"font-weight: bold\">[</span>\n",
       "        <span style=\"color: #008000; text-decoration-color: #008000\">\"./fit_vae.sh '3' 'vH16' 'poisson' 'conv+b|lin' --seed 5 --kl_beta 0.6 --temp_stop 0.1 --comment </span>\n",
       "<span style=\"color: #008000; text-decoration-color: #008000\">soft+t0.1+b0.6\"</span>,\n",
       "        <span style=\"color: #008000; text-decoration-color: #008000\">\"./fit_vae.sh '3' 'vH16' 'poisson' 'conv+b|lin' --seed 5 --kl_beta 0.8 --temp_stop 0.1 --comment </span>\n",
       "<span style=\"color: #008000; text-decoration-color: #008000\">soft+t0.1+b0.8\"</span>,\n",
       "        <span style=\"color: #008000; text-decoration-color: #008000\">\"./fit_vae.sh '3' 'vH16' 'poisson' 'conv+b|lin' --seed 5 --kl_beta 1.0 --temp_stop 0.1 --comment </span>\n",
       "<span style=\"color: #008000; text-decoration-color: #008000\">soft+t0.1+b1\"</span>,\n",
       "        <span style=\"color: #008000; text-decoration-color: #008000\">\"./fit_vae.sh '3' 'vH16' 'poisson' 'conv+b|lin' --seed 5 --kl_beta 1.5 --temp_stop 0.1 --comment </span>\n",
       "<span style=\"color: #008000; text-decoration-color: #008000\">soft+t0.1+b1.5\"</span>,\n",
       "        <span style=\"color: #008000; text-decoration-color: #008000\">\"./fit_vae.sh '3' 'vH16' 'poisson' 'conv+b|lin' --seed 5 --kl_beta 4.0 --temp_stop 0.1 --comment </span>\n",
       "<span style=\"color: #008000; text-decoration-color: #008000\">soft+t0.1+b4\"</span>\n",
       "    <span style=\"font-weight: bold\">]</span>\n",
       "<span style=\"font-weight: bold\">]</span>\n",
       "</pre>\n"
      ],
      "text/plain": [
       "\u001b[1m[\u001b[0m\n",
       "    \u001b[1m[\u001b[0m\n",
       "        \u001b[32m\"./fit_vae.sh '3' 'vH16' 'poisson' 'conv+b|lin' --seed 1 --kl_beta 0.01 --temp_stop 0.1 --comment \u001b[0m\n",
       "\u001b[32msoft+t0.1+b0.01\"\u001b[0m,\n",
       "        \u001b[32m\"./fit_vae.sh '3' 'vH16' 'poisson' 'conv+b|lin' --seed 1 --kl_beta 0.2 --temp_stop 0.1 --comment \u001b[0m\n",
       "\u001b[32msoft+t0.1+b0.2\"\u001b[0m,\n",
       "        \u001b[32m\"./fit_vae.sh '3' 'vH16' 'poisson' 'conv+b|lin' --seed 1 --kl_beta 0.4 --temp_stop 0.1 --comment \u001b[0m\n",
       "\u001b[32msoft+t0.1+b0.4\"\u001b[0m,\n",
       "        \u001b[32m\"./fit_vae.sh '3' 'vH16' 'poisson' 'conv+b|lin' --seed 1 --kl_beta 0.6 --temp_stop 0.1 --comment \u001b[0m\n",
       "\u001b[32msoft+t0.1+b0.6\"\u001b[0m,\n",
       "        \u001b[32m\"./fit_vae.sh '3' 'vH16' 'poisson' 'conv+b|lin' --seed 1 --kl_beta 0.8 --temp_stop 0.1 --comment \u001b[0m\n",
       "\u001b[32msoft+t0.1+b0.8\"\u001b[0m\n",
       "    \u001b[1m]\u001b[0m,\n",
       "    \u001b[1m[\u001b[0m\n",
       "        \u001b[32m\"./fit_vae.sh '3' 'vH16' 'poisson' 'conv+b|lin' --seed 1 --kl_beta 1.0 --temp_stop 0.1 --comment \u001b[0m\n",
       "\u001b[32msoft+t0.1+b1\"\u001b[0m,\n",
       "        \u001b[32m\"./fit_vae.sh '3' 'vH16' 'poisson' 'conv+b|lin' --seed 1 --kl_beta 1.5 --temp_stop 0.1 --comment \u001b[0m\n",
       "\u001b[32msoft+t0.1+b1.5\"\u001b[0m,\n",
       "        \u001b[32m\"./fit_vae.sh '3' 'vH16' 'poisson' 'conv+b|lin' --seed 1 --kl_beta 4.0 --temp_stop 0.1 --comment \u001b[0m\n",
       "\u001b[32msoft+t0.1+b4\"\u001b[0m,\n",
       "        \u001b[32m\"./fit_vae.sh '3' 'vH16' 'poisson' 'conv+b|lin' --seed 2 --kl_beta 0.01 --temp_stop 0.1 --comment \u001b[0m\n",
       "\u001b[32msoft+t0.1+b0.01\"\u001b[0m,\n",
       "        \u001b[32m\"./fit_vae.sh '3' 'vH16' 'poisson' 'conv+b|lin' --seed 2 --kl_beta 0.2 --temp_stop 0.1 --comment \u001b[0m\n",
       "\u001b[32msoft+t0.1+b0.2\"\u001b[0m\n",
       "    \u001b[1m]\u001b[0m,\n",
       "    \u001b[1m[\u001b[0m\n",
       "        \u001b[32m\"./fit_vae.sh '3' 'vH16' 'poisson' 'conv+b|lin' --seed 2 --kl_beta 0.4 --temp_stop 0.1 --comment \u001b[0m\n",
       "\u001b[32msoft+t0.1+b0.4\"\u001b[0m,\n",
       "        \u001b[32m\"./fit_vae.sh '3' 'vH16' 'poisson' 'conv+b|lin' --seed 2 --kl_beta 0.6 --temp_stop 0.1 --comment \u001b[0m\n",
       "\u001b[32msoft+t0.1+b0.6\"\u001b[0m,\n",
       "        \u001b[32m\"./fit_vae.sh '3' 'vH16' 'poisson' 'conv+b|lin' --seed 2 --kl_beta 0.8 --temp_stop 0.1 --comment \u001b[0m\n",
       "\u001b[32msoft+t0.1+b0.8\"\u001b[0m,\n",
       "        \u001b[32m\"./fit_vae.sh '3' 'vH16' 'poisson' 'conv+b|lin' --seed 2 --kl_beta 1.0 --temp_stop 0.1 --comment \u001b[0m\n",
       "\u001b[32msoft+t0.1+b1\"\u001b[0m,\n",
       "        \u001b[32m\"./fit_vae.sh '3' 'vH16' 'poisson' 'conv+b|lin' --seed 2 --kl_beta 1.5 --temp_stop 0.1 --comment \u001b[0m\n",
       "\u001b[32msoft+t0.1+b1.5\"\u001b[0m\n",
       "    \u001b[1m]\u001b[0m,\n",
       "    \u001b[1m[\u001b[0m\n",
       "        \u001b[32m\"./fit_vae.sh '3' 'vH16' 'poisson' 'conv+b|lin' --seed 2 --kl_beta 4.0 --temp_stop 0.1 --comment \u001b[0m\n",
       "\u001b[32msoft+t0.1+b4\"\u001b[0m,\n",
       "        \u001b[32m\"./fit_vae.sh '3' 'vH16' 'poisson' 'conv+b|lin' --seed 3 --kl_beta 0.01 --temp_stop 0.1 --comment \u001b[0m\n",
       "\u001b[32msoft+t0.1+b0.01\"\u001b[0m,\n",
       "        \u001b[32m\"./fit_vae.sh '3' 'vH16' 'poisson' 'conv+b|lin' --seed 3 --kl_beta 0.2 --temp_stop 0.1 --comment \u001b[0m\n",
       "\u001b[32msoft+t0.1+b0.2\"\u001b[0m,\n",
       "        \u001b[32m\"./fit_vae.sh '3' 'vH16' 'poisson' 'conv+b|lin' --seed 3 --kl_beta 0.4 --temp_stop 0.1 --comment \u001b[0m\n",
       "\u001b[32msoft+t0.1+b0.4\"\u001b[0m,\n",
       "        \u001b[32m\"./fit_vae.sh '3' 'vH16' 'poisson' 'conv+b|lin' --seed 3 --kl_beta 0.6 --temp_stop 0.1 --comment \u001b[0m\n",
       "\u001b[32msoft+t0.1+b0.6\"\u001b[0m\n",
       "    \u001b[1m]\u001b[0m,\n",
       "    \u001b[1m[\u001b[0m\n",
       "        \u001b[32m\"./fit_vae.sh '3' 'vH16' 'poisson' 'conv+b|lin' --seed 3 --kl_beta 0.8 --temp_stop 0.1 --comment \u001b[0m\n",
       "\u001b[32msoft+t0.1+b0.8\"\u001b[0m,\n",
       "        \u001b[32m\"./fit_vae.sh '3' 'vH16' 'poisson' 'conv+b|lin' --seed 3 --kl_beta 1.0 --temp_stop 0.1 --comment \u001b[0m\n",
       "\u001b[32msoft+t0.1+b1\"\u001b[0m,\n",
       "        \u001b[32m\"./fit_vae.sh '3' 'vH16' 'poisson' 'conv+b|lin' --seed 3 --kl_beta 1.5 --temp_stop 0.1 --comment \u001b[0m\n",
       "\u001b[32msoft+t0.1+b1.5\"\u001b[0m,\n",
       "        \u001b[32m\"./fit_vae.sh '3' 'vH16' 'poisson' 'conv+b|lin' --seed 3 --kl_beta 4.0 --temp_stop 0.1 --comment \u001b[0m\n",
       "\u001b[32msoft+t0.1+b4\"\u001b[0m,\n",
       "        \u001b[32m\"./fit_vae.sh '3' 'vH16' 'poisson' 'conv+b|lin' --seed 4 --kl_beta 0.01 --temp_stop 0.1 --comment \u001b[0m\n",
       "\u001b[32msoft+t0.1+b0.01\"\u001b[0m\n",
       "    \u001b[1m]\u001b[0m,\n",
       "    \u001b[1m[\u001b[0m\n",
       "        \u001b[32m\"./fit_vae.sh '3' 'vH16' 'poisson' 'conv+b|lin' --seed 4 --kl_beta 0.2 --temp_stop 0.1 --comment \u001b[0m\n",
       "\u001b[32msoft+t0.1+b0.2\"\u001b[0m,\n",
       "        \u001b[32m\"./fit_vae.sh '3' 'vH16' 'poisson' 'conv+b|lin' --seed 4 --kl_beta 0.4 --temp_stop 0.1 --comment \u001b[0m\n",
       "\u001b[32msoft+t0.1+b0.4\"\u001b[0m,\n",
       "        \u001b[32m\"./fit_vae.sh '3' 'vH16' 'poisson' 'conv+b|lin' --seed 4 --kl_beta 0.6 --temp_stop 0.1 --comment \u001b[0m\n",
       "\u001b[32msoft+t0.1+b0.6\"\u001b[0m,\n",
       "        \u001b[32m\"./fit_vae.sh '3' 'vH16' 'poisson' 'conv+b|lin' --seed 4 --kl_beta 0.8 --temp_stop 0.1 --comment \u001b[0m\n",
       "\u001b[32msoft+t0.1+b0.8\"\u001b[0m,\n",
       "        \u001b[32m\"./fit_vae.sh '3' 'vH16' 'poisson' 'conv+b|lin' --seed 4 --kl_beta 1.0 --temp_stop 0.1 --comment \u001b[0m\n",
       "\u001b[32msoft+t0.1+b1\"\u001b[0m\n",
       "    \u001b[1m]\u001b[0m,\n",
       "    \u001b[1m[\u001b[0m\n",
       "        \u001b[32m\"./fit_vae.sh '3' 'vH16' 'poisson' 'conv+b|lin' --seed 4 --kl_beta 1.5 --temp_stop 0.1 --comment \u001b[0m\n",
       "\u001b[32msoft+t0.1+b1.5\"\u001b[0m,\n",
       "        \u001b[32m\"./fit_vae.sh '3' 'vH16' 'poisson' 'conv+b|lin' --seed 4 --kl_beta 4.0 --temp_stop 0.1 --comment \u001b[0m\n",
       "\u001b[32msoft+t0.1+b4\"\u001b[0m,\n",
       "        \u001b[32m\"./fit_vae.sh '3' 'vH16' 'poisson' 'conv+b|lin' --seed 5 --kl_beta 0.01 --temp_stop 0.1 --comment \u001b[0m\n",
       "\u001b[32msoft+t0.1+b0.01\"\u001b[0m,\n",
       "        \u001b[32m\"./fit_vae.sh '3' 'vH16' 'poisson' 'conv+b|lin' --seed 5 --kl_beta 0.2 --temp_stop 0.1 --comment \u001b[0m\n",
       "\u001b[32msoft+t0.1+b0.2\"\u001b[0m,\n",
       "        \u001b[32m\"./fit_vae.sh '3' 'vH16' 'poisson' 'conv+b|lin' --seed 5 --kl_beta 0.4 --temp_stop 0.1 --comment \u001b[0m\n",
       "\u001b[32msoft+t0.1+b0.4\"\u001b[0m\n",
       "    \u001b[1m]\u001b[0m,\n",
       "    \u001b[1m[\u001b[0m\n",
       "        \u001b[32m\"./fit_vae.sh '3' 'vH16' 'poisson' 'conv+b|lin' --seed 5 --kl_beta 0.6 --temp_stop 0.1 --comment \u001b[0m\n",
       "\u001b[32msoft+t0.1+b0.6\"\u001b[0m,\n",
       "        \u001b[32m\"./fit_vae.sh '3' 'vH16' 'poisson' 'conv+b|lin' --seed 5 --kl_beta 0.8 --temp_stop 0.1 --comment \u001b[0m\n",
       "\u001b[32msoft+t0.1+b0.8\"\u001b[0m,\n",
       "        \u001b[32m\"./fit_vae.sh '3' 'vH16' 'poisson' 'conv+b|lin' --seed 5 --kl_beta 1.0 --temp_stop 0.1 --comment \u001b[0m\n",
       "\u001b[32msoft+t0.1+b1\"\u001b[0m,\n",
       "        \u001b[32m\"./fit_vae.sh '3' 'vH16' 'poisson' 'conv+b|lin' --seed 5 --kl_beta 1.5 --temp_stop 0.1 --comment \u001b[0m\n",
       "\u001b[32msoft+t0.1+b1.5\"\u001b[0m,\n",
       "        \u001b[32m\"./fit_vae.sh '3' 'vH16' 'poisson' 'conv+b|lin' --seed 5 --kl_beta 4.0 --temp_stop 0.1 --comment \u001b[0m\n",
       "\u001b[32msoft+t0.1+b4\"\u001b[0m\n",
       "    \u001b[1m]\u001b[0m\n",
       "\u001b[1m]\u001b[0m\n"
      ]
     },
     "metadata": {},
     "output_type": "display_data"
    }
   ],
   "source": [
    "print(scripts_divided)"
   ]
  },
  {
   "cell_type": "code",
   "execution_count": null,
   "id": "faecb699-257d-4459-a33d-d39fa01590dc",
   "metadata": {},
   "outputs": [],
   "source": []
  },
  {
   "cell_type": "code",
   "execution_count": null,
   "id": "105e74d2-4f77-43aa-ab05-f24a29d93794",
   "metadata": {},
   "outputs": [],
   "source": []
  },
  {
   "cell_type": "code",
   "execution_count": null,
   "id": "e17eb5f9-e89d-48f4-9f51-45670bf3364d",
   "metadata": {},
   "outputs": [],
   "source": []
  }
 ],
 "metadata": {
  "kernelspec": {
   "display_name": "Python 3 (ipykernel)",
   "language": "python",
   "name": "python3"
  },
  "language_info": {
   "codemirror_mode": {
    "name": "ipython",
    "version": 3
   },
   "file_extension": ".py",
   "mimetype": "text/x-python",
   "name": "python",
   "nbconvert_exporter": "python",
   "pygments_lexer": "ipython3",
   "version": "3.11.7"
  }
 },
 "nbformat": 4,
 "nbformat_minor": 5
}
