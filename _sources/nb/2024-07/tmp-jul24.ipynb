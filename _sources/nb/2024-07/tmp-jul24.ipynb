{
 "cells": [
  {
   "cell_type": "markdown",
   "id": "6c0cb91c",
   "metadata": {},
   "source": [
    "# tmp — jul24\n",
    "\n",
    "**Motivation**: scratch notebook <br>"
   ]
  },
  {
   "cell_type": "code",
   "execution_count": 1,
   "id": "b12d2b0a",
   "metadata": {
    "tags": [
     "hide-input"
    ]
   },
   "outputs": [],
   "source": [
    "# HIDE CODE\n",
    "\n",
    "\n",
    "import os, sys\n",
    "from IPython.display import display\n",
    "\n",
    "# tmp & extras dir\n",
    "git_dir = os.path.join(os.environ['HOME'], 'Dropbox/git')\n",
    "extras_dir = os.path.join(git_dir, 'jb-vae/_extras')\n",
    "fig_base_dir = os.path.join(git_dir, 'jb-vae/figs')\n",
    "tmp_dir = os.path.join(git_dir, 'jb-vae/tmp')\n",
    "\n",
    "# GitHub\n",
    "sys.path.insert(0, os.path.join(git_dir, '_PoissonVAE'))\n",
    "from figures.fighelper import *\n",
    "from vae.train_vae import *\n",
    "\n",
    "# warnings, tqdm, & style\n",
    "warnings.filterwarnings('ignore', category=DeprecationWarning)\n",
    "from rich.jupyter import print\n",
    "%matplotlib inline\n",
    "set_style()"
   ]
  },
  {
   "cell_type": "code",
   "execution_count": 2,
   "id": "1a79ea57-03e6-41b2-b116-33b2868bda0c",
   "metadata": {},
   "outputs": [],
   "source": [
    "device_idx = 0\n",
    "device = f'cuda:{device_idx}'"
   ]
  },
  {
   "cell_type": "code",
   "execution_count": null,
   "id": "f2232ed9-8ec8-4aef-bfb5-dbe349074113",
   "metadata": {},
   "outputs": [],
   "source": []
  },
  {
   "cell_type": "code",
   "execution_count": 3,
   "id": "a15be917-e6aa-448a-adfb-71324cc93e31",
   "metadata": {},
   "outputs": [],
   "source": [
    "def split_data(\n",
    "\t\tn_samples: int,\n",
    "\t\tn_blocks: int = 1,\n",
    "\t\tvld_portion: float = 0.2, ):\n",
    "\tassert 0 < vld_portion < 1\n",
    "\tindices = range(n_samples)\n",
    "\tblock_size = len(indices) // n_blocks\n",
    "\n",
    "\ttrn_inds, vld_inds = [], []\n",
    "\tfor b in range(n_blocks):\n",
    "\t\tstart = b * block_size\n",
    "\t\tif b == n_blocks - 1:\n",
    "\t\t\tend = len(indices)\n",
    "\t\telse:\n",
    "\t\t\tend = start + block_size\n",
    "\n",
    "\t\tblock_inds = indices[start:end]\n",
    "\t\tvld_size = np.round(len(block_inds) * vld_portion)\n",
    "\t\ttrn_size = len(block_inds) - int(vld_size)\n",
    "\n",
    "\t\ttrn_inds.extend(block_inds[:trn_size])\n",
    "\t\tvld_inds.extend(block_inds[trn_size:])\n",
    "\n",
    "\tassert not set(trn_inds).intersection(\n",
    "\t\tvld_inds), \"must be non-overlapping\"\n",
    "\ttrn_inds, vld_inds = map(\n",
    "\t\tlambda x: np.array(x),\n",
    "\t\t[trn_inds, vld_inds],\n",
    "\t)\n",
    "\treturn trn_inds, vld_inds"
   ]
  },
  {
   "cell_type": "code",
   "execution_count": null,
   "id": "0a4c53ee-f716-4d05-a7ff-2fd4a8c48d1b",
   "metadata": {},
   "outputs": [],
   "source": []
  },
  {
   "cell_type": "code",
   "execution_count": 4,
   "id": "52d593ff-e1da-4b5f-9f18-2791574aa314",
   "metadata": {},
   "outputs": [
    {
     "data": {
      "text/html": [
       "<pre style=\"white-space:pre;overflow-x:auto;line-height:normal;font-family:Menlo,'DejaVu Sans Mono',consolas,'Courier New',monospace\">Train indices: <span style=\"color: #008080; text-decoration-color: #008080; font-weight: bold\">103165</span>\n",
       "</pre>\n"
      ],
      "text/plain": [
       "Train indices: \u001b[1;36m103165\u001b[0m\n"
      ]
     },
     "metadata": {},
     "output_type": "display_data"
    },
    {
     "data": {
      "text/html": [
       "<pre style=\"white-space:pre;overflow-x:auto;line-height:normal;font-family:Menlo,'DejaVu Sans Mono',consolas,'Courier New',monospace\">Validation indices: <span style=\"color: #008080; text-decoration-color: #008080; font-weight: bold\">25791</span>\n",
       "</pre>\n"
      ],
      "text/plain": [
       "Validation indices: \u001b[1;36m25791\u001b[0m\n"
      ]
     },
     "metadata": {},
     "output_type": "display_data"
    }
   ],
   "source": [
    "train, validation = split_data(128956, 10, 0.2)\n",
    "print(\"Train indices:\", len(train))\n",
    "print(\"Validation indices:\", len(validation))"
   ]
  },
  {
   "cell_type": "code",
   "execution_count": null,
   "id": "fa4c3ddc-0de4-458a-8c32-c4611fdc1646",
   "metadata": {},
   "outputs": [],
   "source": []
  },
  {
   "cell_type": "code",
   "execution_count": 5,
   "id": "5f01350d-0842-4615-85f4-e59d669019ca",
   "metadata": {},
   "outputs": [
    {
     "data": {
      "image/png": "[encoded data removed]",
      "text/plain": [
       "<Figure size 300x200 with 1 Axes>"
      ]
     },
     "metadata": {},
     "output_type": "display_data"
    }
   ],
   "source": [
    "fig, ax = create_figure()\n",
    "ax.plot(validation);"
   ]
  },
  {
   "cell_type": "code",
   "execution_count": null,
   "id": "e0a89e81-0e37-4283-a4a3-3fb14e7df930",
   "metadata": {},
   "outputs": [],
   "source": []
  },
  {
   "cell_type": "code",
   "execution_count": null,
   "id": "f9dd13ba-2b5e-42fd-9fee-8f5a47da01c1",
   "metadata": {},
   "outputs": [],
   "source": []
  },
  {
   "cell_type": "code",
   "execution_count": 6,
   "id": "fabe21a7-f2b8-4e71-810d-b86a6f5c5ebb",
   "metadata": {},
   "outputs": [
    {
     "data": {
      "text/plain": [
       "torch.Size([512])"
      ]
     },
     "execution_count": 6,
     "metadata": {},
     "output_type": "execute_result"
    }
   ],
   "source": [
    "mu = torch.randn(1000, 512).to(device)\n",
    "var = torch.randn(1000, 512).to(device)\n",
    "x = torch.randn(1000, 256).to(device)\n",
    "\n",
    "phi = torch.randn(256, 512).to(device)\n",
    "a = phi.pow(2).sum(0)\n",
    "a.shape"
   ]
  },
  {
   "cell_type": "code",
   "execution_count": null,
   "id": "d1e61bca-333b-4ce5-8fa0-edd42766d7fa",
   "metadata": {},
   "outputs": [],
   "source": []
  },
  {
   "cell_type": "code",
   "execution_count": 7,
   "id": "b19ed15c-5c43-4b92-8132-1336d3f5c23b",
   "metadata": {},
   "outputs": [],
   "source": [
    "term1 = x - mu @ phi.T\n",
    "term1 = term1.pow(2).sum(1)\n",
    "term2 = var @ a"
   ]
  },
  {
   "cell_type": "code",
   "execution_count": null,
   "id": "7a7cb651-8e2d-4d0d-a605-d39c950eae17",
   "metadata": {},
   "outputs": [],
   "source": []
  },
  {
   "cell_type": "code",
   "execution_count": 12,
   "id": "42bcbff4-a40d-47a7-ba39-d300c46963ed",
   "metadata": {},
   "outputs": [],
   "source": [
    "def f1():\n",
    "    term1 = x - mu @ phi.T\n",
    "    term1 = term1.pow(2).sum(1)\n",
    "    return term1\n",
    "\n",
    "\n",
    "def f2():\n",
    "    term1 = x - mu @ phi.T\n",
    "    term1 = torch.linalg.vector_norm(term1, dim=1).pow(2)\n",
    "    return term1\n",
    "\n",
    "\n",
    "def f3():\n",
    "    term1 = x - mu @ phi.T\n",
    "    term1 = torch.linalg.norm(term1, dim=1).pow(2)\n",
    "    return term1"
   ]
  },
  {
   "cell_type": "code",
   "execution_count": null,
   "id": "a4067690-45e5-492f-a797-d47f2b9b76c7",
   "metadata": {},
   "outputs": [],
   "source": []
  },
  {
   "cell_type": "code",
   "execution_count": null,
   "id": "e6204ecc-a82b-40c4-ba86-566260b0e690",
   "metadata": {},
   "outputs": [],
   "source": []
  },
  {
   "cell_type": "code",
   "execution_count": 30,
   "id": "a14d26cf-ea4f-4896-b90d-335083ef6313",
   "metadata": {},
   "outputs": [
    {
     "name": "stdout",
     "output_type": "stream",
     "text": [
      "32.7 µs ± 33.5 ns per loop (mean ± std. dev. of 7 runs, 10,000 loops each)\n"
     ]
    }
   ],
   "source": [
    "%timeit f1()"
   ]
  },
  {
   "cell_type": "code",
   "execution_count": 22,
   "id": "d76b6534-ec2c-47ac-a121-301c1eb37210",
   "metadata": {},
   "outputs": [
    {
     "name": "stdout",
     "output_type": "stream",
     "text": [
      "33.5 µs ± 98.4 ns per loop (mean ± std. dev. of 7 runs, 10,000 loops each)\n"
     ]
    }
   ],
   "source": [
    "%timeit f2()"
   ]
  },
  {
   "cell_type": "code",
   "execution_count": 18,
   "id": "cbfaed9e-0d52-4167-a2ef-9aa400218ef3",
   "metadata": {},
   "outputs": [
    {
     "name": "stdout",
     "output_type": "stream",
     "text": [
      "33.7 µs ± 67.6 ns per loop (mean ± std. dev. of 7 runs, 10,000 loops each)\n"
     ]
    }
   ],
   "source": [
    "%timeit f3()"
   ]
  },
  {
   "cell_type": "code",
   "execution_count": null,
   "id": "7ed14eb9-75de-4abd-b957-dbf883b1f6a8",
   "metadata": {},
   "outputs": [],
   "source": []
  },
  {
   "cell_type": "code",
   "execution_count": null,
   "id": "1c90ed7d-faa6-4662-ba07-ac1c54c28801",
   "metadata": {},
   "outputs": [],
   "source": []
  },
  {
   "cell_type": "code",
   "execution_count": null,
   "id": "f451e854-2da7-41ad-9ed5-f779cb0e458c",
   "metadata": {},
   "outputs": [],
   "source": []
  }
 ],
 "metadata": {
  "kernelspec": {
   "display_name": "Python 3 (ipykernel)",
   "language": "python",
   "name": "python3"
  },
  "language_info": {
   "codemirror_mode": {
    "name": "ipython",
    "version": 3
   },
   "file_extension": ".py",
   "mimetype": "text/x-python",
   "name": "python",
   "nbconvert_exporter": "python",
   "pygments_lexer": "ipython3",
   "version": "3.11.7"
  }
 },
 "nbformat": 4,
 "nbformat_minor": 5
}
