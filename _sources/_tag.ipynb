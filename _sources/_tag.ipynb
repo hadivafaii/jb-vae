{
 "cells": [
  {
   "cell_type": "code",
   "execution_count": 4,
   "metadata": {},
   "outputs": [
    {
     "name": "stderr",
     "output_type": "stream",
     "text": [
      "tagging ./nb/2023-04/tmp.ipynb: 100%|███████████| 42/42 [00:10<00:00,  4.08it/s]\n"
     ]
    }
   ],
   "source": [
    "from glob import glob\n",
    "import nbformat as nbf\n",
    "from tqdm import tqdm\n",
    "\n",
    "# Collect a list of all notebooks in the content folder\n",
    "nb_name = '2023-04'\n",
    "notebooks = list(filter(\n",
    "    lambda x: nb_name in x,\n",
    "    glob(\"./nb/**/*.ipynb\", recursive=True)\n",
    "))\n",
    "\n",
    "# Text to look for in adding tags\n",
    "text_search_dict = {\n",
    "    \"# HIDDEN\": \"remove-cell\",  # Remove the whole cell\n",
    "    \"# NO CODE\": \"remove-input\",  # Remove only the input\n",
    "    \"# HIDE CODE\": \"hide-input\"  # Hide the input w/ a button to show\n",
    "}\n",
    "\n",
    "# Search through each notebook and look for the text, add a tag if necessary\n",
    "pbar = tqdm(sorted(notebooks), leave=True)\n",
    "for ipath in pbar:\n",
    "    pbar.set_description(f\"tagging {ipath}\")\n",
    "    ntbk = nbf.read(ipath, nbf.NO_CONVERT)\n",
    "\n",
    "    for cell in ntbk.cells:\n",
    "        cell_tags = cell.get('metadata', {}).get('tags', [])\n",
    "        for key, val in text_search_dict.items():\n",
    "            if key in cell['source']:\n",
    "                if val not in cell_tags:\n",
    "                    cell_tags.append(val)\n",
    "        if len(cell_tags) > 0:\n",
    "            cell['metadata']['tags'] = cell_tags\n",
    "\n",
    "    nbf.write(ntbk, ipath)"
   ]
  },
  {
   "cell_type": "code",
   "execution_count": null,
   "metadata": {},
   "outputs": [],
   "source": []
  },
  {
   "cell_type": "code",
   "execution_count": null,
   "metadata": {},
   "outputs": [],
   "source": []
  },
  {
   "cell_type": "code",
   "execution_count": null,
   "metadata": {},
   "outputs": [],
   "source": []
  }
 ],
 "metadata": {
  "kernelspec": {
   "display_name": "Python 3 (ipykernel)",
   "language": "python",
   "name": "python3"
  },
  "language_info": {
   "codemirror_mode": {
    "name": "ipython",
    "version": 3
   },
   "file_extension": ".py",
   "mimetype": "text/x-python",
   "name": "python",
   "nbconvert_exporter": "python",
   "pygments_lexer": "ipython3",
   "version": "3.8.5"
  }
 },
 "nbformat": 4,
 "nbformat_minor": 4
}
